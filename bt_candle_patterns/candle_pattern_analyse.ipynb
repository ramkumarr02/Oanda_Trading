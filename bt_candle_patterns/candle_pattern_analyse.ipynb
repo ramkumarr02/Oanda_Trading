{
 "cells": [
  {
   "cell_type": "markdown",
   "metadata": {},
   "source": [
    "# ML Trader"
   ]
  },
  {
   "cell_type": "code",
   "execution_count": 1,
   "metadata": {
    "scrolled": true
   },
   "outputs": [],
   "source": [
    "from utils.packages import *\n",
    "from utils.variables import *\n",
    "from utils.i_o import *\n",
    "from utils.dir_slope import *\n",
    "from utils.engine import *\n",
    "from utils.loops import *\n",
    "from utils.order import *\n",
    "import winsound"
   ]
  },
  {
   "cell_type": "code",
   "execution_count": 2,
   "metadata": {},
   "outputs": [
    {
     "name": "stdout",
     "output_type": "stream",
     "text": [
      "Date List Created\n",
      "Record num : 5000\n",
      "Wall time: 14.6 s\n"
     ]
    },
    {
     "data": {
      "text/html": [
       "<div>\n",
       "<style scoped>\n",
       "    .dataframe tbody tr th:only-of-type {\n",
       "        vertical-align: middle;\n",
       "    }\n",
       "\n",
       "    .dataframe tbody tr th {\n",
       "        vertical-align: top;\n",
       "    }\n",
       "\n",
       "    .dataframe thead th {\n",
       "        text-align: right;\n",
       "    }\n",
       "</style>\n",
       "<table border=\"1\" class=\"dataframe\">\n",
       "  <thead>\n",
       "    <tr style=\"text-align: right;\">\n",
       "      <th></th>\n",
       "      <th>DateTime</th>\n",
       "      <th>Bid</th>\n",
       "      <th>Ask</th>\n",
       "      <th>Volume</th>\n",
       "      <th>i</th>\n",
       "      <th>tick</th>\n",
       "    </tr>\n",
       "  </thead>\n",
       "  <tbody>\n",
       "    <tr>\n",
       "      <th>0</th>\n",
       "      <td>20220718 00:00:00.247</td>\n",
       "      <td>1.00972</td>\n",
       "      <td>1.00978</td>\n",
       "      <td>3</td>\n",
       "      <td>0</td>\n",
       "      <td>0.0</td>\n",
       "    </tr>\n",
       "    <tr>\n",
       "      <th>1</th>\n",
       "      <td>20220718 00:00:00.349</td>\n",
       "      <td>1.00972</td>\n",
       "      <td>1.00977</td>\n",
       "      <td>2</td>\n",
       "      <td>0</td>\n",
       "      <td>0.0</td>\n",
       "    </tr>\n",
       "  </tbody>\n",
       "</table>\n",
       "</div>"
      ],
      "text/plain": [
       "                DateTime      Bid      Ask  Volume  i  tick\n",
       "0  20220718 00:00:00.247  1.00972  1.00978       3  0   0.0\n",
       "1  20220718 00:00:00.349  1.00972  1.00977       2  0   0.0"
      ]
     },
     "execution_count": 2,
     "metadata": {},
     "output_type": "execute_result"
    }
   ],
   "source": [
    "%%time\n",
    "data = get_date_list(data)\n",
    "data = read_data(data)\n",
    "\n",
    "data['df'].head(2)"
   ]
  },
  {
   "cell_type": "code",
   "execution_count": 3,
   "metadata": {},
   "outputs": [],
   "source": [
    "data['candle_size'] = '5T'"
   ]
  },
  {
   "cell_type": "code",
   "execution_count": 4,
   "metadata": {},
   "outputs": [
    {
     "data": {
      "text/html": [
       "<div>\n",
       "<style scoped>\n",
       "    .dataframe tbody tr th:only-of-type {\n",
       "        vertical-align: middle;\n",
       "    }\n",
       "\n",
       "    .dataframe tbody tr th {\n",
       "        vertical-align: top;\n",
       "    }\n",
       "\n",
       "    .dataframe thead tr th {\n",
       "        text-align: left;\n",
       "    }\n",
       "\n",
       "    .dataframe thead tr:last-of-type th {\n",
       "        text-align: right;\n",
       "    }\n",
       "</style>\n",
       "<table border=\"1\" class=\"dataframe\">\n",
       "  <thead>\n",
       "    <tr>\n",
       "      <th></th>\n",
       "      <th colspan=\"4\" halign=\"left\">tick</th>\n",
       "    </tr>\n",
       "    <tr>\n",
       "      <th></th>\n",
       "      <th>open</th>\n",
       "      <th>high</th>\n",
       "      <th>low</th>\n",
       "      <th>close</th>\n",
       "    </tr>\n",
       "    <tr>\n",
       "      <th>DateTime_frmt</th>\n",
       "      <th></th>\n",
       "      <th></th>\n",
       "      <th></th>\n",
       "      <th></th>\n",
       "    </tr>\n",
       "  </thead>\n",
       "  <tbody>\n",
       "    <tr>\n",
       "      <th>2022-07-18 00:00:00</th>\n",
       "      <td>1.00975</td>\n",
       "      <td>1.00978</td>\n",
       "      <td>1.009550</td>\n",
       "      <td>1.00969</td>\n",
       "    </tr>\n",
       "    <tr>\n",
       "      <th>2022-07-18 00:05:00</th>\n",
       "      <td>1.00970</td>\n",
       "      <td>1.00988</td>\n",
       "      <td>1.009425</td>\n",
       "      <td>1.00947</td>\n",
       "    </tr>\n",
       "  </tbody>\n",
       "</table>\n",
       "</div>"
      ],
      "text/plain": [
       "                        tick                            \n",
       "                        open     high       low    close\n",
       "DateTime_frmt                                           \n",
       "2022-07-18 00:00:00  1.00975  1.00978  1.009550  1.00969\n",
       "2022-07-18 00:05:00  1.00970  1.00988  1.009425  1.00947"
      ]
     },
     "execution_count": 4,
     "metadata": {},
     "output_type": "execute_result"
    }
   ],
   "source": [
    "data['df']['tick']      = (data[\"df\"]['Ask'] + data[\"df\"]['Bid'])/2\n",
    "data['df']['DateTime_frmt']   = [dt.datetime.strptime(x.split(\".\")[0],\"%Y%m%d %H:%M:%S\") for x in data[\"df\"]['DateTime']]\n",
    "data['df'] = data['df'][['DateTime_frmt', 'tick']]\n",
    "data['df'] = data['df'].set_index('DateTime_frmt')\n",
    "data['df'] = data['df'].resample(data['candle_size']).ohlc(_method='ohlc')\n",
    "\n",
    "col_names = [col[1] for col in data['df'].columns.values]\n",
    "col_names.insert(0,'DateTime_frmt')\n",
    "data['df'] = pd.DataFrame(data['df'].to_records())\n",
    "data['df'].columns = col_names\n",
    "\n",
    "data['df'].head(2)"
   ]
  },
  {
   "cell_type": "code",
   "execution_count": 23,
   "metadata": {},
   "outputs": [],
   "source": []
  },
  {
   "cell_type": "markdown",
   "metadata": {},
   "source": [
    "def get_ohlc(data):\n",
    "    \n",
    "    data['df']['o'] = np.nan\n",
    "    data['df']['h'] = np.nan\n",
    "    data['df']['l'] = np.nan\n",
    "    data['df']['c'] = np.nan    \n",
    "    \n",
    "    data['rolled_index'] = data['df'].resample(data['candle_size']).tick.first().index\n",
    "\n",
    "    for i in np.arange(1,len(data['rolled_index'])):\n",
    "                            \n",
    "        timestamp_val = data['df'].loc[data['rolled_index'][i-1]:data['rolled_index'][i]]['tick'].index[-1]\n",
    "        \n",
    "        tick_val      = data['df'].loc[data['rolled_index'][i-1]:data['rolled_index'][i]]['tick'].values[0]\n",
    "        data['df']['o'].loc[timestamp_val] = tick_val\n",
    "        \n",
    "        tick_val      = data['df'].loc[data['rolled_index'][i-1]:data['rolled_index'][i]]['tick'].values.max()\n",
    "        data['df']['h'].loc[timestamp_val] = tick_val\n",
    "        \n",
    "        tick_val      = data['df'].loc[data['rolled_index'][i-1]:data['rolled_index'][i]]['tick'].values.min()\n",
    "        data['df']['l'].loc[timestamp_val] = tick_val\n",
    "\n",
    "        tick_val      = data['df'].loc[data['rolled_index'][i-1]:data['rolled_index'][i]]['tick'].values[0]\n",
    "        data['df']['c'].loc[timestamp_val] = tick_val\n",
    "        \n",
    "        data['df'] = data['df'].reset_index()\n",
    "        data['df'] = data['df'].drop_duplicates(subset = ['DateTime_frmt'], keep = 'last')\n",
    "    \n",
    "#     data['df'] = data['df'][['sno', 'i', 'DateTime','Ask', 'Bid', 'tick', 'sema', 'lema', 'slema', 'o', 'h', 'l', 'c', ]].round(6)\n",
    "\n",
    "    return(data)"
   ]
  }
 ],
 "metadata": {
  "kernelspec": {
   "display_name": "Python 3",
   "language": "python",
   "name": "python3"
  },
  "language_info": {
   "codemirror_mode": {
    "name": "ipython",
    "version": 3
   },
   "file_extension": ".py",
   "mimetype": "text/x-python",
   "name": "python",
   "nbconvert_exporter": "python",
   "pygments_lexer": "ipython3",
   "version": "3.6.6"
  }
 },
 "nbformat": 4,
 "nbformat_minor": 4
}
