{
 "cells": [
  {
   "cell_type": "markdown",
   "metadata": {},
   "source": [
    "# ML Trader"
   ]
  },
  {
   "cell_type": "code",
   "execution_count": 1,
   "metadata": {
    "scrolled": true
   },
   "outputs": [],
   "source": [
    "from utils.packages import *\n",
    "from utils.variables import *\n",
    "from utils.i_o import *\n",
    "from utils.dir_slope import *\n",
    "from utils.engine import *\n",
    "from utils.loops import *\n",
    "from utils.order import *\n",
    "import winsound"
   ]
  },
  {
   "cell_type": "code",
   "execution_count": 2,
   "metadata": {},
   "outputs": [
    {
     "name": "stdout",
     "output_type": "stream",
     "text": [
      "Date List Created\n",
      "Record num : 152720\n",
      "Wall time: 14.3 s\n"
     ]
    }
   ],
   "source": [
    "%%time\n",
    "data = get_date_list(data)\n",
    "data = read_data(data)"
   ]
  },
  {
   "cell_type": "code",
   "execution_count": 3,
   "metadata": {},
   "outputs": [
    {
     "name": "stdout",
     "output_type": "stream",
     "text": [
      "Wall time: 35.3 ms\n"
     ]
    }
   ],
   "source": [
    "%%time\n",
    "data['df']['tick']      = (data[\"df\"]['Ask'] + data[\"df\"]['Bid'])/2\n",
    "data['df']['DateTime_frmt']   = pd.to_datetime(data[\"df\"]['DateTime'], format=\"%Y%m%d %H:%M:%S\")\n",
    "data['df_ohlc'] = data['df'][['DateTime_frmt', 'tick']]"
   ]
  },
  {
   "cell_type": "code",
   "execution_count": 4,
   "metadata": {},
   "outputs": [],
   "source": [
    "data['df_ohlc'] = data['df'][['DateTime_frmt', 'tick']]\n",
    "data['candle_size'] = '15T'"
   ]
  },
  {
   "cell_type": "code",
   "execution_count": 5,
   "metadata": {
    "scrolled": false
   },
   "outputs": [
    {
     "name": "stdout",
     "output_type": "stream",
     "text": [
      "Wall time: 32.9 ms\n"
     ]
    }
   ],
   "source": [
    "%%time\n",
    "data = get_ohlc(data)"
   ]
  },
  {
   "cell_type": "code",
   "execution_count": 6,
   "metadata": {},
   "outputs": [],
   "source": [
    "# Hammer\n",
    "\n",
    "data['df_ohlc']['cdl_hammer'] = talib.CDLHAMMER(data['df_ohlc']['open'], data['df_ohlc']['high'], data['df_ohlc']['low'], data['df_ohlc']['close'])\n",
    "\n",
    "# Engulfing candle\n",
    "\n",
    "data['df_ohlc']['cdl_engulfing'] = talib.CDLENGULFING(data['df_ohlc']['open'], data['df_ohlc']['high'], data['df_ohlc']['low'], data['df_ohlc']['close'])"
   ]
  },
  {
   "cell_type": "markdown",
   "metadata": {},
   "source": [
    "### Merge with DF to visualize Data"
   ]
  },
  {
   "cell_type": "code",
   "execution_count": 7,
   "metadata": {},
   "outputs": [
    {
     "name": "stderr",
     "output_type": "stream",
     "text": [
      "100%|██████████████████████████████████████████| 96/96 [00:01<00:00, 66.79it/s]\n"
     ]
    }
   ],
   "source": [
    "data = merge_ohlc_data(data)"
   ]
  },
  {
   "cell_type": "code",
   "execution_count": 8,
   "metadata": {},
   "outputs": [],
   "source": [
    "data['df']['cdl_hammer'] = data['df']['cdl_hammer'].replace({0:np.nan})\n",
    "data['df']['cdl_hammer'] = np.where(data['df']['cdl_hammer'] == 100, data['df']['tick'], data['df']['cdl_hammer'])"
   ]
  },
  {
   "cell_type": "code",
   "execution_count": 9,
   "metadata": {
    "scrolled": true
   },
   "outputs": [],
   "source": [
    "data['df']['cdl_engulfing_up'] = data['df']['cdl_engulfing'][data['df']['cdl_engulfing'] == 100]\n",
    "data['df']['cdl_engulfing_down'] = data['df']['cdl_engulfing'][data['df']['cdl_engulfing'] == -100]\n",
    "\n",
    "data['df']['cdl_engulfing_up'] = data['df']['cdl_engulfing_up'].replace({0:np.nan})\n",
    "data['df']['cdl_engulfing_up'] = np.where(data['df']['cdl_engulfing_up'] == 100, data['df']['tick'], data['df']['cdl_engulfing_up'])\n",
    "\n",
    "data['df']['cdl_engulfing_down'] = data['df']['cdl_engulfing_down'].replace({0:np.nan})\n",
    "data['df']['cdl_engulfing_down'] = np.where(data['df']['cdl_engulfing_down'] == -100, data['df']['tick'], data['df']['cdl_engulfing_down'])\n",
    "\n",
    "del data['df']['cdl_engulfing'] "
   ]
  },
  {
   "cell_type": "markdown",
   "metadata": {},
   "source": [
    "### Plot"
   ]
  },
  {
   "cell_type": "code",
   "execution_count": 11,
   "metadata": {},
   "outputs": [],
   "source": [
    "data[\"plot\"] = True\n",
    "data['plot_type'] = 'file'\n",
    "data['reduce_plot'] = True\n",
    "data['plot_start']  = '2022-07-19'\n",
    "data['plot_stop']   = '2022-07-20'\n",
    "data['things_to_plot'] = ['tick', 'positions']\n",
    "\n",
    "plot_graph(data)"
   ]
  },
  {
   "cell_type": "markdown",
   "metadata": {},
   "source": [
    "sys.exit()"
   ]
  },
  {
   "cell_type": "markdown",
   "metadata": {},
   "source": [
    "data['identifier_type'] = 'cdl_hammer'\n",
    "data['identifier_val'] = 100\n",
    "data['test_type'] = 'up'\n",
    "\n",
    "data = calculate_total_profit(data)"
   ]
  },
  {
   "cell_type": "markdown",
   "metadata": {},
   "source": [
    "data['identifier_type'] = 'cdl_engulfing'\n",
    "data['identifier_val'] = 100\n",
    "data['test_type'] = 'up'\n",
    "data = calculate_total_profit(data)\n",
    "\n",
    "data['identifier_type'] = 'cdl_engulfing'\n",
    "data['identifier_val'] = -100\n",
    "data['test_type'] = 'down'\n",
    "\n",
    "data = calculate_total_profit(data)"
   ]
  }
 ],
 "metadata": {
  "kernelspec": {
   "display_name": "Python 3",
   "language": "python",
   "name": "python3"
  },
  "language_info": {
   "codemirror_mode": {
    "name": "ipython",
    "version": 3
   },
   "file_extension": ".py",
   "mimetype": "text/x-python",
   "name": "python",
   "nbconvert_exporter": "python",
   "pygments_lexer": "ipython3",
   "version": "3.6.6"
  }
 },
 "nbformat": 4,
 "nbformat_minor": 4
}
