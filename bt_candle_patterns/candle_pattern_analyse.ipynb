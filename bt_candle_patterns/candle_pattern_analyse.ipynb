{
 "cells": [
  {
   "cell_type": "markdown",
   "metadata": {},
   "source": [
    "# ML Trader"
   ]
  },
  {
   "cell_type": "code",
   "execution_count": 1,
   "metadata": {
    "scrolled": true
   },
   "outputs": [],
   "source": [
    "from utils.packages import *\n",
    "from utils.variables import *\n",
    "from utils.i_o import *\n",
    "from utils.dir_slope import *\n",
    "from utils.engine import *\n",
    "from utils.loops import *\n",
    "from utils.order import *\n",
    "import winsound"
   ]
  },
  {
   "cell_type": "code",
   "execution_count": 2,
   "metadata": {},
   "outputs": [
    {
     "name": "stdout",
     "output_type": "stream",
     "text": [
      "Date List Created\n",
      "Record num : 32763877\n",
      "Wall time: 1min 24s\n"
     ]
    }
   ],
   "source": [
    "%%time\n",
    "data = get_date_list(data)\n",
    "data = read_data(data)"
   ]
  },
  {
   "cell_type": "code",
   "execution_count": 3,
   "metadata": {},
   "outputs": [
    {
     "name": "stdout",
     "output_type": "stream",
     "text": [
      "Wall time: 6.73 s\n"
     ]
    }
   ],
   "source": [
    "%%time\n",
    "data['df']['tick']      = (data[\"df\"]['Ask'] + data[\"df\"]['Bid'])/2\n",
    "data['df']['DateTime_frmt']   = pd.to_datetime(data[\"df\"]['DateTime'], format=\"%Y%m%d %H:%M:%S\")\n",
    "data['df_ohlc'] = data['df'][['DateTime_frmt', 'tick']]"
   ]
  },
  {
   "cell_type": "code",
   "execution_count": 4,
   "metadata": {},
   "outputs": [],
   "source": [
    "data['df_ohlc'] = data['df'][['DateTime_frmt', 'tick']]\n",
    "data['candle_size'] = '15T'"
   ]
  },
  {
   "cell_type": "code",
   "execution_count": 5,
   "metadata": {
    "scrolled": true
   },
   "outputs": [
    {
     "name": "stdout",
     "output_type": "stream",
     "text": [
      "Wall time: 1.65 s\n"
     ]
    }
   ],
   "source": [
    "%%time\n",
    "data = get_ohlc(data)"
   ]
  },
  {
   "cell_type": "markdown",
   "metadata": {},
   "source": [
    "### Hammer"
   ]
  },
  {
   "cell_type": "code",
   "execution_count": 6,
   "metadata": {},
   "outputs": [
    {
     "name": "stdout",
     "output_type": "stream",
     "text": [
      "Total Profit        : -6.999999999991296e-05\n",
      "Num of Transactions : 7\n",
      "profit Transactions : 3\n",
      "Loss Transactions   : 4\n"
     ]
    }
   ],
   "source": [
    "data['df_ohlc']['cdl_hammer'] = talib.CDLHAMMER(data['df_ohlc']['open'], data['df_ohlc']['high'], data['df_ohlc']['low'], data['df_ohlc']['close'])\n",
    "data['df_ohlc']['cdl_hammer'] = data['df_ohlc']['cdl_hammer'].replace({100:1})\n",
    "\n",
    "data['identified_points'] = data['df_ohlc'][data['df_ohlc']['cdl_hammer'] == 1].index\n",
    "data['test_type'] = 'up'\n",
    "\n",
    "data = calculate_total_profit(data)"
   ]
  },
  {
   "cell_type": "markdown",
   "metadata": {},
   "source": [
    "### Engulfing candle"
   ]
  },
  {
   "cell_type": "code",
   "execution_count": 7,
   "metadata": {},
   "outputs": [],
   "source": [
    "data['df_ohlc']['cdl_engulfing'] = talib.CDLENGULFING(data['df_ohlc']['open'], data['df_ohlc']['high'], data['df_ohlc']['low'], data['df_ohlc']['close'])"
   ]
  },
  {
   "cell_type": "code",
   "execution_count": 8,
   "metadata": {},
   "outputs": [
    {
     "name": "stdout",
     "output_type": "stream",
     "text": [
      "Total Profit        : -0.1571499999999962\n",
      "Num of Transactions : 1448\n",
      "profit Transactions : 588\n",
      "Loss Transactions   : 860\n"
     ]
    }
   ],
   "source": [
    "data['identified_points'] = data['df_ohlc'][data['df_ohlc']['cdl_engulfing'] == 100].index\n",
    "data['test_type'] = 'up'\n",
    "\n",
    "data = calculate_total_profit(data)"
   ]
  },
  {
   "cell_type": "code",
   "execution_count": 13,
   "metadata": {},
   "outputs": [
    {
     "data": {
      "text/plain": [
       "0.0004899999999998794"
      ]
     },
     "execution_count": 13,
     "metadata": {},
     "output_type": "execute_result"
    }
   ],
   "source": [
    "max(data['df_ohlc']['up_range'][10:15])"
   ]
  },
  {
   "cell_type": "code",
   "execution_count": 9,
   "metadata": {},
   "outputs": [
    {
     "name": "stdout",
     "output_type": "stream",
     "text": [
      "Total Profit        : -0.12165500000001118\n",
      "Num of Transactions : 1477\n",
      "profit Transactions : 633\n",
      "Loss Transactions   : 844\n"
     ]
    }
   ],
   "source": [
    "data['identified_points'] = data['df_ohlc'][data['df_ohlc']['cdl_engulfing'] == -100].index\n",
    "data['test_type'] = 'down'\n",
    "\n",
    "data = calculate_total_profit(data)"
   ]
  },
  {
   "cell_type": "markdown",
   "metadata": {},
   "source": [
    "sys.exit()"
   ]
  },
  {
   "cell_type": "markdown",
   "metadata": {},
   "source": [
    "### Merge with DF to visualize Data"
   ]
  },
  {
   "cell_type": "markdown",
   "metadata": {},
   "source": [
    "data['df']['cdl_hammer'] = data['df']['cdl_hammer'].replace({0:np.nan})\n",
    "data['df']['cdl_hammer'] = np.where(data['df']['cdl_hammer'] == 100, data['df']['tick'], data['df']['cdl_hammer'])\n",
    "data = merge_ohlc_data(data)"
   ]
  },
  {
   "cell_type": "markdown",
   "metadata": {},
   "source": [
    "### Plot"
   ]
  },
  {
   "cell_type": "markdown",
   "metadata": {},
   "source": [
    "data[\"plot\"] = False\n",
    "data['plot_type'] = 'file'\n",
    "data['reduce_plot'] = True\n",
    "data['plot_start']  = '2022-07-20'\n",
    "data['plot_stop']   = '2022-07-21'\n",
    "data['things_to_plot'] = ['tick', 'positions']\n",
    "\n",
    "plot_graph(data)"
   ]
  }
 ],
 "metadata": {
  "kernelspec": {
   "display_name": "Python 3",
   "language": "python",
   "name": "python3"
  },
  "language_info": {
   "codemirror_mode": {
    "name": "ipython",
    "version": 3
   },
   "file_extension": ".py",
   "mimetype": "text/x-python",
   "name": "python",
   "nbconvert_exporter": "python",
   "pygments_lexer": "ipython3",
   "version": "3.6.6"
  }
 },
 "nbformat": 4,
 "nbformat_minor": 4
}
