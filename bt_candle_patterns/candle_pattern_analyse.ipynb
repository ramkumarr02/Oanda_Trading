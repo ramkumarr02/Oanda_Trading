{
 "cells": [
  {
   "cell_type": "markdown",
   "metadata": {},
   "source": [
    "# ML Trader"
   ]
  },
  {
   "cell_type": "code",
   "execution_count": 1,
   "metadata": {
    "scrolled": true
   },
   "outputs": [],
   "source": [
    "from utils.packages import *\n",
    "from utils.variables import *\n",
    "from utils.i_o import *\n",
    "from utils.dir_slope import *\n",
    "from utils.engine import *\n",
    "from utils.loops import *\n",
    "from utils.order import *\n",
    "import winsound"
   ]
  },
  {
   "cell_type": "code",
   "execution_count": 2,
   "metadata": {},
   "outputs": [
    {
     "name": "stdout",
     "output_type": "stream",
     "text": [
      "Date List Created\n",
      "Record num : 123365\n",
      "Wall time: 13.4 s\n"
     ]
    }
   ],
   "source": [
    "%%time\n",
    "data = get_date_list(data)\n",
    "data = read_data(data)"
   ]
  },
  {
   "cell_type": "code",
   "execution_count": 3,
   "metadata": {},
   "outputs": [
    {
     "name": "stdout",
     "output_type": "stream",
     "text": [
      "Wall time: 32.8 ms\n"
     ]
    }
   ],
   "source": [
    "%%time\n",
    "data['df']['tick']      = (data[\"df\"]['Ask'] + data[\"df\"]['Bid'])/2\n",
    "data['df']['DateTime_frmt']   = pd.to_datetime(data[\"df\"]['DateTime'], format=\"%Y%m%d %H:%M:%S\")\n",
    "data['df_ohlc'] = data['df'][['DateTime_frmt', 'tick']]"
   ]
  },
  {
   "cell_type": "code",
   "execution_count": 4,
   "metadata": {
    "scrolled": false
   },
   "outputs": [
    {
     "name": "stdout",
     "output_type": "stream",
     "text": [
      "Wall time: 23.9 ms\n"
     ]
    }
   ],
   "source": [
    "%%time\n",
    "data = get_ohlc(data)"
   ]
  },
  {
   "cell_type": "code",
   "execution_count": 5,
   "metadata": {},
   "outputs": [],
   "source": [
    "data['df_ohlc']['cdl_hammer'] = talib.CDLHAMMER(data['df_ohlc']['open'], data['df_ohlc']['high'], data['df_ohlc']['low'], data['df_ohlc']['close'])\n",
    "data['df_ohlc']['cdl_engulfing'] = talib.CDLENGULFING(data['df_ohlc']['open'], data['df_ohlc']['high'], data['df_ohlc']['low'], data['df_ohlc']['close'])\n",
    "data['df_ohlc']['cdl_shootingstar'] = talib.CDLSHOOTINGSTAR(data['df_ohlc']['open'], data['df_ohlc']['high'], data['df_ohlc']['low'], data['df_ohlc']['close'])"
   ]
  },
  {
   "cell_type": "markdown",
   "metadata": {},
   "source": [
    "### Merge with DF to visualize Data"
   ]
  },
  {
   "cell_type": "code",
   "execution_count": 6,
   "metadata": {},
   "outputs": [
    {
     "name": "stderr",
     "output_type": "stream",
     "text": [
      "100%|████████████████████████████████████████| 288/288 [00:03<00:00, 80.89it/s]\n"
     ]
    }
   ],
   "source": [
    "data = merge_ohlc_data(data)"
   ]
  },
  {
   "cell_type": "code",
   "execution_count": 7,
   "metadata": {},
   "outputs": [],
   "source": [
    "data['df']['cdl_hammer'] = data['df']['cdl_hammer'].replace({0:np.nan})\n",
    "data['df']['cdl_hammer'] = np.where(data['df']['cdl_hammer'] == 100, data['df']['tick'], data['df']['cdl_hammer'])"
   ]
  },
  {
   "cell_type": "code",
   "execution_count": 8,
   "metadata": {},
   "outputs": [],
   "source": [
    "data['df']['cdl_shootingstar'] = data['df']['cdl_shootingstar'].replace({0:np.nan})\n",
    "data['df']['cdl_shootingstar'] = np.where(data['df']['cdl_shootingstar'] == -100, data['df']['tick'], data['df']['cdl_shootingstar'])"
   ]
  },
  {
   "cell_type": "code",
   "execution_count": 9,
   "metadata": {
    "scrolled": true
   },
   "outputs": [],
   "source": [
    "data['df']['cdl_engulfing_up'] = data['df']['cdl_engulfing'][data['df']['cdl_engulfing'] == 100]\n",
    "data['df']['cdl_engulfing_down'] = data['df']['cdl_engulfing'][data['df']['cdl_engulfing'] == -100]\n",
    "\n",
    "data['df']['cdl_engulfing_up'] = data['df']['cdl_engulfing_up'].replace({0:np.nan})\n",
    "data['df']['cdl_engulfing_up'] = np.where(data['df']['cdl_engulfing_up'] == 100, data['df']['tick'], data['df']['cdl_engulfing_up'])\n",
    "\n",
    "data['df']['cdl_engulfing_down'] = data['df']['cdl_engulfing_down'].replace({0:np.nan})\n",
    "data['df']['cdl_engulfing_down'] = np.where(data['df']['cdl_engulfing_down'] == -100, data['df']['tick'], data['df']['cdl_engulfing_down'])\n",
    "\n",
    "del data['df']['cdl_engulfing'] "
   ]
  },
  {
   "cell_type": "code",
   "execution_count": 10,
   "metadata": {},
   "outputs": [],
   "source": [
    "data['df']['sema'] = talib.EMA(data['df']['tick'], timeperiod=500)\n",
    "data['df']['dema'] = talib.DEMA(data['df']['tick'], timeperiod=5000)\n",
    "data['df']['mom'] = talib.MOM(data['df']['tick'], timeperiod=5000)"
   ]
  },
  {
   "cell_type": "markdown",
   "metadata": {},
   "source": [
    "### Plot"
   ]
  },
  {
   "cell_type": "code",
   "execution_count": 11,
   "metadata": {},
   "outputs": [],
   "source": [
    "plot_graph(data)"
   ]
  },
  {
   "cell_type": "markdown",
   "metadata": {},
   "source": [
    "sys.exit()"
   ]
  },
  {
   "cell_type": "markdown",
   "metadata": {},
   "source": [
    "data['identifier_type'] = 'cdl_hammer'\n",
    "data['identifier_val'] = 100\n",
    "data['test_type'] = 'up'\n",
    "\n",
    "data = calculate_total_profit(data)"
   ]
  },
  {
   "cell_type": "markdown",
   "metadata": {},
   "source": [
    "data['identifier_type'] = 'cdl_engulfing'\n",
    "data['identifier_val'] = 100\n",
    "data['test_type'] = 'up'\n",
    "data = calculate_total_profit(data)\n",
    "\n",
    "data['identifier_type'] = 'cdl_engulfing'\n",
    "data['identifier_val'] = -100\n",
    "data['test_type'] = 'down'\n",
    "\n",
    "data = calculate_total_profit(data)"
   ]
  },
  {
   "cell_type": "markdown",
   "metadata": {},
   "source": [
    "data['df_ohlc'].to_csv('data/df_ohlc.csv')\n",
    "data['df'].to_csv('data/df.csv')"
   ]
  }
 ],
 "metadata": {
  "kernelspec": {
   "display_name": "Python 3",
   "language": "python",
   "name": "python3"
  },
  "language_info": {
   "codemirror_mode": {
    "name": "ipython",
    "version": 3
   },
   "file_extension": ".py",
   "mimetype": "text/x-python",
   "name": "python",
   "nbconvert_exporter": "python",
   "pygments_lexer": "ipython3",
   "version": "3.6.6"
  }
 },
 "nbformat": 4,
 "nbformat_minor": 4
}
