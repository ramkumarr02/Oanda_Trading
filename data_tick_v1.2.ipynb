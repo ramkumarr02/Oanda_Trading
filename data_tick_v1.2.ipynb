{
 "cells": [
  {
   "cell_type": "markdown",
   "metadata": {},
   "source": [
    "# Data Preparation"
   ]
  },
  {
   "cell_type": "markdown",
   "metadata": {},
   "source": [
    "## Packages"
   ]
  },
  {
   "cell_type": "code",
   "execution_count": 2,
   "metadata": {
    "scrolled": true
   },
   "outputs": [],
   "source": [
    "import os\n",
    "import winsound\n",
    "import numpy as np\n",
    "import pandas as pd\n",
    "import datetime as dt\n",
    "from tqdm import tqdm\n",
    "tqdm.pandas()\n",
    "from multiprocessing import  Pool\n",
    "import time\n",
    "\n",
    "import math, collections\n",
    "from scipy.stats import linregress\n",
    "\n",
    "from matplotlib import pyplot as plt\n",
    "\n",
    "import warnings\n",
    "warnings.filterwarnings('ignore')"
   ]
  },
  {
   "cell_type": "code",
   "execution_count": 2,
   "metadata": {},
   "outputs": [],
   "source": [
    "def get_slope_s(y_axis):\n",
    "    global window_s_ma\n",
    "    x_axis = []\n",
    "    for i in range(window_s_ma):\n",
    "        x_axis.append(1 + ((i+1) * 0.0001 * 0.1))\n",
    "    \n",
    "    slope_tick, intercept, _, _, _ = linregress(x_axis, y_axis)\n",
    "    slope_tick = math.degrees(math.atan(slope_tick))\n",
    "    \n",
    "    return(slope_tick)\n",
    "\n",
    "def get_slope_l(y_axis):\n",
    "    global window_l_ma\n",
    "    x_axis = []\n",
    "    for i in range(window_l_ma):\n",
    "        x_axis.append(1 + ((i+1) * 0.0001 * 0.1))\n",
    "    \n",
    "    slope_tick, intercept, _, _, _ = linregress(x_axis, y_axis)\n",
    "    slope_tick = math.degrees(math.atan(slope_tick))\n",
    "    \n",
    "    return(slope_tick)"
   ]
  },
  {
   "cell_type": "code",
   "execution_count": 3,
   "metadata": {},
   "outputs": [],
   "source": [
    "def chunk_ticks(df, number_of_ticks):   \n",
    "    global pip_diff\n",
    "    \n",
    "    df['tick'] = (df['Bid'] + df['Ask'])/2\n",
    "    df['spread'] = df['Ask'] - df['Bid']\n",
    "    df = df[['tick', 'spread']]\n",
    "    \n",
    "    temp_df = pd.DataFrame()\n",
    "    tick_avg = []\n",
    "    spread_avg = []\n",
    "    tick_sd = []\n",
    "    \n",
    "    for i in tqdm(range(0,len(df),number_of_ticks)):\n",
    "        tick_list = list(df['tick'][i:i+number_of_ticks])\n",
    "        spread_list = list(df['spread'][i:i+number_of_ticks])\n",
    "        \n",
    "        tick_avg.append(np.mean(tick_list))\n",
    "        spread_avg.append(np.mean(spread_list))\n",
    "        tick_sd.append(np.std(tick_list))\n",
    "        \n",
    "        \n",
    "    temp_df['tick_avg'] = tick_avg  \n",
    "    temp_df['spread_avg'] = spread_avg  \n",
    "    temp_df['tick_sd'] = tick_sd  \n",
    "    \n",
    "    return(temp_df)"
   ]
  },
  {
   "cell_type": "code",
   "execution_count": 4,
   "metadata": {},
   "outputs": [],
   "source": [
    "def chunk_ticks_rolling(df, number_of_ticks):   \n",
    "    global pip_diff\n",
    "    \n",
    "    df['tick'] = (df['Bid'] + df['Ask'])/2\n",
    "    df['spread'] = df['Ask'] - df['Bid']\n",
    "    df = df[['tick', 'spread']]\n",
    "    \n",
    "    temp_df = pd.DataFrame()\n",
    "    \n",
    "    temp_df['tick_avg'] = df['tick'].rolling(window=number_of_ticks).mean()\n",
    "    temp_df['spread_avg'] = df['spread'].rolling(window=number_of_ticks).mean()\n",
    "    temp_df['tick_sd'] = df['spread'].rolling(window=number_of_ticks).mean()\n",
    "    \n",
    "    temp_df = temp_df.dropna()\n",
    "    \n",
    "    return(temp_df)"
   ]
  },
  {
   "cell_type": "markdown",
   "metadata": {},
   "source": [
    "## Parameters"
   ]
  },
  {
   "cell_type": "code",
   "execution_count": 5,
   "metadata": {},
   "outputs": [
    {
     "name": "stdout",
     "output_type": "stream",
     "text": [
      "source_file_path : data/tick_2018.csv\n",
      "chunk_file_path : data\\chunk_tick_2018.csv\n",
      "target_file_path : data\\tab_tick_2018.csv\n"
     ]
    }
   ],
   "source": [
    "year = 2018\n",
    "source_file_path = f'data/tick_{year}.csv'\n",
    "path, file_name = os.path.split(source_file_path)\n",
    "\n",
    "target_file_name = 'tab_'+file_name\n",
    "target_file_path = os.path.join(path, target_file_name)\n",
    "\n",
    "chunk_file_name = 'chunk_'+file_name\n",
    "chunk_file_path = os.path.join(path, chunk_file_name)\n",
    "\n",
    "print(f'source_file_path : {source_file_path}')\n",
    "print(f'chunk_file_path : {chunk_file_path}')\n",
    "print(f'target_file_path : {target_file_path}')\n",
    "\n",
    "\n",
    "number_of_ticks = 20\n",
    "pip_diff = 0.00001\n",
    "rsi_window = 14\n",
    "rs_max = 1e6\n",
    "window_s_ma = 20\n",
    "window_l_ma = 50"
   ]
  },
  {
   "cell_type": "markdown",
   "metadata": {},
   "source": [
    "## Read data"
   ]
  },
  {
   "cell_type": "code",
   "execution_count": 6,
   "metadata": {
    "scrolled": true
   },
   "outputs": [
    {
     "name": "stdout",
     "output_type": "stream",
     "text": [
      "Wall time: 713 ms\n"
     ]
    },
    {
     "data": {
      "text/html": [
       "<div>\n",
       "<style scoped>\n",
       "    .dataframe tbody tr th:only-of-type {\n",
       "        vertical-align: middle;\n",
       "    }\n",
       "\n",
       "    .dataframe tbody tr th {\n",
       "        vertical-align: top;\n",
       "    }\n",
       "\n",
       "    .dataframe thead th {\n",
       "        text-align: right;\n",
       "    }\n",
       "</style>\n",
       "<table border=\"1\" class=\"dataframe\">\n",
       "  <thead>\n",
       "    <tr style=\"text-align: right;\">\n",
       "      <th></th>\n",
       "      <th>DateTime</th>\n",
       "      <th>Bid</th>\n",
       "      <th>Ask</th>\n",
       "      <th>Volume</th>\n",
       "    </tr>\n",
       "  </thead>\n",
       "  <tbody>\n",
       "    <tr>\n",
       "      <th>0</th>\n",
       "      <td>20180101 22:00:08.661</td>\n",
       "      <td>1.20102</td>\n",
       "      <td>1.20143</td>\n",
       "      <td>2</td>\n",
       "    </tr>\n",
       "    <tr>\n",
       "      <th>1</th>\n",
       "      <td>20180101 22:00:08.895</td>\n",
       "      <td>1.20102</td>\n",
       "      <td>1.20148</td>\n",
       "      <td>2</td>\n",
       "    </tr>\n",
       "    <tr>\n",
       "      <th>2</th>\n",
       "      <td>20180101 22:00:10.634</td>\n",
       "      <td>1.20102</td>\n",
       "      <td>1.20147</td>\n",
       "      <td>2</td>\n",
       "    </tr>\n",
       "    <tr>\n",
       "      <th>3</th>\n",
       "      <td>20180101 22:00:11.223</td>\n",
       "      <td>1.20102</td>\n",
       "      <td>1.20148</td>\n",
       "      <td>2</td>\n",
       "    </tr>\n",
       "    <tr>\n",
       "      <th>4</th>\n",
       "      <td>20180101 22:00:29.530</td>\n",
       "      <td>1.20102</td>\n",
       "      <td>1.20145</td>\n",
       "      <td>2</td>\n",
       "    </tr>\n",
       "  </tbody>\n",
       "</table>\n",
       "</div>"
      ],
      "text/plain": [
       "                DateTime      Bid      Ask  Volume\n",
       "0  20180101 22:00:08.661  1.20102  1.20143       2\n",
       "1  20180101 22:00:08.895  1.20102  1.20148       2\n",
       "2  20180101 22:00:10.634  1.20102  1.20147       2\n",
       "3  20180101 22:00:11.223  1.20102  1.20148       2\n",
       "4  20180101 22:00:29.530  1.20102  1.20145       2"
      ]
     },
     "execution_count": 6,
     "metadata": {},
     "output_type": "execute_result"
    }
   ],
   "source": [
    "%%time\n",
    "df = pd.read_csv(source_file_path, nrows=1000000)\n",
    "#df = pd.read_csv(source_file_path)\n",
    "df.head()"
   ]
  },
  {
   "cell_type": "markdown",
   "metadata": {},
   "source": [
    "## Data manipulation"
   ]
  },
  {
   "cell_type": "code",
   "execution_count": 7,
   "metadata": {
    "scrolled": true
   },
   "outputs": [
    {
     "name": "stderr",
     "output_type": "stream",
     "text": [
      "100%|███████████████████████████████████████| 50000/50000 [00:11<00:00, 4452.39it/s]\n"
     ]
    },
    {
     "name": "stdout",
     "output_type": "stream",
     "text": [
      "Records : 50000\n",
      "Wall time: 11.6 s\n"
     ]
    },
    {
     "data": {
      "text/html": [
       "<div>\n",
       "<style scoped>\n",
       "    .dataframe tbody tr th:only-of-type {\n",
       "        vertical-align: middle;\n",
       "    }\n",
       "\n",
       "    .dataframe tbody tr th {\n",
       "        vertical-align: top;\n",
       "    }\n",
       "\n",
       "    .dataframe thead th {\n",
       "        text-align: right;\n",
       "    }\n",
       "</style>\n",
       "<table border=\"1\" class=\"dataframe\">\n",
       "  <thead>\n",
       "    <tr style=\"text-align: right;\">\n",
       "      <th></th>\n",
       "      <th>tick_avg</th>\n",
       "      <th>spread_avg</th>\n",
       "      <th>tick_sd</th>\n",
       "    </tr>\n",
       "  </thead>\n",
       "  <tbody>\n",
       "    <tr>\n",
       "      <th>0</th>\n",
       "      <td>1.200982</td>\n",
       "      <td>0.000382</td>\n",
       "      <td>0.000245</td>\n",
       "    </tr>\n",
       "    <tr>\n",
       "      <th>1</th>\n",
       "      <td>1.200657</td>\n",
       "      <td>0.000704</td>\n",
       "      <td>0.000092</td>\n",
       "    </tr>\n",
       "    <tr>\n",
       "      <th>2</th>\n",
       "      <td>1.200720</td>\n",
       "      <td>0.000756</td>\n",
       "      <td>0.000032</td>\n",
       "    </tr>\n",
       "    <tr>\n",
       "      <th>3</th>\n",
       "      <td>1.200684</td>\n",
       "      <td>0.000365</td>\n",
       "      <td>0.000109</td>\n",
       "    </tr>\n",
       "    <tr>\n",
       "      <th>4</th>\n",
       "      <td>1.200634</td>\n",
       "      <td>0.000248</td>\n",
       "      <td>0.000075</td>\n",
       "    </tr>\n",
       "  </tbody>\n",
       "</table>\n",
       "</div>"
      ],
      "text/plain": [
       "   tick_avg  spread_avg   tick_sd\n",
       "0  1.200982    0.000382  0.000245\n",
       "1  1.200657    0.000704  0.000092\n",
       "2  1.200720    0.000756  0.000032\n",
       "3  1.200684    0.000365  0.000109\n",
       "4  1.200634    0.000248  0.000075"
      ]
     },
     "execution_count": 7,
     "metadata": {},
     "output_type": "execute_result"
    }
   ],
   "source": [
    "%%time\n",
    "df = chunk_ticks(df, number_of_ticks)\n",
    "#df = chunk_ticks_rolling(df, number_of_ticks)\n",
    "\n",
    "df.to_csv(chunk_file_path, index = False)\n",
    "print(f'Records : {len(df)}')\n",
    "df = pd.read_csv(chunk_file_path)\n",
    "df.head()"
   ]
  },
  {
   "cell_type": "code",
   "execution_count": 8,
   "metadata": {
    "scrolled": true
   },
   "outputs": [
    {
     "name": "stdout",
     "output_type": "stream",
     "text": [
      "Total records : 49950\n",
      "Wall time: 80.2 ms\n"
     ]
    }
   ],
   "source": [
    "%%time\n",
    "# RSI -----------------------------\n",
    "df['diff'] = df['tick_avg'].diff()\n",
    "df['gain'] = 0\n",
    "df['loss'] = 0\n",
    "df['gain'].loc[df['diff'] > 0] = abs(df['diff'])\n",
    "df['loss'].loc[df['diff'] < 0] = abs(df['diff'])\n",
    "df['avg_gain'] = df['gain'].rolling(window=rsi_window).mean()\n",
    "df['avg_loss'] = df['loss'].rolling(window=rsi_window).mean()\n",
    "df['rs'] = df['avg_gain']/df['avg_loss']\n",
    "df['rs'] = df['rs'].where(df['rs'] <= rs_max, rs_max) \n",
    "df['rsi'] = 100 - (100 / (df['rs'] + 1))\n",
    "\n",
    "# Moving Averages ------------------\n",
    "df['sema'] = df['tick_avg'].ewm(span=window_s_ma).mean()\n",
    "df['sema_diff'] = df['sema'].diff()\n",
    "df['lema'] = df['tick_avg'].ewm(span=window_l_ma).mean()\n",
    "df['lema_diff'] = df['lema'].diff()\n",
    "df['ema_diff'] = df['sema'] - df['lema']\n",
    "\n",
    "df['ssma'] = df['tick_avg'].rolling(window=window_s_ma).mean()\n",
    "df['ssma_diff'] = df['ssma'].diff()\n",
    "df['lsma'] = df['tick_avg'].rolling(window=window_l_ma).mean()\n",
    "df['lsma_diff'] = df['lsma'].diff()\n",
    "df['sma_diff'] = df['ssma'] - df['lsma']\n",
    "\n",
    "df['max_tick'] = df['tick_avg'].rolling(window=window_s_ma).max()\n",
    "df['min_tick'] = df['tick_avg'].rolling(window=window_s_ma).min()\n",
    "\n",
    "df['max_gap'] = df['max_tick'] -  df['tick_avg']\n",
    "df['min_gap'] = df['min_tick'] - df['tick_avg']\n",
    "\n",
    "# Slopes -----------------------------\n",
    "#df['small_sema_slope'] = df['sema'].rolling(window=window_s_ma).progress_apply(get_slope_s)\n",
    "#df['long_sema_slope'] = df['sema'].rolling(window=window_l_ma).progress_apply(get_slope_l)\n",
    "\n",
    "# Direction -------------------------\n",
    "diff_col = 'sema'\n",
    "df['direction'] = 'same'\n",
    "df['direction'].loc[df[diff_col].shift(-1) - df[diff_col] > pip_diff] = 'increase'\n",
    "df['direction'].loc[df[diff_col].shift(-1) - df[diff_col] < -pip_diff] = 'decrease'\n",
    "\n",
    "# Remove NaNs ------------------------\n",
    "del df['gain']\n",
    "del df['loss']\n",
    "df = df.dropna()\n",
    "df = df.reset_index(drop=True)\n",
    "print(f'Total records : {len(df)}')"
   ]
  },
  {
   "cell_type": "markdown",
   "metadata": {},
   "source": [
    "## Write data to csv"
   ]
  },
  {
   "cell_type": "code",
   "execution_count": 9,
   "metadata": {},
   "outputs": [
    {
     "name": "stdout",
     "output_type": "stream",
     "text": [
      "Wall time: 1.59 s\n"
     ]
    }
   ],
   "source": [
    "%%time\n",
    "df.to_csv(target_file_path, index = False)\n",
    "winsound.PlaySound('C:\\\\Windows\\\\Media\\\\tada.wav', winsound.SND_ASYNC)"
   ]
  },
  {
   "cell_type": "markdown",
   "metadata": {},
   "source": [
    "## Print Report"
   ]
  },
  {
   "cell_type": "markdown",
   "metadata": {},
   "source": [
    "df = df[['sema_diff',\n",
    "'min_gap',\n",
    "'max_gap',\n",
    "'lema_diff',\n",
    "'ssma_diff',\n",
    "'rsi',\n",
    "'rs',\n",
    "'avg_loss',\n",
    "'avg_gain',\n",
    "'tick_sd',\n",
    "'diff',\n",
    "'direction']]"
   ]
  },
  {
   "cell_type": "code",
   "execution_count": 10,
   "metadata": {
    "scrolled": false
   },
   "outputs": [
    {
     "name": "stdout",
     "output_type": "stream",
     "text": [
      "          counts  percentage\n",
      "same       23557   47.161161\n",
      "increase   13360   26.746747\n",
      "decrease   13033   26.092092\n"
     ]
    },
    {
     "data": {
      "text/html": [
       "<div>\n",
       "<style scoped>\n",
       "    .dataframe tbody tr th:only-of-type {\n",
       "        vertical-align: middle;\n",
       "    }\n",
       "\n",
       "    .dataframe tbody tr th {\n",
       "        vertical-align: top;\n",
       "    }\n",
       "\n",
       "    .dataframe thead th {\n",
       "        text-align: right;\n",
       "    }\n",
       "</style>\n",
       "<table border=\"1\" class=\"dataframe\">\n",
       "  <thead>\n",
       "    <tr style=\"text-align: right;\">\n",
       "      <th></th>\n",
       "      <th>tick_avg</th>\n",
       "      <th>spread_avg</th>\n",
       "      <th>tick_sd</th>\n",
       "      <th>diff</th>\n",
       "      <th>avg_gain</th>\n",
       "      <th>avg_loss</th>\n",
       "      <th>rs</th>\n",
       "      <th>rsi</th>\n",
       "      <th>sema</th>\n",
       "      <th>sema_diff</th>\n",
       "      <th>...</th>\n",
       "      <th>ssma</th>\n",
       "      <th>ssma_diff</th>\n",
       "      <th>lsma</th>\n",
       "      <th>lsma_diff</th>\n",
       "      <th>sma_diff</th>\n",
       "      <th>max_tick</th>\n",
       "      <th>min_tick</th>\n",
       "      <th>max_gap</th>\n",
       "      <th>min_gap</th>\n",
       "      <th>direction</th>\n",
       "    </tr>\n",
       "  </thead>\n",
       "  <tbody>\n",
       "    <tr>\n",
       "      <th>0</th>\n",
       "      <td>1.201482</td>\n",
       "      <td>0.000177</td>\n",
       "      <td>0.000002</td>\n",
       "      <td>0.000006</td>\n",
       "      <td>0.000024</td>\n",
       "      <td>0.000012</td>\n",
       "      <td>1.974589</td>\n",
       "      <td>66.381910</td>\n",
       "      <td>1.201353</td>\n",
       "      <td>0.000014</td>\n",
       "      <td>...</td>\n",
       "      <td>1.201405</td>\n",
       "      <td>3.457500e-05</td>\n",
       "      <td>1.201034</td>\n",
       "      <td>0.000010</td>\n",
       "      <td>0.000371</td>\n",
       "      <td>1.201534</td>\n",
       "      <td>1.200890</td>\n",
       "      <td>0.000052</td>\n",
       "      <td>-0.000592</td>\n",
       "      <td>increase</td>\n",
       "    </tr>\n",
       "    <tr>\n",
       "      <th>1</th>\n",
       "      <td>1.201494</td>\n",
       "      <td>0.000165</td>\n",
       "      <td>0.000010</td>\n",
       "      <td>0.000012</td>\n",
       "      <td>0.000024</td>\n",
       "      <td>0.000012</td>\n",
       "      <td>2.014948</td>\n",
       "      <td>66.831929</td>\n",
       "      <td>1.201367</td>\n",
       "      <td>0.000014</td>\n",
       "      <td>...</td>\n",
       "      <td>1.201435</td>\n",
       "      <td>3.021250e-05</td>\n",
       "      <td>1.201051</td>\n",
       "      <td>0.000017</td>\n",
       "      <td>0.000384</td>\n",
       "      <td>1.201534</td>\n",
       "      <td>1.201273</td>\n",
       "      <td>0.000040</td>\n",
       "      <td>-0.000221</td>\n",
       "      <td>increase</td>\n",
       "    </tr>\n",
       "    <tr>\n",
       "      <th>2</th>\n",
       "      <td>1.201499</td>\n",
       "      <td>0.000148</td>\n",
       "      <td>0.000020</td>\n",
       "      <td>0.000005</td>\n",
       "      <td>0.000011</td>\n",
       "      <td>0.000012</td>\n",
       "      <td>0.886398</td>\n",
       "      <td>46.988906</td>\n",
       "      <td>1.201379</td>\n",
       "      <td>0.000013</td>\n",
       "      <td>...</td>\n",
       "      <td>1.201447</td>\n",
       "      <td>1.128750e-05</td>\n",
       "      <td>1.201067</td>\n",
       "      <td>0.000016</td>\n",
       "      <td>0.000380</td>\n",
       "      <td>1.201534</td>\n",
       "      <td>1.201319</td>\n",
       "      <td>0.000035</td>\n",
       "      <td>-0.000180</td>\n",
       "      <td>same</td>\n",
       "    </tr>\n",
       "    <tr>\n",
       "      <th>3</th>\n",
       "      <td>1.201461</td>\n",
       "      <td>0.000141</td>\n",
       "      <td>0.000026</td>\n",
       "      <td>-0.000038</td>\n",
       "      <td>0.000010</td>\n",
       "      <td>0.000015</td>\n",
       "      <td>0.653706</td>\n",
       "      <td>39.529758</td>\n",
       "      <td>1.201387</td>\n",
       "      <td>0.000008</td>\n",
       "      <td>...</td>\n",
       "      <td>1.201452</td>\n",
       "      <td>5.875000e-06</td>\n",
       "      <td>1.201082</td>\n",
       "      <td>0.000016</td>\n",
       "      <td>0.000370</td>\n",
       "      <td>1.201534</td>\n",
       "      <td>1.201319</td>\n",
       "      <td>0.000074</td>\n",
       "      <td>-0.000142</td>\n",
       "      <td>same</td>\n",
       "    </tr>\n",
       "    <tr>\n",
       "      <th>4</th>\n",
       "      <td>1.201332</td>\n",
       "      <td>0.000210</td>\n",
       "      <td>0.000022</td>\n",
       "      <td>-0.000128</td>\n",
       "      <td>0.000010</td>\n",
       "      <td>0.000022</td>\n",
       "      <td>0.445364</td>\n",
       "      <td>30.813288</td>\n",
       "      <td>1.201382</td>\n",
       "      <td>-0.000005</td>\n",
       "      <td>...</td>\n",
       "      <td>1.201452</td>\n",
       "      <td>-7.500000e-08</td>\n",
       "      <td>1.201096</td>\n",
       "      <td>0.000014</td>\n",
       "      <td>0.000356</td>\n",
       "      <td>1.201534</td>\n",
       "      <td>1.201319</td>\n",
       "      <td>0.000202</td>\n",
       "      <td>-0.000014</td>\n",
       "      <td>same</td>\n",
       "    </tr>\n",
       "  </tbody>\n",
       "</table>\n",
       "<p>5 rows × 23 columns</p>\n",
       "</div>"
      ],
      "text/plain": [
       "   tick_avg  spread_avg   tick_sd      diff  avg_gain  avg_loss        rs  \\\n",
       "0  1.201482    0.000177  0.000002  0.000006  0.000024  0.000012  1.974589   \n",
       "1  1.201494    0.000165  0.000010  0.000012  0.000024  0.000012  2.014948   \n",
       "2  1.201499    0.000148  0.000020  0.000005  0.000011  0.000012  0.886398   \n",
       "3  1.201461    0.000141  0.000026 -0.000038  0.000010  0.000015  0.653706   \n",
       "4  1.201332    0.000210  0.000022 -0.000128  0.000010  0.000022  0.445364   \n",
       "\n",
       "         rsi      sema  sema_diff  ...      ssma     ssma_diff      lsma  \\\n",
       "0  66.381910  1.201353   0.000014  ...  1.201405  3.457500e-05  1.201034   \n",
       "1  66.831929  1.201367   0.000014  ...  1.201435  3.021250e-05  1.201051   \n",
       "2  46.988906  1.201379   0.000013  ...  1.201447  1.128750e-05  1.201067   \n",
       "3  39.529758  1.201387   0.000008  ...  1.201452  5.875000e-06  1.201082   \n",
       "4  30.813288  1.201382  -0.000005  ...  1.201452 -7.500000e-08  1.201096   \n",
       "\n",
       "   lsma_diff  sma_diff  max_tick  min_tick   max_gap   min_gap  direction  \n",
       "0   0.000010  0.000371  1.201534  1.200890  0.000052 -0.000592   increase  \n",
       "1   0.000017  0.000384  1.201534  1.201273  0.000040 -0.000221   increase  \n",
       "2   0.000016  0.000380  1.201534  1.201319  0.000035 -0.000180       same  \n",
       "3   0.000016  0.000370  1.201534  1.201319  0.000074 -0.000142       same  \n",
       "4   0.000014  0.000356  1.201534  1.201319  0.000202 -0.000014       same  \n",
       "\n",
       "[5 rows x 23 columns]"
      ]
     },
     "execution_count": 10,
     "metadata": {},
     "output_type": "execute_result"
    }
   ],
   "source": [
    "g= df['direction']\n",
    "print(pd.concat([g.value_counts(), g.value_counts(normalize=True).mul(100)],axis=1, keys=('counts','percentage')))\n",
    "df.head(5)"
   ]
  },
  {
   "cell_type": "code",
   "execution_count": 11,
   "metadata": {},
   "outputs": [
    {
     "data": {
      "text/plain": [
       "49.0    925\n",
       "44.0    920\n",
       "56.0    902\n",
       "50.0    889\n",
       "48.0    885\n",
       "       ... \n",
       "1.0      54\n",
       "96.0     53\n",
       "98.0     52\n",
       "3.0      44\n",
       "99.0     42\n",
       "Name: rsi, Length: 101, dtype: int64"
      ]
     },
     "execution_count": 11,
     "metadata": {},
     "output_type": "execute_result"
    }
   ],
   "source": [
    "np.round((df['rsi']),0).value_counts()"
   ]
  },
  {
   "cell_type": "code",
   "execution_count": 12,
   "metadata": {},
   "outputs": [
    {
     "data": {
      "text/plain": [
       "['tick_avg',\n",
       " 'spread_avg',\n",
       " 'tick_sd',\n",
       " 'diff',\n",
       " 'avg_gain',\n",
       " 'avg_loss',\n",
       " 'rs',\n",
       " 'rsi',\n",
       " 'sema',\n",
       " 'sema_diff',\n",
       " 'lema',\n",
       " 'lema_diff',\n",
       " 'ema_diff',\n",
       " 'ssma',\n",
       " 'ssma_diff',\n",
       " 'lsma',\n",
       " 'lsma_diff',\n",
       " 'sma_diff',\n",
       " 'max_tick',\n",
       " 'min_tick',\n",
       " 'max_gap',\n",
       " 'min_gap',\n",
       " 'direction']"
      ]
     },
     "execution_count": 12,
     "metadata": {},
     "output_type": "execute_result"
    }
   ],
   "source": [
    "list(df.columns)"
   ]
  }
 ],
 "metadata": {
  "kernelspec": {
   "display_name": "Python 3.6.6 64-bit",
   "language": "python",
   "name": "python36664bitab910dfda0bc43a8bf7df0c20d1c59f2"
  },
  "language_info": {
   "codemirror_mode": {
    "name": "ipython",
    "version": 3
   },
   "file_extension": ".py",
   "mimetype": "text/x-python",
   "name": "python",
   "nbconvert_exporter": "python",
   "pygments_lexer": "ipython3",
   "version": "3.6.6"
  }
 },
 "nbformat": 4,
 "nbformat_minor": 4
}
