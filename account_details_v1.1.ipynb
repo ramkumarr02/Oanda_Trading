{
 "cells": [
  {
   "cell_type": "markdown",
   "metadata": {},
   "source": [
    "# Account Details"
   ]
  },
  {
   "cell_type": "markdown",
   "metadata": {},
   "source": [
    "## Packages & Parameters"
   ]
  },
  {
   "cell_type": "code",
   "execution_count": 1,
   "metadata": {},
   "outputs": [],
   "source": [
    "from utils.packages import *\n",
    "warnings.filterwarnings(\"ignore\")\n",
    "from tqdm import tqdm"
   ]
  },
  {
   "cell_type": "code",
   "execution_count": 2,
   "metadata": {},
   "outputs": [],
   "source": [
    "temp_file = \"config/access_keys.yaml\"\n",
    "with open(temp_file) as temp_file:\n",
    "    config = yaml.load(temp_file)     \n",
    "    \n",
    "data = {}    "
   ]
  },
  {
   "cell_type": "markdown",
   "metadata": {},
   "source": [
    "## Get Invest Details"
   ]
  },
  {
   "cell_type": "code",
   "execution_count": 3,
   "metadata": {
    "scrolled": true
   },
   "outputs": [],
   "source": [
    "def get_invest_details():\n",
    "    global data\n",
    "    data[\"access_token\"] = config[data['account_name']][\"token\"]\n",
    "    data[\"accountID\"] = config[data['account_name']][\"account_id\"]\n",
    "    data[\"api\"] = API(access_token = data[\"access_token\"])\n",
    "    r = accounts.AccountDetails(data[\"accountID\"])\n",
    "\n",
    "    data[\"api\"].request(r)\n",
    "    data[\"account_data\"] = r.response\n",
    "    data[\"account_balance\"] = float(data[\"account_data\"][\"account\"][\"balance\"])\n",
    "\n",
    "    data[\"invest_amount\"] = data[\"account_balance\"] / data[\"balance_invest_ratio\"]\n",
    "    data[\"order_amount\"] = int(np.floor(data[\"invest_amount\"] * data[\"leverage\"]))\n",
    "\n",
    "\n",
    "    print(f'account_balance: {data[\"account_balance\"]} ')\n",
    "    print(f'invest_amount: {data[\"invest_amount\"]} ')\n",
    "    print(f'order_amount: {data[\"order_amount\"]} ')"
   ]
  },
  {
   "cell_type": "code",
   "execution_count": 4,
   "metadata": {
    "scrolled": true
   },
   "outputs": [
    {
     "name": "stdout",
     "output_type": "stream",
     "text": [
      "account_balance: 100.0031 \n",
      "invest_amount: 1.0000310000000001 \n",
      "order_amount: 50 \n"
     ]
    }
   ],
   "source": [
    "data[\"balance_invest_ratio\"] = 100\n",
    "data[\"leverage\"] = 50\n",
    "data['account_name'] = 'oanda_demo_2'\n",
    "\n",
    "get_invest_details()"
   ]
  },
  {
   "cell_type": "markdown",
   "metadata": {},
   "source": [
    "## Get Net PL"
   ]
  },
  {
   "cell_type": "code",
   "execution_count": 24,
   "metadata": {
    "scrolled": true
   },
   "outputs": [],
   "source": [
    "def get_net_pl():\n",
    "    global data\n",
    "    \n",
    "    start_date = datetime(year=data['start_date']['year'],\n",
    "                          month=data['start_date']['month'],\n",
    "                          day=data['start_date']['date'],\n",
    "                          hour = data['start_date']['hour'],\n",
    "                          minute=data['start_date']['min']) - dt.timedelta(hours=8)\n",
    "    \n",
    "    data[\"access_token\"] = config[data['account_name']][\"token\"]\n",
    "    data[\"accountID\"] = config[data['account_name']][\"account_id\"]\n",
    "    data[\"api\"] = API(access_token = data[\"access_token\"])\n",
    "    \n",
    "    \n",
    "    request_obj = trans.TransactionList(accountID=data[\"accountID\"], params={\"pageSize\": 1000})\n",
    "    data[\"api\"].request(request_obj)\n",
    "    last_transaction = int(request_obj.response['lastTransactionID'])\n",
    "\n",
    "    for trans_id in tqdm(reversed(range(1,last_transaction))):\n",
    "        request_obj = trans.TransactionDetails(accountID=data[\"accountID\"], transactionID = trans_id)\n",
    "        data[\"api\"].request(request_obj)\n",
    "        trans_time_val = request_obj.response['transaction']['time']\n",
    "        trans_date = dt.datetime.strptime(trans_time_val.split(\".\")[0], \"%Y-%m-%dT%H:%M:%S\")\n",
    "\n",
    "        if trans_date >= start_date:\n",
    "            first_trans_id = trans_id\n",
    "        else:\n",
    "            break\n",
    "\n",
    "    params = {\"from\": first_trans_id, \"to\": last_transaction}\n",
    "    request_obj = trans.TransactionIDRange(accountID=data[\"accountID\"], params=params)\n",
    "    data[\"api\"].request(request_obj)\n",
    "    all_transactions = request_obj.response   \n",
    "\n",
    "\n",
    "    pl_list = []\n",
    "    for t in all_transactions['transactions']:\n",
    "        try:\n",
    "            pl_val = float(t['pl'])\n",
    "            if pl_val != 0.0:\n",
    "                pl_list.append(pl_val)\n",
    "        except:\n",
    "            pass\n",
    "\n",
    "    num_transactions = len(pl_list)\n",
    "    net_pl = np.sum(pl_list)\n",
    "\n",
    "    print('-------------------------------')\n",
    "    print(f'account_name      : {data[\"account_name\"]}')    \n",
    "    print(f'start_ts          : {start_date}')\n",
    "    print(f'first_trans_id    : {first_trans_id}')\n",
    "    print(f'last_trans_id     : {last_transaction}')    \n",
    "    print(f'num_transactions  : {num_transactions}')\n",
    "    print(f'net_pl            : {net_pl}')\n",
    "    print(f'pl_list           : {pl_list}')\n",
    "    print('-------------------------------')\n",
    "    return(all_transactions)"
   ]
  },
  {
   "cell_type": "code",
   "execution_count": 29,
   "metadata": {},
   "outputs": [],
   "source": [
    "data['start_date'] = {'year':2021, 'month':3, 'date':9, \n",
    "                     'hour':15, 'min':0, \n",
    "                     }"
   ]
  },
  {
   "cell_type": "code",
   "execution_count": 30,
   "metadata": {},
   "outputs": [
    {
     "name": "stderr",
     "output_type": "stream",
     "text": [
      "89it [00:23,  3.72it/s]\n"
     ]
    },
    {
     "name": "stdout",
     "output_type": "stream",
     "text": [
      "-------------------------------\n",
      "account_name      : oanda_demo_primary\n",
      "start_ts          : 2021-03-09 07:00:00\n",
      "first_trans_id    : 4867\n",
      "last_trans_id     : 4956\n",
      "num_transactions  : 15\n",
      "net_pl            : -0.0021000000000000003\n",
      "pl_list           : [0.0006, -0.0004, 0.0006, -0.0004, -0.0004, 0.0008, -0.0005, -0.0005, -0.0005, -0.0004, -0.0004, -0.0004, 0.0004, -0.0003, -0.0003]\n",
      "-------------------------------\n"
     ]
    },
    {
     "name": "stderr",
     "output_type": "stream",
     "text": [
      "65it [00:17,  3.66it/s]\n"
     ]
    },
    {
     "name": "stdout",
     "output_type": "stream",
     "text": [
      "-------------------------------\n",
      "account_name      : oanda_demo_1\n",
      "start_ts          : 2021-03-09 07:00:00\n",
      "first_trans_id    : 5250\n",
      "last_trans_id     : 5315\n",
      "num_transactions  : 11\n",
      "net_pl            : 0.0004000000000000001\n",
      "pl_list           : [0.0006, 0.0007, -0.0008, 0.0007, 0.001, 0.0007, -0.0004, -0.0006, -0.0006, -0.0003, -0.0006]\n",
      "-------------------------------\n"
     ]
    },
    {
     "name": "stderr",
     "output_type": "stream",
     "text": [
      "49it [00:13,  3.73it/s]\n"
     ]
    },
    {
     "name": "stdout",
     "output_type": "stream",
     "text": [
      "-------------------------------\n",
      "account_name      : oanda_demo_2\n",
      "start_ts          : 2021-03-09 07:00:00\n",
      "first_trans_id    : 5\n",
      "last_trans_id     : 54\n",
      "num_transactions  : 7\n",
      "net_pl            : 0.0031000000000000003\n",
      "pl_list           : [0.0006, 0.0007, 0.0008, 0.0009, 0.0007, 0.0003, -0.0009]\n",
      "-------------------------------\n"
     ]
    }
   ],
   "source": [
    "account_list = ['oanda_demo_primary','oanda_demo_1', 'oanda_demo_2']\n",
    "\n",
    "for acc_name in account_list:\n",
    "    data['account_name'] = acc_name\n",
    "    all_transactions = get_net_pl()"
   ]
  },
  {
   "cell_type": "markdown",
   "metadata": {},
   "source": [
    "data['account_name'] = 'oanda_demo_2'\n",
    "all_transactions = get_net_pl()"
   ]
  },
  {
   "cell_type": "markdown",
   "metadata": {},
   "source": [
    "data['account_name'] = 'oanda_demo_1'\n",
    "all_transactions = get_net_pl()"
   ]
  },
  {
   "cell_type": "markdown",
   "metadata": {},
   "source": [
    "data['account_name'] = 'oanda_demo_primary'\n",
    "all_transactions = get_net_pl()"
   ]
  }
 ],
 "metadata": {
  "kernelspec": {
   "display_name": "Python 3.6.6 64-bit",
   "language": "python",
   "name": "python36664bitab910dfda0bc43a8bf7df0c20d1c59f2"
  },
  "language_info": {
   "codemirror_mode": {
    "name": "ipython",
    "version": 3
   },
   "file_extension": ".py",
   "mimetype": "text/x-python",
   "name": "python",
   "nbconvert_exporter": "python",
   "pygments_lexer": "ipython3",
   "version": "3.6.6"
  }
 },
 "nbformat": 4,
 "nbformat_minor": 4
}
