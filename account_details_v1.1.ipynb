{
 "cells": [
  {
   "cell_type": "markdown",
   "metadata": {},
   "source": [
    "# Account Details"
   ]
  },
  {
   "cell_type": "markdown",
   "metadata": {},
   "source": [
    "## Packages & Parameters"
   ]
  },
  {
   "cell_type": "code",
   "execution_count": 1,
   "metadata": {},
   "outputs": [],
   "source": [
    "from utils.packages import *\n",
    "warnings.filterwarnings(\"ignore\")\n",
    "from tqdm import tqdm\n",
    "from IPython.display import display\n",
    "import pprint"
   ]
  },
  {
   "cell_type": "code",
   "execution_count": 2,
   "metadata": {},
   "outputs": [],
   "source": [
    "temp_file = \"config/access_keys.yaml\"\n",
    "with open(temp_file) as temp_file:\n",
    "    config = yaml.load(temp_file)     \n",
    "    \n",
    "data = {}    "
   ]
  },
  {
   "cell_type": "markdown",
   "metadata": {},
   "source": [
    "## Get Invest Details"
   ]
  },
  {
   "cell_type": "code",
   "execution_count": 3,
   "metadata": {
    "scrolled": true
   },
   "outputs": [],
   "source": [
    "def get_invest_details():\n",
    "    global data\n",
    "    data[\"access_token\"] = config[data['account_name']][\"token\"]\n",
    "    data[\"accountID\"] = config[data['account_name']][\"account_id\"]\n",
    "    data[\"api\"] = API(access_token = data[\"access_token\"])\n",
    "    r = accounts.AccountDetails(data[\"accountID\"])\n",
    "\n",
    "    data[\"api\"].request(r)\n",
    "    data[\"account_data\"] = r.response\n",
    "    data[\"account_balance\"] = float(data[\"account_data\"][\"account\"][\"balance\"])\n",
    "\n",
    "    data[\"invest_amount\"] = data[\"account_balance\"] / data[\"balance_invest_ratio\"]\n",
    "    data[\"order_amount\"] = int(np.floor(data[\"invest_amount\"] * data[\"leverage\"]))\n",
    "\n",
    "    print('------------')\n",
    "    print(f'account_name      : {data[\"account_name\"]}')  \n",
    "    print(f'account_balance   : {data[\"account_balance\"]} ')\n",
    "    print(f'invest_amount     : {data[\"invest_amount\"]} ')\n",
    "    print(f'order_amount      : {data[\"order_amount\"]} ')\n",
    "    print('------------')"
   ]
  },
  {
   "cell_type": "code",
   "execution_count": 4,
   "metadata": {},
   "outputs": [
    {
     "name": "stdout",
     "output_type": "stream",
     "text": [
      "------------\n",
      "account_name      : oanda_demo_primary\n",
      "account_balance   : 99799.4628 \n",
      "invest_amount     : 997.9946279999999 \n",
      "order_amount      : 49899 \n",
      "------------\n",
      "------------\n",
      "account_name      : oanda_demo_1\n",
      "account_balance   : 99.8304 \n",
      "invest_amount     : 0.998304 \n",
      "order_amount      : 49 \n",
      "------------\n",
      "------------\n",
      "account_name      : oanda_demo_2\n",
      "account_balance   : 99.9953 \n",
      "invest_amount     : 0.999953 \n",
      "order_amount      : 49 \n",
      "------------\n"
     ]
    }
   ],
   "source": [
    "data[\"balance_invest_ratio\"] = 100\n",
    "data[\"leverage\"] = 50\n",
    "account_list = ['oanda_demo_primary','oanda_demo_1', 'oanda_demo_2']\n",
    "\n",
    "for acc_name in account_list:\n",
    "    data['account_name'] = acc_name\n",
    "    get_invest_details()"
   ]
  },
  {
   "cell_type": "markdown",
   "metadata": {},
   "source": [
    "## Get Net PL"
   ]
  },
  {
   "cell_type": "code",
   "execution_count": 5,
   "metadata": {
    "scrolled": true
   },
   "outputs": [],
   "source": [
    "def get_net_pl():\n",
    "    global data\n",
    "    \n",
    "    start_date = datetime(year=data['start_date']['year'],\n",
    "                          month=data['start_date']['month'],\n",
    "                          day=data['start_date']['date'],\n",
    "                          hour = data['start_date']['hour'],\n",
    "                          minute=data['start_date']['min']) - dt.timedelta(hours=8)\n",
    "    \n",
    "    end_date = datetime(year=data['end_date']['year'],\n",
    "                          month=data['end_date']['month'],\n",
    "                          day=data['end_date']['date'],\n",
    "                          hour = data['end_date']['hour'],\n",
    "                          minute=data['end_date']['min']) - dt.timedelta(hours=8)\n",
    "    \n",
    "    data[\"access_token\"] = config[data['account_name']][\"token\"]\n",
    "    data[\"accountID\"] = config[data['account_name']][\"account_id\"]\n",
    "    data[\"api\"] = API(access_token = data[\"access_token\"])\n",
    "    \n",
    "    \n",
    "    request_obj = trans.TransactionList(accountID=data[\"accountID\"], params={\"pageSize\": 1000})\n",
    "    data[\"api\"].request(request_obj)\n",
    "    last_transaction = int(request_obj.response['lastTransactionID'])\n",
    "\n",
    "    for trans_id in tqdm(reversed(range(1,last_transaction))):\n",
    "        request_obj = trans.TransactionDetails(accountID=data[\"accountID\"], transactionID = trans_id)\n",
    "        data[\"api\"].request(request_obj)\n",
    "        trans_time_val = request_obj.response['transaction']['time']\n",
    "        trans_date = dt.datetime.strptime(trans_time_val.split(\".\")[0], \"%Y-%m-%dT%H:%M:%S\")\n",
    "\n",
    "        if trans_date >= start_date:\n",
    "            first_trans_id = trans_id\n",
    "        else:\n",
    "            break\n",
    "\n",
    "    params = {\"from\": first_trans_id, \"to\": last_transaction}\n",
    "    request_obj = trans.TransactionIDRange(accountID=data[\"accountID\"], params=params)\n",
    "    data[\"api\"].request(request_obj)\n",
    "    all_transactions = request_obj.response   \n",
    "\n",
    "\n",
    "    pl_list = []\n",
    "    for t in all_transactions['transactions']:\n",
    "        trans_ts = dt.datetime.strptime(t['time'].split(\".\")[0], \"%Y-%m-%dT%H:%M:%S\")\n",
    "        if trans_ts > end_date:\n",
    "            break\n",
    "        try:\n",
    "            pl_val = float(t['pl'])\n",
    "            if pl_val != 0.0:\n",
    "                pl_list.append(pl_val)\n",
    "        except:\n",
    "            pass\n",
    "\n",
    "    num_transactions = len(pl_list)\n",
    "    net_pl = round(np.sum(pl_list),5)\n",
    "\n",
    "    positive_pls = [i for i in pl_list if i > 0]\n",
    "    negative_pls = [i for i in pl_list if i < 0]\n",
    "\n",
    "    num_positive = len(positive_pls)\n",
    "    num_negative = len(negative_pls)\n",
    "\n",
    "    sum_positive = round(np.sum(positive_pls),5)\n",
    "    sum_negative = round(np.sum(negative_pls),5)\n",
    "    sum_total    = round(sum_positive + abs(sum_negative),5) \n",
    "\n",
    "    avg_positive = round(np.mean(positive_pls),5)\n",
    "    avg_negative = round(np.mean(negative_pls),5)\n",
    "    \n",
    "    print('-------------')\n",
    "    print(f'account_name      : {data[\"account_name\"]}')    \n",
    "    print(f'start_ts          : {start_date + dt.timedelta(hours=8)}')    \n",
    "    print(f'end_ts            : {end_date + dt.timedelta(hours=8)}')    \n",
    "    print('-------------')\n",
    "    print(f'num_transactions  : {num_transactions}')\n",
    "    print('==============================')\n",
    "    print(f'net_pl            : {net_pl}/{sum_total}')  \n",
    "    print('==============================')\n",
    "    print('-------------')\n",
    "    print(f'+ve               : num= {num_positive}    sum= +{sum_positive}    avg= +{avg_positive}')\n",
    "    print(f'-ve               : num= {num_negative}    sum= {sum_negative}    avg= {avg_negative}')\n",
    "    print('-------------')\n",
    "\n",
    "    df = pd.DataFrame(pl_list, columns = ['pls'])\n",
    "    \n",
    "    values = list(df['pls'].value_counts().index)\n",
    "    counts = list(df['pls'].value_counts().values)\n",
    "\n",
    "    df_report = pd.DataFrame({'values':values,'counts':counts})\n",
    "    df_report['act_val'] = df_report['values'] * df_report['counts']\n",
    "    df_report = df_report.sort_values(by='values')\n",
    "    df_report = df_report.reset_index(drop = True)\n",
    "    display(df_report)\n",
    "    print(pl_list)\n",
    "    print('-------------')\n",
    "    return(all_transactions, pl_list)"
   ]
  },
  {
   "cell_type": "code",
   "execution_count": 34,
   "metadata": {},
   "outputs": [],
   "source": [
    "data['start_date'] = {'year':2021, 'month':3, 'date':11, \n",
    "                      'hour':22, 'min':32}\n",
    "\n",
    "data['end_date'] = {'year':2021, 'month':3, 'date':12, \n",
    "                    'hour':9, 'min':20}"
   ]
  },
  {
   "cell_type": "code",
   "execution_count": 37,
   "metadata": {
    "scrolled": false
   },
   "outputs": [
    {
     "name": "stderr",
     "output_type": "stream",
     "text": [
      "11it [00:03,  3.52it/s]\n"
     ]
    },
    {
     "name": "stdout",
     "output_type": "stream",
     "text": [
      "-------------\n",
      "account_name      : oanda_demo_primary\n",
      "start_ts          : 2021-03-11 22:32:00\n",
      "end_ts            : 2021-03-12 09:20:00\n",
      "-------------\n",
      "num_transactions  : 2\n",
      "==============================\n",
      "net_pl            : -0.0006/0.0006\n",
      "==============================\n",
      "-------------\n",
      "+ve               : num= 0    sum= +0.0    avg= +nan\n",
      "-ve               : num= 2    sum= -0.0006    avg= -0.0003\n",
      "-------------\n"
     ]
    },
    {
     "data": {
      "text/html": [
       "<div>\n",
       "<style scoped>\n",
       "    .dataframe tbody tr th:only-of-type {\n",
       "        vertical-align: middle;\n",
       "    }\n",
       "\n",
       "    .dataframe tbody tr th {\n",
       "        vertical-align: top;\n",
       "    }\n",
       "\n",
       "    .dataframe thead th {\n",
       "        text-align: right;\n",
       "    }\n",
       "</style>\n",
       "<table border=\"1\" class=\"dataframe\">\n",
       "  <thead>\n",
       "    <tr style=\"text-align: right;\">\n",
       "      <th></th>\n",
       "      <th>values</th>\n",
       "      <th>counts</th>\n",
       "      <th>act_val</th>\n",
       "    </tr>\n",
       "  </thead>\n",
       "  <tbody>\n",
       "    <tr>\n",
       "      <th>0</th>\n",
       "      <td>-0.0003</td>\n",
       "      <td>2</td>\n",
       "      <td>-0.0006</td>\n",
       "    </tr>\n",
       "  </tbody>\n",
       "</table>\n",
       "</div>"
      ],
      "text/plain": [
       "   values  counts  act_val\n",
       "0 -0.0003       2  -0.0006"
      ]
     },
     "metadata": {},
     "output_type": "display_data"
    },
    {
     "name": "stdout",
     "output_type": "stream",
     "text": [
      "[-0.0003, -0.0003]\n",
      "-------------\n"
     ]
    },
    {
     "name": "stderr",
     "output_type": "stream",
     "text": [
      "11it [00:03,  3.04it/s]\n"
     ]
    },
    {
     "name": "stdout",
     "output_type": "stream",
     "text": [
      "-------------\n",
      "account_name      : oanda_demo_1\n",
      "start_ts          : 2021-03-11 22:32:00\n",
      "end_ts            : 2021-03-12 09:20:00\n",
      "-------------\n",
      "num_transactions  : 2\n",
      "==============================\n",
      "net_pl            : -0.0003/0.0005\n",
      "==============================\n",
      "-------------\n",
      "+ve               : num= 1    sum= +0.0001    avg= +0.0001\n",
      "-ve               : num= 1    sum= -0.0004    avg= -0.0004\n",
      "-------------\n"
     ]
    },
    {
     "data": {
      "text/html": [
       "<div>\n",
       "<style scoped>\n",
       "    .dataframe tbody tr th:only-of-type {\n",
       "        vertical-align: middle;\n",
       "    }\n",
       "\n",
       "    .dataframe tbody tr th {\n",
       "        vertical-align: top;\n",
       "    }\n",
       "\n",
       "    .dataframe thead th {\n",
       "        text-align: right;\n",
       "    }\n",
       "</style>\n",
       "<table border=\"1\" class=\"dataframe\">\n",
       "  <thead>\n",
       "    <tr style=\"text-align: right;\">\n",
       "      <th></th>\n",
       "      <th>values</th>\n",
       "      <th>counts</th>\n",
       "      <th>act_val</th>\n",
       "    </tr>\n",
       "  </thead>\n",
       "  <tbody>\n",
       "    <tr>\n",
       "      <th>0</th>\n",
       "      <td>-0.0004</td>\n",
       "      <td>1</td>\n",
       "      <td>-0.0004</td>\n",
       "    </tr>\n",
       "    <tr>\n",
       "      <th>1</th>\n",
       "      <td>0.0001</td>\n",
       "      <td>1</td>\n",
       "      <td>0.0001</td>\n",
       "    </tr>\n",
       "  </tbody>\n",
       "</table>\n",
       "</div>"
      ],
      "text/plain": [
       "   values  counts  act_val\n",
       "0 -0.0004       1  -0.0004\n",
       "1  0.0001       1   0.0001"
      ]
     },
     "metadata": {},
     "output_type": "display_data"
    },
    {
     "name": "stdout",
     "output_type": "stream",
     "text": [
      "[-0.0004, 0.0001]\n",
      "-------------\n"
     ]
    },
    {
     "name": "stderr",
     "output_type": "stream",
     "text": [
      "11it [00:03,  3.42it/s]\n"
     ]
    },
    {
     "name": "stdout",
     "output_type": "stream",
     "text": [
      "-------------\n",
      "account_name      : oanda_demo_2\n",
      "start_ts          : 2021-03-11 22:32:00\n",
      "end_ts            : 2021-03-12 09:20:00\n",
      "-------------\n",
      "num_transactions  : 2\n",
      "==============================\n",
      "net_pl            : -0.0007/0.0009\n",
      "==============================\n",
      "-------------\n",
      "+ve               : num= 1    sum= +0.0001    avg= +0.0001\n",
      "-ve               : num= 1    sum= -0.0008    avg= -0.0008\n",
      "-------------\n"
     ]
    },
    {
     "data": {
      "text/html": [
       "<div>\n",
       "<style scoped>\n",
       "    .dataframe tbody tr th:only-of-type {\n",
       "        vertical-align: middle;\n",
       "    }\n",
       "\n",
       "    .dataframe tbody tr th {\n",
       "        vertical-align: top;\n",
       "    }\n",
       "\n",
       "    .dataframe thead th {\n",
       "        text-align: right;\n",
       "    }\n",
       "</style>\n",
       "<table border=\"1\" class=\"dataframe\">\n",
       "  <thead>\n",
       "    <tr style=\"text-align: right;\">\n",
       "      <th></th>\n",
       "      <th>values</th>\n",
       "      <th>counts</th>\n",
       "      <th>act_val</th>\n",
       "    </tr>\n",
       "  </thead>\n",
       "  <tbody>\n",
       "    <tr>\n",
       "      <th>0</th>\n",
       "      <td>-0.0008</td>\n",
       "      <td>1</td>\n",
       "      <td>-0.0008</td>\n",
       "    </tr>\n",
       "    <tr>\n",
       "      <th>1</th>\n",
       "      <td>0.0001</td>\n",
       "      <td>1</td>\n",
       "      <td>0.0001</td>\n",
       "    </tr>\n",
       "  </tbody>\n",
       "</table>\n",
       "</div>"
      ],
      "text/plain": [
       "   values  counts  act_val\n",
       "0 -0.0008       1  -0.0008\n",
       "1  0.0001       1   0.0001"
      ]
     },
     "metadata": {},
     "output_type": "display_data"
    },
    {
     "name": "stdout",
     "output_type": "stream",
     "text": [
      "[0.0001, -0.0008]\n",
      "-------------\n"
     ]
    }
   ],
   "source": [
    "#account_list = ['oanda_demo_primary']\n",
    "#account_list = ['oanda_demo_1']\n",
    "#account_list = ['oanda_demo_2']\n",
    "account_list = ['oanda_demo_primary','oanda_demo_1', 'oanda_demo_2']\n",
    "\n",
    "for acc_name in account_list:\n",
    "    data['account_name'] = acc_name\n",
    "    try:\n",
    "        all_transactions, pl_list = get_net_pl()\n",
    "    except KeyboardInterrupt:\n",
    "        print(f'Manually Stopped')\n",
    "        break\n",
    "    except:\n",
    "        print(f'No Transactions yet in {acc_name}')"
   ]
  }
 ],
 "metadata": {
  "kernelspec": {
   "display_name": "Python 3.6.6 64-bit",
   "language": "python",
   "name": "python36664bitab910dfda0bc43a8bf7df0c20d1c59f2"
  },
  "language_info": {
   "codemirror_mode": {
    "name": "ipython",
    "version": 3
   },
   "file_extension": ".py",
   "mimetype": "text/x-python",
   "name": "python",
   "nbconvert_exporter": "python",
   "pygments_lexer": "ipython3",
   "version": "3.6.6"
  }
 },
 "nbformat": 4,
 "nbformat_minor": 4
}
