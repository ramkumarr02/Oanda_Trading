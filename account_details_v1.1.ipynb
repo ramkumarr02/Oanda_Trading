{
 "cells": [
  {
   "cell_type": "markdown",
   "metadata": {},
   "source": [
    "# Account Details"
   ]
  },
  {
   "cell_type": "code",
   "execution_count": 1,
   "metadata": {},
   "outputs": [],
   "source": [
    "from utils.packages import *\n",
    "warnings.filterwarnings(\"ignore\")"
   ]
  },
  {
   "cell_type": "markdown",
   "metadata": {},
   "source": [
    "## Read Yaml files"
   ]
  },
  {
   "cell_type": "code",
   "execution_count": 63,
   "metadata": {},
   "outputs": [],
   "source": [
    "temp_file = \"config/access_keys.yaml\"\n",
    "with open(temp_file) as temp_file:\n",
    "    config = yaml.load(temp_file)     "
   ]
  },
  {
   "cell_type": "code",
   "execution_count": 64,
   "metadata": {},
   "outputs": [],
   "source": [
    "data = {}\n",
    "data['instrument'] = \"EUR_USD\"\n",
    "data[\"access_token\"] = config[\"oanda_demo_hedge\"][\"token\"]\n",
    "data[\"accountID\"] = config[\"oanda_demo_hedge\"][\"account_id\"]\n",
    "data[\"api\"] = API(access_token = data[\"access_token\"])"
   ]
  },
  {
   "cell_type": "code",
   "execution_count": 65,
   "metadata": {},
   "outputs": [],
   "source": [
    "def get_ema_diff(granularity, ema_long, ema_short):    \n",
    "    \n",
    "    data[\"candle_param\"] = {\"count\": ema_long, \"granularity\": granularity}\n",
    "    data[\"candle_r\"] = instruments.InstrumentsCandles(instrument=data['instrument'], params=data[\"candle_param\"])\n",
    "    data[\"api\"].request(data[\"candle_r\"])\n",
    "    data[\"candle_data\"] = data[\"candle_r\"].response\n",
    "    \n",
    "    ema_l = pd.DataFrame([x['mid']['c'] for x in data[\"candle_data\"]['candles']]).ewm(span=ema_long).mean()[0][ema_long - 1]\n",
    "    ema_s = pd.DataFrame([x['mid']['c'] for x in data[\"candle_data\"]['candles']]).ewm(span=ema_short).mean()[0][ema_short - 1]    \n",
    "    return(abs(ema_s - ema_l))"
   ]
  },
  {
   "cell_type": "code",
   "execution_count": 66,
   "metadata": {},
   "outputs": [
    {
     "name": "stdout",
     "output_type": "stream",
     "text": [
      "Wall time: 563 ms\n"
     ]
    },
    {
     "data": {
      "text/plain": [
       "0.0014681604663813186"
      ]
     },
     "execution_count": 66,
     "metadata": {},
     "output_type": "execute_result"
    }
   ],
   "source": [
    "%%time\n",
    "get_ema_diff(granularity = 'M5', ema_long = 50, ema_short = 5)"
   ]
  },
  {
   "cell_type": "code",
   "execution_count": 4,
   "metadata": {
    "scrolled": true
   },
   "outputs": [],
   "source": [
    "def get_avg_candle_height(candle_count, granularity):\n",
    "    global data\n",
    "    data[\"candle_param\"] = {\"count\": candle_count, \"granularity\": granularity}\n",
    "    data[\"candle_r\"] = instruments.InstrumentsCandles(instrument=data['instrument'], params=data[\"candle_param\"])\n",
    "    data[\"api\"].request(data[\"candle_r\"])\n",
    "    data[\"candle_data\"] = data[\"candle_r\"].response\n",
    "\n",
    "    candle_height_list = []\n",
    "\n",
    "    for candle in data[\"candle_data\"]['candles']:\n",
    "        high = np.float(candle['mid']['h'])\n",
    "        low = np.float(candle['mid']['l'])\n",
    "        candle_height_list.append(high - low) \n",
    "\n",
    "    data['avg_candle_height'] = np.round(np.mean(candle_height_list),5)\n",
    "    return()"
   ]
  },
  {
   "cell_type": "code",
   "execution_count": 5,
   "metadata": {},
   "outputs": [
    {
     "name": "stdout",
     "output_type": "stream",
     "text": [
      "avg_candle_height : 0.00644\n",
      "Wall time: 1.54 s\n"
     ]
    }
   ],
   "source": [
    "%%time\n",
    "get_avg_candle_height(candle_count = 5, granularity = 'D')\n",
    "print(f'avg_candle_height : {data[\"avg_candle_height\"]}')"
   ]
  },
  {
   "cell_type": "code",
   "execution_count": 30,
   "metadata": {},
   "outputs": [],
   "source": [
    "data['curr_date'] = None"
   ]
  },
  {
   "cell_type": "code",
   "execution_count": 35,
   "metadata": {},
   "outputs": [],
   "source": [
    "today_date = datetime.today().date()\n",
    "if data['curr_date'] != today_date:\n",
    "    data['curr_date'] = today_date\n",
    "    get_avg_candle_height(candle_count = 5, granularity = 'D')"
   ]
  },
  {
   "cell_type": "code",
   "execution_count": null,
   "metadata": {
    "scrolled": true
   },
   "outputs": [],
   "source": [
    "data = {}\n",
    "data[\"balance_invest_ratio\"] = 100\n",
    "data[\"leverage\"] = 50\n",
    "\n",
    "data[\"access_token\"] = config[\"oanda_demo_hedge\"][\"token\"]\n",
    "data[\"accountID\"] = config[\"oanda_demo_hedge\"][\"account_id\"]\n",
    "data[\"api\"] = API(access_token = data[\"access_token\"])\n",
    "r = accounts.AccountDetails(data[\"accountID\"])\n",
    "\n",
    "data[\"api\"].request(r)\n",
    "data[\"account_data\"] = r.response\n",
    "data[\"account_balance\"] = float(data[\"account_data\"][\"account\"][\"balance\"])\n",
    "\n",
    "data[\"invest_amount\"] = data[\"account_balance\"] / data[\"balance_invest_ratio\"]\n",
    "data[\"order_amount\"] = int(np.floor(data[\"invest_amount\"] * data[\"leverage\"]))\n",
    "\n",
    "\n",
    "print(f'account_balance: {data[\"account_balance\"]} ')\n",
    "print(f'invest_amount: {data[\"invest_amount\"]} ')\n",
    "print(f'order_amount: {data[\"order_amount\"]} ')"
   ]
  }
 ],
 "metadata": {
  "kernelspec": {
   "display_name": "Python 3.6.6 64-bit",
   "language": "python",
   "name": "python36664bitab910dfda0bc43a8bf7df0c20d1c59f2"
  },
  "language_info": {
   "codemirror_mode": {
    "name": "ipython",
    "version": 3
   },
   "file_extension": ".py",
   "mimetype": "text/x-python",
   "name": "python",
   "nbconvert_exporter": "python",
   "pygments_lexer": "ipython3",
   "version": "3.6.6"
  }
 },
 "nbformat": 4,
 "nbformat_minor": 4
}
