{
 "cells": [
  {
   "cell_type": "markdown",
   "metadata": {},
   "source": [
    "# ML Trader"
   ]
  },
  {
   "cell_type": "code",
   "execution_count": 1,
   "metadata": {},
   "outputs": [],
   "source": [
    "from utils.packages import *\n",
    "from utils.variables import *\n",
    "from utils.i_o import *\n",
    "from utils.dir_slope import *\n",
    "from utils.engine import *\n",
    "from utils.loops import *\n",
    "from utils.order import *"
   ]
  },
  {
   "cell_type": "code",
   "execution_count": 2,
   "metadata": {
    "scrolled": false
   },
   "outputs": [
    {
     "name": "stderr",
     "output_type": "stream",
     "text": [
      " 14%|████                          | 611950/4513175 [1:55:10<13:58:26, 77.55it/s]"
     ]
    },
    {
     "name": "stdout",
     "output_type": "stream",
     "text": [
      "pls    0.0061\n",
      "dtype: float64\n",
      "--------------------------------------\n",
      "                  date     pls\n",
      "0  2021-01-05 01:00:15  0.0028\n",
      "1  2021-01-05 08:11:33 -0.0012\n",
      "2  2021-01-05 14:15:38 -0.0002\n",
      "3  2021-01-06 00:56:57  0.0031\n",
      "4  2021-01-06 03:16:50 -0.0001\n",
      "5  2021-01-06 04:57:27 -0.0012\n",
      "6  2021-01-06 05:19:05 -0.0008\n",
      "7  2021-01-06 17:14:30  0.0028\n",
      "8  2021-01-07 06:41:02 -0.0004\n",
      "9  2021-01-07 14:30:11 -0.0011\n",
      "10 2021-01-07 16:58:25 -0.0006\n",
      "11 2021-01-07 19:27:44 -0.0002\n",
      "12 2021-01-08 09:59:11  0.0013\n",
      "13 2021-01-08 15:57:21  0.0002\n",
      "14 2021-01-08 16:09:24 -0.0006\n",
      "15 2021-01-08 16:19:14 -0.0010\n",
      "16 2021-01-08 16:24:25 -0.0011\n",
      "17 2021-01-08 16:37:00 -0.0011\n",
      "18 2021-01-11 08:09:21  0.0055\n"
     ]
    },
    {
     "name": "stderr",
     "output_type": "stream",
     "text": [
      " 14%|████                          | 613283/4513175 [1:55:27<12:14:09, 88.53it/s]\n",
      "\n",
      "KeyboardInterrupt\n",
      "\n"
     ]
    }
   ],
   "source": [
    "data = get_date_list(data)\n",
    "data = read_data(data)\n",
    "data = run_engine(data)\n",
    "\n",
    "if data[\"plot\"]:\n",
    "    plot_graph(data)\n",
    "    \n",
    "print('-----------------------------------------------------')\n",
    "print_report(data)\n",
    "print('-----------------------------------------------------')\n",
    "print(data['report_df'].groupby(['date_val'])['pls'].sum())\n",
    "print('-----------------------------------------------------')\n",
    "print(data['report_df']['pls'].value_counts())\n",
    "print('-----------------------------------------------------')\n",
    "data['report_df']"
   ]
  }
 ],
 "metadata": {
  "kernelspec": {
   "display_name": "Python 3",
   "language": "python",
   "name": "python3"
  },
  "language_info": {
   "codemirror_mode": {
    "name": "ipython",
    "version": 3
   },
   "file_extension": ".py",
   "mimetype": "text/x-python",
   "name": "python",
   "nbconvert_exporter": "python",
   "pygments_lexer": "ipython3",
   "version": "3.6.6"
  }
 },
 "nbformat": 4,
 "nbformat_minor": 4
}
