{
 "cells": [
  {
   "cell_type": "markdown",
   "metadata": {},
   "source": [
    "# ML Trader"
   ]
  },
  {
   "cell_type": "code",
   "execution_count": 1,
   "metadata": {
    "scrolled": true
   },
   "outputs": [],
   "source": [
    "from utils.packages import *\n",
    "from utils.time_tick import *\n",
    "from utils.variables import *\n",
    "from utils.i_o import *\n",
    "from utils.dir_slope import *\n",
    "from utils.engine import *\n",
    "from utils.loops import *\n",
    "from utils.order import *\n",
    "warnings.filterwarnings('ignore')"
   ]
  },
  {
   "cell_type": "code",
   "execution_count": 2,
   "metadata": {},
   "outputs": [],
   "source": [
    "#--------------------------------------------------------------------------------------------------------------------------\n",
    "# ### Inputs and Parameters\n",
    "\n",
    "temp_file = 'config/access_keys.yaml'\n",
    "with open(temp_file) as temp_file:\n",
    "    config = yaml.load(temp_file)     \n",
    "    \n",
    "logging.basicConfig(filename='traderrun.log', level=logging.ERROR)\n",
    "\n",
    "data['instrument'] = \"EUR_USD\"\n",
    "data['account'] = 'oanda_demo_primary'\n",
    "\n",
    "data['access_token'] = config[data['account']]['token']\n",
    "data['accountID'] = config[data['account']]['account_id']\n",
    "data['params'] = {'instruments': data['instrument']}\n",
    "\n",
    "data['api'] = API(access_token = data['access_token'])\n",
    "data['request_stream_data'] = pricing.PricingStream(accountID=data['accountID'], params=data['params'])\n",
    "data['response_stream'] = data['api'].request(data['request_stream_data'])\n",
    "data[\"start_ts\"] = dt.datetime.strftime(dt.datetime.now(), '%Y-%m-%d-%H-%M')\n",
    "\n",
    "data = check_for_open_orders(data)\n",
    "data = check_for_open_orders(data)\n",
    "data = check_for_open_orders(data)"
   ]
  },
  {
   "cell_type": "code",
   "execution_count": 3,
   "metadata": {},
   "outputs": [],
   "source": [
    "data = check_for_open_orders(data)"
   ]
  },
  {
   "cell_type": "code",
   "execution_count": 4,
   "metadata": {
    "scrolled": true
   },
   "outputs": [
    {
     "name": "stdout",
     "output_type": "stream",
     "text": [
      "---------------------------\n",
      "iter            : 1143\n",
      "time            : 2021-Mar-30, 03:00:29 (PM)\n",
      "tick            : 1.1746\n",
      "sema len        : 60\n",
      "lema len        : 600\n",
      "sema            : 1.17462\n",
      "lema            : 1.17474\n",
      "position        : -1\n",
      "dir_change      : False\n",
      "to_order        : None\n",
      "sema angle      : -14.3\n",
      "lema angle      : -8.3\n",
      "pl              : 0.0001100000000000545\n",
      "---------------------------\n",
      "15.559734\n"
     ]
    },
    {
     "ename": "ValueError",
     "evalue": "Time difference is above limit",
     "output_type": "error",
     "traceback": [
      "\u001b[1;31m---------------------------------------------------------------------------\u001b[0m",
      "\u001b[1;31mValueError\u001b[0m                                Traceback (most recent call last)",
      "\u001b[1;32m<ipython-input-4-9cda4e29af06>\u001b[0m in \u001b[0;36m<module>\u001b[1;34m\u001b[0m\n\u001b[0;32m     13\u001b[0m     \u001b[1;32mif\u001b[0m \u001b[0mdata\u001b[0m\u001b[1;33m[\u001b[0m\u001b[1;34m'time_diff'\u001b[0m\u001b[1;33m]\u001b[0m \u001b[1;33m>\u001b[0m \u001b[0mdata\u001b[0m\u001b[1;33m[\u001b[0m\u001b[1;34m'max_time_diff'\u001b[0m\u001b[1;33m]\u001b[0m\u001b[1;33m:\u001b[0m\u001b[1;33m\u001b[0m\u001b[0m\n\u001b[0;32m     14\u001b[0m         \u001b[0mprint\u001b[0m\u001b[1;33m(\u001b[0m\u001b[0mdata\u001b[0m\u001b[1;33m[\u001b[0m\u001b[1;34m'time_diff'\u001b[0m\u001b[1;33m]\u001b[0m\u001b[1;33m)\u001b[0m\u001b[1;33m\u001b[0m\u001b[0m\n\u001b[1;32m---> 15\u001b[1;33m         \u001b[1;32mraise\u001b[0m \u001b[0mValueError\u001b[0m\u001b[1;33m(\u001b[0m\u001b[1;34m'Time difference is above limit'\u001b[0m\u001b[1;33m)\u001b[0m\u001b[1;33m\u001b[0m\u001b[0m\n\u001b[0m\u001b[0;32m     16\u001b[0m \u001b[1;33m\u001b[0m\u001b[0m\n\u001b[0;32m     17\u001b[0m     \u001b[1;31m# Get Data ---------------------------------------------\u001b[0m\u001b[1;33m\u001b[0m\u001b[1;33m\u001b[0m\u001b[0m\n",
      "\u001b[1;31mValueError\u001b[0m: Time difference is above limit"
     ]
    }
   ],
   "source": [
    "for data['iter'], data['resp'] in enumerate(data['response_stream']):\n",
    "    \n",
    "    \n",
    "    # Heartbeat check ---------------------------------------------\n",
    "    if data['resp']['type'] == 'HEARTBEAT': # Heart beat response to keep the data['api'] connection alive (Avoid timeout)\n",
    "        continue\n",
    "\n",
    "    # Get time ---------------------------------------------\n",
    "    data = get_date_time(data)\n",
    "        \n",
    "    \n",
    "    # Time diff check ---------------------------------------------\n",
    "    if data['time_diff'] > data['max_time_diff']:        \n",
    "        print(data['time_diff'])\n",
    "        raise ValueError('Time difference is above limit')\n",
    "    \n",
    "    # Get Data ---------------------------------------------\n",
    "    data = get_prices(data)\n",
    "    \n",
    "    print_report(data)\n",
    "    \n",
    "    # sema before after loops --------------------------------\n",
    "    if len(data['sema_tick_list']) < data['sema_len']:\n",
    "        data =  before_sema(data)\n",
    "\n",
    "    if len(data['sema_tick_list']) == data['sema_len']:\n",
    "        data = after_sema(data)                 \n",
    "    # ----------------------------------------------------------\n",
    "\n",
    "\n",
    "    # lema before after loops --------------------------------\n",
    "    if len(data['lema_tick_list']) < data['lema_len']:\n",
    "        data = before_lema(data)        \n",
    "        continue\n",
    "\n",
    "    if len(data['lema_tick_list']) == data['lema_len']:\n",
    "        data = after_lema(data)                  \n",
    "    # ----------------------------------------------------------\n",
    "\n",
    "    \n",
    "\n",
    "    # Angle of Sema and Lema --------------------------------\n",
    "    if len(data['sema_angle_list']) < data['angle_len']:\n",
    "        data = before_angle(data)        \n",
    "        continue\n",
    "\n",
    "    if len(data['sema_angle_list']) == data['angle_len']:\n",
    "        data = after_angle(data)                  \n",
    "    # ----------------------------------------------------------\n",
    "    \n",
    "    \n",
    "    data = get_position(data)\n",
    "\n",
    "    # Get Dirs --------------------------------\n",
    "    if len(data['dir_list']) < 2:\n",
    "        data['dir_list'].append(data['position'])   \n",
    "        continue\n",
    "\n",
    "    elif len(data['dir_list']) == 2:\n",
    "        data = get_cross_dir(data)\n",
    "    # ----------------------------------------------------------  \n",
    "    \n",
    "    data = check_for_open_orders(data)\n",
    "    data = angle_close(data)\n",
    "    \n",
    "    data = check_for_open_orders(data)\n",
    "    data = reverse_order(data)\n",
    "    \n",
    "    data = check_for_open_orders(data)\n",
    "    data = make_order(data)    "
   ]
  }
 ],
 "metadata": {
  "kernelspec": {
   "display_name": "Python 3",
   "language": "python",
   "name": "python3"
  },
  "language_info": {
   "codemirror_mode": {
    "name": "ipython",
    "version": 3
   },
   "file_extension": ".py",
   "mimetype": "text/x-python",
   "name": "python",
   "nbconvert_exporter": "python",
   "pygments_lexer": "ipython3",
   "version": "3.6.6"
  }
 },
 "nbformat": 4,
 "nbformat_minor": 4
}
