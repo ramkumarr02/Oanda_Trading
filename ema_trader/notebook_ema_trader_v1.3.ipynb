{
 "cells": [
  {
   "cell_type": "markdown",
   "metadata": {},
   "source": [
    "# ML Trader"
   ]
  },
  {
   "cell_type": "code",
   "execution_count": null,
   "metadata": {
    "scrolled": true
   },
   "outputs": [],
   "source": [
    "from utils.packages import *\n",
    "from utils.time_tick import *\n",
    "from utils.variables import *\n",
    "from utils.i_o import *\n",
    "from utils.dir_slope import *\n",
    "from utils.engine import *\n",
    "from utils.loops import *\n",
    "from utils.order import *\n",
    "warnings.filterwarnings('ignore')"
   ]
  },
  {
   "cell_type": "code",
   "execution_count": null,
   "metadata": {},
   "outputs": [],
   "source": [
    "#--------------------------------------------------------------------------------------------------------------------------\n",
    "# ### Inputs and Parameters\n",
    "\n",
    "temp_file = 'config/access_keys.yaml'\n",
    "with open(temp_file) as temp_file:\n",
    "    config = yaml.load(temp_file)     \n",
    "    \n",
    "logging.basicConfig(filename='traderrun.log', level=logging.ERROR)\n",
    "\n",
    "data['access_token'] = config[data['account']]['token']\n",
    "data['accountID'] = config[data['account']]['account_id']\n",
    "data['params'] = {'instruments': data['instrument']}\n",
    "\n",
    "data['api'] = API(access_token = data['access_token'])\n",
    "data['request_stream_data'] = pricing.PricingStream(accountID=data['accountID'], params=data['params'])\n",
    "data['response_stream'] = data['api'].request(data['request_stream_data'])\n",
    "data[\"start_ts\"] = dt.datetime.strftime(dt.datetime.now(), '%Y-%m-%d-%H-%M')\n",
    "\n",
    "data = get_invest_details(data)\n",
    "\n",
    "data = check_for_open_orders(data)\n",
    "data = check_for_open_orders(data)\n",
    "data = check_for_open_orders(data)\n",
    "#--------------------------------------------------------------------------------------------------------------------------"
   ]
  },
  {
   "cell_type": "code",
   "execution_count": null,
   "metadata": {
    "scrolled": true
   },
   "outputs": [],
   "source": [
    "#--------------------------------------------------------------------------------------------------------------------------\n",
    "# Run\n",
    "\n",
    "if data['run_type'] == 'single':\n",
    "    data = run_engine(data)        \n",
    "\n",
    "elif data['run_type'] == 'loop':\n",
    "    while data[\"run_flg\"] ==  True:\n",
    "        try:        \n",
    "            data = run_engine(data)        \n",
    "        \n",
    "        except KeyboardInterrupt:\n",
    "            print(\"Run manually stopped\")\n",
    "            ts = dt.datetime.now()\n",
    "            err_msg = 'KeyboardInterrupt'\n",
    "            logging.error(f'--- Timestamp-{ts}, Error-{err_msg}')\n",
    "            break           \n",
    "        \n",
    "        except Exception as err_msg:\n",
    "            data['error_count'] = data['error_count'] + 1\n",
    "            ts = dt.datetime.now()\n",
    "            logging.error(f'--- Timestamp-{ts}, Error-{err_msg}')\n",
    "#==========================================================================================================================            "
   ]
  }
 ],
 "metadata": {
  "kernelspec": {
   "display_name": "Python 3",
   "language": "python",
   "name": "python3"
  },
  "language_info": {
   "codemirror_mode": {
    "name": "ipython",
    "version": 3
   },
   "file_extension": ".py",
   "mimetype": "text/x-python",
   "name": "python",
   "nbconvert_exporter": "python",
   "pygments_lexer": "ipython3",
   "version": "3.6.6"
  }
 },
 "nbformat": 4,
 "nbformat_minor": 4
}
