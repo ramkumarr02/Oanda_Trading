{
 "cells": [
  {
   "cell_type": "markdown",
   "metadata": {},
   "source": [
    "# Account Details"
   ]
  },
  {
   "cell_type": "markdown",
   "metadata": {},
   "source": [
    "## Packages & Parameters"
   ]
  },
  {
   "cell_type": "code",
   "execution_count": 1,
   "metadata": {},
   "outputs": [],
   "source": [
    "from utils.packages import *\n",
    "warnings.filterwarnings(\"ignore\")\n",
    "from tqdm import tqdm\n",
    "from IPython.display import display\n",
    "import pprint\n",
    "import json"
   ]
  },
  {
   "cell_type": "code",
   "execution_count": 2,
   "metadata": {},
   "outputs": [],
   "source": [
    "temp_file = \"config/access_keys.yaml\"\n",
    "with open(temp_file) as temp_file:\n",
    "    config = yaml.load(temp_file)     \n",
    "    \n",
    "data = {}    "
   ]
  },
  {
   "cell_type": "markdown",
   "metadata": {},
   "source": [
    "## Get Invest Details"
   ]
  },
  {
   "cell_type": "code",
   "execution_count": 5,
   "metadata": {
    "scrolled": true
   },
   "outputs": [],
   "source": [
    "def get_invest_details():\n",
    "    global data\n",
    "    data[\"access_token\"] = config[data['account_name']][\"token\"]\n",
    "    data[\"accountID\"] = config[data['account_name']][\"account_id\"]\n",
    "    data[\"api\"] = API(access_token = data[\"access_token\"])\n",
    "    r = accounts.AccountDetails(data[\"accountID\"])\n",
    "\n",
    "    data[\"api\"].request(r)\n",
    "    data[\"account_data\"] = r.response\n",
    "    data[\"account_balance\"] = float(data[\"account_data\"][\"account\"][\"balance\"])\n",
    "\n",
    "    data[\"order_amount\"] = data[\"account_balance\"] * data[\"invest_ratio\"] * 0.8\n",
    "    data[\"order_amount\"] = int(np.floor(data[\"order_amount\"]))\n",
    "\n",
    "    print('------------')\n",
    "    print(f'account_name      : {data[\"account_name\"]}')  \n",
    "    print(f'account_balance   : {data[\"account_balance\"]} ')\n",
    "    print(f'order_amount      : {data[\"order_amount\"]} ')\n",
    "    print('------------')\n",
    "    return(data)"
   ]
  },
  {
   "cell_type": "code",
   "execution_count": null,
   "metadata": {},
   "outputs": [],
   "source": [
    "data[\"invest_ratio\"] = 12.635353654172\n",
    "account_list = ['oanda_demo_primary','oanda_demo_1', 'oanda_demo_2']\n",
    "\n",
    "for acc_name in account_list:\n",
    "    data['account_name'] = acc_name\n",
    "    get_invest_details()"
   ]
  },
  {
   "cell_type": "code",
   "execution_count": 3,
   "metadata": {},
   "outputs": [],
   "source": [
    "def get_candle_size(data):\n",
    "    params = {\"count\": data['candle_count']+1, \"granularity\": data['candle_granularity']}\n",
    "    candle_size_data = instruments.InstrumentsCandles(instrument=\"EUR_USD\", params=params)\n",
    "    data['candle_size_info'] = data[\"api\"].request(candle_size_data)\n",
    "    \n",
    "    height_list = []\n",
    "    for candle in data['candle_size_info']['candles']:\n",
    "        if candle['complete']:\n",
    "            height_list.append(np.float(candle['mid']['h']) - np.float(candle['mid']['l']))\n",
    "    \n",
    "    data['candle_avg_height'] = np.mean(height_list)\n",
    "    return(data)"
   ]
  },
  {
   "cell_type": "code",
   "execution_count": 4,
   "metadata": {},
   "outputs": [
    {
     "ename": "KeyError",
     "evalue": "'api'",
     "output_type": "error",
     "traceback": [
      "\u001b[1;31m---------------------------------------------------------------------------\u001b[0m",
      "\u001b[1;31mKeyError\u001b[0m                                  Traceback (most recent call last)",
      "\u001b[1;32m<timed exec>\u001b[0m in \u001b[0;36m<module>\u001b[1;34m\u001b[0m\n",
      "\u001b[1;32m<ipython-input-3-979df1183db3>\u001b[0m in \u001b[0;36mget_candle_size\u001b[1;34m(data)\u001b[0m\n\u001b[0;32m      2\u001b[0m     \u001b[0mparams\u001b[0m \u001b[1;33m=\u001b[0m \u001b[1;33m{\u001b[0m\u001b[1;34m\"count\"\u001b[0m\u001b[1;33m:\u001b[0m \u001b[0mdata\u001b[0m\u001b[1;33m[\u001b[0m\u001b[1;34m'candle_count'\u001b[0m\u001b[1;33m]\u001b[0m\u001b[1;33m+\u001b[0m\u001b[1;36m1\u001b[0m\u001b[1;33m,\u001b[0m \u001b[1;34m\"granularity\"\u001b[0m\u001b[1;33m:\u001b[0m \u001b[0mdata\u001b[0m\u001b[1;33m[\u001b[0m\u001b[1;34m'candle_granularity'\u001b[0m\u001b[1;33m]\u001b[0m\u001b[1;33m}\u001b[0m\u001b[1;33m\u001b[0m\u001b[0m\n\u001b[0;32m      3\u001b[0m     \u001b[0mcandle_size_data\u001b[0m \u001b[1;33m=\u001b[0m \u001b[0minstruments\u001b[0m\u001b[1;33m.\u001b[0m\u001b[0mInstrumentsCandles\u001b[0m\u001b[1;33m(\u001b[0m\u001b[0minstrument\u001b[0m\u001b[1;33m=\u001b[0m\u001b[1;34m\"EUR_USD\"\u001b[0m\u001b[1;33m,\u001b[0m \u001b[0mparams\u001b[0m\u001b[1;33m=\u001b[0m\u001b[0mparams\u001b[0m\u001b[1;33m)\u001b[0m\u001b[1;33m\u001b[0m\u001b[0m\n\u001b[1;32m----> 4\u001b[1;33m     \u001b[0mdata\u001b[0m\u001b[1;33m[\u001b[0m\u001b[1;34m'candle_size_info'\u001b[0m\u001b[1;33m]\u001b[0m \u001b[1;33m=\u001b[0m \u001b[0mdata\u001b[0m\u001b[1;33m[\u001b[0m\u001b[1;34m\"api\"\u001b[0m\u001b[1;33m]\u001b[0m\u001b[1;33m.\u001b[0m\u001b[0mrequest\u001b[0m\u001b[1;33m(\u001b[0m\u001b[0mcandle_size_data\u001b[0m\u001b[1;33m)\u001b[0m\u001b[1;33m\u001b[0m\u001b[0m\n\u001b[0m\u001b[0;32m      5\u001b[0m \u001b[1;33m\u001b[0m\u001b[0m\n\u001b[0;32m      6\u001b[0m     \u001b[0mheight_list\u001b[0m \u001b[1;33m=\u001b[0m \u001b[1;33m[\u001b[0m\u001b[1;33m]\u001b[0m\u001b[1;33m\u001b[0m\u001b[0m\n",
      "\u001b[1;31mKeyError\u001b[0m: 'api'"
     ]
    }
   ],
   "source": [
    "%%time\n",
    "data['candle_count'] = 5\n",
    "data['candle_granularity'] = \"H4\"\n",
    "data = get_candle_size(data)\n",
    "print(data['candle_avg_height'])"
   ]
  },
  {
   "cell_type": "markdown",
   "metadata": {},
   "source": [
    "## Get Net PL"
   ]
  },
  {
   "cell_type": "code",
   "execution_count": null,
   "metadata": {
    "scrolled": true
   },
   "outputs": [],
   "source": [
    "def get_net_pl():\n",
    "    global data\n",
    "    \n",
    "    start_date = datetime(year=data['start_date']['year'],\n",
    "                          month=data['start_date']['month'],\n",
    "                          day=data['start_date']['date'],\n",
    "                          hour = data['start_date']['hour'],\n",
    "                          minute=data['start_date']['min']) - dt.timedelta(hours=8)\n",
    "    \n",
    "    end_date = datetime(year=data['end_date']['year'],\n",
    "                          month=data['end_date']['month'],\n",
    "                          day=data['end_date']['date'],\n",
    "                          hour = data['end_date']['hour'],\n",
    "                          minute=data['end_date']['min']) - dt.timedelta(hours=8)\n",
    "    \n",
    "    data[\"access_token\"] = config[data['account_name']][\"token\"]\n",
    "    data[\"accountID\"] = config[data['account_name']][\"account_id\"]\n",
    "    data[\"api\"] = API(access_token = data[\"access_token\"])\n",
    "    \n",
    "    \n",
    "    request_obj = trans.TransactionList(accountID=data[\"accountID\"], params={\"pageSize\": 1000})\n",
    "    data[\"api\"].request(request_obj)\n",
    "    last_transaction = int(request_obj.response['lastTransactionID'])\n",
    "\n",
    "    for trans_id in tqdm(reversed(range(1,last_transaction))):\n",
    "        request_obj = trans.TransactionDetails(accountID=data[\"accountID\"], transactionID = trans_id)\n",
    "        data[\"api\"].request(request_obj)\n",
    "        trans_time_val = request_obj.response['transaction']['time']\n",
    "        trans_date = dt.datetime.strptime(trans_time_val.split(\".\")[0], \"%Y-%m-%dT%H:%M:%S\")\n",
    "\n",
    "        if trans_date >= start_date:\n",
    "            first_trans_id = trans_id\n",
    "        else:\n",
    "            break\n",
    "\n",
    "    params = {\"from\": first_trans_id, \"to\": last_transaction}\n",
    "    request_obj = trans.TransactionIDRange(accountID=data[\"accountID\"], params=params)\n",
    "    data[\"api\"].request(request_obj)\n",
    "    all_transactions = request_obj.response   \n",
    "\n",
    "\n",
    "    pl_list = []\n",
    "    for t in all_transactions['transactions']:\n",
    "        trans_ts = dt.datetime.strptime(t['time'].split(\".\")[0], \"%Y-%m-%dT%H:%M:%S\")\n",
    "        if trans_ts > end_date:\n",
    "            break\n",
    "        try:\n",
    "            pl_val = float(t['pl'])\n",
    "            if pl_val != 0.0:\n",
    "                pl_list.append(pl_val)\n",
    "        except:\n",
    "            pass\n",
    "\n",
    "    num_transactions = len(pl_list)\n",
    "    net_pl = round(np.sum(pl_list),5)\n",
    "\n",
    "    positive_pls = [i for i in pl_list if i > 0]\n",
    "    negative_pls = [i for i in pl_list if i < 0]\n",
    "\n",
    "    num_positive = len(positive_pls)\n",
    "    num_negative = len(negative_pls)\n",
    "\n",
    "    sum_positive = round(np.sum(positive_pls),5)\n",
    "    sum_negative = round(np.sum(negative_pls),5)\n",
    "    sum_total    = round(sum_positive + abs(sum_negative),5) \n",
    "\n",
    "    avg_positive = round(np.mean(positive_pls),5)\n",
    "    avg_negative = round(np.mean(negative_pls),5)\n",
    "    \n",
    "    print('-------------')\n",
    "    print(f'account_name      : {data[\"account_name\"]}')    \n",
    "    print(f'start_ts          : {start_date + dt.timedelta(hours=8)}')    \n",
    "    print(f'end_ts            : {end_date + dt.timedelta(hours=8)}')    \n",
    "    print('-------------')\n",
    "    print(f'num_transactions  : {num_transactions}')\n",
    "    print('==============================')\n",
    "    print(f'net_pl            : {net_pl}/{sum_total}')  \n",
    "    print('==============================')\n",
    "    print('-------------')\n",
    "    print(f'+ve               : num= {num_positive}    sum= +{sum_positive}    avg= +{avg_positive}')\n",
    "    print(f'-ve               : num= {num_negative}    sum= {sum_negative}    avg= {avg_negative}')\n",
    "    print('-------------')\n",
    "\n",
    "    df = pd.DataFrame(pl_list, columns = ['pls'])\n",
    "    \n",
    "    values = list(df['pls'].value_counts().index)\n",
    "    counts = list(df['pls'].value_counts().values)\n",
    "\n",
    "    df_report = pd.DataFrame({'values':values,'counts':counts})\n",
    "    df_report['act_val'] = df_report['values'] * df_report['counts']\n",
    "    df_report = df_report.sort_values(by='values')\n",
    "    df_report = df_report.reset_index(drop = True)\n",
    "    display(df_report)\n",
    "    print(pl_list)\n",
    "    print('-------------')\n",
    "    return(all_transactions, pl_list)"
   ]
  },
  {
   "cell_type": "code",
   "execution_count": null,
   "metadata": {},
   "outputs": [],
   "source": [
    "data['start_date'] = {'year':2021, 'month':4, 'date':8, \n",
    "                      'hour':0, 'min':1}\n",
    "\n",
    "data['end_date'] = {'year':2021, 'month':4, 'date':9, \n",
    "                    'hour':19, 'min':30}"
   ]
  },
  {
   "cell_type": "code",
   "execution_count": null,
   "metadata": {
    "scrolled": false
   },
   "outputs": [],
   "source": [
    "#account_list = ['oanda_demo_primary']\n",
    "account_list = ['oanda_demo_1']\n",
    "#account_list = ['oanda_demo_2']\n",
    "#account_list = ['oanda_demo_primary','oanda_demo_1', 'oanda_demo_2']\n",
    "\n",
    "for acc_name in account_list:\n",
    "    data['account_name'] = acc_name\n",
    "    try:\n",
    "        all_transactions, pl_list = get_net_pl()\n",
    "    except KeyboardInterrupt:\n",
    "        print(f'Manually Stopped')\n",
    "        break\n",
    "    except:\n",
    "        print(f'No Transactions yet in {acc_name}')"
   ]
  }
 ],
 "metadata": {
  "kernelspec": {
   "display_name": "Python 3.6.6 64-bit",
   "language": "python",
   "name": "python36664bitab910dfda0bc43a8bf7df0c20d1c59f2"
  },
  "language_info": {
   "codemirror_mode": {
    "name": "ipython",
    "version": 3
   },
   "file_extension": ".py",
   "mimetype": "text/x-python",
   "name": "python",
   "nbconvert_exporter": "python",
   "pygments_lexer": "ipython3",
   "version": "3.6.6"
  }
 },
 "nbformat": 4,
 "nbformat_minor": 4
}
