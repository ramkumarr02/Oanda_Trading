{
 "cells": [
  {
   "cell_type": "code",
   "execution_count": 1,
   "metadata": {},
   "outputs": [],
   "source": [
    "# # ML Trader\n",
    "import numpy as np\n",
    "import pandas as pd\n",
    "\n",
    "import collections\n",
    "\n",
    "from tqdm import tqdm\n",
    "\n",
    "from IPython import display\n",
    "import matplotlib.pyplot as plt\n",
    "from matplotlib.pyplot import figure\n",
    "\n",
    "import datetime as dt\n",
    "\n",
    "import winsound\n",
    "\n",
    "import warnings\n",
    "warnings.filterwarnings('ignore')"
   ]
  },
  {
   "cell_type": "code",
   "execution_count": 2,
   "metadata": {},
   "outputs": [],
   "source": [
    "def before_sema(data):   \n",
    "    data['sema_list'].append(data['tick'])    \n",
    "    return(data)\n",
    "\n",
    "def after_sema(data):     \n",
    "    data['sema_list'].popleft()\n",
    "    data['sema_list'].append(data['tick'])\n",
    "    data['sema'] = list(pd.DataFrame(list(data['sema_list'])).ewm(span=data['sema_len']).mean()[0])[-1]\n",
    "    return(data)\n",
    "\n",
    "def before_lema(data):   \n",
    "    data['lema_list'].append(data['tick'])    \n",
    "    return(data)\n",
    "\n",
    "def after_lema(data):     \n",
    "    data['lema_list'].popleft()\n",
    "    data['lema_list'].append(data['tick'])\n",
    "    data['lema'] = list(pd.DataFrame(list(data['lema_list'])).ewm(span=data['lema_len']).mean()[0])[-1]\n",
    "    return(data)"
   ]
  },
  {
   "cell_type": "code",
   "execution_count": 3,
   "metadata": {},
   "outputs": [],
   "source": [
    "def print_report(data):\n",
    "    display.clear_output(wait = True)\n",
    "    print('--------------------------')\n",
    "    print(f'Total PL : {sum(data[\"pl_list\"])}')\n",
    "    print('-----------')\n",
    "    print(data['pl_list'])\n",
    "    print('--------------------------')\n",
    "    return()"
   ]
  },
  {
   "cell_type": "code",
   "execution_count": 4,
   "metadata": {},
   "outputs": [],
   "source": [
    "def read_data(data):\n",
    "    source_file_path = f'..\\\\data\\\\yearly_tick_data\\\\{data[\"year\"]}.csv'\n",
    "\n",
    "    if data['input_rows'] is None:\n",
    "        data[\"df\"] = pd.read_csv(source_file_path)\n",
    "    else:\n",
    "        data[\"df\"] = pd.read_csv(source_file_path, nrows=data['input_rows'])\n",
    "        \n",
    "    data[\"df\"] = data[\"df\"][data[\"df\"]['DateTime'].str.contains('|'.join(data['date_list']))]\n",
    "#     data[\"df\"] = data[\"df\"][data[\"df\"]['DateTime'].str.contains(data['date_val'])]\n",
    "    \n",
    "    data[\"df\"]['tick'] = np.float()\n",
    "    data[\"df\"]['sema'] = np.float()\n",
    "    data[\"df\"]['lema'] = np.float()\n",
    "    \n",
    "    return(data[\"df\"])"
   ]
  },
  {
   "cell_type": "code",
   "execution_count": 5,
   "metadata": {},
   "outputs": [],
   "source": [
    "def get_dir(data):\n",
    "    \n",
    "    if data['sema'] > data['lema']:\n",
    "        data['position'] = 1\n",
    "\n",
    "    elif data['sema'] < data['lema']:\n",
    "        data['position'] = -1\n",
    "    \n",
    "    return(data)"
   ]
  },
  {
   "cell_type": "code",
   "execution_count": 6,
   "metadata": {},
   "outputs": [],
   "source": [
    "def after_dir(data):   \n",
    "    \n",
    "    data['dir_list'].popleft()\n",
    "    data['dir_list'].append(data['position'])   \n",
    "    \n",
    "    if sum(data['dir_list']) != 0:\n",
    "        data['dir_change'] = False\n",
    "\n",
    "    elif sum(data['dir_list']) == 0:\n",
    "        data['dir_change'] = True\n",
    "        #print(data['dir_list'])\n",
    "\n",
    "    return(data)"
   ]
  },
  {
   "cell_type": "code",
   "execution_count": 7,
   "metadata": {},
   "outputs": [],
   "source": [
    "def make_order(data):\n",
    "    if not data['open_order']:\n",
    "        if data['dir_change']:\n",
    "            if data['position'] > 0:\n",
    "                data['order_ask_price'] = data['ask']\n",
    "                data['open_order'] = True\n",
    "                data['open_order_type'] = 'long'\n",
    "                \n",
    "                data['buy_markers_x'].append(data[\"df\"]['i'].iloc[-1])\n",
    "                data['buy_markers_y'].append(data['ask'])\n",
    "                \n",
    "            elif data['position'] < 0:\n",
    "                data['order_bid_price'] = data['bid']\n",
    "                data['open_order'] = True\n",
    "                data['open_order_type'] = 'short'\n",
    "                \n",
    "                data['buy_markers_x'].append(data[\"df\"]['i'].iloc[-1])\n",
    "                data['buy_markers_y'].append(data['bid'])\n",
    "                \n",
    "    return(data)"
   ]
  },
  {
   "cell_type": "code",
   "execution_count": 8,
   "metadata": {},
   "outputs": [],
   "source": [
    "def close_order(data):\n",
    "    if data['open_order']:\n",
    "        if data['dir_change']:\n",
    "            if data['position'] < 0:\n",
    "                data['close_bid_price'] = data['bid']\n",
    "                data['pl'] = np.round(data['close_bid_price'] - data['order_ask_price'], 4)\n",
    "                data['pl_list'].append(data['pl'])\n",
    "                data['dt_list'].append(data['dt_val'])\n",
    "                data['open_order'] = False\n",
    "                \n",
    "                data['sell_markers_x'].append(data[\"df\"]['i'].iloc[-1])\n",
    "                data['sell_markers_y'].append(data['bid'])               \n",
    "                \n",
    "            elif data['position'] > 0:\n",
    "                data['close_ask_price'] = data['ask']\n",
    "                data['pl'] = np.round(data['order_bid_price'] - data['close_ask_price'], 4)\n",
    "                data['pl_list'].append(data['pl'])\n",
    "                data['dt_list'].append(data['dt_val'])\n",
    "                data['open_order'] = False\n",
    "                \n",
    "                data['sell_markers_x'].append(data[\"df\"]['i'].iloc[-1])\n",
    "                data['sell_markers_y'].append(data['ask'])                  \n",
    "                \n",
    "    return(data)"
   ]
  },
  {
   "cell_type": "code",
   "execution_count": 9,
   "metadata": {},
   "outputs": [],
   "source": [
    "def tick_close(data):\n",
    "    if data['open_order']:\n",
    "        if data['open_order_type'] == 'short':\n",
    "            if data['tick'] - data['lema'] >= 0:\n",
    "                data['close_ask_price'] = data['ask']\n",
    "                data['pl'] = np.round(data['order_bid_price'] - data['close_ask_price'], 4)\n",
    "                data['pl_list'].append(data['pl'])\n",
    "                data['dt_list'].append(data['dt_val'])\n",
    "                data['open_order'] = False\n",
    "                \n",
    "                data['sell_markers_x'].append(data[\"df\"]['i'].iloc[-1])\n",
    "                data['sell_markers_y'].append(data['ask'])  \n",
    "                \n",
    "        if data['open_order_type'] == 'long':\n",
    "            if data['lema'] - data['tick'] >= 0:\n",
    "                data['close_bid_price'] = data['bid']\n",
    "                data['pl'] = np.round(data['close_bid_price'] - data['order_ask_price'], 4)\n",
    "                data['pl_list'].append(data['pl'])\n",
    "                data['dt_list'].append(data['dt_val'])\n",
    "                data['open_order'] = False\n",
    "                \n",
    "                data['sell_markers_x'].append(data[\"df\"]['i'].iloc[-1])\n",
    "                data['sell_markers_y'].append(data['bid'])                  \n",
    "                \n",
    "    return(data)"
   ]
  },
  {
   "cell_type": "code",
   "execution_count": 10,
   "metadata": {},
   "outputs": [],
   "source": [
    "def get_date_list(data):\n",
    "    \n",
    "    data['start_date'] = dt.datetime(year=data['start_date']['year'],\n",
    "                      month=data['start_date']['month'],\n",
    "                      day=data['start_date']['date'])\n",
    "\n",
    "    data['end_date'] = dt.datetime(year=data['end_date']['year'],\n",
    "                      month=data['end_date']['month'],\n",
    "                      day=data['end_date']['date'])\n",
    "\n",
    "    \n",
    "    date_list = list(pd.date_range(data['start_date'],data['end_date'],freq='d').values)\n",
    "    data['date_list'] = [str(x).split('T')[0].replace('-','') for x in date_list]\n",
    "    return(data)"
   ]
  },
  {
   "cell_type": "code",
   "execution_count": 11,
   "metadata": {},
   "outputs": [],
   "source": [
    "def get_run_duration(data):\n",
    "    run_time = len(data[\"date_list\"]) * 6\n",
    "    hours = run_time//60\n",
    "    mins = run_time%60\n",
    "    print(f'Approx run time : {hours}-hours : {mins}-mins')"
   ]
  },
  {
   "cell_type": "code",
   "execution_count": 12,
   "metadata": {},
   "outputs": [],
   "source": [
    "def split_date_col(data):\n",
    "    data['total_df']['year_val'] = [x.year for x in data['total_df']['date']]\n",
    "    data['total_df']['month_val'] = [x.month for x in data['total_df']['date']]\n",
    "    data['total_df']['date_val'] = [x.day for x in data['total_df']['date']]\n",
    "    data['total_df']['hour_val'] = [x.hour for x in data['total_df']['date']]\n",
    "    data['total_df']['minute_val'] = [x.minute for x in data['total_df']['date']]"
   ]
  },
  {
   "cell_type": "code",
   "execution_count": 13,
   "metadata": {},
   "outputs": [],
   "source": [
    "def get_date_lines(data):\n",
    "    data['line_list'] = []\n",
    "    \n",
    "    for dt_val  in data['date_list']:    \n",
    "        data['line_list'].append(data[\"df\"][data[\"df\"]['DateTime'].str.contains(dt_val)].index[0])\n",
    "    \n",
    "    return(data)"
   ]
  },
  {
   "cell_type": "code",
   "execution_count": 14,
   "metadata": {},
   "outputs": [],
   "source": [
    "def plot_graph(data):\n",
    "    fig, ax = plt.subplots(figsize=(50,10))\n",
    "\n",
    "    x_axis = np.arange(0,len(data[\"df\"]['tick']))\n",
    "\n",
    "    ax.plot(x_axis, data[\"df\"]['tick'], label='tick', color='green')\n",
    "    ax.plot(x_axis, data[\"df\"]['sema'], label='sema', color='blue')\n",
    "    ax.plot(x_axis, data[\"df\"]['lema'], label='lema', color='red')\n",
    "    \n",
    "    data = get_date_lines(data)\n",
    "    \n",
    "    plt.axvline(x=data['line_list'], color='black')\n",
    "    \n",
    "    ax.scatter(data['buy_markers_x'], data['buy_markers_y'], s=300, c='b')\n",
    "    ax.scatter(data['sell_markers_x'], data['sell_markers_y'], s=300, c='r')\n",
    "\n",
    "    legend = ax.legend(loc='upper left', fontsize='xx-large')\n",
    "    plt.xlabel('tick num')\n",
    "    plt.ylabel('prices')\n",
    "    plt.title('trade chart')\n",
    "    plt.show()"
   ]
  },
  {
   "cell_type": "code",
   "execution_count": 15,
   "metadata": {},
   "outputs": [],
   "source": [
    "def print_report(data):\n",
    "    pl_list = list(data['pl_list'])\n",
    "    net_pl = round(np.sum(pl_list),5)\n",
    "\n",
    "    positive_pls = [i for i in pl_list if i > 0]\n",
    "    negative_pls = [i for i in pl_list if i < 0]\n",
    "\n",
    "    num_positive = len(positive_pls)\n",
    "    num_negative = len(negative_pls)\n",
    "\n",
    "    sum_positive = round(np.sum(positive_pls),5)\n",
    "    sum_negative = round(np.sum(negative_pls),5)\n",
    "    sum_total    = round(sum_positive + abs(sum_negative),5) \n",
    "\n",
    "    avg_positive = round(np.mean(positive_pls),5)\n",
    "    avg_negative = round(np.mean(negative_pls),5)\n",
    "\n",
    "    \n",
    "    print('==============================')\n",
    "    print(f'date_val          : {data[\"date_list\"]}')    \n",
    "    print(f'Total PL : {sum(data[\"pl_list\"])}')\n",
    "    print('-------------')\n",
    "    print(f'net_pl            : {net_pl}/{sum_total}')  \n",
    "    print('-------------')\n",
    "    print(f'+ve               : num= {num_positive}    sum= +{sum_positive}    avg= +{avg_positive}')\n",
    "    print(f'-ve               : num= {num_negative}    sum= {sum_negative}    avg= {avg_negative}')\n",
    "    print('==============================')"
   ]
  },
  {
   "cell_type": "code",
   "execution_count": 16,
   "metadata": {
    "scrolled": false
   },
   "outputs": [],
   "source": [
    "def run_engine(data):\n",
    "    for i in tqdm(range(0, len(data[\"df\"]))):\n",
    "        \n",
    "        data['ask'] = data[\"df\"]['Ask'][i]\n",
    "        data['bid'] = data[\"df\"]['Bid'][i]\n",
    "        data['tick'] = (data['ask'] + data['bid'])/2    \n",
    "        data[\"df\"]['tick'][i] = data['tick']\n",
    "        \n",
    "        #data['dt_val'] = data[\"df\"]['DateTime'][i]        \n",
    "        data['dt_val'] = dt.datetime.strptime(data[\"df\"]['DateTime'][i].split(\".\")[0],\"%Y%m%d %H:%M:%S\")\n",
    "\n",
    "        # sema before after loops --------------------------------\n",
    "        if len(data['sema_list']) < data['sema_len']:\n",
    "            data =  before_sema(data)\n",
    "\n",
    "        if len(data['sema_list']) == data['sema_len']:\n",
    "            data = after_sema(data)     \n",
    "        # ----------------------------------------------------------\n",
    "\n",
    "\n",
    "        # lema before after loops --------------------------------\n",
    "        if len(data['lema_list']) < data['lema_len']:\n",
    "            data = before_lema(data)        \n",
    "            continue\n",
    "\n",
    "        if len(data['lema_list']) == data['lema_len']:\n",
    "            data = after_lema(data)        \n",
    "        # ----------------------------------------------------------\n",
    "\n",
    "\n",
    "        data[\"df\"]['sema'][i] = data['sema']\n",
    "        data[\"df\"]['lema'][i] = data['lema']\n",
    "        data['df']['i'] = i\n",
    "\n",
    "        data = get_dir(data)\n",
    "\n",
    "        # lema before after loops --------------------------------\n",
    "        if len(data['dir_list']) < 2:\n",
    "            data['dir_list'].append(data['position'])   \n",
    "            continue\n",
    "        elif len(data['dir_list']) == 2:\n",
    "            data = after_dir(data)\n",
    "        # ----------------------------------------------------------\n",
    "\n",
    "        data = tick_close(data)\n",
    "        data = close_order(data)\n",
    "        data = make_order(data)    \n",
    "\n",
    "    data['len_to_subtract'] = len(data[\"df\"][data[\"df\"]['lema'] == 0])\n",
    "    data['buy_markers_x'] = list(np.array(data['buy_markers_x']) - data['len_to_subtract'])\n",
    "    data['sell_markers_x'] = list(np.array(data['sell_markers_x']) - data['len_to_subtract'])\n",
    "    \n",
    "    data[\"df\"] = data[\"df\"][data[\"df\"]['sema'] != 0]\n",
    "    data[\"df\"] = data[\"df\"][data[\"df\"]['lema'] != 0]\n",
    "    data[\"df\"] = data[\"df\"].reset_index(drop = True)\n",
    "    \n",
    "    return(data)"
   ]
  },
  {
   "cell_type": "code",
   "execution_count": 17,
   "metadata": {},
   "outputs": [],
   "source": [
    "data = {}\n",
    "data[\"year\"] = 2021\n",
    "data['total_df'] = pd.DataFrame()\n",
    "data['sema_list'] = collections.deque()\n",
    "data['lema_list'] = collections.deque()\n",
    "data['dir_list'] = collections.deque()\n",
    "data['pl_list'] =  collections.deque()\n",
    "data['dt_list'] =  collections.deque()\n",
    "\n",
    "data['buy_markers_x'] = []\n",
    "data['buy_markers_y'] = []\n",
    "\n",
    "data['sell_markers_x'] = []\n",
    "data['sell_markers_y'] = []\n",
    "\n",
    "data['open_order_type'] = None"
   ]
  },
  {
   "cell_type": "code",
   "execution_count": 18,
   "metadata": {},
   "outputs": [],
   "source": [
    "data['input_rows'] = None\n",
    "\n",
    "data['start_date'] = {'year':2021, 'month':2, 'date':8}\n",
    "data['end_date']   = {'year':2021, 'month':2, 'date':10}\n",
    "\n",
    "data['sema_len'] = 5000\n",
    "data['lema_len'] = 10000"
   ]
  },
  {
   "cell_type": "code",
   "execution_count": null,
   "metadata": {
    "scrolled": false
   },
   "outputs": [
    {
     "name": "stderr",
     "output_type": "stream",
     "text": [
      "  0%|                                     | 121/211275 [00:00<03:12, 1099.62it/s]"
     ]
    },
    {
     "name": "stdout",
     "output_type": "stream",
     "text": [
      "Record num : 211275\n"
     ]
    },
    {
     "name": "stderr",
     "output_type": "stream",
     "text": [
      "  9%|███▎                                | 19213/211275 [01:14<20:59, 152.52it/s]"
     ]
    }
   ],
   "source": [
    "%%time\n",
    "data = get_date_list(data)\n",
    "read_data(data)\n",
    "#data[\"df\"] = data[\"df\"][0:100]\n",
    "print(f'Record num : {len(data[\"df\"])}')    \n",
    "data[\"df\"] = data[\"df\"].reset_index(drop = True)\n",
    "data['df']['i'] = np.int()\n",
    "data['open_order'] = False    \n",
    "data = run_engine(data)\n",
    "\n",
    "plot_graph(data)\n",
    "print_report(data)\n",
    "data['total_df'] = pd.DataFrame({'date':data['dt_list'], 'pls': data['pl_list']})\n",
    "split_date_col(data)\n",
    "data['total_df'] = data['total_df'][['date', 'year_val', 'month_val', 'date_val', 'hour_val','minute_val', 'pls']]\n",
    "data[\"total_df\"] = data[\"total_df\"].reset_index(drop = True)    \n",
    "data['file_name'] = f'data\\{data[\"start_date\"].year}-{data[\"start_date\"].month}-({data[\"start_date\"].day}-{data[\"end_date\"].day}).csv'\n",
    "\n",
    "data['total_df'].to_csv(data['file_name'], index = False) "
   ]
  },
  {
   "cell_type": "code",
   "execution_count": null,
   "metadata": {},
   "outputs": [],
   "source": [
    "print(data['total_df'].groupby(['date_val'])['pls'].sum())"
   ]
  },
  {
   "cell_type": "code",
   "execution_count": null,
   "metadata": {},
   "outputs": [],
   "source": [
    "data['total_df']['pls'].value_counts()"
   ]
  },
  {
   "cell_type": "code",
   "execution_count": null,
   "metadata": {},
   "outputs": [],
   "source": [
    "winsound.PlaySound('C:\\\\Windows\\\\Media\\\\chimes.wav', winsound.SND_ASYNC)"
   ]
  }
 ],
 "metadata": {
  "kernelspec": {
   "display_name": "Python 3",
   "language": "python",
   "name": "python3"
  },
  "language_info": {
   "codemirror_mode": {
    "name": "ipython",
    "version": 3
   },
   "file_extension": ".py",
   "mimetype": "text/x-python",
   "name": "python",
   "nbconvert_exporter": "python",
   "pygments_lexer": "ipython3",
   "version": "3.6.6"
  }
 },
 "nbformat": 4,
 "nbformat_minor": 4
}
