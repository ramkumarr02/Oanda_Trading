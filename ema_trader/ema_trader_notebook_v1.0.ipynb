{
 "cells": [
  {
   "cell_type": "code",
   "execution_count": 1,
   "metadata": {},
   "outputs": [],
   "source": [
    "# # ML Trader\n",
    "import numpy as np\n",
    "import pandas as pd\n",
    "\n",
    "import collections\n",
    "\n",
    "from tqdm import tqdm\n",
    "\n",
    "from IPython import display\n",
    "import matplotlib.pyplot as plt\n",
    "from matplotlib.pyplot import figure\n",
    "from IPython.display import display\n",
    "\n",
    "import datetime as dt\n",
    "\n",
    "import warnings\n",
    "warnings.filterwarnings('ignore')"
   ]
  },
  {
   "cell_type": "code",
   "execution_count": 2,
   "metadata": {},
   "outputs": [],
   "source": [
    "def before_sema(data):   \n",
    "    data['sema_list'].append(data['tick'])    \n",
    "    return(data)\n",
    "\n",
    "def after_sema(data):     \n",
    "    data['sema_list'].popleft()\n",
    "    data['sema_list'].append(data['tick'])\n",
    "    data['sema'] = list(pd.DataFrame(list(data['sema_list'])).ewm(span=data['sema_len']).mean()[0])[-1]\n",
    "    return(data)\n",
    "\n",
    "def before_lema(data):   \n",
    "    data['lema_list'].append(data['tick'])    \n",
    "    return(data)\n",
    "\n",
    "def after_lema(data):     \n",
    "    data['lema_list'].popleft()\n",
    "    data['lema_list'].append(data['tick'])\n",
    "    data['lema'] = list(pd.DataFrame(list(data['lema_list'])).ewm(span=data['lema_len']).mean()[0])[-1]\n",
    "    return(data)"
   ]
  },
  {
   "cell_type": "code",
   "execution_count": 3,
   "metadata": {},
   "outputs": [],
   "source": [
    "def print_report(data):\n",
    "    display.clear_output(wait = True)\n",
    "    print('--------------------------')\n",
    "    print(f'Total PL : {sum(data[\"pl_list\"])}')\n",
    "    print('-----------')\n",
    "    print(data['pl_list'])\n",
    "    print('--------------------------')\n",
    "    return()"
   ]
  },
  {
   "cell_type": "code",
   "execution_count": 4,
   "metadata": {},
   "outputs": [],
   "source": [
    "def read_data(data):\n",
    "    source_file_path = f'..\\\\data\\\\yearly_tick_data\\\\{data[\"year\"]}.csv'\n",
    "\n",
    "    if data['input_rows'] is None:\n",
    "        data[\"df\"] = pd.read_csv(source_file_path)\n",
    "    else:\n",
    "        data[\"df\"] = pd.read_csv(source_file_path, nrows=data['input_rows'])\n",
    "        \n",
    "    #data[\"df\"] = data[\"df\"][data[\"df\"]['DateTime'].str.contains('|'.join(data['date_val']))]\n",
    "    data[\"df\"] = data[\"df\"][data[\"df\"]['DateTime'].str.contains(data['date_val'])]\n",
    "    \n",
    "    data[\"df\"]['tick'] = np.float()\n",
    "    data[\"df\"]['sema'] = np.float()\n",
    "    data[\"df\"]['lema'] = np.float()\n",
    "    \n",
    "    return(data[\"df\"])"
   ]
  },
  {
   "cell_type": "code",
   "execution_count": 5,
   "metadata": {},
   "outputs": [],
   "source": [
    "def get_dir(data):\n",
    "    \n",
    "    if data['sema'] > data['lema']:\n",
    "        data['position'] = 1\n",
    "        \n",
    "    elif data['sema'] < data['lema']:\n",
    "        data['position'] = -1\n",
    "        \n",
    "    return(data)"
   ]
  },
  {
   "cell_type": "code",
   "execution_count": 6,
   "metadata": {},
   "outputs": [],
   "source": [
    "def after_dir(data):   \n",
    "    \n",
    "    data['dir_list'].popleft()\n",
    "    data['dir_list'].append(data['position'])   \n",
    "    \n",
    "    if sum(data['dir_list']) != 0:\n",
    "        data['dir_change'] = False\n",
    "\n",
    "    elif sum(data['dir_list']) == 0:\n",
    "        data['dir_change'] = True\n",
    "        #print(data['dir_list'])\n",
    "\n",
    "    return(data)"
   ]
  },
  {
   "cell_type": "code",
   "execution_count": 7,
   "metadata": {},
   "outputs": [],
   "source": [
    "def make_order(data):\n",
    "    if not data['open_order']:\n",
    "        if data['dir_change']:\n",
    "            if data['position'] > 0:\n",
    "                data['order_ask_price'] = data['ask']\n",
    "                data['open_order'] = True\n",
    "                \n",
    "            elif data['position'] < 0:\n",
    "                data['order_bid_price'] = data['bid']\n",
    "                data['open_order'] = True\n",
    "    return(data)"
   ]
  },
  {
   "cell_type": "code",
   "execution_count": 8,
   "metadata": {},
   "outputs": [],
   "source": [
    "def close_order(data):\n",
    "    if data['open_order']:\n",
    "        if data['dir_change']:\n",
    "            if data['position'] < 0:\n",
    "                data['close_bid_price'] = data['bid']\n",
    "                data['pl'] = data['close_bid_price'] - data['order_ask_price']\n",
    "                data['pl_list'].append(data['pl'])\n",
    "                data['open_order'] = False\n",
    "                #print(f'order_ask_price:{data[\"order_ask_price\"]}')\n",
    "                #print(f'close_bid_price:{data[\"close_bid_price\"]}')\n",
    "                #print(f'pl:{data[\"pl\"]}')\n",
    "                \n",
    "                data['order_bid_price'] = data['bid']\n",
    "                data['open_order'] = True\n",
    "                \n",
    "                \n",
    "            elif data['position'] > 0:\n",
    "                data['close_ask_price'] = data['ask']\n",
    "                data['pl'] = data['order_bid_price'] - data['close_ask_price']\n",
    "                data['pl_list'].append(data['pl'])\n",
    "                data['open_order'] = False\n",
    "                #print(f'order_bid_price:{data[\"order_bid_price\"]}')\n",
    "                #print(f'close_ask_price:{data[\"close_ask_price\"]}')\n",
    "                #print(f'pl:{data[\"pl\"]}')\n",
    "                \n",
    "                data['order_ask_price'] = data['ask']\n",
    "                data['open_order'] = True\n",
    "    return(data)"
   ]
  },
  {
   "cell_type": "code",
   "execution_count": 9,
   "metadata": {},
   "outputs": [],
   "source": [
    "def get_date_list(data):\n",
    "    \n",
    "    data['start_date'] = dt.datetime(year=data['start_date']['year'],\n",
    "                      month=data['start_date']['month'],\n",
    "                      day=data['start_date']['date'])\n",
    "\n",
    "    data['end_date'] = dt.datetime(year=data['end_date']['year'],\n",
    "                      month=data['end_date']['month'],\n",
    "                      day=data['end_date']['date'])\n",
    "\n",
    "    \n",
    "    date_list = list(pd.date_range(data['start_date'],data['end_date'],freq='d').values)\n",
    "    data['date_list'] = [str(x).split('T')[0].replace('-','') for x in date_list]\n",
    "    return(data)"
   ]
  },
  {
   "cell_type": "code",
   "execution_count": 10,
   "metadata": {},
   "outputs": [],
   "source": [
    "def get_run_duration(data):\n",
    "    run_time = len(data[\"date_list\"]) * 6\n",
    "    hours = run_time//60\n",
    "    mins = run_time%60\n",
    "    print(f'Approx run time : {hours}-hours : {mins}-mins')"
   ]
  },
  {
   "cell_type": "code",
   "execution_count": 11,
   "metadata": {},
   "outputs": [],
   "source": [
    "def plot_graph(data):\n",
    "    \n",
    "    figure(num=None, figsize=(50, 10), dpi=80, facecolor='w', edgecolor='k')\n",
    "\n",
    "    data[\"df\"]['tick'].plot(label = 'tick')\n",
    "    data[\"df\"]['sema'].plot(label = 'sema')\n",
    "    data[\"df\"]['lema'].plot(label = 'lema')\n",
    "    plt.legend(loc=\"upper left\")"
   ]
  },
  {
   "cell_type": "code",
   "execution_count": 12,
   "metadata": {},
   "outputs": [],
   "source": [
    "def print_report(data):\n",
    "    pl_list = list(data['pl_list'])\n",
    "    net_pl = round(np.sum(pl_list),5)\n",
    "\n",
    "    positive_pls = [i for i in pl_list if i > 0]\n",
    "    negative_pls = [i for i in pl_list if i < 0]\n",
    "\n",
    "    num_positive = len(positive_pls)\n",
    "    num_negative = len(negative_pls)\n",
    "\n",
    "    sum_positive = round(np.sum(positive_pls),5)\n",
    "    sum_negative = round(np.sum(negative_pls),5)\n",
    "    sum_total    = round(sum_positive + abs(sum_negative),5) \n",
    "\n",
    "    avg_positive = round(np.mean(positive_pls),5)\n",
    "    avg_negative = round(np.mean(negative_pls),5)\n",
    "\n",
    "    \n",
    "    print('==============================')\n",
    "    print(f'date_val          : {data[\"date_val\"]}')    \n",
    "    print(f'Total PL : {sum(data[\"pl_list\"])}')\n",
    "    print('-------------')\n",
    "    print(f'net_pl            : {net_pl}/{sum_total}')  \n",
    "    print('-------------')\n",
    "    print(f'+ve               : num= {num_positive}    sum= +{sum_positive}    avg= +{avg_positive}')\n",
    "    print(f'-ve               : num= {num_negative}    sum= {sum_negative}    avg= {avg_negative}')\n",
    "    print('==============================')\n",
    "    \n",
    "#     data[\"pl_list\"] = pd.DataFrame(pl_list, columns = ['pls'])\n",
    "#     values = list(data[\"df\"]['pls'].value_counts().index)\n",
    "#     counts = list(data[\"df\"]['pls'].value_counts().values)\n",
    "#     data[\"df_report\"] = pd.DataFrame({'values':values,'counts':counts})\n",
    "#     data[\"df_report\"]['act_val'] = data[\"df_report\"]['values'] * data[\"df_report\"]['counts']\n",
    "#     data[\"df_report\"] = data[\"df_report\"].sort_values(by='values')\n",
    "#     data[\"df_report\"] = data[\"df_report\"].reset_index(drop = True)    \n",
    "#     display(data[\"df_report\"])"
   ]
  },
  {
   "cell_type": "code",
   "execution_count": 13,
   "metadata": {
    "scrolled": false
   },
   "outputs": [],
   "source": [
    "def run_engine(data):\n",
    "    for i in tqdm(range(0, len(data[\"df\"]))):\n",
    "        data['ask'] = data[\"df\"]['Ask'][i]\n",
    "        data['bid'] = data[\"df\"]['Bid'][i]\n",
    "        data['tick'] = (data['ask'] + data['bid'])/2    \n",
    "        data[\"df\"]['tick'][i] = data['tick']\n",
    "\n",
    "        # sema before after loops --------------------------------\n",
    "        if len(data['sema_list']) < data['sema_len']:\n",
    "            data =  before_sema(data)\n",
    "            continue\n",
    "\n",
    "        if len(data['sema_list']) == data['sema_len']:\n",
    "            data = after_sema(data)     \n",
    "        # ----------------------------------------------------------\n",
    "\n",
    "\n",
    "        # lema before after loops --------------------------------\n",
    "        if len(data['lema_list']) < data['lema_len']:\n",
    "            data = before_lema(data)        \n",
    "            continue\n",
    "\n",
    "        if len(data['lema_list']) == data['lema_len']:\n",
    "            data = after_lema(data)        \n",
    "        # ----------------------------------------------------------\n",
    "\n",
    "\n",
    "        data[\"df\"]['sema'][i] = data['sema']\n",
    "        data[\"df\"]['lema'][i] = data['lema']\n",
    "\n",
    "        data = get_dir(data)\n",
    "\n",
    "        # lema before after loops --------------------------------\n",
    "        if len(data['dir_list']) < 2:\n",
    "            data['dir_list'].append(data['position'])   \n",
    "            continue\n",
    "        elif len(data['dir_list']) == 2:\n",
    "            data = after_dir(data)\n",
    "        # ----------------------------------------------------------\n",
    "\n",
    "        data = close_order(data)\n",
    "        data = make_order(data)    \n",
    "\n",
    "    data[\"df\"] = data[\"df\"][data[\"df\"]['sema'] != 0]\n",
    "    data[\"df\"] = data[\"df\"][data[\"df\"]['lema'] != 0]\n",
    "    data[\"df\"] = data[\"df\"].reset_index(drop = True)\n",
    "    return(data)"
   ]
  },
  {
   "cell_type": "code",
   "execution_count": 14,
   "metadata": {},
   "outputs": [],
   "source": [
    "data = {}\n",
    "data[\"year\"] = 2021\n",
    "data['total_df'] = pd.DataFrame()\n",
    "data['sema_list'] = collections.deque()\n",
    "data['lema_list'] = collections.deque()\n",
    "data['dir_list'] = collections.deque()\n",
    "data['pl_list'] =  collections.deque()"
   ]
  },
  {
   "cell_type": "code",
   "execution_count": 15,
   "metadata": {},
   "outputs": [],
   "source": [
    "data['input_rows'] = None\n",
    "\n",
    "data['start_date'] = {'year':2021, 'month':3, 'date':1}\n",
    "data['end_date']   = {'year':2021, 'month':3, 'date':5}\n",
    "\n",
    "data['sema_len'] = 1500\n",
    "data['lema_len'] = 15000"
   ]
  },
  {
   "cell_type": "code",
   "execution_count": 16,
   "metadata": {},
   "outputs": [],
   "source": [
    "data = get_date_list(data)"
   ]
  },
  {
   "cell_type": "code",
   "execution_count": 17,
   "metadata": {
    "scrolled": true
   },
   "outputs": [
    {
     "name": "stderr",
     "output_type": "stream",
     "text": [
      "  1%|▍                                     | 995/88994 [00:00<00:08, 9926.18it/s]"
     ]
    },
    {
     "name": "stdout",
     "output_type": "stream",
     "text": [
      "Record num : 88994\n"
     ]
    },
    {
     "name": "stderr",
     "output_type": "stream",
     "text": [
      "100%|█████████████████████████████████████| 88994/88994 [07:29<00:00, 198.01it/s]\n"
     ]
    },
    {
     "name": "stdout",
     "output_type": "stream",
     "text": [
      "Total PL : -0.0032500000000004192\n",
      "-------------\n",
      "date_val          : 20210301\n",
      "-------------\n",
      "==============================\n",
      "net_pl            : -0.00325/0.01223\n",
      "==============================\n",
      "-------------\n",
      "+ve               : num= 5    sum= +0.00449    avg= +0.0009\n",
      "-ve               : num= 17    sum= -0.00774    avg= -0.00046\n",
      "-------------\n"
     ]
    },
    {
     "name": "stderr",
     "output_type": "stream",
     "text": [
      "  0%|                                        | 16/91013 [00:00<09:32, 158.83it/s]"
     ]
    },
    {
     "name": "stdout",
     "output_type": "stream",
     "text": [
      "Record num : 91013\n"
     ]
    },
    {
     "name": "stderr",
     "output_type": "stream",
     "text": [
      "100%|█████████████████████████████████████| 91013/91013 [08:58<00:00, 169.05it/s]\n"
     ]
    },
    {
     "name": "stdout",
     "output_type": "stream",
     "text": [
      "Total PL : 0.0021500000000000963\n",
      "-------------\n",
      "date_val          : 20210302\n",
      "-------------\n",
      "==============================\n",
      "net_pl            : 0.00215/0.02593\n",
      "==============================\n",
      "-------------\n",
      "+ve               : num= 10    sum= +0.01404    avg= +0.0014\n",
      "-ve               : num= 26    sum= -0.01189    avg= -0.00046\n",
      "-------------\n"
     ]
    },
    {
     "name": "stderr",
     "output_type": "stream",
     "text": [
      "  0%|                                        | 17/97956 [00:00<10:09, 160.80it/s]"
     ]
    },
    {
     "name": "stdout",
     "output_type": "stream",
     "text": [
      "Record num : 97956\n"
     ]
    },
    {
     "name": "stderr",
     "output_type": "stream",
     "text": [
      "100%|█████████████████████████████████████| 97956/97956 [09:31<00:00, 171.40it/s]\n"
     ]
    },
    {
     "name": "stdout",
     "output_type": "stream",
     "text": [
      "Total PL : 0.002460000000001017\n",
      "-------------\n",
      "date_val          : 20210303\n",
      "-------------\n",
      "==============================\n",
      "net_pl            : 0.00246/0.03492\n",
      "==============================\n",
      "-------------\n",
      "+ve               : num= 13    sum= +0.01869    avg= +0.00144\n",
      "-ve               : num= 38    sum= -0.01623    avg= -0.00043\n",
      "-------------\n"
     ]
    },
    {
     "name": "stderr",
     "output_type": "stream",
     "text": [
      "  0%|                                       | 16/125449 [00:00<13:33, 154.22it/s]"
     ]
    },
    {
     "name": "stdout",
     "output_type": "stream",
     "text": [
      "Record num : 125449\n"
     ]
    },
    {
     "name": "stderr",
     "output_type": "stream",
     "text": [
      "100%|███████████████████████████████████| 125449/125449 [11:54<00:00, 175.60it/s]\n"
     ]
    },
    {
     "name": "stdout",
     "output_type": "stream",
     "text": [
      "Total PL : 0.0007100000000015427\n",
      "-------------\n",
      "date_val          : 20210304\n",
      "-------------\n",
      "==============================\n",
      "net_pl            : 0.00071/0.05281\n",
      "==============================\n",
      "-------------\n",
      "+ve               : num= 15    sum= +0.02676    avg= +0.00178\n",
      "-ve               : num= 57    sum= -0.02605    avg= -0.00046\n",
      "-------------\n"
     ]
    },
    {
     "name": "stderr",
     "output_type": "stream",
     "text": [
      "  0%|                                       | 20/130957 [00:00<12:26, 175.34it/s]"
     ]
    },
    {
     "name": "stdout",
     "output_type": "stream",
     "text": [
      "Record num : 130957\n"
     ]
    },
    {
     "name": "stderr",
     "output_type": "stream",
     "text": [
      "100%|███████████████████████████████████| 130957/130957 [11:58<00:00, 182.25it/s]"
     ]
    },
    {
     "name": "stdout",
     "output_type": "stream",
     "text": [
      "Total PL : -0.012629999999998143\n",
      "-------------\n",
      "date_val          : 20210305\n",
      "-------------\n",
      "==============================\n",
      "net_pl            : -0.01263/0.07285\n",
      "==============================\n",
      "-------------\n",
      "+ve               : num= 19    sum= +0.03011    avg= +0.00158\n",
      "-ve               : num= 88    sum= -0.04274    avg= -0.00049\n",
      "-------------\n"
     ]
    },
    {
     "name": "stderr",
     "output_type": "stream",
     "text": [
      "\n"
     ]
    }
   ],
   "source": [
    "for data['date_val'] in data['date_list']:\n",
    "    read_data(data)\n",
    "#     data[\"df\"] = data[\"df\"][0:100]\n",
    "    print(f'Record num : {len(data[\"df\"])}')    \n",
    "    data[\"df\"] = data[\"df\"].reset_index(drop = True)\n",
    "    \n",
    "    data['open_order'] = False    \n",
    "    data = run_engine(data)\n",
    "    \n",
    "    #plot_graph(data)\n",
    "    print_report(data)\n",
    "    temp_df = pd.DataFrame({'date':data['date_val'], 'pls': data['pl_list']})\n",
    "    data['total_df'] = data['total_df'].append(temp_df)\n",
    "    data[\"total_df\"] = data[\"total_df\"].reset_index(drop = True)\n",
    "    data['total_df'].to_csv('total_df.csv')\n",
    "    \n",
    "data[\"total_df\"] = data[\"total_df\"].reset_index(drop = True)\n",
    "data['file_name'] = f'{data[\"start_date\"].year}-{data[\"start_date\"].month}-({data[\"start_date\"].day}-{data[\"end_date\"].day}).csv'\n",
    "data['total_df'].to_csv(data['file_name'], index = False) "
   ]
  },
  {
   "cell_type": "code",
   "execution_count": 38,
   "metadata": {},
   "outputs": [
    {
     "data": {
      "text/html": [
       "<div>\n",
       "<style scoped>\n",
       "    .dataframe tbody tr th:only-of-type {\n",
       "        vertical-align: middle;\n",
       "    }\n",
       "\n",
       "    .dataframe tbody tr th {\n",
       "        vertical-align: top;\n",
       "    }\n",
       "\n",
       "    .dataframe thead th {\n",
       "        text-align: right;\n",
       "    }\n",
       "</style>\n",
       "<table border=\"1\" class=\"dataframe\">\n",
       "  <thead>\n",
       "    <tr style=\"text-align: right;\">\n",
       "      <th></th>\n",
       "      <th>pls</th>\n",
       "    </tr>\n",
       "    <tr>\n",
       "      <th>date</th>\n",
       "      <th></th>\n",
       "    </tr>\n",
       "  </thead>\n",
       "  <tbody>\n",
       "    <tr>\n",
       "      <th>20210301</th>\n",
       "      <td>-0.00325</td>\n",
       "    </tr>\n",
       "    <tr>\n",
       "      <th>20210302</th>\n",
       "      <td>0.00215</td>\n",
       "    </tr>\n",
       "    <tr>\n",
       "      <th>20210303</th>\n",
       "      <td>0.00246</td>\n",
       "    </tr>\n",
       "    <tr>\n",
       "      <th>20210304</th>\n",
       "      <td>0.00071</td>\n",
       "    </tr>\n",
       "    <tr>\n",
       "      <th>20210305</th>\n",
       "      <td>-0.01263</td>\n",
       "    </tr>\n",
       "  </tbody>\n",
       "</table>\n",
       "</div>"
      ],
      "text/plain": [
       "              pls\n",
       "date             \n",
       "20210301 -0.00325\n",
       "20210302  0.00215\n",
       "20210303  0.00246\n",
       "20210304  0.00071\n",
       "20210305 -0.01263"
      ]
     },
     "execution_count": 38,
     "metadata": {},
     "output_type": "execute_result"
    }
   ],
   "source": [
    "data['total_df'].groupby(['date']).sum()"
   ]
  }
 ],
 "metadata": {
  "kernelspec": {
   "display_name": "Python 3",
   "language": "python",
   "name": "python3"
  },
  "language_info": {
   "codemirror_mode": {
    "name": "ipython",
    "version": 3
   },
   "file_extension": ".py",
   "mimetype": "text/x-python",
   "name": "python",
   "nbconvert_exporter": "python",
   "pygments_lexer": "ipython3",
   "version": "3.6.6"
  }
 },
 "nbformat": 4,
 "nbformat_minor": 4
}
