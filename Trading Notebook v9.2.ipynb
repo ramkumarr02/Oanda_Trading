{
 "cells": [
  {
   "cell_type": "markdown",
   "metadata": {},
   "source": [
    "# Oanda Demo Trading Notebook"
   ]
  },
  {
   "cell_type": "markdown",
   "metadata": {},
   "source": [
    "## Packages & Tools"
   ]
  },
  {
   "cell_type": "code",
   "execution_count": 8,
   "metadata": {},
   "outputs": [],
   "source": [
    "from utils.packages import *\n",
    "from utils.tools import *\n",
    "from utils.order_engine import *\n",
    "from utils.direction_engine import *\n",
    "from utils.output_log import *"
   ]
  },
  {
   "cell_type": "markdown",
   "metadata": {},
   "source": [
    "## API Setup"
   ]
  },
  {
   "cell_type": "markdown",
   "metadata": {},
   "source": [
    "Read from config file"
   ]
  },
  {
   "cell_type": "code",
   "execution_count": 35,
   "metadata": {},
   "outputs": [
    {
     "name": "stdout",
     "output_type": "stream",
     "text": [
      "dict_keys(['access_keys', 'currencies', 'stepped_loss', 'parameters'])\n"
     ]
    }
   ],
   "source": [
    "data = {}\n",
    "config_files = ['access_keys', 'currencies', 'stepped_loss', 'parameters']\n",
    "\n",
    "\n",
    "for _, val in enumerate(config_files):\n",
    "    temp_file = f'config/{val}.yaml'\n",
    "    with open(temp_file) as temp_file:\n",
    "        data[val] = yaml.load(temp_file)\n",
    "        \n",
    "print(data.keys())        "
   ]
  },
  {
   "cell_type": "code",
   "execution_count": 34,
   "metadata": {},
   "outputs": [],
   "source": [
    "access_token = data['access_keys']['oanda_demo_account']['token']\n",
    "accountID = data['access_keys']['oanda_demo_account']['account_id']\n",
    "api = API(access_token = access_token)"
   ]
  },
  {
   "cell_type": "markdown",
   "metadata": {},
   "source": [
    "## Inputs"
   ]
  },
  {
   "cell_type": "code",
   "execution_count": null,
   "metadata": {},
   "outputs": [],
   "source": [
    "tick_speed:\n",
    "  num_ticks: 300\n",
    "\n",
    "\n",
    "direction:\n",
    "  max_pip_levels: 3\n",
    "  dir_ratio: 2\n",
    "  min_count: 1\n",
    "  long_run_multiplier: 2\n",
    "  short_run_multiplier: 1  \n",
    "  recalc_multiplier: 5\n",
    "\n",
    "\n",
    "profit:\n",
    "  min_profit_pips: 1\n",
    "  pip_buffer: 0.5 \n",
    "  stop_loss_pips: 25\n",
    "\n",
    "\n",
    "order_run:  \n",
    "  run_multiplier: 25\n",
    "  \n",
    "\n",
    "execution:  \n",
    "  instrument: 'EUR_USD'\n",
    "  num_bets: 10"
   ]
  },
  {
   "cell_type": "code",
   "execution_count": null,
   "metadata": {},
   "outputs": [],
   "source": [
    "instrument=\"EUR_USD\"\n",
    "\n",
    "target_num = 3\n",
    "min_count = 2\n",
    "min_count_mulitplier = 1\n",
    "\n",
    "profit_target_num  = 1\n",
    "price_allowed_buffer = 0.5 \n",
    "loss_limit_num = 25\n",
    "max_loss_num = 1\n",
    "full_loss_ratio = 10\n",
    "\n",
    "iter_num = 300\n",
    "dir_min_trans_multiplier_long = 2\n",
    "dir_min_trans_multiplier_short = 1\n",
    "\n",
    "run_min_trans_multiplier = 25\n",
    "dir_recalc_multiplier = 5\n",
    "\n",
    "num_of_bets = 100"
   ]
  },
  {
   "cell_type": "code",
   "execution_count": null,
   "metadata": {},
   "outputs": [],
   "source": [
    "pip_size = currencies['currs'][instrument]['pip_size']\n",
    "pip_gap = currencies['currs'][instrument]['pip_gap']"
   ]
  },
  {
   "cell_type": "markdown",
   "metadata": {},
   "source": [
    "## Currency movement speed compare"
   ]
  },
  {
   "cell_type": "code",
   "execution_count": null,
   "metadata": {
    "scrolled": true
   },
   "outputs": [],
   "source": [
    "'''\n",
    "%%time\n",
    "iter_nums = [100, 200]\n",
    "for iter_num in iter_nums:\n",
    "    run_currency_num_check(accountID, currencies, iter_num, api)\n",
    "    '''"
   ]
  },
  {
   "cell_type": "markdown",
   "metadata": {},
   "source": [
    "## Code Engine"
   ]
  },
  {
   "cell_type": "code",
   "execution_count": null,
   "metadata": {
    "scrolled": true
   },
   "outputs": [],
   "source": [
    "%%time\n",
    "num = get_min_trans_num(instrument, accountID, iter_num, pip_gap, pip_size, api)\n",
    "dir_min_trans_num_long = round((num * dir_min_trans_multiplier_long),0)\n",
    "dir_min_trans_num_short = round((num * dir_min_trans_multiplier_short),0)\n",
    "dir_min_trans_num = dir_min_trans_num_long\n",
    "\n",
    "run_min_trans_num = round((num * run_min_trans_multiplier),0)\n",
    "\n",
    "run_flag = True\n",
    "\n",
    "for i in range(num_of_bets):    \n",
    "    print(f'-------------------------------Iteration {i+1}-------------------------------')\n",
    "    if run_flag:\n",
    "        direction, df_reached_targets, tick_list = run_direction_engine(accountID, instrument, dir_min_trans_num, target_num, min_count, pip_size, pip_gap, min_count_mulitplier)    \n",
    "        print('df_reached_targets : ',df_reached_targets)\n",
    "    if direction == 'no_direction':\n",
    "        print('no_direction : Run again')\n",
    "        run_flag = True\n",
    "        dir_min_trans_num = dir_min_trans_num_long\n",
    "        output_df = get_output_data('', '', '', '', '', '', '',dirc = False) \n",
    "        \n",
    "    else:\n",
    "        print(f'Direction : {direction}')\n",
    "        make_order_log, close_order_log, iters, close_reason = run_order_engine(api, accountID, instrument, direction, profit_target_num, loss_limit_num, price_allowed_buffer, run_min_trans_num, pip_size, loss_limits)\n",
    "        output_df = get_output_data(api, accountID, instrument, make_order_log, close_order_log, iters, close_reason, dirc = True)\n",
    "        pl_pip = float(output_df['profit_pips'])\n",
    "        iter_limit = dir_min_trans_num * dir_recalc_multiplier\n",
    "        print(f'pl:{pl_pip} iter_limit:{iter_limit}')\n",
    "\n",
    "\n",
    "        if float(pl_pip) >= 0 and iters < iter_limit:\n",
    "            run_flag = True\n",
    "            dir_min_trans_num = dir_min_trans_num_short\n",
    "        else:\n",
    "            run_flag = True\n",
    "            dir_min_trans_num = dir_min_trans_num_long\n",
    "\n",
    "    output_df.to_csv('data/machine_use/output_log_machine_use.csv', mode='a', header=False, index = False)"
   ]
  },
  {
   "cell_type": "markdown",
   "metadata": {},
   "source": [
    "## Output copy"
   ]
  },
  {
   "cell_type": "code",
   "execution_count": null,
   "metadata": {
    "scrolled": true
   },
   "outputs": [],
   "source": [
    "df_copy = pd.read_csv('data/machine_use/output_log_machine_use.csv')\n",
    "df_copy.to_csv('data/output_log.csv', index = False)    "
   ]
  }
 ],
 "metadata": {
  "kernelspec": {
   "display_name": "Python 3",
   "language": "python",
   "name": "python3"
  },
  "language_info": {
   "codemirror_mode": {
    "name": "ipython",
    "version": 3
   },
   "file_extension": ".py",
   "mimetype": "text/x-python",
   "name": "python",
   "nbconvert_exporter": "python",
   "pygments_lexer": "ipython3",
   "version": "3.6.6"
  }
 },
 "nbformat": 4,
 "nbformat_minor": 4
}
