{
 "cells": [
  {
   "cell_type": "markdown",
   "metadata": {},
   "source": [
    "# Oanda Demo Trading Notebook"
   ]
  },
  {
   "cell_type": "markdown",
   "metadata": {},
   "source": [
    "## Packages & Tools"
   ]
  },
  {
   "cell_type": "code",
   "execution_count": null,
   "metadata": {},
   "outputs": [],
   "source": [
    "from utils.packages import *\n",
    "from utils.tools import *\n",
    "from utils.order_engine import *\n",
    "from utils.direction_engine import *\n",
    "from utils.output_log import *"
   ]
  },
  {
   "cell_type": "markdown",
   "metadata": {},
   "source": [
    "## API Setup"
   ]
  },
  {
   "cell_type": "markdown",
   "metadata": {},
   "source": [
    "Read from config file"
   ]
  },
  {
   "cell_type": "code",
   "execution_count": null,
   "metadata": {},
   "outputs": [],
   "source": [
    "data = {}\n",
    "config_files = ['access_keys', 'currencies', 'stepped_loss', 'parameters']\n",
    "\n",
    "for _, val in enumerate(config_files):\n",
    "    temp_file = f'config/{val}.yaml'\n",
    "    with open(temp_file) as temp_file:\n",
    "        data[val] = yaml.load(temp_file)\n",
    "        \n",
    "print(data.keys())        "
   ]
  },
  {
   "cell_type": "markdown",
   "metadata": {},
   "source": [
    "## Inputs"
   ]
  },
  {
   "cell_type": "code",
   "execution_count": null,
   "metadata": {},
   "outputs": [],
   "source": [
    "access_token = data['access_keys']['oanda_demo_account']['token']\n",
    "accountID = data['access_keys']['oanda_demo_account']['account_id']\n",
    "\n",
    "iter_num = data['parameters']['tick_speed']['iter_num']\n",
    "\n",
    "target_num = data['parameters']['direction']['target_num']\n",
    "min_count = data['parameters']['direction']['min_count']\n",
    "min_count_mulitplier = data['parameters']['direction']['min_count_mulitplier']\n",
    "dir_min_trans_multiplier_long = data['parameters']['direction']['dir_min_trans_multiplier_long']\n",
    "dir_min_trans_multiplier_short = data['parameters']['direction']['dir_min_trans_multiplier_short']\n",
    "dir_recalc_multiplier = data['parameters']['direction']['dir_recalc_multiplier']\n",
    "\n",
    "profit_target_num  = data['parameters']['profit']['profit_target_num']\n",
    "price_allowed_buffer = data['parameters']['profit']['price_allowed_buffer'] \n",
    "loss_limit_num = data['parameters']['profit']['loss_limit_num']\n",
    "\n",
    "run_min_trans_multiplier = data['parameters']['order_run']['run_min_trans_multiplier']\n",
    "\n",
    "instrument = data['parameters']['execution']['instrument']\n",
    "num_of_bets = data['parameters']['execution']['num_of_bets']\n",
    "\n",
    "pip_size = data['currencies']['currs'][instrument]['pip_size']\n",
    "pip_gap = data['currencies']['currs'][instrument]['pip_gap']\n",
    "\n",
    "#max_loss_num = 1\n",
    "#full_loss_ratio = 10"
   ]
  },
  {
   "cell_type": "code",
   "execution_count": null,
   "metadata": {},
   "outputs": [],
   "source": [
    "api = API(access_token = access_token)"
   ]
  },
  {
   "cell_type": "markdown",
   "metadata": {},
   "source": [
    "## Currency movement speed compare"
   ]
  },
  {
   "cell_type": "code",
   "execution_count": null,
   "metadata": {
    "scrolled": true
   },
   "outputs": [],
   "source": [
    "'''\n",
    "%%time\n",
    "iter_nums = [100, 200]\n",
    "for iter_num in iter_nums:\n",
    "    run_currency_num_check(accountID, currencies, iter_num, api)\n",
    "    '''"
   ]
  },
  {
   "cell_type": "markdown",
   "metadata": {},
   "source": [
    "## Code Engine"
   ]
  },
  {
   "cell_type": "code",
   "execution_count": null,
   "metadata": {
    "scrolled": true
   },
   "outputs": [],
   "source": [
    "%%time\n",
    "num = get_min_trans_num(instrument, accountID, iter_num, pip_gap, pip_size, api)\n",
    "dir_min_trans_num_long = round((num * dir_min_trans_multiplier_long),0)\n",
    "dir_min_trans_num_short = round((num * dir_min_trans_multiplier_short),0)\n",
    "dir_min_trans_num = dir_min_trans_num_long\n",
    "\n",
    "run_min_trans_num = round((num * run_min_trans_multiplier),0)\n",
    "\n",
    "run_flag = True\n",
    "\n",
    "for i in range(num_of_bets):    \n",
    "    \n",
    "    print(f'-------------------------------Iteration {i+1}-------------------------------')\n",
    "    if run_flag:\n",
    "        direction, df_reached_targets, tick_list = run_direction_engine(accountID, \n",
    "                                                                        instrument, \n",
    "                                                                        dir_min_trans_num, \n",
    "                                                                        target_num, \n",
    "                                                                        min_count, \n",
    "                                                                        pip_size, \n",
    "                                                                        pip_gap, \n",
    "                                                                        min_count_mulitplier)    \n",
    "        print('df_reached_targets : ',df_reached_targets)\n",
    "    \n",
    "    \n",
    "    \n",
    "        \n",
    "    if direction == 'no_direction':\n",
    "        print('no_direction : Run again')\n",
    "        run_flag = True\n",
    "        dir_min_trans_num = dir_min_trans_num_long\n",
    "        output_df = get_output_data('', '', '', '', '', '', '',dirc = False) \n",
    "        \n",
    "    \n",
    "    \n",
    "    \n",
    "    \n",
    "    else:\n",
    "        print(f'Direction : {direction}')\n",
    "        make_order_log, close_order_log, iters, close_reason = run_order_engine(api, \n",
    "                                                                                accountID, \n",
    "                                                                                instrument, \n",
    "                                                                                direction, \n",
    "                                                                                profit_target_num, \n",
    "                                                                                loss_limit_num, \n",
    "                                                                                price_allowed_buffer, \n",
    "                                                                                run_min_trans_num, \n",
    "                                                                                pip_size, \n",
    "                                                                                loss_limits)\n",
    "        \n",
    "        output_df = get_output_data(api, \n",
    "                                    accountID, \n",
    "                                    instrument, \n",
    "                                    make_order_log, \n",
    "                                    close_order_log, \n",
    "                                    iters, \n",
    "                                    close_reason, \n",
    "                                    dirc = True)\n",
    "        \n",
    "        pl_pip = float(output_df['profit_pips'])\n",
    "        iter_limit = dir_min_trans_num * dir_recalc_multiplier\n",
    "        print(f'pl:{pl_pip} iter_limit:{iter_limit}')\n",
    "\n",
    "        \n",
    "\n",
    "        if float(pl_pip) >= 0 and iters < iter_limit:\n",
    "            run_flag = True\n",
    "            dir_min_trans_num = dir_min_trans_num_short\n",
    "            \n",
    "            \n",
    "        else:\n",
    "            run_flag = True\n",
    "            dir_min_trans_num = dir_min_trans_num_long\n",
    "\n",
    "    output_df.to_csv('data/machine_use/output_log_machine_use.csv', mode='a', header=False, index = False)"
   ]
  },
  {
   "cell_type": "markdown",
   "metadata": {},
   "source": [
    "## Output copy"
   ]
  },
  {
   "cell_type": "code",
   "execution_count": null,
   "metadata": {
    "scrolled": true
   },
   "outputs": [],
   "source": [
    "df_copy = pd.read_csv('data/machine_use/output_log_machine_use.csv')\n",
    "df_copy.to_csv('data/output_log.csv', index = False)    "
   ]
  }
 ],
 "metadata": {
  "kernelspec": {
   "display_name": "Python 3",
   "language": "python",
   "name": "python3"
  },
  "language_info": {
   "codemirror_mode": {
    "name": "ipython",
    "version": 3
   },
   "file_extension": ".py",
   "mimetype": "text/x-python",
   "name": "python",
   "nbconvert_exporter": "python",
   "pygments_lexer": "ipython3",
   "version": "3.6.6"
  }
 },
 "nbformat": 4,
 "nbformat_minor": 4
}
