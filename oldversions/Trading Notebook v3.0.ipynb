{
 "cells": [
  {
   "cell_type": "markdown",
   "metadata": {},
   "source": [
    "# Oanda Demo Trading Notebook"
   ]
  },
  {
   "cell_type": "markdown",
   "metadata": {},
   "source": [
    "## Packages"
   ]
  },
  {
   "cell_type": "markdown",
   "metadata": {},
   "source": [
    "Normal Packages"
   ]
  },
  {
   "cell_type": "code",
   "execution_count": 1,
   "metadata": {},
   "outputs": [],
   "source": [
    "import numpy as np\n",
    "import pandas as pd\n",
    "\n",
    "import yaml\n",
    "import json\n",
    "\n",
    "import time\n",
    "import datetime\n",
    "import winsound\n",
    "import collections\n",
    "\n",
    "from tqdm import tqdm\n",
    "\n",
    "import warnings\n",
    "warnings.filterwarnings('ignore')"
   ]
  },
  {
   "cell_type": "markdown",
   "metadata": {},
   "source": [
    "Oanda Packages"
   ]
  },
  {
   "cell_type": "code",
   "execution_count": 2,
   "metadata": {},
   "outputs": [],
   "source": [
    "from oandapyV20 import API\n",
    "import oandapyV20.endpoints.trades as trades\n",
    "import oandapyV20.endpoints.pricing as pricing\n",
    "import oandapyV20.endpoints.accounts as accounts\n",
    "\n",
    "import oandapyV20.definitions.pricing as defpricing\n",
    "import oandapyV20.endpoints.instruments as instruments"
   ]
  },
  {
   "cell_type": "markdown",
   "metadata": {},
   "source": [
    "## API Setup"
   ]
  },
  {
   "cell_type": "markdown",
   "metadata": {},
   "source": [
    "Read from config file"
   ]
  },
  {
   "cell_type": "code",
   "execution_count": 3,
   "metadata": {},
   "outputs": [],
   "source": [
    "config_file = 'config/access_token.yaml'\n",
    "\n",
    "with open(config_file) as c_file:\n",
    "    config = yaml.load(c_file)\n",
    "\n",
    "access_token = config['oanda_demo_account']['token']\n",
    "accountID = config['oanda_demo_account']['account_id']\n",
    "\n",
    "api = API(access_token = access_token)"
   ]
  },
  {
   "cell_type": "markdown",
   "metadata": {},
   "source": [
    "## Functions"
   ]
  },
  {
   "cell_type": "code",
   "execution_count": 4,
   "metadata": {},
   "outputs": [],
   "source": [
    "# Get timestamp of the price and segregate it\n",
    "def get_date_time(resp):\n",
    "    \n",
    "    time_stamp = resp['time']\n",
    "    date_val, full_time = time_stamp.split(sep = 'T')\n",
    "    time_val, time_fraction = full_time.split(sep = '.')\n",
    "    \n",
    "    return(date_val, time_val, time_fraction)"
   ]
  },
  {
   "cell_type": "code",
   "execution_count": 5,
   "metadata": {},
   "outputs": [],
   "source": [
    "# Get bid and ask prices\n",
    "def get_prices(resp):\n",
    "    \n",
    "    bid_price = float(resp['bids'][0]['price'])    \n",
    "    ask_price = float(resp['asks'][0]['price'])\n",
    "    spread = ask_price - bid_price\n",
    "    tick_price = (ask_price + bid_price) / 2\n",
    "    \n",
    "    return(bid_price, ask_price, spread, tick_price)"
   ]
  },
  {
   "cell_type": "code",
   "execution_count": 6,
   "metadata": {},
   "outputs": [],
   "source": [
    "# Terminate connection\n",
    "def terminate_connection():\n",
    "    try:\n",
    "        r.terminate(message = \"maxrecs records received\")\n",
    "    except:\n",
    "        pass"
   ]
  },
  {
   "cell_type": "code",
   "execution_count": 7,
   "metadata": {},
   "outputs": [],
   "source": [
    "# Restrict prices to 4 decimal places (pips)\n",
    "def restrict_to_pips(num):\n",
    "    numstring = str(num)\n",
    "    num = float(numstring[:numstring.find('.')+5])\n",
    "    return(num)"
   ]
  },
  {
   "cell_type": "code",
   "execution_count": 8,
   "metadata": {},
   "outputs": [],
   "source": [
    "# Add prices into chunks for direction identification\n",
    "def get_chunks(i, val):\n",
    "    global chunk_size\n",
    "    global small_list\n",
    "    global size_flag\n",
    "    global change_position\n",
    "    \n",
    "    \n",
    "    if len(small_list) < chunk_size: #Keep adding prices until we reach chunk size\n",
    "        small_list.append(val)  \n",
    "               \n",
    "    if size_flag == 'reached_chunk_size':        \n",
    "        if small_list[-1] != val: \n",
    "            small_list.popleft()   #Remove the left most (first) price\n",
    "            small_list.append(val) #Add current value to right most position\n",
    "\n",
    "                \n",
    "        change_position -= 1  #Price allocation in small list happens right to left so change position goes from chunk size to zero\n",
    "        if change_position < 0: \n",
    "            change_position = chunk_size - 1 #If position reaches zero, it needs to be reset to chunk size - 1 (for index position)\n",
    "\n",
    "            \n",
    "    if len(small_list) == chunk_size: #check if small list has reached chunk size\n",
    "        size_flag = 'reached_chunk_size'  \n",
    "    \n",
    "    return(small_list)"
   ]
  },
  {
   "cell_type": "code",
   "execution_count": 9,
   "metadata": {},
   "outputs": [],
   "source": [
    "# Identify directions\n",
    "def find_direction(lst):\n",
    "    list_size = len(lst)\n",
    "    diff = {}\n",
    "    dir_flag = 'Error : not calculated'\n",
    "   \n",
    "    for i in range(list_size-1): #write the list into a dictionary \n",
    "        diff[i] = lst[i+1] - lst[i]       \n",
    "        \n",
    "    if list(diff.values())[-1] == 0:\n",
    "        dir_flag = 'flat'        \n",
    "        \n",
    "    elif all(x>0 for x in diff.values()):\n",
    "        dir_flag = 'positive'\n",
    "    \n",
    "    elif all(x<0 for x in diff.values()):\n",
    "        dir_flag = 'negative'\n",
    "\n",
    "    elif list(diff.values())[-2] >= 0 and list(diff.values())[-1] < 0:\n",
    "        dir_flag = 'dir_change_negative'      \n",
    "\n",
    "    elif list(diff.values())[-2] <= 0 and list(diff.values())[-1] > 0:\n",
    "        dir_flag = 'dir_change_positive'      \n",
    "        \n",
    "    else:\n",
    "        dir_flag = 'no_single_direction'\n",
    "        \n",
    "    return(dir_flag)"
   ]
  },
  {
   "cell_type": "code",
   "execution_count": 10,
   "metadata": {},
   "outputs": [],
   "source": [
    "def write_price_dict(price_details, tick_price, truncated_tick_price, direction):\n",
    "    price_details['tick_price'].append(tick_price)\n",
    "    price_details['truncated_tick_price'].append(truncated_tick_price)\n",
    "    price_details['direction'].append(direction)\n",
    "    return(price_details)"
   ]
  },
  {
   "cell_type": "markdown",
   "metadata": {},
   "source": [
    "## Historic data analysis"
   ]
  },
  {
   "cell_type": "code",
   "execution_count": 11,
   "metadata": {},
   "outputs": [
    {
     "data": {
      "text/html": [
       "<div>\n",
       "<style scoped>\n",
       "    .dataframe tbody tr th:only-of-type {\n",
       "        vertical-align: middle;\n",
       "    }\n",
       "\n",
       "    .dataframe tbody tr th {\n",
       "        vertical-align: top;\n",
       "    }\n",
       "\n",
       "    .dataframe thead th {\n",
       "        text-align: right;\n",
       "    }\n",
       "</style>\n",
       "<table border=\"1\" class=\"dataframe\">\n",
       "  <thead>\n",
       "    <tr style=\"text-align: right;\">\n",
       "      <th></th>\n",
       "      <th>timestamp</th>\n",
       "      <th>price</th>\n",
       "      <th>unknown</th>\n",
       "    </tr>\n",
       "  </thead>\n",
       "  <tbody>\n",
       "    <tr>\n",
       "      <th>0</th>\n",
       "      <td>20200501 000000</td>\n",
       "      <td>1.09450</td>\n",
       "      <td>0</td>\n",
       "    </tr>\n",
       "    <tr>\n",
       "      <th>1</th>\n",
       "      <td>20200501 000002</td>\n",
       "      <td>1.09448</td>\n",
       "      <td>0</td>\n",
       "    </tr>\n",
       "    <tr>\n",
       "      <th>2</th>\n",
       "      <td>20200501 000003</td>\n",
       "      <td>1.09447</td>\n",
       "      <td>0</td>\n",
       "    </tr>\n",
       "    <tr>\n",
       "      <th>3</th>\n",
       "      <td>20200501 000006</td>\n",
       "      <td>1.09445</td>\n",
       "      <td>0</td>\n",
       "    </tr>\n",
       "    <tr>\n",
       "      <th>4</th>\n",
       "      <td>20200501 000027</td>\n",
       "      <td>1.09446</td>\n",
       "      <td>0</td>\n",
       "    </tr>\n",
       "  </tbody>\n",
       "</table>\n",
       "</div>"
      ],
      "text/plain": [
       "         timestamp    price  unknown\n",
       "0  20200501 000000  1.09450        0\n",
       "1  20200501 000002  1.09448        0\n",
       "2  20200501 000003  1.09447        0\n",
       "3  20200501 000006  1.09445        0\n",
       "4  20200501 000027  1.09446        0"
      ]
     },
     "execution_count": 11,
     "metadata": {},
     "output_type": "execute_result"
    }
   ],
   "source": [
    "df = pd.read_csv('data/historic_data/DAT_NT_EURUSD_T_BID_202005.csv', sep = ';', header = None, names = ['timestamp', 'price', 'unknown'])\n",
    "df.head()"
   ]
  },
  {
   "cell_type": "markdown",
   "metadata": {},
   "source": [
    "## Code Engine"
   ]
  },
  {
   "cell_type": "markdown",
   "metadata": {},
   "source": [
    "### Dummy stream tester"
   ]
  },
  {
   "cell_type": "code",
   "execution_count": 12,
   "metadata": {
    "scrolled": true
   },
   "outputs": [
    {
     "name": "stdout",
     "output_type": "stream",
     "text": [
      "1\n",
      "2\n",
      "deque([1, 2, 3]) 3 positive\n",
      "deque([2, 3, 2]) 2 dir_change_negative\n",
      "deque([3, 2, 5]) 5 dir_change_positive\n",
      "deque([2, 5, 6]) 6 positive\n",
      "deque([5, 6, 7]) 7 positive\n",
      "deque([6, 7, 8]) 8 positive\n",
      "deque([7, 8, 9]) 9 positive\n",
      "deque([8, 9, 10]) 10 positive\n",
      "deque([9, 10, 11]) 11 positive\n",
      "deque([10, 11, 12]) 12 positive\n",
      "deque([10, 11, 12]) 12 positive\n",
      "deque([10, 11, 12]) 12 positive\n",
      "deque([11, 12, 11]) 11 dir_change_negative\n",
      "deque([12, 11, 10]) 10 negative\n",
      "deque([12, 11, 10]) 10 negative\n",
      "deque([11, 10, 9]) 9 negative\n",
      "deque([11, 10, 9]) 9 negative\n",
      "deque([10, 9, 8]) 8 negative\n",
      "deque([10, 9, 8]) 8 negative\n",
      "deque([9, 8, 7]) 7 negative\n",
      "deque([9, 8, 7]) 7 negative\n"
     ]
    }
   ],
   "source": [
    "full_list = [1,2,3,2,5,6,7,8,9,10,11,12,12,12,11,10,10,9,9,8,8,7,7]\n",
    "\n",
    "chunk_size = 3\n",
    "change_position = chunk_size - 1\n",
    "small_list = collections.deque([])\n",
    "size_flag = 0\n",
    "\n",
    "for i, val in enumerate(full_list):    \n",
    "    small_list = get_chunks(i, val)\n",
    "    if len(small_list) >= chunk_size:\n",
    "        d = find_direction(small_list) \n",
    "        print(small_list,val, d)\n",
    "    else:\n",
    "        print(val)"
   ]
  },
  {
   "cell_type": "markdown",
   "metadata": {},
   "source": [
    "### Real Live data streamer"
   ]
  },
  {
   "cell_type": "code",
   "execution_count": 13,
   "metadata": {},
   "outputs": [],
   "source": [
    "params = {\n",
    "    'instruments': 'EUR_USD'\n",
    "}\n",
    "\n",
    "num = 100\n",
    "chunk_size = 3\n",
    "seconds_delay = 0"
   ]
  },
  {
   "cell_type": "code",
   "execution_count": 14,
   "metadata": {
    "scrolled": false
   },
   "outputs": [
    {
     "name": "stderr",
     "output_type": "stream",
     "text": [
      "101it [01:42,  1.02s/it]\n"
     ]
    }
   ],
   "source": [
    "start_time = time.time()\n",
    "\n",
    "change_position = chunk_size - 1\n",
    "size_flag = 0\n",
    "dir_data = {'date':0,\n",
    "            'run_time':0,\n",
    "             'utc-time':0,\n",
    "             'instrument':'',\n",
    "             'flat':0,\n",
    "             'positive':0,\n",
    "             'negative':0,\n",
    "             'dir_change_negative':0,\n",
    "             'dir_change_positive':0,\n",
    "             'no_single_direction':0}\n",
    "\n",
    "\n",
    "price_details = {'tick_price':[],\n",
    "                 'truncated_tick_price':[],\n",
    "                 'direction':[]}\n",
    "\n",
    "\n",
    "small_list = collections.deque([])\n",
    "dir_data['instrument'] = params['instruments']\n",
    "dir_data['num'] = num\n",
    "dir_data['seconds_delay'] = seconds_delay\n",
    "\n",
    "\n",
    "r = pricing.PricingStream(accountID=accountID, params=params)\n",
    "rv = api.request(r)\n",
    "\n",
    "for i, resp in tqdm(enumerate(rv)):\n",
    "    if i < num: # Check if we are within the required number of price iterations               \n",
    "        resp_type = resp['type']        \n",
    "        \n",
    "        if resp_type == 'PRICE': # Check whether it is a price response                 \n",
    "            dir_data['date'], dir_data['time'], time_fraction = get_date_time(resp) # Get time stamp for reference            \n",
    "            sell_price, buy_price, spread, tick_price = get_prices(resp) # Get prices from the response                      \n",
    "            truncated_tick_price = restrict_to_pips(tick_price) # Restrict tick price to 4 decimal places \n",
    "            small_list = get_chunks(i, truncated_tick_price) # Chunkup up the tick prices for finding direction \n",
    "            \n",
    "            if len(small_list) >= chunk_size: # Check if the chunk has reached the predefined size for direction identification\n",
    "                direction = find_direction(small_list) \n",
    "                dir_data[direction] += 1\n",
    "                price_details = write_price_dict(price_details, tick_price, truncated_tick_price, direction)\n",
    "            else: # Not yet in required chunk size\n",
    "                price_details = write_price_dict(price_details, tick_price, truncated_tick_price, 'forming chunks')\n",
    "        else: # Heart beat response to keep the api connection alive (Avoid timeout)\n",
    "            pass\n",
    "\n",
    "    else: # Crossed the required number of price iterations\n",
    "        terminate_connection()\n",
    "\n",
    "    time.sleep(seconds_delay)\n",
    "\n",
    "end_time = time.time()    \n",
    "seconds_elapsed = end_time - start_time\n",
    "hours, rest = divmod(seconds_elapsed, 3600)\n",
    "minutes, seconds = divmod(rest, 60)\n",
    "dir_data['run_time'] = f'{round(hours)}:{round(minutes)}:{round(seconds)}'\n",
    "\n",
    "winsound.PlaySound('C:\\\\Windows\\\\Media\\\\tada.wav', winsound.SND_ASYNC)"
   ]
  },
  {
   "cell_type": "code",
   "execution_count": 15,
   "metadata": {},
   "outputs": [
    {
     "data": {
      "text/html": [
       "<div>\n",
       "<style scoped>\n",
       "    .dataframe tbody tr th:only-of-type {\n",
       "        vertical-align: middle;\n",
       "    }\n",
       "\n",
       "    .dataframe tbody tr th {\n",
       "        vertical-align: top;\n",
       "    }\n",
       "\n",
       "    .dataframe thead th {\n",
       "        text-align: right;\n",
       "    }\n",
       "</style>\n",
       "<table border=\"1\" class=\"dataframe\">\n",
       "  <thead>\n",
       "    <tr style=\"text-align: right;\">\n",
       "      <th></th>\n",
       "      <th>tick_price</th>\n",
       "      <th>truncated_tick_price</th>\n",
       "      <th>direction</th>\n",
       "    </tr>\n",
       "  </thead>\n",
       "  <tbody>\n",
       "    <tr>\n",
       "      <th>0</th>\n",
       "      <td>1.129280</td>\n",
       "      <td>1.1292</td>\n",
       "      <td>forming chunks</td>\n",
       "    </tr>\n",
       "    <tr>\n",
       "      <th>1</th>\n",
       "      <td>1.129265</td>\n",
       "      <td>1.1292</td>\n",
       "      <td>forming chunks</td>\n",
       "    </tr>\n",
       "    <tr>\n",
       "      <th>2</th>\n",
       "      <td>1.129280</td>\n",
       "      <td>1.1292</td>\n",
       "      <td>flat</td>\n",
       "    </tr>\n",
       "    <tr>\n",
       "      <th>3</th>\n",
       "      <td>1.129290</td>\n",
       "      <td>1.1292</td>\n",
       "      <td>flat</td>\n",
       "    </tr>\n",
       "    <tr>\n",
       "      <th>4</th>\n",
       "      <td>1.129305</td>\n",
       "      <td>1.1293</td>\n",
       "      <td>dir_change_positive</td>\n",
       "    </tr>\n",
       "  </tbody>\n",
       "</table>\n",
       "</div>"
      ],
      "text/plain": [
       "   tick_price  truncated_tick_price            direction\n",
       "0    1.129280                1.1292       forming chunks\n",
       "1    1.129265                1.1292       forming chunks\n",
       "2    1.129280                1.1292                 flat\n",
       "3    1.129290                1.1292                 flat\n",
       "4    1.129305                1.1293  dir_change_positive"
      ]
     },
     "execution_count": 15,
     "metadata": {},
     "output_type": "execute_result"
    }
   ],
   "source": [
    "df_price_details = pd.DataFrame.from_dict(price_details)\n",
    "df_price_details.to_csv('data/df_price_details.csv')\n",
    "df_price_details.head()"
   ]
  },
  {
   "cell_type": "code",
   "execution_count": 16,
   "metadata": {
    "scrolled": true
   },
   "outputs": [
    {
     "data": {
      "text/html": [
       "<div>\n",
       "<style scoped>\n",
       "    .dataframe tbody tr th:only-of-type {\n",
       "        vertical-align: middle;\n",
       "    }\n",
       "\n",
       "    .dataframe tbody tr th {\n",
       "        vertical-align: top;\n",
       "    }\n",
       "\n",
       "    .dataframe thead th {\n",
       "        text-align: right;\n",
       "    }\n",
       "</style>\n",
       "<table border=\"1\" class=\"dataframe\">\n",
       "  <thead>\n",
       "    <tr style=\"text-align: right;\">\n",
       "      <th></th>\n",
       "      <th>date</th>\n",
       "      <th>time</th>\n",
       "      <th>instrument</th>\n",
       "      <th>num</th>\n",
       "      <th>seconds_delay</th>\n",
       "      <th>run_time</th>\n",
       "      <th>positive</th>\n",
       "      <th>negative</th>\n",
       "      <th>dir_change_positive</th>\n",
       "      <th>dir_change_negative</th>\n",
       "      <th>flat</th>\n",
       "      <th>no_single_direction</th>\n",
       "    </tr>\n",
       "  </thead>\n",
       "  <tbody>\n",
       "    <tr>\n",
       "      <th>0</th>\n",
       "      <td>2020-06-09</td>\n",
       "      <td>12:29:30</td>\n",
       "      <td>EUR_USD</td>\n",
       "      <td>100.0</td>\n",
       "      <td>0.0</td>\n",
       "      <td>0:1:43</td>\n",
       "      <td>22.0</td>\n",
       "      <td>0.0</td>\n",
       "      <td>37.0</td>\n",
       "      <td>18.0</td>\n",
       "      <td>2.0</td>\n",
       "      <td>0.0</td>\n",
       "    </tr>\n",
       "  </tbody>\n",
       "</table>\n",
       "</div>"
      ],
      "text/plain": [
       "         date      time instrument    num  seconds_delay run_time  positive  \\\n",
       "0  2020-06-09  12:29:30    EUR_USD  100.0            0.0   0:1:43      22.0   \n",
       "\n",
       "   negative  dir_change_positive  dir_change_negative  flat  \\\n",
       "0       0.0                 37.0                 18.0   2.0   \n",
       "\n",
       "   no_single_direction  \n",
       "0                  0.0  "
      ]
     },
     "execution_count": 16,
     "metadata": {},
     "output_type": "execute_result"
    }
   ],
   "source": [
    "df_dir_data = pd.DataFrame()\n",
    "df_dir_data = df_dir_data.append(dir_data, ignore_index=True)\n",
    "df_dir_data = df_dir_data[['date', 'time' ,'instrument', 'num', 'seconds_delay','run_time','positive', 'negative', 'dir_change_positive', 'dir_change_negative', 'flat', 'no_single_direction']]\n",
    "df_dir_data.to_csv('data/df_dir_data.csv', mode='a', header=False)\n",
    "df_dir_data.head(10)"
   ]
  }
 ],
 "metadata": {
  "kernelspec": {
   "display_name": "Python 3",
   "language": "python",
   "name": "python3"
  },
  "language_info": {
   "codemirror_mode": {
    "name": "ipython",
    "version": 3
   },
   "file_extension": ".py",
   "mimetype": "text/x-python",
   "name": "python",
   "nbconvert_exporter": "python",
   "pygments_lexer": "ipython3",
   "version": "3.6.6"
  }
 },
 "nbformat": 4,
 "nbformat_minor": 4
}
