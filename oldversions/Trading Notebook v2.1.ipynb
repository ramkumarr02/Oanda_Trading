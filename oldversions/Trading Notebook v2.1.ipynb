{
 "cells": [
  {
   "cell_type": "markdown",
   "metadata": {},
   "source": [
    "# Oanda Demo Trading Notebook"
   ]
  },
  {
   "cell_type": "markdown",
   "metadata": {},
   "source": [
    "#### Packages"
   ]
  },
  {
   "cell_type": "markdown",
   "metadata": {},
   "source": [
    "Normal Packages"
   ]
  },
  {
   "cell_type": "code",
   "execution_count": 1,
   "metadata": {},
   "outputs": [],
   "source": [
    "import numpy as np\n",
    "import pandas as pd\n",
    "\n",
    "import yaml\n",
    "import json\n",
    "\n",
    "import time\n",
    "import winsound\n",
    "import collections\n",
    "\n",
    "import warnings\n",
    "warnings.filterwarnings('ignore')"
   ]
  },
  {
   "cell_type": "markdown",
   "metadata": {},
   "source": [
    "Oanda Packages"
   ]
  },
  {
   "cell_type": "code",
   "execution_count": 2,
   "metadata": {},
   "outputs": [],
   "source": [
    "from oandapyV20 import API\n",
    "import oandapyV20.endpoints.trades as trades\n",
    "import oandapyV20.endpoints.pricing as pricing\n",
    "import oandapyV20.endpoints.accounts as accounts\n",
    "\n",
    "import oandapyV20.definitions.pricing as defpricing\n",
    "import oandapyV20.endpoints.instruments as instruments"
   ]
  },
  {
   "cell_type": "markdown",
   "metadata": {},
   "source": [
    "#### API Setup"
   ]
  },
  {
   "cell_type": "markdown",
   "metadata": {},
   "source": [
    "Read from config file"
   ]
  },
  {
   "cell_type": "code",
   "execution_count": 3,
   "metadata": {},
   "outputs": [],
   "source": [
    "config_file = 'config/access_token.yaml'\n",
    "\n",
    "with open(config_file) as c_file:\n",
    "    config = yaml.load(c_file)\n",
    "\n",
    "access_token = config['oanda_demo_account']['token']\n",
    "accountID = config['oanda_demo_account']['account_id']\n",
    "\n",
    "api = API(access_token = access_token)"
   ]
  },
  {
   "cell_type": "markdown",
   "metadata": {},
   "source": [
    "#### Retrive Data"
   ]
  },
  {
   "cell_type": "code",
   "execution_count": 4,
   "metadata": {},
   "outputs": [],
   "source": [
    "# Get timestamp of the price and segregate it\n",
    "def get_date_time(resp):\n",
    "    \n",
    "    time_stamp = resp['time']\n",
    "    date_val, full_time = time_stamp.split(sep = 'T')\n",
    "    time_val, time_fraction = full_time.split(sep = '.')\n",
    "    \n",
    "    return(date_val, time_val, time_fraction)"
   ]
  },
  {
   "cell_type": "code",
   "execution_count": 5,
   "metadata": {},
   "outputs": [],
   "source": [
    "# Get bid and ask prices\n",
    "def get_prices(resp):\n",
    "    \n",
    "    bid_price = float(resp['bids'][0]['price'])    \n",
    "    ask_price = float(resp['asks'][0]['price'])\n",
    "    spread = ask_price - bid_price\n",
    "    \n",
    "    return(bid_price, ask_price, spread)"
   ]
  },
  {
   "cell_type": "code",
   "execution_count": 6,
   "metadata": {},
   "outputs": [],
   "source": [
    "# Terminate connection\n",
    "def terminate_connection():\n",
    "    try:\n",
    "        print('Connection Terminated')\n",
    "        r.terminate(message = \"maxrecs records received\")\n",
    "    except:\n",
    "        pass"
   ]
  },
  {
   "cell_type": "code",
   "execution_count": 7,
   "metadata": {},
   "outputs": [],
   "source": [
    "# Add prices into chunks for direction identification\n",
    "def get_chunks(i, val):\n",
    "    global chunk_size\n",
    "    global small_list\n",
    "    global size_flag\n",
    "    global change_position\n",
    "    \n",
    "    if i < chunk_size: #Keep adding prices until we reach chunk size\n",
    "        small_list.append(val)  \n",
    "               \n",
    "    if size_flag == 1:\n",
    "        small_list.popleft()   #Remove the left most (first) price\n",
    "        small_list.append(val) #Add current value to right most position\n",
    "        \n",
    "        change_position -= 1  #Price allocation in small list happens right to left so change position goes from chunk size to zero\n",
    "        if change_position < 0: \n",
    "            change_position = chunk_size - 1 #If position reaches zero, it needs to be reset to chunk size - 1 (for index position)\n",
    "    \n",
    "    if len(small_list) == chunk_size: #check if small list has reached chunk size\n",
    "        size_flag = 1  \n",
    "    \n",
    "    return(small_list)"
   ]
  },
  {
   "cell_type": "code",
   "execution_count": 8,
   "metadata": {},
   "outputs": [],
   "source": [
    "# Add prices into chunks for direction identification\n",
    "def get_chunks1(i, val):\n",
    "    global chunk_size\n",
    "    global small_list\n",
    "    global size_flag\n",
    "    global change_position\n",
    "    \n",
    "    if len(small_list) < chunk_size: #Keep adding prices until we reach chunk size\n",
    "        small_list.append(val)  \n",
    "               \n",
    "    if size_flag == 'reached_chunk_size':        \n",
    "        if small_list[-1] != val: \n",
    "            small_list.popleft()   #Remove the left most (first) price\n",
    "            small_list.append(val) #Add current value to right most position\n",
    "\n",
    "                \n",
    "        change_position -= 1  #Price allocation in small list happens right to left so change position goes from chunk size to zero\n",
    "        if change_position < 0: \n",
    "            change_position = chunk_size - 1 #If position reaches zero, it needs to be reset to chunk size - 1 (for index position)\n",
    "\n",
    "            \n",
    "    if len(small_list) == chunk_size: #check if small list has reached chunk size\n",
    "        size_flag = 'reached_chunk_size'  \n",
    "    \n",
    "    return(small_list)"
   ]
  },
  {
   "cell_type": "code",
   "execution_count": 9,
   "metadata": {},
   "outputs": [],
   "source": [
    "# Identify directions\n",
    "def find_direction(lst):\n",
    "    list_size = len(lst)\n",
    "    diff = {}\n",
    "    dir_flag = 'Error : not calculated'\n",
    "   \n",
    "    for i in range(list_size-1): #write the list into a dictionary \n",
    "        diff[i] = lst[i+1] - lst[i]       \n",
    "        \n",
    "    if all(x==0 for x in diff.values()):\n",
    "        dir_flag = 'flat'\n",
    "    \n",
    "    elif all(x>0 for x in diff.values()):\n",
    "        dir_flag = 'positive'\n",
    "    \n",
    "    elif all(x<0 for x in diff.values()):\n",
    "        dir_flag = 'negative'\n",
    "    \n",
    "    elif list(diff.values())[-1] == 0 and list(diff.values())[-2] > 0:\n",
    "        dir_flag = 'flat'\n",
    "\n",
    "    elif list(diff.values())[-1] == 0 and list(diff.values())[-2] < 0:\n",
    "        dir_flag = 'flat'\n",
    "\n",
    "    elif list(diff.values())[-2] >= 0 and list(diff.values())[-1] < 0:\n",
    "        dir_flag = 'dir_change_negative'      \n",
    "\n",
    "    elif list(diff.values())[-2] <= 0 and list(diff.values())[-1] > 0:\n",
    "        dir_flag = 'dir_change_positive'      \n",
    "        \n",
    "    else:\n",
    "        dir_flag = 'no_single_direction'\n",
    "        \n",
    "    return(dir_flag)"
   ]
  },
  {
   "cell_type": "code",
   "execution_count": 10,
   "metadata": {
    "scrolled": false
   },
   "outputs": [
    {
     "name": "stdout",
     "output_type": "stream",
     "text": [
      "1\n",
      "2\n",
      "deque([1, 2, 3]) 3 positive\n",
      "deque([2, 3, 2]) 2 dir_change_negative\n",
      "deque([3, 2, 5]) 5 dir_change_positive\n",
      "deque([2, 5, 6]) 6 positive\n",
      "deque([5, 6, 7]) 7 positive\n",
      "deque([6, 7, 8]) 8 positive\n",
      "deque([7, 8, 9]) 9 positive\n",
      "deque([8, 9, 10]) 10 positive\n",
      "deque([9, 10, 11]) 11 positive\n",
      "deque([10, 11, 12]) 12 positive\n",
      "deque([10, 11, 12]) 12 positive\n",
      "deque([10, 11, 12]) 12 positive\n",
      "deque([11, 12, 11]) 11 dir_change_negative\n",
      "deque([12, 11, 10]) 10 negative\n",
      "deque([12, 11, 10]) 10 negative\n",
      "deque([11, 10, 9]) 9 negative\n",
      "deque([11, 10, 9]) 9 negative\n",
      "deque([10, 9, 8]) 8 negative\n",
      "deque([10, 9, 8]) 8 negative\n",
      "deque([9, 8, 7]) 7 negative\n",
      "deque([9, 8, 7]) 7 negative\n"
     ]
    }
   ],
   "source": [
    "full_list = [1,2,3,2,5,6,7,8,9,10,11,12,12,12,11,10,10,9,9,8,8,7,7]\n",
    "\n",
    "chunk_size = 3\n",
    "change_position = chunk_size - 1\n",
    "small_list = collections.deque([])\n",
    "size_flag = 0\n",
    "\n",
    "for i, val in enumerate(full_list):    \n",
    "    small_list = get_chunks1(i, val)\n",
    "    if len(small_list) >= chunk_size:\n",
    "        d = find_direction(small_list) \n",
    "        print(small_list,val, d)\n",
    "    else:\n",
    "        print(val)"
   ]
  },
  {
   "cell_type": "code",
   "execution_count": 12,
   "metadata": {
    "scrolled": false
   },
   "outputs": [
    {
     "name": "stdout",
     "output_type": "stream",
     "text": [
      "1\n",
      "2\n",
      "3\n",
      "2\n",
      "5\n",
      "6\n",
      "7\n",
      "8\n",
      "deque([1, 2, 3, 2, 5, 6, 7, 8, 9]) 9 no_single_direction\n",
      "deque([2, 3, 2, 5, 6, 7, 8, 9, 10]) 10 no_single_direction\n",
      "deque([3, 2, 5, 6, 7, 8, 9, 10, 11]) 11 no_single_direction\n",
      "deque([2, 5, 6, 7, 8, 9, 10, 11, 12]) 12 positive\n",
      "deque([2, 5, 6, 7, 8, 9, 10, 11, 12]) 12 positive\n",
      "deque([2, 5, 6, 7, 8, 9, 10, 11, 12]) 12 positive\n",
      "deque([5, 6, 7, 8, 9, 10, 11, 12, 11]) 11 dir_change_negative\n",
      "deque([6, 7, 8, 9, 10, 11, 12, 11, 10]) 10 no_single_direction\n",
      "deque([6, 7, 8, 9, 10, 11, 12, 11, 10]) 10 no_single_direction\n",
      "deque([7, 8, 9, 10, 11, 12, 11, 10, 9]) 9 no_single_direction\n",
      "deque([7, 8, 9, 10, 11, 12, 11, 10, 9]) 9 no_single_direction\n",
      "deque([8, 9, 10, 11, 12, 11, 10, 9, 8]) 8 no_single_direction\n",
      "deque([8, 9, 10, 11, 12, 11, 10, 9, 8]) 8 no_single_direction\n",
      "deque([9, 10, 11, 12, 11, 10, 9, 8, 7]) 7 no_single_direction\n",
      "deque([9, 10, 11, 12, 11, 10, 9, 8, 7]) 7 no_single_direction\n"
     ]
    }
   ],
   "source": [
    "full_list = [1,2,3,2,5,6,7,8,9,10,11,12,12,12,11,10,10,9,9,8,8,7,7]\n",
    "\n",
    "chunk_size = 9\n",
    "change_position = chunk_size - 1\n",
    "small_list = collections.deque([])\n",
    "size_flag = 0\n",
    "\n",
    "for i, val in enumerate(full_list):    \n",
    "    small_list = get_chunks1(i, val)\n",
    "    if len(small_list) >= chunk_size:\n",
    "        d = find_direction(small_list) \n",
    "        print(small_list,val, d)\n",
    "    else:\n",
    "        print(val)"
   ]
  },
  {
   "cell_type": "code",
   "execution_count": null,
   "metadata": {},
   "outputs": [],
   "source": [
    "params = {\n",
    "    'instruments': 'EUR_USD'\n",
    "}\n",
    "r = pricing.PricingStream(accountID=accountID, params=params)\n",
    "rv = api.request(r)\n",
    "\n",
    "num = 4\n",
    "bp_list = []\n",
    "sp_list = []\n",
    "\n",
    "for i, resp in enumerate(rv):\n",
    "    if i < num:        \n",
    "        print('Iteration : ',i)\n",
    "        \n",
    "        resp_type = resp['type']        \n",
    "        \n",
    "        if resp_type == 'PRICE':    \n",
    "            date_val, time_val, time_fraction = get_date_time(resp)\n",
    "            sell_price, buy_price, spread = get_prices(resp)          \n",
    "            print('buy_price:',buy_price,',' , 'sell_price:',sell_price, ',', 'spread(pips):',spread*10000)\n",
    "            print('----------------------------------------------')\n",
    "            \n",
    "        else:\n",
    "            print('HEARTBEAT')\n",
    "\n",
    "    else:\n",
    "        terminate_connection()\n",
    "        \n",
    "winsound.PlaySound('C:\\\\Windows\\\\Media\\\\tada.wav', winsound.SND_ASYNC)"
   ]
  },
  {
   "cell_type": "markdown",
   "metadata": {},
   "source": [
    "# 2. fit into full code"
   ]
  },
  {
   "cell_type": "code",
   "execution_count": null,
   "metadata": {
    "scrolled": true
   },
   "outputs": [],
   "source": [
    "params = {\n",
    "          \"instrument\": \"EUR_USD\",\n",
    "          \"time\": \"2020-06-06T04:00:00Z\"\n",
    "        }\n",
    "        \n",
    "r = instruments.InstrumentsPositionBook(instrument=\"EUR_USD\", params=params)\n",
    "temp = api.request(r)\n",
    "hist_price_list = temp[\"positionBook\"][\"buckets\"]\n",
    "print(len(hist_price_list))\n",
    "temp"
   ]
  },
  {
   "cell_type": "code",
   "execution_count": null,
   "metadata": {
    "scrolled": true
   },
   "outputs": [],
   "source": [
    "params = {\n",
    "          \"instrument\": \"EUR_USD\",\n",
    "          \"time\": \"2020-06-05T05:00:00Z\"\n",
    "        }\n",
    "        \n",
    "r = instruments.InstrumentsPositionBook(instrument=\"EUR_USD\", params=params)\n",
    "temp = api.request(r)\n",
    "hist_price_list = temp[\"positionBook\"][\"buckets\"]\n",
    "print(len(hist_price_list))\n",
    "temp"
   ]
  },
  {
   "cell_type": "code",
   "execution_count": null,
   "metadata": {
    "scrolled": true
   },
   "outputs": [],
   "source": [
    "params = {\n",
    "          \"from\": \"2020-05-01T00:00:00Z\",\n",
    "          \"to\": \"2020-05-01T01:00:00Z\",\n",
    "          \"granularity\": \"S5\"}\n",
    "\n",
    "r = instruments.InstrumentsCandles(instrument=\"EUR_USD\",\n",
    "                                   params=params)\n",
    "\n",
    "api.request(r)"
   ]
  },
  {
   "cell_type": "code",
   "execution_count": null,
   "metadata": {},
   "outputs": [],
   "source": [
    "df = pd.read_csv('DAT_NT_EURUSD_T_BID_202005.csv', sep = ';', header = None, names = ['timestamp', 'price', 'unknown'])"
   ]
  },
  {
   "cell_type": "code",
   "execution_count": null,
   "metadata": {},
   "outputs": [],
   "source": [
    "df.head()"
   ]
  }
 ],
 "metadata": {
  "kernelspec": {
   "display_name": "Python 3",
   "language": "python",
   "name": "python3"
  },
  "language_info": {
   "codemirror_mode": {
    "name": "ipython",
    "version": 3
   },
   "file_extension": ".py",
   "mimetype": "text/x-python",
   "name": "python",
   "nbconvert_exporter": "python",
   "pygments_lexer": "ipython3",
   "version": "3.6.6"
  }
 },
 "nbformat": 4,
 "nbformat_minor": 4
}
