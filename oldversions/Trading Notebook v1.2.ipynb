{
 "cells": [
  {
   "cell_type": "markdown",
   "metadata": {},
   "source": [
    "# Oanda Demo Trading Notebook"
   ]
  },
  {
   "cell_type": "markdown",
   "metadata": {},
   "source": [
    "#### Packages"
   ]
  },
  {
   "cell_type": "markdown",
   "metadata": {},
   "source": [
    "Normal Packages"
   ]
  },
  {
   "cell_type": "code",
   "execution_count": 1,
   "metadata": {},
   "outputs": [],
   "source": [
    "import numpy as np\n",
    "import pandas as pd\n",
    "\n",
    "import yaml\n",
    "import json\n",
    "\n",
    "import time\n",
    "import winsound\n",
    "\n",
    "import warnings\n",
    "warnings.filterwarnings('ignore')"
   ]
  },
  {
   "cell_type": "markdown",
   "metadata": {},
   "source": [
    "Oanda Packages"
   ]
  },
  {
   "cell_type": "code",
   "execution_count": 2,
   "metadata": {},
   "outputs": [],
   "source": [
    "from oandapyV20 import API\n",
    "import oandapyV20.endpoints.trades as trades\n",
    "import oandapyV20.endpoints.pricing as pricing\n",
    "import oandapyV20.endpoints.accounts as accounts\n",
    "\n",
    "import oandapyV20.definitions.pricing as defpricing\n",
    "import oandapyV20.endpoints.instruments as instruments"
   ]
  },
  {
   "cell_type": "markdown",
   "metadata": {},
   "source": [
    "#### API Setup"
   ]
  },
  {
   "cell_type": "markdown",
   "metadata": {},
   "source": [
    "Read from config file"
   ]
  },
  {
   "cell_type": "code",
   "execution_count": 3,
   "metadata": {},
   "outputs": [],
   "source": [
    "config_file = 'config/access_token.yaml'\n",
    "\n",
    "with open(config_file) as c_file:\n",
    "    config = yaml.load(c_file)\n",
    "\n",
    "access_token = config['oanda_demo_account']['token']\n",
    "accountID = config['oanda_demo_account']['account_id']\n",
    "\n",
    "api = API(access_token = access_token)"
   ]
  },
  {
   "cell_type": "markdown",
   "metadata": {},
   "source": [
    "#### Retrive Data"
   ]
  },
  {
   "cell_type": "markdown",
   "metadata": {},
   "source": [
    "Get Trade list"
   ]
  },
  {
   "cell_type": "code",
   "execution_count": 4,
   "metadata": {},
   "outputs": [
    {
     "name": "stdout",
     "output_type": "stream",
     "text": [
      "{'trades': [], 'lastTransactionID': '23'}\n"
     ]
    }
   ],
   "source": [
    "trade_info = trades.TradesList(accountID)\n",
    "api.request(trade_info)\n",
    "print(trade_info.response)"
   ]
  },
  {
   "cell_type": "markdown",
   "metadata": {},
   "source": [
    "Get Account Details"
   ]
  },
  {
   "cell_type": "code",
   "execution_count": 5,
   "metadata": {
    "scrolled": true
   },
   "outputs": [
    {
     "data": {
      "text/plain": [
       "{'account': {'guaranteedStopLossOrderMode': 'ALLOWED',\n",
       "  'hedgingEnabled': False,\n",
       "  'id': '101-003-15069707-001',\n",
       "  'createdTime': '2020-06-02T05:27:47.736583433Z',\n",
       "  'currency': 'SGD',\n",
       "  'createdByUserID': 15069707,\n",
       "  'alias': 'Primary',\n",
       "  'marginRate': '0.05',\n",
       "  'lastTransactionID': '23',\n",
       "  'balance': '100000.0007',\n",
       "  'openTradeCount': 0,\n",
       "  'openPositionCount': 0,\n",
       "  'pendingOrderCount': 0,\n",
       "  'pl': '0.0007',\n",
       "  'resettablePL': '0.0007',\n",
       "  'resettablePLTime': '0',\n",
       "  'financing': '0.0000',\n",
       "  'commission': '0.0000',\n",
       "  'dividendAdjustment': '0',\n",
       "  'guaranteedExecutionFees': '0.0000',\n",
       "  'orders': [],\n",
       "  'positions': [{'instrument': 'EUR_USD',\n",
       "    'long': {'units': '0',\n",
       "     'pl': '0.0007',\n",
       "     'resettablePL': '0.0007',\n",
       "     'financing': '0.0000',\n",
       "     'dividendAdjustment': '0.0000',\n",
       "     'guaranteedExecutionFees': '0.0000',\n",
       "     'unrealizedPL': '0.0000'},\n",
       "    'short': {'units': '0',\n",
       "     'pl': '0.0000',\n",
       "     'resettablePL': '0.0000',\n",
       "     'financing': '0.0000',\n",
       "     'dividendAdjustment': '0.0000',\n",
       "     'guaranteedExecutionFees': '0.0000',\n",
       "     'unrealizedPL': '0.0000'},\n",
       "    'pl': '0.0007',\n",
       "    'resettablePL': '0.0007',\n",
       "    'financing': '0.0000',\n",
       "    'commission': '0.0000',\n",
       "    'dividendAdjustment': '0.0000',\n",
       "    'guaranteedExecutionFees': '0.0000',\n",
       "    'unrealizedPL': '0.0000',\n",
       "    'marginUsed': '0.0000'}],\n",
       "  'trades': [],\n",
       "  'unrealizedPL': '0.0000',\n",
       "  'NAV': '100000.0007',\n",
       "  'marginUsed': '0.0000',\n",
       "  'marginAvailable': '100000.0007',\n",
       "  'positionValue': '0.0000',\n",
       "  'marginCloseoutUnrealizedPL': '0.0000',\n",
       "  'marginCloseoutNAV': '100000.0007',\n",
       "  'marginCloseoutMarginUsed': '0.0000',\n",
       "  'marginCloseoutPositionValue': '0.0000',\n",
       "  'marginCloseoutPercent': '0.00000',\n",
       "  'withdrawalLimit': '100000.0007',\n",
       "  'marginCallMarginUsed': '0.0000',\n",
       "  'marginCallPercent': '0.00000'},\n",
       " 'lastTransactionID': '23'}"
      ]
     },
     "execution_count": 5,
     "metadata": {},
     "output_type": "execute_result"
    }
   ],
   "source": [
    "acct_info = accounts.AccountDetails(accountID = accountID)\n",
    "api.request(acct_info)\n",
    "\n",
    "acct_info.response"
   ]
  },
  {
   "cell_type": "code",
   "execution_count": 6,
   "metadata": {},
   "outputs": [
    {
     "data": {
      "text/plain": [
       "{'units': '0',\n",
       " 'pl': '0.0007',\n",
       " 'resettablePL': '0.0007',\n",
       " 'financing': '0.0000',\n",
       " 'dividendAdjustment': '0.0000',\n",
       " 'guaranteedExecutionFees': '0.0000',\n",
       " 'unrealizedPL': '0.0000'}"
      ]
     },
     "execution_count": 6,
     "metadata": {},
     "output_type": "execute_result"
    }
   ],
   "source": [
    "acct_info.response['account']['positions'][0]['long']"
   ]
  },
  {
   "cell_type": "markdown",
   "metadata": {},
   "source": [
    "Get candle data"
   ]
  },
  {
   "cell_type": "code",
   "execution_count": 7,
   "metadata": {},
   "outputs": [
    {
     "data": {
      "text/plain": [
       "0    {'o': '1.08349', 'h': '1.08354', 'l': '1.08349...\n",
       "1    {'o': '1.08350', 'h': '1.08352', 'l': '1.08350...\n",
       "2    {'o': '1.08350', 'h': '1.08354', 'l': '1.08348...\n",
       "3    {'o': '1.08350', 'h': '1.08359', 'l': '1.08350...\n",
       "4    {'o': '1.08356', 'h': '1.08359', 'l': '1.08353...\n",
       "5    {'o': '1.08356', 'h': '1.08356', 'l': '1.08348...\n",
       "6    {'o': '1.08356', 'h': '1.08356', 'l': '1.08348...\n",
       "7    {'o': '1.08347', 'h': '1.08348', 'l': '1.08347...\n",
       "8    {'o': '1.08346', 'h': '1.08348', 'l': '1.08337...\n",
       "9    {'o': '1.08344', 'h': '1.08348', 'l': '1.08342...\n",
       "Name: mid, dtype: object"
      ]
     },
     "execution_count": 7,
     "metadata": {},
     "output_type": "execute_result"
    }
   ],
   "source": [
    "params = {\n",
    "  \"count\": 10,\n",
    "  \"granularity\": \"M1\",\n",
    "  \"from\": \"2020-05-06\"\n",
    "  }\n",
    "r = instruments.InstrumentsCandles(instrument=\"EUR_USD\", params=params)\n",
    "api.request(r)\n",
    "df = pd.DataFrame(r.response['candles'])\n",
    "df1 = df['mid']\n",
    "df1"
   ]
  },
  {
   "cell_type": "markdown",
   "metadata": {},
   "source": [
    "Get Price details"
   ]
  },
  {
   "cell_type": "code",
   "execution_count": 8,
   "metadata": {
    "scrolled": true
   },
   "outputs": [
    {
     "name": "stdout",
     "output_type": "stream",
     "text": [
      "{\n",
      "  \"time\": \"2020-06-05T12:20:53.862646512Z\",\n",
      "  \"prices\": [\n",
      "    {\n",
      "      \"type\": \"PRICE\",\n",
      "      \"time\": \"2020-06-05T12:20:53.387365508Z\",\n",
      "      \"bids\": [\n",
      "        {\n",
      "          \"price\": \"1.13335\",\n",
      "          \"liquidity\": 1000000\n",
      "        },\n",
      "        {\n",
      "          \"price\": \"1.13334\",\n",
      "          \"liquidity\": 2000000\n",
      "        },\n",
      "        {\n",
      "          \"price\": \"1.13333\",\n",
      "          \"liquidity\": 2000000\n",
      "        },\n",
      "        {\n",
      "          \"price\": \"1.13331\",\n",
      "          \"liquidity\": 5000000\n",
      "        }\n",
      "      ],\n",
      "      \"asks\": [\n",
      "        {\n",
      "          \"price\": \"1.13344\",\n",
      "          \"liquidity\": 1000000\n",
      "        },\n",
      "        {\n",
      "          \"price\": \"1.13346\",\n",
      "          \"liquidity\": 2000000\n",
      "        },\n",
      "        {\n",
      "          \"price\": \"1.13347\",\n",
      "          \"liquidity\": 2000000\n",
      "        },\n",
      "        {\n",
      "          \"price\": \"1.13348\",\n",
      "          \"liquidity\": 5000000\n",
      "        }\n",
      "      ],\n",
      "      \"closeoutBid\": \"1.13331\",\n",
      "      \"closeoutAsk\": \"1.13348\",\n",
      "      \"status\": \"tradeable\",\n",
      "      \"tradeable\": true,\n",
      "      \"unitsAvailable\": {\n",
      "        \"default\": {\n",
      "          \"long\": \"1267499\",\n",
      "          \"short\": \"1267499\"\n",
      "        },\n",
      "        \"openOnly\": {\n",
      "          \"long\": \"1267499\",\n",
      "          \"short\": \"1267499\"\n",
      "        },\n",
      "        \"reduceFirst\": {\n",
      "          \"long\": \"1267499\",\n",
      "          \"short\": \"1267499\"\n",
      "        },\n",
      "        \"reduceOnly\": {\n",
      "          \"long\": \"0\",\n",
      "          \"short\": \"0\"\n",
      "        }\n",
      "      },\n",
      "      \"quoteHomeConversionFactors\": {\n",
      "        \"positiveUnits\": \"1.39207000\",\n",
      "        \"negativeUnits\": \"1.39232000\"\n",
      "      },\n",
      "      \"instrument\": \"EUR_USD\"\n",
      "    }\n",
      "  ]\n",
      "}\n"
     ]
    }
   ],
   "source": [
    "params = {\n",
    "    'instruments': 'EUR_USD'\n",
    "}\n",
    "\n",
    "price_info = pricing.PricingInfo(accountID = accountID, params = params)\n",
    "price = api.request(price_info)\n",
    "\n",
    "#print(price)\n",
    "print(json.dumps(price, indent = 2))"
   ]
  },
  {
   "cell_type": "code",
   "execution_count": 9,
   "metadata": {},
   "outputs": [
    {
     "data": {
      "text/plain": [
       "dict_keys(['type', 'time', 'bids', 'asks', 'closeoutBid', 'closeoutAsk', 'status', 'tradeable', 'unitsAvailable', 'quoteHomeConversionFactors', 'instrument'])"
      ]
     },
     "execution_count": 9,
     "metadata": {},
     "output_type": "execute_result"
    }
   ],
   "source": [
    "price['prices'][0].keys()"
   ]
  },
  {
   "cell_type": "code",
   "execution_count": 10,
   "metadata": {
    "scrolled": false
   },
   "outputs": [
    {
     "data": {
      "text/plain": [
       "{'type': 'PRICE',\n",
       " 'time': '2020-06-05T12:20:53.387365508Z',\n",
       " 'bids': [{'price': '1.13335', 'liquidity': 1000000},\n",
       "  {'price': '1.13334', 'liquidity': 2000000},\n",
       "  {'price': '1.13333', 'liquidity': 2000000},\n",
       "  {'price': '1.13331', 'liquidity': 5000000}],\n",
       " 'asks': [{'price': '1.13344', 'liquidity': 1000000},\n",
       "  {'price': '1.13346', 'liquidity': 2000000},\n",
       "  {'price': '1.13347', 'liquidity': 2000000},\n",
       "  {'price': '1.13348', 'liquidity': 5000000}],\n",
       " 'closeoutBid': '1.13331',\n",
       " 'closeoutAsk': '1.13348',\n",
       " 'status': 'tradeable',\n",
       " 'tradeable': True,\n",
       " 'unitsAvailable': {'default': {'long': '1267499', 'short': '1267499'},\n",
       "  'openOnly': {'long': '1267499', 'short': '1267499'},\n",
       "  'reduceFirst': {'long': '1267499', 'short': '1267499'},\n",
       "  'reduceOnly': {'long': '0', 'short': '0'}},\n",
       " 'quoteHomeConversionFactors': {'positiveUnits': '1.39207000',\n",
       "  'negativeUnits': '1.39232000'},\n",
       " 'instrument': 'EUR_USD'}"
      ]
     },
     "execution_count": 10,
     "metadata": {},
     "output_type": "execute_result"
    }
   ],
   "source": [
    "price['prices'][0]"
   ]
  },
  {
   "cell_type": "code",
   "execution_count": 11,
   "metadata": {
    "scrolled": true
   },
   "outputs": [
    {
     "name": "stdout",
     "output_type": "stream",
     "text": [
      "0\n",
      "date :  2020-06-05\n",
      "time :  12:20:55\n",
      "time fraction :  443832570Z\n",
      "bid_price :  1.13337\n",
      "ask_price :  1.13345\n",
      "\n",
      "-----------------------------------------------------------------------\n",
      "1\n",
      "date :  2020-06-05\n",
      "time :  12:20:55\n",
      "time fraction :  725380619Z\n",
      "bid_price :  1.13337\n",
      "ask_price :  1.13345\n",
      "\n",
      "-----------------------------------------------------------------------\n",
      "2\n",
      "date :  2020-06-05\n",
      "time :  12:20:55\n",
      "time fraction :  907027781Z\n",
      "bid_price :  1.13338\n",
      "ask_price :  1.13346\n",
      "\n",
      "-----------------------------------------------------------------------\n",
      "3\n",
      "date :  2020-06-05\n",
      "time :  12:20:56\n",
      "time fraction :  062201980Z\n",
      "bid_price :  1.13337\n",
      "ask_price :  1.13345\n",
      "\n",
      "-----------------------------------------------------------------------\n",
      "4\n",
      "date :  2020-06-05\n",
      "time :  12:20:56\n",
      "time fraction :  443698463Z\n",
      "bid_price :  1.13338\n",
      "ask_price :  1.13346\n",
      "\n",
      "-----------------------------------------------------------------------\n",
      "5\n"
     ]
    }
   ],
   "source": [
    "r = pricing.PricingStream(accountID=accountID, params=params)\n",
    "rv = api.request(r)\n",
    "\n",
    "num = 5\n",
    "n = 0\n",
    "for resp in rv:\n",
    "    print(n)\n",
    "\n",
    "    if n < num:        \n",
    "        resp_type = resp['type']        \n",
    "\n",
    "        if resp_type == 'PRICE':\n",
    "            time_stamp = resp['time']\n",
    "            date_val, full_time = time_stamp.split(sep = 'T')\n",
    "            time_val, time_fraction = full_time.split(sep = '.')\n",
    "\n",
    "            print('date : ',date_val)\n",
    "            print('time : ',time_val)\n",
    "            print('time fraction : ',time_fraction)\n",
    "\n",
    "            bid_price = resp['bids'][0]['price']\n",
    "            print('bid_price : ',bid_price)\n",
    "\n",
    "            ask_price = resp['asks'][0]['price']\n",
    "            print('ask_price : ',ask_price)\n",
    "            print('\\n-----------------------------------------------------------------------')\n",
    "\n",
    "            n += 1\n",
    "            #time.sleep(1)\n",
    "        else:\n",
    "            print('HEARTBEAT')\n",
    "\n",
    "    else:\n",
    "        try:\n",
    "            r.terminate(message = \"maxrecs records received\")\n",
    "        except:\n",
    "            pass\n",
    "        \n",
    "winsound.PlaySound('C:\\\\Windows\\\\Media\\\\tada.wav', winsound.SND_ASYNC)"
   ]
  },
  {
   "cell_type": "code",
   "execution_count": 15,
   "metadata": {},
   "outputs": [],
   "source": [
    "def get_date_time(resp):\n",
    "    \n",
    "    time_stamp = resp['time']\n",
    "    date_val, full_time = time_stamp.split(sep = 'T')\n",
    "    time_val, time_fraction = full_time.split(sep = '.')\n",
    "    \n",
    "    return(date_val, time_val, time_fraction)"
   ]
  },
  {
   "cell_type": "code",
   "execution_count": 16,
   "metadata": {},
   "outputs": [],
   "source": [
    "def get_prices(resp):\n",
    "    \n",
    "    bid_price = resp['bids'][0]['price']    \n",
    "    ask_price = resp['asks'][0]['price']\n",
    "    \n",
    "    return(bid_price, ask_price)"
   ]
  },
  {
   "cell_type": "code",
   "execution_count": 21,
   "metadata": {
    "scrolled": false
   },
   "outputs": [
    {
     "name": "stdout",
     "output_type": "stream",
     "text": [
      "Iteration :  0\n",
      "date :  2020-06-05\n",
      "time :  12:34:20\n",
      "time fraction :  683377579Z\n",
      "bid_price :  1.13049\n",
      "ask_price :  1.13065\n",
      "\n",
      "-----------------------------------------------------------------------\n",
      "Iteration :  1\n",
      "date :  2020-06-05\n",
      "time :  12:34:21\n",
      "time fraction :  046823499Z\n",
      "bid_price :  1.13057\n",
      "ask_price :  1.13072\n",
      "\n",
      "-----------------------------------------------------------------------\n",
      "Iteration :  2\n",
      "date :  2020-06-05\n",
      "time :  12:34:21\n",
      "time fraction :  299559631Z\n",
      "bid_price :  1.13055\n",
      "ask_price :  1.13069\n",
      "\n",
      "-----------------------------------------------------------------------\n",
      "Iteration :  3\n",
      "date :  2020-06-05\n",
      "time :  12:34:21\n",
      "time fraction :  519840435Z\n",
      "bid_price :  1.13050\n",
      "ask_price :  1.13064\n",
      "\n",
      "-----------------------------------------------------------------------\n"
     ]
    }
   ],
   "source": [
    "r = pricing.PricingStream(accountID=accountID, params=params)\n",
    "rv = api.request(r)\n",
    "\n",
    "num = 4\n",
    "n = 0\n",
    "for resp in rv:\n",
    "    if n < num:        \n",
    "        print('Iteration : ',n)\n",
    "        resp_type = resp['type']        \n",
    "\n",
    "        if resp_type == 'PRICE':\n",
    "            \n",
    "            date_val, time_val, time_fraction = get_date_time(resp)\n",
    "            bid_price, ask_price = get_prices(resp)\n",
    "            \n",
    "            print('date : ',date_val)\n",
    "            print('time : ',time_val)\n",
    "            print('time fraction : ',time_fraction)\n",
    "            print('bid_price : ',bid_price)\n",
    "            print('ask_price : ',ask_price)\n",
    "            print('\\n-----------------------------------------------------------------------')\n",
    "            n += 1\n",
    "        else:\n",
    "\n",
    "            print('HEARTBEAT')\n",
    "\n",
    "    else:\n",
    "        try:\n",
    "            r.terminate(message = \"maxrecs records received\")\n",
    "        except:\n",
    "            pass\n",
    "        \n",
    "winsound.PlaySound('C:\\\\Windows\\\\Media\\\\tada.wav', winsound.SND_ASYNC)"
   ]
  }
 ],
 "metadata": {
  "kernelspec": {
   "display_name": "Python 3",
   "language": "python",
   "name": "python3"
  },
  "language_info": {
   "codemirror_mode": {
    "name": "ipython",
    "version": 3
   },
   "file_extension": ".py",
   "mimetype": "text/x-python",
   "name": "python",
   "nbconvert_exporter": "python",
   "pygments_lexer": "ipython3",
   "version": "3.6.6"
  }
 },
 "nbformat": 4,
 "nbformat_minor": 4
}
