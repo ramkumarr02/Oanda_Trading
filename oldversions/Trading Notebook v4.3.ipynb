{
 "cells": [
  {
   "cell_type": "markdown",
   "metadata": {},
   "source": [
    "# Oanda Demo Trading Notebook"
   ]
  },
  {
   "cell_type": "markdown",
   "metadata": {},
   "source": [
    "## Packages"
   ]
  },
  {
   "cell_type": "markdown",
   "metadata": {},
   "source": [
    "Normal Packages"
   ]
  },
  {
   "cell_type": "code",
   "execution_count": 4,
   "metadata": {},
   "outputs": [],
   "source": [
    "import numpy as np\n",
    "import pandas as pd\n",
    "\n",
    "import yaml\n",
    "import json\n",
    "\n",
    "import time\n",
    "import datetime\n",
    "import winsound\n",
    "import collections\n",
    "\n",
    "from tqdm import tqdm\n",
    "\n",
    "import warnings\n",
    "warnings.filterwarnings('ignore')"
   ]
  },
  {
   "cell_type": "markdown",
   "metadata": {},
   "source": [
    "Oanda Packages"
   ]
  },
  {
   "cell_type": "code",
   "execution_count": 19,
   "metadata": {},
   "outputs": [],
   "source": [
    "from oandapyV20 import API\n",
    "import oandapyV20.endpoints.trades as trades\n",
    "import oandapyV20.endpoints.pricing as pricing\n",
    "import oandapyV20.endpoints.accounts as accounts\n",
    "\n",
    "import oandapyV20.definitions.pricing as defpricing\n",
    "import oandapyV20.endpoints.instruments as instruments\n",
    "\n",
    "import oandapyV20.endpoints.orders as orders\n",
    "\n",
    "from oandapyV20.contrib.requests import (MarketOrderRequest, StopLossDetails)\n",
    "import oandapyV20.endpoints.positions as positions"
   ]
  },
  {
   "cell_type": "markdown",
   "metadata": {},
   "source": [
    "Custom packages"
   ]
  },
  {
   "cell_type": "code",
   "execution_count": 6,
   "metadata": {},
   "outputs": [],
   "source": [
    "from utils.toolsapi import get_date_time\n",
    "from utils.toolsapi import get_prices\n",
    "from utils.toolsapi import calc_duration"
   ]
  },
  {
   "cell_type": "markdown",
   "metadata": {},
   "source": [
    "## Functions"
   ]
  },
  {
   "cell_type": "code",
   "execution_count": 4,
   "metadata": {},
   "outputs": [],
   "source": [
    "def get_targets(start_price, target_num = 3):\n",
    "    positive_targets = {}\n",
    "    negative_targets = {}\n",
    "    pip = 10**-4\n",
    "    \n",
    "    for i in range(target_num):\n",
    "        move_val = pip*(i+1)\n",
    "        positive_targets[i] = start_price + move_val\n",
    "        negative_targets[i] = start_price - move_val\n",
    "        \n",
    "    return(positive_targets, negative_targets)"
   ]
  },
  {
   "cell_type": "code",
   "execution_count": 10,
   "metadata": {},
   "outputs": [],
   "source": [
    "def get_direction(df_reached_targets, target_num,  min_count = 10):\n",
    "    tot_pos = sum(df_reached_targets['positive'] * df_reached_targets['target_num'])\n",
    "    tot_neg = sum(df_reached_targets['negative'] * df_reached_targets['target_num'])\n",
    "\n",
    "    if ((tot_pos - tot_neg) / target_num) > 1 and tot_pos > min_count and df_reached_targets['positive'][1] > 0:\n",
    "        direction = 'positive'\n",
    "    elif ((tot_neg - tot_pos) / target_num) > 1 and tot_neg > min_count and df_reached_targets['negative'][1] > 0:\n",
    "        direction = 'negative'\n",
    "    else:\n",
    "        direction = 'no_direction'\n",
    "    return(direction)"
   ]
  },
  {
   "cell_type": "code",
   "execution_count": 6,
   "metadata": {
    "scrolled": true
   },
   "outputs": [],
   "source": [
    "def run_engine(params, num, target_num, min_count): \n",
    "    \n",
    "    reached_targets = {'start_price' : 0,\n",
    "                       'target_num' : 0,\n",
    "                       'positive_val' : 0,\n",
    "                       'negative_val' : 0,\n",
    "                       'positive' : 0,\n",
    "                       'p_duration' : '',\n",
    "                       'n_duration' : '',\n",
    "                       'negative' : 0}\n",
    "\n",
    "    pos_target_flag = 'not_reached'\n",
    "    neg_target_flag = 'not_reached'\n",
    "    first_run_flag = 0\n",
    "    df_reached_targets = pd.DataFrame()\n",
    "    tick_list = []\n",
    "\n",
    "    \n",
    "    \n",
    "    r = pricing.PricingStream(accountID=accountID, params=params)\n",
    "    rv = api.request(r)\n",
    "\n",
    "    start_time = time.time()\n",
    "\n",
    "    for i, resp in tqdm(enumerate(rv)):\n",
    "\n",
    "        if i < num: # Check if we are within the required number of price iterations               \n",
    "            resp_type = resp['type']       \n",
    "\n",
    "            if resp_type == 'HEARTBEAT': # Heart beat response to keep the api connection alive (Avoid timeout)\n",
    "                pass\n",
    "                #print(resp_type)\n",
    "\n",
    "            elif resp_type == 'PRICE': # Check whether it is a price response                 \n",
    "                date_val, time_val, time_fraction = get_date_time(resp) # Get time stamp for reference            \n",
    "                sell_price, buy_price, spread, tick_price = get_prices(resp) # Get prices from the response                      \n",
    "                tick_list.append(tick_price)\n",
    "\n",
    "                if first_run_flag == 0:\n",
    "                    positive_targets, negative_targets = get_targets(tick_price, target_num)\n",
    "                    first_run_flag = 1\n",
    "                    for j in range(target_num):\n",
    "                        df_reached_targets = df_reached_targets.append(reached_targets, ignore_index = True)\n",
    "                        df_reached_targets.loc[df_reached_targets.index[j], 'target_num'] = j+1\n",
    "                        df_reached_targets.loc[df_reached_targets.index[j], 'start_price'] = tick_price\n",
    "                        df_reached_targets.loc[df_reached_targets.index[j], 'positive_val'] = positive_targets[j]\n",
    "                        df_reached_targets.loc[df_reached_targets.index[j], 'negative_val'] = negative_targets[j]\n",
    "\n",
    "                for k in range(target_num):\n",
    "                    if tick_price >= positive_targets[k]:\n",
    "                        df_reached_targets.loc[df_reached_targets.index[k], 'positive'] += 1\n",
    "                        if pos_target_flag == 'not_reached':\n",
    "                            end_time = time.time()    \n",
    "                            duration = calc_duration(start_time, end_time)\n",
    "                            df_reached_targets.loc[df_reached_targets.index[k], 'p_duration'] = duration\n",
    "                            pos_target_flag = 'reached'\n",
    "\n",
    "                    if tick_price <= negative_targets[k]:\n",
    "                        df_reached_targets.loc[df_reached_targets.index[k], 'negative'] += 1            \n",
    "                        if neg_target_flag == 'not_reached':\n",
    "                            end_time = time.time()    \n",
    "                            duration = calc_duration(start_time, end_time)\n",
    "                            df_reached_targets.loc[df_reached_targets.index[k], 'n_duration'] = duration\n",
    "                            neg_target_flag = 'reached'\n",
    "\n",
    "        else: # Crossed the required number of price iterations\n",
    "            try:\n",
    "                r.terminate(message = \"maxrecs records received\")\n",
    "            except:\n",
    "                pass\n",
    "\n",
    "    df_reached_targets =  df_reached_targets[['start_price', 'target_num', 'positive_val', 'negative_val','positive', 'negative','p_duration','n_duration']]\n",
    "    direction = get_direction(df_reached_targets, target_num, min_count)\n",
    "\n",
    "    #winsound.PlaySound('C:\\\\Windows\\\\Media\\\\tada.wav', winsound.SND_ASYNC) \n",
    "    return(direction, df_reached_targets, tick_list)"
   ]
  },
  {
   "cell_type": "markdown",
   "metadata": {},
   "source": [
    "## API Setup"
   ]
  },
  {
   "cell_type": "markdown",
   "metadata": {},
   "source": [
    "Read from config file"
   ]
  },
  {
   "cell_type": "code",
   "execution_count": 8,
   "metadata": {},
   "outputs": [],
   "source": [
    "config_file = 'config/access_token.yaml'\n",
    "\n",
    "with open(config_file) as c_file:\n",
    "    config = yaml.load(c_file)\n",
    "\n",
    "access_token = config['oanda_demo_account']['token']\n",
    "accountID = config['oanda_demo_account']['account_id']\n",
    "\n",
    "api = API(access_token = access_token)"
   ]
  },
  {
   "cell_type": "markdown",
   "metadata": {},
   "source": [
    "## Code Engine"
   ]
  },
  {
   "cell_type": "code",
   "execution_count": 11,
   "metadata": {
    "scrolled": true
   },
   "outputs": [
    {
     "name": "stderr",
     "output_type": "stream",
     "text": [
      "181it [05:17,  1.76s/it]"
     ]
    },
    {
     "name": "stdout",
     "output_type": "stream",
     "text": [
      "direction : negative\n"
     ]
    },
    {
     "name": "stderr",
     "output_type": "stream",
     "text": [
      "\n"
     ]
    },
    {
     "data": {
      "text/html": [
       "<div>\n",
       "<style scoped>\n",
       "    .dataframe tbody tr th:only-of-type {\n",
       "        vertical-align: middle;\n",
       "    }\n",
       "\n",
       "    .dataframe tbody tr th {\n",
       "        vertical-align: top;\n",
       "    }\n",
       "\n",
       "    .dataframe thead th {\n",
       "        text-align: right;\n",
       "    }\n",
       "</style>\n",
       "<table border=\"1\" class=\"dataframe\">\n",
       "  <thead>\n",
       "    <tr style=\"text-align: right;\">\n",
       "      <th></th>\n",
       "      <th>start_price</th>\n",
       "      <th>target_num</th>\n",
       "      <th>positive_val</th>\n",
       "      <th>negative_val</th>\n",
       "      <th>positive</th>\n",
       "      <th>negative</th>\n",
       "      <th>p_duration</th>\n",
       "      <th>n_duration</th>\n",
       "    </tr>\n",
       "  </thead>\n",
       "  <tbody>\n",
       "    <tr>\n",
       "      <th>0</th>\n",
       "      <td>0.95263</td>\n",
       "      <td>1.0</td>\n",
       "      <td>0.95273</td>\n",
       "      <td>0.95253</td>\n",
       "      <td>0.0</td>\n",
       "      <td>106.0</td>\n",
       "      <td></td>\n",
       "      <td>0:0:21</td>\n",
       "    </tr>\n",
       "    <tr>\n",
       "      <th>1</th>\n",
       "      <td>0.95263</td>\n",
       "      <td>2.0</td>\n",
       "      <td>0.95283</td>\n",
       "      <td>0.95243</td>\n",
       "      <td>0.0</td>\n",
       "      <td>95.0</td>\n",
       "      <td></td>\n",
       "      <td></td>\n",
       "    </tr>\n",
       "    <tr>\n",
       "      <th>2</th>\n",
       "      <td>0.95263</td>\n",
       "      <td>3.0</td>\n",
       "      <td>0.95293</td>\n",
       "      <td>0.95233</td>\n",
       "      <td>0.0</td>\n",
       "      <td>84.0</td>\n",
       "      <td></td>\n",
       "      <td></td>\n",
       "    </tr>\n",
       "  </tbody>\n",
       "</table>\n",
       "</div>"
      ],
      "text/plain": [
       "   start_price  target_num  positive_val  negative_val  positive  negative  \\\n",
       "0      0.95263         1.0       0.95273       0.95253       0.0     106.0   \n",
       "1      0.95263         2.0       0.95283       0.95243       0.0      95.0   \n",
       "2      0.95263         3.0       0.95293       0.95233       0.0      84.0   \n",
       "\n",
       "  p_duration n_duration  \n",
       "0                0:0:21  \n",
       "1                        \n",
       "2                        "
      ]
     },
     "execution_count": 11,
     "metadata": {},
     "output_type": "execute_result"
    }
   ],
   "source": [
    "params = {\n",
    "    #'instruments': 'EUR_USD'\n",
    "    'instruments': 'AUD_SGD'\n",
    "}\n",
    "\n",
    "num = 3 * 60\n",
    "target_num = 3\n",
    "min_count = 10\n",
    "\n",
    "direction, df_reached_targets, tick_list = run_engine(params, num, target_num, min_count)\n",
    "print(f'direction : {direction}')\n",
    "df_reached_targets"
   ]
  },
  {
   "cell_type": "code",
   "execution_count": 13,
   "metadata": {},
   "outputs": [],
   "source": [
    "stopLossOnFill = StopLossDetails(price=1.1311)\n",
    "\n",
    "ordr = MarketOrderRequest(\n",
    "    instrument=\"EUR_USD\",\n",
    "    units=1,\n",
    "    stopLossOnFill=stopLossOnFill.data)\n",
    "\n",
    "r = orders.OrderCreate(accountID, data=ordr.data)\n",
    "rv = api.request(r)"
   ]
  },
  {
   "cell_type": "code",
   "execution_count": 30,
   "metadata": {},
   "outputs": [],
   "source": [
    "def make_order(accountID, stop_price, instrument, units):\n",
    "    stopLossOnFill = StopLossDetails(price=stop_price)\n",
    "\n",
    "    ordr = MarketOrderRequest(\n",
    "        instrument = instrument,\n",
    "        units=units,\n",
    "        stopLossOnFill=stopLossOnFill.data)\n",
    "\n",
    "    r = orders.OrderCreate(accountID, data=ordr.data)\n",
    "    rv = api.request(r)\n",
    "    return(rv)"
   ]
  },
  {
   "cell_type": "code",
   "execution_count": 31,
   "metadata": {},
   "outputs": [],
   "source": [
    "def close_order(accountID, order_type, instrument):\n",
    "    data_long = {\"longUnits\": \"ALL\"}\n",
    "    data_short = {\"longUnits\": \"ALL\"}\n",
    "    \n",
    "    if order_type == 'long':\n",
    "        data = data_long\n",
    "    elif order_type == 'short':\n",
    "        data = data_short\n",
    "        \n",
    "    r = positions.PositionClose(accountID=accountID,\n",
    "                                instrument=instrument,\n",
    "                                data=data)\n",
    "    rv = api.request(r)\n",
    "    return(rv)"
   ]
  },
  {
   "cell_type": "code",
   "execution_count": 38,
   "metadata": {},
   "outputs": [],
   "source": [
    "instrument=\"EUR_USD\"\n",
    "units=1\n",
    "stop_price = 1.1315\n",
    "order_type = 'long'"
   ]
  },
  {
   "cell_type": "code",
   "execution_count": 39,
   "metadata": {},
   "outputs": [],
   "source": [
    "make_order_log = make_order(accountID, stop_price, instrument, units)"
   ]
  },
  {
   "cell_type": "code",
   "execution_count": 41,
   "metadata": {
    "scrolled": true
   },
   "outputs": [
    {
     "ename": "V20Error",
     "evalue": "{\"longOrderRejectTransaction\":{\"type\":\"MARKET_ORDER_REJECT\",\"rejectReason\":\"CLOSEOUT_POSITION_DOESNT_EXIST\",\"instrument\":\"EUR_USD\",\"timeInForce\":\"FOK\",\"positionFill\":\"REDUCE_ONLY\",\"reason\":\"POSITION_CLOSEOUT\",\"longPositionCloseout\":{\"instrument\":\"EUR_USD\",\"units\":\"ALL\"},\"id\":\"255\",\"accountID\":\"101-003-15069707-001\",\"userID\":15069707,\"batchID\":\"255\",\"requestID\":\"24691552593050375\",\"time\":\"2020-06-12T10:26:29.110014177Z\"},\"relatedTransactionIDs\":[\"255\"],\"lastTransactionID\":\"255\",\"errorMessage\":\"The Position requested to be closed out does not exist\",\"errorCode\":\"CLOSEOUT_POSITION_DOESNT_EXIST\"}",
     "output_type": "error",
     "traceback": [
      "\u001b[1;31m---------------------------------------------------------------\u001b[0m",
      "\u001b[1;31mV20Error\u001b[0m                      Traceback (most recent call last)",
      "\u001b[1;32m<ipython-input-41-d0da41f88792>\u001b[0m in \u001b[0;36m<module>\u001b[1;34m\u001b[0m\n\u001b[1;32m----> 1\u001b[1;33m \u001b[0mclose_order_log\u001b[0m \u001b[1;33m=\u001b[0m \u001b[0mclose_order\u001b[0m\u001b[1;33m(\u001b[0m\u001b[0maccountID\u001b[0m\u001b[1;33m,\u001b[0m \u001b[0morder_type\u001b[0m\u001b[1;33m,\u001b[0m \u001b[0minstrument\u001b[0m\u001b[1;33m)\u001b[0m\u001b[1;33m\u001b[0m\u001b[0m\n\u001b[0m",
      "\u001b[1;32m<ipython-input-31-392e4034412f>\u001b[0m in \u001b[0;36mclose_order\u001b[1;34m(accountID, order_type, instrument)\u001b[0m\n\u001b[0;32m     11\u001b[0m                                 \u001b[0minstrument\u001b[0m\u001b[1;33m=\u001b[0m\u001b[0minstrument\u001b[0m\u001b[1;33m,\u001b[0m\u001b[1;33m\u001b[0m\u001b[0m\n\u001b[0;32m     12\u001b[0m                                 data=data)\n\u001b[1;32m---> 13\u001b[1;33m     \u001b[0mrv\u001b[0m \u001b[1;33m=\u001b[0m \u001b[0mapi\u001b[0m\u001b[1;33m.\u001b[0m\u001b[0mrequest\u001b[0m\u001b[1;33m(\u001b[0m\u001b[0mr\u001b[0m\u001b[1;33m)\u001b[0m\u001b[1;33m\u001b[0m\u001b[0m\n\u001b[0m\u001b[0;32m     14\u001b[0m     \u001b[1;32mreturn\u001b[0m\u001b[1;33m(\u001b[0m\u001b[0mrv\u001b[0m\u001b[1;33m)\u001b[0m\u001b[1;33m\u001b[0m\u001b[0m\n",
      "\u001b[1;32md:\\ram\\pcal\\data science\\projects\\trading\\oanda_trading\\tradenv\\lib\\site-packages\\oandapyV20\\oandapyV20.py\u001b[0m in \u001b[0;36mrequest\u001b[1;34m(self, endpoint)\u001b[0m\n\u001b[0;32m    304\u001b[0m \u001b[1;33m\u001b[0m\u001b[0m\n\u001b[0;32m    305\u001b[0m             response = self.__request(method, url,\n\u001b[1;32m--> 306\u001b[1;33m                                       request_args, headers=headers)\n\u001b[0m\u001b[0;32m    307\u001b[0m             \u001b[0mcontent\u001b[0m \u001b[1;33m=\u001b[0m \u001b[0mresponse\u001b[0m\u001b[1;33m.\u001b[0m\u001b[0mcontent\u001b[0m\u001b[1;33m.\u001b[0m\u001b[0mdecode\u001b[0m\u001b[1;33m(\u001b[0m\u001b[1;34m'utf-8'\u001b[0m\u001b[1;33m)\u001b[0m\u001b[1;33m\u001b[0m\u001b[0m\n\u001b[0;32m    308\u001b[0m             \u001b[0mcontent\u001b[0m \u001b[1;33m=\u001b[0m \u001b[0mjson\u001b[0m\u001b[1;33m.\u001b[0m\u001b[0mloads\u001b[0m\u001b[1;33m(\u001b[0m\u001b[0mcontent\u001b[0m\u001b[1;33m)\u001b[0m\u001b[1;33m\u001b[0m\u001b[0m\n",
      "\u001b[1;32md:\\ram\\pcal\\data science\\projects\\trading\\oanda_trading\\tradenv\\lib\\site-packages\\oandapyV20\\oandapyV20.py\u001b[0m in \u001b[0;36m__request\u001b[1;34m(self, method, url, request_args, headers, stream)\u001b[0m\n\u001b[0;32m    241\u001b[0m                          response.content.decode('utf-8'))\n\u001b[0;32m    242\u001b[0m             raise V20Error(response.status_code,\n\u001b[1;32m--> 243\u001b[1;33m                            response.content.decode('utf-8'))\n\u001b[0m\u001b[0;32m    244\u001b[0m         \u001b[1;32mreturn\u001b[0m \u001b[0mresponse\u001b[0m\u001b[1;33m\u001b[0m\u001b[0m\n\u001b[0;32m    245\u001b[0m \u001b[1;33m\u001b[0m\u001b[0m\n",
      "\u001b[1;31mV20Error\u001b[0m: {\"longOrderRejectTransaction\":{\"type\":\"MARKET_ORDER_REJECT\",\"rejectReason\":\"CLOSEOUT_POSITION_DOESNT_EXIST\",\"instrument\":\"EUR_USD\",\"timeInForce\":\"FOK\",\"positionFill\":\"REDUCE_ONLY\",\"reason\":\"POSITION_CLOSEOUT\",\"longPositionCloseout\":{\"instrument\":\"EUR_USD\",\"units\":\"ALL\"},\"id\":\"255\",\"accountID\":\"101-003-15069707-001\",\"userID\":15069707,\"batchID\":\"255\",\"requestID\":\"24691552593050375\",\"time\":\"2020-06-12T10:26:29.110014177Z\"},\"relatedTransactionIDs\":[\"255\"],\"lastTransactionID\":\"255\",\"errorMessage\":\"The Position requested to be closed out does not exist\",\"errorCode\":\"CLOSEOUT_POSITION_DOESNT_EXIST\"}"
     ]
    }
   ],
   "source": [
    "close_order_log = close_order(accountID, order_type, instrument)"
   ]
  }
 ],
 "metadata": {
  "kernelspec": {
   "display_name": "Python 3",
   "language": "python",
   "name": "python3"
  },
  "language_info": {
   "codemirror_mode": {
    "name": "ipython",
    "version": 3
   },
   "file_extension": ".py",
   "mimetype": "text/x-python",
   "name": "python",
   "nbconvert_exporter": "python",
   "pygments_lexer": "ipython3",
   "version": "3.6.6"
  }
 },
 "nbformat": 4,
 "nbformat_minor": 4
}
