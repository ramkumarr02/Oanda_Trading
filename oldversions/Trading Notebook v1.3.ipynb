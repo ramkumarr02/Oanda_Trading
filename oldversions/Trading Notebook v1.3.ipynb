{
 "cells": [
  {
   "cell_type": "markdown",
   "metadata": {},
   "source": [
    "# Oanda Demo Trading Notebook"
   ]
  },
  {
   "cell_type": "markdown",
   "metadata": {},
   "source": [
    "#### Packages"
   ]
  },
  {
   "cell_type": "markdown",
   "metadata": {},
   "source": [
    "Normal Packages"
   ]
  },
  {
   "cell_type": "code",
   "execution_count": 2,
   "metadata": {},
   "outputs": [],
   "source": [
    "import numpy as np\n",
    "import pandas as pd\n",
    "\n",
    "import yaml\n",
    "import json\n",
    "\n",
    "import time\n",
    "import winsound\n",
    "\n",
    "import warnings\n",
    "warnings.filterwarnings('ignore')"
   ]
  },
  {
   "cell_type": "markdown",
   "metadata": {},
   "source": [
    "Oanda Packages"
   ]
  },
  {
   "cell_type": "code",
   "execution_count": 3,
   "metadata": {},
   "outputs": [],
   "source": [
    "from oandapyV20 import API\n",
    "import oandapyV20.endpoints.trades as trades\n",
    "import oandapyV20.endpoints.pricing as pricing\n",
    "import oandapyV20.endpoints.accounts as accounts\n",
    "\n",
    "import oandapyV20.definitions.pricing as defpricing\n",
    "import oandapyV20.endpoints.instruments as instruments"
   ]
  },
  {
   "cell_type": "markdown",
   "metadata": {},
   "source": [
    "#### API Setup"
   ]
  },
  {
   "cell_type": "markdown",
   "metadata": {},
   "source": [
    "Read from config file"
   ]
  },
  {
   "cell_type": "code",
   "execution_count": 4,
   "metadata": {},
   "outputs": [],
   "source": [
    "config_file = 'config/access_token.yaml'\n",
    "\n",
    "with open(config_file) as c_file:\n",
    "    config = yaml.load(c_file)\n",
    "\n",
    "access_token = config['oanda_demo_account']['token']\n",
    "accountID = config['oanda_demo_account']['account_id']\n",
    "\n",
    "api = API(access_token = access_token)"
   ]
  },
  {
   "cell_type": "markdown",
   "metadata": {},
   "source": [
    "#### Retrive Data"
   ]
  },
  {
   "cell_type": "markdown",
   "metadata": {},
   "source": [
    "Get Price details"
   ]
  },
  {
   "cell_type": "code",
   "execution_count": 9,
   "metadata": {
    "scrolled": true
   },
   "outputs": [
    {
     "name": "stdout",
     "output_type": "stream",
     "text": [
      "{\n",
      "  \"time\": \"2020-06-05T12:38:53.737504169Z\",\n",
      "  \"prices\": [\n",
      "    {\n",
      "      \"type\": \"PRICE\",\n",
      "      \"time\": \"2020-06-05T12:38:53.731617421Z\",\n",
      "      \"bids\": [\n",
      "        {\n",
      "          \"price\": \"1.13205\",\n",
      "          \"liquidity\": 1000000\n",
      "        },\n",
      "        {\n",
      "          \"price\": \"1.13204\",\n",
      "          \"liquidity\": 2000000\n",
      "        },\n",
      "        {\n",
      "          \"price\": \"1.13203\",\n",
      "          \"liquidity\": 2000000\n",
      "        },\n",
      "        {\n",
      "          \"price\": \"1.13201\",\n",
      "          \"liquidity\": 5000000\n",
      "        }\n",
      "      ],\n",
      "      \"asks\": [\n",
      "        {\n",
      "          \"price\": \"1.13214\",\n",
      "          \"liquidity\": 1000000\n",
      "        },\n",
      "        {\n",
      "          \"price\": \"1.13216\",\n",
      "          \"liquidity\": 2000000\n",
      "        },\n",
      "        {\n",
      "          \"price\": \"1.13217\",\n",
      "          \"liquidity\": 2000000\n",
      "        },\n",
      "        {\n",
      "          \"price\": \"1.13218\",\n",
      "          \"liquidity\": 5000000\n",
      "        }\n",
      "      ],\n",
      "      \"closeoutBid\": \"1.13201\",\n",
      "      \"closeoutAsk\": \"1.13218\",\n",
      "      \"status\": \"tradeable\",\n",
      "      \"tradeable\": true,\n",
      "      \"unitsAvailable\": {\n",
      "        \"default\": {\n",
      "          \"long\": \"1269575\",\n",
      "          \"short\": \"1269575\"\n",
      "        },\n",
      "        \"openOnly\": {\n",
      "          \"long\": \"1269575\",\n",
      "          \"short\": \"1269575\"\n",
      "        },\n",
      "        \"reduceFirst\": {\n",
      "          \"long\": \"1269575\",\n",
      "          \"short\": \"1269575\"\n",
      "        },\n",
      "        \"reduceOnly\": {\n",
      "          \"long\": \"0\",\n",
      "          \"short\": \"0\"\n",
      "        }\n",
      "      },\n",
      "      \"quoteHomeConversionFactors\": {\n",
      "        \"positiveUnits\": \"1.39133000\",\n",
      "        \"negativeUnits\": \"1.39171000\"\n",
      "      },\n",
      "      \"instrument\": \"EUR_USD\"\n",
      "    }\n",
      "  ]\n",
      "}\n"
     ]
    }
   ],
   "source": [
    "params = {\n",
    "    'instruments': 'EUR_USD'\n",
    "}\n",
    "\n",
    "price_info = pricing.PricingInfo(accountID = accountID, params = params)\n",
    "price = api.request(price_info)\n",
    "\n",
    "#print(price)\n",
    "print(json.dumps(price, indent = 2))"
   ]
  },
  {
   "cell_type": "code",
   "execution_count": 10,
   "metadata": {},
   "outputs": [
    {
     "data": {
      "text/plain": [
       "dict_keys(['type', 'time', 'bids', 'asks', 'closeoutBid', 'closeoutAsk', 'status', 'tradeable', 'unitsAvailable', 'quoteHomeConversionFactors', 'instrument'])"
      ]
     },
     "execution_count": 10,
     "metadata": {},
     "output_type": "execute_result"
    }
   ],
   "source": [
    "price['prices'][0].keys()"
   ]
  },
  {
   "cell_type": "code",
   "execution_count": 11,
   "metadata": {
    "scrolled": false
   },
   "outputs": [
    {
     "data": {
      "text/plain": [
       "{'type': 'PRICE',\n",
       " 'time': '2020-06-05T12:38:53.731617421Z',\n",
       " 'bids': [{'price': '1.13205', 'liquidity': 1000000},\n",
       "  {'price': '1.13204', 'liquidity': 2000000},\n",
       "  {'price': '1.13203', 'liquidity': 2000000},\n",
       "  {'price': '1.13201', 'liquidity': 5000000}],\n",
       " 'asks': [{'price': '1.13214', 'liquidity': 1000000},\n",
       "  {'price': '1.13216', 'liquidity': 2000000},\n",
       "  {'price': '1.13217', 'liquidity': 2000000},\n",
       "  {'price': '1.13218', 'liquidity': 5000000}],\n",
       " 'closeoutBid': '1.13201',\n",
       " 'closeoutAsk': '1.13218',\n",
       " 'status': 'tradeable',\n",
       " 'tradeable': True,\n",
       " 'unitsAvailable': {'default': {'long': '1269575', 'short': '1269575'},\n",
       "  'openOnly': {'long': '1269575', 'short': '1269575'},\n",
       "  'reduceFirst': {'long': '1269575', 'short': '1269575'},\n",
       "  'reduceOnly': {'long': '0', 'short': '0'}},\n",
       " 'quoteHomeConversionFactors': {'positiveUnits': '1.39133000',\n",
       "  'negativeUnits': '1.39171000'},\n",
       " 'instrument': 'EUR_USD'}"
      ]
     },
     "execution_count": 11,
     "metadata": {},
     "output_type": "execute_result"
    }
   ],
   "source": [
    "price['prices'][0]"
   ]
  },
  {
   "cell_type": "code",
   "execution_count": 25,
   "metadata": {},
   "outputs": [],
   "source": [
    "def get_date_time(resp):\n",
    "    \n",
    "    time_stamp = resp['time']\n",
    "    date_val, full_time = time_stamp.split(sep = 'T')\n",
    "    time_val, time_fraction = full_time.split(sep = '.')\n",
    "    \n",
    "    return(date_val, time_val, time_fraction)"
   ]
  },
  {
   "cell_type": "code",
   "execution_count": 33,
   "metadata": {},
   "outputs": [],
   "source": [
    "def get_prices(resp):\n",
    "    \n",
    "    bid_price = float(resp['bids'][0]['price'])    \n",
    "    ask_price = float(resp['asks'][0]['price'])\n",
    "    spread = ask_price - bid_price\n",
    "    \n",
    "    return(bid_price, ask_price, spread)"
   ]
  },
  {
   "cell_type": "code",
   "execution_count": 27,
   "metadata": {},
   "outputs": [],
   "source": [
    "def terminate_connection():\n",
    "    try:\n",
    "        print('Connection Terminated')\n",
    "        r.terminate(message = \"maxrecs records received\")\n",
    "    except:\n",
    "        pass"
   ]
  },
  {
   "cell_type": "code",
   "execution_count": 39,
   "metadata": {
    "scrolled": false
   },
   "outputs": [
    {
     "name": "stdout",
     "output_type": "stream",
     "text": [
      "Iteration :  0\n",
      "buy_price: 1.12964 , sell_price: 1.12957 , spread(pips): 0.700000000000145\n",
      "----------------------------------------------\n",
      "Iteration :  1\n",
      "buy_price: 1.12965 , sell_price: 1.12958 , spread(pips): 0.700000000000145\n",
      "----------------------------------------------\n",
      "Iteration :  2\n",
      "buy_price: 1.12964 , sell_price: 1.12957 , spread(pips): 0.700000000000145\n",
      "----------------------------------------------\n",
      "Iteration :  3\n",
      "buy_price: 1.12968 , sell_price: 1.1296 , spread(pips): 0.8000000000008001\n",
      "----------------------------------------------\n",
      "Connection Terminated\n"
     ]
    }
   ],
   "source": [
    "r = pricing.PricingStream(accountID=accountID, params=params)\n",
    "rv = api.request(r)\n",
    "\n",
    "num = 4\n",
    "n = 0\n",
    "\n",
    "for resp in rv:\n",
    "    if n < num:        \n",
    "        print('Iteration : ',n)\n",
    "        n += 1       \n",
    "        \n",
    "        resp_type = resp['type']        \n",
    "        \n",
    "        if resp_type == 'PRICE':    \n",
    "            date_val, time_val, time_fraction = get_date_time(resp)\n",
    "            sell_price, buy_price, spread = get_prices(resp)          \n",
    "            print('buy_price:',buy_price,',' , 'sell_price:',sell_price, ',', 'spread(pips):',spread*10000)\n",
    "            print('----------------------------------------------')\n",
    "            \n",
    "        else:\n",
    "            print('HEARTBEAT')\n",
    "\n",
    "    else:\n",
    "        terminate_connection()\n",
    "        \n",
    "winsound.PlaySound('C:\\\\Windows\\\\Media\\\\tada.wav', winsound.SND_ASYNC)"
   ]
  },
  {
   "cell_type": "code",
   "execution_count": 39,
   "metadata": {
    "scrolled": false
   },
   "outputs": [
    {
     "name": "stdout",
     "output_type": "stream",
     "text": [
      "Iteration :  0\n",
      "buy_price: 1.12964 , sell_price: 1.12957 , spread(pips): 0.700000000000145\n",
      "----------------------------------------------\n",
      "Iteration :  1\n",
      "buy_price: 1.12965 , sell_price: 1.12958 , spread(pips): 0.700000000000145\n",
      "----------------------------------------------\n",
      "Iteration :  2\n",
      "buy_price: 1.12964 , sell_price: 1.12957 , spread(pips): 0.700000000000145\n",
      "----------------------------------------------\n",
      "Iteration :  3\n",
      "buy_price: 1.12968 , sell_price: 1.1296 , spread(pips): 0.8000000000008001\n",
      "----------------------------------------------\n",
      "Connection Terminated\n"
     ]
    }
   ],
   "source": [
    "r = pricing.PricingStream(accountID=accountID, params=params)\n",
    "rv = api.request(r)\n",
    "\n",
    "num = 4\n",
    "n = 0\n",
    "bp_list = []\n",
    "sp_list = []\n",
    "\n",
    "for resp in rv:\n",
    "    if n < num:        \n",
    "        print('Iteration : ',n)\n",
    "        n += 1       \n",
    "        \n",
    "        resp_type = resp['type']        \n",
    "        \n",
    "        if resp_type == 'PRICE':    \n",
    "            date_val, time_val, time_fraction = get_date_time(resp)\n",
    "            sell_price, buy_price, spread = get_prices(resp)          \n",
    "            print('buy_price:',buy_price,',' , 'sell_price:',sell_price, ',', 'spread(pips):',spread*10000)\n",
    "            print('----------------------------------------------')\n",
    "            \n",
    "        else:\n",
    "            print('HEARTBEAT')\n",
    "\n",
    "    else:\n",
    "        terminate_connection()\n",
    "        \n",
    "winsound.PlaySound('C:\\\\Windows\\\\Media\\\\tada.wav', winsound.SND_ASYNC)"
   ]
  },
  {
   "cell_type": "code",
   "execution_count": 78,
   "metadata": {},
   "outputs": [
    {
     "name": "stdout",
     "output_type": "stream",
     "text": [
      "[1, 2, 3, 3, 2, 1]\n",
      "[2, 3, 3, 2, 1]\n"
     ]
    }
   ],
   "source": [
    "full_list = [1,2,3,3,2,1]\n",
    "print(full_list)\n",
    "del full_list[0]\n",
    "print(full_list)"
   ]
  },
  {
   "cell_type": "code",
   "execution_count": 81,
   "metadata": {},
   "outputs": [
    {
     "ename": "IndexError",
     "evalue": "list index out of range",
     "output_type": "error",
     "traceback": [
      "\u001b[1;31m--------------------------------------------------------------------\u001b[0m",
      "\u001b[1;31mIndexError\u001b[0m                         Traceback (most recent call last)",
      "\u001b[1;32m<ipython-input-81-2c945280df2e>\u001b[0m in \u001b[0;36m<module>\u001b[1;34m\u001b[0m\n\u001b[1;32m----> 1\u001b[1;33m \u001b[0mfull_list\u001b[0m\u001b[1;33m[\u001b[0m\u001b[1;36m6\u001b[0m\u001b[1;33m]\u001b[0m\u001b[1;33m\u001b[0m\u001b[0m\n\u001b[0m",
      "\u001b[1;31mIndexError\u001b[0m: list index out of range"
     ]
    }
   ],
   "source": [
    "full_list[6]"
   ]
  },
  {
   "cell_type": "code",
   "execution_count": null,
   "metadata": {},
   "outputs": [],
   "source": [
    "def get_chunks(chunk_size):\n",
    "    if i < chunk_size:\n",
    "        small_list.append(full_list[i])\n",
    "\n",
    "    if size_flag == 1:\n",
    "        small_list[0] = full_list[i]\n",
    "\n",
    "\n",
    "    if len(small_list) == chunk_size:\n",
    "        size_flag = 1        \n",
    "\n",
    "    return(small_list)"
   ]
  },
  {
   "cell_type": "code",
   "execution_count": 19,
   "metadata": {
    "scrolled": false
   },
   "outputs": [
    {
     "name": "stdout",
     "output_type": "stream",
     "text": [
      "[1]\n",
      "[1, 2]\n",
      "[1, 2, 3]\n",
      "[3, 2, 3]\n",
      "[2, 2, 3]\n",
      "[1, 2, 3]\n",
      "[4, 2, 3]\n",
      "[5, 2, 3]\n",
      "[6, 2, 3]\n",
      "[7, 2, 3]\n"
     ]
    }
   ],
   "source": [
    "full_list = [1,2,3,3,2,1,4,5,6,7]\n",
    "list_size = len(full_list)\n",
    "chunk_size = 3\n",
    "small_list = []\n",
    "size_flag = 0\n",
    "\n",
    "for i in range(list_size):\n",
    "    if i < chunk_size:\n",
    "        small_list.append(full_list[i])\n",
    "\n",
    "    if size_flag == 1:\n",
    "        small_list[0] = full_list[i]\n",
    "\n",
    "        \n",
    "    if len(small_list) == chunk_size:\n",
    "        size_flag = 1        \n",
    "        \n",
    "    print(small_list)"
   ]
  },
  {
   "cell_type": "code",
   "execution_count": 34,
   "metadata": {
    "scrolled": false
   },
   "outputs": [
    {
     "name": "stdout",
     "output_type": "stream",
     "text": [
      "[1]\n",
      "[1, 2]\n",
      "[1, 2, 3]\n",
      "[1, 2, 3, 4]\n",
      "[5, 2, 3, 4]\n",
      "[5, 6, 3, 4]\n",
      "[5, 6, 7, 4]\n",
      "[5, 6, 7, 8]\n",
      "[9, 6, 7, 8]\n",
      "[9, 10, 7, 8]\n"
     ]
    }
   ],
   "source": [
    "full_list = [1,2,3,4,5,6,7,8,9,10,11,12,13,14,15,16,17,18,19,20]\n",
    "\n",
    "chunk_size = 4\n",
    "small_list = []\n",
    "size_flag = 0\n",
    "change_position = 0\n",
    "\n",
    "for i in range(10):\n",
    "    \n",
    "    if i < chunk_size:\n",
    "        small_list.append(full_list[i])\n",
    "\n",
    "    if size_flag == 1:\n",
    "        small_list[change_position] = full_list[i]\n",
    "        change_position += 1\n",
    "        if change_position >= chunk_size:\n",
    "            change_position = 0\n",
    "        \n",
    "    if len(small_list) == chunk_size:\n",
    "        size_flag = 1        \n",
    "        \n",
    "    print(small_list)"
   ]
  },
  {
   "cell_type": "code",
   "execution_count": 69,
   "metadata": {},
   "outputs": [
    {
     "name": "stdout",
     "output_type": "stream",
     "text": [
      "{0: 2, 1: 3, 2: 4}\n",
      "2\n"
     ]
    }
   ],
   "source": [
    "lst = [2,3,4]\n",
    "\n",
    "list_size = len(lst)\n",
    "val_dict = {}\n",
    "flag_val = 0\n",
    "\n",
    "for i in range(list_size):\n",
    "    val_dict[i] = lst[i]\n",
    "    \n",
    "\n",
    "for i in range(list_size-1):\n",
    "    if val_dict[i] < val_dict[i+1]:\n",
    "        flag_val += 1\n",
    "        \n",
    "    elif val_dict[i] == val_dict[i+1]:\n",
    "        flag_val += 0\n",
    "        \n",
    "    elif val_dict[i] > val_dict[i+1]:\n",
    "        flag_val -= 1\n",
    "     \n",
    "print(val_dict)\n",
    "print(flag_val)"
   ]
  },
  {
   "cell_type": "code",
   "execution_count": 48,
   "metadata": {},
   "outputs": [
    {
     "name": "stdout",
     "output_type": "stream",
     "text": [
      "2\n"
     ]
    }
   ],
   "source": [
    "for i in range(n-1):\n",
    "    old_val = lst[i]\n",
    "    new_val = lst[i+1]\n",
    "    \n",
    "    if old_val <= new_val:\n",
    "        flag_val += 1\n",
    "            \n",
    "print(flag_val)"
   ]
  }
 ],
 "metadata": {
  "kernelspec": {
   "display_name": "Python 3",
   "language": "python",
   "name": "python3"
  },
  "language_info": {
   "codemirror_mode": {
    "name": "ipython",
    "version": 3
   },
   "file_extension": ".py",
   "mimetype": "text/x-python",
   "name": "python",
   "nbconvert_exporter": "python",
   "pygments_lexer": "ipython3",
   "version": "3.6.6"
  }
 },
 "nbformat": 4,
 "nbformat_minor": 4
}
