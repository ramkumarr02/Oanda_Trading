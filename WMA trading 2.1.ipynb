{
 "cells": [
  {
   "cell_type": "markdown",
   "metadata": {},
   "source": [
    "# Oanda Demo Trading Notebook"
   ]
  },
  {
   "cell_type": "markdown",
   "metadata": {},
   "source": [
    "## Packages & Tools"
   ]
  },
  {
   "cell_type": "code",
   "execution_count": 2,
   "metadata": {},
   "outputs": [],
   "source": [
    "from utils.packages import *\n",
    "from utils.tools import *"
   ]
  },
  {
   "cell_type": "markdown",
   "metadata": {},
   "source": [
    "## Tools"
   ]
  },
  {
   "cell_type": "code",
   "execution_count": 3,
   "metadata": {},
   "outputs": [],
   "source": [
    "def make_order(accountID, stop_price, instrument, units, order_type):\n",
    "    stopLossOnFill = StopLossDetails(price=stop_price)\n",
    "    \n",
    "    if order_type == 'long':\n",
    "        units = units * 1\n",
    "    elif order_type == 'short':\n",
    "        units = units * (-1)\n",
    "\n",
    "    ordr = MarketOrderRequest(\n",
    "        instrument = instrument,\n",
    "        units=units,\n",
    "        stopLossOnFill=stopLossOnFill.data)\n",
    "\n",
    "    r = orders.OrderCreate(accountID, data=ordr.data)\n",
    "    rv = api.request(r)\n",
    "    return(rv)"
   ]
  },
  {
   "cell_type": "code",
   "execution_count": 4,
   "metadata": {},
   "outputs": [],
   "source": [
    "def close_order(accountID, order_type, instrument):\n",
    "    data_long = {\"longUnits\": \"ALL\"}\n",
    "    data_short = {\"shortUnits\": \"ALL\"}\n",
    "    \n",
    "    if order_type == 'long':\n",
    "        data = data_long\n",
    "    elif order_type == 'short':\n",
    "        data = data_short\n",
    "        \n",
    "    r = positions.PositionClose(accountID=accountID,\n",
    "                                instrument=instrument,\n",
    "                                data=data)\n",
    "    rv = api.request(r)\n",
    "    return(rv)"
   ]
  },
  {
   "cell_type": "markdown",
   "metadata": {},
   "source": [
    "## API Setup"
   ]
  },
  {
   "cell_type": "markdown",
   "metadata": {},
   "source": [
    "Read from config file"
   ]
  },
  {
   "cell_type": "code",
   "execution_count": 5,
   "metadata": {
    "scrolled": true
   },
   "outputs": [],
   "source": [
    "temp_file = 'config/access_keys.yaml'\n",
    "with open(temp_file) as temp_file:\n",
    "    config = yaml.load(temp_file)\n",
    "    \n",
    "temp_file = 'config/currencies.yaml'\n",
    "with open(temp_file) as temp_file:\n",
    "    currencies = yaml.load(temp_file)\n",
    "\n",
    "temp_file = 'config/stepped_loss.yaml'\n",
    "with open(temp_file) as temp_file:\n",
    "    loss_limits = yaml.load(temp_file)\n",
    "    \n",
    "temp_file = 'config/wma.yaml'\n",
    "with open(temp_file) as temp_file:\n",
    "    wma = yaml.load(temp_file)    "
   ]
  },
  {
   "cell_type": "code",
   "execution_count": 6,
   "metadata": {},
   "outputs": [],
   "source": [
    "instrument = wma['parameter']['instrument']\n",
    "short_moving_window = wma['parameter']['short_moving_window']\n",
    "long_moving_window = wma['parameter']['long_moving_window']\n",
    "lists_size = wma['parameter']['lists_size']\n",
    "\n",
    "access_token = config['oanda_demo_account']['token']\n",
    "accountID = config['oanda_demo_account']['account_id']\n",
    "api = API(access_token = access_token)"
   ]
  },
  {
   "cell_type": "markdown",
   "metadata": {},
   "source": [
    "## Code Engine"
   ]
  },
  {
   "cell_type": "code",
   "execution_count": 7,
   "metadata": {},
   "outputs": [],
   "source": [
    "loss_limit_num = 3\n",
    "\n",
    "pip = 0.0001\n",
    "loss_limit = loss_limit_num * pip"
   ]
  },
  {
   "cell_type": "code",
   "execution_count": 8,
   "metadata": {
    "scrolled": true
   },
   "outputs": [
    {
     "name": "stderr",
     "output_type": "stream",
     "text": [
      "246it [04:01,  1.01it/s]"
     ]
    },
    {
     "name": "stdout",
     "output_type": "stream",
     "text": [
      "initial_position : positive\n"
     ]
    },
    {
     "name": "stderr",
     "output_type": "stream",
     "text": [
      "279it [04:30,  1.58it/s]"
     ]
    },
    {
     "name": "stdout",
     "output_type": "stream",
     "text": [
      "initial_position:positive\n",
      "current_position:negative\n",
      "Going short\n"
     ]
    },
    {
     "name": "stderr",
     "output_type": "stream",
     "text": [
      "282it [04:31,  2.19it/s]"
     ]
    },
    {
     "name": "stdout",
     "output_type": "stream",
     "text": [
      "ordered\n"
     ]
    },
    {
     "name": "stderr",
     "output_type": "stream",
     "text": [
      "339it [05:23,  1.45s/it]"
     ]
    },
    {
     "name": "stdout",
     "output_type": "stream",
     "text": [
      "Take_profit\n"
     ]
    },
    {
     "name": "stderr",
     "output_type": "stream",
     "text": [
      "477it [07:43,  1.12s/it]"
     ]
    },
    {
     "name": "stdout",
     "output_type": "stream",
     "text": [
      "initial_position:negative\n",
      "current_position:positive\n",
      "Going long\n"
     ]
    },
    {
     "name": "stderr",
     "output_type": "stream",
     "text": [
      "\r",
      "478it [07:46,  1.57s/it]"
     ]
    },
    {
     "name": "stdout",
     "output_type": "stream",
     "text": [
      "ordered\n"
     ]
    },
    {
     "name": "stderr",
     "output_type": "stream",
     "text": [
      "600it [10:22,  1.05it/s]"
     ]
    },
    {
     "name": "stdout",
     "output_type": "stream",
     "text": [
      "initial_position:positive\n",
      "current_position:negative\n",
      "Closing long positions if any\n"
     ]
    },
    {
     "name": "stderr",
     "output_type": "stream",
     "text": [
      "\r",
      "601it [10:24,  1.04s/it]"
     ]
    },
    {
     "name": "stdout",
     "output_type": "stream",
     "text": [
      "Skiped iteration:1, pl_list : deque([-0.0001])\n"
     ]
    },
    {
     "name": "stderr",
     "output_type": "stream",
     "text": [
      "623it [10:43,  1.04s/it]"
     ]
    },
    {
     "name": "stdout",
     "output_type": "stream",
     "text": [
      "initial_position:negative\n",
      "current_position:positive\n",
      "Going long\n"
     ]
    },
    {
     "name": "stderr",
     "output_type": "stream",
     "text": [
      "625it [10:44,  1.36it/s]"
     ]
    },
    {
     "name": "stdout",
     "output_type": "stream",
     "text": [
      "ordered\n"
     ]
    },
    {
     "name": "stderr",
     "output_type": "stream",
     "text": [
      "633it [10:55,  1.04s/it]"
     ]
    },
    {
     "name": "stdout",
     "output_type": "stream",
     "text": [
      "initial_position:positive\n",
      "current_position:negative\n",
      "Closing long positions if any\n"
     ]
    },
    {
     "name": "stderr",
     "output_type": "stream",
     "text": [
      "\r",
      "634it [10:57,  1.48s/it]"
     ]
    },
    {
     "name": "stdout",
     "output_type": "stream",
     "text": [
      "Skiped iteration:1, pl_list : deque([-0.0001, -0.0002])\n"
     ]
    },
    {
     "name": "stderr",
     "output_type": "stream",
     "text": [
      "687it [12:01,  1.21s/it]"
     ]
    },
    {
     "name": "stdout",
     "output_type": "stream",
     "text": [
      "initial_position:negative\n",
      "current_position:positive\n",
      "Going long\n"
     ]
    },
    {
     "name": "stderr",
     "output_type": "stream",
     "text": [
      "\r",
      "688it [12:02,  1.01it/s]"
     ]
    },
    {
     "name": "stdout",
     "output_type": "stream",
     "text": [
      "ordered\n"
     ]
    },
    {
     "name": "stderr",
     "output_type": "stream",
     "text": [
      "735it [12:55,  1.44s/it]"
     ]
    },
    {
     "name": "stdout",
     "output_type": "stream",
     "text": [
      "initial_position:positive\n",
      "current_position:negative\n",
      "Closing long positions if any\n"
     ]
    },
    {
     "name": "stderr",
     "output_type": "stream",
     "text": [
      "\r",
      "736it [12:59,  1.98s/it]"
     ]
    },
    {
     "name": "stdout",
     "output_type": "stream",
     "text": [
      "Skiped iteration:1, pl_list : deque([-0.0002, -0.0004])\n"
     ]
    },
    {
     "name": "stderr",
     "output_type": "stream",
     "text": [
      "772it [13:35,  1.06s/it]\n"
     ]
    },
    {
     "ename": "KeyboardInterrupt",
     "evalue": "",
     "output_type": "error",
     "traceback": [
      "\u001b[1;31m-------------------------------------------\u001b[0m",
      "\u001b[1;31mKeyboardInterrupt\u001b[0mTraceback (most recent call last)",
      "\u001b[1;32m<ipython-input-8-33f92b27fee0>\u001b[0m in \u001b[0;36m<module>\u001b[1;34m\u001b[0m\n\u001b[0;32m     44\u001b[0m \u001b[0minitial_position_captured\u001b[0m \u001b[1;33m=\u001b[0m \u001b[1;32mFalse\u001b[0m\u001b[1;33m\u001b[0m\u001b[0m\n\u001b[0;32m     45\u001b[0m \u001b[1;33m\u001b[0m\u001b[0m\n\u001b[1;32m---> 46\u001b[1;33m \u001b[1;32mfor\u001b[0m \u001b[0mi\u001b[0m\u001b[1;33m,\u001b[0m \u001b[0mresp\u001b[0m \u001b[1;32min\u001b[0m \u001b[0mtqdm\u001b[0m\u001b[1;33m(\u001b[0m\u001b[0menumerate\u001b[0m\u001b[1;33m(\u001b[0m\u001b[0mrv\u001b[0m\u001b[1;33m)\u001b[0m\u001b[1;33m)\u001b[0m\u001b[1;33m:\u001b[0m\u001b[1;33m\u001b[0m\u001b[0m\n\u001b[0m\u001b[0;32m     47\u001b[0m     \u001b[0mresp_type\u001b[0m \u001b[1;33m=\u001b[0m \u001b[0mresp\u001b[0m\u001b[1;33m[\u001b[0m\u001b[1;34m'type'\u001b[0m\u001b[1;33m]\u001b[0m\u001b[1;33m\u001b[0m\u001b[0m\n\u001b[0;32m     48\u001b[0m \u001b[1;33m\u001b[0m\u001b[0m\n",
      "\u001b[1;32md:\\ram\\pcal\\data science\\projects\\trading\\oanda_trading\\tradenv\\lib\\site-packages\\tqdm\\std.py\u001b[0m in \u001b[0;36m__iter__\u001b[1;34m(self)\u001b[0m\n\u001b[0;32m   1127\u001b[0m \u001b[1;33m\u001b[0m\u001b[0m\n\u001b[0;32m   1128\u001b[0m         \u001b[1;32mtry\u001b[0m\u001b[1;33m:\u001b[0m\u001b[1;33m\u001b[0m\u001b[0m\n\u001b[1;32m-> 1129\u001b[1;33m             \u001b[1;32mfor\u001b[0m \u001b[0mobj\u001b[0m \u001b[1;32min\u001b[0m \u001b[0miterable\u001b[0m\u001b[1;33m:\u001b[0m\u001b[1;33m\u001b[0m\u001b[0m\n\u001b[0m\u001b[0;32m   1130\u001b[0m                 \u001b[1;32myield\u001b[0m \u001b[0mobj\u001b[0m\u001b[1;33m\u001b[0m\u001b[0m\n\u001b[0;32m   1131\u001b[0m                 \u001b[1;31m# Update and possibly print the progressbar.\u001b[0m\u001b[1;33m\u001b[0m\u001b[1;33m\u001b[0m\u001b[0m\n",
      "\u001b[1;32md:\\ram\\pcal\\data science\\projects\\trading\\oanda_trading\\tradenv\\lib\\site-packages\\oandapyV20\\oandapyV20.py\u001b[0m in \u001b[0;36m__stream_request\u001b[1;34m(self, method, url, request_args, headers)\u001b[0m\n\u001b[0;32m    255\u001b[0m                                   headers=headers, stream=True)\n\u001b[0;32m    256\u001b[0m         \u001b[0mlines\u001b[0m \u001b[1;33m=\u001b[0m \u001b[0mresponse\u001b[0m\u001b[1;33m.\u001b[0m\u001b[0miter_lines\u001b[0m\u001b[1;33m(\u001b[0m\u001b[0mITER_LINES_CHUNKSIZE\u001b[0m\u001b[1;33m)\u001b[0m\u001b[1;33m\u001b[0m\u001b[0m\n\u001b[1;32m--> 257\u001b[1;33m         \u001b[1;32mfor\u001b[0m \u001b[0mline\u001b[0m \u001b[1;32min\u001b[0m \u001b[0mlines\u001b[0m\u001b[1;33m:\u001b[0m\u001b[1;33m\u001b[0m\u001b[0m\n\u001b[0m\u001b[0;32m    258\u001b[0m             \u001b[1;32mif\u001b[0m \u001b[0mline\u001b[0m\u001b[1;33m:\u001b[0m\u001b[1;33m\u001b[0m\u001b[0m\n\u001b[0;32m    259\u001b[0m                 \u001b[0mdata\u001b[0m \u001b[1;33m=\u001b[0m \u001b[0mjson\u001b[0m\u001b[1;33m.\u001b[0m\u001b[0mloads\u001b[0m\u001b[1;33m(\u001b[0m\u001b[0mline\u001b[0m\u001b[1;33m.\u001b[0m\u001b[0mdecode\u001b[0m\u001b[1;33m(\u001b[0m\u001b[1;34m\"utf-8\"\u001b[0m\u001b[1;33m)\u001b[0m\u001b[1;33m)\u001b[0m\u001b[1;33m\u001b[0m\u001b[0m\n",
      "\u001b[1;32md:\\ram\\pcal\\data science\\projects\\trading\\oanda_trading\\tradenv\\lib\\site-packages\\requests\\models.py\u001b[0m in \u001b[0;36miter_lines\u001b[1;34m(self, chunk_size, decode_unicode, delimiter)\u001b[0m\n\u001b[0;32m    793\u001b[0m         \u001b[0mpending\u001b[0m \u001b[1;33m=\u001b[0m \u001b[1;32mNone\u001b[0m\u001b[1;33m\u001b[0m\u001b[0m\n\u001b[0;32m    794\u001b[0m \u001b[1;33m\u001b[0m\u001b[0m\n\u001b[1;32m--> 795\u001b[1;33m         \u001b[1;32mfor\u001b[0m \u001b[0mchunk\u001b[0m \u001b[1;32min\u001b[0m \u001b[0mself\u001b[0m\u001b[1;33m.\u001b[0m\u001b[0miter_content\u001b[0m\u001b[1;33m(\u001b[0m\u001b[0mchunk_size\u001b[0m\u001b[1;33m=\u001b[0m\u001b[0mchunk_size\u001b[0m\u001b[1;33m,\u001b[0m \u001b[0mdecode_unicode\u001b[0m\u001b[1;33m=\u001b[0m\u001b[0mdecode_unicode\u001b[0m\u001b[1;33m)\u001b[0m\u001b[1;33m:\u001b[0m\u001b[1;33m\u001b[0m\u001b[0m\n\u001b[0m\u001b[0;32m    796\u001b[0m \u001b[1;33m\u001b[0m\u001b[0m\n\u001b[0;32m    797\u001b[0m             \u001b[1;32mif\u001b[0m \u001b[0mpending\u001b[0m \u001b[1;32mis\u001b[0m \u001b[1;32mnot\u001b[0m \u001b[1;32mNone\u001b[0m\u001b[1;33m:\u001b[0m\u001b[1;33m\u001b[0m\u001b[0m\n",
      "\u001b[1;32md:\\ram\\pcal\\data science\\projects\\trading\\oanda_trading\\tradenv\\lib\\site-packages\\requests\\models.py\u001b[0m in \u001b[0;36mgenerate\u001b[1;34m()\u001b[0m\n\u001b[0;32m    749\u001b[0m             \u001b[1;32mif\u001b[0m \u001b[0mhasattr\u001b[0m\u001b[1;33m(\u001b[0m\u001b[0mself\u001b[0m\u001b[1;33m.\u001b[0m\u001b[0mraw\u001b[0m\u001b[1;33m,\u001b[0m \u001b[1;34m'stream'\u001b[0m\u001b[1;33m)\u001b[0m\u001b[1;33m:\u001b[0m\u001b[1;33m\u001b[0m\u001b[0m\n\u001b[0;32m    750\u001b[0m                 \u001b[1;32mtry\u001b[0m\u001b[1;33m:\u001b[0m\u001b[1;33m\u001b[0m\u001b[0m\n\u001b[1;32m--> 751\u001b[1;33m                     \u001b[1;32mfor\u001b[0m \u001b[0mchunk\u001b[0m \u001b[1;32min\u001b[0m \u001b[0mself\u001b[0m\u001b[1;33m.\u001b[0m\u001b[0mraw\u001b[0m\u001b[1;33m.\u001b[0m\u001b[0mstream\u001b[0m\u001b[1;33m(\u001b[0m\u001b[0mchunk_size\u001b[0m\u001b[1;33m,\u001b[0m \u001b[0mdecode_content\u001b[0m\u001b[1;33m=\u001b[0m\u001b[1;32mTrue\u001b[0m\u001b[1;33m)\u001b[0m\u001b[1;33m:\u001b[0m\u001b[1;33m\u001b[0m\u001b[0m\n\u001b[0m\u001b[0;32m    752\u001b[0m                         \u001b[1;32myield\u001b[0m \u001b[0mchunk\u001b[0m\u001b[1;33m\u001b[0m\u001b[0m\n\u001b[0;32m    753\u001b[0m                 \u001b[1;32mexcept\u001b[0m \u001b[0mProtocolError\u001b[0m \u001b[1;32mas\u001b[0m \u001b[0me\u001b[0m\u001b[1;33m:\u001b[0m\u001b[1;33m\u001b[0m\u001b[0m\n",
      "\u001b[1;32md:\\ram\\pcal\\data science\\projects\\trading\\oanda_trading\\tradenv\\lib\\site-packages\\urllib3\\response.py\u001b[0m in \u001b[0;36mstream\u001b[1;34m(self, amt, decode_content)\u001b[0m\n\u001b[0;32m    570\u001b[0m         \"\"\"\n\u001b[0;32m    571\u001b[0m         \u001b[1;32mif\u001b[0m \u001b[0mself\u001b[0m\u001b[1;33m.\u001b[0m\u001b[0mchunked\u001b[0m \u001b[1;32mand\u001b[0m \u001b[0mself\u001b[0m\u001b[1;33m.\u001b[0m\u001b[0msupports_chunked_reads\u001b[0m\u001b[1;33m(\u001b[0m\u001b[1;33m)\u001b[0m\u001b[1;33m:\u001b[0m\u001b[1;33m\u001b[0m\u001b[0m\n\u001b[1;32m--> 572\u001b[1;33m             \u001b[1;32mfor\u001b[0m \u001b[0mline\u001b[0m \u001b[1;32min\u001b[0m \u001b[0mself\u001b[0m\u001b[1;33m.\u001b[0m\u001b[0mread_chunked\u001b[0m\u001b[1;33m(\u001b[0m\u001b[0mamt\u001b[0m\u001b[1;33m,\u001b[0m \u001b[0mdecode_content\u001b[0m\u001b[1;33m=\u001b[0m\u001b[0mdecode_content\u001b[0m\u001b[1;33m)\u001b[0m\u001b[1;33m:\u001b[0m\u001b[1;33m\u001b[0m\u001b[0m\n\u001b[0m\u001b[0;32m    573\u001b[0m                 \u001b[1;32myield\u001b[0m \u001b[0mline\u001b[0m\u001b[1;33m\u001b[0m\u001b[0m\n\u001b[0;32m    574\u001b[0m         \u001b[1;32melse\u001b[0m\u001b[1;33m:\u001b[0m\u001b[1;33m\u001b[0m\u001b[0m\n",
      "\u001b[1;32md:\\ram\\pcal\\data science\\projects\\trading\\oanda_trading\\tradenv\\lib\\site-packages\\urllib3\\response.py\u001b[0m in \u001b[0;36mread_chunked\u001b[1;34m(self, amt, decode_content)\u001b[0m\n\u001b[0;32m    762\u001b[0m \u001b[1;33m\u001b[0m\u001b[0m\n\u001b[0;32m    763\u001b[0m             \u001b[1;32mwhile\u001b[0m \u001b[1;32mTrue\u001b[0m\u001b[1;33m:\u001b[0m\u001b[1;33m\u001b[0m\u001b[0m\n\u001b[1;32m--> 764\u001b[1;33m                 \u001b[0mself\u001b[0m\u001b[1;33m.\u001b[0m\u001b[0m_update_chunk_length\u001b[0m\u001b[1;33m(\u001b[0m\u001b[1;33m)\u001b[0m\u001b[1;33m\u001b[0m\u001b[0m\n\u001b[0m\u001b[0;32m    765\u001b[0m                 \u001b[1;32mif\u001b[0m \u001b[0mself\u001b[0m\u001b[1;33m.\u001b[0m\u001b[0mchunk_left\u001b[0m \u001b[1;33m==\u001b[0m \u001b[1;36m0\u001b[0m\u001b[1;33m:\u001b[0m\u001b[1;33m\u001b[0m\u001b[0m\n\u001b[0;32m    766\u001b[0m                     \u001b[1;32mbreak\u001b[0m\u001b[1;33m\u001b[0m\u001b[0m\n",
      "\u001b[1;32md:\\ram\\pcal\\data science\\projects\\trading\\oanda_trading\\tradenv\\lib\\site-packages\\urllib3\\response.py\u001b[0m in \u001b[0;36m_update_chunk_length\u001b[1;34m(self)\u001b[0m\n\u001b[0;32m    692\u001b[0m         \u001b[1;32mif\u001b[0m \u001b[0mself\u001b[0m\u001b[1;33m.\u001b[0m\u001b[0mchunk_left\u001b[0m \u001b[1;32mis\u001b[0m \u001b[1;32mnot\u001b[0m \u001b[1;32mNone\u001b[0m\u001b[1;33m:\u001b[0m\u001b[1;33m\u001b[0m\u001b[0m\n\u001b[0;32m    693\u001b[0m             \u001b[1;32mreturn\u001b[0m\u001b[1;33m\u001b[0m\u001b[0m\n\u001b[1;32m--> 694\u001b[1;33m         \u001b[0mline\u001b[0m \u001b[1;33m=\u001b[0m \u001b[0mself\u001b[0m\u001b[1;33m.\u001b[0m\u001b[0m_fp\u001b[0m\u001b[1;33m.\u001b[0m\u001b[0mfp\u001b[0m\u001b[1;33m.\u001b[0m\u001b[0mreadline\u001b[0m\u001b[1;33m(\u001b[0m\u001b[1;33m)\u001b[0m\u001b[1;33m\u001b[0m\u001b[0m\n\u001b[0m\u001b[0;32m    695\u001b[0m         \u001b[0mline\u001b[0m \u001b[1;33m=\u001b[0m \u001b[0mline\u001b[0m\u001b[1;33m.\u001b[0m\u001b[0msplit\u001b[0m\u001b[1;33m(\u001b[0m\u001b[1;34mb\";\"\u001b[0m\u001b[1;33m,\u001b[0m \u001b[1;36m1\u001b[0m\u001b[1;33m)\u001b[0m\u001b[1;33m[\u001b[0m\u001b[1;36m0\u001b[0m\u001b[1;33m]\u001b[0m\u001b[1;33m\u001b[0m\u001b[0m\n\u001b[0;32m    696\u001b[0m         \u001b[1;32mtry\u001b[0m\u001b[1;33m:\u001b[0m\u001b[1;33m\u001b[0m\u001b[0m\n",
      "\u001b[1;32mc:\\users\\91989\\appdata\\local\\programs\\python\\python36\\lib\\socket.py\u001b[0m in \u001b[0;36mreadinto\u001b[1;34m(self, b)\u001b[0m\n\u001b[0;32m    584\u001b[0m         \u001b[1;32mwhile\u001b[0m \u001b[1;32mTrue\u001b[0m\u001b[1;33m:\u001b[0m\u001b[1;33m\u001b[0m\u001b[0m\n\u001b[0;32m    585\u001b[0m             \u001b[1;32mtry\u001b[0m\u001b[1;33m:\u001b[0m\u001b[1;33m\u001b[0m\u001b[0m\n\u001b[1;32m--> 586\u001b[1;33m                 \u001b[1;32mreturn\u001b[0m \u001b[0mself\u001b[0m\u001b[1;33m.\u001b[0m\u001b[0m_sock\u001b[0m\u001b[1;33m.\u001b[0m\u001b[0mrecv_into\u001b[0m\u001b[1;33m(\u001b[0m\u001b[0mb\u001b[0m\u001b[1;33m)\u001b[0m\u001b[1;33m\u001b[0m\u001b[0m\n\u001b[0m\u001b[0;32m    587\u001b[0m             \u001b[1;32mexcept\u001b[0m \u001b[0mtimeout\u001b[0m\u001b[1;33m:\u001b[0m\u001b[1;33m\u001b[0m\u001b[0m\n\u001b[0;32m    588\u001b[0m                 \u001b[0mself\u001b[0m\u001b[1;33m.\u001b[0m\u001b[0m_timeout_occurred\u001b[0m \u001b[1;33m=\u001b[0m \u001b[1;32mTrue\u001b[0m\u001b[1;33m\u001b[0m\u001b[0m\n",
      "\u001b[1;32mc:\\users\\91989\\appdata\\local\\programs\\python\\python36\\lib\\ssl.py\u001b[0m in \u001b[0;36mrecv_into\u001b[1;34m(self, buffer, nbytes, flags)\u001b[0m\n\u001b[0;32m   1007\u001b[0m                   \u001b[1;34m\"non-zero flags not allowed in calls to recv_into() on %s\"\u001b[0m \u001b[1;33m%\u001b[0m\u001b[1;33m\u001b[0m\u001b[0m\n\u001b[0;32m   1008\u001b[0m                   self.__class__)\n\u001b[1;32m-> 1009\u001b[1;33m             \u001b[1;32mreturn\u001b[0m \u001b[0mself\u001b[0m\u001b[1;33m.\u001b[0m\u001b[0mread\u001b[0m\u001b[1;33m(\u001b[0m\u001b[0mnbytes\u001b[0m\u001b[1;33m,\u001b[0m \u001b[0mbuffer\u001b[0m\u001b[1;33m)\u001b[0m\u001b[1;33m\u001b[0m\u001b[0m\n\u001b[0m\u001b[0;32m   1010\u001b[0m         \u001b[1;32melse\u001b[0m\u001b[1;33m:\u001b[0m\u001b[1;33m\u001b[0m\u001b[0m\n\u001b[0;32m   1011\u001b[0m             \u001b[1;32mreturn\u001b[0m \u001b[0msocket\u001b[0m\u001b[1;33m.\u001b[0m\u001b[0mrecv_into\u001b[0m\u001b[1;33m(\u001b[0m\u001b[0mself\u001b[0m\u001b[1;33m,\u001b[0m \u001b[0mbuffer\u001b[0m\u001b[1;33m,\u001b[0m \u001b[0mnbytes\u001b[0m\u001b[1;33m,\u001b[0m \u001b[0mflags\u001b[0m\u001b[1;33m)\u001b[0m\u001b[1;33m\u001b[0m\u001b[0m\n",
      "\u001b[1;32mc:\\users\\91989\\appdata\\local\\programs\\python\\python36\\lib\\ssl.py\u001b[0m in \u001b[0;36mread\u001b[1;34m(self, len, buffer)\u001b[0m\n\u001b[0;32m    869\u001b[0m             \u001b[1;32mraise\u001b[0m \u001b[0mValueError\u001b[0m\u001b[1;33m(\u001b[0m\u001b[1;34m\"Read on closed or unwrapped SSL socket.\"\u001b[0m\u001b[1;33m)\u001b[0m\u001b[1;33m\u001b[0m\u001b[0m\n\u001b[0;32m    870\u001b[0m         \u001b[1;32mtry\u001b[0m\u001b[1;33m:\u001b[0m\u001b[1;33m\u001b[0m\u001b[0m\n\u001b[1;32m--> 871\u001b[1;33m             \u001b[1;32mreturn\u001b[0m \u001b[0mself\u001b[0m\u001b[1;33m.\u001b[0m\u001b[0m_sslobj\u001b[0m\u001b[1;33m.\u001b[0m\u001b[0mread\u001b[0m\u001b[1;33m(\u001b[0m\u001b[0mlen\u001b[0m\u001b[1;33m,\u001b[0m \u001b[0mbuffer\u001b[0m\u001b[1;33m)\u001b[0m\u001b[1;33m\u001b[0m\u001b[0m\n\u001b[0m\u001b[0;32m    872\u001b[0m         \u001b[1;32mexcept\u001b[0m \u001b[0mSSLError\u001b[0m \u001b[1;32mas\u001b[0m \u001b[0mx\u001b[0m\u001b[1;33m:\u001b[0m\u001b[1;33m\u001b[0m\u001b[0m\n\u001b[0;32m    873\u001b[0m             \u001b[1;32mif\u001b[0m \u001b[0mx\u001b[0m\u001b[1;33m.\u001b[0m\u001b[0margs\u001b[0m\u001b[1;33m[\u001b[0m\u001b[1;36m0\u001b[0m\u001b[1;33m]\u001b[0m \u001b[1;33m==\u001b[0m \u001b[0mSSL_ERROR_EOF\u001b[0m \u001b[1;32mand\u001b[0m \u001b[0mself\u001b[0m\u001b[1;33m.\u001b[0m\u001b[0msuppress_ragged_eofs\u001b[0m\u001b[1;33m:\u001b[0m\u001b[1;33m\u001b[0m\u001b[0m\n",
      "\u001b[1;32mc:\\users\\91989\\appdata\\local\\programs\\python\\python36\\lib\\ssl.py\u001b[0m in \u001b[0;36mread\u001b[1;34m(self, len, buffer)\u001b[0m\n\u001b[0;32m    629\u001b[0m         \"\"\"\n\u001b[0;32m    630\u001b[0m         \u001b[1;32mif\u001b[0m \u001b[0mbuffer\u001b[0m \u001b[1;32mis\u001b[0m \u001b[1;32mnot\u001b[0m \u001b[1;32mNone\u001b[0m\u001b[1;33m:\u001b[0m\u001b[1;33m\u001b[0m\u001b[0m\n\u001b[1;32m--> 631\u001b[1;33m             \u001b[0mv\u001b[0m \u001b[1;33m=\u001b[0m \u001b[0mself\u001b[0m\u001b[1;33m.\u001b[0m\u001b[0m_sslobj\u001b[0m\u001b[1;33m.\u001b[0m\u001b[0mread\u001b[0m\u001b[1;33m(\u001b[0m\u001b[0mlen\u001b[0m\u001b[1;33m,\u001b[0m \u001b[0mbuffer\u001b[0m\u001b[1;33m)\u001b[0m\u001b[1;33m\u001b[0m\u001b[0m\n\u001b[0m\u001b[0;32m    632\u001b[0m         \u001b[1;32melse\u001b[0m\u001b[1;33m:\u001b[0m\u001b[1;33m\u001b[0m\u001b[0m\n\u001b[0;32m    633\u001b[0m             \u001b[0mv\u001b[0m \u001b[1;33m=\u001b[0m \u001b[0mself\u001b[0m\u001b[1;33m.\u001b[0m\u001b[0m_sslobj\u001b[0m\u001b[1;33m.\u001b[0m\u001b[0mread\u001b[0m\u001b[1;33m(\u001b[0m\u001b[0mlen\u001b[0m\u001b[1;33m)\u001b[0m\u001b[1;33m\u001b[0m\u001b[0m\n",
      "\u001b[1;31mKeyboardInterrupt\u001b[0m: "
     ]
    }
   ],
   "source": [
    "params = {'instruments': instrument}\n",
    "r = pricing.PricingStream(accountID=accountID, params=params)\n",
    "rv = api.request(r)\n",
    "\n",
    "short_wma = 0\n",
    "short_flag = True\n",
    "short_list = collections.deque([])\n",
    "short_wma_list = collections.deque([])\n",
    "short_weights = get_weights(short_moving_window)\n",
    "\n",
    "long_wma = 0\n",
    "long_flag = True\n",
    "long_list = collections.deque([])\n",
    "long_wma_list = collections.deque([])\n",
    "long_weights = get_weights(long_moving_window)\n",
    "\n",
    "tick_list = collections.deque([])\n",
    "\n",
    "long_list_counter = 0\n",
    "list_ready = False\n",
    "old_direction =  'none'\n",
    "\n",
    "order_flag = False\n",
    "\n",
    "profit_target = 0.25 # pip target of actual price\n",
    "price_allowed_buffer = 0.1 # percentage of SWMA decrease\n",
    "\n",
    "profit_target = profit_target * pip \n",
    "\n",
    "pl_list = collections.deque([])\n",
    "consecutive_losses = 2\n",
    "skip_iter = 1\n",
    "max_skips = 1\n",
    "\n",
    "negative_run =  False\n",
    "pl_pip = 0\n",
    "\n",
    "\n",
    "valid_iteration = True\n",
    "\n",
    "units = 1\n",
    "\n",
    "first_position_changed = False\n",
    "initial_position_captured = False\n",
    "\n",
    "for i, resp in tqdm(enumerate(rv)):        \n",
    "    resp_type = resp['type']       \n",
    "\n",
    "    if resp_type == 'HEARTBEAT': # Heart beat response to keep the api connection alive (Avoid timeout)\n",
    "        pass\n",
    "\n",
    "    #-----------------------------------------------------------------------------------------------------\n",
    "    elif resp_type == 'PRICE': # Check if we are yet to make the order               \n",
    "        date_val, time_val, time_fraction = get_date_time(resp) # Get time stamp for reference            \n",
    "        sell_price, buy_price, spread, tick_price = get_prices(resp) # Get prices from the response  \n",
    "\n",
    "    #List Prep\n",
    "    #-----------------------------------------------------------------------------------------------------\n",
    "        #Short list prep\n",
    "        #-----------------------------------------------------------------------------------------------------\n",
    "        if len(short_list) < short_moving_window:\n",
    "            short_list.append(tick_price)\n",
    "\n",
    "        if short_flag and len(short_list) == short_moving_window:\n",
    "            short_wma = sum(np.array(short_list)*short_weights)\n",
    "            short_flag =False\n",
    "\n",
    "        if short_flag == False and len(short_list) == short_moving_window:\n",
    "            short_list.popleft()   \n",
    "            short_list.append(tick_price) \n",
    "            short_wma = sum(np.array(short_list)*short_weights)\n",
    "\n",
    "\n",
    "\n",
    "        #Long list prep   \n",
    "        #-----------------------------------------------------------------------------------------------------                \n",
    "        if len(long_list) < long_moving_window:\n",
    "            long_list.append(tick_price)\n",
    "\n",
    "        if long_flag and len(long_list) == long_moving_window:\n",
    "            long_wma = sum(np.array(long_list)*long_weights)\n",
    "            long_flag = False\n",
    "\n",
    "        if long_flag == False and len(long_list) == long_moving_window:\n",
    "            long_list.popleft()   \n",
    "            long_list.append(tick_price) \n",
    "            long_wma = sum(np.array(long_list)*long_weights)   \n",
    "            long_list_counter += 1\n",
    "            if long_list_counter >= lists_size:\n",
    "                list_ready = True\n",
    "    #-----------------------------------------------------------------------------------------------------\n",
    "  \n",
    "        #Direction identification\n",
    "        #----------------------------------------------------------------------------------------------------- \n",
    "        if valid_iteration == False and list_ready:\n",
    "            #print(f'Gap: {max_gap_wma}, Threshold: {max_gap_wma_threshold}')\n",
    "            pass\n",
    "            \n",
    "        elif valid_iteration and list_ready:\n",
    "            if list_ready:\n",
    "                if short_wma > long_wma:\n",
    "                    current_position = 'positive'\n",
    "                elif short_wma < long_wma:\n",
    "                    current_position = 'negative'\n",
    "                elif short_wma == long_wma:\n",
    "                    current_position = 'same level'\n",
    "\n",
    "            if list_ready and initial_position_captured == False:\n",
    "                initial_position = current_position\n",
    "                print(f'initial_position : {initial_position}')\n",
    "                initial_position_captured =  True\n",
    "                winsound.PlaySound('C:\\\\Windows\\\\Media\\\\tada.wav', winsound.SND_ASYNC) \n",
    "\n",
    "            if list_ready and initial_position_captured:\n",
    "                if initial_position == current_position:\n",
    "                    pass\n",
    "\n",
    "                elif current_position == 'same level':\n",
    "                    print('Same level, wait for next iteration')\n",
    "\n",
    "                elif initial_position != current_position and current_position != 'same level':\n",
    "                    print(f'initial_position:{initial_position}')\n",
    "                    print(f'current_position:{current_position}')\n",
    "\n",
    "                    #Select order type -------------------------------------------------------------------------\n",
    "                    if current_position == 'positive':\n",
    "                        old_order_type = 'short'\n",
    "                        order_type = 'long'\n",
    "                        stop_price = buy_price - loss_limit                \n",
    "\n",
    "                    elif current_position == 'negative':\n",
    "                        old_order_type = 'long'\n",
    "                        order_type = 'short'\n",
    "                        stop_price = sell_price + loss_limit                \n",
    "\n",
    "                # Ordering -------------------------------------------------------------------------    \n",
    "                #-------------------------------------------------------------------------------------------                \n",
    "                    if order_flag:\n",
    "                        print(f'Closing {old_order_type} positions if any')\n",
    "                        close_order_log = close_order(accountID, old_order_type ,instrument)\n",
    "                        close_dict_key= list(close_order_log.keys())[1]\n",
    "                        pl_pip = float(close_order_log[close_dict_key]['pl'])\n",
    "\n",
    "                        order_flag = False\n",
    "\n",
    "                        if len(pl_list) < consecutive_losses:\n",
    "                            pl_list.append(pl_pip)\n",
    "                        elif len(pl_list) == consecutive_losses:\n",
    "                            pl_list.popleft()\n",
    "                            pl_list.append(pl_pip)\n",
    "\n",
    "                        negative_run = all(itrs < 0 for itrs in pl_list)\n",
    "\n",
    "                    if negative_run == False:\n",
    "                        print(f'Going {order_type}')\n",
    "                        make_order_log = make_order(accountID, stop_price, instrument, units, order_type)\n",
    "                        print('ordered')\n",
    "                        first_long =  True\n",
    "                        order_flag = True\n",
    "                    else:\n",
    "                        if max_skips > skip_iter:\n",
    "                            print(f'Skiped iteration:{skip_iter}, pl_list : {pl_list}')\n",
    "                            skip_iter += 1\n",
    "                        elif max_skips <= skip_iter:\n",
    "                            print(f'Skiped iteration:{skip_iter}, pl_list : {pl_list}')\n",
    "                            negative_run = False\n",
    "                            pl_list = collections.deque([])\n",
    "\n",
    "                    initial_position = current_position\n",
    "\n",
    "                    \n",
    "                # Take Profit -------------------------------------------------------------------------    \n",
    "                #-------------------------------------------------------------------------------------------                \n",
    "                if initial_position == current_position and current_position != 'same level' and order_flag:\n",
    "                    \n",
    "                    if order_type == 'long':     \n",
    "                        ordered_buy_price = float(make_order_log['orderFillTransaction']['fullPrice']['asks'][0]['price'])\n",
    "                        profit = sell_price - ordered_buy_price \n",
    "                        \n",
    "                        if first_long:\n",
    "                            max_price = short_wma\n",
    "                            first_long = False\n",
    "\n",
    "                        max_price = max(short_wma, max_price)\n",
    "                        buffered_max_price = max_price - (max_price * pip * price_allowed_buffer)\n",
    "\n",
    "                        if profit >= profit_target and short_wma <= buffered_max_price:    \n",
    "                            close_order_log = close_order(accountID, order_type ,instrument)                        \n",
    "                            order_flag = False\n",
    "                            max_gap_wma = 0\n",
    "                            close_reason = \"Take_profit\"\n",
    "                            print(close_reason)\n",
    "                            \n",
    "                    if order_type == 'short':     \n",
    "                        ordered_sell_price = float(make_order_log['orderFillTransaction']['fullPrice']['bids'][0]['price'])\n",
    "                        profit = ordered_sell_price - buy_price                \n",
    "                        \n",
    "                        if first_long:\n",
    "                            min_price = short_wma\n",
    "                            first_long = False\n",
    "\n",
    "                        min_price = min(short_wma, min_price)\n",
    "                        buffered_min_price = min_price + (min_price * pip * price_allowed_buffer)\n",
    "\n",
    "                        if profit >= profit_target and short_wma >= buffered_min_price:    \n",
    "                            close_order_log = close_order(accountID, order_type ,instrument)                        \n",
    "                            order_flag = False\n",
    "                            max_gap_wma = 0\n",
    "                            close_reason = \"Take_profit\"\n",
    "                            print(close_reason)                    "
   ]
  },
  {
   "cell_type": "code",
   "execution_count": 27,
   "metadata": {},
   "outputs": [],
   "source": [
    "output_data = {'date':[],\n",
    "               'time':[],\n",
    "               'instrument':[],\n",
    "               'direction':[],                   \n",
    "               'ordr_type':[],                   \n",
    "               'units':[],\n",
    "               'profit_pips':[],\n",
    "               'close_reason':[],\n",
    "               'Iterations':[],                   \n",
    "               'orderID':[]\n",
    "              }"
   ]
  },
  {
   "cell_type": "code",
   "execution_count": 28,
   "metadata": {
    "scrolled": true
   },
   "outputs": [],
   "source": [
    "#transactionID = 2624\n",
    "transactionID = 2258\n",
    "\n",
    "params = {'instruments': instrument}\n",
    "trans_r = trans.TransactionDetails(accountID=accountID, transactionID=transactionID)\n",
    "trans_rv = api.request(trans_r)\n",
    "last_order_type = trans_rv['transaction']['type']\n",
    "\n",
    "\n",
    "if last_order_type == 'ORDER_CANCEL':\n",
    "    trans_r = trans.TransactionDetails(accountID=accountID, transactionID = (transactionID - 1))\n",
    "    trans_rv = api.request(trans_r)\n",
    "    print(json.dumps(trans_rv, indent = 2))\n",
    "    \n",
    "elif last_order_type == 'ORDER_FILL':\n",
    "    trans_r = trans.TransactionDetails(accountID=accountID, transactionID = transactionID)\n",
    "    trans_rv = api.request(trans_r)\n",
    "    reason = trans_rv['transaction']['reason']\n",
    "    if reason == 'STOP_LOSS_ORDER':\n",
    "        #print(json.dumps(trans_rv, indent = 2))\n",
    "        transaction_details_rv = trans_rv\n",
    "        time_stamp = transaction_details_rv['transaction']['fullPrice']['timestamp']\n",
    "        dt, full_time = time_stamp.split(sep = 'T')\n",
    "        tm, time_fraction = full_time.split(sep = '.')\n",
    "        inst = transaction_details_rv['transaction']['instrument']\n",
    "        #unts = transaction_details_rv['transaction']['units']\n",
    "        prfit_pips = transaction_details_rv['transaction']['pl']\n",
    "        clse_reason = transaction_details_rv['transaction']['reason']\n",
    "        ordrID = transaction_details_rv['transaction']['orderID']\n",
    "\n",
    "        output_data['date'].append(dt)  \n",
    "        output_data['time'].append(tm)\n",
    "        output_data['instrument'].append(inst)\n",
    "        #output_data['units'].append(uni)\n",
    "        output_data['profit_pips'].append(prfit_pips)\n",
    "        output_data['orderID'].append(ordrID)\n",
    "        output_data['close_reason'].append(clse_reason)\n",
    "        #output_data['Iterations'].append(iters)  "
   ]
  },
  {
   "cell_type": "code",
   "execution_count": 29,
   "metadata": {},
   "outputs": [
    {
     "data": {
      "text/plain": [
       "{'date': ['2020-06-22'],\n",
       " 'time': ['15:13:14'],\n",
       " 'instrument': ['EUR_USD'],\n",
       " 'direction': [],\n",
       " 'ordr_type': [],\n",
       " 'units': [],\n",
       " 'profit_pips': ['-0.0001'],\n",
       " 'close_reason': ['STOP_LOSS_ORDER'],\n",
       " 'Iterations': [],\n",
       " 'orderID': ['2257']}"
      ]
     },
     "execution_count": 29,
     "metadata": {},
     "output_type": "execute_result"
    }
   ],
   "source": [
    "output_data"
   ]
  },
  {
   "cell_type": "code",
   "execution_count": 10,
   "metadata": {
    "scrolled": false
   },
   "outputs": [
    {
     "name": "stdout",
     "output_type": "stream",
     "text": [
      "{\n",
      "  \"transaction\": {\n",
      "    \"type\": \"ORDER_CANCEL\",\n",
      "    \"orderID\": \"2621\",\n",
      "    \"reason\": \"LINKED_TRADE_CLOSED\",\n",
      "    \"closedTradeID\": \"2620\",\n",
      "    \"tradeCloseTransactionID\": \"2623\",\n",
      "    \"id\": \"2624\",\n",
      "    \"accountID\": \"101-003-15069707-001\",\n",
      "    \"userID\": 15069707,\n",
      "    \"batchID\": \"2622\",\n",
      "    \"requestID\": \"78741267646182409\",\n",
      "    \"time\": \"2020-06-30T10:12:44.454574267Z\"\n",
      "  },\n",
      "  \"lastTransactionID\": \"2624\"\n",
      "}\n"
     ]
    }
   ],
   "source": [
    "params = {'instruments': instrument}\n",
    "trans_r = trans.TransactionDetails(accountID=accountID, transactionID=2624)\n",
    "trans_rv = api.request(trans_r)\n",
    "print(json.dumps(trans_rv, indent = 2))\n",
    "#trans_rv['transaction']['reason']"
   ]
  },
  {
   "cell_type": "code",
   "execution_count": 9,
   "metadata": {
    "scrolled": true
   },
   "outputs": [
    {
     "name": "stdout",
     "output_type": "stream",
     "text": [
      "{\n",
      "  \"transaction\": {\n",
      "    \"type\": \"ORDER_FILL\",\n",
      "    \"orderID\": \"2257\",\n",
      "    \"instrument\": \"EUR_USD\",\n",
      "    \"units\": \"-1\",\n",
      "    \"requestedUnits\": \"-1\",\n",
      "    \"price\": \"1.12522\",\n",
      "    \"pl\": \"-0.0001\",\n",
      "    \"financing\": \"0.0000\",\n",
      "    \"commission\": \"0.0000\",\n",
      "    \"accountBalance\": \"99999.9365\",\n",
      "    \"gainQuoteHomeConversionFactor\": \"1.38602505\",\n",
      "    \"lossQuoteHomeConversionFactor\": \"1.39995495\",\n",
      "    \"guaranteedExecutionFee\": \"0.0000\",\n",
      "    \"halfSpreadCost\": \"0.0000\",\n",
      "    \"fullVWAP\": \"1.12522\",\n",
      "    \"reason\": \"STOP_LOSS_ORDER\",\n",
      "    \"tradesClosed\": [\n",
      "      {\n",
      "        \"tradeID\": \"2256\",\n",
      "        \"units\": \"-1\",\n",
      "        \"realizedPL\": \"-0.0001\",\n",
      "        \"financing\": \"0.0000\",\n",
      "        \"price\": \"1.12522\",\n",
      "        \"guaranteedExecutionFee\": \"0.0000\",\n",
      "        \"halfSpreadCost\": \"0.0000\"\n",
      "      }\n",
      "    ],\n",
      "    \"fullPrice\": {\n",
      "      \"closeoutBid\": \"1.12518\",\n",
      "      \"closeoutAsk\": \"1.12532\",\n",
      "      \"timestamp\": \"2020-06-22T15:13:14.643458104Z\",\n",
      "      \"bids\": [\n",
      "        {\n",
      "          \"price\": \"1.12522\",\n",
      "          \"liquidity\": \"1000000\"\n",
      "        },\n",
      "        {\n",
      "          \"price\": \"1.12521\",\n",
      "          \"liquidity\": \"2000000\"\n",
      "        },\n",
      "        {\n",
      "          \"price\": \"1.12520\",\n",
      "          \"liquidity\": \"2000000\"\n",
      "        },\n",
      "        {\n",
      "          \"price\": \"1.12518\",\n",
      "          \"liquidity\": \"5000000\"\n",
      "        }\n",
      "      ],\n",
      "      \"asks\": [\n",
      "        {\n",
      "          \"price\": \"1.12528\",\n",
      "          \"liquidity\": \"1000000\"\n",
      "        },\n",
      "        {\n",
      "          \"price\": \"1.12530\",\n",
      "          \"liquidity\": \"2000000\"\n",
      "        },\n",
      "        {\n",
      "          \"price\": \"1.12531\",\n",
      "          \"liquidity\": \"2000000\"\n",
      "        },\n",
      "        {\n",
      "          \"price\": \"1.12532\",\n",
      "          \"liquidity\": \"5000000\"\n",
      "        }\n",
      "      ]\n",
      "    },\n",
      "    \"id\": \"2258\",\n",
      "    \"accountID\": \"101-003-15069707-001\",\n",
      "    \"userID\": 15069707,\n",
      "    \"batchID\": \"2258\",\n",
      "    \"time\": \"2020-06-22T15:13:14.643458104Z\"\n",
      "  },\n",
      "  \"lastTransactionID\": \"2624\"\n",
      "}\n"
     ]
    }
   ],
   "source": [
    "params = {'instruments': instrument}\n",
    "trans_r = trans.TransactionDetails(accountID=accountID, transactionID=2258)\n",
    "trans_rv = api.request(trans_r)\n",
    "print(json.dumps(trans_rv, indent = 2))\n",
    "#trans_rv['transaction']['reason']"
   ]
  }
 ],
 "metadata": {
  "kernelspec": {
   "display_name": "Python 3",
   "language": "python",
   "name": "python3"
  },
  "language_info": {
   "codemirror_mode": {
    "name": "ipython",
    "version": 3
   },
   "file_extension": ".py",
   "mimetype": "text/x-python",
   "name": "python",
   "nbconvert_exporter": "python",
   "pygments_lexer": "ipython3",
   "version": "3.6.6"
  }
 },
 "nbformat": 4,
 "nbformat_minor": 4
}
