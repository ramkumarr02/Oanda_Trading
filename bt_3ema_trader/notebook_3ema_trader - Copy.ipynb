{
 "cells": [
  {
   "cell_type": "markdown",
   "metadata": {},
   "source": [
    "# ML Trader"
   ]
  },
  {
   "cell_type": "code",
   "execution_count": 1,
   "metadata": {
    "scrolled": true
   },
   "outputs": [],
   "source": [
    "from utils.packages import *\n",
    "from utils.variables import *\n",
    "from utils.i_o import *\n",
    "from utils.dir_slope import *\n",
    "from utils.engine import *\n",
    "from utils.loops import *\n",
    "from utils.order import *\n",
    "import winsound"
   ]
  },
  {
   "cell_type": "code",
   "execution_count": 2,
   "metadata": {},
   "outputs": [],
   "source": [
    "data['pl_positive_flag'] = True"
   ]
  },
  {
   "cell_type": "code",
   "execution_count": 3,
   "metadata": {
    "scrolled": false
   },
   "outputs": [
    {
     "name": "stderr",
     "output_type": "stream",
     "text": [
      "\r",
      " 91%|█████████████████████████████▏  | 601648/659486 [1:36:44<11:16, 85.53it/s]"
     ]
    },
    {
     "name": "stdout",
     "output_type": "stream",
     "text": [
      "pls    0.01653\n",
      "dtype: float64\n",
      "--------------------------------------\n",
      "                  date ord_types        close_type      pls\n",
      "0  2021-05-03 22:39:40      long  slema_move_close  0.00069\n",
      "1  2021-05-04 02:00:42      long      reverse_stop -0.00104\n",
      "2  2021-05-04 08:44:36     short  slema_move_close  0.00268\n",
      "3  2021-05-04 14:00:45     short  slema_move_close  0.00001\n",
      "4  2021-05-04 16:32:12      long     pl_move_close  0.00100\n",
      "5  2021-05-05 00:22:27     short  slema_move_close  0.00050\n",
      "6  2021-05-05 09:00:04     short  slema_move_close  0.00229\n",
      "7  2021-05-05 10:36:02     short      reverse_stop -0.00100\n",
      "8  2021-05-05 11:56:32      long       simple_stop -0.00100\n",
      "9  2021-05-05 13:59:51      long  slema_move_close  0.00001\n",
      "10 2021-05-05 18:58:10     short  slema_move_close  0.00032\n",
      "11 2021-05-06 06:36:58     short      reverse_stop -0.00101\n",
      "12 2021-05-06 11:01:18      long  slema_move_close  0.00277\n",
      "13 2021-05-07 02:36:12      long  slema_move_close  0.00081\n",
      "14 2021-05-07 09:58:08      long  slema_move_close  0.00212\n",
      "15 2021-05-07 12:07:49      long      reverse_stop -0.00101\n",
      "16 2021-05-07 12:30:01     short       simple_stop -0.00118\n",
      "17 2021-05-07 12:30:52     short      reverse_stop -0.00104\n",
      "18 2021-05-07 12:33:23      long     pl_move_close  0.00100\n",
      "19 2021-05-07 15:05:57      long  slema_move_close  0.00312\n",
      "20 2021-05-10 06:14:50      long  slema_move_close  0.00001\n",
      "21 2021-05-10 08:25:48     short     pl_move_close  0.00100\n",
      "22 2021-05-10 12:18:41     short  slema_move_close  0.00002\n",
      "23 2021-05-10 14:59:44      long  slema_move_close  0.00003\n",
      "24 2021-05-11 01:47:30     short  slema_move_close  0.00332\n",
      "25 2021-05-11 07:23:02     short     pl_move_close  0.00099\n",
      "26 2021-05-11 08:36:53     short      reverse_stop -0.00100\n",
      "27 2021-05-11 10:41:53      long  slema_move_close  0.00047\n",
      "28 2021-05-11 14:44:12      long     pl_move_close  0.00099\n",
      "29 2021-05-11 16:52:22      long  slema_move_close  0.00030\n",
      "30 2021-05-11 18:05:34      long      reverse_stop -0.00101\n",
      "31 2021-05-12 06:03:41     short  slema_move_close  0.00286\n",
      "32 2021-05-12 10:10:27     short  slema_move_close  0.00042\n",
      "33 2021-05-12 12:40:54     short  slema_move_close  0.00209\n",
      "34 2021-05-12 12:53:23     short      reverse_stop -0.00101\n",
      "35 2021-05-12 13:09:35      long     pl_move_close  0.00100\n",
      "36 2021-05-12 13:27:05      long      reverse_stop -0.00100\n",
      "37 2021-05-12 13:48:56     short  slema_move_close  0.00001\n",
      "38 2021-05-13 00:33:28     short  slema_move_close  0.00022\n",
      "39 2021-05-13 01:43:15     short      reverse_stop -0.00101\n",
      "40 2021-05-13 03:30:30      long       simple_stop -0.00101\n",
      "41 2021-05-13 07:49:59      long  slema_move_close  0.00181\n",
      "42 2021-05-13 08:43:52      long      reverse_stop -0.00101\n",
      "43 2021-05-13 08:59:24     short     pl_move_close  0.00100\n",
      "44 2021-05-13 12:31:18     short      reverse_stop -0.00100\n",
      "45 2021-05-13 12:34:45      long       simple_stop -0.00100\n",
      "46 2021-05-13 15:44:20      long      reverse_stop -0.00100\n",
      "47 2021-05-13 16:10:27     short       simple_stop -0.00100\n",
      "48 2021-05-13 18:44:31     short     pl_move_close  0.00099\n",
      "49 2021-05-14 02:34:42     short  slema_move_close  0.00001\n"
     ]
    },
    {
     "name": "stderr",
     "output_type": "stream",
     "text": [
      "100%|███████████████████████████████| 659486/659486 [1:46:33<00:00, 103.15it/s]\n"
     ]
    },
    {
     "name": "stdout",
     "output_type": "stream",
     "text": [
      "-----------------------------------------------------\n",
      "==============================\n",
      "date_val          : ['20210501', '20210502', '20210503', '20210504', '20210505', '20210506', '20210507', '20210508', '20210509', '20210510', '20210511', '20210512', '20210513', '20210514', '20210515', '20210516']\n",
      "Total PL : 0.016529999999999996\n",
      "-------------\n",
      "net_pl            : 0.01653/0.05319\n",
      "-------------\n",
      "+ve               : num= 32    sum= +0.03486    avg= +0.00109\n",
      "-ve               : num= 18    sum= -0.01833    avg= -0.00102\n",
      "==============================\n",
      "-----------------------------------------------------\n",
      "date_val\n",
      "3     0.00069\n",
      "4     0.00265\n",
      "5     0.00112\n",
      "6     0.00176\n",
      "7     0.00382\n",
      "10    0.00106\n",
      "11    0.00406\n",
      "12    0.00437\n",
      "13   -0.00301\n",
      "14    0.00001\n",
      "Name: pls, dtype: float64\n",
      "-----------------------------------------------------\n",
      "-0.00100    8\n",
      "-0.00101    7\n",
      " 0.00001    5\n",
      " 0.00100    5\n",
      " 0.00099    3\n",
      "-0.00104    2\n",
      " 0.00181    1\n",
      "-0.00118    1\n",
      " 0.00277    1\n",
      " 0.00002    1\n",
      " 0.00042    1\n",
      " 0.00286    1\n",
      " 0.00081    1\n",
      " 0.00212    1\n",
      " 0.00332    1\n",
      " 0.00032    1\n",
      " 0.00003    1\n",
      " 0.00229    1\n",
      " 0.00050    1\n",
      " 0.00209    1\n",
      " 0.00069    1\n",
      " 0.00268    1\n",
      " 0.00030    1\n",
      " 0.00047    1\n",
      " 0.00022    1\n",
      " 0.00312    1\n",
      "Name: pls, dtype: int64\n",
      "-----------------------------------------------------\n",
      "Wall time: 1h 46min 42s\n"
     ]
    }
   ],
   "source": [
    "%%time\n",
    "data = get_date_list(data)\n",
    "data = read_data(data)\n",
    "data = run_engine(data)\n",
    "\n",
    "if data[\"plot\"]:\n",
    "    plot_graph(data)\n",
    "    \n",
    "print('-----------------------------------------------------')\n",
    "print_report(data)\n",
    "print('-----------------------------------------------------')\n",
    "print(data['report_df'].groupby(['date_val'])['pls'].sum())\n",
    "print('-----------------------------------------------------')\n",
    "print(data['report_df']['pls'].value_counts())\n",
    "print('-----------------------------------------------------')\n",
    "data['report_df']\n",
    "\n",
    "winsound.PlaySound('C:\\\\Windows\\\\Media\\\\tada.wav', winsound.SND_ASYNC)"
   ]
  }
 ],
 "metadata": {
  "kernelspec": {
   "display_name": "Python 3",
   "language": "python",
   "name": "python3"
  },
  "language_info": {
   "codemirror_mode": {
    "name": "ipython",
    "version": 3
   },
   "file_extension": ".py",
   "mimetype": "text/x-python",
   "name": "python",
   "nbconvert_exporter": "python",
   "pygments_lexer": "ipython3",
   "version": "3.6.6"
  }
 },
 "nbformat": 4,
 "nbformat_minor": 4
}
