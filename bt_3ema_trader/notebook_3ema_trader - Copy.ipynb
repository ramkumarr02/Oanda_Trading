{
 "cells": [
  {
   "cell_type": "markdown",
   "metadata": {},
   "source": [
    "# ML Trader"
   ]
  },
  {
   "cell_type": "code",
   "execution_count": 1,
   "metadata": {
    "scrolled": true
   },
   "outputs": [],
   "source": [
    "from utils.packages import *\n",
    "from utils.variables import *\n",
    "from utils.i_o import *\n",
    "from utils.dir_slope import *\n",
    "from utils.engine import *\n",
    "from utils.loops import *\n",
    "from utils.order import *\n",
    "import winsound"
   ]
  },
  {
   "cell_type": "code",
   "execution_count": 2,
   "metadata": {},
   "outputs": [],
   "source": [
    "data[\"plot\"] = False\n",
    "\n",
    "data['pl_move_trail_trigger']   = 0.0020\n",
    "data['stop_loss_pip']           = 0.0010\n",
    "\n",
    "data['start_date'] = {'year':2021, 'month':5, 'date':1}\n",
    "data['end_date']   = {'year':2021, 'month':5, 'date':31}"
   ]
  },
  {
   "cell_type": "code",
   "execution_count": 3,
   "metadata": {
    "scrolled": false
   },
   "outputs": [
    {
     "name": "stderr",
     "output_type": "stream",
     "text": [
      "100%|█████████████████████████████▉| 1321666/1324436 [4:00:32<00:31, 88.65it/s]"
     ]
    },
    {
     "name": "stdout",
     "output_type": "stream",
     "text": [
      "pls    0.01221\n",
      "dtype: float64\n",
      "--------------------------------------\n",
      "                   date ord_types        close_type      pls\n",
      "0   2021-05-03 22:39:40      long  slema_move_close  0.00069\n",
      "1   2021-05-04 02:00:42      long      reverse_stop -0.00104\n",
      "2   2021-05-04 08:44:36     short  slema_move_close  0.00268\n",
      "3   2021-05-04 14:00:45     short  slema_move_close  0.00001\n",
      "4   2021-05-04 16:32:12      long     pl_move_close  0.00100\n",
      "..                  ...       ...               ...      ...\n",
      "99  2021-05-28 18:33:28      long  slema_move_close  0.00215\n",
      "100 2021-05-31 08:47:57      long  slema_move_close  0.00077\n",
      "101 2021-05-31 11:52:10     short  slema_move_close  0.00063\n",
      "102 2021-05-31 14:44:32     short      reverse_stop -0.00100\n",
      "103 2021-05-31 20:00:22      long  slema_move_close  0.00170\n",
      "\n",
      "[104 rows x 4 columns]\n"
     ]
    },
    {
     "name": "stderr",
     "output_type": "stream",
     "text": [
      "100%|██████████████████████████████| 1324436/1324436 [4:01:01<00:00, 91.59it/s]"
     ]
    },
    {
     "name": "stdout",
     "output_type": "stream",
     "text": [
      "Wall time: 4h 1min 10s\n"
     ]
    },
    {
     "name": "stderr",
     "output_type": "stream",
     "text": [
      "\n"
     ]
    }
   ],
   "source": [
    "%%time\n",
    "data = get_date_list(data)\n",
    "data = read_data(data)\n",
    "data = run_engine(data)"
   ]
  },
  {
   "cell_type": "code",
   "execution_count": 4,
   "metadata": {
    "scrolled": false
   },
   "outputs": [
    {
     "name": "stdout",
     "output_type": "stream",
     "text": [
      "-----------------------------------------------------\n",
      "==============================\n",
      "date_val          : ['20210501', '20210502', '20210503', '20210504', '20210505', '20210506', '20210507', '20210508', '20210509', '20210510', '20210511', '20210512', '20210513', '20210514', '20210515', '20210516', '20210517', '20210518', '20210519', '20210520', '20210521', '20210522', '20210523', '20210524', '20210525', '20210526', '20210527', '20210528', '20210529', '20210530', '20210531']\n",
      "Total PL : 0.012209999999999992\n",
      "-------------\n",
      "net_pl            : 0.01221/0.10541\n",
      "-------------\n",
      "+ve               : num= 58    sum= +0.05881    avg= +0.00101\n",
      "-ve               : num= 46    sum= -0.0466    avg= -0.00101\n",
      "==============================\n",
      "-----------------------------------------------------\n",
      "date_val\n",
      "3     0.00069\n",
      "4     0.00265\n",
      "5     0.00112\n",
      "6     0.00176\n",
      "7     0.00382\n",
      "10    0.00106\n",
      "11    0.00406\n",
      "12    0.00437\n",
      "13   -0.00301\n",
      "14    0.00001\n",
      "17   -0.00002\n",
      "18   -0.00303\n",
      "19   -0.00106\n",
      "20    0.00070\n",
      "21   -0.00404\n",
      "24    0.00126\n",
      "25    0.00149\n",
      "26    0.00039\n",
      "27   -0.00212\n",
      "28    0.00001\n",
      "31    0.00210\n",
      "Name: pls, dtype: float64\n",
      "-----------------------------------------------------\n",
      "-0.00100    23\n",
      "-0.00101    14\n",
      " 0.00001    10\n",
      " 0.00100     7\n",
      " 0.00099     4\n",
      "-0.00103     3\n",
      " 0.00063     2\n",
      "-0.00104     2\n",
      " 0.00003     2\n",
      "-0.00102     2\n",
      " 0.00212     1\n",
      "-0.00118     1\n",
      " 0.00148     1\n",
      " 0.00181     1\n",
      " 0.00289     1\n",
      " 0.00050     1\n",
      " 0.00007     1\n",
      " 0.00021     1\n",
      " 0.00209     1\n",
      " 0.00123     1\n",
      " 0.00069     1\n",
      " 0.00047     1\n",
      " 0.00022     1\n",
      " 0.00042     1\n",
      " 0.00441     1\n",
      " 0.00006     1\n",
      " 0.00002     1\n",
      " 0.00187     1\n",
      " 0.00032     1\n",
      " 0.00077     1\n",
      " 0.00030     1\n",
      " 0.00268     1\n",
      " 0.00170     1\n",
      " 0.00098     1\n",
      " 0.00312     1\n",
      " 0.00229     1\n",
      "-0.00107     1\n",
      " 0.00128     1\n",
      " 0.00332     1\n",
      " 0.00040     1\n",
      " 0.00081     1\n",
      " 0.00012     1\n",
      " 0.00215     1\n",
      " 0.00286     1\n",
      " 0.00277     1\n",
      "Name: pls, dtype: int64\n",
      "-----------------------------------------------------\n"
     ]
    }
   ],
   "source": [
    "if data[\"plot\"]:\n",
    "    data = adjust_plot_list_lengths(data)\n",
    "    plot_graph(data)\n",
    "    \n",
    "print('-----------------------------------------------------')\n",
    "print_report(data)\n",
    "print('-----------------------------------------------------')\n",
    "print(data['report_df'].groupby(['date_val'])['pls'].sum())\n",
    "print('-----------------------------------------------------')\n",
    "print(data['report_df']['pls'].value_counts())\n",
    "print('-----------------------------------------------------')\n",
    "data['report_df']\n",
    "\n",
    "winsound.PlaySound('C:\\\\Windows\\\\Media\\\\tada.wav', winsound.SND_ASYNC)"
   ]
  }
 ],
 "metadata": {
  "kernelspec": {
   "display_name": "Python 3",
   "language": "python",
   "name": "python3"
  },
  "language_info": {
   "codemirror_mode": {
    "name": "ipython",
    "version": 3
   },
   "file_extension": ".py",
   "mimetype": "text/x-python",
   "name": "python",
   "nbconvert_exporter": "python",
   "pygments_lexer": "ipython3",
   "version": "3.6.6"
  }
 },
 "nbformat": 4,
 "nbformat_minor": 4
}
