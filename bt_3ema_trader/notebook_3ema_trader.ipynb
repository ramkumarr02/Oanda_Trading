{
 "cells": [
  {
   "cell_type": "markdown",
   "metadata": {},
   "source": [
    "# ML Trader"
   ]
  },
  {
   "cell_type": "code",
   "execution_count": 1,
   "metadata": {
    "scrolled": true
   },
   "outputs": [],
   "source": [
    "from utils.packages import *\n",
    "from utils.variables import *\n",
    "from utils.i_o import *\n",
    "from utils.dir_slope import *\n",
    "from utils.engine import *\n",
    "from utils.loops import *\n",
    "from utils.order import *\n",
    "import winsound"
   ]
  },
  {
   "cell_type": "code",
   "execution_count": 2,
   "metadata": {},
   "outputs": [],
   "source": [
    "data[\"plot\"] = False\n",
    "\n",
    "data['pl_move_trail_trigger']   = 0.0015\n",
    "data['stop_loss_pip']           = 0.00075\n",
    "\n",
    "data['start_date'] = {'year':2021, 'month':5, 'date':1}\n",
    "data['end_date']   = {'year':2021, 'month':5, 'date':31}"
   ]
  },
  {
   "cell_type": "code",
   "execution_count": 3,
   "metadata": {
    "scrolled": false
   },
   "outputs": [
    {
     "name": "stderr",
     "output_type": "stream",
     "text": [
      "100%|█████████████████████████████▉| 1321663/1324436 [3:57:16<00:36, 75.15it/s]"
     ]
    },
    {
     "name": "stdout",
     "output_type": "stream",
     "text": [
      "pls    0.00709\n",
      "dtype: float64\n",
      "--------------------------------------\n",
      "                   date ord_types        close_type      pls\n",
      "0   2021-05-03 22:39:40      long  slema_move_close  0.00069\n",
      "1   2021-05-04 01:27:34      long      reverse_stop -0.00076\n",
      "2   2021-05-04 08:44:36     short  slema_move_close  0.00296\n",
      "3   2021-05-04 12:54:05     short      reverse_stop -0.00078\n",
      "4   2021-05-04 13:21:56      long       simple_stop -0.00076\n",
      "..                  ...       ...               ...      ...\n",
      "119 2021-05-31 07:56:01      long     pl_move_close  0.00075\n",
      "120 2021-05-31 08:47:57      long  slema_move_close  0.00004\n",
      "121 2021-05-31 11:46:32     short     pl_move_close  0.00075\n",
      "122 2021-05-31 14:06:36     short      reverse_stop -0.00080\n",
      "123 2021-05-31 20:00:22      long  slema_move_close  0.00190\n",
      "\n",
      "[124 rows x 4 columns]\n"
     ]
    },
    {
     "name": "stderr",
     "output_type": "stream",
     "text": [
      "100%|██████████████████████████████| 1324436/1324436 [3:57:47<00:00, 92.83it/s]"
     ]
    },
    {
     "name": "stdout",
     "output_type": "stream",
     "text": [
      "Wall time: 3h 57min 55s\n"
     ]
    },
    {
     "name": "stderr",
     "output_type": "stream",
     "text": [
      "\n"
     ]
    }
   ],
   "source": [
    "%%time\n",
    "data = get_date_list(data)\n",
    "data = read_data(data)\n",
    "data = run_engine(data)"
   ]
  },
  {
   "cell_type": "code",
   "execution_count": 4,
   "metadata": {
    "scrolled": false
   },
   "outputs": [
    {
     "name": "stdout",
     "output_type": "stream",
     "text": [
      "-----------------------------------------------------\n",
      "==============================\n",
      "date_val          : ['20210501', '20210502', '20210503', '20210504', '20210505', '20210506', '20210507', '20210508', '20210509', '20210510', '20210511', '20210512', '20210513', '20210514', '20210515', '20210516', '20210517', '20210518', '20210519', '20210520', '20210521', '20210522', '20210523', '20210524', '20210525', '20210526', '20210527', '20210528', '20210529', '20210530', '20210531']\n",
      "Total PL : 0.007090000000000002\n",
      "-------------\n",
      "net_pl            : 0.00709/0.11355\n",
      "-------------\n",
      "+ve               : num= 54    sum= +0.06032    avg= +0.00112\n",
      "-ve               : num= 70    sum= -0.05323    avg= -0.00076\n",
      "==============================\n",
      "-----------------------------------------------------\n",
      "date_val\n",
      "3     0.00069\n",
      "4     0.00137\n",
      "5    -0.00553\n",
      "6     0.00001\n",
      "7     0.00356\n",
      "10   -0.00227\n",
      "11    0.00328\n",
      "12    0.00633\n",
      "13   -0.00139\n",
      "14    0.00001\n",
      "17   -0.00453\n",
      "18   -0.00160\n",
      "19   -0.00052\n",
      "20    0.00163\n",
      "21   -0.00201\n",
      "24    0.00102\n",
      "25   -0.00003\n",
      "26    0.00366\n",
      "27   -0.00096\n",
      "28    0.00173\n",
      "31    0.00264\n",
      "Name: pls, dtype: float64\n",
      "-----------------------------------------------------\n",
      "-0.00075    40\n",
      "-0.00076    17\n",
      " 0.00075    10\n",
      " 0.00001     8\n",
      "-0.00078     5\n",
      " 0.00073     4\n",
      "-0.00077     3\n",
      " 0.00076     3\n",
      "-0.00080     2\n",
      "-0.00079     2\n",
      " 0.00332     1\n",
      " 0.00040     1\n",
      " 0.00437     1\n",
      " 0.00042     1\n",
      " 0.00238     1\n",
      " 0.00004     1\n",
      " 0.00021     1\n",
      " 0.00312     1\n",
      "-0.00092     1\n",
      " 0.00212     1\n",
      " 0.00112     1\n",
      " 0.00296     1\n",
      " 0.00071     1\n",
      " 0.00123     1\n",
      " 0.00209     1\n",
      " 0.00006     1\n",
      " 0.00177     1\n",
      " 0.00314     1\n",
      " 0.00069     1\n",
      " 0.00128     1\n",
      " 0.00022     1\n",
      " 0.00181     1\n",
      " 0.00103     1\n",
      " 0.00148     1\n",
      " 0.00002     1\n",
      " 0.00020     1\n",
      " 0.00454     1\n",
      " 0.00190     1\n",
      " 0.00050     1\n",
      " 0.00441     1\n",
      "Name: pls, dtype: int64\n",
      "-----------------------------------------------------\n"
     ]
    }
   ],
   "source": [
    "if data[\"plot\"]:\n",
    "    data = adjust_plot_list_lengths(data)\n",
    "    plot_graph(data)\n",
    "    \n",
    "print('-----------------------------------------------------')\n",
    "print_report(data)\n",
    "print('-----------------------------------------------------')\n",
    "print(data['report_df'].groupby(['date_val'])['pls'].sum())\n",
    "print('-----------------------------------------------------')\n",
    "print(data['report_df']['pls'].value_counts())\n",
    "print('-----------------------------------------------------')\n",
    "data['report_df']\n",
    "\n",
    "winsound.PlaySound('C:\\\\Windows\\\\Media\\\\tada.wav', winsound.SND_ASYNC)"
   ]
  }
 ],
 "metadata": {
  "kernelspec": {
   "display_name": "Python 3",
   "language": "python",
   "name": "python3"
  },
  "language_info": {
   "codemirror_mode": {
    "name": "ipython",
    "version": 3
   },
   "file_extension": ".py",
   "mimetype": "text/x-python",
   "name": "python",
   "nbconvert_exporter": "python",
   "pygments_lexer": "ipython3",
   "version": "3.6.6"
  }
 },
 "nbformat": 4,
 "nbformat_minor": 4
}
