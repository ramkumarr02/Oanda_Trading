{
 "cells": [
  {
   "cell_type": "markdown",
   "metadata": {},
   "source": [
    "# ML Trader"
   ]
  },
  {
   "cell_type": "code",
   "execution_count": 1,
   "metadata": {
    "scrolled": true
   },
   "outputs": [],
   "source": [
    "from utils.packages import *\n",
    "from utils.variables import *\n",
    "from utils.i_o import *\n",
    "from utils.dir_slope import *\n",
    "from utils.engine import *\n",
    "from utils.loops import *\n",
    "from utils.order import *\n",
    "import winsound"
   ]
  },
  {
   "cell_type": "code",
   "execution_count": 2,
   "metadata": {},
   "outputs": [],
   "source": [
    "data['pl_positive_flag'] = True\n",
    "data[\"plot\"] = False\n",
    "\n",
    "data['start_date'] = {'year':2021, 'month':5, 'date':1}\n",
    "data['end_date']   = {'year':2021, 'month':5, 'date':31}"
   ]
  },
  {
   "cell_type": "code",
   "execution_count": 3,
   "metadata": {
    "scrolled": false
   },
   "outputs": [
    {
     "name": "stderr",
     "output_type": "stream",
     "text": [
      "\r",
      " 99%|████████▉| 1315367/1324436 [3:30:02<01:54, 79.16it/s]"
     ]
    },
    {
     "name": "stdout",
     "output_type": "stream",
     "text": [
      "pls    0.00957\n",
      "dtype: float64\n",
      "--------------------------------------\n",
      "                  date ord_types        close_type      pls\n",
      "0  2021-05-03 22:55:14      long  slema_move_close  0.00063\n",
      "1  2021-05-04 03:16:33      long      reverse_stop -0.00151\n",
      "2  2021-05-04 10:40:25     short  slema_move_close  0.00299\n",
      "3  2021-05-04 14:00:45     short  slema_move_close  0.00001\n",
      "4  2021-05-04 15:56:12      long  slema_move_close  0.00094\n",
      "..                 ...       ...               ...      ...\n",
      "85 2021-05-28 19:10:02      long  slema_move_close  0.00150\n",
      "86 2021-05-31 07:56:01      long     pl_move_close  0.00075\n",
      "87 2021-05-31 09:25:07      long  slema_move_close  0.00011\n",
      "88 2021-05-31 14:53:34     short      reverse_stop -0.00153\n",
      "89 2021-05-31 15:02:41      long     pl_move_close  0.00076\n",
      "\n",
      "[90 rows x 4 columns]\n"
     ]
    },
    {
     "name": "stderr",
     "output_type": "stream",
     "text": [
      "100%|████████| 1324436/1324436 [3:31:35<00:00, 104.32it/s]"
     ]
    },
    {
     "name": "stdout",
     "output_type": "stream",
     "text": [
      "Wall time: 3h 31min 43s\n"
     ]
    },
    {
     "name": "stderr",
     "output_type": "stream",
     "text": [
      "\n"
     ]
    }
   ],
   "source": [
    "%%time\n",
    "data = get_date_list(data)\n",
    "data = read_data(data)\n",
    "data = run_engine(data)"
   ]
  },
  {
   "cell_type": "code",
   "execution_count": 4,
   "metadata": {
    "scrolled": false
   },
   "outputs": [
    {
     "name": "stdout",
     "output_type": "stream",
     "text": [
      "-----------------------------------------------------\n",
      "==============================\n",
      "date_val          : ['20210501', '20210502', '20210503', '20210504', '20210505', '20210506', '20210507', '20210508', '20210509', '20210510', '20210511', '20210512', '20210513', '20210514', '20210515', '20210516', '20210517', '20210518', '20210519', '20210520', '20210521', '20210522', '20210523', '20210524', '20210525', '20210526', '20210527', '20210528', '20210529', '20210530', '20210531']\n",
      "Total PL : 0.009569999999999992\n",
      "-------------\n",
      "net_pl            : 0.00957/0.11211\n",
      "-------------\n",
      "+ve               : num= 56    sum= +0.06084    avg= +0.00109\n",
      "-ve               : num= 34    sum= -0.05127    avg= -0.00151\n",
      "==============================\n",
      "-----------------------------------------------------\n",
      "date_val\n",
      "3     0.00063\n",
      "4     0.00243\n",
      "5     0.00394\n",
      "6     0.00070\n",
      "7     0.01288\n",
      "10   -0.00297\n",
      "11    0.00225\n",
      "12   -0.00012\n",
      "13   -0.00450\n",
      "14    0.00001\n",
      "17    0.00176\n",
      "18    0.00013\n",
      "19   -0.00424\n",
      "20   -0.00300\n",
      "21   -0.00079\n",
      "23    0.00035\n",
      "24    0.00097\n",
      "25    0.00145\n",
      "26   -0.00032\n",
      "27   -0.00441\n",
      "28    0.00233\n",
      "31    0.00009\n",
      "Name: pls, dtype: float64\n",
      "-----------------------------------------------------\n",
      "-0.00150    22\n",
      " 0.00001    12\n",
      " 0.00075    10\n",
      "-0.00151     7\n",
      " 0.00022     3\n",
      " 0.00073     3\n",
      "-0.00153     2\n",
      "-0.00152     2\n",
      " 0.00159     1\n",
      " 0.00063     1\n",
      " 0.00028     1\n",
      " 0.00011     1\n",
      " 0.00014     1\n",
      " 0.00473     1\n",
      " 0.00150     1\n",
      " 0.00153     1\n",
      " 0.00195     1\n",
      " 0.00336     1\n",
      " 0.00299     1\n",
      " 0.00419     1\n",
      " 0.00362     1\n",
      " 0.00247     1\n",
      " 0.00002     1\n",
      " 0.00035     1\n",
      " 0.00045     1\n",
      " 0.00076     1\n",
      " 0.00384     1\n",
      " 0.00222     1\n",
      " 0.00025     1\n",
      " 0.00241     1\n",
      "-0.00160     1\n",
      " 0.00003     1\n",
      " 0.00027     1\n",
      " 0.00144     1\n",
      " 0.00610     1\n",
      " 0.00220     1\n",
      " 0.00094     1\n",
      "Name: pls, dtype: int64\n",
      "-----------------------------------------------------\n"
     ]
    }
   ],
   "source": [
    "if data[\"plot\"]:\n",
    "    data = adjust_plot_list_lengths(data)\n",
    "    plot_graph(data)\n",
    "    \n",
    "print('-----------------------------------------------------')\n",
    "print_report(data)\n",
    "print('-----------------------------------------------------')\n",
    "print(data['report_df'].groupby(['date_val'])['pls'].sum())\n",
    "print('-----------------------------------------------------')\n",
    "print(data['report_df']['pls'].value_counts())\n",
    "print('-----------------------------------------------------')\n",
    "data['report_df']\n",
    "\n",
    "winsound.PlaySound('C:\\\\Windows\\\\Media\\\\tada.wav', winsound.SND_ASYNC)"
   ]
  }
 ],
 "metadata": {
  "kernelspec": {
   "display_name": "Python 3",
   "language": "python",
   "name": "python3"
  },
  "language_info": {
   "codemirror_mode": {
    "name": "ipython",
    "version": 3
   },
   "file_extension": ".py",
   "mimetype": "text/x-python",
   "name": "python",
   "nbconvert_exporter": "python",
   "pygments_lexer": "ipython3",
   "version": "3.6.6"
  }
 },
 "nbformat": 4,
 "nbformat_minor": 4
}
