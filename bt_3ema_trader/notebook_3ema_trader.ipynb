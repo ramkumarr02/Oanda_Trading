{
 "cells": [
  {
   "cell_type": "markdown",
   "metadata": {},
   "source": [
    "# ML Trader"
   ]
  },
  {
   "cell_type": "code",
   "execution_count": 1,
   "metadata": {
    "scrolled": true
   },
   "outputs": [],
   "source": [
    "from utils.packages import *\n",
    "from utils.variables import *\n",
    "from utils.i_o import *\n",
    "from utils.dir_slope import *\n",
    "from utils.engine import *\n",
    "from utils.loops import *\n",
    "from utils.order import *\n",
    "import winsound"
   ]
  },
  {
   "cell_type": "code",
   "execution_count": 2,
   "metadata": {},
   "outputs": [],
   "source": [
    "data['start_date'] = {'year':2021, 'month':5, 'date':15}\n",
    "data['end_date']   = {'year':2021, 'month':5, 'date':30}"
   ]
  },
  {
   "cell_type": "code",
   "execution_count": 3,
   "metadata": {
    "scrolled": false
   },
   "outputs": [
    {
     "name": "stderr",
     "output_type": "stream",
     "text": [
      "\r",
      " 99%|███████████████████████████████▋| 625087/630068 [1:40:50<00:51, 95.89it/s]"
     ]
    },
    {
     "name": "stdout",
     "output_type": "stream",
     "text": [
      "pls   -0.00908\n",
      "dtype: float64\n",
      "--------------------------------------\n",
      "                  date ord_types        close_type      pls\n",
      "0  2021-05-17 14:17:27      long  slema_move_close  0.00001\n",
      "1  2021-05-17 18:03:03     short      reverse_stop -0.00101\n",
      "2  2021-05-17 21:05:03      long       simple_stop -0.00101\n",
      "3  2021-05-18 15:34:31      long      reverse_stop -0.00103\n",
      "4  2021-05-18 16:28:00     short       simple_stop -0.00100\n",
      "5  2021-05-18 18:12:30     short      reverse_stop -0.00100\n",
      "6  2021-05-19 00:23:24      long  slema_move_close  0.00003\n",
      "7  2021-05-19 08:29:55      long      reverse_stop -0.00100\n",
      "8  2021-05-19 12:03:45     short  slema_move_close  0.00063\n",
      "9  2021-05-19 13:39:00     short      reverse_stop -0.00107\n",
      "10 2021-05-19 14:27:41      long  slema_move_close  0.00001\n",
      "11 2021-05-19 18:03:01      long      reverse_stop -0.00101\n",
      "12 2021-05-19 18:25:14     short  slema_move_close  0.00152\n",
      "13 2021-05-20 02:33:03     short  slema_move_close  0.00040\n",
      "14 2021-05-20 06:27:38     short      reverse_stop -0.00100\n",
      "15 2021-05-20 08:44:30      long  slema_move_close  0.00007\n",
      "16 2021-05-20 13:10:05      long  slema_move_close  0.00123\n",
      "17 2021-05-21 07:32:31      long      reverse_stop -0.00100\n",
      "18 2021-05-21 09:11:07     short       simple_stop -0.00101\n",
      "19 2021-05-21 10:18:21     short      reverse_stop -0.00100\n",
      "20 2021-05-21 10:47:11      long       simple_stop -0.00101\n",
      "21 2021-05-21 11:54:31      long      reverse_stop -0.00102\n",
      "22 2021-05-21 12:50:06     short  slema_move_close  0.00076\n",
      "23 2021-05-24 00:12:35     short  slema_move_close  0.00006\n",
      "24 2021-05-24 01:57:17     short  slema_move_close  0.00021\n",
      "25 2021-05-24 08:37:34      long  slema_move_close  0.00039\n",
      "26 2021-05-25 05:59:53      long  slema_move_close  0.00148\n",
      "27 2021-05-25 15:01:07      long  slema_move_close  0.00001\n",
      "28 2021-05-26 03:15:28     short      reverse_stop -0.00100\n",
      "29 2021-05-26 06:08:23      long       simple_stop -0.00102\n",
      "30 2021-05-26 07:12:43      long      reverse_stop -0.00100\n",
      "31 2021-05-26 07:52:53     short       simple_stop -0.00100\n",
      "32 2021-05-26 19:42:07     short  slema_move_close  0.00441\n",
      "33 2021-05-27 07:09:31     short  slema_move_close  0.00001\n",
      "34 2021-05-27 11:49:23      long  slema_move_close  0.00128\n",
      "35 2021-05-27 12:57:56      long      reverse_stop -0.00103\n",
      "36 2021-05-27 13:55:20     short       simple_stop -0.00101\n",
      "37 2021-05-27 14:22:38     short      reverse_stop -0.00100\n",
      "38 2021-05-27 14:39:15      long       simple_stop -0.00100\n",
      "39 2021-05-27 21:05:00      long  slema_move_close  0.00063\n",
      "40 2021-05-28 00:35:04      long      reverse_stop -0.00100\n",
      "41 2021-05-28 04:51:08     short  slema_move_close  0.00001\n",
      "42 2021-05-28 08:07:49     short      reverse_stop -0.00103\n",
      "43 2021-05-28 09:35:11      long       simple_stop -0.00100\n",
      "44 2021-05-28 10:46:37      long      reverse_stop -0.00100\n",
      "45 2021-05-28 13:31:32     short  slema_move_close  0.00289\n",
      "46 2021-05-28 14:34:16     short      reverse_stop -0.00101\n",
      "47 2021-05-28 18:33:28      long  slema_move_close  0.00215\n"
     ]
    },
    {
     "name": "stderr",
     "output_type": "stream",
     "text": [
      "100%|███████████████████████████████| 630068/630068 [1:41:37<00:00, 103.33it/s]"
     ]
    },
    {
     "name": "stdout",
     "output_type": "stream",
     "text": [
      "-----------------------------------------------------\n",
      "==============================\n",
      "date_val          : ['20210515', '20210516', '20210517', '20210518', '20210519', '20210520', '20210521', '20210522', '20210523', '20210524', '20210525', '20210526', '20210527', '20210528', '20210529', '20210530']\n",
      "Total PL : -0.009080000000000008\n",
      "-------------\n",
      "net_pl            : -0.00908/0.04546\n",
      "-------------\n",
      "+ve               : num= 21    sum= +0.01819    avg= +0.00087\n",
      "-ve               : num= 27    sum= -0.02727    avg= -0.00101\n",
      "==============================\n",
      "-----------------------------------------------------\n",
      "date_val\n",
      "17   -0.00201\n",
      "18   -0.00303\n",
      "19   -0.00089\n",
      "20    0.00070\n",
      "21   -0.00428\n",
      "24    0.00066\n",
      "25    0.00149\n",
      "26    0.00039\n",
      "27   -0.00212\n",
      "28    0.00001\n",
      "Name: pls, dtype: float64\n",
      "-----------------------------------------------------\n",
      "-0.00100    14\n",
      "-0.00101     7\n",
      " 0.00001     5\n",
      "-0.00103     3\n",
      " 0.00063     2\n",
      "-0.00102     2\n",
      " 0.00441     1\n",
      " 0.00215     1\n",
      " 0.00076     1\n",
      " 0.00128     1\n",
      "-0.00107     1\n",
      " 0.00021     1\n",
      " 0.00289     1\n",
      " 0.00040     1\n",
      " 0.00006     1\n",
      " 0.00007     1\n",
      " 0.00148     1\n",
      " 0.00003     1\n",
      " 0.00123     1\n",
      " 0.00152     1\n",
      " 0.00039     1\n",
      "Name: pls, dtype: int64\n",
      "-----------------------------------------------------\n",
      "Wall time: 1h 41min 46s\n"
     ]
    },
    {
     "name": "stderr",
     "output_type": "stream",
     "text": [
      "\n"
     ]
    }
   ],
   "source": [
    "%%time\n",
    "data = get_date_list(data)\n",
    "data = read_data(data)\n",
    "data = run_engine(data)\n",
    "\n",
    "if data[\"plot\"]:\n",
    "    plot_graph(data)\n",
    "    \n",
    "print('-----------------------------------------------------')\n",
    "print_report(data)\n",
    "print('-----------------------------------------------------')\n",
    "print(data['report_df'].groupby(['date_val'])['pls'].sum())\n",
    "print('-----------------------------------------------------')\n",
    "print(data['report_df']['pls'].value_counts())\n",
    "print('-----------------------------------------------------')\n",
    "data['report_df']\n",
    "\n",
    "winsound.PlaySound('C:\\\\Windows\\\\Media\\\\tada.wav', winsound.SND_ASYNC)"
   ]
  }
 ],
 "metadata": {
  "kernelspec": {
   "display_name": "Python 3",
   "language": "python",
   "name": "python3"
  },
  "language_info": {
   "codemirror_mode": {
    "name": "ipython",
    "version": 3
   },
   "file_extension": ".py",
   "mimetype": "text/x-python",
   "name": "python",
   "nbconvert_exporter": "python",
   "pygments_lexer": "ipython3",
   "version": "3.6.6"
  }
 },
 "nbformat": 4,
 "nbformat_minor": 4
}
