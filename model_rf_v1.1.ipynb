{
 "cells": [
  {
   "cell_type": "markdown",
   "metadata": {},
   "source": [
    "# Modelling"
   ]
  },
  {
   "cell_type": "markdown",
   "metadata": {},
   "source": [
    "## Packages"
   ]
  },
  {
   "cell_type": "code",
   "execution_count": 1,
   "metadata": {
    "scrolled": true
   },
   "outputs": [
    {
     "name": "stdout",
     "output_type": "stream",
     "text": [
      " Found and Using 1 GPU\n"
     ]
    }
   ],
   "source": [
    "import os\n",
    "import numpy as np\n",
    "import pandas as pd\n",
    "from tqdm import tqdm\n",
    "import winsound\n",
    "import datetime as dt\n",
    "\n",
    "import warnings\n",
    "warnings.filterwarnings('ignore')\n",
    "\n",
    "from sklearn.model_selection import train_test_split\n",
    "from sklearn.preprocessing import StandardScaler, MinMaxScaler, LabelEncoder, OneHotEncoder, normalize\n",
    "from sklearn.metrics import classification_report, confusion_matrix, ConfusionMatrixDisplay\n",
    "from sklearn.ensemble import RandomForestClassifier\n",
    "import joblib\n",
    "\n",
    "import xgboost\n",
    "\n",
    "import tensorflow\n",
    "from tensorflow.keras import layers\n",
    "from tensorflow.keras import utils\n",
    "from tensorflow.keras.models import load_model\n",
    "\n",
    "from tensorflow.keras.models import Sequential\n",
    "from tensorflow.keras.layers import Dense, Dropout\n",
    "from tensorflow.keras.optimizers import Adam, SGD\n",
    "from tensorflow.keras.losses import CategoricalCrossentropy, BinaryCrossentropy\n",
    "from tensorflow.keras.metrics import CategoricalAccuracy, BinaryAccuracy\n",
    "#from tensorflow.nn import relu, softmax\n",
    "\n",
    "from imblearn.over_sampling import SMOTE\n",
    "\n",
    "from matplotlib import pyplot as plt\n",
    "\n",
    "print(f\" Found and Using {len(tensorflow.config.experimental.list_physical_devices('GPU'))} GPU\")"
   ]
  },
  {
   "cell_type": "markdown",
   "metadata": {},
   "source": [
    "## Functions"
   ]
  },
  {
   "cell_type": "code",
   "execution_count": 2,
   "metadata": {},
   "outputs": [],
   "source": [
    "def scale_x_encode_y(x, y):\n",
    "\n",
    "    scaler_obj = StandardScaler()\n",
    "    #scaler_obj = MinMaxScaler()\n",
    "    scaler_obj.fit(x.values)\n",
    "    x_scaled = scaler_obj.transform(x.values)\n",
    "    #x_scaled = x.values\n",
    "    \n",
    "    encoder = LabelEncoder()\n",
    "    encoder.fit(y)\n",
    "    y_encoded = encoder.transform(y)\n",
    "    y_encoded = utils.to_categorical(y_encoded)\n",
    "    \n",
    "    y_map = dict(zip(encoder.transform(encoder.classes_),encoder.classes_))\n",
    " \n",
    "    return(x_scaled, y_encoded, y_map, scaler_obj)\n",
    "\n",
    "\n",
    "def smote_data(x, y):\n",
    "    oversample = SMOTE()\n",
    "    smote_x, smote_y = oversample.fit_resample(x, y)\n",
    "\n",
    "    return(smote_x, smote_y)\n",
    "\n",
    "def data_prep(df, apply_smote = False):\n",
    "    x = df.loc[:, df.columns != target_col]\n",
    "    y = df[target_col]\n",
    "\n",
    "    if apply_smote:\n",
    "        x, y = smote_data(x, y)\n",
    "\n",
    "    print(f'Record count : {len(y)}')\n",
    "    print('--------------------------')\n",
    "    print(y.value_counts())\n",
    "    print('--------------------------')\n",
    "    print(y.value_counts(normalize=True))\n",
    "    \n",
    "    x_scaled, y_encoded, y_map, scaler_obj = scale_x_encode_y(x, y)\n",
    "    pd.DataFrame(x_scaled).head()\n",
    "    \n",
    "    return(x_scaled, y_encoded, y_map, scaler_obj)"
   ]
  },
  {
   "cell_type": "markdown",
   "metadata": {},
   "source": [
    "## Read Data"
   ]
  },
  {
   "cell_type": "code",
   "execution_count": 3,
   "metadata": {},
   "outputs": [],
   "source": [
    "remove_cols = ['tick_avg', 'sema', 'ssma', 'lema', 'lsma', 'max_tick', 'min_tick', 'small_sema_slope', 'long_sema_slope']"
   ]
  },
  {
   "cell_type": "code",
   "execution_count": 4,
   "metadata": {},
   "outputs": [],
   "source": [
    "file_name = 'tab_tick'\n",
    "#file_name = 'full_tab_tick'"
   ]
  },
  {
   "cell_type": "code",
   "execution_count": 5,
   "metadata": {},
   "outputs": [
    {
     "data": {
      "text/html": [
       "<div>\n",
       "<style scoped>\n",
       "    .dataframe tbody tr th:only-of-type {\n",
       "        vertical-align: middle;\n",
       "    }\n",
       "\n",
       "    .dataframe tbody tr th {\n",
       "        vertical-align: top;\n",
       "    }\n",
       "\n",
       "    .dataframe thead th {\n",
       "        text-align: right;\n",
       "    }\n",
       "</style>\n",
       "<table border=\"1\" class=\"dataframe\">\n",
       "  <thead>\n",
       "    <tr style=\"text-align: right;\">\n",
       "      <th></th>\n",
       "      <th>spread_avg</th>\n",
       "      <th>spread_cls_diff</th>\n",
       "      <th>tick_opn_diff</th>\n",
       "      <th>tick_high_diff</th>\n",
       "      <th>tick_low_diff</th>\n",
       "      <th>tick_cls_diff</th>\n",
       "      <th>tick_avg_diff</th>\n",
       "      <th>tick_sd</th>\n",
       "      <th>tick_ema_10_diff</th>\n",
       "      <th>tick_ema_25_diff</th>\n",
       "      <th>...</th>\n",
       "      <th>tick_ema_75_diff</th>\n",
       "      <th>tick_ema_diff</th>\n",
       "      <th>ema_gap</th>\n",
       "      <th>gain</th>\n",
       "      <th>loss</th>\n",
       "      <th>avg_gain</th>\n",
       "      <th>avg_loss</th>\n",
       "      <th>rsi</th>\n",
       "      <th>tick_slope</th>\n",
       "      <th>direction</th>\n",
       "    </tr>\n",
       "  </thead>\n",
       "  <tbody>\n",
       "    <tr>\n",
       "      <th>0</th>\n",
       "      <td>0.000405</td>\n",
       "      <td>0.00025</td>\n",
       "      <td>0.000025</td>\n",
       "      <td>0.000130</td>\n",
       "      <td>-0.000020</td>\n",
       "      <td>0.000055</td>\n",
       "      <td>0.000035</td>\n",
       "      <td>0.000060</td>\n",
       "      <td>0.000056</td>\n",
       "      <td>0.000071</td>\n",
       "      <td>...</td>\n",
       "      <td>0.000063</td>\n",
       "      <td>0.000053</td>\n",
       "      <td>0.000021</td>\n",
       "      <td>0.000035</td>\n",
       "      <td>0.000000</td>\n",
       "      <td>0.000019</td>\n",
       "      <td>0.000033</td>\n",
       "      <td>36.630037</td>\n",
       "      <td>8.526058</td>\n",
       "      <td>same</td>\n",
       "    </tr>\n",
       "    <tr>\n",
       "      <th>1</th>\n",
       "      <td>0.000531</td>\n",
       "      <td>-0.00029</td>\n",
       "      <td>0.000050</td>\n",
       "      <td>0.000065</td>\n",
       "      <td>0.000030</td>\n",
       "      <td>0.000145</td>\n",
       "      <td>0.000057</td>\n",
       "      <td>0.000058</td>\n",
       "      <td>0.000099</td>\n",
       "      <td>0.000021</td>\n",
       "      <td>...</td>\n",
       "      <td>0.000010</td>\n",
       "      <td>0.000027</td>\n",
       "      <td>0.000093</td>\n",
       "      <td>0.000057</td>\n",
       "      <td>0.000000</td>\n",
       "      <td>0.000023</td>\n",
       "      <td>0.000033</td>\n",
       "      <td>41.189802</td>\n",
       "      <td>-3.724729</td>\n",
       "      <td>decrease</td>\n",
       "    </tr>\n",
       "    <tr>\n",
       "      <th>2</th>\n",
       "      <td>0.000375</td>\n",
       "      <td>0.00012</td>\n",
       "      <td>0.000145</td>\n",
       "      <td>-0.000010</td>\n",
       "      <td>-0.000275</td>\n",
       "      <td>-0.000430</td>\n",
       "      <td>-0.000132</td>\n",
       "      <td>0.000125</td>\n",
       "      <td>-0.000373</td>\n",
       "      <td>-0.000296</td>\n",
       "      <td>...</td>\n",
       "      <td>-0.000204</td>\n",
       "      <td>-0.000179</td>\n",
       "      <td>-0.000102</td>\n",
       "      <td>0.000000</td>\n",
       "      <td>0.000132</td>\n",
       "      <td>0.000023</td>\n",
       "      <td>0.000043</td>\n",
       "      <td>35.201212</td>\n",
       "      <td>-19.796746</td>\n",
       "      <td>decrease</td>\n",
       "    </tr>\n",
       "    <tr>\n",
       "      <th>3</th>\n",
       "      <td>0.000522</td>\n",
       "      <td>0.00025</td>\n",
       "      <td>-0.000400</td>\n",
       "      <td>-0.000305</td>\n",
       "      <td>-0.000005</td>\n",
       "      <td>-0.000045</td>\n",
       "      <td>-0.000201</td>\n",
       "      <td>0.000065</td>\n",
       "      <td>-0.000097</td>\n",
       "      <td>-0.000086</td>\n",
       "      <td>...</td>\n",
       "      <td>-0.000144</td>\n",
       "      <td>-0.000164</td>\n",
       "      <td>-0.000035</td>\n",
       "      <td>0.000000</td>\n",
       "      <td>0.000201</td>\n",
       "      <td>0.000023</td>\n",
       "      <td>0.000043</td>\n",
       "      <td>35.277537</td>\n",
       "      <td>-6.967128</td>\n",
       "      <td>same</td>\n",
       "    </tr>\n",
       "    <tr>\n",
       "      <th>4</th>\n",
       "      <td>0.000633</td>\n",
       "      <td>0.00014</td>\n",
       "      <td>-0.000055</td>\n",
       "      <td>-0.000015</td>\n",
       "      <td>-0.000010</td>\n",
       "      <td>0.000070</td>\n",
       "      <td>0.000020</td>\n",
       "      <td>0.000056</td>\n",
       "      <td>0.000092</td>\n",
       "      <td>0.000068</td>\n",
       "      <td>...</td>\n",
       "      <td>0.000061</td>\n",
       "      <td>0.000045</td>\n",
       "      <td>0.000012</td>\n",
       "      <td>0.000020</td>\n",
       "      <td>0.000000</td>\n",
       "      <td>0.000025</td>\n",
       "      <td>0.000037</td>\n",
       "      <td>39.812039</td>\n",
       "      <td>3.870720</td>\n",
       "      <td>same</td>\n",
       "    </tr>\n",
       "  </tbody>\n",
       "</table>\n",
       "<p>5 rows × 21 columns</p>\n",
       "</div>"
      ],
      "text/plain": [
       "   spread_avg  spread_cls_diff  tick_opn_diff  tick_high_diff  tick_low_diff  \\\n",
       "0    0.000405          0.00025       0.000025        0.000130      -0.000020   \n",
       "1    0.000531         -0.00029       0.000050        0.000065       0.000030   \n",
       "2    0.000375          0.00012       0.000145       -0.000010      -0.000275   \n",
       "3    0.000522          0.00025      -0.000400       -0.000305      -0.000005   \n",
       "4    0.000633          0.00014      -0.000055       -0.000015      -0.000010   \n",
       "\n",
       "   tick_cls_diff  tick_avg_diff   tick_sd  tick_ema_10_diff  tick_ema_25_diff  \\\n",
       "0       0.000055       0.000035  0.000060          0.000056          0.000071   \n",
       "1       0.000145       0.000057  0.000058          0.000099          0.000021   \n",
       "2      -0.000430      -0.000132  0.000125         -0.000373         -0.000296   \n",
       "3      -0.000045      -0.000201  0.000065         -0.000097         -0.000086   \n",
       "4       0.000070       0.000020  0.000056          0.000092          0.000068   \n",
       "\n",
       "   ...  tick_ema_75_diff  tick_ema_diff   ema_gap      gain      loss  \\\n",
       "0  ...          0.000063       0.000053  0.000021  0.000035  0.000000   \n",
       "1  ...          0.000010       0.000027  0.000093  0.000057  0.000000   \n",
       "2  ...         -0.000204      -0.000179 -0.000102  0.000000  0.000132   \n",
       "3  ...         -0.000144      -0.000164 -0.000035  0.000000  0.000201   \n",
       "4  ...          0.000061       0.000045  0.000012  0.000020  0.000000   \n",
       "\n",
       "   avg_gain  avg_loss        rsi  tick_slope  direction  \n",
       "0  0.000019  0.000033  36.630037    8.526058       same  \n",
       "1  0.000023  0.000033  41.189802   -3.724729   decrease  \n",
       "2  0.000023  0.000043  35.201212  -19.796746   decrease  \n",
       "3  0.000023  0.000043  35.277537   -6.967128       same  \n",
       "4  0.000025  0.000037  39.812039    3.870720       same  \n",
       "\n",
       "[5 rows x 21 columns]"
      ]
     },
     "execution_count": 5,
     "metadata": {},
     "output_type": "execute_result"
    }
   ],
   "source": [
    "df = pd.read_csv('data/'+file_name+'_2019.csv')\n",
    "#df.drop(remove_cols, axis=1, inplace=True)\n",
    "df.head(5)"
   ]
  },
  {
   "cell_type": "code",
   "execution_count": 6,
   "metadata": {},
   "outputs": [
    {
     "name": "stdout",
     "output_type": "stream",
     "text": [
      "Record count : 9987\n",
      "--------------------------\n",
      "same        6743\n",
      "increase    1623\n",
      "decrease    1621\n",
      "Name: direction, dtype: int64\n",
      "--------------------------\n",
      "same        0.675178\n",
      "increase    0.162511\n",
      "decrease    0.162311\n",
      "Name: direction, dtype: float64\n"
     ]
    },
    {
     "data": {
      "text/plain": [
       "['data/model/y_map.pkl']"
      ]
     },
     "execution_count": 6,
     "metadata": {},
     "output_type": "execute_result"
    }
   ],
   "source": [
    "target_col = 'direction'\n",
    "x_scaled, y_encoded, y_map, scaler_obj = data_prep(df, apply_smote = False)\n",
    "joblib.dump(scaler_obj, 'data/model/scaler_obj.pkl') \n",
    "joblib.dump(y_map, 'data/model/y_map.pkl') "
   ]
  },
  {
   "cell_type": "code",
   "execution_count": 7,
   "metadata": {},
   "outputs": [],
   "source": [
    "train_x, valid_x, train_y, valid_y = train_test_split(x_scaled, y_encoded,train_size = 0.8,random_state = 1)"
   ]
  },
  {
   "cell_type": "markdown",
   "metadata": {},
   "source": [
    "## Random Forest"
   ]
  },
  {
   "cell_type": "code",
   "execution_count": 8,
   "metadata": {},
   "outputs": [
    {
     "name": "stdout",
     "output_type": "stream",
     "text": [
      "              precision    recall  f1-score   support\n",
      "\n",
      "    decrease       0.34      0.29      0.31       319\n",
      "    increase       0.47      0.13      0.20       325\n",
      "        same       0.72      0.87      0.79      1354\n",
      "\n",
      "    accuracy                           0.66      1998\n",
      "   macro avg       0.51      0.43      0.43      1998\n",
      "weighted avg       0.62      0.66      0.61      1998\n",
      "\n",
      "Wall time: 803 ms\n"
     ]
    }
   ],
   "source": [
    "%%time\n",
    "clf = RandomForestClassifier(n_jobs=-1) \n",
    "clf.fit(train_x, train_y)\n",
    "joblib.dump(clf, 'data/model/model_rf.pkl') \n",
    "\n",
    "predictions = clf.predict(valid_x)\n",
    "rounded_predictions = np.argmax(predictions, axis = -1)\n",
    "rounded_valid_y = np.argmax(valid_y, axis = -1)\n",
    "print(classification_report(rounded_valid_y, rounded_predictions, target_names = y_map.values()))"
   ]
  },
  {
   "cell_type": "code",
   "execution_count": 9,
   "metadata": {
    "scrolled": false
   },
   "outputs": [
    {
     "name": "stdout",
     "output_type": "stream",
     "text": [
      "Record count : 9987\n",
      "--------------------------\n",
      "same        5297\n",
      "increase    2382\n",
      "decrease    2308\n",
      "Name: direction, dtype: int64\n",
      "--------------------------\n",
      "same        0.53039\n",
      "increase    0.23851\n",
      "decrease    0.23110\n",
      "Name: direction, dtype: float64\n",
      "              precision    recall  f1-score   support\n",
      "\n",
      "    decrease       0.39      0.28      0.32      2308\n",
      "    increase       0.65      0.11      0.18      2382\n",
      "        same       0.57      0.86      0.69      5297\n",
      "\n",
      "    accuracy                           0.54      9987\n",
      "   macro avg       0.53      0.41      0.40      9987\n",
      "weighted avg       0.55      0.54      0.48      9987\n",
      "\n"
     ]
    },
    {
     "data": {
      "text/plain": [
       "<sklearn.metrics._plot.confusion_matrix.ConfusionMatrixDisplay at 0x25eb245c9b0>"
      ]
     },
     "execution_count": 9,
     "metadata": {},
     "output_type": "execute_result"
    },
    {
     "data": {
      "image/png": "[encoded data removed]",
      "text/plain": [
       "<Figure size 576x576 with 2 Axes>"
      ]
     },
     "metadata": {
      "needs_background": "light"
     },
     "output_type": "display_data"
    }
   ],
   "source": [
    "df1 = pd.read_csv('data/'+file_name+'_2018.csv')\n",
    "#df1.drop(remove_cols, axis=1, inplace=True)\n",
    "\n",
    "x_scaled1, y_encoded1, y_map1, scaler_obj_1 = data_prep(df1, apply_smote = False)\n",
    "\n",
    "clf_rf = joblib.load('data/model/model_rf.pkl') \n",
    "predictions = clf_rf.predict(x_scaled1)\n",
    "rounded_predictions = np.argmax(predictions, axis = -1)\n",
    "rounded_valid_y = np.argmax(y_encoded1, axis = -1)\n",
    "\n",
    "df1['predictions'] = [y_map1[k] for k in rounded_predictions]\n",
    "#df1.to_csv('data/'+file_name+'_2018_res.csv')\n",
    "\n",
    "print(classification_report(rounded_valid_y, rounded_predictions, target_names = y_map1.values()))\n",
    "\n",
    "fig, ax = plt.subplots(figsize=(8, 8))\n",
    "cm = confusion_matrix(rounded_valid_y, rounded_predictions)\n",
    "disp = ConfusionMatrixDisplay(confusion_matrix=cm, display_labels=y_map1.values())\n",
    "disp.plot(ax=ax)"
   ]
  },
  {
   "cell_type": "code",
   "execution_count": 10,
   "metadata": {
    "scrolled": false
   },
   "outputs": [
    {
     "data": {
      "image/png": "[encoded data removed]",
      "text/plain": [
       "<Figure size 1080x720 with 1 Axes>"
      ]
     },
     "metadata": {
      "needs_background": "light"
     },
     "output_type": "display_data"
    }
   ],
   "source": [
    "x_cols = df.columns[df.columns != 'direction']\n",
    "fig = plt.figure()\n",
    "fig.suptitle('Feature importance', fontsize=20)\n",
    "plt.xlabel('Importance %', fontsize=16)\n",
    "plt.ylabel('Features', fontsize=16)\n",
    "plt.tick_params(axis='x', labelsize=12)\n",
    "plt.tick_params(axis='y', labelsize=15)\n",
    "\n",
    "\n",
    "feat_importances = pd.Series(clf_rf.feature_importances_ * 100, index=x_cols)\n",
    "feat_importances.nlargest(30).plot(kind='barh', figsize=(15, 10), rot=45)\n",
    "\n",
    "for index, value in enumerate(np.round(-np.sort(-clf.feature_importances_ * 100))):\n",
    "    plt.text(value+0.45, index, str(value), fontsize=12)"
   ]
  },
  {
   "cell_type": "markdown",
   "metadata": {},
   "source": [
    "live_df = pd.read_csv('data/live_preds.csv')\n",
    "live_df.drop(remove_cols, axis=1, inplace=True)\n",
    "del live_df['predicted_direction']\n",
    "\n",
    "scaler_obj = joblib.load('data/model/scaler_obj.pkl')\n",
    "y_map = joblib.load('data/model/y_map.pkl') \n",
    "x_scaled = scaler_obj.transform(live_df.values)\n",
    "\n",
    "predictions = clf_rf.predict(x_scaled)\n",
    "\n",
    "rounded_predictions = np.argmax(predictions, axis = -1)\n",
    "\n",
    "live_df['predictions'] = [y_map[k] for k in rounded_predictions]\n",
    "\n",
    "print(y_map)\n",
    "live_df['predictions'].value_counts()"
   ]
  },
  {
   "cell_type": "code",
   "execution_count": 11,
   "metadata": {},
   "outputs": [],
   "source": [
    "winsound.PlaySound('C:\\\\Windows\\\\Media\\\\tada.wav', winsound.SND_ASYNC)"
   ]
  }
 ],
 "metadata": {
  "kernelspec": {
   "display_name": "Python 3.6.6 64-bit",
   "language": "python",
   "name": "python36664bitab910dfda0bc43a8bf7df0c20d1c59f2"
  },
  "language_info": {
   "codemirror_mode": {
    "name": "ipython",
    "version": 3
   },
   "file_extension": ".py",
   "mimetype": "text/x-python",
   "name": "python",
   "nbconvert_exporter": "python",
   "pygments_lexer": "ipython3",
   "version": "3.6.6"
  }
 },
 "nbformat": 4,
 "nbformat_minor": 4
}
