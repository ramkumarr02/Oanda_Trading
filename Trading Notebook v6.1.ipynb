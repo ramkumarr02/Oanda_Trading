{
 "cells": [
  {
   "cell_type": "markdown",
   "metadata": {},
   "source": [
    "# Oanda Demo Trading Notebook"
   ]
  },
  {
   "cell_type": "markdown",
   "metadata": {},
   "source": [
    "## Packages"
   ]
  },
  {
   "cell_type": "markdown",
   "metadata": {},
   "source": [
    "Normal Packages"
   ]
  },
  {
   "cell_type": "code",
   "execution_count": 1,
   "metadata": {},
   "outputs": [],
   "source": [
    "import numpy as np\n",
    "import pandas as pd\n",
    "\n",
    "import yaml\n",
    "import json\n",
    "\n",
    "import time\n",
    "import pytz\n",
    "import datetime\n",
    "import winsound\n",
    "import collections\n",
    "\n",
    "from tqdm import tqdm\n",
    "\n",
    "import warnings\n",
    "warnings.filterwarnings('ignore')"
   ]
  },
  {
   "cell_type": "markdown",
   "metadata": {},
   "source": [
    "Oanda Packages"
   ]
  },
  {
   "cell_type": "code",
   "execution_count": 2,
   "metadata": {},
   "outputs": [],
   "source": [
    "from oandapyV20 import API\n",
    "import oandapyV20.endpoints.orders as orders\n",
    "import oandapyV20.endpoints.trades as trades\n",
    "import oandapyV20.endpoints.pricing as pricing\n",
    "import oandapyV20.endpoints.accounts as accounts\n",
    "import oandapyV20.endpoints.transactions as trans\n",
    "import oandapyV20.endpoints.positions as positions\n",
    "\n",
    "import oandapyV20.definitions.pricing as defpricing\n",
    "\n",
    "import oandapyV20.endpoints.instruments as instruments\n",
    "\n",
    "from oandapyV20.contrib.requests import (MarketOrderRequest, StopLossDetails)"
   ]
  },
  {
   "cell_type": "markdown",
   "metadata": {},
   "source": [
    "Custom packages"
   ]
  },
  {
   "cell_type": "code",
   "execution_count": 3,
   "metadata": {},
   "outputs": [],
   "source": [
    "from utils.toolsapi import get_date_time\n",
    "from utils.toolsapi import get_prices\n",
    "from utils.toolsapi import calc_duration"
   ]
  },
  {
   "cell_type": "markdown",
   "metadata": {},
   "source": [
    "## Functions"
   ]
  },
  {
   "cell_type": "code",
   "execution_count": 4,
   "metadata": {},
   "outputs": [],
   "source": [
    "def get_targets(start_price, target_num = 3):\n",
    "    positive_targets = {}\n",
    "    negative_targets = {}\n",
    "    pip = 10**-4\n",
    "    \n",
    "    for i in range(target_num):\n",
    "        move_val = pip*(i+1)\n",
    "        positive_targets[i] = start_price + move_val\n",
    "        negative_targets[i] = start_price - move_val\n",
    "        \n",
    "    return(positive_targets, negative_targets)"
   ]
  },
  {
   "cell_type": "code",
   "execution_count": 5,
   "metadata": {},
   "outputs": [],
   "source": [
    "def get_direction(df_reached_targets, target_num,  min_count = 10):\n",
    "    tot_pos = sum(df_reached_targets['positive'] * df_reached_targets['target_num'])\n",
    "    tot_neg = sum(df_reached_targets['negative'] * df_reached_targets['target_num'])\n",
    "\n",
    "    if ((tot_pos - tot_neg) / target_num) > 1 and tot_pos > min_count and df_reached_targets['positive'][0] > 0:\n",
    "        direction = 'positive'\n",
    "        #print(df_reached_targets)\n",
    "\n",
    "    elif ((tot_neg - tot_pos) / target_num) > 1 and tot_neg > min_count and df_reached_targets['negative'][0] > 0:\n",
    "        direction = 'negative'\n",
    "        #print(df_reached_targets)        \n",
    "        \n",
    "    else:\n",
    "        direction = 'no_direction'\n",
    "        #print(df_reached_targets)\n",
    "    return(direction)"
   ]
  },
  {
   "cell_type": "markdown",
   "metadata": {},
   "source": [
    "# Log these parameters as well"
   ]
  },
  {
   "cell_type": "code",
   "execution_count": 6,
   "metadata": {
    "scrolled": true
   },
   "outputs": [],
   "source": [
    "def run_direction_engine(instrument, num, min_trans_multiplier, target_num, min_count): \n",
    "    num = num * min_trans_multiplier\n",
    "    print(f'Finding Market Direction with min trans of {num}...')\n",
    "    \n",
    "    params = {'instruments': instrument}\n",
    "    \n",
    "    reached_targets = {'start_price' : 0,\n",
    "                       'target_num' : 0,\n",
    "                       'positive_val' : 0,\n",
    "                       'negative_val' : 0,\n",
    "                       'positive' : 0,\n",
    "                       'p_duration' : '',\n",
    "                       'n_duration' : '',\n",
    "                       'negative' : 0}\n",
    "\n",
    "    pos_target_flag = 'not_reached'\n",
    "    neg_target_flag = 'not_reached'\n",
    "    first_run_flag = 0\n",
    "    df_reached_targets = pd.DataFrame()\n",
    "    tick_list = []\n",
    "\n",
    "    \n",
    "    \n",
    "    r = pricing.PricingStream(accountID=accountID, params=params)\n",
    "    rv = api.request(r)\n",
    "\n",
    "    start_time = time.time()\n",
    "\n",
    "    for i, resp in tqdm(enumerate(rv)):\n",
    "\n",
    "        if i < num: # Check if we are within the required number of price iterations               \n",
    "            resp_type = resp['type']       \n",
    "\n",
    "            if resp_type == 'HEARTBEAT': # Heart beat response to keep the api connection alive (Avoid timeout)\n",
    "                pass\n",
    "                #print(resp_type)\n",
    "\n",
    "            elif resp_type == 'PRICE': # Check whether it is a price response                 \n",
    "                date_val, time_val, time_fraction = get_date_time(resp) # Get time stamp for reference            \n",
    "                sell_price, buy_price, spread, tick_price = get_prices(resp) # Get prices from the response                      \n",
    "                tick_list.append(tick_price)\n",
    "\n",
    "                if first_run_flag == 0:\n",
    "                    positive_targets, negative_targets = get_targets(tick_price, target_num)\n",
    "                    first_run_flag = 1\n",
    "                    for j in range(target_num):\n",
    "                        df_reached_targets = df_reached_targets.append(reached_targets, ignore_index = True)\n",
    "                        df_reached_targets.loc[df_reached_targets.index[j], 'target_num'] = j+1\n",
    "                        df_reached_targets.loc[df_reached_targets.index[j], 'start_price'] = tick_price\n",
    "                        df_reached_targets.loc[df_reached_targets.index[j], 'positive_val'] = positive_targets[j]\n",
    "                        df_reached_targets.loc[df_reached_targets.index[j], 'negative_val'] = negative_targets[j]\n",
    "\n",
    "                for k in range(target_num):\n",
    "                    if tick_price >= positive_targets[k]:\n",
    "                        df_reached_targets.loc[df_reached_targets.index[k], 'positive'] += 1\n",
    "                        if pos_target_flag == 'not_reached':\n",
    "                            end_time = time.time()    \n",
    "                            duration = calc_duration(start_time, end_time)\n",
    "                            df_reached_targets.loc[df_reached_targets.index[k], 'p_duration'] = duration\n",
    "                            pos_target_flag = 'reached'\n",
    "\n",
    "                    if tick_price <= negative_targets[k]:\n",
    "                        df_reached_targets.loc[df_reached_targets.index[k], 'negative'] += 1            \n",
    "                        if neg_target_flag == 'not_reached':\n",
    "                            end_time = time.time()    \n",
    "                            duration = calc_duration(start_time, end_time)\n",
    "                            df_reached_targets.loc[df_reached_targets.index[k], 'n_duration'] = duration\n",
    "                            neg_target_flag = 'reached'\n",
    "\n",
    "        else: # Crossed the required number of price iterations\n",
    "            try:\n",
    "                r.terminate(message = \"maxrecs records received\")\n",
    "            except:\n",
    "                pass\n",
    "\n",
    "    df_reached_targets =  df_reached_targets[['start_price', 'target_num', 'positive_val', 'negative_val','positive', 'negative','p_duration','n_duration']]\n",
    "    direction = get_direction(df_reached_targets, target_num, min_count)\n",
    "\n",
    "    #winsound.PlaySound('C:\\\\Windows\\\\Media\\\\tada.wav', winsound.SND_ASYNC) \n",
    "    return(direction, df_reached_targets, tick_list)"
   ]
  },
  {
   "cell_type": "code",
   "execution_count": 7,
   "metadata": {},
   "outputs": [],
   "source": [
    "def make_order(accountID, stop_price, instrument, units):\n",
    "    stopLossOnFill = StopLossDetails(price=stop_price)\n",
    "\n",
    "    ordr = MarketOrderRequest(\n",
    "        instrument = instrument,\n",
    "        units=units,\n",
    "        stopLossOnFill=stopLossOnFill.data)\n",
    "\n",
    "    r = orders.OrderCreate(accountID, data=ordr.data)\n",
    "    rv = api.request(r)\n",
    "    return(rv)"
   ]
  },
  {
   "cell_type": "code",
   "execution_count": 8,
   "metadata": {},
   "outputs": [],
   "source": [
    "def close_order(accountID, order_type, instrument):\n",
    "    data_long = {\"longUnits\": \"ALL\"}\n",
    "    data_short = {\"shortUnits\": \"ALL\"}\n",
    "    \n",
    "    if order_type == 'long':\n",
    "        data = data_long\n",
    "    elif order_type == 'short':\n",
    "        data = data_short\n",
    "        \n",
    "    r = positions.PositionClose(accountID=accountID,\n",
    "                                instrument=instrument,\n",
    "                                data=data)\n",
    "    rv = api.request(r)\n",
    "    return(rv)"
   ]
  },
  {
   "cell_type": "code",
   "execution_count": 9,
   "metadata": {},
   "outputs": [],
   "source": [
    "def run_order_engine(accountID, instrument, direction, profit_target_num, loss_limit_num): \n",
    "    params = {'instruments': instrument}\n",
    "    pip = 10**-4\n",
    "    r = pricing.PricingStream(accountID=accountID, params=params)\n",
    "    rv = api.request(r)\n",
    "    order_flag = 'not_ordered'\n",
    "    max_price = 0\n",
    "    \n",
    "    profit_target = profit_target_num * pip\n",
    "    loss_limit = loss_limit_num * pip\n",
    "    \n",
    "    for i, resp in tqdm(enumerate(rv)):        \n",
    "        open_positions_r = positions.OpenPositions(accountID=accountID)\n",
    "        open_positions_rv = api.request(open_positions_r)\n",
    "        open_positions = len(open_positions_rv['positions'])        \n",
    "        resp_type = resp['type']       \n",
    "        \n",
    "        if resp_type == 'HEARTBEAT': # Heart beat response to keep the api connection alive (Avoid timeout)\n",
    "            pass\n",
    "        \n",
    "        elif resp_type == 'PRICE' and order_flag == 'not_ordered': # Check if we are yet to make the order               \n",
    "            date_val, time_val, time_fraction = get_date_time(resp) # Get time stamp for reference            \n",
    "            sell_price, buy_price, spread, tick_price = get_prices(resp) # Get prices from the response                      \n",
    "\n",
    "            if direction == 'positive':\n",
    "                order_type = 'long'\n",
    "                units = +1\n",
    "                #stop_price = sell_price - loss_limit\n",
    "                stop_price = buy_price - loss_limit                \n",
    "                make_order_log = make_order(accountID, stop_price, instrument, units)\n",
    "                order_flag = 'ordered'\n",
    "\n",
    "            elif direction == 'negative':\n",
    "                order_type = 'short'\n",
    "                units = -1                    \n",
    "                #stop_price = buy_price + loss_limit\n",
    "                stop_price = sell_price + loss_limit                \n",
    "                make_order_log = make_order(accountID, stop_price, instrument, units)                    \n",
    "                order_flag = 'ordered'\n",
    "\n",
    "        elif resp_type == 'PRICE' and order_flag == 'ordered' and open_positions == 1: # Check if we have made the order\n",
    "            sell_price, buy_price, spread, tick_price = get_prices(resp) # Get prices from the response                                      \n",
    "\n",
    "            if order_type == 'long':     \n",
    "                #ordered_sell_price = float(make_order_log['orderFillTransaction']['fullPrice']['bids'][0]['price'])\n",
    "                #profit = sell_price - ordered_sell_price                \n",
    "                ordered_buy_price = float(make_order_log['orderFillTransaction']['fullPrice']['asks'][0]['price'])\n",
    "                profit = sell_price - ordered_buy_price              \n",
    "                max_price = max(sell_price, max_price)\n",
    "                \n",
    "                if profit >= profit_target and sell_price < max_price:\n",
    "                    close_order_log = close_order(accountID, order_type ,instrument)\n",
    "                    order_flag = 'closed'\n",
    "                    \n",
    "            if order_type == 'short':     \n",
    "                #ordered_buy_price = float(make_order_log['orderFillTransaction']['fullPrice']['asks'][0]['price'])\n",
    "                #profit = ordered_buy_price - buy_price\n",
    "                ordered_sell_price = float(make_order_log['orderFillTransaction']['fullPrice']['bids'][0]['price'])\n",
    "                profit = ordered_sell_price - buy_price\n",
    "                \n",
    "                min_price = min(sell_price, max_price)\n",
    "                \n",
    "                if profit >= profit_target and sell_price > max_price:\n",
    "                    close_order_log = close_order(accountID, order_type ,instrument)\n",
    "                    order_flag = 'closed'\n",
    "\n",
    "                    \n",
    "        elif resp_type == 'PRICE' and (order_flag == 'closed' or open_positions == 0): # Check if we have made the order\n",
    "            try:\n",
    "                if order_flag != 'closed':\n",
    "                    close_order_log = 'stop_loss_trigger'\n",
    "                r.terminate(message = \"\")\n",
    "            except:\n",
    "                pass\n",
    "\n",
    "    return(make_order_log, close_order_log, i)"
   ]
  },
  {
   "cell_type": "code",
   "execution_count": 10,
   "metadata": {},
   "outputs": [],
   "source": [
    "def get_output_data(make_order_log, close_order_log, iters, dirc):\n",
    "    output_data = {'date':[],\n",
    "                   'time':[],\n",
    "                   'instrument':[],\n",
    "                   'direction':[],                   \n",
    "                   'ordr_type':[],                   \n",
    "                   'units':[],\n",
    "                   'profit_pips':[],\n",
    "                   'close_reason':[],\n",
    "                   'Iterations':[],                   \n",
    "                   'orderID':[]\n",
    "                  }\n",
    "    \n",
    "\n",
    "    if dirc:    \n",
    "        # Make_Order_Log\n",
    "        #-------------------------------------------------\n",
    "        make_dict_key = list(make_order_log.keys())[1]\n",
    "        uni = int(make_order_log[make_dict_key]['units'])\n",
    "        if uni > 0:\n",
    "            output_data['ordr_type'] = 'long'\n",
    "            output_data['direction'] = 'positive'\n",
    "        else:\n",
    "            output_data['ordr_type'] = 'short'\n",
    "            output_data['direction'] = 'negative'        \n",
    "\n",
    "\n",
    "        # Close_Order_Log\n",
    "        #-------------------------------------------------        \n",
    "        if close_order_log != 'stop_loss_trigger':    \n",
    "            close_dict_key= list(close_order_log.keys())[1]\n",
    "            dt, tm, _ = get_date_time(close_order_log[close_dict_key])\n",
    "            output_data['date'].append(dt)  \n",
    "            output_data['time'].append(tm)\n",
    "            output_data['instrument'].append(close_order_log[close_dict_key]['instrument'])\n",
    "            output_data['units'].append(uni)\n",
    "            output_data['profit_pips'].append(close_order_log[close_dict_key]['pl'])\n",
    "            output_data['orderID'].append(close_order_log[close_dict_key]['orderID'])\n",
    "            output_data['close_reason'].append('Programmed_close')\n",
    "            output_data['Iterations'].append(iters)\n",
    "\n",
    "\n",
    "\n",
    "        # Stop_Order_Logging\n",
    "        #-------------------------------------------------\n",
    "        elif close_order_log == 'stop_loss_trigger':\n",
    "            last_position_r = positions.PositionDetails(accountID, instrument)\n",
    "            last_position_rv = api.request(last_position_r)\n",
    "            last_transaction_id = last_position_rv['lastTransactionID']\n",
    "\n",
    "            transaction_details_r = trans.TransactionDetails(accountID, transactionID=last_transaction_id)\n",
    "            transaction_details_rv = api.request(transaction_details_r)\n",
    "\n",
    "            time_stamp = transaction_details_rv['transaction']['fullPrice']['timestamp']\n",
    "            dt, full_time = time_stamp.split(sep = 'T')\n",
    "            tm, time_fraction = full_time.split(sep = '.')\n",
    "            inst = transaction_details_rv['transaction']['instrument']\n",
    "            #unts = transaction_details_rv['transaction']['units']\n",
    "            prfit_pips = transaction_details_rv['transaction']['pl']\n",
    "            clse_reason = transaction_details_rv['transaction']['reason']\n",
    "            ordrID = transaction_details_rv['transaction']['orderID']\n",
    "\n",
    "            output_data['date'].append(dt)  \n",
    "            output_data['time'].append(tm)\n",
    "            output_data['instrument'].append(inst)\n",
    "            output_data['units'].append(uni)\n",
    "            output_data['profit_pips'].append(prfit_pips)\n",
    "            output_data['orderID'].append(ordrID)\n",
    "            output_data['close_reason'].append('Stop_Loss')\n",
    "            output_data['Iterations'].append(iters)  \n",
    "            \n",
    "            \n",
    "    elif dirc == False:\n",
    "        d = datetime.datetime.utcnow()\n",
    "        d_with_timezone = d.replace(tzinfo=pytz.UTC)\n",
    "        time_stamp = d_with_timezone.isoformat()\n",
    "        dt_now, full_time = time_stamp.split(sep = 'T')\n",
    "        tm_now, time_fraction = full_time.split(sep = '.')\n",
    "\n",
    "        output_data['date'].append(dt_now)  \n",
    "        output_data['time'].append(tm_now)\n",
    "        output_data['instrument'].append(instrument)\n",
    "        output_data['direction'] = 'no_direction'        \n",
    "        output_data['ordr_type'].append('')\n",
    "        output_data['units'].append('')\n",
    "        output_data['profit_pips'].append('')\n",
    "        output_data['orderID'].append('')\n",
    "        output_data['close_reason'].append('')\n",
    "        output_data['Iterations'].append('') \n",
    "\n",
    "        \n",
    "    # Write to Dataframe\n",
    "    #-------------------------------------------------    \n",
    "    output_df = pd.DataFrame()\n",
    "    output_df = pd.DataFrame.from_dict(output_data)\n",
    "    output_df = output_df[['date', 'time', 'instrument', 'direction', 'ordr_type','units', 'profit_pips', 'close_reason', 'Iterations','orderID']]\n",
    "\n",
    "    return(output_df)"
   ]
  },
  {
   "cell_type": "code",
   "execution_count": 11,
   "metadata": {
    "scrolled": true
   },
   "outputs": [],
   "source": [
    "def get_min_trans_num(instrument,accountID,iter_num, pip_gap):\n",
    "    pip_gap = pip_gap * 0.0001\n",
    "    \n",
    "    price_df = pd.DataFrame()\n",
    "    diff = 0\n",
    "    ticks = []\n",
    "    iter_req = []\n",
    "    params = {'instruments': instrument}\n",
    "\n",
    "    r = pricing.PricingStream(accountID=accountID, params=params)\n",
    "    rv = api.request(r)\n",
    "    \n",
    "\n",
    "    for i, resp in tqdm(enumerate(rv)):    \n",
    "        resp_type = resp['type']\n",
    "        if resp_type == 'HEARTBEAT': # Heart beat response to keep the api connection alive (Avoid timeout)\n",
    "            pass\n",
    "\n",
    "        else:\n",
    "            if i < iter_num:\n",
    "                date_val, time_val, time_fraction = get_date_time(resp) # Get time stamp for reference            \n",
    "                sell_price, buy_price, spread, tick_price = get_prices(resp) # Get prices from the response                      \n",
    "                ticks.append(tick_price)\n",
    "\n",
    "            else:\n",
    "                break\n",
    "\n",
    "    price_df['tick_price'] = ticks\n",
    "\n",
    "\n",
    "    for i, ival in enumerate(price_df['tick_price']):\n",
    "        for j, jval in enumerate(price_df['tick_price']):\n",
    "            if i == j:\n",
    "                pass\n",
    "            elif j > i:\n",
    "                diff = abs(jval - ival)\n",
    "                if diff >= pip_gap:\n",
    "                    iter_req.append(j-i)\n",
    "                    break\n",
    "            else:\n",
    "                pass\n",
    "    \n",
    "    #print(iter_req)\n",
    "    min_trans = round(np.mean(iter_req),0)\n",
    "    return(np.mean(min_trans))"
   ]
  },
  {
   "cell_type": "markdown",
   "metadata": {},
   "source": [
    "## API Setup"
   ]
  },
  {
   "cell_type": "markdown",
   "metadata": {},
   "source": [
    "Read from config file"
   ]
  },
  {
   "cell_type": "code",
   "execution_count": 12,
   "metadata": {},
   "outputs": [],
   "source": [
    "config_file = 'config/access_token.yaml'\n",
    "\n",
    "with open(config_file) as c_file:\n",
    "    config = yaml.load(c_file)\n",
    "\n",
    "access_token = config['oanda_demo_account']['token']\n",
    "accountID = config['oanda_demo_account']['account_id']\n",
    "\n",
    "api = API(access_token = access_token)"
   ]
  },
  {
   "cell_type": "markdown",
   "metadata": {},
   "source": [
    "## Code Engine"
   ]
  },
  {
   "cell_type": "markdown",
   "metadata": {},
   "source": [
    "# Log these inputs as well"
   ]
  },
  {
   "cell_type": "code",
   "execution_count": 13,
   "metadata": {},
   "outputs": [],
   "source": [
    "instrument=\"EUR_USD\"\n",
    "target_num = 3\n",
    "min_count = 2\n",
    "profit_target_num  = 1\n",
    "loss_limit_num = 3\n",
    "\n",
    "iter_num = 100\n",
    "pip_gap = 1\n",
    "min_trans_multiplier = 1\n",
    "\n",
    "num_of_bets = 3"
   ]
  },
  {
   "cell_type": "code",
   "execution_count": null,
   "metadata": {},
   "outputs": [],
   "source": [
    "%%time\n",
    "min_trans_num = get_min_trans_num(instrument, accountID, iter_num = iter_num, pip_gap = pip_gap)\n",
    "print(f'min_trans_num : {min_trans_num}')\n",
    "\n",
    "run_flag = True\n",
    "\n",
    "for i in range(num_of_bets):    \n",
    "    print(f'-------------------------------Iteration {i+1}-------------------------------')\n",
    "    if run_flag:\n",
    "        direction, df_reached_targets, tick_list = run_direction_engine(instrument, min_trans_num, min_trans_multiplier, target_num, min_count)    \n",
    "\n",
    "    if direction == 'no_direction':\n",
    "        print('no_direction : Run again')\n",
    "        output_df = get_output_data('', '', '', dirc = False) \n",
    "        \n",
    "    else:\n",
    "        print(f'Direction : {direction}')\n",
    "        make_order_log, close_order_log, iters = run_order_engine(accountID, instrument, direction, profit_target_num, loss_limit_num)\n",
    "        output_df = get_output_data(make_order_log, close_order_log, iters, dirc = True)\n",
    "        pl_pip = output_df['profit_pips']\n",
    "        print(f'pl = {pl_pip}')\n",
    "\n",
    "        if float(pl_pip) >= 0:\n",
    "            run_flag = False\n",
    "        else:\n",
    "            run_flag = True\n",
    "\n",
    "    output_df.to_csv('data/machine_use/output_log.csv', mode='a', header=False, index = False)"
   ]
  },
  {
   "cell_type": "code",
   "execution_count": 14,
   "metadata": {
    "scrolled": false
   },
   "outputs": [
    {
     "name": "stderr",
     "output_type": "stream",
     "text": [
      "100it [01:14,  1.35it/s]\n",
      "0it [00:00, ?it/s]"
     ]
    },
    {
     "name": "stdout",
     "output_type": "stream",
     "text": [
      "min_trans_num : 27.0\n",
      "-------------------------------Iteration 1-------------------------------\n",
      "Finding Market Direction with min trans of {num}...\n"
     ]
    },
    {
     "name": "stderr",
     "output_type": "stream",
     "text": [
      "28it [00:25,  1.09it/s]\n",
      "0it [00:00, ?it/s]"
     ]
    },
    {
     "name": "stdout",
     "output_type": "stream",
     "text": [
      "no_direction : Run again\n",
      "-------------------------------Iteration 2-------------------------------\n",
      "Finding Market Direction with min trans of {num}...\n"
     ]
    },
    {
     "name": "stderr",
     "output_type": "stream",
     "text": [
      "28it [00:24,  1.14it/s]\n",
      "0it [00:00, ?it/s]"
     ]
    },
    {
     "name": "stdout",
     "output_type": "stream",
     "text": [
      "no_direction : Run again\n",
      "-------------------------------Iteration 3-------------------------------\n",
      "Finding Market Direction with min trans of {num}...\n"
     ]
    },
    {
     "name": "stderr",
     "output_type": "stream",
     "text": [
      "28it [00:24,  1.14it/s]\n",
      "0it [00:00, ?it/s]"
     ]
    },
    {
     "name": "stdout",
     "output_type": "stream",
     "text": [
      "Direction : negative\n"
     ]
    },
    {
     "name": "stderr",
     "output_type": "stream",
     "text": [
      "182it [02:49,  1.07it/s]"
     ]
    },
    {
     "name": "stdout",
     "output_type": "stream",
     "text": [
      "pl = 0    0.0002\n",
      "Name: profit_pips, dtype: object\n",
      "Wall time: 5min 18s\n"
     ]
    },
    {
     "name": "stderr",
     "output_type": "stream",
     "text": [
      "\n"
     ]
    }
   ],
   "source": [
    "df_copy = pd.read_csv('data/machine_use/output_log.csv')\n",
    "df_copy.to_csv('data/output_log.csv')    "
   ]
  }
 ],
 "metadata": {
  "kernelspec": {
   "display_name": "Python 3",
   "language": "python",
   "name": "python3"
  },
  "language_info": {
   "codemirror_mode": {
    "name": "ipython",
    "version": 3
   },
   "file_extension": ".py",
   "mimetype": "text/x-python",
   "name": "python",
   "nbconvert_exporter": "python",
   "pygments_lexer": "ipython3",
   "version": "3.6.6"
  }
 },
 "nbformat": 4,
 "nbformat_minor": 4
}
