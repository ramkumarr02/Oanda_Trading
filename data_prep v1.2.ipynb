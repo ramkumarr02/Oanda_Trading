{
 "cells": [
  {
   "cell_type": "code",
   "execution_count": 1,
   "metadata": {
    "scrolled": true
   },
   "outputs": [],
   "source": [
    "import numpy as np\n",
    "import pandas as pd\n",
    "from tqdm import tqdm\n",
    "import winsound\n",
    "import datetime as dt\n",
    "\n",
    "import warnings\n",
    "warnings.filterwarnings('ignore')"
   ]
  },
  {
   "cell_type": "code",
   "execution_count": 2,
   "metadata": {},
   "outputs": [
    {
     "data": {
      "text/html": [
       "<div>\n",
       "<style scoped>\n",
       "    .dataframe tbody tr th:only-of-type {\n",
       "        vertical-align: middle;\n",
       "    }\n",
       "\n",
       "    .dataframe tbody tr th {\n",
       "        vertical-align: top;\n",
       "    }\n",
       "\n",
       "    .dataframe thead th {\n",
       "        text-align: right;\n",
       "    }\n",
       "</style>\n",
       "<table border=\"1\" class=\"dataframe\">\n",
       "  <thead>\n",
       "    <tr style=\"text-align: right;\">\n",
       "      <th></th>\n",
       "      <th>TS</th>\n",
       "      <th>Close</th>\n",
       "    </tr>\n",
       "  </thead>\n",
       "  <tbody>\n",
       "    <tr>\n",
       "      <th>0</th>\n",
       "      <td>2019-01-01 17:02</td>\n",
       "      <td>1.14598</td>\n",
       "    </tr>\n",
       "    <tr>\n",
       "      <th>1</th>\n",
       "      <td>2019-01-01 17:03</td>\n",
       "      <td>1.14607</td>\n",
       "    </tr>\n",
       "    <tr>\n",
       "      <th>2</th>\n",
       "      <td>2019-01-01 17:04</td>\n",
       "      <td>1.14606</td>\n",
       "    </tr>\n",
       "    <tr>\n",
       "      <th>3</th>\n",
       "      <td>2019-01-01 17:05</td>\n",
       "      <td>1.14621</td>\n",
       "    </tr>\n",
       "    <tr>\n",
       "      <th>4</th>\n",
       "      <td>2019-01-01 17:06</td>\n",
       "      <td>1.14665</td>\n",
       "    </tr>\n",
       "  </tbody>\n",
       "</table>\n",
       "</div>"
      ],
      "text/plain": [
       "                 TS    Close\n",
       "0  2019-01-01 17:02  1.14598\n",
       "1  2019-01-01 17:03  1.14607\n",
       "2  2019-01-01 17:04  1.14606\n",
       "3  2019-01-01 17:05  1.14621\n",
       "4  2019-01-01 17:06  1.14665"
      ]
     },
     "execution_count": 2,
     "metadata": {},
     "output_type": "execute_result"
    }
   ],
   "source": [
    "raw_df = pd.read_csv('data\\M1_2019.csv')\n",
    "df = raw_df[['TS', 'Close']]\n",
    "#df = df[:10000]\n",
    "df.head()"
   ]
  },
  {
   "cell_type": "code",
   "execution_count": 3,
   "metadata": {},
   "outputs": [],
   "source": [
    "def new_df(roll_len):\n",
    "    col_list = []\n",
    "\n",
    "    for i in range(roll_len):\n",
    "        col_list.append(i)\n",
    "    \n",
    "    col_list.append('TS')\n",
    "    return(col_list)"
   ]
  },
  {
   "cell_type": "code",
   "execution_count": 4,
   "metadata": {},
   "outputs": [],
   "source": [
    "def reorder_df(df, roll_len):\n",
    "    tot_list = []\n",
    "    for i, val in tqdm(df.iterrows()):\n",
    "        act_row = i+roll_len-1\n",
    "        l = list(df['Close'][i:act_row+1])    \n",
    "        if len(l) == roll_len:\n",
    "            tot_list.append(l)\n",
    "            l.append(df['TS'][act_row])\n",
    "    df1=pd.DataFrame(tot_list,columns=col_list)\n",
    "    return(df1)"
   ]
  },
  {
   "cell_type": "code",
   "execution_count": 5,
   "metadata": {},
   "outputs": [],
   "source": [
    "def get_year(row):\n",
    "    year_val = dt.datetime.strptime(row['TS'], '%Y-%m-%d %H:%M').date().year\n",
    "    return(year_val)\n",
    "\n",
    "def get_month(row):\n",
    "    month_val = dt.datetime.strptime(row['TS'], '%Y-%m-%d %H:%M').date().month\n",
    "    return(month_val)\n",
    "\n",
    "def get_day(row):\n",
    "    day_val = dt.datetime.strptime(row['TS'], '%Y-%m-%d %H:%M').date().day\n",
    "    return(day_val)   \n",
    "\n",
    "def get_hour(row):\n",
    "    hour_val = dt.datetime.strptime(row['TS'], '%Y-%m-%d %H:%M').time().hour\n",
    "    return(hour_val)   \n",
    "\n",
    "def get_min(row):\n",
    "    min_val = dt.datetime.strptime(row['TS'], '%Y-%m-%d %H:%M').time().minute\n",
    "    return(min_val)   \n",
    "\n",
    "def get_dir(row):\n",
    "    diff = row[roll_len-1] - row[roll_len-2]\n",
    "    \n",
    "    if diff > 0.0002:\n",
    "        direction = 'increase'\n",
    "    elif diff < -0.0002:\n",
    "        direction = 'decrease'\n",
    "    else:\n",
    "        direction = 'same'        \n",
    "    \n",
    "    return(direction)\n",
    "\n",
    "def split_ts(df1):\n",
    "    #df1['year'] = df1.apply(get_year, axis=1)\n",
    "    df1['month'] = df1.apply(get_month, axis=1)\n",
    "    df1['day'] = df1.apply(get_day, axis=1)\n",
    "    df1['hour'] = df1.apply(get_hour, axis=1)\n",
    "    df1['min'] = df1.apply(get_min, axis=1)\n",
    "    df1['direction'] = df1.apply(get_dir, axis=1)\n",
    "    \n",
    "    cols = list(df1)\n",
    "\n",
    "    cols.insert(0, cols.pop(cols.index('min')))\n",
    "    cols.insert(0, cols.pop(cols.index('hour')))\n",
    "    cols.insert(0, cols.pop(cols.index('day')))\n",
    "    cols.insert(0, cols.pop(cols.index('month')))\n",
    "    #cols.insert(0, cols.pop(cols.index('year')))\n",
    "\n",
    "    df1 = df1[cols]\n",
    "\n",
    "    del df1['TS']\n",
    "    #del df1[roll_len-1]\n",
    "    return(df1)"
   ]
  },
  {
   "cell_type": "code",
   "execution_count": 6,
   "metadata": {},
   "outputs": [
    {
     "name": "stderr",
     "output_type": "stream",
     "text": [
      "372530it [01:06, 5594.51it/s]\n"
     ]
    }
   ],
   "source": [
    "roll_len = 15\n",
    "col_list = new_df(roll_len)\n",
    "rolled_df = reorder_df(df, roll_len)"
   ]
  },
  {
   "cell_type": "code",
   "execution_count": 7,
   "metadata": {},
   "outputs": [
    {
     "name": "stdout",
     "output_type": "stream",
     "text": [
      "Wall time: 29.9 ms\n"
     ]
    }
   ],
   "source": [
    "%%time\n",
    "cols = list(rolled_df)\n",
    "cols.insert(0, cols.pop(cols.index('TS')))\n",
    "rolled_df = rolled_df[cols]"
   ]
  },
  {
   "cell_type": "code",
   "execution_count": 8,
   "metadata": {},
   "outputs": [
    {
     "name": "stdout",
     "output_type": "stream",
     "text": [
      "Wall time: 48.7 s\n"
     ]
    }
   ],
   "source": [
    "%%time \n",
    "rolled_df = split_ts(rolled_df)"
   ]
  },
  {
   "cell_type": "code",
   "execution_count": 9,
   "metadata": {
    "scrolled": true
   },
   "outputs": [
    {
     "name": "stdout",
     "output_type": "stream",
     "text": [
      "Wall time: 4.73 s\n"
     ]
    }
   ],
   "source": [
    "%%time\n",
    "rolled_df.to_csv('data/rolled_df.csv', index = False)\n",
    "winsound.PlaySound('C:\\\\Windows\\\\Media\\\\tada.wav', winsound.SND_ASYNC)"
   ]
  },
  {
   "cell_type": "code",
   "execution_count": 10,
   "metadata": {},
   "outputs": [
    {
     "data": {
      "text/html": [
       "<div>\n",
       "<style scoped>\n",
       "    .dataframe tbody tr th:only-of-type {\n",
       "        vertical-align: middle;\n",
       "    }\n",
       "\n",
       "    .dataframe tbody tr th {\n",
       "        vertical-align: top;\n",
       "    }\n",
       "\n",
       "    .dataframe thead th {\n",
       "        text-align: right;\n",
       "    }\n",
       "</style>\n",
       "<table border=\"1\" class=\"dataframe\">\n",
       "  <thead>\n",
       "    <tr style=\"text-align: right;\">\n",
       "      <th></th>\n",
       "      <th>month</th>\n",
       "      <th>day</th>\n",
       "      <th>hour</th>\n",
       "      <th>min</th>\n",
       "      <th>0</th>\n",
       "      <th>1</th>\n",
       "      <th>2</th>\n",
       "      <th>3</th>\n",
       "      <th>4</th>\n",
       "      <th>5</th>\n",
       "      <th>6</th>\n",
       "      <th>7</th>\n",
       "      <th>8</th>\n",
       "      <th>9</th>\n",
       "      <th>10</th>\n",
       "      <th>11</th>\n",
       "      <th>12</th>\n",
       "      <th>13</th>\n",
       "      <th>direction</th>\n",
       "    </tr>\n",
       "  </thead>\n",
       "  <tbody>\n",
       "    <tr>\n",
       "      <th>0</th>\n",
       "      <td>1</td>\n",
       "      <td>1</td>\n",
       "      <td>17</td>\n",
       "      <td>16</td>\n",
       "      <td>1.14598</td>\n",
       "      <td>1.14607</td>\n",
       "      <td>1.14606</td>\n",
       "      <td>1.14621</td>\n",
       "      <td>1.14665</td>\n",
       "      <td>1.14607</td>\n",
       "      <td>1.14607</td>\n",
       "      <td>1.14606</td>\n",
       "      <td>1.14607</td>\n",
       "      <td>1.14607</td>\n",
       "      <td>1.14608</td>\n",
       "      <td>1.14607</td>\n",
       "      <td>1.14608</td>\n",
       "      <td>1.14607</td>\n",
       "      <td>same</td>\n",
       "    </tr>\n",
       "    <tr>\n",
       "      <th>1</th>\n",
       "      <td>1</td>\n",
       "      <td>1</td>\n",
       "      <td>17</td>\n",
       "      <td>17</td>\n",
       "      <td>1.14607</td>\n",
       "      <td>1.14606</td>\n",
       "      <td>1.14621</td>\n",
       "      <td>1.14665</td>\n",
       "      <td>1.14607</td>\n",
       "      <td>1.14607</td>\n",
       "      <td>1.14606</td>\n",
       "      <td>1.14607</td>\n",
       "      <td>1.14607</td>\n",
       "      <td>1.14608</td>\n",
       "      <td>1.14607</td>\n",
       "      <td>1.14608</td>\n",
       "      <td>1.14607</td>\n",
       "      <td>1.14607</td>\n",
       "      <td>same</td>\n",
       "    </tr>\n",
       "    <tr>\n",
       "      <th>2</th>\n",
       "      <td>1</td>\n",
       "      <td>1</td>\n",
       "      <td>17</td>\n",
       "      <td>18</td>\n",
       "      <td>1.14606</td>\n",
       "      <td>1.14621</td>\n",
       "      <td>1.14665</td>\n",
       "      <td>1.14607</td>\n",
       "      <td>1.14607</td>\n",
       "      <td>1.14606</td>\n",
       "      <td>1.14607</td>\n",
       "      <td>1.14607</td>\n",
       "      <td>1.14608</td>\n",
       "      <td>1.14607</td>\n",
       "      <td>1.14608</td>\n",
       "      <td>1.14607</td>\n",
       "      <td>1.14607</td>\n",
       "      <td>1.14607</td>\n",
       "      <td>same</td>\n",
       "    </tr>\n",
       "    <tr>\n",
       "      <th>3</th>\n",
       "      <td>1</td>\n",
       "      <td>1</td>\n",
       "      <td>17</td>\n",
       "      <td>19</td>\n",
       "      <td>1.14621</td>\n",
       "      <td>1.14665</td>\n",
       "      <td>1.14607</td>\n",
       "      <td>1.14607</td>\n",
       "      <td>1.14606</td>\n",
       "      <td>1.14607</td>\n",
       "      <td>1.14607</td>\n",
       "      <td>1.14608</td>\n",
       "      <td>1.14607</td>\n",
       "      <td>1.14608</td>\n",
       "      <td>1.14607</td>\n",
       "      <td>1.14607</td>\n",
       "      <td>1.14607</td>\n",
       "      <td>1.14607</td>\n",
       "      <td>same</td>\n",
       "    </tr>\n",
       "    <tr>\n",
       "      <th>4</th>\n",
       "      <td>1</td>\n",
       "      <td>1</td>\n",
       "      <td>17</td>\n",
       "      <td>20</td>\n",
       "      <td>1.14665</td>\n",
       "      <td>1.14607</td>\n",
       "      <td>1.14607</td>\n",
       "      <td>1.14606</td>\n",
       "      <td>1.14607</td>\n",
       "      <td>1.14607</td>\n",
       "      <td>1.14608</td>\n",
       "      <td>1.14607</td>\n",
       "      <td>1.14608</td>\n",
       "      <td>1.14607</td>\n",
       "      <td>1.14607</td>\n",
       "      <td>1.14607</td>\n",
       "      <td>1.14607</td>\n",
       "      <td>1.14606</td>\n",
       "      <td>same</td>\n",
       "    </tr>\n",
       "  </tbody>\n",
       "</table>\n",
       "</div>"
      ],
      "text/plain": [
       "   month  day  hour  min        0        1        2        3        4  \\\n",
       "0      1    1    17   16  1.14598  1.14607  1.14606  1.14621  1.14665   \n",
       "1      1    1    17   17  1.14607  1.14606  1.14621  1.14665  1.14607   \n",
       "2      1    1    17   18  1.14606  1.14621  1.14665  1.14607  1.14607   \n",
       "3      1    1    17   19  1.14621  1.14665  1.14607  1.14607  1.14606   \n",
       "4      1    1    17   20  1.14665  1.14607  1.14607  1.14606  1.14607   \n",
       "\n",
       "         5        6        7        8        9       10       11       12  \\\n",
       "0  1.14607  1.14607  1.14606  1.14607  1.14607  1.14608  1.14607  1.14608   \n",
       "1  1.14607  1.14606  1.14607  1.14607  1.14608  1.14607  1.14608  1.14607   \n",
       "2  1.14606  1.14607  1.14607  1.14608  1.14607  1.14608  1.14607  1.14607   \n",
       "3  1.14607  1.14607  1.14608  1.14607  1.14608  1.14607  1.14607  1.14607   \n",
       "4  1.14607  1.14608  1.14607  1.14608  1.14607  1.14607  1.14607  1.14607   \n",
       "\n",
       "        13 direction  \n",
       "0  1.14607      same  \n",
       "1  1.14607      same  \n",
       "2  1.14607      same  \n",
       "3  1.14607      same  \n",
       "4  1.14606      same  "
      ]
     },
     "execution_count": 10,
     "metadata": {},
     "output_type": "execute_result"
    }
   ],
   "source": [
    "rolled_df.head()"
   ]
  },
  {
   "cell_type": "code",
   "execution_count": 12,
   "metadata": {},
   "outputs": [
    {
     "data": {
      "text/plain": [
       "same        355148\n",
       "decrease      8977\n",
       "increase      8391\n",
       "Name: direction, dtype: int64"
      ]
     },
     "execution_count": 12,
     "metadata": {},
     "output_type": "execute_result"
    }
   ],
   "source": [
    "rolled_df['direction'].value_counts()"
   ]
  }
 ],
 "metadata": {
  "kernelspec": {
   "display_name": "Python 3.6.6 64-bit",
   "language": "python",
   "name": "python36664bitab910dfda0bc43a8bf7df0c20d1c59f2"
  },
  "language_info": {
   "codemirror_mode": {
    "name": "ipython",
    "version": 3
   },
   "file_extension": ".py",
   "mimetype": "text/x-python",
   "name": "python",
   "nbconvert_exporter": "python",
   "pygments_lexer": "ipython3",
   "version": "3.6.6"
  }
 },
 "nbformat": 4,
 "nbformat_minor": 4
}
