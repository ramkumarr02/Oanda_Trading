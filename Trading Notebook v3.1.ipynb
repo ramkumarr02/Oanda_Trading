{
 "cells": [
  {
   "cell_type": "markdown",
   "metadata": {},
   "source": [
    "# Oanda Demo Trading Notebook"
   ]
  },
  {
   "cell_type": "markdown",
   "metadata": {},
   "source": [
    "## Packages"
   ]
  },
  {
   "cell_type": "markdown",
   "metadata": {},
   "source": [
    "Normal Packages"
   ]
  },
  {
   "cell_type": "code",
   "execution_count": 1,
   "metadata": {},
   "outputs": [],
   "source": [
    "import numpy as np\n",
    "import pandas as pd\n",
    "\n",
    "import yaml\n",
    "import json\n",
    "\n",
    "import time\n",
    "import datetime\n",
    "import winsound\n",
    "import collections\n",
    "\n",
    "from tqdm import tqdm\n",
    "\n",
    "import warnings\n",
    "warnings.filterwarnings('ignore')"
   ]
  },
  {
   "cell_type": "markdown",
   "metadata": {},
   "source": [
    "Oanda Packages"
   ]
  },
  {
   "cell_type": "code",
   "execution_count": 2,
   "metadata": {},
   "outputs": [],
   "source": [
    "from oandapyV20 import API\n",
    "import oandapyV20.endpoints.trades as trades\n",
    "import oandapyV20.endpoints.pricing as pricing\n",
    "import oandapyV20.endpoints.accounts as accounts\n",
    "\n",
    "import oandapyV20.definitions.pricing as defpricing\n",
    "import oandapyV20.endpoints.instruments as instruments"
   ]
  },
  {
   "cell_type": "markdown",
   "metadata": {},
   "source": [
    "Custom packages"
   ]
  },
  {
   "cell_type": "code",
   "execution_count": 3,
   "metadata": {},
   "outputs": [],
   "source": [
    "from utils.toolsapi import get_date_time\n",
    "from utils.toolsapi import get_prices\n",
    "from utils.toolsapi import calc_duration"
   ]
  },
  {
   "cell_type": "markdown",
   "metadata": {},
   "source": [
    "## Functions"
   ]
  },
  {
   "cell_type": "code",
   "execution_count": 4,
   "metadata": {},
   "outputs": [],
   "source": [
    "def terminate_connection():\n",
    "    try:\n",
    "        r.terminate(message = \"maxrecs records received\")\n",
    "    except:\n",
    "        pass"
   ]
  },
  {
   "cell_type": "code",
   "execution_count": 5,
   "metadata": {},
   "outputs": [],
   "source": [
    "def get_targets(start_price, target_num = 3):\n",
    "    positive_targets = {}\n",
    "    negative_targets = {}\n",
    "    pip = 10**-4\n",
    "    \n",
    "    for i in range(target_num):\n",
    "        move_val = pip*(i+1)\n",
    "        positive_targets[i] = start_price + move_val\n",
    "        negative_targets[i] = start_price - move_val\n",
    "        \n",
    "    return(positive_targets, negative_targets)"
   ]
  },
  {
   "cell_type": "markdown",
   "metadata": {},
   "source": [
    "## API Setup"
   ]
  },
  {
   "cell_type": "markdown",
   "metadata": {},
   "source": [
    "Read from config file"
   ]
  },
  {
   "cell_type": "code",
   "execution_count": 6,
   "metadata": {},
   "outputs": [],
   "source": [
    "config_file = 'config/access_token.yaml'\n",
    "\n",
    "with open(config_file) as c_file:\n",
    "    config = yaml.load(c_file)\n",
    "\n",
    "access_token = config['oanda_demo_account']['token']\n",
    "accountID = config['oanda_demo_account']['account_id']\n",
    "\n",
    "api = API(access_token = access_token)"
   ]
  },
  {
   "cell_type": "markdown",
   "metadata": {},
   "source": [
    "## Code Engine"
   ]
  },
  {
   "cell_type": "markdown",
   "metadata": {},
   "source": [
    "### Real Live data streamer"
   ]
  },
  {
   "cell_type": "code",
   "execution_count": 7,
   "metadata": {},
   "outputs": [],
   "source": [
    "params = {\n",
    "    'instruments': 'EUR_USD'\n",
    "}\n",
    "\n",
    "num = 600\n",
    "first_run_flag = 0\n",
    "target_num = 3\n",
    "\n",
    "reached_targets = {'start_price' : 0,\n",
    "                   'target_num' : 0,\n",
    "                   'positive_val' : 0,\n",
    "                   'negative_val' : 0,\n",
    "                   'positive' : 0,\n",
    "                   'p_duration' : '',\n",
    "                   'n_duration' : '',\n",
    "                   'negative' : 0}\n",
    "\n",
    "df_reached_targets = pd.DataFrame()\n",
    "tick_list = []\n",
    "first_target_flag = 'not_reached'"
   ]
  },
  {
   "cell_type": "code",
   "execution_count": 8,
   "metadata": {
    "scrolled": true
   },
   "outputs": [
    {
     "name": "stderr",
     "output_type": "stream",
     "text": [
      "601it [05:54,  1.69it/s]\n"
     ]
    }
   ],
   "source": [
    "r = pricing.PricingStream(accountID=accountID, params=params)\n",
    "rv = api.request(r)\n",
    "\n",
    "start_time = time.time()\n",
    "\n",
    "for i, resp in tqdm(enumerate(rv)):\n",
    "    \n",
    "    if i < num: # Check if we are within the required number of price iterations               \n",
    "        resp_type = resp['type']       \n",
    "        \n",
    "        if resp_type == 'HEARTBEAT': # Heart beat response to keep the api connection alive (Avoid timeout)\n",
    "            pass\n",
    "            #print(resp_type)\n",
    "        \n",
    "        elif resp_type == 'PRICE': # Check whether it is a price response                 \n",
    "            date_val, time_val, time_fraction = get_date_time(resp) # Get time stamp for reference            \n",
    "            sell_price, buy_price, spread, tick_price = get_prices(resp) # Get prices from the response                      \n",
    "            tick_list.append(tick_price)\n",
    "            \n",
    "            if first_run_flag == 0:\n",
    "                positive_targets, negative_targets = get_targets(tick_price, target_num)\n",
    "                first_run_flag = 1\n",
    "                for j in range(target_num):\n",
    "                    df_reached_targets = df_reached_targets.append(reached_targets, ignore_index = True)\n",
    "                    df_reached_targets.loc[df_reached_targets.index[j], 'target_num'] = j+1\n",
    "                    df_reached_targets.loc[df_reached_targets.index[j], 'start_price'] = tick_price\n",
    "                    df_reached_targets.loc[df_reached_targets.index[j], 'positive_val'] = positive_targets[j]\n",
    "                    df_reached_targets.loc[df_reached_targets.index[j], 'negative_val'] = negative_targets[j]\n",
    "\n",
    "            for k in range(target_num):\n",
    "                if tick_price >= positive_targets[k]:\n",
    "                    df_reached_targets.loc[df_reached_targets.index[k], 'positive'] += 1\n",
    "                    if first_target_flag == 'not_reached':\n",
    "                        end_time = time.time()    \n",
    "                        duration = calc_duration(start_time, end_time)\n",
    "                        df_reached_targets.loc[df_reached_targets.index[k], 'p_duration'] = duration\n",
    "                        first_target_flag == 'reached'\n",
    "                        \n",
    "                if tick_price <= negative_targets[k]:\n",
    "                    df_reached_targets.loc[df_reached_targets.index[k], 'negative'] += 1            \n",
    "                    if first_target_flag == 'not_reached':\n",
    "                        end_time = time.time()    \n",
    "                        duration = calc_duration(start_time, end_time)\n",
    "                        df_reached_targets.loc[df_reached_targets.index[k], 'n_duration'] = duration\n",
    "                        first_target_flag == 'reached'                        \n",
    "                        \n",
    "    else: # Crossed the required number of price iterations\n",
    "        terminate_connection()\n",
    "\n",
    "\n",
    "winsound.PlaySound('C:\\\\Windows\\\\Media\\\\tada.wav', winsound.SND_ASYNC)"
   ]
  },
  {
   "cell_type": "code",
   "execution_count": 9,
   "metadata": {},
   "outputs": [
    {
     "name": "stdout",
     "output_type": "stream",
     "text": [
      "positive_targets : {0: 1.13794, 1: 1.13804, 2: 1.13814}\n",
      "negative_targets : {0: 1.13774, 1: 1.13764, 2: 1.13754}\n"
     ]
    },
    {
     "data": {
      "text/html": [
       "<div>\n",
       "<style scoped>\n",
       "    .dataframe tbody tr th:only-of-type {\n",
       "        vertical-align: middle;\n",
       "    }\n",
       "\n",
       "    .dataframe tbody tr th {\n",
       "        vertical-align: top;\n",
       "    }\n",
       "\n",
       "    .dataframe thead th {\n",
       "        text-align: right;\n",
       "    }\n",
       "</style>\n",
       "<table border=\"1\" class=\"dataframe\">\n",
       "  <thead>\n",
       "    <tr style=\"text-align: right;\">\n",
       "      <th></th>\n",
       "      <th>start_price</th>\n",
       "      <th>target_num</th>\n",
       "      <th>positive_val</th>\n",
       "      <th>negative_val</th>\n",
       "      <th>positive</th>\n",
       "      <th>negative</th>\n",
       "      <th>p_duration</th>\n",
       "      <th>n_duration</th>\n",
       "    </tr>\n",
       "  </thead>\n",
       "  <tbody>\n",
       "    <tr>\n",
       "      <th>0</th>\n",
       "      <td>1.13784</td>\n",
       "      <td>1.0</td>\n",
       "      <td>1.13794</td>\n",
       "      <td>1.13774</td>\n",
       "      <td>473.0</td>\n",
       "      <td>0.0</td>\n",
       "      <td>0:5:50</td>\n",
       "      <td></td>\n",
       "    </tr>\n",
       "    <tr>\n",
       "      <th>1</th>\n",
       "      <td>1.13784</td>\n",
       "      <td>2.0</td>\n",
       "      <td>1.13804</td>\n",
       "      <td>1.13764</td>\n",
       "      <td>409.0</td>\n",
       "      <td>0.0</td>\n",
       "      <td>0:5:50</td>\n",
       "      <td></td>\n",
       "    </tr>\n",
       "    <tr>\n",
       "      <th>2</th>\n",
       "      <td>1.13784</td>\n",
       "      <td>3.0</td>\n",
       "      <td>1.13814</td>\n",
       "      <td>1.13754</td>\n",
       "      <td>315.0</td>\n",
       "      <td>0.0</td>\n",
       "      <td>0:5:37</td>\n",
       "      <td></td>\n",
       "    </tr>\n",
       "  </tbody>\n",
       "</table>\n",
       "</div>"
      ],
      "text/plain": [
       "   start_price  target_num  positive_val  negative_val  positive  negative  \\\n",
       "0      1.13784         1.0       1.13794       1.13774     473.0       0.0   \n",
       "1      1.13784         2.0       1.13804       1.13764     409.0       0.0   \n",
       "2      1.13784         3.0       1.13814       1.13754     315.0       0.0   \n",
       "\n",
       "  p_duration n_duration  \n",
       "0     0:5:50             \n",
       "1     0:5:50             \n",
       "2     0:5:37             "
      ]
     },
     "execution_count": 9,
     "metadata": {},
     "output_type": "execute_result"
    }
   ],
   "source": [
    "print(f'positive_targets : {positive_targets}')\n",
    "print(f'negative_targets : {negative_targets}')\n",
    "df_reached_targets =  df_reached_targets[['start_price', 'target_num', 'positive_val', 'negative_val','positive', 'negative','p_duration','n_duration']]\n",
    "df_reached_targets"
   ]
  }
 ],
 "metadata": {
  "kernelspec": {
   "display_name": "Python 3",
   "language": "python",
   "name": "python3"
  },
  "language_info": {
   "codemirror_mode": {
    "name": "ipython",
    "version": 3
   },
   "file_extension": ".py",
   "mimetype": "text/x-python",
   "name": "python",
   "nbconvert_exporter": "python",
   "pygments_lexer": "ipython3",
   "version": "3.6.6"
  }
 },
 "nbformat": 4,
 "nbformat_minor": 4
}
