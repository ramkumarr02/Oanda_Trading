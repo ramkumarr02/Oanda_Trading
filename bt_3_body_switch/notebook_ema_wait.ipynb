{
 "cells": [
  {
   "cell_type": "markdown",
   "metadata": {},
   "source": [
    "# ML Trader"
   ]
  },
  {
   "cell_type": "code",
   "execution_count": 1,
   "metadata": {
    "scrolled": true
   },
   "outputs": [],
   "source": [
    "from utils.packages import *\n",
    "from utils.variables import *\n",
    "from utils.i_o import *\n",
    "from utils.dir_slope import *\n",
    "from utils.engine import *\n",
    "from utils.loops import *\n",
    "from utils.order import *\n",
    "import winsound"
   ]
  },
  {
   "cell_type": "code",
   "execution_count": 2,
   "metadata": {},
   "outputs": [
    {
     "name": "stdout",
     "output_type": "stream",
     "text": [
      "Wall time: 0 ns\n"
     ]
    }
   ],
   "source": [
    "%%time\n",
    "data = get_date_list(data)"
   ]
  },
  {
   "cell_type": "code",
   "execution_count": 3,
   "metadata": {},
   "outputs": [
    {
     "name": "stdout",
     "output_type": "stream",
     "text": [
      "Record num : 112325\n",
      "Wall time: 21.9 s\n"
     ]
    }
   ],
   "source": [
    "%%time\n",
    "data = get_rolling_emas(data)"
   ]
  },
  {
   "cell_type": "code",
   "execution_count": 4,
   "metadata": {},
   "outputs": [],
   "source": [
    "data['df']['DateTime_frmt']   = [dt.datetime.strptime(x,\"%Y%m%d %H:%M:%S.%f\") for x in data[\"df\"]['DateTime']]\n",
    "data['df'] = data['df'][['DateTime_frmt', 'Bid', 'Ask', 'tick', 'sema', 'slema', 'lema', 'tick_angle']]"
   ]
  },
  {
   "cell_type": "code",
   "execution_count": 5,
   "metadata": {},
   "outputs": [
    {
     "name": "stderr",
     "output_type": "stream",
     "text": [
      "100%|██████████████████████████████| 112325/112325 [00:00<00:00, 148869.82it/s]\n"
     ]
    }
   ],
   "source": [
    "data = get_hl(data)"
   ]
  },
  {
   "cell_type": "code",
   "execution_count": 6,
   "metadata": {},
   "outputs": [],
   "source": [
    "# data = get_h_avg(data)"
   ]
  },
  {
   "cell_type": "code",
   "execution_count": 7,
   "metadata": {},
   "outputs": [
    {
     "data": {
      "text/html": [
       "<div>\n",
       "<style scoped>\n",
       "    .dataframe tbody tr th:only-of-type {\n",
       "        vertical-align: middle;\n",
       "    }\n",
       "\n",
       "    .dataframe tbody tr th {\n",
       "        vertical-align: top;\n",
       "    }\n",
       "\n",
       "    .dataframe thead th {\n",
       "        text-align: right;\n",
       "    }\n",
       "</style>\n",
       "<table border=\"1\" class=\"dataframe\">\n",
       "  <thead>\n",
       "    <tr style=\"text-align: right;\">\n",
       "      <th></th>\n",
       "      <th>DateTime_frmt</th>\n",
       "      <th>Bid</th>\n",
       "      <th>Ask</th>\n",
       "      <th>tick</th>\n",
       "      <th>sema</th>\n",
       "      <th>slema</th>\n",
       "      <th>lema</th>\n",
       "      <th>tick_angle</th>\n",
       "      <th>h</th>\n",
       "      <th>l</th>\n",
       "      <th>h_l_gap</th>\n",
       "      <th>h_avg</th>\n",
       "      <th>l_avg</th>\n",
       "      <th>h_gap</th>\n",
       "      <th>l_gap</th>\n",
       "      <th>h_lema</th>\n",
       "      <th>l_lema</th>\n",
       "    </tr>\n",
       "  </thead>\n",
       "  <tbody>\n",
       "    <tr>\n",
       "      <th>0</th>\n",
       "      <td>2021-01-03 23:13:08.820</td>\n",
       "      <td>1.22379</td>\n",
       "      <td>1.22386</td>\n",
       "      <td>1.223825</td>\n",
       "      <td>1.223818</td>\n",
       "      <td>1.223775</td>\n",
       "      <td>1.223707</td>\n",
       "      <td>17.814052</td>\n",
       "      <td>NaN</td>\n",
       "      <td>NaN</td>\n",
       "      <td>NaN</td>\n",
       "      <td>NaN</td>\n",
       "      <td>NaN</td>\n",
       "      <td>NaN</td>\n",
       "      <td>NaN</td>\n",
       "      <td>1.223998</td>\n",
       "      <td>1.223363</td>\n",
       "    </tr>\n",
       "    <tr>\n",
       "      <th>1</th>\n",
       "      <td>2021-01-03 23:13:08.922</td>\n",
       "      <td>1.22379</td>\n",
       "      <td>1.22388</td>\n",
       "      <td>1.223835</td>\n",
       "      <td>1.223818</td>\n",
       "      <td>1.223775</td>\n",
       "      <td>1.223708</td>\n",
       "      <td>17.844068</td>\n",
       "      <td>NaN</td>\n",
       "      <td>NaN</td>\n",
       "      <td>NaN</td>\n",
       "      <td>NaN</td>\n",
       "      <td>NaN</td>\n",
       "      <td>NaN</td>\n",
       "      <td>NaN</td>\n",
       "      <td>1.223999</td>\n",
       "      <td>1.223364</td>\n",
       "    </tr>\n",
       "  </tbody>\n",
       "</table>\n",
       "</div>"
      ],
      "text/plain": [
       "            DateTime_frmt      Bid      Ask      tick      sema     slema  \\\n",
       "0 2021-01-03 23:13:08.820  1.22379  1.22386  1.223825  1.223818  1.223775   \n",
       "1 2021-01-03 23:13:08.922  1.22379  1.22388  1.223835  1.223818  1.223775   \n",
       "\n",
       "       lema  tick_angle   h   l  h_l_gap  h_avg  l_avg  h_gap  l_gap  \\\n",
       "0  1.223707   17.814052 NaN NaN      NaN    NaN    NaN    NaN    NaN   \n",
       "1  1.223708   17.844068 NaN NaN      NaN    NaN    NaN    NaN    NaN   \n",
       "\n",
       "     h_lema    l_lema  \n",
       "0  1.223998  1.223363  \n",
       "1  1.223999  1.223364  "
      ]
     },
     "execution_count": 7,
     "metadata": {},
     "output_type": "execute_result"
    }
   ],
   "source": [
    "data['df'].head(2)"
   ]
  },
  {
   "cell_type": "code",
   "execution_count": 8,
   "metadata": {},
   "outputs": [
    {
     "data": {
      "text/html": [
       "<div>\n",
       "<style scoped>\n",
       "    .dataframe tbody tr th:only-of-type {\n",
       "        vertical-align: middle;\n",
       "    }\n",
       "\n",
       "    .dataframe tbody tr th {\n",
       "        vertical-align: top;\n",
       "    }\n",
       "\n",
       "    .dataframe thead th {\n",
       "        text-align: right;\n",
       "    }\n",
       "</style>\n",
       "<table border=\"1\" class=\"dataframe\">\n",
       "  <thead>\n",
       "    <tr style=\"text-align: right;\">\n",
       "      <th></th>\n",
       "      <th>DateTime_frmt</th>\n",
       "      <th>Bid</th>\n",
       "      <th>Ask</th>\n",
       "      <th>tick</th>\n",
       "      <th>sema</th>\n",
       "      <th>slema</th>\n",
       "      <th>lema</th>\n",
       "      <th>tick_angle</th>\n",
       "      <th>h</th>\n",
       "      <th>l</th>\n",
       "      <th>h_l_gap</th>\n",
       "      <th>h_avg</th>\n",
       "      <th>l_avg</th>\n",
       "      <th>h_gap</th>\n",
       "      <th>l_gap</th>\n",
       "      <th>h_lema</th>\n",
       "      <th>l_lema</th>\n",
       "    </tr>\n",
       "  </thead>\n",
       "  <tbody>\n",
       "    <tr>\n",
       "      <th>500</th>\n",
       "      <td>2021-01-03 23:20:23.127</td>\n",
       "      <td>1.22337</td>\n",
       "      <td>1.22340</td>\n",
       "      <td>1.223385</td>\n",
       "      <td>1.223639</td>\n",
       "      <td>1.223712</td>\n",
       "      <td>1.223744</td>\n",
       "      <td>16.449510</td>\n",
       "      <td>NaN</td>\n",
       "      <td>NaN</td>\n",
       "      <td>0.000635</td>\n",
       "      <td>1.224035</td>\n",
       "      <td>1.223400</td>\n",
       "      <td>0.000291</td>\n",
       "      <td>0.000344</td>\n",
       "      <td>1.224191</td>\n",
       "      <td>1.223326</td>\n",
       "    </tr>\n",
       "    <tr>\n",
       "      <th>1000</th>\n",
       "      <td>2021-01-03 23:31:31.292</td>\n",
       "      <td>1.22417</td>\n",
       "      <td>1.22423</td>\n",
       "      <td>1.224200</td>\n",
       "      <td>1.224034</td>\n",
       "      <td>1.223884</td>\n",
       "      <td>1.223798</td>\n",
       "      <td>-4.114148</td>\n",
       "      <td>NaN</td>\n",
       "      <td>NaN</td>\n",
       "      <td>0.000865</td>\n",
       "      <td>1.224245</td>\n",
       "      <td>1.223380</td>\n",
       "      <td>0.000447</td>\n",
       "      <td>0.000418</td>\n",
       "      <td>1.224225</td>\n",
       "      <td>1.223725</td>\n",
       "    </tr>\n",
       "    <tr>\n",
       "      <th>1500</th>\n",
       "      <td>2021-01-03 23:41:26.210</td>\n",
       "      <td>1.22459</td>\n",
       "      <td>1.22464</td>\n",
       "      <td>1.224615</td>\n",
       "      <td>1.224458</td>\n",
       "      <td>1.224406</td>\n",
       "      <td>1.224233</td>\n",
       "      <td>31.275479</td>\n",
       "      <td>NaN</td>\n",
       "      <td>NaN</td>\n",
       "      <td>0.000500</td>\n",
       "      <td>1.224660</td>\n",
       "      <td>1.224160</td>\n",
       "      <td>0.000427</td>\n",
       "      <td>0.000073</td>\n",
       "      <td>1.224604</td>\n",
       "      <td>1.224029</td>\n",
       "    </tr>\n",
       "    <tr>\n",
       "      <th>2000</th>\n",
       "      <td>2021-01-03 23:48:00.812</td>\n",
       "      <td>1.22492</td>\n",
       "      <td>1.22498</td>\n",
       "      <td>1.224950</td>\n",
       "      <td>1.224657</td>\n",
       "      <td>1.224645</td>\n",
       "      <td>1.224574</td>\n",
       "      <td>39.117761</td>\n",
       "      <td>NaN</td>\n",
       "      <td>NaN</td>\n",
       "      <td>0.000575</td>\n",
       "      <td>1.224945</td>\n",
       "      <td>1.224370</td>\n",
       "      <td>0.000371</td>\n",
       "      <td>0.000204</td>\n",
       "      <td>1.224916</td>\n",
       "      <td>1.224451</td>\n",
       "    </tr>\n",
       "    <tr>\n",
       "      <th>2500</th>\n",
       "      <td>2021-01-03 23:54:38.115</td>\n",
       "      <td>1.22486</td>\n",
       "      <td>1.22490</td>\n",
       "      <td>1.224880</td>\n",
       "      <td>1.225079</td>\n",
       "      <td>1.225058</td>\n",
       "      <td>1.224938</td>\n",
       "      <td>33.544417</td>\n",
       "      <td>NaN</td>\n",
       "      <td>NaN</td>\n",
       "      <td>0.000465</td>\n",
       "      <td>1.225280</td>\n",
       "      <td>1.224815</td>\n",
       "      <td>0.000342</td>\n",
       "      <td>0.000123</td>\n",
       "      <td>1.225066</td>\n",
       "      <td>1.224721</td>\n",
       "    </tr>\n",
       "    <tr>\n",
       "      <th>...</th>\n",
       "      <td>...</td>\n",
       "      <td>...</td>\n",
       "      <td>...</td>\n",
       "      <td>...</td>\n",
       "      <td>...</td>\n",
       "      <td>...</td>\n",
       "      <td>...</td>\n",
       "      <td>...</td>\n",
       "      <td>...</td>\n",
       "      <td>...</td>\n",
       "      <td>...</td>\n",
       "      <td>...</td>\n",
       "      <td>...</td>\n",
       "      <td>...</td>\n",
       "      <td>...</td>\n",
       "      <td>...</td>\n",
       "      <td>...</td>\n",
       "    </tr>\n",
       "    <tr>\n",
       "      <th>110000</th>\n",
       "      <td>2021-01-04 21:57:51.546</td>\n",
       "      <td>1.22513</td>\n",
       "      <td>1.22518</td>\n",
       "      <td>1.225155</td>\n",
       "      <td>1.225164</td>\n",
       "      <td>1.225081</td>\n",
       "      <td>1.224892</td>\n",
       "      <td>15.752647</td>\n",
       "      <td>NaN</td>\n",
       "      <td>NaN</td>\n",
       "      <td>0.000655</td>\n",
       "      <td>1.225235</td>\n",
       "      <td>1.224580</td>\n",
       "      <td>0.000343</td>\n",
       "      <td>0.000312</td>\n",
       "      <td>1.225145</td>\n",
       "      <td>1.224305</td>\n",
       "    </tr>\n",
       "    <tr>\n",
       "      <th>110500</th>\n",
       "      <td>2021-01-04 22:26:12.706</td>\n",
       "      <td>1.22497</td>\n",
       "      <td>1.22510</td>\n",
       "      <td>1.225035</td>\n",
       "      <td>1.225060</td>\n",
       "      <td>1.225031</td>\n",
       "      <td>1.225032</td>\n",
       "      <td>29.827649</td>\n",
       "      <td>NaN</td>\n",
       "      <td>NaN</td>\n",
       "      <td>0.000840</td>\n",
       "      <td>1.225285</td>\n",
       "      <td>1.224445</td>\n",
       "      <td>0.000253</td>\n",
       "      <td>0.000587</td>\n",
       "      <td>1.225141</td>\n",
       "      <td>1.224786</td>\n",
       "    </tr>\n",
       "    <tr>\n",
       "      <th>111000</th>\n",
       "      <td>2021-01-04 23:06:52.957</td>\n",
       "      <td>1.22473</td>\n",
       "      <td>1.22478</td>\n",
       "      <td>1.224755</td>\n",
       "      <td>1.224868</td>\n",
       "      <td>1.224933</td>\n",
       "      <td>1.224976</td>\n",
       "      <td>5.493366</td>\n",
       "      <td>NaN</td>\n",
       "      <td>NaN</td>\n",
       "      <td>0.000355</td>\n",
       "      <td>1.225085</td>\n",
       "      <td>1.224730</td>\n",
       "      <td>0.000109</td>\n",
       "      <td>0.000246</td>\n",
       "      <td>1.225261</td>\n",
       "      <td>1.224631</td>\n",
       "    </tr>\n",
       "    <tr>\n",
       "      <th>111500</th>\n",
       "      <td>2021-01-04 23:29:41.370</td>\n",
       "      <td>1.22483</td>\n",
       "      <td>1.22489</td>\n",
       "      <td>1.224860</td>\n",
       "      <td>1.225052</td>\n",
       "      <td>1.225106</td>\n",
       "      <td>1.225075</td>\n",
       "      <td>2.478708</td>\n",
       "      <td>NaN</td>\n",
       "      <td>NaN</td>\n",
       "      <td>0.000630</td>\n",
       "      <td>1.225360</td>\n",
       "      <td>1.224730</td>\n",
       "      <td>0.000285</td>\n",
       "      <td>0.000345</td>\n",
       "      <td>1.225200</td>\n",
       "      <td>1.224695</td>\n",
       "    </tr>\n",
       "    <tr>\n",
       "      <th>112000</th>\n",
       "      <td>2021-01-04 23:47:06.696</td>\n",
       "      <td>1.22515</td>\n",
       "      <td>1.22520</td>\n",
       "      <td>1.225175</td>\n",
       "      <td>1.225199</td>\n",
       "      <td>1.225185</td>\n",
       "      <td>1.225160</td>\n",
       "      <td>9.517676</td>\n",
       "      <td>NaN</td>\n",
       "      <td>NaN</td>\n",
       "      <td>0.000505</td>\n",
       "      <td>1.225285</td>\n",
       "      <td>1.224780</td>\n",
       "      <td>0.000125</td>\n",
       "      <td>0.000380</td>\n",
       "      <td>NaN</td>\n",
       "      <td>NaN</td>\n",
       "    </tr>\n",
       "  </tbody>\n",
       "</table>\n",
       "<p>224 rows × 17 columns</p>\n",
       "</div>"
      ],
      "text/plain": [
       "                 DateTime_frmt      Bid      Ask      tick      sema  \\\n",
       "500    2021-01-03 23:20:23.127  1.22337  1.22340  1.223385  1.223639   \n",
       "1000   2021-01-03 23:31:31.292  1.22417  1.22423  1.224200  1.224034   \n",
       "1500   2021-01-03 23:41:26.210  1.22459  1.22464  1.224615  1.224458   \n",
       "2000   2021-01-03 23:48:00.812  1.22492  1.22498  1.224950  1.224657   \n",
       "2500   2021-01-03 23:54:38.115  1.22486  1.22490  1.224880  1.225079   \n",
       "...                        ...      ...      ...       ...       ...   \n",
       "110000 2021-01-04 21:57:51.546  1.22513  1.22518  1.225155  1.225164   \n",
       "110500 2021-01-04 22:26:12.706  1.22497  1.22510  1.225035  1.225060   \n",
       "111000 2021-01-04 23:06:52.957  1.22473  1.22478  1.224755  1.224868   \n",
       "111500 2021-01-04 23:29:41.370  1.22483  1.22489  1.224860  1.225052   \n",
       "112000 2021-01-04 23:47:06.696  1.22515  1.22520  1.225175  1.225199   \n",
       "\n",
       "           slema      lema  tick_angle   h   l   h_l_gap     h_avg     l_avg  \\\n",
       "500     1.223712  1.223744   16.449510 NaN NaN  0.000635  1.224035  1.223400   \n",
       "1000    1.223884  1.223798   -4.114148 NaN NaN  0.000865  1.224245  1.223380   \n",
       "1500    1.224406  1.224233   31.275479 NaN NaN  0.000500  1.224660  1.224160   \n",
       "2000    1.224645  1.224574   39.117761 NaN NaN  0.000575  1.224945  1.224370   \n",
       "2500    1.225058  1.224938   33.544417 NaN NaN  0.000465  1.225280  1.224815   \n",
       "...          ...       ...         ...  ..  ..       ...       ...       ...   \n",
       "110000  1.225081  1.224892   15.752647 NaN NaN  0.000655  1.225235  1.224580   \n",
       "110500  1.225031  1.225032   29.827649 NaN NaN  0.000840  1.225285  1.224445   \n",
       "111000  1.224933  1.224976    5.493366 NaN NaN  0.000355  1.225085  1.224730   \n",
       "111500  1.225106  1.225075    2.478708 NaN NaN  0.000630  1.225360  1.224730   \n",
       "112000  1.225185  1.225160    9.517676 NaN NaN  0.000505  1.225285  1.224780   \n",
       "\n",
       "           h_gap     l_gap    h_lema    l_lema  \n",
       "500     0.000291  0.000344  1.224191  1.223326  \n",
       "1000    0.000447  0.000418  1.224225  1.223725  \n",
       "1500    0.000427  0.000073  1.224604  1.224029  \n",
       "2000    0.000371  0.000204  1.224916  1.224451  \n",
       "2500    0.000342  0.000123  1.225066  1.224721  \n",
       "...          ...       ...       ...       ...  \n",
       "110000  0.000343  0.000312  1.225145  1.224305  \n",
       "110500  0.000253  0.000587  1.225141  1.224786  \n",
       "111000  0.000109  0.000246  1.225261  1.224631  \n",
       "111500  0.000285  0.000345  1.225200  1.224695  \n",
       "112000  0.000125  0.000380       NaN       NaN  \n",
       "\n",
       "[224 rows x 17 columns]"
      ]
     },
     "execution_count": 8,
     "metadata": {},
     "output_type": "execute_result"
    }
   ],
   "source": [
    "data['df'][data['df']['h_l_gap'].notnull()]"
   ]
  },
  {
   "cell_type": "code",
   "execution_count": 9,
   "metadata": {},
   "outputs": [
    {
     "data": {
      "text/html": [
       "<div>\n",
       "<style scoped>\n",
       "    .dataframe tbody tr th:only-of-type {\n",
       "        vertical-align: middle;\n",
       "    }\n",
       "\n",
       "    .dataframe tbody tr th {\n",
       "        vertical-align: top;\n",
       "    }\n",
       "\n",
       "    .dataframe thead th {\n",
       "        text-align: right;\n",
       "    }\n",
       "</style>\n",
       "<table border=\"1\" class=\"dataframe\">\n",
       "  <thead>\n",
       "    <tr style=\"text-align: right;\">\n",
       "      <th></th>\n",
       "      <th>DateTime_frmt</th>\n",
       "      <th>Bid</th>\n",
       "      <th>Ask</th>\n",
       "      <th>tick</th>\n",
       "      <th>sema</th>\n",
       "      <th>slema</th>\n",
       "      <th>lema</th>\n",
       "      <th>tick_angle</th>\n",
       "      <th>h</th>\n",
       "      <th>l</th>\n",
       "      <th>h_l_gap</th>\n",
       "      <th>h_avg</th>\n",
       "      <th>l_avg</th>\n",
       "      <th>h_gap</th>\n",
       "      <th>l_gap</th>\n",
       "      <th>h_lema</th>\n",
       "      <th>l_lema</th>\n",
       "    </tr>\n",
       "  </thead>\n",
       "  <tbody>\n",
       "    <tr>\n",
       "      <th>498</th>\n",
       "      <td>2021-01-03 23:20:22.975</td>\n",
       "      <td>1.22339</td>\n",
       "      <td>1.22344</td>\n",
       "      <td>1.223415</td>\n",
       "      <td>1.223644</td>\n",
       "      <td>1.223715</td>\n",
       "      <td>1.223746</td>\n",
       "      <td>16.514561</td>\n",
       "      <td>NaN</td>\n",
       "      <td>NaN</td>\n",
       "      <td>NaN</td>\n",
       "      <td>NaN</td>\n",
       "      <td>NaN</td>\n",
       "      <td>NaN</td>\n",
       "      <td>NaN</td>\n",
       "      <td>1.224037</td>\n",
       "      <td>1.223402</td>\n",
       "    </tr>\n",
       "    <tr>\n",
       "      <th>499</th>\n",
       "      <td>2021-01-03 23:20:23.076</td>\n",
       "      <td>1.22337</td>\n",
       "      <td>1.22343</td>\n",
       "      <td>1.223400</td>\n",
       "      <td>1.223642</td>\n",
       "      <td>1.223714</td>\n",
       "      <td>1.223745</td>\n",
       "      <td>16.482269</td>\n",
       "      <td>NaN</td>\n",
       "      <td>1.22340</td>\n",
       "      <td>NaN</td>\n",
       "      <td>NaN</td>\n",
       "      <td>NaN</td>\n",
       "      <td>NaN</td>\n",
       "      <td>NaN</td>\n",
       "      <td>1.224036</td>\n",
       "      <td>1.223401</td>\n",
       "    </tr>\n",
       "    <tr>\n",
       "      <th>500</th>\n",
       "      <td>2021-01-03 23:20:23.127</td>\n",
       "      <td>1.22337</td>\n",
       "      <td>1.22340</td>\n",
       "      <td>1.223385</td>\n",
       "      <td>1.223639</td>\n",
       "      <td>1.223712</td>\n",
       "      <td>1.223744</td>\n",
       "      <td>16.449510</td>\n",
       "      <td>NaN</td>\n",
       "      <td>NaN</td>\n",
       "      <td>0.000635</td>\n",
       "      <td>1.224035</td>\n",
       "      <td>1.2234</td>\n",
       "      <td>0.000291</td>\n",
       "      <td>0.000344</td>\n",
       "      <td>1.224191</td>\n",
       "      <td>1.223326</td>\n",
       "    </tr>\n",
       "    <tr>\n",
       "      <th>501</th>\n",
       "      <td>2021-01-03 23:20:26.628</td>\n",
       "      <td>1.22338</td>\n",
       "      <td>1.22340</td>\n",
       "      <td>1.223390</td>\n",
       "      <td>1.223637</td>\n",
       "      <td>1.223711</td>\n",
       "      <td>1.223743</td>\n",
       "      <td>16.416285</td>\n",
       "      <td>NaN</td>\n",
       "      <td>NaN</td>\n",
       "      <td>NaN</td>\n",
       "      <td>NaN</td>\n",
       "      <td>NaN</td>\n",
       "      <td>NaN</td>\n",
       "      <td>NaN</td>\n",
       "      <td>1.224190</td>\n",
       "      <td>1.223325</td>\n",
       "    </tr>\n",
       "    <tr>\n",
       "      <th>502</th>\n",
       "      <td>2021-01-03 23:20:26.730</td>\n",
       "      <td>1.22336</td>\n",
       "      <td>1.22340</td>\n",
       "      <td>1.223380</td>\n",
       "      <td>1.223634</td>\n",
       "      <td>1.223709</td>\n",
       "      <td>1.223743</td>\n",
       "      <td>16.383227</td>\n",
       "      <td>NaN</td>\n",
       "      <td>1.22338</td>\n",
       "      <td>NaN</td>\n",
       "      <td>NaN</td>\n",
       "      <td>NaN</td>\n",
       "      <td>NaN</td>\n",
       "      <td>NaN</td>\n",
       "      <td>1.224190</td>\n",
       "      <td>1.223325</td>\n",
       "    </tr>\n",
       "  </tbody>\n",
       "</table>\n",
       "</div>"
      ],
      "text/plain": [
       "              DateTime_frmt      Bid      Ask      tick      sema     slema  \\\n",
       "498 2021-01-03 23:20:22.975  1.22339  1.22344  1.223415  1.223644  1.223715   \n",
       "499 2021-01-03 23:20:23.076  1.22337  1.22343  1.223400  1.223642  1.223714   \n",
       "500 2021-01-03 23:20:23.127  1.22337  1.22340  1.223385  1.223639  1.223712   \n",
       "501 2021-01-03 23:20:26.628  1.22338  1.22340  1.223390  1.223637  1.223711   \n",
       "502 2021-01-03 23:20:26.730  1.22336  1.22340  1.223380  1.223634  1.223709   \n",
       "\n",
       "         lema  tick_angle   h        l   h_l_gap     h_avg   l_avg     h_gap  \\\n",
       "498  1.223746   16.514561 NaN      NaN       NaN       NaN     NaN       NaN   \n",
       "499  1.223745   16.482269 NaN  1.22340       NaN       NaN     NaN       NaN   \n",
       "500  1.223744   16.449510 NaN      NaN  0.000635  1.224035  1.2234  0.000291   \n",
       "501  1.223743   16.416285 NaN      NaN       NaN       NaN     NaN       NaN   \n",
       "502  1.223743   16.383227 NaN  1.22338       NaN       NaN     NaN       NaN   \n",
       "\n",
       "        l_gap    h_lema    l_lema  \n",
       "498       NaN  1.224037  1.223402  \n",
       "499       NaN  1.224036  1.223401  \n",
       "500  0.000344  1.224191  1.223326  \n",
       "501       NaN  1.224190  1.223325  \n",
       "502       NaN  1.224190  1.223325  "
      ]
     },
     "execution_count": 9,
     "metadata": {},
     "output_type": "execute_result"
    }
   ],
   "source": [
    "data['df'][498:503]"
   ]
  },
  {
   "cell_type": "markdown",
   "metadata": {},
   "source": [
    "data['df']['h_lema'] = data['df']['lema'] + data['df']['h_avg']\n",
    "data['df']['l_lema'] = data['df']['lema'] - data['df']['l_avg']"
   ]
  },
  {
   "cell_type": "code",
   "execution_count": 10,
   "metadata": {},
   "outputs": [],
   "source": [
    "plotly_graph(data)"
   ]
  },
  {
   "cell_type": "code",
   "execution_count": 11,
   "metadata": {},
   "outputs": [],
   "source": [
    "i = 5000\n",
    "temp = data['df']['h'][500:1000]"
   ]
  },
  {
   "cell_type": "code",
   "execution_count": 12,
   "metadata": {},
   "outputs": [
    {
     "data": {
      "text/plain": [
       "979    1.224245\n",
       "Name: h, dtype: float64"
      ]
     },
     "execution_count": 12,
     "metadata": {},
     "output_type": "execute_result"
    }
   ],
   "source": [
    "temp.dropna()"
   ]
  },
  {
   "cell_type": "code",
   "execution_count": 13,
   "metadata": {},
   "outputs": [
    {
     "ename": "SystemExit",
     "evalue": "",
     "output_type": "error",
     "traceback": [
      "An exception has occurred, use %tb to see the full traceback.\n",
      "\u001b[1;31mSystemExit\u001b[0m\n"
     ]
    }
   ],
   "source": [
    "sys.exit()"
   ]
  },
  {
   "cell_type": "code",
   "execution_count": null,
   "metadata": {},
   "outputs": [],
   "source": [
    "def roll_mean(h_l_list):\n",
    "    new_list = h_l_list.dropna()\n",
    "    list_mean = new_list\n",
    "    return(list_mean)"
   ]
  },
  {
   "cell_type": "code",
   "execution_count": null,
   "metadata": {},
   "outputs": [],
   "source": [
    "temp = data['df']['h'].rolling(window=10).progress_apply(roll_mean)"
   ]
  },
  {
   "cell_type": "code",
   "execution_count": null,
   "metadata": {},
   "outputs": [],
   "source": [
    "temp = data['df']['h'].rolling(5).mean()"
   ]
  },
  {
   "cell_type": "code",
   "execution_count": null,
   "metadata": {},
   "outputs": [],
   "source": [
    "temp = data['df']['h']"
   ]
  },
  {
   "cell_type": "code",
   "execution_count": null,
   "metadata": {},
   "outputs": [],
   "source": [
    "data['df']['h'][0]"
   ]
  },
  {
   "cell_type": "code",
   "execution_count": null,
   "metadata": {
    "scrolled": true
   },
   "outputs": [],
   "source": [
    "for i in temp:\n",
    "    if not math.isnan(i):\n",
    "        print(i)"
   ]
  },
  {
   "cell_type": "code",
   "execution_count": null,
   "metadata": {},
   "outputs": [],
   "source": [
    "for i in range(len(data['df'])):\n",
    "    if i % data['']\n",
    "    \n",
    "    \n",
    "    print(i)\n",
    "    if i > 5:\n",
    "        break"
   ]
  },
  {
   "cell_type": "code",
   "execution_count": null,
   "metadata": {
    "scrolled": true
   },
   "outputs": [],
   "source": [
    "for i in data['df']['h']:\n",
    "    if not math.isnan(i):\n",
    "        print(i)"
   ]
  },
  {
   "cell_type": "code",
   "execution_count": null,
   "metadata": {},
   "outputs": [],
   "source": [
    "data['df']['h'][127:130]"
   ]
  },
  {
   "cell_type": "code",
   "execution_count": null,
   "metadata": {},
   "outputs": [],
   "source": [
    "data['df']['h'][0:500].mean()"
   ]
  },
  {
   "cell_type": "code",
   "execution_count": null,
   "metadata": {},
   "outputs": [],
   "source": [
    "data['df']['h'][500:1000].mean()"
   ]
  },
  {
   "cell_type": "code",
   "execution_count": null,
   "metadata": {},
   "outputs": [],
   "source": [
    "data['df']['h'][125:130]"
   ]
  },
  {
   "cell_type": "code",
   "execution_count": null,
   "metadata": {},
   "outputs": [],
   "source": [
    "temp[125:130]"
   ]
  },
  {
   "cell_type": "code",
   "execution_count": null,
   "metadata": {},
   "outputs": [],
   "source": [
    "df = pd.DataFrame()"
   ]
  },
  {
   "cell_type": "code",
   "execution_count": null,
   "metadata": {},
   "outputs": [],
   "source": [
    "df['l'] = pd.Series(dtype='float')"
   ]
  },
  {
   "cell_type": "code",
   "execution_count": null,
   "metadata": {},
   "outputs": [],
   "source": [
    "df['l'] = np.nan"
   ]
  },
  {
   "cell_type": "code",
   "execution_count": null,
   "metadata": {},
   "outputs": [],
   "source": [
    "df['l'].loc[0] = 1"
   ]
  },
  {
   "cell_type": "code",
   "execution_count": null,
   "metadata": {},
   "outputs": [],
   "source": [
    "df['l'].loc[1] = 2\n",
    "df['l'].loc[3] = 3\n",
    "df['l'].loc[4] = 4"
   ]
  },
  {
   "cell_type": "code",
   "execution_count": null,
   "metadata": {},
   "outputs": [],
   "source": [
    "df"
   ]
  },
  {
   "cell_type": "code",
   "execution_count": null,
   "metadata": {},
   "outputs": [],
   "source": [
    "l = pd.Series([0, '', 1,2,3])"
   ]
  },
  {
   "cell_type": "code",
   "execution_count": null,
   "metadata": {},
   "outputs": [],
   "source": [
    "l"
   ]
  },
  {
   "cell_type": "code",
   "execution_count": null,
   "metadata": {},
   "outputs": [],
   "source": [
    "l1"
   ]
  },
  {
   "cell_type": "code",
   "execution_count": null,
   "metadata": {},
   "outputs": [],
   "source": [
    "l = l.fillna(method='ffill')"
   ]
  },
  {
   "cell_type": "code",
   "execution_count": null,
   "metadata": {
    "scrolled": true
   },
   "outputs": [],
   "source": [
    "l.mean()"
   ]
  },
  {
   "cell_type": "code",
   "execution_count": null,
   "metadata": {
    "scrolled": true
   },
   "outputs": [],
   "source": [
    "l.rolling(3).mean()"
   ]
  },
  {
   "cell_type": "code",
   "execution_count": null,
   "metadata": {},
   "outputs": [],
   "source": []
  },
  {
   "cell_type": "code",
   "execution_count": null,
   "metadata": {},
   "outputs": [],
   "source": [
    "data['df'][495:510]"
   ]
  },
  {
   "cell_type": "code",
   "execution_count": null,
   "metadata": {},
   "outputs": [],
   "source": [
    "data['df'].to_csv('data/temp.csv')"
   ]
  },
  {
   "cell_type": "code",
   "execution_count": null,
   "metadata": {},
   "outputs": [],
   "source": [
    "i = 1501\n",
    "data['df']['h'].loc[i - data['candle_size'] : i-1].dropna().mean()"
   ]
  },
  {
   "cell_type": "code",
   "execution_count": null,
   "metadata": {
    "scrolled": false
   },
   "outputs": [],
   "source": [
    "data = run_engine(data)"
   ]
  },
  {
   "cell_type": "code",
   "execution_count": null,
   "metadata": {},
   "outputs": [],
   "source": [
    "data['temp_df']['open_order'] = data['open_order_temp_list']\n",
    "data['temp_df']['pl'] = data['pl_temp_list'] \n",
    "data['temp_df'].to_csv('data/temp.csv')"
   ]
  },
  {
   "cell_type": "code",
   "execution_count": null,
   "metadata": {},
   "outputs": [],
   "source": [
    "min(data['temp_df']['pl'])"
   ]
  },
  {
   "cell_type": "code",
   "execution_count": null,
   "metadata": {},
   "outputs": [],
   "source": [
    "max(data['temp_df']['pl'])"
   ]
  },
  {
   "cell_type": "code",
   "execution_count": null,
   "metadata": {},
   "outputs": [],
   "source": [
    "max(data['temp_df']['open_order'])"
   ]
  },
  {
   "cell_type": "code",
   "execution_count": null,
   "metadata": {},
   "outputs": [],
   "source": [
    "data['dt_val']"
   ]
  },
  {
   "cell_type": "code",
   "execution_count": null,
   "metadata": {
    "scrolled": false
   },
   "outputs": [],
   "source": [
    "data['orders_list']"
   ]
  },
  {
   "cell_type": "code",
   "execution_count": null,
   "metadata": {
    "scrolled": false
   },
   "outputs": [],
   "source": [
    "if data[\"plot\"]:\n",
    "    data = adjust_plot_list_lengths(data)\n",
    "    plot_graph(data)\n",
    "    \n",
    "print('-----------------------------------------------------')\n",
    "print_report(data)\n",
    "print('-----------------------------------------------------')\n",
    "print(data['report_df'].groupby(['month_val'])['pls'].sum())\n",
    "print('-----------------------------------------------------')\n",
    "print(data['report_df']['close_type'].value_counts())\n",
    "print('-----------------------------------------------------')\n",
    "winsound.PlaySound('C:\\\\Windows\\\\Media\\\\tada.wav', winsound.SND_ASYNC)"
   ]
  },
  {
   "cell_type": "code",
   "execution_count": null,
   "metadata": {},
   "outputs": [],
   "source": [
    "data['report_df'].groupby(['date_val'])['pls'].sum()"
   ]
  },
  {
   "cell_type": "code",
   "execution_count": null,
   "metadata": {
    "scrolled": false
   },
   "outputs": [],
   "source": [
    "winsound.PlaySound('C:\\\\Windows\\\\Media\\\\tada.wav', winsound.SND_ASYNC)\n",
    "send_telegram_message(f'Run Complete : {data[\"df_name\"]}')"
   ]
  },
  {
   "cell_type": "code",
   "execution_count": null,
   "metadata": {},
   "outputs": [],
   "source": [
    "data['report_df'].groupby(['close_type'])['pls'].count()"
   ]
  },
  {
   "cell_type": "code",
   "execution_count": null,
   "metadata": {},
   "outputs": [],
   "source": [
    "data['report_df'].groupby(['close_type'])['pls'].mean()"
   ]
  },
  {
   "cell_type": "code",
   "execution_count": null,
   "metadata": {},
   "outputs": [],
   "source": [
    "data['report_df'].groupby(['close_type'])['pls'].sum()"
   ]
  },
  {
   "cell_type": "code",
   "execution_count": null,
   "metadata": {},
   "outputs": [],
   "source": [
    "data['report_df'].groupby(['close_type'])['pls'].count()"
   ]
  },
  {
   "cell_type": "code",
   "execution_count": null,
   "metadata": {},
   "outputs": [],
   "source": [
    "x = np.round(data['report_df'].groupby(['month_val', 'date_val'])['pls'].sum().values.mean(),4)\n",
    "print(f'Average pips per day : {x}')"
   ]
  },
  {
   "cell_type": "code",
   "execution_count": null,
   "metadata": {},
   "outputs": [],
   "source": [
    "x = data['report_df'].groupby(['month_val', 'date_val'])['pls'].count().values.mean()\n",
    "print(f'Average orders per day : {x}')"
   ]
  },
  {
   "cell_type": "code",
   "execution_count": null,
   "metadata": {},
   "outputs": [],
   "source": [
    "data['report_df'].groupby(['date'])['date'].count().value_counts().sort_values(ascending=False)"
   ]
  },
  {
   "cell_type": "code",
   "execution_count": null,
   "metadata": {},
   "outputs": [],
   "source": [
    "data['report_df']['duration'].sort_values(ascending=False)"
   ]
  }
 ],
 "metadata": {
  "kernelspec": {
   "display_name": "Python 3",
   "language": "python",
   "name": "python3"
  },
  "language_info": {
   "codemirror_mode": {
    "name": "ipython",
    "version": 3
   },
   "file_extension": ".py",
   "mimetype": "text/x-python",
   "name": "python",
   "nbconvert_exporter": "python",
   "pygments_lexer": "ipython3",
   "version": "3.6.6"
  }
 },
 "nbformat": 4,
 "nbformat_minor": 4
}
