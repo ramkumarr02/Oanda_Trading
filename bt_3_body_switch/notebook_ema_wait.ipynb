{
 "cells": [
  {
   "cell_type": "markdown",
   "metadata": {},
   "source": [
    "# ML Trader"
   ]
  },
  {
   "cell_type": "code",
   "execution_count": 1,
   "metadata": {
    "scrolled": true
   },
   "outputs": [],
   "source": [
    "from utils.packages import *\n",
    "from utils.variables import *\n",
    "from utils.i_o import *\n",
    "from utils.dir_slope import *\n",
    "from utils.engine import *\n",
    "from utils.loops import *\n",
    "from utils.order import *\n",
    "import winsound"
   ]
  },
  {
   "cell_type": "code",
   "execution_count": 2,
   "metadata": {},
   "outputs": [
    {
     "name": "stdout",
     "output_type": "stream",
     "text": [
      "Wall time: 998 µs\n"
     ]
    }
   ],
   "source": [
    "%%time\n",
    "data = get_date_list(data)"
   ]
  },
  {
   "cell_type": "code",
   "execution_count": 3,
   "metadata": {},
   "outputs": [
    {
     "name": "stdout",
     "output_type": "stream",
     "text": [
      "Record num : 10000\n",
      "Wall time: 21.1 s\n"
     ]
    }
   ],
   "source": [
    "%%time\n",
    "data = get_rolling_emas(data)"
   ]
  },
  {
   "cell_type": "code",
   "execution_count": 4,
   "metadata": {},
   "outputs": [],
   "source": [
    "data['df']['DateTime_frmt']   = [dt.datetime.strptime(x,\"%Y%m%d %H:%M:%S.%f\") for x in data[\"df\"]['DateTime']]\n",
    "data['df'] = data['df'][['DateTime_frmt', 'Bid', 'Ask', 'tick', 'sema', 'slema', 'lema', 'tick_angle']]"
   ]
  },
  {
   "cell_type": "code",
   "execution_count": 5,
   "metadata": {},
   "outputs": [
    {
     "name": "stderr",
     "output_type": "stream",
     "text": [
      "100%|████████████████████████████████| 10000/10000 [00:00<00:00, 453286.36it/s]\n"
     ]
    }
   ],
   "source": [
    "data = get_hl(data)"
   ]
  },
  {
   "cell_type": "code",
   "execution_count": 6,
   "metadata": {},
   "outputs": [
    {
     "name": "stderr",
     "output_type": "stream",
     "text": [
      "100%|███████████████████████████████████| 10000/10000 [00:12<00:00, 828.45it/s]\n"
     ]
    }
   ],
   "source": [
    "data = get_h_avg(data)"
   ]
  },
  {
   "cell_type": "code",
   "execution_count": 7,
   "metadata": {},
   "outputs": [
    {
     "data": {
      "text/html": [
       "<div>\n",
       "<style scoped>\n",
       "    .dataframe tbody tr th:only-of-type {\n",
       "        vertical-align: middle;\n",
       "    }\n",
       "\n",
       "    .dataframe tbody tr th {\n",
       "        vertical-align: top;\n",
       "    }\n",
       "\n",
       "    .dataframe thead th {\n",
       "        text-align: right;\n",
       "    }\n",
       "</style>\n",
       "<table border=\"1\" class=\"dataframe\">\n",
       "  <thead>\n",
       "    <tr style=\"text-align: right;\">\n",
       "      <th></th>\n",
       "      <th>DateTime_frmt</th>\n",
       "      <th>Bid</th>\n",
       "      <th>Ask</th>\n",
       "      <th>tick</th>\n",
       "      <th>sema</th>\n",
       "      <th>slema</th>\n",
       "      <th>lema</th>\n",
       "      <th>tick_angle</th>\n",
       "      <th>h</th>\n",
       "      <th>l</th>\n",
       "      <th>h_l_gap</th>\n",
       "      <th>h_avg</th>\n",
       "      <th>l_avg</th>\n",
       "      <th>h_gap</th>\n",
       "      <th>l_gap</th>\n",
       "      <th>h_lema</th>\n",
       "      <th>l_lema</th>\n",
       "    </tr>\n",
       "  </thead>\n",
       "  <tbody>\n",
       "    <tr>\n",
       "      <th>0</th>\n",
       "      <td>2021-01-03 23:13:08.820</td>\n",
       "      <td>1.22379</td>\n",
       "      <td>1.22386</td>\n",
       "      <td>1.223825</td>\n",
       "      <td>1.223818</td>\n",
       "      <td>1.223775</td>\n",
       "      <td>1.223707</td>\n",
       "      <td>17.814052</td>\n",
       "      <td>NaN</td>\n",
       "      <td>NaN</td>\n",
       "      <td>NaN</td>\n",
       "      <td>NaN</td>\n",
       "      <td>NaN</td>\n",
       "      <td>NaN</td>\n",
       "      <td>NaN</td>\n",
       "      <td>NaN</td>\n",
       "      <td>NaN</td>\n",
       "    </tr>\n",
       "    <tr>\n",
       "      <th>1</th>\n",
       "      <td>2021-01-03 23:13:08.922</td>\n",
       "      <td>1.22379</td>\n",
       "      <td>1.22388</td>\n",
       "      <td>1.223835</td>\n",
       "      <td>1.223818</td>\n",
       "      <td>1.223775</td>\n",
       "      <td>1.223708</td>\n",
       "      <td>17.844068</td>\n",
       "      <td>NaN</td>\n",
       "      <td>NaN</td>\n",
       "      <td>NaN</td>\n",
       "      <td>NaN</td>\n",
       "      <td>NaN</td>\n",
       "      <td>NaN</td>\n",
       "      <td>NaN</td>\n",
       "      <td>NaN</td>\n",
       "      <td>NaN</td>\n",
       "    </tr>\n",
       "  </tbody>\n",
       "</table>\n",
       "</div>"
      ],
      "text/plain": [
       "            DateTime_frmt      Bid      Ask      tick      sema     slema  \\\n",
       "0 2021-01-03 23:13:08.820  1.22379  1.22386  1.223825  1.223818  1.223775   \n",
       "1 2021-01-03 23:13:08.922  1.22379  1.22388  1.223835  1.223818  1.223775   \n",
       "\n",
       "       lema  tick_angle   h   l  h_l_gap  h_avg  l_avg  h_gap  l_gap  h_lema  \\\n",
       "0  1.223707   17.814052 NaN NaN      NaN    NaN    NaN    NaN    NaN     NaN   \n",
       "1  1.223708   17.844068 NaN NaN      NaN    NaN    NaN    NaN    NaN     NaN   \n",
       "\n",
       "   l_lema  \n",
       "0     NaN  \n",
       "1     NaN  "
      ]
     },
     "execution_count": 7,
     "metadata": {},
     "output_type": "execute_result"
    }
   ],
   "source": [
    "data['df'].head(2)"
   ]
  },
  {
   "cell_type": "code",
   "execution_count": 8,
   "metadata": {},
   "outputs": [
    {
     "data": {
      "text/html": [
       "<div>\n",
       "<style scoped>\n",
       "    .dataframe tbody tr th:only-of-type {\n",
       "        vertical-align: middle;\n",
       "    }\n",
       "\n",
       "    .dataframe tbody tr th {\n",
       "        vertical-align: top;\n",
       "    }\n",
       "\n",
       "    .dataframe thead th {\n",
       "        text-align: right;\n",
       "    }\n",
       "</style>\n",
       "<table border=\"1\" class=\"dataframe\">\n",
       "  <thead>\n",
       "    <tr style=\"text-align: right;\">\n",
       "      <th></th>\n",
       "      <th>DateTime_frmt</th>\n",
       "      <th>Bid</th>\n",
       "      <th>Ask</th>\n",
       "      <th>tick</th>\n",
       "      <th>sema</th>\n",
       "      <th>slema</th>\n",
       "      <th>lema</th>\n",
       "      <th>tick_angle</th>\n",
       "      <th>h</th>\n",
       "      <th>l</th>\n",
       "      <th>h_l_gap</th>\n",
       "      <th>h_avg</th>\n",
       "      <th>l_avg</th>\n",
       "      <th>h_gap</th>\n",
       "      <th>l_gap</th>\n",
       "      <th>h_lema</th>\n",
       "      <th>l_lema</th>\n",
       "    </tr>\n",
       "  </thead>\n",
       "  <tbody>\n",
       "    <tr>\n",
       "      <th>500</th>\n",
       "      <td>2021-01-03 23:20:23.127</td>\n",
       "      <td>1.22337</td>\n",
       "      <td>1.22340</td>\n",
       "      <td>1.223385</td>\n",
       "      <td>1.223639</td>\n",
       "      <td>1.223712</td>\n",
       "      <td>1.223744</td>\n",
       "      <td>16.449510</td>\n",
       "      <td>NaN</td>\n",
       "      <td>NaN</td>\n",
       "      <td>0.000635</td>\n",
       "      <td>NaN</td>\n",
       "      <td>NaN</td>\n",
       "      <td>NaN</td>\n",
       "      <td>NaN</td>\n",
       "      <td>NaN</td>\n",
       "      <td>NaN</td>\n",
       "    </tr>\n",
       "    <tr>\n",
       "      <th>1000</th>\n",
       "      <td>2021-01-03 23:31:31.292</td>\n",
       "      <td>1.22417</td>\n",
       "      <td>1.22423</td>\n",
       "      <td>1.224200</td>\n",
       "      <td>1.224034</td>\n",
       "      <td>1.223884</td>\n",
       "      <td>1.223798</td>\n",
       "      <td>-4.114148</td>\n",
       "      <td>NaN</td>\n",
       "      <td>NaN</td>\n",
       "      <td>0.000865</td>\n",
       "      <td>NaN</td>\n",
       "      <td>NaN</td>\n",
       "      <td>NaN</td>\n",
       "      <td>NaN</td>\n",
       "      <td>NaN</td>\n",
       "      <td>NaN</td>\n",
       "    </tr>\n",
       "    <tr>\n",
       "      <th>1500</th>\n",
       "      <td>2021-01-03 23:41:26.210</td>\n",
       "      <td>1.22459</td>\n",
       "      <td>1.22464</td>\n",
       "      <td>1.224615</td>\n",
       "      <td>1.224458</td>\n",
       "      <td>1.224406</td>\n",
       "      <td>1.224233</td>\n",
       "      <td>31.275479</td>\n",
       "      <td>NaN</td>\n",
       "      <td>NaN</td>\n",
       "      <td>0.000500</td>\n",
       "      <td>NaN</td>\n",
       "      <td>NaN</td>\n",
       "      <td>NaN</td>\n",
       "      <td>NaN</td>\n",
       "      <td>NaN</td>\n",
       "      <td>NaN</td>\n",
       "    </tr>\n",
       "    <tr>\n",
       "      <th>2000</th>\n",
       "      <td>2021-01-03 23:48:00.812</td>\n",
       "      <td>1.22492</td>\n",
       "      <td>1.22498</td>\n",
       "      <td>1.224950</td>\n",
       "      <td>1.224657</td>\n",
       "      <td>1.224645</td>\n",
       "      <td>1.224574</td>\n",
       "      <td>39.117761</td>\n",
       "      <td>NaN</td>\n",
       "      <td>NaN</td>\n",
       "      <td>0.000575</td>\n",
       "      <td>1.224617</td>\n",
       "      <td>1.223970</td>\n",
       "      <td>0.000043</td>\n",
       "      <td>0.000604</td>\n",
       "      <td>1.224617</td>\n",
       "      <td>1.223970</td>\n",
       "    </tr>\n",
       "    <tr>\n",
       "      <th>2500</th>\n",
       "      <td>2021-01-03 23:54:38.115</td>\n",
       "      <td>1.22486</td>\n",
       "      <td>1.22490</td>\n",
       "      <td>1.224880</td>\n",
       "      <td>1.225079</td>\n",
       "      <td>1.225058</td>\n",
       "      <td>1.224938</td>\n",
       "      <td>33.544417</td>\n",
       "      <td>NaN</td>\n",
       "      <td>NaN</td>\n",
       "      <td>0.000465</td>\n",
       "      <td>1.224962</td>\n",
       "      <td>1.224448</td>\n",
       "      <td>0.000024</td>\n",
       "      <td>0.000490</td>\n",
       "      <td>1.224962</td>\n",
       "      <td>1.224448</td>\n",
       "    </tr>\n",
       "    <tr>\n",
       "      <th>3000</th>\n",
       "      <td>2021-01-04 00:01:45.178</td>\n",
       "      <td>1.22477</td>\n",
       "      <td>1.22479</td>\n",
       "      <td>1.224780</td>\n",
       "      <td>1.224888</td>\n",
       "      <td>1.224919</td>\n",
       "      <td>1.224962</td>\n",
       "      <td>21.578962</td>\n",
       "      <td>NaN</td>\n",
       "      <td>NaN</td>\n",
       "      <td>0.000345</td>\n",
       "      <td>1.225105</td>\n",
       "      <td>1.224643</td>\n",
       "      <td>0.000143</td>\n",
       "      <td>0.000319</td>\n",
       "      <td>1.225105</td>\n",
       "      <td>1.224643</td>\n",
       "    </tr>\n",
       "    <tr>\n",
       "      <th>3500</th>\n",
       "      <td>2021-01-04 00:06:55.676</td>\n",
       "      <td>1.22466</td>\n",
       "      <td>1.22469</td>\n",
       "      <td>1.224675</td>\n",
       "      <td>1.224542</td>\n",
       "      <td>1.224505</td>\n",
       "      <td>1.224614</td>\n",
       "      <td>-21.631184</td>\n",
       "      <td>NaN</td>\n",
       "      <td>NaN</td>\n",
       "      <td>0.000500</td>\n",
       "      <td>1.225053</td>\n",
       "      <td>1.224617</td>\n",
       "      <td>0.000439</td>\n",
       "      <td>-0.000003</td>\n",
       "      <td>1.225053</td>\n",
       "      <td>1.224617</td>\n",
       "    </tr>\n",
       "    <tr>\n",
       "      <th>4000</th>\n",
       "      <td>2021-01-04 00:13:24.966</td>\n",
       "      <td>1.22485</td>\n",
       "      <td>1.22489</td>\n",
       "      <td>1.224870</td>\n",
       "      <td>1.224843</td>\n",
       "      <td>1.224744</td>\n",
       "      <td>1.224650</td>\n",
       "      <td>-19.266426</td>\n",
       "      <td>NaN</td>\n",
       "      <td>NaN</td>\n",
       "      <td>0.000500</td>\n",
       "      <td>1.224935</td>\n",
       "      <td>1.224487</td>\n",
       "      <td>0.000285</td>\n",
       "      <td>0.000163</td>\n",
       "      <td>1.224935</td>\n",
       "      <td>1.224487</td>\n",
       "    </tr>\n",
       "    <tr>\n",
       "      <th>4500</th>\n",
       "      <td>2021-01-04 00:20:27.024</td>\n",
       "      <td>1.22445</td>\n",
       "      <td>1.22450</td>\n",
       "      <td>1.224475</td>\n",
       "      <td>1.224358</td>\n",
       "      <td>1.224396</td>\n",
       "      <td>1.224495</td>\n",
       "      <td>-2.024270</td>\n",
       "      <td>NaN</td>\n",
       "      <td>NaN</td>\n",
       "      <td>0.000715</td>\n",
       "      <td>1.224868</td>\n",
       "      <td>1.224297</td>\n",
       "      <td>0.000373</td>\n",
       "      <td>0.000198</td>\n",
       "      <td>1.224868</td>\n",
       "      <td>1.224297</td>\n",
       "    </tr>\n",
       "    <tr>\n",
       "      <th>5000</th>\n",
       "      <td>2021-01-04 00:28:13.500</td>\n",
       "      <td>1.22460</td>\n",
       "      <td>1.22463</td>\n",
       "      <td>1.224615</td>\n",
       "      <td>1.224591</td>\n",
       "      <td>1.224477</td>\n",
       "      <td>1.224428</td>\n",
       "      <td>-19.039903</td>\n",
       "      <td>1.224615</td>\n",
       "      <td>NaN</td>\n",
       "      <td>0.000675</td>\n",
       "      <td>1.224857</td>\n",
       "      <td>1.224227</td>\n",
       "      <td>0.000429</td>\n",
       "      <td>0.000201</td>\n",
       "      <td>1.224857</td>\n",
       "      <td>1.224227</td>\n",
       "    </tr>\n",
       "    <tr>\n",
       "      <th>5500</th>\n",
       "      <td>2021-01-04 00:37:04.959</td>\n",
       "      <td>1.22402</td>\n",
       "      <td>1.22405</td>\n",
       "      <td>1.224035</td>\n",
       "      <td>1.224181</td>\n",
       "      <td>1.224251</td>\n",
       "      <td>1.224323</td>\n",
       "      <td>-2.993033</td>\n",
       "      <td>NaN</td>\n",
       "      <td>NaN</td>\n",
       "      <td>0.000595</td>\n",
       "      <td>1.224753</td>\n",
       "      <td>1.224092</td>\n",
       "      <td>0.000430</td>\n",
       "      <td>0.000231</td>\n",
       "      <td>1.224753</td>\n",
       "      <td>1.224092</td>\n",
       "    </tr>\n",
       "    <tr>\n",
       "      <th>6000</th>\n",
       "      <td>2021-01-04 00:46:46.263</td>\n",
       "      <td>1.22430</td>\n",
       "      <td>1.22435</td>\n",
       "      <td>1.224325</td>\n",
       "      <td>1.224221</td>\n",
       "      <td>1.224165</td>\n",
       "      <td>1.224180</td>\n",
       "      <td>-19.213552</td>\n",
       "      <td>NaN</td>\n",
       "      <td>NaN</td>\n",
       "      <td>0.000545</td>\n",
       "      <td>1.224597</td>\n",
       "      <td>1.223992</td>\n",
       "      <td>0.000417</td>\n",
       "      <td>0.000188</td>\n",
       "      <td>1.224597</td>\n",
       "      <td>1.223992</td>\n",
       "    </tr>\n",
       "    <tr>\n",
       "      <th>6500</th>\n",
       "      <td>2021-01-04 00:56:45.249</td>\n",
       "      <td>1.22407</td>\n",
       "      <td>1.22412</td>\n",
       "      <td>1.224095</td>\n",
       "      <td>1.224162</td>\n",
       "      <td>1.224185</td>\n",
       "      <td>1.224181</td>\n",
       "      <td>-4.738105</td>\n",
       "      <td>NaN</td>\n",
       "      <td>NaN</td>\n",
       "      <td>0.000350</td>\n",
       "      <td>1.224455</td>\n",
       "      <td>1.223958</td>\n",
       "      <td>0.000274</td>\n",
       "      <td>0.000223</td>\n",
       "      <td>1.224455</td>\n",
       "      <td>1.223958</td>\n",
       "    </tr>\n",
       "    <tr>\n",
       "      <th>7000</th>\n",
       "      <td>2021-01-04 01:03:05.004</td>\n",
       "      <td>1.22413</td>\n",
       "      <td>1.22417</td>\n",
       "      <td>1.224150</td>\n",
       "      <td>1.224123</td>\n",
       "      <td>1.224120</td>\n",
       "      <td>1.224138</td>\n",
       "      <td>-3.074895</td>\n",
       "      <td>NaN</td>\n",
       "      <td>NaN</td>\n",
       "      <td>0.000310</td>\n",
       "      <td>1.224343</td>\n",
       "      <td>1.223942</td>\n",
       "      <td>0.000205</td>\n",
       "      <td>0.000196</td>\n",
       "      <td>1.224343</td>\n",
       "      <td>1.223942</td>\n",
       "    </tr>\n",
       "    <tr>\n",
       "      <th>7500</th>\n",
       "      <td>2021-01-04 01:10:06.929</td>\n",
       "      <td>1.22487</td>\n",
       "      <td>1.22493</td>\n",
       "      <td>1.224900</td>\n",
       "      <td>1.224857</td>\n",
       "      <td>1.224692</td>\n",
       "      <td>1.224484</td>\n",
       "      <td>12.488194</td>\n",
       "      <td>NaN</td>\n",
       "      <td>NaN</td>\n",
       "      <td>0.000935</td>\n",
       "      <td>1.224533</td>\n",
       "      <td>1.224002</td>\n",
       "      <td>0.000049</td>\n",
       "      <td>0.000482</td>\n",
       "      <td>1.224533</td>\n",
       "      <td>1.224002</td>\n",
       "    </tr>\n",
       "    <tr>\n",
       "      <th>8000</th>\n",
       "      <td>2021-01-04 01:16:51.697</td>\n",
       "      <td>1.22474</td>\n",
       "      <td>1.22477</td>\n",
       "      <td>1.224755</td>\n",
       "      <td>1.224780</td>\n",
       "      <td>1.224812</td>\n",
       "      <td>1.224769</td>\n",
       "      <td>38.353378</td>\n",
       "      <td>NaN</td>\n",
       "      <td>NaN</td>\n",
       "      <td>0.000465</td>\n",
       "      <td>1.224772</td>\n",
       "      <td>1.224202</td>\n",
       "      <td>0.000003</td>\n",
       "      <td>0.000567</td>\n",
       "      <td>1.224772</td>\n",
       "      <td>1.224202</td>\n",
       "    </tr>\n",
       "    <tr>\n",
       "      <th>8500</th>\n",
       "      <td>2021-01-04 01:25:02.403</td>\n",
       "      <td>1.22475</td>\n",
       "      <td>1.22481</td>\n",
       "      <td>1.224780</td>\n",
       "      <td>1.224627</td>\n",
       "      <td>1.224618</td>\n",
       "      <td>1.224676</td>\n",
       "      <td>8.487508</td>\n",
       "      <td>NaN</td>\n",
       "      <td>NaN</td>\n",
       "      <td>0.000405</td>\n",
       "      <td>1.224967</td>\n",
       "      <td>1.224365</td>\n",
       "      <td>0.000291</td>\n",
       "      <td>0.000311</td>\n",
       "      <td>1.224967</td>\n",
       "      <td>1.224365</td>\n",
       "    </tr>\n",
       "    <tr>\n",
       "      <th>9000</th>\n",
       "      <td>2021-01-04 01:31:45.465</td>\n",
       "      <td>1.22427</td>\n",
       "      <td>1.22433</td>\n",
       "      <td>1.224300</td>\n",
       "      <td>1.224402</td>\n",
       "      <td>1.224456</td>\n",
       "      <td>1.224520</td>\n",
       "      <td>-14.480395</td>\n",
       "      <td>NaN</td>\n",
       "      <td>NaN</td>\n",
       "      <td>0.000640</td>\n",
       "      <td>1.224922</td>\n",
       "      <td>1.224418</td>\n",
       "      <td>0.000402</td>\n",
       "      <td>0.000102</td>\n",
       "      <td>1.224922</td>\n",
       "      <td>1.224418</td>\n",
       "    </tr>\n",
       "    <tr>\n",
       "      <th>9500</th>\n",
       "      <td>2021-01-04 01:39:04.521</td>\n",
       "      <td>1.22464</td>\n",
       "      <td>1.22466</td>\n",
       "      <td>1.224650</td>\n",
       "      <td>1.224454</td>\n",
       "      <td>1.224375</td>\n",
       "      <td>1.224384</td>\n",
       "      <td>-21.482383</td>\n",
       "      <td>NaN</td>\n",
       "      <td>NaN</td>\n",
       "      <td>0.000505</td>\n",
       "      <td>1.224797</td>\n",
       "      <td>1.224280</td>\n",
       "      <td>0.000413</td>\n",
       "      <td>0.000104</td>\n",
       "      <td>1.224797</td>\n",
       "      <td>1.224280</td>\n",
       "    </tr>\n",
       "  </tbody>\n",
       "</table>\n",
       "</div>"
      ],
      "text/plain": [
       "               DateTime_frmt      Bid      Ask      tick      sema     slema  \\\n",
       "500  2021-01-03 23:20:23.127  1.22337  1.22340  1.223385  1.223639  1.223712   \n",
       "1000 2021-01-03 23:31:31.292  1.22417  1.22423  1.224200  1.224034  1.223884   \n",
       "1500 2021-01-03 23:41:26.210  1.22459  1.22464  1.224615  1.224458  1.224406   \n",
       "2000 2021-01-03 23:48:00.812  1.22492  1.22498  1.224950  1.224657  1.224645   \n",
       "2500 2021-01-03 23:54:38.115  1.22486  1.22490  1.224880  1.225079  1.225058   \n",
       "3000 2021-01-04 00:01:45.178  1.22477  1.22479  1.224780  1.224888  1.224919   \n",
       "3500 2021-01-04 00:06:55.676  1.22466  1.22469  1.224675  1.224542  1.224505   \n",
       "4000 2021-01-04 00:13:24.966  1.22485  1.22489  1.224870  1.224843  1.224744   \n",
       "4500 2021-01-04 00:20:27.024  1.22445  1.22450  1.224475  1.224358  1.224396   \n",
       "5000 2021-01-04 00:28:13.500  1.22460  1.22463  1.224615  1.224591  1.224477   \n",
       "5500 2021-01-04 00:37:04.959  1.22402  1.22405  1.224035  1.224181  1.224251   \n",
       "6000 2021-01-04 00:46:46.263  1.22430  1.22435  1.224325  1.224221  1.224165   \n",
       "6500 2021-01-04 00:56:45.249  1.22407  1.22412  1.224095  1.224162  1.224185   \n",
       "7000 2021-01-04 01:03:05.004  1.22413  1.22417  1.224150  1.224123  1.224120   \n",
       "7500 2021-01-04 01:10:06.929  1.22487  1.22493  1.224900  1.224857  1.224692   \n",
       "8000 2021-01-04 01:16:51.697  1.22474  1.22477  1.224755  1.224780  1.224812   \n",
       "8500 2021-01-04 01:25:02.403  1.22475  1.22481  1.224780  1.224627  1.224618   \n",
       "9000 2021-01-04 01:31:45.465  1.22427  1.22433  1.224300  1.224402  1.224456   \n",
       "9500 2021-01-04 01:39:04.521  1.22464  1.22466  1.224650  1.224454  1.224375   \n",
       "\n",
       "          lema  tick_angle         h   l   h_l_gap     h_avg     l_avg  \\\n",
       "500   1.223744   16.449510       NaN NaN  0.000635       NaN       NaN   \n",
       "1000  1.223798   -4.114148       NaN NaN  0.000865       NaN       NaN   \n",
       "1500  1.224233   31.275479       NaN NaN  0.000500       NaN       NaN   \n",
       "2000  1.224574   39.117761       NaN NaN  0.000575  1.224617  1.223970   \n",
       "2500  1.224938   33.544417       NaN NaN  0.000465  1.224962  1.224448   \n",
       "3000  1.224962   21.578962       NaN NaN  0.000345  1.225105  1.224643   \n",
       "3500  1.224614  -21.631184       NaN NaN  0.000500  1.225053  1.224617   \n",
       "4000  1.224650  -19.266426       NaN NaN  0.000500  1.224935  1.224487   \n",
       "4500  1.224495   -2.024270       NaN NaN  0.000715  1.224868  1.224297   \n",
       "5000  1.224428  -19.039903  1.224615 NaN  0.000675  1.224857  1.224227   \n",
       "5500  1.224323   -2.993033       NaN NaN  0.000595  1.224753  1.224092   \n",
       "6000  1.224180  -19.213552       NaN NaN  0.000545  1.224597  1.223992   \n",
       "6500  1.224181   -4.738105       NaN NaN  0.000350  1.224455  1.223958   \n",
       "7000  1.224138   -3.074895       NaN NaN  0.000310  1.224343  1.223942   \n",
       "7500  1.224484   12.488194       NaN NaN  0.000935  1.224533  1.224002   \n",
       "8000  1.224769   38.353378       NaN NaN  0.000465  1.224772  1.224202   \n",
       "8500  1.224676    8.487508       NaN NaN  0.000405  1.224967  1.224365   \n",
       "9000  1.224520  -14.480395       NaN NaN  0.000640  1.224922  1.224418   \n",
       "9500  1.224384  -21.482383       NaN NaN  0.000505  1.224797  1.224280   \n",
       "\n",
       "         h_gap     l_gap    h_lema    l_lema  \n",
       "500        NaN       NaN       NaN       NaN  \n",
       "1000       NaN       NaN       NaN       NaN  \n",
       "1500       NaN       NaN       NaN       NaN  \n",
       "2000  0.000043  0.000604  1.224617  1.223970  \n",
       "2500  0.000024  0.000490  1.224962  1.224448  \n",
       "3000  0.000143  0.000319  1.225105  1.224643  \n",
       "3500  0.000439 -0.000003  1.225053  1.224617  \n",
       "4000  0.000285  0.000163  1.224935  1.224487  \n",
       "4500  0.000373  0.000198  1.224868  1.224297  \n",
       "5000  0.000429  0.000201  1.224857  1.224227  \n",
       "5500  0.000430  0.000231  1.224753  1.224092  \n",
       "6000  0.000417  0.000188  1.224597  1.223992  \n",
       "6500  0.000274  0.000223  1.224455  1.223958  \n",
       "7000  0.000205  0.000196  1.224343  1.223942  \n",
       "7500  0.000049  0.000482  1.224533  1.224002  \n",
       "8000  0.000003  0.000567  1.224772  1.224202  \n",
       "8500  0.000291  0.000311  1.224967  1.224365  \n",
       "9000  0.000402  0.000102  1.224922  1.224418  \n",
       "9500  0.000413  0.000104  1.224797  1.224280  "
      ]
     },
     "execution_count": 8,
     "metadata": {},
     "output_type": "execute_result"
    }
   ],
   "source": [
    "data['df'][data['df']['h_l_gap'].notnull()]"
   ]
  },
  {
   "cell_type": "code",
   "execution_count": 9,
   "metadata": {},
   "outputs": [
    {
     "data": {
      "text/html": [
       "<div>\n",
       "<style scoped>\n",
       "    .dataframe tbody tr th:only-of-type {\n",
       "        vertical-align: middle;\n",
       "    }\n",
       "\n",
       "    .dataframe tbody tr th {\n",
       "        vertical-align: top;\n",
       "    }\n",
       "\n",
       "    .dataframe thead th {\n",
       "        text-align: right;\n",
       "    }\n",
       "</style>\n",
       "<table border=\"1\" class=\"dataframe\">\n",
       "  <thead>\n",
       "    <tr style=\"text-align: right;\">\n",
       "      <th></th>\n",
       "      <th>DateTime_frmt</th>\n",
       "      <th>Bid</th>\n",
       "      <th>Ask</th>\n",
       "      <th>tick</th>\n",
       "      <th>sema</th>\n",
       "      <th>slema</th>\n",
       "      <th>lema</th>\n",
       "      <th>tick_angle</th>\n",
       "      <th>h</th>\n",
       "      <th>l</th>\n",
       "      <th>h_l_gap</th>\n",
       "      <th>h_avg</th>\n",
       "      <th>l_avg</th>\n",
       "      <th>h_gap</th>\n",
       "      <th>l_gap</th>\n",
       "      <th>h_lema</th>\n",
       "      <th>l_lema</th>\n",
       "    </tr>\n",
       "  </thead>\n",
       "  <tbody>\n",
       "    <tr>\n",
       "      <th>498</th>\n",
       "      <td>2021-01-03 23:20:22.975</td>\n",
       "      <td>1.22339</td>\n",
       "      <td>1.22344</td>\n",
       "      <td>1.223415</td>\n",
       "      <td>1.223644</td>\n",
       "      <td>1.223715</td>\n",
       "      <td>1.223746</td>\n",
       "      <td>16.514561</td>\n",
       "      <td>NaN</td>\n",
       "      <td>NaN</td>\n",
       "      <td>NaN</td>\n",
       "      <td>NaN</td>\n",
       "      <td>NaN</td>\n",
       "      <td>NaN</td>\n",
       "      <td>NaN</td>\n",
       "      <td>NaN</td>\n",
       "      <td>NaN</td>\n",
       "    </tr>\n",
       "    <tr>\n",
       "      <th>499</th>\n",
       "      <td>2021-01-03 23:20:23.076</td>\n",
       "      <td>1.22337</td>\n",
       "      <td>1.22343</td>\n",
       "      <td>1.223400</td>\n",
       "      <td>1.223642</td>\n",
       "      <td>1.223714</td>\n",
       "      <td>1.223745</td>\n",
       "      <td>16.482269</td>\n",
       "      <td>NaN</td>\n",
       "      <td>1.22340</td>\n",
       "      <td>NaN</td>\n",
       "      <td>NaN</td>\n",
       "      <td>NaN</td>\n",
       "      <td>NaN</td>\n",
       "      <td>NaN</td>\n",
       "      <td>NaN</td>\n",
       "      <td>NaN</td>\n",
       "    </tr>\n",
       "    <tr>\n",
       "      <th>500</th>\n",
       "      <td>2021-01-03 23:20:23.127</td>\n",
       "      <td>1.22337</td>\n",
       "      <td>1.22340</td>\n",
       "      <td>1.223385</td>\n",
       "      <td>1.223639</td>\n",
       "      <td>1.223712</td>\n",
       "      <td>1.223744</td>\n",
       "      <td>16.449510</td>\n",
       "      <td>NaN</td>\n",
       "      <td>NaN</td>\n",
       "      <td>0.000635</td>\n",
       "      <td>NaN</td>\n",
       "      <td>NaN</td>\n",
       "      <td>NaN</td>\n",
       "      <td>NaN</td>\n",
       "      <td>NaN</td>\n",
       "      <td>NaN</td>\n",
       "    </tr>\n",
       "    <tr>\n",
       "      <th>501</th>\n",
       "      <td>2021-01-03 23:20:26.628</td>\n",
       "      <td>1.22338</td>\n",
       "      <td>1.22340</td>\n",
       "      <td>1.223390</td>\n",
       "      <td>1.223637</td>\n",
       "      <td>1.223711</td>\n",
       "      <td>1.223743</td>\n",
       "      <td>16.416285</td>\n",
       "      <td>NaN</td>\n",
       "      <td>NaN</td>\n",
       "      <td>NaN</td>\n",
       "      <td>NaN</td>\n",
       "      <td>NaN</td>\n",
       "      <td>NaN</td>\n",
       "      <td>NaN</td>\n",
       "      <td>NaN</td>\n",
       "      <td>NaN</td>\n",
       "    </tr>\n",
       "    <tr>\n",
       "      <th>502</th>\n",
       "      <td>2021-01-03 23:20:26.730</td>\n",
       "      <td>1.22336</td>\n",
       "      <td>1.22340</td>\n",
       "      <td>1.223380</td>\n",
       "      <td>1.223634</td>\n",
       "      <td>1.223709</td>\n",
       "      <td>1.223743</td>\n",
       "      <td>16.383227</td>\n",
       "      <td>NaN</td>\n",
       "      <td>1.22338</td>\n",
       "      <td>NaN</td>\n",
       "      <td>NaN</td>\n",
       "      <td>NaN</td>\n",
       "      <td>NaN</td>\n",
       "      <td>NaN</td>\n",
       "      <td>NaN</td>\n",
       "      <td>NaN</td>\n",
       "    </tr>\n",
       "  </tbody>\n",
       "</table>\n",
       "</div>"
      ],
      "text/plain": [
       "              DateTime_frmt      Bid      Ask      tick      sema     slema  \\\n",
       "498 2021-01-03 23:20:22.975  1.22339  1.22344  1.223415  1.223644  1.223715   \n",
       "499 2021-01-03 23:20:23.076  1.22337  1.22343  1.223400  1.223642  1.223714   \n",
       "500 2021-01-03 23:20:23.127  1.22337  1.22340  1.223385  1.223639  1.223712   \n",
       "501 2021-01-03 23:20:26.628  1.22338  1.22340  1.223390  1.223637  1.223711   \n",
       "502 2021-01-03 23:20:26.730  1.22336  1.22340  1.223380  1.223634  1.223709   \n",
       "\n",
       "         lema  tick_angle   h        l   h_l_gap  h_avg  l_avg  h_gap  l_gap  \\\n",
       "498  1.223746   16.514561 NaN      NaN       NaN    NaN    NaN    NaN    NaN   \n",
       "499  1.223745   16.482269 NaN  1.22340       NaN    NaN    NaN    NaN    NaN   \n",
       "500  1.223744   16.449510 NaN      NaN  0.000635    NaN    NaN    NaN    NaN   \n",
       "501  1.223743   16.416285 NaN      NaN       NaN    NaN    NaN    NaN    NaN   \n",
       "502  1.223743   16.383227 NaN  1.22338       NaN    NaN    NaN    NaN    NaN   \n",
       "\n",
       "     h_lema  l_lema  \n",
       "498     NaN     NaN  \n",
       "499     NaN     NaN  \n",
       "500     NaN     NaN  \n",
       "501     NaN     NaN  \n",
       "502     NaN     NaN  "
      ]
     },
     "execution_count": 9,
     "metadata": {},
     "output_type": "execute_result"
    }
   ],
   "source": [
    "data['df'][498:503]"
   ]
  },
  {
   "cell_type": "markdown",
   "metadata": {},
   "source": [
    "data['df']['h_lema'] = data['df']['lema'] + data['df']['h_avg']\n",
    "data['df']['l_lema'] = data['df']['lema'] - data['df']['l_avg']"
   ]
  },
  {
   "cell_type": "code",
   "execution_count": 10,
   "metadata": {},
   "outputs": [],
   "source": [
    "plotly_graph(data)"
   ]
  },
  {
   "cell_type": "code",
   "execution_count": 11,
   "metadata": {},
   "outputs": [],
   "source": [
    "i = 5000\n",
    "temp = data['df']['h'][500:1000]"
   ]
  },
  {
   "cell_type": "code",
   "execution_count": 12,
   "metadata": {},
   "outputs": [
    {
     "data": {
      "text/plain": [
       "979    1.224245\n",
       "Name: h, dtype: float64"
      ]
     },
     "execution_count": 12,
     "metadata": {},
     "output_type": "execute_result"
    }
   ],
   "source": [
    "temp.dropna()"
   ]
  },
  {
   "cell_type": "code",
   "execution_count": 13,
   "metadata": {},
   "outputs": [
    {
     "ename": "SystemExit",
     "evalue": "",
     "output_type": "error",
     "traceback": [
      "An exception has occurred, use %tb to see the full traceback.\n",
      "\u001b[1;31mSystemExit\u001b[0m\n"
     ]
    }
   ],
   "source": [
    "sys.exit()"
   ]
  },
  {
   "cell_type": "code",
   "execution_count": null,
   "metadata": {},
   "outputs": [],
   "source": [
    "def roll_mean(h_l_list):\n",
    "    new_list = h_l_list.dropna()\n",
    "    list_mean = new_list\n",
    "    return(list_mean)"
   ]
  },
  {
   "cell_type": "code",
   "execution_count": null,
   "metadata": {},
   "outputs": [],
   "source": [
    "temp = data['df']['h'].rolling(window=10).progress_apply(roll_mean)"
   ]
  },
  {
   "cell_type": "code",
   "execution_count": null,
   "metadata": {},
   "outputs": [],
   "source": [
    "temp = data['df']['h'].rolling(5).mean()"
   ]
  },
  {
   "cell_type": "code",
   "execution_count": null,
   "metadata": {},
   "outputs": [],
   "source": [
    "temp = data['df']['h']"
   ]
  },
  {
   "cell_type": "code",
   "execution_count": null,
   "metadata": {},
   "outputs": [],
   "source": [
    "data['df']['h'][0]"
   ]
  },
  {
   "cell_type": "code",
   "execution_count": null,
   "metadata": {
    "scrolled": true
   },
   "outputs": [],
   "source": [
    "for i in temp:\n",
    "    if not math.isnan(i):\n",
    "        print(i)"
   ]
  },
  {
   "cell_type": "code",
   "execution_count": null,
   "metadata": {},
   "outputs": [],
   "source": [
    "for i in range(len(data['df'])):\n",
    "    if i % data['']\n",
    "    \n",
    "    \n",
    "    print(i)\n",
    "    if i > 5:\n",
    "        break"
   ]
  },
  {
   "cell_type": "code",
   "execution_count": null,
   "metadata": {
    "scrolled": true
   },
   "outputs": [],
   "source": [
    "for i in data['df']['h']:\n",
    "    if not math.isnan(i):\n",
    "        print(i)"
   ]
  },
  {
   "cell_type": "code",
   "execution_count": null,
   "metadata": {},
   "outputs": [],
   "source": [
    "data['df']['h'][127:130]"
   ]
  },
  {
   "cell_type": "code",
   "execution_count": null,
   "metadata": {},
   "outputs": [],
   "source": [
    "data['df']['h'][0:500].mean()"
   ]
  },
  {
   "cell_type": "code",
   "execution_count": null,
   "metadata": {},
   "outputs": [],
   "source": [
    "data['df']['h'][500:1000].mean()"
   ]
  },
  {
   "cell_type": "code",
   "execution_count": null,
   "metadata": {},
   "outputs": [],
   "source": [
    "data['df']['h'][125:130]"
   ]
  },
  {
   "cell_type": "code",
   "execution_count": null,
   "metadata": {},
   "outputs": [],
   "source": [
    "temp[125:130]"
   ]
  },
  {
   "cell_type": "code",
   "execution_count": null,
   "metadata": {},
   "outputs": [],
   "source": [
    "df = pd.DataFrame()"
   ]
  },
  {
   "cell_type": "code",
   "execution_count": null,
   "metadata": {},
   "outputs": [],
   "source": [
    "df['l'] = pd.Series(dtype='float')"
   ]
  },
  {
   "cell_type": "code",
   "execution_count": null,
   "metadata": {},
   "outputs": [],
   "source": [
    "df['l'] = np.nan"
   ]
  },
  {
   "cell_type": "code",
   "execution_count": null,
   "metadata": {},
   "outputs": [],
   "source": [
    "df['l'].loc[0] = 1"
   ]
  },
  {
   "cell_type": "code",
   "execution_count": null,
   "metadata": {},
   "outputs": [],
   "source": [
    "df['l'].loc[1] = 2\n",
    "df['l'].loc[3] = 3\n",
    "df['l'].loc[4] = 4"
   ]
  },
  {
   "cell_type": "code",
   "execution_count": null,
   "metadata": {},
   "outputs": [],
   "source": [
    "df"
   ]
  },
  {
   "cell_type": "code",
   "execution_count": null,
   "metadata": {},
   "outputs": [],
   "source": [
    "l = pd.Series([0, '', 1,2,3])"
   ]
  },
  {
   "cell_type": "code",
   "execution_count": null,
   "metadata": {},
   "outputs": [],
   "source": [
    "l"
   ]
  },
  {
   "cell_type": "code",
   "execution_count": null,
   "metadata": {},
   "outputs": [],
   "source": [
    "l1"
   ]
  },
  {
   "cell_type": "code",
   "execution_count": null,
   "metadata": {},
   "outputs": [],
   "source": [
    "l = l.fillna(method='ffill')"
   ]
  },
  {
   "cell_type": "code",
   "execution_count": null,
   "metadata": {
    "scrolled": true
   },
   "outputs": [],
   "source": [
    "l.mean()"
   ]
  },
  {
   "cell_type": "code",
   "execution_count": null,
   "metadata": {
    "scrolled": true
   },
   "outputs": [],
   "source": [
    "l.rolling(3).mean()"
   ]
  },
  {
   "cell_type": "code",
   "execution_count": null,
   "metadata": {},
   "outputs": [],
   "source": []
  },
  {
   "cell_type": "code",
   "execution_count": null,
   "metadata": {},
   "outputs": [],
   "source": [
    "data['df'][495:510]"
   ]
  },
  {
   "cell_type": "code",
   "execution_count": null,
   "metadata": {},
   "outputs": [],
   "source": [
    "data['df'].to_csv('data/temp.csv')"
   ]
  },
  {
   "cell_type": "code",
   "execution_count": null,
   "metadata": {},
   "outputs": [],
   "source": [
    "i = 1501\n",
    "data['df']['h'].loc[i - data['candle_size'] : i-1].dropna().mean()"
   ]
  },
  {
   "cell_type": "code",
   "execution_count": null,
   "metadata": {
    "scrolled": false
   },
   "outputs": [],
   "source": [
    "data = run_engine(data)"
   ]
  },
  {
   "cell_type": "code",
   "execution_count": null,
   "metadata": {},
   "outputs": [],
   "source": [
    "data['temp_df']['open_order'] = data['open_order_temp_list']\n",
    "data['temp_df']['pl'] = data['pl_temp_list'] \n",
    "data['temp_df'].to_csv('data/temp.csv')"
   ]
  },
  {
   "cell_type": "code",
   "execution_count": null,
   "metadata": {},
   "outputs": [],
   "source": [
    "min(data['temp_df']['pl'])"
   ]
  },
  {
   "cell_type": "code",
   "execution_count": null,
   "metadata": {},
   "outputs": [],
   "source": [
    "max(data['temp_df']['pl'])"
   ]
  },
  {
   "cell_type": "code",
   "execution_count": null,
   "metadata": {},
   "outputs": [],
   "source": [
    "max(data['temp_df']['open_order'])"
   ]
  },
  {
   "cell_type": "code",
   "execution_count": null,
   "metadata": {},
   "outputs": [],
   "source": [
    "data['dt_val']"
   ]
  },
  {
   "cell_type": "code",
   "execution_count": null,
   "metadata": {
    "scrolled": false
   },
   "outputs": [],
   "source": [
    "data['orders_list']"
   ]
  },
  {
   "cell_type": "code",
   "execution_count": null,
   "metadata": {
    "scrolled": false
   },
   "outputs": [],
   "source": [
    "if data[\"plot\"]:\n",
    "    data = adjust_plot_list_lengths(data)\n",
    "    plot_graph(data)\n",
    "    \n",
    "print('-----------------------------------------------------')\n",
    "print_report(data)\n",
    "print('-----------------------------------------------------')\n",
    "print(data['report_df'].groupby(['month_val'])['pls'].sum())\n",
    "print('-----------------------------------------------------')\n",
    "print(data['report_df']['close_type'].value_counts())\n",
    "print('-----------------------------------------------------')\n",
    "winsound.PlaySound('C:\\\\Windows\\\\Media\\\\tada.wav', winsound.SND_ASYNC)"
   ]
  },
  {
   "cell_type": "code",
   "execution_count": null,
   "metadata": {},
   "outputs": [],
   "source": [
    "data['report_df'].groupby(['date_val'])['pls'].sum()"
   ]
  },
  {
   "cell_type": "code",
   "execution_count": null,
   "metadata": {
    "scrolled": false
   },
   "outputs": [],
   "source": [
    "winsound.PlaySound('C:\\\\Windows\\\\Media\\\\tada.wav', winsound.SND_ASYNC)\n",
    "send_telegram_message(f'Run Complete : {data[\"df_name\"]}')"
   ]
  },
  {
   "cell_type": "code",
   "execution_count": null,
   "metadata": {},
   "outputs": [],
   "source": [
    "data['report_df'].groupby(['close_type'])['pls'].count()"
   ]
  },
  {
   "cell_type": "code",
   "execution_count": null,
   "metadata": {},
   "outputs": [],
   "source": [
    "data['report_df'].groupby(['close_type'])['pls'].mean()"
   ]
  },
  {
   "cell_type": "code",
   "execution_count": null,
   "metadata": {},
   "outputs": [],
   "source": [
    "data['report_df'].groupby(['close_type'])['pls'].sum()"
   ]
  },
  {
   "cell_type": "code",
   "execution_count": null,
   "metadata": {},
   "outputs": [],
   "source": [
    "data['report_df'].groupby(['close_type'])['pls'].count()"
   ]
  },
  {
   "cell_type": "code",
   "execution_count": null,
   "metadata": {},
   "outputs": [],
   "source": [
    "x = np.round(data['report_df'].groupby(['month_val', 'date_val'])['pls'].sum().values.mean(),4)\n",
    "print(f'Average pips per day : {x}')"
   ]
  },
  {
   "cell_type": "code",
   "execution_count": null,
   "metadata": {},
   "outputs": [],
   "source": [
    "x = data['report_df'].groupby(['month_val', 'date_val'])['pls'].count().values.mean()\n",
    "print(f'Average orders per day : {x}')"
   ]
  },
  {
   "cell_type": "code",
   "execution_count": null,
   "metadata": {},
   "outputs": [],
   "source": [
    "data['report_df'].groupby(['date'])['date'].count().value_counts().sort_values(ascending=False)"
   ]
  },
  {
   "cell_type": "code",
   "execution_count": null,
   "metadata": {},
   "outputs": [],
   "source": [
    "data['report_df']['duration'].sort_values(ascending=False)"
   ]
  }
 ],
 "metadata": {
  "kernelspec": {
   "display_name": "Python 3",
   "language": "python",
   "name": "python3"
  },
  "language_info": {
   "codemirror_mode": {
    "name": "ipython",
    "version": 3
   },
   "file_extension": ".py",
   "mimetype": "text/x-python",
   "name": "python",
   "nbconvert_exporter": "python",
   "pygments_lexer": "ipython3",
   "version": "3.6.6"
  }
 },
 "nbformat": 4,
 "nbformat_minor": 4
}
