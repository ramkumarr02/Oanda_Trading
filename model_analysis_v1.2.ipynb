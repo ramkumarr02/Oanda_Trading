{
 "cells": [
  {
   "cell_type": "markdown",
   "metadata": {},
   "source": [
    "# Modelling"
   ]
  },
  {
   "cell_type": "markdown",
   "metadata": {},
   "source": [
    "## Packages"
   ]
  },
  {
   "cell_type": "code",
   "execution_count": 1,
   "metadata": {
    "scrolled": true
   },
   "outputs": [
    {
     "name": "stdout",
     "output_type": "stream",
     "text": [
      " Found and Using 1 GPU\n"
     ]
    }
   ],
   "source": [
    "import os\n",
    "import numpy as np\n",
    "import pandas as pd\n",
    "from tqdm import tqdm\n",
    "import winsound\n",
    "import datetime as dt\n",
    "\n",
    "import warnings\n",
    "warnings.filterwarnings('ignore')\n",
    "\n",
    "from sklearn.model_selection import train_test_split\n",
    "from sklearn.preprocessing import StandardScaler, MinMaxScaler, LabelEncoder, OneHotEncoder\n",
    "from sklearn.metrics import classification_report\n",
    "from sklearn.ensemble import RandomForestClassifier\n",
    "import joblib\n",
    "\n",
    "from keras.utils import np_utils\n",
    "\n",
    "import tensorflow as tf\n",
    "from tensorflow.keras.models import load_model\n",
    "from tensorflow.keras.models import Sequential\n",
    "from tensorflow.keras.layers import Activation, Dense, Dropout\n",
    "from tensorflow.keras.optimizers import Adam\n",
    "from tensorflow.keras.metrics import categorical_crossentropy\n",
    "\n",
    "from imblearn.over_sampling import SMOTE\n",
    "\n",
    "from matplotlib import pyplot as plt\n",
    "\n",
    "print(f\" Found and Using {len(tf.config.experimental.list_physical_devices('GPU'))} GPU\")"
   ]
  },
  {
   "cell_type": "markdown",
   "metadata": {},
   "source": [
    "## Functions"
   ]
  },
  {
   "cell_type": "code",
   "execution_count": 2,
   "metadata": {},
   "outputs": [],
   "source": [
    "def scale_x_encode_y(x, y):\n",
    "\n",
    "    #x_scaled = StandardScaler().fit_transform(x.values)    \n",
    "    scaler_obj = StandardScaler()\n",
    "    scaler_obj.fit(x.values)\n",
    "    x_scaled = scaler_obj.transform(x.values)\n",
    "    \n",
    "    encoder = LabelEncoder()\n",
    "    encoder.fit(y)\n",
    "    y_encoded = encoder.transform(y)\n",
    "    y_encoded = np_utils.to_categorical(y_encoded)\n",
    "    \n",
    "    y_map = dict(zip(encoder.transform(encoder.classes_),encoder.classes_))\n",
    " \n",
    "    return(x_scaled, y_encoded, y_map, scaler_obj)\n",
    "\n",
    "def smote_data(x, y):\n",
    "    oversample = SMOTE()\n",
    "    smote_x, smote_y = oversample.fit_resample(x, y)\n",
    "\n",
    "    return(smote_x, smote_y)\n",
    "\n",
    "def split_data(df, divisor):\n",
    "    df_tot = df.copy()\n",
    "    print(f'df_tot count : {len(df_tot)}')\n",
    "\n",
    "    df1 = df_tot.iloc[int(len(df_tot)/divisor):]\n",
    "    print(f'df1 count : {len(df1)}')\n",
    "\n",
    "    df2 = df_tot.iloc[:int(len(df_tot)/divisor)]\n",
    "    print(f'df2 count : {len(df2)}')\n",
    "    \n",
    "    return(df_tot, df1, df2)\n",
    "\n",
    "def data_prep(df, apply_smote = False):\n",
    "    x = df.loc[:, df.columns != target_col]\n",
    "    y = df[target_col]\n",
    "\n",
    "    if apply_smote:\n",
    "        x, y = smote_data(x, y)\n",
    "\n",
    "    print(f'Record count : {len(y)}')\n",
    "    print('--------------------------')\n",
    "    print(y.value_counts())\n",
    "    print('--------------------------')\n",
    "    print(y.value_counts(normalize=True))\n",
    "    \n",
    "    x_scaled, y_encoded, y_map, scaler_obj = scale_x_encode_y(x, y)\n",
    "    pd.DataFrame(x_scaled).head()\n",
    "    \n",
    "    return(x_scaled, y_encoded, y_map, scaler_obj)"
   ]
  },
  {
   "cell_type": "markdown",
   "metadata": {},
   "source": [
    "## Read Data"
   ]
  },
  {
   "cell_type": "code",
   "execution_count": 3,
   "metadata": {},
   "outputs": [
    {
     "data": {
      "text/html": [
       "<div>\n",
       "<style scoped>\n",
       "    .dataframe tbody tr th:only-of-type {\n",
       "        vertical-align: middle;\n",
       "    }\n",
       "\n",
       "    .dataframe tbody tr th {\n",
       "        vertical-align: top;\n",
       "    }\n",
       "\n",
       "    .dataframe thead th {\n",
       "        text-align: right;\n",
       "    }\n",
       "</style>\n",
       "<table border=\"1\" class=\"dataframe\">\n",
       "  <thead>\n",
       "    <tr style=\"text-align: right;\">\n",
       "      <th></th>\n",
       "      <th>tick_avg</th>\n",
       "      <th>spread_avg</th>\n",
       "      <th>tick_sd</th>\n",
       "      <th>diff</th>\n",
       "      <th>avg_gain</th>\n",
       "      <th>avg_loss</th>\n",
       "      <th>rs</th>\n",
       "      <th>rsi</th>\n",
       "      <th>sema</th>\n",
       "      <th>sema_diff</th>\n",
       "      <th>...</th>\n",
       "      <th>ssma</th>\n",
       "      <th>ssma_diff</th>\n",
       "      <th>lsma</th>\n",
       "      <th>lsma_diff</th>\n",
       "      <th>sma_diff</th>\n",
       "      <th>max_tick</th>\n",
       "      <th>min_tick</th>\n",
       "      <th>max_gap</th>\n",
       "      <th>min_gap</th>\n",
       "      <th>direction</th>\n",
       "    </tr>\n",
       "  </thead>\n",
       "  <tbody>\n",
       "    <tr>\n",
       "      <th>0</th>\n",
       "      <td>1.146322</td>\n",
       "      <td>0.000234</td>\n",
       "      <td>0.000011</td>\n",
       "      <td>-0.000009</td>\n",
       "      <td>0.000007</td>\n",
       "      <td>0.000010</td>\n",
       "      <td>0.726481</td>\n",
       "      <td>42.078708</td>\n",
       "      <td>1.146324</td>\n",
       "      <td>-1.855815e-07</td>\n",
       "      <td>...</td>\n",
       "      <td>1.146312</td>\n",
       "      <td>0.000003</td>\n",
       "      <td>1.146357</td>\n",
       "      <td>-0.000002</td>\n",
       "      <td>-0.000046</td>\n",
       "      <td>1.146361</td>\n",
       "      <td>1.146198</td>\n",
       "      <td>0.000039</td>\n",
       "      <td>-0.000124</td>\n",
       "      <td>same</td>\n",
       "    </tr>\n",
       "    <tr>\n",
       "      <th>1</th>\n",
       "      <td>1.146271</td>\n",
       "      <td>0.000306</td>\n",
       "      <td>0.000015</td>\n",
       "      <td>-0.000051</td>\n",
       "      <td>0.000007</td>\n",
       "      <td>0.000011</td>\n",
       "      <td>0.686985</td>\n",
       "      <td>40.722656</td>\n",
       "      <td>1.146319</td>\n",
       "      <td>-5.075611e-06</td>\n",
       "      <td>...</td>\n",
       "      <td>1.146315</td>\n",
       "      <td>0.000004</td>\n",
       "      <td>1.146353</td>\n",
       "      <td>-0.000005</td>\n",
       "      <td>-0.000037</td>\n",
       "      <td>1.146361</td>\n",
       "      <td>1.146224</td>\n",
       "      <td>0.000090</td>\n",
       "      <td>-0.000047</td>\n",
       "      <td>same</td>\n",
       "    </tr>\n",
       "    <tr>\n",
       "      <th>2</th>\n",
       "      <td>1.146260</td>\n",
       "      <td>0.000335</td>\n",
       "      <td>0.000007</td>\n",
       "      <td>-0.000011</td>\n",
       "      <td>0.000007</td>\n",
       "      <td>0.000012</td>\n",
       "      <td>0.597542</td>\n",
       "      <td>37.403846</td>\n",
       "      <td>1.146313</td>\n",
       "      <td>-5.639989e-06</td>\n",
       "      <td>...</td>\n",
       "      <td>1.146317</td>\n",
       "      <td>0.000002</td>\n",
       "      <td>1.146350</td>\n",
       "      <td>-0.000003</td>\n",
       "      <td>-0.000033</td>\n",
       "      <td>1.146361</td>\n",
       "      <td>1.146228</td>\n",
       "      <td>0.000101</td>\n",
       "      <td>-0.000032</td>\n",
       "      <td>same</td>\n",
       "    </tr>\n",
       "    <tr>\n",
       "      <th>3</th>\n",
       "      <td>1.146310</td>\n",
       "      <td>0.000254</td>\n",
       "      <td>0.000028</td>\n",
       "      <td>0.000050</td>\n",
       "      <td>0.000010</td>\n",
       "      <td>0.000012</td>\n",
       "      <td>0.881720</td>\n",
       "      <td>46.857143</td>\n",
       "      <td>1.146313</td>\n",
       "      <td>-3.143270e-07</td>\n",
       "      <td>...</td>\n",
       "      <td>1.146321</td>\n",
       "      <td>0.000004</td>\n",
       "      <td>1.146342</td>\n",
       "      <td>-0.000008</td>\n",
       "      <td>-0.000021</td>\n",
       "      <td>1.146361</td>\n",
       "      <td>1.146260</td>\n",
       "      <td>0.000052</td>\n",
       "      <td>-0.000050</td>\n",
       "      <td>same</td>\n",
       "    </tr>\n",
       "    <tr>\n",
       "      <th>4</th>\n",
       "      <td>1.146294</td>\n",
       "      <td>0.000307</td>\n",
       "      <td>0.000028</td>\n",
       "      <td>-0.000015</td>\n",
       "      <td>0.000010</td>\n",
       "      <td>0.000009</td>\n",
       "      <td>1.205882</td>\n",
       "      <td>54.666667</td>\n",
       "      <td>1.146311</td>\n",
       "      <td>-1.742447e-06</td>\n",
       "      <td>...</td>\n",
       "      <td>1.146319</td>\n",
       "      <td>-0.000002</td>\n",
       "      <td>1.146334</td>\n",
       "      <td>-0.000008</td>\n",
       "      <td>-0.000015</td>\n",
       "      <td>1.146361</td>\n",
       "      <td>1.146260</td>\n",
       "      <td>0.000067</td>\n",
       "      <td>-0.000035</td>\n",
       "      <td>same</td>\n",
       "    </tr>\n",
       "  </tbody>\n",
       "</table>\n",
       "<p>5 rows × 23 columns</p>\n",
       "</div>"
      ],
      "text/plain": [
       "   tick_avg  spread_avg   tick_sd      diff  avg_gain  avg_loss        rs  \\\n",
       "0  1.146322    0.000234  0.000011 -0.000009  0.000007  0.000010  0.726481   \n",
       "1  1.146271    0.000306  0.000015 -0.000051  0.000007  0.000011  0.686985   \n",
       "2  1.146260    0.000335  0.000007 -0.000011  0.000007  0.000012  0.597542   \n",
       "3  1.146310    0.000254  0.000028  0.000050  0.000010  0.000012  0.881720   \n",
       "4  1.146294    0.000307  0.000028 -0.000015  0.000010  0.000009  1.205882   \n",
       "\n",
       "         rsi      sema     sema_diff  ...      ssma  ssma_diff      lsma  \\\n",
       "0  42.078708  1.146324 -1.855815e-07  ...  1.146312   0.000003  1.146357   \n",
       "1  40.722656  1.146319 -5.075611e-06  ...  1.146315   0.000004  1.146353   \n",
       "2  37.403846  1.146313 -5.639989e-06  ...  1.146317   0.000002  1.146350   \n",
       "3  46.857143  1.146313 -3.143270e-07  ...  1.146321   0.000004  1.146342   \n",
       "4  54.666667  1.146311 -1.742447e-06  ...  1.146319  -0.000002  1.146334   \n",
       "\n",
       "   lsma_diff  sma_diff  max_tick  min_tick   max_gap   min_gap  direction  \n",
       "0  -0.000002 -0.000046  1.146361  1.146198  0.000039 -0.000124       same  \n",
       "1  -0.000005 -0.000037  1.146361  1.146224  0.000090 -0.000047       same  \n",
       "2  -0.000003 -0.000033  1.146361  1.146228  0.000101 -0.000032       same  \n",
       "3  -0.000008 -0.000021  1.146361  1.146260  0.000052 -0.000050       same  \n",
       "4  -0.000008 -0.000015  1.146361  1.146260  0.000067 -0.000035       same  \n",
       "\n",
       "[5 rows x 23 columns]"
      ]
     },
     "execution_count": 3,
     "metadata": {},
     "output_type": "execute_result"
    }
   ],
   "source": [
    "df = pd.read_csv('data/tab_tick_2019.csv')\n",
    "df.head(5)"
   ]
  },
  {
   "cell_type": "code",
   "execution_count": 4,
   "metadata": {},
   "outputs": [
    {
     "name": "stdout",
     "output_type": "stream",
     "text": [
      "Record count : 49950\n",
      "--------------------------\n",
      "same        30019\n",
      "increase    10026\n",
      "decrease     9905\n",
      "Name: direction, dtype: int64\n",
      "--------------------------\n",
      "same        0.600981\n",
      "increase    0.200721\n",
      "decrease    0.198298\n",
      "Name: direction, dtype: float64\n"
     ]
    },
    {
     "data": {
      "text/plain": [
       "['data/model/y_map.pkl']"
      ]
     },
     "execution_count": 4,
     "metadata": {},
     "output_type": "execute_result"
    }
   ],
   "source": [
    "target_col = 'direction'\n",
    "x_scaled, y_encoded, y_map, scaler_obj = data_prep(df)\n",
    "joblib.dump(scaler_obj, 'data/model/scaler_obj.pkl') \n",
    "joblib.dump(y_map, 'data/model/y_map.pkl') "
   ]
  },
  {
   "cell_type": "markdown",
   "metadata": {},
   "source": [
    "## Neural Network"
   ]
  },
  {
   "cell_type": "markdown",
   "metadata": {},
   "source": [
    "### Network building"
   ]
  },
  {
   "cell_type": "code",
   "execution_count": 5,
   "metadata": {},
   "outputs": [],
   "source": [
    "train_x, valid_x, train_y, valid_y = train_test_split(x_scaled, y_encoded,train_size = 0.8,random_state = 1)"
   ]
  },
  {
   "cell_type": "code",
   "execution_count": 6,
   "metadata": {},
   "outputs": [
    {
     "name": "stdout",
     "output_type": "stream",
     "text": [
      "Model: \"sequential\"\n",
      "_________________________________________________________________\n",
      "Layer (type)                 Output Shape              Param #   \n",
      "=================================================================\n",
      "dense (Dense)                (None, 32)                736       \n",
      "_________________________________________________________________\n",
      "dense_1 (Dense)              (None, 64)                2112      \n",
      "_________________________________________________________________\n",
      "dense_2 (Dense)              (None, 128)               8320      \n",
      "_________________________________________________________________\n",
      "dense_3 (Dense)              (None, 64)                8256      \n",
      "_________________________________________________________________\n",
      "dense_4 (Dense)              (None, 16)                1040      \n",
      "_________________________________________________________________\n",
      "dense_5 (Dense)              (None, 3)                 51        \n",
      "=================================================================\n",
      "Total params: 20,515\n",
      "Trainable params: 20,515\n",
      "Non-trainable params: 0\n",
      "_________________________________________________________________\n"
     ]
    }
   ],
   "source": [
    "model = Sequential([\n",
    "    Dense(units = 32, activation='relu', input_shape=[len(train_x[0])]),\n",
    "    Dense(units = 64, activation='relu'),\n",
    "    Dense(units = 128, activation='relu'),\n",
    "    Dense(units = 64, activation='relu'),\n",
    "    Dense(units = 16, activation='relu'),\n",
    "    Dense(units = 3, activation='softmax')\n",
    "])\n",
    "\n",
    "model.compile(\n",
    "    loss='categorical_crossentropy',\n",
    "    optimizer=Adam(learning_rate=0.001),    \n",
    "    metrics=['accuracy'])\n",
    "\n",
    "model.summary()"
   ]
  },
  {
   "cell_type": "markdown",
   "metadata": {},
   "source": [
    "### Training"
   ]
  },
  {
   "cell_type": "code",
   "execution_count": 7,
   "metadata": {},
   "outputs": [],
   "source": [
    "epoch_val         = 10\n",
    "batch_size_val    = 1024\n",
    "\n",
    "verbose_val       = 2\n",
    "workers_val       = -1"
   ]
  },
  {
   "cell_type": "code",
   "execution_count": 8,
   "metadata": {
    "scrolled": false
   },
   "outputs": [
    {
     "name": "stdout",
     "output_type": "stream",
     "text": [
      "Epoch 1/10\n",
      "40/40 - 0s - loss: 0.8928 - accuracy: 0.4883 - val_loss: 0.6230 - val_accuracy: 0.7891\n",
      "Epoch 2/10\n",
      "40/40 - 0s - loss: 0.4699 - accuracy: 0.8139 - val_loss: 0.4482 - val_accuracy: 0.8123\n",
      "Epoch 3/10\n",
      "40/40 - 0s - loss: 0.3926 - accuracy: 0.8327 - val_loss: 0.3935 - val_accuracy: 0.8354\n",
      "Epoch 4/10\n",
      "40/40 - 0s - loss: 0.3654 - accuracy: 0.8447 - val_loss: 0.4186 - val_accuracy: 0.8216\n",
      "Epoch 5/10\n",
      "40/40 - 0s - loss: 0.3607 - accuracy: 0.8470 - val_loss: 0.3738 - val_accuracy: 0.8425\n",
      "Epoch 6/10\n",
      "40/40 - 0s - loss: 0.3467 - accuracy: 0.8521 - val_loss: 0.3924 - val_accuracy: 0.8327\n",
      "Epoch 7/10\n",
      "40/40 - 0s - loss: 0.3539 - accuracy: 0.8480 - val_loss: 0.3843 - val_accuracy: 0.8350\n",
      "Epoch 8/10\n",
      "40/40 - 0s - loss: 0.3426 - accuracy: 0.8536 - val_loss: 0.3566 - val_accuracy: 0.8503\n",
      "Epoch 9/10\n",
      "40/40 - 0s - loss: 0.3393 - accuracy: 0.8552 - val_loss: 0.3540 - val_accuracy: 0.8515\n",
      "Epoch 10/10\n",
      "40/40 - 0s - loss: 0.3370 - accuracy: 0.8558 - val_loss: 0.3607 - val_accuracy: 0.8475\n"
     ]
    },
    {
     "data": {
      "text/plain": [
       "<tensorflow.python.keras.callbacks.History at 0x17a4077be80>"
      ]
     },
     "execution_count": 8,
     "metadata": {},
     "output_type": "execute_result"
    }
   ],
   "source": [
    "model.fit(x=train_x, \n",
    "          y=train_y, \n",
    "          epochs=epoch_val,\n",
    "          batch_size = batch_size_val,\n",
    "          validation_data = (valid_x, valid_y),\n",
    "          workers= workers_val,\n",
    "         verbose=verbose_val)"
   ]
  },
  {
   "cell_type": "markdown",
   "metadata": {},
   "source": [
    "### DNN Validation"
   ]
  },
  {
   "cell_type": "code",
   "execution_count": 9,
   "metadata": {},
   "outputs": [
    {
     "name": "stdout",
     "output_type": "stream",
     "text": [
      "              precision    recall  f1-score   support\n",
      "\n",
      "    decrease       0.87      0.71      0.79      2007\n",
      "    increase       0.83      0.79      0.81      1998\n",
      "        same       0.85      0.91      0.88      5985\n",
      "\n",
      "    accuracy                           0.85      9990\n",
      "   macro avg       0.85      0.81      0.82      9990\n",
      "weighted avg       0.85      0.85      0.85      9990\n",
      "\n"
     ]
    }
   ],
   "source": [
    "predictions = model.predict(valid_x)\n",
    "rounded_predictions = np.argmax(predictions, axis = -1)\n",
    "rounded_valid_y = np.argmax(valid_y, axis = -1)\n",
    "\n",
    "print(classification_report(rounded_valid_y, rounded_predictions, target_names = y_map.values()))"
   ]
  },
  {
   "cell_type": "code",
   "execution_count": 10,
   "metadata": {},
   "outputs": [],
   "source": [
    "model.save('data/model/model.h5') \n",
    "\n",
    "model_new = load_model('data/model/model.h5')"
   ]
  },
  {
   "cell_type": "markdown",
   "metadata": {},
   "source": [
    "### DNN Prediction"
   ]
  },
  {
   "cell_type": "code",
   "execution_count": 11,
   "metadata": {},
   "outputs": [
    {
     "name": "stdout",
     "output_type": "stream",
     "text": [
      "Record count : 49950\n",
      "--------------------------\n",
      "same        23557\n",
      "increase    13360\n",
      "decrease    13033\n",
      "Name: direction, dtype: int64\n",
      "--------------------------\n",
      "same        0.471612\n",
      "increase    0.267467\n",
      "decrease    0.260921\n",
      "Name: direction, dtype: float64\n",
      "              precision    recall  f1-score   support\n",
      "\n",
      "    decrease       0.94      0.58      0.71     13033\n",
      "    increase       0.92      0.64      0.75     13360\n",
      "        same       0.68      0.95      0.79     23557\n",
      "\n",
      "    accuracy                           0.77     49950\n",
      "   macro avg       0.85      0.72      0.75     49950\n",
      "weighted avg       0.81      0.77      0.76     49950\n",
      "\n"
     ]
    }
   ],
   "source": [
    "df1 = pd.read_csv('data/tab_tick_2018.csv')\n",
    "\n",
    "#df1 = df1[col_list]\n",
    "x_scaled1, y_encoded1, y_map1, scaler_obj_1 = data_prep(df1, apply_smote = False)\n",
    "\n",
    "predictions = model_new.predict(x_scaled1)\n",
    "rounded_predictions = np.argmax(predictions, axis = -1)\n",
    "rounded_valid_y = np.argmax(y_encoded1, axis = -1)\n",
    "\n",
    "df1['predictions'] = [y_map1[k] for k in rounded_predictions]\n",
    "df1.to_csv('data/tab_tick_2017_res.csv')\n",
    "\n",
    "print(classification_report(rounded_valid_y, rounded_predictions, target_names = y_map1.values()))"
   ]
  },
  {
   "cell_type": "markdown",
   "metadata": {},
   "source": [
    "## RF Results"
   ]
  },
  {
   "cell_type": "code",
   "execution_count": 12,
   "metadata": {
    "scrolled": true
   },
   "outputs": [
    {
     "name": "stdout",
     "output_type": "stream",
     "text": [
      "              precision    recall  f1-score   support\n",
      "\n",
      "    decrease       0.82      0.77      0.80      2007\n",
      "    increase       0.85      0.79      0.81      1998\n",
      "        same       0.86      0.90      0.88      5985\n",
      "\n",
      "    accuracy                           0.85      9990\n",
      "   macro avg       0.84      0.82      0.83      9990\n",
      "weighted avg       0.85      0.85      0.85      9990\n",
      "\n",
      "Wall time: 2.68 s\n"
     ]
    }
   ],
   "source": [
    "%%time\n",
    "clf = RandomForestClassifier(n_jobs=-1) \n",
    "clf.fit(train_x, train_y)\n",
    "predictions = clf.predict(valid_x)\n",
    "rounded_predictions = np.argmax(predictions, axis = -1)\n",
    "rounded_valid_y = np.argmax(valid_y, axis = -1)\n",
    "print(classification_report(rounded_valid_y, rounded_predictions, target_names = y_map.values()))"
   ]
  },
  {
   "cell_type": "code",
   "execution_count": 13,
   "metadata": {
    "scrolled": false
   },
   "outputs": [
    {
     "data": {
      "image/png": "[encoded data removed]",
      "text/plain": [
       "<Figure size 1080x720 with 1 Axes>"
      ]
     },
     "metadata": {
      "needs_background": "light"
     },
     "output_type": "display_data"
    }
   ],
   "source": [
    "x_cols = df.columns[df.columns != 'direction']\n",
    "fig = plt.figure()\n",
    "fig.suptitle('Feature importance', fontsize=20)\n",
    "plt.xlabel('Importance %', fontsize=16)\n",
    "plt.ylabel('Features', fontsize=16)\n",
    "plt.tick_params(axis='x', labelsize=12)\n",
    "plt.tick_params(axis='y', labelsize=15)\n",
    "\n",
    "\n",
    "feat_importances = pd.Series(clf.feature_importances_ * 100, index=x_cols)\n",
    "feat_importances.nlargest(30).plot(kind='barh', figsize=(15, 10), rot=45)\n",
    "\n",
    "for index, value in enumerate(np.round(-np.sort(-clf.feature_importances_ * 100))):\n",
    "    plt.text(value+0.45, index, str(value), fontsize=12)"
   ]
  }
 ],
 "metadata": {
  "kernelspec": {
   "display_name": "Python 3.6.6 64-bit",
   "language": "python",
   "name": "python36664bitab910dfda0bc43a8bf7df0c20d1c59f2"
  },
  "language_info": {
   "codemirror_mode": {
    "name": "ipython",
    "version": 3
   },
   "file_extension": ".py",
   "mimetype": "text/x-python",
   "name": "python",
   "nbconvert_exporter": "python",
   "pygments_lexer": "ipython3",
   "version": "3.6.6"
  }
 },
 "nbformat": 4,
 "nbformat_minor": 4
}
