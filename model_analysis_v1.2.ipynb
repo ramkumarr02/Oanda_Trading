{
 "cells": [
  {
   "cell_type": "markdown",
   "metadata": {},
   "source": [
    "# Modelling"
   ]
  },
  {
   "cell_type": "markdown",
   "metadata": {},
   "source": [
    "## Packages"
   ]
  },
  {
   "cell_type": "code",
   "execution_count": 1,
   "metadata": {
    "scrolled": true
   },
   "outputs": [
    {
     "name": "stdout",
     "output_type": "stream",
     "text": [
      " Found and Using 1 GPU\n"
     ]
    }
   ],
   "source": [
    "import os\n",
    "import numpy as np\n",
    "import pandas as pd\n",
    "from tqdm import tqdm\n",
    "import winsound\n",
    "import datetime as dt\n",
    "\n",
    "import warnings\n",
    "warnings.filterwarnings('ignore')\n",
    "\n",
    "from sklearn.model_selection import train_test_split\n",
    "from sklearn.preprocessing import StandardScaler, MinMaxScaler, LabelEncoder, OneHotEncoder\n",
    "from sklearn.metrics import classification_report\n",
    "from sklearn.ensemble import RandomForestClassifier\n",
    "\n",
    "from keras.utils import np_utils\n",
    "\n",
    "import tensorflow as tf\n",
    "from tensorflow.keras.models import load_model\n",
    "from tensorflow.keras.models import Sequential\n",
    "from tensorflow.keras.layers import Activation, Dense\n",
    "from tensorflow.keras.optimizers import Adam\n",
    "from tensorflow.keras.metrics import categorical_crossentropy\n",
    "\n",
    "from imblearn.over_sampling import SMOTE\n",
    "\n",
    "from matplotlib import pyplot as plt\n",
    "\n",
    "print(f\" Found and Using {len(tf.config.experimental.list_physical_devices('GPU'))} GPU\")"
   ]
  },
  {
   "cell_type": "markdown",
   "metadata": {},
   "source": [
    "## Functions"
   ]
  },
  {
   "cell_type": "code",
   "execution_count": 2,
   "metadata": {},
   "outputs": [],
   "source": [
    "def scale_x_encode_y(x, y):\n",
    "\n",
    "    x_scaled = StandardScaler().fit_transform(x.values)    \n",
    "    \n",
    "    encoder = LabelEncoder()\n",
    "    encoder.fit(y)\n",
    "    y_encoded = encoder.transform(y)\n",
    "    y_encoded = np_utils.to_categorical(y_encoded)\n",
    "    \n",
    "    y_map = dict(zip(encoder.transform(encoder.classes_),encoder.classes_))\n",
    " \n",
    "    return(x_scaled, y_encoded, y_map)\n",
    "\n",
    "def smote_data(x, y):\n",
    "    oversample = SMOTE()\n",
    "    smote_x, smote_y = oversample.fit_resample(x, y)\n",
    "\n",
    "    return(smote_x, smote_y)\n",
    "\n",
    "def split_data(df, divisor):\n",
    "    df_tot = df.copy()\n",
    "    print(f'df_tot count : {len(df_tot)}')\n",
    "\n",
    "    df1 = df_tot.iloc[int(len(df_tot)/divisor):]\n",
    "    print(f'df1 count : {len(df1)}')\n",
    "\n",
    "    df2 = df_tot.iloc[:int(len(df_tot)/divisor)]\n",
    "    print(f'df2 count : {len(df2)}')\n",
    "    \n",
    "    return(df_tot, df1, df2)\n",
    "\n",
    "def data_prep(df, apply_smote = False):\n",
    "    x = df.loc[:, df.columns != target_col]\n",
    "    y = df[target_col]\n",
    "\n",
    "    if apply_smote:\n",
    "        x, y = smote_data(x, y)\n",
    "\n",
    "    print(f'Record count : {len(y)}')\n",
    "    print('--------------------------')\n",
    "    print(y.value_counts())\n",
    "    print('--------------------------')\n",
    "    print(y.value_counts(normalize=True))\n",
    "    \n",
    "    x_scaled, y_encoded, y_map = scale_x_encode_y(x, y)\n",
    "    pd.DataFrame(x_scaled).head()\n",
    "    \n",
    "    return(x_scaled, y_encoded, y_map)"
   ]
  },
  {
   "cell_type": "markdown",
   "metadata": {},
   "source": [
    "## Read Data"
   ]
  },
  {
   "cell_type": "code",
   "execution_count": 3,
   "metadata": {},
   "outputs": [
    {
     "data": {
      "text/html": [
       "<div>\n",
       "<style scoped>\n",
       "    .dataframe tbody tr th:only-of-type {\n",
       "        vertical-align: middle;\n",
       "    }\n",
       "\n",
       "    .dataframe tbody tr th {\n",
       "        vertical-align: top;\n",
       "    }\n",
       "\n",
       "    .dataframe thead th {\n",
       "        text-align: right;\n",
       "    }\n",
       "</style>\n",
       "<table border=\"1\" class=\"dataframe\">\n",
       "  <thead>\n",
       "    <tr style=\"text-align: right;\">\n",
       "      <th></th>\n",
       "      <th>tick_avg</th>\n",
       "      <th>spread_avg</th>\n",
       "      <th>tick_sd</th>\n",
       "      <th>tick_diff</th>\n",
       "      <th>sema</th>\n",
       "      <th>lema</th>\n",
       "      <th>ema_diff</th>\n",
       "      <th>ssma</th>\n",
       "      <th>lsma</th>\n",
       "      <th>sma_diff</th>\n",
       "      <th>diff</th>\n",
       "      <th>gain</th>\n",
       "      <th>loss</th>\n",
       "      <th>avg_gain</th>\n",
       "      <th>avg_loss</th>\n",
       "      <th>rs</th>\n",
       "      <th>rsi</th>\n",
       "      <th>small_sema_slope</th>\n",
       "      <th>long_sema_slope</th>\n",
       "      <th>direction</th>\n",
       "    </tr>\n",
       "  </thead>\n",
       "  <tbody>\n",
       "    <tr>\n",
       "      <th>0</th>\n",
       "      <td>1.146315</td>\n",
       "      <td>0.000191</td>\n",
       "      <td>0.000034</td>\n",
       "      <td>-0.000032</td>\n",
       "      <td>1.146333</td>\n",
       "      <td>1.146333</td>\n",
       "      <td>-3.855949e-07</td>\n",
       "      <td>1.146334</td>\n",
       "      <td>1.146359</td>\n",
       "      <td>-0.000025</td>\n",
       "      <td>-4.057722e-06</td>\n",
       "      <td>0.0</td>\n",
       "      <td>4.057722e-06</td>\n",
       "      <td>0.000002</td>\n",
       "      <td>7.072830e-07</td>\n",
       "      <td>2.343522</td>\n",
       "      <td>70.091415</td>\n",
       "      <td>7.069366</td>\n",
       "      <td>-13.017403</td>\n",
       "      <td>same</td>\n",
       "    </tr>\n",
       "    <tr>\n",
       "      <th>1</th>\n",
       "      <td>1.146318</td>\n",
       "      <td>0.000255</td>\n",
       "      <td>0.000009</td>\n",
       "      <td>0.000003</td>\n",
       "      <td>1.146330</td>\n",
       "      <td>1.146333</td>\n",
       "      <td>-2.802906e-06</td>\n",
       "      <td>1.146333</td>\n",
       "      <td>1.146358</td>\n",
       "      <td>-0.000025</td>\n",
       "      <td>-2.774500e-06</td>\n",
       "      <td>0.0</td>\n",
       "      <td>2.774500e-06</td>\n",
       "      <td>0.000001</td>\n",
       "      <td>9.054616e-07</td>\n",
       "      <td>1.550279</td>\n",
       "      <td>60.788604</td>\n",
       "      <td>4.964546</td>\n",
       "      <td>-12.938307</td>\n",
       "      <td>same</td>\n",
       "    </tr>\n",
       "    <tr>\n",
       "      <th>2</th>\n",
       "      <td>1.146327</td>\n",
       "      <td>0.000213</td>\n",
       "      <td>0.000010</td>\n",
       "      <td>0.000009</td>\n",
       "      <td>1.146329</td>\n",
       "      <td>1.146333</td>\n",
       "      <td>-3.293461e-06</td>\n",
       "      <td>1.146332</td>\n",
       "      <td>1.146357</td>\n",
       "      <td>-0.000025</td>\n",
       "      <td>-6.336818e-07</td>\n",
       "      <td>0.0</td>\n",
       "      <td>6.336818e-07</td>\n",
       "      <td>0.000001</td>\n",
       "      <td>7.363134e-07</td>\n",
       "      <td>1.906414</td>\n",
       "      <td>65.593338</td>\n",
       "      <td>2.961423</td>\n",
       "      <td>-12.929473</td>\n",
       "      <td>same</td>\n",
       "    </tr>\n",
       "    <tr>\n",
       "      <th>3</th>\n",
       "      <td>1.146279</td>\n",
       "      <td>0.000273</td>\n",
       "      <td>0.000016</td>\n",
       "      <td>-0.000047</td>\n",
       "      <td>1.146320</td>\n",
       "      <td>1.146331</td>\n",
       "      <td>-1.115130e-05</td>\n",
       "      <td>1.146327</td>\n",
       "      <td>1.146355</td>\n",
       "      <td>-0.000028</td>\n",
       "      <td>-9.063921e-06</td>\n",
       "      <td>0.0</td>\n",
       "      <td>9.063921e-06</td>\n",
       "      <td>0.000001</td>\n",
       "      <td>1.240777e-06</td>\n",
       "      <td>1.131322</td>\n",
       "      <td>53.080768</td>\n",
       "      <td>-1.558345</td>\n",
       "      <td>-12.794593</td>\n",
       "      <td>decrease</td>\n",
       "    </tr>\n",
       "    <tr>\n",
       "      <th>4</th>\n",
       "      <td>1.146262</td>\n",
       "      <td>0.000340</td>\n",
       "      <td>0.000007</td>\n",
       "      <td>-0.000018</td>\n",
       "      <td>1.146310</td>\n",
       "      <td>1.146330</td>\n",
       "      <td>-2.017773e-05</td>\n",
       "      <td>1.146320</td>\n",
       "      <td>1.146353</td>\n",
       "      <td>-0.000032</td>\n",
       "      <td>-1.059775e-05</td>\n",
       "      <td>0.0</td>\n",
       "      <td>1.059775e-05</td>\n",
       "      <td>0.000001</td>\n",
       "      <td>1.997759e-06</td>\n",
       "      <td>0.533668</td>\n",
       "      <td>34.796833</td>\n",
       "      <td>-8.822273</td>\n",
       "      <td>-12.624174</td>\n",
       "      <td>same</td>\n",
       "    </tr>\n",
       "  </tbody>\n",
       "</table>\n",
       "</div>"
      ],
      "text/plain": [
       "   tick_avg  spread_avg   tick_sd  tick_diff      sema      lema  \\\n",
       "0  1.146315    0.000191  0.000034  -0.000032  1.146333  1.146333   \n",
       "1  1.146318    0.000255  0.000009   0.000003  1.146330  1.146333   \n",
       "2  1.146327    0.000213  0.000010   0.000009  1.146329  1.146333   \n",
       "3  1.146279    0.000273  0.000016  -0.000047  1.146320  1.146331   \n",
       "4  1.146262    0.000340  0.000007  -0.000018  1.146310  1.146330   \n",
       "\n",
       "       ema_diff      ssma      lsma  sma_diff          diff  gain  \\\n",
       "0 -3.855949e-07  1.146334  1.146359 -0.000025 -4.057722e-06   0.0   \n",
       "1 -2.802906e-06  1.146333  1.146358 -0.000025 -2.774500e-06   0.0   \n",
       "2 -3.293461e-06  1.146332  1.146357 -0.000025 -6.336818e-07   0.0   \n",
       "3 -1.115130e-05  1.146327  1.146355 -0.000028 -9.063921e-06   0.0   \n",
       "4 -2.017773e-05  1.146320  1.146353 -0.000032 -1.059775e-05   0.0   \n",
       "\n",
       "           loss  avg_gain      avg_loss        rs        rsi  \\\n",
       "0  4.057722e-06  0.000002  7.072830e-07  2.343522  70.091415   \n",
       "1  2.774500e-06  0.000001  9.054616e-07  1.550279  60.788604   \n",
       "2  6.336818e-07  0.000001  7.363134e-07  1.906414  65.593338   \n",
       "3  9.063921e-06  0.000001  1.240777e-06  1.131322  53.080768   \n",
       "4  1.059775e-05  0.000001  1.997759e-06  0.533668  34.796833   \n",
       "\n",
       "   small_sema_slope  long_sema_slope direction  \n",
       "0          7.069366       -13.017403      same  \n",
       "1          4.964546       -12.938307      same  \n",
       "2          2.961423       -12.929473      same  \n",
       "3         -1.558345       -12.794593  decrease  \n",
       "4         -8.822273       -12.624174      same  "
      ]
     },
     "execution_count": 3,
     "metadata": {},
     "output_type": "execute_result"
    }
   ],
   "source": [
    "df = pd.read_csv('data/tab_tick_2019.csv')\n",
    "df.head(5)"
   ]
  },
  {
   "cell_type": "code",
   "execution_count": 4,
   "metadata": {},
   "outputs": [
    {
     "name": "stdout",
     "output_type": "stream",
     "text": [
      "Record count : 99901\n",
      "--------------------------\n",
      "same        62104\n",
      "increase    18940\n",
      "decrease    18857\n",
      "Name: direction, dtype: int64\n",
      "--------------------------\n",
      "same        0.621655\n",
      "increase    0.189588\n",
      "decrease    0.188757\n",
      "Name: direction, dtype: float64\n"
     ]
    }
   ],
   "source": [
    "target_col = 'direction'\n",
    "x_scaled, y_encoded, y_map = data_prep(df)"
   ]
  },
  {
   "cell_type": "markdown",
   "metadata": {},
   "source": [
    "## Neural Network"
   ]
  },
  {
   "cell_type": "markdown",
   "metadata": {},
   "source": [
    "### Network building"
   ]
  },
  {
   "cell_type": "code",
   "execution_count": 5,
   "metadata": {},
   "outputs": [],
   "source": [
    "train_x, valid_x, train_y, valid_y = train_test_split(x_scaled, y_encoded,train_size = 0.8,random_state = 1)"
   ]
  },
  {
   "cell_type": "code",
   "execution_count": 6,
   "metadata": {},
   "outputs": [
    {
     "name": "stdout",
     "output_type": "stream",
     "text": [
      "Model: \"sequential\"\n",
      "_________________________________________________________________\n",
      "Layer (type)                 Output Shape              Param #   \n",
      "=================================================================\n",
      "dense (Dense)                (None, 16)                320       \n",
      "_________________________________________________________________\n",
      "dense_1 (Dense)              (None, 32)                544       \n",
      "_________________________________________________________________\n",
      "dense_2 (Dense)              (None, 64)                2112      \n",
      "_________________________________________________________________\n",
      "dense_3 (Dense)              (None, 32)                2080      \n",
      "_________________________________________________________________\n",
      "dense_4 (Dense)              (None, 16)                528       \n",
      "_________________________________________________________________\n",
      "dense_5 (Dense)              (None, 3)                 51        \n",
      "=================================================================\n",
      "Total params: 5,635\n",
      "Trainable params: 5,635\n",
      "Non-trainable params: 0\n",
      "_________________________________________________________________\n"
     ]
    }
   ],
   "source": [
    "model = Sequential([\n",
    "    Dense(units = 16, activation='relu', input_shape=[len(train_x[0])]),\n",
    "    Dense(units = 32, activation='relu'),\n",
    "    Dense(units = 64, activation='relu'),\n",
    "    Dense(units = 32, activation='relu'),\n",
    "    Dense(units = 16, activation='relu'),\n",
    "    Dense(units = 3, activation='softmax')\n",
    "])\n",
    "\n",
    "model.compile(\n",
    "    loss='categorical_crossentropy',\n",
    "    optimizer=Adam(learning_rate=0.001),    \n",
    "    metrics=['accuracy'])\n",
    "\n",
    "model.summary()"
   ]
  },
  {
   "cell_type": "markdown",
   "metadata": {},
   "source": [
    "### Training"
   ]
  },
  {
   "cell_type": "code",
   "execution_count": 7,
   "metadata": {},
   "outputs": [],
   "source": [
    "epoch_val         = 10\n",
    "batch_size_val    = 1024\n",
    "\n",
    "verbose_val       = 2\n",
    "workers_val       = -1"
   ]
  },
  {
   "cell_type": "code",
   "execution_count": 8,
   "metadata": {
    "scrolled": false
   },
   "outputs": [
    {
     "name": "stdout",
     "output_type": "stream",
     "text": [
      "Epoch 1/10\n",
      "79/79 - 1s - loss: 0.7400 - accuracy: 0.6882 - val_loss: 0.4824 - val_accuracy: 0.8066\n",
      "Epoch 2/10\n",
      "79/79 - 1s - loss: 0.4564 - accuracy: 0.8167 - val_loss: 0.4396 - val_accuracy: 0.8191\n",
      "Epoch 3/10\n",
      "79/79 - 1s - loss: 0.4360 - accuracy: 0.8241 - val_loss: 0.4326 - val_accuracy: 0.8201\n",
      "Epoch 4/10\n",
      "79/79 - 1s - loss: 0.4298 - accuracy: 0.8254 - val_loss: 0.4278 - val_accuracy: 0.8233\n",
      "Epoch 5/10\n",
      "79/79 - 1s - loss: 0.4256 - accuracy: 0.8262 - val_loss: 0.4239 - val_accuracy: 0.8251\n",
      "Epoch 6/10\n",
      "79/79 - 1s - loss: 0.4235 - accuracy: 0.8272 - val_loss: 0.4224 - val_accuracy: 0.8259\n",
      "Epoch 7/10\n",
      "79/79 - 1s - loss: 0.4217 - accuracy: 0.8281 - val_loss: 0.4216 - val_accuracy: 0.8276\n",
      "Epoch 8/10\n",
      "79/79 - 1s - loss: 0.4191 - accuracy: 0.8292 - val_loss: 0.4206 - val_accuracy: 0.8269\n",
      "Epoch 9/10\n",
      "79/79 - 1s - loss: 0.4184 - accuracy: 0.8289 - val_loss: 0.4220 - val_accuracy: 0.8248\n",
      "Epoch 10/10\n",
      "79/79 - 1s - loss: 0.4180 - accuracy: 0.8291 - val_loss: 0.4192 - val_accuracy: 0.8266\n"
     ]
    },
    {
     "data": {
      "text/plain": [
       "<tensorflow.python.keras.callbacks.History at 0x1d48bc601d0>"
      ]
     },
     "execution_count": 8,
     "metadata": {},
     "output_type": "execute_result"
    }
   ],
   "source": [
    "model.fit(x=train_x, \n",
    "          y=train_y, \n",
    "          epochs=epoch_val,\n",
    "          batch_size = batch_size_val,\n",
    "          validation_data = (valid_x, valid_y),\n",
    "          workers= workers_val,\n",
    "         verbose=verbose_val)"
   ]
  },
  {
   "cell_type": "markdown",
   "metadata": {},
   "source": [
    "### DNN Validation"
   ]
  },
  {
   "cell_type": "code",
   "execution_count": 9,
   "metadata": {},
   "outputs": [
    {
     "name": "stdout",
     "output_type": "stream",
     "text": [
      "              precision    recall  f1-score   support\n",
      "\n",
      "    decrease       0.81      0.71      0.76      3821\n",
      "    increase       0.79      0.72      0.76      3743\n",
      "        same       0.84      0.90      0.87     12417\n",
      "\n",
      "    accuracy                           0.83     19981\n",
      "   macro avg       0.81      0.77      0.79     19981\n",
      "weighted avg       0.83      0.83      0.82     19981\n",
      "\n"
     ]
    }
   ],
   "source": [
    "predictions = model.predict(valid_x)\n",
    "rounded_predictions = np.argmax(predictions, axis = -1)\n",
    "rounded_valid_y = np.argmax(valid_y, axis = -1)\n",
    "\n",
    "print(classification_report(rounded_valid_y, rounded_predictions, target_names = y_map.values()))"
   ]
  },
  {
   "cell_type": "markdown",
   "metadata": {},
   "source": [
    "### DNN Prediction"
   ]
  },
  {
   "cell_type": "code",
   "execution_count": 10,
   "metadata": {
    "scrolled": false
   },
   "outputs": [
    {
     "name": "stdout",
     "output_type": "stream",
     "text": [
      "Record count : 99901\n",
      "--------------------------\n",
      "same        48793\n",
      "increase    25620\n",
      "decrease    25488\n",
      "Name: direction, dtype: int64\n",
      "--------------------------\n",
      "same        0.488414\n",
      "increase    0.256454\n",
      "decrease    0.255133\n",
      "Name: direction, dtype: float64\n",
      "              precision    recall  f1-score   support\n",
      "\n",
      "    decrease       0.86      0.62      0.72     25488\n",
      "    increase       0.88      0.59      0.71     25620\n",
      "        same       0.69      0.91      0.78     48793\n",
      "\n",
      "    accuracy                           0.75     99901\n",
      "   macro avg       0.81      0.71      0.74     99901\n",
      "weighted avg       0.78      0.75      0.75     99901\n",
      "\n"
     ]
    }
   ],
   "source": [
    "df1 = pd.read_csv('data/tab_tick_2018.csv')\n",
    "\n",
    "#df1 = df1[col_list]\n",
    "x_scaled1, y_encoded1, y_map1 = data_prep(df1, apply_smote = False)\n",
    "\n",
    "predictions = model.predict(x_scaled1)\n",
    "rounded_predictions = np.argmax(predictions, axis = -1)\n",
    "rounded_valid_y = np.argmax(y_encoded1, axis = -1)\n",
    "\n",
    "df1['predictions'] = [y_map1[k] for k in rounded_predictions]\n",
    "df1.to_csv('data/tab_tick_2018_res.csv')\n",
    "\n",
    "print(classification_report(rounded_valid_y, rounded_predictions, target_names = y_map1.values()))"
   ]
  },
  {
   "cell_type": "code",
   "execution_count": 11,
   "metadata": {},
   "outputs": [
    {
     "data": {
      "text/html": [
       "<div>\n",
       "<style scoped>\n",
       "    .dataframe tbody tr th:only-of-type {\n",
       "        vertical-align: middle;\n",
       "    }\n",
       "\n",
       "    .dataframe tbody tr th {\n",
       "        vertical-align: top;\n",
       "    }\n",
       "\n",
       "    .dataframe thead th {\n",
       "        text-align: right;\n",
       "    }\n",
       "</style>\n",
       "<table border=\"1\" class=\"dataframe\">\n",
       "  <thead>\n",
       "    <tr style=\"text-align: right;\">\n",
       "      <th></th>\n",
       "      <th>tick_avg</th>\n",
       "      <th>spread_avg</th>\n",
       "      <th>tick_sd</th>\n",
       "      <th>tick_diff</th>\n",
       "      <th>sema</th>\n",
       "      <th>lema</th>\n",
       "      <th>ema_diff</th>\n",
       "      <th>ssma</th>\n",
       "      <th>lsma</th>\n",
       "      <th>sma_diff</th>\n",
       "      <th>...</th>\n",
       "      <th>gain</th>\n",
       "      <th>loss</th>\n",
       "      <th>avg_gain</th>\n",
       "      <th>avg_loss</th>\n",
       "      <th>rs</th>\n",
       "      <th>rsi</th>\n",
       "      <th>small_sema_slope</th>\n",
       "      <th>long_sema_slope</th>\n",
       "      <th>direction</th>\n",
       "      <th>predictions</th>\n",
       "    </tr>\n",
       "  </thead>\n",
       "  <tbody>\n",
       "    <tr>\n",
       "      <th>0</th>\n",
       "      <td>1.201482</td>\n",
       "      <td>0.000157</td>\n",
       "      <td>0.000007</td>\n",
       "      <td>1.000000e-05</td>\n",
       "      <td>1.201457</td>\n",
       "      <td>1.201171</td>\n",
       "      <td>0.000286</td>\n",
       "      <td>1.201439</td>\n",
       "      <td>1.201024</td>\n",
       "      <td>0.000414</td>\n",
       "      <td>...</td>\n",
       "      <td>0.000006</td>\n",
       "      <td>0.0</td>\n",
       "      <td>0.000003</td>\n",
       "      <td>0.000005</td>\n",
       "      <td>0.620149</td>\n",
       "      <td>38.277283</td>\n",
       "      <td>-24.468222</td>\n",
       "      <td>36.156279</td>\n",
       "      <td>same</td>\n",
       "      <td>same</td>\n",
       "    </tr>\n",
       "    <tr>\n",
       "      <th>1</th>\n",
       "      <td>1.201481</td>\n",
       "      <td>0.000178</td>\n",
       "      <td>0.000002</td>\n",
       "      <td>-5.000000e-07</td>\n",
       "      <td>1.201461</td>\n",
       "      <td>1.201178</td>\n",
       "      <td>0.000283</td>\n",
       "      <td>1.201441</td>\n",
       "      <td>1.201027</td>\n",
       "      <td>0.000413</td>\n",
       "      <td>...</td>\n",
       "      <td>0.000004</td>\n",
       "      <td>0.0</td>\n",
       "      <td>0.000003</td>\n",
       "      <td>0.000005</td>\n",
       "      <td>0.639789</td>\n",
       "      <td>39.016561</td>\n",
       "      <td>-11.820742</td>\n",
       "      <td>37.596694</td>\n",
       "      <td>same</td>\n",
       "      <td>same</td>\n",
       "    </tr>\n",
       "    <tr>\n",
       "      <th>2</th>\n",
       "      <td>1.201483</td>\n",
       "      <td>0.000176</td>\n",
       "      <td>0.000002</td>\n",
       "      <td>2.000000e-06</td>\n",
       "      <td>1.201465</td>\n",
       "      <td>1.201185</td>\n",
       "      <td>0.000280</td>\n",
       "      <td>1.201448</td>\n",
       "      <td>1.201034</td>\n",
       "      <td>0.000414</td>\n",
       "      <td>...</td>\n",
       "      <td>0.000004</td>\n",
       "      <td>0.0</td>\n",
       "      <td>0.000003</td>\n",
       "      <td>0.000005</td>\n",
       "      <td>0.638914</td>\n",
       "      <td>38.983976</td>\n",
       "      <td>-0.274442</td>\n",
       "      <td>38.488405</td>\n",
       "      <td>same</td>\n",
       "      <td>same</td>\n",
       "    </tr>\n",
       "    <tr>\n",
       "      <th>3</th>\n",
       "      <td>1.201496</td>\n",
       "      <td>0.000173</td>\n",
       "      <td>0.000010</td>\n",
       "      <td>1.350000e-05</td>\n",
       "      <td>1.201471</td>\n",
       "      <td>1.201192</td>\n",
       "      <td>0.000279</td>\n",
       "      <td>1.201455</td>\n",
       "      <td>1.201044</td>\n",
       "      <td>0.000412</td>\n",
       "      <td>...</td>\n",
       "      <td>0.000006</td>\n",
       "      <td>0.0</td>\n",
       "      <td>0.000003</td>\n",
       "      <td>0.000005</td>\n",
       "      <td>0.662203</td>\n",
       "      <td>39.838872</td>\n",
       "      <td>10.405255</td>\n",
       "      <td>39.028280</td>\n",
       "      <td>same</td>\n",
       "      <td>same</td>\n",
       "    </tr>\n",
       "    <tr>\n",
       "      <th>4</th>\n",
       "      <td>1.201492</td>\n",
       "      <td>0.000158</td>\n",
       "      <td>0.000010</td>\n",
       "      <td>-4.500000e-06</td>\n",
       "      <td>1.201475</td>\n",
       "      <td>1.201199</td>\n",
       "      <td>0.000276</td>\n",
       "      <td>1.201462</td>\n",
       "      <td>1.201051</td>\n",
       "      <td>0.000411</td>\n",
       "      <td>...</td>\n",
       "      <td>0.000004</td>\n",
       "      <td>0.0</td>\n",
       "      <td>0.000002</td>\n",
       "      <td>0.000005</td>\n",
       "      <td>0.540048</td>\n",
       "      <td>35.066958</td>\n",
       "      <td>18.440327</td>\n",
       "      <td>39.492326</td>\n",
       "      <td>same</td>\n",
       "      <td>same</td>\n",
       "    </tr>\n",
       "  </tbody>\n",
       "</table>\n",
       "<p>5 rows × 21 columns</p>\n",
       "</div>"
      ],
      "text/plain": [
       "   tick_avg  spread_avg   tick_sd     tick_diff      sema      lema  ema_diff  \\\n",
       "0  1.201482    0.000157  0.000007  1.000000e-05  1.201457  1.201171  0.000286   \n",
       "1  1.201481    0.000178  0.000002 -5.000000e-07  1.201461  1.201178  0.000283   \n",
       "2  1.201483    0.000176  0.000002  2.000000e-06  1.201465  1.201185  0.000280   \n",
       "3  1.201496    0.000173  0.000010  1.350000e-05  1.201471  1.201192  0.000279   \n",
       "4  1.201492    0.000158  0.000010 -4.500000e-06  1.201475  1.201199  0.000276   \n",
       "\n",
       "       ssma      lsma  sma_diff  ...      gain  loss  avg_gain  avg_loss  \\\n",
       "0  1.201439  1.201024  0.000414  ...  0.000006   0.0  0.000003  0.000005   \n",
       "1  1.201441  1.201027  0.000413  ...  0.000004   0.0  0.000003  0.000005   \n",
       "2  1.201448  1.201034  0.000414  ...  0.000004   0.0  0.000003  0.000005   \n",
       "3  1.201455  1.201044  0.000412  ...  0.000006   0.0  0.000003  0.000005   \n",
       "4  1.201462  1.201051  0.000411  ...  0.000004   0.0  0.000002  0.000005   \n",
       "\n",
       "         rs        rsi  small_sema_slope  long_sema_slope  direction  \\\n",
       "0  0.620149  38.277283        -24.468222        36.156279       same   \n",
       "1  0.639789  39.016561        -11.820742        37.596694       same   \n",
       "2  0.638914  38.983976         -0.274442        38.488405       same   \n",
       "3  0.662203  39.838872         10.405255        39.028280       same   \n",
       "4  0.540048  35.066958         18.440327        39.492326       same   \n",
       "\n",
       "  predictions  \n",
       "0        same  \n",
       "1        same  \n",
       "2        same  \n",
       "3        same  \n",
       "4        same  \n",
       "\n",
       "[5 rows x 21 columns]"
      ]
     },
     "execution_count": 11,
     "metadata": {},
     "output_type": "execute_result"
    }
   ],
   "source": [
    "df1.head()"
   ]
  },
  {
   "cell_type": "markdown",
   "metadata": {},
   "source": [
    "## RF Results"
   ]
  },
  {
   "cell_type": "code",
   "execution_count": 12,
   "metadata": {
    "scrolled": true
   },
   "outputs": [
    {
     "name": "stdout",
     "output_type": "stream",
     "text": [
      "              precision    recall  f1-score   support\n",
      "\n",
      "    decrease       0.79      0.73      0.76      3821\n",
      "    increase       0.80      0.71      0.76      3743\n",
      "        same       0.85      0.89      0.87     12417\n",
      "\n",
      "    accuracy                           0.83     19981\n",
      "   macro avg       0.81      0.78      0.79     19981\n",
      "weighted avg       0.83      0.83      0.83     19981\n",
      "\n",
      "Wall time: 12.8 s\n"
     ]
    }
   ],
   "source": [
    "%%time\n",
    "clf = RandomForestClassifier(n_jobs=-1) \n",
    "clf.fit(train_x, train_y)\n",
    "predictions = clf.predict(valid_x)\n",
    "rounded_predictions = np.argmax(predictions, axis = -1)\n",
    "rounded_valid_y = np.argmax(valid_y, axis = -1)\n",
    "print(classification_report(rounded_valid_y, rounded_predictions, target_names = y_map.values()))"
   ]
  },
  {
   "cell_type": "code",
   "execution_count": 13,
   "metadata": {
    "scrolled": false
   },
   "outputs": [
    {
     "data": {
      "image/png": "[encoded data removed]",
      "text/plain": [
       "<Figure size 1080x720 with 1 Axes>"
      ]
     },
     "metadata": {
      "needs_background": "light"
     },
     "output_type": "display_data"
    }
   ],
   "source": [
    "x_cols = df.columns[df.columns != 'direction']\n",
    "fig = plt.figure()\n",
    "fig.suptitle('Feature importance', fontsize=20)\n",
    "plt.xlabel('Importance %', fontsize=16)\n",
    "plt.ylabel('Features', fontsize=16)\n",
    "plt.tick_params(axis='x', labelsize=12)\n",
    "plt.tick_params(axis='y', labelsize=15)\n",
    "\n",
    "\n",
    "feat_importances = pd.Series(clf.feature_importances_ * 100, index=x_cols)\n",
    "feat_importances.nlargest(24).plot(kind='barh', figsize=(15, 10), rot=45)\n",
    "\n",
    "for index, value in enumerate(np.round(-np.sort(-clf.feature_importances_ * 100))):\n",
    "    plt.text(value+0.45, index, str(value), fontsize=12)"
   ]
  }
 ],
 "metadata": {
  "kernelspec": {
   "display_name": "Python 3.6.6 64-bit",
   "language": "python",
   "name": "python36664bitab910dfda0bc43a8bf7df0c20d1c59f2"
  },
  "language_info": {
   "codemirror_mode": {
    "name": "ipython",
    "version": 3
   },
   "file_extension": ".py",
   "mimetype": "text/x-python",
   "name": "python",
   "nbconvert_exporter": "python",
   "pygments_lexer": "ipython3",
   "version": "3.6.6"
  }
 },
 "nbformat": 4,
 "nbformat_minor": 4
}
