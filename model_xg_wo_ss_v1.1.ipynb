{
 "cells": [
  {
   "cell_type": "markdown",
   "metadata": {},
   "source": [
    "# Modelling"
   ]
  },
  {
   "cell_type": "markdown",
   "metadata": {},
   "source": [
    "## Packages"
   ]
  },
  {
   "cell_type": "code",
   "execution_count": 1,
   "metadata": {
    "scrolled": true
   },
   "outputs": [
    {
     "name": "stdout",
     "output_type": "stream",
     "text": [
      " Found and Using 1 GPU\n"
     ]
    }
   ],
   "source": [
    "import os\n",
    "import numpy as np\n",
    "import pandas as pd\n",
    "from tqdm import tqdm\n",
    "import winsound\n",
    "import datetime as dt\n",
    "\n",
    "import warnings\n",
    "warnings.filterwarnings('ignore')\n",
    "\n",
    "from sklearn.model_selection import train_test_split, GridSearchCV\n",
    "from sklearn.preprocessing import StandardScaler, MinMaxScaler, LabelEncoder, OneHotEncoder, normalize\n",
    "from sklearn.metrics import classification_report, confusion_matrix, ConfusionMatrixDisplay\n",
    "from sklearn.ensemble import RandomForestClassifier\n",
    "import joblib\n",
    "\n",
    "import xgboost\n",
    "\n",
    "import tensorflow\n",
    "from tensorflow.keras import layers\n",
    "from tensorflow.keras import utils\n",
    "from tensorflow.keras.models import load_model\n",
    "\n",
    "from tensorflow.keras.models import Sequential\n",
    "from tensorflow.keras.layers import Dense, Dropout\n",
    "from tensorflow.keras.optimizers import Adam, SGD\n",
    "from tensorflow.keras.losses import CategoricalCrossentropy, BinaryCrossentropy\n",
    "from tensorflow.keras.metrics import CategoricalAccuracy, BinaryAccuracy\n",
    "#from tensorflow.nn import relu, softmax\n",
    "\n",
    "from imblearn.over_sampling import SMOTE\n",
    "\n",
    "from matplotlib import pyplot as plt\n",
    "\n",
    "print(f\" Found and Using {len(tensorflow.config.experimental.list_physical_devices('GPU'))} GPU\")"
   ]
  },
  {
   "cell_type": "markdown",
   "metadata": {},
   "source": [
    "## Functions"
   ]
  },
  {
   "cell_type": "code",
   "execution_count": 2,
   "metadata": {},
   "outputs": [],
   "source": [
    "def scale_x_encode_y(x, y):\n",
    "\n",
    "    scaler_obj = StandardScaler()\n",
    "    #scaler_obj = MinMaxScaler()\n",
    "    scaler_obj.fit(x.values)\n",
    "    x_scaled = scaler_obj.transform(x.values)\n",
    "    #x_scaled = x.values\n",
    "    \n",
    "    encoder = LabelEncoder()\n",
    "    encoder.fit(y)\n",
    "    y_encoded = encoder.transform(y)\n",
    "    y_encoded = utils.to_categorical(y_encoded)\n",
    "    \n",
    "    y_map = dict(zip(encoder.transform(encoder.classes_),encoder.classes_))\n",
    " \n",
    "    return(x_scaled, y_encoded, y_map, scaler_obj)\n",
    "\n",
    "\n",
    "def smote_data(x, y):\n",
    "    oversample = SMOTE()\n",
    "    smote_x, smote_y = oversample.fit_resample(x, y)\n",
    "    return(smote_x, smote_y)\n",
    "\n",
    "\n",
    "def data_prep(df, apply_smote = False):\n",
    "    x = df.loc[:, df.columns != target_col]\n",
    "    y = df[target_col]\n",
    "\n",
    "    if apply_smote:\n",
    "        x, y = smote_data(x, y)\n",
    "\n",
    "    print(f'Record count : {len(y)}')\n",
    "    print('--------------------------')\n",
    "    print(y.value_counts())\n",
    "    print('--------------------------')\n",
    "    print(y.value_counts(normalize=True))\n",
    "    \n",
    "    x_scaled, y_encoded, y_map, scaler_obj = scale_x_encode_y(x, y)\n",
    "    pd.DataFrame(x_scaled).head()\n",
    "    \n",
    "    return(x_scaled, y_encoded, y_map, scaler_obj)"
   ]
  },
  {
   "cell_type": "markdown",
   "metadata": {},
   "source": [
    "## Read Data"
   ]
  },
  {
   "cell_type": "code",
   "execution_count": 3,
   "metadata": {},
   "outputs": [],
   "source": [
    "#remove_cols = ['tick_avg', 'sema', 'ssma', 'lema', 'lsma', 'max_tick', 'min_tick', 'small_sema_slope', 'long_sema_slope']\n",
    "remove_cols = ['tick_avg', 'sema', 'ssma', 'lema', 'lsma', 'max_tick', 'min_tick', 'rs']"
   ]
  },
  {
   "cell_type": "code",
   "execution_count": 4,
   "metadata": {},
   "outputs": [],
   "source": [
    "file_name = 'tab_tick'\n",
    "#file_name = 'full_tab_tick'"
   ]
  },
  {
   "cell_type": "code",
   "execution_count": 5,
   "metadata": {},
   "outputs": [
    {
     "data": {
      "text/html": [
       "<div>\n",
       "<style scoped>\n",
       "    .dataframe tbody tr th:only-of-type {\n",
       "        vertical-align: middle;\n",
       "    }\n",
       "\n",
       "    .dataframe tbody tr th {\n",
       "        vertical-align: top;\n",
       "    }\n",
       "\n",
       "    .dataframe thead th {\n",
       "        text-align: right;\n",
       "    }\n",
       "</style>\n",
       "<table border=\"1\" class=\"dataframe\">\n",
       "  <thead>\n",
       "    <tr style=\"text-align: right;\">\n",
       "      <th></th>\n",
       "      <th>spread_avg</th>\n",
       "      <th>tick_sd</th>\n",
       "      <th>sema_diff</th>\n",
       "      <th>lema_diff</th>\n",
       "      <th>diff</th>\n",
       "      <th>avg_gain</th>\n",
       "      <th>avg_loss</th>\n",
       "      <th>rsi</th>\n",
       "      <th>ssma_diff</th>\n",
       "      <th>lsma_diff</th>\n",
       "      <th>sma_diff</th>\n",
       "      <th>max_gap</th>\n",
       "      <th>min_gap</th>\n",
       "      <th>small_sema_slope</th>\n",
       "      <th>long_sema_slope</th>\n",
       "      <th>ema_diff</th>\n",
       "      <th>direction</th>\n",
       "    </tr>\n",
       "  </thead>\n",
       "  <tbody>\n",
       "    <tr>\n",
       "      <th>0</th>\n",
       "      <td>0.000066</td>\n",
       "      <td>0.000033</td>\n",
       "      <td>0.000022</td>\n",
       "      <td>0.000035</td>\n",
       "      <td>0.000021</td>\n",
       "      <td>0.000045</td>\n",
       "      <td>0.000030</td>\n",
       "      <td>59.591623</td>\n",
       "      <td>0.000018</td>\n",
       "      <td>0.000036</td>\n",
       "      <td>0.000133</td>\n",
       "      <td>0.000000</td>\n",
       "      <td>-0.000087</td>\n",
       "      <td>72.840045</td>\n",
       "      <td>78.091169</td>\n",
       "      <td>0.000071</td>\n",
       "      <td>same</td>\n",
       "    </tr>\n",
       "    <tr>\n",
       "      <th>1</th>\n",
       "      <td>0.000064</td>\n",
       "      <td>0.000047</td>\n",
       "      <td>0.000020</td>\n",
       "      <td>0.000032</td>\n",
       "      <td>0.000021</td>\n",
       "      <td>0.000046</td>\n",
       "      <td>0.000030</td>\n",
       "      <td>60.385389</td>\n",
       "      <td>0.000014</td>\n",
       "      <td>0.000035</td>\n",
       "      <td>0.000112</td>\n",
       "      <td>0.000000</td>\n",
       "      <td>-0.000108</td>\n",
       "      <td>68.684905</td>\n",
       "      <td>78.874888</td>\n",
       "      <td>0.000059</td>\n",
       "      <td>same</td>\n",
       "    </tr>\n",
       "    <tr>\n",
       "      <th>2</th>\n",
       "      <td>0.000056</td>\n",
       "      <td>0.000017</td>\n",
       "      <td>0.000011</td>\n",
       "      <td>0.000029</td>\n",
       "      <td>-0.000013</td>\n",
       "      <td>0.000046</td>\n",
       "      <td>0.000020</td>\n",
       "      <td>70.004880</td>\n",
       "      <td>0.000019</td>\n",
       "      <td>0.000054</td>\n",
       "      <td>0.000077</td>\n",
       "      <td>0.000013</td>\n",
       "      <td>-0.000069</td>\n",
       "      <td>63.352971</td>\n",
       "      <td>77.576158</td>\n",
       "      <td>0.000041</td>\n",
       "      <td>same</td>\n",
       "    </tr>\n",
       "    <tr>\n",
       "      <th>3</th>\n",
       "      <td>0.000053</td>\n",
       "      <td>0.000024</td>\n",
       "      <td>-0.000028</td>\n",
       "      <td>0.000002</td>\n",
       "      <td>-0.000088</td>\n",
       "      <td>0.000046</td>\n",
       "      <td>0.000025</td>\n",
       "      <td>64.799077</td>\n",
       "      <td>-0.000004</td>\n",
       "      <td>0.000034</td>\n",
       "      <td>0.000039</td>\n",
       "      <td>0.000101</td>\n",
       "      <td>0.000000</td>\n",
       "      <td>38.347811</td>\n",
       "      <td>73.138665</td>\n",
       "      <td>0.000010</td>\n",
       "      <td>same</td>\n",
       "    </tr>\n",
       "    <tr>\n",
       "      <th>4</th>\n",
       "      <td>0.000050</td>\n",
       "      <td>0.000051</td>\n",
       "      <td>-0.000048</td>\n",
       "      <td>-0.000020</td>\n",
       "      <td>-0.000071</td>\n",
       "      <td>0.000045</td>\n",
       "      <td>0.000030</td>\n",
       "      <td>60.037251</td>\n",
       "      <td>-0.000026</td>\n",
       "      <td>0.000002</td>\n",
       "      <td>0.000011</td>\n",
       "      <td>0.000172</td>\n",
       "      <td>0.000000</td>\n",
       "      <td>-47.239966</td>\n",
       "      <td>62.713918</td>\n",
       "      <td>-0.000018</td>\n",
       "      <td>decrease</td>\n",
       "    </tr>\n",
       "  </tbody>\n",
       "</table>\n",
       "</div>"
      ],
      "text/plain": [
       "   spread_avg   tick_sd  sema_diff  lema_diff      diff  avg_gain  avg_loss  \\\n",
       "0    0.000066  0.000033   0.000022   0.000035  0.000021  0.000045  0.000030   \n",
       "1    0.000064  0.000047   0.000020   0.000032  0.000021  0.000046  0.000030   \n",
       "2    0.000056  0.000017   0.000011   0.000029 -0.000013  0.000046  0.000020   \n",
       "3    0.000053  0.000024  -0.000028   0.000002 -0.000088  0.000046  0.000025   \n",
       "4    0.000050  0.000051  -0.000048  -0.000020 -0.000071  0.000045  0.000030   \n",
       "\n",
       "         rsi  ssma_diff  lsma_diff  sma_diff   max_gap   min_gap  \\\n",
       "0  59.591623   0.000018   0.000036  0.000133  0.000000 -0.000087   \n",
       "1  60.385389   0.000014   0.000035  0.000112  0.000000 -0.000108   \n",
       "2  70.004880   0.000019   0.000054  0.000077  0.000013 -0.000069   \n",
       "3  64.799077  -0.000004   0.000034  0.000039  0.000101  0.000000   \n",
       "4  60.037251  -0.000026   0.000002  0.000011  0.000172  0.000000   \n",
       "\n",
       "   small_sema_slope  long_sema_slope  ema_diff direction  \n",
       "0         72.840045        78.091169  0.000071      same  \n",
       "1         68.684905        78.874888  0.000059      same  \n",
       "2         63.352971        77.576158  0.000041      same  \n",
       "3         38.347811        73.138665  0.000010      same  \n",
       "4        -47.239966        62.713918 -0.000018  decrease  "
      ]
     },
     "execution_count": 5,
     "metadata": {},
     "output_type": "execute_result"
    }
   ],
   "source": [
    "#df1 = pd.read_csv('data/'+file_name+'_2017.csv')\n",
    "#df2 = pd.read_csv('data/'+file_name+'_2018.csv')\n",
    "#df = df1.append(df2, ignore_index=True)\n",
    "\n",
    "df = pd.read_csv('data/'+file_name+'_2019.csv')\n",
    "\n",
    "df.drop(remove_cols, axis=1, inplace=True)\n",
    "df.head(5)"
   ]
  },
  {
   "cell_type": "markdown",
   "metadata": {},
   "source": [
    "## -----------------------------------"
   ]
  },
  {
   "cell_type": "code",
   "execution_count": 6,
   "metadata": {},
   "outputs": [
    {
     "name": "stdout",
     "output_type": "stream",
     "text": [
      "Wall time: 12 ms\n"
     ]
    }
   ],
   "source": [
    "%%time\n",
    "target_col = 'direction'\n",
    "x = df.loc[:, df.columns != target_col]\n",
    "y = df[target_col]\n",
    "train_x, valid_x, train_y, valid_y = train_test_split(x, y,train_size = 0.8,random_state = 1)"
   ]
  },
  {
   "cell_type": "markdown",
   "metadata": {},
   "source": [
    "alg = xgboost.XGBClassifier(tree_method='gpu_hist', gpu_id=0)\n",
    "clf_xg = GridSearchCV(alg,{'max_depth': [2,4,6],\n",
    "                    'n_estimators': [50,100,200]}, \n",
    "                    verbose=2, \n",
    "                    scoring='neg_log_loss',\n",
    "                     n_jobs = -1)\n",
    "\n",
    "\n",
    "clf_xg.fit(train_x, train_y)\n",
    "\n",
    "print(clf_xg.best_score_, clf_xg.best_params_)\n",
    "\n",
    "joblib.dump(clf_xg, 'data/model/model_xg.pkl') \n",
    "\n",
    "predictions = clf_xg.predict(valid_x)\n",
    "rounded_valid_y = np.argmax(valid_y, axis = -1)\n",
    "print(classification_report(valid_y, predictions))"
   ]
  },
  {
   "cell_type": "code",
   "execution_count": 7,
   "metadata": {},
   "outputs": [
    {
     "name": "stdout",
     "output_type": "stream",
     "text": [
      "[15:04:30] WARNING: C:/Users/Administrator/workspace/xgboost-win64_release_1.3.0/src/learner.cc:1061: Starting in XGBoost 1.3.0, the default evaluation metric used with the objective 'multi:softprob' was changed from 'merror' to 'mlogloss'. Explicitly set eval_metric if you'd like to restore the old behavior.\n",
      "              precision    recall  f1-score   support\n",
      "\n",
      "    decrease       0.62      0.41      0.50       722\n",
      "    increase       0.60      0.40      0.48       678\n",
      "        same       0.86      0.93      0.89      5265\n",
      "\n",
      "    accuracy                           0.82      6665\n",
      "   macro avg       0.69      0.58      0.62      6665\n",
      "weighted avg       0.80      0.82      0.81      6665\n",
      "\n",
      "Wall time: 3.95 s\n"
     ]
    }
   ],
   "source": [
    "%%time\n",
    "clf_xg = xgboost.XGBClassifier(tree_method='gpu_hist', gpu_id=0)\n",
    "\n",
    "clf_xg.fit(train_x, train_y)\n",
    "joblib.dump(clf_xg, 'data/model/model_xg.pkl') \n",
    "\n",
    "predictions = clf_xg.predict(valid_x)\n",
    "rounded_valid_y = np.argmax(valid_y, axis = -1)\n",
    "print(classification_report(valid_y, predictions))"
   ]
  },
  {
   "cell_type": "markdown",
   "metadata": {},
   "source": [
    "clf_xg.get_xgb_params()"
   ]
  },
  {
   "cell_type": "markdown",
   "metadata": {},
   "source": [
    "## -----------------------------------"
   ]
  },
  {
   "cell_type": "code",
   "execution_count": 8,
   "metadata": {},
   "outputs": [
    {
     "data": {
      "text/plain": [
       "<AxesSubplot:>"
      ]
     },
     "execution_count": 8,
     "metadata": {},
     "output_type": "execute_result"
    },
    {
     "data": {
      "image/png": "[encoded data removed]",
      "text/plain": [
       "<Figure size 432x288 with 1 Axes>"
      ]
     },
     "metadata": {
      "needs_background": "light"
     },
     "output_type": "display_data"
    }
   ],
   "source": [
    "feature_important = clf_xg.get_booster().get_score(importance_type='weight')\n",
    "keys = list(feature_important.keys())\n",
    "values = list(feature_important.values())\n",
    "\n",
    "data = pd.DataFrame(data=values, index=keys, columns=[\"score\"]).sort_values(by = \"score\", ascending=False)\n",
    "data.plot(kind='barh')"
   ]
  },
  {
   "cell_type": "code",
   "execution_count": 9,
   "metadata": {},
   "outputs": [
    {
     "name": "stdout",
     "output_type": "stream",
     "text": [
      "              precision    recall  f1-score   support\n",
      "\n",
      "    decrease       0.67      0.58      0.62      7692\n",
      "    increase       0.65      0.57      0.61      7569\n",
      "        same       0.69      0.77      0.73     18060\n",
      "\n",
      "    accuracy                           0.68     33321\n",
      "   macro avg       0.67      0.64      0.65     33321\n",
      "weighted avg       0.68      0.68      0.68     33321\n",
      "\n",
      "Wall time: 1.07 s\n"
     ]
    },
    {
     "data": {
      "text/plain": [
       "<sklearn.metrics._plot.confusion_matrix.ConfusionMatrixDisplay at 0x20a51b44390>"
      ]
     },
     "execution_count": 9,
     "metadata": {},
     "output_type": "execute_result"
    },
    {
     "data": {
      "image/png": "[encoded data removed]",
      "text/plain": [
       "<Figure size 576x576 with 2 Axes>"
      ]
     },
     "metadata": {
      "needs_background": "light"
     },
     "output_type": "display_data"
    }
   ],
   "source": [
    "%%time\n",
    "df1 = pd.read_csv('data/'+file_name+'_2018.csv')\n",
    "df1.drop(remove_cols, axis=1, inplace=True)\n",
    "x = df1.loc[:, df1.columns != target_col]\n",
    "y = df1[target_col]\n",
    "\n",
    "clf_xg = joblib.load('data/model/model_xg.pkl') \n",
    "predictions = clf_xg.predict(x)\n",
    "\n",
    "df1['predictions'] = predictions\n",
    "#df1.to_csv('data/'+file_name+'_2018_res.csv')\n",
    "\n",
    "print(classification_report(y, predictions))\n",
    "\n",
    "fig, ax = plt.subplots(figsize=(8, 8))\n",
    "cm = confusion_matrix(y, predictions, labels=clf_xg.classes_)\n",
    "disp = ConfusionMatrixDisplay(confusion_matrix=cm, display_labels=clf_xg.classes_)\n",
    "disp.plot(ax=ax)"
   ]
  },
  {
   "cell_type": "markdown",
   "metadata": {
    "scrolled": false
   },
   "source": [
    "%%time\n",
    "df1 = pd.read_csv('data/'+file_name+'_2017.csv')\n",
    "df1.drop(remove_cols, axis=1, inplace=True)\n",
    "x = df1.loc[:, df1.columns != target_col]\n",
    "y = df1[target_col]\n",
    "\n",
    "clf_xg = joblib.load('data/model/model_xg.pkl') \n",
    "predictions = clf_xg.predict(x)\n",
    "\n",
    "df1['predictions'] = predictions\n",
    "#df1.to_csv('data/'+file_name+'_2018_res.csv')\n",
    "\n",
    "print(classification_report(y, predictions))\n",
    "\n",
    "fig, ax = plt.subplots(figsize=(8, 8))\n",
    "cm = confusion_matrix(y, predictions, labels=clf_xg.classes_)\n",
    "disp = ConfusionMatrixDisplay(confusion_matrix=cm, display_labels=clf_xg.classes_)\n",
    "disp.plot(ax=ax)"
   ]
  },
  {
   "cell_type": "markdown",
   "metadata": {},
   "source": [
    "live_df = pd.read_csv('data/live_preds.csv')\n",
    "live_df.drop(remove_cols, axis=1, inplace=True)\n",
    "del live_df['predicted_direction']\n",
    "\n",
    "scaler_obj = joblib.load('data/model/scaler_obj.pkl')\n",
    "y_map = joblib.load('data/model/y_map.pkl') \n",
    "x_scaled = scaler_obj.transform(live_df.values)\n",
    "\n",
    "predictions = clf_xg.predict(x_scaled)\n",
    "\n",
    "live_df['predictions'] = [y_map[k] for k in predictions]\n",
    "\n",
    "print(y_map)\n",
    "live_df['predictions'].value_counts()"
   ]
  },
  {
   "cell_type": "code",
   "execution_count": 10,
   "metadata": {},
   "outputs": [],
   "source": [
    "winsound.PlaySound('C:\\\\Windows\\\\Media\\\\tada.wav', winsound.SND_ASYNC)"
   ]
  }
 ],
 "metadata": {
  "kernelspec": {
   "display_name": "Python 3.6.6 64-bit",
   "language": "python",
   "name": "python36664bitab910dfda0bc43a8bf7df0c20d1c59f2"
  },
  "language_info": {
   "codemirror_mode": {
    "name": "ipython",
    "version": 3
   },
   "file_extension": ".py",
   "mimetype": "text/x-python",
   "name": "python",
   "nbconvert_exporter": "python",
   "pygments_lexer": "ipython3",
   "version": "3.6.6"
  }
 },
 "nbformat": 4,
 "nbformat_minor": 4
}
