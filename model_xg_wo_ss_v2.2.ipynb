{
 "cells": [
  {
   "cell_type": "markdown",
   "metadata": {},
   "source": [
    "# Modelling"
   ]
  },
  {
   "cell_type": "markdown",
   "metadata": {},
   "source": [
    "## Packages"
   ]
  },
  {
   "cell_type": "code",
   "execution_count": 1,
   "metadata": {
    "scrolled": true
   },
   "outputs": [],
   "source": [
    "import os\n",
    "import json\n",
    "import numpy as np\n",
    "import pandas as pd\n",
    "from tqdm import tqdm\n",
    "import winsound\n",
    "import datetime as dt\n",
    "import pickle \n",
    "\n",
    "import warnings\n",
    "warnings.filterwarnings('ignore')\n",
    "\n",
    "from sklearn.model_selection import train_test_split, GridSearchCV\n",
    "from sklearn.preprocessing import StandardScaler, MinMaxScaler, LabelEncoder, OneHotEncoder, normalize\n",
    "from sklearn.metrics import classification_report, confusion_matrix, ConfusionMatrixDisplay\n",
    "from sklearn.ensemble import RandomForestClassifier\n",
    "import joblib\n",
    "\n",
    "import xgboost\n",
    "\n",
    "from sklearn.model_selection import KFold\n",
    "from sklearn.model_selection import cross_val_score\n",
    "\n",
    "from matplotlib import pyplot as plt"
   ]
  },
  {
   "cell_type": "markdown",
   "metadata": {},
   "source": [
    "import tensorflow\n",
    "from tensorflow.keras import layers\n",
    "from tensorflow.keras import utils\n",
    "from tensorflow.keras.models import load_model\n",
    "from tensorflow.keras.models import Sequential\n",
    "from tensorflow.keras.layers import Dense, Dropout\n",
    "from tensorflow.keras.optimizers import Adam, SGD\n",
    "from tensorflow.keras.losses import CategoricalCrossentropy, BinaryCrossentropy\n",
    "from tensorflow.keras.metrics import CategoricalAccuracy, BinaryAccuracy\n",
    "from tensorflow.nn import relu, softmax\n",
    "print(f\" Found and Using {len(tensorflow.config.experimental.list_physical_devices('GPU'))} GPU\")\n",
    "\n",
    "from imblearn.under_sampling import RandomUnderSampler\n",
    "from imblearn.over_sampling import SMOTE"
   ]
  },
  {
   "cell_type": "markdown",
   "metadata": {},
   "source": [
    "## Functions"
   ]
  },
  {
   "cell_type": "code",
   "execution_count": 2,
   "metadata": {},
   "outputs": [],
   "source": [
    "def scale_x_encode_y(x, y):\n",
    "\n",
    "    scaler_obj = StandardScaler()\n",
    "    #scaler_obj = MinMaxScaler()\n",
    "    scaler_obj.fit(x.values)\n",
    "    x_scaled = scaler_obj.transform(x.values)\n",
    "    #x_scaled = x.values\n",
    "    \n",
    "    encoder = LabelEncoder()\n",
    "    encoder.fit(y)\n",
    "    y_encoded = encoder.transform(y)\n",
    "    y_encoded = utils.to_categorical(y_encoded)\n",
    "    \n",
    "    y_map = dict(zip(encoder.transform(encoder.classes_),encoder.classes_))\n",
    " \n",
    "    return(x_scaled, y_encoded, y_map, scaler_obj)\n",
    "\n",
    "\n",
    "def smote_data(x, y):\n",
    "    oversample = SMOTE()\n",
    "    smote_x, smote_y = oversample.fit_resample(x, y)\n",
    "    return(smote_x, smote_y)\n",
    "\n",
    "\n",
    "def data_prep(df, apply_smote = False):\n",
    "    x = df.loc[:, df.columns != target_col]\n",
    "    y = df[target_col]\n",
    "\n",
    "    if apply_smote:\n",
    "        x, y = smote_data(x, y)\n",
    "\n",
    "    print(f'Record count : {len(y)}')\n",
    "    print('--------------------------')\n",
    "    print(y.value_counts())\n",
    "    print('--------------------------')\n",
    "    print(y.value_counts(normalize=True))\n",
    "    \n",
    "    x_scaled, y_encoded, y_map, scaler_obj = scale_x_encode_y(x, y)\n",
    "    pd.DataFrame(x_scaled).head()\n",
    "    \n",
    "    return(x_scaled, y_encoded, y_map, scaler_obj)\n",
    "\n",
    "def under_sample(x,y,same_multiple):\n",
    "    #undersample = RandomUnderSampler(sampling_strategy='majority')\n",
    "    print('Before')\n",
    "    print(y.value_counts())\n",
    "    count_dict = dict(y.value_counts())\n",
    "    same_num = min(count_dict['increase'] * same_multiple, count_dict['same'])\n",
    "    inc_num = count_dict['increase']\n",
    "    dec_num = count_dict['decrease']\n",
    "\n",
    "    undersample = RandomUnderSampler(sampling_strategy={'same':same_num, 'decrease':dec_num, 'increase':inc_num})\n",
    "    x, y = undersample.fit_resample(x, y)\n",
    "    print('After')\n",
    "    print(y.value_counts())\n",
    "    return(x,y)"
   ]
  },
  {
   "cell_type": "markdown",
   "metadata": {},
   "source": [
    "## Read Data"
   ]
  },
  {
   "cell_type": "code",
   "execution_count": 3,
   "metadata": {},
   "outputs": [],
   "source": [
    "#remove_cols = ['tick_avg', 'sema', 'ssma', 'lema', 'lsma', 'max_tick', 'min_tick', 'small_sema_slope', 'long_sema_slope']\n",
    "#remove_cols = ['tick_avg', 'sema', 'ssma', 'lema', 'lsma', 'max_tick', 'min_tick', 'rs', 'lema_diff', 'long_sema_slope']\n",
    "#remove_cols = ['tick_act','tick_avg', 'sema', 'ssma', 'lema', 'lsma', 'max_tick', 'min_tick', 'rs', 'lema_diff', 'spread_avg', 'lema_diff', 'ema_diff', 'avg_loss','avg_gain']\n",
    "#remove_cols = ['tick_act','tick_avg', 'sema', 'ssma', 'lema', 'lsma', 'max_tick', 'min_tick', 'rs', 'lema_diff', 'spread_avg', 'lema_diff', 'ema_diff', 'avg_loss','avg_gain', 'slope_diff', 'lsma_diff', 'ssma_diff', 'min_gap']\n",
    "remove_cols = ['tick_act','tick_avg', 'sema', 'ssma', 'lema', 'lsma', 'max_tick', 'min_tick', 'rs']"
   ]
  },
  {
   "cell_type": "code",
   "execution_count": 4,
   "metadata": {
    "scrolled": true
   },
   "outputs": [
    {
     "name": "stdout",
     "output_type": "stream",
     "text": [
      "109200\n"
     ]
    },
    {
     "data": {
      "text/html": [
       "<div>\n",
       "<style scoped>\n",
       "    .dataframe tbody tr th:only-of-type {\n",
       "        vertical-align: middle;\n",
       "    }\n",
       "\n",
       "    .dataframe tbody tr th {\n",
       "        vertical-align: top;\n",
       "    }\n",
       "\n",
       "    .dataframe thead th {\n",
       "        text-align: right;\n",
       "    }\n",
       "</style>\n",
       "<table border=\"1\" class=\"dataframe\">\n",
       "  <thead>\n",
       "    <tr style=\"text-align: right;\">\n",
       "      <th></th>\n",
       "      <th>weekday</th>\n",
       "      <th>hour</th>\n",
       "      <th>spread_avg</th>\n",
       "      <th>tick_sd</th>\n",
       "      <th>candle_height</th>\n",
       "      <th>sema_diff</th>\n",
       "      <th>lema_diff</th>\n",
       "      <th>top_diff</th>\n",
       "      <th>bottom_diff</th>\n",
       "      <th>diff</th>\n",
       "      <th>...</th>\n",
       "      <th>ssma_diff</th>\n",
       "      <th>lsma_diff</th>\n",
       "      <th>sma_diff</th>\n",
       "      <th>max_gap</th>\n",
       "      <th>min_gap</th>\n",
       "      <th>ema_diff</th>\n",
       "      <th>small_sema_slope</th>\n",
       "      <th>long_sema_slope</th>\n",
       "      <th>slope_diff</th>\n",
       "      <th>direction</th>\n",
       "    </tr>\n",
       "  </thead>\n",
       "  <tbody>\n",
       "    <tr>\n",
       "      <th>0</th>\n",
       "      <td>3</td>\n",
       "      <td>1</td>\n",
       "      <td>0.00003</td>\n",
       "      <td>0.00008</td>\n",
       "      <td>0.00026</td>\n",
       "      <td>0.00007</td>\n",
       "      <td>0.00003</td>\n",
       "      <td>0.00002</td>\n",
       "      <td>0.00024</td>\n",
       "      <td>0.00016</td>\n",
       "      <td>...</td>\n",
       "      <td>0.00001</td>\n",
       "      <td>0.00003</td>\n",
       "      <td>-0.00007</td>\n",
       "      <td>0.00000</td>\n",
       "      <td>-0.00029</td>\n",
       "      <td>-0.00002</td>\n",
       "      <td>-73.63685</td>\n",
       "      <td>21.70225</td>\n",
       "      <td>-95.33910</td>\n",
       "      <td>same</td>\n",
       "    </tr>\n",
       "    <tr>\n",
       "      <th>1</th>\n",
       "      <td>3</td>\n",
       "      <td>1</td>\n",
       "      <td>0.00002</td>\n",
       "      <td>0.00006</td>\n",
       "      <td>0.00025</td>\n",
       "      <td>0.00011</td>\n",
       "      <td>0.00006</td>\n",
       "      <td>0.00001</td>\n",
       "      <td>0.00025</td>\n",
       "      <td>0.00018</td>\n",
       "      <td>...</td>\n",
       "      <td>0.00005</td>\n",
       "      <td>0.00005</td>\n",
       "      <td>-0.00007</td>\n",
       "      <td>0.00000</td>\n",
       "      <td>-0.00047</td>\n",
       "      <td>0.00003</td>\n",
       "      <td>67.66099</td>\n",
       "      <td>-23.89354</td>\n",
       "      <td>91.55453</td>\n",
       "      <td>increase</td>\n",
       "    </tr>\n",
       "    <tr>\n",
       "      <th>2</th>\n",
       "      <td>3</td>\n",
       "      <td>1</td>\n",
       "      <td>0.00003</td>\n",
       "      <td>0.00005</td>\n",
       "      <td>0.00024</td>\n",
       "      <td>0.00017</td>\n",
       "      <td>0.00009</td>\n",
       "      <td>0.00003</td>\n",
       "      <td>0.00021</td>\n",
       "      <td>0.00021</td>\n",
       "      <td>...</td>\n",
       "      <td>0.00013</td>\n",
       "      <td>0.00004</td>\n",
       "      <td>0.00003</td>\n",
       "      <td>0.00000</td>\n",
       "      <td>-0.00068</td>\n",
       "      <td>0.00011</td>\n",
       "      <td>83.36255</td>\n",
       "      <td>12.49880</td>\n",
       "      <td>70.86374</td>\n",
       "      <td>increase</td>\n",
       "    </tr>\n",
       "    <tr>\n",
       "      <th>3</th>\n",
       "      <td>3</td>\n",
       "      <td>1</td>\n",
       "      <td>0.00002</td>\n",
       "      <td>0.00004</td>\n",
       "      <td>0.00013</td>\n",
       "      <td>0.00013</td>\n",
       "      <td>0.00008</td>\n",
       "      <td>0.00007</td>\n",
       "      <td>0.00006</td>\n",
       "      <td>0.00006</td>\n",
       "      <td>...</td>\n",
       "      <td>0.00015</td>\n",
       "      <td>0.00004</td>\n",
       "      <td>0.00014</td>\n",
       "      <td>0.00000</td>\n",
       "      <td>-0.00061</td>\n",
       "      <td>0.00016</td>\n",
       "      <td>85.40420</td>\n",
       "      <td>62.21494</td>\n",
       "      <td>23.18926</td>\n",
       "      <td>same</td>\n",
       "    </tr>\n",
       "    <tr>\n",
       "      <th>4</th>\n",
       "      <td>3</td>\n",
       "      <td>1</td>\n",
       "      <td>0.00002</td>\n",
       "      <td>0.00002</td>\n",
       "      <td>0.00010</td>\n",
       "      <td>0.00007</td>\n",
       "      <td>0.00006</td>\n",
       "      <td>0.00006</td>\n",
       "      <td>0.00004</td>\n",
       "      <td>-0.00003</td>\n",
       "      <td>...</td>\n",
       "      <td>0.00012</td>\n",
       "      <td>0.00003</td>\n",
       "      <td>0.00023</td>\n",
       "      <td>0.00003</td>\n",
       "      <td>-0.00042</td>\n",
       "      <td>0.00017</td>\n",
       "      <td>85.51911</td>\n",
       "      <td>76.68733</td>\n",
       "      <td>8.83178</td>\n",
       "      <td>same</td>\n",
       "    </tr>\n",
       "  </tbody>\n",
       "</table>\n",
       "<p>5 rows × 25 columns</p>\n",
       "</div>"
      ],
      "text/plain": [
       "   weekday  hour  spread_avg  tick_sd  candle_height  sema_diff  lema_diff  \\\n",
       "0        3     1     0.00003  0.00008        0.00026    0.00007    0.00003   \n",
       "1        3     1     0.00002  0.00006        0.00025    0.00011    0.00006   \n",
       "2        3     1     0.00003  0.00005        0.00024    0.00017    0.00009   \n",
       "3        3     1     0.00002  0.00004        0.00013    0.00013    0.00008   \n",
       "4        3     1     0.00002  0.00002        0.00010    0.00007    0.00006   \n",
       "\n",
       "   top_diff  bottom_diff     diff  ...  ssma_diff  lsma_diff  sma_diff  \\\n",
       "0   0.00002      0.00024  0.00016  ...    0.00001    0.00003  -0.00007   \n",
       "1   0.00001      0.00025  0.00018  ...    0.00005    0.00005  -0.00007   \n",
       "2   0.00003      0.00021  0.00021  ...    0.00013    0.00004   0.00003   \n",
       "3   0.00007      0.00006  0.00006  ...    0.00015    0.00004   0.00014   \n",
       "4   0.00006      0.00004 -0.00003  ...    0.00012    0.00003   0.00023   \n",
       "\n",
       "   max_gap  min_gap  ema_diff  small_sema_slope  long_sema_slope  slope_diff  \\\n",
       "0  0.00000 -0.00029  -0.00002         -73.63685         21.70225   -95.33910   \n",
       "1  0.00000 -0.00047   0.00003          67.66099        -23.89354    91.55453   \n",
       "2  0.00000 -0.00068   0.00011          83.36255         12.49880    70.86374   \n",
       "3  0.00000 -0.00061   0.00016          85.40420         62.21494    23.18926   \n",
       "4  0.00003 -0.00042   0.00017          85.51911         76.68733     8.83178   \n",
       "\n",
       "   direction  \n",
       "0       same  \n",
       "1   increase  \n",
       "2   increase  \n",
       "3       same  \n",
       "4       same  \n",
       "\n",
       "[5 rows x 25 columns]"
      ]
     },
     "execution_count": 4,
     "metadata": {},
     "output_type": "execute_result"
    }
   ],
   "source": [
    "train_files = ['2020']\n",
    "#train_files = ['2019']\n",
    "#train_files = ['2016', '2017', '2018', '2019']\n",
    "#train_files = ['2003', '2004', '2005', '2006', '2007', '2008', '2009', '2010', '2011', '2012', '2013', '2014', '2015', '2016', '2017', '2018', '2019']\n",
    "\n",
    "df = pd.DataFrame()\n",
    "\n",
    "for i, train_file in enumerate(train_files): \n",
    "    \n",
    "    train_data = 'data/yearly_tick_data/tab_'+ train_file +'.csv'\n",
    "    df1 = pd.read_csv(train_data)\n",
    "    df = df.append(df1)\n",
    "    df = df.reset_index(drop=True)\n",
    "\n",
    "df.drop(remove_cols, axis=1, inplace=True)\n",
    "print(len(df))\n",
    "df.head(5)"
   ]
  },
  {
   "cell_type": "code",
   "execution_count": 5,
   "metadata": {},
   "outputs": [
    {
     "name": "stdout",
     "output_type": "stream",
     "text": [
      "Wall time: 45.9 ms\n"
     ]
    }
   ],
   "source": [
    "%%time\n",
    "target_col = 'direction'\n",
    "x = df.loc[:, df.columns != target_col]\n",
    "y = df[target_col]\n",
    "\n",
    "#x, y = smote_data(x, y)\n",
    "#x, y = under_sample(x,y,2)\n",
    "\n",
    "train_x, valid_x, train_y, valid_y = train_test_split(x, y,train_size = 0.8,random_state = 1)"
   ]
  },
  {
   "cell_type": "markdown",
   "metadata": {
    "scrolled": true
   },
   "source": [
    "%%time\n",
    "alg = xgboost.XGBClassifier(tree_method='gpu_hist', gpu_id=0)\n",
    "clf_xg = GridSearchCV(alg,\n",
    "                      {'max_depth': [4],\n",
    "                       'n_estimators': [100],\n",
    "                       'learning_rate': [0.1]\n",
    "                      },\n",
    "                      verbose=2,\n",
    "                      scoring='neg_log_loss',\n",
    "                      n_jobs = -1)\n",
    "\n",
    "\n",
    "clf_xg.fit(train_x, train_y)\n",
    "\n",
    "print(clf_xg.best_score_, clf_xg.best_params_)\n",
    "\n",
    "joblib.dump(clf_xg, 'data/model/model_xg.pkl') \n",
    "\n",
    "predictions = clf_xg.predict(valid_x)\n",
    "rounded_valid_y = np.argmax(valid_y, axis = -1)\n",
    "print(classification_report(valid_y, predictions))"
   ]
  },
  {
   "cell_type": "code",
   "execution_count": 6,
   "metadata": {
    "scrolled": true
   },
   "outputs": [
    {
     "name": "stdout",
     "output_type": "stream",
     "text": [
      "[19:11:36] WARNING: C:/Users/Administrator/workspace/xgboost-win64_release_1.3.0/src/learner.cc:1061: Starting in XGBoost 1.3.0, the default evaluation metric used with the objective 'multi:softprob' was changed from 'merror' to 'mlogloss'. Explicitly set eval_metric if you'd like to restore the old behavior.\n",
      "              precision    recall  f1-score   support\n",
      "\n",
      "    decrease       0.71      0.53      0.61      3561\n",
      "    increase       0.69      0.53      0.60      3673\n",
      "        same       0.79      0.89      0.84     14606\n",
      "\n",
      "    accuracy                           0.77     21840\n",
      "   macro avg       0.73      0.65      0.68     21840\n",
      "weighted avg       0.76      0.77      0.76     21840\n",
      "\n",
      "Wall time: 4.79 s\n"
     ]
    }
   ],
   "source": [
    "%%time\n",
    "clf_xg = xgboost.XGBClassifier(tree_method='gpu_hist', gpu_id=0)\n",
    "\n",
    "clf_xg.fit(train_x, train_y)\n",
    "filename = 'data/model/xgb.model'\n",
    "clf_xg.save_model(filename)\n",
    "\n",
    "predictions = clf_xg.predict(valid_x)\n",
    "rounded_valid_y = np.argmax(valid_y, axis = -1)\n",
    "print(classification_report(valid_y, predictions))\n",
    "#print(json.dumps(clf_xg.get_xgb_params(), indent = 2))"
   ]
  },
  {
   "cell_type": "code",
   "execution_count": 7,
   "metadata": {},
   "outputs": [
    {
     "data": {
      "text/plain": [
       "<AxesSubplot:>"
      ]
     },
     "execution_count": 7,
     "metadata": {},
     "output_type": "execute_result"
    },
    {
     "data": {
      "image/png": "[encoded data removed]",
      "text/plain": [
       "<Figure size 432x288 with 1 Axes>"
      ]
     },
     "metadata": {
      "needs_background": "light"
     },
     "output_type": "display_data"
    }
   ],
   "source": [
    "feature_important = clf_xg.get_booster().get_score(importance_type='weight')\n",
    "keys = list(feature_important.keys())\n",
    "values = list(feature_important.values())\n",
    "\n",
    "data = pd.DataFrame(data=values, index=keys, columns=[\"score\"]).sort_values(by = \"score\", ascending=False)\n",
    "data.plot(kind='barh')"
   ]
  },
  {
   "cell_type": "code",
   "execution_count": 8,
   "metadata": {
    "scrolled": false
   },
   "outputs": [
    {
     "name": "stdout",
     "output_type": "stream",
     "text": [
      "              precision    recall  f1-score   support\n",
      "\n",
      "    decrease       0.80      0.60      0.68     17891\n",
      "    increase       0.78      0.59      0.67     18039\n",
      "        same       0.82      0.92      0.87     73270\n",
      "\n",
      "    accuracy                           0.81    109200\n",
      "   macro avg       0.80      0.70      0.74    109200\n",
      "weighted avg       0.81      0.81      0.81    109200\n",
      "\n",
      "Wall time: 2.62 s\n"
     ]
    },
    {
     "data": {
      "text/plain": [
       "<sklearn.metrics._plot.confusion_matrix.ConfusionMatrixDisplay at 0x27acb62fe10>"
      ]
     },
     "execution_count": 8,
     "metadata": {},
     "output_type": "execute_result"
    },
    {
     "data": {
      "image/png": "[encoded data removed]",
      "text/plain": [
       "<Figure size 576x576 with 2 Axes>"
      ]
     },
     "metadata": {
      "needs_background": "light"
     },
     "output_type": "display_data"
    }
   ],
   "source": [
    "%%time\n",
    "test_file = '2020'\n",
    "test_data = 'data/yearly_tick_data/tab_'+ test_file +'.csv'\n",
    "\n",
    "df1 = pd.read_csv(test_data)\n",
    "df1 = df1.round(5)\n",
    "df1.drop(remove_cols, axis=1, inplace=True)\n",
    "x = df1.loc[:, df1.columns != target_col]\n",
    "y = df1[target_col]\n",
    "\n",
    "loaded_model = xgboost.XGBClassifier(tree_method='gpu_hist', gpu_id=0)\n",
    "loaded_model.load_model(filename)\n",
    "\n",
    "predictions = loaded_model.predict(x)\n",
    "\n",
    "df1['predictions'] = predictions\n",
    "\n",
    "print(classification_report(y, predictions))\n",
    "\n",
    "fig, ax = plt.subplots(figsize=(8, 8))\n",
    "cm = confusion_matrix(y, predictions, labels=loaded_model.classes_)\n",
    "disp = ConfusionMatrixDisplay(confusion_matrix=cm, display_labels=loaded_model.classes_)\n",
    "disp.plot(ax=ax)"
   ]
  },
  {
   "cell_type": "code",
   "execution_count": 9,
   "metadata": {},
   "outputs": [],
   "source": [
    "winsound.PlaySound('C:\\\\Windows\\\\Media\\\\tada.wav', winsound.SND_ASYNC)"
   ]
  }
 ],
 "metadata": {
  "kernelspec": {
   "display_name": "Python 3",
   "language": "python",
   "name": "python3"
  },
  "language_info": {
   "codemirror_mode": {
    "name": "ipython",
    "version": 3
   },
   "file_extension": ".py",
   "mimetype": "text/x-python",
   "name": "python",
   "nbconvert_exporter": "python",
   "pygments_lexer": "ipython3",
   "version": "3.6.6"
  }
 },
 "nbformat": 4,
 "nbformat_minor": 4
}
