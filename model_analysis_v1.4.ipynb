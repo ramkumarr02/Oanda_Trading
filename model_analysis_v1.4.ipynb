{
 "cells": [
  {
   "cell_type": "markdown",
   "metadata": {},
   "source": [
    "# Modelling"
   ]
  },
  {
   "cell_type": "markdown",
   "metadata": {},
   "source": [
    "## Packages"
   ]
  },
  {
   "cell_type": "code",
   "execution_count": 1,
   "metadata": {
    "scrolled": true
   },
   "outputs": [
    {
     "name": "stdout",
     "output_type": "stream",
     "text": [
      " Found and Using 1 GPU\n"
     ]
    }
   ],
   "source": [
    "import os\n",
    "import numpy as np\n",
    "import pandas as pd\n",
    "from tqdm import tqdm\n",
    "import winsound\n",
    "import datetime as dt\n",
    "\n",
    "import warnings\n",
    "warnings.filterwarnings('ignore')\n",
    "\n",
    "from sklearn.model_selection import train_test_split\n",
    "from sklearn.preprocessing import StandardScaler, MinMaxScaler, LabelEncoder, OneHotEncoder\n",
    "from sklearn.metrics import classification_report, confusion_matrix, ConfusionMatrixDisplay\n",
    "from sklearn.ensemble import RandomForestClassifier\n",
    "import joblib\n",
    "\n",
    "from keras.utils import np_utils\n",
    "\n",
    "import tensorflow as tf\n",
    "from tensorflow.keras.models import load_model\n",
    "from tensorflow.keras.models import Sequential\n",
    "from tensorflow.keras.layers import Activation, Dense, Dropout\n",
    "from tensorflow.keras.optimizers import Adam\n",
    "from tensorflow.keras.metrics import categorical_crossentropy\n",
    "\n",
    "from imblearn.over_sampling import SMOTE\n",
    "\n",
    "from matplotlib import pyplot as plt\n",
    "\n",
    "print(f\" Found and Using {len(tf.config.experimental.list_physical_devices('GPU'))} GPU\")"
   ]
  },
  {
   "cell_type": "markdown",
   "metadata": {},
   "source": [
    "## Functions"
   ]
  },
  {
   "cell_type": "code",
   "execution_count": 2,
   "metadata": {},
   "outputs": [],
   "source": [
    "def scale_x_encode_y(x, y):\n",
    "\n",
    "    #x_scaled = StandardScaler().fit_transform(x.values)    \n",
    "    scaler_obj = StandardScaler()\n",
    "    scaler_obj.fit(x.values)\n",
    "    x_scaled = scaler_obj.transform(x.values)\n",
    "    \n",
    "    encoder = LabelEncoder()\n",
    "    encoder.fit(y)\n",
    "    y_encoded = encoder.transform(y)\n",
    "    y_encoded = np_utils.to_categorical(y_encoded)\n",
    "    \n",
    "    y_map = dict(zip(encoder.transform(encoder.classes_),encoder.classes_))\n",
    " \n",
    "    return(x_scaled, y_encoded, y_map, scaler_obj)\n",
    "\n",
    "def smote_data(x, y):\n",
    "    oversample = SMOTE()\n",
    "    smote_x, smote_y = oversample.fit_resample(x, y)\n",
    "\n",
    "    return(smote_x, smote_y)\n",
    "\n",
    "def split_data(df, divisor):\n",
    "    df_tot = df.copy()\n",
    "    print(f'df_tot count : {len(df_tot)}')\n",
    "\n",
    "    df1 = df_tot.iloc[int(len(df_tot)/divisor):]\n",
    "    print(f'df1 count : {len(df1)}')\n",
    "\n",
    "    df2 = df_tot.iloc[:int(len(df_tot)/divisor)]\n",
    "    print(f'df2 count : {len(df2)}')\n",
    "    \n",
    "    return(df_tot, df1, df2)\n",
    "\n",
    "def data_prep(df, apply_smote = False):\n",
    "    x = df.loc[:, df.columns != target_col]\n",
    "    y = df[target_col]\n",
    "\n",
    "    if apply_smote:\n",
    "        x, y = smote_data(x, y)\n",
    "\n",
    "    print(f'Record count : {len(y)}')\n",
    "    print('--------------------------')\n",
    "    print(y.value_counts())\n",
    "    print('--------------------------')\n",
    "    print(y.value_counts(normalize=True))\n",
    "    \n",
    "    x_scaled, y_encoded, y_map, scaler_obj = scale_x_encode_y(x, y)\n",
    "    pd.DataFrame(x_scaled).head()\n",
    "    \n",
    "    return(x_scaled, y_encoded, y_map, scaler_obj)"
   ]
  },
  {
   "cell_type": "markdown",
   "metadata": {},
   "source": [
    "## Read Data"
   ]
  },
  {
   "cell_type": "code",
   "execution_count": 3,
   "metadata": {},
   "outputs": [
    {
     "data": {
      "text/html": [
       "<div>\n",
       "<style scoped>\n",
       "    .dataframe tbody tr th:only-of-type {\n",
       "        vertical-align: middle;\n",
       "    }\n",
       "\n",
       "    .dataframe tbody tr th {\n",
       "        vertical-align: top;\n",
       "    }\n",
       "\n",
       "    .dataframe thead th {\n",
       "        text-align: right;\n",
       "    }\n",
       "</style>\n",
       "<table border=\"1\" class=\"dataframe\">\n",
       "  <thead>\n",
       "    <tr style=\"text-align: right;\">\n",
       "      <th></th>\n",
       "      <th>tick_avg</th>\n",
       "      <th>spread_avg</th>\n",
       "      <th>tick_sd</th>\n",
       "      <th>sema</th>\n",
       "      <th>lema</th>\n",
       "      <th>sema_diff</th>\n",
       "      <th>lema_diff</th>\n",
       "      <th>diff</th>\n",
       "      <th>avg_gain</th>\n",
       "      <th>avg_loss</th>\n",
       "      <th>...</th>\n",
       "      <th>ssma_diff</th>\n",
       "      <th>lsma</th>\n",
       "      <th>lsma_diff</th>\n",
       "      <th>sma_diff</th>\n",
       "      <th>max_tick</th>\n",
       "      <th>min_tick</th>\n",
       "      <th>max_gap</th>\n",
       "      <th>min_gap</th>\n",
       "      <th>ema_diff</th>\n",
       "      <th>direction</th>\n",
       "    </tr>\n",
       "  </thead>\n",
       "  <tbody>\n",
       "    <tr>\n",
       "      <th>0</th>\n",
       "      <td>1.146322</td>\n",
       "      <td>0.000234</td>\n",
       "      <td>0.000011</td>\n",
       "      <td>1.146323</td>\n",
       "      <td>1.146355</td>\n",
       "      <td>1.063391e-06</td>\n",
       "      <td>-3.599718e-07</td>\n",
       "      <td>-0.000009</td>\n",
       "      <td>0.000007</td>\n",
       "      <td>0.000010</td>\n",
       "      <td>...</td>\n",
       "      <td>0.000003</td>\n",
       "      <td>1.146357</td>\n",
       "      <td>-0.000002</td>\n",
       "      <td>-0.000046</td>\n",
       "      <td>1.146361</td>\n",
       "      <td>1.146198</td>\n",
       "      <td>0.000039</td>\n",
       "      <td>-0.000124</td>\n",
       "      <td>-0.000033</td>\n",
       "      <td>same</td>\n",
       "    </tr>\n",
       "    <tr>\n",
       "      <th>1</th>\n",
       "      <td>1.146271</td>\n",
       "      <td>0.000306</td>\n",
       "      <td>0.000015</td>\n",
       "      <td>1.146319</td>\n",
       "      <td>1.146357</td>\n",
       "      <td>-3.848168e-06</td>\n",
       "      <td>1.376940e-06</td>\n",
       "      <td>-0.000051</td>\n",
       "      <td>0.000007</td>\n",
       "      <td>0.000011</td>\n",
       "      <td>...</td>\n",
       "      <td>0.000004</td>\n",
       "      <td>1.146353</td>\n",
       "      <td>-0.000005</td>\n",
       "      <td>-0.000037</td>\n",
       "      <td>1.146361</td>\n",
       "      <td>1.146224</td>\n",
       "      <td>0.000090</td>\n",
       "      <td>-0.000047</td>\n",
       "      <td>-0.000038</td>\n",
       "      <td>same</td>\n",
       "    </tr>\n",
       "    <tr>\n",
       "      <th>2</th>\n",
       "      <td>1.146260</td>\n",
       "      <td>0.000335</td>\n",
       "      <td>0.000007</td>\n",
       "      <td>1.146314</td>\n",
       "      <td>1.146360</td>\n",
       "      <td>-5.083489e-06</td>\n",
       "      <td>3.357754e-06</td>\n",
       "      <td>-0.000011</td>\n",
       "      <td>0.000007</td>\n",
       "      <td>0.000012</td>\n",
       "      <td>...</td>\n",
       "      <td>0.000002</td>\n",
       "      <td>1.146350</td>\n",
       "      <td>-0.000003</td>\n",
       "      <td>-0.000033</td>\n",
       "      <td>1.146361</td>\n",
       "      <td>1.146228</td>\n",
       "      <td>0.000101</td>\n",
       "      <td>-0.000032</td>\n",
       "      <td>-0.000046</td>\n",
       "      <td>same</td>\n",
       "    </tr>\n",
       "    <tr>\n",
       "      <th>3</th>\n",
       "      <td>1.146310</td>\n",
       "      <td>0.000254</td>\n",
       "      <td>0.000028</td>\n",
       "      <td>1.146315</td>\n",
       "      <td>1.146358</td>\n",
       "      <td>8.506514e-07</td>\n",
       "      <td>-1.952792e-06</td>\n",
       "      <td>0.000050</td>\n",
       "      <td>0.000010</td>\n",
       "      <td>0.000012</td>\n",
       "      <td>...</td>\n",
       "      <td>0.000004</td>\n",
       "      <td>1.146342</td>\n",
       "      <td>-0.000008</td>\n",
       "      <td>-0.000021</td>\n",
       "      <td>1.146361</td>\n",
       "      <td>1.146260</td>\n",
       "      <td>0.000052</td>\n",
       "      <td>-0.000050</td>\n",
       "      <td>-0.000043</td>\n",
       "      <td>same</td>\n",
       "    </tr>\n",
       "    <tr>\n",
       "      <th>4</th>\n",
       "      <td>1.146294</td>\n",
       "      <td>0.000307</td>\n",
       "      <td>0.000028</td>\n",
       "      <td>1.146312</td>\n",
       "      <td>1.146352</td>\n",
       "      <td>-2.520140e-06</td>\n",
       "      <td>-5.857545e-06</td>\n",
       "      <td>-0.000015</td>\n",
       "      <td>0.000010</td>\n",
       "      <td>0.000009</td>\n",
       "      <td>...</td>\n",
       "      <td>-0.000002</td>\n",
       "      <td>1.146334</td>\n",
       "      <td>-0.000008</td>\n",
       "      <td>-0.000015</td>\n",
       "      <td>1.146361</td>\n",
       "      <td>1.146260</td>\n",
       "      <td>0.000067</td>\n",
       "      <td>-0.000035</td>\n",
       "      <td>-0.000040</td>\n",
       "      <td>same</td>\n",
       "    </tr>\n",
       "  </tbody>\n",
       "</table>\n",
       "<p>5 rows × 23 columns</p>\n",
       "</div>"
      ],
      "text/plain": [
       "   tick_avg  spread_avg   tick_sd      sema      lema     sema_diff  \\\n",
       "0  1.146322    0.000234  0.000011  1.146323  1.146355  1.063391e-06   \n",
       "1  1.146271    0.000306  0.000015  1.146319  1.146357 -3.848168e-06   \n",
       "2  1.146260    0.000335  0.000007  1.146314  1.146360 -5.083489e-06   \n",
       "3  1.146310    0.000254  0.000028  1.146315  1.146358  8.506514e-07   \n",
       "4  1.146294    0.000307  0.000028  1.146312  1.146352 -2.520140e-06   \n",
       "\n",
       "      lema_diff      diff  avg_gain  avg_loss  ...  ssma_diff      lsma  \\\n",
       "0 -3.599718e-07 -0.000009  0.000007  0.000010  ...   0.000003  1.146357   \n",
       "1  1.376940e-06 -0.000051  0.000007  0.000011  ...   0.000004  1.146353   \n",
       "2  3.357754e-06 -0.000011  0.000007  0.000012  ...   0.000002  1.146350   \n",
       "3 -1.952792e-06  0.000050  0.000010  0.000012  ...   0.000004  1.146342   \n",
       "4 -5.857545e-06 -0.000015  0.000010  0.000009  ...  -0.000002  1.146334   \n",
       "\n",
       "   lsma_diff  sma_diff  max_tick  min_tick   max_gap   min_gap  ema_diff  \\\n",
       "0  -0.000002 -0.000046  1.146361  1.146198  0.000039 -0.000124 -0.000033   \n",
       "1  -0.000005 -0.000037  1.146361  1.146224  0.000090 -0.000047 -0.000038   \n",
       "2  -0.000003 -0.000033  1.146361  1.146228  0.000101 -0.000032 -0.000046   \n",
       "3  -0.000008 -0.000021  1.146361  1.146260  0.000052 -0.000050 -0.000043   \n",
       "4  -0.000008 -0.000015  1.146361  1.146260  0.000067 -0.000035 -0.000040   \n",
       "\n",
       "   direction  \n",
       "0       same  \n",
       "1       same  \n",
       "2       same  \n",
       "3       same  \n",
       "4       same  \n",
       "\n",
       "[5 rows x 23 columns]"
      ]
     },
     "execution_count": 3,
     "metadata": {},
     "output_type": "execute_result"
    }
   ],
   "source": [
    "df = pd.read_csv('data/tab_tick_2019.csv')\n",
    "df.head(5)"
   ]
  },
  {
   "cell_type": "code",
   "execution_count": 4,
   "metadata": {},
   "outputs": [
    {
     "name": "stdout",
     "output_type": "stream",
     "text": [
      "Record count : 1459266\n",
      "--------------------------\n",
      "same        946807\n",
      "decrease    256665\n",
      "increase    255794\n",
      "Name: direction, dtype: int64\n",
      "--------------------------\n",
      "same        0.648824\n",
      "decrease    0.175886\n",
      "increase    0.175289\n",
      "Name: direction, dtype: float64\n"
     ]
    },
    {
     "data": {
      "text/plain": [
       "['data/model/y_map.pkl']"
      ]
     },
     "execution_count": 4,
     "metadata": {},
     "output_type": "execute_result"
    }
   ],
   "source": [
    "target_col = 'direction'\n",
    "x_scaled, y_encoded, y_map, scaler_obj = data_prep(df)\n",
    "joblib.dump(scaler_obj, 'data/model/scaler_obj.pkl') \n",
    "joblib.dump(y_map, 'data/model/y_map.pkl') "
   ]
  },
  {
   "cell_type": "markdown",
   "metadata": {},
   "source": [
    "## Neural Network"
   ]
  },
  {
   "cell_type": "markdown",
   "metadata": {},
   "source": [
    "### Network building"
   ]
  },
  {
   "cell_type": "code",
   "execution_count": 5,
   "metadata": {},
   "outputs": [],
   "source": [
    "train_x, valid_x, train_y, valid_y = train_test_split(x_scaled, y_encoded,train_size = 0.8,random_state = 1)"
   ]
  },
  {
   "cell_type": "code",
   "execution_count": 6,
   "metadata": {},
   "outputs": [
    {
     "name": "stdout",
     "output_type": "stream",
     "text": [
      "Model: \"sequential\"\n",
      "_________________________________________________________________\n",
      "Layer (type)                 Output Shape              Param #   \n",
      "=================================================================\n",
      "dense (Dense)                (None, 64)                1472      \n",
      "_________________________________________________________________\n",
      "dense_1 (Dense)              (None, 256)               16640     \n",
      "_________________________________________________________________\n",
      "dense_2 (Dense)              (None, 2048)              526336    \n",
      "_________________________________________________________________\n",
      "dense_3 (Dense)              (None, 512)               1049088   \n",
      "_________________________________________________________________\n",
      "dense_4 (Dense)              (None, 128)               65664     \n",
      "_________________________________________________________________\n",
      "dense_5 (Dense)              (None, 3)                 387       \n",
      "=================================================================\n",
      "Total params: 1,659,587\n",
      "Trainable params: 1,659,587\n",
      "Non-trainable params: 0\n",
      "_________________________________________________________________\n"
     ]
    }
   ],
   "source": [
    "model = Sequential([\n",
    "    Dense(units = 64, activation='relu', input_shape=[len(train_x[0])]),\n",
    "    Dense(units = 256, activation='relu'),\n",
    "    Dense(units = 2048, activation='relu'),\n",
    "    Dense(units = 512, activation='relu'),\n",
    "    Dense(units = 128, activation='relu'),\n",
    "    Dense(units = 3, activation='softmax')\n",
    "])\n",
    "\n",
    "model.compile(\n",
    "    #loss='categorical_crossentropy', \n",
    "    loss='binary_crossentropy',     \n",
    "    optimizer=Adam(learning_rate=0.0001),    \n",
    "    metrics=['accuracy'])\n",
    "\n",
    "model.summary()"
   ]
  },
  {
   "cell_type": "markdown",
   "metadata": {},
   "source": [
    "### Training"
   ]
  },
  {
   "cell_type": "code",
   "execution_count": 7,
   "metadata": {},
   "outputs": [],
   "source": [
    "epoch_val         = 10\n",
    "batch_size_val    = 1024\n",
    "\n",
    "verbose_val       = 2\n",
    "workers_val       = -1"
   ]
  },
  {
   "cell_type": "code",
   "execution_count": 8,
   "metadata": {
    "scrolled": false
   },
   "outputs": [
    {
     "name": "stdout",
     "output_type": "stream",
     "text": [
      "Epoch 1/10\n",
      "1141/1141 - 64s - loss: 0.2280 - accuracy: 0.8546 - val_loss: 0.2189 - val_accuracy: 0.8584\n",
      "Epoch 2/10\n",
      "1141/1141 - 54s - loss: 0.2091 - accuracy: 0.8658 - val_loss: 0.2130 - val_accuracy: 0.8629\n",
      "Epoch 3/10\n",
      "1141/1141 - 43s - loss: 0.2074 - accuracy: 0.8671 - val_loss: 0.2079 - val_accuracy: 0.8670\n",
      "Epoch 4/10\n",
      "1141/1141 - 56s - loss: 0.2063 - accuracy: 0.8678 - val_loss: 0.2088 - val_accuracy: 0.8666\n",
      "Epoch 5/10\n",
      "1141/1141 - 66s - loss: 0.2056 - accuracy: 0.8682 - val_loss: 0.2133 - val_accuracy: 0.8623\n",
      "Epoch 6/10\n",
      "1141/1141 - 67s - loss: 0.2052 - accuracy: 0.8687 - val_loss: 0.2069 - val_accuracy: 0.8682\n",
      "Epoch 7/10\n",
      "1141/1141 - 66s - loss: 0.2047 - accuracy: 0.8689 - val_loss: 0.2064 - val_accuracy: 0.8686\n",
      "Epoch 8/10\n",
      "1141/1141 - 57s - loss: 0.2042 - accuracy: 0.8692 - val_loss: 0.2075 - val_accuracy: 0.8666\n",
      "Epoch 9/10\n",
      "1141/1141 - 71s - loss: 0.2037 - accuracy: 0.8693 - val_loss: 0.2067 - val_accuracy: 0.8680\n",
      "Epoch 10/10\n",
      "1141/1141 - 67s - loss: 0.2036 - accuracy: 0.8695 - val_loss: 0.2065 - val_accuracy: 0.8677\n"
     ]
    },
    {
     "data": {
      "text/plain": [
       "<tensorflow.python.keras.callbacks.History at 0x23b2da70b38>"
      ]
     },
     "execution_count": 8,
     "metadata": {},
     "output_type": "execute_result"
    }
   ],
   "source": [
    "model.fit(x=train_x, \n",
    "          y=train_y, \n",
    "          epochs=epoch_val,\n",
    "          batch_size = batch_size_val,\n",
    "          validation_data = (valid_x, valid_y),\n",
    "          workers= workers_val,\n",
    "         verbose=verbose_val)"
   ]
  },
  {
   "cell_type": "markdown",
   "metadata": {},
   "source": [
    "### DNN Validation"
   ]
  },
  {
   "cell_type": "code",
   "execution_count": 9,
   "metadata": {},
   "outputs": [
    {
     "name": "stdout",
     "output_type": "stream",
     "text": [
      "              precision    recall  f1-score   support\n",
      "\n",
      "    decrease       0.86      0.76      0.80     51406\n",
      "    increase       0.85      0.75      0.80     51209\n",
      "        same       0.87      0.93      0.90    189239\n",
      "\n",
      "    accuracy                           0.87    291854\n",
      "   macro avg       0.86      0.81      0.83    291854\n",
      "weighted avg       0.87      0.87      0.87    291854\n",
      "\n"
     ]
    }
   ],
   "source": [
    "predictions = model.predict(valid_x)\n",
    "rounded_predictions = np.argmax(predictions, axis = -1)\n",
    "rounded_valid_y = np.argmax(valid_y, axis = -1)\n",
    "\n",
    "print(classification_report(rounded_valid_y, rounded_predictions, target_names = y_map.values()))"
   ]
  },
  {
   "cell_type": "code",
   "execution_count": 10,
   "metadata": {},
   "outputs": [],
   "source": [
    "model.save('data/model/model.h5') \n",
    "model_new = load_model('data/model/model.h5')"
   ]
  },
  {
   "cell_type": "markdown",
   "metadata": {},
   "source": [
    "### DNN Prediction"
   ]
  },
  {
   "cell_type": "code",
   "execution_count": 11,
   "metadata": {},
   "outputs": [
    {
     "name": "stdout",
     "output_type": "stream",
     "text": [
      "Record count : 1302389\n",
      "--------------------------\n",
      "same        584009\n",
      "decrease    361002\n",
      "increase    357378\n",
      "Name: direction, dtype: int64\n",
      "--------------------------\n",
      "same        0.448414\n",
      "decrease    0.277184\n",
      "increase    0.274402\n",
      "Name: direction, dtype: float64\n",
      "              precision    recall  f1-score   support\n",
      "\n",
      "    decrease       0.95      0.56      0.71    361002\n",
      "    increase       0.96      0.55      0.70    357378\n",
      "        same       0.64      0.97      0.77    584009\n",
      "\n",
      "    accuracy                           0.74   1302389\n",
      "   macro avg       0.85      0.69      0.73   1302389\n",
      "weighted avg       0.81      0.74      0.73   1302389\n",
      "\n"
     ]
    },
    {
     "data": {
      "text/plain": [
       "<sklearn.metrics._plot.confusion_matrix.ConfusionMatrixDisplay at 0x23b2ecc3c88>"
      ]
     },
     "execution_count": 11,
     "metadata": {},
     "output_type": "execute_result"
    },
    {
     "data": {
      "image/png": "[encoded data removed]",
      "text/plain": [
       "<Figure size 576x576 with 2 Axes>"
      ]
     },
     "metadata": {
      "needs_background": "light"
     },
     "output_type": "display_data"
    }
   ],
   "source": [
    "df1 = pd.read_csv('data/tab_tick_2018.csv')\n",
    "\n",
    "#df1 = df1[col_list]\n",
    "x_scaled1, y_encoded1, y_map1, scaler_obj_1 = data_prep(df1, apply_smote = False)\n",
    "\n",
    "predictions = model_new.predict(x_scaled1)\n",
    "rounded_predictions = np.argmax(predictions, axis = -1)\n",
    "rounded_valid_y = np.argmax(y_encoded1, axis = -1)\n",
    "\n",
    "df1['predictions'] = [y_map1[k] for k in rounded_predictions]\n",
    "df1.to_csv('data/tab_tick_2018_res.csv')\n",
    "\n",
    "print(classification_report(rounded_valid_y, rounded_predictions, target_names = y_map1.values()))\n",
    "\n",
    "fig, ax = plt.subplots(figsize=(8, 8))\n",
    "cm = confusion_matrix(rounded_valid_y, rounded_predictions)\n",
    "disp = ConfusionMatrixDisplay(confusion_matrix=cm, display_labels=y_map1.values())\n",
    "disp.plot(ax=ax)"
   ]
  },
  {
   "cell_type": "markdown",
   "metadata": {},
   "source": [
    "## RF Results"
   ]
  },
  {
   "cell_type": "markdown",
   "metadata": {
    "scrolled": true
   },
   "source": [
    "%%time\n",
    "clf = RandomForestClassifier(n_jobs=-1) \n",
    "clf.fit(train_x, train_y)\n",
    "predictions = clf.predict(valid_x)\n",
    "rounded_predictions = np.argmax(predictions, axis = -1)\n",
    "rounded_valid_y = np.argmax(valid_y, axis = -1)\n",
    "print(classification_report(rounded_valid_y, rounded_predictions, target_names = y_map.values()))"
   ]
  },
  {
   "cell_type": "markdown",
   "metadata": {
    "scrolled": false
   },
   "source": [
    "x_cols = df.columns[df.columns != 'direction']\n",
    "fig = plt.figure()\n",
    "fig.suptitle('Feature importance', fontsize=20)\n",
    "plt.xlabel('Importance %', fontsize=16)\n",
    "plt.ylabel('Features', fontsize=16)\n",
    "plt.tick_params(axis='x', labelsize=12)\n",
    "plt.tick_params(axis='y', labelsize=15)\n",
    "\n",
    "\n",
    "feat_importances = pd.Series(clf.feature_importances_ * 100, index=x_cols)\n",
    "feat_importances.nlargest(30).plot(kind='barh', figsize=(15, 10), rot=45)\n",
    "\n",
    "for index, value in enumerate(np.round(-np.sort(-clf.feature_importances_ * 100))):\n",
    "    plt.text(value+0.45, index, str(value), fontsize=12)"
   ]
  },
  {
   "cell_type": "code",
   "execution_count": 12,
   "metadata": {},
   "outputs": [
    {
     "name": "stdout",
     "output_type": "stream",
     "text": [
      "{0: 'decrease', 1: 'increase', 2: 'same'}\n"
     ]
    },
    {
     "data": {
      "text/plain": [
       "decrease    276\n",
       "same          7\n",
       "Name: predictions, dtype: int64"
      ]
     },
     "execution_count": 12,
     "metadata": {},
     "output_type": "execute_result"
    }
   ],
   "source": [
    "live_df = pd.read_csv('data/live_preds.csv')\n",
    "del live_df['predicted_direction']\n",
    "\n",
    "model_new = load_model('data/model/model.h5')    \n",
    "scaler_obj = joblib.load('data/model/scaler_obj.pkl')\n",
    "y_map = joblib.load('data/model/y_map.pkl') \n",
    "\n",
    "x_scaled = scaler_obj.transform(live_df.values)\n",
    "predictions = model_new.predict(x_scaled) \n",
    "rounded_predictions = np.argmax(predictions, axis = -1)\n",
    "\n",
    "predictions = model_new.predict(x_scaled)\n",
    "rounded_predictions = np.argmax(predictions, axis = -1)\n",
    "\n",
    "#live_df['predictions'] = y_map[data['rounded_predictions'][0]]\n",
    "live_df['predictions'] = [y_map[k] for k in rounded_predictions]\n",
    "\n",
    "print(y_map)\n",
    "live_df['predictions'].value_counts()"
   ]
  }
 ],
 "metadata": {
  "kernelspec": {
   "display_name": "Python 3.6.6 64-bit",
   "language": "python",
   "name": "python36664bitab910dfda0bc43a8bf7df0c20d1c59f2"
  },
  "language_info": {
   "codemirror_mode": {
    "name": "ipython",
    "version": 3
   },
   "file_extension": ".py",
   "mimetype": "text/x-python",
   "name": "python",
   "nbconvert_exporter": "python",
   "pygments_lexer": "ipython3",
   "version": "3.6.6"
  }
 },
 "nbformat": 4,
 "nbformat_minor": 4
}
