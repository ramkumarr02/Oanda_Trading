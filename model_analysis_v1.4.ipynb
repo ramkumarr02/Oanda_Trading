{
 "cells": [
  {
   "cell_type": "markdown",
   "metadata": {},
   "source": [
    "# Modelling"
   ]
  },
  {
   "cell_type": "markdown",
   "metadata": {},
   "source": [
    "## Packages"
   ]
  },
  {
   "cell_type": "code",
   "execution_count": 1,
   "metadata": {
    "scrolled": true
   },
   "outputs": [
    {
     "name": "stdout",
     "output_type": "stream",
     "text": [
      " Found and Using 1 GPU\n"
     ]
    }
   ],
   "source": [
    "import os\n",
    "import numpy as np\n",
    "import pandas as pd\n",
    "from tqdm import tqdm\n",
    "import winsound\n",
    "import datetime as dt\n",
    "\n",
    "import warnings\n",
    "warnings.filterwarnings('ignore')\n",
    "\n",
    "from sklearn.model_selection import train_test_split\n",
    "from sklearn.preprocessing import StandardScaler, MinMaxScaler, LabelEncoder, OneHotEncoder, normalize\n",
    "from sklearn.metrics import classification_report, confusion_matrix, ConfusionMatrixDisplay\n",
    "from sklearn.ensemble import RandomForestClassifier\n",
    "import joblib\n",
    "\n",
    "\n",
    "import tensorflow\n",
    "from tensorflow.keras import layers\n",
    "from tensorflow.keras import utils\n",
    "from tensorflow.keras.models import load_model\n",
    "\n",
    "from tensorflow.keras.models import load_model\n",
    "from tensorflow.keras.models import Sequential\n",
    "from tensorflow.keras.layers import Activation, Dense, Dropout\n",
    "from tensorflow.keras.optimizers import Adam\n",
    "from tensorflow.keras.metrics import categorical_crossentropy\n",
    "\n",
    "# from keras.models import load_model\n",
    "# from keras.models import Sequential\n",
    "# from keras.layers.core import Activation, Dense, Dropout\n",
    "# from keras.optimizers import Adam\n",
    "# from keras.metrics import categorical_crossentropy\n",
    "\n",
    "from imblearn.over_sampling import SMOTE\n",
    "\n",
    "from matplotlib import pyplot as plt\n",
    "\n",
    "print(f\" Found and Using {len(tensorflow.config.experimental.list_physical_devices('GPU'))} GPU\")"
   ]
  },
  {
   "cell_type": "markdown",
   "metadata": {},
   "source": [
    "## Functions"
   ]
  },
  {
   "cell_type": "code",
   "execution_count": 2,
   "metadata": {},
   "outputs": [],
   "source": [
    "def scale_x_encode_y(x, y):\n",
    "\n",
    "    scaler_obj = StandardScaler()\n",
    "    scaler_obj.fit(x.values)\n",
    "    x_scaled = scaler_obj.transform(x.values)\n",
    "    \n",
    "    encoder = LabelEncoder()\n",
    "    encoder.fit(y)\n",
    "    y_encoded = encoder.transform(y)\n",
    "    y_encoded = utils.to_categorical(y_encoded)\n",
    "    \n",
    "    y_map = dict(zip(encoder.transform(encoder.classes_),encoder.classes_))\n",
    " \n",
    "    return(x_scaled, y_encoded, y_map, scaler_obj)\n",
    "\n",
    "\n",
    "def smote_data(x, y):\n",
    "    oversample = SMOTE()\n",
    "    smote_x, smote_y = oversample.fit_resample(x, y)\n",
    "\n",
    "    return(smote_x, smote_y)\n",
    "\n",
    "def split_data(df, divisor):\n",
    "    df_tot = df.copy()\n",
    "    print(f'df_tot count : {len(df_tot)}')\n",
    "\n",
    "    df1 = df_tot.iloc[int(len(df_tot)/divisor):]\n",
    "    print(f'df1 count : {len(df1)}')\n",
    "\n",
    "    df2 = df_tot.iloc[:int(len(df_tot)/divisor)]\n",
    "    print(f'df2 count : {len(df2)}')\n",
    "    \n",
    "    return(df_tot, df1, df2)\n",
    "\n",
    "def data_prep(df, apply_smote = False):\n",
    "    x = df.loc[:, df.columns != target_col]\n",
    "    y = df[target_col]\n",
    "\n",
    "    if apply_smote:\n",
    "        x, y = smote_data(x, y)\n",
    "\n",
    "    print(f'Record count : {len(y)}')\n",
    "    print('--------------------------')\n",
    "    print(y.value_counts())\n",
    "    print('--------------------------')\n",
    "    print(y.value_counts(normalize=True))\n",
    "    \n",
    "    x_scaled, y_encoded, y_map, scaler_obj = scale_x_encode_y(x, y)\n",
    "    pd.DataFrame(x_scaled).head()\n",
    "    \n",
    "    return(x_scaled, y_encoded, y_map, scaler_obj)"
   ]
  },
  {
   "cell_type": "markdown",
   "metadata": {},
   "source": [
    "## Read Data"
   ]
  },
  {
   "cell_type": "code",
   "execution_count": 3,
   "metadata": {},
   "outputs": [
    {
     "data": {
      "text/html": [
       "<div>\n",
       "<style scoped>\n",
       "    .dataframe tbody tr th:only-of-type {\n",
       "        vertical-align: middle;\n",
       "    }\n",
       "\n",
       "    .dataframe tbody tr th {\n",
       "        vertical-align: top;\n",
       "    }\n",
       "\n",
       "    .dataframe thead th {\n",
       "        text-align: right;\n",
       "    }\n",
       "</style>\n",
       "<table border=\"1\" class=\"dataframe\">\n",
       "  <thead>\n",
       "    <tr style=\"text-align: right;\">\n",
       "      <th></th>\n",
       "      <th>tick_avg</th>\n",
       "      <th>spread_avg</th>\n",
       "      <th>tick_sd</th>\n",
       "      <th>sema</th>\n",
       "      <th>lema</th>\n",
       "      <th>sema_diff</th>\n",
       "      <th>lema_diff</th>\n",
       "      <th>diff</th>\n",
       "      <th>avg_gain</th>\n",
       "      <th>avg_loss</th>\n",
       "      <th>...</th>\n",
       "      <th>ssma_diff</th>\n",
       "      <th>lsma</th>\n",
       "      <th>lsma_diff</th>\n",
       "      <th>sma_diff</th>\n",
       "      <th>max_tick</th>\n",
       "      <th>min_tick</th>\n",
       "      <th>max_gap</th>\n",
       "      <th>min_gap</th>\n",
       "      <th>ema_diff</th>\n",
       "      <th>direction</th>\n",
       "    </tr>\n",
       "  </thead>\n",
       "  <tbody>\n",
       "    <tr>\n",
       "      <th>0</th>\n",
       "      <td>1.146322</td>\n",
       "      <td>0.000234</td>\n",
       "      <td>0.000011</td>\n",
       "      <td>1.146323</td>\n",
       "      <td>1.146355</td>\n",
       "      <td>1.063391e-06</td>\n",
       "      <td>-3.599718e-07</td>\n",
       "      <td>-0.000009</td>\n",
       "      <td>0.000007</td>\n",
       "      <td>0.000010</td>\n",
       "      <td>...</td>\n",
       "      <td>0.000003</td>\n",
       "      <td>1.146357</td>\n",
       "      <td>-0.000002</td>\n",
       "      <td>-0.000046</td>\n",
       "      <td>1.146361</td>\n",
       "      <td>1.146198</td>\n",
       "      <td>0.000039</td>\n",
       "      <td>-0.000124</td>\n",
       "      <td>-0.000033</td>\n",
       "      <td>same</td>\n",
       "    </tr>\n",
       "    <tr>\n",
       "      <th>1</th>\n",
       "      <td>1.146271</td>\n",
       "      <td>0.000306</td>\n",
       "      <td>0.000015</td>\n",
       "      <td>1.146319</td>\n",
       "      <td>1.146357</td>\n",
       "      <td>-3.848168e-06</td>\n",
       "      <td>1.376940e-06</td>\n",
       "      <td>-0.000051</td>\n",
       "      <td>0.000007</td>\n",
       "      <td>0.000011</td>\n",
       "      <td>...</td>\n",
       "      <td>0.000004</td>\n",
       "      <td>1.146353</td>\n",
       "      <td>-0.000005</td>\n",
       "      <td>-0.000037</td>\n",
       "      <td>1.146361</td>\n",
       "      <td>1.146224</td>\n",
       "      <td>0.000090</td>\n",
       "      <td>-0.000047</td>\n",
       "      <td>-0.000038</td>\n",
       "      <td>same</td>\n",
       "    </tr>\n",
       "    <tr>\n",
       "      <th>2</th>\n",
       "      <td>1.146260</td>\n",
       "      <td>0.000335</td>\n",
       "      <td>0.000007</td>\n",
       "      <td>1.146314</td>\n",
       "      <td>1.146360</td>\n",
       "      <td>-5.083489e-06</td>\n",
       "      <td>3.357754e-06</td>\n",
       "      <td>-0.000011</td>\n",
       "      <td>0.000007</td>\n",
       "      <td>0.000012</td>\n",
       "      <td>...</td>\n",
       "      <td>0.000002</td>\n",
       "      <td>1.146350</td>\n",
       "      <td>-0.000003</td>\n",
       "      <td>-0.000033</td>\n",
       "      <td>1.146361</td>\n",
       "      <td>1.146228</td>\n",
       "      <td>0.000101</td>\n",
       "      <td>-0.000032</td>\n",
       "      <td>-0.000046</td>\n",
       "      <td>same</td>\n",
       "    </tr>\n",
       "    <tr>\n",
       "      <th>3</th>\n",
       "      <td>1.146310</td>\n",
       "      <td>0.000254</td>\n",
       "      <td>0.000028</td>\n",
       "      <td>1.146315</td>\n",
       "      <td>1.146358</td>\n",
       "      <td>8.506514e-07</td>\n",
       "      <td>-1.952792e-06</td>\n",
       "      <td>0.000050</td>\n",
       "      <td>0.000010</td>\n",
       "      <td>0.000012</td>\n",
       "      <td>...</td>\n",
       "      <td>0.000004</td>\n",
       "      <td>1.146342</td>\n",
       "      <td>-0.000008</td>\n",
       "      <td>-0.000021</td>\n",
       "      <td>1.146361</td>\n",
       "      <td>1.146260</td>\n",
       "      <td>0.000052</td>\n",
       "      <td>-0.000050</td>\n",
       "      <td>-0.000043</td>\n",
       "      <td>same</td>\n",
       "    </tr>\n",
       "    <tr>\n",
       "      <th>4</th>\n",
       "      <td>1.146294</td>\n",
       "      <td>0.000307</td>\n",
       "      <td>0.000028</td>\n",
       "      <td>1.146312</td>\n",
       "      <td>1.146352</td>\n",
       "      <td>-2.520140e-06</td>\n",
       "      <td>-5.857545e-06</td>\n",
       "      <td>-0.000015</td>\n",
       "      <td>0.000010</td>\n",
       "      <td>0.000009</td>\n",
       "      <td>...</td>\n",
       "      <td>-0.000002</td>\n",
       "      <td>1.146334</td>\n",
       "      <td>-0.000008</td>\n",
       "      <td>-0.000015</td>\n",
       "      <td>1.146361</td>\n",
       "      <td>1.146260</td>\n",
       "      <td>0.000067</td>\n",
       "      <td>-0.000035</td>\n",
       "      <td>-0.000040</td>\n",
       "      <td>same</td>\n",
       "    </tr>\n",
       "  </tbody>\n",
       "</table>\n",
       "<p>5 rows × 23 columns</p>\n",
       "</div>"
      ],
      "text/plain": [
       "   tick_avg  spread_avg   tick_sd      sema      lema     sema_diff  \\\n",
       "0  1.146322    0.000234  0.000011  1.146323  1.146355  1.063391e-06   \n",
       "1  1.146271    0.000306  0.000015  1.146319  1.146357 -3.848168e-06   \n",
       "2  1.146260    0.000335  0.000007  1.146314  1.146360 -5.083489e-06   \n",
       "3  1.146310    0.000254  0.000028  1.146315  1.146358  8.506514e-07   \n",
       "4  1.146294    0.000307  0.000028  1.146312  1.146352 -2.520140e-06   \n",
       "\n",
       "      lema_diff      diff  avg_gain  avg_loss  ...  ssma_diff      lsma  \\\n",
       "0 -3.599718e-07 -0.000009  0.000007  0.000010  ...   0.000003  1.146357   \n",
       "1  1.376940e-06 -0.000051  0.000007  0.000011  ...   0.000004  1.146353   \n",
       "2  3.357754e-06 -0.000011  0.000007  0.000012  ...   0.000002  1.146350   \n",
       "3 -1.952792e-06  0.000050  0.000010  0.000012  ...   0.000004  1.146342   \n",
       "4 -5.857545e-06 -0.000015  0.000010  0.000009  ...  -0.000002  1.146334   \n",
       "\n",
       "   lsma_diff  sma_diff  max_tick  min_tick   max_gap   min_gap  ema_diff  \\\n",
       "0  -0.000002 -0.000046  1.146361  1.146198  0.000039 -0.000124 -0.000033   \n",
       "1  -0.000005 -0.000037  1.146361  1.146224  0.000090 -0.000047 -0.000038   \n",
       "2  -0.000003 -0.000033  1.146361  1.146228  0.000101 -0.000032 -0.000046   \n",
       "3  -0.000008 -0.000021  1.146361  1.146260  0.000052 -0.000050 -0.000043   \n",
       "4  -0.000008 -0.000015  1.146361  1.146260  0.000067 -0.000035 -0.000040   \n",
       "\n",
       "   direction  \n",
       "0       same  \n",
       "1       same  \n",
       "2       same  \n",
       "3       same  \n",
       "4       same  \n",
       "\n",
       "[5 rows x 23 columns]"
      ]
     },
     "execution_count": 3,
     "metadata": {},
     "output_type": "execute_result"
    }
   ],
   "source": [
    "df = pd.read_csv('data/tab_tick_2019.csv')\n",
    "df.head(5)"
   ]
  },
  {
   "cell_type": "code",
   "execution_count": 4,
   "metadata": {},
   "outputs": [
    {
     "name": "stdout",
     "output_type": "stream",
     "text": [
      "Record count : 1459266\n",
      "--------------------------\n",
      "same        946807\n",
      "decrease    256665\n",
      "increase    255794\n",
      "Name: direction, dtype: int64\n",
      "--------------------------\n",
      "same        0.648824\n",
      "decrease    0.175886\n",
      "increase    0.175289\n",
      "Name: direction, dtype: float64\n"
     ]
    },
    {
     "data": {
      "text/plain": [
       "['data/model/y_map.pkl']"
      ]
     },
     "execution_count": 4,
     "metadata": {},
     "output_type": "execute_result"
    }
   ],
   "source": [
    "target_col = 'direction'\n",
    "x_scaled, y_encoded, y_map, scaler_obj = data_prep(df, apply_smote = False)\n",
    "joblib.dump(scaler_obj, 'data/model/scaler_obj.pkl') \n",
    "joblib.dump(y_map, 'data/model/y_map.pkl') "
   ]
  },
  {
   "cell_type": "markdown",
   "metadata": {},
   "source": [
    "## Neural Network"
   ]
  },
  {
   "cell_type": "markdown",
   "metadata": {},
   "source": [
    "### Network building"
   ]
  },
  {
   "cell_type": "code",
   "execution_count": 5,
   "metadata": {},
   "outputs": [],
   "source": [
    "train_x, valid_x, train_y, valid_y = train_test_split(x_scaled, y_encoded,train_size = 0.8,random_state = 1)"
   ]
  },
  {
   "cell_type": "markdown",
   "metadata": {},
   "source": [
    "model = Sequential([\n",
    "    Dense(units = 2048, activation='relu', input_shape=[len(train_x[0])]),\n",
    "    Dense(units = 1024, activation='relu'),\n",
    "#    Dropout(0.5),\n",
    "    Dense(units = 512, activation='relu'),    \n",
    "    Dense(units = 256, activation='relu'),\n",
    "    Dense(units = 128, activation='relu'),\n",
    "    Dense(units = 3, activation='softmax')\n",
    "])\n",
    "\n",
    "model.compile(\n",
    "    #loss='categorical_crossentropy', \n",
    "    loss='binary_crossentropy',     \n",
    "    optimizer=Adam(learning_rate=0.0001),    \n",
    "    metrics=['accuracy'])\n",
    "\n",
    "model.summary()"
   ]
  },
  {
   "cell_type": "code",
   "execution_count": 6,
   "metadata": {},
   "outputs": [
    {
     "name": "stdout",
     "output_type": "stream",
     "text": [
      "Model: \"sequential\"\n",
      "_________________________________________________________________\n",
      "Layer (type)                 Output Shape              Param #   \n",
      "=================================================================\n",
      "dense (Dense)                (None, 2048)              47104     \n",
      "_________________________________________________________________\n",
      "dense_1 (Dense)              (None, 1024)              2098176   \n",
      "_________________________________________________________________\n",
      "dense_2 (Dense)              (None, 512)               524800    \n",
      "_________________________________________________________________\n",
      "dense_3 (Dense)              (None, 256)               131328    \n",
      "_________________________________________________________________\n",
      "dense_4 (Dense)              (None, 128)               32896     \n",
      "_________________________________________________________________\n",
      "dense_5 (Dense)              (None, 3)                 387       \n",
      "=================================================================\n",
      "Total params: 2,834,691\n",
      "Trainable params: 2,834,691\n",
      "Non-trainable params: 0\n",
      "_________________________________________________________________\n"
     ]
    }
   ],
   "source": [
    "model = tensorflow.keras.Sequential([\n",
    "    layers.Dense(units = 2048, activation='relu', input_shape=[len(train_x[0])]),\n",
    "    layers.Dense(units = 1024, activation='relu'),\n",
    "    layers.Dense(units = 512, activation='relu'),    \n",
    "    layers.Dense(units = 256, activation='relu'),\n",
    "    layers.Dense(units = 128, activation='relu'),\n",
    "    layers.Dense(units = 3, activation='softmax')\n",
    "])\n",
    "\n",
    "model.compile(\n",
    "    #loss='categorical_crossentropy', \n",
    "    loss='binary_crossentropy',     \n",
    "    optimizer=tensorflow.keras.optimizers.Adam(learning_rate=0.0001),    \n",
    "    metrics=['accuracy'])\n",
    "\n",
    "model.summary()"
   ]
  },
  {
   "cell_type": "markdown",
   "metadata": {},
   "source": [
    "### Training"
   ]
  },
  {
   "cell_type": "code",
   "execution_count": 7,
   "metadata": {},
   "outputs": [],
   "source": [
    "epoch_val         = 5\n",
    "batch_size_val    = 1024\n",
    "\n",
    "verbose_val       = 2\n",
    "workers_val       = -1"
   ]
  },
  {
   "cell_type": "code",
   "execution_count": 8,
   "metadata": {
    "scrolled": false
   },
   "outputs": [
    {
     "name": "stdout",
     "output_type": "stream",
     "text": [
      "Epoch 1/5\n",
      "WARNING:tensorflow:Callbacks method `on_train_batch_end` is slow compared to the batch time (batch time: 0.0000s vs `on_train_batch_end` time: 0.0171s). Check your callbacks.\n",
      "1141/1141 - 9s - loss: 0.2177 - accuracy: 0.8611 - val_loss: 0.2071 - val_accuracy: 0.8683\n",
      "Epoch 2/5\n",
      "1141/1141 - 9s - loss: 0.2065 - accuracy: 0.8679 - val_loss: 0.2068 - val_accuracy: 0.8680\n",
      "Epoch 3/5\n",
      "1141/1141 - 9s - loss: 0.2052 - accuracy: 0.8686 - val_loss: 0.2052 - val_accuracy: 0.8693\n",
      "Epoch 4/5\n",
      "1141/1141 - 9s - loss: 0.2047 - accuracy: 0.8688 - val_loss: 0.2062 - val_accuracy: 0.8689\n",
      "Epoch 5/5\n",
      "1141/1141 - 9s - loss: 0.2041 - accuracy: 0.8695 - val_loss: 0.2058 - val_accuracy: 0.8687\n"
     ]
    },
    {
     "data": {
      "text/plain": [
       "<tensorflow.python.keras.callbacks.History at 0x1f400104fd0>"
      ]
     },
     "execution_count": 8,
     "metadata": {},
     "output_type": "execute_result"
    }
   ],
   "source": [
    "model.fit(x=train_x, \n",
    "          y=train_y, \n",
    "          epochs=epoch_val,\n",
    "          batch_size = batch_size_val,\n",
    "          validation_data = (valid_x, valid_y),\n",
    "          workers= workers_val,\n",
    "         verbose=verbose_val)"
   ]
  },
  {
   "cell_type": "markdown",
   "metadata": {},
   "source": [
    "### DNN"
   ]
  },
  {
   "cell_type": "code",
   "execution_count": 9,
   "metadata": {},
   "outputs": [
    {
     "name": "stdout",
     "output_type": "stream",
     "text": [
      "              precision    recall  f1-score   support\n",
      "\n",
      "    decrease       0.82      0.81      0.81     51406\n",
      "    increase       0.84      0.78      0.80     51209\n",
      "        same       0.89      0.91      0.90    189239\n",
      "\n",
      "    accuracy                           0.87    291854\n",
      "   macro avg       0.85      0.83      0.84    291854\n",
      "weighted avg       0.87      0.87      0.87    291854\n",
      "\n"
     ]
    }
   ],
   "source": [
    "predictions = model.predict(valid_x)\n",
    "rounded_predictions = np.argmax(predictions, axis = -1)\n",
    "rounded_valid_y = np.argmax(valid_y, axis = -1)\n",
    "\n",
    "print(classification_report(rounded_valid_y, rounded_predictions, target_names = y_map.values()))"
   ]
  },
  {
   "cell_type": "code",
   "execution_count": 10,
   "metadata": {},
   "outputs": [],
   "source": [
    "model.save('data/model/model.h5') \n",
    "model_new = load_model('data/model/model.h5')"
   ]
  },
  {
   "cell_type": "markdown",
   "metadata": {},
   "source": [
    "### DNN Prediction"
   ]
  },
  {
   "cell_type": "code",
   "execution_count": 11,
   "metadata": {
    "scrolled": false
   },
   "outputs": [
    {
     "name": "stdout",
     "output_type": "stream",
     "text": [
      "Record count : 1302389\n",
      "--------------------------\n",
      "same        584009\n",
      "decrease    361002\n",
      "increase    357378\n",
      "Name: direction, dtype: int64\n",
      "--------------------------\n",
      "same        0.448414\n",
      "decrease    0.277184\n",
      "increase    0.274402\n",
      "Name: direction, dtype: float64\n",
      "              precision    recall  f1-score   support\n",
      "\n",
      "    decrease       0.94      0.61      0.74    361002\n",
      "    increase       0.95      0.58      0.72    357378\n",
      "        same       0.66      0.96      0.78    584009\n",
      "\n",
      "    accuracy                           0.76   1302389\n",
      "   macro avg       0.85      0.72      0.75   1302389\n",
      "weighted avg       0.82      0.76      0.75   1302389\n",
      "\n"
     ]
    },
    {
     "data": {
      "text/plain": [
       "<sklearn.metrics._plot.confusion_matrix.ConfusionMatrixDisplay at 0x1f406733c88>"
      ]
     },
     "execution_count": 11,
     "metadata": {},
     "output_type": "execute_result"
    },
    {
     "data": {
      "image/png": "[encoded data removed]",
      "text/plain": [
       "<Figure size 576x576 with 2 Axes>"
      ]
     },
     "metadata": {
      "needs_background": "light"
     },
     "output_type": "display_data"
    }
   ],
   "source": [
    "df1 = pd.read_csv('data/tab_tick_2018.csv')\n",
    "\n",
    "x_scaled1, y_encoded1, y_map1, scaler_obj_1 = data_prep(df1, apply_smote = False)\n",
    "\n",
    "predictions = model_new.predict(x_scaled1)\n",
    "rounded_predictions = np.argmax(predictions, axis = -1)\n",
    "rounded_valid_y = np.argmax(y_encoded1, axis = -1)\n",
    "\n",
    "df1['predictions'] = [y_map1[k] for k in rounded_predictions]\n",
    "df1.to_csv('data/tab_tick_2018_res.csv')\n",
    "\n",
    "print(classification_report(rounded_valid_y, rounded_predictions, target_names = y_map1.values()))\n",
    "\n",
    "fig, ax = plt.subplots(figsize=(8, 8))\n",
    "cm = confusion_matrix(rounded_valid_y, rounded_predictions)\n",
    "disp = ConfusionMatrixDisplay(confusion_matrix=cm, display_labels=y_map1.values())\n",
    "disp.plot(ax=ax)"
   ]
  },
  {
   "cell_type": "code",
   "execution_count": 12,
   "metadata": {},
   "outputs": [
    {
     "name": "stdout",
     "output_type": "stream",
     "text": [
      "{0: 'decrease', 1: 'increase', 2: 'same'}\n"
     ]
    },
    {
     "data": {
      "text/plain": [
       "decrease    283\n",
       "Name: predictions, dtype: int64"
      ]
     },
     "execution_count": 12,
     "metadata": {},
     "output_type": "execute_result"
    }
   ],
   "source": [
    "live_df = pd.read_csv('data/live_preds.csv')\n",
    "del live_df['predicted_direction']\n",
    "\n",
    "model_new = load_model('data/model/model.h5')    \n",
    "scaler_obj = joblib.load('data/model/scaler_obj.pkl')\n",
    "y_map = joblib.load('data/model/y_map.pkl') \n",
    "\n",
    "x_scaled = scaler_obj.transform(live_df.values)\n",
    "predictions = model_new.predict(x_scaled) \n",
    "rounded_predictions = np.argmax(predictions, axis = -1)\n",
    "\n",
    "#live_df['predictions'] = y_map[data['rounded_predictions'][0]]\n",
    "live_df['predictions'] = [y_map[k] for k in rounded_predictions]\n",
    "\n",
    "print(y_map)\n",
    "live_df['predictions'].value_counts()"
   ]
  },
  {
   "cell_type": "markdown",
   "metadata": {},
   "source": [
    "## RF Results"
   ]
  },
  {
   "cell_type": "markdown",
   "metadata": {
    "scrolled": true
   },
   "source": [
    "%%time\n",
    "clf = RandomForestClassifier(n_jobs=-1) \n",
    "clf.fit(train_x, train_y)\n",
    "predictions = clf.predict(valid_x)\n",
    "rounded_predictions = np.argmax(predictions, axis = -1)\n",
    "rounded_valid_y = np.argmax(valid_y, axis = -1)\n",
    "print(classification_report(rounded_valid_y, rounded_predictions, target_names = y_map.values()))"
   ]
  },
  {
   "cell_type": "markdown",
   "metadata": {
    "scrolled": false
   },
   "source": [
    "x_cols = df.columns[df.columns != 'direction']\n",
    "fig = plt.figure()\n",
    "fig.suptitle('Feature importance', fontsize=20)\n",
    "plt.xlabel('Importance %', fontsize=16)\n",
    "plt.ylabel('Features', fontsize=16)\n",
    "plt.tick_params(axis='x', labelsize=12)\n",
    "plt.tick_params(axis='y', labelsize=15)\n",
    "\n",
    "\n",
    "feat_importances = pd.Series(clf.feature_importances_ * 100, index=x_cols)\n",
    "feat_importances.nlargest(30).plot(kind='barh', figsize=(15, 10), rot=45)\n",
    "\n",
    "for index, value in enumerate(np.round(-np.sort(-clf.feature_importances_ * 100))):\n",
    "    plt.text(value+0.45, index, str(value), fontsize=12)"
   ]
  },
  {
   "cell_type": "markdown",
   "metadata": {},
   "source": [
    "live_df = pd.read_csv('data/live_preds.csv')\n",
    "del live_df['predicted_direction']\n",
    "\n",
    "scaler_obj = joblib.load('data/model/scaler_obj.pkl')\n",
    "y_map = joblib.load('data/model/y_map.pkl') \n",
    "x_scaled = scaler_obj.transform(live_df.values)\n",
    "\n",
    "predictions = clf.predict(x_scaled)\n",
    "rounded_predictions = np.argmax(predictions, axis = -1)\n",
    "\n",
    "#live_df['predictions'] = y_map[data['rounded_predictions'][0]]\n",
    "live_df['predictions'] = [y_map[k] for k in rounded_predictions]\n",
    "\n",
    "print(y_map)\n",
    "live_df['predictions'].value_counts()"
   ]
  }
 ],
 "metadata": {
  "kernelspec": {
   "display_name": "Python 3.6.6 64-bit",
   "language": "python",
   "name": "python36664bitab910dfda0bc43a8bf7df0c20d1c59f2"
  },
  "language_info": {
   "codemirror_mode": {
    "name": "ipython",
    "version": 3
   },
   "file_extension": ".py",
   "mimetype": "text/x-python",
   "name": "python",
   "nbconvert_exporter": "python",
   "pygments_lexer": "ipython3",
   "version": "3.6.6"
  }
 },
 "nbformat": 4,
 "nbformat_minor": 4
}
