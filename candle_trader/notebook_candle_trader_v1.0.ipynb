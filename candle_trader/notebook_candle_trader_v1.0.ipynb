{
 "cells": [
  {
   "cell_type": "markdown",
   "metadata": {},
   "source": [
    "# ML Trader"
   ]
  },
  {
   "cell_type": "code",
   "execution_count": 26,
   "metadata": {
    "scrolled": true
   },
   "outputs": [],
   "source": [
    "from utils.packages import *\n",
    "from utils.time_tick import *\n",
    "from utils.variables import *\n",
    "from utils.i_o import *\n",
    "from utils.dir_slope import *\n",
    "from utils.engine import *\n",
    "from utils.loops import *\n",
    "from utils.order import *\n",
    "warnings.filterwarnings('ignore')\n",
    "import json"
   ]
  },
  {
   "cell_type": "code",
   "execution_count": 27,
   "metadata": {},
   "outputs": [],
   "source": [
    "#--------------------------------------------------------------------------------------------------------------------------\n",
    "# ### Inputs and Parameters\n",
    "\n",
    "temp_file = 'config/access_keys.yaml'\n",
    "with open(temp_file) as temp_file:\n",
    "    config = yaml.load(temp_file)     \n",
    "    \n",
    "logging.basicConfig(filename='traderrun.log', level=logging.ERROR)\n",
    "\n",
    "data['access_token'] = config[data['account']]['token']\n",
    "data['accountID'] = config[data['account']]['account_id']\n",
    "data['params'] = {'instruments': data['instrument']}\n",
    "\n",
    "data['api'] = API(access_token = data['access_token'])\n",
    "data['request_stream_data'] = pricing.PricingStream(accountID=data['accountID'], params=data['params'])\n",
    "data['response_stream'] = data['api'].request(data['request_stream_data'])\n",
    "data[\"start_ts\"] = dt.datetime.strftime(dt.datetime.now(), '%Y-%m-%d-%H-%M')\n",
    "\n",
    "\n",
    "data = check_for_open_orders(data)\n",
    "data = check_for_open_orders(data)\n",
    "data = check_for_open_orders(data)\n",
    "#--------------------------------------------------------------------------------------------------------------------------"
   ]
  },
  {
   "cell_type": "code",
   "execution_count": 68,
   "metadata": {},
   "outputs": [],
   "source": [
    "def get_candle_direction(data):\n",
    "    params = {\"count\": data['candle_count']+1, \"granularity\": data['candle_granularity']}\n",
    "    candle_size_data = instruments.InstrumentsCandles(instrument=\"EUR_USD\", params=params)\n",
    "    data['candle_size_info'] = data[\"api\"].request(candle_size_data)\n",
    "    \n",
    "    height_list = []\n",
    "    for candle in data['candle_size_info']['candles']:        \n",
    "        if candle['complete']:\n",
    "            height_list.append(np.float(candle['mid']['c']) - np.float(candle['mid']['o']))\n",
    "    \n",
    "    if height_list[-1] > 0:\n",
    "        data['last_candle'] = 'green'\n",
    "    elif height_list[-1] < 0:\n",
    "        data['last_candle'] = 'red'        \n",
    "\n",
    "    print(data['last_candle'])\n",
    "        \n",
    "    return(data)"
   ]
  },
  {
   "cell_type": "code",
   "execution_count": 69,
   "metadata": {},
   "outputs": [],
   "source": [
    "data['candle_count'] = 1\n",
    "data['candle_granularity'] = 'M15'"
   ]
  },
  {
   "cell_type": "code",
   "execution_count": 70,
   "metadata": {},
   "outputs": [
    {
     "name": "stdout",
     "output_type": "stream",
     "text": [
      "green\n"
     ]
    }
   ],
   "source": [
    "data = get_candle_direction(data)"
   ]
  },
  {
   "cell_type": "code",
   "execution_count": 65,
   "metadata": {},
   "outputs": [
    {
     "data": {
      "text/plain": [
       "[{'complete': True,\n",
       "  'volume': 202,\n",
       "  'time': '2021-06-14T04:15:00.000000000Z',\n",
       "  'mid': {'o': '1.20977', 'h': '1.20988', 'l': '1.20972', 'c': '1.20983'}},\n",
       " {'complete': False,\n",
       "  'volume': 17,\n",
       "  'time': '2021-06-14T04:30:00.000000000Z',\n",
       "  'mid': {'o': '1.20984', 'h': '1.20988', 'l': '1.20982', 'c': '1.20987'}}]"
      ]
     },
     "execution_count": 65,
     "metadata": {},
     "output_type": "execute_result"
    }
   ],
   "source": [
    "data['candle_size_info']['candles']"
   ]
  }
 ],
 "metadata": {
  "kernelspec": {
   "display_name": "Python 3",
   "language": "python",
   "name": "python3"
  },
  "language_info": {
   "codemirror_mode": {
    "name": "ipython",
    "version": 3
   },
   "file_extension": ".py",
   "mimetype": "text/x-python",
   "name": "python",
   "nbconvert_exporter": "python",
   "pygments_lexer": "ipython3",
   "version": "3.6.6"
  }
 },
 "nbformat": 4,
 "nbformat_minor": 4
}
