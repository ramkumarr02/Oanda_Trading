{
 "cells": [
  {
   "cell_type": "code",
   "execution_count": 1,
   "metadata": {
    "scrolled": true
   },
   "outputs": [
    {
     "name": "stdout",
     "output_type": "stream",
     "text": [
      " Found and Using 1 GPU\n"
     ]
    }
   ],
   "source": [
    "import numpy as np\n",
    "import pandas as pd\n",
    "from tqdm import tqdm\n",
    "import winsound\n",
    "import datetime as dt\n",
    "\n",
    "import warnings\n",
    "warnings.filterwarnings('ignore')\n",
    "\n",
    "from sklearn.model_selection import train_test_split\n",
    "from sklearn.preprocessing import FunctionTransformer, StandardScaler\n",
    "\n",
    "import tensorflow as tf\n",
    "print(f\" Found and Using {len(tf.config.experimental.list_physical_devices('GPU'))} GPU\")"
   ]
  },
  {
   "cell_type": "code",
   "execution_count": 2,
   "metadata": {},
   "outputs": [],
   "source": [
    "def scale_data(df):\n",
    "\n",
    "    scaled_features = StandardScaler().fit_transform(df.values)\n",
    "    df = pd.DataFrame(scaled_features, index=df.index, columns=df.columns)\n",
    " \n",
    "    return(df)"
   ]
  },
  {
   "cell_type": "code",
   "execution_count": 3,
   "metadata": {},
   "outputs": [
    {
     "name": "stdout",
     "output_type": "stream",
     "text": [
      "74407\n"
     ]
    },
    {
     "data": {
      "text/html": [
       "<div>\n",
       "<style scoped>\n",
       "    .dataframe tbody tr th:only-of-type {\n",
       "        vertical-align: middle;\n",
       "    }\n",
       "\n",
       "    .dataframe tbody tr th {\n",
       "        vertical-align: top;\n",
       "    }\n",
       "\n",
       "    .dataframe thead th {\n",
       "        text-align: right;\n",
       "    }\n",
       "</style>\n",
       "<table border=\"1\" class=\"dataframe\">\n",
       "  <thead>\n",
       "    <tr style=\"text-align: right;\">\n",
       "      <th></th>\n",
       "      <th>tick</th>\n",
       "      <th>diff</th>\n",
       "      <th>gain</th>\n",
       "      <th>loss</th>\n",
       "      <th>avg_gain</th>\n",
       "      <th>avg_loss</th>\n",
       "      <th>rs</th>\n",
       "      <th>rsi</th>\n",
       "      <th>ssma</th>\n",
       "      <th>lsma</th>\n",
       "      <th>sema</th>\n",
       "      <th>lema</th>\n",
       "      <th>target</th>\n",
       "    </tr>\n",
       "  </thead>\n",
       "  <tbody>\n",
       "    <tr>\n",
       "      <th>0</th>\n",
       "      <td>1.14907</td>\n",
       "      <td>-0.00012</td>\n",
       "      <td>0.00000</td>\n",
       "      <td>0.00012</td>\n",
       "      <td>0.000326</td>\n",
       "      <td>0.000021</td>\n",
       "      <td>15.724138</td>\n",
       "      <td>94.020619</td>\n",
       "      <td>1.147613</td>\n",
       "      <td>1.145565</td>\n",
       "      <td>1.147735</td>\n",
       "      <td>1.145594</td>\n",
       "      <td>same</td>\n",
       "    </tr>\n",
       "    <tr>\n",
       "      <th>1</th>\n",
       "      <td>1.14917</td>\n",
       "      <td>0.00010</td>\n",
       "      <td>0.00010</td>\n",
       "      <td>0.00000</td>\n",
       "      <td>0.000333</td>\n",
       "      <td>0.000016</td>\n",
       "      <td>20.260870</td>\n",
       "      <td>95.296524</td>\n",
       "      <td>1.147931</td>\n",
       "      <td>1.145597</td>\n",
       "      <td>1.147996</td>\n",
       "      <td>1.145676</td>\n",
       "      <td>increase</td>\n",
       "    </tr>\n",
       "    <tr>\n",
       "      <th>2</th>\n",
       "      <td>1.14960</td>\n",
       "      <td>0.00043</td>\n",
       "      <td>0.00043</td>\n",
       "      <td>0.00000</td>\n",
       "      <td>0.000352</td>\n",
       "      <td>0.000016</td>\n",
       "      <td>21.434783</td>\n",
       "      <td>95.542636</td>\n",
       "      <td>1.148222</td>\n",
       "      <td>1.145633</td>\n",
       "      <td>1.148287</td>\n",
       "      <td>1.145765</td>\n",
       "      <td>decrease</td>\n",
       "    </tr>\n",
       "    <tr>\n",
       "      <th>3</th>\n",
       "      <td>1.14912</td>\n",
       "      <td>-0.00048</td>\n",
       "      <td>0.00000</td>\n",
       "      <td>0.00048</td>\n",
       "      <td>0.000324</td>\n",
       "      <td>0.000051</td>\n",
       "      <td>6.394366</td>\n",
       "      <td>86.476190</td>\n",
       "      <td>1.148446</td>\n",
       "      <td>1.145663</td>\n",
       "      <td>1.148439</td>\n",
       "      <td>1.145841</td>\n",
       "      <td>same</td>\n",
       "    </tr>\n",
       "    <tr>\n",
       "      <th>4</th>\n",
       "      <td>1.14917</td>\n",
       "      <td>0.00005</td>\n",
       "      <td>0.00005</td>\n",
       "      <td>0.00000</td>\n",
       "      <td>0.000294</td>\n",
       "      <td>0.000051</td>\n",
       "      <td>5.788732</td>\n",
       "      <td>85.269710</td>\n",
       "      <td>1.148670</td>\n",
       "      <td>1.145694</td>\n",
       "      <td>1.148572</td>\n",
       "      <td>1.145916</td>\n",
       "      <td>decrease</td>\n",
       "    </tr>\n",
       "    <tr>\n",
       "      <th>5</th>\n",
       "      <td>1.14885</td>\n",
       "      <td>-0.00032</td>\n",
       "      <td>0.00000</td>\n",
       "      <td>0.00032</td>\n",
       "      <td>0.000278</td>\n",
       "      <td>0.000074</td>\n",
       "      <td>3.776699</td>\n",
       "      <td>79.065041</td>\n",
       "      <td>1.148853</td>\n",
       "      <td>1.145722</td>\n",
       "      <td>1.148622</td>\n",
       "      <td>1.145983</td>\n",
       "      <td>same</td>\n",
       "    </tr>\n",
       "    <tr>\n",
       "      <th>6</th>\n",
       "      <td>1.14884</td>\n",
       "      <td>-0.00001</td>\n",
       "      <td>0.00000</td>\n",
       "      <td>0.00001</td>\n",
       "      <td>0.000228</td>\n",
       "      <td>0.000074</td>\n",
       "      <td>3.067308</td>\n",
       "      <td>75.413712</td>\n",
       "      <td>1.148988</td>\n",
       "      <td>1.145750</td>\n",
       "      <td>1.148662</td>\n",
       "      <td>1.146047</td>\n",
       "      <td>decrease</td>\n",
       "    </tr>\n",
       "    <tr>\n",
       "      <th>7</th>\n",
       "      <td>1.14870</td>\n",
       "      <td>-0.00014</td>\n",
       "      <td>0.00000</td>\n",
       "      <td>0.00014</td>\n",
       "      <td>0.000214</td>\n",
       "      <td>0.000084</td>\n",
       "      <td>2.542373</td>\n",
       "      <td>71.770335</td>\n",
       "      <td>1.149009</td>\n",
       "      <td>1.145776</td>\n",
       "      <td>1.148669</td>\n",
       "      <td>1.146106</td>\n",
       "      <td>decrease</td>\n",
       "    </tr>\n",
       "    <tr>\n",
       "      <th>8</th>\n",
       "      <td>1.14829</td>\n",
       "      <td>-0.00041</td>\n",
       "      <td>0.00000</td>\n",
       "      <td>0.00041</td>\n",
       "      <td>0.000211</td>\n",
       "      <td>0.000114</td>\n",
       "      <td>1.855346</td>\n",
       "      <td>64.977974</td>\n",
       "      <td>1.149000</td>\n",
       "      <td>1.145798</td>\n",
       "      <td>1.148600</td>\n",
       "      <td>1.146155</td>\n",
       "      <td>same</td>\n",
       "    </tr>\n",
       "    <tr>\n",
       "      <th>9</th>\n",
       "      <td>1.14829</td>\n",
       "      <td>0.00000</td>\n",
       "      <td>0.00000</td>\n",
       "      <td>0.00000</td>\n",
       "      <td>0.000204</td>\n",
       "      <td>0.000114</td>\n",
       "      <td>1.798742</td>\n",
       "      <td>64.269663</td>\n",
       "      <td>1.148910</td>\n",
       "      <td>1.145819</td>\n",
       "      <td>1.148544</td>\n",
       "      <td>1.146203</td>\n",
       "      <td>increase</td>\n",
       "    </tr>\n",
       "  </tbody>\n",
       "</table>\n",
       "</div>"
      ],
      "text/plain": [
       "      tick     diff     gain     loss  avg_gain  avg_loss         rs  \\\n",
       "0  1.14907 -0.00012  0.00000  0.00012  0.000326  0.000021  15.724138   \n",
       "1  1.14917  0.00010  0.00010  0.00000  0.000333  0.000016  20.260870   \n",
       "2  1.14960  0.00043  0.00043  0.00000  0.000352  0.000016  21.434783   \n",
       "3  1.14912 -0.00048  0.00000  0.00048  0.000324  0.000051   6.394366   \n",
       "4  1.14917  0.00005  0.00005  0.00000  0.000294  0.000051   5.788732   \n",
       "5  1.14885 -0.00032  0.00000  0.00032  0.000278  0.000074   3.776699   \n",
       "6  1.14884 -0.00001  0.00000  0.00001  0.000228  0.000074   3.067308   \n",
       "7  1.14870 -0.00014  0.00000  0.00014  0.000214  0.000084   2.542373   \n",
       "8  1.14829 -0.00041  0.00000  0.00041  0.000211  0.000114   1.855346   \n",
       "9  1.14829  0.00000  0.00000  0.00000  0.000204  0.000114   1.798742   \n",
       "\n",
       "         rsi      ssma      lsma      sema      lema    target  \n",
       "0  94.020619  1.147613  1.145565  1.147735  1.145594      same  \n",
       "1  95.296524  1.147931  1.145597  1.147996  1.145676  increase  \n",
       "2  95.542636  1.148222  1.145633  1.148287  1.145765  decrease  \n",
       "3  86.476190  1.148446  1.145663  1.148439  1.145841      same  \n",
       "4  85.269710  1.148670  1.145694  1.148572  1.145916  decrease  \n",
       "5  79.065041  1.148853  1.145722  1.148622  1.145983      same  \n",
       "6  75.413712  1.148988  1.145750  1.148662  1.146047  decrease  \n",
       "7  71.770335  1.149009  1.145776  1.148669  1.146106  decrease  \n",
       "8  64.977974  1.149000  1.145798  1.148600  1.146155      same  \n",
       "9  64.269663  1.148910  1.145819  1.148544  1.146203  increase  "
      ]
     },
     "execution_count": 3,
     "metadata": {},
     "output_type": "execute_result"
    }
   ],
   "source": [
    "df = pd.read_csv('data/tab_df.csv')\n",
    "print(len(df))\n",
    "#df = df.drop(['month', 'day', 'hour', 'min'], axis=1)\n",
    "df.head(10)"
   ]
  },
  {
   "cell_type": "code",
   "execution_count": 4,
   "metadata": {},
   "outputs": [],
   "source": [
    "mapping = {'decrease': 0, 'same': 1, 'increase': 2}\n",
    "df = df.replace({'target': mapping})"
   ]
  },
  {
   "cell_type": "code",
   "execution_count": 5,
   "metadata": {},
   "outputs": [],
   "source": [
    "target_col = 'target'\n",
    "\n",
    "train_x, valid_x, train_y, valid_y = train_test_split(df.loc[:, df.columns != target_col], df[target_col],train_size = 0.8,random_state = 1)"
   ]
  },
  {
   "cell_type": "code",
   "execution_count": 7,
   "metadata": {},
   "outputs": [],
   "source": [
    "#train_x = scale_data(train_x)\n",
    "#valid_x = scale_data(valid_x)\n",
    "#train_x.head()"
   ]
  },
  {
   "cell_type": "code",
   "execution_count": 6,
   "metadata": {},
   "outputs": [],
   "source": [
    "Layer_nodes = 512"
   ]
  },
  {
   "cell_type": "code",
   "execution_count": 7,
   "metadata": {},
   "outputs": [],
   "source": [
    "model = tf.keras.Sequential([\n",
    "  tf.keras.layers.Dense(Layer_nodes, activation='relu', input_shape=[len(train_x.keys())]),\n",
    "  tf.keras.layers.Dense(Layer_nodes, activation='relu'),              \n",
    "  tf.keras.layers.Dense(Layer_nodes, activation='relu'),      \n",
    "  tf.keras.layers.Dense(Layer_nodes, activation='relu'),      \n",
    "  tf.keras.layers.Dense(Layer_nodes, activation='relu'),      \n",
    "  tf.keras.layers.Dense(1, activation='sigmoid')\n",
    "])"
   ]
  },
  {
   "cell_type": "code",
   "execution_count": 8,
   "metadata": {},
   "outputs": [],
   "source": [
    "model.compile(\n",
    "    loss='binary_crossentropy',\n",
    "    optimizer='adam',    \n",
    "    metrics=['accuracy'])"
   ]
  },
  {
   "cell_type": "code",
   "execution_count": 9,
   "metadata": {},
   "outputs": [],
   "source": [
    "epoch_val = 3"
   ]
  },
  {
   "cell_type": "code",
   "execution_count": 10,
   "metadata": {
    "scrolled": true
   },
   "outputs": [
    {
     "name": "stdout",
     "output_type": "stream",
     "text": [
      "Epoch 1/3\n",
      "1861/1861 [==============================] - 18s 10ms/step - loss: 0.2823 - accuracy: 0.5449\n",
      "Epoch 2/3\n",
      "1861/1861 [==============================] - 17s 9ms/step - loss: -0.0102 - accuracy: 0.5449\n",
      "Epoch 3/3\n",
      "1861/1861 [==============================] - 17s 9ms/step - loss: 0.0214 - accuracy: 0.5449\n"
     ]
    },
    {
     "data": {
      "text/plain": [
       "<tensorflow.python.keras.callbacks.History at 0x24490508f60>"
      ]
     },
     "execution_count": 10,
     "metadata": {},
     "output_type": "execute_result"
    }
   ],
   "source": [
    "model.fit(train_x, train_y, epochs=epoch_val)"
   ]
  },
  {
   "cell_type": "code",
   "execution_count": 13,
   "metadata": {},
   "outputs": [
    {
     "name": "stdout",
     "output_type": "stream",
     "text": [
      "156/156 [==============================] - 0s 2ms/step - loss: -472.5865 - accuracy: 0.3605\n",
      "Test Loss -472.5864562988281\n",
      "Test Accuracy 0.36052367091178894\n"
     ]
    }
   ],
   "source": [
    "test_loss, test_accuracy = model.evaluate(valid_x, valid_y)\n",
    "print(f'Test Loss {test_loss}')\n",
    "print(f'Test Accuracy {test_accuracy}')"
   ]
  },
  {
   "cell_type": "markdown",
   "metadata": {},
   "source": [
    "from sklearn.ensemble import RandomForestClassifier\n",
    "from sklearn.metrics import classification_report"
   ]
  },
  {
   "cell_type": "markdown",
   "metadata": {},
   "source": [
    "clf = RandomForestClassifier()\n",
    "clf.fit(train_x, train_y)"
   ]
  },
  {
   "cell_type": "markdown",
   "metadata": {},
   "source": [
    "target_names = ['decrease', 'same', 'increase']\n",
    "print(classification_report(valid_y, clf.predict(valid_x),target_names=target_names))"
   ]
  }
 ],
 "metadata": {
  "kernelspec": {
   "display_name": "Python 3.6.6 64-bit",
   "language": "python",
   "name": "python36664bitab910dfda0bc43a8bf7df0c20d1c59f2"
  },
  "language_info": {
   "codemirror_mode": {
    "name": "ipython",
    "version": 3
   },
   "file_extension": ".py",
   "mimetype": "text/x-python",
   "name": "python",
   "nbconvert_exporter": "python",
   "pygments_lexer": "ipython3",
   "version": "3.6.6"
  }
 },
 "nbformat": 4,
 "nbformat_minor": 4
}
