{
 "cells": [
  {
   "cell_type": "markdown",
   "metadata": {},
   "source": [
    "# ML Trader"
   ]
  },
  {
   "cell_type": "code",
   "execution_count": 1,
   "metadata": {
    "scrolled": true
   },
   "outputs": [],
   "source": [
    "from utils.packages import *\n",
    "from utils.variables import *\n",
    "from utils.i_o import *\n",
    "from utils.dir_slope import *\n",
    "from utils.engine import *\n",
    "from utils.loops import *\n",
    "from utils.order import *\n",
    "import winsound\n",
    "from tqdm import tqdm\n",
    "tqdm.pandas()"
   ]
  },
  {
   "cell_type": "code",
   "execution_count": 2,
   "metadata": {},
   "outputs": [],
   "source": [
    "data[\"plot\"] = False\n",
    "\n",
    "data['min_llema_angle'] = 0\n",
    "\n",
    "data['pl_move_trail_trigger']       = 0.0050\n",
    "data['stop_loss_pip']               = -0.0050\n",
    "\n",
    "data['take_profit_method']  = 'simple'\n",
    "data['stop_loss_method']    = 'simple'"
   ]
  },
  {
   "cell_type": "code",
   "execution_count": null,
   "metadata": {
    "scrolled": false
   },
   "outputs": [
    {
     "name": "stderr",
     "output_type": "stream",
     "text": [
      " 23%|██████▌                      | 1731193/7620960 [01:34<05:59, 16377.05it/s]"
     ]
    },
    {
     "name": "stdout",
     "output_type": "stream",
     "text": [
      "pls    0.00898\n",
      "dtype: float64\n",
      "--------------------------------------\n",
      "                  date ord_types  llema_angle               close_type  \\\n",
      "19 2021-01-18 11:19:22     short         -8.0  simple_slema_move_close   \n",
      "20 2021-01-18 13:54:39     short         -6.0  simple_slema_move_close   \n",
      "21 2021-01-20 05:00:49      long          8.0  simple_slema_move_close   \n",
      "22 2021-01-20 18:31:23      long          0.0  simple_slema_move_close   \n",
      "23 2021-01-21 17:52:16     short         -0.0  simple_slema_move_close   \n",
      "24 2021-01-25 07:42:18      long          0.0  simple_slema_move_close   \n",
      "25 2021-01-26 08:15:18     short         -8.0  simple_slema_move_close   \n",
      "26 2021-01-26 09:32:13      long          0.0  simple_slema_move_close   \n",
      "27 2021-01-26 15:34:37     short         -3.0              simple_stop   \n",
      "28 2021-01-26 23:31:42      long          0.0  simple_slema_move_close   \n",
      "29 2021-01-28 06:09:26     short         -9.0  simple_slema_move_close   \n",
      "30 2021-01-28 08:44:48      long          0.0  simple_slema_move_close   \n",
      "31 2021-01-28 15:43:11      long          0.0  simple_slema_move_close   \n",
      "32 2021-01-28 20:43:31      long          3.0  simple_slema_move_close   \n",
      "33 2021-01-29 06:32:03     short         -0.0  simple_slema_move_close   \n",
      "\n",
      "        pls  \n",
      "19  0.00001  \n",
      "20  0.00001  \n",
      "21  0.00096  \n",
      "22  0.00001  \n",
      "23  0.00016  \n",
      "24  0.00003  \n",
      "25  0.00065  \n",
      "26  0.00001  \n",
      "27 -0.00507  \n",
      "28  0.00002  \n",
      "29  0.00002  \n",
      "30  0.00001  \n",
      "31  0.00178  \n",
      "32  0.00002  \n",
      "33  0.00222  \n"
     ]
    },
    {
     "name": "stderr",
     "output_type": "stream",
     "text": [
      " 23%|██████▊                      | 1778116/7620960 [01:37<05:27, 17849.39it/s]"
     ]
    }
   ],
   "source": [
    "%%time\n",
    "data = get_date_list(data)\n",
    "data = read_data(data)\n",
    "data = run_engine(data)"
   ]
  },
  {
   "cell_type": "code",
   "execution_count": null,
   "metadata": {
    "scrolled": false
   },
   "outputs": [],
   "source": [
    "if data[\"plot\"]:\n",
    "    data = adjust_plot_list_lengths(data)\n",
    "    plot_graph(data)\n",
    "    \n",
    "print('-----------------------------------------------------')\n",
    "print_report(data)\n",
    "print('-----------------------------------------------------')\n",
    "print(data['report_df'].groupby(['month_val'])['pls'].sum())\n",
    "print('-----------------------------------------------------')\n",
    "print(data['report_df']['pls'].value_counts())\n",
    "print('-----------------------------------------------------')\n",
    "data['report_df']\n",
    "\n",
    "winsound.PlaySound('C:\\\\Windows\\\\Media\\\\tada.wav', winsound.SND_ASYNC)"
   ]
  },
  {
   "cell_type": "code",
   "execution_count": null,
   "metadata": {},
   "outputs": [],
   "source": [
    "print(data['report_df'].groupby(['close_type'])['pls'].sum())"
   ]
  },
  {
   "cell_type": "markdown",
   "metadata": {
    "scrolled": false
   },
   "source": [
    "import glob\n",
    "\n",
    "for file in glob.glob(\"data/*.csv\"):\n",
    "    if file not in ['data\\\\eurusd_2021.csv', 'data\\\\full_df.csv']:\n",
    "        df = pd.read_csv(file)\n",
    "        print('----------------------------')\n",
    "        print(f'file : {file}')\n",
    "        print(df['pls'].sum())\n",
    "        print(df.groupby(['month_val'])['pls'].sum())\n",
    "        print('----------------------------')"
   ]
  }
 ],
 "metadata": {
  "kernelspec": {
   "display_name": "Python 3",
   "language": "python",
   "name": "python3"
  },
  "language_info": {
   "codemirror_mode": {
    "name": "ipython",
    "version": 3
   },
   "file_extension": ".py",
   "mimetype": "text/x-python",
   "name": "python",
   "nbconvert_exporter": "python",
   "pygments_lexer": "ipython3",
   "version": "3.6.6"
  }
 },
 "nbformat": 4,
 "nbformat_minor": 4
}
