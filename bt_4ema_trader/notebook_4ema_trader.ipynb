{
 "cells": [
  {
   "cell_type": "markdown",
   "metadata": {},
   "source": [
    "# ML Trader"
   ]
  },
  {
   "cell_type": "code",
   "execution_count": 1,
   "metadata": {
    "scrolled": true
   },
   "outputs": [],
   "source": [
    "from utils.packages import *\n",
    "from utils.variables import *\n",
    "from utils.i_o import *\n",
    "from utils.dir_slope import *\n",
    "from utils.engine import *\n",
    "from utils.loops import *\n",
    "from utils.order import *\n",
    "import winsound\n",
    "from tqdm import tqdm\n",
    "tqdm.pandas()"
   ]
  },
  {
   "cell_type": "code",
   "execution_count": 2,
   "metadata": {},
   "outputs": [],
   "source": [
    "data[\"plot\"] = False\n",
    "\n",
    "data['min_llema_angle'] = 0\n",
    "\n",
    "data['pl_move_trail_trigger']       = 0.0040\n",
    "data['pl_move_trail_ratio']         = 0.75\n",
    "\n",
    "data['pl_loss_trail_trigger']       = 0.0040\n",
    "data['stop_loss_pip']               = 0.0050\n",
    "data['pl_loss_trail_size']          = 0.75\n",
    "\n",
    "data['take_profit_method']  = 'simple'\n",
    "data['stop_loss_method']    = 'trail'"
   ]
  },
  {
   "cell_type": "code",
   "execution_count": 3,
   "metadata": {
    "scrolled": false
   },
   "outputs": [
    {
     "name": "stderr",
     "output_type": "stream",
     "text": [
      " 99%|████████████████████████████▋| 7530324/7620960 [06:55<00:05, 16610.76it/s]"
     ]
    },
    {
     "name": "stdout",
     "output_type": "stream",
     "text": [
      "pls    0.05729\n",
      "dtype: float64\n",
      "--------------------------------------\n",
      "                   date ord_types  llema_angle               close_type  \\\n",
      "156 2021-05-17 08:31:17      long          0.0  simple_slema_move_close   \n",
      "157 2021-05-19 01:34:37      long          0.0  simple_slema_move_close   \n",
      "158 2021-05-19 12:08:11     short         -0.0  simple_slema_move_close   \n",
      "159 2021-05-19 13:18:46      long          0.0            pl_loss_close   \n",
      "160 2021-05-19 18:08:10     short         -0.0       simple_take_profit   \n",
      "161 2021-05-20 01:59:29      long          0.0            pl_loss_close   \n",
      "162 2021-05-21 15:57:02     short         -7.0  simple_slema_move_close   \n",
      "163 2021-05-24 04:51:30     short         -6.0               sema_close   \n",
      "164 2021-05-24 08:40:00      long          0.0  simple_slema_move_close   \n",
      "165 2021-05-25 06:03:36      long          3.0  simple_slema_move_close   \n",
      "166 2021-05-26 00:51:52      long          9.0  simple_slema_move_close   \n",
      "167 2021-05-26 20:09:13     short         -0.0  simple_slema_move_close   \n",
      "168 2021-05-27 08:59:02     short         -3.0            pl_loss_close   \n",
      "169 2021-05-27 14:00:09     short         -9.0  simple_slema_move_close   \n",
      "170 2021-05-28 04:20:22     short         -3.0  simple_slema_move_close   \n",
      "\n",
      "         pls  \n",
      "156  0.00001  \n",
      "157  0.00059  \n",
      "158  0.00150  \n",
      "159 -0.00002  \n",
      "160  0.00403  \n",
      "161 -0.00003  \n",
      "162  0.00002  \n",
      "163 -0.00037  \n",
      "164  0.00004  \n",
      "165  0.00073  \n",
      "166  0.00001  \n",
      "167  0.00254  \n",
      "168 -0.00005  \n",
      "169  0.00001  \n",
      "170  0.00045  \n"
     ]
    },
    {
     "name": "stderr",
     "output_type": "stream",
     "text": [
      "100%|█████████████████████████████| 7620960/7620960 [06:59<00:00, 18149.06it/s]"
     ]
    },
    {
     "name": "stdout",
     "output_type": "stream",
     "text": [
      "Wall time: 8min 28s\n"
     ]
    },
    {
     "name": "stderr",
     "output_type": "stream",
     "text": [
      "\n"
     ]
    }
   ],
   "source": [
    "%%time\n",
    "data = get_date_list(data)\n",
    "data = read_data(data)\n",
    "data = run_engine(data)"
   ]
  },
  {
   "cell_type": "code",
   "execution_count": 4,
   "metadata": {
    "scrolled": false
   },
   "outputs": [
    {
     "name": "stdout",
     "output_type": "stream",
     "text": [
      "-----------------------------------------------------\n",
      "==============================\n",
      "date_val          : ['20210501']\n",
      "Total PL : 0.057289999999999994\n",
      "-------------\n",
      "net_pl            : 0.05729/0.17805\n",
      "-------------\n",
      "+ve               : num= 119    sum= +0.11767    avg= +0.00099\n",
      "-ve               : num= 52    sum= -0.06038    avg= -0.00116\n",
      "==============================\n",
      "-----------------------------------------------------\n",
      "month_val\n",
      "1    0.01539\n",
      "2    0.01121\n",
      "3   -0.01057\n",
      "4    0.02534\n",
      "5    0.01592\n",
      "Name: pls, dtype: float64\n",
      "-----------------------------------------------------\n",
      " 0.00001    28\n",
      " 0.00002    13\n",
      " 0.00400     8\n",
      "-0.00003     8\n",
      "-0.00004     6\n",
      "            ..\n",
      "-0.00065     1\n",
      "-0.00096     1\n",
      " 0.00088     1\n",
      "-0.00247     1\n",
      " 0.00178     1\n",
      "Name: pls, Length: 92, dtype: int64\n",
      "-----------------------------------------------------\n"
     ]
    }
   ],
   "source": [
    "if data[\"plot\"]:\n",
    "    data = adjust_plot_list_lengths(data)\n",
    "    plot_graph(data)\n",
    "    \n",
    "print('-----------------------------------------------------')\n",
    "print_report(data)\n",
    "print('-----------------------------------------------------')\n",
    "print(data['report_df'].groupby(['month_val'])['pls'].sum())\n",
    "print('-----------------------------------------------------')\n",
    "print(data['report_df']['pls'].value_counts())\n",
    "print('-----------------------------------------------------')\n",
    "data['report_df']\n",
    "\n",
    "winsound.PlaySound('C:\\\\Windows\\\\Media\\\\tada.wav', winsound.SND_ASYNC)"
   ]
  }
 ],
 "metadata": {
  "kernelspec": {
   "display_name": "Python 3",
   "language": "python",
   "name": "python3"
  },
  "language_info": {
   "codemirror_mode": {
    "name": "ipython",
    "version": 3
   },
   "file_extension": ".py",
   "mimetype": "text/x-python",
   "name": "python",
   "nbconvert_exporter": "python",
   "pygments_lexer": "ipython3",
   "version": "3.6.6"
  }
 },
 "nbformat": 4,
 "nbformat_minor": 4
}
