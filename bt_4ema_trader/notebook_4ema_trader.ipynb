{
 "cells": [
  {
   "cell_type": "markdown",
   "metadata": {},
   "source": [
    "# ML Trader"
   ]
  },
  {
   "cell_type": "code",
   "execution_count": 1,
   "metadata": {
    "scrolled": true
   },
   "outputs": [],
   "source": [
    "from utils.packages import *\n",
    "from utils.variables import *\n",
    "from utils.i_o import *\n",
    "from utils.dir_slope import *\n",
    "from utils.engine import *\n",
    "from utils.loops import *\n",
    "from utils.order import *\n",
    "import winsound\n",
    "from tqdm import tqdm\n",
    "tqdm.pandas()"
   ]
  },
  {
   "cell_type": "code",
   "execution_count": 2,
   "metadata": {},
   "outputs": [],
   "source": [
    "data[\"plot\"] = False\n",
    "\n",
    "data['pl_move_trail_trigger']   = 0.0030\n",
    "data['stop_loss_pip']           = 0.0020\n",
    "\n",
    "# data['input_rows'] = 100000\n",
    "\n",
    "data['sema_len']        = 3000\n",
    "data['slema_len']       = 10000\n",
    "data['lema_len']        = 20000\n",
    "data['llema_len']       = 30000\n",
    "\n",
    "data['start_date'] = {'year':2021, 'month':5, 'date':2}\n",
    "data['end_date']   = {'year':2021, 'month':5, 'date':8}\n",
    "\n",
    "data['angle_len']       = 10"
   ]
  },
  {
   "cell_type": "code",
   "execution_count": 3,
   "metadata": {
    "scrolled": false
   },
   "outputs": [
    {
     "name": "stderr",
     "output_type": "stream",
     "text": [
      " 93%|█████████████████████████████▊  | 245091/263043 [01:10<00:06, 2638.34it/s]"
     ]
    },
    {
     "name": "stdout",
     "output_type": "stream",
     "text": [
      "pls   -0.00674\n",
      "dtype: float64\n",
      "--------------------------------------\n",
      "                  date ord_types  llema_angle               close_type  \\\n",
      "2  2021-05-03 20:20:13     short         -8.0            pl_loss_close   \n",
      "3  2021-05-04 08:07:00     short         -8.0            pl_loss_close   \n",
      "4  2021-05-04 12:18:22     short         -8.0  simple_slema_move_close   \n",
      "5  2021-05-04 13:54:16     short         -8.0               sema_close   \n",
      "6  2021-05-04 14:49:13      long          8.0               sema_close   \n",
      "7  2021-05-04 16:34:12     short         -8.0  simple_slema_move_close   \n",
      "8  2021-05-04 19:38:36      long          7.0               sema_close   \n",
      "9  2021-05-05 01:05:51     short         -6.0            pl_loss_close   \n",
      "10 2021-05-05 06:31:22     short         -7.0               sema_close   \n",
      "11 2021-05-05 07:26:23      long          8.0            pl_loss_close   \n",
      "12 2021-05-05 12:57:51     short         -6.0            pl_loss_close   \n",
      "13 2021-05-06 13:09:33      long          6.0  simple_slema_move_close   \n",
      "14 2021-05-06 15:57:03      long          8.0  simple_slema_move_close   \n",
      "15 2021-05-07 04:18:47      long         15.0            pl_move_close   \n",
      "16 2021-05-07 12:13:33      long          6.0            pl_move_close   \n",
      "\n",
      "        pls  \n",
      "2  -0.00149  \n",
      "3  -0.00135  \n",
      "4   0.00001  \n",
      "5  -0.00093  \n",
      "6  -0.00104  \n",
      "7   0.00160  \n",
      "8  -0.00143  \n",
      "9  -0.00149  \n",
      "10 -0.00106  \n",
      "11 -0.00149  \n",
      "12 -0.00149  \n",
      "13  0.00016  \n",
      "14  0.00008  \n",
      "15  0.00321  \n",
      "16  0.00262  \n"
     ]
    },
    {
     "name": "stderr",
     "output_type": "stream",
     "text": [
      "100%|████████████████████████████████| 263043/263043 [01:11<00:00, 3663.23it/s]"
     ]
    },
    {
     "name": "stdout",
     "output_type": "stream",
     "text": [
      "Wall time: 2min 56s\n"
     ]
    },
    {
     "name": "stderr",
     "output_type": "stream",
     "text": [
      "\n"
     ]
    }
   ],
   "source": [
    "%%time\n",
    "data = get_date_list(data)\n",
    "data = read_data(data)\n",
    "data = run_engine(data)"
   ]
  },
  {
   "cell_type": "code",
   "execution_count": 4,
   "metadata": {},
   "outputs": [
    {
     "data": {
      "text/plain": [
       "0.0028577999999999998"
      ]
     },
     "execution_count": 4,
     "metadata": {},
     "output_type": "execute_result"
    }
   ],
   "source": [
    "max((data['pl'] * data['pl_loss_trail_size']), data['pl_loss_min'])"
   ]
  },
  {
   "cell_type": "code",
   "execution_count": 5,
   "metadata": {
    "scrolled": false
   },
   "outputs": [
    {
     "name": "stdout",
     "output_type": "stream",
     "text": [
      "-----------------------------------------------------\n",
      "==============================\n",
      "date_val          : ['20210502', '20210503', '20210504', '20210505', '20210506', '20210507', '20210508']\n",
      "Total PL : -0.00674\n",
      "-------------\n",
      "net_pl            : -0.00674/0.0221\n",
      "-------------\n",
      "+ve               : num= 6    sum= +0.00768    avg= +0.00128\n",
      "-ve               : num= 11    sum= -0.01442    avg= -0.00131\n",
      "==============================\n",
      "-----------------------------------------------------\n",
      "date_val\n",
      "3   -0.00414\n",
      "4   -0.00314\n",
      "5   -0.00553\n",
      "6    0.00024\n",
      "7    0.00583\n",
      "Name: pls, dtype: float64\n",
      "-----------------------------------------------------\n",
      "-0.00149    4\n",
      "-0.00106    1\n",
      "-0.00148    1\n",
      " 0.00160    1\n",
      " 0.00321    1\n",
      " 0.00016    1\n",
      " 0.00262    1\n",
      "-0.00143    1\n",
      "-0.00093    1\n",
      " 0.00001    1\n",
      "-0.00104    1\n",
      "-0.00117    1\n",
      " 0.00008    1\n",
      "-0.00135    1\n",
      "Name: pls, dtype: int64\n",
      "-----------------------------------------------------\n"
     ]
    }
   ],
   "source": [
    "if data[\"plot\"]:\n",
    "    data = adjust_plot_list_lengths(data)\n",
    "    plot_graph(data)\n",
    "    \n",
    "print('-----------------------------------------------------')\n",
    "print_report(data)\n",
    "print('-----------------------------------------------------')\n",
    "print(data['report_df'].groupby(['date_val'])['pls'].sum())\n",
    "print('-----------------------------------------------------')\n",
    "print(data['report_df']['pls'].value_counts())\n",
    "print('-----------------------------------------------------')\n",
    "data['report_df']\n",
    "\n",
    "winsound.PlaySound('C:\\\\Windows\\\\Media\\\\tada.wav', winsound.SND_ASYNC)"
   ]
  }
 ],
 "metadata": {
  "kernelspec": {
   "display_name": "Python 3",
   "language": "python",
   "name": "python3"
  },
  "language_info": {
   "codemirror_mode": {
    "name": "ipython",
    "version": 3
   },
   "file_extension": ".py",
   "mimetype": "text/x-python",
   "name": "python",
   "nbconvert_exporter": "python",
   "pygments_lexer": "ipython3",
   "version": "3.6.6"
  }
 },
 "nbformat": 4,
 "nbformat_minor": 4
}
