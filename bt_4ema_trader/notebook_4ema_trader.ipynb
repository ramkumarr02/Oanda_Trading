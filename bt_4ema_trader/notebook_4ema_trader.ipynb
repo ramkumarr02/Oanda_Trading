{
 "cells": [
  {
   "cell_type": "markdown",
   "metadata": {},
   "source": [
    "# ML Trader"
   ]
  },
  {
   "cell_type": "code",
   "execution_count": 1,
   "metadata": {
    "scrolled": true
   },
   "outputs": [],
   "source": [
    "from utils.packages import *\n",
    "from utils.variables import *\n",
    "from utils.i_o import *\n",
    "from utils.dir_slope import *\n",
    "from utils.engine import *\n",
    "from utils.loops import *\n",
    "from utils.order import *\n",
    "import winsound\n",
    "from tqdm import tqdm\n",
    "tqdm.pandas()"
   ]
  },
  {
   "cell_type": "code",
   "execution_count": 2,
   "metadata": {},
   "outputs": [],
   "source": [
    "data[\"plot\"] = False\n",
    "\n",
    "data['min_llema_angle'] = 0\n",
    "\n",
    "data['pl_move_trail_trigger']       = 0.0040\n",
    "data['stop_loss_pip']               = -0.0040\n",
    "\n",
    "data['take_profit_method']  = 'simple'\n",
    "data['stop_loss_method']    = 'simple'"
   ]
  },
  {
   "cell_type": "code",
   "execution_count": 3,
   "metadata": {
    "scrolled": false
   },
   "outputs": [
    {
     "name": "stderr",
     "output_type": "stream",
     "text": [
      " 99%|████████████████████████████▋| 7530437/7620960 [07:40<00:05, 15152.72it/s]"
     ]
    },
    {
     "name": "stdout",
     "output_type": "stream",
     "text": [
      "pls    0.04587\n",
      "dtype: float64\n",
      "--------------------------------------\n",
      "                   date ord_types  llema_angle               close_type  \\\n",
      "154 2021-05-13 17:07:52      long          7.0               sema_close   \n",
      "155 2021-05-13 18:50:59     short         -0.0  simple_slema_move_close   \n",
      "156 2021-05-17 08:31:17      long          0.0  simple_slema_move_close   \n",
      "157 2021-05-19 01:34:37      long          0.0  simple_slema_move_close   \n",
      "158 2021-05-19 12:08:11     short         -0.0  simple_slema_move_close   \n",
      "159 2021-05-19 14:16:31      long          0.0  simple_slema_move_close   \n",
      "160 2021-05-19 18:08:10     short         -0.0       simple_take_profit   \n",
      "161 2021-05-20 02:13:05      long          0.0               sema_close   \n",
      "162 2021-05-20 14:02:17     short         -7.0              simple_stop   \n",
      "163 2021-05-24 04:51:30     short         -6.0               sema_close   \n",
      "164 2021-05-24 08:40:00      long          0.0  simple_slema_move_close   \n",
      "165 2021-05-25 06:03:36      long          3.0  simple_slema_move_close   \n",
      "166 2021-05-26 00:51:52      long          9.0  simple_slema_move_close   \n",
      "167 2021-05-26 20:09:13     short         -0.0  simple_slema_move_close   \n",
      "168 2021-05-28 05:30:45     short         -3.0  simple_slema_move_close   \n",
      "\n",
      "         pls  \n",
      "154 -0.00110  \n",
      "155  0.00001  \n",
      "156  0.00001  \n",
      "157  0.00059  \n",
      "158  0.00150  \n",
      "159  0.00063  \n",
      "160  0.00403  \n",
      "161 -0.00055  \n",
      "162 -0.00402  \n",
      "163 -0.00037  \n",
      "164  0.00004  \n",
      "165  0.00073  \n",
      "166  0.00001  \n",
      "167  0.00254  \n",
      "168  0.00001  \n"
     ]
    },
    {
     "name": "stderr",
     "output_type": "stream",
     "text": [
      "100%|█████████████████████████████| 7620960/7620960 [07:46<00:00, 16341.41it/s]"
     ]
    },
    {
     "name": "stdout",
     "output_type": "stream",
     "text": [
      "Wall time: 9min 24s\n"
     ]
    },
    {
     "name": "stderr",
     "output_type": "stream",
     "text": [
      "\n"
     ]
    }
   ],
   "source": [
    "%%time\n",
    "data = get_date_list(data)\n",
    "data = read_data(data)\n",
    "data = run_engine(data)"
   ]
  },
  {
   "cell_type": "code",
   "execution_count": 4,
   "metadata": {
    "scrolled": false
   },
   "outputs": [
    {
     "name": "stdout",
     "output_type": "stream",
     "text": [
      "-----------------------------------------------------\n",
      "==============================\n",
      "date_val          : ['20210501']\n",
      "Total PL : 0.04586999999999999\n",
      "-------------\n",
      "net_pl            : 0.04587/0.21957\n",
      "-------------\n",
      "+ve               : num= 126    sum= +0.13272    avg= +0.00105\n",
      "-ve               : num= 43    sum= -0.08685    avg= -0.00202\n",
      "==============================\n",
      "-----------------------------------------------------\n",
      "month_val\n",
      "1    0.01626\n",
      "2    0.00423\n",
      "3   -0.00554\n",
      "4    0.01299\n",
      "5    0.01793\n",
      "Name: pls, dtype: float64\n",
      "-----------------------------------------------------\n",
      " 0.00001    27\n",
      " 0.00002    13\n",
      " 0.00400    10\n",
      "-0.00400     5\n",
      " 0.00401     4\n",
      "            ..\n",
      " 0.00027     1\n",
      "-0.00148     1\n",
      " 0.00150     1\n",
      " 0.00295     1\n",
      " 0.00178     1\n",
      "Name: pls, Length: 98, dtype: int64\n",
      "-----------------------------------------------------\n"
     ]
    }
   ],
   "source": [
    "if data[\"plot\"]:\n",
    "    data = adjust_plot_list_lengths(data)\n",
    "    plot_graph(data)\n",
    "    \n",
    "print('-----------------------------------------------------')\n",
    "print_report(data)\n",
    "print('-----------------------------------------------------')\n",
    "print(data['report_df'].groupby(['month_val'])['pls'].sum())\n",
    "print('-----------------------------------------------------')\n",
    "print(data['report_df']['pls'].value_counts())\n",
    "print('-----------------------------------------------------')\n",
    "data['report_df']\n",
    "\n",
    "winsound.PlaySound('C:\\\\Windows\\\\Media\\\\tada.wav', winsound.SND_ASYNC)"
   ]
  },
  {
   "cell_type": "code",
   "execution_count": 5,
   "metadata": {},
   "outputs": [
    {
     "name": "stdout",
     "output_type": "stream",
     "text": [
      "close_type\n",
      "sema_close                -0.03311\n",
      "simple_slema_move_close    0.05242\n",
      "simple_stop               -0.05374\n",
      "simple_take_profit         0.08030\n",
      "Name: pls, dtype: float64\n"
     ]
    }
   ],
   "source": [
    "print(data['report_df'].groupby(['close_type'])['pls'].sum())"
   ]
  }
 ],
 "metadata": {
  "kernelspec": {
   "display_name": "Python 3",
   "language": "python",
   "name": "python3"
  },
  "language_info": {
   "codemirror_mode": {
    "name": "ipython",
    "version": 3
   },
   "file_extension": ".py",
   "mimetype": "text/x-python",
   "name": "python",
   "nbconvert_exporter": "python",
   "pygments_lexer": "ipython3",
   "version": "3.6.6"
  }
 },
 "nbformat": 4,
 "nbformat_minor": 4
}
