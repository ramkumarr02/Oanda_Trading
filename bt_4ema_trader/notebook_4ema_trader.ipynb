{
 "cells": [
  {
   "cell_type": "markdown",
   "metadata": {},
   "source": [
    "# ML Trader"
   ]
  },
  {
   "cell_type": "code",
   "execution_count": 1,
   "metadata": {
    "scrolled": true
   },
   "outputs": [],
   "source": [
    "from utils.packages import *\n",
    "from utils.variables import *\n",
    "from utils.i_o import *\n",
    "from utils.dir_slope import *\n",
    "from utils.engine import *\n",
    "from utils.loops import *\n",
    "from utils.order import *\n",
    "import winsound\n",
    "from tqdm import tqdm\n",
    "tqdm.pandas()"
   ]
  },
  {
   "cell_type": "code",
   "execution_count": 2,
   "metadata": {},
   "outputs": [],
   "source": [
    "data[\"plot\"] = True\n",
    "\n",
    "data['min_llema_angle'] = 1\n",
    "\n",
    "data['pl_move_trail_trigger']       = 0.0040\n",
    "data['stop_loss_pip']               = -0.0040\n",
    "\n",
    "data['angle_len']       = 250\n",
    "\n",
    "data['take_profit_method']  = 'simple'\n",
    "data['stop_loss_method']    = 'simple'\n",
    "\n",
    "data['start_date'] = {'year':2021, 'month':1, 'date':1}\n",
    "data['end_date']   = {'year':2021, 'month':1, 'date':31}"
   ]
  },
  {
   "cell_type": "code",
   "execution_count": 3,
   "metadata": {
    "scrolled": false
   },
   "outputs": [
    {
     "name": "stderr",
     "output_type": "stream",
     "text": [
      "100%|█████████████████████████████▉| 1827638/1830854 [1:32:17<00:47, 68.33it/s]"
     ]
    },
    {
     "name": "stdout",
     "output_type": "stream",
     "text": [
      "pls   -0.01474\n",
      "dtype: float64\n",
      "--------------------------------------\n",
      "                   date ord_types  llema_angle               close_type  \\\n",
      "173 2021-01-29 08:32:03     short         -1.0  simple_slema_move_close   \n",
      "174 2021-01-29 10:24:15     short         -1.0               sema_close   \n",
      "175 2021-01-29 13:00:40      long          1.0  simple_slema_move_close   \n",
      "176 2021-01-29 14:42:11      long          1.0  simple_slema_move_close   \n",
      "177 2021-01-29 15:07:55      long          2.0  simple_slema_move_close   \n",
      "178 2021-01-29 15:09:40      long          2.0  simple_slema_move_close   \n",
      "179 2021-01-29 15:40:45      long          2.0               sema_close   \n",
      "180 2021-01-29 15:58:09     short          1.0               sema_close   \n",
      "181 2021-01-29 16:10:59      long          2.0               sema_close   \n",
      "182 2021-01-29 16:47:04     short          1.0  simple_slema_move_close   \n",
      "183 2021-01-29 20:09:28     short          1.0  simple_slema_move_close   \n",
      "184 2021-01-29 20:56:49     short          0.0               sema_close   \n",
      "185 2021-01-29 21:18:17      long          1.0               sema_close   \n",
      "186 2021-01-29 21:59:08     short          0.0               sema_close   \n",
      "187 2021-01-31 22:10:08      long          1.0               sema_close   \n",
      "\n",
      "         pls  \n",
      "173  0.00003  \n",
      "174 -0.00230  \n",
      "175  0.00040  \n",
      "176  0.00156  \n",
      "177  0.00004  \n",
      "178  0.00002  \n",
      "179 -0.00141  \n",
      "180 -0.00141  \n",
      "181 -0.00084  \n",
      "182  0.00001  \n",
      "183  0.00043  \n",
      "184 -0.00045  \n",
      "185 -0.00073  \n",
      "186 -0.00078  \n",
      "187 -0.00091  \n"
     ]
    },
    {
     "name": "stderr",
     "output_type": "stream",
     "text": [
      "100%|█████████████████████████████| 1830854/1830854 [1:32:17<00:00, 330.61it/s]"
     ]
    },
    {
     "name": "stdout",
     "output_type": "stream",
     "text": [
      "Wall time: 1h 33min\n"
     ]
    },
    {
     "name": "stderr",
     "output_type": "stream",
     "text": [
      "\n"
     ]
    }
   ],
   "source": [
    "%%time\n",
    "data = get_date_list(data)\n",
    "data = read_data(data)\n",
    "data = run_engine(data)"
   ]
  },
  {
   "cell_type": "code",
   "execution_count": null,
   "metadata": {
    "scrolled": false
   },
   "outputs": [],
   "source": [
    "if data[\"plot\"]:\n",
    "    data = adjust_plot_list_lengths(data)\n",
    "    plot_graph(data)\n",
    "    \n",
    "print('-----------------------------------------------------')\n",
    "print_report(data)\n",
    "print('-----------------------------------------------------')\n",
    "print(data['report_df'].groupby(['month_val'])['pls'].sum())\n",
    "print('-----------------------------------------------------')\n",
    "print(data['report_df']['close_type'].value_counts())\n",
    "print('-----------------------------------------------------')\n",
    "data['report_df']\n",
    "\n",
    "winsound.PlaySound('C:\\\\Windows\\\\Media\\\\tada.wav', winsound.SND_ASYNC)"
   ]
  },
  {
   "cell_type": "markdown",
   "metadata": {
    "scrolled": false
   },
   "source": [
    "import glob\n",
    "\n",
    "for file in glob.glob(\"data/*.csv\"):\n",
    "    if file not in ['data\\\\eurusd_2021.csv', 'data\\\\full_df.csv']:\n",
    "        df = pd.read_csv(file)\n",
    "        print('----------------------------')\n",
    "        print(f'file : {file}')\n",
    "        print(df['pls'].sum())\n",
    "        print(df.groupby(['month_val'])['pls'].sum())\n",
    "        print('----------------------------')"
   ]
  }
 ],
 "metadata": {
  "kernelspec": {
   "display_name": "Python 3",
   "language": "python",
   "name": "python3"
  },
  "language_info": {
   "codemirror_mode": {
    "name": "ipython",
    "version": 3
   },
   "file_extension": ".py",
   "mimetype": "text/x-python",
   "name": "python",
   "nbconvert_exporter": "python",
   "pygments_lexer": "ipython3",
   "version": "3.6.6"
  }
 },
 "nbformat": 4,
 "nbformat_minor": 4
}
