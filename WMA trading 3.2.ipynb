{
 "cells": [
  {
   "cell_type": "markdown",
   "metadata": {},
   "source": [
    "# Oanda Demo Trading Notebook"
   ]
  },
  {
   "cell_type": "markdown",
   "metadata": {},
   "source": [
    "## Packages & Tools"
   ]
  },
  {
   "cell_type": "code",
   "execution_count": 1,
   "metadata": {},
   "outputs": [],
   "source": [
    "from utils.packages import *\n",
    "from utils.tools import *"
   ]
  },
  {
   "cell_type": "markdown",
   "metadata": {},
   "source": [
    "## API Setup"
   ]
  },
  {
   "cell_type": "markdown",
   "metadata": {},
   "source": [
    "Read from config file"
   ]
  },
  {
   "cell_type": "code",
   "execution_count": 2,
   "metadata": {
    "scrolled": true
   },
   "outputs": [],
   "source": [
    "temp_file = 'config/access_keys.yaml'\n",
    "with open(temp_file) as temp_file:\n",
    "    config = yaml.load(temp_file)\n",
    "    \n",
    "temp_file = 'config/wma.yaml'\n",
    "with open(temp_file) as temp_file:\n",
    "    wma = yaml.load(temp_file)    "
   ]
  },
  {
   "cell_type": "code",
   "execution_count": 3,
   "metadata": {},
   "outputs": [],
   "source": [
    "access_token = config['oanda_demo_account']['token']\n",
    "accountID = config['oanda_demo_account']['account_id']\n",
    "api = API(access_token = access_token)\n",
    "\n",
    "instrument = wma['currency']['instrument']\n",
    "pip = wma['currency']['pip']\n",
    "\n",
    "short_moving_window = wma['wma']['short_moving_window']\n",
    "long_moving_window = wma['wma']['long_moving_window']\n",
    "lists_size = wma['wma']['lists_size']\n",
    "\n",
    "units =  wma['order']['units']\n",
    "profit_target =  wma['order']['profit_target']\n",
    "loss_limit_num =  wma['order']['stop_loss_limit']\n",
    "order_num_limit =  wma['order']['order_num_limit']\n",
    "price_allowed_buffer =  wma['order']['price_allowed_buffer']\n",
    "\n",
    "max_skips = wma['loss_skip']['max_skips']\n",
    "consecutive_losses = wma['loss_skip']['consecutive_losses']"
   ]
  },
  {
   "cell_type": "markdown",
   "metadata": {},
   "source": [
    "## Code Engine"
   ]
  },
  {
   "cell_type": "code",
   "execution_count": 4,
   "metadata": {},
   "outputs": [],
   "source": [
    "params = {'instruments': instrument}\n",
    "r = pricing.PricingStream(accountID=accountID, params=params)\n",
    "rv = api.request(r)\n",
    "\n",
    "skip_iter = 1\n",
    "pl_pip = 0\n",
    "long_wma = 0\n",
    "short_wma = 0\n",
    "closed_orders = 0\n",
    "long_list_counter = 0\n",
    "\n",
    "\n",
    "long_flag = True\n",
    "short_flag = True\n",
    "valid_iteration = True\n",
    "\n",
    "old_direction =  'none'\n",
    "\n",
    "list_ready = False\n",
    "order_flag = False\n",
    "negative_run =  False\n",
    "first_position_changed = False\n",
    "initial_position_captured = False\n",
    "\n",
    "pl_list = collections.deque([])\n",
    "tick_list = collections.deque([])\n",
    "long_list = collections.deque([])\n",
    "short_list = collections.deque([])\n",
    "long_wma_list = collections.deque([])\n",
    "short_wma_list = collections.deque([])\n",
    "\n",
    "loss_limit = loss_limit_num * pip\n",
    "profit_target = profit_target * pip \n",
    "\n",
    "long_weights = get_weights(long_moving_window)\n",
    "short_weights = get_weights(short_moving_window)"
   ]
  },
  {
   "cell_type": "code",
   "execution_count": 5,
   "metadata": {
    "scrolled": false
   },
   "outputs": [
    {
     "name": "stderr",
     "output_type": "stream",
     "text": [
      "1503it [17:19,  2.11it/s]"
     ]
    },
    {
     "name": "stdout",
     "output_type": "stream",
     "text": [
      "initial_position : positive\n"
     ]
    },
    {
     "name": "stderr",
     "output_type": "stream",
     "text": [
      "2710it [31:41,  1.64it/s]"
     ]
    },
    {
     "name": "stdout",
     "output_type": "stream",
     "text": [
      "positive ---> negative\n",
      "Going short\n"
     ]
    },
    {
     "name": "stderr",
     "output_type": "stream",
     "text": [
      "\r",
      "2711it [31:42,  1.12it/s]"
     ]
    },
    {
     "name": "stdout",
     "output_type": "stream",
     "text": [
      "ordered\n"
     ]
    },
    {
     "name": "stderr",
     "output_type": "stream",
     "text": [
      "3046it [35:09,  1.56it/s]"
     ]
    },
    {
     "name": "stdout",
     "output_type": "stream",
     "text": [
      "Closed short position : 1\n"
     ]
    },
    {
     "name": "stderr",
     "output_type": "stream",
     "text": [
      "3303it [37:49,  1.92it/s]"
     ]
    },
    {
     "name": "stdout",
     "output_type": "stream",
     "text": [
      "negative ---> positive\n",
      "Going long\n"
     ]
    },
    {
     "name": "stderr",
     "output_type": "stream",
     "text": [
      "\r",
      "3304it [37:50,  1.70it/s]"
     ]
    },
    {
     "name": "stdout",
     "output_type": "stream",
     "text": [
      "ordered\n"
     ]
    },
    {
     "name": "stderr",
     "output_type": "stream",
     "text": [
      "3441it [38:52,  2.51it/s]"
     ]
    },
    {
     "name": "stdout",
     "output_type": "stream",
     "text": [
      "Closed long position : 2\n"
     ]
    },
    {
     "name": "stderr",
     "output_type": "stream",
     "text": [
      "3619it [40:32,  1.87it/s]"
     ]
    },
    {
     "name": "stdout",
     "output_type": "stream",
     "text": [
      "positive ---> negative\n",
      "Going short\n"
     ]
    },
    {
     "name": "stderr",
     "output_type": "stream",
     "text": [
      "\r",
      "3620it [40:33,  1.91it/s]"
     ]
    },
    {
     "name": "stdout",
     "output_type": "stream",
     "text": [
      "ordered\n"
     ]
    },
    {
     "name": "stderr",
     "output_type": "stream",
     "text": [
      "3667it [41:02,  2.52it/s]"
     ]
    },
    {
     "name": "stdout",
     "output_type": "stream",
     "text": [
      "negative ---> positive\n"
     ]
    },
    {
     "name": "stderr",
     "output_type": "stream",
     "text": [
      "3667it [41:02,  1.49it/s]\n"
     ]
    },
    {
     "ename": "V20Error",
     "evalue": "{\"shortOrderRejectTransaction\":{\"type\":\"MARKET_ORDER_REJECT\",\"rejectReason\":\"CLOSEOUT_POSITION_DOESNT_EXIST\",\"instrument\":\"EUR_USD\",\"timeInForce\":\"FOK\",\"positionFill\":\"REDUCE_ONLY\",\"reason\":\"POSITION_CLOSEOUT\",\"shortPositionCloseout\":{\"instrument\":\"EUR_USD\",\"units\":\"ALL\"},\"id\":\"2932\",\"accountID\":\"101-003-15069707-001\",\"userID\":15069707,\"batchID\":\"2932\",\"requestID\":\"60727653012696506\",\"time\":\"2020-07-02T14:07:35.187829387Z\"},\"relatedTransactionIDs\":[\"2932\"],\"lastTransactionID\":\"2932\",\"errorMessage\":\"The Position requested to be closed out does not exist\",\"errorCode\":\"CLOSEOUT_POSITION_DOESNT_EXIST\"}",
     "output_type": "error",
     "traceback": [
      "\u001b[1;31m----------------------------------------------------------------\u001b[0m",
      "\u001b[1;31mV20Error\u001b[0m                       Traceback (most recent call last)",
      "\u001b[1;32m<ipython-input-5-a266d2e7ac9b>\u001b[0m in \u001b[0;36m<module>\u001b[1;34m\u001b[0m\n\u001b[0;32m     91\u001b[0m                 \u001b[1;31m#-------------------------------------------------------------------------------------------\u001b[0m\u001b[1;33m\u001b[0m\u001b[1;33m\u001b[0m\u001b[0m\n\u001b[0;32m     92\u001b[0m                     \u001b[1;32mif\u001b[0m \u001b[0morder_flag\u001b[0m\u001b[1;33m:\u001b[0m\u001b[1;33m\u001b[0m\u001b[0m\n\u001b[1;32m---> 93\u001b[1;33m                         \u001b[0mclose_order_log\u001b[0m \u001b[1;33m=\u001b[0m \u001b[0mclose_order\u001b[0m\u001b[1;33m(\u001b[0m\u001b[0maccountID\u001b[0m\u001b[1;33m,\u001b[0m \u001b[0mold_order_type\u001b[0m \u001b[1;33m,\u001b[0m\u001b[0minstrument\u001b[0m\u001b[1;33m,\u001b[0m \u001b[0mapi\u001b[0m\u001b[1;33m)\u001b[0m\u001b[1;33m\u001b[0m\u001b[0m\n\u001b[0m\u001b[0;32m     94\u001b[0m                         \u001b[0mclosed_orders\u001b[0m \u001b[1;33m+=\u001b[0m \u001b[1;36m1\u001b[0m\u001b[1;33m\u001b[0m\u001b[0m\n\u001b[0;32m     95\u001b[0m                         \u001b[0mprint\u001b[0m\u001b[1;33m(\u001b[0m\u001b[1;34mf'Closed {old_order_type} position : {closed_orders}'\u001b[0m\u001b[1;33m)\u001b[0m\u001b[1;33m\u001b[0m\u001b[0m\n",
      "\u001b[1;32mD:\\Ram\\PCAL\\Data Science\\Projects\\Trading\\Oanda_Trading\\utils\\tools.py\u001b[0m in \u001b[0;36mclose_order\u001b[1;34m(accountID, order_type, instrument, api)\u001b[0m\n\u001b[0;32m    198\u001b[0m                                 \u001b[0minstrument\u001b[0m\u001b[1;33m=\u001b[0m\u001b[0minstrument\u001b[0m\u001b[1;33m,\u001b[0m\u001b[1;33m\u001b[0m\u001b[0m\n\u001b[0;32m    199\u001b[0m                                 data=data)\n\u001b[1;32m--> 200\u001b[1;33m     \u001b[0mrv\u001b[0m \u001b[1;33m=\u001b[0m \u001b[0mapi\u001b[0m\u001b[1;33m.\u001b[0m\u001b[0mrequest\u001b[0m\u001b[1;33m(\u001b[0m\u001b[0mr\u001b[0m\u001b[1;33m)\u001b[0m\u001b[1;33m\u001b[0m\u001b[0m\n\u001b[0m\u001b[0;32m    201\u001b[0m     \u001b[1;32mreturn\u001b[0m\u001b[1;33m(\u001b[0m\u001b[0mrv\u001b[0m\u001b[1;33m)\u001b[0m\u001b[1;33m\u001b[0m\u001b[0m\n\u001b[0;32m    202\u001b[0m \u001b[1;31m#=============================================================================================================================================================================\u001b[0m\u001b[1;33m\u001b[0m\u001b[1;33m\u001b[0m\u001b[0m\n",
      "\u001b[1;32md:\\ram\\pcal\\data science\\projects\\trading\\oanda_trading\\tradenv\\lib\\site-packages\\oandapyV20\\oandapyV20.py\u001b[0m in \u001b[0;36mrequest\u001b[1;34m(self, endpoint)\u001b[0m\n\u001b[0;32m    304\u001b[0m \u001b[1;33m\u001b[0m\u001b[0m\n\u001b[0;32m    305\u001b[0m             response = self.__request(method, url,\n\u001b[1;32m--> 306\u001b[1;33m                                       request_args, headers=headers)\n\u001b[0m\u001b[0;32m    307\u001b[0m             \u001b[0mcontent\u001b[0m \u001b[1;33m=\u001b[0m \u001b[0mresponse\u001b[0m\u001b[1;33m.\u001b[0m\u001b[0mcontent\u001b[0m\u001b[1;33m.\u001b[0m\u001b[0mdecode\u001b[0m\u001b[1;33m(\u001b[0m\u001b[1;34m'utf-8'\u001b[0m\u001b[1;33m)\u001b[0m\u001b[1;33m\u001b[0m\u001b[0m\n\u001b[0;32m    308\u001b[0m             \u001b[0mcontent\u001b[0m \u001b[1;33m=\u001b[0m \u001b[0mjson\u001b[0m\u001b[1;33m.\u001b[0m\u001b[0mloads\u001b[0m\u001b[1;33m(\u001b[0m\u001b[0mcontent\u001b[0m\u001b[1;33m)\u001b[0m\u001b[1;33m\u001b[0m\u001b[0m\n",
      "\u001b[1;32md:\\ram\\pcal\\data science\\projects\\trading\\oanda_trading\\tradenv\\lib\\site-packages\\oandapyV20\\oandapyV20.py\u001b[0m in \u001b[0;36m__request\u001b[1;34m(self, method, url, request_args, headers, stream)\u001b[0m\n\u001b[0;32m    241\u001b[0m                          response.content.decode('utf-8'))\n\u001b[0;32m    242\u001b[0m             raise V20Error(response.status_code,\n\u001b[1;32m--> 243\u001b[1;33m                            response.content.decode('utf-8'))\n\u001b[0m\u001b[0;32m    244\u001b[0m         \u001b[1;32mreturn\u001b[0m \u001b[0mresponse\u001b[0m\u001b[1;33m\u001b[0m\u001b[0m\n\u001b[0;32m    245\u001b[0m \u001b[1;33m\u001b[0m\u001b[0m\n",
      "\u001b[1;31mV20Error\u001b[0m: {\"shortOrderRejectTransaction\":{\"type\":\"MARKET_ORDER_REJECT\",\"rejectReason\":\"CLOSEOUT_POSITION_DOESNT_EXIST\",\"instrument\":\"EUR_USD\",\"timeInForce\":\"FOK\",\"positionFill\":\"REDUCE_ONLY\",\"reason\":\"POSITION_CLOSEOUT\",\"shortPositionCloseout\":{\"instrument\":\"EUR_USD\",\"units\":\"ALL\"},\"id\":\"2932\",\"accountID\":\"101-003-15069707-001\",\"userID\":15069707,\"batchID\":\"2932\",\"requestID\":\"60727653012696506\",\"time\":\"2020-07-02T14:07:35.187829387Z\"},\"relatedTransactionIDs\":[\"2932\"],\"lastTransactionID\":\"2932\",\"errorMessage\":\"The Position requested to be closed out does not exist\",\"errorCode\":\"CLOSEOUT_POSITION_DOESNT_EXIST\"}"
     ]
    }
   ],
   "source": [
    "for i, resp in tqdm(enumerate(rv)):        \n",
    "    resp_type = resp['type']       \n",
    "\n",
    "    if resp_type == 'HEARTBEAT': # Heart beat response to keep the api connection alive (Avoid timeout)\n",
    "        pass\n",
    "\n",
    "    #-----------------------------------------------------------------------------------------------------\n",
    "    elif resp_type == 'PRICE': # Check if we are yet to make the order               \n",
    "        date_val, time_val, time_fraction = get_date_time(resp) # Get time stamp for reference            \n",
    "        sell_price, buy_price, spread, tick_price = get_prices(resp) # Get prices from the response  \n",
    "\n",
    "    #List Prep\n",
    "    #-----------------------------------------------------------------------------------------------------\n",
    "        #Short list prep\n",
    "        #-----------------------------------------------------------------------------------------------------\n",
    "        if len(short_list) < short_moving_window:\n",
    "            short_list.append(tick_price)\n",
    "\n",
    "        if short_flag and len(short_list) == short_moving_window:\n",
    "            short_wma = sum(np.array(short_list)*short_weights)\n",
    "            short_flag =False\n",
    "\n",
    "        if short_flag == False and len(short_list) == short_moving_window:\n",
    "            short_list.popleft()   \n",
    "            short_list.append(tick_price) \n",
    "            short_wma = sum(np.array(short_list)*short_weights)\n",
    "\n",
    "\n",
    "\n",
    "        #Long list prep   \n",
    "        #-----------------------------------------------------------------------------------------------------                \n",
    "        if len(long_list) < long_moving_window:\n",
    "            long_list.append(tick_price)\n",
    "\n",
    "        if long_flag and len(long_list) == long_moving_window:\n",
    "            long_wma = sum(np.array(long_list)*long_weights)\n",
    "            long_flag = False\n",
    "\n",
    "        if long_flag == False and len(long_list) == long_moving_window:\n",
    "            long_list.popleft()   \n",
    "            long_list.append(tick_price) \n",
    "            long_wma = sum(np.array(long_list)*long_weights)   \n",
    "            long_list_counter += 1\n",
    "            if long_list_counter >= lists_size:\n",
    "                list_ready = True\n",
    "    #-----------------------------------------------------------------------------------------------------\n",
    "  \n",
    "        #Direction identification\n",
    "        #----------------------------------------------------------------------------------------------------- \n",
    "        if valid_iteration == False and list_ready:\n",
    "            #print(f'Gap: {max_gap_wma}, Threshold: {max_gap_wma_threshold}')\n",
    "            pass\n",
    "            \n",
    "        elif valid_iteration and list_ready:\n",
    "            if list_ready:\n",
    "                if short_wma > long_wma:\n",
    "                    current_position = 'positive'\n",
    "                elif short_wma < long_wma:\n",
    "                    current_position = 'negative'\n",
    "                elif short_wma == long_wma:\n",
    "                    current_position = 'same level'\n",
    "\n",
    "            if list_ready and initial_position_captured == False:\n",
    "                initial_position = current_position\n",
    "                print(f'initial_position : {initial_position}')\n",
    "                initial_position_captured =  True\n",
    "                winsound.PlaySound('C:\\\\Windows\\\\Media\\\\tada.wav', winsound.SND_ASYNC) \n",
    "\n",
    "            if list_ready and initial_position_captured:\n",
    "                if initial_position == current_position:\n",
    "                    pass\n",
    "\n",
    "                elif current_position == 'same level':\n",
    "                    print('Same level, wait for next iteration')\n",
    "\n",
    "                elif initial_position != current_position and current_position != 'same level':\n",
    "                    print(f'{initial_position} ---> {current_position}')\n",
    "\n",
    "                    #Select order type -------------------------------------------------------------------------\n",
    "                    if current_position == 'positive':\n",
    "                        old_order_type = 'short'\n",
    "                        order_type = 'long'\n",
    "                        stop_price = buy_price - loss_limit                \n",
    "\n",
    "                    elif current_position == 'negative':\n",
    "                        old_order_type = 'long'\n",
    "                        order_type = 'short'\n",
    "                        stop_price = sell_price + loss_limit                \n",
    "\n",
    "                # Ordering -------------------------------------------------------------------------    \n",
    "                #-------------------------------------------------------------------------------------------                \n",
    "                    if order_flag:\n",
    "                        close_order_log = close_order(accountID, old_order_type ,instrument, api)\n",
    "                        closed_orders += 1\n",
    "                        print(f'Closed {old_order_type} position : {closed_orders}')\n",
    "                        if closed_orders >= order_num_limit:\n",
    "                            print(f'Closed {closed_orders} orders and exited')\n",
    "                            break\n",
    "                        \n",
    "                        get_wma_output_data(accountID, instrument, 'direction_change', api, short_moving_window, long_moving_window, lists_size, units, loss_limit_num, profit_target, price_allowed_buffer, max_skips, consecutive_losses)\n",
    "                        close_dict_key= list(close_order_log.keys())[1]\n",
    "                        pl_pip = float(close_order_log[close_dict_key]['pl'])\n",
    "                        order_flag = False\n",
    "\n",
    "                        if len(pl_list) < consecutive_losses:\n",
    "                            pl_list.append(pl_pip)\n",
    "                        elif len(pl_list) == consecutive_losses:\n",
    "                            negative_run = all(itrs < 0 for itrs in pl_list)\n",
    "                            pl_list.popleft()\n",
    "                            pl_list.append(pl_pip)\n",
    "\n",
    "                            \n",
    "                    if negative_run == False:\n",
    "                        print(f'Going {order_type}')\n",
    "                        make_order_log = make_order(accountID, stop_price, instrument, units, order_type, api)\n",
    "                        print('ordered')\n",
    "                        first_long =  True\n",
    "                        order_flag = True\n",
    "                    else:\n",
    "                        if max_skips > skip_iter:\n",
    "                            print(f'Skipped iteration:{skip_iter}, pl_list : {pl_list}')\n",
    "                            skip_iter += 1\n",
    "                        elif max_skips <= skip_iter:\n",
    "                            print(f'Skipped iteration:{skip_iter}, pl_list : {pl_list}')\n",
    "                            negative_run = False\n",
    "                            pl_list = collections.deque([])\n",
    "\n",
    "                    initial_position = current_position\n",
    "\n",
    "                    \n",
    "                # Take Profit -------------------------------------------------------------------------    \n",
    "                #-------------------------------------------------------------------------------------------                \n",
    "                if initial_position == current_position and current_position != 'same level' and order_flag:\n",
    "                    \n",
    "                    if order_type == 'long':     \n",
    "                        ordered_buy_price = float(make_order_log['orderFillTransaction']['fullPrice']['asks'][0]['price'])\n",
    "                        profit = sell_price - ordered_buy_price \n",
    "                        \n",
    "                        if first_long:\n",
    "                            max_price = short_wma\n",
    "                            first_long = False\n",
    "\n",
    "                        max_price = max(short_wma, max_price)\n",
    "                        buffered_max_price = max_price - (max_price * pip * price_allowed_buffer)\n",
    "\n",
    "                        if profit >= profit_target and short_wma <= buffered_max_price:    \n",
    "                            close_order_log = close_order(accountID, order_type ,instrument, api)   \n",
    "                            closed_orders += 1\n",
    "                            print(f'Closed {order_type} position : {closed_orders}')\n",
    "\n",
    "                            get_wma_output_data(accountID, instrument, 'Take_profit', api, short_moving_window, long_moving_window, lists_size, units, loss_limit_num, profit_target, price_allowed_buffer, max_skips, consecutive_losses)\n",
    "                            order_flag = False\n",
    "                            max_gap_wma = 0\n",
    "\n",
    "                            \n",
    "                    if order_type == 'short':     \n",
    "                        ordered_sell_price = float(make_order_log['orderFillTransaction']['fullPrice']['bids'][0]['price'])\n",
    "                        profit = ordered_sell_price - buy_price                \n",
    "                        \n",
    "                        if first_long:\n",
    "                            min_price = short_wma\n",
    "                            first_long = False\n",
    "\n",
    "                        min_price = min(short_wma, min_price)\n",
    "                        buffered_min_price = min_price + (min_price * pip * price_allowed_buffer)\n",
    "\n",
    "                        if profit >= profit_target and short_wma >= buffered_min_price:\n",
    "                            close_order_log = close_order(accountID, order_type ,instrument, api)     \n",
    "                            closed_orders += 1\n",
    "                            print(f'Closed {order_type} position : {closed_orders}')\n",
    "                            \n",
    "                            get_wma_output_data(accountID, instrument, 'Take_profit', api, short_moving_window, long_moving_window, lists_size, units, loss_limit_num, profit_target, price_allowed_buffer, max_skips, consecutive_losses)\n",
    "                            order_flag = False\n",
    "                            max_gap_wma = 0             \n",
    "                            \n",
    "    if closed_orders >= order_num_limit:\n",
    "        print(f'Closed {closed_orders} orders and exited')\n",
    "        break"
   ]
  },
  {
   "cell_type": "code",
   "execution_count": 6,
   "metadata": {},
   "outputs": [],
   "source": [
    "df_copy = pd.read_csv('data/machine_use/wma_log_machine_use.csv')\n",
    "df_copy.to_csv('data/wma_log.csv', index = False)"
   ]
  }
 ],
 "metadata": {
  "kernelspec": {
   "display_name": "Python 3",
   "language": "python",
   "name": "python3"
  },
  "language_info": {
   "codemirror_mode": {
    "name": "ipython",
    "version": 3
   },
   "file_extension": ".py",
   "mimetype": "text/x-python",
   "name": "python",
   "nbconvert_exporter": "python",
   "pygments_lexer": "ipython3",
   "version": "3.6.6"
  }
 },
 "nbformat": 4,
 "nbformat_minor": 4
}
