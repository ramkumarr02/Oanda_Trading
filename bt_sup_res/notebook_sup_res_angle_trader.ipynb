{
 "cells": [
  {
   "cell_type": "markdown",
   "metadata": {},
   "source": [
    "# ML Trader"
   ]
  },
  {
   "cell_type": "code",
   "execution_count": 1,
   "metadata": {
    "scrolled": true
   },
   "outputs": [],
   "source": [
    "from utils.packages import *\n",
    "from utils.variables import *\n",
    "from utils.i_o import *\n",
    "from utils.dir_slope import *\n",
    "from utils.engine import *\n",
    "from utils.loops import *\n",
    "from utils.order import *\n",
    "import winsound\n",
    "from tqdm import tqdm\n",
    "tqdm.pandas()"
   ]
  },
  {
   "cell_type": "code",
   "execution_count": 2,
   "metadata": {},
   "outputs": [],
   "source": [
    "data['df'] = pd.read_csv('data/eurusd_2021.csv')"
   ]
  },
  {
   "cell_type": "code",
   "execution_count": 3,
   "metadata": {},
   "outputs": [
    {
     "name": "stdout",
     "output_type": "stream",
     "text": [
      "Wall time: 1min 13s\n"
     ]
    }
   ],
   "source": [
    "%%time\n",
    "data[\"df\"]['DateTime_frmt']   = [dt.datetime.strptime(x.split(\".\")[0],\"%Y%m%d %H:%M:%S\") for x in data[\"df\"]['DateTime']]"
   ]
  },
  {
   "cell_type": "code",
   "execution_count": 24,
   "metadata": {},
   "outputs": [],
   "source": [
    "data['df']['tick']      = (data[\"df\"]['Ask'] + data[\"df\"]['Bid'])/2"
   ]
  },
  {
   "cell_type": "code",
   "execution_count": 25,
   "metadata": {},
   "outputs": [
    {
     "data": {
      "text/html": [
       "<div>\n",
       "<style scoped>\n",
       "    .dataframe tbody tr th:only-of-type {\n",
       "        vertical-align: middle;\n",
       "    }\n",
       "\n",
       "    .dataframe tbody tr th {\n",
       "        vertical-align: top;\n",
       "    }\n",
       "\n",
       "    .dataframe thead th {\n",
       "        text-align: right;\n",
       "    }\n",
       "</style>\n",
       "<table border=\"1\" class=\"dataframe\">\n",
       "  <thead>\n",
       "    <tr style=\"text-align: right;\">\n",
       "      <th></th>\n",
       "      <th>DateTime</th>\n",
       "      <th>Bid</th>\n",
       "      <th>Ask</th>\n",
       "      <th>Volume</th>\n",
       "      <th>DateTime_frmt</th>\n",
       "      <th>day</th>\n",
       "      <th>tick</th>\n",
       "    </tr>\n",
       "  </thead>\n",
       "  <tbody>\n",
       "    <tr>\n",
       "      <th>0</th>\n",
       "      <td>20210103 22:00:00.040</td>\n",
       "      <td>1.22396</td>\n",
       "      <td>1.22411</td>\n",
       "      <td>7</td>\n",
       "      <td>2021-01-03 22:00:00</td>\n",
       "      <td>3</td>\n",
       "      <td>1.224035</td>\n",
       "    </tr>\n",
       "    <tr>\n",
       "      <th>1</th>\n",
       "      <td>20210103 22:00:00.144</td>\n",
       "      <td>1.22395</td>\n",
       "      <td>1.22410</td>\n",
       "      <td>7</td>\n",
       "      <td>2021-01-03 22:00:00</td>\n",
       "      <td>3</td>\n",
       "      <td>1.224025</td>\n",
       "    </tr>\n",
       "    <tr>\n",
       "      <th>2</th>\n",
       "      <td>20210103 22:00:00.434</td>\n",
       "      <td>1.22393</td>\n",
       "      <td>1.22411</td>\n",
       "      <td>1</td>\n",
       "      <td>2021-01-03 22:00:00</td>\n",
       "      <td>3</td>\n",
       "      <td>1.224020</td>\n",
       "    </tr>\n",
       "    <tr>\n",
       "      <th>3</th>\n",
       "      <td>20210103 22:00:00.738</td>\n",
       "      <td>1.22393</td>\n",
       "      <td>1.22410</td>\n",
       "      <td>1</td>\n",
       "      <td>2021-01-03 22:00:00</td>\n",
       "      <td>3</td>\n",
       "      <td>1.224015</td>\n",
       "    </tr>\n",
       "    <tr>\n",
       "      <th>4</th>\n",
       "      <td>20210103 22:00:00.933</td>\n",
       "      <td>1.22392</td>\n",
       "      <td>1.22409</td>\n",
       "      <td>1</td>\n",
       "      <td>2021-01-03 22:00:00</td>\n",
       "      <td>3</td>\n",
       "      <td>1.224005</td>\n",
       "    </tr>\n",
       "    <tr>\n",
       "      <th>...</th>\n",
       "      <td>...</td>\n",
       "      <td>...</td>\n",
       "      <td>...</td>\n",
       "      <td>...</td>\n",
       "      <td>...</td>\n",
       "      <td>...</td>\n",
       "      <td>...</td>\n",
       "    </tr>\n",
       "    <tr>\n",
       "      <th>1931106</th>\n",
       "      <td>20210131 23:59:51.278</td>\n",
       "      <td>1.21225</td>\n",
       "      <td>1.21231</td>\n",
       "      <td>2</td>\n",
       "      <td>2021-01-31 23:59:51</td>\n",
       "      <td>31</td>\n",
       "      <td>1.212280</td>\n",
       "    </tr>\n",
       "    <tr>\n",
       "      <th>1931107</th>\n",
       "      <td>20210131 23:59:51.380</td>\n",
       "      <td>1.21227</td>\n",
       "      <td>1.21230</td>\n",
       "      <td>1</td>\n",
       "      <td>2021-01-31 23:59:51</td>\n",
       "      <td>31</td>\n",
       "      <td>1.212285</td>\n",
       "    </tr>\n",
       "    <tr>\n",
       "      <th>1931108</th>\n",
       "      <td>20210131 23:59:51.962</td>\n",
       "      <td>1.21227</td>\n",
       "      <td>1.21231</td>\n",
       "      <td>1</td>\n",
       "      <td>2021-01-31 23:59:51</td>\n",
       "      <td>31</td>\n",
       "      <td>1.212290</td>\n",
       "    </tr>\n",
       "    <tr>\n",
       "      <th>1931109</th>\n",
       "      <td>20210131 23:59:52.065</td>\n",
       "      <td>1.21227</td>\n",
       "      <td>1.21232</td>\n",
       "      <td>1</td>\n",
       "      <td>2021-01-31 23:59:52</td>\n",
       "      <td>31</td>\n",
       "      <td>1.212295</td>\n",
       "    </tr>\n",
       "    <tr>\n",
       "      <th>1931110</th>\n",
       "      <td>20210131 23:59:53.519</td>\n",
       "      <td>1.21227</td>\n",
       "      <td>1.21231</td>\n",
       "      <td>1</td>\n",
       "      <td>2021-01-31 23:59:53</td>\n",
       "      <td>31</td>\n",
       "      <td>1.212290</td>\n",
       "    </tr>\n",
       "  </tbody>\n",
       "</table>\n",
       "<p>1931111 rows × 7 columns</p>\n",
       "</div>"
      ],
      "text/plain": [
       "                      DateTime      Bid      Ask  Volume       DateTime_frmt  \\\n",
       "0        20210103 22:00:00.040  1.22396  1.22411       7 2021-01-03 22:00:00   \n",
       "1        20210103 22:00:00.144  1.22395  1.22410       7 2021-01-03 22:00:00   \n",
       "2        20210103 22:00:00.434  1.22393  1.22411       1 2021-01-03 22:00:00   \n",
       "3        20210103 22:00:00.738  1.22393  1.22410       1 2021-01-03 22:00:00   \n",
       "4        20210103 22:00:00.933  1.22392  1.22409       1 2021-01-03 22:00:00   \n",
       "...                        ...      ...      ...     ...                 ...   \n",
       "1931106  20210131 23:59:51.278  1.21225  1.21231       2 2021-01-31 23:59:51   \n",
       "1931107  20210131 23:59:51.380  1.21227  1.21230       1 2021-01-31 23:59:51   \n",
       "1931108  20210131 23:59:51.962  1.21227  1.21231       1 2021-01-31 23:59:51   \n",
       "1931109  20210131 23:59:52.065  1.21227  1.21232       1 2021-01-31 23:59:52   \n",
       "1931110  20210131 23:59:53.519  1.21227  1.21231       1 2021-01-31 23:59:53   \n",
       "\n",
       "         day      tick  \n",
       "0          3  1.224035  \n",
       "1          3  1.224025  \n",
       "2          3  1.224020  \n",
       "3          3  1.224015  \n",
       "4          3  1.224005  \n",
       "...      ...       ...  \n",
       "1931106   31  1.212280  \n",
       "1931107   31  1.212285  \n",
       "1931108   31  1.212290  \n",
       "1931109   31  1.212295  \n",
       "1931110   31  1.212290  \n",
       "\n",
       "[1931111 rows x 7 columns]"
      ]
     },
     "execution_count": 25,
     "metadata": {},
     "output_type": "execute_result"
    }
   ],
   "source": [
    "data['df']"
   ]
  },
  {
   "cell_type": "code",
   "execution_count": 8,
   "metadata": {
    "scrolled": true
   },
   "outputs": [],
   "source": [
    "data['start_date'] = {'year':2021, 'month':1, 'date':1}\n",
    "data['end_date']   = {'year':2021, 'month':1, 'date':31}\n",
    "data = get_date_list(data)"
   ]
  },
  {
   "cell_type": "code",
   "execution_count": 11,
   "metadata": {},
   "outputs": [],
   "source": [
    "data[\"df\"] = data[\"df\"][data[\"df\"]['DateTime'].str.contains('|'.join(data['date_list']))]"
   ]
  },
  {
   "cell_type": "code",
   "execution_count": 30,
   "metadata": {},
   "outputs": [
    {
     "data": {
      "text/plain": [
       "0       1.224035\n",
       "1       1.224025\n",
       "2       1.224020\n",
       "3       1.224015\n",
       "4       1.224005\n",
       "          ...   \n",
       "5546    1.225030\n",
       "5547    1.225035\n",
       "5548    1.225030\n",
       "5549    1.225025\n",
       "5550    1.225015\n",
       "Name: tick, Length: 5551, dtype: float64"
      ]
     },
     "execution_count": 30,
     "metadata": {},
     "output_type": "execute_result"
    }
   ],
   "source": [
    "data['df']['tick'][data['df']['day'] == 3]"
   ]
  },
  {
   "cell_type": "code",
   "execution_count": null,
   "metadata": {},
   "outputs": [],
   "source": [
    "data['df']['tick'][data['df']['day'] == data['val']]"
   ]
  },
  {
   "cell_type": "code",
   "execution_count": 60,
   "metadata": {},
   "outputs": [],
   "source": [
    "data['val'] = 5\n",
    "data['o'] = list(data['df']['tick'][data['df']['day'] == data['val']])[0]\n",
    "data['h'] = max(data['df']['tick'][data['df']['day'] == data['val']])\n",
    "data['l'] = min(data['df']['tick'][data['df']['day'] == data['val']])\n",
    "data['c'] = list(data['df']['tick'][data['df']['day'] == data['val']])[-1]"
   ]
  },
  {
   "cell_type": "code",
   "execution_count": 61,
   "metadata": {},
   "outputs": [
    {
     "name": "stdout",
     "output_type": "stream",
     "text": [
      "1.2252800000000001\n",
      "1.230575\n",
      "1.22472\n",
      "1.22987\n"
     ]
    }
   ],
   "source": [
    "print(data['o'])\n",
    "print(data['h'])\n",
    "print(data['l'])\n",
    "print(data['c'])"
   ]
  },
  {
   "cell_type": "code",
   "execution_count": null,
   "metadata": {},
   "outputs": [],
   "source": [
    "r = instruments.InstrumentsCandles(instrument=\"DE30_EUR\",\n",
    ">>>                                    params=params)\n",
    ">>> client.request(r)\n",
    ">>> print r.response"
   ]
  },
  {
   "cell_type": "code",
   "execution_count": 18,
   "metadata": {
    "scrolled": true
   },
   "outputs": [
    {
     "name": "stdout",
     "output_type": "stream",
     "text": [
      "1\n",
      "2\n",
      "3\n",
      "4\n",
      "5\n",
      "6\n",
      "7\n",
      "8\n",
      "9\n",
      "10\n",
      "11\n",
      "12\n",
      "13\n",
      "14\n",
      "15\n",
      "16\n",
      "17\n",
      "18\n",
      "19\n",
      "20\n",
      "21\n",
      "22\n",
      "23\n",
      "24\n",
      "25\n",
      "26\n",
      "27\n",
      "28\n",
      "29\n",
      "30\n",
      "31\n"
     ]
    }
   ],
   "source": [
    "for i in np.arange(1,32):\n",
    "    data['df']"
   ]
  },
  {
   "cell_type": "code",
   "execution_count": 13,
   "metadata": {},
   "outputs": [],
   "source": [
    "data[\"df\"]['day'] = [x.date().day for x in data[\"df\"]['DateTime_frmt']]"
   ]
  },
  {
   "cell_type": "code",
   "execution_count": null,
   "metadata": {},
   "outputs": [],
   "source": [
    "data['df']"
   ]
  },
  {
   "cell_type": "code",
   "execution_count": null,
   "metadata": {},
   "outputs": [],
   "source": [
    "data['df']['DateTime_frmt'][0]"
   ]
  },
  {
   "cell_type": "code",
   "execution_count": null,
   "metadata": {},
   "outputs": [],
   "source": [
    "print(data['df']['DateTime_frmt'][0])"
   ]
  },
  {
   "cell_type": "code",
   "execution_count": null,
   "metadata": {},
   "outputs": [],
   "source": [
    "data['df']['DateTime_frmt'][0] + dt.timedelta(days = 5)"
   ]
  },
  {
   "cell_type": "code",
   "execution_count": null,
   "metadata": {},
   "outputs": [],
   "source": [
    "data['df']['DateTime_frmt'][0] + relativedelta(months = 5)"
   ]
  },
  {
   "cell_type": "code",
   "execution_count": null,
   "metadata": {
    "scrolled": false
   },
   "outputs": [],
   "source": [
    "if data[\"plot\"]:\n",
    "#     data = adjust_plot_list_lengths(data)\n",
    "    plot_graph(data)\n",
    "    \n",
    "print('-----------------------------------------------------')\n",
    "print_report(data)\n",
    "print('-----------------------------------------------------')\n",
    "print(data['report_df'].groupby(['month_val'])['pls'].sum())\n",
    "print('-----------------------------------------------------')\n",
    "print(data['report_df']['close_type'].value_counts())\n",
    "print('-----------------------------------------------------')\n",
    "data['report_df']\n",
    "\n",
    "winsound.PlaySound('C:\\\\Windows\\\\Media\\\\tada.wav', winsound.SND_ASYNC)"
   ]
  },
  {
   "cell_type": "markdown",
   "metadata": {
    "scrolled": false
   },
   "source": [
    "import glob\n",
    "\n",
    "for file in glob.glob(\"data/*.csv\"):\n",
    "    if file not in ['data\\\\eurusd_2021.csv', 'data\\\\full_df.csv']:\n",
    "        df = pd.read_csv(file)\n",
    "        print('----------------------------')\n",
    "        print(f'file : {file}')\n",
    "        print(df['pls'].sum())\n",
    "        print(df.groupby(['month_val'])['pls'].sum())\n",
    "        print('----------------------------')"
   ]
  },
  {
   "cell_type": "code",
   "execution_count": null,
   "metadata": {},
   "outputs": [],
   "source": [
    "data['report_df'][['date', 'ord_types', 'close_type', 'pls']]"
   ]
  }
 ],
 "metadata": {
  "kernelspec": {
   "display_name": "Python 3",
   "language": "python",
   "name": "python3"
  },
  "language_info": {
   "codemirror_mode": {
    "name": "ipython",
    "version": 3
   },
   "file_extension": ".py",
   "mimetype": "text/x-python",
   "name": "python",
   "nbconvert_exporter": "python",
   "pygments_lexer": "ipython3",
   "version": "3.6.6"
  }
 },
 "nbformat": 4,
 "nbformat_minor": 4
}
