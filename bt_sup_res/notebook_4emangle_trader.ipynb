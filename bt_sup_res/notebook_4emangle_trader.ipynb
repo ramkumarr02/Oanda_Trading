{
 "cells": [
  {
   "cell_type": "markdown",
   "metadata": {},
   "source": [
    "# ML Trader"
   ]
  },
  {
   "cell_type": "code",
   "execution_count": 1,
   "metadata": {
    "scrolled": true
   },
   "outputs": [],
   "source": [
    "from utils.packages import *\n",
    "from utils.variables import *\n",
    "from utils.i_o import *\n",
    "from utils.dir_slope import *\n",
    "from utils.engine import *\n",
    "from utils.loops import *\n",
    "from utils.order import *\n",
    "import winsound"
   ]
  },
  {
   "cell_type": "code",
   "execution_count": 2,
   "metadata": {},
   "outputs": [],
   "source": [
    "def get_tick_time(data):\n",
    "    data['df']['sno'] = data['df'].index\n",
    "    data['df']['tick']      = (data[\"df\"]['Ask'] + data[\"df\"]['Bid'])/2\n",
    "    data['df']['DateTime_frmt']   = [dt.datetime.strptime(x.split(\".\")[0],\"%Y%m%d %H:%M:%S\") for x in data[\"df\"]['DateTime']]\n",
    "    return(data)"
   ]
  },
  {
   "cell_type": "code",
   "execution_count": 3,
   "metadata": {},
   "outputs": [],
   "source": [
    "def get_ohlc(data):\n",
    "    \n",
    "    data['df_bars']['sno'] = data['df'].resample(data['candle_size'], on='DateTime_frmt').sno.first().values.astype(int)\n",
    "    data['df_bars']['o'] = data['df'].resample(data['candle_size'], on='DateTime_frmt').tick.first().values\n",
    "    data['df_bars']['h'] = data['df'].resample(data['candle_size'], on='DateTime_frmt').tick.max().values\n",
    "    data['df_bars']['l'] = data['df'].resample(data['candle_size'], on='DateTime_frmt').tick.min().values\n",
    "    data['df_bars']['c'] = data['df'].resample(data['candle_size'], on='DateTime_frmt').tick.last().values\n",
    "    data['df_bars'] = data['df_bars'].reset_index(drop=True)    \n",
    "    return(data)"
   ]
  },
  {
   "cell_type": "code",
   "execution_count": 4,
   "metadata": {
    "scrolled": true
   },
   "outputs": [],
   "source": [
    "def get_sup_res(data):\n",
    "    if data['fractal_one_side_bar_count'] == 2:\n",
    "        for i in range(2, len(data['df_bars'])):\n",
    "            if 1 < i < len(data['df_bars']) - 2:\n",
    "                if data['df_bars']['l'][i] < data['df_bars']['l'][i-1] < data['df_bars']['l'][i-2] and data['df_bars']['l'][i] < data['df_bars']['l'][i+1] < data['df_bars']['l'][i+2]:\n",
    "                    data['df_bars']['support'][i] = 'yes'\n",
    "\n",
    "                if data['df_bars']['h'][i] > data['df_bars']['h'][i-1] > data['df_bars']['h'][i-2] and data['df_bars']['h'][i] > data['df_bars']['h'][i+1] > data['df_bars']['h'][i+2]:\n",
    "                    data['df_bars']['resistance'][i] = 'yes'\n",
    "\n",
    "    if data['fractal_one_side_bar_count'] == 1:\n",
    "        for i in range(1, len(data['df_bars'])):\n",
    "            if 1 < i < len(data['df_bars']) - 1:\n",
    "                if data['df_bars']['l'][i] < data['df_bars']['l'][i-1] and data['df_bars']['l'][i] < data['df_bars']['l'][i+1]:\n",
    "                    data['df_bars']['support'][i] = 'yes'\n",
    "\n",
    "                if data['df_bars']['h'][i] > data['df_bars']['h'][i-1] and data['df_bars']['h'][i] > data['df_bars']['h'][i+1]:\n",
    "                    data['df_bars']['resistance'][i] = 'yes'\n",
    "\n",
    "    return(data)"
   ]
  },
  {
   "cell_type": "code",
   "execution_count": 5,
   "metadata": {},
   "outputs": [],
   "source": [
    "def combine_nearby_lines(data): \n",
    "\n",
    "    data['df'] = pd.merge(data['df'], data['df_bars'], on = 'sno', how = 'left')\n",
    "    \n",
    "#     data['sup_res_last_window_df'] = data['df'][-data['sup_res_data_last_ticks_window']:]\n",
    "#     data['support_values'] = list(data['sup_res_last_window_df']['l'][data['sup_res_last_window_df']['support'] == 'yes'])\n",
    "#     data['resistance_values'] = list(data['sup_res_last_window_df']['h'][data['sup_res_last_window_df']['resistance'] == 'yes'])\n",
    "\n",
    "    data['support_values'] = list(data['df']['l'][data['df']['support'] == 'yes'])\n",
    "    data['resistance_values'] = list(data['df']['h'][data['df']['resistance'] == 'yes'])\n",
    "    \n",
    "    data['combined_sup_res'] = list(np.round(data['support_values'] + data['resistance_values'],4))    \n",
    "    \n",
    "    check_list = ['No'] * len(data['combined_sup_res'])\n",
    "    data['dup_removed_sup_res'] = {}\n",
    "    cntr = 1\n",
    "    actual_position = 0\n",
    "\n",
    "    for i in range(len(data['combined_sup_res'])):   \n",
    "        if check_list[i] == 'No':\n",
    "            cntr = 1\n",
    "            check_list[i] =  'Done'\n",
    "\n",
    "            for j in range(i+1,len(data['combined_sup_res'])):\n",
    "                if np.abs(data['combined_sup_res'][i] - data['combined_sup_res'][j]) < 0.0002:\n",
    "                    cntr = cntr + 1\n",
    "                    check_list[j] = 'Done'\n",
    "                    #print(i,j, data['combined_sup_res'][i], data['combined_sup_res'][j], np.abs(data['combined_sup_res'][i] - data['combined_sup_res'][j]), cntr, check_list[j])\n",
    "\n",
    "            actual_position  = actual_position + cntr\n",
    "            data['dup_removed_sup_res'][data['combined_sup_res'][i]] = cntr\n",
    "\n",
    "    data['dup_removed_sup_res'] = [k for k in data['dup_removed_sup_res'] if data['dup_removed_sup_res'][k] >= data['sup_res_touches']]        \n",
    "    \n",
    "    return(data)"
   ]
  },
  {
   "cell_type": "markdown",
   "metadata": {
    "scrolled": false
   },
   "source": [
    "%%time\n",
    "data['df'] = pd.read_csv('data/EURUSD_2021.csv', nrows=5000)"
   ]
  },
  {
   "cell_type": "code",
   "execution_count": 6,
   "metadata": {},
   "outputs": [],
   "source": [
    "data['df_bars'] = pd.DataFrame()\n",
    "data['df_bars']['support'] = ''\n",
    "data['df_bars']['resistance'] = ''\n",
    "data['candle_size'] = '5T'\n",
    "data['fractal_one_side_bar_count'] = 1\n",
    "data['sup_res_touches'] = 2\n",
    "data['sup_res_last_ticks_window'] = 10_000"
   ]
  },
  {
   "cell_type": "code",
   "execution_count": 7,
   "metadata": {},
   "outputs": [
    {
     "name": "stdout",
     "output_type": "stream",
     "text": [
      "Record num : 10000\n"
     ]
    }
   ],
   "source": [
    "data = get_date_list(data)\n",
    "data = read_data(data)"
   ]
  },
  {
   "cell_type": "code",
   "execution_count": 8,
   "metadata": {
    "scrolled": true
   },
   "outputs": [
    {
     "name": "stderr",
     "output_type": "stream",
     "text": [
      "\r",
      "0it [00:00, ?it/s]"
     ]
    },
    {
     "name": "stdout",
     "output_type": "stream",
     "text": [
      "Building Lema...\n"
     ]
    },
    {
     "name": "stderr",
     "output_type": "stream",
     "text": [
      "8401it [00:06, 1315.85it/s]\n",
      "139it [00:00, 1313.72it/s]"
     ]
    },
    {
     "name": "stdout",
     "output_type": "stream",
     "text": [
      "Building SLema...\n"
     ]
    },
    {
     "name": "stderr",
     "output_type": "stream",
     "text": [
      "8001it [00:06, 1331.67it/s]\n",
      "141it [00:00, 1318.50it/s]"
     ]
    },
    {
     "name": "stdout",
     "output_type": "stream",
     "text": [
      "Building Sema...\n"
     ]
    },
    {
     "name": "stderr",
     "output_type": "stream",
     "text": [
      "7921it [00:05, 1335.74it/s]\n"
     ]
    }
   ],
   "source": [
    "data = get_tick_time(data)\n",
    "data = get_ohlc(data)\n",
    "data = get_sup_res(data)\n",
    "data = combine_nearby_lines(data)\n",
    "data = get_rolling_emas(data)"
   ]
  },
  {
   "cell_type": "code",
   "execution_count": 9,
   "metadata": {},
   "outputs": [
    {
     "data": {
      "text/html": [
       "<div>\n",
       "<style scoped>\n",
       "    .dataframe tbody tr th:only-of-type {\n",
       "        vertical-align: middle;\n",
       "    }\n",
       "\n",
       "    .dataframe tbody tr th {\n",
       "        vertical-align: top;\n",
       "    }\n",
       "\n",
       "    .dataframe thead th {\n",
       "        text-align: right;\n",
       "    }\n",
       "</style>\n",
       "<table border=\"1\" class=\"dataframe\">\n",
       "  <thead>\n",
       "    <tr style=\"text-align: right;\">\n",
       "      <th></th>\n",
       "      <th>sno</th>\n",
       "      <th>i</th>\n",
       "      <th>DateTime_frmt</th>\n",
       "      <th>Ask</th>\n",
       "      <th>Bid</th>\n",
       "      <th>tick</th>\n",
       "      <th>sema</th>\n",
       "      <th>lema</th>\n",
       "      <th>slema</th>\n",
       "      <th>support</th>\n",
       "      <th>resistance</th>\n",
       "      <th>o</th>\n",
       "      <th>h</th>\n",
       "      <th>l</th>\n",
       "      <th>c</th>\n",
       "    </tr>\n",
       "  </thead>\n",
       "  <tbody>\n",
       "    <tr>\n",
       "      <th>0</th>\n",
       "      <td>2080</td>\n",
       "      <td>0</td>\n",
       "      <td>2021-01-03 23:08:13</td>\n",
       "      <td>1.22377</td>\n",
       "      <td>1.22365</td>\n",
       "      <td>1.223710</td>\n",
       "      <td>1.223715</td>\n",
       "      <td>1.223488</td>\n",
       "      <td>1.223550</td>\n",
       "      <td>NaN</td>\n",
       "      <td>NaN</td>\n",
       "      <td>NaN</td>\n",
       "      <td>NaN</td>\n",
       "      <td>NaN</td>\n",
       "      <td>NaN</td>\n",
       "    </tr>\n",
       "    <tr>\n",
       "      <th>1</th>\n",
       "      <td>2081</td>\n",
       "      <td>0</td>\n",
       "      <td>2021-01-03 23:08:14</td>\n",
       "      <td>1.22377</td>\n",
       "      <td>1.22364</td>\n",
       "      <td>1.223705</td>\n",
       "      <td>1.223714</td>\n",
       "      <td>1.223489</td>\n",
       "      <td>1.223551</td>\n",
       "      <td>NaN</td>\n",
       "      <td>NaN</td>\n",
       "      <td>NaN</td>\n",
       "      <td>NaN</td>\n",
       "      <td>NaN</td>\n",
       "      <td>NaN</td>\n",
       "    </tr>\n",
       "    <tr>\n",
       "      <th>2</th>\n",
       "      <td>2082</td>\n",
       "      <td>0</td>\n",
       "      <td>2021-01-03 23:08:14</td>\n",
       "      <td>1.22376</td>\n",
       "      <td>1.22364</td>\n",
       "      <td>1.223700</td>\n",
       "      <td>1.223713</td>\n",
       "      <td>1.223489</td>\n",
       "      <td>1.223552</td>\n",
       "      <td>NaN</td>\n",
       "      <td>NaN</td>\n",
       "      <td>NaN</td>\n",
       "      <td>NaN</td>\n",
       "      <td>NaN</td>\n",
       "      <td>NaN</td>\n",
       "    </tr>\n",
       "    <tr>\n",
       "      <th>3</th>\n",
       "      <td>2083</td>\n",
       "      <td>0</td>\n",
       "      <td>2021-01-03 23:08:15</td>\n",
       "      <td>1.22374</td>\n",
       "      <td>1.22363</td>\n",
       "      <td>1.223685</td>\n",
       "      <td>1.223712</td>\n",
       "      <td>1.223489</td>\n",
       "      <td>1.223553</td>\n",
       "      <td>NaN</td>\n",
       "      <td>NaN</td>\n",
       "      <td>NaN</td>\n",
       "      <td>NaN</td>\n",
       "      <td>NaN</td>\n",
       "      <td>NaN</td>\n",
       "    </tr>\n",
       "    <tr>\n",
       "      <th>4</th>\n",
       "      <td>2084</td>\n",
       "      <td>0</td>\n",
       "      <td>2021-01-03 23:08:16</td>\n",
       "      <td>1.22374</td>\n",
       "      <td>1.22361</td>\n",
       "      <td>1.223675</td>\n",
       "      <td>1.223711</td>\n",
       "      <td>1.223489</td>\n",
       "      <td>1.223554</td>\n",
       "      <td>NaN</td>\n",
       "      <td>NaN</td>\n",
       "      <td>NaN</td>\n",
       "      <td>NaN</td>\n",
       "      <td>NaN</td>\n",
       "      <td>NaN</td>\n",
       "    </tr>\n",
       "    <tr>\n",
       "      <th>...</th>\n",
       "      <td>...</td>\n",
       "      <td>...</td>\n",
       "      <td>...</td>\n",
       "      <td>...</td>\n",
       "      <td>...</td>\n",
       "      <td>...</td>\n",
       "      <td>...</td>\n",
       "      <td>...</td>\n",
       "      <td>...</td>\n",
       "      <td>...</td>\n",
       "      <td>...</td>\n",
       "      <td>...</td>\n",
       "      <td>...</td>\n",
       "      <td>...</td>\n",
       "      <td>...</td>\n",
       "    </tr>\n",
       "    <tr>\n",
       "      <th>7915</th>\n",
       "      <td>9995</td>\n",
       "      <td>0</td>\n",
       "      <td>2021-01-04 01:07:09</td>\n",
       "      <td>1.22456</td>\n",
       "      <td>1.22450</td>\n",
       "      <td>1.224530</td>\n",
       "      <td>1.224491</td>\n",
       "      <td>1.224198</td>\n",
       "      <td>1.224305</td>\n",
       "      <td>NaN</td>\n",
       "      <td>NaN</td>\n",
       "      <td>NaN</td>\n",
       "      <td>NaN</td>\n",
       "      <td>NaN</td>\n",
       "      <td>NaN</td>\n",
       "    </tr>\n",
       "    <tr>\n",
       "      <th>7916</th>\n",
       "      <td>9996</td>\n",
       "      <td>0</td>\n",
       "      <td>2021-01-04 01:07:09</td>\n",
       "      <td>1.22457</td>\n",
       "      <td>1.22451</td>\n",
       "      <td>1.224540</td>\n",
       "      <td>1.224493</td>\n",
       "      <td>1.224198</td>\n",
       "      <td>1.224307</td>\n",
       "      <td>NaN</td>\n",
       "      <td>NaN</td>\n",
       "      <td>NaN</td>\n",
       "      <td>NaN</td>\n",
       "      <td>NaN</td>\n",
       "      <td>NaN</td>\n",
       "    </tr>\n",
       "    <tr>\n",
       "      <th>7917</th>\n",
       "      <td>9997</td>\n",
       "      <td>0</td>\n",
       "      <td>2021-01-04 01:07:09</td>\n",
       "      <td>1.22457</td>\n",
       "      <td>1.22452</td>\n",
       "      <td>1.224545</td>\n",
       "      <td>1.224495</td>\n",
       "      <td>1.224199</td>\n",
       "      <td>1.224308</td>\n",
       "      <td>NaN</td>\n",
       "      <td>NaN</td>\n",
       "      <td>NaN</td>\n",
       "      <td>NaN</td>\n",
       "      <td>NaN</td>\n",
       "      <td>NaN</td>\n",
       "    </tr>\n",
       "    <tr>\n",
       "      <th>7918</th>\n",
       "      <td>9998</td>\n",
       "      <td>0</td>\n",
       "      <td>2021-01-04 01:07:10</td>\n",
       "      <td>1.22458</td>\n",
       "      <td>1.22452</td>\n",
       "      <td>1.224550</td>\n",
       "      <td>1.224497</td>\n",
       "      <td>1.224199</td>\n",
       "      <td>1.224310</td>\n",
       "      <td>NaN</td>\n",
       "      <td>NaN</td>\n",
       "      <td>NaN</td>\n",
       "      <td>NaN</td>\n",
       "      <td>NaN</td>\n",
       "      <td>NaN</td>\n",
       "    </tr>\n",
       "    <tr>\n",
       "      <th>7919</th>\n",
       "      <td>9999</td>\n",
       "      <td>0</td>\n",
       "      <td>2021-01-04 01:07:10</td>\n",
       "      <td>1.22458</td>\n",
       "      <td>1.22454</td>\n",
       "      <td>1.224560</td>\n",
       "      <td>1.224499</td>\n",
       "      <td>1.224200</td>\n",
       "      <td>1.224311</td>\n",
       "      <td>NaN</td>\n",
       "      <td>NaN</td>\n",
       "      <td>NaN</td>\n",
       "      <td>NaN</td>\n",
       "      <td>NaN</td>\n",
       "      <td>NaN</td>\n",
       "    </tr>\n",
       "  </tbody>\n",
       "</table>\n",
       "<p>7920 rows × 15 columns</p>\n",
       "</div>"
      ],
      "text/plain": [
       "       sno  i       DateTime_frmt      Ask      Bid      tick      sema  \\\n",
       "0     2080  0 2021-01-03 23:08:13  1.22377  1.22365  1.223710  1.223715   \n",
       "1     2081  0 2021-01-03 23:08:14  1.22377  1.22364  1.223705  1.223714   \n",
       "2     2082  0 2021-01-03 23:08:14  1.22376  1.22364  1.223700  1.223713   \n",
       "3     2083  0 2021-01-03 23:08:15  1.22374  1.22363  1.223685  1.223712   \n",
       "4     2084  0 2021-01-03 23:08:16  1.22374  1.22361  1.223675  1.223711   \n",
       "...    ... ..                 ...      ...      ...       ...       ...   \n",
       "7915  9995  0 2021-01-04 01:07:09  1.22456  1.22450  1.224530  1.224491   \n",
       "7916  9996  0 2021-01-04 01:07:09  1.22457  1.22451  1.224540  1.224493   \n",
       "7917  9997  0 2021-01-04 01:07:09  1.22457  1.22452  1.224545  1.224495   \n",
       "7918  9998  0 2021-01-04 01:07:10  1.22458  1.22452  1.224550  1.224497   \n",
       "7919  9999  0 2021-01-04 01:07:10  1.22458  1.22454  1.224560  1.224499   \n",
       "\n",
       "          lema     slema support resistance   o   h   l   c  \n",
       "0     1.223488  1.223550     NaN        NaN NaN NaN NaN NaN  \n",
       "1     1.223489  1.223551     NaN        NaN NaN NaN NaN NaN  \n",
       "2     1.223489  1.223552     NaN        NaN NaN NaN NaN NaN  \n",
       "3     1.223489  1.223553     NaN        NaN NaN NaN NaN NaN  \n",
       "4     1.223489  1.223554     NaN        NaN NaN NaN NaN NaN  \n",
       "...        ...       ...     ...        ...  ..  ..  ..  ..  \n",
       "7915  1.224198  1.224305     NaN        NaN NaN NaN NaN NaN  \n",
       "7916  1.224198  1.224307     NaN        NaN NaN NaN NaN NaN  \n",
       "7917  1.224199  1.224308     NaN        NaN NaN NaN NaN NaN  \n",
       "7918  1.224199  1.224310     NaN        NaN NaN NaN NaN NaN  \n",
       "7919  1.224200  1.224311     NaN        NaN NaN NaN NaN NaN  \n",
       "\n",
       "[7920 rows x 15 columns]"
      ]
     },
     "execution_count": 9,
     "metadata": {},
     "output_type": "execute_result"
    }
   ],
   "source": [
    "data['df']"
   ]
  },
  {
   "cell_type": "code",
   "execution_count": 10,
   "metadata": {},
   "outputs": [
    {
     "name": "stderr",
     "output_type": "stream",
     "text": [
      " 13%|████▌                              | 1019/7920 [00:00<00:00, 23128.81it/s]\n"
     ]
    },
    {
     "ename": "IndexError",
     "evalue": "list index out of range",
     "output_type": "error",
     "traceback": [
      "\u001b[1;31m---------------------------------------------------------------------------\u001b[0m",
      "\u001b[1;31mIndexError\u001b[0m                                Traceback (most recent call last)",
      "\u001b[1;32m<ipython-input-10-c0ea2ee219e0>\u001b[0m in \u001b[0;36m<module>\u001b[1;34m\u001b[0m\n\u001b[0;32m     23\u001b[0m     \u001b[0mdata\u001b[0m \u001b[1;33m=\u001b[0m \u001b[0msimple_stop_loss\u001b[0m\u001b[1;33m(\u001b[0m\u001b[0mdata\u001b[0m\u001b[1;33m)\u001b[0m\u001b[1;33m\u001b[0m\u001b[0m\n\u001b[0;32m     24\u001b[0m     \u001b[0mdata\u001b[0m \u001b[1;33m=\u001b[0m \u001b[0msimple_take_profit\u001b[0m\u001b[1;33m(\u001b[0m\u001b[0mdata\u001b[0m\u001b[1;33m)\u001b[0m\u001b[1;33m\u001b[0m\u001b[0m\n\u001b[1;32m---> 25\u001b[1;33m     \u001b[0mdata\u001b[0m \u001b[1;33m=\u001b[0m \u001b[0mmake_order\u001b[0m\u001b[1;33m(\u001b[0m\u001b[0mdata\u001b[0m\u001b[1;33m)\u001b[0m\u001b[1;33m\u001b[0m\u001b[0m\n\u001b[0m",
      "\u001b[1;32mD:\\Ram\\PCAL\\Data_Science\\Projects\\Trading\\Oanda_Trading\\bt_sup_res\\utils\\order.py\u001b[0m in \u001b[0;36mmake_order\u001b[1;34m(data)\u001b[0m\n\u001b[0;32m     11\u001b[0m \u001b[1;33m\u001b[0m\u001b[0m\n\u001b[0;32m     12\u001b[0m             \u001b[1;32melif\u001b[0m \u001b[0mdata\u001b[0m\u001b[1;33m[\u001b[0m\u001b[1;34m'to_order'\u001b[0m\u001b[1;33m]\u001b[0m \u001b[1;33m==\u001b[0m \u001b[1;34m'short'\u001b[0m\u001b[1;33m:\u001b[0m\u001b[1;33m\u001b[0m\u001b[0m\n\u001b[1;32m---> 13\u001b[1;33m                 \u001b[0mdata\u001b[0m \u001b[1;33m=\u001b[0m \u001b[0mmake_short_order\u001b[0m\u001b[1;33m(\u001b[0m\u001b[0mdata\u001b[0m\u001b[1;33m)\u001b[0m\u001b[1;33m\u001b[0m\u001b[0m\n\u001b[0m\u001b[0;32m     14\u001b[0m \u001b[1;33m\u001b[0m\u001b[0m\n\u001b[0;32m     15\u001b[0m     \u001b[1;32mreturn\u001b[0m\u001b[1;33m(\u001b[0m\u001b[0mdata\u001b[0m\u001b[1;33m)\u001b[0m\u001b[1;33m\u001b[0m\u001b[0m\n",
      "\u001b[1;32mD:\\Ram\\PCAL\\Data_Science\\Projects\\Trading\\Oanda_Trading\\bt_sup_res\\utils\\order.py\u001b[0m in \u001b[0;36mmake_short_order\u001b[1;34m(data)\u001b[0m\n\u001b[0;32m    276\u001b[0m \u001b[1;33m\u001b[0m\u001b[0m\n\u001b[0;32m    277\u001b[0m     \u001b[1;32mif\u001b[0m \u001b[0mdata\u001b[0m\u001b[1;33m[\u001b[0m\u001b[1;34m\"plot\"\u001b[0m\u001b[1;33m]\u001b[0m\u001b[1;33m:\u001b[0m\u001b[1;33m\u001b[0m\u001b[0m\n\u001b[1;32m--> 278\u001b[1;33m         \u001b[0mdata\u001b[0m\u001b[1;33m[\u001b[0m\u001b[1;34m'buy_markers_x'\u001b[0m\u001b[1;33m]\u001b[0m\u001b[1;33m.\u001b[0m\u001b[0mappend\u001b[0m\u001b[1;33m(\u001b[0m\u001b[0mdata\u001b[0m\u001b[1;33m[\u001b[0m\u001b[1;34m'i_list'\u001b[0m\u001b[1;33m]\u001b[0m\u001b[1;33m[\u001b[0m\u001b[1;33m-\u001b[0m\u001b[1;36m1\u001b[0m\u001b[1;33m]\u001b[0m\u001b[1;33m)\u001b[0m\u001b[1;33m\u001b[0m\u001b[0m\n\u001b[0m\u001b[0;32m    279\u001b[0m         \u001b[0mdata\u001b[0m\u001b[1;33m[\u001b[0m\u001b[1;34m'buy_markers_y'\u001b[0m\u001b[1;33m]\u001b[0m\u001b[1;33m.\u001b[0m\u001b[0mappend\u001b[0m\u001b[1;33m(\u001b[0m\u001b[0mdata\u001b[0m\u001b[1;33m[\u001b[0m\u001b[1;34m'bid'\u001b[0m\u001b[1;33m]\u001b[0m\u001b[1;33m)\u001b[0m\u001b[1;33m\u001b[0m\u001b[0m\n\u001b[0;32m    280\u001b[0m     \u001b[1;32mreturn\u001b[0m\u001b[1;33m(\u001b[0m\u001b[0mdata\u001b[0m\u001b[1;33m)\u001b[0m\u001b[1;33m\u001b[0m\u001b[0m\n",
      "\u001b[1;31mIndexError\u001b[0m: list index out of range"
     ]
    }
   ],
   "source": [
    "for i in tqdm(range(0, data['df_len'])):\n",
    "\n",
    "    data['bid'] = data[\"df\"]['Bid'][i]        \n",
    "    data['ask'] = data[\"df\"]['Ask'][i]\n",
    "    data['tick'] = data['df']['tick'][i]        \n",
    "    data['dt_val'] = data['df']['DateTime_frmt'][i]   \n",
    "    data['sema'] = data['df']['sema'][i]      \n",
    "    data['slema'] = data['df']['slema'][i]      \n",
    "    data['lema'] = data['df']['lema'][i]    \n",
    "\n",
    "    data = get_position(data)\n",
    "\n",
    "    # Get Dirs --------------------------------\n",
    "    if len(data['dir_list']) < 2:\n",
    "        data['dir_list'].append(data['position'])   \n",
    "        continue\n",
    "\n",
    "    elif len(data['dir_list']) == 2:\n",
    "        data = get_cross_dir(data)\n",
    "    # ----------------------------------------------------------  \n",
    "\n",
    "    data = calculate_pl(data)\n",
    "    data = simple_stop_loss(data)\n",
    "    data = simple_take_profit(data)   \n",
    "    data = make_order(data)          "
   ]
  },
  {
   "cell_type": "code",
   "execution_count": null,
   "metadata": {
    "scrolled": false
   },
   "outputs": [],
   "source": [
    "fig = px.line(\n",
    "    data['df'], \n",
    "    x=\"DateTime_frmt\", \n",
    "    y=['tick', 'sema','slema', 'lema'], \n",
    "    color_discrete_sequence = ['grey', 'red', 'blue', 'black'],\n",
    "    title='tick chart') \n",
    "\n",
    "\n",
    "for val in data['dup_removed_sup_res']:\n",
    "    fig.add_hline(y = val, line_width=3, line_dash=\"dot\", line_color=\"darkred\")  \n",
    "\n",
    "fig.show()\n"
   ]
  }
 ],
 "metadata": {
  "kernelspec": {
   "display_name": "Python 3",
   "language": "python",
   "name": "python3"
  },
  "language_info": {
   "codemirror_mode": {
    "name": "ipython",
    "version": 3
   },
   "file_extension": ".py",
   "mimetype": "text/x-python",
   "name": "python",
   "nbconvert_exporter": "python",
   "pygments_lexer": "ipython3",
   "version": "3.6.6"
  }
 },
 "nbformat": 4,
 "nbformat_minor": 4
}
