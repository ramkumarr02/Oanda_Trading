{
 "cells": [
  {
   "cell_type": "markdown",
   "metadata": {},
   "source": [
    "# ML Trader"
   ]
  },
  {
   "cell_type": "code",
   "execution_count": 1,
   "metadata": {
    "scrolled": true
   },
   "outputs": [],
   "source": [
    "from utils.packages import *\n",
    "from utils.variables import *\n",
    "from utils.i_o import *\n",
    "from utils.dir_slope import *\n",
    "from utils.engine import *\n",
    "from utils.loops import *\n",
    "from utils.order import *\n",
    "import winsound"
   ]
  },
  {
   "cell_type": "code",
   "execution_count": 2,
   "metadata": {},
   "outputs": [
    {
     "name": "stdout",
     "output_type": "stream",
     "text": [
      "Read dataframe with 16797607 records.\n",
      "Dataframe has 71828 records between (datetime.datetime(2021, 2, 3, 0, 0), datetime.datetime(2021, 2, 3, 0, 0)).\n",
      "Subsetted dataframe with 25000 records.\n",
      "Record num : 25000\n",
      "Wall time: 15.5 s\n"
     ]
    }
   ],
   "source": [
    "%%time\n",
    "data = get_date_list(data)\n",
    "data = read_data(data)"
   ]
  },
  {
   "cell_type": "code",
   "execution_count": 3,
   "metadata": {
    "scrolled": false
   },
   "outputs": [
    {
     "name": "stderr",
     "output_type": "stream",
     "text": [
      " 50%|█████████████████▋                 | 12607/25000 [00:44<00:43, 284.21it/s]"
     ]
    },
    {
     "name": "stdout",
     "output_type": "stream",
     "text": [
      "12591\n",
      "RangeIndex(start=1792, stop=12592, step=1)\n",
      "10800\n",
      "RangeIndex(start=1792, stop=12592, step=1)\n",
      "Int64Index([1793, 3207, 5015, 6778, 7456, 10066], dtype='int64')\n",
      "[1.20453  1.20502  1.204805 1.204805 1.204805 1.20458 ]\n",
      "-9.688748915774884e-09 1.204812911569841\n",
      "1.2046909205322425\n",
      "12592\n",
      "RangeIndex(start=1793, stop=12593, step=1)\n",
      "10800\n",
      "RangeIndex(start=1793, stop=12593, step=1)\n",
      "Int64Index([1793, 3207, 5015, 6778, 7456, 10066], dtype='int64')\n",
      "[1.20453  1.20502  1.204805 1.204805 1.204805 1.20458 ]\n",
      "-9.688748915774884e-09 1.204812911569841\n",
      "1.2046909108434936\n",
      "12593\n",
      "RangeIndex(start=1794, stop=12594, step=1)\n",
      "10800\n",
      "RangeIndex(start=1794, stop=12594, step=1)\n",
      "Int64Index([3207, 5015, 6778, 7456, 10066], dtype='int64')\n",
      "[1.20502  1.204805 1.204805 1.204805 1.20458 ]\n",
      "-5.6446022352384515e-08 1.2051701475077887\n",
      "1.2044593227483051\n",
      "12594\n",
      "RangeIndex(start=1795, stop=12595, step=1)\n",
      "10800\n",
      "RangeIndex(start=1795, stop=12595, step=1)\n",
      "Int64Index([3207, 5015, 6778, 7456, 10066], dtype='int64')\n",
      "[1.20502  1.204805 1.204805 1.204805 1.20458 ]\n",
      "-5.6446022352384515e-08 1.2051701475077887\n",
      "1.2044592663022828\n",
      "12595\n",
      "RangeIndex(start=1796, stop=12596, step=1)\n",
      "10800\n",
      "RangeIndex(start=1796, stop=12596, step=1)\n",
      "Int64Index([3207, 5015, 6778, 7456, 10066], dtype='int64')\n",
      "[1.20502  1.204805 1.204805 1.204805 1.20458 ]\n",
      "-5.6446022352384515e-08 1.2051701475077887\n",
      "1.2044592098562605\n",
      "12596\n",
      "RangeIndex(start=1797, stop=12597, step=1)\n",
      "10800\n",
      "RangeIndex(start=1797, stop=12597, step=1)\n",
      "Int64Index([3207, 5015, 6778, 7456, 10066], dtype='int64')\n",
      "[1.20502  1.204805 1.204805 1.204805 1.20458 ]\n",
      "-5.6446022352384515e-08 1.2051701475077887\n",
      "1.204459153410238\n",
      "12597\n",
      "RangeIndex(start=1798, stop=12598, step=1)\n",
      "10800\n",
      "RangeIndex(start=1798, stop=12598, step=1)\n",
      "Int64Index([3207, 5015, 6778, 7456, 10066], dtype='int64')\n",
      "[1.20502  1.204805 1.204805 1.204805 1.20458 ]\n",
      "-5.6446022352384515e-08 1.2051701475077887\n",
      "1.2044590969642157\n",
      "12598\n",
      "RangeIndex(start=1799, stop=12599, step=1)\n",
      "10800\n",
      "RangeIndex(start=1799, stop=12599, step=1)\n",
      "Int64Index([3207, 5015, 6778, 7456, 10066], dtype='int64')\n",
      "[1.20502  1.204805 1.204805 1.204805 1.20458 ]\n",
      "-5.6446022352384515e-08 1.2051701475077887\n",
      "1.2044590405181934\n",
      "12600\n",
      "RangeIndex(start=1801, stop=12601, step=1)\n",
      "10800\n",
      "RangeIndex(start=1801, stop=12601, step=1)\n",
      "Int64Index([3207, 5015, 6778, 7456, 10066, 11025], dtype='int64')\n",
      "[1.20502  1.204805 1.204805 1.204805 1.20458  1.20442 ]\n",
      "-6.744389519273336e-08 1.2052286632173261\n",
      "1.2043788701378977\n",
      "12601\n",
      "RangeIndex(start=1802, stop=12602, step=1)\n",
      "10800\n",
      "RangeIndex(start=1802, stop=12602, step=1)\n",
      "Int64Index([3207, 5015, 6778, 7456, 10066, 11025], dtype='int64')\n",
      "[1.20502  1.204805 1.204805 1.204805 1.20458  1.20442 ]\n",
      "-6.744389519273336e-08 1.2052286632173261\n",
      "1.2043788026940025\n",
      "12602\n",
      "RangeIndex(start=1803, stop=12603, step=1)\n",
      "10800\n",
      "RangeIndex(start=1803, stop=12603, step=1)\n",
      "Int64Index([3207, 5015, 6778, 7456, 10066, 11025], dtype='int64')\n",
      "[1.20502  1.204805 1.204805 1.204805 1.20458  1.20442 ]\n",
      "-6.744389519273336e-08 1.2052286632173261\n",
      "1.2043787352501074\n",
      "12603\n",
      "RangeIndex(start=1804, stop=12604, step=1)\n",
      "10800\n",
      "RangeIndex(start=1804, stop=12604, step=1)\n",
      "Int64Index([3207, 5015, 6778, 7456, 10066, 11025], dtype='int64')\n",
      "[1.20502  1.204805 1.204805 1.204805 1.20458  1.20442 ]\n",
      "-6.744389519273336e-08 1.2052286632173261\n",
      "1.204378667806212\n",
      "12604\n",
      "RangeIndex(start=1805, stop=12605, step=1)\n",
      "10800\n",
      "RangeIndex(start=1805, stop=12605, step=1)\n",
      "Int64Index([3207, 5015, 6778, 7456, 10066, 11025], dtype='int64')\n",
      "[1.20502  1.204805 1.204805 1.204805 1.20458  1.20442 ]\n",
      "-6.744389519273336e-08 1.2052286632173261\n",
      "1.204378600362317\n",
      "12605\n",
      "RangeIndex(start=1806, stop=12606, step=1)\n",
      "10800\n",
      "RangeIndex(start=1806, stop=12606, step=1)\n",
      "Int64Index([3207, 5015, 6778, 7456, 10066, 11025], dtype='int64')\n",
      "[1.20502  1.204805 1.204805 1.204805 1.20458  1.20442 ]\n",
      "-6.744389519273336e-08 1.2052286632173261\n",
      "1.2043785329184218\n"
     ]
    },
    {
     "name": "stderr",
     "output_type": "stream",
     "text": [
      "\n"
     ]
    },
    {
     "ename": "SystemExit",
     "evalue": "",
     "output_type": "error",
     "traceback": [
      "An exception has occurred, use %tb to see the full traceback.\n",
      "\u001b[1;31mSystemExit\u001b[0m\n"
     ]
    }
   ],
   "source": [
    "for data['i'] in tqdm(range(0, data['df_len'])):\n",
    "    \n",
    "    data['df']['DateTime_frmt'][data['i']] = dt.datetime.strptime(data['df']['DateTime'][data['i']].split(\".\")[0],\"%Y%m%d %H:%M:%S\")\n",
    "    \n",
    "    data['ask'] = data['df']['Ask'][data['i']]\n",
    "    data['bid'] = data['df']['Bid'][data['i']]  \n",
    "    \n",
    "    data['tick'] = (data['df']['Ask'][data['i']] + data['df']['Bid'][data['i']])/2\n",
    "    data['df']['tick'][data['i']] = data['tick']\n",
    "        \n",
    "    # sema before after loops --------------------------------\n",
    "    if len(data['sema_list']) < data['sema_len']:\n",
    "        data =  before_sema(data)\n",
    "\n",
    "    if len(data['sema_list']) == data['sema_len']:\n",
    "        data = after_sema(data)                 \n",
    "    # ----------------------------------------------------------\n",
    "    \n",
    "        # sema before after loops --------------------------------\n",
    "    if len(data['sema_list']) < data['sema_len']:\n",
    "        data =  before_sema(data)\n",
    "        continue\n",
    "\n",
    "    if len(data['sema_list']) == data['sema_len']:\n",
    "        data = after_sema(data)                 \n",
    "    # ----------------------------------------------------------\n",
    "    \n",
    "    data = get_ohlc(data)    \n",
    "    data = get_trend_fwd(data)\n",
    "    data = trend_angle_check(data)    \n",
    "    \n",
    "    data = get_position(data)\n",
    "    if not data['position']:\n",
    "        continue\n",
    "        \n",
    "    # Get Dirs --------------------------------\n",
    "    if len(data['dir_list']) < 2:\n",
    "        data['dir_list'].append(data['position'])   \n",
    "        continue\n",
    "\n",
    "    elif len(data['dir_list']) == 2:\n",
    "        data = get_cross_dir(data)\n",
    "    # ----------------------------------------------------------  "
   ]
  },
  {
   "cell_type": "markdown",
   "metadata": {},
   "source": [
    "data['line_length']"
   ]
  },
  {
   "cell_type": "markdown",
   "metadata": {},
   "source": [
    "(data['i'] - 1599) % data['candle_size']"
   ]
  },
  {
   "cell_type": "markdown",
   "metadata": {},
   "source": [
    "data['i'] % data['candle_size']"
   ]
  },
  {
   "cell_type": "code",
   "execution_count": null,
   "metadata": {},
   "outputs": [],
   "source": [
    "num_rec = len(data[\"df\"])\n",
    "hours = np.round((list(data['df']['DateTime_frmt'])[-1] - list(data['df']['DateTime_frmt'])[0]).total_seconds() / 60 / 60 , 2)\n",
    "recsphour = int(num_rec/hours)\n",
    "\n",
    "print(f'Records   : {num_rec}')\n",
    "print(f'Hours     : {hours}')\n",
    "print(f'Recs/hour : {recsphour}')\n",
    "print(f'Recs/min  : {int(recsphour/60)}')\n",
    "print(f'Recs/sec  : {np.round(recsphour/3600, 1)}')\n",
    "\n",
    "data['df'].head()"
   ]
  },
  {
   "cell_type": "code",
   "execution_count": null,
   "metadata": {},
   "outputs": [],
   "source": [
    "plot_graph(data)"
   ]
  },
  {
   "cell_type": "code",
   "execution_count": null,
   "metadata": {},
   "outputs": [],
   "source": [
    "data['df'].to_csv('data/temp.csv')"
   ]
  },
  {
   "cell_type": "code",
   "execution_count": null,
   "metadata": {},
   "outputs": [],
   "source": [
    "winsound.PlaySound('C:\\\\Windows\\\\Media\\\\tada.wav', winsound.SND_ASYNC)"
   ]
  },
  {
   "cell_type": "code",
   "execution_count": null,
   "metadata": {},
   "outputs": [],
   "source": [
    "send_telegram_message(f'Run Complete at : {dt.datetime.now()}')"
   ]
  }
 ],
 "metadata": {
  "kernelspec": {
   "display_name": "Python 3",
   "language": "python",
   "name": "python3"
  },
  "language_info": {
   "codemirror_mode": {
    "name": "ipython",
    "version": 3
   },
   "file_extension": ".py",
   "mimetype": "text/x-python",
   "name": "python",
   "nbconvert_exporter": "python",
   "pygments_lexer": "ipython3",
   "version": "3.6.6"
  }
 },
 "nbformat": 4,
 "nbformat_minor": 4
}
