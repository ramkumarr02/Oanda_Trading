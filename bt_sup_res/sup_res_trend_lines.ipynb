{
 "cells": [
  {
   "cell_type": "markdown",
   "metadata": {},
   "source": [
    "# ML Trader"
   ]
  },
  {
   "cell_type": "code",
   "execution_count": 1,
   "metadata": {
    "scrolled": true
   },
   "outputs": [],
   "source": [
    "from utils.packages import *\n",
    "from utils.variables import *\n",
    "from utils.i_o import *\n",
    "from utils.dir_slope import *\n",
    "from utils.engine import *\n",
    "from utils.loops import *\n",
    "from utils.order import *\n",
    "import winsound"
   ]
  },
  {
   "cell_type": "code",
   "execution_count": 2,
   "metadata": {},
   "outputs": [
    {
     "name": "stdout",
     "output_type": "stream",
     "text": [
      "Read dataframe with 16797607 records.\n",
      "Dataframe has 115071 records between (datetime.datetime(2021, 1, 1, 0, 0), datetime.datetime(2021, 1, 4, 0, 0)).\n",
      "Record num : 115071\n",
      "Wall time: 15.9 s\n"
     ]
    }
   ],
   "source": [
    "%%time\n",
    "data = get_date_list(data)\n",
    "data = read_data(data)"
   ]
  },
  {
   "cell_type": "code",
   "execution_count": 3,
   "metadata": {
    "scrolled": false
   },
   "outputs": [
    {
     "name": "stderr",
     "output_type": "stream",
     "text": [
      "\r",
      " 75%|█████████████████████████▌        | 86540/115071 [08:23<03:08, 151.05it/s]"
     ]
    },
    {
     "name": "stdout",
     "output_type": "stream",
     "text": [
      "Sum : -0.00457\n",
      "-----------------------------\n",
      "                    DateTime       pl\n",
      "29152  20210104 06:58:24.817 -0.00088\n",
      "54673  20210104 12:03:04.234 -0.00090\n",
      "62138  20210104 13:24:58.169 -0.00088\n",
      "73278  20210104 14:53:38.526 -0.00091\n",
      "86525  20210104 16:14:10.019 -0.00100\n"
     ]
    },
    {
     "name": "stderr",
     "output_type": "stream",
     "text": [
      "100%|█████████████████████████████████| 115071/115071 [11:28<00:00, 167.09it/s]\n"
     ]
    }
   ],
   "source": [
    "for data['i'] in tqdm(range(0, data['df_len'])):\n",
    "    \n",
    "    data['df']['DateTime_frmt'][data['i']] = dt.datetime.strptime(data['df']['DateTime'][data['i']].split(\".\")[0],\"%Y%m%d %H:%M:%S\")\n",
    "    \n",
    "    data['ask'] = data['df']['Ask'][data['i']]\n",
    "    data['bid'] = data['df']['Bid'][data['i']]  \n",
    "    \n",
    "    data['tick'] = (data['df']['Ask'][data['i']] + data['df']['Bid'][data['i']])/2\n",
    "    data['df']['tick'][data['i']] = data['tick']\n",
    "        \n",
    "    # sema before after loops --------------------------------\n",
    "    if len(data['sema_list']) < data['sema_len']:\n",
    "        data =  before_sema(data)\n",
    "        continue\n",
    "\n",
    "    if len(data['sema_list']) == data['sema_len']:\n",
    "        data = after_sema(data)                 \n",
    "    # ----------------------------------------------------------\n",
    "\n",
    "#     # slema before after loops --------------------------------\n",
    "#     if len(data['slema_list']) < data['slema_len']:\n",
    "#         data =  before_slema(data)\n",
    "#         continue\n",
    "\n",
    "#     if len(data['slema_list']) == data['slema_len']:\n",
    "#         data = after_slema(data)                 \n",
    "#     # ----------------------------------------------------------    \n",
    "    \n",
    "    \n",
    "#     # lema before after loops --------------------------------\n",
    "#     if len(data['lema_list']) < data['lema_len']:\n",
    "#         data =  before_lema(data)\n",
    "#         continue\n",
    "\n",
    "#     if len(data['lema_list']) == data['lema_len']:\n",
    "#         data = after_lema(data)                 \n",
    "#     # ----------------------------------------------------------\n",
    "    \n",
    "    data = get_ohlc(data)    \n",
    "    data = get_trend_fwd(data)    \n",
    "    data = get_position(data)\n",
    "    \n",
    "    if not data['position']:\n",
    "        continue\n",
    "        \n",
    "    # Get Dirs --------------------------------\n",
    "    if len(data['dir_list']) < 2:\n",
    "        data['dir_list'].append(data['position'])   \n",
    "        continue\n",
    "\n",
    "    elif len(data['dir_list']) == 2:\n",
    "        data = get_cross_dir(data)\n",
    "    # ----------------------------------------------------------  \n",
    "    \n",
    "    data = calculate_pl(data)\n",
    "    data = simple_take_profit(data)\n",
    "    data = tick_close(data)\n",
    "    data = simple_stop_loss(data)\n",
    "    data = make_order(data)"
   ]
  },
  {
   "cell_type": "code",
   "execution_count": 4,
   "metadata": {
    "scrolled": false
   },
   "outputs": [
    {
     "name": "stdout",
     "output_type": "stream",
     "text": [
      "Records   : 115071\n",
      "Hours     : 26.0\n",
      "Recs/hour : 4425\n",
      "Recs/min  : 73\n",
      "Recs/sec  : 1.2\n"
     ]
    },
    {
     "data": {
      "text/html": [
       "<div>\n",
       "<style scoped>\n",
       "    .dataframe tbody tr th:only-of-type {\n",
       "        vertical-align: middle;\n",
       "    }\n",
       "\n",
       "    .dataframe tbody tr th {\n",
       "        vertical-align: top;\n",
       "    }\n",
       "\n",
       "    .dataframe thead th {\n",
       "        text-align: right;\n",
       "    }\n",
       "</style>\n",
       "<table border=\"1\" class=\"dataframe\">\n",
       "  <thead>\n",
       "    <tr style=\"text-align: right;\">\n",
       "      <th></th>\n",
       "      <th>DateTime</th>\n",
       "      <th>Bid</th>\n",
       "      <th>Ask</th>\n",
       "      <th>tick</th>\n",
       "      <th>DateTime_frmt</th>\n",
       "      <th>sema</th>\n",
       "      <th>slema</th>\n",
       "      <th>lema</th>\n",
       "      <th>position</th>\n",
       "      <th>to_order</th>\n",
       "      <th>...</th>\n",
       "      <th>stop_loss_pip</th>\n",
       "      <th>pl_move_trail_trigger</th>\n",
       "      <th>pl_move_min</th>\n",
       "      <th>h</th>\n",
       "      <th>l</th>\n",
       "      <th>long_open</th>\n",
       "      <th>long_close</th>\n",
       "      <th>short_open</th>\n",
       "      <th>short_close</th>\n",
       "      <th>pl</th>\n",
       "    </tr>\n",
       "  </thead>\n",
       "  <tbody>\n",
       "    <tr>\n",
       "      <th>0</th>\n",
       "      <td>20210103 22:00:00.040</td>\n",
       "      <td>1.22396</td>\n",
       "      <td>1.22411</td>\n",
       "      <td>1.224035</td>\n",
       "      <td>2021-01-03 22:00:00</td>\n",
       "      <td>NaN</td>\n",
       "      <td>NaN</td>\n",
       "      <td>NaN</td>\n",
       "      <td>NaN</td>\n",
       "      <td>NaN</td>\n",
       "      <td>...</td>\n",
       "      <td>NaN</td>\n",
       "      <td>NaN</td>\n",
       "      <td>NaN</td>\n",
       "      <td>NaN</td>\n",
       "      <td>NaN</td>\n",
       "      <td>NaN</td>\n",
       "      <td>NaN</td>\n",
       "      <td>NaN</td>\n",
       "      <td>NaN</td>\n",
       "      <td>NaN</td>\n",
       "    </tr>\n",
       "    <tr>\n",
       "      <th>1</th>\n",
       "      <td>20210103 22:00:00.144</td>\n",
       "      <td>1.22395</td>\n",
       "      <td>1.22410</td>\n",
       "      <td>1.224025</td>\n",
       "      <td>2021-01-03 22:00:00</td>\n",
       "      <td>NaN</td>\n",
       "      <td>NaN</td>\n",
       "      <td>NaN</td>\n",
       "      <td>NaN</td>\n",
       "      <td>NaN</td>\n",
       "      <td>...</td>\n",
       "      <td>NaN</td>\n",
       "      <td>NaN</td>\n",
       "      <td>NaN</td>\n",
       "      <td>NaN</td>\n",
       "      <td>NaN</td>\n",
       "      <td>NaN</td>\n",
       "      <td>NaN</td>\n",
       "      <td>NaN</td>\n",
       "      <td>NaN</td>\n",
       "      <td>NaN</td>\n",
       "    </tr>\n",
       "    <tr>\n",
       "      <th>2</th>\n",
       "      <td>20210103 22:00:00.434</td>\n",
       "      <td>1.22393</td>\n",
       "      <td>1.22411</td>\n",
       "      <td>1.224020</td>\n",
       "      <td>2021-01-03 22:00:00</td>\n",
       "      <td>NaN</td>\n",
       "      <td>NaN</td>\n",
       "      <td>NaN</td>\n",
       "      <td>NaN</td>\n",
       "      <td>NaN</td>\n",
       "      <td>...</td>\n",
       "      <td>NaN</td>\n",
       "      <td>NaN</td>\n",
       "      <td>NaN</td>\n",
       "      <td>NaN</td>\n",
       "      <td>NaN</td>\n",
       "      <td>NaN</td>\n",
       "      <td>NaN</td>\n",
       "      <td>NaN</td>\n",
       "      <td>NaN</td>\n",
       "      <td>NaN</td>\n",
       "    </tr>\n",
       "    <tr>\n",
       "      <th>3</th>\n",
       "      <td>20210103 22:00:00.738</td>\n",
       "      <td>1.22393</td>\n",
       "      <td>1.22410</td>\n",
       "      <td>1.224015</td>\n",
       "      <td>2021-01-03 22:00:00</td>\n",
       "      <td>NaN</td>\n",
       "      <td>NaN</td>\n",
       "      <td>NaN</td>\n",
       "      <td>NaN</td>\n",
       "      <td>NaN</td>\n",
       "      <td>...</td>\n",
       "      <td>NaN</td>\n",
       "      <td>NaN</td>\n",
       "      <td>NaN</td>\n",
       "      <td>NaN</td>\n",
       "      <td>NaN</td>\n",
       "      <td>NaN</td>\n",
       "      <td>NaN</td>\n",
       "      <td>NaN</td>\n",
       "      <td>NaN</td>\n",
       "      <td>NaN</td>\n",
       "    </tr>\n",
       "    <tr>\n",
       "      <th>4</th>\n",
       "      <td>20210103 22:00:00.933</td>\n",
       "      <td>1.22392</td>\n",
       "      <td>1.22409</td>\n",
       "      <td>1.224005</td>\n",
       "      <td>2021-01-03 22:00:00</td>\n",
       "      <td>NaN</td>\n",
       "      <td>NaN</td>\n",
       "      <td>NaN</td>\n",
       "      <td>NaN</td>\n",
       "      <td>NaN</td>\n",
       "      <td>...</td>\n",
       "      <td>NaN</td>\n",
       "      <td>NaN</td>\n",
       "      <td>NaN</td>\n",
       "      <td>NaN</td>\n",
       "      <td>NaN</td>\n",
       "      <td>NaN</td>\n",
       "      <td>NaN</td>\n",
       "      <td>NaN</td>\n",
       "      <td>NaN</td>\n",
       "      <td>NaN</td>\n",
       "    </tr>\n",
       "  </tbody>\n",
       "</table>\n",
       "<p>5 rows × 26 columns</p>\n",
       "</div>"
      ],
      "text/plain": [
       "                DateTime      Bid      Ask      tick        DateTime_frmt  \\\n",
       "0  20210103 22:00:00.040  1.22396  1.22411  1.224035  2021-01-03 22:00:00   \n",
       "1  20210103 22:00:00.144  1.22395  1.22410  1.224025  2021-01-03 22:00:00   \n",
       "2  20210103 22:00:00.434  1.22393  1.22411  1.224020  2021-01-03 22:00:00   \n",
       "3  20210103 22:00:00.738  1.22393  1.22410  1.224015  2021-01-03 22:00:00   \n",
       "4  20210103 22:00:00.933  1.22392  1.22409  1.224005  2021-01-03 22:00:00   \n",
       "\n",
       "   sema  slema  lema position to_order  ...  stop_loss_pip  \\\n",
       "0   NaN    NaN   NaN      NaN      NaN  ...            NaN   \n",
       "1   NaN    NaN   NaN      NaN      NaN  ...            NaN   \n",
       "2   NaN    NaN   NaN      NaN      NaN  ...            NaN   \n",
       "3   NaN    NaN   NaN      NaN      NaN  ...            NaN   \n",
       "4   NaN    NaN   NaN      NaN      NaN  ...            NaN   \n",
       "\n",
       "   pl_move_trail_trigger  pl_move_min   h   l long_open  long_close  \\\n",
       "0                    NaN          NaN NaN NaN       NaN         NaN   \n",
       "1                    NaN          NaN NaN NaN       NaN         NaN   \n",
       "2                    NaN          NaN NaN NaN       NaN         NaN   \n",
       "3                    NaN          NaN NaN NaN       NaN         NaN   \n",
       "4                    NaN          NaN NaN NaN       NaN         NaN   \n",
       "\n",
       "   short_open  short_close  pl  \n",
       "0         NaN          NaN NaN  \n",
       "1         NaN          NaN NaN  \n",
       "2         NaN          NaN NaN  \n",
       "3         NaN          NaN NaN  \n",
       "4         NaN          NaN NaN  \n",
       "\n",
       "[5 rows x 26 columns]"
      ]
     },
     "execution_count": 4,
     "metadata": {},
     "output_type": "execute_result"
    }
   ],
   "source": [
    "num_rec = len(data[\"df\"])\n",
    "hours = np.round((list(data['df']['DateTime_frmt'])[-1] - list(data['df']['DateTime_frmt'])[0]).total_seconds() / 60 / 60 , 2)\n",
    "recsphour = int(num_rec/hours)\n",
    "\n",
    "print(f'Records   : {num_rec}')\n",
    "print(f'Hours     : {hours}')\n",
    "print(f'Recs/hour : {recsphour}')\n",
    "print(f'Recs/min  : {int(recsphour/60)}')\n",
    "print(f'Recs/sec  : {np.round(recsphour/3600, 1)}')\n",
    "\n",
    "data['df'].head()"
   ]
  },
  {
   "cell_type": "code",
   "execution_count": 54,
   "metadata": {},
   "outputs": [],
   "source": [
    "data['plot_trend_calc_lines']   = False"
   ]
  },
  {
   "cell_type": "code",
   "execution_count": 56,
   "metadata": {},
   "outputs": [],
   "source": [
    "plot_graph(data)"
   ]
  },
  {
   "cell_type": "code",
   "execution_count": 6,
   "metadata": {},
   "outputs": [],
   "source": [
    "data['df'].to_csv('data/temp.csv')"
   ]
  },
  {
   "cell_type": "code",
   "execution_count": 7,
   "metadata": {},
   "outputs": [
    {
     "ename": "NameError",
     "evalue": "name 'pl_list' is not defined",
     "output_type": "error",
     "traceback": [
      "\u001b[1;31m---------------------------------------------------------------------------\u001b[0m",
      "\u001b[1;31mNameError\u001b[0m                                 Traceback (most recent call last)",
      "\u001b[1;32m<ipython-input-7-9ca6615338d6>\u001b[0m in \u001b[0;36m<module>\u001b[1;34m\u001b[0m\n\u001b[0;32m      1\u001b[0m \u001b[0mwinsound\u001b[0m\u001b[1;33m.\u001b[0m\u001b[0mPlaySound\u001b[0m\u001b[1;33m(\u001b[0m\u001b[1;34m'C:\\\\Windows\\\\Media\\\\tada.wav'\u001b[0m\u001b[1;33m,\u001b[0m \u001b[0mwinsound\u001b[0m\u001b[1;33m.\u001b[0m\u001b[0mSND_ASYNC\u001b[0m\u001b[1;33m)\u001b[0m\u001b[1;33m\u001b[0m\u001b[0m\n\u001b[1;32m----> 2\u001b[1;33m \u001b[0msend_telegram_message\u001b[0m\u001b[1;33m(\u001b[0m\u001b[1;34mf'------------\\n{sum(pl_list)}\\n------------\\n{pl_list}\\n------------'\u001b[0m\u001b[1;33m)\u001b[0m\u001b[1;33m\u001b[0m\u001b[0m\n\u001b[0m",
      "\u001b[1;31mNameError\u001b[0m: name 'pl_list' is not defined"
     ]
    }
   ],
   "source": [
    "winsound.PlaySound('C:\\\\Windows\\\\Media\\\\tada.wav', winsound.SND_ASYNC)\n",
    "send_telegram_message(f'------------\\n{sum(pl_list)}\\n------------\\n{pl_list}\\n------------')"
   ]
  },
  {
   "cell_type": "code",
   "execution_count": 47,
   "metadata": {},
   "outputs": [],
   "source": [
    "data['df']['std'] = np.nan\n",
    "data['df']['std_up'] = np.nan\n",
    "data['df']['std_down'] = np.nan"
   ]
  },
  {
   "cell_type": "code",
   "execution_count": 48,
   "metadata": {},
   "outputs": [
    {
     "name": "stderr",
     "output_type": "stream",
     "text": [
      "100%|████████████████████████████████| 113271/113271 [00:45<00:00, 2478.18it/s]\n"
     ]
    }
   ],
   "source": [
    "for i in tqdm(np.arange(1800, len(data['df']))):\n",
    "    data['df']['std'].loc[i] = np.std(data['df']['tick'][i-1800:i])"
   ]
  },
  {
   "cell_type": "code",
   "execution_count": 49,
   "metadata": {},
   "outputs": [],
   "source": [
    "data['df']['std_up'] = data['df']['tick'] + data['df']['std']\n",
    "data['df']['std_down'] = data['df']['tick'] - data['df']['std']"
   ]
  },
  {
   "cell_type": "code",
   "execution_count": 50,
   "metadata": {},
   "outputs": [
    {
     "data": {
      "text/html": [
       "<div>\n",
       "<style scoped>\n",
       "    .dataframe tbody tr th:only-of-type {\n",
       "        vertical-align: middle;\n",
       "    }\n",
       "\n",
       "    .dataframe tbody tr th {\n",
       "        vertical-align: top;\n",
       "    }\n",
       "\n",
       "    .dataframe thead th {\n",
       "        text-align: right;\n",
       "    }\n",
       "</style>\n",
       "<table border=\"1\" class=\"dataframe\">\n",
       "  <thead>\n",
       "    <tr style=\"text-align: right;\">\n",
       "      <th></th>\n",
       "      <th>tick</th>\n",
       "      <th>std</th>\n",
       "      <th>std_up</th>\n",
       "      <th>std_down</th>\n",
       "    </tr>\n",
       "  </thead>\n",
       "  <tbody>\n",
       "    <tr>\n",
       "      <th>0</th>\n",
       "      <td>1.224035</td>\n",
       "      <td>NaN</td>\n",
       "      <td>NaN</td>\n",
       "      <td>NaN</td>\n",
       "    </tr>\n",
       "    <tr>\n",
       "      <th>1</th>\n",
       "      <td>1.224025</td>\n",
       "      <td>NaN</td>\n",
       "      <td>NaN</td>\n",
       "      <td>NaN</td>\n",
       "    </tr>\n",
       "    <tr>\n",
       "      <th>2</th>\n",
       "      <td>1.224020</td>\n",
       "      <td>NaN</td>\n",
       "      <td>NaN</td>\n",
       "      <td>NaN</td>\n",
       "    </tr>\n",
       "    <tr>\n",
       "      <th>3</th>\n",
       "      <td>1.224015</td>\n",
       "      <td>NaN</td>\n",
       "      <td>NaN</td>\n",
       "      <td>NaN</td>\n",
       "    </tr>\n",
       "    <tr>\n",
       "      <th>4</th>\n",
       "      <td>1.224005</td>\n",
       "      <td>NaN</td>\n",
       "      <td>NaN</td>\n",
       "      <td>NaN</td>\n",
       "    </tr>\n",
       "    <tr>\n",
       "      <th>...</th>\n",
       "      <td>...</td>\n",
       "      <td>...</td>\n",
       "      <td>...</td>\n",
       "      <td>...</td>\n",
       "    </tr>\n",
       "    <tr>\n",
       "      <th>115066</th>\n",
       "      <td>1.225255</td>\n",
       "      <td>0.000136</td>\n",
       "      <td>1.225391</td>\n",
       "      <td>1.225119</td>\n",
       "    </tr>\n",
       "    <tr>\n",
       "      <th>115067</th>\n",
       "      <td>1.225265</td>\n",
       "      <td>0.000136</td>\n",
       "      <td>1.225401</td>\n",
       "      <td>1.225129</td>\n",
       "    </tr>\n",
       "    <tr>\n",
       "      <th>115068</th>\n",
       "      <td>1.225275</td>\n",
       "      <td>0.000136</td>\n",
       "      <td>1.225411</td>\n",
       "      <td>1.225139</td>\n",
       "    </tr>\n",
       "    <tr>\n",
       "      <th>115069</th>\n",
       "      <td>1.225270</td>\n",
       "      <td>0.000136</td>\n",
       "      <td>1.225406</td>\n",
       "      <td>1.225134</td>\n",
       "    </tr>\n",
       "    <tr>\n",
       "      <th>115070</th>\n",
       "      <td>1.225275</td>\n",
       "      <td>0.000136</td>\n",
       "      <td>1.225411</td>\n",
       "      <td>1.225139</td>\n",
       "    </tr>\n",
       "  </tbody>\n",
       "</table>\n",
       "<p>115071 rows × 4 columns</p>\n",
       "</div>"
      ],
      "text/plain": [
       "            tick       std    std_up  std_down\n",
       "0       1.224035       NaN       NaN       NaN\n",
       "1       1.224025       NaN       NaN       NaN\n",
       "2       1.224020       NaN       NaN       NaN\n",
       "3       1.224015       NaN       NaN       NaN\n",
       "4       1.224005       NaN       NaN       NaN\n",
       "...          ...       ...       ...       ...\n",
       "115066  1.225255  0.000136  1.225391  1.225119\n",
       "115067  1.225265  0.000136  1.225401  1.225129\n",
       "115068  1.225275  0.000136  1.225411  1.225139\n",
       "115069  1.225270  0.000136  1.225406  1.225134\n",
       "115070  1.225275  0.000136  1.225411  1.225139\n",
       "\n",
       "[115071 rows x 4 columns]"
      ]
     },
     "execution_count": 50,
     "metadata": {},
     "output_type": "execute_result"
    }
   ],
   "source": [
    "data['df'][['tick', 'std', 'std_up', 'std_down']]"
   ]
  },
  {
   "cell_type": "code",
   "execution_count": 42,
   "metadata": {},
   "outputs": [
    {
     "data": {
      "text/plain": [
       "0.000512593553761673"
      ]
     },
     "execution_count": 42,
     "metadata": {},
     "output_type": "execute_result"
    }
   ],
   "source": [
    "np.max(data['df']['std'][data['df']['std'].notnull()])"
   ]
  }
 ],
 "metadata": {
  "kernelspec": {
   "display_name": "Python 3",
   "language": "python",
   "name": "python3"
  },
  "language_info": {
   "codemirror_mode": {
    "name": "ipython",
    "version": 3
   },
   "file_extension": ".py",
   "mimetype": "text/x-python",
   "name": "python",
   "nbconvert_exporter": "python",
   "pygments_lexer": "ipython3",
   "version": "3.6.6"
  }
 },
 "nbformat": 4,
 "nbformat_minor": 4
}
