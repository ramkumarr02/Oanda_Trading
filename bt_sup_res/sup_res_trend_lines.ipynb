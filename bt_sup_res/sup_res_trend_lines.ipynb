{
 "cells": [
  {
   "cell_type": "markdown",
   "metadata": {},
   "source": [
    "# ML Trader"
   ]
  },
  {
   "cell_type": "code",
   "execution_count": 1,
   "metadata": {
    "scrolled": true
   },
   "outputs": [],
   "source": [
    "from utils.packages import *\n",
    "from utils.variables import *\n",
    "from utils.i_o import *\n",
    "from utils.dir_slope import *\n",
    "from utils.engine import *\n",
    "from utils.loops import *\n",
    "from utils.order import *\n",
    "import winsound"
   ]
  },
  {
   "cell_type": "code",
   "execution_count": 2,
   "metadata": {},
   "outputs": [
    {
     "name": "stdout",
     "output_type": "stream",
     "text": [
      "Read dataframe with 16797607 records.\n",
      "Dataframe has 71828 records between (datetime.datetime(2021, 2, 3, 0, 0), datetime.datetime(2021, 2, 3, 0, 0)).\n",
      "Subsetted dataframe with 50000 records.\n",
      "Record num : 50000\n",
      "Wall time: 15.6 s\n"
     ]
    }
   ],
   "source": [
    "%%time\n",
    "data = get_date_list(data)\n",
    "data = read_data(data)"
   ]
  },
  {
   "cell_type": "code",
   "execution_count": 3,
   "metadata": {
    "scrolled": true
   },
   "outputs": [
    {
     "name": "stderr",
     "output_type": "stream",
     "text": [
      "100%|███████████████████████████████████| 50000/50000 [04:34<00:00, 182.34it/s]\n"
     ]
    }
   ],
   "source": [
    "for data['i'] in tqdm(range(0, data['df_len'])):\n",
    "    \n",
    "    data['df']['DateTime_frmt'][data['i']] = dt.datetime.strptime(data['df']['DateTime'][data['i']].split(\".\")[0],\"%Y%m%d %H:%M:%S\")\n",
    "    \n",
    "    data['ask'] = data['df']['Ask'][data['i']]\n",
    "    data['bid'] = data['df']['Bid'][data['i']]  \n",
    "    \n",
    "    data['tick'] = (data['df']['Ask'][data['i']] + data['df']['Bid'][data['i']])/2\n",
    "    data['df']['tick'][data['i']] = data['tick']\n",
    "        \n",
    "    # sema before after loops --------------------------------\n",
    "    if len(data['sema_list']) < data['sema_len']:\n",
    "        data =  before_sema(data)\n",
    "\n",
    "    if len(data['sema_list']) == data['sema_len']:\n",
    "        data = after_sema(data)                 \n",
    "    # ----------------------------------------------------------\n",
    "    \n",
    "        # sema before after loops --------------------------------\n",
    "    if len(data['sema_list']) < data['sema_len']:\n",
    "        data =  before_sema(data)\n",
    "        continue\n",
    "\n",
    "    if len(data['sema_list']) == data['sema_len']:\n",
    "        data = after_sema(data)                 \n",
    "    # ----------------------------------------------------------\n",
    "    \n",
    "    data = get_ohlc(data)    \n",
    "    data = get_trend_fwd(data)\n",
    "#     data = trend_angle_check(data)    \n",
    "    \n",
    "    data = get_position(data)\n",
    "    if not data['position']:\n",
    "        continue\n",
    "        \n",
    "    # Get Dirs --------------------------------\n",
    "    if len(data['dir_list']) < 2:\n",
    "        data['dir_list'].append(data['position'])   \n",
    "        continue\n",
    "\n",
    "    elif len(data['dir_list']) == 2:\n",
    "        data = get_cross_dir(data)\n",
    "    # ----------------------------------------------------------  \n",
    "    \n",
    "    data = calculate_pl(data)\n",
    "    data = simple_take_profit(data)\n",
    "    data = simple_stop_loss(data)\n",
    "    data = make_order(data)"
   ]
  },
  {
   "cell_type": "code",
   "execution_count": 4,
   "metadata": {},
   "outputs": [
    {
     "name": "stdout",
     "output_type": "stream",
     "text": [
      "Records   : 50000\n",
      "Hours     : 15.16\n",
      "Recs/hour : 3298\n",
      "Recs/min  : 54\n",
      "Recs/sec  : 0.9\n"
     ]
    },
    {
     "data": {
      "text/html": [
       "<div>\n",
       "<style scoped>\n",
       "    .dataframe tbody tr th:only-of-type {\n",
       "        vertical-align: middle;\n",
       "    }\n",
       "\n",
       "    .dataframe tbody tr th {\n",
       "        vertical-align: top;\n",
       "    }\n",
       "\n",
       "    .dataframe thead th {\n",
       "        text-align: right;\n",
       "    }\n",
       "</style>\n",
       "<table border=\"1\" class=\"dataframe\">\n",
       "  <thead>\n",
       "    <tr style=\"text-align: right;\">\n",
       "      <th></th>\n",
       "      <th>DateTime</th>\n",
       "      <th>Bid</th>\n",
       "      <th>Ask</th>\n",
       "      <th>tick</th>\n",
       "      <th>DateTime_frmt</th>\n",
       "      <th>sema</th>\n",
       "      <th>lema</th>\n",
       "      <th>position</th>\n",
       "      <th>direction</th>\n",
       "      <th>to_order</th>\n",
       "      <th>...</th>\n",
       "      <th>trend_angle</th>\n",
       "      <th>h_trend_calc_spot</th>\n",
       "      <th>l_trend_calc_spot</th>\n",
       "      <th>h</th>\n",
       "      <th>l</th>\n",
       "      <th>long_open</th>\n",
       "      <th>long_close</th>\n",
       "      <th>short_open</th>\n",
       "      <th>short_close</th>\n",
       "      <th>pl</th>\n",
       "    </tr>\n",
       "  </thead>\n",
       "  <tbody>\n",
       "    <tr>\n",
       "      <th>0</th>\n",
       "      <td>20210203 00:00:00.267</td>\n",
       "      <td>1.20365</td>\n",
       "      <td>1.20371</td>\n",
       "      <td>1.203680</td>\n",
       "      <td>2021-02-03 00:00:00</td>\n",
       "      <td>NaN</td>\n",
       "      <td>NaN</td>\n",
       "      <td>NaN</td>\n",
       "      <td>NaN</td>\n",
       "      <td>NaN</td>\n",
       "      <td>...</td>\n",
       "      <td>NaN</td>\n",
       "      <td>NaN</td>\n",
       "      <td>NaN</td>\n",
       "      <td>NaN</td>\n",
       "      <td>NaN</td>\n",
       "      <td>NaN</td>\n",
       "      <td>NaN</td>\n",
       "      <td>NaN</td>\n",
       "      <td>NaN</td>\n",
       "      <td>NaN</td>\n",
       "    </tr>\n",
       "    <tr>\n",
       "      <th>1</th>\n",
       "      <td>20210203 00:00:00.419</td>\n",
       "      <td>1.20366</td>\n",
       "      <td>1.20371</td>\n",
       "      <td>1.203685</td>\n",
       "      <td>2021-02-03 00:00:00</td>\n",
       "      <td>NaN</td>\n",
       "      <td>NaN</td>\n",
       "      <td>NaN</td>\n",
       "      <td>NaN</td>\n",
       "      <td>NaN</td>\n",
       "      <td>...</td>\n",
       "      <td>NaN</td>\n",
       "      <td>NaN</td>\n",
       "      <td>NaN</td>\n",
       "      <td>NaN</td>\n",
       "      <td>NaN</td>\n",
       "      <td>NaN</td>\n",
       "      <td>NaN</td>\n",
       "      <td>NaN</td>\n",
       "      <td>NaN</td>\n",
       "      <td>NaN</td>\n",
       "    </tr>\n",
       "    <tr>\n",
       "      <th>2</th>\n",
       "      <td>20210203 00:00:00.723</td>\n",
       "      <td>1.20368</td>\n",
       "      <td>1.20370</td>\n",
       "      <td>1.203690</td>\n",
       "      <td>2021-02-03 00:00:00</td>\n",
       "      <td>NaN</td>\n",
       "      <td>NaN</td>\n",
       "      <td>NaN</td>\n",
       "      <td>NaN</td>\n",
       "      <td>NaN</td>\n",
       "      <td>...</td>\n",
       "      <td>NaN</td>\n",
       "      <td>NaN</td>\n",
       "      <td>NaN</td>\n",
       "      <td>NaN</td>\n",
       "      <td>NaN</td>\n",
       "      <td>NaN</td>\n",
       "      <td>NaN</td>\n",
       "      <td>NaN</td>\n",
       "      <td>NaN</td>\n",
       "      <td>NaN</td>\n",
       "    </tr>\n",
       "    <tr>\n",
       "      <th>3</th>\n",
       "      <td>20210203 00:00:00.979</td>\n",
       "      <td>1.20366</td>\n",
       "      <td>1.20371</td>\n",
       "      <td>1.203685</td>\n",
       "      <td>2021-02-03 00:00:00</td>\n",
       "      <td>NaN</td>\n",
       "      <td>NaN</td>\n",
       "      <td>NaN</td>\n",
       "      <td>NaN</td>\n",
       "      <td>NaN</td>\n",
       "      <td>...</td>\n",
       "      <td>NaN</td>\n",
       "      <td>NaN</td>\n",
       "      <td>NaN</td>\n",
       "      <td>NaN</td>\n",
       "      <td>NaN</td>\n",
       "      <td>NaN</td>\n",
       "      <td>NaN</td>\n",
       "      <td>NaN</td>\n",
       "      <td>NaN</td>\n",
       "      <td>NaN</td>\n",
       "    </tr>\n",
       "    <tr>\n",
       "      <th>4</th>\n",
       "      <td>20210203 00:00:01.182</td>\n",
       "      <td>1.20367</td>\n",
       "      <td>1.20371</td>\n",
       "      <td>1.203690</td>\n",
       "      <td>2021-02-03 00:00:01</td>\n",
       "      <td>NaN</td>\n",
       "      <td>NaN</td>\n",
       "      <td>NaN</td>\n",
       "      <td>NaN</td>\n",
       "      <td>NaN</td>\n",
       "      <td>...</td>\n",
       "      <td>NaN</td>\n",
       "      <td>NaN</td>\n",
       "      <td>NaN</td>\n",
       "      <td>NaN</td>\n",
       "      <td>NaN</td>\n",
       "      <td>NaN</td>\n",
       "      <td>NaN</td>\n",
       "      <td>NaN</td>\n",
       "      <td>NaN</td>\n",
       "      <td>NaN</td>\n",
       "    </tr>\n",
       "  </tbody>\n",
       "</table>\n",
       "<p>5 rows × 22 columns</p>\n",
       "</div>"
      ],
      "text/plain": [
       "                DateTime      Bid      Ask      tick        DateTime_frmt  \\\n",
       "0  20210203 00:00:00.267  1.20365  1.20371  1.203680  2021-02-03 00:00:00   \n",
       "1  20210203 00:00:00.419  1.20366  1.20371  1.203685  2021-02-03 00:00:00   \n",
       "2  20210203 00:00:00.723  1.20368  1.20370  1.203690  2021-02-03 00:00:00   \n",
       "3  20210203 00:00:00.979  1.20366  1.20371  1.203685  2021-02-03 00:00:00   \n",
       "4  20210203 00:00:01.182  1.20367  1.20371  1.203690  2021-02-03 00:00:01   \n",
       "\n",
       "   sema  lema position  direction to_order  ...  trend_angle  \\\n",
       "0   NaN   NaN      NaN        NaN      NaN  ...          NaN   \n",
       "1   NaN   NaN      NaN        NaN      NaN  ...          NaN   \n",
       "2   NaN   NaN      NaN        NaN      NaN  ...          NaN   \n",
       "3   NaN   NaN      NaN        NaN      NaN  ...          NaN   \n",
       "4   NaN   NaN      NaN        NaN      NaN  ...          NaN   \n",
       "\n",
       "   h_trend_calc_spot  l_trend_calc_spot   h   l  long_open  long_close  \\\n",
       "0                NaN                NaN NaN NaN        NaN         NaN   \n",
       "1                NaN                NaN NaN NaN        NaN         NaN   \n",
       "2                NaN                NaN NaN NaN        NaN         NaN   \n",
       "3                NaN                NaN NaN NaN        NaN         NaN   \n",
       "4                NaN                NaN NaN NaN        NaN         NaN   \n",
       "\n",
       "   short_open  short_close  pl  \n",
       "0         NaN          NaN NaN  \n",
       "1         NaN          NaN NaN  \n",
       "2         NaN          NaN NaN  \n",
       "3         NaN          NaN NaN  \n",
       "4         NaN          NaN NaN  \n",
       "\n",
       "[5 rows x 22 columns]"
      ]
     },
     "execution_count": 4,
     "metadata": {},
     "output_type": "execute_result"
    }
   ],
   "source": [
    "num_rec = len(data[\"df\"])\n",
    "hours = np.round((list(data['df']['DateTime_frmt'])[-1] - list(data['df']['DateTime_frmt'])[0]).total_seconds() / 60 / 60 , 2)\n",
    "recsphour = int(num_rec/hours)\n",
    "\n",
    "print(f'Records   : {num_rec}')\n",
    "print(f'Hours     : {hours}')\n",
    "print(f'Recs/hour : {recsphour}')\n",
    "print(f'Recs/min  : {int(recsphour/60)}')\n",
    "print(f'Recs/sec  : {np.round(recsphour/3600, 1)}')\n",
    "\n",
    "data['df'].head()"
   ]
  },
  {
   "cell_type": "code",
   "execution_count": 5,
   "metadata": {},
   "outputs": [
    {
     "name": "stdout",
     "output_type": "stream",
     "text": [
      " 0.001    2\n",
      "-0.001    1\n",
      "Name: pl, dtype: int64\n",
      "0.001\n"
     ]
    }
   ],
   "source": [
    "pl_list = data['df']['pl'][data['df']['pl'].notnull()]\n",
    "print(pl_list.value_counts())\n",
    "print(sum(pl_list))"
   ]
  },
  {
   "cell_type": "code",
   "execution_count": 6,
   "metadata": {},
   "outputs": [],
   "source": [
    "plot_graph(data)"
   ]
  },
  {
   "cell_type": "code",
   "execution_count": 7,
   "metadata": {},
   "outputs": [],
   "source": [
    "data['df'].to_csv('data/temp.csv')"
   ]
  },
  {
   "cell_type": "code",
   "execution_count": 8,
   "metadata": {},
   "outputs": [],
   "source": [
    "winsound.PlaySound('C:\\\\Windows\\\\Media\\\\tada.wav', winsound.SND_ASYNC)"
   ]
  },
  {
   "cell_type": "code",
   "execution_count": 9,
   "metadata": {},
   "outputs": [],
   "source": [
    "send_telegram_message(f'Run Complete at : {dt.datetime.now()}')"
   ]
  }
 ],
 "metadata": {
  "kernelspec": {
   "display_name": "Python 3",
   "language": "python",
   "name": "python3"
  },
  "language_info": {
   "codemirror_mode": {
    "name": "ipython",
    "version": 3
   },
   "file_extension": ".py",
   "mimetype": "text/x-python",
   "name": "python",
   "nbconvert_exporter": "python",
   "pygments_lexer": "ipython3",
   "version": "3.6.6"
  }
 },
 "nbformat": 4,
 "nbformat_minor": 4
}
