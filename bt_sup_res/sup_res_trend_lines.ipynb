{
 "cells": [
  {
   "cell_type": "markdown",
   "metadata": {},
   "source": [
    "# ML Trader"
   ]
  },
  {
   "cell_type": "code",
   "execution_count": 1,
   "metadata": {
    "scrolled": true
   },
   "outputs": [],
   "source": [
    "from utils.packages import *\n",
    "from utils.variables import *\n",
    "from utils.i_o import *\n",
    "from utils.dir_slope import *\n",
    "from utils.engine import *\n",
    "from utils.loops import *\n",
    "from utils.order import *\n",
    "import winsound"
   ]
  },
  {
   "cell_type": "code",
   "execution_count": 2,
   "metadata": {},
   "outputs": [
    {
     "name": "stdout",
     "output_type": "stream",
     "text": [
      "Record num : 5929\n"
     ]
    }
   ],
   "source": [
    "data = get_date_list(data)\n",
    "data = read_data(data)"
   ]
  },
  {
   "cell_type": "code",
   "execution_count": null,
   "metadata": {
    "scrolled": true
   },
   "outputs": [
    {
     "name": "stderr",
     "output_type": "stream",
     "text": [
      " 31%|███████████▌                         | 1858/5929 [00:05<00:18, 225.16it/s]"
     ]
    }
   ],
   "source": [
    "for data['i'] in tqdm(range(0, data['df_len'])):\n",
    "    \n",
    "    data['df']['DateTime_frmt'][data['i']] = dt.datetime.strptime(data['df']['DateTime'][data['i']].split(\".\")[0],\"%Y%m%d %H:%M:%S\")\n",
    "    \n",
    "    data['ask'] = data['df']['Ask'][data['i']]\n",
    "    data['bid'] = data['df']['Bid'][data['i']]  \n",
    "    \n",
    "    data['tick'] = (data['df']['Ask'][data['i']] + data['df']['Bid'][data['i']])/2\n",
    "    data['df']['tick'][data['i']] = data['tick']\n",
    "        \n",
    "    # sema before after loops --------------------------------\n",
    "    if len(data['sema_list']) < data['sema_len']:\n",
    "        data =  before_sema(data)\n",
    "\n",
    "    if len(data['sema_list']) == data['sema_len']:\n",
    "        data = after_sema(data)                 \n",
    "    # ----------------------------------------------------------\n",
    "    \n",
    "        # sema before after loops --------------------------------\n",
    "    if len(data['sema_list']) < data['sema_len']:\n",
    "        data =  before_sema(data)\n",
    "\n",
    "    if len(data['sema_list']) == data['sema_len']:\n",
    "        data = after_sema(data)                 \n",
    "    # ----------------------------------------------------------\n",
    "\n",
    "\n",
    "    # lema before after loops --------------------------------\n",
    "    if len(data['lema_list']) < data['lema_len']:\n",
    "        data = before_lema(data)        \n",
    "        continue\n",
    "\n",
    "    if len(data['lema_list']) == data['lema_len']:\n",
    "        data = after_lema(data)                  \n",
    "    # ----------------------------------------------------------\n",
    "    \n",
    "    data = get_ohlc(data)    \n",
    "    \n",
    "    data = get_position(data)\n",
    "    if not data['position']:\n",
    "        continue\n",
    "        \n",
    "    # Get Dirs --------------------------------\n",
    "    if len(data['dir_list']) < 2:\n",
    "        data['dir_list'].append(data['position'])   \n",
    "        continue\n",
    "\n",
    "    elif len(data['dir_list']) == 2:\n",
    "        data = get_cross_dir(data)\n",
    "    # ----------------------------------------------------------  \n",
    "    \n",
    "    data = get_trend_lines(data)\n",
    "    data = trend_angle_check(data)"
   ]
  },
  {
   "cell_type": "code",
   "execution_count": null,
   "metadata": {},
   "outputs": [],
   "source": [
    "data['df']"
   ]
  },
  {
   "cell_type": "code",
   "execution_count": null,
   "metadata": {},
   "outputs": [],
   "source": [
    "num_rec = len(data[\"df\"])\n",
    "hours = np.round((list(data['df']['DateTime_frmt'])[-1] - list(data['df']['DateTime_frmt'])[0]).total_seconds() / 60 / 60 , 2)\n",
    "recsphour = int(num_rec/hours)\n",
    "\n",
    "print(f'Records   : {num_rec}')\n",
    "print(f'Hours     : {hours}')\n",
    "print(f'Recs/hour : {recsphour}')\n",
    "print(f'Recs/min  : {int(recsphour/60)}')\n",
    "print(f'Recs/sec  : {np.round(recsphour/3600, 1)}')\n",
    "\n",
    "data['df'].head()"
   ]
  },
  {
   "cell_type": "code",
   "execution_count": null,
   "metadata": {},
   "outputs": [],
   "source": [
    "plot_graph(data)"
   ]
  },
  {
   "cell_type": "code",
   "execution_count": null,
   "metadata": {},
   "outputs": [],
   "source": [
    "data['df'].to_csv('data/temp.csv')"
   ]
  },
  {
   "cell_type": "code",
   "execution_count": null,
   "metadata": {},
   "outputs": [],
   "source": [
    "winsound.PlaySound('C:\\\\Windows\\\\Media\\\\tada.wav', winsound.SND_ASYNC)"
   ]
  }
 ],
 "metadata": {
  "kernelspec": {
   "display_name": "Python 3",
   "language": "python",
   "name": "python3"
  },
  "language_info": {
   "codemirror_mode": {
    "name": "ipython",
    "version": 3
   },
   "file_extension": ".py",
   "mimetype": "text/x-python",
   "name": "python",
   "nbconvert_exporter": "python",
   "pygments_lexer": "ipython3",
   "version": "3.6.6"
  }
 },
 "nbformat": 4,
 "nbformat_minor": 4
}
