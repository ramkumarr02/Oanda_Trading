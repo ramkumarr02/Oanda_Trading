{
 "cells": [
  {
   "cell_type": "markdown",
   "metadata": {},
   "source": [
    "# Oanda Demo Trading Notebook"
   ]
  },
  {
   "cell_type": "markdown",
   "metadata": {},
   "source": [
    "#### Packages"
   ]
  },
  {
   "cell_type": "markdown",
   "metadata": {},
   "source": [
    "Normal Packages"
   ]
  },
  {
   "cell_type": "code",
   "execution_count": 1,
   "metadata": {},
   "outputs": [],
   "source": [
    "import numpy as np\n",
    "import pandas as pd\n",
    "\n",
    "import yaml\n",
    "import json\n",
    "\n",
    "import time\n",
    "import winsound\n",
    "import collections\n",
    "\n",
    "import warnings\n",
    "warnings.filterwarnings('ignore')"
   ]
  },
  {
   "cell_type": "markdown",
   "metadata": {},
   "source": [
    "Oanda Packages"
   ]
  },
  {
   "cell_type": "code",
   "execution_count": 2,
   "metadata": {},
   "outputs": [],
   "source": [
    "from oandapyV20 import API\n",
    "import oandapyV20.endpoints.trades as trades\n",
    "import oandapyV20.endpoints.pricing as pricing\n",
    "import oandapyV20.endpoints.accounts as accounts\n",
    "\n",
    "import oandapyV20.definitions.pricing as defpricing\n",
    "import oandapyV20.endpoints.instruments as instruments"
   ]
  },
  {
   "cell_type": "markdown",
   "metadata": {},
   "source": [
    "#### API Setup"
   ]
  },
  {
   "cell_type": "markdown",
   "metadata": {},
   "source": [
    "Read from config file"
   ]
  },
  {
   "cell_type": "code",
   "execution_count": 3,
   "metadata": {},
   "outputs": [],
   "source": [
    "config_file = 'config/access_token.yaml'\n",
    "\n",
    "with open(config_file) as c_file:\n",
    "    config = yaml.load(c_file)\n",
    "\n",
    "access_token = config['oanda_demo_account']['token']\n",
    "accountID = config['oanda_demo_account']['account_id']\n",
    "\n",
    "api = API(access_token = access_token)"
   ]
  },
  {
   "cell_type": "markdown",
   "metadata": {},
   "source": [
    "#### Retrive Data"
   ]
  },
  {
   "cell_type": "markdown",
   "metadata": {},
   "source": [
    "Get Price details"
   ]
  },
  {
   "cell_type": "code",
   "execution_count": 4,
   "metadata": {
    "scrolled": true
   },
   "outputs": [
    {
     "name": "stdout",
     "output_type": "stream",
     "text": [
      "{\n",
      "  \"time\": \"2020-06-06T13:54:56.539163186Z\",\n",
      "  \"prices\": [\n",
      "    {\n",
      "      \"type\": \"PRICE\",\n",
      "      \"time\": \"2020-06-05T21:02:01.649254403Z\",\n",
      "      \"bids\": [\n",
      "        {\n",
      "          \"price\": \"1.12906\",\n",
      "          \"liquidity\": 1000000\n",
      "        },\n",
      "        {\n",
      "          \"price\": \"1.12905\",\n",
      "          \"liquidity\": 2000000\n",
      "        },\n",
      "        {\n",
      "          \"price\": \"1.12904\",\n",
      "          \"liquidity\": 2000000\n",
      "        },\n",
      "        {\n",
      "          \"price\": \"1.12902\",\n",
      "          \"liquidity\": 5000000\n",
      "        }\n",
      "      ],\n",
      "      \"asks\": [\n",
      "        {\n",
      "          \"price\": \"1.12925\",\n",
      "          \"liquidity\": 1000000\n",
      "        },\n",
      "        {\n",
      "          \"price\": \"1.12927\",\n",
      "          \"liquidity\": 2000000\n",
      "        },\n",
      "        {\n",
      "          \"price\": \"1.12928\",\n",
      "          \"liquidity\": 2000000\n",
      "        },\n",
      "        {\n",
      "          \"price\": \"1.12929\",\n",
      "          \"liquidity\": 5000000\n",
      "        }\n",
      "      ],\n",
      "      \"closeoutBid\": \"1.12902\",\n",
      "      \"closeoutAsk\": \"1.12929\",\n",
      "      \"status\": \"non-tradeable\",\n",
      "      \"tradeable\": false,\n",
      "      \"unitsAvailable\": {\n",
      "        \"default\": {\n",
      "          \"long\": \"1271035\",\n",
      "          \"short\": \"1271035\"\n",
      "        },\n",
      "        \"openOnly\": {\n",
      "          \"long\": \"1271035\",\n",
      "          \"short\": \"1271035\"\n",
      "        },\n",
      "        \"reduceFirst\": {\n",
      "          \"long\": \"1271035\",\n",
      "          \"short\": \"1271035\"\n",
      "        },\n",
      "        \"reduceOnly\": {\n",
      "          \"long\": \"0\",\n",
      "          \"short\": \"0\"\n",
      "        }\n",
      "      },\n",
      "      \"quoteHomeConversionFactors\": {\n",
      "        \"positiveUnits\": \"1.39254000\",\n",
      "        \"negativeUnits\": \"1.39454000\"\n",
      "      },\n",
      "      \"instrument\": \"EUR_USD\"\n",
      "    }\n",
      "  ]\n",
      "}\n"
     ]
    }
   ],
   "source": [
    "params = {\n",
    "    'instruments': 'EUR_USD'\n",
    "}\n",
    "\n",
    "price_info = pricing.PricingInfo(accountID = accountID, params = params)\n",
    "price = api.request(price_info)\n",
    "\n",
    "#print(price)\n",
    "print(json.dumps(price, indent = 2))"
   ]
  },
  {
   "cell_type": "code",
   "execution_count": 5,
   "metadata": {},
   "outputs": [],
   "source": [
    "# Get timestamp of the price and segregate it\n",
    "def get_date_time(resp):\n",
    "    \n",
    "    time_stamp = resp['time']\n",
    "    date_val, full_time = time_stamp.split(sep = 'T')\n",
    "    time_val, time_fraction = full_time.split(sep = '.')\n",
    "    \n",
    "    return(date_val, time_val, time_fraction)"
   ]
  },
  {
   "cell_type": "code",
   "execution_count": 6,
   "metadata": {},
   "outputs": [],
   "source": [
    "# Get bid and ask prices\n",
    "def get_prices(resp):\n",
    "    \n",
    "    bid_price = float(resp['bids'][0]['price'])    \n",
    "    ask_price = float(resp['asks'][0]['price'])\n",
    "    spread = ask_price - bid_price\n",
    "    \n",
    "    return(bid_price, ask_price, spread)"
   ]
  },
  {
   "cell_type": "code",
   "execution_count": 7,
   "metadata": {},
   "outputs": [],
   "source": [
    "# Terminate connection\n",
    "def terminate_connection():\n",
    "    try:\n",
    "        print('Connection Terminated')\n",
    "        r.terminate(message = \"maxrecs records received\")\n",
    "    except:\n",
    "        pass"
   ]
  },
  {
   "cell_type": "code",
   "execution_count": 8,
   "metadata": {},
   "outputs": [],
   "source": [
    "def get_chunks(i, val):\n",
    "    global chunk_size\n",
    "    global small_list\n",
    "    global size_flag\n",
    "    global change_position\n",
    "    \n",
    "    if i < chunk_size: #Keep adding prices until we reach chunk size\n",
    "        small_list.append(val)  \n",
    "\n",
    "    if len(small_list) == chunk_size: #check if small list has reached chunk size\n",
    "        size_flag = 1          \n",
    "        \n",
    "    if size_flag == 1:\n",
    "        small_list.popleft()   #Remove the left most (first) price\n",
    "        small_list.append(val) #Add current value to right most position\n",
    "        \n",
    "        change_position -= 1  #Price allocation in small list happens right to left so change position goes from chunk size to zero\n",
    "        if change_position < 0: \n",
    "            change_position = chunk_size - 1 #If position reaches zero, it needs to be reset to chunk size - 1 (for index position)\n",
    "               \n",
    "    return(small_list)"
   ]
  },
  {
   "cell_type": "code",
   "execution_count": 9,
   "metadata": {},
   "outputs": [],
   "source": [
    "def find_direction(lst):\n",
    "    list_size = len(lst)\n",
    "    val_dict = {}\n",
    "    flag_val = 0\n",
    "\n",
    "    for i in range(list_size): #write the list into a dictionary \n",
    "        val_dict[i] = lst[i]\n",
    "\n",
    "\n",
    "    for i in range(list_size-1):\n",
    "        if val_dict[i] < val_dict[i+1]:\n",
    "            flag_val += 1\n",
    "\n",
    "        elif val_dict[i] == val_dict[i+1]:\n",
    "            flag_val += 0\n",
    "\n",
    "        elif val_dict[i] > val_dict[i+1]:\n",
    "            flag_val -= 1\n",
    "\n",
    "    if flag_val == len(lst) - 1:\n",
    "        direction = 'positive'\n",
    "    elif flag_val == (len(lst) - 1)*-1:\n",
    "        direction = 'negative'\n",
    "    else:\n",
    "        direction = 'no direction'\n",
    "        \n",
    "    return(flag_val, direction)"
   ]
  },
  {
   "cell_type": "code",
   "execution_count": 10,
   "metadata": {
    "scrolled": false
   },
   "outputs": [
    {
     "name": "stdout",
     "output_type": "stream",
     "text": [
      "deque([1]) 0 positive\n",
      "deque([1, 2]) 1 positive\n",
      "deque([2, 3, 3]) 1 no direction\n",
      "deque([3, 3, 4]) 1 no direction\n",
      "deque([3, 4, 5]) 2 positive\n",
      "deque([4, 5, 6]) 2 positive\n",
      "deque([5, 6, 7]) 2 positive\n",
      "deque([6, 7, 8]) 2 positive\n",
      "deque([7, 8, 9]) 2 positive\n",
      "deque([8, 9, 10]) 2 positive\n",
      "deque([9, 10, 11]) 2 positive\n",
      "deque([10, 11, 12]) 2 positive\n",
      "deque([11, 12, 12]) 1 no direction\n",
      "deque([12, 12, 11]) -1 no direction\n",
      "deque([12, 11, 10]) -2 negative\n",
      "deque([11, 10, 9]) -2 negative\n",
      "deque([10, 9, 5]) -2 negative\n",
      "deque([9, 5, 6]) 0 no direction\n",
      "deque([5, 6, 17]) 2 positive\n",
      "deque([6, 17, 25]) 2 positive\n",
      "deque([17, 25, 20]) 0 no direction\n",
      "deque([25, 20, 19]) -2 negative\n",
      "deque([20, 19, 18]) -2 negative\n"
     ]
    }
   ],
   "source": [
    "full_list = [1,2,3,4,5,6,7,8,9,10,11,12,12,11,10,9,5,6,17,25,20,19,18]\n",
    "\n",
    "chunk_size = 3\n",
    "change_position = chunk_size - 1\n",
    "small_list = collections.deque([])\n",
    "size_flag = 0\n",
    "\n",
    "for i, val in enumerate(full_list):\n",
    "    \n",
    "    small_list = get_chunks(i, val)\n",
    "    flag_val, direction = find_direction(small_list)\n",
    "        \n",
    "    print(small_list, flag_val, direction)"
   ]
  },
  {
   "cell_type": "code",
   "execution_count": 11,
   "metadata": {
    "scrolled": false
   },
   "outputs": [
    {
     "name": "stdout",
     "output_type": "stream",
     "text": [
      "Iteration :  0\n",
      "buy_price: 1.12925 , sell_price: 1.12906 , spread(pips): 1.900000000001345\n",
      "----------------------------------------------\n",
      "Iteration :  1\n",
      "HEARTBEAT\n",
      "Iteration :  2\n",
      "HEARTBEAT\n",
      "Iteration :  3\n",
      "HEARTBEAT\n",
      "Connection Terminated\n"
     ]
    }
   ],
   "source": [
    "r = pricing.PricingStream(accountID=accountID, params=params)\n",
    "rv = api.request(r)\n",
    "\n",
    "num = 4\n",
    "bp_list = []\n",
    "sp_list = []\n",
    "\n",
    "for i, resp in enumerate(rv):\n",
    "    if i < num:        \n",
    "        print('Iteration : ',i)\n",
    "        \n",
    "        resp_type = resp['type']        \n",
    "        \n",
    "        if resp_type == 'PRICE':    \n",
    "            date_val, time_val, time_fraction = get_date_time(resp)\n",
    "            sell_price, buy_price, spread = get_prices(resp)          \n",
    "            print('buy_price:',buy_price,',' , 'sell_price:',sell_price, ',', 'spread(pips):',spread*10000)\n",
    "            print('----------------------------------------------')\n",
    "            \n",
    "        else:\n",
    "            print('HEARTBEAT')\n",
    "\n",
    "    else:\n",
    "        terminate_connection()\n",
    "        \n",
    "winsound.PlaySound('C:\\\\Windows\\\\Media\\\\tada.wav', winsound.SND_ASYNC)"
   ]
  },
  {
   "cell_type": "markdown",
   "metadata": {},
   "source": [
    "# 2. fit into full code"
   ]
  }
 ],
 "metadata": {
  "kernelspec": {
   "display_name": "Python 3",
   "language": "python",
   "name": "python3"
  },
  "language_info": {
   "codemirror_mode": {
    "name": "ipython",
    "version": 3
   },
   "file_extension": ".py",
   "mimetype": "text/x-python",
   "name": "python",
   "nbconvert_exporter": "python",
   "pygments_lexer": "ipython3",
   "version": "3.6.6"
  }
 },
 "nbformat": 4,
 "nbformat_minor": 4
}
