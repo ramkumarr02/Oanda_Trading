{
 "cells": [
  {
   "cell_type": "markdown",
   "metadata": {},
   "source": [
    "# Data Preparation"
   ]
  },
  {
   "cell_type": "markdown",
   "metadata": {},
   "source": [
    "## Packages"
   ]
  },
  {
   "cell_type": "code",
   "execution_count": 1,
   "metadata": {
    "scrolled": true
   },
   "outputs": [],
   "source": [
    "import os\n",
    "import winsound\n",
    "import numpy as np\n",
    "import pandas as pd\n",
    "import datetime as dt\n",
    "from tqdm import tqdm\n",
    "tqdm.pandas()\n",
    "from multiprocessing import  Pool\n",
    "import time\n",
    "import imblearn\n",
    "\n",
    "import math, collections\n",
    "from scipy.stats import linregress\n",
    "\n",
    "from matplotlib import pyplot as plt\n",
    "from matplotlib.pyplot import figure\n",
    "\n",
    "import warnings\n",
    "warnings.filterwarnings('ignore')"
   ]
  },
  {
   "cell_type": "code",
   "execution_count": 2,
   "metadata": {},
   "outputs": [],
   "source": [
    "def get_slope(y_axis):\n",
    "    global data\n",
    "    ma_len = len(y_axis)\n",
    "    \n",
    "    x_axis = []\n",
    "    for i in range(ma_len):\n",
    "        x_axis.append(1 + ((i+1) * 0.0001 * 0.1))\n",
    "    \n",
    "    slope_tick, intercept, _, _, _ = linregress(x_axis, y_axis)\n",
    "    slope_tick = math.degrees(math.atan(slope_tick))\n",
    "    \n",
    "    return(slope_tick)"
   ]
  },
  {
   "cell_type": "code",
   "execution_count": 3,
   "metadata": {},
   "outputs": [],
   "source": [
    "def chunk_ticks(df, number_of_ticks):   \n",
    "    global data\n",
    "    \n",
    "    df['tick'] = (df['Bid'] + df['Ask'])/2\n",
    "    df['spread'] = df['Ask'] - df['Bid']\n",
    "    df = df[['tick', 'spread']]\n",
    "    \n",
    "    temp_df = pd.DataFrame()\n",
    "    tick_avg = []\n",
    "    spread_avg = []\n",
    "    tick_sd = []\n",
    "    tick_act = []\n",
    "    \n",
    "    for i in tqdm(range(0,len(df),number_of_ticks)):\n",
    "        tick_list = list(df['tick'][i:i+number_of_ticks])\n",
    "        spread_list = list(df['spread'][i:i+number_of_ticks])\n",
    "        #print(len(tick_list))\n",
    "        tick_act.append(tick_list[-1])              \n",
    "        temp = list(pd.DataFrame(tick_list).ewm(span=len(tick_list)).mean()[0])[len(tick_list) - 1]\n",
    "        tick_avg.append(temp)\n",
    "\n",
    "        spread_avg.append(np.mean(spread_list))\n",
    "        tick_sd.append(np.std(tick_list))\n",
    "        \n",
    "    temp_df['tick_act'] = tick_act      \n",
    "    temp_df['tick_avg'] = tick_avg  \n",
    "    temp_df['spread_avg'] = spread_avg  \n",
    "    temp_df['tick_sd'] = tick_sd  \n",
    "    \n",
    "    return(temp_df)"
   ]
  },
  {
   "cell_type": "code",
   "execution_count": 4,
   "metadata": {},
   "outputs": [],
   "source": [
    "def before_sma():\n",
    "    global data    \n",
    "    data['ssma_list'].append(val)    \n",
    "    return()\n",
    "\n",
    "def after_sma():\n",
    "    global data\n",
    "    \n",
    "    data['ssma_list'].popleft()\n",
    "    data['ssma_list'].append(val)\n",
    "    data['sema'] = list(pd.DataFrame(list(data['ssma_list'])).ewm(span=data['sma_len']).mean()[0])[data['sma_len'] - 1]\n",
    "    \n",
    "    if len(data['sema_ready']) < 2:\n",
    "        data['sema_ready'].append(data['sema'])\n",
    "        data['sema_diff'] = np.nan\n",
    "\n",
    "    elif len(data['sema_ready']) > 1:\n",
    "        data['sema_ready'].popleft()\n",
    "        data['sema_ready'].append(data['sema'])\n",
    "        data['sema_diff'] = data['sema_ready'][-1] - data['sema_ready'][len(data['sema_ready'])-2]\n",
    "    \n",
    "    return()\n",
    "\n",
    "def before_lma():\n",
    "    global data    \n",
    "    data['lsma_list'].append(val)    \n",
    "    return()\n",
    "\n",
    "def after_lma():\n",
    "    global data\n",
    "    \n",
    "    data['lsma_list'].popleft()\n",
    "    data['lsma_list'].append(val)\n",
    "    data['lema'] = list(pd.DataFrame(list(data['lsma_list'])).ewm(span=data['lma_len']).mean()[0])[data['lma_len'] - 1]\n",
    "    \n",
    "    if len(data['lema_ready']) < 2:\n",
    "        data['lema_ready'].append(data['lema'])\n",
    "        data['lema_diff'] = np.nan\n",
    "\n",
    "    elif len(data['lema_ready']) > 1:\n",
    "        data['lema_ready'].popleft()\n",
    "        data['lema_ready'].append(data['lema'])\n",
    "        data['lema_diff'] = data['lema_ready'][-1] - data['lema_ready'][len(data['lema_ready'])-2]\n",
    "    \n",
    "    return()"
   ]
  },
  {
   "cell_type": "code",
   "execution_count": 5,
   "metadata": {},
   "outputs": [],
   "source": [
    "def roll_ma(ma_list):\n",
    "    global data\n",
    "    ma_len = len(ma_list)\n",
    "    sema_val = list(pd.DataFrame(ma_list).ewm(span=ma_len).mean()[0])[ma_len - 1]    \n",
    "    return(sema_val)"
   ]
  },
  {
   "cell_type": "code",
   "execution_count": 6,
   "metadata": {},
   "outputs": [],
   "source": [
    "def print_custom_value_counts(df, target_column, filter_column = None, filter_value = None):    \n",
    "    if filter_column is None and filter_value is None:\n",
    "        print(f'target_column : {target_column}')\n",
    "        g= df[target_column]\n",
    "        print(pd.concat([g.value_counts(), g.value_counts(normalize=True).mul(100)],axis=1, keys=('counts','percentage')))\n",
    "    else:\n",
    "        print(f'{filter_column} : {filter_value}')\n",
    "        g= df.loc[df[filter_column] == filter_value, target_column]\n",
    "        print(pd.concat([g.value_counts(), g.value_counts(normalize=True).mul(100)],axis=1, keys=('counts','percentage')))\n",
    "    print('=======================')"
   ]
  },
  {
   "cell_type": "code",
   "execution_count": 7,
   "metadata": {},
   "outputs": [],
   "source": [
    "def run_data_prep(year):\n",
    "    global data\n",
    "    print(f'-----------------------------------{year}--------------------------------------')\n",
    "    \n",
    "    diff_col = 'sema'\n",
    "    #diff_col = 'tick_avg'\n",
    "\n",
    "    source_file_path = f'data/yearly_tick_data/{year}.csv'\n",
    "    path, file_name = os.path.split(source_file_path)\n",
    "\n",
    "    target_file_name = 'tab_'+file_name\n",
    "    target_file_path = os.path.join(path, target_file_name)\n",
    "\n",
    "    chunk_file_name = 'chunk_'+file_name\n",
    "    chunk_file_path = os.path.join(path, chunk_file_name)\n",
    "\n",
    "    print(f'source_file_path : {source_file_path}')\n",
    "    print(f'chunk_file_path : {chunk_file_path}')\n",
    "    print(f'target_file_path : {target_file_path}')\n",
    "\n",
    "    if data['input_rows'] is None:\n",
    "        df = pd.read_csv(source_file_path)\n",
    "    else:\n",
    "        df = pd.read_csv(source_file_path, nrows=data['input_rows'])\n",
    "    print(f'Total input recs : {len(df)}')\n",
    "    print(\"Data manipulation...\")\n",
    "    df = chunk_ticks(df, data['number_of_ticks'])\n",
    "    df.to_csv(chunk_file_path, index = False)\n",
    "    print(f'Records : {len(df)}')\n",
    "\n",
    "    df = pd.read_csv(chunk_file_path)\n",
    "\n",
    "    data['rs_max'] = 1e6\n",
    "\n",
    "    data['ssma_list'] = collections.deque([])\n",
    "    data['lsma_list'] = collections.deque([])\n",
    "    data['sema_ready'] = collections.deque([])\n",
    "    data['lema_ready'] = collections.deque([])\n",
    "    df['sema'] = ''\n",
    "    df['lema'] = ''\n",
    "    df['sema_diff'] = ''\n",
    "    df['lema_diff'] = ''\n",
    "\n",
    "\n",
    "    # RSI -----------------------------\n",
    "    df['diff'] = df['tick_avg'].diff()\n",
    "    df['gain'] = 0\n",
    "    df['loss'] = 0\n",
    "    df['gain'].loc[df['diff'] > 0] = abs(df['diff'])\n",
    "    df['loss'].loc[df['diff'] < 0] = abs(df['diff'])\n",
    "    df['avg_gain'] = df['gain'].rolling(window=data['rsi_window']).mean()\n",
    "    df['avg_loss'] = df['loss'].rolling(window=data['rsi_window']).mean()\n",
    "    df['rs'] = df['avg_gain']/df['avg_loss']\n",
    "    df['rs'] = df['rs'].where(df['rs'] <= data['rs_max'], data['rs_max']) \n",
    "    df['rsi'] = 100 - (100 / (df['rs'] + 1))\n",
    "\n",
    "    # Simple Moving Averages ------------------\n",
    "    df['ssma'] = df['tick_avg'].rolling(window=data['sma_len']).mean()\n",
    "    df['ssma_diff'] = df['ssma'].diff()\n",
    "    df['lsma'] = df['tick_avg'].rolling(window=data['lma_len']).mean()\n",
    "    df['lsma_diff'] = df['lsma'].diff()\n",
    "    df['sma_diff'] = df['ssma'] - df['lsma']\n",
    "\n",
    "    df['max_tick'] = df['tick_avg'].rolling(window=data['sma_len']).max()\n",
    "    df['min_tick'] = df['tick_avg'].rolling(window=data['sma_len']).min()\n",
    "\n",
    "    df['max_gap'] = df['max_tick'] -  df['tick_avg']\n",
    "    df['min_gap'] = df['min_tick'] - df['tick_avg']\n",
    "\n",
    "    print(\"Emas creation...\")\n",
    "    # Emas ----------------\n",
    "    df['sema'] = df['tick_avg'].rolling(window=data['sma_len']).progress_apply(roll_ma)\n",
    "    df['lema'] = df['tick_avg'].rolling(window=data['lma_len']).progress_apply(roll_ma)\n",
    "\n",
    "    df['sema_diff'] = df['sema'].diff()\n",
    "    df['lema_diff'] = df['lema'].diff()\n",
    "\n",
    "    df['ema_diff'] = df['sema'] - df['lema']\n",
    "\n",
    "    print(\"slope creation...\")\n",
    "    # Slopes -----------------------------\n",
    "    df['small_sema_slope'] = df['sema'].rolling(window=data['sma_len']).progress_apply(get_slope)\n",
    "    df['long_sema_slope'] = df['sema'].rolling(window=data['lma_len']).progress_apply(get_slope)\n",
    "\n",
    "    df['slope_diff'] = df['small_sema_slope'] - df['long_sema_slope']\n",
    "\n",
    "    print('Direction identification...')\n",
    "    df = df.round(5)\n",
    "\n",
    "    # Direction -------------------------\n",
    "    df['direction'] = 'same'\n",
    "    df['direction'].loc[df[diff_col].shift(-1) - df[diff_col] >= data['pip_diff']] = 'increase'\n",
    "    df['direction'].loc[df[diff_col].shift(-1) - df[diff_col] <= -data['pip_diff']] = 'decrease'\n",
    "\n",
    "    # Remove NaNs ------------------------\n",
    "    del df['gain']\n",
    "    del df['loss']\n",
    "    \n",
    "    df = df.dropna()\n",
    "    df = df.reset_index(drop=True)\n",
    "    print(f'Total records : {len(df)}')\n",
    "\n",
    "    df.to_csv(target_file_path, index = False)\n",
    "    #winsound.PlaySound('C:\\\\Windows\\\\Media\\\\tada.wav', winsound.SND_ASYNC)\n",
    "\n",
    "    print_custom_value_counts(df = df, target_column = 'direction')    \n",
    "    \n",
    "    print('Avg Direction -------------------------')\n",
    "    diff_col = 'tick_avg'\n",
    "\n",
    "    df['act_direction'] = 'same'\n",
    "    df['act_direction'].loc[df[diff_col].shift(-1) - df[diff_col] >= data['pip_diff']] = 'increase'\n",
    "    df['act_direction'].loc[df[diff_col].shift(-1) - df[diff_col] <= -data['pip_diff']] = 'decrease'\n",
    "\n",
    "    print_custom_value_counts(df = df, target_column = 'act_direction', filter_column = 'direction', filter_value = 'same')    \n",
    "    print_custom_value_counts(df = df, target_column = 'act_direction', filter_column = 'direction', filter_value = 'increase')\n",
    "    print_custom_value_counts(df = df, target_column = 'act_direction', filter_column = 'direction', filter_value = 'decrease')\n",
    "\n",
    "    print('\\n')\n",
    "    df['tick_act_direction'] = df['act_direction']\n",
    "    del df['act_direction']    \n",
    "\n",
    "    print('Act Direction -------------------------')\n",
    "    diff_col = 'tick_act'\n",
    "\n",
    "    df['act_direction'] = 'same'\n",
    "    df['act_direction'].loc[df[diff_col].shift(-1) - df[diff_col] >= data['pip_diff']] = 'increase'\n",
    "    df['act_direction'].loc[df[diff_col].shift(-1) - df[diff_col] <= -data['pip_diff']] = 'decrease'\n",
    "\n",
    "    print_custom_value_counts(df = df, target_column = 'act_direction', filter_column = 'direction', filter_value = 'same')\n",
    "    print_custom_value_counts(df = df, target_column = 'act_direction', filter_column = 'direction', filter_value = 'increase')\n",
    "    print_custom_value_counts(df = df, target_column = 'act_direction', filter_column = 'direction', filter_value = 'decrease')\n",
    "\n",
    "\n",
    "    print('\\n')\n",
    "    #del df['act_direction']\n",
    "    print(f'-----------------------------------{year}--------------------------------------')\n",
    "    return()"
   ]
  },
  {
   "cell_type": "code",
   "execution_count": 8,
   "metadata": {},
   "outputs": [],
   "source": [
    "data = {}\n",
    "data['number_of_ticks']   = 300\n",
    "data['rsi_window']        = 14\n",
    "data['sma_len']           = 5\n",
    "data['lma_len']           = 10\n",
    "data['pip_diff']          = 0.00012\n",
    "\n",
    "#data['input_rows']        = 5_000_000\n",
    "data['input_rows']        = None\n",
    "\n",
    "#train_files = [2019]\n",
    "train_files = [2003, 2004, 2005, 2006, 2007, 2008, 2009, 2010, 2011, 2012, 2013, 2014, 2015, 2016, 2017, 2018, 2019, 2020]"
   ]
  },
  {
   "cell_type": "code",
   "execution_count": 9,
   "metadata": {
    "scrolled": true
   },
   "outputs": [
    {
     "name": "stdout",
     "output_type": "stream",
     "text": [
      "-----------------------------------2003--------------------------------------\n",
      "source_file_path : data/yearly_tick_data/2003.csv\n",
      "chunk_file_path : data/yearly_tick_data\\chunk_2003.csv\n",
      "target_file_path : data/yearly_tick_data\\tab_2003.csv\n",
      "Total input recs : 6993511\n",
      "Data manipulation...\n"
     ]
    },
    {
     "name": "stderr",
     "output_type": "stream",
     "text": [
      "100%|██████████████████████████████████████████████████████████████████████████████████████████| 23312/23312 [00:30<00:00, 771.11it/s]\n",
      "216it [00:00, 1059.78it/s]"
     ]
    },
    {
     "name": "stdout",
     "output_type": "stream",
     "text": [
      "Records : 23312\n",
      "Emas creation...\n"
     ]
    },
    {
     "name": "stderr",
     "output_type": "stream",
     "text": [
      "23308it [00:22, 1035.70it/s]\n",
      "23303it [00:22, 1037.10it/s]\n",
      "339it [00:00, 3364.37it/s]"
     ]
    },
    {
     "name": "stdout",
     "output_type": "stream",
     "text": [
      "slope creation...\n"
     ]
    },
    {
     "name": "stderr",
     "output_type": "stream",
     "text": [
      "23304it [00:06, 3375.48it/s]\n",
      "23299it [00:06, 3350.63it/s]\n"
     ]
    },
    {
     "name": "stdout",
     "output_type": "stream",
     "text": [
      "Direction identification...\n",
      "Total records : 23299\n",
      "target_column : direction\n",
      "          counts  percentage\n",
      "same       12810   54.980900\n",
      "increase    5310   22.790678\n",
      "decrease    5179   22.228422\n",
      "=======================\n",
      "Avg Direction -------------------------\n",
      "direction : same\n",
      "          counts  percentage\n",
      "same        7365   57.494145\n",
      "decrease    2748   21.451991\n",
      "increase    2697   21.053864\n",
      "=======================\n",
      "direction : increase\n",
      "          counts  percentage\n",
      "increase    3790   71.374765\n",
      "same        1098   20.677966\n",
      "decrease     422    7.947269\n",
      "=======================\n",
      "direction : decrease\n",
      "          counts  percentage\n",
      "decrease    3716   71.751303\n",
      "same        1060   20.467272\n",
      "increase     403    7.781425\n",
      "=======================\n",
      "\n",
      "\n",
      "Act Direction -------------------------\n",
      "direction : same\n",
      "          counts  percentage\n",
      "same        4542   35.456674\n",
      "increase    4166   32.521468\n",
      "decrease    4102   32.021858\n",
      "=======================\n",
      "direction : increase\n",
      "          counts  percentage\n",
      "increase    3147   59.265537\n",
      "same        1085   20.433145\n",
      "decrease    1078   20.301318\n",
      "=======================\n",
      "direction : decrease\n",
      "          counts  percentage\n",
      "decrease    3060   59.084765\n",
      "same        1085   20.949990\n",
      "increase    1034   19.965244\n",
      "=======================\n",
      "\n",
      "\n",
      "-----------------------------------2003--------------------------------------\n",
      "-----------------------------------2004--------------------------------------\n",
      "source_file_path : data/yearly_tick_data/2004.csv\n",
      "chunk_file_path : data/yearly_tick_data\\chunk_2004.csv\n",
      "target_file_path : data/yearly_tick_data\\tab_2004.csv\n",
      "Total input recs : 10862067\n",
      "Data manipulation...\n"
     ]
    },
    {
     "name": "stderr",
     "output_type": "stream",
     "text": [
      "100%|██████████████████████████████████████████████████████████████████████████████████████████| 36207/36207 [00:48<00:00, 744.83it/s]\n",
      "104it [00:00, 1032.55it/s]"
     ]
    },
    {
     "name": "stdout",
     "output_type": "stream",
     "text": [
      "Records : 36207\n",
      "Emas creation...\n"
     ]
    },
    {
     "name": "stderr",
     "output_type": "stream",
     "text": [
      "36203it [00:35, 1018.93it/s]\n",
      "36198it [00:34, 1043.54it/s]\n",
      "656it [00:00, 3263.02it/s]"
     ]
    },
    {
     "name": "stdout",
     "output_type": "stream",
     "text": [
      "slope creation...\n"
     ]
    },
    {
     "name": "stderr",
     "output_type": "stream",
     "text": [
      "36199it [00:10, 3293.60it/s]\n",
      "36194it [00:10, 3313.77it/s]\n"
     ]
    },
    {
     "name": "stdout",
     "output_type": "stream",
     "text": [
      "Direction identification...\n",
      "Total records : 36194\n",
      "target_column : direction\n",
      "          counts  percentage\n",
      "same       18742   51.782063\n",
      "increase    8845   24.437752\n",
      "decrease    8607   23.780185\n",
      "=======================\n",
      "Avg Direction -------------------------\n",
      "direction : same\n",
      "          counts  percentage\n",
      "same        9460   50.474869\n",
      "decrease    4679   24.965319\n",
      "increase    4603   24.559812\n",
      "=======================\n",
      "direction : increase\n",
      "          counts  percentage\n",
      "increase    6635   75.014132\n",
      "same        1483   16.766535\n",
      "decrease     727    8.219333\n",
      "=======================\n",
      "direction : decrease\n",
      "          counts  percentage\n",
      "decrease    6491   75.415360\n",
      "same        1405   16.323922\n",
      "increase     711    8.260718\n",
      "=======================\n",
      "\n",
      "\n",
      "Act Direction -------------------------\n",
      "direction : same\n",
      "          counts  percentage\n",
      "same        6463   34.484047\n",
      "decrease    6161   32.872692\n",
      "increase    6118   32.643261\n",
      "=======================\n",
      "direction : increase\n",
      "          counts  percentage\n",
      "increase    5490   62.068966\n",
      "decrease    1802   20.373092\n",
      "same        1553   17.557942\n",
      "=======================\n",
      "direction : decrease\n",
      "          counts  percentage\n",
      "decrease    5334   61.972813\n",
      "increase    1817   21.110724\n",
      "same        1456   16.916463\n",
      "=======================\n",
      "\n",
      "\n",
      "-----------------------------------2004--------------------------------------\n",
      "-----------------------------------2005--------------------------------------\n",
      "source_file_path : data/yearly_tick_data/2005.csv\n",
      "chunk_file_path : data/yearly_tick_data\\chunk_2005.csv\n",
      "target_file_path : data/yearly_tick_data\\tab_2005.csv\n",
      "Total input recs : 10648340\n",
      "Data manipulation...\n"
     ]
    },
    {
     "name": "stderr",
     "output_type": "stream",
     "text": [
      "100%|██████████████████████████████████████████████████████████████████████████████████████████| 35495/35495 [00:47<00:00, 752.66it/s]\n",
      "97it [00:00, 962.95it/s]"
     ]
    },
    {
     "name": "stdout",
     "output_type": "stream",
     "text": [
      "Records : 35495\n",
      "Emas creation...\n"
     ]
    },
    {
     "name": "stderr",
     "output_type": "stream",
     "text": [
      "35491it [00:34, 1031.21it/s]\n",
      "35486it [00:34, 1027.72it/s]\n",
      "296it [00:00, 2939.43it/s]"
     ]
    },
    {
     "name": "stdout",
     "output_type": "stream",
     "text": [
      "slope creation...\n"
     ]
    },
    {
     "name": "stderr",
     "output_type": "stream",
     "text": [
      "35487it [00:10, 3267.82it/s]\n",
      "35482it [00:10, 3305.38it/s]\n"
     ]
    },
    {
     "name": "stdout",
     "output_type": "stream",
     "text": [
      "Direction identification...\n",
      "Total records : 35482\n",
      "target_column : direction\n",
      "          counts  percentage\n",
      "same       19623   55.304098\n",
      "decrease    8071   22.746745\n",
      "increase    7788   21.949157\n",
      "=======================\n",
      "Avg Direction -------------------------\n",
      "direction : same\n",
      "          counts  percentage\n",
      "same       10165   51.801457\n",
      "decrease    4757   24.241961\n",
      "increase    4701   23.956582\n",
      "=======================\n",
      "direction : increase\n",
      "          counts  percentage\n",
      "increase    5887   75.590652\n",
      "same        1290   16.563945\n",
      "decrease     611    7.845403\n",
      "=======================\n",
      "direction : decrease\n",
      "          counts  percentage\n",
      "decrease    6105   75.641184\n",
      "same        1393   17.259324\n",
      "increase     573    7.099492\n",
      "=======================\n",
      "\n",
      "\n",
      "Act Direction -------------------------\n",
      "direction : same\n",
      "          counts  percentage\n",
      "same        6999   35.667329\n",
      "decrease    6389   32.558732\n",
      "increase    6235   31.773939\n",
      "=======================\n",
      "direction : increase\n",
      "          counts  percentage\n",
      "increase    4868   62.506420\n",
      "decrease    1538   19.748331\n",
      "same        1382   17.745249\n",
      "=======================\n",
      "direction : decrease\n",
      "          counts  percentage\n",
      "decrease    5034   62.371453\n",
      "increase    1563   19.365630\n",
      "same        1474   18.262917\n",
      "=======================\n",
      "\n",
      "\n",
      "-----------------------------------2005--------------------------------------\n",
      "-----------------------------------2006--------------------------------------\n",
      "source_file_path : data/yearly_tick_data/2006.csv\n",
      "chunk_file_path : data/yearly_tick_data\\chunk_2006.csv\n",
      "target_file_path : data/yearly_tick_data\\tab_2006.csv\n",
      "Total input recs : 13980850\n",
      "Data manipulation...\n"
     ]
    },
    {
     "name": "stderr",
     "output_type": "stream",
     "text": [
      "100%|██████████████████████████████████████████████████████████████████████████████████████████| 46603/46603 [01:02<00:00, 749.65it/s]\n",
      "102it [00:00, 1014.87it/s]"
     ]
    },
    {
     "name": "stdout",
     "output_type": "stream",
     "text": [
      "Records : 46603\n",
      "Emas creation...\n"
     ]
    },
    {
     "name": "stderr",
     "output_type": "stream",
     "text": [
      "46599it [00:43, 1074.19it/s]\n",
      "46594it [00:43, 1083.46it/s]\n",
      "334it [00:00, 3314.71it/s]"
     ]
    },
    {
     "name": "stdout",
     "output_type": "stream",
     "text": [
      "slope creation...\n"
     ]
    },
    {
     "name": "stderr",
     "output_type": "stream",
     "text": [
      "46595it [00:13, 3350.23it/s]\n",
      "46590it [00:14, 3326.57it/s]\n"
     ]
    },
    {
     "name": "stdout",
     "output_type": "stream",
     "text": [
      "Direction identification...\n",
      "Total records : 46590\n",
      "target_column : direction\n",
      "          counts  percentage\n",
      "same       31389   67.372827\n",
      "increase    7763   16.662374\n",
      "decrease    7438   15.964799\n",
      "=======================\n",
      "Avg Direction -------------------------\n",
      "direction : same\n",
      "          counts  percentage\n",
      "same       19912   63.436236\n",
      "decrease    5815   18.525598\n",
      "increase    5662   18.038166\n",
      "=======================\n",
      "direction : increase\n",
      "          counts  percentage\n",
      "increase    5791   74.597449\n",
      "same        1449   18.665464\n",
      "decrease     523    6.737086\n",
      "=======================\n",
      "direction : decrease\n",
      "          counts  percentage\n",
      "decrease    5526   74.294165\n",
      "same        1403   18.862597\n",
      "increase     509    6.843237\n",
      "=======================\n",
      "\n",
      "\n",
      "Act Direction -------------------------\n",
      "direction : same\n",
      "          counts  percentage\n",
      "same       14929   47.561248\n",
      "decrease    8247   26.273535\n",
      "increase    8213   26.165217\n",
      "=======================\n",
      "direction : increase\n",
      "          counts  percentage\n",
      "increase    4739   61.045987\n",
      "same        1748   22.517068\n",
      "decrease    1276   16.436944\n",
      "=======================\n",
      "direction : decrease\n",
      "          counts  percentage\n",
      "decrease    4527   60.863135\n",
      "same        1560   20.973380\n",
      "increase    1351   18.163485\n",
      "=======================\n",
      "\n",
      "\n",
      "-----------------------------------2006--------------------------------------\n",
      "-----------------------------------2007--------------------------------------\n",
      "source_file_path : data/yearly_tick_data/2007.csv\n",
      "chunk_file_path : data/yearly_tick_data\\chunk_2007.csv\n",
      "target_file_path : data/yearly_tick_data\\tab_2007.csv\n",
      "Total input recs : 19166446\n",
      "Data manipulation...\n"
     ]
    },
    {
     "name": "stderr",
     "output_type": "stream",
     "text": [
      "100%|██████████████████████████████████████████████████████████████████████████████████████████| 63889/63889 [01:24<00:00, 757.34it/s]\n",
      "0it [00:00, ?it/s]"
     ]
    },
    {
     "name": "stdout",
     "output_type": "stream",
     "text": [
      "Records : 63889\n",
      "Emas creation...\n"
     ]
    },
    {
     "name": "stderr",
     "output_type": "stream",
     "text": [
      "63885it [01:02, 1024.26it/s]\n",
      "63880it [01:02, 1028.30it/s]\n",
      "324it [00:00, 3234.15it/s]"
     ]
    },
    {
     "name": "stdout",
     "output_type": "stream",
     "text": [
      "slope creation...\n"
     ]
    },
    {
     "name": "stderr",
     "output_type": "stream",
     "text": [
      "63881it [00:19, 3283.99it/s]\n",
      "63876it [00:19, 3307.11it/s]\n"
     ]
    },
    {
     "name": "stdout",
     "output_type": "stream",
     "text": [
      "Direction identification...\n",
      "Total records : 63876\n",
      "target_column : direction\n",
      "          counts  percentage\n",
      "same       44769   70.087357\n",
      "increase    9852   15.423633\n",
      "decrease    9255   14.489010\n",
      "=======================\n",
      "Avg Direction -------------------------\n",
      "direction : same\n",
      "          counts  percentage\n",
      "same       27635   61.727981\n",
      "decrease    8590   19.187384\n",
      "increase    8544   19.084634\n",
      "=======================\n",
      "direction : increase\n",
      "          counts  percentage\n",
      "increase    7313   74.228583\n",
      "same        2108   21.396671\n",
      "decrease     431    4.374746\n",
      "=======================\n",
      "direction : decrease\n",
      "          counts  percentage\n",
      "decrease    7008   75.721232\n",
      "same        1827   19.740681\n",
      "increase     420    4.538088\n",
      "=======================\n",
      "\n",
      "\n",
      "Act Direction -------------------------\n",
      "direction : same\n",
      "          counts  percentage\n",
      "same       19143   42.759499\n",
      "increase   12874   28.756506\n",
      "decrease   12752   28.483996\n",
      "=======================\n",
      "direction : increase\n",
      "          counts  percentage\n",
      "increase    5999   60.891190\n",
      "same        2291   23.254162\n",
      "decrease    1562   15.854649\n",
      "=======================\n",
      "direction : decrease\n",
      "          counts  percentage\n",
      "decrease    5571   60.194489\n",
      "same        2246   24.267963\n",
      "increase    1438   15.537547\n",
      "=======================\n",
      "\n",
      "\n",
      "-----------------------------------2007--------------------------------------\n",
      "-----------------------------------2008--------------------------------------\n",
      "source_file_path : data/yearly_tick_data/2008.csv\n",
      "chunk_file_path : data/yearly_tick_data\\chunk_2008.csv\n",
      "target_file_path : data/yearly_tick_data\\tab_2008.csv\n",
      "Total input recs : 28708914\n",
      "Data manipulation...\n"
     ]
    },
    {
     "name": "stderr",
     "output_type": "stream",
     "text": [
      "100%|██████████████████████████████████████████████████████████████████████████████████████████| 95697/95697 [02:07<00:00, 748.40it/s]\n",
      "0it [00:00, ?it/s]"
     ]
    },
    {
     "name": "stdout",
     "output_type": "stream",
     "text": [
      "Records : 95697\n",
      "Emas creation...\n"
     ]
    },
    {
     "name": "stderr",
     "output_type": "stream",
     "text": [
      "95693it [01:30, 1052.69it/s]\n",
      "95688it [01:32, 1031.21it/s]\n",
      "657it [00:00, 3281.88it/s]"
     ]
    },
    {
     "name": "stdout",
     "output_type": "stream",
     "text": [
      "slope creation...\n"
     ]
    },
    {
     "name": "stderr",
     "output_type": "stream",
     "text": [
      "95689it [00:29, 3268.80it/s]\n",
      "95684it [00:29, 3276.82it/s]\n"
     ]
    },
    {
     "name": "stdout",
     "output_type": "stream",
     "text": [
      "Direction identification...\n",
      "Total records : 95684\n",
      "target_column : direction\n",
      "          counts  percentage\n",
      "same       45432   47.481293\n",
      "increase   25311   26.452698\n",
      "decrease   24941   26.066009\n",
      "=======================\n",
      "Avg Direction -------------------------\n",
      "direction : same\n",
      "          counts  percentage\n",
      "same       21880   48.159887\n",
      "increase   11838   26.056524\n",
      "decrease   11714   25.783589\n",
      "=======================\n",
      "direction : increase\n",
      "          counts  percentage\n",
      "increase   19027   75.172850\n",
      "same        4113   16.249852\n",
      "decrease    2171    8.577298\n",
      "=======================\n",
      "direction : decrease\n",
      "          counts  percentage\n",
      "decrease   18771   75.261617\n",
      "same        4028   16.150114\n",
      "increase    2142    8.588268\n",
      "=======================\n",
      "\n",
      "\n",
      "Act Direction -------------------------\n",
      "direction : same\n",
      "          counts  percentage\n",
      "increase   15400   33.896813\n",
      "decrease   15203   33.463198\n",
      "same       14829   32.639989\n",
      "=======================\n",
      "direction : increase\n",
      "          counts  percentage\n",
      "increase   15777   62.332583\n",
      "decrease    5243   20.714314\n",
      "same        4291   16.953103\n",
      "=======================\n",
      "direction : decrease\n",
      "          counts  percentage\n",
      "decrease   15620   62.627802\n",
      "increase    5103   20.460286\n",
      "same        4218   16.911912\n",
      "=======================\n",
      "\n",
      "\n",
      "-----------------------------------2008--------------------------------------\n",
      "-----------------------------------2009--------------------------------------\n",
      "source_file_path : data/yearly_tick_data/2009.csv\n",
      "chunk_file_path : data/yearly_tick_data\\chunk_2009.csv\n",
      "target_file_path : data/yearly_tick_data\\tab_2009.csv\n",
      "Total input recs : 14159451\n",
      "Data manipulation...\n"
     ]
    },
    {
     "name": "stderr",
     "output_type": "stream",
     "text": [
      "100%|██████████████████████████████████████████████████████████████████████████████████████████| 47199/47199 [01:03<00:00, 739.54it/s]\n",
      "106it [00:00, 1052.30it/s]"
     ]
    },
    {
     "name": "stdout",
     "output_type": "stream",
     "text": [
      "Records : 47199\n",
      "Emas creation...\n"
     ]
    },
    {
     "name": "stderr",
     "output_type": "stream",
     "text": [
      "47195it [00:45, 1041.99it/s]\n",
      "47190it [00:45, 1045.57it/s]\n",
      "339it [00:00, 3364.34it/s]"
     ]
    },
    {
     "name": "stdout",
     "output_type": "stream",
     "text": [
      "slope creation...\n"
     ]
    },
    {
     "name": "stderr",
     "output_type": "stream",
     "text": [
      "47191it [00:14, 3318.01it/s]\n",
      "47186it [00:14, 3303.99it/s]\n"
     ]
    },
    {
     "name": "stdout",
     "output_type": "stream",
     "text": [
      "Direction identification...\n",
      "Total records : 47186\n",
      "target_column : direction\n",
      "          counts  percentage\n",
      "increase   16951   35.923791\n",
      "decrease   16374   34.700971\n",
      "same       13861   29.375238\n",
      "=======================\n",
      "Avg Direction -------------------------\n",
      "direction : same\n",
      "          counts  percentage\n",
      "increase    5007   36.122935\n",
      "decrease    4937   35.617921\n",
      "same        3917   28.259144\n",
      "=======================\n",
      "direction : increase\n",
      "          counts  percentage\n",
      "increase   12859   75.859831\n",
      "same        2247   13.255855\n",
      "decrease    1845   10.884314\n",
      "=======================\n",
      "direction : decrease\n",
      "          counts  percentage\n",
      "decrease   12397   75.711494\n",
      "same        2134   13.032857\n",
      "increase    1843   11.255649\n",
      "=======================\n",
      "\n",
      "\n",
      "Act Direction -------------------------\n",
      "direction : same\n",
      "          counts  percentage\n",
      "increase    5598   40.386696\n",
      "decrease    5405   38.994301\n",
      "same        2858   20.619003\n",
      "=======================\n",
      "direction : increase\n",
      "          counts  percentage\n",
      "increase   10902   64.314790\n",
      "decrease    3977   23.461743\n",
      "same        2072   12.223468\n",
      "=======================\n",
      "direction : decrease\n",
      "          counts  percentage\n",
      "decrease   10515   64.217662\n",
      "increase    3964   24.209112\n",
      "same        1895   11.573226\n",
      "=======================\n",
      "\n",
      "\n",
      "-----------------------------------2009--------------------------------------\n",
      "-----------------------------------2010--------------------------------------\n",
      "source_file_path : data/yearly_tick_data/2010.csv\n",
      "chunk_file_path : data/yearly_tick_data\\chunk_2010.csv\n",
      "target_file_path : data/yearly_tick_data\\tab_2010.csv\n",
      "Total input recs : 8270543\n",
      "Data manipulation...\n"
     ]
    },
    {
     "name": "stderr",
     "output_type": "stream",
     "text": [
      "100%|██████████████████████████████████████████████████████████████████████████████████████████| 27569/27569 [00:35<00:00, 778.38it/s]\n",
      "222it [00:00, 1082.88it/s]"
     ]
    },
    {
     "name": "stdout",
     "output_type": "stream",
     "text": [
      "Records : 27569\n",
      "Emas creation...\n"
     ]
    },
    {
     "name": "stderr",
     "output_type": "stream",
     "text": [
      "27565it [00:25, 1061.19it/s]\n",
      "27560it [00:26, 1027.26it/s]\n",
      "338it [00:00, 3372.45it/s]"
     ]
    },
    {
     "name": "stdout",
     "output_type": "stream",
     "text": [
      "slope creation...\n"
     ]
    },
    {
     "name": "stderr",
     "output_type": "stream",
     "text": [
      "27561it [00:08, 3288.71it/s]\n",
      "27556it [00:08, 3322.58it/s]\n"
     ]
    },
    {
     "name": "stdout",
     "output_type": "stream",
     "text": [
      "Direction identification...\n",
      "Total records : 27556\n",
      "target_column : direction\n",
      "          counts  percentage\n",
      "decrease    9780   35.491363\n",
      "increase    9556   34.678473\n",
      "same        8220   29.830164\n",
      "=======================\n",
      "Avg Direction -------------------------\n",
      "direction : same\n",
      "          counts  percentage\n",
      "increase    2986   36.326034\n",
      "decrease    2920   35.523114\n",
      "same        2314   28.150852\n",
      "=======================\n",
      "direction : increase\n",
      "          counts  percentage\n",
      "increase    7174   75.073252\n",
      "same        1301   13.614483\n",
      "decrease    1081   11.312265\n",
      "=======================\n",
      "direction : decrease\n",
      "          counts  percentage\n",
      "decrease    7451   76.186094\n",
      "same        1184   12.106339\n",
      "increase    1145   11.707566\n",
      "=======================\n",
      "\n",
      "\n",
      "Act Direction -------------------------\n",
      "direction : same\n",
      "          counts  percentage\n",
      "increase    3443   41.885645\n",
      "decrease    3327   40.474453\n",
      "same        1450   17.639903\n",
      "=======================\n",
      "direction : increase\n",
      "          counts  percentage\n",
      "increase    6028   63.080787\n",
      "decrease    2370   24.801172\n",
      "same        1158   12.118041\n",
      "=======================\n",
      "direction : decrease\n",
      "          counts  percentage\n",
      "decrease    6305   64.468303\n",
      "increase    2346   23.987730\n",
      "same        1129   11.543967\n",
      "=======================\n",
      "\n",
      "\n",
      "-----------------------------------2010--------------------------------------\n",
      "-----------------------------------2011--------------------------------------\n",
      "source_file_path : data/yearly_tick_data/2011.csv\n",
      "chunk_file_path : data/yearly_tick_data\\chunk_2011.csv\n",
      "target_file_path : data/yearly_tick_data\\tab_2011.csv\n",
      "Total input recs : 25793802\n",
      "Data manipulation...\n"
     ]
    },
    {
     "name": "stderr",
     "output_type": "stream",
     "text": [
      "100%|██████████████████████████████████████████████████████████████████████████████████████████| 85980/85980 [01:58<00:00, 726.28it/s]\n",
      "0it [00:00, ?it/s]"
     ]
    },
    {
     "name": "stdout",
     "output_type": "stream",
     "text": [
      "Records : 85980\n",
      "Emas creation...\n"
     ]
    },
    {
     "name": "stderr",
     "output_type": "stream",
     "text": [
      "85976it [01:25, 999.98it/s] \n",
      "85971it [01:23, 1031.86it/s]\n",
      "309it [00:00, 3066.86it/s]"
     ]
    },
    {
     "name": "stdout",
     "output_type": "stream",
     "text": [
      "slope creation...\n"
     ]
    },
    {
     "name": "stderr",
     "output_type": "stream",
     "text": [
      "85972it [00:25, 3331.10it/s]\n",
      "85967it [00:25, 3392.06it/s]\n"
     ]
    },
    {
     "name": "stdout",
     "output_type": "stream",
     "text": [
      "Direction identification...\n",
      "Total records : 85967\n",
      "target_column : direction\n",
      "          counts  percentage\n",
      "same       33754   39.263904\n",
      "decrease   26282   30.572196\n",
      "increase   25931   30.163900\n",
      "=======================\n",
      "Avg Direction -------------------------\n",
      "direction : same\n",
      "          counts  percentage\n",
      "same       11374   33.696747\n",
      "decrease   11197   33.172365\n",
      "increase   11183   33.130888\n",
      "=======================\n",
      "direction : increase\n",
      "          counts  percentage\n",
      "increase   19726   76.071112\n",
      "same        4207   16.223825\n",
      "decrease    1998    7.705063\n",
      "=======================\n",
      "direction : decrease\n",
      "          counts  percentage\n",
      "decrease   20146   76.653223\n",
      "same        4100   15.600030\n",
      "increase    2036    7.746747\n",
      "=======================\n",
      "\n",
      "\n",
      "Act Direction -------------------------\n",
      "direction : same\n",
      "          counts  percentage\n",
      "increase   12902   38.223618\n",
      "decrease   12737   37.734787\n",
      "same        8115   24.041595\n",
      "=======================\n",
      "direction : increase\n",
      "          counts  percentage\n",
      "increase   16629   64.127878\n",
      "decrease    4983   19.216382\n",
      "same        4319   16.655740\n",
      "=======================\n",
      "direction : decrease\n",
      "          counts  percentage\n",
      "decrease   16864   64.165589\n",
      "increase    5035   19.157598\n",
      "same        4383   16.676813\n",
      "=======================\n",
      "\n",
      "\n",
      "-----------------------------------2011--------------------------------------\n",
      "-----------------------------------2012--------------------------------------\n",
      "source_file_path : data/yearly_tick_data/2012.csv\n",
      "chunk_file_path : data/yearly_tick_data\\chunk_2012.csv\n",
      "target_file_path : data/yearly_tick_data\\tab_2012.csv\n",
      "Total input recs : 23415313\n",
      "Data manipulation...\n"
     ]
    },
    {
     "name": "stderr",
     "output_type": "stream",
     "text": [
      "100%|██████████████████████████████████████████████████████████████████████████████████████████| 78052/78052 [01:38<00:00, 792.70it/s]\n",
      "0it [00:00, ?it/s]"
     ]
    },
    {
     "name": "stdout",
     "output_type": "stream",
     "text": [
      "Records : 78052\n",
      "Emas creation...\n"
     ]
    },
    {
     "name": "stderr",
     "output_type": "stream",
     "text": [
      "78048it [01:12, 1071.02it/s]\n",
      "78043it [01:14, 1042.84it/s]\n",
      "327it [00:00, 3245.39it/s]"
     ]
    },
    {
     "name": "stdout",
     "output_type": "stream",
     "text": [
      "slope creation...\n"
     ]
    },
    {
     "name": "stderr",
     "output_type": "stream",
     "text": [
      "78044it [00:23, 3281.39it/s]\n",
      "78039it [00:23, 3351.42it/s]\n"
     ]
    },
    {
     "name": "stdout",
     "output_type": "stream",
     "text": [
      "Direction identification...\n",
      "Total records : 78039\n",
      "target_column : direction\n",
      "          counts  percentage\n",
      "same       41932   53.732108\n",
      "decrease   18102   23.196094\n",
      "increase   18005   23.071797\n",
      "=======================\n",
      "Avg Direction -------------------------\n",
      "direction : same\n",
      "          counts  percentage\n",
      "same       18539   44.212058\n",
      "decrease   11698   27.897548\n",
      "increase   11695   27.890394\n",
      "=======================\n",
      "direction : increase\n",
      "          counts  percentage\n",
      "increase   13711   76.151069\n",
      "same        3481   19.333518\n",
      "decrease     813    4.515412\n",
      "=======================\n",
      "direction : decrease\n",
      "          counts  percentage\n",
      "decrease   13908   76.831289\n",
      "same        3404   18.804552\n",
      "increase     790    4.364159\n",
      "=======================\n",
      "\n",
      "\n",
      "Act Direction -------------------------\n",
      "direction : same\n",
      "          counts  percentage\n",
      "decrease   14086   33.592483\n",
      "increase   14071   33.556711\n",
      "same       13775   32.850806\n",
      "=======================\n",
      "direction : increase\n",
      "          counts  percentage\n",
      "increase   11308   62.804776\n",
      "same        3930   21.827270\n",
      "decrease    2767   15.367953\n",
      "=======================\n",
      "direction : decrease\n",
      "          counts  percentage\n",
      "decrease   11456   63.285825\n",
      "same        3875   21.406474\n",
      "increase    2771   15.307701\n",
      "=======================\n",
      "\n",
      "\n",
      "-----------------------------------2012--------------------------------------\n",
      "-----------------------------------2013--------------------------------------\n",
      "source_file_path : data/yearly_tick_data/2013.csv\n",
      "chunk_file_path : data/yearly_tick_data\\chunk_2013.csv\n",
      "target_file_path : data/yearly_tick_data\\tab_2013.csv\n",
      "Total input recs : 18623746\n",
      "Data manipulation...\n"
     ]
    },
    {
     "name": "stderr",
     "output_type": "stream",
     "text": [
      "100%|██████████████████████████████████████████████████████████████████████████████████████████| 62080/62080 [01:20<00:00, 772.09it/s]\n",
      "106it [00:00, 1059.78it/s]"
     ]
    },
    {
     "name": "stdout",
     "output_type": "stream",
     "text": [
      "Records : 62080\n",
      "Emas creation...\n"
     ]
    },
    {
     "name": "stderr",
     "output_type": "stream",
     "text": [
      "62076it [00:59, 1048.12it/s]\n",
      "62071it [00:58, 1059.16it/s]\n",
      "650it [00:00, 3249.31it/s]"
     ]
    },
    {
     "name": "stdout",
     "output_type": "stream",
     "text": [
      "slope creation...\n"
     ]
    },
    {
     "name": "stderr",
     "output_type": "stream",
     "text": [
      "62072it [00:18, 3284.76it/s]\n",
      "62067it [00:18, 3320.36it/s]\n"
     ]
    },
    {
     "name": "stdout",
     "output_type": "stream",
     "text": [
      "Direction identification...\n",
      "Total records : 62067\n",
      "target_column : direction\n",
      "          counts  percentage\n",
      "same       33883   54.591006\n",
      "increase   14115   22.741553\n",
      "decrease   14069   22.667440\n",
      "=======================\n",
      "Avg Direction -------------------------\n",
      "direction : same\n",
      "          counts  percentage\n",
      "same       15162   44.748104\n",
      "decrease    9390   27.713012\n",
      "increase    9331   27.538884\n",
      "=======================\n",
      "direction : increase\n",
      "          counts  percentage\n",
      "increase   10793   76.464754\n",
      "same        2585   18.313851\n",
      "decrease     737    5.221396\n",
      "=======================\n",
      "direction : decrease\n",
      "          counts  percentage\n",
      "decrease   10819   76.899566\n",
      "same        2602   18.494563\n",
      "increase     648    4.605871\n",
      "=======================\n",
      "\n",
      "\n",
      "Act Direction -------------------------\n",
      "direction : same\n",
      "          counts  percentage\n",
      "decrease   11335   33.453354\n",
      "increase   11279   33.288080\n",
      "same       11269   33.258566\n",
      "=======================\n",
      "direction : increase\n",
      "          counts  percentage\n",
      "increase    8941   63.343960\n",
      "same        3003   21.275239\n",
      "decrease    2171   15.380801\n",
      "=======================\n",
      "direction : decrease\n",
      "          counts  percentage\n",
      "decrease    8874   63.074845\n",
      "same        3127   22.226171\n",
      "increase    2068   14.698984\n",
      "=======================\n",
      "\n",
      "\n",
      "-----------------------------------2013--------------------------------------\n",
      "-----------------------------------2014--------------------------------------\n",
      "source_file_path : data/yearly_tick_data/2014.csv\n",
      "chunk_file_path : data/yearly_tick_data\\chunk_2014.csv\n",
      "target_file_path : data/yearly_tick_data\\tab_2014.csv\n",
      "Total input recs : 17004494\n",
      "Data manipulation...\n"
     ]
    },
    {
     "name": "stderr",
     "output_type": "stream",
     "text": [
      "100%|██████████████████████████████████████████████████████████████████████████████████████████| 56682/56682 [01:14<00:00, 760.00it/s]\n",
      "106it [00:00, 1052.38it/s]"
     ]
    },
    {
     "name": "stdout",
     "output_type": "stream",
     "text": [
      "Records : 56682\n",
      "Emas creation...\n"
     ]
    },
    {
     "name": "stderr",
     "output_type": "stream",
     "text": [
      "56678it [00:54, 1040.28it/s]\n",
      "56673it [00:54, 1046.13it/s]\n",
      "339it [00:00, 3365.26it/s]"
     ]
    },
    {
     "name": "stdout",
     "output_type": "stream",
     "text": [
      "slope creation...\n"
     ]
    },
    {
     "name": "stderr",
     "output_type": "stream",
     "text": [
      "56674it [00:17, 3283.13it/s]\n",
      "56669it [00:16, 3338.62it/s]\n"
     ]
    },
    {
     "name": "stdout",
     "output_type": "stream",
     "text": [
      "Direction identification...\n",
      "Total records : 56669\n",
      "target_column : direction\n",
      "          counts  percentage\n",
      "same       36401   64.234414\n",
      "decrease   10416   18.380420\n",
      "increase    9852   17.385166\n",
      "=======================\n",
      "Avg Direction -------------------------\n",
      "direction : same\n",
      "          counts  percentage\n",
      "same       19811   54.424329\n",
      "decrease    8323   22.864756\n",
      "increase    8267   22.710915\n",
      "=======================\n",
      "direction : increase\n",
      "          counts  percentage\n",
      "increase    7585   76.989444\n",
      "same        1844   18.717012\n",
      "decrease     423    4.293544\n",
      "=======================\n",
      "direction : decrease\n",
      "          counts  percentage\n",
      "decrease    8043   77.217742\n",
      "same        2007   19.268433\n",
      "increase     366    3.513825\n",
      "=======================\n",
      "\n",
      "\n",
      "Act Direction -------------------------\n",
      "direction : same\n",
      "          counts  percentage\n",
      "same       15469   42.496085\n",
      "increase   10524   28.911294\n",
      "decrease   10408   28.592621\n",
      "=======================\n",
      "direction : increase\n",
      "          counts  percentage\n",
      "increase    6162   62.545676\n",
      "same        2318   23.528218\n",
      "decrease    1372   13.926106\n",
      "=======================\n",
      "direction : decrease\n",
      "          counts  percentage\n",
      "decrease    6578   63.152842\n",
      "same        2442   23.444700\n",
      "increase    1396   13.402458\n",
      "=======================\n",
      "\n",
      "\n",
      "-----------------------------------2014--------------------------------------\n",
      "-----------------------------------2015--------------------------------------\n",
      "source_file_path : data/yearly_tick_data/2015.csv\n",
      "chunk_file_path : data/yearly_tick_data\\chunk_2015.csv\n",
      "target_file_path : data/yearly_tick_data\\tab_2015.csv\n",
      "Total input recs : 24232002\n",
      "Data manipulation...\n"
     ]
    },
    {
     "name": "stderr",
     "output_type": "stream",
     "text": [
      "100%|██████████████████████████████████████████████████████████████████████████████████████████| 80774/80774 [01:49<00:00, 739.40it/s]\n",
      "0it [00:00, ?it/s]"
     ]
    },
    {
     "name": "stdout",
     "output_type": "stream",
     "text": [
      "Records : 80774\n",
      "Emas creation...\n"
     ]
    },
    {
     "name": "stderr",
     "output_type": "stream",
     "text": [
      "80770it [01:17, 1047.53it/s]\n",
      "80765it [01:18, 1031.19it/s]\n",
      "652it [00:00, 3246.27it/s]"
     ]
    },
    {
     "name": "stdout",
     "output_type": "stream",
     "text": [
      "slope creation...\n"
     ]
    },
    {
     "name": "stderr",
     "output_type": "stream",
     "text": [
      "80766it [00:24, 3298.48it/s]\n",
      "80761it [00:24, 3337.27it/s]\n"
     ]
    },
    {
     "name": "stdout",
     "output_type": "stream",
     "text": [
      "Direction identification...\n",
      "Total records : 80761\n",
      "target_column : direction\n",
      "          counts  percentage\n",
      "same       39251   48.601429\n",
      "decrease   21029   26.038558\n",
      "increase   20481   25.360013\n",
      "=======================\n",
      "Avg Direction -------------------------\n",
      "direction : same\n",
      "          counts  percentage\n",
      "same       16232   41.354360\n",
      "decrease   11539   29.397977\n",
      "increase   11480   29.247662\n",
      "=======================\n",
      "direction : increase\n",
      "          counts  percentage\n",
      "increase   15784   77.066549\n",
      "same        3557   17.367316\n",
      "decrease    1140    5.566134\n",
      "=======================\n",
      "direction : decrease\n",
      "          counts  percentage\n",
      "decrease   16146   76.779685\n",
      "same        3844   18.279519\n",
      "increase    1039    4.940796\n",
      "=======================\n",
      "\n",
      "\n",
      "Act Direction -------------------------\n",
      "direction : same\n",
      "          counts  percentage\n",
      "decrease   13893   35.395277\n",
      "increase   13719   34.951976\n",
      "same       11639   29.652748\n",
      "=======================\n",
      "direction : increase\n",
      "          counts  percentage\n",
      "increase   12926   63.112153\n",
      "same        4149   20.257800\n",
      "decrease    3406   16.630047\n",
      "=======================\n",
      "direction : decrease\n",
      "          counts  percentage\n",
      "decrease   13430   63.864188\n",
      "same        4301   20.452708\n",
      "increase    3298   15.683104\n",
      "=======================\n",
      "\n",
      "\n",
      "-----------------------------------2015--------------------------------------\n",
      "-----------------------------------2016--------------------------------------\n",
      "source_file_path : data/yearly_tick_data/2016.csv\n",
      "chunk_file_path : data/yearly_tick_data\\chunk_2016.csv\n",
      "target_file_path : data/yearly_tick_data\\tab_2016.csv\n",
      "Total input recs : 44827522\n",
      "Data manipulation...\n"
     ]
    },
    {
     "name": "stderr",
     "output_type": "stream",
     "text": [
      "100%|████████████████████████████████████████████████████████████████████████████████████████| 149426/149426 [03:16<00:00, 761.56it/s]\n"
     ]
    },
    {
     "name": "stdout",
     "output_type": "stream",
     "text": [
      "Records : 149426\n"
     ]
    },
    {
     "name": "stderr",
     "output_type": "stream",
     "text": [
      "199it [00:00, 995.66it/s]"
     ]
    },
    {
     "name": "stdout",
     "output_type": "stream",
     "text": [
      "Emas creation...\n"
     ]
    },
    {
     "name": "stderr",
     "output_type": "stream",
     "text": [
      "149422it [02:22, 1046.79it/s]\n",
      "149417it [02:23, 1042.64it/s]\n",
      "637it [00:00, 3178.51it/s]"
     ]
    },
    {
     "name": "stdout",
     "output_type": "stream",
     "text": [
      "slope creation...\n"
     ]
    },
    {
     "name": "stderr",
     "output_type": "stream",
     "text": [
      "149418it [00:44, 3368.71it/s]\n",
      "149413it [00:44, 3343.92it/s]\n"
     ]
    },
    {
     "name": "stdout",
     "output_type": "stream",
     "text": [
      "Direction identification...\n",
      "Total records : 149413\n",
      "target_column : direction\n",
      "          counts  percentage\n",
      "same      119134   79.734695\n",
      "decrease   15170   10.153066\n",
      "increase   15109   10.112239\n",
      "=======================\n",
      "Avg Direction -------------------------\n",
      "direction : same\n",
      "          counts  percentage\n",
      "same       85759   71.985327\n",
      "decrease   16869   14.159686\n",
      "increase   16506   13.854987\n",
      "=======================\n",
      "direction : increase\n",
      "          counts  percentage\n",
      "increase   11698   77.424052\n",
      "same        2888   19.114435\n",
      "decrease     523    3.461513\n",
      "=======================\n",
      "direction : decrease\n",
      "          counts  percentage\n",
      "decrease   11727   77.303889\n",
      "same        2974   19.604483\n",
      "increase     469    3.091628\n",
      "=======================\n",
      "\n",
      "\n",
      "Act Direction -------------------------\n",
      "direction : same\n",
      "          counts  percentage\n",
      "same       74899   62.869542\n",
      "decrease   22192   18.627764\n",
      "increase   22043   18.502694\n",
      "=======================\n",
      "direction : increase\n",
      "          counts  percentage\n",
      "increase    9520   63.008803\n",
      "same        3767   24.932160\n",
      "decrease    1822   12.059038\n",
      "=======================\n",
      "direction : decrease\n",
      "          counts  percentage\n",
      "decrease    9664   63.704680\n",
      "same        3755   24.752802\n",
      "increase    1751   11.542518\n",
      "=======================\n",
      "\n",
      "\n",
      "-----------------------------------2016--------------------------------------\n",
      "-----------------------------------2017--------------------------------------\n",
      "source_file_path : data/yearly_tick_data/2017.csv\n",
      "chunk_file_path : data/yearly_tick_data\\chunk_2017.csv\n",
      "target_file_path : data/yearly_tick_data\\tab_2017.csv\n",
      "Total input recs : 21704042\n",
      "Data manipulation...\n"
     ]
    },
    {
     "name": "stderr",
     "output_type": "stream",
     "text": [
      "100%|██████████████████████████████████████████████████████████████████████████████████████████| 72347/72347 [01:34<00:00, 763.74it/s]\n",
      "0it [00:00, ?it/s]"
     ]
    },
    {
     "name": "stdout",
     "output_type": "stream",
     "text": [
      "Records : 72347\n",
      "Emas creation...\n"
     ]
    },
    {
     "name": "stderr",
     "output_type": "stream",
     "text": [
      "72343it [01:08, 1052.05it/s]\n",
      "72338it [01:08, 1049.49it/s]\n",
      "335it [00:00, 3325.72it/s]"
     ]
    },
    {
     "name": "stdout",
     "output_type": "stream",
     "text": [
      "slope creation...\n"
     ]
    },
    {
     "name": "stderr",
     "output_type": "stream",
     "text": [
      "72339it [00:21, 3382.40it/s]\n",
      "72334it [00:21, 3367.46it/s]\n"
     ]
    },
    {
     "name": "stdout",
     "output_type": "stream",
     "text": [
      "Direction identification...\n",
      "Total records : 72334\n",
      "target_column : direction\n",
      "          counts  percentage\n",
      "same       48100   66.497083\n",
      "increase   12376   17.109520\n",
      "decrease   11858   16.393397\n",
      "=======================\n",
      "Avg Direction -------------------------\n",
      "direction : same\n",
      "          counts  percentage\n",
      "same       26359   54.800416\n",
      "decrease   10907   22.675676\n",
      "increase   10834   22.523909\n",
      "=======================\n",
      "direction : increase\n",
      "          counts  percentage\n",
      "increase    9554   77.197802\n",
      "same        2484   20.071105\n",
      "decrease     338    2.731092\n",
      "=======================\n",
      "direction : decrease\n",
      "          counts  percentage\n",
      "decrease    9192   77.517288\n",
      "same        2372   20.003373\n",
      "increase     294    2.479339\n",
      "=======================\n",
      "\n",
      "\n",
      "Act Direction -------------------------\n",
      "direction : same\n",
      "          counts  percentage\n",
      "same       20156   41.904366\n",
      "increase   14024   29.155925\n",
      "decrease   13920   28.939709\n",
      "=======================\n",
      "direction : increase\n",
      "          counts  percentage\n",
      "increase    7727   62.435359\n",
      "same        3261   26.349386\n",
      "decrease    1388   11.215255\n",
      "=======================\n",
      "direction : decrease\n",
      "          counts  percentage\n",
      "decrease    7464   62.944847\n",
      "same        3090   26.058357\n",
      "increase    1304   10.996795\n",
      "=======================\n",
      "\n",
      "\n",
      "-----------------------------------2017--------------------------------------\n",
      "-----------------------------------2018--------------------------------------\n",
      "source_file_path : data/yearly_tick_data/2018.csv\n",
      "chunk_file_path : data/yearly_tick_data\\chunk_2018.csv\n",
      "target_file_path : data/yearly_tick_data\\tab_2018.csv\n",
      "Total input recs : 26048775\n",
      "Data manipulation...\n"
     ]
    },
    {
     "name": "stderr",
     "output_type": "stream",
     "text": [
      "100%|██████████████████████████████████████████████████████████████████████████████████████████| 86830/86830 [01:54<00:00, 755.84it/s]\n",
      "0it [00:00, ?it/s]"
     ]
    },
    {
     "name": "stdout",
     "output_type": "stream",
     "text": [
      "Records : 86830\n",
      "Emas creation...\n"
     ]
    },
    {
     "name": "stderr",
     "output_type": "stream",
     "text": [
      "86826it [01:23, 1039.04it/s]\n",
      "86821it [01:22, 1048.95it/s]\n",
      "330it [00:00, 3275.06it/s]"
     ]
    },
    {
     "name": "stdout",
     "output_type": "stream",
     "text": [
      "slope creation...\n"
     ]
    },
    {
     "name": "stderr",
     "output_type": "stream",
     "text": [
      "86822it [00:25, 3353.98it/s]\n",
      "86817it [00:25, 3348.87it/s]\n"
     ]
    },
    {
     "name": "stdout",
     "output_type": "stream",
     "text": [
      "Direction identification...\n",
      "Total records : 86817\n",
      "target_column : direction\n",
      "          counts  percentage\n",
      "same       57241   65.932939\n",
      "decrease   14966   17.238559\n",
      "increase   14610   16.828501\n",
      "=======================\n",
      "Avg Direction -------------------------\n",
      "direction : same\n",
      "          counts  percentage\n",
      "same       30852   53.898429\n",
      "decrease   13222   23.098828\n",
      "increase   13167   23.002743\n",
      "=======================\n",
      "direction : increase\n",
      "          counts  percentage\n",
      "increase   11377   77.871321\n",
      "same        2849   19.500342\n",
      "decrease     384    2.628337\n",
      "=======================\n",
      "direction : decrease\n",
      "          counts  percentage\n",
      "decrease   11662   77.923293\n",
      "same        2939   19.637846\n",
      "increase     365    2.438861\n",
      "=======================\n",
      "\n",
      "\n",
      "Act Direction -------------------------\n",
      "direction : same\n",
      "          counts  percentage\n",
      "same       23884   41.725337\n",
      "decrease   16703   29.180133\n",
      "increase   16654   29.094530\n",
      "=======================\n",
      "direction : increase\n",
      "          counts  percentage\n",
      "increase    9220   63.107461\n",
      "same        3782   25.886379\n",
      "decrease    1608   11.006160\n",
      "=======================\n",
      "direction : decrease\n",
      "          counts  percentage\n",
      "decrease    9443   63.096352\n",
      "same        3887   25.972204\n",
      "increase    1636   10.931445\n",
      "=======================\n",
      "\n",
      "\n",
      "-----------------------------------2018--------------------------------------\n",
      "-----------------------------------2019--------------------------------------\n",
      "source_file_path : data/yearly_tick_data/2019.csv\n",
      "chunk_file_path : data/yearly_tick_data\\chunk_2019.csv\n",
      "target_file_path : data/yearly_tick_data\\tab_2019.csv\n",
      "Total input recs : 29186310\n",
      "Data manipulation...\n"
     ]
    },
    {
     "name": "stderr",
     "output_type": "stream",
     "text": [
      "100%|██████████████████████████████████████████████████████████████████████████████████████████| 97288/97288 [02:05<00:00, 772.70it/s]\n",
      "0it [00:00, ?it/s]"
     ]
    },
    {
     "name": "stdout",
     "output_type": "stream",
     "text": [
      "Records : 97288\n",
      "Emas creation...\n"
     ]
    },
    {
     "name": "stderr",
     "output_type": "stream",
     "text": [
      "97284it [01:32, 1054.37it/s]\n",
      "97279it [01:32, 1052.10it/s]\n",
      "322it [00:00, 3195.71it/s]"
     ]
    },
    {
     "name": "stdout",
     "output_type": "stream",
     "text": [
      "slope creation...\n"
     ]
    },
    {
     "name": "stderr",
     "output_type": "stream",
     "text": [
      "97280it [00:28, 3364.35it/s]\n",
      "97275it [00:29, 3325.16it/s]\n"
     ]
    },
    {
     "name": "stdout",
     "output_type": "stream",
     "text": [
      "Direction identification...\n",
      "Total records : 97275\n",
      "target_column : direction\n",
      "          counts  percentage\n",
      "same       83200   85.530712\n",
      "decrease    7307    7.511694\n",
      "increase    6768    6.957594\n",
      "=======================\n",
      "Avg Direction -------------------------\n",
      "direction : same\n",
      "          counts  percentage\n",
      "same       57299   68.868990\n",
      "increase   13103   15.748798\n",
      "decrease   12798   15.382212\n",
      "=======================\n",
      "direction : increase\n",
      "          counts  percentage\n",
      "increase    5362   79.225768\n",
      "same        1330   19.651300\n",
      "decrease      76    1.122931\n",
      "=======================\n",
      "direction : decrease\n",
      "          counts  percentage\n",
      "decrease    5761   78.842206\n",
      "same        1449   19.830300\n",
      "increase      97    1.327494\n",
      "=======================\n",
      "\n",
      "\n",
      "Act Direction -------------------------\n",
      "direction : same\n",
      "          counts  percentage\n",
      "same       48155   57.878606\n",
      "increase   17737   21.318510\n",
      "decrease   17308   20.802885\n",
      "=======================\n",
      "direction : increase\n",
      "          counts  percentage\n",
      "increase    4156   61.406619\n",
      "same        2172   32.092199\n",
      "decrease     440    6.501182\n",
      "=======================\n",
      "direction : decrease\n",
      "          counts  percentage\n",
      "decrease    4531   62.009032\n",
      "same        2279   31.189271\n",
      "increase     497    6.801697\n",
      "=======================\n",
      "\n",
      "\n",
      "-----------------------------------2019--------------------------------------\n",
      "-----------------------------------2020--------------------------------------\n",
      "source_file_path : data/yearly_tick_data/2020.csv\n",
      "chunk_file_path : data/yearly_tick_data\\chunk_2020.csv\n",
      "target_file_path : data/yearly_tick_data\\tab_2020.csv\n",
      "Total input recs : 32763877\n",
      "Data manipulation...\n"
     ]
    },
    {
     "name": "stderr",
     "output_type": "stream",
     "text": [
      "100%|████████████████████████████████████████████████████████████████████████████████████████| 109213/109213 [02:22<00:00, 766.94it/s]\n",
      "0it [00:00, ?it/s]"
     ]
    },
    {
     "name": "stdout",
     "output_type": "stream",
     "text": [
      "Records : 109213\n",
      "Emas creation...\n"
     ]
    },
    {
     "name": "stderr",
     "output_type": "stream",
     "text": [
      "109209it [01:45, 1039.89it/s]\n",
      "109204it [01:44, 1049.34it/s]\n",
      "322it [00:00, 3191.51it/s]"
     ]
    },
    {
     "name": "stdout",
     "output_type": "stream",
     "text": [
      "slope creation...\n"
     ]
    },
    {
     "name": "stderr",
     "output_type": "stream",
     "text": [
      "109205it [00:32, 3337.74it/s]\n",
      "109200it [00:32, 3337.79it/s]\n"
     ]
    },
    {
     "name": "stdout",
     "output_type": "stream",
     "text": [
      "Direction identification...\n",
      "Total records : 109200\n",
      "target_column : direction\n",
      "          counts  percentage\n",
      "same       73270   67.097070\n",
      "increase   18039   16.519231\n",
      "decrease   17891   16.383700\n",
      "=======================\n",
      "Avg Direction -------------------------\n",
      "direction : same\n",
      "          counts  percentage\n",
      "same       40734   55.594377\n",
      "increase   16475   22.485328\n",
      "decrease   16061   21.920295\n",
      "=======================\n",
      "direction : increase\n",
      "          counts  percentage\n",
      "increase   14058   77.931149\n",
      "same        3556   19.712844\n",
      "decrease     425    2.356006\n",
      "=======================\n",
      "direction : decrease\n",
      "          counts  percentage\n",
      "decrease   13929   77.854787\n",
      "same        3548   19.831200\n",
      "increase     414    2.314013\n",
      "=======================\n",
      "\n",
      "\n",
      "Act Direction -------------------------\n",
      "direction : same\n",
      "          counts  percentage\n",
      "same       31967   43.629043\n",
      "increase   20866   28.478231\n",
      "decrease   20437   27.892726\n",
      "=======================\n",
      "direction : increase\n",
      "          counts  percentage\n",
      "increase   11467   63.567825\n",
      "same        4832   26.786407\n",
      "decrease    1740    9.645768\n",
      "=======================\n",
      "direction : decrease\n",
      "          counts  percentage\n",
      "decrease   11395   63.691241\n",
      "same        4598   25.700073\n",
      "increase    1898   10.608686\n",
      "=======================\n",
      "\n",
      "\n",
      "-----------------------------------2020--------------------------------------\n",
      "Wall time: 1h 25min 55s\n"
     ]
    }
   ],
   "source": [
    "%%time\n",
    "for year in train_files:\n",
    "    #df = run_data_prep(year)\n",
    "    run_data_prep(year)"
   ]
  },
  {
   "cell_type": "markdown",
   "metadata": {},
   "source": [
    "df.to_csv('temp.csv')"
   ]
  }
 ],
 "metadata": {
  "kernelspec": {
   "display_name": "Python 3",
   "language": "python",
   "name": "python3"
  },
  "language_info": {
   "codemirror_mode": {
    "name": "ipython",
    "version": 3
   },
   "file_extension": ".py",
   "mimetype": "text/x-python",
   "name": "python",
   "nbconvert_exporter": "python",
   "pygments_lexer": "ipython3",
   "version": "3.6.6"
  }
 },
 "nbformat": 4,
 "nbformat_minor": 4
}
