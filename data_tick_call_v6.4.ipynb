{
 "cells": [
  {
   "cell_type": "markdown",
   "metadata": {},
   "source": [
    "# Data Preparation"
   ]
  },
  {
   "cell_type": "markdown",
   "metadata": {},
   "source": [
    "## Packages"
   ]
  },
  {
   "cell_type": "code",
   "execution_count": 1,
   "metadata": {
    "scrolled": true
   },
   "outputs": [],
   "source": [
    "import os\n",
    "import winsound\n",
    "import numpy as np\n",
    "import pandas as pd\n",
    "#import modin.pandas as pd\n",
    "import datetime as dt\n",
    "from tqdm import tqdm\n",
    "tqdm.pandas()\n",
    "from multiprocessing import  Pool\n",
    "import time\n",
    "import imblearn\n",
    "\n",
    "import math, collections\n",
    "from scipy.stats import linregress\n",
    "\n",
    "from matplotlib import pyplot as plt\n",
    "from matplotlib.pyplot import figure\n",
    "\n",
    "import warnings\n",
    "warnings.filterwarnings('ignore')"
   ]
  },
  {
   "cell_type": "code",
   "execution_count": 2,
   "metadata": {},
   "outputs": [],
   "source": [
    "def get_date_hour(df):    \n",
    "    \n",
    "    weekday_val = []\n",
    "    hour = []\n",
    "    \n",
    "    for i in tqdm(df['DateTime']):\n",
    "        date_val  = dt.datetime.strptime(i, '%Y%m%d %H:%M:%S.%f')\n",
    "        weekday_val.append(date_val.weekday())\n",
    "        hour.append(date_val.hour)\n",
    "\n",
    "    df['weekday'] = weekday_val\n",
    "    df['hour'] = hour\n",
    "    return(df)"
   ]
  },
  {
   "cell_type": "code",
   "execution_count": 3,
   "metadata": {},
   "outputs": [],
   "source": [
    "def get_slope(y_axis):\n",
    "    global data\n",
    "    ma_len = len(y_axis)\n",
    "    \n",
    "    x_axis = []\n",
    "    for i in range(ma_len):\n",
    "        x_axis.append(1 + ((i+1) * 0.0001 * 0.1))\n",
    "    \n",
    "    slope_tick, intercept, _, _, _ = linregress(x_axis, y_axis)\n",
    "    slope_tick = math.degrees(math.atan(slope_tick))\n",
    "    \n",
    "    return(slope_tick)"
   ]
  },
  {
   "cell_type": "code",
   "execution_count": 4,
   "metadata": {},
   "outputs": [],
   "source": [
    "def chunk_ticks(df, number_of_ticks):   \n",
    "    global data\n",
    "    \n",
    "    df['tick'] = (df['Bid'] + df['Ask'])/2\n",
    "    df['spread'] = df['Ask'] - df['Bid']\n",
    "    df = df[['weekday', 'hour','tick', 'spread']]\n",
    "    \n",
    "    temp_df = pd.DataFrame()\n",
    "    tick_avg = []\n",
    "    spread_avg = []\n",
    "    tick_sd = []\n",
    "    tick_act = []\n",
    "    candle_height = []\n",
    "    candle_max_val = []\n",
    "    candle_min_val = []\n",
    "    weekday = []\n",
    "    hour = []\n",
    "    \n",
    "    for i in tqdm(range(0,len(df),number_of_ticks)):\n",
    "        tick_list = list(df['tick'][i:i+number_of_ticks])\n",
    "        spread_list = list(df['spread'][i:i+number_of_ticks])\n",
    "        weekday_list = list(df['weekday'][i:i+number_of_ticks])\n",
    "        hour_list = list(df['hour'][i:i+number_of_ticks])\n",
    "        \n",
    "        tick_act.append(tick_list[-1])              \n",
    "        temp = list(pd.DataFrame(tick_list).ewm(span=len(tick_list)).mean()[0])[len(tick_list) - 1]\n",
    "        tick_avg.append(temp)\n",
    "\n",
    "        spread_avg.append(np.mean(spread_list))\n",
    "        tick_sd.append(np.std(tick_list))\n",
    "        candle_height.append(np.max(tick_list) - np.min(tick_list))\n",
    "        candle_max_val.append(np.max(tick_list))\n",
    "        candle_min_val.append(np.min(tick_list))\n",
    "        weekday.append(weekday_list[-1])\n",
    "        hour.append(hour_list[-1])\n",
    "        \n",
    "    temp_df['weekday']      =  weekday\n",
    "    temp_df['hour']      = hour\n",
    "    temp_df['tick_act']      = tick_act      \n",
    "    temp_df['tick_avg']      = tick_avg  \n",
    "    temp_df['spread_avg']    = spread_avg  \n",
    "    temp_df['tick_sd']       = tick_sd  \n",
    "    temp_df['candle_height'] = candle_height\n",
    "    temp_df['candle_max_val'] = candle_max_val\n",
    "    temp_df['candle_min_val'] = candle_min_val\n",
    "    \n",
    "    return(temp_df)"
   ]
  },
  {
   "cell_type": "code",
   "execution_count": 5,
   "metadata": {},
   "outputs": [],
   "source": [
    "def before_sma():\n",
    "    global data    \n",
    "    data['ssma_list'].append(val)    \n",
    "    return()\n",
    "\n",
    "def after_sma():\n",
    "    global data\n",
    "    \n",
    "    data['ssma_list'].popleft()\n",
    "    data['ssma_list'].append(val)\n",
    "    data['sema'] = list(pd.DataFrame(list(data['ssma_list'])).ewm(span=data['sma_len']).mean()[0])[data['sma_len'] - 1]\n",
    "    \n",
    "    if len(data['sema_ready']) < 2:\n",
    "        data['sema_ready'].append(data['sema'])\n",
    "        data['sema_diff'] = np.nan\n",
    "\n",
    "    elif len(data['sema_ready']) > 1:\n",
    "        data['sema_ready'].popleft()\n",
    "        data['sema_ready'].append(data['sema'])\n",
    "        data['sema_diff'] = data['sema_ready'][-1] - data['sema_ready'][len(data['sema_ready'])-2]\n",
    "    \n",
    "    return()\n",
    "\n",
    "def before_lma():\n",
    "    global data    \n",
    "    data['lsma_list'].append(val)    \n",
    "    return()\n",
    "\n",
    "def after_lma():\n",
    "    global data\n",
    "    \n",
    "    data['lsma_list'].popleft()\n",
    "    data['lsma_list'].append(val)\n",
    "    data['lema'] = list(pd.DataFrame(list(data['lsma_list'])).ewm(span=data['lma_len']).mean()[0])[data['lma_len'] - 1]\n",
    "    \n",
    "    if len(data['lema_ready']) < 2:\n",
    "        data['lema_ready'].append(data['lema'])\n",
    "        data['lema_diff'] = np.nan\n",
    "\n",
    "    elif len(data['lema_ready']) > 1:\n",
    "        data['lema_ready'].popleft()\n",
    "        data['lema_ready'].append(data['lema'])\n",
    "        data['lema_diff'] = data['lema_ready'][-1] - data['lema_ready'][len(data['lema_ready'])-2]\n",
    "    \n",
    "    return()"
   ]
  },
  {
   "cell_type": "code",
   "execution_count": 6,
   "metadata": {},
   "outputs": [],
   "source": [
    "def roll_ma(ma_list):\n",
    "    global data\n",
    "    ma_len = len(ma_list)\n",
    "    sema_val = list(pd.DataFrame(ma_list).ewm(span=ma_len).mean()[0])[ma_len - 1]    \n",
    "    return(sema_val)"
   ]
  },
  {
   "cell_type": "code",
   "execution_count": 7,
   "metadata": {},
   "outputs": [],
   "source": [
    "def print_custom_value_counts(df, target_column, filter_column = None, filter_value = None):    \n",
    "    if filter_column is None and filter_value is None:\n",
    "        print(f'target_column : {target_column}')\n",
    "        g= df[target_column]\n",
    "        print(pd.concat([g.value_counts(), g.value_counts(normalize=True).mul(100)],axis=1, keys=('counts','percentage')))\n",
    "    else:\n",
    "        print(f'{filter_column} : {filter_value}')\n",
    "        g= df.loc[df[filter_column] == filter_value, target_column]\n",
    "        print(pd.concat([g.value_counts(), g.value_counts(normalize=True).mul(100)],axis=1, keys=('counts','percentage')))\n",
    "    print('=======================')"
   ]
  },
  {
   "cell_type": "code",
   "execution_count": 8,
   "metadata": {},
   "outputs": [],
   "source": [
    "def run_data_prep(year):\n",
    "    global data\n",
    "    print(f'-----------------------------------{year}--------------------------------------')\n",
    "    \n",
    "    diff_col = 'sema'\n",
    "    #diff_col = 'tick_avg'\n",
    "\n",
    "    source_file_path = f'data/yearly_tick_data/{year}.csv'\n",
    "    path, file_name = os.path.split(source_file_path)\n",
    "\n",
    "    target_file_name = 'tab_'+file_name\n",
    "    target_file_path = os.path.join(path, target_file_name)\n",
    "\n",
    "    chunk_file_name = 'chunk_'+file_name\n",
    "    chunk_file_path = os.path.join(path, chunk_file_name)\n",
    "\n",
    "    print(f'source_file_path : {source_file_path}')\n",
    "    print(f'chunk_file_path : {chunk_file_path}')\n",
    "    print(f'target_file_path : {target_file_path}')\n",
    "\n",
    "    if data['input_rows'] is None:\n",
    "        df = pd.read_csv(source_file_path)\n",
    "    else:\n",
    "        df = pd.read_csv(source_file_path, nrows=data['input_rows'])\n",
    "    \n",
    "    print(f'Total input recs : {len(df)}')\n",
    "    print(\"Data manipulation...\")\n",
    "    time.sleep(1)\n",
    "    \n",
    "    print('Extracing weekday and hour...')\n",
    "    time.sleep(1)\n",
    "    df = get_date_hour(df)\n",
    "    \n",
    "    print('Chunking ticks...')\n",
    "    time.sleep(1)\n",
    "    df = chunk_ticks(df, data['number_of_ticks'])\n",
    "    \n",
    "    df.to_csv(chunk_file_path, index = False)\n",
    "        \n",
    "    print(f'Records : {len(df)}')\n",
    "\n",
    "    df = pd.read_csv(chunk_file_path)\n",
    "\n",
    "    data['rs_max'] = 1e6\n",
    "\n",
    "    data['ssma_list'] = collections.deque([])\n",
    "    data['lsma_list'] = collections.deque([])\n",
    "    data['sema_ready'] = collections.deque([])\n",
    "    data['lema_ready'] = collections.deque([])\n",
    "    df['sema'] = ''\n",
    "    df['lema'] = ''\n",
    "    df['sema_diff'] = ''\n",
    "    df['lema_diff'] = ''\n",
    "\n",
    "    df['top_diff'] = df['candle_max_val'] - df['tick_act']\n",
    "    df['bottom_diff'] = df['tick_act'] - df['candle_min_val'] \n",
    "    \n",
    "    # RSI -----------------------------\n",
    "    df['diff'] = df['tick_avg'].diff()\n",
    "    df['gain'] = 0\n",
    "    df['loss'] = 0\n",
    "    df['gain'].loc[df['diff'] > 0] = abs(df['diff'])\n",
    "    df['loss'].loc[df['diff'] < 0] = abs(df['diff'])\n",
    "    df['avg_gain'] = df['gain'].rolling(window=data['rsi_window']).mean()\n",
    "    df['avg_loss'] = df['loss'].rolling(window=data['rsi_window']).mean()\n",
    "    df['rs'] = df['avg_gain']/df['avg_loss']\n",
    "    df['rs'] = df['rs'].where(df['rs'] <= data['rs_max'], data['rs_max']) \n",
    "    df['rsi'] = 100 - (100 / (df['rs'] + 1))\n",
    "\n",
    "    # Simple Moving Averages ------------------\n",
    "    df['ssma'] = df['tick_avg'].rolling(window=data['sma_len']).mean()\n",
    "    df['ssma_diff'] = df['ssma'].diff()\n",
    "    df['lsma'] = df['tick_avg'].rolling(window=data['lma_len']).mean()\n",
    "    df['lsma_diff'] = df['lsma'].diff()\n",
    "    df['sma_diff'] = df['ssma'] - df['lsma']\n",
    "\n",
    "    df['max_tick'] = df['tick_avg'].rolling(window=data['sma_len']).max()\n",
    "    df['min_tick'] = df['tick_avg'].rolling(window=data['sma_len']).min()\n",
    "\n",
    "    df['max_gap'] = df['max_tick'] -  df['tick_avg']\n",
    "    df['min_gap'] = df['min_tick'] - df['tick_avg']\n",
    "\n",
    "    print(\"Emas creation...\")\n",
    "    # Emas ----------------\n",
    "    df['sema'] = df['tick_avg'].rolling(window=data['sma_len']).progress_apply(roll_ma)\n",
    "    df['lema'] = df['tick_avg'].rolling(window=data['lma_len']).progress_apply(roll_ma)\n",
    "\n",
    "    df['sema_diff'] = df['sema'].diff()\n",
    "    df['lema_diff'] = df['lema'].diff()\n",
    "\n",
    "    df['ema_diff'] = df['sema'] - df['lema']\n",
    "\n",
    "  \n",
    "    print(\"slope creation...\")\n",
    "    # Slopes -----------------------------\n",
    "    df['small_sema_slope'] = df['sema'].rolling(window=data['sma_len']).progress_apply(get_slope)\n",
    "    df['long_sema_slope'] = df['sema'].rolling(window=data['lma_len']).progress_apply(get_slope)\n",
    "\n",
    "    df['slope_diff'] = df['small_sema_slope'] - df['long_sema_slope']\n",
    "\n",
    "    print('Direction identification...')\n",
    "    df = df.round(5)\n",
    "\n",
    "    # Direction -------------------------\n",
    "    df['direction'] = 'same'\n",
    "    df['direction'].loc[df[diff_col].shift(-1) - df[diff_col] >= data['pip_diff']] = 'increase'\n",
    "    df['direction'].loc[df[diff_col].shift(-1) - df[diff_col] <= -data['pip_diff']] = 'decrease'\n",
    "\n",
    "    # Remove NaNs ------------------------\n",
    "    del df['gain']\n",
    "    del df['loss']\n",
    "    \n",
    "    del df['candle_max_val']\n",
    "    del df['candle_min_val']    \n",
    "\n",
    "    df = df.dropna()\n",
    "    df = df.reset_index(drop=True)\n",
    "    print(f'Total records : {len(df)}')\n",
    "    \n",
    "\n",
    "    if data['write_to_csv']:        \n",
    "        df.to_csv(target_file_path, index = False)\n",
    "    #winsound.PlaySound('C:\\\\Windows\\\\Media\\\\tada.wav', winsound.SND_ASYNC)\n",
    "\n",
    "    print_custom_value_counts(df = df, target_column = 'direction')    \n",
    "    \n",
    "    print('Avg Direction -------------------------')\n",
    "    diff_col = 'tick_avg'\n",
    "\n",
    "    df['act_direction'] = 'same'\n",
    "    df['act_direction'].loc[df[diff_col].shift(-1) - df[diff_col] >= data['pip_diff']] = 'increase'\n",
    "    df['act_direction'].loc[df[diff_col].shift(-1) - df[diff_col] <= -data['pip_diff']] = 'decrease'\n",
    "\n",
    "    print_custom_value_counts(df = df, target_column = 'act_direction', filter_column = 'direction', filter_value = 'same')    \n",
    "    print_custom_value_counts(df = df, target_column = 'act_direction', filter_column = 'direction', filter_value = 'increase')\n",
    "    print_custom_value_counts(df = df, target_column = 'act_direction', filter_column = 'direction', filter_value = 'decrease')\n",
    "\n",
    "    print('\\n')\n",
    "    df['tick_act_direction'] = df['act_direction']\n",
    "    del df['act_direction']    \n",
    "\n",
    "    print('Act Direction -------------------------')\n",
    "    diff_col = 'tick_act'\n",
    "\n",
    "    df['act_direction'] = 'same'\n",
    "    df['act_direction'].loc[df[diff_col].shift(-1) - df[diff_col] >= data['pip_diff']] = 'increase'\n",
    "    df['act_direction'].loc[df[diff_col].shift(-1) - df[diff_col] <= -data['pip_diff']] = 'decrease'\n",
    "\n",
    "    print_custom_value_counts(df = df, target_column = 'act_direction', filter_column = 'direction', filter_value = 'same')\n",
    "    print_custom_value_counts(df = df, target_column = 'act_direction', filter_column = 'direction', filter_value = 'increase')\n",
    "    print_custom_value_counts(df = df, target_column = 'act_direction', filter_column = 'direction', filter_value = 'decrease')\n",
    "\n",
    "\n",
    "    print('\\n')\n",
    "    #del df['act_direction']\n",
    "    print(f'-----------------------------------{year}--------------------------------------')\n",
    "    return(df)"
   ]
  },
  {
   "cell_type": "code",
   "execution_count": 9,
   "metadata": {},
   "outputs": [],
   "source": [
    "data = {}\n",
    "data['number_of_ticks']   = 300\n",
    "data['rsi_window']        = 14\n",
    "data['sma_len']           = 5\n",
    "data['lma_len']           = 10\n",
    "data['pip_diff']          = 0.00012\n",
    "\n",
    "\n",
    "#data['input_rows']        = 1_000_000\n",
    "data['input_rows']        = None\n",
    "\n",
    "data['write_to_csv'] = True\n",
    "\n",
    "train_files = [2021]\n",
    "#train_files = [2003, 2004, 2005, 2006, 2007, 2008, 2009, 2010, 2011, 2012, 2013, 2014, 2015, 2016, 2017, 2018, 2019, 2020]"
   ]
  },
  {
   "cell_type": "code",
   "execution_count": 10,
   "metadata": {
    "scrolled": true
   },
   "outputs": [
    {
     "name": "stdout",
     "output_type": "stream",
     "text": [
      "-----------------------------------2021--------------------------------------\n",
      "source_file_path : data/yearly_tick_data/2021.csv\n",
      "chunk_file_path : data/yearly_tick_data\\chunk_2021.csv\n",
      "target_file_path : data/yearly_tick_data\\tab_2021.csv\n",
      "Total input recs : 1418170\n",
      "Data manipulation...\n",
      "Extracing weekday and hour...\n"
     ]
    },
    {
     "name": "stderr",
     "output_type": "stream",
     "text": [
      "100%|██████████████| 1418170/1418170 [00:42<00:00, 33638.85it/s]\n"
     ]
    },
    {
     "name": "stdout",
     "output_type": "stream",
     "text": [
      "Chunking ticks...\n"
     ]
    },
    {
     "name": "stderr",
     "output_type": "stream",
     "text": [
      "100%|██████████████████████| 4728/4728 [00:18<00:00, 251.04it/s]\n",
      "49it [00:00, 483.40it/s]"
     ]
    },
    {
     "name": "stdout",
     "output_type": "stream",
     "text": [
      "Records : 4728\n",
      "Emas creation...\n"
     ]
    },
    {
     "name": "stderr",
     "output_type": "stream",
     "text": [
      "4724it [00:08, 573.40it/s]\n",
      "4719it [00:08, 579.72it/s]\n",
      "137it [00:00, 1331.64it/s]"
     ]
    },
    {
     "name": "stdout",
     "output_type": "stream",
     "text": [
      "slope creation...\n"
     ]
    },
    {
     "name": "stderr",
     "output_type": "stream",
     "text": [
      "4720it [00:03, 1494.38it/s]\n",
      "4715it [00:03, 1488.61it/s]\n"
     ]
    },
    {
     "name": "stdout",
     "output_type": "stream",
     "text": [
      "Direction identification...\n",
      "Total records : 4715\n",
      "target_column : direction\n",
      "          counts  percentage\n",
      "same        2994   63.499470\n",
      "decrease     884   18.748674\n",
      "increase     837   17.751856\n",
      "=======================\n",
      "Avg Direction -------------------------\n",
      "direction : same\n",
      "          counts  percentage\n",
      "same        1510   50.434202\n",
      "increase     773   25.818303\n",
      "decrease     711   23.747495\n",
      "=======================\n",
      "direction : increase\n",
      "          counts  percentage\n",
      "increase     641   76.583035\n",
      "same         179   21.385902\n",
      "decrease      17    2.031063\n",
      "=======================\n",
      "direction : decrease\n",
      "          counts  percentage\n",
      "decrease     701   79.298643\n",
      "same         169   19.117647\n",
      "increase      14    1.583710\n",
      "=======================\n",
      "\n",
      "\n",
      "Act Direction -------------------------\n",
      "direction : same\n",
      "          counts  percentage\n",
      "same        1119   37.374749\n",
      "increase     955   31.897128\n",
      "decrease     920   30.728123\n",
      "=======================\n",
      "direction : increase\n",
      "          counts  percentage\n",
      "increase     517   61.768220\n",
      "same         244   29.151732\n",
      "decrease      76    9.080048\n",
      "=======================\n",
      "direction : decrease\n",
      "          counts  percentage\n",
      "decrease     575   65.045249\n",
      "same         210   23.755656\n",
      "increase      99   11.199095\n",
      "=======================\n",
      "\n",
      "\n",
      "-----------------------------------2021--------------------------------------\n",
      "Wall time: 1min 31s\n"
     ]
    }
   ],
   "source": [
    "%%time\n",
    "for year in train_files:\n",
    "    df = run_data_prep(year)"
   ]
  },
  {
   "cell_type": "code",
   "execution_count": 16,
   "metadata": {},
   "outputs": [
    {
     "data": {
      "text/plain": [
       "4715"
      ]
     },
     "execution_count": 16,
     "metadata": {},
     "output_type": "execute_result"
    }
   ],
   "source": [
    "len(df)"
   ]
  },
  {
   "cell_type": "code",
   "execution_count": 27,
   "metadata": {},
   "outputs": [
    {
     "name": "stderr",
     "output_type": "stream",
     "text": [
      "100%|███████████████████| 4715/4715 [00:00<00:00, 294889.04it/s]\n"
     ]
    }
   ],
   "source": [
    "s_list = collections.deque([])\n",
    "i = 0\n",
    "pip_val = 0.00012\n",
    "cons_dir_list = []\n",
    "\n",
    "for s_val in tqdm(df['sema']):\n",
    "    s_len = len(s_list)\n",
    "    if s_len < 2:\n",
    "        s_list.append(sema_val)\n",
    "        cons_dir = 0\n",
    "    elif s_len == 2:\n",
    "        s_list.popleft()\n",
    "        s_list.append(s_val)\n",
    "        s_diff = s_list[1] - s_list[0]\n",
    "        \n",
    "        if s_diff >= pip_val:\n",
    "            cons_dir += 1\n",
    "            \n",
    "        elif s_diff <= -pip_val:\n",
    "            cons_dir -= 1\n",
    "            \n",
    "        else:\n",
    "            cons_dir += 0\n",
    "          \n",
    "    cons_dir_list.append(cons_dir)\n",
    "    \n",
    "df['cons_dir'] =  cons_dir_list"
   ]
  },
  {
   "cell_type": "code",
   "execution_count": 40,
   "metadata": {},
   "outputs": [
    {
     "name": "stderr",
     "output_type": "stream",
     "text": [
      "100%|███████████████████| 4715/4715 [00:00<00:00, 589804.45it/s]\n"
     ]
    }
   ],
   "source": [
    "s_list = collections.deque([])\n",
    "i = 0\n",
    "pip_val = 0.00012\n",
    "cons_dir_list = []\n",
    "cons_dir = 0\n",
    "\n",
    "for s_diff in tqdm(df['sema_diff']):\n",
    "\n",
    "    if s_diff >= pip_val:\n",
    "        cons_dir += 1\n",
    "\n",
    "    elif s_diff <= -pip_val:\n",
    "        cons_dir -= 1\n",
    "\n",
    "    else:\n",
    "        cons_dir += 0\n",
    "\n",
    "    cons_dir_list.append(cons_dir)\n",
    "    \n",
    "df['cons_dir1'] =  cons_dir_list"
   ]
  },
  {
   "cell_type": "code",
   "execution_count": 34,
   "metadata": {},
   "outputs": [
    {
     "data": {
      "text/plain": [
       "[<matplotlib.lines.Line2D at 0x21abaadf860>]"
      ]
     },
     "execution_count": 34,
     "metadata": {},
     "output_type": "execute_result"
    },
    {
     "data": {
      "image/png": "[encoded data removed]",
      "text/plain": [
       "<Figure size 432x288 with 1 Axes>"
      ]
     },
     "metadata": {
      "needs_background": "light"
     },
     "output_type": "display_data"
    }
   ],
   "source": [
    "plt.plot(df['sema'])"
   ]
  },
  {
   "cell_type": "code",
   "execution_count": 36,
   "metadata": {},
   "outputs": [
    {
     "data": {
      "text/plain": [
       "[<matplotlib.lines.Line2D at 0x21ababaab70>]"
      ]
     },
     "execution_count": 36,
     "metadata": {},
     "output_type": "execute_result"
    },
    {
     "data": {
      "image/png": "[encoded data removed]",
      "text/plain": [
       "<Figure size 432x288 with 1 Axes>"
      ]
     },
     "metadata": {
      "needs_background": "light"
     },
     "output_type": "display_data"
    }
   ],
   "source": [
    "plt.plot(df['cons_dir'])"
   ]
  },
  {
   "cell_type": "code",
   "execution_count": 42,
   "metadata": {},
   "outputs": [
    {
     "data": {
      "text/html": [
       "<div>\n",
       "<style scoped>\n",
       "    .dataframe tbody tr th:only-of-type {\n",
       "        vertical-align: middle;\n",
       "    }\n",
       "\n",
       "    .dataframe tbody tr th {\n",
       "        vertical-align: top;\n",
       "    }\n",
       "\n",
       "    .dataframe thead th {\n",
       "        text-align: right;\n",
       "    }\n",
       "</style>\n",
       "<table border=\"1\" class=\"dataframe\">\n",
       "  <thead>\n",
       "    <tr style=\"text-align: right;\">\n",
       "      <th></th>\n",
       "      <th>sema_diff</th>\n",
       "      <th>cons_dir</th>\n",
       "      <th>cons_dir1</th>\n",
       "    </tr>\n",
       "  </thead>\n",
       "  <tbody>\n",
       "    <tr>\n",
       "      <th>0</th>\n",
       "      <td>0.00018</td>\n",
       "      <td>0</td>\n",
       "      <td>1</td>\n",
       "    </tr>\n",
       "    <tr>\n",
       "      <th>1</th>\n",
       "      <td>0.00024</td>\n",
       "      <td>0</td>\n",
       "      <td>2</td>\n",
       "    </tr>\n",
       "    <tr>\n",
       "      <th>2</th>\n",
       "      <td>0.00018</td>\n",
       "      <td>1</td>\n",
       "      <td>3</td>\n",
       "    </tr>\n",
       "    <tr>\n",
       "      <th>3</th>\n",
       "      <td>0.00024</td>\n",
       "      <td>2</td>\n",
       "      <td>4</td>\n",
       "    </tr>\n",
       "    <tr>\n",
       "      <th>4</th>\n",
       "      <td>0.00012</td>\n",
       "      <td>3</td>\n",
       "      <td>5</td>\n",
       "    </tr>\n",
       "    <tr>\n",
       "      <th>...</th>\n",
       "      <td>...</td>\n",
       "      <td>...</td>\n",
       "      <td>...</td>\n",
       "    </tr>\n",
       "    <tr>\n",
       "      <th>4710</th>\n",
       "      <td>0.00000</td>\n",
       "      <td>-48</td>\n",
       "      <td>-53</td>\n",
       "    </tr>\n",
       "    <tr>\n",
       "      <th>4711</th>\n",
       "      <td>0.00004</td>\n",
       "      <td>-48</td>\n",
       "      <td>-53</td>\n",
       "    </tr>\n",
       "    <tr>\n",
       "      <th>4712</th>\n",
       "      <td>0.00006</td>\n",
       "      <td>-48</td>\n",
       "      <td>-53</td>\n",
       "    </tr>\n",
       "    <tr>\n",
       "      <th>4713</th>\n",
       "      <td>0.00007</td>\n",
       "      <td>-48</td>\n",
       "      <td>-53</td>\n",
       "    </tr>\n",
       "    <tr>\n",
       "      <th>4714</th>\n",
       "      <td>0.00008</td>\n",
       "      <td>-48</td>\n",
       "      <td>-53</td>\n",
       "    </tr>\n",
       "  </tbody>\n",
       "</table>\n",
       "<p>4715 rows × 3 columns</p>\n",
       "</div>"
      ],
      "text/plain": [
       "      sema_diff  cons_dir  cons_dir1\n",
       "0       0.00018         0          1\n",
       "1       0.00024         0          2\n",
       "2       0.00018         1          3\n",
       "3       0.00024         2          4\n",
       "4       0.00012         3          5\n",
       "...         ...       ...        ...\n",
       "4710    0.00000       -48        -53\n",
       "4711    0.00004       -48        -53\n",
       "4712    0.00006       -48        -53\n",
       "4713    0.00007       -48        -53\n",
       "4714    0.00008       -48        -53\n",
       "\n",
       "[4715 rows x 3 columns]"
      ]
     },
     "execution_count": 42,
     "metadata": {},
     "output_type": "execute_result"
    }
   ],
   "source": [
    "df[['sema_diff', 'cons_dir', 'cons_dir1']]"
   ]
  }
 ],
 "metadata": {
  "kernelspec": {
   "display_name": "Python 3",
   "language": "python",
   "name": "python3"
  },
  "language_info": {
   "codemirror_mode": {
    "name": "ipython",
    "version": 3
   },
   "file_extension": ".py",
   "mimetype": "text/x-python",
   "name": "python",
   "nbconvert_exporter": "python",
   "pygments_lexer": "ipython3",
   "version": "3.6.6"
  }
 },
 "nbformat": 4,
 "nbformat_minor": 4
}
