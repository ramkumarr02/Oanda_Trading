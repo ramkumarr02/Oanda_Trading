{
 "cells": [
  {
   "cell_type": "markdown",
   "metadata": {},
   "source": [
    "# ML Trader"
   ]
  },
  {
   "cell_type": "code",
   "execution_count": 1,
   "metadata": {
    "scrolled": true
   },
   "outputs": [],
   "source": [
    "from utils.packages import *\n",
    "from utils.variables import *\n",
    "from utils.i_o import *\n",
    "from utils.dir_slope import *\n",
    "from utils.engine import *\n",
    "from utils.loops import *\n",
    "from utils.order import *\n",
    "from utils.ml import *\n",
    "import winsound"
   ]
  },
  {
   "cell_type": "markdown",
   "metadata": {},
   "source": [
    "# Action Points\n",
    "\n",
    "## 1. No need to make 10 transactions a day. Just one is enough\n",
    "## 2. See the lema gap size on the losing months\n",
    "## 3. Can I use actual tick value (close) instead of lema for moves?"
   ]
  },
  {
   "cell_type": "code",
   "execution_count": 2,
   "metadata": {
    "scrolled": false
   },
   "outputs": [
    {
     "name": "stderr",
     "output_type": "stream",
     "text": [
      "100%|██████████████████████████████████| 74585/74585 [00:24<00:00, 3078.73it/s]\n"
     ]
    },
    {
     "name": "stdout",
     "output_type": "stream",
     "text": [
      "pl    0.07832\n",
      "dtype: float64\n",
      "--------------------------------------\n",
      "            DateTime_frmt  order_side  close_type       pl\n",
      "71201 2020-12-15 13:25:00         NaN  sema_close -0.00261\n",
      "71332 2020-12-16 00:20:00         NaN  sema_close -0.00051\n",
      "71949 2020-12-18 03:45:00         NaN  sema_close  0.00903\n",
      "72001 2020-12-18 08:05:00         NaN  sema_close -0.00073\n",
      "72081 2020-12-18 14:45:00         NaN  sema_close -0.00083\n",
      "72427 2020-12-21 19:35:00         NaN  sema_close -0.00118\n",
      "72640 2020-12-22 13:20:00         NaN  sema_close -0.00053\n",
      "72860 2020-12-23 07:40:00         NaN  sema_close -0.00151\n",
      "72944 2020-12-23 14:40:00         NaN  sema_close -0.00467\n",
      "73055 2020-12-23 23:55:00         NaN  sema_close -0.00119\n",
      "73231 2020-12-24 14:35:00         NaN  sema_close -0.00131\n",
      "73319 2020-12-24 21:55:00         NaN  sema_close -0.00045\n",
      "73371 2020-12-25 02:45:00         NaN  sema_close -0.00079\n",
      "73466 2020-12-28 00:45:00         NaN  sema_close -0.00164\n",
      "74448 2020-12-31 10:35:00         NaN  sema_close  0.00740\n"
     ]
    },
    {
     "name": "stderr",
     "output_type": "stream",
     "text": [
      "100%|██████████████████████████████████████| 552/552 [00:00<00:00, 1142.25it/s]"
     ]
    },
    {
     "name": "stdout",
     "output_type": "stream",
     "text": [
      "Wall time: 6min 58s\n"
     ]
    },
    {
     "name": "stderr",
     "output_type": "stream",
     "text": [
      "\n"
     ]
    }
   ],
   "source": [
    "%%time\n",
    "data = run_engine(data)"
   ]
  },
  {
   "cell_type": "code",
   "execution_count": 3,
   "metadata": {},
   "outputs": [
    {
     "name": "stdout",
     "output_type": "stream",
     "text": [
      "month_val\n",
      "1     0.00315\n",
      "2     0.01590\n",
      "3     0.03050\n",
      "4    -0.01466\n",
      "5     0.03216\n",
      "6     0.00297\n",
      "7    -0.00486\n",
      "8    -0.01498\n",
      "9     0.01857\n",
      "10    0.00497\n",
      "11    0.00871\n",
      "12   -0.00411\n",
      "Name: pl, dtype: float64\n",
      "---------------------\n",
      "max : 5 : 0.03216\n",
      "min : 8 : -0.01498\n",
      "---------------------\n"
     ]
    }
   ],
   "source": [
    "x = data['df_ohlc'].groupby(['month_val'])['pl'].sum()\n",
    "print(x)\n",
    "print('---------------------')\n",
    "print(f'max : {x.idxmax()} : {max(x)}')\n",
    "print(f'min : {x.idxmin()} : {min(x)}')\n",
    "print('---------------------')"
   ]
  },
  {
   "cell_type": "code",
   "execution_count": 4,
   "metadata": {},
   "outputs": [
    {
     "data": {
      "text/html": [
       "<div>\n",
       "<style scoped>\n",
       "    .dataframe tbody tr th:only-of-type {\n",
       "        vertical-align: middle;\n",
       "    }\n",
       "\n",
       "    .dataframe tbody tr th {\n",
       "        vertical-align: top;\n",
       "    }\n",
       "\n",
       "    .dataframe thead th {\n",
       "        text-align: right;\n",
       "    }\n",
       "</style>\n",
       "<table border=\"1\" class=\"dataframe\">\n",
       "  <thead>\n",
       "    <tr style=\"text-align: right;\">\n",
       "      <th></th>\n",
       "      <th>index</th>\n",
       "      <th>positive</th>\n",
       "      <th>negative</th>\n",
       "      <th>count_diff</th>\n",
       "      <th>positive_sum</th>\n",
       "      <th>negative_sum</th>\n",
       "      <th>sum_diff</th>\n",
       "    </tr>\n",
       "  </thead>\n",
       "  <tbody>\n",
       "    <tr>\n",
       "      <th>2</th>\n",
       "      <td>0.000</td>\n",
       "      <td>16.0</td>\n",
       "      <td>41.0</td>\n",
       "      <td>-25.0</td>\n",
       "      <td>0.07975</td>\n",
       "      <td>-0.06338</td>\n",
       "      <td>0.01637</td>\n",
       "    </tr>\n",
       "    <tr>\n",
       "      <th>1</th>\n",
       "      <td>0.001</td>\n",
       "      <td>16.0</td>\n",
       "      <td>41.0</td>\n",
       "      <td>-25.0</td>\n",
       "      <td>0.07301</td>\n",
       "      <td>-0.06806</td>\n",
       "      <td>0.00495</td>\n",
       "    </tr>\n",
       "    <tr>\n",
       "      <th>0</th>\n",
       "      <td>0.002</td>\n",
       "      <td>22.0</td>\n",
       "      <td>50.0</td>\n",
       "      <td>-28.0</td>\n",
       "      <td>0.08540</td>\n",
       "      <td>-0.08652</td>\n",
       "      <td>-0.00112</td>\n",
       "    </tr>\n",
       "    <tr>\n",
       "      <th>3</th>\n",
       "      <td>0.003</td>\n",
       "      <td>8.0</td>\n",
       "      <td>21.0</td>\n",
       "      <td>-13.0</td>\n",
       "      <td>0.04918</td>\n",
       "      <td>-0.04837</td>\n",
       "      <td>0.00081</td>\n",
       "    </tr>\n",
       "    <tr>\n",
       "      <th>4</th>\n",
       "      <td>0.004</td>\n",
       "      <td>7.0</td>\n",
       "      <td>12.0</td>\n",
       "      <td>-5.0</td>\n",
       "      <td>0.03157</td>\n",
       "      <td>-0.02968</td>\n",
       "      <td>0.00189</td>\n",
       "    </tr>\n",
       "    <tr>\n",
       "      <th>5</th>\n",
       "      <td>0.005</td>\n",
       "      <td>8.0</td>\n",
       "      <td>6.0</td>\n",
       "      <td>2.0</td>\n",
       "      <td>0.01386</td>\n",
       "      <td>-0.01043</td>\n",
       "      <td>0.00343</td>\n",
       "    </tr>\n",
       "    <tr>\n",
       "      <th>6</th>\n",
       "      <td>0.006</td>\n",
       "      <td>2.0</td>\n",
       "      <td>6.0</td>\n",
       "      <td>-4.0</td>\n",
       "      <td>0.01533</td>\n",
       "      <td>-0.00893</td>\n",
       "      <td>0.00640</td>\n",
       "    </tr>\n",
       "    <tr>\n",
       "      <th>7</th>\n",
       "      <td>0.007</td>\n",
       "      <td>4.0</td>\n",
       "      <td>4.0</td>\n",
       "      <td>0.0</td>\n",
       "      <td>0.04998</td>\n",
       "      <td>-0.00721</td>\n",
       "      <td>0.04277</td>\n",
       "    </tr>\n",
       "    <tr>\n",
       "      <th>12</th>\n",
       "      <td>0.008</td>\n",
       "      <td>0.0</td>\n",
       "      <td>1.0</td>\n",
       "      <td>-1.0</td>\n",
       "      <td>0.00000</td>\n",
       "      <td>-0.00257</td>\n",
       "      <td>-0.00257</td>\n",
       "    </tr>\n",
       "    <tr>\n",
       "      <th>15</th>\n",
       "      <td>0.009</td>\n",
       "      <td>1.0</td>\n",
       "      <td>0.0</td>\n",
       "      <td>1.0</td>\n",
       "      <td>0.01116</td>\n",
       "      <td>0.00000</td>\n",
       "      <td>0.01116</td>\n",
       "    </tr>\n",
       "    <tr>\n",
       "      <th>8</th>\n",
       "      <td>0.010</td>\n",
       "      <td>0.0</td>\n",
       "      <td>3.0</td>\n",
       "      <td>-3.0</td>\n",
       "      <td>0.00000</td>\n",
       "      <td>-0.00512</td>\n",
       "      <td>-0.00512</td>\n",
       "    </tr>\n",
       "    <tr>\n",
       "      <th>9</th>\n",
       "      <td>0.011</td>\n",
       "      <td>1.0</td>\n",
       "      <td>2.0</td>\n",
       "      <td>-1.0</td>\n",
       "      <td>0.00692</td>\n",
       "      <td>-0.00612</td>\n",
       "      <td>0.00080</td>\n",
       "    </tr>\n",
       "    <tr>\n",
       "      <th>13</th>\n",
       "      <td>0.012</td>\n",
       "      <td>0.0</td>\n",
       "      <td>1.0</td>\n",
       "      <td>-1.0</td>\n",
       "      <td>0.00000</td>\n",
       "      <td>-0.00392</td>\n",
       "      <td>-0.00392</td>\n",
       "    </tr>\n",
       "    <tr>\n",
       "      <th>14</th>\n",
       "      <td>0.014</td>\n",
       "      <td>1.0</td>\n",
       "      <td>0.0</td>\n",
       "      <td>1.0</td>\n",
       "      <td>0.00503</td>\n",
       "      <td>0.00000</td>\n",
       "      <td>0.00503</td>\n",
       "    </tr>\n",
       "    <tr>\n",
       "      <th>10</th>\n",
       "      <td>0.015</td>\n",
       "      <td>0.0</td>\n",
       "      <td>1.0</td>\n",
       "      <td>-1.0</td>\n",
       "      <td>0.00000</td>\n",
       "      <td>-0.00208</td>\n",
       "      <td>-0.00208</td>\n",
       "    </tr>\n",
       "    <tr>\n",
       "      <th>11</th>\n",
       "      <td>0.019</td>\n",
       "      <td>0.0</td>\n",
       "      <td>1.0</td>\n",
       "      <td>-1.0</td>\n",
       "      <td>0.00000</td>\n",
       "      <td>-0.00048</td>\n",
       "      <td>-0.00048</td>\n",
       "    </tr>\n",
       "  </tbody>\n",
       "</table>\n",
       "</div>"
      ],
      "text/plain": [
       "    index  positive  negative  count_diff  positive_sum  negative_sum  \\\n",
       "2   0.000      16.0      41.0       -25.0       0.07975      -0.06338   \n",
       "1   0.001      16.0      41.0       -25.0       0.07301      -0.06806   \n",
       "0   0.002      22.0      50.0       -28.0       0.08540      -0.08652   \n",
       "3   0.003       8.0      21.0       -13.0       0.04918      -0.04837   \n",
       "4   0.004       7.0      12.0        -5.0       0.03157      -0.02968   \n",
       "5   0.005       8.0       6.0         2.0       0.01386      -0.01043   \n",
       "6   0.006       2.0       6.0        -4.0       0.01533      -0.00893   \n",
       "7   0.007       4.0       4.0         0.0       0.04998      -0.00721   \n",
       "12  0.008       0.0       1.0        -1.0       0.00000      -0.00257   \n",
       "15  0.009       1.0       0.0         1.0       0.01116       0.00000   \n",
       "8   0.010       0.0       3.0        -3.0       0.00000      -0.00512   \n",
       "9   0.011       1.0       2.0        -1.0       0.00692      -0.00612   \n",
       "13  0.012       0.0       1.0        -1.0       0.00000      -0.00392   \n",
       "14  0.014       1.0       0.0         1.0       0.00503       0.00000   \n",
       "10  0.015       0.0       1.0        -1.0       0.00000      -0.00208   \n",
       "11  0.019       0.0       1.0        -1.0       0.00000      -0.00048   \n",
       "\n",
       "    sum_diff  \n",
       "2    0.01637  \n",
       "1    0.00495  \n",
       "0   -0.00112  \n",
       "3    0.00081  \n",
       "4    0.00189  \n",
       "5    0.00343  \n",
       "6    0.00640  \n",
       "7    0.04277  \n",
       "12  -0.00257  \n",
       "15   0.01116  \n",
       "8   -0.00512  \n",
       "9    0.00080  \n",
       "13  -0.00392  \n",
       "14   0.00503  \n",
       "10  -0.00208  \n",
       "11  -0.00048  "
      ]
     },
     "execution_count": 4,
     "metadata": {},
     "output_type": "execute_result"
    }
   ],
   "source": [
    "data = lema_gap_pl_analysis(data)\n",
    "data['lema_gap_pl_report']"
   ]
  },
  {
   "cell_type": "code",
   "execution_count": 5,
   "metadata": {},
   "outputs": [],
   "source": [
    "y = data['df_ohlc']['pl'].sum()\n",
    "x = data['df_ohlc'].groupby(['month_val'])['pl'].sum()\n",
    "send_telegram_message(f'{data[\"input_year\"]}')\n",
    "send_telegram_message(f'{y}')\n",
    "send_telegram_message(f'{x}')\n",
    "send_telegram_message(f'-------------------')"
   ]
  },
  {
   "cell_type": "code",
   "execution_count": 6,
   "metadata": {},
   "outputs": [
    {
     "ename": "SystemExit",
     "evalue": "",
     "output_type": "error",
     "traceback": [
      "An exception has occurred, use %tb to see the full traceback.\n",
      "\u001b[1;31mSystemExit\u001b[0m\n"
     ]
    }
   ],
   "source": [
    "sys.exit()"
   ]
  },
  {
   "cell_type": "code",
   "execution_count": null,
   "metadata": {},
   "outputs": [],
   "source": [
    "y = data['df_ohlc'][data['df_ohlc']['month_val'] == 6]\n",
    "x = y.groupby(['date_val'])['pl'].sum()\n",
    "print(x)\n",
    "print('---------------------')\n",
    "print(f'max : {x.idxmax()} : {max(x)}')\n",
    "print(f'min : {x.idxmin()} : {min(x)}')\n",
    "print('---------------------')"
   ]
  },
  {
   "cell_type": "code",
   "execution_count": null,
   "metadata": {
    "scrolled": true
   },
   "outputs": [],
   "source": [
    "data['df_ohlc'].tail()"
   ]
  },
  {
   "cell_type": "code",
   "execution_count": null,
   "metadata": {
    "scrolled": true
   },
   "outputs": [],
   "source": [
    "data['df_ohlc']['lema_gap'].describe()"
   ]
  },
  {
   "cell_type": "code",
   "execution_count": null,
   "metadata": {
    "scrolled": true
   },
   "outputs": [],
   "source": [
    "x = 5\n",
    "data['df_ohlc'].iloc[-5:,x:x+15]"
   ]
  },
  {
   "cell_type": "code",
   "execution_count": null,
   "metadata": {},
   "outputs": [],
   "source": [
    "df_small"
   ]
  },
  {
   "cell_type": "code",
   "execution_count": null,
   "metadata": {},
   "outputs": [],
   "source": [
    "order_side = 'positive'\n",
    "y = pd.DataFrame(data['df_small'][data['df_small']['pl_type'] == order_side].lema_gap.round(3).value_counts())\n",
    "y= y.reset_index()\n",
    "y = y.rename(columns = {'lema_gap':order_side})\n",
    "\n",
    "order_side = 'negative'\n",
    "x= pd.DataFrame(data['df_small'][data['df_small']['pl_type'] == order_side].lema_gap.round(3).value_counts())\n",
    "x = x.reset_index()\n",
    "x = x.rename(columns = {'lema_gap':order_side})\n",
    "\n",
    "all = x.merge(y, on = 'index', how = 'outer')\n",
    "all = all.fillna(0)\n",
    "\n",
    "all['diff'] = all['positive'] - all['negative']\n",
    "all = all.sort_values(by = ['diff', 'index'])\n",
    "all"
   ]
  },
  {
   "cell_type": "code",
   "execution_count": null,
   "metadata": {},
   "outputs": [],
   "source": [
    "df_small['order_side']"
   ]
  },
  {
   "cell_type": "code",
   "execution_count": null,
   "metadata": {},
   "outputs": [],
   "source": [
    "data['df_small'].to_csv('data/temp.csv')"
   ]
  },
  {
   "cell_type": "code",
   "execution_count": 9,
   "metadata": {
    "scrolled": false
   },
   "outputs": [],
   "source": [
    "data[\"plot\"] = True\n",
    "data['plot_type'] = 'file'\n",
    "data['reduce_plot'] = True\n",
    "month = 8\n",
    "data['plot_start']  = f\"{data['input_year']}-{month}-1\"\n",
    "data['plot_stop']   = f\"{data['input_year']}-{month+1}-1\"\n",
    "# data['things_to_plot'] = ['tick', 'ema', 'BBands', 'dots']\n",
    "# data['things_to_plot'] = ['ema', 'BBands', 'dots', 'indicators']\n",
    "# data['things_to_plot'] = ['ema', 'BBands', 'dots', 'cross']\n",
    "# data['things_to_plot'] = ['ema', 'BBands', 'dots', 'positions', 'tip']\n",
    "# data['things_to_plot'] = ['ema', 'BBands', 'dots', 'positions', 'lema_angle']\n",
    "# data['things_to_plot'] = ['ema', 'sema_angle', 'slema_angle', 'lema_angle', 'dir']\n",
    "# data['things_to_plot'] = ['ema', 'positions', 'lema_angle','slema_angle','sema_angle', 'rsi']\n",
    "data['things_to_plot'] = ['ema','positions', 'lema_angle','lema_diff', 'lema_max_min']\n",
    "\n",
    "plot_graph(data)"
   ]
  },
  {
   "cell_type": "code",
   "execution_count": null,
   "metadata": {},
   "outputs": [],
   "source": [
    "x = 252\n",
    "data['df_ohlc']['lema_angle'][x-3:x+3]"
   ]
  },
  {
   "cell_type": "markdown",
   "metadata": {
    "scrolled": true
   },
   "source": [
    "generate_result_report(data)"
   ]
  }
 ],
 "metadata": {
  "kernelspec": {
   "display_name": "Python 3",
   "language": "python",
   "name": "python3"
  },
  "language_info": {
   "codemirror_mode": {
    "name": "ipython",
    "version": 3
   },
   "file_extension": ".py",
   "mimetype": "text/x-python",
   "name": "python",
   "nbconvert_exporter": "python",
   "pygments_lexer": "ipython3",
   "version": "3.6.6"
  }
 },
 "nbformat": 4,
 "nbformat_minor": 4
}
