{
 "cells": [
  {
   "cell_type": "markdown",
   "metadata": {},
   "source": [
    "# ML Trader"
   ]
  },
  {
   "cell_type": "code",
   "execution_count": 1,
   "metadata": {
    "scrolled": true
   },
   "outputs": [],
   "source": [
    "from utils.packages import *\n",
    "from utils.variables import *\n",
    "from utils.i_o import *\n",
    "from utils.dir_slope import *\n",
    "from utils.engine import *\n",
    "from utils.loops import *\n",
    "from utils.order import *\n",
    "from utils.ml import *\n",
    "import winsound"
   ]
  },
  {
   "cell_type": "markdown",
   "metadata": {},
   "source": [
    "# Notes\n",
    "---\n",
    "\n",
    "## Observations\n",
    "\n",
    "1. No need to make 10 transactions a day. Just one is enough\n",
    "\n",
    "1. lema or sema match\n",
    "    1. Using lema match works fine in both opening and closing positions\n",
    "    1. Using lema has better results\n",
    "    1. 144 produces better resuls over higher numbers like 1440 \n",
    "\n",
    "1. Lema angle in order and close\n",
    "    1. Using lema angle in order, delays order, but overall profits are high\n",
    "    1. Using lema angle in close also increases overall profit\n",
    "\n",
    "1. Before everything need to find why 2021 is consistently producing negative results in all the setups.\n",
    "    1. What is that this causing this issue, how can it be addressed with in the same system\n",
    "    1. less complex method is essential\n",
    "    \n",
    "---\n",
    "\n",
    "\n",
    "## To Test\n",
    "1. Find whether the opening or closing that is causing the most issue in loss years\n",
    "1. Test other years to understand how well this setup works.\n",
    "1. Remove lema match check from closing. This is delaying bad trasactions\n",
    "1. Test 5 round up on lema match. Transactions are opening in lema match gaps\n",
    "1. Ideation\n",
    "    1. Test lema Bollinger bands to understand flow direction\n",
    "    1. Test overall flow direction\n",
    "    \n",
    "---\n",
    "\n",
    "## Result by Years\n",
    "\n",
    "| Year | Angle open | Angle close | Lema match open | Lema match close | Result type | pips  |\n",
    "| ---- | ---------- | ----------- | --------------- | ---------------- | ----------- | ----- |\n",
    "| 2022 | Yes        | No          | Yes             | Yes              | Profit      | 200   |\n",
    "| 2021 | Yes        | No          | Yes             | Yes              | Loss        | \\-800 |\n",
    "| 2020 | Yes        | No          | Yes             | Yes              | Profit      | 800   |\n",
    "| 2019 | Yes        | No          | Yes             | Yes              | Loss        | \\-400 |\n",
    "| 2018 | Yes        | No          | Yes             | Yes              | Profit      | 300   |\n",
    "| 2017 | Yes        | No          | Yes             | Yes              | Profit      | 14    |    "
   ]
  },
  {
   "cell_type": "markdown",
   "metadata": {},
   "source": [
    "data                = get_date_list(data)\n",
    "data                = read_data(data)"
   ]
  },
  {
   "cell_type": "code",
   "execution_count": 3,
   "metadata": {
    "scrolled": false
   },
   "outputs": [
    {
     "name": "stdout",
     "output_type": "stream",
     "text": [
      "pl   -0.07321\n",
      "dtype: float64\n",
      "--------------------------------------\n",
      "            DateTime_frmt  order_side  close_type       pl\n",
      "70792 2021-12-15 20:25:00         NaN  sema_close -0.00246\n",
      "71318 2021-12-17 16:15:00         NaN  sema_close -0.00166\n",
      "71588 2021-12-20 14:45:00         NaN  sema_close -0.00255\n",
      "71782 2021-12-21 06:55:00         NaN  sema_close -0.00178\n",
      "72078 2021-12-22 07:35:00         NaN  sema_close -0.00260\n",
      "72137 2021-12-22 12:30:00         NaN  sema_close -0.00388\n",
      "72460 2021-12-23 15:25:00         NaN  sema_close  0.00089\n",
      "72594 2021-12-24 02:35:00         NaN  sema_close -0.00018\n",
      "72716 2021-12-24 12:45:00         NaN  sema_close -0.00033\n",
      "73120 2021-12-27 22:30:00         NaN  sema_close -0.00234\n",
      "73163 2021-12-28 02:05:00         NaN  sema_close -0.00089\n",
      "73624 2021-12-29 16:30:00         NaN  sema_close -0.00480\n",
      "73773 2021-12-30 04:55:00         NaN  sema_close -0.00084\n",
      "73968 2021-12-30 21:10:00         NaN  sema_close -0.00227\n",
      "74177 2021-12-31 14:35:00         NaN  sema_close -0.00320\n"
     ]
    },
    {
     "name": "stderr",
     "output_type": "stream",
     "text": [
      "100%|██████████████████████████████████| 74266/74266 [00:26<00:00, 2824.51it/s]\n",
      "100%|███████████████████████████████████████| 413/413 [00:00<00:00, 996.11it/s]"
     ]
    },
    {
     "name": "stdout",
     "output_type": "stream",
     "text": [
      "Wall time: 1min 56s\n"
     ]
    },
    {
     "name": "stderr",
     "output_type": "stream",
     "text": [
      "\n"
     ]
    }
   ],
   "source": [
    "%%time\n",
    "data = run_engine(data)"
   ]
  },
  {
   "cell_type": "code",
   "execution_count": 4,
   "metadata": {},
   "outputs": [
    {
     "name": "stdout",
     "output_type": "stream",
     "text": [
      "month_val\n",
      "1    -0.00457\n",
      "2     0.01460\n",
      "3    -0.00086\n",
      "4    -0.02329\n",
      "5     0.00664\n",
      "6    -0.00189\n",
      "7    -0.01088\n",
      "8    -0.00155\n",
      "9    -0.02344\n",
      "10    0.00566\n",
      "11    0.00749\n",
      "12   -0.04112\n",
      "Name: pl, dtype: float64\n",
      "---------------------\n",
      "month_val\n",
      "12   -0.04112\n",
      "9    -0.02344\n",
      "4    -0.02329\n",
      "7    -0.01088\n",
      "1    -0.00457\n",
      "6    -0.00189\n",
      "8    -0.00155\n",
      "3    -0.00086\n",
      "10    0.00566\n",
      "5     0.00664\n",
      "11    0.00749\n",
      "2     0.01460\n",
      "Name: pl, dtype: float64\n",
      "---------------------\n",
      "max : 2 : 0.014599999999999998\n",
      "min : 12 : -0.04112000000000001\n",
      "---------------------\n",
      "monthly_avg : -0.0061\n"
     ]
    }
   ],
   "source": [
    "x = data['df_ohlc'].groupby(['month_val'])['pl'].sum()\n",
    "print(x)\n",
    "print('---------------------')\n",
    "print(x.sort_values())\n",
    "print('---------------------')\n",
    "print(f'max : {x.idxmax()} : {max(x)}')\n",
    "print(f'min : {x.idxmin()} : {min(x)}')\n",
    "print('---------------------')\n",
    "monthly_avg = np.round(data['df_ohlc']['pl'].sum()/len(set(data['df_ohlc']['month_val'])),4)\n",
    "print(f'monthly_avg : {monthly_avg}')"
   ]
  },
  {
   "cell_type": "code",
   "execution_count": 5,
   "metadata": {},
   "outputs": [
    {
     "data": {
      "text/html": [
       "<div>\n",
       "<style scoped>\n",
       "    .dataframe tbody tr th:only-of-type {\n",
       "        vertical-align: middle;\n",
       "    }\n",
       "\n",
       "    .dataframe tbody tr th {\n",
       "        vertical-align: top;\n",
       "    }\n",
       "\n",
       "    .dataframe thead th {\n",
       "        text-align: right;\n",
       "    }\n",
       "</style>\n",
       "<table border=\"1\" class=\"dataframe\">\n",
       "  <thead>\n",
       "    <tr style=\"text-align: right;\">\n",
       "      <th></th>\n",
       "      <th>index</th>\n",
       "      <th>positive</th>\n",
       "      <th>negative</th>\n",
       "      <th>count_diff</th>\n",
       "      <th>positive_sum</th>\n",
       "      <th>negative_sum</th>\n",
       "      <th>sum_diff</th>\n",
       "    </tr>\n",
       "  </thead>\n",
       "  <tbody>\n",
       "    <tr>\n",
       "      <th>3</th>\n",
       "      <td>0.000</td>\n",
       "      <td>1.0</td>\n",
       "      <td>1</td>\n",
       "      <td>0.0</td>\n",
       "      <td>0.00296</td>\n",
       "      <td>-0.00191</td>\n",
       "      <td>0.00105</td>\n",
       "    </tr>\n",
       "    <tr>\n",
       "      <th>0</th>\n",
       "      <td>0.001</td>\n",
       "      <td>1.0</td>\n",
       "      <td>5</td>\n",
       "      <td>-4.0</td>\n",
       "      <td>0.00713</td>\n",
       "      <td>-0.00860</td>\n",
       "      <td>-0.00147</td>\n",
       "    </tr>\n",
       "    <tr>\n",
       "      <th>1</th>\n",
       "      <td>0.002</td>\n",
       "      <td>1.0</td>\n",
       "      <td>5</td>\n",
       "      <td>-4.0</td>\n",
       "      <td>0.01135</td>\n",
       "      <td>-0.01243</td>\n",
       "      <td>-0.00108</td>\n",
       "    </tr>\n",
       "    <tr>\n",
       "      <th>2</th>\n",
       "      <td>0.004</td>\n",
       "      <td>0.0</td>\n",
       "      <td>1</td>\n",
       "      <td>-1.0</td>\n",
       "      <td>0.00000</td>\n",
       "      <td>-0.00158</td>\n",
       "      <td>-0.00158</td>\n",
       "    </tr>\n",
       "  </tbody>\n",
       "</table>\n",
       "</div>"
      ],
      "text/plain": [
       "   index  positive  negative  count_diff  positive_sum  negative_sum  sum_diff\n",
       "3  0.000       1.0         1         0.0       0.00296      -0.00191   0.00105\n",
       "0  0.001       1.0         5        -4.0       0.00713      -0.00860  -0.00147\n",
       "1  0.002       1.0         5        -4.0       0.01135      -0.01243  -0.00108\n",
       "2  0.004       0.0         1        -1.0       0.00000      -0.00158  -0.00158"
      ]
     },
     "execution_count": 5,
     "metadata": {},
     "output_type": "execute_result"
    }
   ],
   "source": [
    "data['lema_gap_pl_analysis_month'] = 8\n",
    "\n",
    "data = lema_gap_pl_analysis(data)\n",
    "data['lema_gap_pl_report']"
   ]
  },
  {
   "cell_type": "code",
   "execution_count": 6,
   "metadata": {},
   "outputs": [
    {
     "ename": "SystemExit",
     "evalue": "",
     "output_type": "error",
     "traceback": [
      "An exception has occurred, use %tb to see the full traceback.\n",
      "\u001b[1;31mSystemExit\u001b[0m\n"
     ]
    }
   ],
   "source": [
    "sys.exit()"
   ]
  },
  {
   "cell_type": "code",
   "execution_count": null,
   "metadata": {},
   "outputs": [],
   "source": [
    "print(data['df_small'].groupby(['weekday', 'pl_type'])['pl_type'].count().unstack())\n",
    "print('----------------------------------------------')\n",
    "print(data['df_small'].groupby(['weekday', 'pl_type'])['pl'].sum().unstack())"
   ]
  },
  {
   "cell_type": "code",
   "execution_count": null,
   "metadata": {},
   "outputs": [],
   "source": [
    "data['lema_gap_pl_analysis_month'] = 3\n",
    "\n",
    "data = lema_gap_pl_analysis(data)\n",
    "data['lema_gap_pl_report']"
   ]
  },
  {
   "cell_type": "code",
   "execution_count": null,
   "metadata": {},
   "outputs": [],
   "source": [
    "y = data['df_ohlc']['pl'].sum()\n",
    "x = data['df_ohlc'].groupby(['month_val'])['pl'].sum()\n",
    "send_telegram_message(f'{data[\"input_year\"]}')\n",
    "send_telegram_message(f'{y}')\n",
    "send_telegram_message(f'{x}')\n",
    "send_telegram_message(f'-------------------')"
   ]
  },
  {
   "cell_type": "code",
   "execution_count": null,
   "metadata": {},
   "outputs": [],
   "source": [
    "y = data['df_ohlc'][data['df_ohlc']['month_val'] == 6]\n",
    "x = y.groupby(['date_val'])['pl'].sum()\n",
    "print(x)\n",
    "print('---------------------')\n",
    "print(f'max : {x.idxmax()} : {max(x)}')\n",
    "print(f'min : {x.idxmin()} : {min(x)}')\n",
    "print('---------------------')"
   ]
  },
  {
   "cell_type": "code",
   "execution_count": null,
   "metadata": {
    "scrolled": true
   },
   "outputs": [],
   "source": [
    "data['df_ohlc'].tail()"
   ]
  },
  {
   "cell_type": "code",
   "execution_count": null,
   "metadata": {
    "scrolled": true
   },
   "outputs": [],
   "source": [
    "data['df_ohlc']['lema_gap'].describe()"
   ]
  },
  {
   "cell_type": "code",
   "execution_count": null,
   "metadata": {
    "scrolled": true
   },
   "outputs": [],
   "source": [
    "x = 5\n",
    "data['df_ohlc'].iloc[-5:,x:x+15]"
   ]
  },
  {
   "cell_type": "code",
   "execution_count": null,
   "metadata": {},
   "outputs": [],
   "source": [
    "data['df_small']['lema_gap'].describe()"
   ]
  },
  {
   "cell_type": "code",
   "execution_count": null,
   "metadata": {},
   "outputs": [],
   "source": [
    "a = np.arange(0,20)\n",
    "for b in a:\n",
    "    x = int(round(b/5.0)*5.0)\n",
    "    print(b, x)"
   ]
  },
  {
   "cell_type": "code",
   "execution_count": null,
   "metadata": {},
   "outputs": [],
   "source": [
    "abs(all['negative_sum']) / all['positive_sum']"
   ]
  },
  {
   "cell_type": "code",
   "execution_count": null,
   "metadata": {},
   "outputs": [],
   "source": [
    "df_small['order_side']"
   ]
  },
  {
   "cell_type": "code",
   "execution_count": null,
   "metadata": {},
   "outputs": [],
   "source": [
    "data['df_small'].to_csv('data/temp.csv')"
   ]
  },
  {
   "cell_type": "code",
   "execution_count": 8,
   "metadata": {
    "scrolled": false
   },
   "outputs": [],
   "source": [
    "data[\"plot\"] = True\n",
    "data['plot_type'] = 'file'\n",
    "data['reduce_plot'] = True\n",
    "month = 12\n",
    "\n",
    "# Monthly Chart -------------------\n",
    "data['plot_start']  = f\"{data['input_year']}-{month}-1\"\n",
    "\n",
    "if month == 12:\n",
    "    data['plot_stop']   = f\"{data['input_year']+1}-1-1\"\n",
    "else:\n",
    "    data['plot_stop']   = f\"{data['input_year']}-{month+1}-1\"\n",
    "\n",
    "# Year Chart ----------------------------\n",
    "# data['plot_start']  = f\"{data['input_year']}-1-1\"\n",
    "# data['plot_stop']   = f\"{data['input_year']+1}-1-1\"\n",
    "# Year Chart ----------------------------\n",
    "\n",
    "# data['things_to_plot'] = ['tick', 'ema', 'BBands', 'dots']\n",
    "# data['things_to_plot'] = ['ema', 'BBands', 'dots', 'indicators']\n",
    "# data['things_to_plot'] = ['ema', 'BBands', 'dots', 'cross']\n",
    "# data['things_to_plot'] = ['ema', 'BBands', 'dots', 'positions', 'tip']\n",
    "# data['things_to_plot'] = ['ema', 'BBands', 'dots', 'positions', 'lema_angle']\n",
    "# data['things_to_plot'] = ['ema', 'sema_angle', 'slema_angle', 'lema_angle', 'dir']\n",
    "# data['things_to_plot'] = ['ema', 'positions', 'lema_angle','slema_angle','sema_angle', 'rsi']\n",
    "# data['things_to_plot'] = ['ema','positions', 'lema_angle','lema_diff', 'lema_max_min']\n",
    "# data['things_to_plot'] = ['candles','sema', 'slema','positions','lema', 'lema_angle', 'lema_max_min', 'close_diff']\n",
    "# data['things_to_plot'] = ['lema', 'tip', 'candles', 'lema_angle', 'lema_change']\n",
    "data['things_to_plot'] = ['candles','sema', 'slema','lema', 'lema_match', 'positions', 'lema_change']\n",
    "\n",
    "plot_graph(data)"
   ]
  },
  {
   "cell_type": "markdown",
   "metadata": {
    "scrolled": true
   },
   "source": [
    "generate_result_report(data)"
   ]
  }
 ],
 "metadata": {
  "kernelspec": {
   "display_name": "Python 3",
   "language": "python",
   "name": "python3"
  },
  "language_info": {
   "codemirror_mode": {
    "name": "ipython",
    "version": 3
   },
   "file_extension": ".py",
   "mimetype": "text/x-python",
   "name": "python",
   "nbconvert_exporter": "python",
   "pygments_lexer": "ipython3",
   "version": "3.6.6"
  }
 },
 "nbformat": 4,
 "nbformat_minor": 4
}
