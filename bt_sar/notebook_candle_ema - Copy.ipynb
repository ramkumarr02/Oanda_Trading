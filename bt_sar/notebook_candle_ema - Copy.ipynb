{
 "cells": [
  {
   "cell_type": "markdown",
   "metadata": {},
   "source": [
    "# ML Trader"
   ]
  },
  {
   "cell_type": "code",
   "execution_count": 1,
   "metadata": {
    "scrolled": true
   },
   "outputs": [],
   "source": [
    "from utils.packages import *\n",
    "from utils.variables import *\n",
    "from utils.i_o import *\n",
    "from utils.dir_slope import *\n",
    "from utils.engine import *\n",
    "from utils.loops import *\n",
    "from utils.order import *\n",
    "from utils.ml import *\n",
    "import winsound"
   ]
  },
  {
   "cell_type": "markdown",
   "metadata": {},
   "source": [
    "# Action Points\n",
    "\n",
    "## 1. No need to make 10 transactions a day. Just one is enough\n",
    "## 2. See the lema gap size on the losing months\n",
    "## 3. Can I use actual tick value (close) instead of lema for moves?"
   ]
  },
  {
   "cell_type": "code",
   "execution_count": 2,
   "metadata": {
    "scrolled": false
   },
   "outputs": [
    {
     "name": "stderr",
     "output_type": "stream",
     "text": [
      "100%|██████████████████████████████████| 40821/40821 [00:17<00:00, 2358.89it/s]\n"
     ]
    },
    {
     "name": "stdout",
     "output_type": "stream",
     "text": [
      "pl    0.0611\n",
      "dtype: float64\n",
      "--------------------------------------\n",
      "            DateTime_frmt  order_side  close_type       pl\n",
      "39499 2022-07-14 09:50:00         NaN  sema_close -0.00143\n",
      "39570 2022-07-14 15:45:00         NaN  sema_close -0.00286\n",
      "39598 2022-07-14 18:05:00         NaN  sema_close -0.00036\n",
      "39599 2022-07-14 18:10:00         NaN  sema_close -0.00010\n",
      "39600 2022-07-14 18:15:00         NaN  sema_close -0.00010\n",
      "39601 2022-07-14 18:20:00         NaN  sema_close -0.00010\n",
      "40029 2022-07-18 06:00:00         NaN  sema_close  0.00168\n",
      "40190 2022-07-18 19:25:00         NaN  sema_close  0.00126\n",
      "40473 2022-07-19 19:00:00         NaN  sema_close  0.00788\n",
      "40609 2022-07-20 06:20:00         NaN  sema_close -0.00050\n",
      "40632 2022-07-20 08:15:00         NaN  sema_close -0.00069\n",
      "40633 2022-07-20 08:20:00         NaN  sema_close -0.00010\n",
      "40634 2022-07-20 08:25:00         NaN  sema_close -0.00010\n",
      "40659 2022-07-20 10:30:00         NaN  sema_close -0.00059\n",
      "40660 2022-07-20 10:35:00         NaN  sema_close -0.00010\n"
     ]
    },
    {
     "name": "stderr",
     "output_type": "stream",
     "text": [
      "100%|███████████████████████████████████████| 512/512 [00:00<00:00, 875.19it/s]"
     ]
    },
    {
     "name": "stdout",
     "output_type": "stream",
     "text": [
      "Wall time: 3min 13s\n"
     ]
    },
    {
     "name": "stderr",
     "output_type": "stream",
     "text": [
      "\n"
     ]
    }
   ],
   "source": [
    "%%time\n",
    "data = run_engine(data)"
   ]
  },
  {
   "cell_type": "code",
   "execution_count": 3,
   "metadata": {},
   "outputs": [
    {
     "name": "stdout",
     "output_type": "stream",
     "text": [
      "month_val\n",
      "1    0.01852\n",
      "2   -0.01755\n",
      "3    0.02408\n",
      "4    0.01944\n",
      "5    0.01274\n",
      "6   -0.01573\n",
      "7    0.01960\n",
      "Name: pl, dtype: float64\n",
      "---------------------\n",
      "max : 3 : 0.02408\n",
      "min : 2 : -0.01755\n",
      "---------------------\n"
     ]
    }
   ],
   "source": [
    "x = data['df_ohlc'].groupby(['month_val'])['pl'].sum()\n",
    "print(x)\n",
    "print('---------------------')\n",
    "print(f'max : {x.idxmax()} : {max(x)}')\n",
    "print(f'min : {x.idxmin()} : {min(x)}')\n",
    "print('---------------------')"
   ]
  },
  {
   "cell_type": "code",
   "execution_count": 4,
   "metadata": {},
   "outputs": [
    {
     "data": {
      "text/html": [
       "<div>\n",
       "<style scoped>\n",
       "    .dataframe tbody tr th:only-of-type {\n",
       "        vertical-align: middle;\n",
       "    }\n",
       "\n",
       "    .dataframe tbody tr th {\n",
       "        vertical-align: top;\n",
       "    }\n",
       "\n",
       "    .dataframe thead th {\n",
       "        text-align: right;\n",
       "    }\n",
       "</style>\n",
       "<table border=\"1\" class=\"dataframe\">\n",
       "  <thead>\n",
       "    <tr style=\"text-align: right;\">\n",
       "      <th></th>\n",
       "      <th>index</th>\n",
       "      <th>positive</th>\n",
       "      <th>negative</th>\n",
       "      <th>count_diff</th>\n",
       "      <th>positive_sum</th>\n",
       "      <th>negative_sum</th>\n",
       "      <th>sum_diff</th>\n",
       "    </tr>\n",
       "  </thead>\n",
       "  <tbody>\n",
       "    <tr>\n",
       "      <th>1</th>\n",
       "      <td>0.002</td>\n",
       "      <td>19</td>\n",
       "      <td>35.0</td>\n",
       "      <td>-16.0</td>\n",
       "      <td>0.07685</td>\n",
       "      <td>-0.04858</td>\n",
       "      <td>0.02827</td>\n",
       "    </tr>\n",
       "    <tr>\n",
       "      <th>0</th>\n",
       "      <td>0.001</td>\n",
       "      <td>22</td>\n",
       "      <td>37.0</td>\n",
       "      <td>-15.0</td>\n",
       "      <td>0.08124</td>\n",
       "      <td>-0.05849</td>\n",
       "      <td>0.02275</td>\n",
       "    </tr>\n",
       "    <tr>\n",
       "      <th>2</th>\n",
       "      <td>0.004</td>\n",
       "      <td>9</td>\n",
       "      <td>23.0</td>\n",
       "      <td>-14.0</td>\n",
       "      <td>0.04508</td>\n",
       "      <td>-0.03991</td>\n",
       "      <td>0.00517</td>\n",
       "    </tr>\n",
       "    <tr>\n",
       "      <th>3</th>\n",
       "      <td>0.003</td>\n",
       "      <td>5</td>\n",
       "      <td>18.0</td>\n",
       "      <td>-13.0</td>\n",
       "      <td>0.02292</td>\n",
       "      <td>-0.02775</td>\n",
       "      <td>-0.00483</td>\n",
       "    </tr>\n",
       "    <tr>\n",
       "      <th>6</th>\n",
       "      <td>0.008</td>\n",
       "      <td>1</td>\n",
       "      <td>6.0</td>\n",
       "      <td>-5.0</td>\n",
       "      <td>0.00134</td>\n",
       "      <td>-0.00622</td>\n",
       "      <td>-0.00488</td>\n",
       "    </tr>\n",
       "    <tr>\n",
       "      <th>4</th>\n",
       "      <td>0.005</td>\n",
       "      <td>7</td>\n",
       "      <td>12.0</td>\n",
       "      <td>-5.0</td>\n",
       "      <td>0.03494</td>\n",
       "      <td>-0.02915</td>\n",
       "      <td>0.00579</td>\n",
       "    </tr>\n",
       "    <tr>\n",
       "      <th>5</th>\n",
       "      <td>0.007</td>\n",
       "      <td>2</td>\n",
       "      <td>6.0</td>\n",
       "      <td>-4.0</td>\n",
       "      <td>0.00258</td>\n",
       "      <td>-0.00538</td>\n",
       "      <td>-0.00280</td>\n",
       "    </tr>\n",
       "    <tr>\n",
       "      <th>8</th>\n",
       "      <td>0.009</td>\n",
       "      <td>1</td>\n",
       "      <td>4.0</td>\n",
       "      <td>-3.0</td>\n",
       "      <td>0.00252</td>\n",
       "      <td>-0.00875</td>\n",
       "      <td>-0.00623</td>\n",
       "    </tr>\n",
       "    <tr>\n",
       "      <th>9</th>\n",
       "      <td>0.010</td>\n",
       "      <td>1</td>\n",
       "      <td>2.0</td>\n",
       "      <td>-1.0</td>\n",
       "      <td>0.00561</td>\n",
       "      <td>-0.00833</td>\n",
       "      <td>-0.00272</td>\n",
       "    </tr>\n",
       "    <tr>\n",
       "      <th>7</th>\n",
       "      <td>0.006</td>\n",
       "      <td>5</td>\n",
       "      <td>5.0</td>\n",
       "      <td>0.0</td>\n",
       "      <td>0.02501</td>\n",
       "      <td>-0.00332</td>\n",
       "      <td>0.02169</td>\n",
       "    </tr>\n",
       "    <tr>\n",
       "      <th>10</th>\n",
       "      <td>0.000</td>\n",
       "      <td>1</td>\n",
       "      <td>0.0</td>\n",
       "      <td>1.0</td>\n",
       "      <td>0.00182</td>\n",
       "      <td>0.00000</td>\n",
       "      <td>0.00182</td>\n",
       "    </tr>\n",
       "  </tbody>\n",
       "</table>\n",
       "</div>"
      ],
      "text/plain": [
       "    index  positive  negative  count_diff  positive_sum  negative_sum  \\\n",
       "1   0.002        19      35.0       -16.0       0.07685      -0.04858   \n",
       "0   0.001        22      37.0       -15.0       0.08124      -0.05849   \n",
       "2   0.004         9      23.0       -14.0       0.04508      -0.03991   \n",
       "3   0.003         5      18.0       -13.0       0.02292      -0.02775   \n",
       "6   0.008         1       6.0        -5.0       0.00134      -0.00622   \n",
       "4   0.005         7      12.0        -5.0       0.03494      -0.02915   \n",
       "5   0.007         2       6.0        -4.0       0.00258      -0.00538   \n",
       "8   0.009         1       4.0        -3.0       0.00252      -0.00875   \n",
       "9   0.010         1       2.0        -1.0       0.00561      -0.00833   \n",
       "7   0.006         5       5.0         0.0       0.02501      -0.00332   \n",
       "10  0.000         1       0.0         1.0       0.00182       0.00000   \n",
       "\n",
       "    sum_diff  \n",
       "1    0.02827  \n",
       "0    0.02275  \n",
       "2    0.00517  \n",
       "3   -0.00483  \n",
       "6   -0.00488  \n",
       "4    0.00579  \n",
       "5   -0.00280  \n",
       "8   -0.00623  \n",
       "9   -0.00272  \n",
       "7    0.02169  \n",
       "10   0.00182  "
      ]
     },
     "execution_count": 4,
     "metadata": {},
     "output_type": "execute_result"
    }
   ],
   "source": [
    "data = lema_gap_pl_analysis(data)\n",
    "data['lema_gap_pl_report']"
   ]
  },
  {
   "cell_type": "code",
   "execution_count": 5,
   "metadata": {},
   "outputs": [],
   "source": [
    "y = data['df_ohlc']['pl'].sum()\n",
    "x = data['df_ohlc'].groupby(['month_val'])['pl'].sum()\n",
    "send_telegram_message(f'{data[\"input_year\"]}')\n",
    "send_telegram_message(f'{y}')\n",
    "send_telegram_message(f'{x}')\n",
    "send_telegram_message(f'-------------------')"
   ]
  },
  {
   "cell_type": "code",
   "execution_count": 6,
   "metadata": {},
   "outputs": [
    {
     "ename": "SystemExit",
     "evalue": "",
     "output_type": "error",
     "traceback": [
      "An exception has occurred, use %tb to see the full traceback.\n",
      "\u001b[1;31mSystemExit\u001b[0m\n"
     ]
    }
   ],
   "source": [
    "sys.exit()"
   ]
  },
  {
   "cell_type": "code",
   "execution_count": null,
   "metadata": {},
   "outputs": [],
   "source": [
    "y = data['df_ohlc'][data['df_ohlc']['month_val'] == 6]\n",
    "x = y.groupby(['date_val'])['pl'].sum()\n",
    "print(x)\n",
    "print('---------------------')\n",
    "print(f'max : {x.idxmax()} : {max(x)}')\n",
    "print(f'min : {x.idxmin()} : {min(x)}')\n",
    "print('---------------------')"
   ]
  },
  {
   "cell_type": "code",
   "execution_count": null,
   "metadata": {
    "scrolled": true
   },
   "outputs": [],
   "source": [
    "data['df_ohlc'].tail()"
   ]
  },
  {
   "cell_type": "code",
   "execution_count": null,
   "metadata": {
    "scrolled": true
   },
   "outputs": [],
   "source": [
    "data['df_ohlc']['lema_gap'].describe()"
   ]
  },
  {
   "cell_type": "code",
   "execution_count": null,
   "metadata": {
    "scrolled": true
   },
   "outputs": [],
   "source": [
    "x = 5\n",
    "data['df_ohlc'].iloc[-5:,x:x+15]"
   ]
  },
  {
   "cell_type": "code",
   "execution_count": null,
   "metadata": {},
   "outputs": [],
   "source": [
    "df_small"
   ]
  },
  {
   "cell_type": "code",
   "execution_count": null,
   "metadata": {},
   "outputs": [],
   "source": [
    "order_side = 'positive'\n",
    "y = pd.DataFrame(data['df_small'][data['df_small']['pl_type'] == order_side].lema_gap.round(3).value_counts())\n",
    "y= y.reset_index()\n",
    "y = y.rename(columns = {'lema_gap':order_side})\n",
    "\n",
    "order_side = 'negative'\n",
    "x= pd.DataFrame(data['df_small'][data['df_small']['pl_type'] == order_side].lema_gap.round(3).value_counts())\n",
    "x = x.reset_index()\n",
    "x = x.rename(columns = {'lema_gap':order_side})\n",
    "\n",
    "all = x.merge(y, on = 'index', how = 'outer')\n",
    "all = all.fillna(0)\n",
    "\n",
    "all['diff'] = all['positive'] - all['negative']\n",
    "all = all.sort_values(by = ['diff', 'index'])\n",
    "all"
   ]
  },
  {
   "cell_type": "code",
   "execution_count": null,
   "metadata": {},
   "outputs": [],
   "source": [
    "df_small['order_side']"
   ]
  },
  {
   "cell_type": "code",
   "execution_count": null,
   "metadata": {},
   "outputs": [],
   "source": [
    "data['df_small'].to_csv('data/temp.csv')"
   ]
  },
  {
   "cell_type": "code",
   "execution_count": null,
   "metadata": {
    "scrolled": false
   },
   "outputs": [],
   "source": [
    "data[\"plot\"] = True\n",
    "data['plot_type'] = 'file'\n",
    "data['reduce_plot'] = True\n",
    "data['plot_start']  = f\"{data['input_year']}-12-1\"\n",
    "data['plot_stop']   = f\"{data['input_year']}-12-1\"\n",
    "# data['things_to_plot'] = ['tick', 'ema', 'BBands', 'dots']\n",
    "# data['things_to_plot'] = ['ema', 'BBands', 'dots', 'indicators']\n",
    "# data['things_to_plot'] = ['ema', 'BBands', 'dots', 'cross']\n",
    "# data['things_to_plot'] = ['ema', 'BBands', 'dots', 'positions', 'tip']\n",
    "# data['things_to_plot'] = ['ema', 'BBands', 'dots', 'positions', 'lema_angle']\n",
    "# data['things_to_plot'] = ['ema', 'sema_angle', 'slema_angle', 'lema_angle', 'dir']\n",
    "# data['things_to_plot'] = ['ema', 'positions', 'lema_angle','slema_angle','sema_angle', 'rsi']\n",
    "data['things_to_plot'] = ['ema','positions', 'lema_angle','lema_diff', 'lema_max_min']\n",
    "\n",
    "plot_graph(data)"
   ]
  },
  {
   "cell_type": "code",
   "execution_count": null,
   "metadata": {},
   "outputs": [],
   "source": [
    "x = 252\n",
    "data['df_ohlc']['lema_angle'][x-3:x+3]"
   ]
  },
  {
   "cell_type": "markdown",
   "metadata": {
    "scrolled": true
   },
   "source": [
    "generate_result_report(data)"
   ]
  }
 ],
 "metadata": {
  "kernelspec": {
   "display_name": "Python 3",
   "language": "python",
   "name": "python3"
  },
  "language_info": {
   "codemirror_mode": {
    "name": "ipython",
    "version": 3
   },
   "file_extension": ".py",
   "mimetype": "text/x-python",
   "name": "python",
   "nbconvert_exporter": "python",
   "pygments_lexer": "ipython3",
   "version": "3.6.6"
  }
 },
 "nbformat": 4,
 "nbformat_minor": 4
}
