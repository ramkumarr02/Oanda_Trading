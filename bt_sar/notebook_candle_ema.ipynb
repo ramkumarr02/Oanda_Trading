{
 "cells": [
  {
   "cell_type": "markdown",
   "metadata": {},
   "source": [
    "# ML Trader"
   ]
  },
  {
   "cell_type": "code",
   "execution_count": 1,
   "metadata": {
    "scrolled": true
   },
   "outputs": [],
   "source": [
    "from utils.packages import *\n",
    "from utils.variables import *\n",
    "from utils.i_o import *\n",
    "from utils.dir_slope import *\n",
    "from utils.engine import *\n",
    "from utils.loops import *\n",
    "from utils.order import *\n",
    "from utils.ml import *\n",
    "import winsound"
   ]
  },
  {
   "cell_type": "markdown",
   "metadata": {},
   "source": [
    "# Notes\n",
    "---\n",
    "## 2022_09_02\n",
    "\n",
    "### Observations\n",
    "\n",
    "1. No need to make 10 transactions a day. Just one is enough\n",
    "\n",
    "1. lema or sema match\n",
    "    1. Using lema match works fine in both opening \n",
    "    1. Using lema has better results\n",
    "    1. 144 produces better resuls over higher numbers like 1440 \n",
    "\n",
    "1. Lema angle in order and close\n",
    "    1. Using lema angle in order, delays order, but overall profits are high\n",
    "    1. Using lema angle in close also increases overall profit\n",
    "\n",
    "1. Before everything need to find why 2021 is consistently producing negative results in all the setups.\n",
    "    1. What is that this causing this issue, how can it be addressed with in the same system\n",
    "    1. less complex method is essential\n",
    "    \n",
    "\n",
    "### To Test\n",
    "1. Find whether the opening or closing that is causing the most issue in loss years\n",
    "1. Test other years to understand how well this setup works.\n",
    "1. Remove lema match check from closing. This is delaying bad trasactions\n",
    "1. Test 5 round up on lema match. Transactions are opening in lema match gaps\n",
    "1. Ideation\n",
    "    1. Test lema Bollinger bands to understand flow direction\n",
    "    1. Test overall flow direction\n",
    "\n",
    "---\n",
    "\n",
    "## 2022_09_02\n",
    "\n",
    "### Observations\n",
    "1. Opening and closing need to happen faster. Cant close after ema match\n",
    "1. Lema angle helps save positions against frequent flips but delays closing and causes losses\n",
    "1. Market is non-directional (Dec 2021 is a good example) Goes up and down, when algo tries to open and close its always too late\n",
    "1. Need a faster method\n",
    "\n",
    "\n",
    "### To Test\n",
    "1. Should test plotting close as a line instead of candles. Perform match in close with wider window\n",
    "1. Close chart needs to be analysed. This looks promising.\n",
    "1. Go with simple rolling min max for close. Works better than resample min max merge\n",
    "\n",
    "---\n",
    "\n",
    "\n",
    "## 2022_09_08\n",
    "\n",
    "### Observations\n",
    "1. Analyse sema gap window in line with other metrics. \n",
    "\n",
    "\n",
    "---\n",
    "\n",
    "## Result by Years\n",
    "\n",
    "| Year | Angle open | Angle close | Lema match open | Lema match close | Result type | pips  |\n",
    "| ---- | ---------- | ----------- | --------------- | ---------------- | ----------- | ----- |\n",
    "| 2022 | Yes        | No          | Yes             | Yes              | Profit      | 577   |\n",
    "| 2021 | Yes        | No          | Yes             | Yes              | Loss        | \\-596 |\n",
    "| 2020 | Yes        | No          | Yes             | Yes              | Profit      | 1462  |\n",
    "| 2019 | Yes        | No          | Yes             | Yes              | Loss        | 193   |\n",
    "| 2018 | Yes        | No          | Yes             | Yes              | Profit      | 60    |\n",
    "| 2017 | Yes        | No          | Yes             | Yes              | Profit      | \\-1396|    "
   ]
  },
  {
   "cell_type": "markdown",
   "metadata": {},
   "source": [
    "data                = get_date_list(data)\n",
    "data                = read_data(data)"
   ]
  },
  {
   "cell_type": "code",
   "execution_count": 2,
   "metadata": {},
   "outputs": [],
   "source": [
    "data[\"input_year\"] = 2021\n",
    "data['start_date'] = {'year':data[\"input_year\"], 'month':1, 'date':1}\n",
    "data['end_date']   = {'year':data[\"input_year\"], 'month':12, 'date':31}\n",
    "data[\"product\"] = 'eurusd'\n",
    "data[\"input_file_name\"] = f'{data[\"product\"]}_{data[\"input_year\"]}.csv'"
   ]
  },
  {
   "cell_type": "code",
   "execution_count": 3,
   "metadata": {
    "scrolled": false
   },
   "outputs": [
    {
     "name": "stdout",
     "output_type": "stream",
     "text": [
      "pl   -0.00302\n",
      "dtype: float64"
     ]
    },
    {
     "name": "stderr",
     "output_type": "stream",
     "text": [
      "\r",
      "100%|██████████████████████████████████| 57586/57586 [00:17<00:00, 3365.68it/s]"
     ]
    },
    {
     "name": "stdout",
     "output_type": "stream",
     "text": [
      "\n",
      "--------------------------------------\n",
      "            DateTime_frmt  order_side  close_type       pl\n",
      "55780 2021-12-23 15:25:00         NaN  sema_close -0.00177\n",
      "56289 2021-12-27 09:55:00         NaN  sema_close -0.00126\n",
      "56291 2021-12-27 10:05:00         NaN  sema_close -0.00091\n",
      "56320 2021-12-27 12:30:00         NaN  sema_close -0.00089\n",
      "56339 2021-12-27 14:05:00         NaN  sema_close -0.00065\n",
      "56638 2021-12-28 15:00:00         NaN  sema_close -0.00133\n",
      "56918 2021-12-29 14:20:00         NaN  sema_close -0.00256\n",
      "57137 2021-12-30 08:35:00         NaN  sema_close -0.00190\n",
      "57171 2021-12-30 11:25:00         NaN  sema_close -0.00161\n",
      "57255 2021-12-30 18:25:00         NaN  sema_close -0.00177\n",
      "57274 2021-12-30 20:00:00         NaN  sema_close -0.00220\n",
      "57403 2021-12-31 06:45:00         NaN  sema_close -0.00171\n",
      "57406 2021-12-31 07:00:00         NaN  sema_close -0.00052\n",
      "57409 2021-12-31 07:15:00         NaN  sema_close -0.00060\n",
      "57432 2021-12-31 09:10:00         NaN  sema_close -0.00175\n"
     ]
    },
    {
     "name": "stderr",
     "output_type": "stream",
     "text": [
      "\n",
      "100%|█████████████████████████████████████████| 91/91 [00:00<00:00, 392.67it/s]"
     ]
    },
    {
     "name": "stdout",
     "output_type": "stream",
     "text": [
      "Wall time: 1min 44s\n"
     ]
    },
    {
     "name": "stderr",
     "output_type": "stream",
     "text": [
      "\n"
     ]
    }
   ],
   "source": [
    "%%time\n",
    "data = run_engine(data)"
   ]
  },
  {
   "cell_type": "code",
   "execution_count": 4,
   "metadata": {},
   "outputs": [
    {
     "data": {
      "text/plain": [
       "close_type\n",
       "sema_close   -0.00302\n",
       "Name: pl, dtype: float64"
      ]
     },
     "execution_count": 4,
     "metadata": {},
     "output_type": "execute_result"
    }
   ],
   "source": [
    "data['df_ohlc'].groupby(['close_type'])['pl'].sum()"
   ]
  },
  {
   "cell_type": "code",
   "execution_count": 5,
   "metadata": {
    "scrolled": false
   },
   "outputs": [
    {
     "name": "stdout",
     "output_type": "stream",
     "text": [
      "month_val\n",
      "3     0.00000\n",
      "4    -0.00573\n",
      "5     0.01889\n",
      "6    -0.01524\n",
      "7     0.03127\n",
      "8    -0.00853\n",
      "9    -0.01502\n",
      "10   -0.00087\n",
      "11    0.00000\n",
      "12   -0.00779\n",
      "Name: pl, dtype: float64\n",
      "---------------------\n",
      "month_val\n",
      "6    -0.01524\n",
      "9    -0.01502\n",
      "8    -0.00853\n",
      "12   -0.00779\n",
      "4    -0.00573\n",
      "10   -0.00087\n",
      "3     0.00000\n",
      "11    0.00000\n",
      "5     0.01889\n",
      "7     0.03127\n",
      "Name: pl, dtype: float64\n",
      "---------------------\n",
      "max : 7 : 0.03127\n",
      "min : 6 : -0.01524\n",
      "---------------------\n",
      "monthly_avg : -0.0003\n"
     ]
    }
   ],
   "source": [
    "x = data['df_ohlc'].groupby(['month_val'])['pl'].sum()\n",
    "print(x)\n",
    "print('---------------------')\n",
    "print(x.sort_values())\n",
    "print('---------------------')\n",
    "print(f'max : {x.idxmax()} : {max(x)}')\n",
    "print(f'min : {x.idxmin()} : {min(x)}')\n",
    "print('---------------------')\n",
    "monthly_avg = np.round(data['df_ohlc']['pl'].sum()/len(set(data['df_ohlc']['month_val'])),4)\n",
    "print(f'monthly_avg : {monthly_avg}')"
   ]
  },
  {
   "cell_type": "code",
   "execution_count": 6,
   "metadata": {},
   "outputs": [
    {
     "ename": "SystemExit",
     "evalue": "",
     "output_type": "error",
     "traceback": [
      "An exception has occurred, use %tb to see the full traceback.\n",
      "\u001b[1;31mSystemExit\u001b[0m\n"
     ]
    }
   ],
   "source": [
    "sys.exit()"
   ]
  },
  {
   "cell_type": "code",
   "execution_count": null,
   "metadata": {},
   "outputs": [],
   "source": [
    "print(data['df_small'].groupby(['weekday', 'pl_type'])['pl_type'].count().unstack())\n",
    "print('----------------------------------------------')\n",
    "print(data['df_small'].groupby(['weekday', 'pl_type'])['pl'].sum().unstack())"
   ]
  },
  {
   "cell_type": "code",
   "execution_count": null,
   "metadata": {},
   "outputs": [],
   "source": [
    "data['lema_gap_pl_analysis_month'] = 3\n",
    "\n",
    "data = lema_gap_pl_analysis(data)\n",
    "data['lema_gap_pl_report']"
   ]
  },
  {
   "cell_type": "code",
   "execution_count": null,
   "metadata": {},
   "outputs": [],
   "source": [
    "y = data['df_ohlc']['pl'].sum()\n",
    "x = data['df_ohlc'].groupby(['month_val'])['pl'].sum()\n",
    "send_telegram_message(f'{data[\"input_year\"]}')\n",
    "send_telegram_message(f'{y}')\n",
    "send_telegram_message(f'{x}')\n",
    "send_telegram_message(f'-------------------')"
   ]
  },
  {
   "cell_type": "code",
   "execution_count": null,
   "metadata": {},
   "outputs": [],
   "source": [
    "y = data['df_ohlc'][data['df_ohlc']['month_val'] == 1]\n",
    "x = y.groupby(['date_val'])['pl'].sum()\n",
    "print(x)\n",
    "print('---------------------')\n",
    "print(f'max : {x.idxmax()} : {max(x)}')\n",
    "print(f'min : {x.idxmin()} : {min(x)}')\n",
    "print('---------------------')"
   ]
  },
  {
   "cell_type": "code",
   "execution_count": null,
   "metadata": {
    "scrolled": true
   },
   "outputs": [],
   "source": [
    "data['df_ohlc'].tail()"
   ]
  },
  {
   "cell_type": "code",
   "execution_count": null,
   "metadata": {
    "scrolled": true
   },
   "outputs": [],
   "source": [
    "data['df_ohlc']['lema_gap'].describe()"
   ]
  },
  {
   "cell_type": "code",
   "execution_count": null,
   "metadata": {
    "scrolled": true
   },
   "outputs": [],
   "source": [
    "x = 5\n",
    "data['df_ohlc'].iloc[-5:,x:x+15]"
   ]
  },
  {
   "cell_type": "code",
   "execution_count": null,
   "metadata": {},
   "outputs": [],
   "source": [
    "data['df_small']['lema_gap'].describe()"
   ]
  },
  {
   "cell_type": "code",
   "execution_count": null,
   "metadata": {},
   "outputs": [],
   "source": [
    "a = np.arange(0,20)\n",
    "for b in a:\n",
    "    x = int(round(b/5.0)*5.0)\n",
    "    print(b, x)"
   ]
  },
  {
   "cell_type": "code",
   "execution_count": null,
   "metadata": {},
   "outputs": [],
   "source": [
    "abs(all['negative_sum']) / all['positive_sum']"
   ]
  },
  {
   "cell_type": "code",
   "execution_count": null,
   "metadata": {},
   "outputs": [],
   "source": [
    "df_small['order_side']"
   ]
  },
  {
   "cell_type": "code",
   "execution_count": null,
   "metadata": {},
   "outputs": [],
   "source": [
    "data['df_small'].to_csv('data/temp.csv')"
   ]
  },
  {
   "cell_type": "code",
   "execution_count": 7,
   "metadata": {},
   "outputs": [],
   "source": [
    "data[\"plot\"] = True\n",
    "data['plot_type'] = 'file'\n",
    "data['reduce_plot'] = True\n",
    "chart_duration = 'year'\n",
    "month = 12\n",
    "\n",
    "# data['things_to_plot'] = ['tick', 'ema', 'BBands', 'dots']\n",
    "# data['things_to_plot'] = ['ema', 'BBands', 'dots', 'indicators']\n",
    "# data['things_to_plot'] = ['ema', 'BBands', 'dots', 'cross']\n",
    "# data['things_to_plot'] = ['ema', 'BBands', 'dots', 'positions', 'tip']\n",
    "# data['things_to_plot'] = ['ema', 'BBands', 'dots', 'positions', 'lema_angle']\n",
    "# data['things_to_plot'] = ['ema', 'sema_angle', 'slema_angle', 'lema_angle', 'dir']\n",
    "# data['things_to_plot'] = ['ema', 'positions', 'lema_angle','slema_angle','sema_angle', 'rsi']\n",
    "# data['things_to_plot'] = ['ema','positions', 'lema_angle','lema_diff', 'lema_max_min']\n",
    "# data['things_to_plot'] = ['candles','sema', 'slema','positions','lema', 'lema_angle', 'lema_max_min', 'close_diff']\n",
    "# data['things_to_plot'] = ['lema', 'tip', 'candles', 'lema_angle', 'lema_change']\n",
    "# data['things_to_plot'] = ['candles','sema', 'close','lema', 'lema_match', 'positions', 'lema_change']\n",
    "# data['things_to_plot'] = ['close', 'sema','lema', 'lema_change', 'lema_match', 'close_max']\n",
    "# data['things_to_plot'] = ['close', 'tip','lema', 'close_max', 'close_min', 'lema_match']\n",
    "# data['things_to_plot'] = ['close', 'lema','lema_match', 'slema', 'positions']\n",
    "# data['things_to_plot'] = ['close', 'sema', 'slema','lema','lema_match', 'tip']\n",
    "# data['things_to_plot'] = ['close', 'sema','lema','lema_match', 'match_max', 'match_min', 'unmatched']\n",
    "# data['things_to_plot'] = ['close', 'sema','lema','lema_match', 'lema_max_min', 'positions']\n",
    "data['things_to_plot'] = ['close','lema', 'slema', 'sema', 'positions']\n",
    "\n",
    "data['plot_start']  = f\"{data['input_year']}-{month}-1\"\n",
    "\n",
    "if chart_duration == 'month':\n",
    "    if month == 12:\n",
    "        data['plot_stop']   = f\"{data['input_year']+1}-1-1\"\n",
    "    else:\n",
    "        data['plot_stop']   = f\"{data['input_year']}-{month+1}-1\"\n",
    "\n",
    "elif chart_duration == 'year':        \n",
    "    data['plot_start']  = f\"{data['input_year']}-1-1\"\n",
    "    data['plot_stop']   = f\"{data['input_year']+1}-1-1\"\n",
    "\n",
    "\n",
    "plot_graph(data)"
   ]
  },
  {
   "cell_type": "markdown",
   "metadata": {
    "scrolled": true
   },
   "source": [
    "generate_result_report(data)"
   ]
  },
  {
   "cell_type": "code",
   "execution_count": null,
   "metadata": {},
   "outputs": [],
   "source": [
    "cols = ['DateTime_frmt', 'close', 'ask','bid', \n",
    " 'open', 'high', 'low', 'candle_size', 'lema', 'lema_angle', 'lema_angle_2',\n",
    "       'lema_angle_0', 'slema', 'slema_angle', 'slema_angle_2', 'sema',\n",
    "       'sema_angle', 'sema_angle_2', 'close_diff', 'BBand_upper',\n",
    "       'BBand_middle', 'BBand_lower', 'BBand_width', 'avg_BBand_width', 'adx',\n",
    "       'tip', 'lema_match', 'order_side', 'order_size', 'long_open',\n",
    "       'short_open', 'close_type', 'pl', 'up', 'down', 'month_val', 'date_val',\n",
    "       'hour_val', 'long_profit', 'long_loss', 'short_profit', 'short_loss']\n",
    "\n",
    "data['df_ohlc'][cols].to_csv('data/temp.csv')"
   ]
  },
  {
   "cell_type": "code",
   "execution_count": null,
   "metadata": {},
   "outputs": [],
   "source": [
    "data['df_ohlc']['lema_match'][17866-25:17866]"
   ]
  },
  {
   "cell_type": "code",
   "execution_count": null,
   "metadata": {},
   "outputs": [],
   "source": [
    "l = pd.Series([1,2,3,np.nan, 4,5])\n",
    "l\n",
    "\n",
    "print(l.fillna(value=0).rolling(2).max())\n",
    "max(l)"
   ]
  },
  {
   "cell_type": "code",
   "execution_count": null,
   "metadata": {},
   "outputs": [],
   "source": [
    "data['df_ohlc']['match_max'] = data['df_ohlc']['lema_match'].fillna(value=0).rolling(window = data['look_back_window_size']).max()\n",
    "data['df_ohlc']['match_min'] = data['df_ohlc']['lema_match'].fillna(value=0).rolling(window = data['look_back_window_size']).min()\n",
    "\n",
    "data['df_ohlc'].loc[data['df_ohlc']['match_max'] == 0, 'match_max'] = np.nan\n",
    "data['df_ohlc'].loc[data['df_ohlc']['match_min'] == 0, 'match_min'] = np.nan"
   ]
  }
 ],
 "metadata": {
  "kernelspec": {
   "display_name": "Python 3",
   "language": "python",
   "name": "python3"
  },
  "language_info": {
   "codemirror_mode": {
    "name": "ipython",
    "version": 3
   },
   "file_extension": ".py",
   "mimetype": "text/x-python",
   "name": "python",
   "nbconvert_exporter": "python",
   "pygments_lexer": "ipython3",
   "version": "3.6.6"
  }
 },
 "nbformat": 4,
 "nbformat_minor": 4
}
