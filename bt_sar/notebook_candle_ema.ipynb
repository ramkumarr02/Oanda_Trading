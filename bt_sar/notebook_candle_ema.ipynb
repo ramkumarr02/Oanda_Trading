{
 "cells": [
  {
   "cell_type": "markdown",
   "metadata": {},
   "source": [
    "# ML Trader"
   ]
  },
  {
   "cell_type": "code",
   "execution_count": 1,
   "metadata": {
    "scrolled": true
   },
   "outputs": [],
   "source": [
    "from utils.packages import *\n",
    "from utils.variables import *\n",
    "from utils.i_o import *\n",
    "from utils.dir_slope import *\n",
    "from utils.engine import *\n",
    "from utils.loops import *\n",
    "from utils.order import *\n",
    "from utils.ml import *\n",
    "import winsound"
   ]
  },
  {
   "cell_type": "markdown",
   "metadata": {},
   "source": [
    "# Action Points\n",
    "\n",
    "## 1. No need to make 10 transactions a day. Just one is enough\n",
    "## 2. See the lema gap size on the losing months\n",
    "## 3. Can I use actual tick value (close) instead of lema for moves?"
   ]
  },
  {
   "cell_type": "code",
   "execution_count": 2,
   "metadata": {
    "scrolled": false
   },
   "outputs": [
    {
     "name": "stderr",
     "output_type": "stream",
     "text": [
      "\r",
      "100%|██████████████████████████████████| 40821/40821 [00:12<00:00, 3188.20it/s]"
     ]
    },
    {
     "name": "stdout",
     "output_type": "stream",
     "text": [
      "pl    0.04931\n",
      "dtype: float64\n",
      "--------------------------------------\n",
      "            DateTime_frmt  order_side  close_type       pl\n",
      "37439 2022-07-05 06:10:00         NaN  sema_close -0.00128\n",
      "37984 2022-07-07 03:35:00         NaN  sema_close  0.01843\n",
      "38041 2022-07-07 08:20:00         NaN  sema_close -0.00178\n",
      "38060 2022-07-07 09:55:00         NaN  sema_close -0.00181\n",
      "38239 2022-07-08 00:50:00         NaN  sema_close  0.00146\n",
      "38414 2022-07-08 15:25:00         NaN  sema_close -0.00171\n",
      "38513 2022-07-10 23:40:00         NaN  sema_close -0.00192\n",
      "39092 2022-07-12 23:55:00         NaN  sema_close  0.01101\n",
      "39129 2022-07-13 03:00:00         NaN  sema_close -0.00143\n",
      "39203 2022-07-13 09:10:00         NaN  sema_close -0.00300\n",
      "39264 2022-07-13 14:15:00         NaN  sema_close -0.00213\n",
      "39320 2022-07-13 18:55:00         NaN  sema_close -0.00180\n",
      "39668 2022-07-14 23:55:00         NaN  sema_close  0.00015\n",
      "40249 2022-07-19 00:20:00         NaN  sema_close  0.00744\n",
      "40663 2022-07-20 10:50:00         NaN  sema_close  0.00358\n"
     ]
    },
    {
     "name": "stderr",
     "output_type": "stream",
     "text": [
      "\n",
      "100%|██████████████████████████████████████| 297/297 [00:00<00:00, 1168.71it/s]"
     ]
    },
    {
     "name": "stdout",
     "output_type": "stream",
     "text": [
      "Wall time: 2min 59s\n"
     ]
    },
    {
     "name": "stderr",
     "output_type": "stream",
     "text": [
      "\n"
     ]
    }
   ],
   "source": [
    "%%time\n",
    "data = run_engine(data)"
   ]
  },
  {
   "cell_type": "code",
   "execution_count": 3,
   "metadata": {},
   "outputs": [
    {
     "name": "stdout",
     "output_type": "stream",
     "text": [
      "month_val\n",
      "1    0.02059\n",
      "2   -0.01673\n",
      "3    0.01855\n",
      "4    0.02154\n",
      "5    0.00113\n",
      "6   -0.01731\n",
      "7    0.02154\n",
      "Name: pl, dtype: float64\n",
      "---------------------\n",
      "max : 7 : 0.021540000000000004\n",
      "min : 6 : -0.017310000000000002\n",
      "---------------------\n",
      "monthly_avg : 0.007\n"
     ]
    }
   ],
   "source": [
    "x = data['df_ohlc'].groupby(['month_val'])['pl'].sum()\n",
    "print(x)\n",
    "print('---------------------')\n",
    "print(f'max : {x.idxmax()} : {max(x)}')\n",
    "print(f'min : {x.idxmin()} : {min(x)}')\n",
    "print('---------------------')\n",
    "monthly_avg = np.round(data['df_ohlc']['pl'].sum()/len(set(data['df_ohlc']['month_val'])),4)\n",
    "print(f'monthly_avg : {monthly_avg}')"
   ]
  },
  {
   "cell_type": "code",
   "execution_count": 4,
   "metadata": {},
   "outputs": [
    {
     "data": {
      "text/html": [
       "<div>\n",
       "<style scoped>\n",
       "    .dataframe tbody tr th:only-of-type {\n",
       "        vertical-align: middle;\n",
       "    }\n",
       "\n",
       "    .dataframe tbody tr th {\n",
       "        vertical-align: top;\n",
       "    }\n",
       "\n",
       "    .dataframe thead th {\n",
       "        text-align: right;\n",
       "    }\n",
       "</style>\n",
       "<table border=\"1\" class=\"dataframe\">\n",
       "  <thead>\n",
       "    <tr style=\"text-align: right;\">\n",
       "      <th></th>\n",
       "      <th>index</th>\n",
       "      <th>positive</th>\n",
       "      <th>negative</th>\n",
       "      <th>count_diff</th>\n",
       "      <th>positive_sum</th>\n",
       "      <th>negative_sum</th>\n",
       "      <th>sum_diff</th>\n",
       "    </tr>\n",
       "  </thead>\n",
       "  <tbody>\n",
       "  </tbody>\n",
       "</table>\n",
       "</div>"
      ],
      "text/plain": [
       "Empty DataFrame\n",
       "Columns: [index, positive, negative, count_diff, positive_sum, negative_sum, sum_diff]\n",
       "Index: []"
      ]
     },
     "execution_count": 4,
     "metadata": {},
     "output_type": "execute_result"
    }
   ],
   "source": [
    "data['lema_gap_pl_analysis_month'] = 8\n",
    "\n",
    "data = lema_gap_pl_analysis(data)\n",
    "data['lema_gap_pl_report']"
   ]
  },
  {
   "cell_type": "code",
   "execution_count": 5,
   "metadata": {},
   "outputs": [
    {
     "data": {
      "text/html": [
       "<div>\n",
       "<style scoped>\n",
       "    .dataframe tbody tr th:only-of-type {\n",
       "        vertical-align: middle;\n",
       "    }\n",
       "\n",
       "    .dataframe tbody tr th {\n",
       "        vertical-align: top;\n",
       "    }\n",
       "\n",
       "    .dataframe thead th {\n",
       "        text-align: right;\n",
       "    }\n",
       "</style>\n",
       "<table border=\"1\" class=\"dataframe\">\n",
       "  <thead>\n",
       "    <tr style=\"text-align: right;\">\n",
       "      <th></th>\n",
       "      <th>index</th>\n",
       "      <th>positive</th>\n",
       "      <th>negative</th>\n",
       "      <th>count_diff</th>\n",
       "      <th>positive_sum</th>\n",
       "      <th>negative_sum</th>\n",
       "      <th>sum_diff</th>\n",
       "    </tr>\n",
       "  </thead>\n",
       "  <tbody>\n",
       "    <tr>\n",
       "      <th>5</th>\n",
       "      <td>0.000</td>\n",
       "      <td>0.0</td>\n",
       "      <td>1</td>\n",
       "      <td>-1.0</td>\n",
       "      <td>0.00000</td>\n",
       "      <td>-0.00056</td>\n",
       "      <td>-0.00056</td>\n",
       "    </tr>\n",
       "    <tr>\n",
       "      <th>2</th>\n",
       "      <td>0.001</td>\n",
       "      <td>0.0</td>\n",
       "      <td>3</td>\n",
       "      <td>-3.0</td>\n",
       "      <td>0.00000</td>\n",
       "      <td>-0.00494</td>\n",
       "      <td>-0.00494</td>\n",
       "    </tr>\n",
       "    <tr>\n",
       "      <th>1</th>\n",
       "      <td>0.002</td>\n",
       "      <td>1.0</td>\n",
       "      <td>5</td>\n",
       "      <td>-4.0</td>\n",
       "      <td>0.00882</td>\n",
       "      <td>-0.00852</td>\n",
       "      <td>0.00030</td>\n",
       "    </tr>\n",
       "    <tr>\n",
       "      <th>0</th>\n",
       "      <td>0.003</td>\n",
       "      <td>2.0</td>\n",
       "      <td>6</td>\n",
       "      <td>-4.0</td>\n",
       "      <td>0.01383</td>\n",
       "      <td>-0.01149</td>\n",
       "      <td>0.00234</td>\n",
       "    </tr>\n",
       "    <tr>\n",
       "      <th>4</th>\n",
       "      <td>0.004</td>\n",
       "      <td>3.0</td>\n",
       "      <td>1</td>\n",
       "      <td>2.0</td>\n",
       "      <td>0.02830</td>\n",
       "      <td>-0.00205</td>\n",
       "      <td>0.02625</td>\n",
       "    </tr>\n",
       "    <tr>\n",
       "      <th>3</th>\n",
       "      <td>0.007</td>\n",
       "      <td>1.0</td>\n",
       "      <td>1</td>\n",
       "      <td>0.0</td>\n",
       "      <td>0.00104</td>\n",
       "      <td>-0.00484</td>\n",
       "      <td>-0.00380</td>\n",
       "    </tr>\n",
       "  </tbody>\n",
       "</table>\n",
       "</div>"
      ],
      "text/plain": [
       "   index  positive  negative  count_diff  positive_sum  negative_sum  sum_diff\n",
       "5  0.000       0.0         1        -1.0       0.00000      -0.00056  -0.00056\n",
       "2  0.001       0.0         3        -3.0       0.00000      -0.00494  -0.00494\n",
       "1  0.002       1.0         5        -4.0       0.00882      -0.00852   0.00030\n",
       "0  0.003       2.0         6        -4.0       0.01383      -0.01149   0.00234\n",
       "4  0.004       3.0         1         2.0       0.02830      -0.00205   0.02625\n",
       "3  0.007       1.0         1         0.0       0.00104      -0.00484  -0.00380"
      ]
     },
     "execution_count": 5,
     "metadata": {},
     "output_type": "execute_result"
    }
   ],
   "source": [
    "data['lema_gap_pl_analysis_month'] = 3\n",
    "\n",
    "data = lema_gap_pl_analysis(data)\n",
    "data['lema_gap_pl_report']"
   ]
  },
  {
   "cell_type": "code",
   "execution_count": 6,
   "metadata": {},
   "outputs": [],
   "source": [
    "y = data['df_ohlc']['pl'].sum()\n",
    "x = data['df_ohlc'].groupby(['month_val'])['pl'].sum()\n",
    "send_telegram_message(f'{data[\"input_year\"]}')\n",
    "send_telegram_message(f'{y}')\n",
    "send_telegram_message(f'{x}')\n",
    "send_telegram_message(f'-------------------')"
   ]
  },
  {
   "cell_type": "code",
   "execution_count": 7,
   "metadata": {},
   "outputs": [
    {
     "ename": "SystemExit",
     "evalue": "",
     "output_type": "error",
     "traceback": [
      "An exception has occurred, use %tb to see the full traceback.\n",
      "\u001b[1;31mSystemExit\u001b[0m\n"
     ]
    }
   ],
   "source": [
    "sys.exit()"
   ]
  },
  {
   "cell_type": "code",
   "execution_count": null,
   "metadata": {},
   "outputs": [],
   "source": [
    "y = data['df_ohlc'][data['df_ohlc']['month_val'] == 6]\n",
    "x = y.groupby(['date_val'])['pl'].sum()\n",
    "print(x)\n",
    "print('---------------------')\n",
    "print(f'max : {x.idxmax()} : {max(x)}')\n",
    "print(f'min : {x.idxmin()} : {min(x)}')\n",
    "print('---------------------')"
   ]
  },
  {
   "cell_type": "code",
   "execution_count": null,
   "metadata": {
    "scrolled": true
   },
   "outputs": [],
   "source": [
    "data['df_ohlc'].tail()"
   ]
  },
  {
   "cell_type": "code",
   "execution_count": null,
   "metadata": {
    "scrolled": true
   },
   "outputs": [],
   "source": [
    "data['df_ohlc']['lema_gap'].describe()"
   ]
  },
  {
   "cell_type": "code",
   "execution_count": null,
   "metadata": {
    "scrolled": true
   },
   "outputs": [],
   "source": [
    "x = 5\n",
    "data['df_ohlc'].iloc[-5:,x:x+15]"
   ]
  },
  {
   "cell_type": "code",
   "execution_count": null,
   "metadata": {},
   "outputs": [],
   "source": [
    "data['df_small']['lema_gap'].describe()"
   ]
  },
  {
   "cell_type": "code",
   "execution_count": null,
   "metadata": {},
   "outputs": [],
   "source": []
  },
  {
   "cell_type": "code",
   "execution_count": null,
   "metadata": {},
   "outputs": [],
   "source": [
    "abs(all['negative_sum']) / all['positive_sum']"
   ]
  },
  {
   "cell_type": "code",
   "execution_count": null,
   "metadata": {},
   "outputs": [],
   "source": [
    "df_small['order_side']"
   ]
  },
  {
   "cell_type": "code",
   "execution_count": null,
   "metadata": {},
   "outputs": [],
   "source": [
    "data['df_small'].to_csv('data/temp.csv')"
   ]
  },
  {
   "cell_type": "code",
   "execution_count": null,
   "metadata": {},
   "outputs": [],
   "source": []
  },
  {
   "cell_type": "code",
   "execution_count": 8,
   "metadata": {
    "scrolled": false
   },
   "outputs": [],
   "source": [
    "data[\"plot\"] = True\n",
    "data['plot_type'] = 'file'\n",
    "data['reduce_plot'] = True\n",
    "month = 2\n",
    "data['plot_start']  = f\"{data['input_year']}-{month}-1\"\n",
    "data['plot_stop']   = f\"{data['input_year']}-{month+1}-1\"\n",
    "# data['plot_stop']   = f\"{data['input_year']+1}-1-1\"\n",
    "# data['things_to_plot'] = ['tick', 'ema', 'BBands', 'dots']\n",
    "# data['things_to_plot'] = ['ema', 'BBands', 'dots', 'indicators']\n",
    "# data['things_to_plot'] = ['ema', 'BBands', 'dots', 'cross']\n",
    "# data['things_to_plot'] = ['ema', 'BBands', 'dots', 'positions', 'tip']\n",
    "# data['things_to_plot'] = ['ema', 'BBands', 'dots', 'positions', 'lema_angle']\n",
    "# data['things_to_plot'] = ['ema', 'sema_angle', 'slema_angle', 'lema_angle', 'dir']\n",
    "# data['things_to_plot'] = ['ema', 'positions', 'lema_angle','slema_angle','sema_angle', 'rsi']\n",
    "data['things_to_plot'] = ['ema','positions', 'lema_angle','lema_diff', 'lema_max_min']\n",
    "\n",
    "plot_graph(data)"
   ]
  },
  {
   "cell_type": "code",
   "execution_count": null,
   "metadata": {},
   "outputs": [],
   "source": [
    "x = 252\n",
    "data['df_ohlc']['lema_angle'][x-3:x+3]"
   ]
  },
  {
   "cell_type": "markdown",
   "metadata": {
    "scrolled": true
   },
   "source": [
    "generate_result_report(data)"
   ]
  }
 ],
 "metadata": {
  "kernelspec": {
   "display_name": "Python 3",
   "language": "python",
   "name": "python3"
  },
  "language_info": {
   "codemirror_mode": {
    "name": "ipython",
    "version": 3
   },
   "file_extension": ".py",
   "mimetype": "text/x-python",
   "name": "python",
   "nbconvert_exporter": "python",
   "pygments_lexer": "ipython3",
   "version": "3.6.6"
  }
 },
 "nbformat": 4,
 "nbformat_minor": 4
}
