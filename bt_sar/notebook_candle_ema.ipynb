{
 "cells": [
  {
   "cell_type": "markdown",
   "metadata": {},
   "source": [
    "# ML Trader"
   ]
  },
  {
   "cell_type": "code",
   "execution_count": 1,
   "metadata": {
    "scrolled": true
   },
   "outputs": [],
   "source": [
    "from utils.packages import *\n",
    "from utils.variables import *\n",
    "from utils.i_o import *\n",
    "from utils.dir_slope import *\n",
    "from utils.engine import *\n",
    "from utils.loops import *\n",
    "from utils.order import *\n",
    "from utils.ml import *\n",
    "import winsound"
   ]
  },
  {
   "cell_type": "markdown",
   "metadata": {},
   "source": [
    "# Notes\n",
    "---\n",
    "## 2022_09_02\n",
    "\n",
    "### Observations\n",
    "\n",
    "1. No need to make 10 transactions a day. Just one is enough\n",
    "\n",
    "1. lema or sema match\n",
    "    1. Using lema match works fine in both opening \n",
    "    1. Using lema has better results\n",
    "    1. 144 produces better resuls over higher numbers like 1440 \n",
    "\n",
    "1. Lema angle in order and close\n",
    "    1. Using lema angle in order, delays order, but overall profits are high\n",
    "    1. Using lema angle in close also increases overall profit\n",
    "\n",
    "1. Before everything need to find why 2021 is consistently producing negative results in all the setups.\n",
    "    1. What is that this causing this issue, how can it be addressed with in the same system\n",
    "    1. less complex method is essential\n",
    "    \n",
    "\n",
    "### To Test\n",
    "1. Find whether the opening or closing that is causing the most issue in loss years\n",
    "1. Test other years to understand how well this setup works.\n",
    "1. Remove lema match check from closing. This is delaying bad trasactions\n",
    "1. Test 5 round up on lema match. Transactions are opening in lema match gaps\n",
    "1. Ideation\n",
    "    1. Test lema Bollinger bands to understand flow direction\n",
    "    1. Test overall flow direction\n",
    "\n",
    "---\n",
    "\n",
    "## 2022_09_02\n",
    "\n",
    "### Observations\n",
    "1. Opening and closing need to happen faster. Cant close after ema match\n",
    "1. Lema angle helps save positions against frequent flips but delays closing and causes losses\n",
    "1. Market is non-directional (Dec 2021 is a good example) Goes up and down, when algo tries to open and close its always too late\n",
    "1. Need a faster method\n",
    "\n",
    "\n",
    "### To Test\n",
    "1. Should test plotting close as a line instead of candles. Perform match in close with wider window\n",
    "1. Close chart needs to be analysed. This looks promising.\n",
    "1. Go with simple rolling min max for close. Works better than resample min max merge\n",
    "\n",
    "---\n",
    "\n",
    "## Result by Years\n",
    "\n",
    "| Year | Angle open | Angle close | Lema match open | Lema match close | Result type | pips  |\n",
    "| ---- | ---------- | ----------- | --------------- | ---------------- | ----------- | ----- |\n",
    "| 2022 | Yes        | No          | Yes             | Yes              | Profit      | 200   |\n",
    "| 2021 | Yes        | No          | Yes             | Yes              | Loss        | \\-800 |\n",
    "| 2020 | Yes        | No          | Yes             | Yes              | Profit      | 800   |\n",
    "| 2019 | Yes        | No          | Yes             | Yes              | Loss        | \\-400 |\n",
    "| 2018 | Yes        | No          | Yes             | Yes              | Profit      | 300   |\n",
    "| 2017 | Yes        | No          | Yes             | Yes              | Profit      | 14    |    "
   ]
  },
  {
   "cell_type": "markdown",
   "metadata": {},
   "source": [
    "data                = get_date_list(data)\n",
    "data                = read_data(data)"
   ]
  },
  {
   "cell_type": "code",
   "execution_count": 2,
   "metadata": {
    "scrolled": false
   },
   "outputs": [
    {
     "name": "stderr",
     "output_type": "stream",
     "text": [
      "\r",
      "100%|██████████████████████████████████▉| 74226/74266 [02:59<00:00, 340.67it/s]"
     ]
    },
    {
     "name": "stdout",
     "output_type": "stream",
     "text": [
      "pl   -0.6936\n",
      "dtype: float64\n",
      "--------------------------------------\n",
      "            DateTime_frmt  order_side  close_type       pl\n",
      "74122 2021-12-31 10:00:00         NaN  sema_close -0.00053\n",
      "74123 2021-12-31 10:05:00         NaN  sema_close -0.00038\n",
      "74124 2021-12-31 10:10:00         NaN  sema_close -0.00035\n",
      "74128 2021-12-31 10:30:00         NaN  sema_close -0.00033\n",
      "74135 2021-12-31 11:05:00         NaN  sema_close  0.00029\n",
      "74139 2021-12-31 11:25:00         NaN  sema_close  0.00027\n",
      "74140 2021-12-31 11:30:00         NaN  sema_close -0.00044\n",
      "74141 2021-12-31 11:35:00         NaN  sema_close -0.00052\n",
      "74149 2021-12-31 12:15:00         NaN  sema_close  0.00063\n",
      "74156 2021-12-31 12:50:00         NaN  sema_close  0.00018\n",
      "74163 2021-12-31 13:25:00         NaN  sema_close -0.00021\n",
      "74172 2021-12-31 14:10:00         NaN  sema_close  0.00117\n",
      "74191 2021-12-31 15:45:00         NaN  sema_close  0.00021\n",
      "74201 2021-12-31 16:35:00         NaN  sema_close -0.00030\n",
      "74213 2021-12-31 17:35:00         NaN  sema_close  0.00014\n"
     ]
    },
    {
     "name": "stderr",
     "output_type": "stream",
     "text": [
      "100%|███████████████████████████████████| 74266/74266 [02:59<00:00, 412.69it/s]\n",
      "100%|█████████████████████████████████████| 7319/7319 [00:20<00:00, 361.33it/s]"
     ]
    },
    {
     "name": "stdout",
     "output_type": "stream",
     "text": [
      "Wall time: 4min 57s\n"
     ]
    },
    {
     "name": "stderr",
     "output_type": "stream",
     "text": [
      "\n"
     ]
    }
   ],
   "source": [
    "%%time\n",
    "data = run_engine(data)"
   ]
  },
  {
   "cell_type": "code",
   "execution_count": 3,
   "metadata": {
    "scrolled": false
   },
   "outputs": [
    {
     "name": "stdout",
     "output_type": "stream",
     "text": [
      "month_val\n",
      "1    -0.07831\n",
      "2    -0.05484\n",
      "3    -0.08175\n",
      "4    -0.05788\n",
      "5    -0.04691\n",
      "6    -0.05989\n",
      "7    -0.06462\n",
      "8    -0.05032\n",
      "9    -0.07193\n",
      "10   -0.02492\n",
      "11   -0.05985\n",
      "12   -0.04238\n",
      "Name: pl, dtype: float64\n",
      "---------------------\n",
      "month_val\n",
      "3    -0.08175\n",
      "1    -0.07831\n",
      "9    -0.07193\n",
      "7    -0.06462\n",
      "6    -0.05989\n",
      "11   -0.05985\n",
      "4    -0.05788\n",
      "2    -0.05484\n",
      "8    -0.05032\n",
      "5    -0.04691\n",
      "12   -0.04238\n",
      "10   -0.02492\n",
      "Name: pl, dtype: float64\n",
      "---------------------\n",
      "max : 10 : -0.02492000000000001\n",
      "min : 3 : -0.08174999999999989\n",
      "---------------------\n",
      "monthly_avg : -0.0578\n"
     ]
    }
   ],
   "source": [
    "x = data['df_ohlc'].groupby(['month_val'])['pl'].sum()\n",
    "print(x)\n",
    "print('---------------------')\n",
    "print(x.sort_values())\n",
    "print('---------------------')\n",
    "print(f'max : {x.idxmax()} : {max(x)}')\n",
    "print(f'min : {x.idxmin()} : {min(x)}')\n",
    "print('---------------------')\n",
    "monthly_avg = np.round(data['df_ohlc']['pl'].sum()/len(set(data['df_ohlc']['month_val'])),4)\n",
    "print(f'monthly_avg : {monthly_avg}')"
   ]
  },
  {
   "cell_type": "code",
   "execution_count": 4,
   "metadata": {},
   "outputs": [
    {
     "ename": "SystemExit",
     "evalue": "",
     "output_type": "error",
     "traceback": [
      "An exception has occurred, use %tb to see the full traceback.\n",
      "\u001b[1;31mSystemExit\u001b[0m\n"
     ]
    }
   ],
   "source": [
    "sys.exit()"
   ]
  },
  {
   "cell_type": "code",
   "execution_count": null,
   "metadata": {},
   "outputs": [],
   "source": [
    "print(data['df_small'].groupby(['weekday', 'pl_type'])['pl_type'].count().unstack())\n",
    "print('----------------------------------------------')\n",
    "print(data['df_small'].groupby(['weekday', 'pl_type'])['pl'].sum().unstack())"
   ]
  },
  {
   "cell_type": "code",
   "execution_count": null,
   "metadata": {},
   "outputs": [],
   "source": [
    "data['lema_gap_pl_analysis_month'] = 3\n",
    "\n",
    "data = lema_gap_pl_analysis(data)\n",
    "data['lema_gap_pl_report']"
   ]
  },
  {
   "cell_type": "code",
   "execution_count": null,
   "metadata": {},
   "outputs": [],
   "source": [
    "y = data['df_ohlc']['pl'].sum()\n",
    "x = data['df_ohlc'].groupby(['month_val'])['pl'].sum()\n",
    "send_telegram_message(f'{data[\"input_year\"]}')\n",
    "send_telegram_message(f'{y}')\n",
    "send_telegram_message(f'{x}')\n",
    "send_telegram_message(f'-------------------')"
   ]
  },
  {
   "cell_type": "code",
   "execution_count": null,
   "metadata": {},
   "outputs": [],
   "source": [
    "y = data['df_ohlc'][data['df_ohlc']['month_val'] == 1]\n",
    "x = y.groupby(['date_val'])['pl'].sum()\n",
    "print(x)\n",
    "print('---------------------')\n",
    "print(f'max : {x.idxmax()} : {max(x)}')\n",
    "print(f'min : {x.idxmin()} : {min(x)}')\n",
    "print('---------------------')"
   ]
  },
  {
   "cell_type": "code",
   "execution_count": null,
   "metadata": {
    "scrolled": true
   },
   "outputs": [],
   "source": [
    "data['df_ohlc'].tail()"
   ]
  },
  {
   "cell_type": "code",
   "execution_count": null,
   "metadata": {
    "scrolled": true
   },
   "outputs": [],
   "source": [
    "data['df_ohlc']['lema_gap'].describe()"
   ]
  },
  {
   "cell_type": "code",
   "execution_count": null,
   "metadata": {
    "scrolled": true
   },
   "outputs": [],
   "source": [
    "x = 5\n",
    "data['df_ohlc'].iloc[-5:,x:x+15]"
   ]
  },
  {
   "cell_type": "code",
   "execution_count": null,
   "metadata": {},
   "outputs": [],
   "source": [
    "data['df_small']['lema_gap'].describe()"
   ]
  },
  {
   "cell_type": "code",
   "execution_count": null,
   "metadata": {},
   "outputs": [],
   "source": [
    "a = np.arange(0,20)\n",
    "for b in a:\n",
    "    x = int(round(b/5.0)*5.0)\n",
    "    print(b, x)"
   ]
  },
  {
   "cell_type": "code",
   "execution_count": null,
   "metadata": {},
   "outputs": [],
   "source": [
    "abs(all['negative_sum']) / all['positive_sum']"
   ]
  },
  {
   "cell_type": "code",
   "execution_count": null,
   "metadata": {},
   "outputs": [],
   "source": [
    "df_small['order_side']"
   ]
  },
  {
   "cell_type": "code",
   "execution_count": null,
   "metadata": {},
   "outputs": [],
   "source": [
    "data['df_small'].to_csv('data/temp.csv')"
   ]
  },
  {
   "cell_type": "code",
   "execution_count": 5,
   "metadata": {},
   "outputs": [],
   "source": [
    "data[\"plot\"] = True\n",
    "data['plot_type'] = 'file'\n",
    "data['reduce_plot'] = True\n",
    "chart_duration = 'month'\n",
    "month = 1\n",
    "\n",
    "# data['things_to_plot'] = ['tick', 'ema', 'BBands', 'dots']\n",
    "# data['things_to_plot'] = ['ema', 'BBands', 'dots', 'indicators']\n",
    "# data['things_to_plot'] = ['ema', 'BBands', 'dots', 'cross']\n",
    "# data['things_to_plot'] = ['ema', 'BBands', 'dots', 'positions', 'tip']\n",
    "# data['things_to_plot'] = ['ema', 'BBands', 'dots', 'positions', 'lema_angle']\n",
    "# data['things_to_plot'] = ['ema', 'sema_angle', 'slema_angle', 'lema_angle', 'dir']\n",
    "# data['things_to_plot'] = ['ema', 'positions', 'lema_angle','slema_angle','sema_angle', 'rsi']\n",
    "# data['things_to_plot'] = ['ema','positions', 'lema_angle','lema_diff', 'lema_max_min']\n",
    "# data['things_to_plot'] = ['candles','sema', 'slema','positions','lema', 'lema_angle', 'lema_max_min', 'close_diff']\n",
    "# data['things_to_plot'] = ['lema', 'tip', 'candles', 'lema_angle', 'lema_change']\n",
    "# data['things_to_plot'] = ['candles','sema', 'close','lema', 'lema_match', 'positions', 'lema_change']\n",
    "# data['things_to_plot'] = ['close', 'sema','lema', 'lema_change', 'lema_match', 'close_max']\n",
    "# data['things_to_plot'] = ['close', 'tip','lema', 'close_max', 'close_min', 'lema_match']\n",
    "data['things_to_plot'] = ['close', 'sema','lema_match' ,'positions']\n",
    "# data['things_to_plot'] = ['close']\n",
    "\n",
    "data['plot_start']  = f\"{data['input_year']}-{month}-1\"\n",
    "\n",
    "if chart_duration == 'month':\n",
    "    if month == 12:\n",
    "        data['plot_stop']   = f\"{data['input_year']+1}-1-1\"\n",
    "    else:\n",
    "        data['plot_stop']   = f\"{data['input_year']}-{month+1}-1\"\n",
    "\n",
    "elif chart_duration == 'year':        \n",
    "    data['plot_start']  = f\"{data['input_year']}-1-1\"\n",
    "    data['plot_stop']   = f\"{data['input_year']+1}-1-1\"\n",
    "\n",
    "\n",
    "plot_graph(data)"
   ]
  },
  {
   "cell_type": "markdown",
   "metadata": {
    "scrolled": true
   },
   "source": [
    "generate_result_report(data)"
   ]
  },
  {
   "cell_type": "code",
   "execution_count": null,
   "metadata": {},
   "outputs": [],
   "source": [
    "data['df_ohlc']['close_max'] = data['df_ohlc']['close'].rolling(window = data['close_min_max_duration']).max()\n",
    "data['df_ohlc']['close_min'] = data['df_ohlc']['close'].rolling(window = data['close_min_max_duration']).min()"
   ]
  },
  {
   "cell_type": "code",
   "execution_count": null,
   "metadata": {},
   "outputs": [],
   "source": [
    "data['df_ohlc']['close_max'][0:10]"
   ]
  },
  {
   "cell_type": "code",
   "execution_count": null,
   "metadata": {},
   "outputs": [],
   "source": [
    "data['df_ohlc']['close_max'][0:10]"
   ]
  },
  {
   "cell_type": "code",
   "execution_count": null,
   "metadata": {},
   "outputs": [],
   "source": [
    "data['df_ohlc']['close_max'].duplicated()[0:10]"
   ]
  },
  {
   "cell_type": "code",
   "execution_count": null,
   "metadata": {},
   "outputs": [],
   "source": [
    "cols = ['DateTime_frmt', 'close', 'ask','bid', \n",
    " 'open', 'high', 'low', 'candle_size', 'close_max', 'close_min', 'lema', 'lema_angle', 'lema_angle_2',\n",
    "       'lema_angle_0', 'slema', 'slema_angle', 'slema_angle_2', 'sema',\n",
    "       'sema_angle', 'sema_angle_2', 'close_diff', 'BBand_upper',\n",
    "       'BBand_middle', 'BBand_lower', 'BBand_width', 'avg_BBand_width', 'adx',\n",
    "       'tip', 'lema_match', 'order_side', 'order_size', 'long_open',\n",
    "       'short_open', 'close_type', 'pl', 'up', 'down', 'month_val', 'date_val',\n",
    "       'hour_val', 'long_profit', 'long_loss', 'short_profit', 'short_loss']\n",
    "\n",
    "data['df_ohlc'][cols].to_csv('data/temp.csv')"
   ]
  },
  {
   "cell_type": "code",
   "execution_count": null,
   "metadata": {},
   "outputs": [],
   "source": [
    "data['df_ohlc'].loc[~(data['df_ohlc']['close'] == data['df_ohlc']['close_max']), 'close_max'] = np.nan\n",
    "data['df_ohlc'].loc[~(data['df_ohlc']['close'] == data['df_ohlc']['close_min']), 'close_min'] = np.nan"
   ]
  },
  {
   "cell_type": "code",
   "execution_count": null,
   "metadata": {},
   "outputs": [],
   "source": [
    "data['df_ohlc'][['close', 'close_max', 'close_min']][0:20]"
   ]
  },
  {
   "cell_type": "code",
   "execution_count": null,
   "metadata": {},
   "outputs": [],
   "source": [
    "data['df_ohlc'].loc[data['df_ohlc']['close_max'].duplicated(), 'close_max'] = np.nan\n",
    "data['df_ohlc'].loc[data['df_ohlc']['close_min'].duplicated(), 'close_min'] = np.nan"
   ]
  }
 ],
 "metadata": {
  "kernelspec": {
   "display_name": "Python 3",
   "language": "python",
   "name": "python3"
  },
  "language_info": {
   "codemirror_mode": {
    "name": "ipython",
    "version": 3
   },
   "file_extension": ".py",
   "mimetype": "text/x-python",
   "name": "python",
   "nbconvert_exporter": "python",
   "pygments_lexer": "ipython3",
   "version": "3.6.6"
  }
 },
 "nbformat": 4,
 "nbformat_minor": 4
}
