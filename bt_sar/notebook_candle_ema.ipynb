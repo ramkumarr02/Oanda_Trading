{
 "cells": [
  {
   "cell_type": "markdown",
   "metadata": {},
   "source": [
    "# ML Trader"
   ]
  },
  {
   "cell_type": "code",
   "execution_count": 1,
   "metadata": {
    "scrolled": true
   },
   "outputs": [],
   "source": [
    "from utils.packages import *\n",
    "from utils.variables import *\n",
    "from utils.i_o import *\n",
    "from utils.dir_slope import *\n",
    "from utils.engine import *\n",
    "from utils.loops import *\n",
    "from utils.order import *\n",
    "from utils.ml import *\n",
    "import winsound"
   ]
  },
  {
   "cell_type": "markdown",
   "metadata": {},
   "source": [
    "# Notes\n",
    "---\n",
    "## 2022_09_02\n",
    "\n",
    "### Observations\n",
    "\n",
    "1. No need to make 10 transactions a day. Just one is enough\n",
    "\n",
    "1. lema or sema match\n",
    "    1. Using lema match works fine in both opening \n",
    "    1. Using lema has better results\n",
    "    1. 144 produces better resuls over higher numbers like 1440 \n",
    "\n",
    "1. Lema angle in order and close\n",
    "    1. Using lema angle in order, delays order, but overall profits are high\n",
    "    1. Using lema angle in close also increases overall profit\n",
    "\n",
    "1. Before everything need to find why 2021 is consistently producing negative results in all the setups.\n",
    "    1. What is that this causing this issue, how can it be addressed with in the same system\n",
    "    1. less complex method is essential\n",
    "    \n",
    "\n",
    "### To Test\n",
    "1. Find whether the opening or closing that is causing the most issue in loss years\n",
    "1. Test other years to understand how well this setup works.\n",
    "1. Remove lema match check from closing. This is delaying bad trasactions\n",
    "1. Test 5 round up on lema match. Transactions are opening in lema match gaps\n",
    "1. Ideation\n",
    "    1. Test lema Bollinger bands to understand flow direction\n",
    "    1. Test overall flow direction\n",
    "\n",
    "---\n",
    "\n",
    "## 2022_09_02\n",
    "\n",
    "### Observations\n",
    "1. Opening and closing need to happen faster. Cant close after ema match\n",
    "1. Lema angle helps save positions against frequent flips but delays closing and causes losses\n",
    "1. Market is non-directional (Dec 2021 is a good example) Goes up and down, when algo tries to open and close its always too late\n",
    "1. Need a faster method\n",
    "\n",
    "\n",
    "### To Test\n",
    "1. Should test plotting close as a line instead of candles. Perform match in close with wider window\n",
    "1. Close chart needs to be analysed. This looks promising.\n",
    "1. Go with simple rolling min max for close. Works better than resample min max merge\n",
    "\n",
    "---\n",
    "\n",
    "\n",
    "## 2022_09_13\n",
    "\n",
    "### Observations\n",
    "1. Lema crossing lema max and close using sema crossing lema max (This is the highest yielding 2020)\n",
    "1. Need to analyze the gap between lema and lema max as an indicator for profit and loss\n",
    "\n",
    "\n",
    "---\n",
    "\n",
    "## Result by Years\n",
    "\n",
    "| Year | Angle open | Angle close | Lema match open | Lema match close | Result type | pips  |\n",
    "| ---- | ---------- | ----------- | --------------- | ---------------- | ----------- | ----- |\n",
    "| 2022 | Yes        | No          | Yes             | Yes              | Profit      | 577   |\n",
    "| 2021 | Yes        | No          | Yes             | Yes              | Loss        | \\-596 |\n",
    "| 2020 | Yes        | No          | Yes             | Yes              | Profit      | 1462  |\n",
    "| 2019 | Yes        | No          | Yes             | Yes              | Loss        | 193   |\n",
    "| 2018 | Yes        | No          | Yes             | Yes              | Profit      | 60    |\n",
    "| 2017 | Yes        | No          | Yes             | Yes              | Profit      | \\-1396|    "
   ]
  },
  {
   "cell_type": "markdown",
   "metadata": {},
   "source": [
    "data                = get_date_list(data)\n",
    "data                = read_data(data)"
   ]
  },
  {
   "cell_type": "code",
   "execution_count": 2,
   "metadata": {},
   "outputs": [],
   "source": [
    "data[\"input_year\"] = 2021\n",
    "data['start_date'] = {'year':data[\"input_year\"], 'month':1, 'date':1}\n",
    "data['end_date']   = {'year':data[\"input_year\"], 'month':12, 'date':31}\n",
    "data[\"product\"] = 'eurusd'\n",
    "data[\"input_file_name\"] = f'{data[\"product\"]}_{data[\"input_year\"]}.csv'"
   ]
  },
  {
   "cell_type": "code",
   "execution_count": 3,
   "metadata": {
    "scrolled": false
   },
   "outputs": [
    {
     "name": "stdout",
     "output_type": "stream",
     "text": [
      "pl   -0.05453\n",
      "dtype: float64\n",
      "--------------------------------------\n",
      "            DateTime_frmt  order_side  close_type       pl\n",
      "66646 2021-11-25 10:50:00         NaN  sema_close -0.00025\n",
      "67228 2021-11-29 11:20:00         NaN  sema_close  0.00582\n",
      "67428 2021-11-30 04:00:00         NaN  sema_close -0.00392\n",
      "67732 2021-12-01 05:20:00         NaN  sema_close  0.00181\n",
      "68514 2021-12-05 22:30:00         NaN  sema_close -0.00149\n",
      "69179 2021-12-08 05:55:00         NaN  sema_close -0.00313\n",
      "69572 2021-12-09 14:40:00         NaN  sema_close -0.00164\n",
      "69948 2021-12-12 22:05:00         NaN  sema_close -0.00424\n",
      "70847 2021-12-16 01:00:00         NaN  sema_close -0.00507\n",
      "71332 2021-12-17 17:25:00         NaN  sema_close -0.00401\n",
      "71615 2021-12-20 17:00:00         NaN  sema_close -0.00576\n",
      "72562 2021-12-23 23:55:00         NaN  sema_close  0.00043\n",
      "72794 2021-12-24 19:15:00         NaN  sema_close -0.00265\n",
      "73342 2021-12-28 17:00:00         NaN  sema_close -0.00140\n",
      "73651 2021-12-29 18:45:00         NaN  sema_close -0.00560\n"
     ]
    },
    {
     "name": "stderr",
     "output_type": "stream",
     "text": [
      "100%|██████████████████████████████████| 74266/74266 [00:26<00:00, 2797.10it/s]\n",
      "100%|██████████████████████████████████████| 234/234 [00:00<00:00, 1056.88it/s]"
     ]
    },
    {
     "name": "stdout",
     "output_type": "stream",
     "text": [
      "Wall time: 2min 23s\n"
     ]
    },
    {
     "name": "stderr",
     "output_type": "stream",
     "text": [
      "\n"
     ]
    }
   ],
   "source": [
    "%%time\n",
    "data = run_engine(data)"
   ]
  },
  {
   "cell_type": "code",
   "execution_count": 4,
   "metadata": {},
   "outputs": [
    {
     "data": {
      "text/plain": [
       "close_type\n",
       "sema_close   -0.05453\n",
       "Name: pl, dtype: float64"
      ]
     },
     "execution_count": 4,
     "metadata": {},
     "output_type": "execute_result"
    }
   ],
   "source": [
    "data['df_ohlc'].groupby(['close_type'])['pl'].sum()"
   ]
  },
  {
   "cell_type": "code",
   "execution_count": 5,
   "metadata": {
    "scrolled": false
   },
   "outputs": [
    {
     "name": "stdout",
     "output_type": "stream",
     "text": [
      "month_val\n",
      "1    -0.01710\n",
      "2     0.01056\n",
      "3     0.01032\n",
      "4    -0.01462\n",
      "5     0.00671\n",
      "6    -0.00275\n",
      "7    -0.02189\n",
      "8     0.02187\n",
      "9    -0.00882\n",
      "10   -0.01157\n",
      "11    0.00551\n",
      "12   -0.03275\n",
      "Name: pl, dtype: float64\n",
      "---------------------\n",
      "month_val\n",
      "12   -0.03275\n",
      "7    -0.02189\n",
      "1    -0.01710\n",
      "4    -0.01462\n",
      "10   -0.01157\n",
      "9    -0.00882\n",
      "6    -0.00275\n",
      "11    0.00551\n",
      "5     0.00671\n",
      "3     0.01032\n",
      "2     0.01056\n",
      "8     0.02187\n",
      "Name: pl, dtype: float64\n",
      "---------------------\n",
      "max : 8 : 0.02187\n",
      "min : 12 : -0.03275\n",
      "---------------------\n",
      "monthly_avg : -0.0045\n"
     ]
    }
   ],
   "source": [
    "x = data['df_ohlc'].groupby(['month_val'])['pl'].sum()\n",
    "print(x)\n",
    "print('---------------------')\n",
    "print(x.sort_values())\n",
    "print('---------------------')\n",
    "print(f'max : {x.idxmax()} : {max(x)}')\n",
    "print(f'min : {x.idxmin()} : {min(x)}')\n",
    "print('---------------------')\n",
    "monthly_avg = np.round(data['df_ohlc']['pl'].sum()/len(set(data['df_ohlc']['month_val'])),4)\n",
    "print(f'monthly_avg : {monthly_avg}')"
   ]
  },
  {
   "cell_type": "code",
   "execution_count": 6,
   "metadata": {},
   "outputs": [
    {
     "ename": "SystemExit",
     "evalue": "",
     "output_type": "error",
     "traceback": [
      "An exception has occurred, use %tb to see the full traceback.\n",
      "\u001b[1;31mSystemExit\u001b[0m\n"
     ]
    }
   ],
   "source": [
    "sys.exit()"
   ]
  },
  {
   "cell_type": "code",
   "execution_count": null,
   "metadata": {},
   "outputs": [],
   "source": [
    "print(data['df_small'].groupby(['weekday', 'pl_type'])['pl_type'].count().unstack())\n",
    "print('----------------------------------------------')\n",
    "print(data['df_small'].groupby(['weekday', 'pl_type'])['pl'].sum().unstack())"
   ]
  },
  {
   "cell_type": "code",
   "execution_count": null,
   "metadata": {},
   "outputs": [],
   "source": [
    "data['lema_gap_pl_analysis_month'] = 3\n",
    "\n",
    "data = lema_gap_pl_analysis(data)\n",
    "data['lema_gap_pl_report']"
   ]
  },
  {
   "cell_type": "code",
   "execution_count": null,
   "metadata": {},
   "outputs": [],
   "source": [
    "y = data['df_ohlc']['pl'].sum()\n",
    "x = data['df_ohlc'].groupby(['month_val'])['pl'].sum()\n",
    "send_telegram_message(f'{data[\"input_year\"]}')\n",
    "send_telegram_message(f'{y}')\n",
    "send_telegram_message(f'{x}')\n",
    "send_telegram_message(f'-------------------')"
   ]
  },
  {
   "cell_type": "code",
   "execution_count": null,
   "metadata": {},
   "outputs": [],
   "source": [
    "y = data['df_ohlc'][data['df_ohlc']['month_val'] == 1]\n",
    "x = y.groupby(['date_val'])['pl'].sum()\n",
    "print(x)\n",
    "print('---------------------')\n",
    "print(f'max : {x.idxmax()} : {max(x)}')\n",
    "print(f'min : {x.idxmin()} : {min(x)}')\n",
    "print('---------------------')"
   ]
  },
  {
   "cell_type": "code",
   "execution_count": null,
   "metadata": {
    "scrolled": true
   },
   "outputs": [],
   "source": [
    "data['df_ohlc'].tail()"
   ]
  },
  {
   "cell_type": "code",
   "execution_count": null,
   "metadata": {
    "scrolled": true
   },
   "outputs": [],
   "source": [
    "data['df_ohlc']['lema_gap'].describe()"
   ]
  },
  {
   "cell_type": "code",
   "execution_count": null,
   "metadata": {
    "scrolled": true
   },
   "outputs": [],
   "source": [
    "x = 5\n",
    "data['df_ohlc'].iloc[-5:,x:x+15]"
   ]
  },
  {
   "cell_type": "code",
   "execution_count": null,
   "metadata": {},
   "outputs": [],
   "source": [
    "data['df_small']['lema_gap'].describe()"
   ]
  },
  {
   "cell_type": "code",
   "execution_count": null,
   "metadata": {},
   "outputs": [],
   "source": [
    "a = np.arange(0,20)\n",
    "for b in a:\n",
    "    x = int(round(b/5.0)*5.0)\n",
    "    print(b, x)"
   ]
  },
  {
   "cell_type": "code",
   "execution_count": null,
   "metadata": {},
   "outputs": [],
   "source": [
    "abs(all['negative_sum']) / all['positive_sum']"
   ]
  },
  {
   "cell_type": "code",
   "execution_count": null,
   "metadata": {},
   "outputs": [],
   "source": [
    "df_small['order_side']"
   ]
  },
  {
   "cell_type": "code",
   "execution_count": null,
   "metadata": {},
   "outputs": [],
   "source": [
    "data['df_small'].to_csv('data/temp.csv')"
   ]
  },
  {
   "cell_type": "code",
   "execution_count": 24,
   "metadata": {},
   "outputs": [],
   "source": [
    "data[\"plot\"] = True\n",
    "data['plot_type'] = 'file'\n",
    "data['reduce_plot'] = True\n",
    "chart_duration = 'month'\n",
    "month = 12\n",
    "\n",
    "# data['things_to_plot'] = ['tick', 'ema', 'BBands', 'dots']\n",
    "# data['things_to_plot'] = ['ema', 'BBands', 'dots', 'indicators']\n",
    "# data['things_to_plot'] = ['ema', 'BBands', 'dots', 'cross']\n",
    "# data['things_to_plot'] = ['ema', 'BBands', 'dots', 'positions', 'tip']\n",
    "# data['things_to_plot'] = ['ema', 'BBands', 'dots', 'positions', 'lema_angle']\n",
    "# data['things_to_plot'] = ['ema', 'sema_angle', 'slema_angle', 'lema_angle', 'dir']\n",
    "# data['things_to_plot'] = ['ema', 'positions', 'lema_angle','slema_angle','sema_angle', 'rsi']\n",
    "# data['things_to_plot'] = ['ema','positions', 'lema_angle','lema_diff', 'lema_max_min']\n",
    "# data['things_to_plot'] = ['candles','sema', 'slema','positions','lema', 'lema_angle', 'lema_max_min', 'close_diff']\n",
    "# data['things_to_plot'] = ['lema', 'tip', 'candles', 'lema_angle', 'lema_change']\n",
    "# data['things_to_plot'] = ['candles','sema', 'close','lema', 'lema_match', 'positions', 'lema_change']\n",
    "# data['things_to_plot'] = ['close', 'sema','lema', 'lema_change', 'lema_match', 'close_max']\n",
    "# data['things_to_plot'] = ['close', 'tip','lema', 'close_max', 'close_min', 'lema_match']\n",
    "# data['things_to_plot'] = ['close', 'lema','lema_match', 'slema', 'positions']\n",
    "# data['things_to_plot'] = ['close', 'sema', 'slema','lema','lema_match', 'tip']\n",
    "# data['things_to_plot'] = ['close', 'sema','lema','lema_match', 'match_max', 'match_min', 'unmatched']\n",
    "# data['things_to_plot'] = ['close', 'sema','lema','lema_match', 'lema_max_min', 'positions']\n",
    "data['things_to_plot'] = ['close','lema', 'sema', 'lema_max_min', 'positions']\n",
    "\n",
    "data['plot_start']  = f\"{data['input_year']}-{month}-1\"\n",
    "\n",
    "if chart_duration == 'month':\n",
    "    if month == 12:\n",
    "        data['plot_stop']   = f\"{data['input_year']+1}-1-1\"\n",
    "    else:\n",
    "        data['plot_stop']   = f\"{data['input_year']}-{month+1}-1\"\n",
    "\n",
    "elif chart_duration == 'year':        \n",
    "    data['plot_start']  = f\"{data['input_year']}-1-1\"\n",
    "    data['plot_stop']   = f\"{data['input_year']+1}-1-1\"\n",
    "\n",
    "\n",
    "plot_graph(data)"
   ]
  },
  {
   "cell_type": "markdown",
   "metadata": {
    "scrolled": true
   },
   "source": [
    "generate_result_report(data)"
   ]
  },
  {
   "cell_type": "code",
   "execution_count": null,
   "metadata": {},
   "outputs": [],
   "source": [
    "data['df_small'].columns"
   ]
  },
  {
   "cell_type": "code",
   "execution_count": null,
   "metadata": {},
   "outputs": [],
   "source": [
    "temp"
   ]
  },
  {
   "cell_type": "code",
   "execution_count": null,
   "metadata": {},
   "outputs": [],
   "source": [
    "temp['close']"
   ]
  },
  {
   "cell_type": "code",
   "execution_count": null,
   "metadata": {},
   "outputs": [],
   "source": [
    "temp = data['df_small'][['pl_type', 'pl','order_side','close', 'lema_max', 'lema_min', 'lema', 'sema']].dropna()\n",
    "\n",
    "temp.loc[temp['order_side'] == 'long', 'lema_diff'] = temp['lema'] - temp['lema_max']\n",
    "temp.loc[temp['order_side'] == 'short', 'lema_diff'] = temp['lema_min'] - temp['lema']\n",
    "\n",
    "temp.loc[temp['order_side'] == 'long', 'sema_diff'] = temp['sema'] - temp['lema_max']\n",
    "temp.loc[temp['order_side'] == 'short', 'sema_diff'] = temp['lema_min'] - temp['sema']\n",
    "\n",
    "temp.loc[temp['order_side'] == 'long', 'close_diff'] = temp['close'] - temp['lema_max']\n",
    "temp.loc[temp['order_side'] == 'short', 'close_diff'] = temp['lema_min'] - temp['close']\n",
    "\n",
    "temp.head()"
   ]
  },
  {
   "cell_type": "code",
   "execution_count": null,
   "metadata": {},
   "outputs": [],
   "source": [
    "curve_type = 'sema_diff'\n",
    "\n",
    "val_min = temp[curve_type].describe()['min'].round(5)\n",
    "val_25 = temp[curve_type].describe()['25%'].round(5)\n",
    "val_50 = temp[curve_type].describe()['50%'].round(5)\n",
    "val_75 = temp[curve_type].describe()['75%'].round(5)\n",
    "val_max = temp[curve_type].describe()['max'].round(5)\n",
    "\n",
    "per_0_25 = temp.loc[(temp[curve_type] >= val_min) & (temp[curve_type] < val_25), 'pl'].sum().round(4)\n",
    "per_25_50 = temp.loc[(temp[curve_type] >= val_25) & (temp[curve_type] < val_50), 'pl'].sum().round(4)\n",
    "per_50_75 = temp.loc[(temp[curve_type] >= val_50) & (temp[curve_type] < val_75), 'pl'].sum().round(4)\n",
    "per_75_100 = temp.loc[(temp[curve_type] >= val_75) & (temp[curve_type] <= val_max), 'pl'].sum().round(4)\n",
    "\n",
    "per_0_25_count = temp.loc[(temp[curve_type] >= val_min) & (temp[curve_type] < val_25), 'pl'].count()\n",
    "per_25_50_count = temp.loc[(temp[curve_type] >= val_25) & (temp[curve_type] < val_50), 'pl'].count()\n",
    "per_50_75_count = temp.loc[(temp[curve_type] >= val_50) & (temp[curve_type] < val_75), 'pl'].count()\n",
    "per_75_100_count = temp.loc[(temp[curve_type] >= val_75) & (temp[curve_type] <= val_max), 'pl'].count()\n",
    "\n",
    "qrt = ['per_0_25' , 'per_25_50' , 'per_50_75' , 'per_75_100']\n",
    "pl = [per_0_25 , per_25_50 , per_50_75 , per_75_100]\n",
    "pl_count = [per_0_25_count , per_25_50_count , per_50_75_count , per_75_100_count]\n",
    "qrt_start = [val_min, val_25, val_50, val_75]\n",
    "qrt_stop = [val_25, val_50, val_75, val_max]\n",
    "\n",
    "temp_report = pd.DataFrame(data = {'qrt':qrt, 'qrt_start':qrt_start, 'qrt_stop':qrt_stop, 'count':pl_count, 'pl':pl})\n",
    "temp_report"
   ]
  },
  {
   "cell_type": "code",
   "execution_count": null,
   "metadata": {
    "scrolled": true
   },
   "outputs": [],
   "source": [
    "cols = ['DateTime_frmt', 'month_val', 'date_val', 'hour_val','open', 'high', 'low', 'close', 'candle_size', 'ask',\n",
    "       'bid', 'lema', 'lema_angle', 'lema_angle_2', 'lema_angle_0', 'slema',\n",
    "       'slema_angle', 'slema_angle_2', 'sema', 'sema_angle', 'sema_angle_2',\n",
    "       'BBand_upper', 'BBand_middle', 'BBand_lower', 'BBand_width',\n",
    "       'avg_BBand_width', 'adx', 'order_side', 'order_size', 'up', 'down', 'long_open', 'long_profit', 'long_loss', 'short_open',\n",
    "       'short_profit', 'short_loss', 'close_type', 'pl', 'close_diff', 'tip','lema_match',  'lema_max',  'lema_min',  'lema_gap', 'lema_diff']\n",
    "\n",
    "data['df_small'] = data['df_ohlc'][cols][data['df_ohlc'][['long_open', 'short_open', 'pl']].notnull().any(axis=1)].reset_index(drop=True)\n",
    "\n",
    "data['df_small']['pl_type'] = np.nan\n",
    "data['df_small'].iloc[0:50, 25:40]"
   ]
  },
  {
   "cell_type": "code",
   "execution_count": 8,
   "metadata": {},
   "outputs": [],
   "source": [
    "temp = data['df_ohlc'].loc[~data['df_ohlc']['pl'].isna()]"
   ]
  },
  {
   "cell_type": "code",
   "execution_count": 21,
   "metadata": {},
   "outputs": [
    {
     "data": {
      "text/html": [
       "<div>\n",
       "<style scoped>\n",
       "    .dataframe tbody tr th:only-of-type {\n",
       "        vertical-align: middle;\n",
       "    }\n",
       "\n",
       "    .dataframe tbody tr th {\n",
       "        vertical-align: top;\n",
       "    }\n",
       "\n",
       "    .dataframe thead th {\n",
       "        text-align: right;\n",
       "    }\n",
       "</style>\n",
       "<table border=\"1\" class=\"dataframe\">\n",
       "  <thead>\n",
       "    <tr style=\"text-align: right;\">\n",
       "      <th></th>\n",
       "      <th>pl</th>\n",
       "      <th>count</th>\n",
       "      <th>net_pl</th>\n",
       "    </tr>\n",
       "  </thead>\n",
       "  <tbody>\n",
       "    <tr>\n",
       "      <th>7</th>\n",
       "      <td>-0.0062</td>\n",
       "      <td>2</td>\n",
       "      <td>-0.0124</td>\n",
       "    </tr>\n",
       "    <tr>\n",
       "      <th>8</th>\n",
       "      <td>-0.0058</td>\n",
       "      <td>2</td>\n",
       "      <td>-0.0116</td>\n",
       "    </tr>\n",
       "    <tr>\n",
       "      <th>0</th>\n",
       "      <td>-0.0028</td>\n",
       "      <td>4</td>\n",
       "      <td>-0.0112</td>\n",
       "    </tr>\n",
       "    <tr>\n",
       "      <th>12</th>\n",
       "      <td>-0.0052</td>\n",
       "      <td>2</td>\n",
       "      <td>-0.0104</td>\n",
       "    </tr>\n",
       "    <tr>\n",
       "      <th>15</th>\n",
       "      <td>-0.0048</td>\n",
       "      <td>2</td>\n",
       "      <td>-0.0096</td>\n",
       "    </tr>\n",
       "  </tbody>\n",
       "</table>\n",
       "</div>"
      ],
      "text/plain": [
       "        pl  count  net_pl\n",
       "7  -0.0062      2 -0.0124\n",
       "8  -0.0058      2 -0.0116\n",
       "0  -0.0028      4 -0.0112\n",
       "12 -0.0052      2 -0.0104\n",
       "15 -0.0048      2 -0.0096"
      ]
     },
     "execution_count": 21,
     "metadata": {},
     "output_type": "execute_result"
    }
   ],
   "source": [
    "x = temp.loc[temp['pl'] < 0,'pl'].round(4).value_counts()\n",
    "l1 = x.index\n",
    "l2 = x.values\n",
    "df_neg = pd.DataFrame(data= {'pl':l1, 'count':l2})\n",
    "df_neg['net_pl'] = df_neg['pl'] * df_neg['count']                   \n",
    "df_neg = df_neg.sort_values(by = 'net_pl')                           \n",
    "df_neg.head()"
   ]
  },
  {
   "cell_type": "code",
   "execution_count": 23,
   "metadata": {},
   "outputs": [
    {
     "data": {
      "text/html": [
       "<div>\n",
       "<style scoped>\n",
       "    .dataframe tbody tr th:only-of-type {\n",
       "        vertical-align: middle;\n",
       "    }\n",
       "\n",
       "    .dataframe tbody tr th {\n",
       "        vertical-align: top;\n",
       "    }\n",
       "\n",
       "    .dataframe thead th {\n",
       "        text-align: right;\n",
       "    }\n",
       "</style>\n",
       "<table border=\"1\" class=\"dataframe\">\n",
       "  <thead>\n",
       "    <tr style=\"text-align: right;\">\n",
       "      <th></th>\n",
       "      <th>pl</th>\n",
       "      <th>count</th>\n",
       "      <th>net_pl</th>\n",
       "    </tr>\n",
       "  </thead>\n",
       "  <tbody>\n",
       "    <tr>\n",
       "      <th>0</th>\n",
       "      <td>0.0058</td>\n",
       "      <td>3</td>\n",
       "      <td>0.0174</td>\n",
       "    </tr>\n",
       "    <tr>\n",
       "      <th>25</th>\n",
       "      <td>0.0157</td>\n",
       "      <td>1</td>\n",
       "      <td>0.0157</td>\n",
       "    </tr>\n",
       "    <tr>\n",
       "      <th>24</th>\n",
       "      <td>0.0126</td>\n",
       "      <td>1</td>\n",
       "      <td>0.0126</td>\n",
       "    </tr>\n",
       "    <tr>\n",
       "      <th>20</th>\n",
       "      <td>0.0103</td>\n",
       "      <td>1</td>\n",
       "      <td>0.0103</td>\n",
       "    </tr>\n",
       "    <tr>\n",
       "      <th>17</th>\n",
       "      <td>0.0102</td>\n",
       "      <td>1</td>\n",
       "      <td>0.0102</td>\n",
       "    </tr>\n",
       "  </tbody>\n",
       "</table>\n",
       "</div>"
      ],
      "text/plain": [
       "        pl  count  net_pl\n",
       "0   0.0058      3  0.0174\n",
       "25  0.0157      1  0.0157\n",
       "24  0.0126      1  0.0126\n",
       "20  0.0103      1  0.0103\n",
       "17  0.0102      1  0.0102"
      ]
     },
     "execution_count": 23,
     "metadata": {},
     "output_type": "execute_result"
    }
   ],
   "source": [
    "x = temp.loc[temp['pl'] > 0,'pl'].round(4).value_counts()\n",
    "l1 = x.index\n",
    "l2 = x.values\n",
    "df_pos = pd.DataFrame(data= {'pl':l1, 'count':l2})\n",
    "df_pos['net_pl'] = df_neg['pl'] * df_neg['count']                   \n",
    "df_pos = df_pos.sort_values(by = 'net_pl', ascending = False)                           \n",
    "df_pos.head()"
   ]
  }
 ],
 "metadata": {
  "kernelspec": {
   "display_name": "Python 3",
   "language": "python",
   "name": "python3"
  },
  "language_info": {
   "codemirror_mode": {
    "name": "ipython",
    "version": 3
   },
   "file_extension": ".py",
   "mimetype": "text/x-python",
   "name": "python",
   "nbconvert_exporter": "python",
   "pygments_lexer": "ipython3",
   "version": "3.6.6"
  }
 },
 "nbformat": 4,
 "nbformat_minor": 4
}
