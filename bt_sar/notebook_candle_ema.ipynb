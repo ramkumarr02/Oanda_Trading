{
 "cells": [
  {
   "cell_type": "markdown",
   "metadata": {},
   "source": [
    "# ML Trader"
   ]
  },
  {
   "cell_type": "code",
   "execution_count": 1,
   "metadata": {
    "scrolled": true
   },
   "outputs": [],
   "source": [
    "from utils.packages import *\n",
    "from utils.variables import *\n",
    "from utils.i_o import *\n",
    "from utils.dir_slope import *\n",
    "from utils.engine import *\n",
    "from utils.loops import *\n",
    "from utils.order import *\n",
    "from utils.ml import *\n",
    "import winsound"
   ]
  },
  {
   "cell_type": "markdown",
   "metadata": {},
   "source": [
    "# Action Points\n",
    "\n",
    "## 1. No need to make 10 transactions a day. Just one is enough\n",
    "## 2. See the lema gap size on the losing months\n",
    "## 3. Can I use actual tick value (close) instead of lema for moves?"
   ]
  },
  {
   "cell_type": "markdown",
   "metadata": {},
   "source": [
    "data                = get_date_list(data)\n",
    "data                = read_data(data)"
   ]
  },
  {
   "cell_type": "code",
   "execution_count": 2,
   "metadata": {
    "scrolled": false
   },
   "outputs": [
    {
     "name": "stderr",
     "output_type": "stream",
     "text": [
      "100%|██████████████████████████████████| 74387/74387 [00:23<00:00, 3136.94it/s]\n"
     ]
    },
    {
     "name": "stdout",
     "output_type": "stream",
     "text": [
      "pl    0.08381\n",
      "dtype: float64\n",
      "--------------------------------------\n",
      "            DateTime_frmt  order_side  close_type       pl\n",
      "70027 2020-12-10 04:05:00         NaN  sema_close -0.00165\n",
      "70178 2020-12-10 16:40:00         NaN  sema_close -0.00152\n",
      "70405 2020-12-11 11:35:00         NaN  sema_close -0.00117\n",
      "70533 2020-12-13 22:15:00         NaN  sema_close -0.00265\n",
      "70841 2020-12-14 23:55:00         NaN  sema_close -0.00052\n",
      "70934 2020-12-15 07:40:00         NaN  sema_close -0.00118\n",
      "71751 2020-12-18 03:45:00         NaN  sema_close  0.00903\n",
      "72229 2020-12-21 19:35:00         NaN  sema_close -0.00118\n",
      "72442 2020-12-22 13:20:00         NaN  sema_close -0.00053\n",
      "72662 2020-12-23 07:40:00         NaN  sema_close -0.00246\n",
      "73033 2020-12-24 14:35:00         NaN  sema_close -0.00131\n",
      "73121 2020-12-24 21:55:00         NaN  sema_close -0.00045\n",
      "73173 2020-12-25 02:45:00         NaN  sema_close -0.00079\n",
      "73268 2020-12-28 00:45:00         NaN  sema_close -0.00010\n",
      "74250 2020-12-31 10:35:00         NaN  sema_close  0.00740\n"
     ]
    },
    {
     "name": "stderr",
     "output_type": "stream",
     "text": [
      "100%|██████████████████████████████████████| 380/380 [00:00<00:00, 1115.73it/s]"
     ]
    },
    {
     "name": "stdout",
     "output_type": "stream",
     "text": [
      "Wall time: 2min 6s\n"
     ]
    },
    {
     "name": "stderr",
     "output_type": "stream",
     "text": [
      "\n"
     ]
    }
   ],
   "source": [
    "%%time\n",
    "data = run_engine(data)"
   ]
  },
  {
   "cell_type": "code",
   "execution_count": 3,
   "metadata": {},
   "outputs": [
    {
     "name": "stdout",
     "output_type": "stream",
     "text": [
      "month_val\n",
      "1     0.00376\n",
      "2     0.01776\n",
      "3     0.02985\n",
      "4    -0.00228\n",
      "5     0.02848\n",
      "6     0.00002\n",
      "7    -0.00399\n",
      "8    -0.01319\n",
      "9     0.00694\n",
      "10   -0.00389\n",
      "11    0.00897\n",
      "12    0.01138\n",
      "Name: pl, dtype: float64\n",
      "---------------------\n",
      "max : 3 : 0.029849999999999998\n",
      "min : 8 : -0.01319\n",
      "---------------------\n",
      "monthly_avg : 0.007\n"
     ]
    }
   ],
   "source": [
    "x = data['df_ohlc'].groupby(['month_val'])['pl'].sum()\n",
    "print(x)\n",
    "print('---------------------')\n",
    "print(f'max : {x.idxmax()} : {max(x)}')\n",
    "print(f'min : {x.idxmin()} : {min(x)}')\n",
    "print('---------------------')\n",
    "monthly_avg = np.round(data['df_ohlc']['pl'].sum()/len(set(data['df_ohlc']['month_val'])),4)\n",
    "print(f'monthly_avg : {monthly_avg}')"
   ]
  },
  {
   "cell_type": "code",
   "execution_count": 4,
   "metadata": {},
   "outputs": [
    {
     "data": {
      "text/html": [
       "<div>\n",
       "<style scoped>\n",
       "    .dataframe tbody tr th:only-of-type {\n",
       "        vertical-align: middle;\n",
       "    }\n",
       "\n",
       "    .dataframe tbody tr th {\n",
       "        vertical-align: top;\n",
       "    }\n",
       "\n",
       "    .dataframe thead th {\n",
       "        text-align: right;\n",
       "    }\n",
       "</style>\n",
       "<table border=\"1\" class=\"dataframe\">\n",
       "  <thead>\n",
       "    <tr style=\"text-align: right;\">\n",
       "      <th></th>\n",
       "      <th>index</th>\n",
       "      <th>positive</th>\n",
       "      <th>negative</th>\n",
       "      <th>count_diff</th>\n",
       "      <th>positive_sum</th>\n",
       "      <th>negative_sum</th>\n",
       "      <th>sum_diff</th>\n",
       "    </tr>\n",
       "  </thead>\n",
       "  <tbody>\n",
       "    <tr>\n",
       "      <th>2</th>\n",
       "      <td>0.000</td>\n",
       "      <td>0.0</td>\n",
       "      <td>2.0</td>\n",
       "      <td>-2.0</td>\n",
       "      <td>0.00000</td>\n",
       "      <td>-0.00586</td>\n",
       "      <td>-0.00586</td>\n",
       "    </tr>\n",
       "    <tr>\n",
       "      <th>0</th>\n",
       "      <td>0.001</td>\n",
       "      <td>1.0</td>\n",
       "      <td>4.0</td>\n",
       "      <td>-3.0</td>\n",
       "      <td>0.00270</td>\n",
       "      <td>-0.00706</td>\n",
       "      <td>-0.00436</td>\n",
       "    </tr>\n",
       "    <tr>\n",
       "      <th>1</th>\n",
       "      <td>0.002</td>\n",
       "      <td>2.0</td>\n",
       "      <td>4.0</td>\n",
       "      <td>-2.0</td>\n",
       "      <td>0.00269</td>\n",
       "      <td>-0.00929</td>\n",
       "      <td>-0.00660</td>\n",
       "    </tr>\n",
       "    <tr>\n",
       "      <th>6</th>\n",
       "      <td>0.003</td>\n",
       "      <td>1.0</td>\n",
       "      <td>0.0</td>\n",
       "      <td>1.0</td>\n",
       "      <td>0.00283</td>\n",
       "      <td>0.00000</td>\n",
       "      <td>0.00283</td>\n",
       "    </tr>\n",
       "    <tr>\n",
       "      <th>3</th>\n",
       "      <td>0.004</td>\n",
       "      <td>1.0</td>\n",
       "      <td>1.0</td>\n",
       "      <td>0.0</td>\n",
       "      <td>0.00629</td>\n",
       "      <td>-0.00249</td>\n",
       "      <td>0.00380</td>\n",
       "    </tr>\n",
       "    <tr>\n",
       "      <th>5</th>\n",
       "      <td>0.005</td>\n",
       "      <td>1.0</td>\n",
       "      <td>0.0</td>\n",
       "      <td>1.0</td>\n",
       "      <td>0.00149</td>\n",
       "      <td>0.00000</td>\n",
       "      <td>0.00149</td>\n",
       "    </tr>\n",
       "    <tr>\n",
       "      <th>4</th>\n",
       "      <td>0.006</td>\n",
       "      <td>0.0</td>\n",
       "      <td>1.0</td>\n",
       "      <td>-1.0</td>\n",
       "      <td>0.00000</td>\n",
       "      <td>-0.00179</td>\n",
       "      <td>-0.00179</td>\n",
       "    </tr>\n",
       "  </tbody>\n",
       "</table>\n",
       "</div>"
      ],
      "text/plain": [
       "   index  positive  negative  count_diff  positive_sum  negative_sum  sum_diff\n",
       "2  0.000       0.0       2.0        -2.0       0.00000      -0.00586  -0.00586\n",
       "0  0.001       1.0       4.0        -3.0       0.00270      -0.00706  -0.00436\n",
       "1  0.002       2.0       4.0        -2.0       0.00269      -0.00929  -0.00660\n",
       "6  0.003       1.0       0.0         1.0       0.00283       0.00000   0.00283\n",
       "3  0.004       1.0       1.0         0.0       0.00629      -0.00249   0.00380\n",
       "5  0.005       1.0       0.0         1.0       0.00149       0.00000   0.00149\n",
       "4  0.006       0.0       1.0        -1.0       0.00000      -0.00179  -0.00179"
      ]
     },
     "execution_count": 4,
     "metadata": {},
     "output_type": "execute_result"
    }
   ],
   "source": [
    "data['lema_gap_pl_analysis_month'] = 8\n",
    "\n",
    "data = lema_gap_pl_analysis(data)\n",
    "data['lema_gap_pl_report']"
   ]
  },
  {
   "cell_type": "code",
   "execution_count": 5,
   "metadata": {},
   "outputs": [
    {
     "data": {
      "text/html": [
       "<div>\n",
       "<style scoped>\n",
       "    .dataframe tbody tr th:only-of-type {\n",
       "        vertical-align: middle;\n",
       "    }\n",
       "\n",
       "    .dataframe tbody tr th {\n",
       "        vertical-align: top;\n",
       "    }\n",
       "\n",
       "    .dataframe thead th {\n",
       "        text-align: right;\n",
       "    }\n",
       "</style>\n",
       "<table border=\"1\" class=\"dataframe\">\n",
       "  <thead>\n",
       "    <tr style=\"text-align: right;\">\n",
       "      <th></th>\n",
       "      <th>index</th>\n",
       "      <th>positive</th>\n",
       "      <th>negative</th>\n",
       "      <th>count_diff</th>\n",
       "      <th>positive_sum</th>\n",
       "      <th>negative_sum</th>\n",
       "      <th>sum_diff</th>\n",
       "    </tr>\n",
       "  </thead>\n",
       "  <tbody>\n",
       "    <tr>\n",
       "      <th>0</th>\n",
       "      <td>0.001</td>\n",
       "      <td>2.0</td>\n",
       "      <td>3.0</td>\n",
       "      <td>-1.0</td>\n",
       "      <td>0.00789</td>\n",
       "      <td>-0.00859</td>\n",
       "      <td>-0.00070</td>\n",
       "    </tr>\n",
       "    <tr>\n",
       "      <th>3</th>\n",
       "      <td>0.002</td>\n",
       "      <td>1.0</td>\n",
       "      <td>2.0</td>\n",
       "      <td>-1.0</td>\n",
       "      <td>0.01968</td>\n",
       "      <td>-0.00246</td>\n",
       "      <td>0.01722</td>\n",
       "    </tr>\n",
       "    <tr>\n",
       "      <th>1</th>\n",
       "      <td>0.003</td>\n",
       "      <td>0.0</td>\n",
       "      <td>3.0</td>\n",
       "      <td>-3.0</td>\n",
       "      <td>0.00000</td>\n",
       "      <td>-0.00724</td>\n",
       "      <td>-0.00724</td>\n",
       "    </tr>\n",
       "    <tr>\n",
       "      <th>7</th>\n",
       "      <td>0.004</td>\n",
       "      <td>1.0</td>\n",
       "      <td>0.0</td>\n",
       "      <td>1.0</td>\n",
       "      <td>0.00581</td>\n",
       "      <td>0.00000</td>\n",
       "      <td>0.00581</td>\n",
       "    </tr>\n",
       "    <tr>\n",
       "      <th>6</th>\n",
       "      <td>0.007</td>\n",
       "      <td>2.0</td>\n",
       "      <td>0.0</td>\n",
       "      <td>2.0</td>\n",
       "      <td>0.01588</td>\n",
       "      <td>0.00000</td>\n",
       "      <td>0.01588</td>\n",
       "    </tr>\n",
       "    <tr>\n",
       "      <th>2</th>\n",
       "      <td>0.010</td>\n",
       "      <td>0.0</td>\n",
       "      <td>2.0</td>\n",
       "      <td>-2.0</td>\n",
       "      <td>0.00000</td>\n",
       "      <td>-0.00286</td>\n",
       "      <td>-0.00286</td>\n",
       "    </tr>\n",
       "    <tr>\n",
       "      <th>4</th>\n",
       "      <td>0.011</td>\n",
       "      <td>1.0</td>\n",
       "      <td>1.0</td>\n",
       "      <td>0.0</td>\n",
       "      <td>0.00692</td>\n",
       "      <td>-0.00126</td>\n",
       "      <td>0.00566</td>\n",
       "    </tr>\n",
       "    <tr>\n",
       "      <th>5</th>\n",
       "      <td>0.012</td>\n",
       "      <td>0.0</td>\n",
       "      <td>1.0</td>\n",
       "      <td>-1.0</td>\n",
       "      <td>0.00000</td>\n",
       "      <td>-0.00392</td>\n",
       "      <td>-0.00392</td>\n",
       "    </tr>\n",
       "  </tbody>\n",
       "</table>\n",
       "</div>"
      ],
      "text/plain": [
       "   index  positive  negative  count_diff  positive_sum  negative_sum  sum_diff\n",
       "0  0.001       2.0       3.0        -1.0       0.00789      -0.00859  -0.00070\n",
       "3  0.002       1.0       2.0        -1.0       0.01968      -0.00246   0.01722\n",
       "1  0.003       0.0       3.0        -3.0       0.00000      -0.00724  -0.00724\n",
       "7  0.004       1.0       0.0         1.0       0.00581       0.00000   0.00581\n",
       "6  0.007       2.0       0.0         2.0       0.01588       0.00000   0.01588\n",
       "2  0.010       0.0       2.0        -2.0       0.00000      -0.00286  -0.00286\n",
       "4  0.011       1.0       1.0         0.0       0.00692      -0.00126   0.00566\n",
       "5  0.012       0.0       1.0        -1.0       0.00000      -0.00392  -0.00392"
      ]
     },
     "execution_count": 5,
     "metadata": {},
     "output_type": "execute_result"
    }
   ],
   "source": [
    "data['lema_gap_pl_analysis_month'] = 3\n",
    "\n",
    "data = lema_gap_pl_analysis(data)\n",
    "data['lema_gap_pl_report']"
   ]
  },
  {
   "cell_type": "code",
   "execution_count": 6,
   "metadata": {},
   "outputs": [],
   "source": [
    "y = data['df_ohlc']['pl'].sum()\n",
    "x = data['df_ohlc'].groupby(['month_val'])['pl'].sum()\n",
    "send_telegram_message(f'{data[\"input_year\"]}')\n",
    "send_telegram_message(f'{y}')\n",
    "send_telegram_message(f'{x}')\n",
    "send_telegram_message(f'-------------------')"
   ]
  },
  {
   "cell_type": "code",
   "execution_count": 7,
   "metadata": {},
   "outputs": [
    {
     "ename": "SystemExit",
     "evalue": "",
     "output_type": "error",
     "traceback": [
      "An exception has occurred, use %tb to see the full traceback.\n",
      "\u001b[1;31mSystemExit\u001b[0m\n"
     ]
    }
   ],
   "source": [
    "sys.exit()"
   ]
  },
  {
   "cell_type": "code",
   "execution_count": null,
   "metadata": {},
   "outputs": [],
   "source": [
    "y = data['df_ohlc'][data['df_ohlc']['month_val'] == 6]\n",
    "x = y.groupby(['date_val'])['pl'].sum()\n",
    "print(x)\n",
    "print('---------------------')\n",
    "print(f'max : {x.idxmax()} : {max(x)}')\n",
    "print(f'min : {x.idxmin()} : {min(x)}')\n",
    "print('---------------------')"
   ]
  },
  {
   "cell_type": "code",
   "execution_count": null,
   "metadata": {
    "scrolled": true
   },
   "outputs": [],
   "source": [
    "data['df_ohlc'].tail()"
   ]
  },
  {
   "cell_type": "code",
   "execution_count": null,
   "metadata": {
    "scrolled": true
   },
   "outputs": [],
   "source": [
    "data['df_ohlc']['lema_gap'].describe()"
   ]
  },
  {
   "cell_type": "code",
   "execution_count": null,
   "metadata": {
    "scrolled": true
   },
   "outputs": [],
   "source": [
    "x = 5\n",
    "data['df_ohlc'].iloc[-5:,x:x+15]"
   ]
  },
  {
   "cell_type": "code",
   "execution_count": null,
   "metadata": {},
   "outputs": [],
   "source": [
    "data['df_small']['lema_gap'].describe()"
   ]
  },
  {
   "cell_type": "code",
   "execution_count": null,
   "metadata": {},
   "outputs": [],
   "source": []
  },
  {
   "cell_type": "code",
   "execution_count": null,
   "metadata": {},
   "outputs": [],
   "source": [
    "abs(all['negative_sum']) / all['positive_sum']"
   ]
  },
  {
   "cell_type": "code",
   "execution_count": null,
   "metadata": {},
   "outputs": [],
   "source": [
    "df_small['order_side']"
   ]
  },
  {
   "cell_type": "code",
   "execution_count": null,
   "metadata": {},
   "outputs": [],
   "source": [
    "data['df_small'].to_csv('data/temp.csv')"
   ]
  },
  {
   "cell_type": "code",
   "execution_count": null,
   "metadata": {},
   "outputs": [],
   "source": []
  },
  {
   "cell_type": "code",
   "execution_count": 8,
   "metadata": {
    "scrolled": false
   },
   "outputs": [],
   "source": [
    "data[\"plot\"] = True\n",
    "data['plot_type'] = 'file'\n",
    "data['reduce_plot'] = True\n",
    "month = 2\n",
    "\n",
    "# Monthly Chart -------------------\n",
    "# data['plot_start']  = f\"{data['input_year']}-{month}-1\"\n",
    "# data['plot_stop']   = f\"{data['input_year']}-{month+1}-1\"\n",
    "# Monthly Chart -------------------\n",
    "\n",
    "# December Chart ----------------------------\n",
    "# data['plot_stop']   = f\"{data['input_year']+1}-1-1\"\n",
    "# December Chart ----------------------------\n",
    "\n",
    "# Year Chart ----------------------------\n",
    "data['plot_start']  = f\"{data['input_year']}-1-1\"\n",
    "data['plot_stop']   = f\"{data['input_year']+1}-1-1\"\n",
    "# Year Chart ----------------------------\n",
    "\n",
    "# data['things_to_plot'] = ['tick', 'ema', 'BBands', 'dots']\n",
    "# data['things_to_plot'] = ['ema', 'BBands', 'dots', 'indicators']\n",
    "# data['things_to_plot'] = ['ema', 'BBands', 'dots', 'cross']\n",
    "# data['things_to_plot'] = ['ema', 'BBands', 'dots', 'positions', 'tip']\n",
    "# data['things_to_plot'] = ['ema', 'BBands', 'dots', 'positions', 'lema_angle']\n",
    "# data['things_to_plot'] = ['ema', 'sema_angle', 'slema_angle', 'lema_angle', 'dir']\n",
    "# data['things_to_plot'] = ['ema', 'positions', 'lema_angle','slema_angle','sema_angle', 'rsi']\n",
    "# data['things_to_plot'] = ['ema','positions', 'lema_angle','lema_diff', 'lema_max_min']\n",
    "data['things_to_plot'] = ['sema', 'lema', 'lema_angle']\n",
    "\n",
    "plot_graph(data)"
   ]
  },
  {
   "cell_type": "markdown",
   "metadata": {
    "scrolled": true
   },
   "source": [
    "generate_result_report(data)"
   ]
  }
 ],
 "metadata": {
  "kernelspec": {
   "display_name": "Python 3",
   "language": "python",
   "name": "python3"
  },
  "language_info": {
   "codemirror_mode": {
    "name": "ipython",
    "version": 3
   },
   "file_extension": ".py",
   "mimetype": "text/x-python",
   "name": "python",
   "nbconvert_exporter": "python",
   "pygments_lexer": "ipython3",
   "version": "3.6.6"
  }
 },
 "nbformat": 4,
 "nbformat_minor": 4
}
