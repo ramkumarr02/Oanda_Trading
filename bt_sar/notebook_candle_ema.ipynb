{
 "cells": [
  {
   "cell_type": "markdown",
   "metadata": {},
   "source": [
    "# ML Trader"
   ]
  },
  {
   "cell_type": "code",
   "execution_count": 1,
   "metadata": {
    "scrolled": true
   },
   "outputs": [],
   "source": [
    "from utils.packages import *\n",
    "from utils.variables import *\n",
    "from utils.i_o import *\n",
    "from utils.dir_slope import *\n",
    "from utils.engine import *\n",
    "from utils.loops import *\n",
    "from utils.order import *\n",
    "from utils.ml import *\n",
    "import winsound"
   ]
  },
  {
   "cell_type": "markdown",
   "metadata": {},
   "source": [
    "### Action Points\n",
    "\n",
    "1. Create Choice between Take profit and sema move close.\n",
    "    - If Sema is above slema for long position, then can we cancel take profit step\n",
    "    - can we use sema angle to decide whether to close profit or not\n",
    "    - Fix Merge issue"
   ]
  },
  {
   "cell_type": "code",
   "execution_count": 2,
   "metadata": {},
   "outputs": [
    {
     "name": "stderr",
     "output_type": "stream",
     "text": [
      "100%|███████████████████████████████████████| 377/377 [00:00<00:00, 639.41it/s]"
     ]
    },
    {
     "name": "stdout",
     "output_type": "stream",
     "text": [
      "pl   -0.00189\n",
      "dtype: float64\n",
      "--------------------------------------\n",
      "          DateTime_frmt  order_side   close_type       pl\n",
      "44  2022-07-11 20:15:00         NaN  simple_stop  0.00151\n",
      "109 2022-07-12 01:40:00         NaN  simple_stop  0.00152\n",
      "149 2022-07-12 05:00:00         NaN  simple_stop  0.00015\n",
      "184 2022-07-12 07:55:00         NaN  simple_stop  0.00107\n",
      "187 2022-07-12 08:10:00         NaN  simple_stop -0.00037\n",
      "206 2022-07-12 09:45:00         NaN  simple_stop -0.00030\n",
      "221 2022-07-12 11:00:00         NaN  simple_stop -0.00172\n",
      "231 2022-07-12 11:50:00         NaN  simple_stop -0.00144\n",
      "235 2022-07-12 12:10:00         NaN  simple_stop -0.00092\n",
      "249 2022-07-12 13:20:00         NaN  simple_stop -0.00095\n",
      "282 2022-07-12 16:05:00         NaN  simple_stop  0.00109\n",
      "324 2022-07-12 19:35:00         NaN  simple_stop  0.00058\n",
      "327 2022-07-12 19:50:00         NaN  simple_stop -0.00048\n",
      "337 2022-07-12 20:40:00         NaN  simple_stop -0.00040\n",
      "364 2022-07-12 22:55:00         NaN  simple_stop -0.00064\n",
      "Wall time: 16.9 s\n"
     ]
    },
    {
     "name": "stderr",
     "output_type": "stream",
     "text": [
      "\n"
     ]
    }
   ],
   "source": [
    "%%time\n",
    "data = run_engine(data)"
   ]
  },
  {
   "cell_type": "code",
   "execution_count": 3,
   "metadata": {},
   "outputs": [
    {
     "ename": "SystemExit",
     "evalue": "",
     "output_type": "error",
     "traceback": [
      "An exception has occurred, use %tb to see the full traceback.\n",
      "\u001b[1;31mSystemExit\u001b[0m\n"
     ]
    }
   ],
   "source": [
    "sys.exit()"
   ]
  },
  {
   "cell_type": "code",
   "execution_count": null,
   "metadata": {},
   "outputs": [],
   "source": [
    "data['df_ohlc'][0:10]"
   ]
  },
  {
   "cell_type": "code",
   "execution_count": null,
   "metadata": {},
   "outputs": [],
   "source": [
    "data['df_ohlc'].iloc[-5:,0:]"
   ]
  },
  {
   "cell_type": "code",
   "execution_count": null,
   "metadata": {},
   "outputs": [],
   "source": [
    "data['df_ohlc'].to_csv('data/temp.csv')"
   ]
  },
  {
   "cell_type": "code",
   "execution_count": 4,
   "metadata": {},
   "outputs": [],
   "source": [
    "data[\"plot\"] = True\n",
    "data['plot_type'] = 'file'\n",
    "data['reduce_plot'] = True\n",
    "data['plot_start']  = '2022-07-11'\n",
    "data['plot_stop']   = '2022-07-13'\n",
    "# data['things_to_plot'] = ['tick', 'ema', 'BBands', 'dots']\n",
    "# data['things_to_plot'] = ['ema', 'BBands', 'dots', 'indicators']\n",
    "data['things_to_plot'] = ['ema', 'BBands', 'dots', 'positions']\n",
    "plot_graph(data)"
   ]
  },
  {
   "cell_type": "code",
   "execution_count": null,
   "metadata": {
    "scrolled": true
   },
   "outputs": [],
   "source": [
    "del data['df_ohlc']['up']\n",
    "del data['df_ohlc']['down']"
   ]
  },
  {
   "cell_type": "markdown",
   "metadata": {
    "scrolled": true
   },
   "source": [
    "generate_result_report(data)"
   ]
  }
 ],
 "metadata": {
  "kernelspec": {
   "display_name": "Python 3",
   "language": "python",
   "name": "python3"
  },
  "language_info": {
   "codemirror_mode": {
    "name": "ipython",
    "version": 3
   },
   "file_extension": ".py",
   "mimetype": "text/x-python",
   "name": "python",
   "nbconvert_exporter": "python",
   "pygments_lexer": "ipython3",
   "version": "3.6.6"
  }
 },
 "nbformat": 4,
 "nbformat_minor": 4
}
