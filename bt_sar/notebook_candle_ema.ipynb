{
 "cells": [
  {
   "cell_type": "markdown",
   "metadata": {},
   "source": [
    "# ML Trader"
   ]
  },
  {
   "cell_type": "code",
   "execution_count": 1,
   "metadata": {
    "scrolled": true
   },
   "outputs": [],
   "source": [
    "from utils.packages import *\n",
    "from utils.variables import *\n",
    "from utils.i_o import *\n",
    "from utils.dir_slope import *\n",
    "from utils.engine import *\n",
    "from utils.loops import *\n",
    "from utils.order import *\n",
    "from utils.ml import *\n",
    "import winsound"
   ]
  },
  {
   "cell_type": "markdown",
   "metadata": {},
   "source": [
    "# Action Points\n",
    "\n",
    "### 1. No need to make 10 transactions a day. Just one is enough\n",
    "### 2. Close diff (Movement of close value over a day) looks promising to find trend or ranging market"
   ]
  },
  {
   "cell_type": "markdown",
   "metadata": {},
   "source": [
    "data                = get_date_list(data)\n",
    "data                = read_data(data)"
   ]
  },
  {
   "cell_type": "code",
   "execution_count": 2,
   "metadata": {
    "scrolled": false
   },
   "outputs": [
    {
     "name": "stderr",
     "output_type": "stream",
     "text": [
      "100%|██████████████████████████████████| 74387/74387 [00:18<00:00, 3998.76it/s]\n"
     ]
    },
    {
     "name": "stdout",
     "output_type": "stream",
     "text": [
      "pl    0.12863\n",
      "dtype: float64\n",
      "--------------------------------------\n",
      "            DateTime_frmt  order_side  close_type       pl\n",
      "65420 2020-11-18 04:10:00         NaN  sema_close  0.00513\n",
      "65943 2020-11-19 23:45:00         NaN  sema_close -0.00328\n",
      "66181 2020-11-20 19:35:00         NaN  sema_close -0.00187\n",
      "66500 2020-11-23 22:10:00         NaN  sema_close -0.00595\n",
      "67302 2020-11-26 17:00:00         NaN  sema_close  0.00227\n",
      "67951 2020-11-30 23:05:00         NaN  sema_close -0.00077\n",
      "69106 2020-12-06 23:20:00         NaN  sema_close  0.00821\n",
      "69814 2020-12-09 10:20:00         NaN  sema_close -0.00110\n",
      "70472 2020-12-11 17:10:00         NaN  sema_close -0.00162\n",
      "71905 2020-12-18 16:35:00         NaN  sema_close  0.00657\n",
      "72281 2020-12-21 23:55:00         NaN  sema_close -0.00069\n",
      "72482 2020-12-22 16:40:00         NaN  sema_close -0.00781\n",
      "72758 2020-12-23 15:40:00         NaN  sema_close -0.00350\n",
      "73087 2020-12-24 19:05:00         NaN  sema_close -0.00286\n",
      "74305 2020-12-31 15:10:00         NaN  sema_close  0.00429\n"
     ]
    },
    {
     "name": "stderr",
     "output_type": "stream",
     "text": [
      "100%|██████████████████████████████████████| 223/223 [00:00<00:00, 1242.95it/s]"
     ]
    },
    {
     "name": "stdout",
     "output_type": "stream",
     "text": [
      "Wall time: 1min 45s\n"
     ]
    },
    {
     "name": "stderr",
     "output_type": "stream",
     "text": [
      "\n"
     ]
    }
   ],
   "source": [
    "%%time\n",
    "data = run_engine(data)"
   ]
  },
  {
   "cell_type": "code",
   "execution_count": 3,
   "metadata": {},
   "outputs": [
    {
     "name": "stdout",
     "output_type": "stream",
     "text": [
      "month_val\n",
      "1     0.00381\n",
      "2     0.01905\n",
      "3     0.07279\n",
      "4    -0.00276\n",
      "5     0.01922\n",
      "6     0.01887\n",
      "7     0.00787\n",
      "8    -0.01320\n",
      "9     0.01088\n",
      "10   -0.01633\n",
      "11    0.00694\n",
      "12    0.00149\n",
      "Name: pl, dtype: float64\n",
      "---------------------\n",
      "max : 3 : 0.07279\n",
      "min : 10 : -0.016329999999999997\n",
      "---------------------\n",
      "monthly_avg : 0.0107\n"
     ]
    }
   ],
   "source": [
    "x = data['df_ohlc'].groupby(['month_val'])['pl'].sum()\n",
    "print(x)\n",
    "print('---------------------')\n",
    "print(f'max : {x.idxmax()} : {max(x)}')\n",
    "print(f'min : {x.idxmin()} : {min(x)}')\n",
    "print('---------------------')\n",
    "monthly_avg = np.round(data['df_ohlc']['pl'].sum()/len(set(data['df_ohlc']['month_val'])),4)\n",
    "print(f'monthly_avg : {monthly_avg}')"
   ]
  },
  {
   "cell_type": "code",
   "execution_count": 4,
   "metadata": {},
   "outputs": [
    {
     "data": {
      "text/html": [
       "<div>\n",
       "<style scoped>\n",
       "    .dataframe tbody tr th:only-of-type {\n",
       "        vertical-align: middle;\n",
       "    }\n",
       "\n",
       "    .dataframe tbody tr th {\n",
       "        vertical-align: top;\n",
       "    }\n",
       "\n",
       "    .dataframe thead th {\n",
       "        text-align: right;\n",
       "    }\n",
       "</style>\n",
       "<table border=\"1\" class=\"dataframe\">\n",
       "  <thead>\n",
       "    <tr style=\"text-align: right;\">\n",
       "      <th></th>\n",
       "      <th>index</th>\n",
       "      <th>positive</th>\n",
       "      <th>negative</th>\n",
       "      <th>count_diff</th>\n",
       "      <th>positive_sum</th>\n",
       "      <th>negative_sum</th>\n",
       "      <th>sum_diff</th>\n",
       "    </tr>\n",
       "  </thead>\n",
       "  <tbody>\n",
       "    <tr>\n",
       "      <th>3</th>\n",
       "      <td>0.000</td>\n",
       "      <td>0.0</td>\n",
       "      <td>1.0</td>\n",
       "      <td>-1.0</td>\n",
       "      <td>0.00000</td>\n",
       "      <td>-0.00343</td>\n",
       "      <td>-0.00343</td>\n",
       "    </tr>\n",
       "    <tr>\n",
       "      <th>2</th>\n",
       "      <td>0.001</td>\n",
       "      <td>2.0</td>\n",
       "      <td>1.0</td>\n",
       "      <td>1.0</td>\n",
       "      <td>0.00551</td>\n",
       "      <td>-0.00441</td>\n",
       "      <td>0.00110</td>\n",
       "    </tr>\n",
       "    <tr>\n",
       "      <th>0</th>\n",
       "      <td>0.002</td>\n",
       "      <td>1.0</td>\n",
       "      <td>3.0</td>\n",
       "      <td>-2.0</td>\n",
       "      <td>0.00183</td>\n",
       "      <td>-0.00658</td>\n",
       "      <td>-0.00475</td>\n",
       "    </tr>\n",
       "    <tr>\n",
       "      <th>6</th>\n",
       "      <td>0.003</td>\n",
       "      <td>1.0</td>\n",
       "      <td>0.0</td>\n",
       "      <td>1.0</td>\n",
       "      <td>0.00279</td>\n",
       "      <td>0.00000</td>\n",
       "      <td>0.00279</td>\n",
       "    </tr>\n",
       "    <tr>\n",
       "      <th>1</th>\n",
       "      <td>0.004</td>\n",
       "      <td>0.0</td>\n",
       "      <td>1.0</td>\n",
       "      <td>-1.0</td>\n",
       "      <td>0.00000</td>\n",
       "      <td>-0.00538</td>\n",
       "      <td>-0.00538</td>\n",
       "    </tr>\n",
       "    <tr>\n",
       "      <th>5</th>\n",
       "      <td>0.005</td>\n",
       "      <td>1.0</td>\n",
       "      <td>0.0</td>\n",
       "      <td>1.0</td>\n",
       "      <td>0.00045</td>\n",
       "      <td>0.00000</td>\n",
       "      <td>0.00045</td>\n",
       "    </tr>\n",
       "    <tr>\n",
       "      <th>4</th>\n",
       "      <td>0.006</td>\n",
       "      <td>0.0</td>\n",
       "      <td>1.0</td>\n",
       "      <td>-1.0</td>\n",
       "      <td>0.00000</td>\n",
       "      <td>-0.00195</td>\n",
       "      <td>-0.00195</td>\n",
       "    </tr>\n",
       "  </tbody>\n",
       "</table>\n",
       "</div>"
      ],
      "text/plain": [
       "   index  positive  negative  count_diff  positive_sum  negative_sum  sum_diff\n",
       "3  0.000       0.0       1.0        -1.0       0.00000      -0.00343  -0.00343\n",
       "2  0.001       2.0       1.0         1.0       0.00551      -0.00441   0.00110\n",
       "0  0.002       1.0       3.0        -2.0       0.00183      -0.00658  -0.00475\n",
       "6  0.003       1.0       0.0         1.0       0.00279       0.00000   0.00279\n",
       "1  0.004       0.0       1.0        -1.0       0.00000      -0.00538  -0.00538\n",
       "5  0.005       1.0       0.0         1.0       0.00045       0.00000   0.00045\n",
       "4  0.006       0.0       1.0        -1.0       0.00000      -0.00195  -0.00195"
      ]
     },
     "execution_count": 4,
     "metadata": {},
     "output_type": "execute_result"
    }
   ],
   "source": [
    "data['lema_gap_pl_analysis_month'] = 8\n",
    "\n",
    "data = lema_gap_pl_analysis(data)\n",
    "data['lema_gap_pl_report']"
   ]
  },
  {
   "cell_type": "code",
   "execution_count": 5,
   "metadata": {},
   "outputs": [
    {
     "ename": "SystemExit",
     "evalue": "",
     "output_type": "error",
     "traceback": [
      "An exception has occurred, use %tb to see the full traceback.\n",
      "\u001b[1;31mSystemExit\u001b[0m\n"
     ]
    }
   ],
   "source": [
    "sys.exit()"
   ]
  },
  {
   "cell_type": "code",
   "execution_count": null,
   "metadata": {},
   "outputs": [],
   "source": [
    "print(data['df_small'].groupby(['weekday', 'pl_type'])['pl_type'].count().unstack())\n",
    "print('----------------------------------------------')\n",
    "print(data['df_small'].groupby(['weekday', 'pl_type'])['pl'].sum().unstack())"
   ]
  },
  {
   "cell_type": "code",
   "execution_count": null,
   "metadata": {},
   "outputs": [],
   "source": [
    "data['lema_gap_pl_analysis_month'] = 3\n",
    "\n",
    "data = lema_gap_pl_analysis(data)\n",
    "data['lema_gap_pl_report']"
   ]
  },
  {
   "cell_type": "code",
   "execution_count": null,
   "metadata": {},
   "outputs": [],
   "source": [
    "y = data['df_ohlc']['pl'].sum()\n",
    "x = data['df_ohlc'].groupby(['month_val'])['pl'].sum()\n",
    "send_telegram_message(f'{data[\"input_year\"]}')\n",
    "send_telegram_message(f'{y}')\n",
    "send_telegram_message(f'{x}')\n",
    "send_telegram_message(f'-------------------')"
   ]
  },
  {
   "cell_type": "code",
   "execution_count": null,
   "metadata": {},
   "outputs": [],
   "source": [
    "y = data['df_ohlc'][data['df_ohlc']['month_val'] == 6]\n",
    "x = y.groupby(['date_val'])['pl'].sum()\n",
    "print(x)\n",
    "print('---------------------')\n",
    "print(f'max : {x.idxmax()} : {max(x)}')\n",
    "print(f'min : {x.idxmin()} : {min(x)}')\n",
    "print('---------------------')"
   ]
  },
  {
   "cell_type": "code",
   "execution_count": null,
   "metadata": {
    "scrolled": true
   },
   "outputs": [],
   "source": [
    "data['df_ohlc'].tail()"
   ]
  },
  {
   "cell_type": "code",
   "execution_count": null,
   "metadata": {
    "scrolled": true
   },
   "outputs": [],
   "source": [
    "data['df_ohlc']['lema_gap'].describe()"
   ]
  },
  {
   "cell_type": "code",
   "execution_count": null,
   "metadata": {
    "scrolled": true
   },
   "outputs": [],
   "source": [
    "x = 5\n",
    "data['df_ohlc'].iloc[-5:,x:x+15]"
   ]
  },
  {
   "cell_type": "code",
   "execution_count": null,
   "metadata": {},
   "outputs": [],
   "source": [
    "data['df_small']['lema_gap'].describe()"
   ]
  },
  {
   "cell_type": "code",
   "execution_count": null,
   "metadata": {},
   "outputs": [],
   "source": []
  },
  {
   "cell_type": "code",
   "execution_count": null,
   "metadata": {},
   "outputs": [],
   "source": [
    "abs(all['negative_sum']) / all['positive_sum']"
   ]
  },
  {
   "cell_type": "code",
   "execution_count": null,
   "metadata": {},
   "outputs": [],
   "source": [
    "df_small['order_side']"
   ]
  },
  {
   "cell_type": "code",
   "execution_count": null,
   "metadata": {},
   "outputs": [],
   "source": [
    "data['df_small'].to_csv('data/temp.csv')"
   ]
  },
  {
   "cell_type": "code",
   "execution_count": 244,
   "metadata": {
    "scrolled": false
   },
   "outputs": [],
   "source": [
    "data[\"plot\"] = True\n",
    "data['plot_type'] = 'file'\n",
    "data['reduce_plot'] = True\n",
    "month = 8\n",
    "\n",
    "# Monthly Chart -------------------\n",
    "data['plot_start']  = f\"{data['input_year']}-{month}-1\"\n",
    "data['plot_stop']   = f\"{data['input_year']}-{month+1}-1\"\n",
    "# Monthly Chart -------------------\n",
    "\n",
    "# December Chart ----------------------------\n",
    "# data['plot_stop']   = f\"{data['input_year']+1}-1-1\"\n",
    "# December Chart ----------------------------\n",
    "\n",
    "# Year Chart ----------------------------\n",
    "# data['plot_start']  = f\"{data['input_year']}-1-1\"\n",
    "# data['plot_stop']   = f\"{data['input_year']+1}-1-1\"\n",
    "# Year Chart ----------------------------\n",
    "\n",
    "# data['things_to_plot'] = ['tick', 'ema', 'BBands', 'dots']\n",
    "# data['things_to_plot'] = ['ema', 'BBands', 'dots', 'indicators']\n",
    "# data['things_to_plot'] = ['ema', 'BBands', 'dots', 'cross']\n",
    "# data['things_to_plot'] = ['ema', 'BBands', 'dots', 'positions', 'tip']\n",
    "# data['things_to_plot'] = ['ema', 'BBands', 'dots', 'positions', 'lema_angle']\n",
    "# data['things_to_plot'] = ['ema', 'sema_angle', 'slema_angle', 'lema_angle', 'dir']\n",
    "# data['things_to_plot'] = ['ema', 'positions', 'lema_angle','slema_angle','sema_angle', 'rsi']\n",
    "# data['things_to_plot'] = ['ema','positions', 'lema_angle','lema_diff', 'lema_max_min']\n",
    "# data['things_to_plot'] = ['candles','sema', 'slema','positions','lema', 'lema_angle', 'lema_max_min', 'close_diff']\n",
    "# data['things_to_plot'] = ['lema', 'tip', 'candles', 'lema_angle', 'lema_change']\n",
    "data['things_to_plot'] = ['lema', 'candles', 'lema_angle', 'lema_change']\n",
    "\n",
    "plot_graph(data)"
   ]
  },
  {
   "cell_type": "markdown",
   "metadata": {
    "scrolled": true
   },
   "source": [
    "generate_result_report(data)"
   ]
  },
  {
   "cell_type": "code",
   "execution_count": null,
   "metadata": {},
   "outputs": [],
   "source": []
  },
  {
   "cell_type": "code",
   "execution_count": null,
   "metadata": {},
   "outputs": [],
   "source": []
  },
  {
   "cell_type": "code",
   "execution_count": null,
   "metadata": {},
   "outputs": [],
   "source": []
  },
  {
   "cell_type": "code",
   "execution_count": null,
   "metadata": {},
   "outputs": [],
   "source": []
  },
  {
   "cell_type": "code",
   "execution_count": null,
   "metadata": {},
   "outputs": [],
   "source": []
  },
  {
   "cell_type": "code",
   "execution_count": 242,
   "metadata": {
    "scrolled": true
   },
   "outputs": [
    {
     "name": "stderr",
     "output_type": "stream",
     "text": [
      "100%|████████████████████████████████| 74386/74386 [00:00<00:00, 765403.24it/s]\n"
     ]
    }
   ],
   "source": [
    "def get_lema_pick_points(data)\n",
    "    a = np.array(data['df_ohlc']['lema'].diff())\n",
    "\n",
    "    a1 = np.sign(a)\n",
    "\n",
    "    for i in tqdm(np.arange(1, len(a1))):\n",
    "        if a1[i] == 0:        \n",
    "            a1[i] = a1[i+1]\n",
    "\n",
    "        if a1[i] != a1[i-1]:\n",
    "            if a1[i+1] == a1[i-1]:\n",
    "                a1[i] = a1[i-1]\n",
    "\n",
    "    idx2 = []\n",
    "\n",
    "    for i in np.arange(len(a1)-1):\n",
    "        if i > 2:\n",
    "            if a1[i-1] == a1[i-2]:\n",
    "                if a1[i] == a1[i+1]:\n",
    "                    if a1[i] != a1[i-1]:\n",
    "                        idx2.append(i)\n",
    "\n",
    "    idx2 = (np.array(idx2))\n",
    "    return(data)"
   ]
  },
  {
   "cell_type": "code",
   "execution_count": 243,
   "metadata": {},
   "outputs": [],
   "source": [
    "data['df_ohlc']['lema_change'] = np.nan\n",
    "data['df_ohlc'].loc[idx2, 'lema_change'] = data['df_ohlc']['lema']"
   ]
  },
  {
   "cell_type": "code",
   "execution_count": 239,
   "metadata": {},
   "outputs": [
    {
     "data": {
      "text/html": [
       "<div>\n",
       "<style scoped>\n",
       "    .dataframe tbody tr th:only-of-type {\n",
       "        vertical-align: middle;\n",
       "    }\n",
       "\n",
       "    .dataframe tbody tr th {\n",
       "        vertical-align: top;\n",
       "    }\n",
       "\n",
       "    .dataframe thead th {\n",
       "        text-align: right;\n",
       "    }\n",
       "</style>\n",
       "<table border=\"1\" class=\"dataframe\">\n",
       "  <thead>\n",
       "    <tr style=\"text-align: right;\">\n",
       "      <th></th>\n",
       "      <th>DateTime_frmt</th>\n",
       "      <th>lema</th>\n",
       "    </tr>\n",
       "  </thead>\n",
       "  <tbody>\n",
       "    <tr>\n",
       "      <th>44230</th>\n",
       "      <td>2020-08-06 13:00:00</td>\n",
       "      <td>1.185984</td>\n",
       "    </tr>\n",
       "    <tr>\n",
       "      <th>44231</th>\n",
       "      <td>2020-08-06 13:05:00</td>\n",
       "      <td>1.185970</td>\n",
       "    </tr>\n",
       "    <tr>\n",
       "      <th>44232</th>\n",
       "      <td>2020-08-06 13:10:00</td>\n",
       "      <td>1.185956</td>\n",
       "    </tr>\n",
       "    <tr>\n",
       "      <th>44233</th>\n",
       "      <td>2020-08-06 13:15:00</td>\n",
       "      <td>1.185931</td>\n",
       "    </tr>\n",
       "    <tr>\n",
       "      <th>44234</th>\n",
       "      <td>2020-08-06 13:20:00</td>\n",
       "      <td>1.185913</td>\n",
       "    </tr>\n",
       "    <tr>\n",
       "      <th>44235</th>\n",
       "      <td>2020-08-06 13:25:00</td>\n",
       "      <td>1.185898</td>\n",
       "    </tr>\n",
       "    <tr>\n",
       "      <th>44236</th>\n",
       "      <td>2020-08-06 13:30:00</td>\n",
       "      <td>1.185883</td>\n",
       "    </tr>\n",
       "    <tr>\n",
       "      <th>44237</th>\n",
       "      <td>2020-08-06 13:35:00</td>\n",
       "      <td>1.185874</td>\n",
       "    </tr>\n",
       "    <tr>\n",
       "      <th>44238</th>\n",
       "      <td>2020-08-06 13:40:00</td>\n",
       "      <td>1.185869</td>\n",
       "    </tr>\n",
       "    <tr>\n",
       "      <th>44239</th>\n",
       "      <td>2020-08-06 13:45:00</td>\n",
       "      <td>1.185872</td>\n",
       "    </tr>\n",
       "    <tr>\n",
       "      <th>44240</th>\n",
       "      <td>2020-08-06 13:50:00</td>\n",
       "      <td>1.185872</td>\n",
       "    </tr>\n",
       "    <tr>\n",
       "      <th>44241</th>\n",
       "      <td>2020-08-06 13:55:00</td>\n",
       "      <td>1.185870</td>\n",
       "    </tr>\n",
       "  </tbody>\n",
       "</table>\n",
       "</div>"
      ],
      "text/plain": [
       "            DateTime_frmt      lema\n",
       "44230 2020-08-06 13:00:00  1.185984\n",
       "44231 2020-08-06 13:05:00  1.185970\n",
       "44232 2020-08-06 13:10:00  1.185956\n",
       "44233 2020-08-06 13:15:00  1.185931\n",
       "44234 2020-08-06 13:20:00  1.185913\n",
       "44235 2020-08-06 13:25:00  1.185898\n",
       "44236 2020-08-06 13:30:00  1.185883\n",
       "44237 2020-08-06 13:35:00  1.185874\n",
       "44238 2020-08-06 13:40:00  1.185869\n",
       "44239 2020-08-06 13:45:00  1.185872\n",
       "44240 2020-08-06 13:50:00  1.185872\n",
       "44241 2020-08-06 13:55:00  1.185870"
      ]
     },
     "execution_count": 239,
     "metadata": {},
     "output_type": "execute_result"
    }
   ],
   "source": [
    "data['df_ohlc'].loc[(data['df_ohlc']['month_val'] == 8)\n",
    "                & (data['df_ohlc']['date_val'] == 6)\n",
    "                & (data['df_ohlc']['hour_val'] == 13), ['DateTime_frmt', 'lema']]"
   ]
  },
  {
   "cell_type": "code",
   "execution_count": 240,
   "metadata": {},
   "outputs": [
    {
     "data": {
      "text/html": [
       "<div>\n",
       "<style scoped>\n",
       "    .dataframe tbody tr th:only-of-type {\n",
       "        vertical-align: middle;\n",
       "    }\n",
       "\n",
       "    .dataframe tbody tr th {\n",
       "        vertical-align: top;\n",
       "    }\n",
       "\n",
       "    .dataframe thead th {\n",
       "        text-align: right;\n",
       "    }\n",
       "</style>\n",
       "<table border=\"1\" class=\"dataframe\">\n",
       "  <thead>\n",
       "    <tr style=\"text-align: right;\">\n",
       "      <th></th>\n",
       "      <th>DateTime_frmt</th>\n",
       "      <th>lema</th>\n",
       "    </tr>\n",
       "  </thead>\n",
       "  <tbody>\n",
       "    <tr>\n",
       "      <th>44242</th>\n",
       "      <td>2020-08-06 14:00:00</td>\n",
       "      <td>1.185861</td>\n",
       "    </tr>\n",
       "    <tr>\n",
       "      <th>44243</th>\n",
       "      <td>2020-08-06 14:05:00</td>\n",
       "      <td>1.185834</td>\n",
       "    </tr>\n",
       "    <tr>\n",
       "      <th>44244</th>\n",
       "      <td>2020-08-06 14:10:00</td>\n",
       "      <td>1.185811</td>\n",
       "    </tr>\n",
       "    <tr>\n",
       "      <th>44245</th>\n",
       "      <td>2020-08-06 14:15:00</td>\n",
       "      <td>1.185786</td>\n",
       "    </tr>\n",
       "    <tr>\n",
       "      <th>44246</th>\n",
       "      <td>2020-08-06 14:20:00</td>\n",
       "      <td>1.185762</td>\n",
       "    </tr>\n",
       "    <tr>\n",
       "      <th>44247</th>\n",
       "      <td>2020-08-06 14:25:00</td>\n",
       "      <td>1.185730</td>\n",
       "    </tr>\n",
       "    <tr>\n",
       "      <th>44248</th>\n",
       "      <td>2020-08-06 14:30:00</td>\n",
       "      <td>1.185698</td>\n",
       "    </tr>\n",
       "    <tr>\n",
       "      <th>44249</th>\n",
       "      <td>2020-08-06 14:35:00</td>\n",
       "      <td>1.185669</td>\n",
       "    </tr>\n",
       "    <tr>\n",
       "      <th>44250</th>\n",
       "      <td>2020-08-06 14:40:00</td>\n",
       "      <td>1.185637</td>\n",
       "    </tr>\n",
       "    <tr>\n",
       "      <th>44251</th>\n",
       "      <td>2020-08-06 14:45:00</td>\n",
       "      <td>1.185607</td>\n",
       "    </tr>\n",
       "    <tr>\n",
       "      <th>44252</th>\n",
       "      <td>2020-08-06 14:50:00</td>\n",
       "      <td>1.185584</td>\n",
       "    </tr>\n",
       "    <tr>\n",
       "      <th>44253</th>\n",
       "      <td>2020-08-06 14:55:00</td>\n",
       "      <td>1.185572</td>\n",
       "    </tr>\n",
       "  </tbody>\n",
       "</table>\n",
       "</div>"
      ],
      "text/plain": [
       "            DateTime_frmt      lema\n",
       "44242 2020-08-06 14:00:00  1.185861\n",
       "44243 2020-08-06 14:05:00  1.185834\n",
       "44244 2020-08-06 14:10:00  1.185811\n",
       "44245 2020-08-06 14:15:00  1.185786\n",
       "44246 2020-08-06 14:20:00  1.185762\n",
       "44247 2020-08-06 14:25:00  1.185730\n",
       "44248 2020-08-06 14:30:00  1.185698\n",
       "44249 2020-08-06 14:35:00  1.185669\n",
       "44250 2020-08-06 14:40:00  1.185637\n",
       "44251 2020-08-06 14:45:00  1.185607\n",
       "44252 2020-08-06 14:50:00  1.185584\n",
       "44253 2020-08-06 14:55:00  1.185572"
      ]
     },
     "execution_count": 240,
     "metadata": {},
     "output_type": "execute_result"
    }
   ],
   "source": [
    "data['df_ohlc'].loc[(data['df_ohlc']['month_val'] == 8)\n",
    "                & (data['df_ohlc']['date_val'] == 6)\n",
    "                & (data['df_ohlc']['hour_val'] == 14), ['DateTime_frmt', 'lema']]"
   ]
  },
  {
   "cell_type": "code",
   "execution_count": 241,
   "metadata": {},
   "outputs": [
    {
     "data": {
      "text/plain": [
       "44227   -1.0\n",
       "44228   -1.0\n",
       "44229   -1.0\n",
       "44230   -1.0\n",
       "44231   -1.0\n",
       "44232   -1.0\n",
       "44233   -1.0\n",
       "44234   -1.0\n",
       "44235   -1.0\n",
       "44236   -1.0\n",
       "44237   -1.0\n",
       "44238   -1.0\n",
       "44239    1.0\n",
       "44240    1.0\n",
       "44241   -1.0\n",
       "44242   -1.0\n",
       "44243   -1.0\n",
       "44244   -1.0\n",
       "44245   -1.0\n",
       "44246   -1.0\n",
       "dtype: float64"
      ]
     },
     "execution_count": 241,
     "metadata": {},
     "output_type": "execute_result"
    }
   ],
   "source": [
    "x = 44237\n",
    "\n",
    "pd.Series(a1)[x-10:x+10]"
   ]
  },
  {
   "cell_type": "code",
   "execution_count": 144,
   "metadata": {},
   "outputs": [
    {
     "data": {
      "text/plain": [
       "1860"
      ]
     },
     "execution_count": 144,
     "metadata": {},
     "output_type": "execute_result"
    }
   ],
   "source": [
    "len(idx1)"
   ]
  },
  {
   "cell_type": "code",
   "execution_count": 157,
   "metadata": {},
   "outputs": [
    {
     "data": {
      "text/plain": [
       "array([41644, 41645, 42093, 42175, 42176, 42196, 42212, 42222, 42226,\n",
       "       42228, 42230, 42248, 42252, 42253, 42267, 42268, 42275, 42376,\n",
       "       42479, 42687, 42688, 42689, 42690, 42693, 42789, 43044, 43045,\n",
       "       43048, 43414, 43425, 43426, 43432, 43506, 43513, 43517, 43520,\n",
       "       43521, 43628, 44191, 44192, 44239, 44379, 44380, 44381, 44514,\n",
       "       44515, 44516, 44517, 44722, 44727], dtype=int64)"
      ]
     },
     "execution_count": 157,
     "metadata": {},
     "output_type": "execute_result"
    }
   ],
   "source": [
    "x = 1050\n",
    "idx1[x:x+50]"
   ]
  },
  {
   "cell_type": "code",
   "execution_count": 209,
   "metadata": {},
   "outputs": [
    {
     "data": {
      "text/plain": [
       "1513"
      ]
     },
     "execution_count": 209,
     "metadata": {},
     "output_type": "execute_result"
    }
   ],
   "source": [
    "len(idx2)"
   ]
  },
  {
   "cell_type": "code",
   "execution_count": 211,
   "metadata": {},
   "outputs": [
    {
     "name": "stdout",
     "output_type": "stream",
     "text": [
      "40996 -6.000000000172534e-06\n",
      "40999 2.0000000000575113e-06\n",
      "41007 -5.000000000032756e-06\n",
      "41012 1.9999999998354667e-06\n",
      "41014 -1.000000000139778e-06\n",
      "41016 8.000000000008e-06\n",
      "41334 -2.9999999999752447e-06\n",
      "41360 5.999999999950489e-06\n",
      "41535 -2.0000000000575113e-06\n",
      "41537 2.0000000000575113e-06\n",
      "41539 -9.999999999177334e-07\n",
      "41553 3.0000000001972893e-06\n",
      "41569 -2.9999999999752447e-06\n",
      "41571 5.000000000032756e-06\n",
      "41586 -9.999999999177334e-07\n",
      "41593 4.000000000115023e-06\n",
      "41600 -2.9999999999752447e-06\n",
      "41625 9.999999999177334e-07\n",
      "42093 -9.999999999177334e-07\n",
      "42187 5.000000000032756e-06\n",
      "42196 -1.000000000139778e-06\n",
      "42212 1.000000000139778e-06\n",
      "42215 -5.999999999950489e-06\n",
      "42222 2.0000000000575113e-06\n",
      "42226 -2.0000000000575113e-06\n",
      "42228 2.0000000000575113e-06\n",
      "42230 -4.000000000115023e-06\n",
      "42248 9.999999999177334e-07\n",
      "42275 -4.000000000115023e-06\n",
      "42376 9.999999999177334e-07\n",
      "42479 -2.0000000000575113e-06\n",
      "42500 6.999999999868223e-06\n",
      "42658 -5.000000000032756e-06\n",
      "42663 9.999999999177334e-07\n",
      "42693 -4.000000000115023e-06\n",
      "42789 1.700000000015578e-05\n",
      "43027 -4.000000000115023e-06\n",
      "43048 -3.999999999892978e-06\n",
      "43414 9.999999999177334e-07\n",
      "43500 -2.9999999999752447e-06\n",
      "43504 2.0000000000575113e-06\n",
      "43506 -3.999999999892978e-06\n",
      "43513 2.9999999999752447e-06\n",
      "43628 -9.999999999177334e-07\n",
      "43681 8.000000000008e-06\n",
      "44162 -2.9999999999752447e-06\n",
      "44239 2.9999999999752447e-06\n",
      "44241 -2.0000000000575113e-06\n",
      "44266 1.6000000000016e-05\n",
      "44677 9.999999999177334e-07\n"
     ]
    }
   ],
   "source": [
    "x = 850\n",
    "y = idx2[x:x+50]\n",
    "for val in y:\n",
    "    print(val, a[val])"
   ]
  }
 ],
 "metadata": {
  "kernelspec": {
   "display_name": "Python 3",
   "language": "python",
   "name": "python3"
  },
  "language_info": {
   "codemirror_mode": {
    "name": "ipython",
    "version": 3
   },
   "file_extension": ".py",
   "mimetype": "text/x-python",
   "name": "python",
   "nbconvert_exporter": "python",
   "pygments_lexer": "ipython3",
   "version": "3.6.6"
  }
 },
 "nbformat": 4,
 "nbformat_minor": 4
}
