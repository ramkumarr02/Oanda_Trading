{
 "cells": [
  {
   "cell_type": "markdown",
   "metadata": {},
   "source": [
    "# ML Trader"
   ]
  },
  {
   "cell_type": "code",
   "execution_count": 1,
   "metadata": {
    "scrolled": true
   },
   "outputs": [],
   "source": [
    "from utils.packages import *\n",
    "from utils.variables import *\n",
    "from utils.i_o import *\n",
    "from utils.dir_slope import *\n",
    "from utils.engine import *\n",
    "from utils.loops import *\n",
    "from utils.order import *\n",
    "from utils.ml import *\n",
    "import winsound"
   ]
  },
  {
   "cell_type": "markdown",
   "metadata": {},
   "source": [
    "# Action Points\n",
    "\n",
    "### 1. No need to make 10 transactions a day. Just one is enough\n",
    "### 2. Close diff (Movement of close value over a day) looks promising to find trend or ranging market"
   ]
  },
  {
   "cell_type": "markdown",
   "metadata": {},
   "source": [
    "data                = get_date_list(data)\n",
    "data                = read_data(data)"
   ]
  },
  {
   "cell_type": "code",
   "execution_count": 2,
   "metadata": {
    "scrolled": false
   },
   "outputs": [
    {
     "name": "stderr",
     "output_type": "stream",
     "text": [
      "100%|██████████████████████████████████| 74387/74387 [00:20<00:00, 3636.26it/s]\n"
     ]
    },
    {
     "name": "stdout",
     "output_type": "stream",
     "text": [
      "pl    0.08978\n",
      "dtype: float64\n",
      "--------------------------------------\n",
      "            DateTime_frmt  order_side  close_type       pl\n",
      "66348 2020-11-23 09:30:00         NaN  sema_close -0.00229\n",
      "67302 2020-11-26 17:00:00         NaN  sema_close  0.00304\n",
      "67475 2020-11-27 07:25:00         NaN  sema_close -0.00178\n",
      "67951 2020-11-30 23:05:00         NaN  sema_close  0.00081\n",
      "69106 2020-12-06 23:20:00         NaN  sema_close  0.01341\n",
      "69814 2020-12-09 10:20:00         NaN  sema_close -0.00243\n",
      "70472 2020-12-11 17:10:00         NaN  sema_close  0.00002\n",
      "70652 2020-12-14 08:10:00         NaN  sema_close -0.00365\n",
      "71905 2020-12-18 16:35:00         NaN  sema_close  0.00761\n",
      "72281 2020-12-21 23:55:00         NaN  sema_close -0.00076\n",
      "72482 2020-12-22 16:40:00         NaN  sema_close -0.00672\n",
      "72758 2020-12-23 15:40:00         NaN  sema_close -0.00354\n",
      "73087 2020-12-24 19:05:00         NaN  sema_close -0.00232\n",
      "73267 2020-12-28 00:40:00         NaN  sema_close -0.00048\n",
      "74305 2020-12-31 15:10:00         NaN  sema_close  0.00560\n"
     ]
    },
    {
     "name": "stderr",
     "output_type": "stream",
     "text": [
      "100%|███████████████████████████████████████| 197/197 [00:00<00:00, 886.89it/s]"
     ]
    },
    {
     "name": "stdout",
     "output_type": "stream",
     "text": [
      "Wall time: 2min 32s\n"
     ]
    },
    {
     "name": "stderr",
     "output_type": "stream",
     "text": [
      "\n"
     ]
    }
   ],
   "source": [
    "%%time\n",
    "data = run_engine(data)"
   ]
  },
  {
   "cell_type": "code",
   "execution_count": 3,
   "metadata": {},
   "outputs": [
    {
     "name": "stdout",
     "output_type": "stream",
     "text": [
      "month_val\n",
      "1     0.00447\n",
      "2     0.02299\n",
      "3     0.02899\n",
      "4    -0.00439\n",
      "5     0.02829\n",
      "6     0.02309\n",
      "7     0.01485\n",
      "8    -0.01419\n",
      "9    -0.00512\n",
      "10   -0.01673\n",
      "11    0.00079\n",
      "12    0.00674\n",
      "Name: pl, dtype: float64\n",
      "---------------------\n",
      "max : 3 : 0.028989999999999995\n",
      "min : 10 : -0.01673\n",
      "---------------------\n",
      "monthly_avg : 0.0075\n"
     ]
    }
   ],
   "source": [
    "x = data['df_ohlc'].groupby(['month_val'])['pl'].sum()\n",
    "print(x)\n",
    "print('---------------------')\n",
    "print(f'max : {x.idxmax()} : {max(x)}')\n",
    "print(f'min : {x.idxmin()} : {min(x)}')\n",
    "print('---------------------')\n",
    "monthly_avg = np.round(data['df_ohlc']['pl'].sum()/len(set(data['df_ohlc']['month_val'])),4)\n",
    "print(f'monthly_avg : {monthly_avg}')"
   ]
  },
  {
   "cell_type": "code",
   "execution_count": 4,
   "metadata": {},
   "outputs": [
    {
     "data": {
      "text/html": [
       "<div>\n",
       "<style scoped>\n",
       "    .dataframe tbody tr th:only-of-type {\n",
       "        vertical-align: middle;\n",
       "    }\n",
       "\n",
       "    .dataframe tbody tr th {\n",
       "        vertical-align: top;\n",
       "    }\n",
       "\n",
       "    .dataframe thead th {\n",
       "        text-align: right;\n",
       "    }\n",
       "</style>\n",
       "<table border=\"1\" class=\"dataframe\">\n",
       "  <thead>\n",
       "    <tr style=\"text-align: right;\">\n",
       "      <th></th>\n",
       "      <th>index</th>\n",
       "      <th>positive</th>\n",
       "      <th>negative</th>\n",
       "      <th>count_diff</th>\n",
       "      <th>positive_sum</th>\n",
       "      <th>negative_sum</th>\n",
       "      <th>sum_diff</th>\n",
       "    </tr>\n",
       "  </thead>\n",
       "  <tbody>\n",
       "    <tr>\n",
       "      <th>3</th>\n",
       "      <td>0.000</td>\n",
       "      <td>0.0</td>\n",
       "      <td>1.0</td>\n",
       "      <td>-1.0</td>\n",
       "      <td>0.00000</td>\n",
       "      <td>-0.00343</td>\n",
       "      <td>-0.00343</td>\n",
       "    </tr>\n",
       "    <tr>\n",
       "      <th>2</th>\n",
       "      <td>0.001</td>\n",
       "      <td>0.0</td>\n",
       "      <td>1.0</td>\n",
       "      <td>-1.0</td>\n",
       "      <td>0.00000</td>\n",
       "      <td>-0.00441</td>\n",
       "      <td>-0.00441</td>\n",
       "    </tr>\n",
       "    <tr>\n",
       "      <th>0</th>\n",
       "      <td>0.002</td>\n",
       "      <td>0.0</td>\n",
       "      <td>2.0</td>\n",
       "      <td>-2.0</td>\n",
       "      <td>0.00000</td>\n",
       "      <td>-0.00713</td>\n",
       "      <td>-0.00713</td>\n",
       "    </tr>\n",
       "    <tr>\n",
       "      <th>1</th>\n",
       "      <td>0.004</td>\n",
       "      <td>0.0</td>\n",
       "      <td>2.0</td>\n",
       "      <td>-2.0</td>\n",
       "      <td>0.00000</td>\n",
       "      <td>-0.01402</td>\n",
       "      <td>-0.01402</td>\n",
       "    </tr>\n",
       "    <tr>\n",
       "      <th>4</th>\n",
       "      <td>0.005</td>\n",
       "      <td>1.0</td>\n",
       "      <td>0.0</td>\n",
       "      <td>1.0</td>\n",
       "      <td>0.00045</td>\n",
       "      <td>0.00000</td>\n",
       "      <td>0.00045</td>\n",
       "    </tr>\n",
       "    <tr>\n",
       "      <th>5</th>\n",
       "      <td>0.006</td>\n",
       "      <td>1.0</td>\n",
       "      <td>0.0</td>\n",
       "      <td>1.0</td>\n",
       "      <td>0.00813</td>\n",
       "      <td>0.00000</td>\n",
       "      <td>0.00813</td>\n",
       "    </tr>\n",
       "  </tbody>\n",
       "</table>\n",
       "</div>"
      ],
      "text/plain": [
       "   index  positive  negative  count_diff  positive_sum  negative_sum  sum_diff\n",
       "3  0.000       0.0       1.0        -1.0       0.00000      -0.00343  -0.00343\n",
       "2  0.001       0.0       1.0        -1.0       0.00000      -0.00441  -0.00441\n",
       "0  0.002       0.0       2.0        -2.0       0.00000      -0.00713  -0.00713\n",
       "1  0.004       0.0       2.0        -2.0       0.00000      -0.01402  -0.01402\n",
       "4  0.005       1.0       0.0         1.0       0.00045       0.00000   0.00045\n",
       "5  0.006       1.0       0.0         1.0       0.00813       0.00000   0.00813"
      ]
     },
     "execution_count": 4,
     "metadata": {},
     "output_type": "execute_result"
    }
   ],
   "source": [
    "data['lema_gap_pl_analysis_month'] = 8\n",
    "\n",
    "data = lema_gap_pl_analysis(data)\n",
    "data['lema_gap_pl_report']"
   ]
  },
  {
   "cell_type": "code",
   "execution_count": 5,
   "metadata": {},
   "outputs": [
    {
     "ename": "SystemExit",
     "evalue": "",
     "output_type": "error",
     "traceback": [
      "An exception has occurred, use %tb to see the full traceback.\n",
      "\u001b[1;31mSystemExit\u001b[0m\n"
     ]
    }
   ],
   "source": [
    "sys.exit()"
   ]
  },
  {
   "cell_type": "code",
   "execution_count": null,
   "metadata": {},
   "outputs": [],
   "source": [
    "print(data['df_small'].groupby(['weekday', 'pl_type'])['pl_type'].count().unstack())\n",
    "print('----------------------------------------------')\n",
    "print(data['df_small'].groupby(['weekday', 'pl_type'])['pl'].sum().unstack())"
   ]
  },
  {
   "cell_type": "code",
   "execution_count": null,
   "metadata": {},
   "outputs": [],
   "source": [
    "data['lema_gap_pl_analysis_month'] = 3\n",
    "\n",
    "data = lema_gap_pl_analysis(data)\n",
    "data['lema_gap_pl_report']"
   ]
  },
  {
   "cell_type": "code",
   "execution_count": null,
   "metadata": {},
   "outputs": [],
   "source": [
    "y = data['df_ohlc']['pl'].sum()\n",
    "x = data['df_ohlc'].groupby(['month_val'])['pl'].sum()\n",
    "send_telegram_message(f'{data[\"input_year\"]}')\n",
    "send_telegram_message(f'{y}')\n",
    "send_telegram_message(f'{x}')\n",
    "send_telegram_message(f'-------------------')"
   ]
  },
  {
   "cell_type": "code",
   "execution_count": null,
   "metadata": {},
   "outputs": [],
   "source": [
    "y = data['df_ohlc'][data['df_ohlc']['month_val'] == 6]\n",
    "x = y.groupby(['date_val'])['pl'].sum()\n",
    "print(x)\n",
    "print('---------------------')\n",
    "print(f'max : {x.idxmax()} : {max(x)}')\n",
    "print(f'min : {x.idxmin()} : {min(x)}')\n",
    "print('---------------------')"
   ]
  },
  {
   "cell_type": "code",
   "execution_count": null,
   "metadata": {
    "scrolled": true
   },
   "outputs": [],
   "source": [
    "data['df_ohlc'].tail()"
   ]
  },
  {
   "cell_type": "code",
   "execution_count": null,
   "metadata": {
    "scrolled": true
   },
   "outputs": [],
   "source": [
    "data['df_ohlc']['lema_gap'].describe()"
   ]
  },
  {
   "cell_type": "code",
   "execution_count": null,
   "metadata": {
    "scrolled": true
   },
   "outputs": [],
   "source": [
    "x = 5\n",
    "data['df_ohlc'].iloc[-5:,x:x+15]"
   ]
  },
  {
   "cell_type": "code",
   "execution_count": null,
   "metadata": {},
   "outputs": [],
   "source": [
    "data['df_small']['lema_gap'].describe()"
   ]
  },
  {
   "cell_type": "code",
   "execution_count": null,
   "metadata": {},
   "outputs": [],
   "source": []
  },
  {
   "cell_type": "code",
   "execution_count": null,
   "metadata": {},
   "outputs": [],
   "source": [
    "abs(all['negative_sum']) / all['positive_sum']"
   ]
  },
  {
   "cell_type": "code",
   "execution_count": null,
   "metadata": {},
   "outputs": [],
   "source": [
    "df_small['order_side']"
   ]
  },
  {
   "cell_type": "code",
   "execution_count": null,
   "metadata": {},
   "outputs": [],
   "source": [
    "data['df_small'].to_csv('data/temp.csv')"
   ]
  },
  {
   "cell_type": "code",
   "execution_count": 8,
   "metadata": {
    "scrolled": false
   },
   "outputs": [],
   "source": [
    "data[\"plot\"] = True\n",
    "data['plot_type'] = 'file'\n",
    "data['reduce_plot'] = True\n",
    "month = 10\n",
    "\n",
    "# Monthly Chart -------------------\n",
    "data['plot_start']  = f\"{data['input_year']}-{month}-1\"\n",
    "data['plot_stop']   = f\"{data['input_year']}-{month+1}-1\"\n",
    "# Monthly Chart -------------------\n",
    "\n",
    "# December Chart ----------------------------\n",
    "# data['plot_stop']   = f\"{data['input_year']+1}-1-1\"\n",
    "# December Chart ----------------------------\n",
    "\n",
    "# Year Chart ----------------------------\n",
    "# data['plot_start']  = f\"{data['input_year']}-1-1\"\n",
    "# data['plot_stop']   = f\"{data['input_year']+1}-1-1\"\n",
    "# Year Chart ----------------------------\n",
    "\n",
    "# data['things_to_plot'] = ['tick', 'ema', 'BBands', 'dots']\n",
    "# data['things_to_plot'] = ['ema', 'BBands', 'dots', 'indicators']\n",
    "# data['things_to_plot'] = ['ema', 'BBands', 'dots', 'cross']\n",
    "# data['things_to_plot'] = ['ema', 'BBands', 'dots', 'positions', 'tip']\n",
    "# data['things_to_plot'] = ['ema', 'BBands', 'dots', 'positions', 'lema_angle']\n",
    "# data['things_to_plot'] = ['ema', 'sema_angle', 'slema_angle', 'lema_angle', 'dir']\n",
    "# data['things_to_plot'] = ['ema', 'positions', 'lema_angle','slema_angle','sema_angle', 'rsi']\n",
    "# data['things_to_plot'] = ['ema','positions', 'lema_angle','lema_diff', 'lema_max_min']\n",
    "# data['things_to_plot'] = ['candles','sema', 'slema','positions','lema', 'lema_angle', 'lema_max_min', 'close_diff']\n",
    "# data['things_to_plot'] = ['lema', 'tip', 'candles', 'lema_angle', 'lema_change']\n",
    "data['things_to_plot'] = ['candles','sema', 'slema','lema', 'lema_match', 'positions']\n",
    "\n",
    "plot_graph(data)"
   ]
  },
  {
   "cell_type": "markdown",
   "metadata": {
    "scrolled": true
   },
   "source": [
    "generate_result_report(data)"
   ]
  },
  {
   "cell_type": "code",
   "execution_count": null,
   "metadata": {},
   "outputs": [],
   "source": [
    "if np.isnan(data['lema_match']):\n",
    "    print('yes')\n",
    "else:\n",
    "    print('no')"
   ]
  },
  {
   "cell_type": "code",
   "execution_count": null,
   "metadata": {},
   "outputs": [],
   "source": [
    "data['df_ohlc']['lema_match'] = np.nan\n",
    "\n",
    "set2 = set(data['df_ohlc']['lema_change'][data['df_ohlc']['lema_change'].notnull()].index)\n",
    "\n",
    "for i in tqdm(np.arange(data['look_back_window_size'], len(data['df_ohlc']))):\n",
    "    set1 = set(np.arange(i-data['look_back_window_size'],i))\n",
    "    lema_tips = list(set1 & set2)\n",
    "\n",
    "    if len(lema_tips) > 0:\n",
    "        last_lema_tip = lema_tips[-1]\n",
    "        idx = np.arange(i-data['look_back_window_size'], last_lema_tip+1)\n",
    "        lema_list = data['df_ohlc']['lema'].loc[idx].round(4)\n",
    "\n",
    "        if data['df_ohlc']['lema'][i].round(4) in set(lema_list):        \n",
    "            data['df_ohlc']['lema_match'][i] = data['df_ohlc']['lema'][i]"
   ]
  }
 ],
 "metadata": {
  "kernelspec": {
   "display_name": "Python 3",
   "language": "python",
   "name": "python3"
  },
  "language_info": {
   "codemirror_mode": {
    "name": "ipython",
    "version": 3
   },
   "file_extension": ".py",
   "mimetype": "text/x-python",
   "name": "python",
   "nbconvert_exporter": "python",
   "pygments_lexer": "ipython3",
   "version": "3.6.6"
  }
 },
 "nbformat": 4,
 "nbformat_minor": 4
}
