{
 "cells": [
  {
   "cell_type": "markdown",
   "metadata": {},
   "source": [
    "# ML Trader"
   ]
  },
  {
   "cell_type": "code",
   "execution_count": 1,
   "metadata": {
    "scrolled": true
   },
   "outputs": [],
   "source": [
    "from utils.packages import *\n",
    "from utils.variables import *\n",
    "from utils.i_o import *\n",
    "from utils.dir_slope import *\n",
    "from utils.engine import *\n",
    "from utils.loops import *\n",
    "from utils.order import *\n",
    "from utils.ml import *\n",
    "import winsound"
   ]
  },
  {
   "cell_type": "markdown",
   "metadata": {},
   "source": [
    "# Action Points\n",
    "\n",
    "## 1. No need to make 10 transactions a day. Just one is enough\n",
    "## 2. See the lema gap size on the losing months\n",
    "## 3. Can I use actual tick value (close) instead of lema for moves?"
   ]
  },
  {
   "cell_type": "code",
   "execution_count": 2,
   "metadata": {
    "scrolled": false
   },
   "outputs": [
    {
     "name": "stdout",
     "output_type": "stream",
     "text": [
      "pl   -0.03047\n",
      "dtype: float64\n",
      "--------------------------------------\n",
      "            DateTime_frmt  order_side  close_type       pl\n",
      "69674 2020-12-08 06:10:00         NaN  sema_close -0.00084\n",
      "70220 2020-12-10 03:40:00         NaN  sema_close -0.00326\n",
      "70942 2020-12-14 15:50:00         NaN  sema_close -0.00248\n",
      "71000 2020-12-14 20:40:00         NaN  sema_close -0.00156\n",
      "71016 2020-12-14 22:00:00         NaN  sema_close -0.00025\n",
      "71534 2020-12-16 17:10:00         NaN  sema_close -0.00394\n",
      "71576 2020-12-16 20:40:00         NaN  sema_close -0.00330\n",
      "71943 2020-12-18 03:15:00         NaN  sema_close  0.00638\n",
      "72365 2020-12-21 14:25:00         NaN  sema_close -0.00300\n",
      "72538 2020-12-22 04:50:00         NaN  sema_close -0.00118\n",
      "73597 2020-12-28 11:40:00         NaN  sema_close -0.00118\n",
      "73669 2020-12-28 17:40:00         NaN  sema_close -0.00070\n",
      "73736 2020-12-28 23:15:00         NaN  sema_close -0.00103\n",
      "73965 2020-12-29 18:20:00         NaN  sema_close  0.00239\n",
      "74137 2020-12-30 08:40:00         NaN  sema_close  0.00056\n"
     ]
    },
    {
     "name": "stderr",
     "output_type": "stream",
     "text": [
      "100%|██████████████████████████████████| 74321/74321 [00:20<00:00, 3555.65it/s]\n"
     ]
    },
    {
     "name": "stdout",
     "output_type": "stream",
     "text": [
      "Wall time: 6min 31s\n"
     ]
    }
   ],
   "source": [
    "%%time\n",
    "data = run_engine(data)"
   ]
  },
  {
   "cell_type": "code",
   "execution_count": 3,
   "metadata": {},
   "outputs": [],
   "source": [
    "y = data['df_ohlc']['pl'].sum()\n",
    "x = data['df_ohlc'].groupby(['month_val'])['pl'].sum()\n",
    "send_telegram_message(f'{y}')\n",
    "send_telegram_message(f'{x}')"
   ]
  },
  {
   "cell_type": "code",
   "execution_count": 4,
   "metadata": {},
   "outputs": [
    {
     "ename": "SystemExit",
     "evalue": "",
     "output_type": "error",
     "traceback": [
      "An exception has occurred, use %tb to see the full traceback.\n",
      "\u001b[1;31mSystemExit\u001b[0m\n"
     ]
    }
   ],
   "source": [
    "sys.exit()"
   ]
  },
  {
   "cell_type": "code",
   "execution_count": 5,
   "metadata": {},
   "outputs": [
    {
     "name": "stdout",
     "output_type": "stream",
     "text": [
      "month_val\n",
      "1    -0.00457\n",
      "2     0.00636\n",
      "3    -0.02463\n",
      "4    -0.02525\n",
      "5     0.01837\n",
      "6    -0.00511\n",
      "7     0.01360\n",
      "8     0.00397\n",
      "9     0.00854\n",
      "10    0.01660\n",
      "11   -0.02232\n",
      "12   -0.01603\n",
      "Name: pl, dtype: float64\n",
      "---------------------\n",
      "max : 5 : 0.018370000000000008\n",
      "min : 4 : -0.02525\n",
      "---------------------\n"
     ]
    }
   ],
   "source": [
    "x = data['df_ohlc'].groupby(['month_val'])['pl'].sum()\n",
    "print(x)\n",
    "print('---------------------')\n",
    "print(f'max : {x.idxmax()} : {max(x)}')\n",
    "print(f'min : {x.idxmin()} : {min(x)}')\n",
    "print('---------------------')"
   ]
  },
  {
   "cell_type": "code",
   "execution_count": null,
   "metadata": {},
   "outputs": [],
   "source": [
    "y = data['df_ohlc'][data['df_ohlc']['month_val'] == 6]\n",
    "x = y.groupby(['date_val'])['pl'].sum()\n",
    "print(x)\n",
    "print('---------------------')\n",
    "print(f'max : {x.idxmax()} : {max(x)}')\n",
    "print(f'min : {x.idxmin()} : {min(x)}')\n",
    "print('---------------------')"
   ]
  },
  {
   "cell_type": "code",
   "execution_count": null,
   "metadata": {
    "scrolled": true
   },
   "outputs": [],
   "source": [
    "data['df_ohlc'].tail()"
   ]
  },
  {
   "cell_type": "code",
   "execution_count": null,
   "metadata": {
    "scrolled": true
   },
   "outputs": [],
   "source": [
    "data['df_ohlc']['lema_gap'].describe()"
   ]
  },
  {
   "cell_type": "code",
   "execution_count": null,
   "metadata": {
    "scrolled": true
   },
   "outputs": [],
   "source": [
    "x = 5\n",
    "data['df_ohlc'].iloc[-5:,x:x+15]"
   ]
  },
  {
   "cell_type": "code",
   "execution_count": null,
   "metadata": {},
   "outputs": [],
   "source": [
    "data['df_ohlc'].to_csv('data/temp.csv')"
   ]
  },
  {
   "cell_type": "code",
   "execution_count": 6,
   "metadata": {
    "scrolled": false
   },
   "outputs": [],
   "source": [
    "data[\"plot\"] = True\n",
    "data['plot_type'] = 'file'\n",
    "data['reduce_plot'] = True\n",
    "data['plot_start']  = '2020-4-1'\n",
    "data['plot_stop']   = '2020-5-1'\n",
    "# data['things_to_plot'] = ['tick', 'ema', 'BBands', 'dots']\n",
    "# data['things_to_plot'] = ['ema', 'BBands', 'dots', 'indicators']\n",
    "# data['things_to_plot'] = ['ema', 'BBands', 'dots', 'cross']\n",
    "# data['things_to_plot'] = ['ema', 'BBands', 'dots', 'positions', 'tip']\n",
    "# data['things_to_plot'] = ['ema', 'BBands', 'dots', 'positions', 'lema_angle']\n",
    "# data['things_to_plot'] = ['ema', 'sema_angle', 'slema_angle', 'lema_angle', 'dir']\n",
    "# data['things_to_plot'] = ['ema', 'positions', 'lema_angle','slema_angle','sema_angle', 'rsi']\n",
    "data['things_to_plot'] = ['ema','positions', 'lema_angle','lema_diff', 'lema_max_min']\n",
    "\n",
    "plot_graph(data)"
   ]
  },
  {
   "cell_type": "code",
   "execution_count": null,
   "metadata": {},
   "outputs": [],
   "source": [
    "data['df_ohlc']['lema_angle']"
   ]
  },
  {
   "cell_type": "code",
   "execution_count": null,
   "metadata": {},
   "outputs": [],
   "source": [
    "x = 252\n",
    "data['df_ohlc']['lema_angle'][x-3:x+3]"
   ]
  },
  {
   "cell_type": "markdown",
   "metadata": {
    "scrolled": true
   },
   "source": [
    "generate_result_report(data)"
   ]
  }
 ],
 "metadata": {
  "kernelspec": {
   "display_name": "Python 3",
   "language": "python",
   "name": "python3"
  },
  "language_info": {
   "codemirror_mode": {
    "name": "ipython",
    "version": 3
   },
   "file_extension": ".py",
   "mimetype": "text/x-python",
   "name": "python",
   "nbconvert_exporter": "python",
   "pygments_lexer": "ipython3",
   "version": "3.6.6"
  }
 },
 "nbformat": 4,
 "nbformat_minor": 4
}
