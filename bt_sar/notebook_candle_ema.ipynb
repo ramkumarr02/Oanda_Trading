{
 "cells": [
  {
   "cell_type": "markdown",
   "metadata": {},
   "source": [
    "# ML Trader"
   ]
  },
  {
   "cell_type": "code",
   "execution_count": 1,
   "metadata": {
    "scrolled": true
   },
   "outputs": [],
   "source": [
    "from utils.packages import *\n",
    "from utils.variables import *\n",
    "from utils.i_o import *\n",
    "from utils.dir_slope import *\n",
    "from utils.engine import *\n",
    "from utils.loops import *\n",
    "from utils.order import *\n",
    "from utils.ml import *\n",
    "import winsound"
   ]
  },
  {
   "attachments": {},
   "cell_type": "markdown",
   "metadata": {},
   "source": [
    "# Notes\n",
    "---\n",
    "## 2022_09_02\n",
    "\n",
    "### Observations\n",
    "\n",
    "1. No need to make 10 transactions a day. Just one is enough\n",
    "\n",
    "1. lema or sema match\n",
    "    1. Using lema match works fine in both opening \n",
    "    1. Using lema has better results\n",
    "    1. 144 produces better resuls over higher numbers like 1440 \n",
    "\n",
    "1. Lema angle in order and close\n",
    "    1. Using lema angle in order, delays order, but overall profits are high\n",
    "    1. Using lema angle in close also increases overall profit\n",
    "\n",
    "1. Before everything need to find why 2021 is consistently producing negative results in all the setups.\n",
    "    1. What is that this causing this issue, how can it be addressed with in the same system\n",
    "    1. less complex method is essential\n",
    "    \n",
    "\n",
    "### To Test\n",
    "1. Find whether the opening or closing that is causing the most issue in loss years\n",
    "1. Test other years to understand how well this setup works.\n",
    "1. Remove lema match check from closing. This is delaying bad trasactions\n",
    "1. Test 5 round up on lema match. Transactions are opening in lema match gaps\n",
    "1. Ideation\n",
    "    1. Test lema Bollinger bands to understand flow direction\n",
    "    1. Test overall flow direction\n",
    "\n",
    "---\n",
    "\n",
    "## 2022_09_02\n",
    "\n",
    "### Observations\n",
    "1. Opening and closing need to happen faster. Cant close after ema match\n",
    "1. Lema angle helps save positions against frequent flips but delays closing and causes losses\n",
    "1. Market is non-directional (Dec 2021 is a good example) Goes up and down, when algo tries to open and close its always too late\n",
    "1. Need a faster method\n",
    "\n",
    "\n",
    "### To Test\n",
    "1. Should test plotting close as a line instead of candles. Perform match in close with wider window\n",
    "1. Close chart needs to be analysed. This looks promising.\n",
    "\n",
    "---\n",
    "\n",
    "## Result by Years\n",
    "\n",
    "| Year | Angle open | Angle close | Lema match open | Lema match close | Result type | pips  |\n",
    "| ---- | ---------- | ----------- | --------------- | ---------------- | ----------- | ----- |\n",
    "| 2022 | Yes        | No          | Yes             | Yes              | Profit      | 200   |\n",
    "| 2021 | Yes        | No          | Yes             | Yes              | Loss        | \\-800 |\n",
    "| 2020 | Yes        | No          | Yes             | Yes              | Profit      | 800   |\n",
    "| 2019 | Yes        | No          | Yes             | Yes              | Loss        | \\-400 |\n",
    "| 2018 | Yes        | No          | Yes             | Yes              | Profit      | 300   |\n",
    "| 2017 | Yes        | No          | Yes             | Yes              | Profit      | 14    |    "
   ]
  },
  {
   "cell_type": "markdown",
   "metadata": {},
   "source": [
    "data                = get_date_list(data)\n",
    "data                = read_data(data)"
   ]
  },
  {
   "cell_type": "code",
   "execution_count": 2,
   "metadata": {
    "scrolled": false
   },
   "outputs": [
    {
     "name": "stdout",
     "output_type": "stream",
     "text": [
      "pl   -0.01262\n",
      "dtype: float64\n",
      "--------------------------------------\n",
      "            DateTime_frmt  order_side  close_type       pl\n",
      "70626 2021-12-15 06:35:00         NaN  sema_close -0.00127\n",
      "70792 2021-12-15 20:25:00         NaN  sema_close -0.00269\n",
      "71257 2021-12-17 11:10:00         NaN  sema_close  0.00283\n",
      "71518 2021-12-20 08:55:00         NaN  sema_close  0.00025\n",
      "71879 2021-12-21 15:00:00         NaN  sema_close -0.00227\n",
      "72070 2021-12-22 06:55:00         NaN  sema_close -0.00152\n",
      "72114 2021-12-22 10:35:00         NaN  sema_close -0.00289\n",
      "72380 2021-12-23 08:45:00         NaN  sema_close  0.00059\n",
      "72718 2021-12-24 12:55:00         NaN  sema_close -0.00136\n",
      "72944 2021-12-27 07:50:00         NaN  sema_close -0.00233\n",
      "73029 2021-12-27 14:55:00         NaN  sema_close -0.00201\n",
      "73310 2021-12-28 14:20:00         NaN  sema_close -0.00154\n",
      "73589 2021-12-29 13:35:00         NaN  sema_close -0.00084\n",
      "73774 2021-12-30 05:00:00         NaN  sema_close -0.00083\n",
      "74115 2021-12-31 09:25:00         NaN  sema_close -0.00087\n"
     ]
    },
    {
     "name": "stderr",
     "output_type": "stream",
     "text": [
      "100%|██████████████████████████████████| 74266/74266 [00:24<00:00, 3069.30it/s]\n",
      "100%|██████████████████████████████████████| 532/532 [00:00<00:00, 1137.29it/s]"
     ]
    },
    {
     "name": "stdout",
     "output_type": "stream",
     "text": [
      "Wall time: 1min 53s\n"
     ]
    },
    {
     "name": "stderr",
     "output_type": "stream",
     "text": [
      "\n"
     ]
    }
   ],
   "source": [
    "%%time\n",
    "data = run_engine(data)"
   ]
  },
  {
   "cell_type": "code",
   "execution_count": 3,
   "metadata": {},
   "outputs": [
    {
     "name": "stdout",
     "output_type": "stream",
     "text": [
      "month_val\n",
      "1     0.00498\n",
      "2     0.00618\n",
      "3     0.02688\n",
      "4    -0.01564\n",
      "5     0.01472\n",
      "6     0.01113\n",
      "7    -0.01155\n",
      "8     0.00096\n",
      "9    -0.01571\n",
      "10   -0.00803\n",
      "11    0.01578\n",
      "12   -0.04232\n",
      "Name: pl, dtype: float64\n",
      "---------------------\n",
      "month_val\n",
      "12   -0.04232\n",
      "9    -0.01571\n",
      "4    -0.01564\n",
      "7    -0.01155\n",
      "10   -0.00803\n",
      "8     0.00096\n",
      "1     0.00498\n",
      "2     0.00618\n",
      "6     0.01113\n",
      "5     0.01472\n",
      "11    0.01578\n",
      "3     0.02688\n",
      "Name: pl, dtype: float64\n",
      "---------------------\n",
      "max : 3 : 0.026879999999999994\n",
      "min : 12 : -0.04232\n",
      "---------------------\n",
      "monthly_avg : -0.0011\n"
     ]
    }
   ],
   "source": [
    "x = data['df_ohlc'].groupby(['month_val'])['pl'].sum()\n",
    "print(x)\n",
    "print('---------------------')\n",
    "print(x.sort_values())\n",
    "print('---------------------')\n",
    "print(f'max : {x.idxmax()} : {max(x)}')\n",
    "print(f'min : {x.idxmin()} : {min(x)}')\n",
    "print('---------------------')\n",
    "monthly_avg = np.round(data['df_ohlc']['pl'].sum()/len(set(data['df_ohlc']['month_val'])),4)\n",
    "print(f'monthly_avg : {monthly_avg}')"
   ]
  },
  {
   "cell_type": "code",
   "execution_count": 4,
   "metadata": {},
   "outputs": [
    {
     "data": {
      "text/html": [
       "<div>\n",
       "<style scoped>\n",
       "    .dataframe tbody tr th:only-of-type {\n",
       "        vertical-align: middle;\n",
       "    }\n",
       "\n",
       "    .dataframe tbody tr th {\n",
       "        vertical-align: top;\n",
       "    }\n",
       "\n",
       "    .dataframe thead th {\n",
       "        text-align: right;\n",
       "    }\n",
       "</style>\n",
       "<table border=\"1\" class=\"dataframe\">\n",
       "  <thead>\n",
       "    <tr style=\"text-align: right;\">\n",
       "      <th></th>\n",
       "      <th>index</th>\n",
       "      <th>positive</th>\n",
       "      <th>negative</th>\n",
       "      <th>count_diff</th>\n",
       "      <th>positive_sum</th>\n",
       "      <th>negative_sum</th>\n",
       "      <th>sum_diff</th>\n",
       "    </tr>\n",
       "  </thead>\n",
       "  <tbody>\n",
       "    <tr>\n",
       "      <th>5</th>\n",
       "      <td>0.000</td>\n",
       "      <td>1.0</td>\n",
       "      <td>0.0</td>\n",
       "      <td>1.0</td>\n",
       "      <td>0.00408</td>\n",
       "      <td>0.00000</td>\n",
       "      <td>0.00408</td>\n",
       "    </tr>\n",
       "    <tr>\n",
       "      <th>0</th>\n",
       "      <td>0.001</td>\n",
       "      <td>3.0</td>\n",
       "      <td>9.0</td>\n",
       "      <td>-6.0</td>\n",
       "      <td>0.00829</td>\n",
       "      <td>-0.01292</td>\n",
       "      <td>-0.00463</td>\n",
       "    </tr>\n",
       "    <tr>\n",
       "      <th>1</th>\n",
       "      <td>0.002</td>\n",
       "      <td>1.0</td>\n",
       "      <td>6.0</td>\n",
       "      <td>-5.0</td>\n",
       "      <td>0.00638</td>\n",
       "      <td>-0.00597</td>\n",
       "      <td>0.00041</td>\n",
       "    </tr>\n",
       "    <tr>\n",
       "      <th>3</th>\n",
       "      <td>0.003</td>\n",
       "      <td>1.0</td>\n",
       "      <td>1.0</td>\n",
       "      <td>0.0</td>\n",
       "      <td>0.00325</td>\n",
       "      <td>-0.00092</td>\n",
       "      <td>0.00233</td>\n",
       "    </tr>\n",
       "    <tr>\n",
       "      <th>2</th>\n",
       "      <td>0.004</td>\n",
       "      <td>0.0</td>\n",
       "      <td>1.0</td>\n",
       "      <td>-1.0</td>\n",
       "      <td>0.00000</td>\n",
       "      <td>-0.00014</td>\n",
       "      <td>-0.00014</td>\n",
       "    </tr>\n",
       "    <tr>\n",
       "      <th>4</th>\n",
       "      <td>0.005</td>\n",
       "      <td>1.0</td>\n",
       "      <td>0.0</td>\n",
       "      <td>1.0</td>\n",
       "      <td>0.00248</td>\n",
       "      <td>0.00000</td>\n",
       "      <td>0.00248</td>\n",
       "    </tr>\n",
       "  </tbody>\n",
       "</table>\n",
       "</div>"
      ],
      "text/plain": [
       "   index  positive  negative  count_diff  positive_sum  negative_sum  sum_diff\n",
       "5  0.000       1.0       0.0         1.0       0.00408       0.00000   0.00408\n",
       "0  0.001       3.0       9.0        -6.0       0.00829      -0.01292  -0.00463\n",
       "1  0.002       1.0       6.0        -5.0       0.00638      -0.00597   0.00041\n",
       "3  0.003       1.0       1.0         0.0       0.00325      -0.00092   0.00233\n",
       "2  0.004       0.0       1.0        -1.0       0.00000      -0.00014  -0.00014\n",
       "4  0.005       1.0       0.0         1.0       0.00248       0.00000   0.00248"
      ]
     },
     "execution_count": 4,
     "metadata": {},
     "output_type": "execute_result"
    }
   ],
   "source": [
    "data['lema_gap_pl_analysis_month'] = 8\n",
    "\n",
    "data = lema_gap_pl_analysis(data)\n",
    "data['lema_gap_pl_report']"
   ]
  },
  {
   "cell_type": "code",
   "execution_count": 5,
   "metadata": {},
   "outputs": [
    {
     "ename": "SystemExit",
     "evalue": "",
     "output_type": "error",
     "traceback": [
      "An exception has occurred, use %tb to see the full traceback.\n",
      "\u001b[1;31mSystemExit\u001b[0m\n"
     ]
    }
   ],
   "source": [
    "sys.exit()"
   ]
  },
  {
   "cell_type": "code",
   "execution_count": null,
   "metadata": {},
   "outputs": [],
   "source": [
    "print(data['df_small'].groupby(['weekday', 'pl_type'])['pl_type'].count().unstack())\n",
    "print('----------------------------------------------')\n",
    "print(data['df_small'].groupby(['weekday', 'pl_type'])['pl'].sum().unstack())"
   ]
  },
  {
   "cell_type": "code",
   "execution_count": null,
   "metadata": {},
   "outputs": [],
   "source": [
    "data['lema_gap_pl_analysis_month'] = 3\n",
    "\n",
    "data = lema_gap_pl_analysis(data)\n",
    "data['lema_gap_pl_report']"
   ]
  },
  {
   "cell_type": "code",
   "execution_count": null,
   "metadata": {},
   "outputs": [],
   "source": [
    "y = data['df_ohlc']['pl'].sum()\n",
    "x = data['df_ohlc'].groupby(['month_val'])['pl'].sum()\n",
    "send_telegram_message(f'{data[\"input_year\"]}')\n",
    "send_telegram_message(f'{y}')\n",
    "send_telegram_message(f'{x}')\n",
    "send_telegram_message(f'-------------------')"
   ]
  },
  {
   "cell_type": "code",
   "execution_count": null,
   "metadata": {},
   "outputs": [],
   "source": [
    "y = data['df_ohlc'][data['df_ohlc']['month_val'] == 6]\n",
    "x = y.groupby(['date_val'])['pl'].sum()\n",
    "print(x)\n",
    "print('---------------------')\n",
    "print(f'max : {x.idxmax()} : {max(x)}')\n",
    "print(f'min : {x.idxmin()} : {min(x)}')\n",
    "print('---------------------')"
   ]
  },
  {
   "cell_type": "code",
   "execution_count": null,
   "metadata": {
    "scrolled": true
   },
   "outputs": [],
   "source": [
    "data['df_ohlc'].tail()"
   ]
  },
  {
   "cell_type": "code",
   "execution_count": null,
   "metadata": {
    "scrolled": true
   },
   "outputs": [],
   "source": [
    "data['df_ohlc']['lema_gap'].describe()"
   ]
  },
  {
   "cell_type": "code",
   "execution_count": null,
   "metadata": {
    "scrolled": true
   },
   "outputs": [],
   "source": [
    "x = 5\n",
    "data['df_ohlc'].iloc[-5:,x:x+15]"
   ]
  },
  {
   "cell_type": "code",
   "execution_count": null,
   "metadata": {},
   "outputs": [],
   "source": [
    "data['df_small']['lema_gap'].describe()"
   ]
  },
  {
   "cell_type": "code",
   "execution_count": null,
   "metadata": {},
   "outputs": [],
   "source": [
    "a = np.arange(0,20)\n",
    "for b in a:\n",
    "    x = int(round(b/5.0)*5.0)\n",
    "    print(b, x)"
   ]
  },
  {
   "cell_type": "code",
   "execution_count": null,
   "metadata": {},
   "outputs": [],
   "source": [
    "abs(all['negative_sum']) / all['positive_sum']"
   ]
  },
  {
   "cell_type": "code",
   "execution_count": null,
   "metadata": {},
   "outputs": [],
   "source": [
    "df_small['order_side']"
   ]
  },
  {
   "cell_type": "code",
   "execution_count": null,
   "metadata": {},
   "outputs": [],
   "source": [
    "data['df_small'].to_csv('data/temp.csv')"
   ]
  },
  {
   "cell_type": "code",
   "execution_count": 6,
   "metadata": {
    "scrolled": false
   },
   "outputs": [],
   "source": [
    "data[\"plot\"] = True\n",
    "data['plot_type'] = 'file'\n",
    "data['reduce_plot'] = True\n",
    "month = 12\n",
    "\n",
    "# Monthly Chart -------------------\n",
    "data['plot_start']  = f\"{data['input_year']}-{month}-1\"\n",
    "\n",
    "if month == 12:\n",
    "    data['plot_stop']   = f\"{data['input_year']+1}-1-1\"\n",
    "else:\n",
    "    data['plot_stop']   = f\"{data['input_year']}-{month+1}-1\"\n",
    "\n",
    "# Year Chart ----------------------------\n",
    "# data['plot_start']  = f\"{data['input_year']}-1-1\"\n",
    "# data['plot_stop']   = f\"{data['input_year']+1}-1-1\"\n",
    "# Year Chart ----------------------------\n",
    "\n",
    "# data['things_to_plot'] = ['tick', 'ema', 'BBands', 'dots']\n",
    "# data['things_to_plot'] = ['ema', 'BBands', 'dots', 'indicators']\n",
    "# data['things_to_plot'] = ['ema', 'BBands', 'dots', 'cross']\n",
    "# data['things_to_plot'] = ['ema', 'BBands', 'dots', 'positions', 'tip']\n",
    "# data['things_to_plot'] = ['ema', 'BBands', 'dots', 'positions', 'lema_angle']\n",
    "# data['things_to_plot'] = ['ema', 'sema_angle', 'slema_angle', 'lema_angle', 'dir']\n",
    "# data['things_to_plot'] = ['ema', 'positions', 'lema_angle','slema_angle','sema_angle', 'rsi']\n",
    "# data['things_to_plot'] = ['ema','positions', 'lema_angle','lema_diff', 'lema_max_min']\n",
    "# data['things_to_plot'] = ['candles','sema', 'slema','positions','lema', 'lema_angle', 'lema_max_min', 'close_diff']\n",
    "# data['things_to_plot'] = ['lema', 'tip', 'candles', 'lema_angle', 'lema_change']\n",
    "data['things_to_plot'] = ['candles','sema', 'close','lema', 'lema_match', 'positions', 'lema_change']\n",
    "\n",
    "plot_graph(data)"
   ]
  },
  {
   "cell_type": "code",
   "execution_count": null,
   "metadata": {},
   "outputs": [],
   "source": [
    "data['df_ohlc']['lema_angle']"
   ]
  },
  {
   "cell_type": "code",
   "execution_count": null,
   "metadata": {},
   "outputs": [],
   "source": [
    "x = 0\n",
    "np.sign(data['df_ohlc']['lema_angle'].diff())[x:x+50]"
   ]
  },
  {
   "cell_type": "markdown",
   "metadata": {
    "scrolled": true
   },
   "source": [
    "generate_result_report(data)"
   ]
  }
 ],
 "metadata": {
  "kernelspec": {
   "display_name": "Python 3",
   "language": "python",
   "name": "python3"
  },
  "language_info": {
   "codemirror_mode": {
    "name": "ipython",
    "version": 3
   },
   "file_extension": ".py",
   "mimetype": "text/x-python",
   "name": "python",
   "nbconvert_exporter": "python",
   "pygments_lexer": "ipython3",
   "version": "3.6.6"
  }
 },
 "nbformat": 4,
 "nbformat_minor": 4
}
