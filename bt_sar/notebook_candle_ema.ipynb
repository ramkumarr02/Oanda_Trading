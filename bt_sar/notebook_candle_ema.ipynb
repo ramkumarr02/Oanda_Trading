{
 "cells": [
  {
   "cell_type": "markdown",
   "metadata": {},
   "source": [
    "# ML Trader"
   ]
  },
  {
   "cell_type": "code",
   "execution_count": 1,
   "metadata": {
    "scrolled": true
   },
   "outputs": [],
   "source": [
    "from utils.packages import *\n",
    "from utils.variables import *\n",
    "from utils.i_o import *\n",
    "from utils.dir_slope import *\n",
    "from utils.engine import *\n",
    "from utils.loops import *\n",
    "from utils.order import *\n",
    "from utils.ml import *\n",
    "import winsound"
   ]
  },
  {
   "cell_type": "markdown",
   "metadata": {},
   "source": [
    "# Action Points\n",
    "\n",
    "### 1. No need to make 10 transactions a day. Just one is enough\n",
    "### 2. Close diff (Movement of close value over a day) looks promising to find trend or ranging market"
   ]
  },
  {
   "cell_type": "markdown",
   "metadata": {},
   "source": [
    "data                = get_date_list(data)\n",
    "data                = read_data(data)"
   ]
  },
  {
   "cell_type": "code",
   "execution_count": 2,
   "metadata": {
    "scrolled": false
   },
   "outputs": [
    {
     "name": "stderr",
     "output_type": "stream",
     "text": [
      "100%|██████████████████████████████████| 74387/74387 [00:18<00:00, 3998.76it/s]\n"
     ]
    },
    {
     "name": "stdout",
     "output_type": "stream",
     "text": [
      "pl    0.12863\n",
      "dtype: float64\n",
      "--------------------------------------\n",
      "            DateTime_frmt  order_side  close_type       pl\n",
      "65420 2020-11-18 04:10:00         NaN  sema_close  0.00513\n",
      "65943 2020-11-19 23:45:00         NaN  sema_close -0.00328\n",
      "66181 2020-11-20 19:35:00         NaN  sema_close -0.00187\n",
      "66500 2020-11-23 22:10:00         NaN  sema_close -0.00595\n",
      "67302 2020-11-26 17:00:00         NaN  sema_close  0.00227\n",
      "67951 2020-11-30 23:05:00         NaN  sema_close -0.00077\n",
      "69106 2020-12-06 23:20:00         NaN  sema_close  0.00821\n",
      "69814 2020-12-09 10:20:00         NaN  sema_close -0.00110\n",
      "70472 2020-12-11 17:10:00         NaN  sema_close -0.00162\n",
      "71905 2020-12-18 16:35:00         NaN  sema_close  0.00657\n",
      "72281 2020-12-21 23:55:00         NaN  sema_close -0.00069\n",
      "72482 2020-12-22 16:40:00         NaN  sema_close -0.00781\n",
      "72758 2020-12-23 15:40:00         NaN  sema_close -0.00350\n",
      "73087 2020-12-24 19:05:00         NaN  sema_close -0.00286\n",
      "74305 2020-12-31 15:10:00         NaN  sema_close  0.00429\n"
     ]
    },
    {
     "name": "stderr",
     "output_type": "stream",
     "text": [
      "100%|██████████████████████████████████████| 223/223 [00:00<00:00, 1242.95it/s]"
     ]
    },
    {
     "name": "stdout",
     "output_type": "stream",
     "text": [
      "Wall time: 1min 45s\n"
     ]
    },
    {
     "name": "stderr",
     "output_type": "stream",
     "text": [
      "\n"
     ]
    }
   ],
   "source": [
    "%%time\n",
    "data = run_engine(data)"
   ]
  },
  {
   "cell_type": "code",
   "execution_count": 3,
   "metadata": {},
   "outputs": [
    {
     "name": "stdout",
     "output_type": "stream",
     "text": [
      "month_val\n",
      "1     0.00381\n",
      "2     0.01905\n",
      "3     0.07279\n",
      "4    -0.00276\n",
      "5     0.01922\n",
      "6     0.01887\n",
      "7     0.00787\n",
      "8    -0.01320\n",
      "9     0.01088\n",
      "10   -0.01633\n",
      "11    0.00694\n",
      "12    0.00149\n",
      "Name: pl, dtype: float64\n",
      "---------------------\n",
      "max : 3 : 0.07279\n",
      "min : 10 : -0.016329999999999997\n",
      "---------------------\n",
      "monthly_avg : 0.0107\n"
     ]
    }
   ],
   "source": [
    "x = data['df_ohlc'].groupby(['month_val'])['pl'].sum()\n",
    "print(x)\n",
    "print('---------------------')\n",
    "print(f'max : {x.idxmax()} : {max(x)}')\n",
    "print(f'min : {x.idxmin()} : {min(x)}')\n",
    "print('---------------------')\n",
    "monthly_avg = np.round(data['df_ohlc']['pl'].sum()/len(set(data['df_ohlc']['month_val'])),4)\n",
    "print(f'monthly_avg : {monthly_avg}')"
   ]
  },
  {
   "cell_type": "code",
   "execution_count": 4,
   "metadata": {},
   "outputs": [
    {
     "data": {
      "text/html": [
       "<div>\n",
       "<style scoped>\n",
       "    .dataframe tbody tr th:only-of-type {\n",
       "        vertical-align: middle;\n",
       "    }\n",
       "\n",
       "    .dataframe tbody tr th {\n",
       "        vertical-align: top;\n",
       "    }\n",
       "\n",
       "    .dataframe thead th {\n",
       "        text-align: right;\n",
       "    }\n",
       "</style>\n",
       "<table border=\"1\" class=\"dataframe\">\n",
       "  <thead>\n",
       "    <tr style=\"text-align: right;\">\n",
       "      <th></th>\n",
       "      <th>index</th>\n",
       "      <th>positive</th>\n",
       "      <th>negative</th>\n",
       "      <th>count_diff</th>\n",
       "      <th>positive_sum</th>\n",
       "      <th>negative_sum</th>\n",
       "      <th>sum_diff</th>\n",
       "    </tr>\n",
       "  </thead>\n",
       "  <tbody>\n",
       "    <tr>\n",
       "      <th>3</th>\n",
       "      <td>0.000</td>\n",
       "      <td>0.0</td>\n",
       "      <td>1.0</td>\n",
       "      <td>-1.0</td>\n",
       "      <td>0.00000</td>\n",
       "      <td>-0.00343</td>\n",
       "      <td>-0.00343</td>\n",
       "    </tr>\n",
       "    <tr>\n",
       "      <th>2</th>\n",
       "      <td>0.001</td>\n",
       "      <td>2.0</td>\n",
       "      <td>1.0</td>\n",
       "      <td>1.0</td>\n",
       "      <td>0.00551</td>\n",
       "      <td>-0.00441</td>\n",
       "      <td>0.00110</td>\n",
       "    </tr>\n",
       "    <tr>\n",
       "      <th>0</th>\n",
       "      <td>0.002</td>\n",
       "      <td>1.0</td>\n",
       "      <td>3.0</td>\n",
       "      <td>-2.0</td>\n",
       "      <td>0.00183</td>\n",
       "      <td>-0.00658</td>\n",
       "      <td>-0.00475</td>\n",
       "    </tr>\n",
       "    <tr>\n",
       "      <th>6</th>\n",
       "      <td>0.003</td>\n",
       "      <td>1.0</td>\n",
       "      <td>0.0</td>\n",
       "      <td>1.0</td>\n",
       "      <td>0.00279</td>\n",
       "      <td>0.00000</td>\n",
       "      <td>0.00279</td>\n",
       "    </tr>\n",
       "    <tr>\n",
       "      <th>1</th>\n",
       "      <td>0.004</td>\n",
       "      <td>0.0</td>\n",
       "      <td>1.0</td>\n",
       "      <td>-1.0</td>\n",
       "      <td>0.00000</td>\n",
       "      <td>-0.00538</td>\n",
       "      <td>-0.00538</td>\n",
       "    </tr>\n",
       "    <tr>\n",
       "      <th>5</th>\n",
       "      <td>0.005</td>\n",
       "      <td>1.0</td>\n",
       "      <td>0.0</td>\n",
       "      <td>1.0</td>\n",
       "      <td>0.00045</td>\n",
       "      <td>0.00000</td>\n",
       "      <td>0.00045</td>\n",
       "    </tr>\n",
       "    <tr>\n",
       "      <th>4</th>\n",
       "      <td>0.006</td>\n",
       "      <td>0.0</td>\n",
       "      <td>1.0</td>\n",
       "      <td>-1.0</td>\n",
       "      <td>0.00000</td>\n",
       "      <td>-0.00195</td>\n",
       "      <td>-0.00195</td>\n",
       "    </tr>\n",
       "  </tbody>\n",
       "</table>\n",
       "</div>"
      ],
      "text/plain": [
       "   index  positive  negative  count_diff  positive_sum  negative_sum  sum_diff\n",
       "3  0.000       0.0       1.0        -1.0       0.00000      -0.00343  -0.00343\n",
       "2  0.001       2.0       1.0         1.0       0.00551      -0.00441   0.00110\n",
       "0  0.002       1.0       3.0        -2.0       0.00183      -0.00658  -0.00475\n",
       "6  0.003       1.0       0.0         1.0       0.00279       0.00000   0.00279\n",
       "1  0.004       0.0       1.0        -1.0       0.00000      -0.00538  -0.00538\n",
       "5  0.005       1.0       0.0         1.0       0.00045       0.00000   0.00045\n",
       "4  0.006       0.0       1.0        -1.0       0.00000      -0.00195  -0.00195"
      ]
     },
     "execution_count": 4,
     "metadata": {},
     "output_type": "execute_result"
    }
   ],
   "source": [
    "data['lema_gap_pl_analysis_month'] = 8\n",
    "\n",
    "data = lema_gap_pl_analysis(data)\n",
    "data['lema_gap_pl_report']"
   ]
  },
  {
   "cell_type": "code",
   "execution_count": 5,
   "metadata": {},
   "outputs": [
    {
     "ename": "SystemExit",
     "evalue": "",
     "output_type": "error",
     "traceback": [
      "An exception has occurred, use %tb to see the full traceback.\n",
      "\u001b[1;31mSystemExit\u001b[0m\n"
     ]
    }
   ],
   "source": [
    "sys.exit()"
   ]
  },
  {
   "cell_type": "code",
   "execution_count": null,
   "metadata": {},
   "outputs": [],
   "source": [
    "print(data['df_small'].groupby(['weekday', 'pl_type'])['pl_type'].count().unstack())\n",
    "print('----------------------------------------------')\n",
    "print(data['df_small'].groupby(['weekday', 'pl_type'])['pl'].sum().unstack())"
   ]
  },
  {
   "cell_type": "code",
   "execution_count": null,
   "metadata": {},
   "outputs": [],
   "source": [
    "data['lema_gap_pl_analysis_month'] = 3\n",
    "\n",
    "data = lema_gap_pl_analysis(data)\n",
    "data['lema_gap_pl_report']"
   ]
  },
  {
   "cell_type": "code",
   "execution_count": null,
   "metadata": {},
   "outputs": [],
   "source": [
    "y = data['df_ohlc']['pl'].sum()\n",
    "x = data['df_ohlc'].groupby(['month_val'])['pl'].sum()\n",
    "send_telegram_message(f'{data[\"input_year\"]}')\n",
    "send_telegram_message(f'{y}')\n",
    "send_telegram_message(f'{x}')\n",
    "send_telegram_message(f'-------------------')"
   ]
  },
  {
   "cell_type": "code",
   "execution_count": null,
   "metadata": {},
   "outputs": [],
   "source": [
    "y = data['df_ohlc'][data['df_ohlc']['month_val'] == 6]\n",
    "x = y.groupby(['date_val'])['pl'].sum()\n",
    "print(x)\n",
    "print('---------------------')\n",
    "print(f'max : {x.idxmax()} : {max(x)}')\n",
    "print(f'min : {x.idxmin()} : {min(x)}')\n",
    "print('---------------------')"
   ]
  },
  {
   "cell_type": "code",
   "execution_count": null,
   "metadata": {
    "scrolled": true
   },
   "outputs": [],
   "source": [
    "data['df_ohlc'].tail()"
   ]
  },
  {
   "cell_type": "code",
   "execution_count": null,
   "metadata": {
    "scrolled": true
   },
   "outputs": [],
   "source": [
    "data['df_ohlc']['lema_gap'].describe()"
   ]
  },
  {
   "cell_type": "code",
   "execution_count": null,
   "metadata": {
    "scrolled": true
   },
   "outputs": [],
   "source": [
    "x = 5\n",
    "data['df_ohlc'].iloc[-5:,x:x+15]"
   ]
  },
  {
   "cell_type": "code",
   "execution_count": null,
   "metadata": {},
   "outputs": [],
   "source": [
    "data['df_small']['lema_gap'].describe()"
   ]
  },
  {
   "cell_type": "code",
   "execution_count": null,
   "metadata": {},
   "outputs": [],
   "source": []
  },
  {
   "cell_type": "code",
   "execution_count": null,
   "metadata": {},
   "outputs": [],
   "source": [
    "abs(all['negative_sum']) / all['positive_sum']"
   ]
  },
  {
   "cell_type": "code",
   "execution_count": null,
   "metadata": {},
   "outputs": [],
   "source": [
    "df_small['order_side']"
   ]
  },
  {
   "cell_type": "code",
   "execution_count": null,
   "metadata": {},
   "outputs": [],
   "source": [
    "data['df_small'].to_csv('data/temp.csv')"
   ]
  },
  {
   "cell_type": "code",
   "execution_count": 123,
   "metadata": {
    "scrolled": false
   },
   "outputs": [],
   "source": [
    "data[\"plot\"] = True\n",
    "data['plot_type'] = 'file'\n",
    "data['reduce_plot'] = True\n",
    "month = 8\n",
    "\n",
    "# Monthly Chart -------------------\n",
    "data['plot_start']  = f\"{data['input_year']}-{month}-1\"\n",
    "data['plot_stop']   = f\"{data['input_year']}-{month+1}-1\"\n",
    "# Monthly Chart -------------------\n",
    "\n",
    "# December Chart ----------------------------\n",
    "# data['plot_stop']   = f\"{data['input_year']+1}-1-1\"\n",
    "# December Chart ----------------------------\n",
    "\n",
    "# Year Chart ----------------------------\n",
    "# data['plot_start']  = f\"{data['input_year']}-1-1\"\n",
    "# data['plot_stop']   = f\"{data['input_year']+1}-1-1\"\n",
    "# Year Chart ----------------------------\n",
    "\n",
    "# data['things_to_plot'] = ['tick', 'ema', 'BBands', 'dots']\n",
    "# data['things_to_plot'] = ['ema', 'BBands', 'dots', 'indicators']\n",
    "# data['things_to_plot'] = ['ema', 'BBands', 'dots', 'cross']\n",
    "# data['things_to_plot'] = ['ema', 'BBands', 'dots', 'positions', 'tip']\n",
    "# data['things_to_plot'] = ['ema', 'BBands', 'dots', 'positions', 'lema_angle']\n",
    "# data['things_to_plot'] = ['ema', 'sema_angle', 'slema_angle', 'lema_angle', 'dir']\n",
    "# data['things_to_plot'] = ['ema', 'positions', 'lema_angle','slema_angle','sema_angle', 'rsi']\n",
    "# data['things_to_plot'] = ['ema','positions', 'lema_angle','lema_diff', 'lema_max_min']\n",
    "# data['things_to_plot'] = ['candles','sema', 'slema','positions','lema', 'lema_angle', 'lema_max_min', 'close_diff']\n",
    "# data['things_to_plot'] = ['lema', 'tip', 'candles', 'lema_angle', 'lema_change']\n",
    "data['things_to_plot'] = ['lema', 'candles', 'lema_angle', 'lema_change']\n",
    "\n",
    "plot_graph(data)"
   ]
  },
  {
   "cell_type": "markdown",
   "metadata": {
    "scrolled": true
   },
   "source": [
    "generate_result_report(data)"
   ]
  },
  {
   "cell_type": "code",
   "execution_count": 84,
   "metadata": {},
   "outputs": [
    {
     "data": {
      "text/plain": [
       "0     NaN\n",
       "1     0.0\n",
       "2    -1.0\n",
       "3     1.0\n",
       "4     1.0\n",
       "5     1.0\n",
       "6     1.0\n",
       "7     1.0\n",
       "8     1.0\n",
       "9     1.0\n",
       "10    1.0\n",
       "11    1.0\n",
       "12    1.0\n",
       "13    1.0\n",
       "14    1.0\n",
       "15    1.0\n",
       "16    1.0\n",
       "17    0.0\n",
       "18    1.0\n",
       "19    1.0\n",
       "20    1.0\n",
       "21    0.0\n",
       "22    0.0\n",
       "23    0.0\n",
       "24    1.0\n",
       "25   -1.0\n",
       "26    1.0\n",
       "27    1.0\n",
       "28    1.0\n",
       "29    1.0\n",
       "Name: lema, dtype: float64"
      ]
     },
     "execution_count": 84,
     "metadata": {},
     "output_type": "execute_result"
    }
   ],
   "source": [
    "x = np.sign(data['df_ohlc']['lema'].diff())\n",
    "x[0:30]"
   ]
  },
  {
   "cell_type": "code",
   "execution_count": 69,
   "metadata": {},
   "outputs": [
    {
     "name": "stderr",
     "output_type": "stream",
     "text": [
      "100%|████████████████████████████████| 74386/74386 [00:00<00:00, 294152.45it/s]\n"
     ]
    },
    {
     "data": {
      "text/plain": [
       "0     NaN\n",
       "1     NaN\n",
       "2    -1.0\n",
       "3     1.0\n",
       "4     1.0\n",
       "5     1.0\n",
       "6     1.0\n",
       "7     1.0\n",
       "8     1.0\n",
       "9     1.0\n",
       "10    1.0\n",
       "11    1.0\n",
       "12    1.0\n",
       "13    1.0\n",
       "14    1.0\n",
       "15    1.0\n",
       "16    1.0\n",
       "17    1.0\n",
       "18    1.0\n",
       "19    1.0\n",
       "Name: lema, dtype: float64"
      ]
     },
     "execution_count": 69,
     "metadata": {},
     "output_type": "execute_result"
    }
   ],
   "source": [
    "for i in tqdm(np.arange(1, len(x))):\n",
    "    if x[i] == 0:\n",
    "        x[i] = x[i-1]\n",
    "        \n",
    "x[0:20]"
   ]
  },
  {
   "cell_type": "code",
   "execution_count": 101,
   "metadata": {},
   "outputs": [
    {
     "data": {
      "text/plain": [
       "0              NaN\n",
       "1     0.000000e+00\n",
       "2    -1.000000e-06\n",
       "3     3.000000e-06\n",
       "4     4.000000e-06\n",
       "5     3.000000e-06\n",
       "6     4.000000e-06\n",
       "7     5.000000e-06\n",
       "8     5.000000e-06\n",
       "9     6.000000e-06\n",
       "10    4.000000e-06\n",
       "11    5.000000e-06\n",
       "12    5.000000e-06\n",
       "13    4.000000e-06\n",
       "14    1.000000e-06\n",
       "15    3.000000e-06\n",
       "16    2.000000e-06\n",
       "17    0.000000e+00\n",
       "18    1.000000e-06\n",
       "19    2.000000e-06\n",
       "20    1.000000e-06\n",
       "21    0.000000e+00\n",
       "22    0.000000e+00\n",
       "23    0.000000e+00\n",
       "24    1.000000e-06\n",
       "25   -1.000000e-06\n",
       "26    1.000000e-06\n",
       "27    2.000000e-06\n",
       "28    2.000000e-06\n",
       "29    1.000000e-06\n",
       "Name: lema, dtype: float64"
      ]
     },
     "execution_count": 101,
     "metadata": {},
     "output_type": "execute_result"
    }
   ],
   "source": [
    "data['df_ohlc']['lema'].diff()[0:30]"
   ]
  },
  {
   "cell_type": "code",
   "execution_count": null,
   "metadata": {},
   "outputs": [],
   "source": [
    "a = np.array(data['df_ohlc']['lema'].diff())"
   ]
  },
  {
   "cell_type": "code",
   "execution_count": 93,
   "metadata": {},
   "outputs": [
    {
     "data": {
      "text/plain": [
       "array([     nan,  0.0e+00, -1.0e-06, ..., -3.4e-05, -3.3e-05, -3.5e-05])"
      ]
     },
     "execution_count": 93,
     "metadata": {},
     "output_type": "execute_result"
    }
   ],
   "source": [
    "a"
   ]
  },
  {
   "cell_type": "code",
   "execution_count": 92,
   "metadata": {},
   "outputs": [
    {
     "data": {
      "text/plain": [
       "array([     nan,  0.0e+00, -1.0e-06, ..., -3.2e-05, -3.4e-05, -3.3e-05])"
      ]
     },
     "execution_count": 92,
     "metadata": {},
     "output_type": "execute_result"
    }
   ],
   "source": [
    "a[:-1]"
   ]
  },
  {
   "cell_type": "code",
   "execution_count": 94,
   "metadata": {},
   "outputs": [
    {
     "data": {
      "text/plain": [
       "array([ 0.0e+00, -1.0e-06,  3.0e-06, ..., -3.4e-05, -3.3e-05, -3.5e-05])"
      ]
     },
     "execution_count": 94,
     "metadata": {},
     "output_type": "execute_result"
    }
   ],
   "source": [
    "a[1:]"
   ]
  },
  {
   "cell_type": "code",
   "execution_count": 95,
   "metadata": {},
   "outputs": [
    {
     "data": {
      "text/plain": [
       "array([       nan, -0.000e+00, -3.000e-12, ...,  1.088e-09,  1.122e-09,\n",
       "        1.155e-09])"
      ]
     },
     "execution_count": 95,
     "metadata": {},
     "output_type": "execute_result"
    }
   ],
   "source": [
    "a[:-1] * a[1:]"
   ]
  },
  {
   "cell_type": "code",
   "execution_count": 96,
   "metadata": {},
   "outputs": [
    {
     "data": {
      "text/plain": [
       "array([False, False,  True, ..., False, False, False])"
      ]
     },
     "execution_count": 96,
     "metadata": {},
     "output_type": "execute_result"
    }
   ],
   "source": [
    "a[:-1] * a[1:] < 0"
   ]
  },
  {
   "cell_type": "code",
   "execution_count": 100,
   "metadata": {},
   "outputs": [
    {
     "data": {
      "text/plain": [
       "array([    3,    25,    26, ..., 74226, 74228, 74232], dtype=int64)"
      ]
     },
     "execution_count": 100,
     "metadata": {},
     "output_type": "execute_result"
    }
   ],
   "source": [
    "idx1"
   ]
  },
  {
   "cell_type": "code",
   "execution_count": 86,
   "metadata": {},
   "outputs": [
    {
     "name": "stdout",
     "output_type": "stream",
     "text": [
      "[ 3.e-06 -1.e-06  1.e-06 ... -1.e-06  6.e-06 -1.e-06]\n"
     ]
    }
   ],
   "source": [
    "idx1 = np.where(a[:-1] * a[1:] < 0)[0] +1\n",
    "a[idx1]"
   ]
  },
  {
   "cell_type": "code",
   "execution_count": 110,
   "metadata": {},
   "outputs": [
    {
     "data": {
      "text/plain": [
       "array([     nan,  0.0e+00, -1.0e-06, ..., -3.4e-05, -3.3e-05, -3.5e-05])"
      ]
     },
     "execution_count": 110,
     "metadata": {},
     "output_type": "execute_result"
    }
   ],
   "source": [
    "a"
   ]
  },
  {
   "cell_type": "code",
   "execution_count": 117,
   "metadata": {
    "scrolled": true
   },
   "outputs": [],
   "source": [
    "a1 = np.sign(a)\n",
    "idx2 = []\n",
    "\n",
    "for i in idx1:\n",
    "    if i > 2:\n",
    "        if a1[i-1] == a1[i-2]:\n",
    "            if a1[i] == a1[i+1]:\n",
    "                idx2.append(i)"
   ]
  },
  {
   "cell_type": "code",
   "execution_count": 121,
   "metadata": {},
   "outputs": [],
   "source": [
    "idx2 = (np.array(idx2))"
   ]
  },
  {
   "cell_type": "code",
   "execution_count": 88,
   "metadata": {},
   "outputs": [],
   "source": [
    "data['df_ohlc']['lema_change'] = np.nan\n",
    "data['df_ohlc'].loc[np.where(a[:-1] * a[1:] < 0 )[0] +1, 'lema_change'] = data['df_ohlc']['lema']"
   ]
  },
  {
   "cell_type": "code",
   "execution_count": 122,
   "metadata": {},
   "outputs": [],
   "source": [
    "data['df_ohlc']['lema_change'] = np.nan\n",
    "data['df_ohlc'].loc[idx2, 'lema_change'] = data['df_ohlc']['lema']"
   ]
  },
  {
   "cell_type": "code",
   "execution_count": 45,
   "metadata": {},
   "outputs": [],
   "source": [
    "data['df_ohlc']['lema_change'] = np.nan\n",
    "\n",
    "data['df_ohlc'].loc[np.sign(data['df_ohlc']['lema'].diff()).ne(0), 'lema_change'] = data['df_ohlc']['lema']"
   ]
  },
  {
   "cell_type": "code",
   "execution_count": 46,
   "metadata": {
    "scrolled": false
   },
   "outputs": [
    {
     "data": {
      "text/html": [
       "<div>\n",
       "<style scoped>\n",
       "    .dataframe tbody tr th:only-of-type {\n",
       "        vertical-align: middle;\n",
       "    }\n",
       "\n",
       "    .dataframe tbody tr th {\n",
       "        vertical-align: top;\n",
       "    }\n",
       "\n",
       "    .dataframe thead th {\n",
       "        text-align: right;\n",
       "    }\n",
       "</style>\n",
       "<table border=\"1\" class=\"dataframe\">\n",
       "  <thead>\n",
       "    <tr style=\"text-align: right;\">\n",
       "      <th></th>\n",
       "      <th>DateTime_frmt</th>\n",
       "      <th>open</th>\n",
       "      <th>high</th>\n",
       "      <th>low</th>\n",
       "      <th>close</th>\n",
       "      <th>candle_size</th>\n",
       "      <th>ask</th>\n",
       "      <th>bid</th>\n",
       "      <th>lema</th>\n",
       "      <th>lema_angle</th>\n",
       "      <th>...</th>\n",
       "      <th>up</th>\n",
       "      <th>down</th>\n",
       "      <th>month_val</th>\n",
       "      <th>date_val</th>\n",
       "      <th>hour_val</th>\n",
       "      <th>long_profit</th>\n",
       "      <th>long_loss</th>\n",
       "      <th>short_profit</th>\n",
       "      <th>short_loss</th>\n",
       "      <th>lema_change</th>\n",
       "    </tr>\n",
       "  </thead>\n",
       "  <tbody>\n",
       "    <tr>\n",
       "      <th>0</th>\n",
       "      <td>2020-01-05 23:45:00</td>\n",
       "      <td>1.116605</td>\n",
       "      <td>1.116605</td>\n",
       "      <td>1.116455</td>\n",
       "      <td>1.116455</td>\n",
       "      <td>0.000150</td>\n",
       "      <td>1.116505</td>\n",
       "      <td>1.116405</td>\n",
       "      <td>1.116154</td>\n",
       "      <td>-0.000340</td>\n",
       "      <td>...</td>\n",
       "      <td>NaN</td>\n",
       "      <td>NaN</td>\n",
       "      <td>1</td>\n",
       "      <td>5</td>\n",
       "      <td>23</td>\n",
       "      <td>NaN</td>\n",
       "      <td>NaN</td>\n",
       "      <td>NaN</td>\n",
       "      <td>NaN</td>\n",
       "      <td>1.116154</td>\n",
       "    </tr>\n",
       "    <tr>\n",
       "      <th>2</th>\n",
       "      <td>2020-01-05 23:55:00</td>\n",
       "      <td>1.116155</td>\n",
       "      <td>1.116230</td>\n",
       "      <td>1.116050</td>\n",
       "      <td>1.116060</td>\n",
       "      <td>0.000180</td>\n",
       "      <td>1.116110</td>\n",
       "      <td>1.116010</td>\n",
       "      <td>1.116153</td>\n",
       "      <td>-0.000317</td>\n",
       "      <td>...</td>\n",
       "      <td>NaN</td>\n",
       "      <td>NaN</td>\n",
       "      <td>1</td>\n",
       "      <td>5</td>\n",
       "      <td>23</td>\n",
       "      <td>NaN</td>\n",
       "      <td>NaN</td>\n",
       "      <td>NaN</td>\n",
       "      <td>NaN</td>\n",
       "      <td>1.116153</td>\n",
       "    </tr>\n",
       "    <tr>\n",
       "      <th>3</th>\n",
       "      <td>2020-01-06 00:00:00</td>\n",
       "      <td>1.116040</td>\n",
       "      <td>1.116385</td>\n",
       "      <td>1.116015</td>\n",
       "      <td>1.116375</td>\n",
       "      <td>0.000370</td>\n",
       "      <td>1.116425</td>\n",
       "      <td>1.116325</td>\n",
       "      <td>1.116156</td>\n",
       "      <td>-0.000306</td>\n",
       "      <td>...</td>\n",
       "      <td>NaN</td>\n",
       "      <td>NaN</td>\n",
       "      <td>1</td>\n",
       "      <td>6</td>\n",
       "      <td>0</td>\n",
       "      <td>NaN</td>\n",
       "      <td>NaN</td>\n",
       "      <td>NaN</td>\n",
       "      <td>NaN</td>\n",
       "      <td>1.116156</td>\n",
       "    </tr>\n",
       "    <tr>\n",
       "      <th>4</th>\n",
       "      <td>2020-01-06 00:05:00</td>\n",
       "      <td>1.116390</td>\n",
       "      <td>1.116725</td>\n",
       "      <td>1.116390</td>\n",
       "      <td>1.116655</td>\n",
       "      <td>0.000335</td>\n",
       "      <td>1.116705</td>\n",
       "      <td>1.116605</td>\n",
       "      <td>1.116160</td>\n",
       "      <td>-0.000295</td>\n",
       "      <td>...</td>\n",
       "      <td>NaN</td>\n",
       "      <td>NaN</td>\n",
       "      <td>1</td>\n",
       "      <td>6</td>\n",
       "      <td>0</td>\n",
       "      <td>NaN</td>\n",
       "      <td>NaN</td>\n",
       "      <td>NaN</td>\n",
       "      <td>NaN</td>\n",
       "      <td>1.116160</td>\n",
       "    </tr>\n",
       "    <tr>\n",
       "      <th>5</th>\n",
       "      <td>2020-01-06 00:10:00</td>\n",
       "      <td>1.116650</td>\n",
       "      <td>1.116650</td>\n",
       "      <td>1.116385</td>\n",
       "      <td>1.116400</td>\n",
       "      <td>0.000265</td>\n",
       "      <td>1.116450</td>\n",
       "      <td>1.116350</td>\n",
       "      <td>1.116163</td>\n",
       "      <td>-0.000284</td>\n",
       "      <td>...</td>\n",
       "      <td>NaN</td>\n",
       "      <td>NaN</td>\n",
       "      <td>1</td>\n",
       "      <td>6</td>\n",
       "      <td>0</td>\n",
       "      <td>NaN</td>\n",
       "      <td>NaN</td>\n",
       "      <td>NaN</td>\n",
       "      <td>NaN</td>\n",
       "      <td>1.116163</td>\n",
       "    </tr>\n",
       "    <tr>\n",
       "      <th>...</th>\n",
       "      <td>...</td>\n",
       "      <td>...</td>\n",
       "      <td>...</td>\n",
       "      <td>...</td>\n",
       "      <td>...</td>\n",
       "      <td>...</td>\n",
       "      <td>...</td>\n",
       "      <td>...</td>\n",
       "      <td>...</td>\n",
       "      <td>...</td>\n",
       "      <td>...</td>\n",
       "      <td>...</td>\n",
       "      <td>...</td>\n",
       "      <td>...</td>\n",
       "      <td>...</td>\n",
       "      <td>...</td>\n",
       "      <td>...</td>\n",
       "      <td>...</td>\n",
       "      <td>...</td>\n",
       "      <td>...</td>\n",
       "      <td>...</td>\n",
       "    </tr>\n",
       "    <tr>\n",
       "      <th>74382</th>\n",
       "      <td>2020-12-31 21:35:00</td>\n",
       "      <td>1.222015</td>\n",
       "      <td>1.222060</td>\n",
       "      <td>1.221955</td>\n",
       "      <td>1.222050</td>\n",
       "      <td>0.000105</td>\n",
       "      <td>1.222100</td>\n",
       "      <td>1.222000</td>\n",
       "      <td>1.225156</td>\n",
       "      <td>-0.001126</td>\n",
       "      <td>...</td>\n",
       "      <td>NaN</td>\n",
       "      <td>NaN</td>\n",
       "      <td>12</td>\n",
       "      <td>31</td>\n",
       "      <td>21</td>\n",
       "      <td>NaN</td>\n",
       "      <td>NaN</td>\n",
       "      <td>NaN</td>\n",
       "      <td>NaN</td>\n",
       "      <td>1.225156</td>\n",
       "    </tr>\n",
       "    <tr>\n",
       "      <th>74383</th>\n",
       "      <td>2020-12-31 21:40:00</td>\n",
       "      <td>1.222010</td>\n",
       "      <td>1.222010</td>\n",
       "      <td>1.221865</td>\n",
       "      <td>1.221900</td>\n",
       "      <td>0.000145</td>\n",
       "      <td>1.221950</td>\n",
       "      <td>1.221850</td>\n",
       "      <td>1.225124</td>\n",
       "      <td>-0.001143</td>\n",
       "      <td>...</td>\n",
       "      <td>NaN</td>\n",
       "      <td>NaN</td>\n",
       "      <td>12</td>\n",
       "      <td>31</td>\n",
       "      <td>21</td>\n",
       "      <td>NaN</td>\n",
       "      <td>NaN</td>\n",
       "      <td>NaN</td>\n",
       "      <td>NaN</td>\n",
       "      <td>1.225124</td>\n",
       "    </tr>\n",
       "    <tr>\n",
       "      <th>74384</th>\n",
       "      <td>2020-12-31 21:45:00</td>\n",
       "      <td>1.221895</td>\n",
       "      <td>1.221975</td>\n",
       "      <td>1.221720</td>\n",
       "      <td>1.221730</td>\n",
       "      <td>0.000255</td>\n",
       "      <td>1.221780</td>\n",
       "      <td>1.221680</td>\n",
       "      <td>1.225090</td>\n",
       "      <td>-0.001160</td>\n",
       "      <td>...</td>\n",
       "      <td>NaN</td>\n",
       "      <td>NaN</td>\n",
       "      <td>12</td>\n",
       "      <td>31</td>\n",
       "      <td>21</td>\n",
       "      <td>NaN</td>\n",
       "      <td>NaN</td>\n",
       "      <td>NaN</td>\n",
       "      <td>NaN</td>\n",
       "      <td>1.225090</td>\n",
       "    </tr>\n",
       "    <tr>\n",
       "      <th>74385</th>\n",
       "      <td>2020-12-31 21:50:00</td>\n",
       "      <td>1.221740</td>\n",
       "      <td>1.221845</td>\n",
       "      <td>1.221560</td>\n",
       "      <td>1.221805</td>\n",
       "      <td>0.000285</td>\n",
       "      <td>1.221855</td>\n",
       "      <td>1.221755</td>\n",
       "      <td>1.225057</td>\n",
       "      <td>-0.001177</td>\n",
       "      <td>...</td>\n",
       "      <td>NaN</td>\n",
       "      <td>NaN</td>\n",
       "      <td>12</td>\n",
       "      <td>31</td>\n",
       "      <td>21</td>\n",
       "      <td>NaN</td>\n",
       "      <td>NaN</td>\n",
       "      <td>NaN</td>\n",
       "      <td>NaN</td>\n",
       "      <td>1.225057</td>\n",
       "    </tr>\n",
       "    <tr>\n",
       "      <th>74386</th>\n",
       "      <td>2020-12-31 21:55:00</td>\n",
       "      <td>1.221800</td>\n",
       "      <td>1.221825</td>\n",
       "      <td>1.221535</td>\n",
       "      <td>1.221575</td>\n",
       "      <td>0.000290</td>\n",
       "      <td>1.221625</td>\n",
       "      <td>1.221525</td>\n",
       "      <td>1.225022</td>\n",
       "      <td>-0.001194</td>\n",
       "      <td>...</td>\n",
       "      <td>NaN</td>\n",
       "      <td>NaN</td>\n",
       "      <td>12</td>\n",
       "      <td>31</td>\n",
       "      <td>21</td>\n",
       "      <td>NaN</td>\n",
       "      <td>NaN</td>\n",
       "      <td>NaN</td>\n",
       "      <td>NaN</td>\n",
       "      <td>1.225022</td>\n",
       "    </tr>\n",
       "  </tbody>\n",
       "</table>\n",
       "<p>72617 rows × 45 columns</p>\n",
       "</div>"
      ],
      "text/plain": [
       "            DateTime_frmt      open      high       low     close  \\\n",
       "0     2020-01-05 23:45:00  1.116605  1.116605  1.116455  1.116455   \n",
       "2     2020-01-05 23:55:00  1.116155  1.116230  1.116050  1.116060   \n",
       "3     2020-01-06 00:00:00  1.116040  1.116385  1.116015  1.116375   \n",
       "4     2020-01-06 00:05:00  1.116390  1.116725  1.116390  1.116655   \n",
       "5     2020-01-06 00:10:00  1.116650  1.116650  1.116385  1.116400   \n",
       "...                   ...       ...       ...       ...       ...   \n",
       "74382 2020-12-31 21:35:00  1.222015  1.222060  1.221955  1.222050   \n",
       "74383 2020-12-31 21:40:00  1.222010  1.222010  1.221865  1.221900   \n",
       "74384 2020-12-31 21:45:00  1.221895  1.221975  1.221720  1.221730   \n",
       "74385 2020-12-31 21:50:00  1.221740  1.221845  1.221560  1.221805   \n",
       "74386 2020-12-31 21:55:00  1.221800  1.221825  1.221535  1.221575   \n",
       "\n",
       "       candle_size       ask       bid      lema  lema_angle  ...  up  down  \\\n",
       "0         0.000150  1.116505  1.116405  1.116154   -0.000340  ... NaN   NaN   \n",
       "2         0.000180  1.116110  1.116010  1.116153   -0.000317  ... NaN   NaN   \n",
       "3         0.000370  1.116425  1.116325  1.116156   -0.000306  ... NaN   NaN   \n",
       "4         0.000335  1.116705  1.116605  1.116160   -0.000295  ... NaN   NaN   \n",
       "5         0.000265  1.116450  1.116350  1.116163   -0.000284  ... NaN   NaN   \n",
       "...            ...       ...       ...       ...         ...  ...  ..   ...   \n",
       "74382     0.000105  1.222100  1.222000  1.225156   -0.001126  ... NaN   NaN   \n",
       "74383     0.000145  1.221950  1.221850  1.225124   -0.001143  ... NaN   NaN   \n",
       "74384     0.000255  1.221780  1.221680  1.225090   -0.001160  ... NaN   NaN   \n",
       "74385     0.000285  1.221855  1.221755  1.225057   -0.001177  ... NaN   NaN   \n",
       "74386     0.000290  1.221625  1.221525  1.225022   -0.001194  ... NaN   NaN   \n",
       "\n",
       "       month_val  date_val  hour_val  long_profit  long_loss  short_profit  \\\n",
       "0              1         5        23          NaN        NaN           NaN   \n",
       "2              1         5        23          NaN        NaN           NaN   \n",
       "3              1         6         0          NaN        NaN           NaN   \n",
       "4              1         6         0          NaN        NaN           NaN   \n",
       "5              1         6         0          NaN        NaN           NaN   \n",
       "...          ...       ...       ...          ...        ...           ...   \n",
       "74382         12        31        21          NaN        NaN           NaN   \n",
       "74383         12        31        21          NaN        NaN           NaN   \n",
       "74384         12        31        21          NaN        NaN           NaN   \n",
       "74385         12        31        21          NaN        NaN           NaN   \n",
       "74386         12        31        21          NaN        NaN           NaN   \n",
       "\n",
       "       short_loss  lema_change  \n",
       "0             NaN     1.116154  \n",
       "2             NaN     1.116153  \n",
       "3             NaN     1.116156  \n",
       "4             NaN     1.116160  \n",
       "5             NaN     1.116163  \n",
       "...           ...          ...  \n",
       "74382         NaN     1.225156  \n",
       "74383         NaN     1.225124  \n",
       "74384         NaN     1.225090  \n",
       "74385         NaN     1.225057  \n",
       "74386         NaN     1.225022  \n",
       "\n",
       "[72617 rows x 45 columns]"
      ]
     },
     "execution_count": 46,
     "metadata": {},
     "output_type": "execute_result"
    }
   ],
   "source": [
    "data['df_ohlc'][data['df_ohlc']['lema_change'].notnull()]"
   ]
  },
  {
   "cell_type": "code",
   "execution_count": null,
   "metadata": {},
   "outputs": [],
   "source": [
    "data['df_ohlc'].loc[(data['df_ohlc']['month_val'] == 8)\n",
    "                & (data['df_ohlc']['date_val'] == 13)\n",
    "                & (data['df_ohlc']['hour_val'] == 15), ['DateTime_frmt', 'lema']]"
   ]
  }
 ],
 "metadata": {
  "kernelspec": {
   "display_name": "Python 3",
   "language": "python",
   "name": "python3"
  },
  "language_info": {
   "codemirror_mode": {
    "name": "ipython",
    "version": 3
   },
   "file_extension": ".py",
   "mimetype": "text/x-python",
   "name": "python",
   "nbconvert_exporter": "python",
   "pygments_lexer": "ipython3",
   "version": "3.6.6"
  }
 },
 "nbformat": 4,
 "nbformat_minor": 4
}
