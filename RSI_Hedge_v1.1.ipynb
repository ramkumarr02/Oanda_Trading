{
 "cells": [
  {
   "cell_type": "markdown",
   "metadata": {},
   "source": [
    "# RSI_Hedge_v1.1"
   ]
  },
  {
   "cell_type": "markdown",
   "metadata": {},
   "source": [
    "## Setup"
   ]
  },
  {
   "cell_type": "markdown",
   "metadata": {},
   "source": [
    "### Packages"
   ]
  },
  {
   "cell_type": "code",
   "execution_count": 1,
   "metadata": {},
   "outputs": [],
   "source": [
    "from utils.packages import *\n",
    "#from utils.tools import *"
   ]
  },
  {
   "cell_type": "markdown",
   "metadata": {},
   "source": [
    "### Inputs and Parameters"
   ]
  },
  {
   "cell_type": "markdown",
   "metadata": {},
   "source": [
    "#### Read Yaml files"
   ]
  },
  {
   "cell_type": "code",
   "execution_count": 2,
   "metadata": {},
   "outputs": [],
   "source": [
    "temp_file = 'config/access_keys.yaml'\n",
    "with open(temp_file) as temp_file:\n",
    "    config = yaml.load(temp_file)\n",
    "    \n",
    "temp_file = 'config/currencies.yaml'\n",
    "with open(temp_file) as temp_file:\n",
    "    currs = yaml.load(temp_file)        "
   ]
  },
  {
   "cell_type": "markdown",
   "metadata": {},
   "source": [
    "#### Yaml Variables"
   ]
  },
  {
   "cell_type": "code",
   "execution_count": 3,
   "metadata": {},
   "outputs": [],
   "source": [
    "access_token = config['oanda_demo_hedge']['token']\n",
    "accountID = config['oanda_demo_hedge']['account_id']\n",
    "data = {}\n",
    "data['instrument'] = \"EUR_USD\"\n",
    "data['pip_size'] = currs['currs'][data['instrument']]['pip_size']"
   ]
  },
  {
   "cell_type": "code",
   "execution_count": 4,
   "metadata": {},
   "outputs": [],
   "source": [
    "params = {'instruments': data['instrument']}\n",
    "api = API(access_token = access_token)\n",
    "request_data = pricing.PricingStream(accountID=accountID, params=params)\n",
    "response_stream = api.request(request_data)"
   ]
  },
  {
   "cell_type": "code",
   "execution_count": 5,
   "metadata": {},
   "outputs": [],
   "source": [
    "data['iter_max'] = 30\n",
    "data['rsi_len'] = 14\n",
    "data['rsi_ready_flag'] = False\n",
    "data['tick_list'] = collections.deque([])\n",
    "data['UpPrice'] = collections.deque([])\n",
    "data['DownPrice'] = collections.deque([])\n",
    "data['AvgGain'] = collections.deque([])\n",
    "data['AvgLoss'] = collections.deque([])\n",
    "data['RS'] = collections.deque([])\n",
    "data['RSI'] = collections.deque([])"
   ]
  },
  {
   "cell_type": "code",
   "execution_count": 6,
   "metadata": {},
   "outputs": [],
   "source": [
    "#-----------------------------------------------------------------------------------------------------------------------------------------------------------------------------\n",
    "# Get timestamp of the price and segregate it\n",
    "def get_date_time(resp):\n",
    "    global data\n",
    "    time_stamp = resp['time']\n",
    "    data['date_val'], full_time = time_stamp.split(sep = 'T')\n",
    "    data['time_val'], data['time_fraction'] = full_time.split(sep = '.')\n",
    "    return()\n",
    "#=============================================================================================================================================================================\n",
    "\n",
    "\n",
    "#-----------------------------------------------------------------------------------------------------------------------------------------------------------------------------\n",
    "# Get bid and ask prices\n",
    "def get_prices(resp):    \n",
    "    global data\n",
    "    data['bid_price'] = float(resp['bids'][0]['price'])    \n",
    "    data['ask_price'] = float(resp['asks'][0]['price'])\n",
    "    data['spread'] = data['ask_price'] - data['bid_price']\n",
    "    data['tick_price'] = (data['ask_price'] + data['bid_price']) / 2\n",
    "    return()\n",
    "#=============================================================================================================================================================================\n",
    "\n",
    "\n",
    "#-----------------------------------------------------------------------------------------------------------------------------------------------------------------------------\n",
    "def before_rsi_len():\n",
    "    global data\n",
    "    data['tick_list'].append(data['tick_price'])\n",
    "\n",
    "    if len(data['tick_list']) == 1:\n",
    "        data['UpPrice'].append(0)\n",
    "        data['DownPrice'].append(0)\n",
    "        data['AvgGain'].append(0)\n",
    "        data['AvgLoss'].append(0)\n",
    "        data['RS'].append(0)\n",
    "        data['RSI'].append(0)\n",
    "    elif len(data['tick_list']) > 1:\n",
    "        old_price = data['tick_list'][len(data['tick_list'])-2]\n",
    "        new_price = data['tick_price']\n",
    "        if new_price > old_price:\n",
    "            data['UpPrice'].append(new_price - old_price)\n",
    "            data['DownPrice'].append(0)\n",
    "            data['AvgGain'].append(np.mean(data['UpPrice']))\n",
    "            data['AvgLoss'].append(np.mean(data['DownPrice']))\n",
    "            data['RS'].append(data['AvgGain'][len(data['AvgGain'])-1]/data['AvgLoss'][len(data['AvgLoss'])-1])\n",
    "            data['RSI'].append(100 - (100/(1+data['RS'][len(data['RS'])-1])))\n",
    "        elif old_price > new_price:\n",
    "            data['UpPrice'].append(0)\n",
    "            data['DownPrice'].append(old_price - new_price)\n",
    "            data['AvgGain'].append(np.mean(data['UpPrice']))\n",
    "            data['AvgLoss'].append(np.mean(data['DownPrice']))\n",
    "            data['RS'].append(data['AvgGain'][len(data['AvgGain'])-1]/data['AvgLoss'][len(data['AvgLoss'])-1])\n",
    "            data['RSI'].append(100 - (100/(1+data['RS'][len(data['RS'])-1])))\n",
    "    return()\n",
    "#=============================================================================================================================================================================    \n",
    "\n",
    "\n",
    "#-----------------------------------------------------------------------------------------------------------------------------------------------------------------------------\n",
    "def after_rsi_len():\n",
    "    global data\n",
    "    data['UpPrice'].popleft()\n",
    "    data['DownPrice'].popleft()\n",
    "    data['AvgGain'].popleft()\n",
    "    data['AvgLoss'].popleft()\n",
    "    data['RS'].popleft()\n",
    "    data['RSI'].popleft()\n",
    "    data['tick_list'].popleft()\n",
    "    data['tick_list'].append(data['tick_price'])\n",
    "\n",
    "    old_price = data['tick_list'][len(data['tick_list'])-2]\n",
    "    new_price = data['tick_price']\n",
    "    if new_price > old_price:\n",
    "        data['UpPrice'].append(new_price - old_price)\n",
    "        data['DownPrice'].append(0)\n",
    "        data['AvgGain'].append(np.mean(data['UpPrice']))\n",
    "        data['AvgLoss'].append(np.mean(data['DownPrice']))\n",
    "        data['RS'].append(data['AvgGain'][len(data['AvgGain'])-1]/data['AvgLoss'][len(data['AvgLoss'])-1])\n",
    "        data['RSI'].append(100 - (100/(1+data['RS'][len(data['RS'])-1])))\n",
    "    elif old_price > new_price:\n",
    "        data['UpPrice'].append(0)\n",
    "        data['DownPrice'].append(old_price - new_price)\n",
    "        data['AvgGain'].append(np.mean(data['UpPrice']))\n",
    "        data['AvgLoss'].append(np.mean(data['DownPrice']))\n",
    "        data['RS'].append(data['AvgGain'][len(data['AvgGain'])-1]/data['AvgLoss'][len(data['AvgLoss'])-1])\n",
    "        data['RSI'].append(100 - (100/(1+data['RS'][len(data['RS'])-1])))\n",
    "\n",
    "    return()\n",
    "#=============================================================================================================================================================================    "
   ]
  },
  {
   "cell_type": "code",
   "execution_count": 7,
   "metadata": {},
   "outputs": [],
   "source": [
    "temp=[]\n",
    "temp1=[]"
   ]
  },
  {
   "cell_type": "code",
   "execution_count": 8,
   "metadata": {
    "scrolled": false
   },
   "outputs": [
    {
     "data": {
      "image/png": "[encoded data removed]",
      "text/plain": [
       "<Figure size 1440x540 with 2 Axes>"
      ]
     },
     "metadata": {},
     "output_type": "display_data"
    },
    {
     "data": {
      "image/png": "[encoded data removed]",
      "text/plain": [
       "<Figure size 1440x540 with 2 Axes>"
      ]
     },
     "metadata": {
      "needs_background": "light"
     },
     "output_type": "display_data"
    }
   ],
   "source": [
    "for i, resp in enumerate(response_stream): \n",
    "    if i == data['iter_max']:\n",
    "        break\n",
    "    if resp['type'] == 'HEARTBEAT': # Heart beat response to keep the api connection alive (Avoid timeout)\n",
    "        continue\n",
    "    \n",
    "    get_date_time(resp)\n",
    "    get_prices(resp)\n",
    "    \n",
    "    display.clear_output(wait = True)\n",
    "    \n",
    "    if len(data['tick_list']) < data['rsi_len']:\n",
    "        before_rsi_len()            \n",
    "        print(f\"Building RSI Tick list : {len(data['tick_list'])}\")\n",
    "        continue\n",
    "    elif len(data['tick_list']) == data['rsi_len']:\n",
    "        after_rsi_len()        \n",
    "        \n",
    "    print(i)\n",
    "    print(data['RSI'][-1])\n",
    "    \n",
    "    \n",
    "    temp.append(data['RSI'][-1])\n",
    "    temp1.append(data['tick_price'])\n",
    "    \n",
    "    fig, ax1 = plt.subplots(1,1, figsize=(20,7.5))\n",
    "    ax2 = ax1.twinx()\n",
    "\n",
    "    ax1.plot(temp, 'k' ,label=\"RSI\")\n",
    "    ax2.plot(temp1, 'r' ,label=\"Tick\")\n",
    "\n",
    "    ax1.legend(loc=\"upper left\")\n",
    "    ax2.legend(loc=\"upper right\")\n",
    "    display.display(plt.gcf())\n",
    "    display.clear_output(wait = True)"
   ]
  }
 ],
 "metadata": {
  "kernelspec": {
   "display_name": "Python 3.6.6 64-bit",
   "language": "python",
   "name": "python36664bitab910dfda0bc43a8bf7df0c20d1c59f2"
  },
  "language_info": {
   "codemirror_mode": {
    "name": "ipython",
    "version": 3
   },
   "file_extension": ".py",
   "mimetype": "text/x-python",
   "name": "python",
   "nbconvert_exporter": "python",
   "pygments_lexer": "ipython3",
   "version": "3.6.6"
  }
 },
 "nbformat": 4,
 "nbformat_minor": 4
}
