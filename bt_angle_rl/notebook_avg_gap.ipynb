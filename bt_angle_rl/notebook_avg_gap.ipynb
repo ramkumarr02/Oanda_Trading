{
 "cells": [
  {
   "cell_type": "markdown",
   "metadata": {},
   "source": [
    "# ML Trader"
   ]
  },
  {
   "cell_type": "code",
   "execution_count": 1,
   "metadata": {
    "scrolled": true
   },
   "outputs": [],
   "source": [
    "from utils.packages import *\n",
    "from utils.variables import *\n",
    "from utils.i_o import *\n",
    "from utils.dir_slope import *\n",
    "from utils.engine import *\n",
    "from utils.loops import *\n",
    "from utils.order import *\n",
    "import winsound"
   ]
  },
  {
   "cell_type": "markdown",
   "metadata": {},
   "source": [
    "###  x = 2500, loss_reverse_position : 101 pips\n",
    "###  x = 5000, loss_reverse_position_continous : 55 pips\n",
    "###  x = 7500, loss_reverse_position_continous : -180 and -200+ pips\n",
    "###  x = 1000, loss_reverse_position_continous : -170 and -170 pips\n",
    "\n",
    "# Need to test Hedge positions with 1,2,2,2,2 (Series)"
   ]
  },
  {
   "cell_type": "code",
   "execution_count": 2,
   "metadata": {
    "scrolled": false
   },
   "outputs": [
    {
     "name": "stdout",
     "output_type": "stream",
     "text": [
      "Date List Created\n"
     ]
    },
    {
     "name": "stderr",
     "output_type": "stream",
     "text": [
      "  3%|█▏                               | 3837/109876 [00:00<00:05, 19318.09it/s]"
     ]
    },
    {
     "name": "stdout",
     "output_type": "stream",
     "text": [
      "Record num : 109876\n",
      "EMA Rolling completed\n"
     ]
    },
    {
     "name": "stderr",
     "output_type": "stream",
     "text": [
      "100%|███████████████████████████████| 109876/109876 [00:07<00:00, 14632.15it/s]\n"
     ]
    },
    {
     "name": "stdout",
     "output_type": "stream",
     "text": [
      "Wall time: 16.2 s\n"
     ]
    }
   ],
   "source": [
    "%%time\n",
    "data = run_engine(data)"
   ]
  },
  {
   "cell_type": "code",
   "execution_count": 3,
   "metadata": {
    "scrolled": false
   },
   "outputs": [
    {
     "name": "stdout",
     "output_type": "stream",
     "text": [
      "--------------------------------------\n",
      "Run Complete : data/ema_df-(2021-2021)-(1-1)-(1-5).csv\n",
      "--------------------------------------\n",
      "\n",
      "\n",
      "--------------------------------------\n",
      "Net PL\n",
      "0.0\n",
      "--------------------------------------\n",
      "\n",
      "\n",
      "--------------------------------------\n",
      "Monthly PL\n",
      "Empty DataFrame\n",
      "Columns: [pl]\n",
      "Index: []\n",
      "--------------------------------------\n",
      "\n",
      "\n",
      "--------------------------------------\n",
      "Daily PL\n",
      "Empty DataFrame\n",
      "Columns: [pl]\n",
      "Index: []\n",
      "--------------------------------------\n",
      "\n",
      "\n",
      "--------------------------------------\n",
      "Count of transactions by Close Type\n",
      "..................\n",
      "Empty DataFrame\n",
      "Columns: [pl]\n",
      "Index: []\n",
      "--------------------------------------\n",
      "\n",
      "\n",
      "--------------------------------------\n",
      "Mean value of transactions by Close Type\n",
      "..................\n",
      "Empty DataFrame\n",
      "Columns: [pl]\n",
      "Index: []\n",
      "--------------------------------------\n",
      "\n",
      "\n",
      "--------------------------------------\n",
      "Sum by Close Type\n",
      "..................\n",
      "Empty DataFrame\n",
      "Columns: [pl]\n",
      "Index: []\n",
      "--------------------------------------\n",
      "\n",
      "\n",
      "--------------------------------------\n",
      "Average pips per day : nan\n",
      "--------------------------------------\n",
      "\n",
      "\n",
      "--------------------------------------\n",
      "Average orders per day : nan\n",
      "--------------------------------------\n",
      "\n",
      "\n"
     ]
    }
   ],
   "source": [
    "generate_result_report(data)"
   ]
  },
  {
   "cell_type": "code",
   "execution_count": 4,
   "metadata": {},
   "outputs": [],
   "source": [
    "data[\"plot\"] = True\n",
    "data['plot_type'] = 'file'\n",
    "data['reduce_plot'] = True\n",
    "data['plot_start']  = '2021-01-1'\n",
    "data['plot_stop']   = '2021-01-5'\n",
    "# data['things_to_plot'] = ['tick', 'lema', 'h_l_lema', 'tick_angle', 'positions']\n",
    "data['things_to_plot'] = ['tick', 'ema', 'h_l_lema', 'tick_angle', 'positions']"
   ]
  },
  {
   "cell_type": "code",
   "execution_count": 5,
   "metadata": {
    "scrolled": false
   },
   "outputs": [],
   "source": [
    "plot_graph(data)"
   ]
  },
  {
   "cell_type": "code",
   "execution_count": 8,
   "metadata": {},
   "outputs": [
    {
     "data": {
      "text/plain": [
       "True"
      ]
     },
     "execution_count": 8,
     "metadata": {},
     "output_type": "execute_result"
    }
   ],
   "source": [
    "data['open_order']"
   ]
  },
  {
   "cell_type": "code",
   "execution_count": 6,
   "metadata": {},
   "outputs": [
    {
     "ename": "NameError",
     "evalue": "name 'order_num_i' is not defined",
     "output_type": "error",
     "traceback": [
      "\u001b[1;31m---------------------------------------------------------------------------\u001b[0m",
      "\u001b[1;31mNameError\u001b[0m                                 Traceback (most recent call last)",
      "\u001b[1;32m<ipython-input-6-617c97bce81c>\u001b[0m in \u001b[0;36m<module>\u001b[1;34m\u001b[0m\n\u001b[1;32m----> 1\u001b[1;33m \u001b[0morder_num_i\u001b[0m\u001b[1;33m\u001b[0m\u001b[0m\n\u001b[0m",
      "\u001b[1;31mNameError\u001b[0m: name 'order_num_i' is not defined"
     ]
    }
   ],
   "source": [
    "for order_num_i in range(data['num_of_switch_orders']):    \n",
    "    data['order_num_i'] = order_num_i\n",
    "    if order_num_i == 0:\n",
    "        if data['open_order'] == order_num_i:\n",
    "            if data['to_order'] == 'long':                \n",
    "                data['open_order'] = order_num_i + 1\n",
    "                data['start_prices'] = {}\n",
    "                data = make_long_order(data)\n",
    "\n",
    "            elif data['to_order'] == 'short':\n",
    "                data['open_order'] = order_num_i + 1\n",
    "                data['start_prices'] = {}\n",
    "                data = make_short_order(data)\n",
    "\n",
    "    elif order_num_i > 0:\n",
    "        if data['open_order'] == order_num_i:\n",
    "            try:\n",
    "                data['orders_list'][order_num_i]['pl']\n",
    "                data['pl_available'] = True\n",
    "            except:\n",
    "                data['pl_available'] = False\n",
    "\n",
    "            if data['pl_available']:\n",
    "                # data['stop_loss_pip'] = min(data['min_stop_loss_pip'], -data['h_l_gap'] * data['stop_loss_multiplier'])\n",
    "                # if data['orders_list'][order_num_i]['open_order_type'] == 'short':\n",
    "                #     if data['orders_list'][order_num_i]['pl'] < 0:\n",
    "                #         if data['to_order'] == 'long':\n",
    "                #             data['open_order'] = order_num_i + 1\n",
    "                #             data = make_long_order(data)\n",
    "\n",
    "                # if data['orders_list'][order_num_i]['open_order_type'] == 'long':\n",
    "                #     if data['orders_list'][order_num_i]['pl'] < 0:\n",
    "                #         if data['to_order'] == 'short':\n",
    "                #             data['open_order'] = order_num_i + 1\n",
    "                #             data = make_short_order(data)\n",
    "\n",
    "                if data['orders_list'][order_num_i]['pl'] < data['stop_loss_pip']:\n",
    "                    if data['orders_list'][order_num_i]['open_order_type'] == 'long':\n",
    "                        # if data['tick_angle'] < -data['min_order_angle']:\n",
    "                        data['open_order'] = order_num_i + 1\n",
    "                        data = make_short_order(data)\n",
    "\n",
    "                    if data['orders_list'][order_num_i]['open_order_type'] == 'short':\n",
    "                        # if data['tick_angle'] > data['min_order_angle']:\n",
    "                        data['open_order'] = order_num_i + 1\n",
    "                        data = make_long_order(data)"
   ]
  }
 ],
 "metadata": {
  "kernelspec": {
   "display_name": "Python 3",
   "language": "python",
   "name": "python3"
  },
  "language_info": {
   "codemirror_mode": {
    "name": "ipython",
    "version": 3
   },
   "file_extension": ".py",
   "mimetype": "text/x-python",
   "name": "python",
   "nbconvert_exporter": "python",
   "pygments_lexer": "ipython3",
   "version": "3.6.6"
  }
 },
 "nbformat": 4,
 "nbformat_minor": 4
}
