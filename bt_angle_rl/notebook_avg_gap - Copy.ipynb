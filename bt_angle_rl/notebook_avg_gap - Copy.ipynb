{
 "cells": [
  {
   "cell_type": "markdown",
   "metadata": {},
   "source": [
    "# ML Trader"
   ]
  },
  {
   "cell_type": "code",
   "execution_count": 1,
   "metadata": {
    "scrolled": true
   },
   "outputs": [],
   "source": [
    "from utils.packages import *\n",
    "from utils.variables import *\n",
    "from utils.i_o import *\n",
    "from utils.dir_slope import *\n",
    "from utils.engine import *\n",
    "from utils.loops import *\n",
    "from utils.order import *\n",
    "import winsound"
   ]
  },
  {
   "cell_type": "code",
   "execution_count": 2,
   "metadata": {
    "scrolled": false
   },
   "outputs": [
    {
     "name": "stderr",
     "output_type": "stream",
     "text": [
      "100%|██████████████████████████████▉| 558758/559324 [00:41<00:00, 13060.25it/s]"
     ]
    },
    {
     "name": "stdout",
     "output_type": "stream",
     "text": [
      "pl    0.00549\n",
      "dtype: float64\n",
      "--------------------------------------\n",
      "             DateTime_frmt order_side               close_type       pl\n",
      "426884 2021-01-07 19:55:15      short  simple_slema_move_close  0.00043\n",
      "437421 2021-01-08 01:05:11       long                 reversed -0.00067\n",
      "443833 2021-01-08 02:23:52      short  simple_slema_move_close  0.00056\n",
      "458147 2021-01-08 07:31:01       long  simple_slema_move_close  0.00006\n",
      "458897 2021-01-08 07:40:32       long              simple_stop -0.00099\n",
      "471688 2021-01-08 09:15:36      short                 reversed -0.00107\n",
      "487647 2021-01-08 12:54:46       long  simple_slema_move_close  0.00152\n",
      "498217 2021-01-08 13:56:02       long  simple_slema_move_close  0.00178\n",
      "508256 2021-01-08 14:53:02       long                 reversed -0.00131\n",
      "519653 2021-01-08 15:52:04      short  simple_slema_move_close  0.00101\n",
      "521450 2021-01-08 16:00:30      short                 reversed -0.00160\n",
      "534502 2021-01-08 17:28:43       long              simple_stop -0.00247\n",
      "545409 2021-01-08 19:11:51      short  simple_slema_move_close  0.00232\n",
      "550515 2021-01-08 20:47:59      short                 reversed -0.00101\n",
      "556050 2021-01-10 23:07:46       long              simple_stop -0.00183\n"
     ]
    },
    {
     "name": "stderr",
     "output_type": "stream",
     "text": [
      "100%|███████████████████████████████| 559324/559324 [00:41<00:00, 13488.13it/s]\n"
     ]
    },
    {
     "name": "stdout",
     "output_type": "stream",
     "text": [
      "Wall time: 51.4 s\n"
     ]
    }
   ],
   "source": [
    "%%time\n",
    "data = run_engine(data)"
   ]
  },
  {
   "cell_type": "code",
   "execution_count": 3,
   "metadata": {
    "scrolled": false
   },
   "outputs": [
    {
     "name": "stdout",
     "output_type": "stream",
     "text": [
      "--------------------------------------\n",
      "Run Complete : data/ema_df-(2021-2021)-(1-1)-(1-11).csv\n",
      "--------------------------------------\n",
      "\n",
      "\n",
      "--------------------------------------\n",
      "Net PL\n",
      "0.0055\n",
      "--------------------------------------\n",
      "\n",
      "\n",
      "--------------------------------------\n",
      "Monthly PL\n",
      "                pl\n",
      "month_val         \n",
      "1          0.00549\n",
      "--------------------------------------\n",
      "\n",
      "\n",
      "--------------------------------------\n",
      "Daily PL\n",
      "               pl\n",
      "date_val         \n",
      "4         0.00349\n",
      "5        -0.00056\n",
      "6         0.00526\n",
      "7         0.00100\n",
      "8        -0.00187\n",
      "10       -0.00183\n",
      "--------------------------------------\n",
      "\n",
      "\n",
      "--------------------------------------\n",
      "Count of transactions by Close Type\n",
      "..................\n",
      "                         pl\n",
      "close_type                 \n",
      "reversed                 18\n",
      "simple_slema_move_close  32\n",
      "simple_stop               6\n",
      "--------------------------------------\n",
      "\n",
      "\n",
      "--------------------------------------\n",
      "Mean value of transactions by Close Type\n",
      "..................\n",
      "                               pl\n",
      "close_type                       \n",
      "reversed                -0.001041\n",
      "simple_slema_move_close  0.001049\n",
      "simple_stop             -0.001555\n",
      "--------------------------------------\n",
      "\n",
      "\n",
      "--------------------------------------\n",
      "Sum by Close Type\n",
      "..................\n",
      "                              pl\n",
      "close_type                      \n",
      "reversed                -0.01874\n",
      "simple_slema_move_close  0.03356\n",
      "simple_stop             -0.00933\n",
      "--------------------------------------\n",
      "\n",
      "\n",
      "--------------------------------------\n",
      "Average pips per day : 0.0009\n",
      "--------------------------------------\n",
      "\n",
      "\n",
      "--------------------------------------\n",
      "Average orders per day : 9.333333333333334\n",
      "--------------------------------------\n",
      "\n",
      "\n"
     ]
    }
   ],
   "source": [
    "generate_result_report(data)"
   ]
  },
  {
   "cell_type": "code",
   "execution_count": 4,
   "metadata": {},
   "outputs": [],
   "source": [
    "data[\"plot\"] = True\n",
    "data['plot_type'] = 'file'\n",
    "data['reduce_plot'] = True\n",
    "data['plot_start']  = '2021-01-7'\n",
    "data['plot_stop']   = '2021-01-8'\n",
    "# data['things_to_plot'] = ['tick', 'lema', 'h_l_lema', 'tick_angle', 'positions']\n",
    "data['things_to_plot'] = ['tick', 'ema', 'h_l_lema', 'tick_angle', 'positions']"
   ]
  },
  {
   "cell_type": "code",
   "execution_count": null,
   "metadata": {
    "scrolled": false
   },
   "outputs": [],
   "source": [
    "plot_graph(data)"
   ]
  }
 ],
 "metadata": {
  "kernelspec": {
   "display_name": "Python 3",
   "language": "python",
   "name": "python3"
  },
  "language_info": {
   "codemirror_mode": {
    "name": "ipython",
    "version": 3
   },
   "file_extension": ".py",
   "mimetype": "text/x-python",
   "name": "python",
   "nbconvert_exporter": "python",
   "pygments_lexer": "ipython3",
   "version": "3.6.6"
  }
 },
 "nbformat": 4,
 "nbformat_minor": 4
}
