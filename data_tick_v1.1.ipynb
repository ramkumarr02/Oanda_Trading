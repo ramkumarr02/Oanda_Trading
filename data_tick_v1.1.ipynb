{
 "cells": [
  {
   "cell_type": "markdown",
   "metadata": {},
   "source": [
    "# Data Preparation"
   ]
  },
  {
   "cell_type": "markdown",
   "metadata": {},
   "source": [
    "## Packages"
   ]
  },
  {
   "cell_type": "code",
   "execution_count": 10,
   "metadata": {
    "scrolled": true
   },
   "outputs": [],
   "source": [
    "import os\n",
    "import winsound\n",
    "import numpy as np\n",
    "import pandas as pd\n",
    "import datetime as dt\n",
    "from tqdm import tqdm\n",
    "tqdm.pandas()\n",
    "from multiprocessing import  Pool\n",
    "\n",
    "\n",
    "import math, collections\n",
    "from scipy.stats import linregress\n",
    "\n",
    "from matplotlib import pyplot as plt\n",
    "\n",
    "import warnings\n",
    "warnings.filterwarnings('ignore')"
   ]
  },
  {
   "cell_type": "code",
   "execution_count": 2,
   "metadata": {},
   "outputs": [],
   "source": [
    "def get_slope_s(y_axis):\n",
    "    global window_s_ma\n",
    "    x_axis = []\n",
    "    for i in range(window_s_ma):\n",
    "        x_axis.append(1 + ((i+1) * 0.0001 * 0.1))\n",
    "    \n",
    "    slope_tick, intercept, _, _, _ = linregress(x_axis, y_axis)\n",
    "    slope_tick = math.degrees(math.atan(slope_tick))\n",
    "    \n",
    "    return(slope_tick)\n",
    "\n",
    "def get_slope_l(y_axis):\n",
    "    global window_l_ma\n",
    "    x_axis = []\n",
    "    for i in range(window_l_ma):\n",
    "        x_axis.append(1 + ((i+1) * 0.0001 * 0.1))\n",
    "    \n",
    "    slope_tick, intercept, _, _, _ = linregress(x_axis, y_axis)\n",
    "    slope_tick = math.degrees(math.atan(slope_tick))\n",
    "    \n",
    "    return(slope_tick)"
   ]
  },
  {
   "cell_type": "code",
   "execution_count": 3,
   "metadata": {},
   "outputs": [],
   "source": [
    "def chunk_ticks(df, number_of_ticks):   \n",
    "    global pip_diff\n",
    "    \n",
    "    df['tick'] = (df['Bid'] + df['Ask'])/2\n",
    "    df['spread'] = df['Ask'] - df['Bid']\n",
    "    df = df[['tick', 'spread']]\n",
    "    \n",
    "    temp_df = pd.DataFrame()\n",
    "    tick_avg = []\n",
    "    spread_avg = []\n",
    "\n",
    "    for i in tqdm(range(0,len(df),number_of_ticks)):\n",
    "        tick_list = list(df['tick'][i:i+number_of_ticks])\n",
    "        spread_list = list(df['spread'][i:i+number_of_ticks])\n",
    "        \n",
    "        tick_avg.append(np.mean(tick_list))\n",
    "        spread_avg.append(np.mean(spread_list))\n",
    "\n",
    "    temp_df['tick_avg'] = tick_avg  \n",
    "    temp_df['spread_avg'] = spread_avg  \n",
    "    \n",
    "    return(temp_df)"
   ]
  },
  {
   "cell_type": "markdown",
   "metadata": {},
   "source": [
    "## Parameters"
   ]
  },
  {
   "cell_type": "code",
   "execution_count": 4,
   "metadata": {},
   "outputs": [],
   "source": [
    "#pd.DataFrame(np.random.rand(14,4), columns=['a', 'b', 'c', 'd'])\n",
    "\n",
    "year = 2019\n",
    "source_file_path = f'data/tick_{year}.csv'\n",
    "path, file_name = os.path.split(source_file_path)\n",
    "\n",
    "target_file_name = 'tab_'+file_name\n",
    "target_file_path = os.path.join(path, target_file_name)\n",
    "\n",
    "chunk_file_name = 'chunk_'+file_name\n",
    "chunk_file_path = os.path.join(path, chunk_file_name)\n",
    "\n",
    "number_of_ticks = 10\n",
    "pip_diff = 0.00001\n",
    "rsi_window = 10\n",
    "rs_max = 1e6\n",
    "window_s_ma = 10\n",
    "window_l_ma = 100"
   ]
  },
  {
   "cell_type": "markdown",
   "metadata": {},
   "source": [
    "## Read data"
   ]
  },
  {
   "cell_type": "markdown",
   "metadata": {
    "scrolled": true
   },
   "source": [
    "%%time\n",
    "\n",
    "#df = pd.read_csv(source_file_path, nrows=10000)\n",
    "df = pd.read_csv(source_file_path)\n",
    "df.head()"
   ]
  },
  {
   "cell_type": "markdown",
   "metadata": {},
   "source": [
    "## Data manipulation"
   ]
  },
  {
   "cell_type": "markdown",
   "metadata": {
    "scrolled": true
   },
   "source": [
    "%%time\n",
    "df = chunk_ticks(df, number_of_ticks)\n",
    "\n",
    "df.to_csv(chunk_file_path, index = False)\n",
    "print(f'Records : {len(df)}')\n",
    "df.head()"
   ]
  },
  {
   "cell_type": "code",
   "execution_count": 12,
   "metadata": {},
   "outputs": [
    {
     "name": "stdout",
     "output_type": "stream",
     "text": [
      "Wall time: 8 ms\n"
     ]
    },
    {
     "data": {
      "text/html": [
       "<div>\n",
       "<style scoped>\n",
       "    .dataframe tbody tr th:only-of-type {\n",
       "        vertical-align: middle;\n",
       "    }\n",
       "\n",
       "    .dataframe tbody tr th {\n",
       "        vertical-align: top;\n",
       "    }\n",
       "\n",
       "    .dataframe thead th {\n",
       "        text-align: right;\n",
       "    }\n",
       "</style>\n",
       "<table border=\"1\" class=\"dataframe\">\n",
       "  <thead>\n",
       "    <tr style=\"text-align: right;\">\n",
       "      <th></th>\n",
       "      <th>tick_avg</th>\n",
       "      <th>spread_avg</th>\n",
       "    </tr>\n",
       "  </thead>\n",
       "  <tbody>\n",
       "    <tr>\n",
       "      <th>0</th>\n",
       "      <td>1.146424</td>\n",
       "      <td>0.000826</td>\n",
       "    </tr>\n",
       "    <tr>\n",
       "      <th>1</th>\n",
       "      <td>1.146383</td>\n",
       "      <td>0.000638</td>\n",
       "    </tr>\n",
       "    <tr>\n",
       "      <th>2</th>\n",
       "      <td>1.146515</td>\n",
       "      <td>0.000694</td>\n",
       "    </tr>\n",
       "    <tr>\n",
       "      <th>3</th>\n",
       "      <td>1.146503</td>\n",
       "      <td>0.000615</td>\n",
       "    </tr>\n",
       "    <tr>\n",
       "      <th>4</th>\n",
       "      <td>1.146400</td>\n",
       "      <td>0.000404</td>\n",
       "    </tr>\n",
       "  </tbody>\n",
       "</table>\n",
       "</div>"
      ],
      "text/plain": [
       "   tick_avg  spread_avg\n",
       "0  1.146424    0.000826\n",
       "1  1.146383    0.000638\n",
       "2  1.146515    0.000694\n",
       "3  1.146503    0.000615\n",
       "4  1.146400    0.000404"
      ]
     },
     "execution_count": 12,
     "metadata": {},
     "output_type": "execute_result"
    }
   ],
   "source": [
    "%%time\n",
    "df = pd.read_csv(chunk_file_path, nrows=1000)\n",
    "df.head()"
   ]
  },
  {
   "cell_type": "code",
   "execution_count": 8,
   "metadata": {},
   "outputs": [
    {
     "name": "stderr",
     "output_type": "stream",
     "text": [
      "991it [00:00, 1259.49it/s]\n",
      "901it [00:00, 1085.64it/s]"
     ]
    },
    {
     "name": "stdout",
     "output_type": "stream",
     "text": [
      "Total records : 901\n",
      "Wall time: 1.67 s\n"
     ]
    },
    {
     "name": "stderr",
     "output_type": "stream",
     "text": [
      "\n"
     ]
    }
   ],
   "source": [
    "%%time\n",
    "\n",
    "df['tick_diff'] = df['tick_avg'].diff()\n",
    "\n",
    "# Moving Averages ------------------\n",
    "df['sema'] = df['tick_avg'].ewm(span=window_s_ma).mean()\n",
    "df['lema'] = df['tick_avg'].ewm(span=window_l_ma).mean()\n",
    "df['ema_diff'] = df['sema'] - df['tick_avg']\n",
    "\n",
    "\n",
    "# RSI -----------------------------\n",
    "df['diff'] = df['sema'].diff()\n",
    "df['gain'] = 0\n",
    "df['loss'] = 0\n",
    "df['gain'].loc[df['diff'] > 0] = abs(df['diff'])\n",
    "df['loss'].loc[df['diff'] < 0] = abs(df['diff'])\n",
    "df['avg_gain'] = df['gain'].rolling(window=rsi_window).mean()\n",
    "df['avg_loss'] = df['loss'].rolling(window=rsi_window).mean()\n",
    "df['rs'] = df['avg_gain']/df['avg_loss']\n",
    "df['rs'] = df['rs'].where(df['rs'] <= rs_max, rs_max) \n",
    "df['rsi'] = 100 - (100 / (df['rs'] + 1))\n",
    "\n",
    "# Slopes -----------------------------\n",
    "df['small_sema_slope'] = df['sema'].rolling(window=window_s_ma).progress_apply(get_slope_s)\n",
    "df['long_sema_slope'] = df['sema'].rolling(window=window_l_ma).progress_apply(get_slope_l)\n",
    "\n",
    "# Direction -------------------------\n",
    "diff_col = 'sema'\n",
    "df['direction'] = 'same'\n",
    "df['direction'].loc[df[diff_col].shift(-1) - df[diff_col] > pip_diff] = 'increase'\n",
    "df['direction'].loc[df[diff_col].shift(-1) - df[diff_col] < -pip_diff] = 'decrease'\n",
    "\n",
    "# Remove NaNs ------------------------\n",
    "df = df.dropna()\n",
    "df = df.reset_index(drop=True)\n",
    "print(f'Total records : {len(df)}')"
   ]
  },
  {
   "cell_type": "markdown",
   "metadata": {},
   "source": [
    "## Write data to csv"
   ]
  },
  {
   "cell_type": "code",
   "execution_count": null,
   "metadata": {},
   "outputs": [],
   "source": [
    "%%time\n",
    "df.to_csv(target_file_path, index = False)\n",
    "winsound.PlaySound('C:\\\\Windows\\\\Media\\\\tada.wav', winsound.SND_ASYNC)"
   ]
  },
  {
   "cell_type": "markdown",
   "metadata": {},
   "source": [
    "## Print Report"
   ]
  },
  {
   "cell_type": "code",
   "execution_count": null,
   "metadata": {},
   "outputs": [],
   "source": [
    "g= df['direction']\n",
    "print(pd.concat([g.value_counts(), g.value_counts(normalize=True).mul(100)],axis=1, keys=('counts','percentage')))"
   ]
  },
  {
   "cell_type": "code",
   "execution_count": 9,
   "metadata": {
    "scrolled": false
   },
   "outputs": [
    {
     "data": {
      "text/html": [
       "<div>\n",
       "<style scoped>\n",
       "    .dataframe tbody tr th:only-of-type {\n",
       "        vertical-align: middle;\n",
       "    }\n",
       "\n",
       "    .dataframe tbody tr th {\n",
       "        vertical-align: top;\n",
       "    }\n",
       "\n",
       "    .dataframe thead th {\n",
       "        text-align: right;\n",
       "    }\n",
       "</style>\n",
       "<table border=\"1\" class=\"dataframe\">\n",
       "  <thead>\n",
       "    <tr style=\"text-align: right;\">\n",
       "      <th></th>\n",
       "      <th>tick_avg</th>\n",
       "      <th>spread_avg</th>\n",
       "      <th>tick_diff</th>\n",
       "      <th>sema</th>\n",
       "      <th>lema</th>\n",
       "      <th>ema_diff</th>\n",
       "      <th>diff</th>\n",
       "      <th>gain</th>\n",
       "      <th>loss</th>\n",
       "      <th>avg_gain</th>\n",
       "      <th>avg_loss</th>\n",
       "      <th>rs</th>\n",
       "      <th>rsi</th>\n",
       "      <th>small_sema_slope</th>\n",
       "      <th>long_sema_slope</th>\n",
       "      <th>direction</th>\n",
       "    </tr>\n",
       "  </thead>\n",
       "  <tbody>\n",
       "    <tr>\n",
       "      <th>0</th>\n",
       "      <td>1.146314</td>\n",
       "      <td>0.000191</td>\n",
       "      <td>-0.000032</td>\n",
       "      <td>1.146333</td>\n",
       "      <td>1.146333</td>\n",
       "      <td>0.000018</td>\n",
       "      <td>-4.057722e-06</td>\n",
       "      <td>0.0</td>\n",
       "      <td>4.057722e-06</td>\n",
       "      <td>0.000001</td>\n",
       "      <td>4.898769e-07</td>\n",
       "      <td>3.046879</td>\n",
       "      <td>75.289598</td>\n",
       "      <td>7.069366</td>\n",
       "      <td>-13.017403</td>\n",
       "      <td>same</td>\n",
       "    </tr>\n",
       "    <tr>\n",
       "      <th>1</th>\n",
       "      <td>1.146317</td>\n",
       "      <td>0.000255</td>\n",
       "      <td>0.000003</td>\n",
       "      <td>1.146330</td>\n",
       "      <td>1.146333</td>\n",
       "      <td>0.000012</td>\n",
       "      <td>-2.774500e-06</td>\n",
       "      <td>0.0</td>\n",
       "      <td>2.774500e-06</td>\n",
       "      <td>0.000001</td>\n",
       "      <td>7.673269e-07</td>\n",
       "      <td>1.772987</td>\n",
       "      <td>63.937800</td>\n",
       "      <td>4.964546</td>\n",
       "      <td>-12.938307</td>\n",
       "      <td>same</td>\n",
       "    </tr>\n",
       "    <tr>\n",
       "      <th>2</th>\n",
       "      <td>1.146327</td>\n",
       "      <td>0.000213</td>\n",
       "      <td>0.000009</td>\n",
       "      <td>1.146329</td>\n",
       "      <td>1.146333</td>\n",
       "      <td>0.000003</td>\n",
       "      <td>-6.336818e-07</td>\n",
       "      <td>0.0</td>\n",
       "      <td>6.336818e-07</td>\n",
       "      <td>0.000001</td>\n",
       "      <td>8.306951e-07</td>\n",
       "      <td>1.409099</td>\n",
       "      <td>58.490704</td>\n",
       "      <td>2.961423</td>\n",
       "      <td>-12.929473</td>\n",
       "      <td>same</td>\n",
       "    </tr>\n",
       "    <tr>\n",
       "      <th>3</th>\n",
       "      <td>1.146280</td>\n",
       "      <td>0.000273</td>\n",
       "      <td>-0.000047</td>\n",
       "      <td>1.146320</td>\n",
       "      <td>1.146331</td>\n",
       "      <td>0.000041</td>\n",
       "      <td>-9.063921e-06</td>\n",
       "      <td>0.0</td>\n",
       "      <td>9.063921e-06</td>\n",
       "      <td>0.000001</td>\n",
       "      <td>1.737087e-06</td>\n",
       "      <td>0.589623</td>\n",
       "      <td>37.091993</td>\n",
       "      <td>-1.558345</td>\n",
       "      <td>-12.794593</td>\n",
       "      <td>decrease</td>\n",
       "    </tr>\n",
       "    <tr>\n",
       "      <th>4</th>\n",
       "      <td>1.146262</td>\n",
       "      <td>0.000340</td>\n",
       "      <td>-0.000018</td>\n",
       "      <td>1.146310</td>\n",
       "      <td>1.146330</td>\n",
       "      <td>0.000048</td>\n",
       "      <td>-1.059775e-05</td>\n",
       "      <td>0.0</td>\n",
       "      <td>1.059775e-05</td>\n",
       "      <td>0.000001</td>\n",
       "      <td>2.796863e-06</td>\n",
       "      <td>0.365661</td>\n",
       "      <td>26.775385</td>\n",
       "      <td>-8.822273</td>\n",
       "      <td>-12.624174</td>\n",
       "      <td>same</td>\n",
       "    </tr>\n",
       "  </tbody>\n",
       "</table>\n",
       "</div>"
      ],
      "text/plain": [
       "   tick_avg  spread_avg  tick_diff      sema      lema  ema_diff  \\\n",
       "0  1.146314    0.000191  -0.000032  1.146333  1.146333  0.000018   \n",
       "1  1.146317    0.000255   0.000003  1.146330  1.146333  0.000012   \n",
       "2  1.146327    0.000213   0.000009  1.146329  1.146333  0.000003   \n",
       "3  1.146280    0.000273  -0.000047  1.146320  1.146331  0.000041   \n",
       "4  1.146262    0.000340  -0.000018  1.146310  1.146330  0.000048   \n",
       "\n",
       "           diff  gain          loss  avg_gain      avg_loss        rs  \\\n",
       "0 -4.057722e-06   0.0  4.057722e-06  0.000001  4.898769e-07  3.046879   \n",
       "1 -2.774500e-06   0.0  2.774500e-06  0.000001  7.673269e-07  1.772987   \n",
       "2 -6.336818e-07   0.0  6.336818e-07  0.000001  8.306951e-07  1.409099   \n",
       "3 -9.063921e-06   0.0  9.063921e-06  0.000001  1.737087e-06  0.589623   \n",
       "4 -1.059775e-05   0.0  1.059775e-05  0.000001  2.796863e-06  0.365661   \n",
       "\n",
       "         rsi  small_sema_slope  long_sema_slope direction  \n",
       "0  75.289598          7.069366       -13.017403      same  \n",
       "1  63.937800          4.964546       -12.938307      same  \n",
       "2  58.490704          2.961423       -12.929473      same  \n",
       "3  37.091993         -1.558345       -12.794593  decrease  \n",
       "4  26.775385         -8.822273       -12.624174      same  "
      ]
     },
     "execution_count": 9,
     "metadata": {},
     "output_type": "execute_result"
    }
   ],
   "source": [
    "df.head(5)"
   ]
  }
 ],
 "metadata": {
  "kernelspec": {
   "display_name": "Python 3.6.6 64-bit",
   "language": "python",
   "name": "python36664bitab910dfda0bc43a8bf7df0c20d1c59f2"
  },
  "language_info": {
   "codemirror_mode": {
    "name": "ipython",
    "version": 3
   },
   "file_extension": ".py",
   "mimetype": "text/x-python",
   "name": "python",
   "nbconvert_exporter": "python",
   "pygments_lexer": "ipython3",
   "version": "3.6.6"
  }
 },
 "nbformat": 4,
 "nbformat_minor": 4
}
