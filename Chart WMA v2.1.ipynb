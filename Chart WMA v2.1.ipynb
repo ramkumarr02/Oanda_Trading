{
 "cells": [
  {
   "cell_type": "markdown",
   "metadata": {},
   "source": [
    "# WMA Charting Notebook"
   ]
  },
  {
   "cell_type": "markdown",
   "metadata": {},
   "source": [
    "#### Packages and Tools"
   ]
  },
  {
   "cell_type": "code",
   "execution_count": 1,
   "metadata": {},
   "outputs": [],
   "source": [
    "from utils.packages import *\n",
    "from utils.tools import *\n",
    "%matplotlib inline"
   ]
  },
  {
   "cell_type": "markdown",
   "metadata": {},
   "source": [
    "#### Read from config file"
   ]
  },
  {
   "cell_type": "code",
   "execution_count": 2,
   "metadata": {
    "scrolled": true
   },
   "outputs": [],
   "source": [
    "temp_file = 'config/access_keys.yaml'\n",
    "with open(temp_file) as temp_file:\n",
    "    config = yaml.load(temp_file)\n",
    "    \n",
    "temp_file = 'config/wma.yaml'\n",
    "with open(temp_file) as temp_file:\n",
    "    wma = yaml.load(temp_file)    "
   ]
  },
  {
   "cell_type": "code",
   "execution_count": 3,
   "metadata": {},
   "outputs": [],
   "source": [
    "slope_num = 20"
   ]
  },
  {
   "cell_type": "code",
   "execution_count": 4,
   "metadata": {},
   "outputs": [],
   "source": [
    "instrument = wma['curr']['instrument']    \n",
    "pip = wma['pip_size'][instrument]\n",
    "\n",
    "short_moving_window = wma['wma']['short_moving_window']\n",
    "long_moving_window = wma['wma']['long_moving_window']\n",
    "lists_size = wma['wma']['lists_size']\n",
    "\n",
    "access_token = config['oanda_demo_account']['token']\n",
    "accountID = config['oanda_demo_account']['account_id']"
   ]
  },
  {
   "cell_type": "code",
   "execution_count": 5,
   "metadata": {},
   "outputs": [],
   "source": [
    "def get_slopes(short_wma_list, long_wma_list, num):\n",
    "    short_slope_y = list(short_wma_list)[-num:]\n",
    "    #short_slope_x = list(np.arange(1,len(short_slope_y)+1))\n",
    "    short_slope_x = list(np.arange(lists_size - slope_num + 1, lists_size+1))\n",
    "    short_slope, short_intercept = np.polyfit(short_slope_x, short_slope_y, 1)\n",
    "    abline_short = [short_slope * i + short_intercept for i in short_slope_x]\n",
    "    \n",
    "    long_slope_y = list(long_wma_list)[-num:]\n",
    "    #long_slope_x = list(np.arange(1,len(long_slope_y)+1))\n",
    "    long_slope_x = list(np.arange(lists_size - slope_num + 1, lists_size+1))\n",
    "    long_slope, long_intercept = np.polyfit(long_slope_x, long_slope_y, 1)\n",
    "    abline_long = [long_slope * i + long_intercept for i in long_slope_x]\n",
    "    \n",
    "    numerator = short_slope - long_slope\n",
    "    denominator = 1 + (short_slope * long_slope)\n",
    "    angle = math.degrees(math.atan(abs(numerator / denominator)))\n",
    "    angle = round(angle, 4)\n",
    "\n",
    "    return(short_slope_x, long_slope_x, abline_short, abline_long, angle)"
   ]
  },
  {
   "cell_type": "markdown",
   "metadata": {},
   "source": [
    "#### Code Engine"
   ]
  },
  {
   "cell_type": "code",
   "execution_count": 6,
   "metadata": {
    "scrolled": true
   },
   "outputs": [
    {
     "name": "stderr",
     "output_type": "stream",
     "text": [
      "1it [00:05,  5.97s/it]"
     ]
    },
    {
     "name": "stdout",
     "output_type": "stream",
     "text": [
      "seconds_elapsed:6.0\n",
      "sec_per_iter:6.0\n",
      "iter_counts:2 --- iter_per:1.0\n",
      "heart_beats:0 --- heart_per:0.0\n"
     ]
    },
    {
     "name": "stderr",
     "output_type": "stream",
     "text": [
      "\n"
     ]
    }
   ],
   "source": [
    "seconds_elapsed, sec_per_iter, iter_counts, heart_beats, iter_per, heart_per = get_hit_speed(access_token, \n",
    "                                                                                             accountID, \n",
    "                                                                                             instrument, \n",
    "                                                                                             iter_limit = 2)"
   ]
  },
  {
   "cell_type": "code",
   "execution_count": null,
   "metadata": {
    "scrolled": true
   },
   "outputs": [],
   "source": [
    "api = API(access_token = access_token)\n",
    "params = {'instruments': instrument}\n",
    "order_flag = 'not_ordered'\n",
    "r = pricing.PricingStream(accountID=accountID, params=params)\n",
    "rv = api.request(r)\n",
    "\n",
    "short_wma = 0\n",
    "short_flag = True\n",
    "short_list = collections.deque([])\n",
    "short_wma_list = collections.deque([])\n",
    "short_weights = get_weights(short_moving_window)\n",
    "\n",
    "stan_dev = 0\n",
    "stan_dev_list = collections.deque([])\n",
    "\n",
    "long_wma = 0\n",
    "long_flag = True\n",
    "long_list = collections.deque([])\n",
    "long_wma_list = collections.deque([])\n",
    "long_weights = get_weights(long_moving_window)\n",
    "\n",
    "tick_list = collections.deque([])\n",
    "\n",
    "start_time = time.time()\n",
    "time_flag = True \n",
    "long_list_counter = 0\n",
    "\n",
    "list_ready = False\n",
    "\n",
    "for i, resp in enumerate(rv):        \n",
    "    resp_type = resp['type']       \n",
    "\n",
    "    # Heart beat response to keep the api connection alive (Avoid timeout)\n",
    "    if resp_type == 'HEARTBEAT': \n",
    "        pass\n",
    "    #-----------------------------------------------------------------------------------------------------\n",
    "    \n",
    "    \n",
    "    # Price response \n",
    "    elif resp_type == 'PRICE': # Check if we are yet to make the order               \n",
    "        \n",
    "        #Decode values from response\n",
    "        date_val, time_val, time_fraction = get_date_time(resp) # Get time stamp for reference            \n",
    "        sell_price, buy_price, spread, tick_price = get_prices(resp) # Get prices from the response \n",
    "        #-----------------------------------------------------------------------------------------\n",
    "        \n",
    "        #Prepare short list to calculate WMA of shortwindows\n",
    "        if len(short_list) < short_moving_window:\n",
    "            short_list.append(tick_price)\n",
    "\n",
    "        # Calculate wma for first iteration\n",
    "        if short_flag and len(short_list) == short_moving_window:\n",
    "            short_wma = sum(np.array(short_list)*short_weights)\n",
    "            short_flag =  False\n",
    "\n",
    "        # Calculate wma from the second iteration\n",
    "        if short_flag == False and len(short_list) == short_moving_window:\n",
    "            short_list.popleft()   \n",
    "            short_list.append(tick_price) \n",
    "            short_wma = sum(np.array(short_list)*short_weights)\n",
    "            stan_dev = statistics.stdev(short_list)\n",
    "            stan_dev = stan_dev * 10**5\n",
    "\n",
    "        # Append WMA list\n",
    "        if len(short_list) == short_moving_window:\n",
    "            if len(short_wma_list) < lists_size:\n",
    "                short_wma_list.append(short_wma)\n",
    "                #stan_dev_list.append(stan_dev)\n",
    "\n",
    "            elif len(short_wma_list) == lists_size:\n",
    "                short_wma_list.popleft()   \n",
    "                short_wma_list.append(short_wma) \n",
    "                \n",
    "                #stan_dev_list.popleft() \n",
    "                #stan_dev_list.append(stan_dev)\n",
    "                \n",
    "        #print(f'short_wma_list : {len(short_wma_list)}')\n",
    "        #-----------------------------------------------------------------------------------------\n",
    "        \n",
    "        \n",
    "        #Prepare long list to calculate WMA of longwindows\n",
    "        if len(long_list) < long_moving_window:\n",
    "            long_list.append(tick_price)\n",
    "            \n",
    "         # Calculate wma for first iteration\n",
    "        if long_flag and len(long_list) == long_moving_window:\n",
    "            long_wma = sum(np.array(long_list)*long_weights)\n",
    "            long_flag =  False\n",
    "\n",
    "        # Calculate wma from the second iteration\n",
    "        if long_flag == False and len(long_list) == long_moving_window:\n",
    "            long_list.popleft()   \n",
    "            long_list.append(tick_price) \n",
    "            long_wma = sum(np.array(long_list)*long_weights)\n",
    "\n",
    "        # Append WMA list\n",
    "        if len(long_list) == long_moving_window:\n",
    "            if len(long_wma_list) < lists_size:\n",
    "                long_wma_list.append(long_wma)\n",
    "                tick_list.append(tick_price)\n",
    "\n",
    "            # If WMA list reached required size start plotting\n",
    "            elif len(long_wma_list) == lists_size:\n",
    "                if time_flag:\n",
    "                    end_time = time.time()    \n",
    "                    duration = calc_duration(start_time, end_time)\n",
    "                    time_flag = False\n",
    "                    \n",
    "                    df_wma = pd.DataFrame()\n",
    "                    df_wma['seconds_elapsed'] = [seconds_elapsed]\n",
    "                    df_wma['sec_per_iter'] = [sec_per_iter]\n",
    "                    df_wma['iter_counts'] = [iter_counts]\n",
    "                    df_wma['heart_beats'] = [heart_beats]\n",
    "                    df_wma['iter_per'] = [iter_per]\n",
    "                    df_wma['heart_per'] = [heart_per]\n",
    "                    df_wma['short_moving_window'] = [short_moving_window]\n",
    "                    df_wma['long_moving_window'] = [long_moving_window]\n",
    "                    df_wma['lists_size'] = [lists_size]\n",
    "                    df_wma['chart_duration'] = [duration]\n",
    "                    df_wma.to_csv('data/machine_use/wma_chart.csv', mode='a', header=False, index = False)\n",
    "                    winsound.PlaySound('C:\\\\Windows\\\\Media\\\\tada.wav', winsound.SND_ASYNC)           \n",
    "\n",
    "                plt.close()\n",
    "                long_wma_list.popleft()   \n",
    "                long_wma_list.append(long_wma)  \n",
    "                \n",
    "                tick_list.popleft()   \n",
    "                tick_list.append(tick_price)\n",
    "                \n",
    "                short_slope_x, long_slope_x, abline_short, abline_long, angle = get_slopes(short_wma_list, long_wma_list, slope_num)\n",
    "                \n",
    "                fig, ax1 = plt.subplots(1,1, figsize=(20,7.5))\n",
    "                ax2 = ax1.twinx()\n",
    "\n",
    "                ax1.plot(long_wma_list,'b' ,label=\"long wma\")\n",
    "                ax1.plot(tick_list, 'r' ,label=\"tick\")\n",
    "                ax1.plot(short_slope_x, abline_short, 'k--')\n",
    "                ax1.plot(long_slope_x, abline_long, 'b--')\n",
    "                ax1.text(0.80, 0.95, angle, transform=plt.gca().transAxes, fontsize=15)\n",
    "\n",
    "                #ax2.plot(stan_dev_list,'y--' ,label=\"std dev\")\n",
    "\n",
    "                ax1.legend(loc=\"upper left\")\n",
    "                #ax2.legend(loc=\"upper right\")\n",
    "\n",
    "                display.display(plt.gcf())\n",
    "                display.clear_output(wait = True)                "
   ]
  },
  {
   "cell_type": "code",
   "execution_count": null,
   "metadata": {},
   "outputs": [],
   "source": [
    "short_slope_x, long_slope_x, abline_short, abline_long, angle = get_slopes(short_wma_list, long_wma_list, slope_num)"
   ]
  },
  {
   "cell_type": "code",
   "execution_count": null,
   "metadata": {},
   "outputs": [],
   "source": [
    "numerator = short_slope - long_slope\n",
    "denominator = 1 + (short_slope * long_slope)\n",
    "angle = math.degrees(math.atan(abs(numerator / denominator)))"
   ]
  },
  {
   "cell_type": "code",
   "execution_count": null,
   "metadata": {},
   "outputs": [],
   "source": [
    "df_copy = pd.read_csv('data/machine_use/wma_chart.csv')\n",
    "df_copy.to_csv('data/wma_chart.csv', index = False)                        "
   ]
  },
  {
   "cell_type": "code",
   "execution_count": null,
   "metadata": {
    "scrolled": true
   },
   "outputs": [],
   "source": [
    "'''\n",
    "df = pd.DataFrame({'tick_list':tick_list, \n",
    "                   'short_wma_list':short_wma_list, \n",
    "                   'stan_dev_list':stan_dev_list,\n",
    "                   'long_wma_list':long_wma_list},\n",
    "                  columns = ['tick_list', 'short_wma_list', 'long_wma_list','stan_dev_list'])\n",
    "\n",
    "df.head()\n",
    "'''"
   ]
  },
  {
   "cell_type": "code",
   "execution_count": null,
   "metadata": {
    "scrolled": false
   },
   "outputs": [],
   "source": [
    "fig, ax1 = plt.subplots(1,1, figsize=(20,7.5))\n",
    "ax2 = ax1.twinx()\n",
    "\n",
    "ax1.plot(short_wma_list, 'k' ,label=\"short wma\")\n",
    "ax1.plot(long_wma_list,'b' ,label=\"long wma\")\n",
    "ax1.plot(tick_list, 'r' ,label=\"tick\")\n",
    "ax1.plot(short_slope_x, abline_short, 'k--')\n",
    "ax1.plot(long_slope_x, abline_long, 'b--')\n",
    "ax1.text(0.80, 0.95, angle, transform=plt.gca().transAxes, fontsize=15)\n",
    "\n",
    "#ax2.plot(stan_dev_list,'y--' ,label=\"std dev\")\n",
    "\n",
    "ax1.legend(loc=\"upper left\")\n",
    "#ax2.legend(loc=\"upper right\")\n"
   ]
  },
  {
   "cell_type": "code",
   "execution_count": null,
   "metadata": {},
   "outputs": [],
   "source": [
    "'''\n",
    "from IPython.display import clear_output\n",
    "import time\n",
    "\n",
    "for i in range(10):\n",
    "    clear_output(wait=True)\n",
    "    time.sleep(1)\n",
    "    print(i)    \n",
    "'''"
   ]
  }
 ],
 "metadata": {
  "kernelspec": {
   "display_name": "Python 3",
   "language": "python",
   "name": "python3"
  },
  "language_info": {
   "codemirror_mode": {
    "name": "ipython",
    "version": 3
   },
   "file_extension": ".py",
   "mimetype": "text/x-python",
   "name": "python",
   "nbconvert_exporter": "python",
   "pygments_lexer": "ipython3",
   "version": "3.6.6"
  }
 },
 "nbformat": 4,
 "nbformat_minor": 4
}
