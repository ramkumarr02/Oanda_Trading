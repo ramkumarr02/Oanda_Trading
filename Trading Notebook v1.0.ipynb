{
 "cells": [
  {
   "cell_type": "markdown",
   "metadata": {},
   "source": [
    "# Oanda Demo Trading Notebook"
   ]
  },
  {
   "cell_type": "markdown",
   "metadata": {},
   "source": [
    "#### Packages"
   ]
  },
  {
   "cell_type": "markdown",
   "metadata": {},
   "source": [
    "Normal Packages"
   ]
  },
  {
   "cell_type": "code",
   "execution_count": 1,
   "metadata": {},
   "outputs": [],
   "source": [
    "import yaml\n",
    "import warnings\n",
    "import json\n",
    "import numpy as np\n",
    "import pandas as pd\n",
    "warnings.filterwarnings('ignore')"
   ]
  },
  {
   "cell_type": "markdown",
   "metadata": {},
   "source": [
    "Oanda Packages"
   ]
  },
  {
   "cell_type": "code",
   "execution_count": 7,
   "metadata": {},
   "outputs": [],
   "source": [
    "from oandapyV20 import API\n",
    "import oandapyV20.endpoints.trades as trades\n",
    "import oandapyV20.endpoints.pricing as pricing\n",
    "import oandapyV20.endpoints.accounts as accounts"
   ]
  },
  {
   "cell_type": "markdown",
   "metadata": {},
   "source": [
    "#### API Setup"
   ]
  },
  {
   "cell_type": "markdown",
   "metadata": {},
   "source": [
    "Read from config file"
   ]
  },
  {
   "cell_type": "code",
   "execution_count": 3,
   "metadata": {},
   "outputs": [],
   "source": [
    "config_file = 'config/access_token.yaml'\n",
    "\n",
    "with open(config_file) as c_file:\n",
    "    config = yaml.load(c_file)\n",
    "\n",
    "access_token = config['oanda_demo_account']['token']\n",
    "accountID = config['oanda_demo_account']['account_id']\n",
    "\n",
    "api = API(access_token = access_token)"
   ]
  },
  {
   "cell_type": "markdown",
   "metadata": {},
   "source": [
    "Get Trade list"
   ]
  },
  {
   "cell_type": "code",
   "execution_count": 4,
   "metadata": {},
   "outputs": [
    {
     "name": "stdout",
     "output_type": "stream",
     "text": [
      "{'trades': [], 'lastTransactionID': '23'}\n"
     ]
    }
   ],
   "source": [
    "trade_info = trades.TradesList(accountID)\n",
    "api.request(trade_info)\n",
    "print(trade_info.response)"
   ]
  },
  {
   "cell_type": "markdown",
   "metadata": {},
   "source": [
    "Get currency details"
   ]
  },
  {
   "cell_type": "code",
   "execution_count": 5,
   "metadata": {},
   "outputs": [
    {
     "name": "stdout",
     "output_type": "stream",
     "text": [
      "{'time': '2020-06-04T09:36:15.842179318Z', 'prices': [{'type': 'PRICE', 'time': '2020-06-04T09:36:15.826378113Z', 'bids': [{'price': '1.11988', 'liquidity': 1000000}, {'price': '1.11987', 'liquidity': 2000000}, {'price': '1.11986', 'liquidity': 2000000}, {'price': '1.11984', 'liquidity': 5000000}], 'asks': [{'price': '1.11995', 'liquidity': 1000000}, {'price': '1.11997', 'liquidity': 2000000}, {'price': '1.11998', 'liquidity': 2000000}, {'price': '1.11999', 'liquidity': 5000000}], 'closeoutBid': '1.11984', 'closeoutAsk': '1.11999', 'status': 'tradeable', 'tradeable': True, 'unitsAvailable': {'default': {'long': '1273674', 'short': '1273674'}, 'openOnly': {'long': '1273674', 'short': '1273674'}, 'reduceFirst': {'long': '1273674', 'short': '1273674'}, 'reduceOnly': {'long': '0', 'short': '0'}}, 'quoteHomeConversionFactors': {'positiveUnits': '1.40201000', 'negativeUnits': '1.40223000'}, 'instrument': 'EUR_USD'}]}\n",
      "----------------\n"
     ]
    },
    {
     "data": {
      "text/html": [
       "<div>\n",
       "<style scoped>\n",
       "    .dataframe tbody tr th:only-of-type {\n",
       "        vertical-align: middle;\n",
       "    }\n",
       "\n",
       "    .dataframe tbody tr th {\n",
       "        vertical-align: top;\n",
       "    }\n",
       "\n",
       "    .dataframe thead th {\n",
       "        text-align: right;\n",
       "    }\n",
       "</style>\n",
       "<table border=\"1\" class=\"dataframe\">\n",
       "  <thead>\n",
       "    <tr style=\"text-align: right;\">\n",
       "      <th></th>\n",
       "      <th>type</th>\n",
       "      <th>time</th>\n",
       "      <th>bids</th>\n",
       "      <th>asks</th>\n",
       "      <th>closeoutBid</th>\n",
       "      <th>closeoutAsk</th>\n",
       "      <th>status</th>\n",
       "      <th>tradeable</th>\n",
       "      <th>unitsAvailable</th>\n",
       "      <th>quoteHomeConversionFactors</th>\n",
       "      <th>instrument</th>\n",
       "    </tr>\n",
       "  </thead>\n",
       "  <tbody>\n",
       "    <tr>\n",
       "      <th>0</th>\n",
       "      <td>PRICE</td>\n",
       "      <td>2020-06-04T09:36:15.826378113Z</td>\n",
       "      <td>[{'price': '1.11988', 'liquidity': 1000000}, {...</td>\n",
       "      <td>[{'price': '1.11995', 'liquidity': 1000000}, {...</td>\n",
       "      <td>1.11984</td>\n",
       "      <td>1.11999</td>\n",
       "      <td>tradeable</td>\n",
       "      <td>True</td>\n",
       "      <td>{'default': {'long': '1273674', 'short': '1273...</td>\n",
       "      <td>{'positiveUnits': '1.40201000', 'negativeUnits...</td>\n",
       "      <td>EUR_USD</td>\n",
       "    </tr>\n",
       "  </tbody>\n",
       "</table>\n",
       "</div>"
      ],
      "text/plain": [
       "    type                            time  \\\n",
       "0  PRICE  2020-06-04T09:36:15.826378113Z   \n",
       "\n",
       "                                                bids  \\\n",
       "0  [{'price': '1.11988', 'liquidity': 1000000}, {...   \n",
       "\n",
       "                                                asks closeoutBid closeoutAsk  \\\n",
       "0  [{'price': '1.11995', 'liquidity': 1000000}, {...     1.11984     1.11999   \n",
       "\n",
       "      status  tradeable                                     unitsAvailable  \\\n",
       "0  tradeable       True  {'default': {'long': '1273674', 'short': '1273...   \n",
       "\n",
       "                          quoteHomeConversionFactors instrument  \n",
       "0  {'positiveUnits': '1.40201000', 'negativeUnits...    EUR_USD  "
      ]
     },
     "execution_count": 5,
     "metadata": {},
     "output_type": "execute_result"
    }
   ],
   "source": [
    "params = {\n",
    "    'instruments': 'EUR_USD'\n",
    "}\n",
    "\n",
    "price_info = pricing.PricingInfo(accountID = accountID, params = params)\n",
    "api.request(price_info)\n",
    "\n",
    "print(price_info.response)\n",
    "print(\"----------------\")\n",
    "pd.DataFrame(price_info.response['prices'])"
   ]
  },
  {
   "cell_type": "markdown",
   "metadata": {},
   "source": [
    "Get Account Details"
   ]
  },
  {
   "cell_type": "code",
   "execution_count": 8,
   "metadata": {},
   "outputs": [
    {
     "data": {
      "text/plain": [
       "{'account': {'guaranteedStopLossOrderMode': 'ALLOWED',\n",
       "  'hedgingEnabled': False,\n",
       "  'id': '101-003-15069707-001',\n",
       "  'createdTime': '2020-06-02T05:27:47.736583433Z',\n",
       "  'currency': 'SGD',\n",
       "  'createdByUserID': 15069707,\n",
       "  'alias': 'Primary',\n",
       "  'marginRate': '0.05',\n",
       "  'lastTransactionID': '23',\n",
       "  'balance': '100000.0007',\n",
       "  'openTradeCount': 0,\n",
       "  'openPositionCount': 0,\n",
       "  'pendingOrderCount': 0,\n",
       "  'pl': '0.0007',\n",
       "  'resettablePL': '0.0007',\n",
       "  'resettablePLTime': '0',\n",
       "  'financing': '0.0000',\n",
       "  'commission': '0.0000',\n",
       "  'dividendAdjustment': '0',\n",
       "  'guaranteedExecutionFees': '0.0000',\n",
       "  'orders': [],\n",
       "  'positions': [{'instrument': 'EUR_USD',\n",
       "    'long': {'units': '0',\n",
       "     'pl': '0.0007',\n",
       "     'resettablePL': '0.0007',\n",
       "     'financing': '0.0000',\n",
       "     'dividendAdjustment': '0.0000',\n",
       "     'guaranteedExecutionFees': '0.0000',\n",
       "     'unrealizedPL': '0.0000'},\n",
       "    'short': {'units': '0',\n",
       "     'pl': '0.0000',\n",
       "     'resettablePL': '0.0000',\n",
       "     'financing': '0.0000',\n",
       "     'dividendAdjustment': '0.0000',\n",
       "     'guaranteedExecutionFees': '0.0000',\n",
       "     'unrealizedPL': '0.0000'},\n",
       "    'pl': '0.0007',\n",
       "    'resettablePL': '0.0007',\n",
       "    'financing': '0.0000',\n",
       "    'commission': '0.0000',\n",
       "    'dividendAdjustment': '0.0000',\n",
       "    'guaranteedExecutionFees': '0.0000',\n",
       "    'unrealizedPL': '0.0000',\n",
       "    'marginUsed': '0.0000'}],\n",
       "  'trades': [],\n",
       "  'unrealizedPL': '0.0000',\n",
       "  'NAV': '100000.0007',\n",
       "  'marginUsed': '0.0000',\n",
       "  'marginAvailable': '100000.0007',\n",
       "  'positionValue': '0.0000',\n",
       "  'marginCloseoutUnrealizedPL': '0.0000',\n",
       "  'marginCloseoutNAV': '100000.0007',\n",
       "  'marginCloseoutMarginUsed': '0.0000',\n",
       "  'marginCloseoutPositionValue': '0.0000',\n",
       "  'marginCloseoutPercent': '0.00000',\n",
       "  'withdrawalLimit': '100000.0007',\n",
       "  'marginCallMarginUsed': '0.0000',\n",
       "  'marginCallPercent': '0.00000'},\n",
       " 'lastTransactionID': '23'}"
      ]
     },
     "execution_count": 8,
     "metadata": {},
     "output_type": "execute_result"
    }
   ],
   "source": [
    "acct_info = accounts.AccountDetails(accountID = accountID)\n",
    "api.request(acct_info)\n",
    "\n",
    "acct_info.response"
   ]
  }
 ],
 "metadata": {
  "kernelspec": {
   "display_name": "Python 3",
   "language": "python",
   "name": "python3"
  },
  "language_info": {
   "codemirror_mode": {
    "name": "ipython",
    "version": 3
   },
   "file_extension": ".py",
   "mimetype": "text/x-python",
   "name": "python",
   "nbconvert_exporter": "python",
   "pygments_lexer": "ipython3",
   "version": "3.6.6"
  }
 },
 "nbformat": 4,
 "nbformat_minor": 4
}
