{
 "cells": [
  {
   "cell_type": "markdown",
   "metadata": {},
   "source": [
    "# Oanda Demo Trading Notebook"
   ]
  },
  {
   "cell_type": "markdown",
   "metadata": {},
   "source": [
    "#### Packages"
   ]
  },
  {
   "cell_type": "markdown",
   "metadata": {},
   "source": [
    "Normal Packages"
   ]
  },
  {
   "cell_type": "code",
   "execution_count": 1,
   "metadata": {},
   "outputs": [],
   "source": [
    "import yaml\n",
    "import warnings\n",
    "import json\n",
    "import numpy as np\n",
    "import pandas as pd\n",
    "warnings.filterwarnings('ignore')"
   ]
  },
  {
   "cell_type": "markdown",
   "metadata": {},
   "source": [
    "Oanda Packages"
   ]
  },
  {
   "cell_type": "code",
   "execution_count": 2,
   "metadata": {},
   "outputs": [],
   "source": [
    "from oandapyV20 import API\n",
    "import oandapyV20.endpoints.trades as trades\n",
    "import oandapyV20.endpoints.pricing as pricing\n",
    "import oandapyV20.endpoints.accounts as accounts"
   ]
  },
  {
   "cell_type": "markdown",
   "metadata": {},
   "source": [
    "#### API Setup"
   ]
  },
  {
   "cell_type": "markdown",
   "metadata": {},
   "source": [
    "Read from config file"
   ]
  },
  {
   "cell_type": "code",
   "execution_count": 3,
   "metadata": {},
   "outputs": [],
   "source": [
    "config_file = 'config/access_token.yaml'\n",
    "\n",
    "with open(config_file) as c_file:\n",
    "    config = yaml.load(c_file)\n",
    "\n",
    "access_token = config['oanda_demo_account']['token']\n",
    "accountID = config['oanda_demo_account']['account_id']\n",
    "\n",
    "api = API(access_token = access_token)"
   ]
  },
  {
   "cell_type": "markdown",
   "metadata": {},
   "source": [
    "Get Trade list"
   ]
  },
  {
   "cell_type": "code",
   "execution_count": 4,
   "metadata": {},
   "outputs": [
    {
     "name": "stdout",
     "output_type": "stream",
     "text": [
      "{'trades': [], 'lastTransactionID': '23'}\n"
     ]
    }
   ],
   "source": [
    "trade_info = trades.TradesList(accountID)\n",
    "api.request(trade_info)\n",
    "print(trade_info.response)"
   ]
  },
  {
   "cell_type": "markdown",
   "metadata": {},
   "source": [
    "Get Account Details"
   ]
  },
  {
   "cell_type": "code",
   "execution_count": 6,
   "metadata": {
    "scrolled": true
   },
   "outputs": [
    {
     "data": {
      "text/plain": [
       "{'account': {'guaranteedStopLossOrderMode': 'ALLOWED',\n",
       "  'hedgingEnabled': False,\n",
       "  'id': '101-003-15069707-001',\n",
       "  'createdTime': '2020-06-02T05:27:47.736583433Z',\n",
       "  'currency': 'SGD',\n",
       "  'createdByUserID': 15069707,\n",
       "  'alias': 'Primary',\n",
       "  'marginRate': '0.05',\n",
       "  'lastTransactionID': '23',\n",
       "  'balance': '100000.0007',\n",
       "  'openTradeCount': 0,\n",
       "  'openPositionCount': 0,\n",
       "  'pendingOrderCount': 0,\n",
       "  'pl': '0.0007',\n",
       "  'resettablePL': '0.0007',\n",
       "  'resettablePLTime': '0',\n",
       "  'financing': '0.0000',\n",
       "  'commission': '0.0000',\n",
       "  'dividendAdjustment': '0',\n",
       "  'guaranteedExecutionFees': '0.0000',\n",
       "  'orders': [],\n",
       "  'positions': [{'instrument': 'EUR_USD',\n",
       "    'long': {'units': '0',\n",
       "     'pl': '0.0007',\n",
       "     'resettablePL': '0.0007',\n",
       "     'financing': '0.0000',\n",
       "     'dividendAdjustment': '0.0000',\n",
       "     'guaranteedExecutionFees': '0.0000',\n",
       "     'unrealizedPL': '0.0000'},\n",
       "    'short': {'units': '0',\n",
       "     'pl': '0.0000',\n",
       "     'resettablePL': '0.0000',\n",
       "     'financing': '0.0000',\n",
       "     'dividendAdjustment': '0.0000',\n",
       "     'guaranteedExecutionFees': '0.0000',\n",
       "     'unrealizedPL': '0.0000'},\n",
       "    'pl': '0.0007',\n",
       "    'resettablePL': '0.0007',\n",
       "    'financing': '0.0000',\n",
       "    'commission': '0.0000',\n",
       "    'dividendAdjustment': '0.0000',\n",
       "    'guaranteedExecutionFees': '0.0000',\n",
       "    'unrealizedPL': '0.0000',\n",
       "    'marginUsed': '0.0000'}],\n",
       "  'trades': [],\n",
       "  'unrealizedPL': '0.0000',\n",
       "  'NAV': '100000.0007',\n",
       "  'marginUsed': '0.0000',\n",
       "  'marginAvailable': '100000.0007',\n",
       "  'positionValue': '0.0000',\n",
       "  'marginCloseoutUnrealizedPL': '0.0000',\n",
       "  'marginCloseoutNAV': '100000.0007',\n",
       "  'marginCloseoutMarginUsed': '0.0000',\n",
       "  'marginCloseoutPositionValue': '0.0000',\n",
       "  'marginCloseoutPercent': '0.00000',\n",
       "  'withdrawalLimit': '100000.0007',\n",
       "  'marginCallMarginUsed': '0.0000',\n",
       "  'marginCallPercent': '0.00000'},\n",
       " 'lastTransactionID': '23'}"
      ]
     },
     "execution_count": 6,
     "metadata": {},
     "output_type": "execute_result"
    }
   ],
   "source": [
    "acct_info = accounts.AccountDetails(accountID = accountID)\n",
    "api.request(acct_info)\n",
    "\n",
    "acct_info.response"
   ]
  },
  {
   "cell_type": "code",
   "execution_count": 24,
   "metadata": {},
   "outputs": [
    {
     "data": {
      "text/plain": [
       "{'units': '0',\n",
       " 'pl': '0.0007',\n",
       " 'resettablePL': '0.0007',\n",
       " 'financing': '0.0000',\n",
       " 'dividendAdjustment': '0.0000',\n",
       " 'guaranteedExecutionFees': '0.0000',\n",
       " 'unrealizedPL': '0.0000'}"
      ]
     },
     "execution_count": 24,
     "metadata": {},
     "output_type": "execute_result"
    }
   ],
   "source": [
    "acct_info.response['account']['positions'][0]['long']"
   ]
  },
  {
   "cell_type": "markdown",
   "metadata": {},
   "source": [
    "Get currency details"
   ]
  },
  {
   "cell_type": "code",
   "execution_count": 33,
   "metadata": {},
   "outputs": [
    {
     "name": "stdout",
     "output_type": "stream",
     "text": [
      "{'time': '2020-06-04T12:29:37.479314563Z', 'prices': [{'type': 'PRICE', 'time': '2020-06-04T12:29:37.157939156Z', 'bids': [{'price': '1.12327', 'liquidity': 1000000}, {'price': '1.12326', 'liquidity': 2000000}, {'price': '1.12325', 'liquidity': 2000000}, {'price': '1.12323', 'liquidity': 5000000}], 'asks': [{'price': '1.12338', 'liquidity': 1000000}, {'price': '1.12340', 'liquidity': 2000000}, {'price': '1.12341', 'liquidity': 2000000}, {'price': '1.12342', 'liquidity': 5000000}], 'closeoutBid': '1.12323', 'closeoutAsk': '1.12342', 'status': 'tradeable', 'tradeable': True, 'unitsAvailable': {'default': {'long': '1270526', 'short': '1270526'}, 'openOnly': {'long': '1270526', 'short': '1270526'}, 'reduceFirst': {'long': '1270526', 'short': '1270526'}, 'reduceOnly': {'long': '0', 'short': '0'}}, 'quoteHomeConversionFactors': {'positiveUnits': '1.40108000', 'negativeUnits': '1.40159000'}, 'instrument': 'EUR_USD'}]}\n"
     ]
    }
   ],
   "source": [
    "params = {\n",
    "    'instruments': 'EUR_USD'\n",
    "}\n",
    "\n",
    "price_info = pricing.PricingInfo(accountID = accountID, params = params)\n",
    "price = api.request(price_info)\n",
    "\n",
    "print(price)\n",
    "#print(json.dumps(price, indent = 2))"
   ]
  },
  {
   "cell_type": "code",
   "execution_count": 34,
   "metadata": {},
   "outputs": [
    {
     "data": {
      "text/plain": [
       "[{'type': 'PRICE',\n",
       "  'time': '2020-06-04T12:29:37.157939156Z',\n",
       "  'bids': [{'price': '1.12327', 'liquidity': 1000000},\n",
       "   {'price': '1.12326', 'liquidity': 2000000},\n",
       "   {'price': '1.12325', 'liquidity': 2000000},\n",
       "   {'price': '1.12323', 'liquidity': 5000000}],\n",
       "  'asks': [{'price': '1.12338', 'liquidity': 1000000},\n",
       "   {'price': '1.12340', 'liquidity': 2000000},\n",
       "   {'price': '1.12341', 'liquidity': 2000000},\n",
       "   {'price': '1.12342', 'liquidity': 5000000}],\n",
       "  'closeoutBid': '1.12323',\n",
       "  'closeoutAsk': '1.12342',\n",
       "  'status': 'tradeable',\n",
       "  'tradeable': True,\n",
       "  'unitsAvailable': {'default': {'long': '1270526', 'short': '1270526'},\n",
       "   'openOnly': {'long': '1270526', 'short': '1270526'},\n",
       "   'reduceFirst': {'long': '1270526', 'short': '1270526'},\n",
       "   'reduceOnly': {'long': '0', 'short': '0'}},\n",
       "  'quoteHomeConversionFactors': {'positiveUnits': '1.40108000',\n",
       "   'negativeUnits': '1.40159000'},\n",
       "  'instrument': 'EUR_USD'}]"
      ]
     },
     "execution_count": 34,
     "metadata": {},
     "output_type": "execute_result"
    }
   ],
   "source": [
    "price['prices']"
   ]
  }
 ],
 "metadata": {
  "kernelspec": {
   "display_name": "Python 3",
   "language": "python",
   "name": "python3"
  },
  "language_info": {
   "codemirror_mode": {
    "name": "ipython",
    "version": 3
   },
   "file_extension": ".py",
   "mimetype": "text/x-python",
   "name": "python",
   "nbconvert_exporter": "python",
   "pygments_lexer": "ipython3",
   "version": "3.6.6"
  }
 },
 "nbformat": 4,
 "nbformat_minor": 4
}
