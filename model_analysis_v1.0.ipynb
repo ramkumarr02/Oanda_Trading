{
 "cells": [
  {
   "cell_type": "markdown",
   "metadata": {},
   "source": [
    "# Modelling"
   ]
  },
  {
   "cell_type": "markdown",
   "metadata": {},
   "source": [
    "## Packages"
   ]
  },
  {
   "cell_type": "code",
   "execution_count": 1,
   "metadata": {
    "scrolled": true
   },
   "outputs": [
    {
     "name": "stdout",
     "output_type": "stream",
     "text": [
      " Found and Using 1 GPU\n"
     ]
    }
   ],
   "source": [
    "import numpy as np\n",
    "import pandas as pd\n",
    "from tqdm import tqdm\n",
    "import winsound\n",
    "import datetime as dt\n",
    "\n",
    "import warnings\n",
    "warnings.filterwarnings('ignore')\n",
    "\n",
    "from sklearn.model_selection import train_test_split\n",
    "from sklearn.preprocessing import StandardScaler, MinMaxScaler, LabelEncoder, OneHotEncoder\n",
    "from sklearn.metrics import classification_report\n",
    "from sklearn.ensemble import RandomForestClassifier\n",
    "\n",
    "from keras.utils import np_utils\n",
    "\n",
    "import tensorflow as tf\n",
    "from tensorflow.keras.models import load_model\n",
    "from tensorflow.keras.models import Sequential\n",
    "from tensorflow.keras.layers import Activation, Dense\n",
    "from tensorflow.keras.optimizers import Adam\n",
    "from tensorflow.keras.metrics import categorical_crossentropy\n",
    "\n",
    "from imblearn.over_sampling import SMOTE\n",
    "\n",
    "from matplotlib import pyplot as plt\n",
    "\n",
    "print(f\" Found and Using {len(tf.config.experimental.list_physical_devices('GPU'))} GPU\")"
   ]
  },
  {
   "cell_type": "markdown",
   "metadata": {},
   "source": [
    "## Functions"
   ]
  },
  {
   "cell_type": "code",
   "execution_count": 2,
   "metadata": {},
   "outputs": [],
   "source": [
    "def scale_x_encode_y(x, y):\n",
    "\n",
    "    x_scaled = StandardScaler().fit_transform(x.values)    \n",
    "    \n",
    "    encoder = LabelEncoder()\n",
    "    encoder.fit(y)\n",
    "    y_encoded = encoder.transform(y)\n",
    "    y_encoded = np_utils.to_categorical(y_encoded)\n",
    "    \n",
    "    y_map = dict(zip(encoder.transform(encoder.classes_),encoder.classes_))\n",
    " \n",
    "    return(x_scaled, y_encoded, y_map)\n",
    "\n",
    "def smote_data(x, y):\n",
    "    oversample = SMOTE()\n",
    "    smote_x, smote_y = oversample.fit_resample(x, y)\n",
    "\n",
    "    return(smote_x, smote_y)\n",
    "\n",
    "def split_data(df, divisor):\n",
    "    df_tot = df.copy()\n",
    "    print(f'df_tot count : {len(df_tot)}')\n",
    "\n",
    "    df1 = df_tot.iloc[int(len(df_tot)/divisor):]\n",
    "    print(f'df1 count : {len(df1)}')\n",
    "\n",
    "    df2 = df_tot.iloc[:int(len(df_tot)/divisor)]\n",
    "    print(f'df2 count : {len(df2)}')\n",
    "    \n",
    "    return(df_tot, df1, df2)\n",
    "\n",
    "def data_prep(df, apply_smote = False):\n",
    "    x = df.loc[:, df.columns != target_col]\n",
    "    y = df[target_col]\n",
    "\n",
    "    if apply_smote:\n",
    "        x, y = smote_data(x, y)\n",
    "\n",
    "    print(f'Record count : {len(y)}')\n",
    "    print('--------------------------')\n",
    "    print(y.value_counts())\n",
    "    print('--------------------------')\n",
    "    print(y.value_counts(normalize=True))\n",
    "    \n",
    "    x_scaled, y_encoded, y_map = scale_x_encode_y(x, y)\n",
    "    pd.DataFrame(x_scaled).head()\n",
    "    \n",
    "    return(x_scaled, y_encoded, y_map)"
   ]
  },
  {
   "cell_type": "markdown",
   "metadata": {},
   "source": [
    "## Read Data"
   ]
  },
  {
   "cell_type": "code",
   "execution_count": 3,
   "metadata": {},
   "outputs": [],
   "source": [
    "col_list = ['Open', 'High', 'Low', 'Close', \n",
    " 'diff', 'gain', 'loss', 'avg_gain', 'avg_loss', \n",
    " 'rs', 'rsi', \n",
    " 'ssma', 'lsma', 'sma_diff', \n",
    " 'sema', 'lema', 'ema_diff', \n",
    " 'slope_s', \n",
    " 'target']"
   ]
  },
  {
   "cell_type": "code",
   "execution_count": 4,
   "metadata": {},
   "outputs": [],
   "source": [
    "col_list = ['diff', 'avg_gain', 'avg_loss', \n",
    " 'rs', 'rsi', \n",
    " 'sma_diff', \n",
    " 'ema_diff', \n",
    " 'slope_s', \n",
    " 'target']"
   ]
  },
  {
   "cell_type": "code",
   "execution_count": 5,
   "metadata": {},
   "outputs": [
    {
     "data": {
      "text/html": [
       "<div>\n",
       "<style scoped>\n",
       "    .dataframe tbody tr th:only-of-type {\n",
       "        vertical-align: middle;\n",
       "    }\n",
       "\n",
       "    .dataframe tbody tr th {\n",
       "        vertical-align: top;\n",
       "    }\n",
       "\n",
       "    .dataframe thead th {\n",
       "        text-align: right;\n",
       "    }\n",
       "</style>\n",
       "<table border=\"1\" class=\"dataframe\">\n",
       "  <thead>\n",
       "    <tr style=\"text-align: right;\">\n",
       "      <th></th>\n",
       "      <th>avg_gain</th>\n",
       "      <th>avg_loss</th>\n",
       "      <th>close</th>\n",
       "      <th>diff</th>\n",
       "      <th>direction</th>\n",
       "      <th>gain</th>\n",
       "      <th>high</th>\n",
       "      <th>high_diff</th>\n",
       "      <th>loss</th>\n",
       "      <th>low</th>\n",
       "      <th>low_diff</th>\n",
       "      <th>open</th>\n",
       "      <th>rs</th>\n",
       "      <th>rsi</th>\n",
       "    </tr>\n",
       "  </thead>\n",
       "  <tbody>\n",
       "    <tr>\n",
       "      <th>0</th>\n",
       "      <td>0.000045</td>\n",
       "      <td>0.000083</td>\n",
       "      <td>1.146320</td>\n",
       "      <td>-0.000015</td>\n",
       "      <td>decrease</td>\n",
       "      <td>0.000000</td>\n",
       "      <td>1.146425</td>\n",
       "      <td>0.000030</td>\n",
       "      <td>0.00015</td>\n",
       "      <td>1.146315</td>\n",
       "      <td>0.000105</td>\n",
       "      <td>1.146335</td>\n",
       "      <td>0.551515</td>\n",
       "      <td>35.546875</td>\n",
       "    </tr>\n",
       "    <tr>\n",
       "      <th>1</th>\n",
       "      <td>0.000063</td>\n",
       "      <td>0.000083</td>\n",
       "      <td>1.146230</td>\n",
       "      <td>-0.000090</td>\n",
       "      <td>increase</td>\n",
       "      <td>0.000175</td>\n",
       "      <td>1.146320</td>\n",
       "      <td>-0.000105</td>\n",
       "      <td>0.00000</td>\n",
       "      <td>1.146170</td>\n",
       "      <td>-0.000145</td>\n",
       "      <td>1.146315</td>\n",
       "      <td>0.763636</td>\n",
       "      <td>43.298969</td>\n",
       "    </tr>\n",
       "    <tr>\n",
       "      <th>2</th>\n",
       "      <td>0.000063</td>\n",
       "      <td>0.000054</td>\n",
       "      <td>1.146390</td>\n",
       "      <td>0.000160</td>\n",
       "      <td>same</td>\n",
       "      <td>0.000000</td>\n",
       "      <td>1.146405</td>\n",
       "      <td>0.000085</td>\n",
       "      <td>0.00000</td>\n",
       "      <td>1.146205</td>\n",
       "      <td>0.000035</td>\n",
       "      <td>1.146240</td>\n",
       "      <td>1.166667</td>\n",
       "      <td>53.846154</td>\n",
       "    </tr>\n",
       "    <tr>\n",
       "      <th>3</th>\n",
       "      <td>0.000084</td>\n",
       "      <td>0.000032</td>\n",
       "      <td>1.146320</td>\n",
       "      <td>-0.000070</td>\n",
       "      <td>increase</td>\n",
       "      <td>0.000215</td>\n",
       "      <td>1.146405</td>\n",
       "      <td>0.000000</td>\n",
       "      <td>0.00000</td>\n",
       "      <td>1.146310</td>\n",
       "      <td>0.000105</td>\n",
       "      <td>1.146385</td>\n",
       "      <td>2.640625</td>\n",
       "      <td>72.532189</td>\n",
       "    </tr>\n",
       "    <tr>\n",
       "      <th>4</th>\n",
       "      <td>0.000065</td>\n",
       "      <td>0.000032</td>\n",
       "      <td>1.146315</td>\n",
       "      <td>-0.000005</td>\n",
       "      <td>same</td>\n",
       "      <td>0.000000</td>\n",
       "      <td>1.146535</td>\n",
       "      <td>0.000130</td>\n",
       "      <td>0.00000</td>\n",
       "      <td>1.146215</td>\n",
       "      <td>-0.000095</td>\n",
       "      <td>1.146315</td>\n",
       "      <td>2.031250</td>\n",
       "      <td>67.010309</td>\n",
       "    </tr>\n",
       "  </tbody>\n",
       "</table>\n",
       "</div>"
      ],
      "text/plain": [
       "   avg_gain  avg_loss     close      diff direction      gain      high  \\\n",
       "0  0.000045  0.000083  1.146320 -0.000015  decrease  0.000000  1.146425   \n",
       "1  0.000063  0.000083  1.146230 -0.000090  increase  0.000175  1.146320   \n",
       "2  0.000063  0.000054  1.146390  0.000160      same  0.000000  1.146405   \n",
       "3  0.000084  0.000032  1.146320 -0.000070  increase  0.000215  1.146405   \n",
       "4  0.000065  0.000032  1.146315 -0.000005      same  0.000000  1.146535   \n",
       "\n",
       "   high_diff     loss       low  low_diff      open        rs        rsi  \n",
       "0   0.000030  0.00015  1.146315  0.000105  1.146335  0.551515  35.546875  \n",
       "1  -0.000105  0.00000  1.146170 -0.000145  1.146315  0.763636  43.298969  \n",
       "2   0.000085  0.00000  1.146205  0.000035  1.146240  1.166667  53.846154  \n",
       "3   0.000000  0.00000  1.146310  0.000105  1.146385  2.640625  72.532189  \n",
       "4   0.000130  0.00000  1.146215 -0.000095  1.146315  2.031250  67.010309  "
      ]
     },
     "execution_count": 5,
     "metadata": {},
     "output_type": "execute_result"
    }
   ],
   "source": [
    "#df = pd.read_csv('data/tab_df.csv')\n",
    "#df = pd.read_csv('data/tab_M1_2019.csv')\n",
    "df = pd.read_csv('data/tab_tick_2019.csv')\n",
    "\n",
    "#df = df[col_list]\n",
    "\n",
    "df.head(5)"
   ]
  },
  {
   "cell_type": "code",
   "execution_count": 6,
   "metadata": {},
   "outputs": [
    {
     "name": "stdout",
     "output_type": "stream",
     "text": [
      "Record count : 486429\n",
      "--------------------------\n",
      "same        332616\n",
      "decrease     77311\n",
      "increase     76502\n",
      "Name: direction, dtype: int64\n",
      "--------------------------\n",
      "same        0.683791\n",
      "decrease    0.158936\n",
      "increase    0.157273\n",
      "Name: direction, dtype: float64\n"
     ]
    }
   ],
   "source": [
    "target_col = 'direction'\n",
    "x_scaled, y_encoded, y_map = data_prep(df)"
   ]
  },
  {
   "cell_type": "markdown",
   "metadata": {},
   "source": [
    "## Neural Network"
   ]
  },
  {
   "cell_type": "markdown",
   "metadata": {},
   "source": [
    "### Network building"
   ]
  },
  {
   "cell_type": "code",
   "execution_count": 7,
   "metadata": {},
   "outputs": [],
   "source": [
    "train_x, valid_x, train_y, valid_y = train_test_split(x_scaled, y_encoded,train_size = 0.8,random_state = 1)"
   ]
  },
  {
   "cell_type": "code",
   "execution_count": 8,
   "metadata": {},
   "outputs": [
    {
     "name": "stdout",
     "output_type": "stream",
     "text": [
      "Model: \"sequential\"\n",
      "_________________________________________________________________\n",
      "Layer (type)                 Output Shape              Param #   \n",
      "=================================================================\n",
      "dense (Dense)                (None, 16)                224       \n",
      "_________________________________________________________________\n",
      "dense_1 (Dense)              (None, 32)                544       \n",
      "_________________________________________________________________\n",
      "dense_2 (Dense)              (None, 64)                2112      \n",
      "_________________________________________________________________\n",
      "dense_3 (Dense)              (None, 32)                2080      \n",
      "_________________________________________________________________\n",
      "dense_4 (Dense)              (None, 16)                528       \n",
      "_________________________________________________________________\n",
      "dense_5 (Dense)              (None, 3)                 51        \n",
      "=================================================================\n",
      "Total params: 5,539\n",
      "Trainable params: 5,539\n",
      "Non-trainable params: 0\n",
      "_________________________________________________________________\n"
     ]
    }
   ],
   "source": [
    "model = Sequential([\n",
    "    Dense(units = 16, activation='relu', input_shape=[len(train_x[0])]),\n",
    "    Dense(units = 32, activation='relu'),\n",
    "    Dense(units = 64, activation='relu'),\n",
    "    Dense(units = 32, activation='relu'),\n",
    "    Dense(units = 16, activation='relu'),\n",
    "    Dense(units = 3, activation='softmax')\n",
    "])\n",
    "\n",
    "model.compile(\n",
    "    loss='categorical_crossentropy',\n",
    "    optimizer=Adam(learning_rate=0.001),    \n",
    "    metrics=['accuracy'])\n",
    "\n",
    "model.summary()"
   ]
  },
  {
   "cell_type": "markdown",
   "metadata": {},
   "source": [
    "### Training"
   ]
  },
  {
   "cell_type": "code",
   "execution_count": 9,
   "metadata": {},
   "outputs": [],
   "source": [
    "epoch_val         = 10\n",
    "batch_size_val    = 512\n",
    "\n",
    "verbose_val       = 2\n",
    "workers_val       = -1"
   ]
  },
  {
   "cell_type": "code",
   "execution_count": 10,
   "metadata": {
    "scrolled": false
   },
   "outputs": [
    {
     "name": "stdout",
     "output_type": "stream",
     "text": [
      "Epoch 1/10\n",
      "761/761 - 5s - loss: 0.0441 - accuracy: 0.9866 - val_loss: 5.1967e-04 - val_accuracy: 0.9999\n",
      "Epoch 2/10\n",
      "761/761 - 4s - loss: 1.7177e-04 - accuracy: 1.0000 - val_loss: 1.1005e-04 - val_accuracy: 1.0000\n",
      "Epoch 3/10\n",
      "761/761 - 4s - loss: 1.0753e-05 - accuracy: 1.0000 - val_loss: 4.5812e-06 - val_accuracy: 1.0000\n",
      "Epoch 4/10\n",
      "761/761 - 4s - loss: 2.9599e-06 - accuracy: 1.0000 - val_loss: 2.9166e-06 - val_accuracy: 1.0000\n",
      "Epoch 5/10\n",
      "761/761 - 4s - loss: 1.7262e-06 - accuracy: 1.0000 - val_loss: 1.6027e-06 - val_accuracy: 1.0000\n",
      "Epoch 6/10\n",
      "761/761 - 4s - loss: 1.0688e-06 - accuracy: 1.0000 - val_loss: 9.7699e-07 - val_accuracy: 1.0000\n",
      "Epoch 7/10\n",
      "761/761 - 4s - loss: 6.7451e-07 - accuracy: 1.0000 - val_loss: 6.1165e-07 - val_accuracy: 1.0000\n",
      "Epoch 8/10\n",
      "761/761 - 4s - loss: 4.2968e-07 - accuracy: 1.0000 - val_loss: 4.0018e-07 - val_accuracy: 1.0000\n",
      "Epoch 9/10\n",
      "761/761 - 4s - loss: 2.7697e-07 - accuracy: 1.0000 - val_loss: 2.5874e-07 - val_accuracy: 1.0000\n",
      "Epoch 10/10\n",
      "761/761 - 4s - loss: 1.7885e-07 - accuracy: 1.0000 - val_loss: 1.5996e-07 - val_accuracy: 1.0000\n"
     ]
    },
    {
     "data": {
      "text/plain": [
       "<tensorflow.python.keras.callbacks.History at 0x188e5005f60>"
      ]
     },
     "execution_count": 10,
     "metadata": {},
     "output_type": "execute_result"
    }
   ],
   "source": [
    "model.fit(x=train_x, \n",
    "          y=train_y, \n",
    "          epochs=epoch_val,\n",
    "          batch_size = batch_size_val,\n",
    "          validation_data = (valid_x, valid_y),\n",
    "          workers= workers_val,\n",
    "         verbose=verbose_val)"
   ]
  },
  {
   "cell_type": "markdown",
   "metadata": {},
   "source": [
    "### DNN Validation"
   ]
  },
  {
   "cell_type": "code",
   "execution_count": null,
   "metadata": {},
   "outputs": [],
   "source": [
    "predictions = model.predict(valid_x)\n",
    "rounded_predictions = np.argmax(predictions, axis = -1)\n",
    "rounded_valid_y = np.argmax(valid_y, axis = -1)\n",
    "\n",
    "print(classification_report(rounded_valid_y, rounded_predictions, target_names = y_map.values()))"
   ]
  },
  {
   "cell_type": "markdown",
   "metadata": {},
   "source": [
    "### DNN Prediction"
   ]
  },
  {
   "cell_type": "code",
   "execution_count": null,
   "metadata": {
    "scrolled": true
   },
   "outputs": [],
   "source": [
    "df1 = pd.read_csv('data/tab_M1_2018.csv')\n",
    "df1 = df1[col_list]\n",
    "x_scaled1, y_encoded1, y_map1 = data_prep(df1, apply_smote = False)\n",
    "\n",
    "predictions = model.predict(x_scaled1)\n",
    "rounded_predictions = np.argmax(predictions, axis = -1)\n",
    "rounded_valid_y = np.argmax(y_encoded1, axis = -1)\n",
    "\n",
    "df1['predictions'] = [y_map1[k] for k in rounded_predictions]\n",
    "df1.to_csv('data/tab_M1_2018_res.csv')\n",
    "\n",
    "print(classification_report(rounded_valid_y, rounded_predictions, target_names = y_map1.values()))"
   ]
  },
  {
   "cell_type": "markdown",
   "metadata": {},
   "source": [
    "## RF Results"
   ]
  },
  {
   "cell_type": "code",
   "execution_count": null,
   "metadata": {},
   "outputs": [],
   "source": [
    "%%time\n",
    "clf = RandomForestClassifier() \n",
    "clf.fit(train_x, train_y)\n",
    "predictions = clf.predict(valid_x)\n",
    "rounded_predictions = np.argmax(predictions, axis = -1)\n",
    "rounded_valid_y = np.argmax(valid_y, axis = -1)\n",
    "print(classification_report(rounded_valid_y, rounded_predictions, target_names = y_map.values()))"
   ]
  },
  {
   "cell_type": "code",
   "execution_count": null,
   "metadata": {
    "scrolled": false
   },
   "outputs": [],
   "source": [
    "x_cols = df.columns[df.columns != 'direction']\n",
    "fig = plt.figure()\n",
    "fig.suptitle('Feature importance', fontsize=20)\n",
    "plt.xlabel('Importance %', fontsize=16)\n",
    "plt.ylabel('Features', fontsize=16)\n",
    "plt.tick_params(axis='x', labelsize=12)\n",
    "plt.tick_params(axis='y', labelsize=15)\n",
    "\n",
    "\n",
    "feat_importances = pd.Series(clf.feature_importances_ * 100, index=x_cols)\n",
    "feat_importances.nlargest(24).plot(kind='barh', figsize=(15, 10), rot=45)\n",
    "\n",
    "for index, value in enumerate(np.round(-np.sort(-clf.feature_importances_ * 100))):\n",
    "    plt.text(value+0.45, index, str(value), fontsize=12)"
   ]
  }
 ],
 "metadata": {
  "kernelspec": {
   "display_name": "Python 3.6.6 64-bit",
   "language": "python",
   "name": "python36664bitab910dfda0bc43a8bf7df0c20d1c59f2"
  },
  "language_info": {
   "codemirror_mode": {
    "name": "ipython",
    "version": 3
   },
   "file_extension": ".py",
   "mimetype": "text/x-python",
   "name": "python",
   "nbconvert_exporter": "python",
   "pygments_lexer": "ipython3",
   "version": "3.6.6"
  }
 },
 "nbformat": 4,
 "nbformat_minor": 4
}
