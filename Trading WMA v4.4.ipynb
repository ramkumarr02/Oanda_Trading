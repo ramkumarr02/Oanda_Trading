{
 "cells": [
  {
   "cell_type": "markdown",
   "metadata": {},
   "source": [
    "# Oanda Demo Trading Notebook"
   ]
  },
  {
   "cell_type": "markdown",
   "metadata": {},
   "source": [
    "## Packages & Tools"
   ]
  },
  {
   "cell_type": "code",
   "execution_count": 1,
   "metadata": {},
   "outputs": [],
   "source": [
    "from utils.packages import *\n",
    "from utils.tools import *"
   ]
  },
  {
   "cell_type": "markdown",
   "metadata": {},
   "source": [
    "## API Setup"
   ]
  },
  {
   "cell_type": "markdown",
   "metadata": {},
   "source": [
    "Read from config file"
   ]
  },
  {
   "cell_type": "code",
   "execution_count": 2,
   "metadata": {
    "scrolled": true
   },
   "outputs": [],
   "source": [
    "temp_file = 'config/access_keys.yaml'\n",
    "with open(temp_file) as temp_file:\n",
    "    config = yaml.load(temp_file)\n",
    "    \n",
    "temp_file = 'config/wma.yaml'\n",
    "with open(temp_file) as temp_file:\n",
    "    wma = yaml.load(temp_file)    "
   ]
  },
  {
   "cell_type": "code",
   "execution_count": 3,
   "metadata": {},
   "outputs": [],
   "source": [
    "access_token = config['oanda_demo_account']['token']\n",
    "accountID = config['oanda_demo_account']['account_id']\n",
    "api = API(access_token = access_token)\n",
    "\n",
    "instrument = wma['curr']['instrument']    \n",
    "pip = wma['pip_size'][instrument]\n",
    "\n",
    "short_moving_window = wma['wma']['short_moving_window']\n",
    "long_moving_window = wma['wma']['long_moving_window']\n",
    "lists_size = wma['wma']['lists_size']\n",
    "slope_num = wma['wma']['slope_num']\n",
    "min_order_angle = wma['wma']['min_order_angle']\n",
    "\n",
    "units =  wma['order']['units']\n",
    "profit_target =  wma['order']['profit_target']\n",
    "loss_limit_num =  wma['order']['stop_loss_limit']\n",
    "order_num_limit =  wma['order']['order_num_limit']\n",
    "price_allowed_buffer =  wma['order']['price_allowed_buffer']\n",
    "\n",
    "max_skips = wma['loss_skip']['max_skips']\n",
    "consecutive_losses = wma['loss_skip']['consecutive_losses']"
   ]
  },
  {
   "cell_type": "markdown",
   "metadata": {},
   "source": [
    "## Code Engine"
   ]
  },
  {
   "cell_type": "code",
   "execution_count": 4,
   "metadata": {},
   "outputs": [],
   "source": [
    "params = {'instruments': instrument}\n",
    "r = pricing.PricingStream(accountID=accountID, params=params)\n",
    "rv = api.request(r)\n",
    "\n",
    "skip_iter = 1\n",
    "pl_pip = 0\n",
    "long_wma = 0\n",
    "short_wma = 0\n",
    "closed_orders = 0\n",
    "long_list_counter = 0\n",
    "profit_level = 1\n",
    "\n",
    "long_flag = True\n",
    "short_flag = True\n",
    "valid_iteration = True\n",
    "\n",
    "old_direction =  'none'\n",
    "no_cross_dir = 'none'\n",
    "\n",
    "list_ready = False\n",
    "order_flag = False\n",
    "negative_run =  False\n",
    "first_position_changed = False\n",
    "initial_position_captured = False\n",
    "\n",
    "pl_list = collections.deque([])\n",
    "tick_list = collections.deque([])\n",
    "long_list = collections.deque([])\n",
    "short_list = collections.deque([])\n",
    "long_wma_list = collections.deque([])\n",
    "short_wma_list = collections.deque([])\n",
    "step_profit_list = collections.deque([])\n",
    "no_cross_list = collections.deque([])\n",
    "no_cross_num = 3\n",
    "\n",
    "\n",
    "loss_limit = loss_limit_num * pip\n",
    "profit_target = profit_target * pip \n",
    "profit_level = profit_level * pip\n",
    "\n",
    "\n",
    "long_weights = get_weights(long_moving_window)\n",
    "short_weights = get_weights(short_moving_window)"
   ]
  },
  {
   "cell_type": "code",
   "execution_count": 5,
   "metadata": {
    "scrolled": false
   },
   "outputs": [
    {
     "name": "stderr",
     "output_type": "stream",
     "text": [
      "1499it [16:47,  1.59it/s]"
     ]
    },
    {
     "name": "stdout",
     "output_type": "stream",
     "text": [
      "initial_position : positive\n"
     ]
    },
    {
     "name": "stderr",
     "output_type": "stream",
     "text": [
      "1613it [18:03,  1.92it/s]"
     ]
    },
    {
     "name": "stdout",
     "output_type": "stream",
     "text": [
      "No cross long order : deque([2.276483516479022, 2.3179290709363087, 2.380905094911956]), All positive\n"
     ]
    },
    {
     "name": "stderr",
     "output_type": "stream",
     "text": [
      "\r",
      "1614it [18:04,  1.59it/s]"
     ]
    },
    {
     "name": "stdout",
     "output_type": "stream",
     "text": [
      "ordered\n"
     ]
    },
    {
     "name": "stderr",
     "output_type": "stream",
     "text": [
      "1676it [18:41,  1.36it/s]"
     ]
    },
    {
     "name": "stdout",
     "output_type": "stream",
     "text": [
      "positive ---> negative\n",
      "Going short\n"
     ]
    },
    {
     "name": "stderr",
     "output_type": "stream",
     "text": [
      "\r",
      "1677it [18:42,  1.17it/s]"
     ]
    },
    {
     "name": "stdout",
     "output_type": "stream",
     "text": [
      "ordered\n"
     ]
    },
    {
     "name": "stderr",
     "output_type": "stream",
     "text": [
      "1684it [18:50,  1.09it/s]"
     ]
    },
    {
     "name": "stdout",
     "output_type": "stream",
     "text": [
      "negative ---> positive\n",
      "Closed short position : 1\n"
     ]
    },
    {
     "name": "stderr",
     "output_type": "stream",
     "text": [
      "\r",
      "1686it [18:52,  1.05it/s]"
     ]
    },
    {
     "name": "stdout",
     "output_type": "stream",
     "text": [
      "Angle:15 smaller than min_order_angle:25\n"
     ]
    },
    {
     "name": "stderr",
     "output_type": "stream",
     "text": [
      "1775it [19:56,  1.96it/s]"
     ]
    },
    {
     "name": "stdout",
     "output_type": "stream",
     "text": [
      "No cross long order : deque([2.895063336667558, 2.9134970029942586, 2.939020479517662]), All positive\n"
     ]
    },
    {
     "name": "stderr",
     "output_type": "stream",
     "text": [
      "\r",
      "1776it [19:57,  1.44it/s]"
     ]
    },
    {
     "name": "stdout",
     "output_type": "stream",
     "text": [
      "ordered\n"
     ]
    },
    {
     "name": "stderr",
     "output_type": "stream",
     "text": [
      "1799it [20:09,  1.30it/s]"
     ]
    },
    {
     "name": "stdout",
     "output_type": "stream",
     "text": [
      "no step order deque([0.0001100000000000545, 0.0001100000000000545]), 37\n",
      "Making stepped long order : 0.0001\n"
     ]
    },
    {
     "name": "stderr",
     "output_type": "stream",
     "text": [
      "\r",
      "1800it [20:09,  1.43it/s]"
     ]
    },
    {
     "name": "stdout",
     "output_type": "stream",
     "text": [
      "ordered deque([0.0001100000000000545, 0.00015999999999993797]), 38\n"
     ]
    },
    {
     "name": "stderr",
     "output_type": "stream",
     "text": [
      "1809it [20:11,  3.64it/s]"
     ]
    },
    {
     "name": "stdout",
     "output_type": "stream",
     "text": [
      "Closed long position : 2\n"
     ]
    },
    {
     "name": "stderr",
     "output_type": "stream",
     "text": [
      "1872it [20:51,  2.14it/s]"
     ]
    },
    {
     "name": "stdout",
     "output_type": "stream",
     "text": [
      "No cross long order : deque([2.8491946053810224, 2.9160051947951793, 3.003452047938282]), All positive\n"
     ]
    },
    {
     "name": "stderr",
     "output_type": "stream",
     "text": [
      "\r",
      "1873it [20:52,  1.77it/s]"
     ]
    },
    {
     "name": "stdout",
     "output_type": "stream",
     "text": [
      "ordered\n"
     ]
    },
    {
     "name": "stderr",
     "output_type": "stream",
     "text": [
      "2071it [23:03,  1.18s/it]"
     ]
    },
    {
     "name": "stdout",
     "output_type": "stream",
     "text": [
      "Closed long position : 3\n"
     ]
    },
    {
     "name": "stderr",
     "output_type": "stream",
     "text": [
      "2103it [23:27,  1.69it/s]"
     ]
    },
    {
     "name": "stdout",
     "output_type": "stream",
     "text": [
      "No cross long order : deque([2.021247752244104, 2.0390308691231596, 2.0431972027945555]), All positive\n"
     ]
    },
    {
     "name": "stderr",
     "output_type": "stream",
     "text": [
      "\r",
      "2104it [23:28,  1.47it/s]"
     ]
    },
    {
     "name": "stdout",
     "output_type": "stream",
     "text": [
      "ordered\n"
     ]
    },
    {
     "name": "stderr",
     "output_type": "stream",
     "text": [
      "2208it [24:33,  1.69it/s]"
     ]
    },
    {
     "name": "stdout",
     "output_type": "stream",
     "text": [
      "Closed long position : 4\n"
     ]
    },
    {
     "name": "stderr",
     "output_type": "stream",
     "text": [
      "2332it [25:55,  1.59it/s]"
     ]
    },
    {
     "name": "stdout",
     "output_type": "stream",
     "text": [
      "positive ---> negative\n",
      "Going short\n"
     ]
    },
    {
     "name": "stderr",
     "output_type": "stream",
     "text": [
      "\r",
      "2333it [25:56,  1.36it/s]"
     ]
    },
    {
     "name": "stdout",
     "output_type": "stream",
     "text": [
      "ordered\n"
     ]
    },
    {
     "name": "stderr",
     "output_type": "stream",
     "text": [
      "2362it [26:08,  2.08it/s]"
     ]
    },
    {
     "name": "stdout",
     "output_type": "stream",
     "text": [
      "no step order deque([0.00015999999999993797, 0.00012000000000012001]), 43\n",
      "Making stepped short order : 0.0002\n"
     ]
    },
    {
     "name": "stderr",
     "output_type": "stream",
     "text": [
      "\r",
      "2363it [26:09,  1.71it/s]"
     ]
    },
    {
     "name": "stdout",
     "output_type": "stream",
     "text": [
      "ordered deque([0.00012000000000012001, 0.000220000000000109]), 47\n"
     ]
    },
    {
     "name": "stderr",
     "output_type": "stream",
     "text": [
      "2369it [26:12,  2.07it/s]"
     ]
    },
    {
     "name": "stdout",
     "output_type": "stream",
     "text": [
      "Making stepped short order : 0.00030000000000000003\n"
     ]
    },
    {
     "name": "stderr",
     "output_type": "stream",
     "text": [
      "\r",
      "2370it [26:12,  1.88it/s]"
     ]
    },
    {
     "name": "stdout",
     "output_type": "stream",
     "text": [
      "ordered deque([0.000220000000000109, 0.00022999999999995246]), 60\n"
     ]
    },
    {
     "name": "stderr",
     "output_type": "stream",
     "text": [
      "2380it [26:17,  1.65it/s]"
     ]
    },
    {
     "name": "stdout",
     "output_type": "stream",
     "text": [
      "Closed short position : 5\n"
     ]
    },
    {
     "name": "stderr",
     "output_type": "stream",
     "text": [
      "2384it [26:20,  1.23it/s]"
     ]
    },
    {
     "name": "stdout",
     "output_type": "stream",
     "text": [
      "No cross short order : deque([3.5466935064998317, 3.448430669337199, 0]), All Negative\n"
     ]
    },
    {
     "name": "stderr",
     "output_type": "stream",
     "text": [
      "\r",
      "2385it [26:21,  1.21it/s]"
     ]
    },
    {
     "name": "stdout",
     "output_type": "stream",
     "text": [
      "ordered\n"
     ]
    },
    {
     "name": "stderr",
     "output_type": "stream",
     "text": [
      "2558it [28:00,  1.99it/s]"
     ]
    },
    {
     "name": "stdout",
     "output_type": "stream",
     "text": [
      "Closed short position : 6\n"
     ]
    },
    {
     "name": "stderr",
     "output_type": "stream",
     "text": [
      "2586it [28:20,  1.02it/s]"
     ]
    },
    {
     "name": "stdout",
     "output_type": "stream",
     "text": [
      "No cross short order : deque([4.253643356644243, 4.057664535468408, 3.8619889110735883]), All Negative\n"
     ]
    },
    {
     "name": "stderr",
     "output_type": "stream",
     "text": [
      "\r",
      "2587it [28:21,  1.06it/s]"
     ]
    },
    {
     "name": "stdout",
     "output_type": "stream",
     "text": [
      "ordered\n"
     ]
    },
    {
     "name": "stderr",
     "output_type": "stream",
     "text": [
      "2603it [28:29,  1.51it/s]"
     ]
    },
    {
     "name": "stdout",
     "output_type": "stream",
     "text": [
      "No cross short order : deque([2.5341784215804353, 2.346892507492093, 2.167987912082836]), All Negative\n"
     ]
    },
    {
     "name": "stderr",
     "output_type": "stream",
     "text": [
      "\r",
      "2604it [28:30,  1.15it/s]"
     ]
    },
    {
     "name": "stdout",
     "output_type": "stream",
     "text": [
      "ordered\n"
     ]
    },
    {
     "name": "stderr",
     "output_type": "stream",
     "text": [
      "2683it [29:22,  2.79it/s]"
     ]
    },
    {
     "name": "stdout",
     "output_type": "stream",
     "text": [
      "Closed short position : 7\n"
     ]
    },
    {
     "name": "stderr",
     "output_type": "stream",
     "text": [
      "2737it [29:56,  1.68it/s]"
     ]
    },
    {
     "name": "stdout",
     "output_type": "stream",
     "text": [
      "No cross short order : deque([2.0327149850229986, 0, 0]), All Negative\n"
     ]
    },
    {
     "name": "stderr",
     "output_type": "stream",
     "text": [
      "\r",
      "2738it [29:57,  1.50it/s]"
     ]
    },
    {
     "name": "stdout",
     "output_type": "stream",
     "text": [
      "ordered\n"
     ]
    },
    {
     "name": "stderr",
     "output_type": "stream",
     "text": [
      "2836it [30:54,  1.75it/s]"
     ]
    },
    {
     "name": "stdout",
     "output_type": "stream",
     "text": [
      "No cross short order : deque([3.483335664336007, 3.4726292707243367, 3.4879893106842808]), All Negative\n"
     ]
    },
    {
     "name": "stderr",
     "output_type": "stream",
     "text": [
      "\r",
      "2837it [30:55,  1.43it/s]"
     ]
    },
    {
     "name": "stdout",
     "output_type": "stream",
     "text": [
      "ordered\n"
     ]
    },
    {
     "name": "stderr",
     "output_type": "stream",
     "text": [
      "2881it [31:23,  1.78it/s]"
     ]
    },
    {
     "name": "stdout",
     "output_type": "stream",
     "text": [
      "No cross short order : deque([2.657543356627823, 2.6236960040071367, 2.5566179820279977]), All Negative\n"
     ]
    },
    {
     "name": "stderr",
     "output_type": "stream",
     "text": [
      "\r",
      "2882it [31:24,  1.53it/s]"
     ]
    },
    {
     "name": "stdout",
     "output_type": "stream",
     "text": [
      "ordered\n"
     ]
    },
    {
     "name": "stderr",
     "output_type": "stream",
     "text": [
      "2886it [31:26,  1.62it/s]"
     ]
    },
    {
     "name": "stdout",
     "output_type": "stream",
     "text": [
      "No cross short order : deque([2.4362152847179352, 2.3423814185741243, 2.2324892107783434]), All Negative\n"
     ]
    },
    {
     "name": "stderr",
     "output_type": "stream",
     "text": [
      "\r",
      "2887it [31:27,  1.30it/s]"
     ]
    },
    {
     "name": "stdout",
     "output_type": "stream",
     "text": [
      "ordered\n"
     ]
    },
    {
     "name": "stderr",
     "output_type": "stream",
     "text": [
      "2890it [31:30,  1.12it/s]"
     ]
    },
    {
     "name": "stdout",
     "output_type": "stream",
     "text": [
      "No cross short order : deque([2.1039385614307626, 2.056489210786605, 2.021772427571733]), All Negative\n"
     ]
    },
    {
     "name": "stderr",
     "output_type": "stream",
     "text": [
      "\r",
      "2891it [31:31,  1.04s/it]"
     ]
    },
    {
     "name": "stdout",
     "output_type": "stream",
     "text": [
      "ordered\n"
     ]
    },
    {
     "name": "stderr",
     "output_type": "stream",
     "text": [
      "2946it [32:10,  1.63it/s]"
     ]
    },
    {
     "name": "stdout",
     "output_type": "stream",
     "text": [
      "negative ---> positive\n",
      "Going long\n"
     ]
    },
    {
     "name": "stderr",
     "output_type": "stream",
     "text": [
      "\r",
      "2947it [32:11,  1.45it/s]"
     ]
    },
    {
     "name": "stdout",
     "output_type": "stream",
     "text": [
      "ordered\n"
     ]
    },
    {
     "name": "stderr",
     "output_type": "stream",
     "text": [
      "2955it [32:14,  2.57it/s]"
     ]
    },
    {
     "name": "stdout",
     "output_type": "stream",
     "text": [
      "positive ---> negative\n",
      "Going short\n"
     ]
    },
    {
     "name": "stderr",
     "output_type": "stream",
     "text": [
      "\r",
      "2956it [32:15,  1.51it/s]"
     ]
    },
    {
     "name": "stdout",
     "output_type": "stream",
     "text": [
      "ordered\n"
     ]
    },
    {
     "name": "stderr",
     "output_type": "stream",
     "text": [
      "3073it [32:48,  3.62it/s]"
     ]
    },
    {
     "name": "stdout",
     "output_type": "stream",
     "text": [
      "negative ---> positive\n",
      "Closed short position : 8\n"
     ]
    },
    {
     "name": "stderr",
     "output_type": "stream",
     "text": [
      "\r",
      "3074it [32:50,  1.39it/s]"
     ]
    },
    {
     "name": "stdout",
     "output_type": "stream",
     "text": [
      "Skipped iteration:1, pl_list : deque([-0.0001, -0.0001])\n"
     ]
    },
    {
     "name": "stderr",
     "output_type": "stream",
     "text": [
      "3077it [32:52,  1.56it/s]"
     ]
    },
    {
     "name": "stdout",
     "output_type": "stream",
     "text": [
      "positive ---> negative\n",
      "Angle:21 smaller than min_order_angle:25\n"
     ]
    },
    {
     "name": "stderr",
     "output_type": "stream",
     "text": [
      "3104it [33:07,  1.09it/s]"
     ]
    },
    {
     "name": "stdout",
     "output_type": "stream",
     "text": [
      "No cross short order : deque([2.066186113887092, 2.0607090909186, 2.047872127883821]), All Negative\n"
     ]
    },
    {
     "name": "stderr",
     "output_type": "stream",
     "text": [
      "\r",
      "3105it [33:09,  1.13s/it]"
     ]
    },
    {
     "name": "stdout",
     "output_type": "stream",
     "text": [
      "ordered\n"
     ]
    },
    {
     "name": "stderr",
     "output_type": "stream",
     "text": [
      "3217it [34:20,  1.51it/s]"
     ]
    },
    {
     "name": "stdout",
     "output_type": "stream",
     "text": [
      "negative ---> positive\n",
      "Going long\n"
     ]
    },
    {
     "name": "stderr",
     "output_type": "stream",
     "text": [
      "\r",
      "3218it [34:21,  1.25it/s]"
     ]
    },
    {
     "name": "stdout",
     "output_type": "stream",
     "text": [
      "ordered\n"
     ]
    },
    {
     "name": "stderr",
     "output_type": "stream",
     "text": [
      "3253it [34:36,  1.26it/s]"
     ]
    },
    {
     "name": "stdout",
     "output_type": "stream",
     "text": [
      "positive ---> negative\n",
      "Angle:1 smaller than min_order_angle:25\n"
     ]
    },
    {
     "name": "stderr",
     "output_type": "stream",
     "text": [
      "3467it [37:29,  1.37it/s]"
     ]
    },
    {
     "name": "stdout",
     "output_type": "stream",
     "text": [
      "negative ---> positive\n",
      "Angle:13 smaller than min_order_angle:25\n"
     ]
    },
    {
     "name": "stderr",
     "output_type": "stream",
     "text": [
      "3487it [37:55,  1.41s/it]"
     ]
    },
    {
     "name": "stdout",
     "output_type": "stream",
     "text": [
      "positive ---> negative\n",
      "Angle:6 smaller than min_order_angle:25\n"
     ]
    },
    {
     "name": "stderr",
     "output_type": "stream",
     "text": [
      "3532it [38:40,  1.12it/s]"
     ]
    },
    {
     "name": "stdout",
     "output_type": "stream",
     "text": [
      "negative ---> positive\n",
      "Going long\n"
     ]
    },
    {
     "name": "stderr",
     "output_type": "stream",
     "text": [
      "\r",
      "3533it [38:42,  1.01it/s]"
     ]
    },
    {
     "name": "stdout",
     "output_type": "stream",
     "text": [
      "ordered\n"
     ]
    },
    {
     "name": "stderr",
     "output_type": "stream",
     "text": [
      "3644it [40:05,  1.96it/s]"
     ]
    },
    {
     "name": "stdout",
     "output_type": "stream",
     "text": [
      "Closed long position : 9\n"
     ]
    },
    {
     "name": "stderr",
     "output_type": "stream",
     "text": [
      "3745it [41:39,  1.24it/s]"
     ]
    },
    {
     "name": "stdout",
     "output_type": "stream",
     "text": [
      "positive ---> negative\n",
      "Angle:9 smaller than min_order_angle:25\n"
     ]
    },
    {
     "name": "stderr",
     "output_type": "stream",
     "text": [
      "3776it [42:04,  1.16it/s]"
     ]
    },
    {
     "name": "stdout",
     "output_type": "stream",
     "text": [
      "No cross short order : deque([2.235201698299605, 2.1802858141750647, 2.1424497502486872]), All Negative\n"
     ]
    },
    {
     "name": "stderr",
     "output_type": "stream",
     "text": [
      "\r",
      "3777it [42:05,  1.11it/s]"
     ]
    },
    {
     "name": "stdout",
     "output_type": "stream",
     "text": [
      "ordered\n"
     ]
    },
    {
     "name": "stderr",
     "output_type": "stream",
     "text": [
      "3918it [44:23,  1.41it/s]"
     ]
    },
    {
     "name": "stdout",
     "output_type": "stream",
     "text": [
      "No cross short order : deque([2.7729498501627425, 2.6778964035867325, 2.616188911084283]), All Negative\n"
     ]
    },
    {
     "name": "stderr",
     "output_type": "stream",
     "text": [
      "\r",
      "3919it [44:24,  1.25it/s]"
     ]
    },
    {
     "name": "stdout",
     "output_type": "stream",
     "text": [
      "ordered\n"
     ]
    },
    {
     "name": "stderr",
     "output_type": "stream",
     "text": [
      "3964it [44:52,  1.45s/it]"
     ]
    },
    {
     "name": "stdout",
     "output_type": "stream",
     "text": [
      "Closed short position : 10\n"
     ]
    },
    {
     "name": "stderr",
     "output_type": "stream",
     "text": [
      "\r",
      "3964it [44:54,  1.47it/s]"
     ]
    },
    {
     "name": "stdout",
     "output_type": "stream",
     "text": [
      "Closed 10 orders and exited\n"
     ]
    },
    {
     "name": "stderr",
     "output_type": "stream",
     "text": [
      "\n"
     ]
    }
   ],
   "source": [
    "for i, resp in tqdm(enumerate(rv)):        \n",
    "    resp_type = resp['type']       \n",
    "\n",
    "    if resp_type == 'HEARTBEAT': # Heart beat response to keep the api connection alive (Avoid timeout)\n",
    "        pass\n",
    "\n",
    "    #-----------------------------------------------------------------------------------------------------\n",
    "    elif resp_type == 'PRICE': # Check if we are yet to make the order               \n",
    "        date_val, time_val, time_fraction = get_date_time(resp) # Get time stamp for reference            \n",
    "        sell_price, buy_price, spread, tick_price = get_prices(resp) # Get prices from the response  \n",
    "        r = positions.OpenPositions(accountID=accountID)\n",
    "        \n",
    "        #change flag for stop_loss close issues\n",
    "        if len(api.request(r)['positions']) > 0:\n",
    "            order_flag = True\n",
    "        elif len(api.request(r)['positions']) == 0:\n",
    "            order_flag = False\n",
    "\n",
    "    #List Prep\n",
    "    #-----------------------------------------------------------------------------------------------------\n",
    "        #Short list prep\n",
    "        #-----------------------------------------------------------------------------------------------------\n",
    "        if len(short_list) < short_moving_window:\n",
    "            short_list.append(tick_price)\n",
    "\n",
    "        if short_flag and len(short_list) == short_moving_window:\n",
    "            short_wma = sum(np.array(short_list)*short_weights)\n",
    "            short_flag =False\n",
    "\n",
    "        if short_flag == False and len(short_list) == short_moving_window:\n",
    "            short_list.popleft()   \n",
    "            short_list.append(tick_price) \n",
    "            short_wma = sum(np.array(short_list)*short_weights)\n",
    "\n",
    "        # Append WMA list\n",
    "        if len(short_list) == short_moving_window:\n",
    "            if len(short_wma_list) < lists_size:\n",
    "                short_wma_list.append(short_wma)\n",
    "                #stan_dev_list.append(stan_dev)\n",
    "\n",
    "            elif len(short_wma_list) == lists_size:\n",
    "                short_wma_list.popleft()   \n",
    "                short_wma_list.append(short_wma)             \n",
    "\n",
    "\n",
    "        #Long list prep   \n",
    "        #-----------------------------------------------------------------------------------------------------                \n",
    "        if len(long_list) < long_moving_window:\n",
    "            long_list.append(tick_price)\n",
    "\n",
    "        if long_flag and len(long_list) == long_moving_window:\n",
    "            long_wma = sum(np.array(long_list)*long_weights)\n",
    "            long_flag = False\n",
    "\n",
    "        if long_flag == False and len(long_list) == long_moving_window:\n",
    "            long_list.popleft()   \n",
    "            long_list.append(tick_price) \n",
    "            long_wma = sum(np.array(long_list)*long_weights)   \n",
    "            #long_list_counter += 1\n",
    "            #if long_list_counter >= lists_size:\n",
    "                #list_ready = True\n",
    "                \n",
    "                \n",
    "        if len(long_list) == long_moving_window:\n",
    "            if len(long_wma_list) < lists_size:\n",
    "                long_wma_list.append(long_wma)\n",
    "                tick_list.append(tick_price)\n",
    "\n",
    "            elif len(long_wma_list) == lists_size:\n",
    "                long_wma_list.popleft()   \n",
    "                long_wma_list.append(long_wma)  \n",
    "                short_slope_x_plt, long_slope_x_plt, abline_short, abline_long, angle = get_slopes(short_wma_list, long_wma_list, slope_num, pip, lists_size)\n",
    "                list_ready = True\n",
    "    #-----------------------------------------------------------------------------------------------------\n",
    "  \n",
    "        #Direction identification\n",
    "        #----------------------------------------------------------------------------------------------------- \n",
    "        if valid_iteration == False and list_ready:\n",
    "            #print(f'Gap: {max_gap_wma}, Threshold: {max_gap_wma_threshold}')\n",
    "            pass\n",
    "            \n",
    "        elif valid_iteration and list_ready:            \n",
    "            if list_ready:\n",
    "                if short_wma > long_wma:\n",
    "                    current_position = 'positive'\n",
    "                elif short_wma < long_wma:\n",
    "                    current_position = 'negative'\n",
    "                elif short_wma == long_wma:\n",
    "                    current_position = 'same level'\n",
    "\n",
    "            if list_ready and initial_position_captured == False:\n",
    "                initial_position = current_position\n",
    "                print(f'initial_position : {initial_position}')\n",
    "                initial_position_captured =  True\n",
    "                winsound.PlaySound('C:\\\\Windows\\\\Media\\\\tada.wav', winsound.SND_ASYNC) \n",
    "\n",
    "            if list_ready and initial_position_captured:\n",
    "                if initial_position == current_position:\n",
    "                    pass\n",
    "\n",
    "                elif current_position == 'same level':\n",
    "                    print('Same level, wait for next iteration')\n",
    "\n",
    "                elif initial_position != current_position and current_position != 'same level':\n",
    "                    print(f'{initial_position} ---> {current_position}')\n",
    "\n",
    "                    #Select order type -------------------------------------------------------------------------\n",
    "                    if current_position == 'positive':\n",
    "                        old_order_type = 'short'\n",
    "                        order_type = 'long'\n",
    "                        stop_price = buy_price - loss_limit                \n",
    "\n",
    "                    elif current_position == 'negative':\n",
    "                        old_order_type = 'long'\n",
    "                        order_type = 'short'\n",
    "                        stop_price = sell_price + loss_limit                \n",
    "\n",
    "                    # Ordering -------------------------------------------------------------------------    \n",
    "                    #-------------------------------------------------------------------------------------------                \n",
    "                    if order_flag:\n",
    "                        r = positions.OpenPositions(accountID=accountID)\n",
    "                        if len(api.request(r)['positions']) > 0:\n",
    "                            close_order_log = close_order(accountID, old_order_type ,instrument, api)\n",
    "                            closed_orders += 1\n",
    "                            print(f'Closed {old_order_type} position : {closed_orders}')\n",
    "                            if closed_orders >= order_num_limit:\n",
    "                                print(f'Closed {closed_orders} orders and exited')\n",
    "                                break\n",
    "                        else:\n",
    "                            pass\n",
    "                                \n",
    "                        get_wma_output_data(accountID, instrument, 'direction_change', api, short_moving_window, long_moving_window, lists_size, units, loss_limit_num, profit_target, price_allowed_buffer, max_skips, consecutive_losses)\n",
    "                        close_dict_key= list(close_order_log.keys())[1]\n",
    "                        pl_pip = float(close_order_log[close_dict_key]['pl'])\n",
    "                        order_flag = False\n",
    "\n",
    "                        if len(pl_list) < consecutive_losses:\n",
    "                            pl_list.append(pl_pip)\n",
    "                        \n",
    "                        if len(pl_list) == consecutive_losses:\n",
    "                            negative_run = all(itrs < 0 for itrs in pl_list)\n",
    "                            pl_list.popleft()\n",
    "                            pl_list.append(pl_pip)\n",
    "\n",
    "                            \n",
    "                    if negative_run == False:\n",
    "                        if angle >= min_order_angle:\n",
    "                            print(f'Going {order_type}')\n",
    "                            make_order_log = make_order(accountID, stop_price, instrument, units, order_type, api)\n",
    "                            print('ordered')\n",
    "                            first_long =  True\n",
    "                            order_flag = True\n",
    "                        else:\n",
    "                            print(f'Angle:{angle} smaller than min_order_angle:{min_order_angle}')\n",
    "                    else:\n",
    "                        if max_skips > skip_iter:\n",
    "                            print(f'Skipped iteration:{skip_iter}, pl_list : {pl_list}')\n",
    "                            skip_iter += 1\n",
    "                        elif max_skips <= skip_iter:\n",
    "                            print(f'Skipped iteration:{skip_iter}, pl_list : {pl_list}')\n",
    "                            negative_run = False\n",
    "                            #pl_list = collections.deque([])\n",
    "                            pl_list.popleft()\n",
    "                            \n",
    "                    initial_position = current_position\n",
    "\n",
    "\n",
    "                    \n",
    "                # Take Profit -------------------------------------------------------------------------    \n",
    "                #-------------------------------------------------------------------------------------------                      \n",
    "                \n",
    "                if initial_position == current_position and current_position != 'same level' and order_flag:\n",
    "                    \n",
    "                    if order_type == 'long':     \n",
    "                        ordered_buy_price = float(make_order_log['orderFillTransaction']['fullPrice']['asks'][0]['price'])\n",
    "                        profit = sell_price - ordered_buy_price \n",
    "                        \n",
    "                        if first_long:\n",
    "                            max_price = short_wma\n",
    "                            first_long = False\n",
    "\n",
    "                        max_price = max(short_wma, max_price)\n",
    "                        buffered_max_price = max_price - (max_price * pip * price_allowed_buffer)\n",
    "\n",
    "                        if profit >= profit_target and short_wma <= buffered_max_price:    \n",
    "                            r = positions.OpenPositions(accountID=accountID)\n",
    "                            if len(api.request(r)['positions']) > 0:\n",
    "                                close_order_log = close_order(accountID, order_type ,instrument, api)   \n",
    "                                closed_orders += 1\n",
    "                                print(f'Closed {order_type} position : {closed_orders}')\n",
    "                            else:\n",
    "                                pass\n",
    "                                \n",
    "                            get_wma_output_data(accountID, instrument, 'Take_profit', api, short_moving_window, long_moving_window, lists_size, units, loss_limit_num, profit_target, price_allowed_buffer, max_skips, consecutive_losses)\n",
    "                            order_flag = False\n",
    "                            max_gap_wma = 0\n",
    "\n",
    "                            \n",
    "                    if order_type == 'short':     \n",
    "                        ordered_sell_price = float(make_order_log['orderFillTransaction']['fullPrice']['bids'][0]['price'])\n",
    "                        profit = ordered_sell_price - buy_price                \n",
    "                        \n",
    "                        if first_long:\n",
    "                            min_price = short_wma\n",
    "                            first_long = False\n",
    "\n",
    "                        min_price = min(short_wma, min_price)\n",
    "                        buffered_min_price = min_price + (min_price * pip * price_allowed_buffer)\n",
    "\n",
    "                        if profit >= profit_target and short_wma >= buffered_min_price:\n",
    "                            r = positions.OpenPositions(accountID=accountID)\n",
    "                            if len(api.request(r)['positions']) > 0:\n",
    "                                close_order_log = close_order(accountID, order_type ,instrument, api)     \n",
    "                                closed_orders += 1\n",
    "                                print(f'Closed {order_type} position : {closed_orders}')\n",
    "                            else:\n",
    "                                pass\n",
    "\n",
    "                            get_wma_output_data(accountID, instrument, 'Take_profit', api, short_moving_window, long_moving_window, lists_size, units, loss_limit_num, profit_target, price_allowed_buffer, max_skips, consecutive_losses)\n",
    "                            order_flag = False\n",
    "                            max_gap_wma = 0             \n",
    "                            \n",
    "                            \n",
    "                            \n",
    "                    # Stepped bets -------------------------------------------------------------------------    \n",
    "                    #-------------------------------------------------------------------------------------------                      \n",
    "                    if profit >= profit_level and angle >= min_order_angle and negative_run == False:\n",
    "                        if len(step_profit_list) < 2:\n",
    "                            step_profit_list.append(profit)\n",
    "                        elif len(step_profit_list) == 2:\n",
    "                            positive_run = all(its > 0 for its in step_profit_list) \n",
    "                            if step_profit_list[0] < step_profit_list[1] and positive_run:\n",
    "                                print(f'Making stepped {order_type} order : {profit_level}')\n",
    "                                make_order_log_dummy = make_order(accountID, stop_price, instrument, units, order_type, api)\n",
    "                                print(f'ordered {step_profit_list}, {angle}')\n",
    "                                profit_level = profit_level + pip\n",
    "                                order_flag = True                                \n",
    "                            else:\n",
    "                                print(f'no step order {step_profit_list}, {angle}')\n",
    "\n",
    "                            step_profit_list.popleft()\n",
    "                            step_profit_list.append(profit)\n",
    "\n",
    "                            \n",
    "                            \n",
    "                # No cross ordering -------------------------------------------------------------------------    \n",
    "                #-------------------------------------------------------------------------------------------                      \n",
    "                \n",
    "                if initial_position == current_position and current_position != 'same level' and order_flag == False:\n",
    "                    #Select order type -------------------------------------------------------------------------\n",
    "                    if current_position == 'positive':\n",
    "                        order_type = 'long'\n",
    "                        stop_price = buy_price - loss_limit                \n",
    "\n",
    "                    elif current_position == 'negative':\n",
    "                        order_type = 'short'\n",
    "                        stop_price = sell_price + loss_limit                \n",
    "\n",
    "                    \n",
    "                    price_diff = abs(short_wma - long_wma)/pip\n",
    "                    \n",
    "                    if len(no_cross_list) < no_cross_num:\n",
    "                        if price_diff > 2 and angle >= min_order_angle and negative_run == False:\n",
    "                            no_cross_list.append(price_diff)\n",
    "                        else:\n",
    "                            no_cross_list.append(0)\n",
    "                    \n",
    "                    \n",
    "                    elif len(no_cross_list) == no_cross_num:\n",
    "                        counter = 0\n",
    "                        for i, val in enumerate(list(no_cross_list)[:-1]):\n",
    "                            if no_cross_list[i] < no_cross_list[i+1]:\n",
    "                                counter += 1 \n",
    "                            elif no_cross_list[i] > no_cross_list[i+1]:\n",
    "                                counter -= 1 \n",
    "\n",
    "                        if (counter + 1) == len(no_cross_list):\n",
    "                            no_cross_dir = 'All positive'\n",
    "                            \n",
    "                        elif (counter - 1) == (len(no_cross_list) * -1):\n",
    "                            no_cross_dir = 'All Negative'\n",
    "                            \n",
    "                        else:\n",
    "                            no_cross_dir = \"No direction\"\n",
    "  \n",
    "                        if price_diff > 2 and angle >= min_order_angle and negative_run == False:\n",
    "                            no_cross_list.popleft()\n",
    "                            no_cross_list.append(price_diff)\n",
    "                        else:\n",
    "                            no_cross_list.popleft()\n",
    "                            no_cross_list.append(0)\n",
    "                    \n",
    "                    \n",
    "                    if no_cross_dir == 'All positive' and order_type == 'long' and negative_run == False:\n",
    "                        print(f'No cross {order_type} order : {no_cross_list}, {no_cross_dir}')\n",
    "                        make_order_log = make_order(accountID, stop_price, instrument, units, order_type, api)\n",
    "                        print(f'ordered')\n",
    "                        order_flag = True\n",
    "                        first_long =  True\n",
    "                        no_cross_list = collections.deque([])\n",
    "                        no_cross_dir = 'none'\n",
    "                        \n",
    "                    if no_cross_dir == 'All Negative' and order_type == 'short' and negative_run == False:\n",
    "                        print(f'No cross {order_type} order : {no_cross_list}, {no_cross_dir}')\n",
    "                        make_order_log = make_order(accountID, stop_price, instrument, units, order_type, api)\n",
    "                        print(f'ordered')\n",
    "                        order_flag = True     \n",
    "                        first_long =  True\n",
    "                        no_cross_list = collections.deque([])\n",
    "                        no_cross_dir = 'none'\n",
    "                        \n",
    "                    else:\n",
    "                        pass\n",
    "                        #print(f'No cross {no_cross_list}, {angle}, {no_cross_dir}')\n",
    "\n",
    "                            \n",
    "                            \n",
    "    if closed_orders >= order_num_limit:\n",
    "        print(f'Closed {closed_orders} orders and exited')\n",
    "        break"
   ]
  },
  {
   "cell_type": "code",
   "execution_count": 8,
   "metadata": {},
   "outputs": [],
   "source": [
    "df_copy = pd.read_csv('data/machine_use/wma_log_machine_use.csv')\n",
    "df_copy.to_csv('data/wma_log.csv', index = False)"
   ]
  },
  {
   "cell_type": "code",
   "execution_count": 7,
   "metadata": {},
   "outputs": [
    {
     "data": {
      "text/plain": [
       "'l = [1,2,3]\\nl = [3,2,1]\\n\\ncounter = 0\\nfor i, val in enumerate(l[:-1]):\\n    if l[i] < l[i+1]:\\n        counter += 1 \\n    elif l[i] > l[i+1]:\\n        counter -= 1 \\n        \\n\\nif (counter + 1) == len(l):\\n    print(\\'All positive\\')\\n    \\nelif (counter - 1) == (len(l) * -1):\\n    print(\\'All Negative\\')\\nelse:\\n    print(\"No direction\")\\n'"
      ]
     },
     "execution_count": 7,
     "metadata": {},
     "output_type": "execute_result"
    }
   ],
   "source": [
    "'''l = [1,2,3]\n",
    "l = [3,2,1]\n",
    "\n",
    "counter = 0\n",
    "for i, val in enumerate(l[:-1]):\n",
    "    if l[i] < l[i+1]:\n",
    "        counter += 1 \n",
    "    elif l[i] > l[i+1]:\n",
    "        counter -= 1 \n",
    "        \n",
    "\n",
    "if (counter + 1) == len(l):\n",
    "    print('All positive')\n",
    "    \n",
    "elif (counter - 1) == (len(l) * -1):\n",
    "    print('All Negative')\n",
    "else:\n",
    "    print(\"No direction\")\n",
    "'''"
   ]
  }
 ],
 "metadata": {
  "kernelspec": {
   "display_name": "Python 3",
   "language": "python",
   "name": "python3"
  },
  "language_info": {
   "codemirror_mode": {
    "name": "ipython",
    "version": 3
   },
   "file_extension": ".py",
   "mimetype": "text/x-python",
   "name": "python",
   "nbconvert_exporter": "python",
   "pygments_lexer": "ipython3",
   "version": "3.6.6"
  }
 },
 "nbformat": 4,
 "nbformat_minor": 4
}
