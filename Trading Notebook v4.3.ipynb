{
 "cells": [
  {
   "cell_type": "markdown",
   "metadata": {},
   "source": [
    "# Oanda Demo Trading Notebook"
   ]
  },
  {
   "cell_type": "markdown",
   "metadata": {},
   "source": [
    "## Packages"
   ]
  },
  {
   "cell_type": "markdown",
   "metadata": {},
   "source": [
    "Normal Packages"
   ]
  },
  {
   "cell_type": "code",
   "execution_count": 1,
   "metadata": {},
   "outputs": [],
   "source": [
    "import numpy as np\n",
    "import pandas as pd\n",
    "\n",
    "import yaml\n",
    "import json\n",
    "\n",
    "import time\n",
    "import datetime\n",
    "import winsound\n",
    "import collections\n",
    "\n",
    "from tqdm import tqdm\n",
    "\n",
    "import warnings\n",
    "warnings.filterwarnings('ignore')"
   ]
  },
  {
   "cell_type": "markdown",
   "metadata": {},
   "source": [
    "Oanda Packages"
   ]
  },
  {
   "cell_type": "code",
   "execution_count": 13,
   "metadata": {},
   "outputs": [],
   "source": [
    "from oandapyV20 import API\n",
    "import oandapyV20.endpoints.trades as trades\n",
    "import oandapyV20.endpoints.pricing as pricing\n",
    "import oandapyV20.endpoints.accounts as accounts\n",
    "\n",
    "import oandapyV20.definitions.pricing as defpricing\n",
    "import oandapyV20.endpoints.instruments as instruments\n",
    "\n",
    "import oandapyV20.endpoints.orders as orders"
   ]
  },
  {
   "cell_type": "markdown",
   "metadata": {},
   "source": [
    "Custom packages"
   ]
  },
  {
   "cell_type": "code",
   "execution_count": 3,
   "metadata": {},
   "outputs": [],
   "source": [
    "from utils.toolsapi import get_date_time\n",
    "from utils.toolsapi import get_prices\n",
    "from utils.toolsapi import calc_duration"
   ]
  },
  {
   "cell_type": "markdown",
   "metadata": {},
   "source": [
    "## Functions"
   ]
  },
  {
   "cell_type": "code",
   "execution_count": 4,
   "metadata": {},
   "outputs": [],
   "source": [
    "def get_targets(start_price, target_num = 3):\n",
    "    positive_targets = {}\n",
    "    negative_targets = {}\n",
    "    pip = 10**-4\n",
    "    \n",
    "    for i in range(target_num):\n",
    "        move_val = pip*(i+1)\n",
    "        positive_targets[i] = start_price + move_val\n",
    "        negative_targets[i] = start_price - move_val\n",
    "        \n",
    "    return(positive_targets, negative_targets)"
   ]
  },
  {
   "cell_type": "code",
   "execution_count": 5,
   "metadata": {},
   "outputs": [],
   "source": [
    "def get_direction(df_reached_targets, target_num,  min_count = 10):\n",
    "    tot_pos = sum(df_reached_targets['positive'] * df_reached_targets['target_num'])\n",
    "    tot_neg = sum(df_reached_targets['negative'] * df_reached_targets['target_num'])\n",
    "\n",
    "    if ((tot_pos - tot_neg) / target_num) > 1 and tot_pos > min_count and df_reached_targets['positive'][1] > 0 and df_reached_targets['positive'][2] > 0:\n",
    "        direction = 'positive'\n",
    "    elif ((tot_neg - tot_pos) / target_num) > 1 and tot_neg > min_count and df_reached_targets['negative'][1] > 0 and df_reached_targets['negative'][2] > 0:\n",
    "        direction = 'negative'\n",
    "    else:\n",
    "        direction = 'no_direction'\n",
    "    return(direction)"
   ]
  },
  {
   "cell_type": "code",
   "execution_count": 6,
   "metadata": {
    "scrolled": true
   },
   "outputs": [],
   "source": [
    "def run_engine(params, num, target_num, min_count): \n",
    "    \n",
    "    reached_targets = {'start_price' : 0,\n",
    "                       'target_num' : 0,\n",
    "                       'positive_val' : 0,\n",
    "                       'negative_val' : 0,\n",
    "                       'positive' : 0,\n",
    "                       'p_duration' : '',\n",
    "                       'n_duration' : '',\n",
    "                       'negative' : 0}\n",
    "\n",
    "    pos_target_flag = 'not_reached'\n",
    "    neg_target_flag = 'not_reached'\n",
    "    first_run_flag = 0\n",
    "    df_reached_targets = pd.DataFrame()\n",
    "    tick_list = []\n",
    "\n",
    "    \n",
    "    \n",
    "    r = pricing.PricingStream(accountID=accountID, params=params)\n",
    "    rv = api.request(r)\n",
    "\n",
    "    start_time = time.time()\n",
    "\n",
    "    for i, resp in tqdm(enumerate(rv)):\n",
    "\n",
    "        if i < num: # Check if we are within the required number of price iterations               \n",
    "            resp_type = resp['type']       \n",
    "\n",
    "            if resp_type == 'HEARTBEAT': # Heart beat response to keep the api connection alive (Avoid timeout)\n",
    "                pass\n",
    "                #print(resp_type)\n",
    "\n",
    "            elif resp_type == 'PRICE': # Check whether it is a price response                 \n",
    "                date_val, time_val, time_fraction = get_date_time(resp) # Get time stamp for reference            \n",
    "                sell_price, buy_price, spread, tick_price = get_prices(resp) # Get prices from the response                      \n",
    "                tick_list.append(tick_price)\n",
    "\n",
    "                if first_run_flag == 0:\n",
    "                    positive_targets, negative_targets = get_targets(tick_price, target_num)\n",
    "                    first_run_flag = 1\n",
    "                    for j in range(target_num):\n",
    "                        df_reached_targets = df_reached_targets.append(reached_targets, ignore_index = True)\n",
    "                        df_reached_targets.loc[df_reached_targets.index[j], 'target_num'] = j+1\n",
    "                        df_reached_targets.loc[df_reached_targets.index[j], 'start_price'] = tick_price\n",
    "                        df_reached_targets.loc[df_reached_targets.index[j], 'positive_val'] = positive_targets[j]\n",
    "                        df_reached_targets.loc[df_reached_targets.index[j], 'negative_val'] = negative_targets[j]\n",
    "\n",
    "                for k in range(target_num):\n",
    "                    if tick_price >= positive_targets[k]:\n",
    "                        df_reached_targets.loc[df_reached_targets.index[k], 'positive'] += 1\n",
    "                        if pos_target_flag == 'not_reached':\n",
    "                            end_time = time.time()    \n",
    "                            duration = calc_duration(start_time, end_time)\n",
    "                            df_reached_targets.loc[df_reached_targets.index[k], 'p_duration'] = duration\n",
    "                            pos_target_flag = 'reached'\n",
    "\n",
    "                    if tick_price <= negative_targets[k]:\n",
    "                        df_reached_targets.loc[df_reached_targets.index[k], 'negative'] += 1            \n",
    "                        if neg_target_flag == 'not_reached':\n",
    "                            end_time = time.time()    \n",
    "                            duration = calc_duration(start_time, end_time)\n",
    "                            df_reached_targets.loc[df_reached_targets.index[k], 'n_duration'] = duration\n",
    "                            neg_target_flag = 'reached'\n",
    "\n",
    "        else: # Crossed the required number of price iterations\n",
    "            try:\n",
    "                r.terminate(message = \"maxrecs records received\")\n",
    "            except:\n",
    "                pass\n",
    "\n",
    "    df_reached_targets =  df_reached_targets[['start_price', 'target_num', 'positive_val', 'negative_val','positive', 'negative','p_duration','n_duration']]\n",
    "    direction = get_direction(df_reached_targets, target_num, min_count)\n",
    "\n",
    "    #winsound.PlaySound('C:\\\\Windows\\\\Media\\\\tada.wav', winsound.SND_ASYNC) \n",
    "    return(direction, df_reached_targets, tick_list)"
   ]
  },
  {
   "cell_type": "markdown",
   "metadata": {},
   "source": [
    "## API Setup"
   ]
  },
  {
   "cell_type": "markdown",
   "metadata": {},
   "source": [
    "Read from config file"
   ]
  },
  {
   "cell_type": "code",
   "execution_count": 7,
   "metadata": {},
   "outputs": [],
   "source": [
    "config_file = 'config/access_token.yaml'\n",
    "\n",
    "with open(config_file) as c_file:\n",
    "    config = yaml.load(c_file)\n",
    "\n",
    "access_token = config['oanda_demo_account']['token']\n",
    "accountID = config['oanda_demo_account']['account_id']\n",
    "\n",
    "api = API(access_token = access_token)"
   ]
  },
  {
   "cell_type": "markdown",
   "metadata": {},
   "source": [
    "## Code Engine"
   ]
  },
  {
   "cell_type": "code",
   "execution_count": 20,
   "metadata": {
    "scrolled": true
   },
   "outputs": [
    {
     "name": "stderr",
     "output_type": "stream",
     "text": [
      "181it [02:07,  1.42it/s]"
     ]
    },
    {
     "name": "stdout",
     "output_type": "stream",
     "text": [
      "direction : positive\n"
     ]
    },
    {
     "name": "stderr",
     "output_type": "stream",
     "text": [
      "\n"
     ]
    },
    {
     "data": {
      "text/html": [
       "<div>\n",
       "<style scoped>\n",
       "    .dataframe tbody tr th:only-of-type {\n",
       "        vertical-align: middle;\n",
       "    }\n",
       "\n",
       "    .dataframe tbody tr th {\n",
       "        vertical-align: top;\n",
       "    }\n",
       "\n",
       "    .dataframe thead th {\n",
       "        text-align: right;\n",
       "    }\n",
       "</style>\n",
       "<table border=\"1\" class=\"dataframe\">\n",
       "  <thead>\n",
       "    <tr style=\"text-align: right;\">\n",
       "      <th></th>\n",
       "      <th>start_price</th>\n",
       "      <th>target_num</th>\n",
       "      <th>positive_val</th>\n",
       "      <th>negative_val</th>\n",
       "      <th>positive</th>\n",
       "      <th>negative</th>\n",
       "      <th>p_duration</th>\n",
       "      <th>n_duration</th>\n",
       "    </tr>\n",
       "  </thead>\n",
       "  <tbody>\n",
       "    <tr>\n",
       "      <th>0</th>\n",
       "      <td>1.13702</td>\n",
       "      <td>1.0</td>\n",
       "      <td>1.13712</td>\n",
       "      <td>1.13692</td>\n",
       "      <td>118.0</td>\n",
       "      <td>0.0</td>\n",
       "      <td>0:0:29</td>\n",
       "      <td></td>\n",
       "    </tr>\n",
       "    <tr>\n",
       "      <th>1</th>\n",
       "      <td>1.13702</td>\n",
       "      <td>2.0</td>\n",
       "      <td>1.13722</td>\n",
       "      <td>1.13682</td>\n",
       "      <td>85.0</td>\n",
       "      <td>0.0</td>\n",
       "      <td></td>\n",
       "      <td></td>\n",
       "    </tr>\n",
       "    <tr>\n",
       "      <th>2</th>\n",
       "      <td>1.13702</td>\n",
       "      <td>3.0</td>\n",
       "      <td>1.13732</td>\n",
       "      <td>1.13672</td>\n",
       "      <td>61.0</td>\n",
       "      <td>0.0</td>\n",
       "      <td></td>\n",
       "      <td></td>\n",
       "    </tr>\n",
       "  </tbody>\n",
       "</table>\n",
       "</div>"
      ],
      "text/plain": [
       "   start_price  target_num  positive_val  negative_val  positive  negative  \\\n",
       "0      1.13702         1.0       1.13712       1.13692     118.0       0.0   \n",
       "1      1.13702         2.0       1.13722       1.13682      85.0       0.0   \n",
       "2      1.13702         3.0       1.13732       1.13672      61.0       0.0   \n",
       "\n",
       "  p_duration n_duration  \n",
       "0     0:0:29             \n",
       "1                        \n",
       "2                        "
      ]
     },
     "execution_count": 20,
     "metadata": {},
     "output_type": "execute_result"
    }
   ],
   "source": [
    "params = {\n",
    "    'instruments': 'EUR_USD'\n",
    "}\n",
    "\n",
    "num = 3 * 60\n",
    "target_num = 3\n",
    "min_count = 10\n",
    "\n",
    "direction, df_reached_targets, tick_list = run_engine(params, num, target_num, min_count)\n",
    "print(f'direction : {direction}')\n",
    "df_reached_targets"
   ]
  },
  {
   "cell_type": "code",
   "execution_count": 16,
   "metadata": {},
   "outputs": [],
   "source": [
    "order_data = {\n",
    "  \"order\": {\n",
    "    \"units\": \"1\",\n",
    "    \"instrument\": \"EUR_USD\",\n",
    "    \"timeInForce\": \"FOK\",\n",
    "    \"type\": \"MARKET\",\n",
    "    \"positionFill\": \"DEFAULT\"\n",
    "  }\n",
    "}"
   ]
  },
  {
   "cell_type": "code",
   "execution_count": 17,
   "metadata": {},
   "outputs": [
    {
     "data": {
      "text/plain": [
       "{'orderCreateTransaction': {'type': 'MARKET_ORDER',\n",
       "  'instrument': 'EUR_USD',\n",
       "  'units': '1',\n",
       "  'timeInForce': 'FOK',\n",
       "  'positionFill': 'DEFAULT',\n",
       "  'reason': 'CLIENT_ORDER',\n",
       "  'id': '117',\n",
       "  'accountID': '101-003-15069707-001',\n",
       "  'userID': 15069707,\n",
       "  'batchID': '117',\n",
       "  'requestID': '42705624236276536',\n",
       "  'time': '2020-06-11T12:47:38.609787115Z'},\n",
       " 'orderFillTransaction': {'type': 'ORDER_FILL',\n",
       "  'orderID': '117',\n",
       "  'instrument': 'EUR_USD',\n",
       "  'units': '1',\n",
       "  'requestedUnits': '1',\n",
       "  'price': '1.13445',\n",
       "  'pl': '0.0000',\n",
       "  'financing': '0.0000',\n",
       "  'commission': '0.0000',\n",
       "  'accountBalance': '99999.9824',\n",
       "  'gainQuoteHomeConversionFactor': '1.38211470',\n",
       "  'lossQuoteHomeConversionFactor': '1.39600530',\n",
       "  'guaranteedExecutionFee': '0.0000',\n",
       "  'halfSpreadCost': '0.0001',\n",
       "  'fullVWAP': '1.13445',\n",
       "  'reason': 'MARKET_ORDER',\n",
       "  'tradeOpened': {'price': '1.13445',\n",
       "   'tradeID': '118',\n",
       "   'units': '1',\n",
       "   'guaranteedExecutionFee': '0.0000',\n",
       "   'halfSpreadCost': '0.0001',\n",
       "   'initialMarginRequired': '0.0788'},\n",
       "  'fullPrice': {'closeoutBid': '1.13433',\n",
       "   'closeoutAsk': '1.13449',\n",
       "   'timestamp': '2020-06-11T12:47:38.109485398Z',\n",
       "   'bids': [{'price': '1.13437', 'liquidity': '1000000'},\n",
       "    {'price': '1.13436', 'liquidity': '2000000'},\n",
       "    {'price': '1.13435', 'liquidity': '2000000'},\n",
       "    {'price': '1.13433', 'liquidity': '5000000'}],\n",
       "   'asks': [{'price': '1.13445', 'liquidity': '1000000'},\n",
       "    {'price': '1.13447', 'liquidity': '2000000'},\n",
       "    {'price': '1.13448', 'liquidity': '2000000'},\n",
       "    {'price': '1.13449', 'liquidity': '5000000'}]},\n",
       "  'id': '118',\n",
       "  'accountID': '101-003-15069707-001',\n",
       "  'userID': 15069707,\n",
       "  'batchID': '117',\n",
       "  'requestID': '42705624236276536',\n",
       "  'time': '2020-06-11T12:47:38.609787115Z'},\n",
       " 'relatedTransactionIDs': ['117', '118'],\n",
       " 'lastTransactionID': '118'}"
      ]
     },
     "execution_count": 17,
     "metadata": {},
     "output_type": "execute_result"
    }
   ],
   "source": [
    "r = orders.OrderCreate(accountID, data=order_data)\n",
    "api.request(r)"
   ]
  }
 ],
 "metadata": {
  "kernelspec": {
   "display_name": "Python 3",
   "language": "python",
   "name": "python3"
  },
  "language_info": {
   "codemirror_mode": {
    "name": "ipython",
    "version": 3
   },
   "file_extension": ".py",
   "mimetype": "text/x-python",
   "name": "python",
   "nbconvert_exporter": "python",
   "pygments_lexer": "ipython3",
   "version": "3.6.6"
  }
 },
 "nbformat": 4,
 "nbformat_minor": 4
}
