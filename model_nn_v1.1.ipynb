{
 "cells": [
  {
   "cell_type": "markdown",
   "metadata": {},
   "source": [
    "# Modelling"
   ]
  },
  {
   "cell_type": "markdown",
   "metadata": {},
   "source": [
    "## Packages"
   ]
  },
  {
   "cell_type": "code",
   "execution_count": 1,
   "metadata": {
    "scrolled": true
   },
   "outputs": [
    {
     "name": "stdout",
     "output_type": "stream",
     "text": [
      " Found and Using 1 GPU\n"
     ]
    }
   ],
   "source": [
    "import os\n",
    "import numpy as np\n",
    "import pandas as pd\n",
    "from tqdm import tqdm\n",
    "import winsound\n",
    "import datetime as dt\n",
    "\n",
    "import warnings\n",
    "warnings.filterwarnings('ignore')\n",
    "\n",
    "from sklearn.model_selection import train_test_split\n",
    "from sklearn.preprocessing import StandardScaler, MinMaxScaler, LabelEncoder, OneHotEncoder, normalize\n",
    "from sklearn.metrics import classification_report, confusion_matrix, ConfusionMatrixDisplay\n",
    "from sklearn.ensemble import RandomForestClassifier\n",
    "import joblib\n",
    "\n",
    "import xgboost\n",
    "\n",
    "import tensorflow\n",
    "from tensorflow.keras import layers\n",
    "from tensorflow.keras import utils\n",
    "from tensorflow.keras.models import load_model\n",
    "\n",
    "from tensorflow.keras.models import Sequential\n",
    "from tensorflow.keras.layers import Dense, Dropout\n",
    "from tensorflow.keras.optimizers import Adam, SGD\n",
    "from tensorflow.keras.losses import CategoricalCrossentropy, BinaryCrossentropy\n",
    "from tensorflow.keras.metrics import CategoricalAccuracy, BinaryAccuracy\n",
    "#from tensorflow.nn import relu, softmax\n",
    "\n",
    "from imblearn.over_sampling import SMOTE\n",
    "\n",
    "from matplotlib import pyplot as plt\n",
    "\n",
    "print(f\" Found and Using {len(tensorflow.config.experimental.list_physical_devices('GPU'))} GPU\")"
   ]
  },
  {
   "cell_type": "markdown",
   "metadata": {},
   "source": [
    "## Functions"
   ]
  },
  {
   "cell_type": "code",
   "execution_count": 2,
   "metadata": {},
   "outputs": [],
   "source": [
    "def scale_x_encode_y(x, y):\n",
    "\n",
    "    scaler_obj = StandardScaler()\n",
    "    #scaler_obj = MinMaxScaler()\n",
    "    scaler_obj.fit(x.values)\n",
    "    x_scaled = scaler_obj.transform(x.values)\n",
    "    #x_scaled = x.values\n",
    "    \n",
    "    encoder = LabelEncoder()\n",
    "    encoder.fit(y)\n",
    "    y_encoded = encoder.transform(y)\n",
    "    y_encoded = utils.to_categorical(y_encoded)\n",
    "    \n",
    "    y_map = dict(zip(encoder.transform(encoder.classes_),encoder.classes_))\n",
    " \n",
    "    return(x_scaled, y_encoded, y_map, scaler_obj)\n",
    "\n",
    "\n",
    "def smote_data(x, y):\n",
    "    oversample = SMOTE()\n",
    "    smote_x, smote_y = oversample.fit_resample(x, y)\n",
    "\n",
    "    return(smote_x, smote_y)\n",
    "\n",
    "def split_data(df, divisor):\n",
    "    df_tot = df.copy()\n",
    "    print(f'df_tot count : {len(df_tot)}')\n",
    "\n",
    "    df1 = df_tot.iloc[int(len(df_tot)/divisor):]\n",
    "    print(f'df1 count : {len(df1)}')\n",
    "\n",
    "    df2 = df_tot.iloc[:int(len(df_tot)/divisor)]\n",
    "    print(f'df2 count : {len(df2)}')\n",
    "    \n",
    "    return(df_tot, df1, df2)\n",
    "\n",
    "def data_prep(df, apply_smote = False):\n",
    "    x = df.loc[:, df.columns != target_col]\n",
    "    y = df[target_col]\n",
    "\n",
    "    if apply_smote:\n",
    "        x, y = smote_data(x, y)\n",
    "\n",
    "    print(f'Record count : {len(y)}')\n",
    "    print('--------------------------')\n",
    "    print(y.value_counts())\n",
    "    print('--------------------------')\n",
    "    print(y.value_counts(normalize=True))\n",
    "    \n",
    "    x_scaled, y_encoded, y_map, scaler_obj = scale_x_encode_y(x, y)\n",
    "    pd.DataFrame(x_scaled).head()\n",
    "    \n",
    "    return(x_scaled, y_encoded, y_map, scaler_obj)"
   ]
  },
  {
   "cell_type": "markdown",
   "metadata": {},
   "source": [
    "## Read Data"
   ]
  },
  {
   "cell_type": "code",
   "execution_count": 3,
   "metadata": {},
   "outputs": [],
   "source": [
    "remove_cols = ['tick_avg', 'sema', 'ssma', 'lema', 'lsma', 'max_tick', 'min_tick', 'small_sema_slope', 'long_sema_slope']"
   ]
  },
  {
   "cell_type": "code",
   "execution_count": 4,
   "metadata": {},
   "outputs": [
    {
     "data": {
      "text/html": [
       "<div>\n",
       "<style scoped>\n",
       "    .dataframe tbody tr th:only-of-type {\n",
       "        vertical-align: middle;\n",
       "    }\n",
       "\n",
       "    .dataframe tbody tr th {\n",
       "        vertical-align: top;\n",
       "    }\n",
       "\n",
       "    .dataframe thead th {\n",
       "        text-align: right;\n",
       "    }\n",
       "</style>\n",
       "<table border=\"1\" class=\"dataframe\">\n",
       "  <thead>\n",
       "    <tr style=\"text-align: right;\">\n",
       "      <th></th>\n",
       "      <th>spread_avg</th>\n",
       "      <th>spread_cls_diff</th>\n",
       "      <th>tick_opn_diff</th>\n",
       "      <th>tick_high_diff</th>\n",
       "      <th>tick_low_diff</th>\n",
       "      <th>tick_cls_diff</th>\n",
       "      <th>tick_avg_diff</th>\n",
       "      <th>tick_sd</th>\n",
       "      <th>tick_ema_10_diff</th>\n",
       "      <th>tick_ema_25_diff</th>\n",
       "      <th>...</th>\n",
       "      <th>tick_ema_75_diff</th>\n",
       "      <th>tick_ema_diff</th>\n",
       "      <th>ema_gap</th>\n",
       "      <th>gain</th>\n",
       "      <th>loss</th>\n",
       "      <th>avg_gain</th>\n",
       "      <th>avg_loss</th>\n",
       "      <th>rsi</th>\n",
       "      <th>tick_slope</th>\n",
       "      <th>direction</th>\n",
       "    </tr>\n",
       "  </thead>\n",
       "  <tbody>\n",
       "    <tr>\n",
       "      <th>0</th>\n",
       "      <td>0.000405</td>\n",
       "      <td>0.00025</td>\n",
       "      <td>0.000025</td>\n",
       "      <td>0.000130</td>\n",
       "      <td>-0.000020</td>\n",
       "      <td>0.000055</td>\n",
       "      <td>0.000035</td>\n",
       "      <td>0.000060</td>\n",
       "      <td>0.000056</td>\n",
       "      <td>0.000071</td>\n",
       "      <td>...</td>\n",
       "      <td>0.000063</td>\n",
       "      <td>0.000053</td>\n",
       "      <td>0.000003</td>\n",
       "      <td>0.000035</td>\n",
       "      <td>0.000000</td>\n",
       "      <td>0.000019</td>\n",
       "      <td>0.000033</td>\n",
       "      <td>36.630037</td>\n",
       "      <td>8.526058</td>\n",
       "      <td>same</td>\n",
       "    </tr>\n",
       "    <tr>\n",
       "      <th>1</th>\n",
       "      <td>0.000531</td>\n",
       "      <td>-0.00029</td>\n",
       "      <td>0.000050</td>\n",
       "      <td>0.000065</td>\n",
       "      <td>0.000030</td>\n",
       "      <td>0.000145</td>\n",
       "      <td>0.000057</td>\n",
       "      <td>0.000058</td>\n",
       "      <td>0.000099</td>\n",
       "      <td>0.000021</td>\n",
       "      <td>...</td>\n",
       "      <td>0.000010</td>\n",
       "      <td>0.000027</td>\n",
       "      <td>0.000072</td>\n",
       "      <td>0.000057</td>\n",
       "      <td>0.000000</td>\n",
       "      <td>0.000023</td>\n",
       "      <td>0.000033</td>\n",
       "      <td>41.189802</td>\n",
       "      <td>-3.724729</td>\n",
       "      <td>decrease</td>\n",
       "    </tr>\n",
       "    <tr>\n",
       "      <th>2</th>\n",
       "      <td>0.000375</td>\n",
       "      <td>0.00012</td>\n",
       "      <td>0.000145</td>\n",
       "      <td>-0.000010</td>\n",
       "      <td>-0.000275</td>\n",
       "      <td>-0.000430</td>\n",
       "      <td>-0.000132</td>\n",
       "      <td>0.000125</td>\n",
       "      <td>-0.000373</td>\n",
       "      <td>-0.000296</td>\n",
       "      <td>...</td>\n",
       "      <td>-0.000204</td>\n",
       "      <td>-0.000179</td>\n",
       "      <td>-0.000194</td>\n",
       "      <td>0.000000</td>\n",
       "      <td>0.000132</td>\n",
       "      <td>0.000023</td>\n",
       "      <td>0.000043</td>\n",
       "      <td>35.201212</td>\n",
       "      <td>-19.796746</td>\n",
       "      <td>same</td>\n",
       "    </tr>\n",
       "    <tr>\n",
       "      <th>3</th>\n",
       "      <td>0.000522</td>\n",
       "      <td>0.00025</td>\n",
       "      <td>-0.000400</td>\n",
       "      <td>-0.000305</td>\n",
       "      <td>-0.000005</td>\n",
       "      <td>-0.000045</td>\n",
       "      <td>-0.000201</td>\n",
       "      <td>0.000065</td>\n",
       "      <td>-0.000097</td>\n",
       "      <td>-0.000086</td>\n",
       "      <td>...</td>\n",
       "      <td>-0.000144</td>\n",
       "      <td>-0.000164</td>\n",
       "      <td>0.000066</td>\n",
       "      <td>0.000000</td>\n",
       "      <td>0.000201</td>\n",
       "      <td>0.000023</td>\n",
       "      <td>0.000043</td>\n",
       "      <td>35.277537</td>\n",
       "      <td>-6.967128</td>\n",
       "      <td>same</td>\n",
       "    </tr>\n",
       "    <tr>\n",
       "      <th>4</th>\n",
       "      <td>0.000633</td>\n",
       "      <td>0.00014</td>\n",
       "      <td>-0.000055</td>\n",
       "      <td>-0.000015</td>\n",
       "      <td>-0.000010</td>\n",
       "      <td>0.000070</td>\n",
       "      <td>0.000020</td>\n",
       "      <td>0.000056</td>\n",
       "      <td>0.000092</td>\n",
       "      <td>0.000068</td>\n",
       "      <td>...</td>\n",
       "      <td>0.000061</td>\n",
       "      <td>0.000045</td>\n",
       "      <td>0.000047</td>\n",
       "      <td>0.000020</td>\n",
       "      <td>0.000000</td>\n",
       "      <td>0.000025</td>\n",
       "      <td>0.000037</td>\n",
       "      <td>39.812039</td>\n",
       "      <td>3.870720</td>\n",
       "      <td>increase</td>\n",
       "    </tr>\n",
       "  </tbody>\n",
       "</table>\n",
       "<p>5 rows × 21 columns</p>\n",
       "</div>"
      ],
      "text/plain": [
       "   spread_avg  spread_cls_diff  tick_opn_diff  tick_high_diff  tick_low_diff  \\\n",
       "0    0.000405          0.00025       0.000025        0.000130      -0.000020   \n",
       "1    0.000531         -0.00029       0.000050        0.000065       0.000030   \n",
       "2    0.000375          0.00012       0.000145       -0.000010      -0.000275   \n",
       "3    0.000522          0.00025      -0.000400       -0.000305      -0.000005   \n",
       "4    0.000633          0.00014      -0.000055       -0.000015      -0.000010   \n",
       "\n",
       "   tick_cls_diff  tick_avg_diff   tick_sd  tick_ema_10_diff  tick_ema_25_diff  \\\n",
       "0       0.000055       0.000035  0.000060          0.000056          0.000071   \n",
       "1       0.000145       0.000057  0.000058          0.000099          0.000021   \n",
       "2      -0.000430      -0.000132  0.000125         -0.000373         -0.000296   \n",
       "3      -0.000045      -0.000201  0.000065         -0.000097         -0.000086   \n",
       "4       0.000070       0.000020  0.000056          0.000092          0.000068   \n",
       "\n",
       "   ...  tick_ema_75_diff  tick_ema_diff   ema_gap      gain      loss  \\\n",
       "0  ...          0.000063       0.000053  0.000003  0.000035  0.000000   \n",
       "1  ...          0.000010       0.000027  0.000072  0.000057  0.000000   \n",
       "2  ...         -0.000204      -0.000179 -0.000194  0.000000  0.000132   \n",
       "3  ...         -0.000144      -0.000164  0.000066  0.000000  0.000201   \n",
       "4  ...          0.000061       0.000045  0.000047  0.000020  0.000000   \n",
       "\n",
       "   avg_gain  avg_loss        rsi  tick_slope  direction  \n",
       "0  0.000019  0.000033  36.630037    8.526058       same  \n",
       "1  0.000023  0.000033  41.189802   -3.724729   decrease  \n",
       "2  0.000023  0.000043  35.201212  -19.796746       same  \n",
       "3  0.000023  0.000043  35.277537   -6.967128       same  \n",
       "4  0.000025  0.000037  39.812039    3.870720   increase  \n",
       "\n",
       "[5 rows x 21 columns]"
      ]
     },
     "execution_count": 4,
     "metadata": {},
     "output_type": "execute_result"
    }
   ],
   "source": [
    "df = pd.read_csv('data/tab_tick_2019.csv')\n",
    "#df.drop(remove_cols, axis=1, inplace=True)\n",
    "df.head(5)"
   ]
  },
  {
   "cell_type": "code",
   "execution_count": 5,
   "metadata": {},
   "outputs": [
    {
     "name": "stdout",
     "output_type": "stream",
     "text": [
      "Record count : 291851\n",
      "--------------------------\n",
      "same        259793\n",
      "decrease     16392\n",
      "increase     15666\n",
      "Name: direction, dtype: int64\n",
      "--------------------------\n",
      "same        0.890156\n",
      "decrease    0.056166\n",
      "increase    0.053678\n",
      "Name: direction, dtype: float64\n"
     ]
    },
    {
     "data": {
      "text/plain": [
       "['data/model/y_map.pkl']"
      ]
     },
     "execution_count": 5,
     "metadata": {},
     "output_type": "execute_result"
    }
   ],
   "source": [
    "target_col = 'direction'\n",
    "x_scaled, y_encoded, y_map, scaler_obj = data_prep(df, apply_smote = False)\n",
    "joblib.dump(scaler_obj, 'data/model/scaler_obj.pkl') \n",
    "joblib.dump(y_map, 'data/model/y_map.pkl') "
   ]
  },
  {
   "cell_type": "markdown",
   "metadata": {},
   "source": [
    "## Neural Network"
   ]
  },
  {
   "cell_type": "markdown",
   "metadata": {},
   "source": [
    "### Network building"
   ]
  },
  {
   "cell_type": "code",
   "execution_count": 6,
   "metadata": {},
   "outputs": [],
   "source": [
    "train_x, valid_x, train_y, valid_y = train_test_split(x_scaled, y_encoded,train_size = 0.8,random_state = 1)"
   ]
  },
  {
   "cell_type": "code",
   "execution_count": 7,
   "metadata": {},
   "outputs": [
    {
     "name": "stdout",
     "output_type": "stream",
     "text": [
      "Model: \"sequential\"\n",
      "_________________________________________________________________\n",
      "Layer (type)                 Output Shape              Param #   \n",
      "=================================================================\n",
      "dense (Dense)                (None, 2048)              43008     \n",
      "_________________________________________________________________\n",
      "dense_1 (Dense)              (None, 1024)              2098176   \n",
      "_________________________________________________________________\n",
      "dense_2 (Dense)              (None, 512)               524800    \n",
      "_________________________________________________________________\n",
      "dense_3 (Dense)              (None, 256)               131328    \n",
      "_________________________________________________________________\n",
      "dense_4 (Dense)              (None, 128)               32896     \n",
      "_________________________________________________________________\n",
      "dense_5 (Dense)              (None, 3)                 387       \n",
      "=================================================================\n",
      "Total params: 2,830,595\n",
      "Trainable params: 2,830,595\n",
      "Non-trainable params: 0\n",
      "_________________________________________________________________\n"
     ]
    }
   ],
   "source": [
    "model = Sequential([\n",
    "    Dense(units = 2048, activation='relu', input_shape=(len(train_x[0]),)),\n",
    "    Dense(units = 1024, activation='relu',),\n",
    "    Dense(units = 512, activation='relu'),    \n",
    "    Dense(units = 256, activation='relu'),\n",
    "    Dense(units = 128, activation='relu'),\n",
    "    Dense(units = 3, activation='softmax')\n",
    "])\n",
    "\n",
    "model.compile(    \n",
    "    loss=CategoricalCrossentropy(),\n",
    "    optimizer=Adam(learning_rate=0.0001, beta_1=0.9, beta_2=0.999, epsilon=1e-07, decay=0.01),\n",
    "    metrics=CategoricalAccuracy())\n",
    "\n",
    "model.summary()"
   ]
  },
  {
   "cell_type": "markdown",
   "metadata": {},
   "source": [
    "### Training"
   ]
  },
  {
   "cell_type": "code",
   "execution_count": 8,
   "metadata": {},
   "outputs": [],
   "source": [
    "epoch_val         = 10\n",
    "batch_size_val    = 1024\n",
    "\n",
    "verbose_val       = 2\n",
    "workers_val       = -1"
   ]
  },
  {
   "cell_type": "code",
   "execution_count": 9,
   "metadata": {
    "scrolled": false
   },
   "outputs": [
    {
     "name": "stdout",
     "output_type": "stream",
     "text": [
      "Epoch 1/10\n",
      "229/229 - 2s - loss: 0.4351 - categorical_accuracy: 0.8881 - val_loss: 0.3934 - val_categorical_accuracy: 0.8894\n",
      "Epoch 2/10\n",
      "229/229 - 2s - loss: 0.3850 - categorical_accuracy: 0.8916 - val_loss: 0.3898 - val_categorical_accuracy: 0.8898\n",
      "Epoch 3/10\n",
      "229/229 - 2s - loss: 0.3831 - categorical_accuracy: 0.8917 - val_loss: 0.3898 - val_categorical_accuracy: 0.8897\n",
      "Epoch 4/10\n",
      "229/229 - 2s - loss: 0.3822 - categorical_accuracy: 0.8919 - val_loss: 0.3887 - val_categorical_accuracy: 0.8897\n",
      "Epoch 5/10\n",
      "229/229 - 2s - loss: 0.3816 - categorical_accuracy: 0.8920 - val_loss: 0.3879 - val_categorical_accuracy: 0.8898\n",
      "Epoch 6/10\n",
      "229/229 - 2s - loss: 0.3812 - categorical_accuracy: 0.8921 - val_loss: 0.3875 - val_categorical_accuracy: 0.8898\n",
      "Epoch 7/10\n",
      "229/229 - 2s - loss: 0.3810 - categorical_accuracy: 0.8920 - val_loss: 0.3874 - val_categorical_accuracy: 0.8898\n",
      "Epoch 8/10\n",
      "229/229 - 2s - loss: 0.3808 - categorical_accuracy: 0.8921 - val_loss: 0.3874 - val_categorical_accuracy: 0.8897\n",
      "Epoch 9/10\n",
      "229/229 - 2s - loss: 0.3805 - categorical_accuracy: 0.8922 - val_loss: 0.3874 - val_categorical_accuracy: 0.8899\n",
      "Epoch 10/10\n",
      "229/229 - 2s - loss: 0.3803 - categorical_accuracy: 0.8921 - val_loss: 0.3873 - val_categorical_accuracy: 0.8899\n"
     ]
    },
    {
     "data": {
      "text/plain": [
       "<tensorflow.python.keras.callbacks.History at 0x132c87dbb38>"
      ]
     },
     "execution_count": 9,
     "metadata": {},
     "output_type": "execute_result"
    }
   ],
   "source": [
    "model.fit(x=train_x, \n",
    "          y=train_y, \n",
    "          epochs=epoch_val,\n",
    "          batch_size = batch_size_val,\n",
    "          validation_data = (valid_x, valid_y),\n",
    "          workers= workers_val,\n",
    "          verbose=verbose_val)"
   ]
  },
  {
   "cell_type": "markdown",
   "metadata": {},
   "source": [
    "### DNN"
   ]
  },
  {
   "cell_type": "code",
   "execution_count": 10,
   "metadata": {},
   "outputs": [
    {
     "name": "stdout",
     "output_type": "stream",
     "text": [
      "              precision    recall  f1-score   support\n",
      "\n",
      "    decrease       0.42      0.04      0.06      3354\n",
      "    increase       0.40      0.01      0.03      3158\n",
      "        same       0.89      1.00      0.94     51859\n",
      "\n",
      "    accuracy                           0.89     58371\n",
      "   macro avg       0.57      0.35      0.35     58371\n",
      "weighted avg       0.84      0.89      0.84     58371\n",
      "\n"
     ]
    }
   ],
   "source": [
    "predictions = model.predict(valid_x)\n",
    "rounded_predictions = np.argmax(predictions, axis = -1)\n",
    "rounded_valid_y = np.argmax(valid_y, axis = -1)\n",
    "\n",
    "print(classification_report(rounded_valid_y, rounded_predictions, target_names = y_map.values()))"
   ]
  },
  {
   "cell_type": "code",
   "execution_count": 11,
   "metadata": {},
   "outputs": [],
   "source": [
    "model.save('data/model/model_dnn.h5') \n",
    "model_new = load_model('data/model/model_dnn.h5')"
   ]
  },
  {
   "cell_type": "markdown",
   "metadata": {},
   "source": [
    "### DNN Prediction"
   ]
  },
  {
   "cell_type": "code",
   "execution_count": 12,
   "metadata": {},
   "outputs": [
    {
     "name": "stdout",
     "output_type": "stream",
     "text": [
      "Record count : 260475\n",
      "--------------------------\n",
      "same        165914\n",
      "decrease     47378\n",
      "increase     47183\n",
      "Name: direction, dtype: int64\n",
      "--------------------------\n",
      "same        0.636967\n",
      "decrease    0.181891\n",
      "increase    0.181142\n",
      "Name: direction, dtype: float64\n",
      "              precision    recall  f1-score   support\n",
      "\n",
      "    decrease       0.49      0.01      0.02     47378\n",
      "    increase       0.51      0.01      0.01     47183\n",
      "        same       0.64      1.00      0.78    165914\n",
      "\n",
      "    accuracy                           0.64    260475\n",
      "   macro avg       0.55      0.34      0.27    260475\n",
      "weighted avg       0.59      0.64      0.50    260475\n",
      "\n"
     ]
    },
    {
     "data": {
      "text/plain": [
       "<sklearn.metrics._plot.confusion_matrix.ConfusionMatrixDisplay at 0x1329c7c3c50>"
      ]
     },
     "execution_count": 12,
     "metadata": {},
     "output_type": "execute_result"
    },
    {
     "data": {
      "image/png": "[encoded data removed]",
      "text/plain": [
       "<Figure size 576x576 with 2 Axes>"
      ]
     },
     "metadata": {
      "needs_background": "light"
     },
     "output_type": "display_data"
    }
   ],
   "source": [
    "df1 = pd.read_csv('data/tab_tick_2018.csv')\n",
    "#df1.drop(remove_cols, axis=1, inplace=True)\n",
    "\n",
    "x_scaled1, y_encoded1, y_map1, scaler_obj_1 = data_prep(df1, apply_smote = False)\n",
    "\n",
    "predictions = model_new.predict(x_scaled1)\n",
    "rounded_predictions = np.argmax(predictions, axis = -1)\n",
    "rounded_valid_y = np.argmax(y_encoded1, axis = -1)\n",
    "\n",
    "df1['predictions'] = [y_map1[k] for k in rounded_predictions]\n",
    "df1.to_csv('data/tab_tick_2018_res.csv')\n",
    "\n",
    "print(classification_report(rounded_valid_y, rounded_predictions, target_names = y_map1.values()))\n",
    "\n",
    "fig, ax = plt.subplots(figsize=(8, 8))\n",
    "cm = confusion_matrix(rounded_valid_y, rounded_predictions)\n",
    "disp = ConfusionMatrixDisplay(confusion_matrix=cm, display_labels=y_map1.values())\n",
    "disp.plot(ax=ax)"
   ]
  },
  {
   "cell_type": "markdown",
   "metadata": {
    "scrolled": true
   },
   "source": [
    "live_df = pd.read_csv('data/live_preds.csv')\n",
    "live_df.drop(remove_cols, axis=1, inplace=True)\n",
    "del live_df['predicted_direction']\n",
    "\n",
    "model_new = load_model('data/model/model_dnn.h5')    \n",
    "scaler_obj = joblib.load('data/model/scaler_obj.pkl')\n",
    "y_map = joblib.load('data/model/y_map.pkl') \n",
    "\n",
    "x_scaled = scaler_obj.transform(live_df.values)\n",
    "predictions = model_new.predict(x_scaled) \n",
    "rounded_predictions = np.argmax(predictions, axis = -1)\n",
    "\n",
    "#live_df['predictions'] = y_map[data['rounded_predictions'][0]]\n",
    "live_df['predictions'] = [y_map[k] for k in rounded_predictions]\n",
    "\n",
    "print(y_map)\n",
    "live_df['predictions'].value_counts()"
   ]
  }
 ],
 "metadata": {
  "kernelspec": {
   "display_name": "Python 3.6.6 64-bit",
   "language": "python",
   "name": "python36664bitab910dfda0bc43a8bf7df0c20d1c59f2"
  },
  "language_info": {
   "codemirror_mode": {
    "name": "ipython",
    "version": 3
   },
   "file_extension": ".py",
   "mimetype": "text/x-python",
   "name": "python",
   "nbconvert_exporter": "python",
   "pygments_lexer": "ipython3",
   "version": "3.6.6"
  }
 },
 "nbformat": 4,
 "nbformat_minor": 4
}
