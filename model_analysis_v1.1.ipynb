{
 "cells": [
  {
   "cell_type": "markdown",
   "metadata": {},
   "source": [
    "# Modelling"
   ]
  },
  {
   "cell_type": "markdown",
   "metadata": {},
   "source": [
    "## Packages"
   ]
  },
  {
   "cell_type": "code",
   "execution_count": 1,
   "metadata": {
    "scrolled": true
   },
   "outputs": [
    {
     "name": "stdout",
     "output_type": "stream",
     "text": [
      " Found and Using 1 GPU\n"
     ]
    }
   ],
   "source": [
    "import numpy as np\n",
    "import pandas as pd\n",
    "from tqdm import tqdm\n",
    "import winsound\n",
    "import datetime as dt\n",
    "\n",
    "import warnings\n",
    "warnings.filterwarnings('ignore')\n",
    "\n",
    "from sklearn.model_selection import train_test_split\n",
    "from sklearn.preprocessing import StandardScaler, MinMaxScaler, LabelEncoder, OneHotEncoder\n",
    "from sklearn.metrics import classification_report\n",
    "from sklearn.ensemble import RandomForestClassifier\n",
    "\n",
    "from keras.utils import np_utils\n",
    "\n",
    "import tensorflow as tf\n",
    "from tensorflow.keras.models import load_model\n",
    "from tensorflow.keras.models import Sequential\n",
    "from tensorflow.keras.layers import Activation, Dense\n",
    "from tensorflow.keras.optimizers import Adam\n",
    "from tensorflow.keras.metrics import categorical_crossentropy\n",
    "\n",
    "from imblearn.over_sampling import SMOTE\n",
    "\n",
    "from matplotlib import pyplot as plt\n",
    "\n",
    "print(f\" Found and Using {len(tf.config.experimental.list_physical_devices('GPU'))} GPU\")"
   ]
  },
  {
   "cell_type": "markdown",
   "metadata": {},
   "source": [
    "## Functions"
   ]
  },
  {
   "cell_type": "code",
   "execution_count": 2,
   "metadata": {},
   "outputs": [],
   "source": [
    "def scale_x_encode_y(x, y):\n",
    "\n",
    "    x_scaled = StandardScaler().fit_transform(x.values)    \n",
    "    \n",
    "    encoder = LabelEncoder()\n",
    "    encoder.fit(y)\n",
    "    y_encoded = encoder.transform(y)\n",
    "    y_encoded = np_utils.to_categorical(y_encoded)\n",
    "    \n",
    "    y_map = dict(zip(encoder.transform(encoder.classes_),encoder.classes_))\n",
    " \n",
    "    return(x_scaled, y_encoded, y_map)\n",
    "\n",
    "def smote_data(x, y):\n",
    "    oversample = SMOTE()\n",
    "    smote_x, smote_y = oversample.fit_resample(x, y)\n",
    "\n",
    "    return(smote_x, smote_y)\n",
    "\n",
    "def split_data(df, divisor):\n",
    "    df_tot = df.copy()\n",
    "    print(f'df_tot count : {len(df_tot)}')\n",
    "\n",
    "    df1 = df_tot.iloc[int(len(df_tot)/divisor):]\n",
    "    print(f'df1 count : {len(df1)}')\n",
    "\n",
    "    df2 = df_tot.iloc[:int(len(df_tot)/divisor)]\n",
    "    print(f'df2 count : {len(df2)}')\n",
    "    \n",
    "    return(df_tot, df1, df2)\n",
    "\n",
    "def data_prep(df, apply_smote = False):\n",
    "    x = df.loc[:, df.columns != target_col]\n",
    "    y = df[target_col]\n",
    "\n",
    "    if apply_smote:\n",
    "        x, y = smote_data(x, y)\n",
    "\n",
    "    print(f'Record count : {len(y)}')\n",
    "    print('--------------------------')\n",
    "    print(y.value_counts())\n",
    "    print('--------------------------')\n",
    "    print(y.value_counts(normalize=True))\n",
    "    \n",
    "    x_scaled, y_encoded, y_map = scale_x_encode_y(x, y)\n",
    "    pd.DataFrame(x_scaled).head()\n",
    "    \n",
    "    return(x_scaled, y_encoded, y_map)"
   ]
  },
  {
   "cell_type": "markdown",
   "metadata": {},
   "source": [
    "## Read Data"
   ]
  },
  {
   "cell_type": "code",
   "execution_count": 3,
   "metadata": {},
   "outputs": [],
   "source": [
    "col_list = ['Open', 'High', 'Low', 'Close', \n",
    " 'diff', 'gain', 'loss', 'avg_gain', 'avg_loss', \n",
    " 'rs', 'rsi', \n",
    " 'ssma', 'lsma', 'sma_diff', \n",
    " 'sema', 'lema', 'ema_diff', \n",
    " 'slope_s', \n",
    " 'target']\n",
    "\n",
    "col_list = ['diff', 'avg_gain', 'avg_loss', \n",
    " 'rs', 'rsi', \n",
    " 'sma_diff', \n",
    " 'ema_diff', \n",
    " 'slope_s', \n",
    " 'target']"
   ]
  },
  {
   "cell_type": "code",
   "execution_count": 4,
   "metadata": {},
   "outputs": [
    {
     "data": {
      "text/html": [
       "<div>\n",
       "<style scoped>\n",
       "    .dataframe tbody tr th:only-of-type {\n",
       "        vertical-align: middle;\n",
       "    }\n",
       "\n",
       "    .dataframe tbody tr th {\n",
       "        vertical-align: top;\n",
       "    }\n",
       "\n",
       "    .dataframe thead th {\n",
       "        text-align: right;\n",
       "    }\n",
       "</style>\n",
       "<table border=\"1\" class=\"dataframe\">\n",
       "  <thead>\n",
       "    <tr style=\"text-align: right;\">\n",
       "      <th></th>\n",
       "      <th>tick_avg</th>\n",
       "      <th>spread_avg</th>\n",
       "      <th>tick_diff</th>\n",
       "      <th>sema</th>\n",
       "      <th>lema</th>\n",
       "      <th>ema_diff</th>\n",
       "      <th>diff</th>\n",
       "      <th>gain</th>\n",
       "      <th>loss</th>\n",
       "      <th>avg_gain</th>\n",
       "      <th>avg_loss</th>\n",
       "      <th>rs</th>\n",
       "      <th>rsi</th>\n",
       "      <th>small_sema_slope</th>\n",
       "      <th>long_sema_slope</th>\n",
       "      <th>direction</th>\n",
       "    </tr>\n",
       "  </thead>\n",
       "  <tbody>\n",
       "    <tr>\n",
       "      <th>0</th>\n",
       "      <td>1.146315</td>\n",
       "      <td>0.000191</td>\n",
       "      <td>-0.000032</td>\n",
       "      <td>1.146333</td>\n",
       "      <td>1.146333</td>\n",
       "      <td>0.000018</td>\n",
       "      <td>-4.057722e-06</td>\n",
       "      <td>0.0</td>\n",
       "      <td>4.057722e-06</td>\n",
       "      <td>0.000001</td>\n",
       "      <td>4.898769e-07</td>\n",
       "      <td>3.046879</td>\n",
       "      <td>75.289598</td>\n",
       "      <td>7.069366</td>\n",
       "      <td>-13.017403</td>\n",
       "      <td>same</td>\n",
       "    </tr>\n",
       "    <tr>\n",
       "      <th>1</th>\n",
       "      <td>1.146318</td>\n",
       "      <td>0.000255</td>\n",
       "      <td>0.000003</td>\n",
       "      <td>1.146330</td>\n",
       "      <td>1.146333</td>\n",
       "      <td>0.000012</td>\n",
       "      <td>-2.774500e-06</td>\n",
       "      <td>0.0</td>\n",
       "      <td>2.774500e-06</td>\n",
       "      <td>0.000001</td>\n",
       "      <td>7.673269e-07</td>\n",
       "      <td>1.772987</td>\n",
       "      <td>63.937800</td>\n",
       "      <td>4.964546</td>\n",
       "      <td>-12.938307</td>\n",
       "      <td>same</td>\n",
       "    </tr>\n",
       "    <tr>\n",
       "      <th>2</th>\n",
       "      <td>1.146327</td>\n",
       "      <td>0.000213</td>\n",
       "      <td>0.000009</td>\n",
       "      <td>1.146329</td>\n",
       "      <td>1.146333</td>\n",
       "      <td>0.000003</td>\n",
       "      <td>-6.336818e-07</td>\n",
       "      <td>0.0</td>\n",
       "      <td>6.336818e-07</td>\n",
       "      <td>0.000001</td>\n",
       "      <td>8.306951e-07</td>\n",
       "      <td>1.409099</td>\n",
       "      <td>58.490704</td>\n",
       "      <td>2.961423</td>\n",
       "      <td>-12.929473</td>\n",
       "      <td>same</td>\n",
       "    </tr>\n",
       "    <tr>\n",
       "      <th>3</th>\n",
       "      <td>1.146279</td>\n",
       "      <td>0.000273</td>\n",
       "      <td>-0.000047</td>\n",
       "      <td>1.146320</td>\n",
       "      <td>1.146331</td>\n",
       "      <td>0.000041</td>\n",
       "      <td>-9.063921e-06</td>\n",
       "      <td>0.0</td>\n",
       "      <td>9.063921e-06</td>\n",
       "      <td>0.000001</td>\n",
       "      <td>1.737087e-06</td>\n",
       "      <td>0.589623</td>\n",
       "      <td>37.091993</td>\n",
       "      <td>-1.558345</td>\n",
       "      <td>-12.794593</td>\n",
       "      <td>decrease</td>\n",
       "    </tr>\n",
       "    <tr>\n",
       "      <th>4</th>\n",
       "      <td>1.146262</td>\n",
       "      <td>0.000340</td>\n",
       "      <td>-0.000018</td>\n",
       "      <td>1.146310</td>\n",
       "      <td>1.146330</td>\n",
       "      <td>0.000048</td>\n",
       "      <td>-1.059775e-05</td>\n",
       "      <td>0.0</td>\n",
       "      <td>1.059775e-05</td>\n",
       "      <td>0.000001</td>\n",
       "      <td>2.796863e-06</td>\n",
       "      <td>0.365661</td>\n",
       "      <td>26.775385</td>\n",
       "      <td>-8.822273</td>\n",
       "      <td>-12.624174</td>\n",
       "      <td>same</td>\n",
       "    </tr>\n",
       "  </tbody>\n",
       "</table>\n",
       "</div>"
      ],
      "text/plain": [
       "   tick_avg  spread_avg  tick_diff      sema      lema  ema_diff  \\\n",
       "0  1.146315    0.000191  -0.000032  1.146333  1.146333  0.000018   \n",
       "1  1.146318    0.000255   0.000003  1.146330  1.146333  0.000012   \n",
       "2  1.146327    0.000213   0.000009  1.146329  1.146333  0.000003   \n",
       "3  1.146279    0.000273  -0.000047  1.146320  1.146331  0.000041   \n",
       "4  1.146262    0.000340  -0.000018  1.146310  1.146330  0.000048   \n",
       "\n",
       "           diff  gain          loss  avg_gain      avg_loss        rs  \\\n",
       "0 -4.057722e-06   0.0  4.057722e-06  0.000001  4.898769e-07  3.046879   \n",
       "1 -2.774500e-06   0.0  2.774500e-06  0.000001  7.673269e-07  1.772987   \n",
       "2 -6.336818e-07   0.0  6.336818e-07  0.000001  8.306951e-07  1.409099   \n",
       "3 -9.063921e-06   0.0  9.063921e-06  0.000001  1.737087e-06  0.589623   \n",
       "4 -1.059775e-05   0.0  1.059775e-05  0.000001  2.796863e-06  0.365661   \n",
       "\n",
       "         rsi  small_sema_slope  long_sema_slope direction  \n",
       "0  75.289598          7.069366       -13.017403      same  \n",
       "1  63.937800          4.964546       -12.938307      same  \n",
       "2  58.490704          2.961423       -12.929473      same  \n",
       "3  37.091993         -1.558345       -12.794593  decrease  \n",
       "4  26.775385         -8.822273       -12.624174      same  "
      ]
     },
     "execution_count": 4,
     "metadata": {},
     "output_type": "execute_result"
    }
   ],
   "source": [
    "#df = pd.read_csv('data/tab_df.csv')\n",
    "#df = pd.read_csv('data/tab_M1_2019.csv')\n",
    "df = pd.read_csv('data/tab_tick_2019.csv')\n",
    "\n",
    "#df = df[col_list]\n",
    "\n",
    "df.head(5)"
   ]
  },
  {
   "cell_type": "code",
   "execution_count": 5,
   "metadata": {},
   "outputs": [
    {
     "name": "stdout",
     "output_type": "stream",
     "text": [
      "Record count : 2918532\n",
      "--------------------------\n",
      "same        2094807\n",
      "decrease     413713\n",
      "increase     410012\n",
      "Name: direction, dtype: int64\n",
      "--------------------------\n",
      "same        0.717761\n",
      "decrease    0.141754\n",
      "increase    0.140486\n",
      "Name: direction, dtype: float64\n"
     ]
    }
   ],
   "source": [
    "target_col = 'direction'\n",
    "x_scaled, y_encoded, y_map = data_prep(df)"
   ]
  },
  {
   "cell_type": "markdown",
   "metadata": {},
   "source": [
    "## Neural Network"
   ]
  },
  {
   "cell_type": "markdown",
   "metadata": {},
   "source": [
    "### Network building"
   ]
  },
  {
   "cell_type": "code",
   "execution_count": 6,
   "metadata": {},
   "outputs": [],
   "source": [
    "train_x, valid_x, train_y, valid_y = train_test_split(x_scaled, y_encoded,train_size = 0.8,random_state = 1)"
   ]
  },
  {
   "cell_type": "code",
   "execution_count": 7,
   "metadata": {},
   "outputs": [
    {
     "name": "stdout",
     "output_type": "stream",
     "text": [
      "Model: \"sequential\"\n",
      "_________________________________________________________________\n",
      "Layer (type)                 Output Shape              Param #   \n",
      "=================================================================\n",
      "dense (Dense)                (None, 16)                256       \n",
      "_________________________________________________________________\n",
      "dense_1 (Dense)              (None, 32)                544       \n",
      "_________________________________________________________________\n",
      "dense_2 (Dense)              (None, 64)                2112      \n",
      "_________________________________________________________________\n",
      "dense_3 (Dense)              (None, 32)                2080      \n",
      "_________________________________________________________________\n",
      "dense_4 (Dense)              (None, 16)                528       \n",
      "_________________________________________________________________\n",
      "dense_5 (Dense)              (None, 3)                 51        \n",
      "=================================================================\n",
      "Total params: 5,571\n",
      "Trainable params: 5,571\n",
      "Non-trainable params: 0\n",
      "_________________________________________________________________\n"
     ]
    }
   ],
   "source": [
    "model = Sequential([\n",
    "    Dense(units = 16, activation='relu', input_shape=[len(train_x[0])]),\n",
    "    Dense(units = 32, activation='relu'),\n",
    "    Dense(units = 64, activation='relu'),\n",
    "    Dense(units = 32, activation='relu'),\n",
    "    Dense(units = 16, activation='relu'),\n",
    "    Dense(units = 3, activation='softmax')\n",
    "])\n",
    "\n",
    "model.compile(\n",
    "    loss='categorical_crossentropy',\n",
    "    optimizer=Adam(learning_rate=0.001),    \n",
    "    metrics=['accuracy'])\n",
    "\n",
    "model.summary()"
   ]
  },
  {
   "cell_type": "markdown",
   "metadata": {},
   "source": [
    "### Training"
   ]
  },
  {
   "cell_type": "code",
   "execution_count": 8,
   "metadata": {},
   "outputs": [],
   "source": [
    "epoch_val         = 10\n",
    "batch_size_val    = 1024\n",
    "\n",
    "verbose_val       = 2\n",
    "workers_val       = -1"
   ]
  },
  {
   "cell_type": "code",
   "execution_count": 9,
   "metadata": {
    "scrolled": false
   },
   "outputs": [
    {
     "name": "stdout",
     "output_type": "stream",
     "text": [
      "Epoch 1/10\n",
      "2281/2281 - 18s - loss: 0.3845 - accuracy: 0.8457 - val_loss: 0.3718 - val_accuracy: 0.8502\n",
      "Epoch 2/10\n",
      "2281/2281 - 18s - loss: 0.3718 - accuracy: 0.8497 - val_loss: 0.3710 - val_accuracy: 0.8503\n",
      "Epoch 3/10\n",
      "2281/2281 - 18s - loss: 0.3710 - accuracy: 0.8499 - val_loss: 0.3692 - val_accuracy: 0.8508\n",
      "Epoch 4/10\n",
      "2281/2281 - 17s - loss: 0.3705 - accuracy: 0.8501 - val_loss: 0.3694 - val_accuracy: 0.8507\n",
      "Epoch 5/10\n",
      "2281/2281 - 17s - loss: 0.3704 - accuracy: 0.8501 - val_loss: 0.3701 - val_accuracy: 0.8505\n",
      "Epoch 6/10\n",
      "2281/2281 - 18s - loss: 0.3701 - accuracy: 0.8501 - val_loss: 0.3703 - val_accuracy: 0.8506\n",
      "Epoch 7/10\n",
      "2281/2281 - 17s - loss: 0.3700 - accuracy: 0.8502 - val_loss: 0.3691 - val_accuracy: 0.8506\n",
      "Epoch 8/10\n",
      "2281/2281 - 17s - loss: 0.3698 - accuracy: 0.8502 - val_loss: 0.3687 - val_accuracy: 0.8508\n",
      "Epoch 9/10\n",
      "2281/2281 - 18s - loss: 0.3697 - accuracy: 0.8502 - val_loss: 0.3703 - val_accuracy: 0.8504\n",
      "Epoch 10/10\n",
      "2281/2281 - 17s - loss: 0.3697 - accuracy: 0.8502 - val_loss: 0.3687 - val_accuracy: 0.8509\n"
     ]
    },
    {
     "data": {
      "text/plain": [
       "<tensorflow.python.keras.callbacks.History at 0x150baf5dfd0>"
      ]
     },
     "execution_count": 9,
     "metadata": {},
     "output_type": "execute_result"
    }
   ],
   "source": [
    "model.fit(x=train_x, \n",
    "          y=train_y, \n",
    "          epochs=epoch_val,\n",
    "          batch_size = batch_size_val,\n",
    "          validation_data = (valid_x, valid_y),\n",
    "          workers= workers_val,\n",
    "         verbose=verbose_val)"
   ]
  },
  {
   "cell_type": "markdown",
   "metadata": {},
   "source": [
    "### DNN Validation"
   ]
  },
  {
   "cell_type": "code",
   "execution_count": 10,
   "metadata": {},
   "outputs": [
    {
     "name": "stdout",
     "output_type": "stream",
     "text": [
      "              precision    recall  f1-score   support\n",
      "\n",
      "    decrease       0.79      0.65      0.71     82426\n",
      "    increase       0.79      0.64      0.70     81767\n",
      "        same       0.87      0.93      0.90    419514\n",
      "\n",
      "    accuracy                           0.85    583707\n",
      "   macro avg       0.82      0.74      0.77    583707\n",
      "weighted avg       0.85      0.85      0.85    583707\n",
      "\n"
     ]
    }
   ],
   "source": [
    "predictions = model.predict(valid_x)\n",
    "rounded_predictions = np.argmax(predictions, axis = -1)\n",
    "rounded_valid_y = np.argmax(valid_y, axis = -1)\n",
    "\n",
    "print(classification_report(rounded_valid_y, rounded_predictions, target_names = y_map.values()))"
   ]
  },
  {
   "cell_type": "markdown",
   "metadata": {},
   "source": [
    "### DNN Prediction"
   ]
  },
  {
   "cell_type": "code",
   "execution_count": 12,
   "metadata": {},
   "outputs": [
    {
     "data": {
      "text/html": [
       "<div>\n",
       "<style scoped>\n",
       "    .dataframe tbody tr th:only-of-type {\n",
       "        vertical-align: middle;\n",
       "    }\n",
       "\n",
       "    .dataframe tbody tr th {\n",
       "        vertical-align: top;\n",
       "    }\n",
       "\n",
       "    .dataframe thead th {\n",
       "        text-align: right;\n",
       "    }\n",
       "</style>\n",
       "<table border=\"1\" class=\"dataframe\">\n",
       "  <thead>\n",
       "    <tr style=\"text-align: right;\">\n",
       "      <th></th>\n",
       "      <th>tick_avg</th>\n",
       "      <th>spread_avg</th>\n",
       "      <th>tick_diff</th>\n",
       "      <th>sema</th>\n",
       "      <th>lema</th>\n",
       "      <th>ema_diff</th>\n",
       "      <th>diff</th>\n",
       "      <th>gain</th>\n",
       "      <th>loss</th>\n",
       "      <th>avg_gain</th>\n",
       "      <th>avg_loss</th>\n",
       "      <th>rs</th>\n",
       "      <th>rsi</th>\n",
       "      <th>small_sema_slope</th>\n",
       "      <th>long_sema_slope</th>\n",
       "      <th>direction</th>\n",
       "    </tr>\n",
       "  </thead>\n",
       "  <tbody>\n",
       "    <tr>\n",
       "      <th>0</th>\n",
       "      <td>1.201482</td>\n",
       "      <td>0.000157</td>\n",
       "      <td>1.000000e-05</td>\n",
       "      <td>1.201457</td>\n",
       "      <td>1.201171</td>\n",
       "      <td>-0.000025</td>\n",
       "      <td>0.000006</td>\n",
       "      <td>0.000006</td>\n",
       "      <td>0.0</td>\n",
       "      <td>0.000002</td>\n",
       "      <td>0.000006</td>\n",
       "      <td>0.260110</td>\n",
       "      <td>20.641870</td>\n",
       "      <td>-24.468222</td>\n",
       "      <td>36.156279</td>\n",
       "      <td>same</td>\n",
       "    </tr>\n",
       "    <tr>\n",
       "      <th>1</th>\n",
       "      <td>1.201481</td>\n",
       "      <td>0.000178</td>\n",
       "      <td>-5.000000e-07</td>\n",
       "      <td>1.201461</td>\n",
       "      <td>1.201178</td>\n",
       "      <td>-0.000020</td>\n",
       "      <td>0.000004</td>\n",
       "      <td>0.000004</td>\n",
       "      <td>0.0</td>\n",
       "      <td>0.000002</td>\n",
       "      <td>0.000006</td>\n",
       "      <td>0.377234</td>\n",
       "      <td>27.390691</td>\n",
       "      <td>-11.820742</td>\n",
       "      <td>37.596694</td>\n",
       "      <td>same</td>\n",
       "    </tr>\n",
       "    <tr>\n",
       "      <th>2</th>\n",
       "      <td>1.201483</td>\n",
       "      <td>0.000176</td>\n",
       "      <td>2.000000e-06</td>\n",
       "      <td>1.201465</td>\n",
       "      <td>1.201185</td>\n",
       "      <td>-0.000018</td>\n",
       "      <td>0.000004</td>\n",
       "      <td>0.000004</td>\n",
       "      <td>0.0</td>\n",
       "      <td>0.000003</td>\n",
       "      <td>0.000004</td>\n",
       "      <td>0.624199</td>\n",
       "      <td>38.431208</td>\n",
       "      <td>-0.274442</td>\n",
       "      <td>38.488405</td>\n",
       "      <td>same</td>\n",
       "    </tr>\n",
       "    <tr>\n",
       "      <th>3</th>\n",
       "      <td>1.201496</td>\n",
       "      <td>0.000173</td>\n",
       "      <td>1.350000e-05</td>\n",
       "      <td>1.201471</td>\n",
       "      <td>1.201192</td>\n",
       "      <td>-0.000026</td>\n",
       "      <td>0.000006</td>\n",
       "      <td>0.000006</td>\n",
       "      <td>0.0</td>\n",
       "      <td>0.000003</td>\n",
       "      <td>0.000003</td>\n",
       "      <td>1.013613</td>\n",
       "      <td>50.338012</td>\n",
       "      <td>10.405255</td>\n",
       "      <td>39.028280</td>\n",
       "      <td>same</td>\n",
       "    </tr>\n",
       "    <tr>\n",
       "      <th>4</th>\n",
       "      <td>1.201492</td>\n",
       "      <td>0.000158</td>\n",
       "      <td>-4.500000e-06</td>\n",
       "      <td>1.201475</td>\n",
       "      <td>1.201199</td>\n",
       "      <td>-0.000017</td>\n",
       "      <td>0.000004</td>\n",
       "      <td>0.000004</td>\n",
       "      <td>0.0</td>\n",
       "      <td>0.000003</td>\n",
       "      <td>0.000002</td>\n",
       "      <td>1.608876</td>\n",
       "      <td>61.669312</td>\n",
       "      <td>18.440327</td>\n",
       "      <td>39.492326</td>\n",
       "      <td>same</td>\n",
       "    </tr>\n",
       "  </tbody>\n",
       "</table>\n",
       "</div>"
      ],
      "text/plain": [
       "   tick_avg  spread_avg     tick_diff      sema      lema  ema_diff      diff  \\\n",
       "0  1.201482    0.000157  1.000000e-05  1.201457  1.201171 -0.000025  0.000006   \n",
       "1  1.201481    0.000178 -5.000000e-07  1.201461  1.201178 -0.000020  0.000004   \n",
       "2  1.201483    0.000176  2.000000e-06  1.201465  1.201185 -0.000018  0.000004   \n",
       "3  1.201496    0.000173  1.350000e-05  1.201471  1.201192 -0.000026  0.000006   \n",
       "4  1.201492    0.000158 -4.500000e-06  1.201475  1.201199 -0.000017  0.000004   \n",
       "\n",
       "       gain  loss  avg_gain  avg_loss        rs        rsi  small_sema_slope  \\\n",
       "0  0.000006   0.0  0.000002  0.000006  0.260110  20.641870        -24.468222   \n",
       "1  0.000004   0.0  0.000002  0.000006  0.377234  27.390691        -11.820742   \n",
       "2  0.000004   0.0  0.000003  0.000004  0.624199  38.431208         -0.274442   \n",
       "3  0.000006   0.0  0.000003  0.000003  1.013613  50.338012         10.405255   \n",
       "4  0.000004   0.0  0.000003  0.000002  1.608876  61.669312         18.440327   \n",
       "\n",
       "   long_sema_slope direction  \n",
       "0        36.156279      same  \n",
       "1        37.596694      same  \n",
       "2        38.488405      same  \n",
       "3        39.028280      same  \n",
       "4        39.492326      same  "
      ]
     },
     "execution_count": 12,
     "metadata": {},
     "output_type": "execute_result"
    }
   ],
   "source": [
    "df1.head()"
   ]
  },
  {
   "cell_type": "code",
   "execution_count": 13,
   "metadata": {
    "scrolled": true
   },
   "outputs": [
    {
     "name": "stdout",
     "output_type": "stream",
     "text": [
      "Record count : 2604779\n",
      "--------------------------\n",
      "same        1339163\n",
      "decrease     634933\n",
      "increase     630683\n",
      "Name: direction, dtype: int64\n",
      "--------------------------\n",
      "same        0.514118\n",
      "decrease    0.243757\n",
      "increase    0.242125\n",
      "Name: direction, dtype: float64\n",
      "              precision    recall  f1-score   support\n",
      "\n",
      "    decrease       0.92      0.46      0.61    634933\n",
      "    increase       0.92      0.45      0.60    630683\n",
      "        same       0.65      0.96      0.78   1339163\n",
      "\n",
      "    accuracy                           0.72   2604779\n",
      "   macro avg       0.83      0.62      0.66   2604779\n",
      "weighted avg       0.78      0.72      0.69   2604779\n",
      "\n"
     ]
    }
   ],
   "source": [
    "df1 = pd.read_csv('data/tab_tick_2018.csv')\n",
    "\n",
    "#df1 = df1[col_list]\n",
    "x_scaled1, y_encoded1, y_map1 = data_prep(df1, apply_smote = False)\n",
    "\n",
    "predictions = model.predict(x_scaled1)\n",
    "rounded_predictions = np.argmax(predictions, axis = -1)\n",
    "rounded_valid_y = np.argmax(y_encoded1, axis = -1)\n",
    "\n",
    "df1['predictions'] = [y_map1[k] for k in rounded_predictions]\n",
    "df1.to_csv('data/tab_M1_2018_res.csv')\n",
    "\n",
    "print(classification_report(rounded_valid_y, rounded_predictions, target_names = y_map1.values()))"
   ]
  },
  {
   "cell_type": "markdown",
   "metadata": {},
   "source": [
    "## RF Results"
   ]
  },
  {
   "cell_type": "code",
   "execution_count": 15,
   "metadata": {
    "scrolled": true
   },
   "outputs": [
    {
     "name": "stdout",
     "output_type": "stream",
     "text": [
      "              precision    recall  f1-score   support\n",
      "\n",
      "    decrease       0.76      0.65      0.70     82426\n",
      "    increase       0.78      0.63      0.70     81767\n",
      "        same       0.87      0.93      0.90    419514\n",
      "\n",
      "    accuracy                           0.85    583707\n",
      "   macro avg       0.80      0.73      0.76    583707\n",
      "weighted avg       0.84      0.85      0.84    583707\n",
      "\n",
      "Wall time: 4min 58s\n"
     ]
    }
   ],
   "source": [
    "%%time\n",
    "clf = RandomForestClassifier(n_jobs=-1) \n",
    "clf.fit(train_x, train_y)\n",
    "predictions = clf.predict(valid_x)\n",
    "rounded_predictions = np.argmax(predictions, axis = -1)\n",
    "rounded_valid_y = np.argmax(valid_y, axis = -1)\n",
    "print(classification_report(rounded_valid_y, rounded_predictions, target_names = y_map.values()))"
   ]
  },
  {
   "cell_type": "code",
   "execution_count": 16,
   "metadata": {
    "scrolled": false
   },
   "outputs": [
    {
     "data": {
      "image/png": "[encoded data removed]",
      "text/plain": [
       "<Figure size 1080x720 with 1 Axes>"
      ]
     },
     "metadata": {
      "needs_background": "light"
     },
     "output_type": "display_data"
    }
   ],
   "source": [
    "x_cols = df.columns[df.columns != 'direction']\n",
    "fig = plt.figure()\n",
    "fig.suptitle('Feature importance', fontsize=20)\n",
    "plt.xlabel('Importance %', fontsize=16)\n",
    "plt.ylabel('Features', fontsize=16)\n",
    "plt.tick_params(axis='x', labelsize=12)\n",
    "plt.tick_params(axis='y', labelsize=15)\n",
    "\n",
    "\n",
    "feat_importances = pd.Series(clf.feature_importances_ * 100, index=x_cols)\n",
    "feat_importances.nlargest(24).plot(kind='barh', figsize=(15, 10), rot=45)\n",
    "\n",
    "for index, value in enumerate(np.round(-np.sort(-clf.feature_importances_ * 100))):\n",
    "    plt.text(value+0.45, index, str(value), fontsize=12)"
   ]
  }
 ],
 "metadata": {
  "kernelspec": {
   "display_name": "Python 3.6.6 64-bit",
   "language": "python",
   "name": "python36664bitab910dfda0bc43a8bf7df0c20d1c59f2"
  },
  "language_info": {
   "codemirror_mode": {
    "name": "ipython",
    "version": 3
   },
   "file_extension": ".py",
   "mimetype": "text/x-python",
   "name": "python",
   "nbconvert_exporter": "python",
   "pygments_lexer": "ipython3",
   "version": "3.6.6"
  }
 },
 "nbformat": 4,
 "nbformat_minor": 4
}
