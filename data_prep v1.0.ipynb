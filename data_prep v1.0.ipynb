{
 "cells": [
  {
   "cell_type": "code",
   "execution_count": 17,
   "metadata": {
    "scrolled": true
   },
   "outputs": [],
   "source": [
    "import numpy as np\n",
    "import pandas as pd"
   ]
  },
  {
   "cell_type": "code",
   "execution_count": 146,
   "metadata": {},
   "outputs": [
    {
     "data": {
      "text/html": [
       "<div>\n",
       "<style scoped>\n",
       "    .dataframe tbody tr th:only-of-type {\n",
       "        vertical-align: middle;\n",
       "    }\n",
       "\n",
       "    .dataframe tbody tr th {\n",
       "        vertical-align: top;\n",
       "    }\n",
       "\n",
       "    .dataframe thead th {\n",
       "        text-align: right;\n",
       "    }\n",
       "</style>\n",
       "<table border=\"1\" class=\"dataframe\">\n",
       "  <thead>\n",
       "    <tr style=\"text-align: right;\">\n",
       "      <th></th>\n",
       "      <th>TS</th>\n",
       "      <th>Close</th>\n",
       "    </tr>\n",
       "  </thead>\n",
       "  <tbody>\n",
       "    <tr>\n",
       "      <th>0</th>\n",
       "      <td>2019-01-01 17:02</td>\n",
       "      <td>1.14598</td>\n",
       "    </tr>\n",
       "    <tr>\n",
       "      <th>1</th>\n",
       "      <td>2019-01-01 17:03</td>\n",
       "      <td>1.14607</td>\n",
       "    </tr>\n",
       "    <tr>\n",
       "      <th>2</th>\n",
       "      <td>2019-01-01 17:04</td>\n",
       "      <td>1.14606</td>\n",
       "    </tr>\n",
       "    <tr>\n",
       "      <th>3</th>\n",
       "      <td>2019-01-01 17:05</td>\n",
       "      <td>1.14621</td>\n",
       "    </tr>\n",
       "    <tr>\n",
       "      <th>4</th>\n",
       "      <td>2019-01-01 17:06</td>\n",
       "      <td>1.14665</td>\n",
       "    </tr>\n",
       "    <tr>\n",
       "      <th>5</th>\n",
       "      <td>2019-01-01 17:07</td>\n",
       "      <td>1.14607</td>\n",
       "    </tr>\n",
       "    <tr>\n",
       "      <th>6</th>\n",
       "      <td>2019-01-01 17:08</td>\n",
       "      <td>1.14607</td>\n",
       "    </tr>\n",
       "    <tr>\n",
       "      <th>7</th>\n",
       "      <td>2019-01-01 17:09</td>\n",
       "      <td>1.14606</td>\n",
       "    </tr>\n",
       "    <tr>\n",
       "      <th>8</th>\n",
       "      <td>2019-01-01 17:10</td>\n",
       "      <td>1.14607</td>\n",
       "    </tr>\n",
       "    <tr>\n",
       "      <th>9</th>\n",
       "      <td>2019-01-01 17:11</td>\n",
       "      <td>1.14607</td>\n",
       "    </tr>\n",
       "  </tbody>\n",
       "</table>\n",
       "</div>"
      ],
      "text/plain": [
       "                 TS    Close\n",
       "0  2019-01-01 17:02  1.14598\n",
       "1  2019-01-01 17:03  1.14607\n",
       "2  2019-01-01 17:04  1.14606\n",
       "3  2019-01-01 17:05  1.14621\n",
       "4  2019-01-01 17:06  1.14665\n",
       "5  2019-01-01 17:07  1.14607\n",
       "6  2019-01-01 17:08  1.14607\n",
       "7  2019-01-01 17:09  1.14606\n",
       "8  2019-01-01 17:10  1.14607\n",
       "9  2019-01-01 17:11  1.14607"
      ]
     },
     "execution_count": 146,
     "metadata": {},
     "output_type": "execute_result"
    }
   ],
   "source": [
    "raw_df = pd.read_csv('data\\M1_2019.csv')\n",
    "df = raw_df[['TS', 'Close']]\n",
    "df.head()\n",
    "\n",
    "df = df[:10]\n",
    "df"
   ]
  },
  {
   "cell_type": "code",
   "execution_count": 143,
   "metadata": {},
   "outputs": [
    {
     "name": "stdout",
     "output_type": "stream",
     "text": [
      "[0, 1, 2]\n"
     ]
    },
    {
     "data": {
      "text/html": [
       "<div>\n",
       "<style scoped>\n",
       "    .dataframe tbody tr th:only-of-type {\n",
       "        vertical-align: middle;\n",
       "    }\n",
       "\n",
       "    .dataframe tbody tr th {\n",
       "        vertical-align: top;\n",
       "    }\n",
       "\n",
       "    .dataframe thead th {\n",
       "        text-align: right;\n",
       "    }\n",
       "</style>\n",
       "<table border=\"1\" class=\"dataframe\">\n",
       "  <thead>\n",
       "    <tr style=\"text-align: right;\">\n",
       "      <th></th>\n",
       "      <th>0</th>\n",
       "      <th>1</th>\n",
       "      <th>2</th>\n",
       "    </tr>\n",
       "  </thead>\n",
       "  <tbody>\n",
       "  </tbody>\n",
       "</table>\n",
       "</div>"
      ],
      "text/plain": [
       "Empty DataFrame\n",
       "Columns: [0, 1, 2]\n",
       "Index: []"
      ]
     },
     "execution_count": 143,
     "metadata": {},
     "output_type": "execute_result"
    }
   ],
   "source": [
    "roll_len = 3\n",
    "col_list = []\n",
    "\n",
    "for i in range(roll_len):\n",
    "    #col_list.append(f'col_{i}')\n",
    "    col_list.append(i)\n",
    "print(col_list)\n",
    "\n",
    "df1 = pd.DataFrame()\n",
    "df1 = pd.DataFrame(columns = col_list)\n",
    "df1"
   ]
  },
  {
   "cell_type": "code",
   "execution_count": 152,
   "metadata": {},
   "outputs": [
    {
     "name": "stdout",
     "output_type": "stream",
     "text": [
      "0 2 [1.14598, 1.14607, 1.14606] 2019-01-01 17:04\n",
      "1 3 [1.14607, 1.14606, 1.14621] 2019-01-01 17:05\n",
      "2 4 [1.14606, 1.14621, 1.14665] 2019-01-01 17:06\n",
      "3 5 [1.14621, 1.14665, 1.14607] 2019-01-01 17:07\n",
      "4 6 [1.14665, 1.14607, 1.14607] 2019-01-01 17:08\n",
      "5 7 [1.14607, 1.14607, 1.14606] 2019-01-01 17:09\n",
      "6 8 [1.14607, 1.14606, 1.14607] 2019-01-01 17:10\n",
      "7 9 [1.14606, 1.14607, 1.14607] 2019-01-01 17:11\n"
     ]
    }
   ],
   "source": [
    "for i, val in df.iterrows():\n",
    "    act_row = i+roll_len-1\n",
    "    l = list(df['Close'][i:act_row+1])\n",
    "    if len(l) == roll_len:\n",
    "        print(i, act_row, l, df['TS'][act_row])\n",
    "        for j, val in enumerate(l):    \n",
    "            df1.at[i, j] = val"
   ]
  },
  {
   "cell_type": "code",
   "execution_count": 145,
   "metadata": {},
   "outputs": [
    {
     "data": {
      "text/html": [
       "<div>\n",
       "<style scoped>\n",
       "    .dataframe tbody tr th:only-of-type {\n",
       "        vertical-align: middle;\n",
       "    }\n",
       "\n",
       "    .dataframe tbody tr th {\n",
       "        vertical-align: top;\n",
       "    }\n",
       "\n",
       "    .dataframe thead th {\n",
       "        text-align: right;\n",
       "    }\n",
       "</style>\n",
       "<table border=\"1\" class=\"dataframe\">\n",
       "  <thead>\n",
       "    <tr style=\"text-align: right;\">\n",
       "      <th></th>\n",
       "      <th>0</th>\n",
       "      <th>1</th>\n",
       "      <th>2</th>\n",
       "    </tr>\n",
       "  </thead>\n",
       "  <tbody>\n",
       "    <tr>\n",
       "      <th>0</th>\n",
       "      <td>1.14598</td>\n",
       "      <td>1.14607</td>\n",
       "      <td>1.14606</td>\n",
       "    </tr>\n",
       "    <tr>\n",
       "      <th>1</th>\n",
       "      <td>1.14607</td>\n",
       "      <td>1.14606</td>\n",
       "      <td>1.14621</td>\n",
       "    </tr>\n",
       "    <tr>\n",
       "      <th>2</th>\n",
       "      <td>1.14606</td>\n",
       "      <td>1.14621</td>\n",
       "      <td>1.14665</td>\n",
       "    </tr>\n",
       "    <tr>\n",
       "      <th>3</th>\n",
       "      <td>1.14621</td>\n",
       "      <td>1.14665</td>\n",
       "      <td>1.14607</td>\n",
       "    </tr>\n",
       "    <tr>\n",
       "      <th>4</th>\n",
       "      <td>1.14665</td>\n",
       "      <td>1.14607</td>\n",
       "      <td>1.14607</td>\n",
       "    </tr>\n",
       "    <tr>\n",
       "      <th>5</th>\n",
       "      <td>1.14607</td>\n",
       "      <td>1.14607</td>\n",
       "      <td>1.14606</td>\n",
       "    </tr>\n",
       "    <tr>\n",
       "      <th>6</th>\n",
       "      <td>1.14607</td>\n",
       "      <td>1.14606</td>\n",
       "      <td>1.14607</td>\n",
       "    </tr>\n",
       "    <tr>\n",
       "      <th>7</th>\n",
       "      <td>1.14606</td>\n",
       "      <td>1.14607</td>\n",
       "      <td>1.14607</td>\n",
       "    </tr>\n",
       "  </tbody>\n",
       "</table>\n",
       "</div>"
      ],
      "text/plain": [
       "         0        1        2\n",
       "0  1.14598  1.14607  1.14606\n",
       "1  1.14607  1.14606  1.14621\n",
       "2  1.14606  1.14621  1.14665\n",
       "3  1.14621  1.14665  1.14607\n",
       "4  1.14665  1.14607  1.14607\n",
       "5  1.14607  1.14607  1.14606\n",
       "6  1.14607  1.14606  1.14607\n",
       "7  1.14606  1.14607  1.14607"
      ]
     },
     "execution_count": 145,
     "metadata": {},
     "output_type": "execute_result"
    }
   ],
   "source": [
    "df1"
   ]
  }
 ],
 "metadata": {
  "kernelspec": {
   "display_name": "Python 3.6.6 64-bit",
   "language": "python",
   "name": "python36664bitab910dfda0bc43a8bf7df0c20d1c59f2"
  },
  "language_info": {
   "codemirror_mode": {
    "name": "ipython",
    "version": 3
   },
   "file_extension": ".py",
   "mimetype": "text/x-python",
   "name": "python",
   "nbconvert_exporter": "python",
   "pygments_lexer": "ipython3",
   "version": "3.6.6"
  }
 },
 "nbformat": 4,
 "nbformat_minor": 4
}
