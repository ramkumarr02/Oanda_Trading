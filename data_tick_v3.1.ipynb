{
 "cells": [
  {
   "cell_type": "markdown",
   "metadata": {},
   "source": [
    "# Data Preparation"
   ]
  },
  {
   "cell_type": "markdown",
   "metadata": {},
   "source": [
    "## Packages"
   ]
  },
  {
   "cell_type": "code",
   "execution_count": 1,
   "metadata": {
    "scrolled": true
   },
   "outputs": [],
   "source": [
    "import os\n",
    "import winsound\n",
    "import numpy as np\n",
    "import pandas as pd\n",
    "import datetime as dt\n",
    "from tqdm import tqdm\n",
    "tqdm.pandas()\n",
    "from multiprocessing import  Pool\n",
    "import time\n",
    "\n",
    "import math, collections\n",
    "from scipy.stats import linregress\n",
    "\n",
    "from matplotlib import pyplot as plt\n",
    "from matplotlib.pyplot import figure\n",
    "\n",
    "import warnings\n",
    "warnings.filterwarnings('ignore')"
   ]
  },
  {
   "cell_type": "code",
   "execution_count": 2,
   "metadata": {},
   "outputs": [],
   "source": [
    "def chunk_ticks(df, number_of_ticks):   \n",
    "    global data\n",
    "    \n",
    "    df['tick'] = (df['Bid'] + df['Ask'])/2\n",
    "    df['spread'] = df['Ask'] - df['Bid']\n",
    "    df = df[['tick', 'spread']]\n",
    "    \n",
    "    temp_df = pd.DataFrame()\n",
    "    tick_avg = []\n",
    "    spread_avg = []\n",
    "    tick_sd = []\n",
    "    tick_high = []\n",
    "    tick_low = []\n",
    "    \n",
    "    for i in tqdm(range(0,len(df),number_of_ticks)):\n",
    "        tick_list = list(df['tick'][i:i+number_of_ticks])\n",
    "        spread_list = list(df['spread'][i:i+number_of_ticks])\n",
    "        \n",
    "        \n",
    "        tick_avg.append(list(pd.DataFrame(tick_list).ewm(span=len(tick_list)).mean()[0])[len(tick_list) - 1])        \n",
    "        #tick_avg.append(np.mean(tick_list))  \n",
    "        \n",
    "        spread_avg.append(np.mean(spread_list))\n",
    "        tick_sd.append(np.std(tick_list))\n",
    "        tick_high.append(np.max(tick_list))\n",
    "        tick_low.append(np.min(tick_list))\n",
    "        \n",
    "        \n",
    "    temp_df['tick_avg'] = tick_avg  \n",
    "    temp_df['tick_high'] = tick_high\n",
    "    temp_df['tick_low'] = tick_low\n",
    "    temp_df['spread_avg'] = spread_avg  \n",
    "    temp_df['tick_sd'] = tick_sd\n",
    "\n",
    "    return(temp_df)"
   ]
  },
  {
   "cell_type": "code",
   "execution_count": 3,
   "metadata": {},
   "outputs": [],
   "source": [
    "def before_sma():\n",
    "    global data    \n",
    "    data['ssma_list'].append(val)    \n",
    "    return()\n",
    "\n",
    "def after_sma():\n",
    "    global data\n",
    "    \n",
    "    data['ssma_list'].popleft()\n",
    "    data['ssma_list'].append(val)\n",
    "    data['sema'] = list(pd.DataFrame(list(data['ssma_list'])).ewm(span=data['sma_len']).mean()[0])[data['sma_len'] - 1]\n",
    "    \n",
    "    if len(data['sema_ready']) < 2:\n",
    "        data['sema_ready'].append(data['sema'])\n",
    "        data['sema_diff'] = np.nan\n",
    "\n",
    "    elif len(data['sema_ready']) > 1:\n",
    "        data['sema_ready'].popleft()\n",
    "        data['sema_ready'].append(data['sema'])\n",
    "        data['sema_diff'] = data['sema_ready'][-1] - data['sema_ready'][len(data['sema_ready'])-2]\n",
    "    \n",
    "    return()\n",
    "\n",
    "def before_lma():\n",
    "    global data    \n",
    "    data['lsma_list'].append(val)    \n",
    "    return()\n",
    "\n",
    "def after_lma():\n",
    "    global data\n",
    "    \n",
    "    data['lsma_list'].popleft()\n",
    "    data['lsma_list'].append(val)\n",
    "    data['lema'] = list(pd.DataFrame(list(data['lsma_list'])).ewm(span=data['lma_len']).mean()[0])[data['lma_len'] - 1]\n",
    "    \n",
    "    if len(data['lema_ready']) < 2:\n",
    "        data['lema_ready'].append(data['lema'])\n",
    "        data['lema_diff'] = np.nan\n",
    "\n",
    "    elif len(data['lema_ready']) > 1:\n",
    "        data['lema_ready'].popleft()\n",
    "        data['lema_ready'].append(data['lema'])\n",
    "        data['lema_diff'] = data['lema_ready'][-1] - data['lema_ready'][len(data['lema_ready'])-2]\n",
    "    \n",
    "    return()"
   ]
  },
  {
   "cell_type": "code",
   "execution_count": 4,
   "metadata": {},
   "outputs": [],
   "source": [
    "def roll_sma(ssma_list):\n",
    "    global data\n",
    "    sema_val = list(pd.DataFrame(ssma_list).ewm(span=data['sma_len']).mean()[0])[data['sma_len'] - 1]    \n",
    "    return(sema_val)\n",
    "\n",
    "def roll_lma(lsma_list):\n",
    "    global data\n",
    "    lema_val = list(pd.DataFrame(ssma_list).ewm(span=data['lma_len']).mean()[0])[data['lma_len'] - 1]    \n",
    "    return(lema_val)"
   ]
  },
  {
   "cell_type": "code",
   "execution_count": 5,
   "metadata": {},
   "outputs": [],
   "source": [
    "def get_slope_s(y_axis):\n",
    "    global data\n",
    "    x_axis = []\n",
    "    for i in range(data['sma_len']):\n",
    "        x_axis.append(1 + ((i+1) * 0.0001 * 0.1))\n",
    "    \n",
    "    slope_tick, intercept, _, _, _ = linregress(x_axis, y_axis)\n",
    "    slope_tick = math.degrees(math.atan(slope_tick))\n",
    "\n",
    "    return(slope_tick)\n",
    "\n",
    "def get_slope_l(y_axis):\n",
    "    global data\n",
    "    x_axis = []\n",
    "    for i in range(data['lma_len']):\n",
    "        x_axis.append(1 + ((i+1) * 0.0001 * 0.1))\n",
    "    \n",
    "    slope_tick, intercept, _, _, _ = linregress(x_axis, y_axis)\n",
    "    slope_tick = math.degrees(math.atan(slope_tick))\n",
    "    \n",
    "    return(slope_tick)"
   ]
  },
  {
   "cell_type": "markdown",
   "metadata": {},
   "source": [
    "## File paths"
   ]
  },
  {
   "cell_type": "code",
   "execution_count": 6,
   "metadata": {},
   "outputs": [
    {
     "name": "stdout",
     "output_type": "stream",
     "text": [
      "source_file_path : data/tick_2018.csv\n",
      "chunk_file_path : data\\chunk_tick_2018.csv\n",
      "target_file_path : data\\tab_tick_2018.csv\n"
     ]
    }
   ],
   "source": [
    "year = 2018\n",
    "source_file_path = f'data/tick_{year}.csv'\n",
    "path, file_name = os.path.split(source_file_path)\n",
    "\n",
    "target_file_name = 'tab_'+file_name\n",
    "target_file_path = os.path.join(path, target_file_name)\n",
    "\n",
    "chunk_file_name = 'chunk_'+file_name\n",
    "chunk_file_path = os.path.join(path, chunk_file_name)\n",
    "\n",
    "print(f'source_file_path : {source_file_path}')\n",
    "print(f'chunk_file_path : {chunk_file_path}')\n",
    "print(f'target_file_path : {target_file_path}')"
   ]
  },
  {
   "cell_type": "markdown",
   "metadata": {},
   "source": [
    "## Read data"
   ]
  },
  {
   "cell_type": "code",
   "execution_count": 7,
   "metadata": {
    "scrolled": true
   },
   "outputs": [
    {
     "name": "stdout",
     "output_type": "stream",
     "text": [
      "Wall time: 583 ms\n"
     ]
    },
    {
     "data": {
      "text/html": [
       "<div>\n",
       "<style scoped>\n",
       "    .dataframe tbody tr th:only-of-type {\n",
       "        vertical-align: middle;\n",
       "    }\n",
       "\n",
       "    .dataframe tbody tr th {\n",
       "        vertical-align: top;\n",
       "    }\n",
       "\n",
       "    .dataframe thead th {\n",
       "        text-align: right;\n",
       "    }\n",
       "</style>\n",
       "<table border=\"1\" class=\"dataframe\">\n",
       "  <thead>\n",
       "    <tr style=\"text-align: right;\">\n",
       "      <th></th>\n",
       "      <th>DateTime</th>\n",
       "      <th>Bid</th>\n",
       "      <th>Ask</th>\n",
       "      <th>Volume</th>\n",
       "    </tr>\n",
       "  </thead>\n",
       "  <tbody>\n",
       "    <tr>\n",
       "      <th>0</th>\n",
       "      <td>20180101 22:00:08.661</td>\n",
       "      <td>1.20102</td>\n",
       "      <td>1.20143</td>\n",
       "      <td>2</td>\n",
       "    </tr>\n",
       "    <tr>\n",
       "      <th>1</th>\n",
       "      <td>20180101 22:00:08.895</td>\n",
       "      <td>1.20102</td>\n",
       "      <td>1.20148</td>\n",
       "      <td>2</td>\n",
       "    </tr>\n",
       "    <tr>\n",
       "      <th>2</th>\n",
       "      <td>20180101 22:00:10.634</td>\n",
       "      <td>1.20102</td>\n",
       "      <td>1.20147</td>\n",
       "      <td>2</td>\n",
       "    </tr>\n",
       "    <tr>\n",
       "      <th>3</th>\n",
       "      <td>20180101 22:00:11.223</td>\n",
       "      <td>1.20102</td>\n",
       "      <td>1.20148</td>\n",
       "      <td>2</td>\n",
       "    </tr>\n",
       "    <tr>\n",
       "      <th>4</th>\n",
       "      <td>20180101 22:00:29.530</td>\n",
       "      <td>1.20102</td>\n",
       "      <td>1.20145</td>\n",
       "      <td>2</td>\n",
       "    </tr>\n",
       "  </tbody>\n",
       "</table>\n",
       "</div>"
      ],
      "text/plain": [
       "                DateTime      Bid      Ask  Volume\n",
       "0  20180101 22:00:08.661  1.20102  1.20143       2\n",
       "1  20180101 22:00:08.895  1.20102  1.20148       2\n",
       "2  20180101 22:00:10.634  1.20102  1.20147       2\n",
       "3  20180101 22:00:11.223  1.20102  1.20148       2\n",
       "4  20180101 22:00:29.530  1.20102  1.20145       2"
      ]
     },
     "execution_count": 7,
     "metadata": {},
     "output_type": "execute_result"
    }
   ],
   "source": [
    "%%time\n",
    "df = pd.read_csv(source_file_path, nrows=1000000)\n",
    "#df = pd.read_csv(source_file_path)\n",
    "df.head()"
   ]
  },
  {
   "cell_type": "markdown",
   "metadata": {},
   "source": [
    "## Data manipulation"
   ]
  },
  {
   "cell_type": "code",
   "execution_count": 8,
   "metadata": {},
   "outputs": [],
   "source": [
    "data = {}\n",
    "diff_col = 'tick_avg'\n",
    "data['pip_diff'] = 0.0002\n",
    "\n",
    "data['number_of_ticks'] = 200\n",
    "\n",
    "data['sma_len'] = 20\n",
    "data['lma_len'] = 50\n",
    "\n",
    "data['rsi_window'] = 14"
   ]
  },
  {
   "cell_type": "code",
   "execution_count": 9,
   "metadata": {
    "scrolled": true
   },
   "outputs": [
    {
     "name": "stderr",
     "output_type": "stream",
     "text": [
      "100%|███████████████████████████████████████████████| 5000/5000 [00:06<00:00, 789.64it/s]"
     ]
    },
    {
     "name": "stdout",
     "output_type": "stream",
     "text": [
      "Records : 5000\n",
      "Wall time: 6.45 s\n"
     ]
    },
    {
     "name": "stderr",
     "output_type": "stream",
     "text": [
      "\n"
     ]
    },
    {
     "data": {
      "text/html": [
       "<div>\n",
       "<style scoped>\n",
       "    .dataframe tbody tr th:only-of-type {\n",
       "        vertical-align: middle;\n",
       "    }\n",
       "\n",
       "    .dataframe tbody tr th {\n",
       "        vertical-align: top;\n",
       "    }\n",
       "\n",
       "    .dataframe thead th {\n",
       "        text-align: right;\n",
       "    }\n",
       "</style>\n",
       "<table border=\"1\" class=\"dataframe\">\n",
       "  <thead>\n",
       "    <tr style=\"text-align: right;\">\n",
       "      <th></th>\n",
       "      <th>tick_avg</th>\n",
       "      <th>tick_high</th>\n",
       "      <th>tick_low</th>\n",
       "      <th>spread_avg</th>\n",
       "      <th>tick_sd</th>\n",
       "    </tr>\n",
       "  </thead>\n",
       "  <tbody>\n",
       "    <tr>\n",
       "      <th>0</th>\n",
       "      <td>1.200944</td>\n",
       "      <td>1.201250</td>\n",
       "      <td>1.200460</td>\n",
       "      <td>0.000366</td>\n",
       "      <td>0.000204</td>\n",
       "    </tr>\n",
       "    <tr>\n",
       "      <th>1</th>\n",
       "      <td>1.200747</td>\n",
       "      <td>1.201145</td>\n",
       "      <td>1.200655</td>\n",
       "      <td>0.000279</td>\n",
       "      <td>0.000123</td>\n",
       "    </tr>\n",
       "    <tr>\n",
       "      <th>2</th>\n",
       "      <td>1.200715</td>\n",
       "      <td>1.200785</td>\n",
       "      <td>1.200685</td>\n",
       "      <td>0.000245</td>\n",
       "      <td>0.000015</td>\n",
       "    </tr>\n",
       "    <tr>\n",
       "      <th>3</th>\n",
       "      <td>1.201365</td>\n",
       "      <td>1.201695</td>\n",
       "      <td>1.200725</td>\n",
       "      <td>0.000219</td>\n",
       "      <td>0.000239</td>\n",
       "    </tr>\n",
       "    <tr>\n",
       "      <th>4</th>\n",
       "      <td>1.201463</td>\n",
       "      <td>1.201570</td>\n",
       "      <td>1.201390</td>\n",
       "      <td>0.000167</td>\n",
       "      <td>0.000048</td>\n",
       "    </tr>\n",
       "  </tbody>\n",
       "</table>\n",
       "</div>"
      ],
      "text/plain": [
       "   tick_avg  tick_high  tick_low  spread_avg   tick_sd\n",
       "0  1.200944   1.201250  1.200460    0.000366  0.000204\n",
       "1  1.200747   1.201145  1.200655    0.000279  0.000123\n",
       "2  1.200715   1.200785  1.200685    0.000245  0.000015\n",
       "3  1.201365   1.201695  1.200725    0.000219  0.000239\n",
       "4  1.201463   1.201570  1.201390    0.000167  0.000048"
      ]
     },
     "execution_count": 9,
     "metadata": {},
     "output_type": "execute_result"
    }
   ],
   "source": [
    "%%time\n",
    "\n",
    "df = chunk_ticks(df, data['number_of_ticks'])\n",
    "df.to_csv(chunk_file_path, index = False)\n",
    "print(f'Records : {len(df)}')\n",
    "\n",
    "df = pd.read_csv(chunk_file_path)\n",
    "df.head()"
   ]
  },
  {
   "cell_type": "code",
   "execution_count": 10,
   "metadata": {},
   "outputs": [
    {
     "name": "stdout",
     "output_type": "stream",
     "text": [
      "Wall time: 20.9 ms\n"
     ]
    }
   ],
   "source": [
    "%%time\n",
    "\n",
    "data['rs_max'] = 1e6\n",
    "\n",
    "data['ssma_list'] = collections.deque([])\n",
    "data['lsma_list'] = collections.deque([])\n",
    "data['sema_ready'] = collections.deque([])\n",
    "data['lema_ready'] = collections.deque([])\n",
    "df['sema'] = ''\n",
    "df['lema'] = ''\n",
    "df['sema_diff'] = ''\n",
    "df['lema_diff'] = ''\n",
    "\n",
    "\n",
    "# RSI -----------------------------\n",
    "df['diff'] = df['tick_avg'].diff()\n",
    "df['gain'] = 0\n",
    "df['loss'] = 0\n",
    "df['gain'].loc[df['diff'] > 0] = abs(df['diff'])\n",
    "df['loss'].loc[df['diff'] < 0] = abs(df['diff'])\n",
    "df['avg_gain'] = df['gain'].rolling(window=data['rsi_window']).mean()\n",
    "df['avg_loss'] = df['loss'].rolling(window=data['rsi_window']).mean()\n",
    "df['rs'] = df['avg_gain']/df['avg_loss']\n",
    "df['rs'] = df['rs'].where(df['rs'] <= data['rs_max'], data['rs_max']) \n",
    "df['rsi'] = 100 - (100 / (df['rs'] + 1))\n",
    "\n",
    "# Simple Moving Averages ------------------\n",
    "df['ssma'] = df['tick_avg'].rolling(window=data['sma_len']).mean()\n",
    "df['ssma_diff'] = df['ssma'].diff()\n",
    "df['lsma'] = df['tick_avg'].rolling(window=data['lma_len']).mean()\n",
    "df['lsma_diff'] = df['lsma'].diff()\n",
    "df['sma_diff'] = df['ssma'] - df['lsma']\n",
    "\n",
    "df['max_tick'] = df['tick_avg'].rolling(window=data['sma_len']).max()\n",
    "df['min_tick'] = df['tick_avg'].rolling(window=data['sma_len']).min()\n",
    "\n",
    "df['max_gap'] = df['max_tick'] -  df['tick_avg']\n",
    "df['min_gap'] = df['min_tick'] - df['tick_avg']\n",
    "\n",
    "df['tick_high_diff'] = df['tick_high'] - df['tick_avg']\n",
    "df['tick_low_diff'] = df['tick_avg'] - df['tick_low']"
   ]
  },
  {
   "cell_type": "code",
   "execution_count": 11,
   "metadata": {},
   "outputs": [
    {
     "name": "stderr",
     "output_type": "stream",
     "text": [
      "4981it [00:04, 1057.40it/s]\n",
      "4951it [00:04, 1063.68it/s]"
     ]
    },
    {
     "name": "stdout",
     "output_type": "stream",
     "text": [
      "Wall time: 9.38 s\n"
     ]
    },
    {
     "name": "stderr",
     "output_type": "stream",
     "text": [
      "\n"
     ]
    }
   ],
   "source": [
    "%%time\n",
    "# Emas ----------------\n",
    "df['sema'] = df['tick_avg'].rolling(window=data['sma_len']).progress_apply(roll_sma)\n",
    "df['lema'] = df['tick_avg'].rolling(window=data['lma_len']).progress_apply(roll_sma)\n",
    "\n",
    "df['sema_diff'] = df['sema'].diff()\n",
    "df['lema_diff'] = df['lema'].diff()"
   ]
  },
  {
   "cell_type": "markdown",
   "metadata": {},
   "source": [
    "%%time\n",
    "# Slopes -----------------------------\n",
    "df['small_sema_slope'] = df['sema'].rolling(window=data['sma_len']).progress_apply(get_slope_s)\n",
    "df['long_sema_slope'] = df['sema'].rolling(window=data['lma_len']).progress_apply(get_slope_l)"
   ]
  },
  {
   "cell_type": "code",
   "execution_count": 12,
   "metadata": {
    "scrolled": true
   },
   "outputs": [
    {
     "name": "stdout",
     "output_type": "stream",
     "text": [
      "Total records : 4950\n",
      "Wall time: 11 ms\n"
     ]
    }
   ],
   "source": [
    "%%time\n",
    "\n",
    "df['ema_diff'] = df['sema'] - df['lema']\n",
    "\n",
    "# Direction -------------------------\n",
    "df['direction'] = 'same'\n",
    "df['direction'].loc[df[diff_col].shift(-1) - df[diff_col] > data['pip_diff']] = 'increase'\n",
    "df['direction'].loc[df[diff_col].shift(-1) - df[diff_col] < -data['pip_diff']] = 'decrease'\n",
    "\n",
    "# Remove NaNs ------------------------\n",
    "del df['gain']\n",
    "del df['loss']\n",
    "df = df.dropna()\n",
    "df = df.reset_index(drop=True)\n",
    "print(f'Total records : {len(df)}')"
   ]
  },
  {
   "cell_type": "markdown",
   "metadata": {},
   "source": [
    "## Write data to csv"
   ]
  },
  {
   "cell_type": "code",
   "execution_count": 13,
   "metadata": {},
   "outputs": [
    {
     "name": "stdout",
     "output_type": "stream",
     "text": [
      "Wall time: 233 ms\n"
     ]
    }
   ],
   "source": [
    "%%time\n",
    "df.to_csv(target_file_path, index = False)\n",
    "winsound.PlaySound('C:\\\\Windows\\\\Media\\\\tada.wav', winsound.SND_ASYNC)"
   ]
  },
  {
   "cell_type": "markdown",
   "metadata": {},
   "source": [
    "## Print Report"
   ]
  },
  {
   "cell_type": "code",
   "execution_count": 14,
   "metadata": {
    "scrolled": false
   },
   "outputs": [
    {
     "name": "stdout",
     "output_type": "stream",
     "text": [
      "          counts  percentage\n",
      "same        3416   69.010101\n",
      "increase     794   16.040404\n",
      "decrease     740   14.949495\n"
     ]
    },
    {
     "data": {
      "text/html": [
       "<div>\n",
       "<style scoped>\n",
       "    .dataframe tbody tr th:only-of-type {\n",
       "        vertical-align: middle;\n",
       "    }\n",
       "\n",
       "    .dataframe tbody tr th {\n",
       "        vertical-align: top;\n",
       "    }\n",
       "\n",
       "    .dataframe thead th {\n",
       "        text-align: right;\n",
       "    }\n",
       "</style>\n",
       "<table border=\"1\" class=\"dataframe\">\n",
       "  <thead>\n",
       "    <tr style=\"text-align: right;\">\n",
       "      <th></th>\n",
       "      <th>tick_avg</th>\n",
       "      <th>tick_high</th>\n",
       "      <th>tick_low</th>\n",
       "      <th>spread_avg</th>\n",
       "      <th>tick_sd</th>\n",
       "      <th>sema</th>\n",
       "      <th>lema</th>\n",
       "      <th>sema_diff</th>\n",
       "      <th>lema_diff</th>\n",
       "      <th>diff</th>\n",
       "      <th>...</th>\n",
       "      <th>lsma_diff</th>\n",
       "      <th>sma_diff</th>\n",
       "      <th>max_tick</th>\n",
       "      <th>min_tick</th>\n",
       "      <th>max_gap</th>\n",
       "      <th>min_gap</th>\n",
       "      <th>tick_high_diff</th>\n",
       "      <th>tick_low_diff</th>\n",
       "      <th>ema_diff</th>\n",
       "      <th>direction</th>\n",
       "    </tr>\n",
       "  </thead>\n",
       "  <tbody>\n",
       "    <tr>\n",
       "      <th>0</th>\n",
       "      <td>1.201148</td>\n",
       "      <td>1.20124</td>\n",
       "      <td>1.201055</td>\n",
       "      <td>0.000034</td>\n",
       "      <td>0.000047</td>\n",
       "      <td>1.201501</td>\n",
       "      <td>1.201165</td>\n",
       "      <td>-0.000045</td>\n",
       "      <td>-0.000006</td>\n",
       "      <td>-0.000059</td>\n",
       "      <td>...</td>\n",
       "      <td>0.000004</td>\n",
       "      <td>0.000308</td>\n",
       "      <td>1.202251</td>\n",
       "      <td>1.201028</td>\n",
       "      <td>0.001103</td>\n",
       "      <td>-0.000120</td>\n",
       "      <td>0.000092</td>\n",
       "      <td>0.000093</td>\n",
       "      <td>0.000336</td>\n",
       "      <td>same</td>\n",
       "    </tr>\n",
       "    <tr>\n",
       "      <th>1</th>\n",
       "      <td>1.201045</td>\n",
       "      <td>1.20119</td>\n",
       "      <td>1.200915</td>\n",
       "      <td>0.000032</td>\n",
       "      <td>0.000073</td>\n",
       "      <td>1.201446</td>\n",
       "      <td>1.201155</td>\n",
       "      <td>-0.000055</td>\n",
       "      <td>-0.000010</td>\n",
       "      <td>-0.000104</td>\n",
       "      <td>...</td>\n",
       "      <td>0.000006</td>\n",
       "      <td>0.000262</td>\n",
       "      <td>1.202251</td>\n",
       "      <td>1.201028</td>\n",
       "      <td>0.001207</td>\n",
       "      <td>-0.000016</td>\n",
       "      <td>0.000145</td>\n",
       "      <td>0.000130</td>\n",
       "      <td>0.000291</td>\n",
       "      <td>same</td>\n",
       "    </tr>\n",
       "    <tr>\n",
       "      <th>2</th>\n",
       "      <td>1.200871</td>\n",
       "      <td>1.20100</td>\n",
       "      <td>1.200800</td>\n",
       "      <td>0.000033</td>\n",
       "      <td>0.000045</td>\n",
       "      <td>1.201372</td>\n",
       "      <td>1.201157</td>\n",
       "      <td>-0.000074</td>\n",
       "      <td>0.000002</td>\n",
       "      <td>-0.000173</td>\n",
       "      <td>...</td>\n",
       "      <td>0.000003</td>\n",
       "      <td>0.000196</td>\n",
       "      <td>1.202251</td>\n",
       "      <td>1.200871</td>\n",
       "      <td>0.001380</td>\n",
       "      <td>0.000000</td>\n",
       "      <td>0.000129</td>\n",
       "      <td>0.000071</td>\n",
       "      <td>0.000216</td>\n",
       "      <td>same</td>\n",
       "    </tr>\n",
       "    <tr>\n",
       "      <th>3</th>\n",
       "      <td>1.200926</td>\n",
       "      <td>1.20102</td>\n",
       "      <td>1.200795</td>\n",
       "      <td>0.000032</td>\n",
       "      <td>0.000072</td>\n",
       "      <td>1.201313</td>\n",
       "      <td>1.201178</td>\n",
       "      <td>-0.000060</td>\n",
       "      <td>0.000022</td>\n",
       "      <td>0.000055</td>\n",
       "      <td>...</td>\n",
       "      <td>-0.000009</td>\n",
       "      <td>0.000147</td>\n",
       "      <td>1.202251</td>\n",
       "      <td>1.200871</td>\n",
       "      <td>0.001325</td>\n",
       "      <td>-0.000055</td>\n",
       "      <td>0.000094</td>\n",
       "      <td>0.000131</td>\n",
       "      <td>0.000135</td>\n",
       "      <td>same</td>\n",
       "    </tr>\n",
       "    <tr>\n",
       "      <th>4</th>\n",
       "      <td>1.201045</td>\n",
       "      <td>1.20117</td>\n",
       "      <td>1.200925</td>\n",
       "      <td>0.000026</td>\n",
       "      <td>0.000065</td>\n",
       "      <td>1.201270</td>\n",
       "      <td>1.201224</td>\n",
       "      <td>-0.000043</td>\n",
       "      <td>0.000046</td>\n",
       "      <td>0.000118</td>\n",
       "      <td>...</td>\n",
       "      <td>-0.000008</td>\n",
       "      <td>0.000097</td>\n",
       "      <td>1.202251</td>\n",
       "      <td>1.200871</td>\n",
       "      <td>0.001207</td>\n",
       "      <td>-0.000173</td>\n",
       "      <td>0.000125</td>\n",
       "      <td>0.000120</td>\n",
       "      <td>0.000046</td>\n",
       "      <td>increase</td>\n",
       "    </tr>\n",
       "  </tbody>\n",
       "</table>\n",
       "<p>5 rows × 27 columns</p>\n",
       "</div>"
      ],
      "text/plain": [
       "   tick_avg  tick_high  tick_low  spread_avg   tick_sd      sema      lema  \\\n",
       "0  1.201148    1.20124  1.201055    0.000034  0.000047  1.201501  1.201165   \n",
       "1  1.201045    1.20119  1.200915    0.000032  0.000073  1.201446  1.201155   \n",
       "2  1.200871    1.20100  1.200800    0.000033  0.000045  1.201372  1.201157   \n",
       "3  1.200926    1.20102  1.200795    0.000032  0.000072  1.201313  1.201178   \n",
       "4  1.201045    1.20117  1.200925    0.000026  0.000065  1.201270  1.201224   \n",
       "\n",
       "   sema_diff  lema_diff      diff  ...  lsma_diff  sma_diff  max_tick  \\\n",
       "0  -0.000045  -0.000006 -0.000059  ...   0.000004  0.000308  1.202251   \n",
       "1  -0.000055  -0.000010 -0.000104  ...   0.000006  0.000262  1.202251   \n",
       "2  -0.000074   0.000002 -0.000173  ...   0.000003  0.000196  1.202251   \n",
       "3  -0.000060   0.000022  0.000055  ...  -0.000009  0.000147  1.202251   \n",
       "4  -0.000043   0.000046  0.000118  ...  -0.000008  0.000097  1.202251   \n",
       "\n",
       "   min_tick   max_gap   min_gap  tick_high_diff  tick_low_diff  ema_diff  \\\n",
       "0  1.201028  0.001103 -0.000120        0.000092       0.000093  0.000336   \n",
       "1  1.201028  0.001207 -0.000016        0.000145       0.000130  0.000291   \n",
       "2  1.200871  0.001380  0.000000        0.000129       0.000071  0.000216   \n",
       "3  1.200871  0.001325 -0.000055        0.000094       0.000131  0.000135   \n",
       "4  1.200871  0.001207 -0.000173        0.000125       0.000120  0.000046   \n",
       "\n",
       "   direction  \n",
       "0       same  \n",
       "1       same  \n",
       "2       same  \n",
       "3       same  \n",
       "4   increase  \n",
       "\n",
       "[5 rows x 27 columns]"
      ]
     },
     "execution_count": 14,
     "metadata": {},
     "output_type": "execute_result"
    }
   ],
   "source": [
    "g= df['direction']\n",
    "print(pd.concat([g.value_counts(), g.value_counts(normalize=True).mul(100)],axis=1, keys=('counts','percentage')))\n",
    "df.head(5)"
   ]
  },
  {
   "cell_type": "code",
   "execution_count": 32,
   "metadata": {},
   "outputs": [],
   "source": [
    "inc = df[df['direction'] == 'increase']['diff']\n",
    "dec = df[df['direction'] == 'decrease']['diff']"
   ]
  },
  {
   "cell_type": "code",
   "execution_count": 16,
   "metadata": {},
   "outputs": [
    {
     "data": {
      "text/plain": [
       "0.0001    2292\n",
       "0.0002    1701\n",
       "0.0003     541\n",
       "0.0004     173\n",
       "0.0000     102\n",
       "0.0005      75\n",
       "0.0006      32\n",
       "0.0008      11\n",
       "0.0007       9\n",
       "0.0009       3\n",
       "0.0012       2\n",
       "0.0015       2\n",
       "0.0010       2\n",
       "0.0013       2\n",
       "0.0018       1\n",
       "0.0019       1\n",
       "0.0024       1\n",
       "Name: tick_low_diff, dtype: int64"
      ]
     },
     "execution_count": 16,
     "metadata": {},
     "output_type": "execute_result"
    }
   ],
   "source": [
    "pd.DataFrame(np.round(df['tick_low_diff'],4))['tick_low_diff'].value_counts()"
   ]
  },
  {
   "cell_type": "code",
   "execution_count": 17,
   "metadata": {},
   "outputs": [
    {
     "data": {
      "text/plain": [
       "0.0001    2336\n",
       "0.0002    1641\n",
       "0.0003     542\n",
       "0.0004     203\n",
       "0.0000      97\n",
       "0.0005      75\n",
       "0.0006      24\n",
       "0.0007      13\n",
       "0.0008       7\n",
       "0.0009       4\n",
       "0.0011       2\n",
       "0.0015       2\n",
       "0.0010       2\n",
       "0.0016       1\n",
       "0.0012       1\n",
       "Name: tick_high_diff, dtype: int64"
      ]
     },
     "execution_count": 17,
     "metadata": {},
     "output_type": "execute_result"
    }
   ],
   "source": [
    "pd.DataFrame(np.round(df['tick_high_diff'],4))['tick_high_diff'].value_counts()"
   ]
  }
 ],
 "metadata": {
  "kernelspec": {
   "display_name": "Python 3.6.6 64-bit",
   "language": "python",
   "name": "python36664bitab910dfda0bc43a8bf7df0c20d1c59f2"
  },
  "language_info": {
   "codemirror_mode": {
    "name": "ipython",
    "version": 3
   },
   "file_extension": ".py",
   "mimetype": "text/x-python",
   "name": "python",
   "nbconvert_exporter": "python",
   "pygments_lexer": "ipython3",
   "version": "3.6.6"
  }
 },
 "nbformat": 4,
 "nbformat_minor": 4
}
