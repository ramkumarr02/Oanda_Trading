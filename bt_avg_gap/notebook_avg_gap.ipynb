{
 "cells": [
  {
   "cell_type": "markdown",
   "metadata": {},
   "source": [
    "# ML Trader"
   ]
  },
  {
   "cell_type": "code",
   "execution_count": 1,
   "metadata": {
    "scrolled": true
   },
   "outputs": [],
   "source": [
    "from utils.packages import *\n",
    "from utils.variables import *\n",
    "from utils.i_o import *\n",
    "from utils.dir_slope import *\n",
    "from utils.engine import *\n",
    "from utils.loops import *\n",
    "from utils.order import *\n",
    "import winsound"
   ]
  },
  {
   "cell_type": "code",
   "execution_count": 2,
   "metadata": {},
   "outputs": [
    {
     "name": "stdout",
     "output_type": "stream",
     "text": [
      "Wall time: 0 ns\n"
     ]
    }
   ],
   "source": [
    "%%time\n",
    "data = get_date_list(data)"
   ]
  },
  {
   "cell_type": "code",
   "execution_count": 3,
   "metadata": {},
   "outputs": [
    {
     "name": "stdout",
     "output_type": "stream",
     "text": [
      "Record num : 20000\n",
      "Wall time: 22.4 s\n"
     ]
    }
   ],
   "source": [
    "%%time\n",
    "data = get_rolling_emas(data)"
   ]
  },
  {
   "cell_type": "code",
   "execution_count": 4,
   "metadata": {},
   "outputs": [],
   "source": [
    "data['df']['DateTime_frmt']   = [dt.datetime.strptime(x,\"%Y%m%d %H:%M:%S.%f\") for x in data[\"df\"]['DateTime']]\n",
    "data['df'] = data['df'][['DateTime_frmt', 'Bid', 'Ask', 'tick', 'sema', 'slema', 'lema', 'tick_angle']]"
   ]
  },
  {
   "cell_type": "code",
   "execution_count": 5,
   "metadata": {},
   "outputs": [
    {
     "name": "stderr",
     "output_type": "stream",
     "text": [
      "100%|████████████████████████████████| 20000/20000 [00:00<00:00, 551203.98it/s]\n"
     ]
    }
   ],
   "source": [
    "data = get_hl(data)\n",
    "data = get_avg_lines(data)"
   ]
  },
  {
   "cell_type": "code",
   "execution_count": null,
   "metadata": {},
   "outputs": [],
   "source": []
  },
  {
   "cell_type": "code",
   "execution_count": 6,
   "metadata": {},
   "outputs": [],
   "source": [
    "# data = get_h_avg(data)"
   ]
  },
  {
   "cell_type": "code",
   "execution_count": 17,
   "metadata": {},
   "outputs": [
    {
     "data": {
      "text/html": [
       "<div>\n",
       "<style scoped>\n",
       "    .dataframe tbody tr th:only-of-type {\n",
       "        vertical-align: middle;\n",
       "    }\n",
       "\n",
       "    .dataframe tbody tr th {\n",
       "        vertical-align: top;\n",
       "    }\n",
       "\n",
       "    .dataframe thead th {\n",
       "        text-align: right;\n",
       "    }\n",
       "</style>\n",
       "<table border=\"1\" class=\"dataframe\">\n",
       "  <thead>\n",
       "    <tr style=\"text-align: right;\">\n",
       "      <th></th>\n",
       "      <th>DateTime_frmt</th>\n",
       "      <th>Bid</th>\n",
       "      <th>Ask</th>\n",
       "      <th>tick</th>\n",
       "      <th>sema</th>\n",
       "      <th>slema</th>\n",
       "      <th>lema</th>\n",
       "      <th>tick_angle</th>\n",
       "      <th>h</th>\n",
       "      <th>l</th>\n",
       "      <th>h_l_gap</th>\n",
       "      <th>h_avg</th>\n",
       "      <th>l_avg</th>\n",
       "      <th>h_gap</th>\n",
       "      <th>l_gap</th>\n",
       "      <th>h_lema</th>\n",
       "      <th>l_lema</th>\n",
       "    </tr>\n",
       "  </thead>\n",
       "  <tbody>\n",
       "    <tr>\n",
       "      <th>1510</th>\n",
       "      <td>2021-01-03 23:41:36.300</td>\n",
       "      <td>1.22459</td>\n",
       "      <td>1.22465</td>\n",
       "      <td>1.224620</td>\n",
       "      <td>1.224475</td>\n",
       "      <td>1.224417</td>\n",
       "      <td>1.224244</td>\n",
       "      <td>31.903012</td>\n",
       "      <td>1.224945</td>\n",
       "      <td>1.22437</td>\n",
       "      <td>0.000575</td>\n",
       "      <td>1.224460</td>\n",
       "      <td>1.223781</td>\n",
       "      <td>0.000216</td>\n",
       "      <td>0.000463</td>\n",
       "      <td>1.224460</td>\n",
       "      <td>1.223781</td>\n",
       "    </tr>\n",
       "    <tr>\n",
       "      <th>1511</th>\n",
       "      <td>2021-01-03 23:41:36.533</td>\n",
       "      <td>1.22458</td>\n",
       "      <td>1.22464</td>\n",
       "      <td>1.224610</td>\n",
       "      <td>1.224476</td>\n",
       "      <td>1.224418</td>\n",
       "      <td>1.224246</td>\n",
       "      <td>31.964624</td>\n",
       "      <td>1.224945</td>\n",
       "      <td>1.22437</td>\n",
       "      <td>0.000575</td>\n",
       "      <td>1.224461</td>\n",
       "      <td>1.223782</td>\n",
       "      <td>0.000215</td>\n",
       "      <td>0.000464</td>\n",
       "      <td>1.224461</td>\n",
       "      <td>1.223782</td>\n",
       "    </tr>\n",
       "    <tr>\n",
       "      <th>1512</th>\n",
       "      <td>2021-01-03 23:41:39.674</td>\n",
       "      <td>1.22459</td>\n",
       "      <td>1.22464</td>\n",
       "      <td>1.224615</td>\n",
       "      <td>1.224478</td>\n",
       "      <td>1.224419</td>\n",
       "      <td>1.224247</td>\n",
       "      <td>32.026149</td>\n",
       "      <td>1.224945</td>\n",
       "      <td>1.22437</td>\n",
       "      <td>0.000575</td>\n",
       "      <td>1.224462</td>\n",
       "      <td>1.223783</td>\n",
       "      <td>0.000215</td>\n",
       "      <td>0.000464</td>\n",
       "      <td>1.224462</td>\n",
       "      <td>1.223783</td>\n",
       "    </tr>\n",
       "    <tr>\n",
       "      <th>1513</th>\n",
       "      <td>2021-01-03 23:41:39.896</td>\n",
       "      <td>1.22459</td>\n",
       "      <td>1.22463</td>\n",
       "      <td>1.224610</td>\n",
       "      <td>1.224479</td>\n",
       "      <td>1.224420</td>\n",
       "      <td>1.224248</td>\n",
       "      <td>32.087338</td>\n",
       "      <td>1.224945</td>\n",
       "      <td>1.22437</td>\n",
       "      <td>0.000575</td>\n",
       "      <td>1.224462</td>\n",
       "      <td>1.223784</td>\n",
       "      <td>0.000214</td>\n",
       "      <td>0.000464</td>\n",
       "      <td>1.224462</td>\n",
       "      <td>1.223784</td>\n",
       "    </tr>\n",
       "    <tr>\n",
       "      <th>1514</th>\n",
       "      <td>2021-01-03 23:41:42.845</td>\n",
       "      <td>1.22459</td>\n",
       "      <td>1.22464</td>\n",
       "      <td>1.224615</td>\n",
       "      <td>1.224480</td>\n",
       "      <td>1.224421</td>\n",
       "      <td>1.224249</td>\n",
       "      <td>32.148193</td>\n",
       "      <td>1.224945</td>\n",
       "      <td>1.22437</td>\n",
       "      <td>0.000575</td>\n",
       "      <td>1.224463</td>\n",
       "      <td>1.223785</td>\n",
       "      <td>0.000214</td>\n",
       "      <td>0.000464</td>\n",
       "      <td>1.224463</td>\n",
       "      <td>1.223785</td>\n",
       "    </tr>\n",
       "  </tbody>\n",
       "</table>\n",
       "</div>"
      ],
      "text/plain": [
       "               DateTime_frmt      Bid      Ask      tick      sema     slema  \\\n",
       "1510 2021-01-03 23:41:36.300  1.22459  1.22465  1.224620  1.224475  1.224417   \n",
       "1511 2021-01-03 23:41:36.533  1.22458  1.22464  1.224610  1.224476  1.224418   \n",
       "1512 2021-01-03 23:41:39.674  1.22459  1.22464  1.224615  1.224478  1.224419   \n",
       "1513 2021-01-03 23:41:39.896  1.22459  1.22463  1.224610  1.224479  1.224420   \n",
       "1514 2021-01-03 23:41:42.845  1.22459  1.22464  1.224615  1.224480  1.224421   \n",
       "\n",
       "          lema  tick_angle         h        l   h_l_gap     h_avg     l_avg  \\\n",
       "1510  1.224244   31.903012  1.224945  1.22437  0.000575  1.224460  1.223781   \n",
       "1511  1.224246   31.964624  1.224945  1.22437  0.000575  1.224461  1.223782   \n",
       "1512  1.224247   32.026149  1.224945  1.22437  0.000575  1.224462  1.223783   \n",
       "1513  1.224248   32.087338  1.224945  1.22437  0.000575  1.224462  1.223784   \n",
       "1514  1.224249   32.148193  1.224945  1.22437  0.000575  1.224463  1.223785   \n",
       "\n",
       "         h_gap     l_gap    h_lema    l_lema  \n",
       "1510  0.000216  0.000463  1.224460  1.223781  \n",
       "1511  0.000215  0.000464  1.224461  1.223782  \n",
       "1512  0.000215  0.000464  1.224462  1.223783  \n",
       "1513  0.000214  0.000464  1.224462  1.223784  \n",
       "1514  0.000214  0.000464  1.224463  1.223785  "
      ]
     },
     "execution_count": 17,
     "metadata": {},
     "output_type": "execute_result"
    }
   ],
   "source": [
    "data['df'][1510:1515]"
   ]
  },
  {
   "cell_type": "code",
   "execution_count": 8,
   "metadata": {},
   "outputs": [],
   "source": [
    "plotly_graph(data)"
   ]
  },
  {
   "cell_type": "code",
   "execution_count": 9,
   "metadata": {},
   "outputs": [
    {
     "ename": "SystemExit",
     "evalue": "",
     "output_type": "error",
     "traceback": [
      "An exception has occurred, use %tb to see the full traceback.\n",
      "\u001b[1;31mSystemExit\u001b[0m\n"
     ]
    }
   ],
   "source": [
    "sys.exit()"
   ]
  },
  {
   "cell_type": "code",
   "execution_count": null,
   "metadata": {},
   "outputs": [],
   "source": []
  },
  {
   "cell_type": "code",
   "execution_count": null,
   "metadata": {
    "scrolled": false
   },
   "outputs": [],
   "source": [
    "data = run_engine(data)"
   ]
  },
  {
   "cell_type": "code",
   "execution_count": null,
   "metadata": {},
   "outputs": [],
   "source": [
    "data['temp_df']['open_order'] = data['open_order_temp_list']\n",
    "data['temp_df']['pl'] = data['pl_temp_list'] \n",
    "data['temp_df'].to_csv('data/temp.csv')"
   ]
  },
  {
   "cell_type": "code",
   "execution_count": null,
   "metadata": {},
   "outputs": [],
   "source": [
    "min(data['temp_df']['pl'])"
   ]
  },
  {
   "cell_type": "code",
   "execution_count": null,
   "metadata": {},
   "outputs": [],
   "source": [
    "max(data['temp_df']['pl'])"
   ]
  },
  {
   "cell_type": "code",
   "execution_count": null,
   "metadata": {},
   "outputs": [],
   "source": [
    "max(data['temp_df']['open_order'])"
   ]
  },
  {
   "cell_type": "code",
   "execution_count": null,
   "metadata": {},
   "outputs": [],
   "source": [
    "data['dt_val']"
   ]
  },
  {
   "cell_type": "code",
   "execution_count": null,
   "metadata": {
    "scrolled": false
   },
   "outputs": [],
   "source": [
    "data['orders_list']"
   ]
  },
  {
   "cell_type": "code",
   "execution_count": null,
   "metadata": {
    "scrolled": false
   },
   "outputs": [],
   "source": [
    "if data[\"plot\"]:\n",
    "    data = adjust_plot_list_lengths(data)\n",
    "    plot_graph(data)\n",
    "    \n",
    "print('-----------------------------------------------------')\n",
    "print_report(data)\n",
    "print('-----------------------------------------------------')\n",
    "print(data['report_df'].groupby(['month_val'])['pls'].sum())\n",
    "print('-----------------------------------------------------')\n",
    "print(data['report_df']['close_type'].value_counts())\n",
    "print('-----------------------------------------------------')\n",
    "winsound.PlaySound('C:\\\\Windows\\\\Media\\\\tada.wav', winsound.SND_ASYNC)"
   ]
  },
  {
   "cell_type": "code",
   "execution_count": null,
   "metadata": {},
   "outputs": [],
   "source": [
    "data['report_df'].groupby(['date_val'])['pls'].sum()"
   ]
  },
  {
   "cell_type": "code",
   "execution_count": null,
   "metadata": {
    "scrolled": false
   },
   "outputs": [],
   "source": [
    "winsound.PlaySound('C:\\\\Windows\\\\Media\\\\tada.wav', winsound.SND_ASYNC)\n",
    "send_telegram_message(f'Run Complete : {data[\"df_name\"]}')"
   ]
  },
  {
   "cell_type": "code",
   "execution_count": null,
   "metadata": {},
   "outputs": [],
   "source": [
    "data['report_df'].groupby(['close_type'])['pls'].count()"
   ]
  },
  {
   "cell_type": "code",
   "execution_count": null,
   "metadata": {},
   "outputs": [],
   "source": [
    "data['report_df'].groupby(['close_type'])['pls'].mean()"
   ]
  },
  {
   "cell_type": "code",
   "execution_count": null,
   "metadata": {},
   "outputs": [],
   "source": [
    "data['report_df'].groupby(['close_type'])['pls'].sum()"
   ]
  },
  {
   "cell_type": "code",
   "execution_count": null,
   "metadata": {},
   "outputs": [],
   "source": [
    "data['report_df'].groupby(['close_type'])['pls'].count()"
   ]
  },
  {
   "cell_type": "code",
   "execution_count": null,
   "metadata": {},
   "outputs": [],
   "source": [
    "x = np.round(data['report_df'].groupby(['month_val', 'date_val'])['pls'].sum().values.mean(),4)\n",
    "print(f'Average pips per day : {x}')"
   ]
  },
  {
   "cell_type": "code",
   "execution_count": null,
   "metadata": {},
   "outputs": [],
   "source": [
    "x = data['report_df'].groupby(['month_val', 'date_val'])['pls'].count().values.mean()\n",
    "print(f'Average orders per day : {x}')"
   ]
  },
  {
   "cell_type": "code",
   "execution_count": null,
   "metadata": {},
   "outputs": [],
   "source": [
    "data['report_df'].groupby(['date'])['date'].count().value_counts().sort_values(ascending=False)"
   ]
  },
  {
   "cell_type": "code",
   "execution_count": null,
   "metadata": {},
   "outputs": [],
   "source": [
    "data['report_df']['duration'].sort_values(ascending=False)"
   ]
  }
 ],
 "metadata": {
  "kernelspec": {
   "display_name": "Python 3",
   "language": "python",
   "name": "python3"
  },
  "language_info": {
   "codemirror_mode": {
    "name": "ipython",
    "version": 3
   },
   "file_extension": ".py",
   "mimetype": "text/x-python",
   "name": "python",
   "nbconvert_exporter": "python",
   "pygments_lexer": "ipython3",
   "version": "3.6.6"
  }
 },
 "nbformat": 4,
 "nbformat_minor": 4
}
