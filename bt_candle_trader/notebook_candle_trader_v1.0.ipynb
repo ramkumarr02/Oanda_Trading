{
 "cells": [
  {
   "cell_type": "markdown",
   "metadata": {},
   "source": [
    "# ML Trader"
   ]
  },
  {
   "cell_type": "code",
   "execution_count": 1,
   "metadata": {
    "scrolled": true
   },
   "outputs": [],
   "source": [
    "from utils.packages import *\n",
    "from utils.variables import *\n",
    "from utils.i_o import *\n",
    "from utils.dir_slope import *\n",
    "from utils.engine import *\n",
    "from utils.loops import *\n",
    "from utils.order import *\n",
    "import winsound"
   ]
  },
  {
   "cell_type": "code",
   "execution_count": 2,
   "metadata": {},
   "outputs": [],
   "source": [
    "data['pl_move_flag'] = True\n",
    "# data['tick_close_flag'] = True"
   ]
  },
  {
   "cell_type": "code",
   "execution_count": 3,
   "metadata": {
    "scrolled": false
   },
   "outputs": [
    {
     "name": "stdout",
     "output_type": "stream",
     "text": [
      "pls   -0.00142\n",
      "dtype: float64"
     ]
    },
    {
     "name": "stderr",
     "output_type": "stream",
     "text": [
      "\r",
      "100%|█████████████████████████████████| 49643/49643 [00:01<00:00, 29480.10it/s]"
     ]
    },
    {
     "name": "stdout",
     "output_type": "stream",
     "text": [
      "\n",
      "--------------------------------------\n",
      "                  date close_type      pls\n",
      "0  2021-06-11 00:30:00       long -0.00013\n",
      "1  2021-06-11 00:45:00      short -0.00004\n",
      "2  2021-06-11 02:15:00       long  0.00057\n",
      "3  2021-06-11 02:30:00      short -0.00012\n",
      "4  2021-06-11 03:15:07       long  0.00048\n",
      "5  2021-06-11 04:15:09      short -0.00005\n",
      "6  2021-06-11 04:45:27       long -0.00008\n",
      "7  2021-06-11 05:30:01      short  0.00012\n",
      "8  2021-06-11 06:00:00       long  0.00004\n",
      "9  2021-06-11 06:15:00      short -0.00023\n",
      "10 2021-06-11 06:30:00       long -0.00020\n",
      "11 2021-06-11 07:15:00      short  0.00010\n",
      "12 2021-06-11 07:30:00       long -0.00088\n",
      "13 2021-06-11 07:45:00      short -0.00038\n",
      "14 2021-06-11 08:15:02       long -0.00039\n",
      "15 2021-06-11 09:45:00      short  0.00171\n",
      "16 2021-06-11 10:00:01       long -0.00071\n",
      "17 2021-06-11 10:15:00      short -0.00015\n",
      "18 2021-06-11 10:45:00       long -0.00054\n",
      "19 2021-06-11 11:00:00      short -0.00012\n",
      "20 2021-06-11 11:15:00       long -0.00064\n",
      "21 2021-06-11 12:30:00      short  0.00178\n",
      "22 2021-06-11 13:00:00       long  0.00015\n",
      "23 2021-06-11 14:00:00      short  0.00071\n",
      "24 2021-06-11 14:15:00       long -0.00095\n",
      "25 2021-06-11 15:00:00      short  0.00027\n",
      "26 2021-06-11 15:15:00       long -0.00070\n",
      "27 2021-06-11 15:45:00      short -0.00015\n",
      "28 2021-06-11 16:00:01       long -0.00041\n",
      "29 2021-06-11 16:30:00      short  0.00014\n",
      "30 2021-06-11 16:45:05       long -0.00013\n",
      "31 2021-06-11 17:15:00      short  0.00001\n",
      "32 2021-06-11 17:30:00       long -0.00010\n",
      "33 2021-06-11 17:45:00      short -0.00019\n",
      "34 2021-06-11 18:30:02       long  0.00002\n",
      "35 2021-06-11 18:45:00      short -0.00023\n",
      "-----------------------------------------------------\n",
      "==============================\n",
      "date_val          : ['20210611']\n",
      "Total PL : -0.0014200000000000003\n",
      "-------------\n",
      "net_pl            : -0.00142/0.01362\n",
      "-------------\n",
      "+ve               : num= 13    sum= +0.0061    avg= +0.00047\n",
      "-ve               : num= 23    sum= -0.00752    avg= -0.00033\n",
      "==============================\n",
      "-----------------------------------------------------\n",
      "date_val\n",
      "11   -0.00142\n",
      "Name: pls, dtype: float64\n",
      "-----------------------------------------------------\n",
      "-0.00013    2\n",
      "-0.00015    2\n",
      "-0.00012    2\n",
      "-0.00023    2\n",
      " 0.00004    1\n",
      "-0.00070    1\n",
      "-0.00020    1\n",
      "-0.00010    1\n",
      "-0.00005    1\n",
      " 0.00012    1\n",
      " 0.00171    1\n",
      " 0.00027    1\n",
      "-0.00064    1\n",
      " 0.00178    1\n",
      "-0.00095    1\n",
      " 0.00048    1\n",
      " 0.00002    1\n",
      " 0.00014    1\n",
      "-0.00008    1\n",
      "-0.00071    1\n",
      "-0.00041    1\n",
      "-0.00019    1\n",
      "-0.00054    1\n",
      " 0.00071    1\n",
      "-0.00004    1\n",
      " 0.00001    1\n",
      " 0.00010    1\n",
      " 0.00015    1\n",
      "-0.00038    1\n",
      " 0.00057    1\n",
      "-0.00088    1\n",
      "-0.00039    1\n",
      "Name: pls, dtype: int64\n",
      "-----------------------------------------------------\n",
      "Wall time: 10.1 s\n"
     ]
    },
    {
     "name": "stderr",
     "output_type": "stream",
     "text": [
      "\n"
     ]
    }
   ],
   "source": [
    "%%time\n",
    "data = get_date_list(data)\n",
    "data = read_data(data)\n",
    "data = run_engine(data)\n",
    "\n",
    "if data[\"plot\"]:\n",
    "    plot_graph(data)\n",
    "    \n",
    "print('-----------------------------------------------------')\n",
    "print_report(data)\n",
    "print('-----------------------------------------------------')\n",
    "print(data['report_df'].groupby(['date_val'])['pls'].sum())\n",
    "print('-----------------------------------------------------')\n",
    "print(data['report_df']['pls'].value_counts())\n",
    "print('-----------------------------------------------------')\n",
    "data['report_df']\n",
    "\n",
    "winsound.PlaySound('C:\\\\Windows\\\\Media\\\\tada.wav', winsound.SND_ASYNC)"
   ]
  }
 ],
 "metadata": {
  "kernelspec": {
   "display_name": "Python 3",
   "language": "python",
   "name": "python3"
  },
  "language_info": {
   "codemirror_mode": {
    "name": "ipython",
    "version": 3
   },
   "file_extension": ".py",
   "mimetype": "text/x-python",
   "name": "python",
   "nbconvert_exporter": "python",
   "pygments_lexer": "ipython3",
   "version": "3.6.6"
  }
 },
 "nbformat": 4,
 "nbformat_minor": 4
}
