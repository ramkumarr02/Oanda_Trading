{
 "cells": [
  {
   "cell_type": "markdown",
   "metadata": {},
   "source": [
    "# Data Preparation"
   ]
  },
  {
   "cell_type": "markdown",
   "metadata": {},
   "source": [
    "## Packages"
   ]
  },
  {
   "cell_type": "code",
   "execution_count": 1,
   "metadata": {
    "scrolled": true
   },
   "outputs": [],
   "source": [
    "import os\n",
    "import winsound\n",
    "import numpy as np\n",
    "import pandas as pd\n",
    "import datetime as dt\n",
    "from tqdm import tqdm\n",
    "tqdm.pandas()\n",
    "from multiprocessing import  Pool\n",
    "import time\n",
    "\n",
    "import math, collections\n",
    "from scipy.stats import linregress\n",
    "\n",
    "from matplotlib import pyplot as plt\n",
    "from matplotlib.pyplot import figure\n",
    "\n",
    "import warnings\n",
    "warnings.filterwarnings('ignore')"
   ]
  },
  {
   "cell_type": "code",
   "execution_count": 2,
   "metadata": {},
   "outputs": [],
   "source": [
    "def chunk_ticks(df, number_of_ticks):   \n",
    "    global data\n",
    "    \n",
    "    df['tick'] = (df['Bid'] + df['Ask'])/2\n",
    "    df['spread'] = df['Ask'] - df['Bid']\n",
    "    df = df[['tick', 'spread']]\n",
    "    \n",
    "    temp_df = pd.DataFrame()\n",
    "    spread_cls = []\n",
    "    spread_avg = []\n",
    "    \n",
    "    tick_opn = []\n",
    "    tick_hig = []\n",
    "    tick_low = []\n",
    "    tick_cls = []\n",
    "    tick_avg = []\n",
    "    tick_sd = []\n",
    "    tick_ema_10 = []\n",
    "    tick_ema_25 = []\n",
    "    tick_ema_50 = []\n",
    "    tick_ema_75 = []\n",
    "    tick_ema = []\n",
    "    tick_slope = []\n",
    "    \n",
    "    for i in tqdm(range(0,len(df),number_of_ticks)):\n",
    "        tick_list = list(df['tick'][i:i+number_of_ticks])\n",
    "        spread_list = list(df['spread'][i:i+number_of_ticks])      \n",
    "        \n",
    "        spread_cls.append(spread_list[-1])\n",
    "        spread_avg.append(np.mean(spread_list))\n",
    "\n",
    "        tick_opn.append(tick_list[0])\n",
    "        tick_hig.append(np.max(tick_list))\n",
    "        tick_low.append(np.min(tick_list))\n",
    "        tick_cls.append(tick_list[-1])\n",
    "        tick_avg.append(np.mean(tick_list))  \n",
    "        tick_sd.append(np.std(tick_list))\n",
    "        \n",
    "        l = tick_list[-(int(len(tick_list)*0.10)):]\n",
    "        tick_ema_10.append(list(pd.DataFrame(l).ewm(span=len(l)).mean()[0])[len(l) - 1])        \n",
    "        \n",
    "        l = tick_list[-(int(len(tick_list)*0.25)):]\n",
    "        tick_ema_25.append(list(pd.DataFrame(l).ewm(span=len(l)).mean()[0])[len(l) - 1])        \n",
    "        \n",
    "        l = tick_list[-(int(len(tick_list)*0.50)):]\n",
    "        tick_ema_50.append(list(pd.DataFrame(l).ewm(span=len(l)).mean()[0])[len(l) - 1])        \n",
    "        \n",
    "        l = tick_list[-(int(len(tick_list)*0.75)):]\n",
    "        tick_ema_75.append(list(pd.DataFrame(l).ewm(span=len(l)).mean()[0])[len(l) - 1])        \n",
    "        \n",
    "        tick_ema.append(list(pd.DataFrame(tick_list).ewm(span=len(tick_list)).mean()[0])[len(tick_list) - 1]) \n",
    "        tick_slope.append(get_slope(tick_list))\n",
    "        \n",
    "    temp_df['spread_avg'] = spread_avg  \n",
    "    temp_df['spread_cls'] = spread_cls  \n",
    "\n",
    "    temp_df['tick_opn'] = tick_opn\n",
    "    temp_df['tick_high'] = tick_hig\n",
    "    temp_df['tick_low'] = tick_low\n",
    "    temp_df['tick_cls'] = tick_cls\n",
    "    temp_df['tick_avg'] = tick_avg  \n",
    "    temp_df['tick_sd'] = tick_sd\n",
    "    \n",
    "    temp_df['tick_ema_10'] = tick_ema_10  \n",
    "    temp_df['tick_ema_25'] = tick_ema_25  \n",
    "    temp_df['tick_ema_50'] = tick_ema_50  \n",
    "    temp_df['tick_ema_75'] = tick_ema_75  \n",
    "    temp_df['tick_ema'] = tick_ema \n",
    "    temp_df['tick_slope'] = tick_slope \n",
    "\n",
    "    return(temp_df)"
   ]
  },
  {
   "cell_type": "code",
   "execution_count": 3,
   "metadata": {},
   "outputs": [],
   "source": [
    "def get_slope(y_axis):\n",
    "    global data\n",
    "    x_axis = []\n",
    "    for i in range(len(y_axis)):\n",
    "        x_axis.append(1 + ((i+1) * 0.0001 * 0.1))\n",
    "    \n",
    "    slope_tick, intercept, _, _, _ = linregress(x_axis, y_axis)\n",
    "    slope_tick = math.degrees(math.atan(slope_tick))\n",
    "\n",
    "    return(slope_tick)"
   ]
  },
  {
   "cell_type": "markdown",
   "metadata": {},
   "source": [
    "## File paths"
   ]
  },
  {
   "cell_type": "code",
   "execution_count": 4,
   "metadata": {},
   "outputs": [
    {
     "name": "stdout",
     "output_type": "stream",
     "text": [
      "source_file_path : data/tick_2019.csv\n",
      "chunk_file_path : data\\chunk_tick_2019.csv\n",
      "target_file_path : data\\tab_tick_2019.csv\n"
     ]
    }
   ],
   "source": [
    "year = 2019\n",
    "source_file_path = f'data/tick_{year}.csv'\n",
    "path, file_name = os.path.split(source_file_path)\n",
    "\n",
    "target_file_name = 'tab_'+file_name\n",
    "target_file_path = os.path.join(path, target_file_name)\n",
    "\n",
    "chunk_file_name = 'chunk_'+file_name\n",
    "chunk_file_path = os.path.join(path, chunk_file_name)\n",
    "\n",
    "print(f'source_file_path : {source_file_path}')\n",
    "print(f'chunk_file_path : {chunk_file_path}')\n",
    "print(f'target_file_path : {target_file_path}')"
   ]
  },
  {
   "cell_type": "markdown",
   "metadata": {},
   "source": [
    "## Read data"
   ]
  },
  {
   "cell_type": "code",
   "execution_count": 5,
   "metadata": {},
   "outputs": [],
   "source": [
    "data = {}\n",
    "diff_col = 'sema'\n",
    "data['pip_diff'] = 0.00002\n",
    "\n",
    "data['number_of_ticks'] = 100\n",
    "\n",
    "data['sma_len'] = 20\n",
    "data['lma_len'] = 50\n",
    "\n",
    "data['rsi_window'] = 14"
   ]
  },
  {
   "cell_type": "code",
   "execution_count": null,
   "metadata": {
    "scrolled": true
   },
   "outputs": [],
   "source": [
    "%%time\n",
    "#df = pd.read_csv(source_file_path, nrows=1000000)\n",
    "df = pd.read_csv(source_file_path)\n",
    "df.head()"
   ]
  },
  {
   "cell_type": "code",
   "execution_count": null,
   "metadata": {
    "scrolled": true
   },
   "outputs": [],
   "source": [
    "%%time\n",
    "df = chunk_ticks(df, data['number_of_ticks'])\n",
    "df.to_csv(chunk_file_path, index = False)\n",
    "print(f'Records : {len(df)}')\n",
    "df = pd.read_csv(chunk_file_path)\n",
    "df.head()"
   ]
  },
  {
   "cell_type": "code",
   "execution_count": null,
   "metadata": {},
   "outputs": [],
   "source": [
    "%%time\n",
    "\n",
    "df['diff_next_high'] = df['tick_high'].shift(-1) - df['tick_cls']\n",
    "df['diff_next_low'] = df['tick_low'].shift(-1) - df['tick_cls']\n",
    "\n",
    "df['dir'] = 'same'\n",
    "df.loc[abs(df['diff_next_high']) > abs(df['diff_next_low']), 'dir'] = 'high'\n",
    "df.loc[abs(df['diff_next_low']) > abs(df['diff_next_high']), 'dir'] = 'low'\n",
    "\n",
    "df['direction'] = 'same'\n",
    "df.loc[(df['dir'] == 'high') & (df['diff_next_high'] >= 0.0002), 'direction'] = 'increase'\n",
    "df.loc[(df['dir'] == 'high') & (df['diff_next_high'] <= -0.0002), 'direction'] = 'decrease'\n",
    "\n",
    "df.loc[(df['dir'] == 'low') & (df['diff_next_low'] >= 0.0002), 'direction'] = 'increase'\n",
    "df.loc[(df['dir'] == 'low') & (df['diff_next_low'] <= -0.0002), 'direction'] = 'decrease'"
   ]
  },
  {
   "cell_type": "code",
   "execution_count": null,
   "metadata": {},
   "outputs": [],
   "source": [
    "%%time\n",
    "col_list = ['tick_opn', 'tick_high', 'tick_low', 'tick_cls', 'tick_avg', 'tick_ema', 'spread_cls', 'tick_ema_10', 'tick_ema_25', 'tick_ema_50', 'tick_ema_75']\n",
    "for i, val in enumerate(col_list):    \n",
    "    df[val+'_diff'] =  df[val].diff()\n",
    "    del df[val]    \n",
    "    \n",
    "df['ema_gap'] = df['tick_ema_10_diff'] - df['tick_ema_diff']    "
   ]
  },
  {
   "cell_type": "code",
   "execution_count": null,
   "metadata": {},
   "outputs": [],
   "source": [
    "%%time\n",
    "data['rs_max'] = 1e6\n",
    "df['gain'] = 0\n",
    "df['loss'] = 0\n",
    "df['gain'].loc[df['tick_avg_diff'] > 0] = abs(df['tick_avg_diff'])\n",
    "df['loss'].loc[df['tick_avg_diff'] < 0] = abs(df['tick_avg_diff'])\n",
    "df['avg_gain'] = df['gain'].rolling(window=data['rsi_window']).mean()\n",
    "df['avg_loss'] = df['loss'].rolling(window=data['rsi_window']).mean()\n",
    "df['rs'] = df['avg_gain']/df['avg_loss']\n",
    "df['rs'] = df['rs'].where(df['rs'] <= data['rs_max'], data['rs_max']) \n",
    "df['rsi'] = 100 - (100 / (df['rs'] + 1))"
   ]
  },
  {
   "cell_type": "code",
   "execution_count": null,
   "metadata": {},
   "outputs": [],
   "source": [
    "col_order = [\n",
    " 'spread_avg',\n",
    " 'spread_cls_diff', \n",
    " 'tick_opn_diff',\n",
    " 'tick_high_diff',\n",
    " 'tick_low_diff',\n",
    " 'tick_cls_diff',\n",
    " 'tick_avg_diff',\n",
    " 'tick_sd',\n",
    " 'tick_ema_10_diff',\n",
    " 'tick_ema_25_diff',\n",
    " 'tick_ema_50_diff',\n",
    " 'tick_ema_75_diff',\n",
    " 'tick_ema_diff',\n",
    " 'ema_gap',\n",
    " 'gain',\n",
    " 'loss',\n",
    " 'avg_gain',\n",
    " 'avg_loss',\n",
    " 'rsi',\n",
    " 'tick_slope',\n",
    " 'direction'\n",
    " ]\n",
    "\n",
    "df = df[col_order]\n",
    "df = df.dropna()"
   ]
  },
  {
   "cell_type": "markdown",
   "metadata": {},
   "source": [
    "## Write data to csv"
   ]
  },
  {
   "cell_type": "code",
   "execution_count": null,
   "metadata": {},
   "outputs": [],
   "source": [
    "%%time\n",
    "df.to_csv(target_file_path, index = False)\n",
    "winsound.PlaySound('C:\\\\Windows\\\\Media\\\\tada.wav', winsound.SND_ASYNC)"
   ]
  },
  {
   "cell_type": "code",
   "execution_count": null,
   "metadata": {},
   "outputs": [],
   "source": [
    "print(f'Total records : {len(df)}')\n",
    "g= df['direction']\n",
    "print(pd.concat([g.value_counts(), g.value_counts(normalize=True).mul(100)],axis=1, keys=('counts','percentage')))\n",
    "df.head()"
   ]
  }
 ],
 "metadata": {
  "kernelspec": {
   "display_name": "Python 3.6.6 64-bit",
   "language": "python",
   "name": "python36664bitab910dfda0bc43a8bf7df0c20d1c59f2"
  },
  "language_info": {
   "codemirror_mode": {
    "name": "ipython",
    "version": 3
   },
   "file_extension": ".py",
   "mimetype": "text/x-python",
   "name": "python",
   "nbconvert_exporter": "python",
   "pygments_lexer": "ipython3",
   "version": "3.6.6"
  }
 },
 "nbformat": 4,
 "nbformat_minor": 4
}
