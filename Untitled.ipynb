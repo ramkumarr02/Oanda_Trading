{
 "cells": [
  {
   "cell_type": "code",
   "execution_count": 1,
   "metadata": {},
   "outputs": [],
   "source": [
    "from utils.packages import *"
   ]
  },
  {
   "cell_type": "code",
   "execution_count": 2,
   "metadata": {},
   "outputs": [],
   "source": [
    "data = {}"
   ]
  },
  {
   "cell_type": "code",
   "execution_count": 3,
   "metadata": {},
   "outputs": [],
   "source": [
    "from utils import params"
   ]
  },
  {
   "cell_type": "code",
   "execution_count": 4,
   "metadata": {},
   "outputs": [],
   "source": [
    "data = params.reset_data(data)"
   ]
  },
  {
   "cell_type": "code",
   "execution_count": 5,
   "metadata": {
    "scrolled": true
   },
   "outputs": [
    {
     "data": {
      "text/plain": [
       "{'instrument': 'EUR_USD',\n",
       " 'pip_size': 0.0001,\n",
       " 'order_num': 1,\n",
       " 'stop_loss_val': 10,\n",
       " 'timed_loss_limit': -0.00030000000000000003,\n",
       " 'take_profit_val': 0.5,\n",
       " 'pip_take_profit_ratio': 0.3,\n",
       " 'num_of_ticks': 300,\n",
       " 'rsi_len': 14,\n",
       " 'sma_len': 5,\n",
       " 'lma_len': 10,\n",
       " 'loss_iter_limit': 300,\n",
       " 'ts_date_val': 0,\n",
       " 'ts_time_val': 0,\n",
       " 'tot_ts': 0,\n",
       " 'time_diff': 0,\n",
       " 'max_time_diff': 15,\n",
       " 'rs_max': 1000000.0,\n",
       " 'remove_cols': ['tick_avg',\n",
       "  'sema',\n",
       "  'ssma',\n",
       "  'lema',\n",
       "  'lsma',\n",
       "  'max_tick',\n",
       "  'min_tick',\n",
       "  'rs'],\n",
       " 'col_order': ['spread_avg',\n",
       "  'tick_sd',\n",
       "  'sema_diff',\n",
       "  'lema_diff',\n",
       "  'diff',\n",
       "  'avg_gain',\n",
       "  'avg_loss',\n",
       "  'rsi',\n",
       "  'ssma_diff',\n",
       "  'lsma_diff',\n",
       "  'sma_diff',\n",
       "  'max_gap',\n",
       "  'min_gap',\n",
       "  'small_sema_slope',\n",
       "  'long_sema_slope',\n",
       "  'ema_diff'],\n",
       " 'select_keys': ['tick_avg',\n",
       "  'spread_avg',\n",
       "  'tick_sd',\n",
       "  'diff',\n",
       "  'avg_gain',\n",
       "  'avg_loss',\n",
       "  'rs',\n",
       "  'rsi',\n",
       "  'sema',\n",
       "  'sema_diff',\n",
       "  'ssma',\n",
       "  'ssma_diff',\n",
       "  'lema',\n",
       "  'lema_diff',\n",
       "  'lsma',\n",
       "  'lsma_diff',\n",
       "  'ema_diff',\n",
       "  'sma_diff',\n",
       "  'max_tick',\n",
       "  'min_tick',\n",
       "  'max_gap',\n",
       "  'min_gap',\n",
       "  'small_sema_slope',\n",
       "  'long_sema_slope'],\n",
       " 'price_ask': 0,\n",
       " 'price_bid': 0,\n",
       " 'price_stop': 0,\n",
       " 'price_tick': 0,\n",
       " 'price_spread': 0,\n",
       " 'list_tick_avg': deque([]),\n",
       " 'list_spread': deque([]),\n",
       " 'min_tick': 0,\n",
       " 'max_tick': 0,\n",
       " 'min_tick_gap': 0,\n",
       " 'max_tick_gap': 0,\n",
       " 'live_df_ready': False,\n",
       " 'prediction': None,\n",
       " 'order_val': 0,\n",
       " 'order_current_open': False,\n",
       " 'order_create': None,\n",
       " 'stop_loss_pip': 0.001,\n",
       " 'positions_info': None,\n",
       " 'positions_long': 0,\n",
       " 'positions_short': 0,\n",
       " 'response_order': None,\n",
       " 'response_close': None,\n",
       " 'long_max_profit': 0,\n",
       " 'price_order_ask': 0,\n",
       " 'long_profit_val': 0,\n",
       " 'long_buffer_val': 0,\n",
       " 'long_buffer_profit': 0,\n",
       " 'short_max_profit': 0,\n",
       " 'price_order_bid': 0,\n",
       " 'short_profit_val': 0,\n",
       " 'short_buffer_val': 0,\n",
       " 'short_buffer_profit': 0,\n",
       " 'pip_take_profit': 5e-05,\n",
       " 'long_loss_val': 0,\n",
       " 'long_loss_list': [],\n",
       " 'long_loss_list_len': 0,\n",
       " 'long_loss_lema': 0,\n",
       " 'short_loss_val': 0,\n",
       " 'short_loss_list': [],\n",
       " 'short_loss_list_len': 0,\n",
       " 'short_loss_lema': 0}"
      ]
     },
     "execution_count": 5,
     "metadata": {},
     "output_type": "execute_result"
    }
   ],
   "source": [
    "data"
   ]
  }
 ],
 "metadata": {
  "kernelspec": {
   "display_name": "Python 3",
   "language": "python",
   "name": "python3"
  },
  "language_info": {
   "codemirror_mode": {
    "name": "ipython",
    "version": 3
   },
   "file_extension": ".py",
   "mimetype": "text/x-python",
   "name": "python",
   "nbconvert_exporter": "python",
   "pygments_lexer": "ipython3",
   "version": "3.6.6"
  }
 },
 "nbformat": 4,
 "nbformat_minor": 4
}
