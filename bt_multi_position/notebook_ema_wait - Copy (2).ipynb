{
 "cells": [
  {
   "cell_type": "markdown",
   "metadata": {},
   "source": [
    "# ML Trader"
   ]
  },
  {
   "cell_type": "code",
   "execution_count": 1,
   "metadata": {
    "scrolled": true
   },
   "outputs": [],
   "source": [
    "from utils.packages import *\n",
    "from utils.variables import *\n",
    "from utils.i_o import *\n",
    "from utils.dir_slope import *\n",
    "from utils.engine import *\n",
    "from utils.loops import *\n",
    "from utils.order import *\n",
    "import winsound"
   ]
  },
  {
   "cell_type": "code",
   "execution_count": 2,
   "metadata": {},
   "outputs": [],
   "source": [
    "data['num_of_switch_orders']    = 30"
   ]
  },
  {
   "cell_type": "code",
   "execution_count": 3,
   "metadata": {
    "scrolled": false
   },
   "outputs": [
    {
     "name": "stderr",
     "output_type": "stream",
     "text": [
      "\r",
      "100%|███████████████████████████▉| 15121499/15125888 [32:46<00:01, 3617.14it/s]"
     ]
    },
    {
     "name": "stdout",
     "output_type": "stream",
     "text": [
      "pls    1.42815\n",
      "dtype: float64\n",
      "--------------------------------------\n",
      "                    date ord_types close_type      pls\n",
      "8807 2021-12-30 19:27:04     short  all_close -0.00061\n",
      "8808 2021-12-30 19:27:04      long  all_close  0.00072\n",
      "8809 2021-12-31 14:15:49      long  all_close -0.00029\n",
      "8810 2021-12-31 14:15:49     short  all_close  0.00008\n",
      "8811 2021-12-31 14:15:49     short  all_close  0.00039\n",
      "8812 2021-12-31 15:37:10      long  all_close -0.00059\n",
      "8813 2021-12-31 15:37:10     short  all_close  0.00070\n",
      "8814 2021-12-31 16:01:03      long  all_close -0.00031\n",
      "8815 2021-12-31 16:01:03     short  all_close  0.00008\n",
      "8816 2021-12-31 16:01:03     short  all_close  0.00033\n",
      "8817 2021-12-31 18:27:01      long  all_close -0.00014\n",
      "8818 2021-12-31 18:27:01     short  all_close -0.00020\n",
      "8819 2021-12-31 18:27:01     short  all_close  0.00000\n",
      "8820 2021-12-31 18:27:01     short  all_close  0.00016\n",
      "8821 2021-12-31 18:27:01     short  all_close  0.00035\n"
     ]
    },
    {
     "name": "stderr",
     "output_type": "stream",
     "text": [
      "100%|████████████████████████████| 15125888/15125888 [32:47<00:00, 7689.60it/s]"
     ]
    },
    {
     "name": "stdout",
     "output_type": "stream",
     "text": [
      "Wall time: 35min 58s\n"
     ]
    },
    {
     "name": "stderr",
     "output_type": "stream",
     "text": [
      "\n"
     ]
    }
   ],
   "source": [
    "%%time\n",
    "data = get_date_list(data)\n",
    "data = run_engine(data)"
   ]
  },
  {
   "cell_type": "code",
   "execution_count": 4,
   "metadata": {},
   "outputs": [],
   "source": [
    "data['temp_df']['open_order'] = data['open_order_temp_list']\n",
    "data['temp_df']['pl'] = data['pl_temp_list'] \n",
    "data['temp_df'].to_csv('data/temp.csv')"
   ]
  },
  {
   "cell_type": "code",
   "execution_count": 5,
   "metadata": {},
   "outputs": [
    {
     "data": {
      "text/plain": [
       "-2.39345"
      ]
     },
     "execution_count": 5,
     "metadata": {},
     "output_type": "execute_result"
    }
   ],
   "source": [
    "min(data['temp_df']['pl'])"
   ]
  },
  {
   "cell_type": "code",
   "execution_count": 6,
   "metadata": {},
   "outputs": [
    {
     "data": {
      "text/plain": [
       "0.11204"
      ]
     },
     "execution_count": 6,
     "metadata": {},
     "output_type": "execute_result"
    }
   ],
   "source": [
    "max(data['temp_df']['pl'])"
   ]
  },
  {
   "cell_type": "code",
   "execution_count": 7,
   "metadata": {},
   "outputs": [
    {
     "data": {
      "text/plain": [
       "30"
      ]
     },
     "execution_count": 7,
     "metadata": {},
     "output_type": "execute_result"
    }
   ],
   "source": [
    "max(data['temp_df']['open_order'])"
   ]
  },
  {
   "cell_type": "code",
   "execution_count": 8,
   "metadata": {},
   "outputs": [
    {
     "data": {
      "text/plain": [
       "datetime.datetime(2021, 12, 31, 21, 59, 56)"
      ]
     },
     "execution_count": 8,
     "metadata": {},
     "output_type": "execute_result"
    }
   ],
   "source": [
    "data['dt_val']"
   ]
  },
  {
   "cell_type": "code",
   "execution_count": 9,
   "metadata": {
    "scrolled": false
   },
   "outputs": [
    {
     "data": {
      "text/plain": [
       "{'total_pl': 0, 'pl_list': []}"
      ]
     },
     "execution_count": 9,
     "metadata": {},
     "output_type": "execute_result"
    }
   ],
   "source": [
    "data['orders_list']"
   ]
  },
  {
   "cell_type": "code",
   "execution_count": 10,
   "metadata": {
    "scrolled": false
   },
   "outputs": [
    {
     "name": "stdout",
     "output_type": "stream",
     "text": [
      "-----------------------------------------------------\n",
      "==============================\n",
      "Total PL : 1.4281500000000014\n",
      "-------------\n",
      "net_pl            : 1.42815/3.82595\n",
      "-------------\n",
      "+ve               : num= 4750    sum= +2.62705    avg= +0.00055\n",
      "-ve               : num= 3386    sum= -1.1989    avg= -0.00035\n",
      "==============================\n",
      "-----------------------------------------------------\n",
      "month_val\n",
      "1     0.19472\n",
      "2     0.09696\n",
      "3     0.09080\n",
      "4     0.05904\n",
      "5     0.08665\n",
      "6     0.18267\n",
      "7     0.11807\n",
      "8     0.06912\n",
      "9     0.16659\n",
      "10    0.07340\n",
      "12    0.29013\n",
      "Name: pls, dtype: float64\n",
      "-----------------------------------------------------\n",
      "all_close                  8651\n",
      "simple_slema_move_close     171\n",
      "Name: close_type, dtype: int64\n",
      "-----------------------------------------------------\n"
     ]
    }
   ],
   "source": [
    "if data[\"plot\"]:\n",
    "    data = adjust_plot_list_lengths(data)\n",
    "    plot_graph(data)\n",
    "    \n",
    "print('-----------------------------------------------------')\n",
    "print_report(data)\n",
    "print('-----------------------------------------------------')\n",
    "print(data['report_df'].groupby(['month_val'])['pls'].sum())\n",
    "print('-----------------------------------------------------')\n",
    "print(data['report_df']['close_type'].value_counts())\n",
    "print('-----------------------------------------------------')\n",
    "winsound.PlaySound('C:\\\\Windows\\\\Media\\\\tada.wav', winsound.SND_ASYNC)"
   ]
  },
  {
   "cell_type": "code",
   "execution_count": 11,
   "metadata": {},
   "outputs": [
    {
     "data": {
      "text/plain": [
       "date_val\n",
       "1     0.05550\n",
       "2     0.01394\n",
       "3     0.04982\n",
       "4     0.04427\n",
       "5     0.01198\n",
       "6     0.03606\n",
       "7     0.06936\n",
       "8     0.03756\n",
       "9     0.04230\n",
       "10    0.02241\n",
       "11    0.01850\n",
       "12    0.09920\n",
       "13    0.05451\n",
       "14    0.02535\n",
       "15    0.04090\n",
       "16    0.03311\n",
       "17    0.02228\n",
       "18    0.02224\n",
       "19    0.07482\n",
       "20    0.11230\n",
       "21    0.07843\n",
       "22    0.04280\n",
       "23    0.03836\n",
       "24    0.13243\n",
       "25    0.03126\n",
       "26    0.04385\n",
       "27    0.02323\n",
       "28    0.03306\n",
       "29    0.08054\n",
       "30    0.02796\n",
       "31    0.00982\n",
       "Name: pls, dtype: float64"
      ]
     },
     "execution_count": 11,
     "metadata": {},
     "output_type": "execute_result"
    }
   ],
   "source": [
    "data['report_df'].groupby(['date_val'])['pls'].sum()"
   ]
  },
  {
   "cell_type": "code",
   "execution_count": 12,
   "metadata": {
    "scrolled": false
   },
   "outputs": [],
   "source": [
    "winsound.PlaySound('C:\\\\Windows\\\\Media\\\\tada.wav', winsound.SND_ASYNC)\n",
    "send_telegram_message(f'Run Complete : {data[\"df_name\"]}')"
   ]
  },
  {
   "cell_type": "code",
   "execution_count": 13,
   "metadata": {},
   "outputs": [
    {
     "data": {
      "text/plain": [
       "close_type\n",
       "all_close                  0.000152\n",
       "simple_slema_move_close    0.000637\n",
       "Name: pls, dtype: float64"
      ]
     },
     "execution_count": 13,
     "metadata": {},
     "output_type": "execute_result"
    }
   ],
   "source": [
    "data['report_df'].groupby(['close_type'])['pls'].mean()"
   ]
  },
  {
   "cell_type": "code",
   "execution_count": 14,
   "metadata": {},
   "outputs": [
    {
     "data": {
      "text/plain": [
       "close_type\n",
       "all_close                  1.31917\n",
       "simple_slema_move_close    0.10898\n",
       "Name: pls, dtype: float64"
      ]
     },
     "execution_count": 14,
     "metadata": {},
     "output_type": "execute_result"
    }
   ],
   "source": [
    "data['report_df'].groupby(['close_type'])['pls'].sum()"
   ]
  },
  {
   "cell_type": "code",
   "execution_count": 15,
   "metadata": {},
   "outputs": [
    {
     "data": {
      "text/plain": [
       "3     200\n",
       "2     177\n",
       "1     171\n",
       "30    150\n",
       "4      90\n",
       "5      74\n",
       "6      39\n",
       "8      20\n",
       "7      13\n",
       "10     12\n",
       "19     11\n",
       "24     10\n",
       "18      9\n",
       "16      8\n",
       "17      7\n",
       "9       7\n",
       "20      6\n",
       "26      5\n",
       "27      4\n",
       "15      4\n",
       "25      4\n",
       "12      3\n",
       "14      3\n",
       "29      3\n",
       "22      3\n",
       "28      2\n",
       "11      2\n",
       "21      2\n",
       "23      2\n",
       "13      2\n",
       "Name: date, dtype: int64"
      ]
     },
     "execution_count": 15,
     "metadata": {},
     "output_type": "execute_result"
    }
   ],
   "source": [
    "data['report_df'].groupby(['date'])['date'].count().value_counts().sort_values(ascending=False)"
   ]
  },
  {
   "cell_type": "code",
   "execution_count": 16,
   "metadata": {},
   "outputs": [
    {
     "data": {
      "text/plain": [
       "6843   5 days 04:15:07\n",
       "6844   5 days 04:14:42\n",
       "6845   5 days 03:56:33\n",
       "6846   5 days 03:56:20\n",
       "6847   5 days 03:56:18\n",
       "             ...      \n",
       "3557   0 days 00:00:00\n",
       "125    0 days 00:00:00\n",
       "124    0 days 00:00:00\n",
       "123    0 days 00:00:00\n",
       "1931   0 days 00:00:00\n",
       "Name: duration, Length: 8822, dtype: timedelta64[ns]"
      ]
     },
     "execution_count": 16,
     "metadata": {},
     "output_type": "execute_result"
    }
   ],
   "source": [
    "data['report_df']['duration'].sort_values(ascending=False)"
   ]
  }
 ],
 "metadata": {
  "kernelspec": {
   "display_name": "Python 3",
   "language": "python",
   "name": "python3"
  },
  "language_info": {
   "codemirror_mode": {
    "name": "ipython",
    "version": 3
   },
   "file_extension": ".py",
   "mimetype": "text/x-python",
   "name": "python",
   "nbconvert_exporter": "python",
   "pygments_lexer": "ipython3",
   "version": "3.6.6"
  }
 },
 "nbformat": 4,
 "nbformat_minor": 4
}
