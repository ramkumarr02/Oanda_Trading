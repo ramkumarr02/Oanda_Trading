{
 "cells": [
  {
   "cell_type": "markdown",
   "metadata": {},
   "source": [
    "# ML Trader"
   ]
  },
  {
   "cell_type": "code",
   "execution_count": 1,
   "metadata": {
    "scrolled": true
   },
   "outputs": [],
   "source": [
    "from utils.packages import *\n",
    "from utils.variables import *\n",
    "from utils.i_o import *\n",
    "from utils.dir_slope import *\n",
    "from utils.engine import *\n",
    "from utils.loops import *\n",
    "from utils.order import *"
   ]
  },
  {
   "cell_type": "code",
   "execution_count": 2,
   "metadata": {},
   "outputs": [],
   "source": [
    "data['start_date'] = {'year':2021, 'month':5, 'date':1}\n",
    "data['end_date']   = {'year':2021, 'month':6, 'date':30}"
   ]
  },
  {
   "cell_type": "code",
   "execution_count": 3,
   "metadata": {
    "scrolled": false
   },
   "outputs": [
    {
     "name": "stderr",
     "output_type": "stream",
     "text": [
      "100%|████████████████████████████▉| 2597249/2604509 [02:39<00:00, 12518.15it/s]"
     ]
    },
    {
     "name": "stdout",
     "output_type": "stream",
     "text": [
      "pls    0.17192\n",
      "dtype: float64\n",
      "--------------------------------------\n",
      "                   date ord_types               close_type      pls\n",
      "529 2021-06-29 15:23:32     short                all_close -0.00004\n",
      "530 2021-06-29 15:23:32     short                all_close  0.00066\n",
      "531 2021-06-30 00:38:07     short                all_close -0.00035\n",
      "532 2021-06-30 00:38:07      long                all_close -0.00042\n",
      "533 2021-06-30 00:38:07      long                all_close  0.00012\n",
      "534 2021-06-30 00:38:07      long                all_close  0.00076\n",
      "535 2021-06-30 08:49:46     short  simple_slema_move_close  0.00002\n",
      "536 2021-06-30 09:36:11     short                all_close -0.00120\n",
      "537 2021-06-30 09:36:11      long                all_close  0.00130\n",
      "538 2021-06-30 11:02:57     short                all_close -0.00121\n",
      "539 2021-06-30 11:02:57      long                all_close  0.00134\n",
      "540 2021-06-30 12:33:07     short                all_close -0.00029\n",
      "541 2021-06-30 12:33:07      long                all_close -0.00040\n",
      "542 2021-06-30 12:33:07      long                all_close  0.00012\n",
      "543 2021-06-30 12:33:07      long                all_close  0.00080\n"
     ]
    },
    {
     "name": "stderr",
     "output_type": "stream",
     "text": [
      "100%|█████████████████████████████| 2604509/2604509 [02:39<00:00, 16325.40it/s]"
     ]
    },
    {
     "name": "stdout",
     "output_type": "stream",
     "text": [
      "Wall time: 3h 2min 29s\n"
     ]
    },
    {
     "name": "stderr",
     "output_type": "stream",
     "text": [
      "\n"
     ]
    }
   ],
   "source": [
    "%%time\n",
    "data = get_date_list(data)\n",
    "data = run_engine(data)"
   ]
  },
  {
   "cell_type": "code",
   "execution_count": 4,
   "metadata": {},
   "outputs": [],
   "source": [
    "data['temp_df']['open_order'] = data['open_order_temp_list']\n",
    "data['temp_df']['pl'] = data['pl_temp_list'] \n",
    "data['temp_df'].to_csv('temp.csv')"
   ]
  },
  {
   "cell_type": "code",
   "execution_count": 5,
   "metadata": {},
   "outputs": [
    {
     "data": {
      "text/plain": [
       "-0.62173"
      ]
     },
     "execution_count": 5,
     "metadata": {},
     "output_type": "execute_result"
    }
   ],
   "source": [
    "min(data['temp_df']['pl'])"
   ]
  },
  {
   "cell_type": "code",
   "execution_count": 6,
   "metadata": {},
   "outputs": [
    {
     "data": {
      "text/plain": [
       "0.09913"
      ]
     },
     "execution_count": 6,
     "metadata": {},
     "output_type": "execute_result"
    }
   ],
   "source": [
    "max(data['temp_df']['pl'])"
   ]
  },
  {
   "cell_type": "code",
   "execution_count": 7,
   "metadata": {},
   "outputs": [
    {
     "data": {
      "text/plain": [
       "19"
      ]
     },
     "execution_count": 7,
     "metadata": {},
     "output_type": "execute_result"
    }
   ],
   "source": [
    "max(data['temp_df']['open_order'])"
   ]
  },
  {
   "cell_type": "code",
   "execution_count": 8,
   "metadata": {},
   "outputs": [
    {
     "data": {
      "text/plain": [
       "{'total_pl': 0}"
      ]
     },
     "execution_count": 8,
     "metadata": {},
     "output_type": "execute_result"
    }
   ],
   "source": [
    "data['orders_list']"
   ]
  },
  {
   "cell_type": "code",
   "execution_count": 9,
   "metadata": {
    "scrolled": false
   },
   "outputs": [
    {
     "name": "stdout",
     "output_type": "stream",
     "text": [
      "-----------------------------------------------------\n",
      "==============================\n",
      "date_val          : ['20210501', '20210502', '20210503', '20210504', '20210505', '20210506', '20210507', '20210508', '20210509', '20210510', '20210511', '20210512', '20210513', '20210514', '20210515', '20210516', '20210517', '20210518', '20210519', '20210520', '20210521', '20210522', '20210523', '20210524', '20210525', '20210526', '20210527', '20210528', '20210529', '20210530', '20210531', '20210601', '20210602', '20210603', '20210604', '20210605', '20210606', '20210607', '20210608', '20210609', '20210610', '20210611', '20210612', '20210613', '20210614', '20210615', '20210616', '20210617', '20210618', '20210619', '20210620', '20210621', '20210622', '20210623', '20210624', '20210625', '20210626', '20210627', '20210628', '20210629', '20210630']\n",
      "Total PL : 0.17192000000000013\n",
      "-------------\n",
      "net_pl            : 0.17192/0.57778\n",
      "-------------\n",
      "+ve               : num= 287    sum= +0.37485    avg= +0.00131\n",
      "-ve               : num= 250    sum= -0.20293    avg= -0.00081\n",
      "==============================\n",
      "-----------------------------------------------------\n",
      "month_val\n",
      "5    0.14373\n",
      "6    0.02819\n",
      "Name: pls, dtype: float64\n",
      "-----------------------------------------------------\n",
      "all_close                  488\n",
      "simple_slema_move_close     56\n",
      "Name: close_type, dtype: int64\n",
      "-----------------------------------------------------\n"
     ]
    }
   ],
   "source": [
    "if data[\"plot\"]:\n",
    "    data = adjust_plot_list_lengths(data)\n",
    "    plot_graph(data)\n",
    "    \n",
    "print('-----------------------------------------------------')\n",
    "print_report(data)\n",
    "print('-----------------------------------------------------')\n",
    "print(data['report_df'].groupby(['month_val'])['pls'].sum())\n",
    "print('-----------------------------------------------------')\n",
    "print(data['report_df']['close_type'].value_counts())\n",
    "print('-----------------------------------------------------')\n",
    "data['report_df']\n",
    "\n",
    "winsound.PlaySound('C:\\\\Windows\\\\Media\\\\tada.wav', winsound.SND_ASYNC)"
   ]
  },
  {
   "cell_type": "markdown",
   "metadata": {
    "scrolled": false
   },
   "source": [
    "import glob\n",
    "\n",
    "for file in glob.glob(\"data/*.csv\"):\n",
    "    if file not in ['data\\\\eurusd_2021.csv', 'data\\\\full_df.csv']:\n",
    "        df = pd.read_csv(file)\n",
    "        print('----------------------------')\n",
    "        print(f'file : {file}')\n",
    "        print(df['pls'].sum())\n",
    "        print(df.groupby(['month_val'])['pls'].sum())\n",
    "        print('----------------------------')"
   ]
  },
  {
   "cell_type": "code",
   "execution_count": 10,
   "metadata": {},
   "outputs": [
    {
     "data": {
      "text/plain": [
       "date_val\n",
       "1     0.00114\n",
       "2     0.00404\n",
       "3     0.00432\n",
       "4     0.00112\n",
       "5     0.00017\n",
       "6     0.00319\n",
       "7     0.10110\n",
       "8     0.00025\n",
       "9     0.00062\n",
       "10    0.00113\n",
       "11    0.00364\n",
       "12    0.00856\n",
       "13    0.00054\n",
       "14    0.00389\n",
       "15    0.00046\n",
       "16    0.00530\n",
       "17    0.00375\n",
       "18    0.00718\n",
       "19    0.00306\n",
       "20    0.00448\n",
       "21    0.00046\n",
       "22    0.00063\n",
       "23    0.00111\n",
       "24    0.00140\n",
       "25    0.00235\n",
       "26    0.00315\n",
       "27    0.00030\n",
       "28    0.00324\n",
       "29    0.00024\n",
       "30    0.00059\n",
       "31    0.00051\n",
       "Name: pls, dtype: float64"
      ]
     },
     "execution_count": 10,
     "metadata": {},
     "output_type": "execute_result"
    }
   ],
   "source": [
    "data['report_df'].groupby(['date_val'])['pls'].sum()"
   ]
  },
  {
   "cell_type": "code",
   "execution_count": 11,
   "metadata": {
    "scrolled": false
   },
   "outputs": [],
   "source": [
    "winsound.PlaySound('C:\\\\Windows\\\\Media\\\\tada.wav', winsound.SND_ASYNC)\n",
    "send_telegram_message(f'Run Complete : {data[\"df_name\"]}')"
   ]
  },
  {
   "cell_type": "code",
   "execution_count": 12,
   "metadata": {},
   "outputs": [
    {
     "data": {
      "text/plain": [
       "close_type\n",
       "all_close                  0.000282\n",
       "simple_slema_move_close    0.000612\n",
       "Name: pls, dtype: float64"
      ]
     },
     "execution_count": 12,
     "metadata": {},
     "output_type": "execute_result"
    }
   ],
   "source": [
    "data['report_df'].groupby(['close_type'])['pls'].mean()"
   ]
  },
  {
   "cell_type": "code",
   "execution_count": 13,
   "metadata": {},
   "outputs": [
    {
     "data": {
      "text/plain": [
       "close_type\n",
       "all_close                  0.13762\n",
       "simple_slema_move_close    0.03430\n",
       "Name: pls, dtype: float64"
      ]
     },
     "execution_count": 13,
     "metadata": {},
     "output_type": "execute_result"
    }
   ],
   "source": [
    "data['report_df'].groupby(['close_type'])['pls'].sum()"
   ]
  },
  {
   "cell_type": "code",
   "execution_count": 14,
   "metadata": {},
   "outputs": [
    {
     "data": {
      "text/plain": [
       "date\n",
       "2021-05-26 23:11:43    19\n",
       "2021-05-12 07:46:06    19\n",
       "2021-06-16 10:06:41    19\n",
       "2021-05-07 05:33:50    19\n",
       "2021-05-20 08:41:09    19\n",
       "                       ..\n",
       "2021-06-02 09:05:43     1\n",
       "2021-06-02 10:45:20     1\n",
       "2021-06-02 16:08:46     1\n",
       "2021-06-03 13:19:35     1\n",
       "2021-05-03 17:09:51     1\n",
       "Name: date, Length: 160, dtype: int64"
      ]
     },
     "execution_count": 14,
     "metadata": {},
     "output_type": "execute_result"
    }
   ],
   "source": [
    "data['report_df'].groupby(['date'])['date'].count().sort_values(ascending=False)"
   ]
  },
  {
   "cell_type": "code",
   "execution_count": 15,
   "metadata": {},
   "outputs": [
    {
     "data": {
      "text/plain": [
       "447   2 days 02:07:27\n",
       "144   0 days 09:54:46\n",
       "17    0 days 09:49:10\n",
       "126   0 days 08:19:24\n",
       "371   0 days 06:51:36\n",
       "            ...      \n",
       "65    0 days 00:00:10\n",
       "112   0 days 00:00:09\n",
       "25    0 days 00:00:04\n",
       "445   0 days 00:00:04\n",
       "446   0 days 00:00:04\n",
       "Name: duration, Length: 544, dtype: timedelta64[ns]"
      ]
     },
     "execution_count": 15,
     "metadata": {},
     "output_type": "execute_result"
    }
   ],
   "source": [
    "data['report_df']['duration'].sort_values(ascending=False)"
   ]
  }
 ],
 "metadata": {
  "kernelspec": {
   "display_name": "Python 3",
   "language": "python",
   "name": "python3"
  },
  "language_info": {
   "codemirror_mode": {
    "name": "ipython",
    "version": 3
   },
   "file_extension": ".py",
   "mimetype": "text/x-python",
   "name": "python",
   "nbconvert_exporter": "python",
   "pygments_lexer": "ipython3",
   "version": "3.6.6"
  }
 },
 "nbformat": 4,
 "nbformat_minor": 4
}
