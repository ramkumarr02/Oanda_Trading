{
 "cells": [
  {
   "cell_type": "markdown",
   "metadata": {},
   "source": [
    "# ML Trader"
   ]
  },
  {
   "cell_type": "code",
   "execution_count": 1,
   "metadata": {
    "scrolled": true
   },
   "outputs": [],
   "source": [
    "from utils.packages import *\n",
    "from utils.variables import *\n",
    "from utils.i_o import *\n",
    "from utils.dir_slope import *\n",
    "from utils.engine import *\n",
    "from utils.loops import *\n",
    "from utils.order import *\n",
    "import winsound"
   ]
  },
  {
   "cell_type": "code",
   "execution_count": 2,
   "metadata": {},
   "outputs": [],
   "source": [
    "data['num_of_switch_orders']    = 19"
   ]
  },
  {
   "cell_type": "code",
   "execution_count": 3,
   "metadata": {
    "scrolled": false
   },
   "outputs": [
    {
     "name": "stderr",
     "output_type": "stream",
     "text": [
      "100%|███████████████████████████▉| 15123310/15125888 [24:34<00:00, 5095.75it/s]"
     ]
    },
    {
     "name": "stdout",
     "output_type": "stream",
     "text": [
      "pls    0.84662\n",
      "dtype: float64\n",
      "--------------------------------------\n",
      "                    date ord_types close_type      pls\n",
      "6941 2021-12-30 19:27:04     short  all_close -0.00061\n",
      "6942 2021-12-30 19:27:04      long  all_close  0.00072\n",
      "6943 2021-12-31 14:15:49      long  all_close -0.00029\n",
      "6944 2021-12-31 14:15:49     short  all_close  0.00008\n",
      "6945 2021-12-31 14:15:49     short  all_close  0.00039\n",
      "6946 2021-12-31 15:37:10      long  all_close -0.00059\n",
      "6947 2021-12-31 15:37:10     short  all_close  0.00070\n",
      "6948 2021-12-31 16:01:03      long  all_close -0.00031\n",
      "6949 2021-12-31 16:01:03     short  all_close  0.00008\n",
      "6950 2021-12-31 16:01:03     short  all_close  0.00033\n",
      "6951 2021-12-31 18:27:01      long  all_close -0.00014\n",
      "6952 2021-12-31 18:27:01     short  all_close -0.00020\n",
      "6953 2021-12-31 18:27:01     short  all_close  0.00000\n",
      "6954 2021-12-31 18:27:01     short  all_close  0.00016\n",
      "6955 2021-12-31 18:27:01     short  all_close  0.00035\n"
     ]
    },
    {
     "name": "stderr",
     "output_type": "stream",
     "text": [
      "100%|███████████████████████████| 15125888/15125888 [24:35<00:00, 10254.06it/s]"
     ]
    },
    {
     "name": "stdout",
     "output_type": "stream",
     "text": [
      "Wall time: 27min 52s\n"
     ]
    },
    {
     "name": "stderr",
     "output_type": "stream",
     "text": [
      "\n"
     ]
    }
   ],
   "source": [
    "%%time\n",
    "data = get_date_list(data)\n",
    "data = run_engine(data)"
   ]
  },
  {
   "cell_type": "code",
   "execution_count": 4,
   "metadata": {},
   "outputs": [],
   "source": [
    "data['temp_df']['open_order'] = data['open_order_temp_list']\n",
    "data['temp_df']['pl'] = data['pl_temp_list'] \n",
    "data['temp_df'].to_csv('data/temp.csv')"
   ]
  },
  {
   "cell_type": "code",
   "execution_count": 5,
   "metadata": {},
   "outputs": [
    {
     "data": {
      "text/plain": [
       "-0.97515"
      ]
     },
     "execution_count": 5,
     "metadata": {},
     "output_type": "execute_result"
    }
   ],
   "source": [
    "min(data['temp_df']['pl'])"
   ]
  },
  {
   "cell_type": "code",
   "execution_count": 6,
   "metadata": {},
   "outputs": [
    {
     "data": {
      "text/plain": [
       "0.10126"
      ]
     },
     "execution_count": 6,
     "metadata": {},
     "output_type": "execute_result"
    }
   ],
   "source": [
    "max(data['temp_df']['pl'])"
   ]
  },
  {
   "cell_type": "code",
   "execution_count": 7,
   "metadata": {},
   "outputs": [
    {
     "data": {
      "text/plain": [
       "19"
      ]
     },
     "execution_count": 7,
     "metadata": {},
     "output_type": "execute_result"
    }
   ],
   "source": [
    "max(data['temp_df']['open_order'])"
   ]
  },
  {
   "cell_type": "code",
   "execution_count": 9,
   "metadata": {
    "scrolled": false
   },
   "outputs": [
    {
     "data": {
      "text/plain": [
       "{'total_pl': 0, 'pl_list': []}"
      ]
     },
     "execution_count": 9,
     "metadata": {},
     "output_type": "execute_result"
    }
   ],
   "source": [
    "data['orders_list']"
   ]
  },
  {
   "cell_type": "code",
   "execution_count": 10,
   "metadata": {
    "scrolled": false
   },
   "outputs": [
    {
     "name": "stdout",
     "output_type": "stream",
     "text": [
      "-----------------------------------------------------\n",
      "==============================\n",
      "Total PL : 0.8466200000000003\n",
      "-------------\n",
      "net_pl            : 0.84662/2.38388\n",
      "-------------\n",
      "+ve               : num= 3841    sum= +1.61525    avg= +0.00042\n",
      "-ve               : num= 2674    sum= -0.76863    avg= -0.00029\n",
      "==============================\n",
      "-----------------------------------------------------\n",
      "month_val\n",
      "1     0.10061\n",
      "2     0.05440\n",
      "3     0.05913\n",
      "4     0.04907\n",
      "5     0.05674\n",
      "6     0.15922\n",
      "7     0.06190\n",
      "8     0.04672\n",
      "9     0.07494\n",
      "10    0.04895\n",
      "12    0.13494\n",
      "Name: pls, dtype: float64\n",
      "-----------------------------------------------------\n",
      "all_close                  6785\n",
      "simple_slema_move_close     171\n",
      "Name: close_type, dtype: int64\n",
      "-----------------------------------------------------\n"
     ]
    }
   ],
   "source": [
    "if data[\"plot\"]:\n",
    "    data = adjust_plot_list_lengths(data)\n",
    "    plot_graph(data)\n",
    "    \n",
    "print('-----------------------------------------------------')\n",
    "print_report(data)\n",
    "print('-----------------------------------------------------')\n",
    "print(data['report_df'].groupby(['month_val'])['pls'].sum())\n",
    "print('-----------------------------------------------------')\n",
    "print(data['report_df']['close_type'].value_counts())\n",
    "print('-----------------------------------------------------')\n",
    "winsound.PlaySound('C:\\\\Windows\\\\Media\\\\tada.wav', winsound.SND_ASYNC)"
   ]
  },
  {
   "cell_type": "code",
   "execution_count": 11,
   "metadata": {},
   "outputs": [
    {
     "data": {
      "text/plain": [
       "date_val\n",
       "1     0.02952\n",
       "2     0.01772\n",
       "3     0.01901\n",
       "4     0.02462\n",
       "5     0.01221\n",
       "6     0.02505\n",
       "7     0.03690\n",
       "8     0.03163\n",
       "9     0.02204\n",
       "10    0.02146\n",
       "11    0.01778\n",
       "12    0.05511\n",
       "13    0.02827\n",
       "14    0.02622\n",
       "15    0.01718\n",
       "16    0.01402\n",
       "17    0.01690\n",
       "18    0.01498\n",
       "19    0.03854\n",
       "20    0.12114\n",
       "21    0.02374\n",
       "22    0.02147\n",
       "23    0.01812\n",
       "24    0.05562\n",
       "25    0.02337\n",
       "26    0.01779\n",
       "27    0.02389\n",
       "28    0.02737\n",
       "29    0.03217\n",
       "30    0.00742\n",
       "31    0.00536\n",
       "Name: pls, dtype: float64"
      ]
     },
     "execution_count": 11,
     "metadata": {},
     "output_type": "execute_result"
    }
   ],
   "source": [
    "data['report_df'].groupby(['date_val'])['pls'].sum()"
   ]
  },
  {
   "cell_type": "code",
   "execution_count": 12,
   "metadata": {
    "scrolled": false
   },
   "outputs": [],
   "source": [
    "winsound.PlaySound('C:\\\\Windows\\\\Media\\\\tada.wav', winsound.SND_ASYNC)\n",
    "send_telegram_message(f'Run Complete : {data[\"df_name\"]}')"
   ]
  },
  {
   "cell_type": "code",
   "execution_count": 13,
   "metadata": {},
   "outputs": [
    {
     "data": {
      "text/plain": [
       "close_type\n",
       "all_close                  0.000109\n",
       "simple_slema_move_close    0.000637\n",
       "Name: pls, dtype: float64"
      ]
     },
     "execution_count": 13,
     "metadata": {},
     "output_type": "execute_result"
    }
   ],
   "source": [
    "data['report_df'].groupby(['close_type'])['pls'].mean()"
   ]
  },
  {
   "cell_type": "code",
   "execution_count": 14,
   "metadata": {},
   "outputs": [
    {
     "data": {
      "text/plain": [
       "close_type\n",
       "all_close                  0.73764\n",
       "simple_slema_move_close    0.10898\n",
       "Name: pls, dtype: float64"
      ]
     },
     "execution_count": 14,
     "metadata": {},
     "output_type": "execute_result"
    }
   ],
   "source": [
    "data['report_df'].groupby(['close_type'])['pls'].sum()"
   ]
  },
  {
   "cell_type": "code",
   "execution_count": 15,
   "metadata": {},
   "outputs": [
    {
     "data": {
      "text/plain": [
       "19    202\n",
       "3     200\n",
       "2     177\n",
       "1     171\n",
       "4      90\n",
       "5      74\n",
       "6      39\n",
       "8      20\n",
       "7      13\n",
       "10     12\n",
       "18      9\n",
       "16      8\n",
       "9       7\n",
       "17      7\n",
       "15      4\n",
       "14      3\n",
       "12      3\n",
       "13      2\n",
       "11      2\n",
       "Name: date, dtype: int64"
      ]
     },
     "execution_count": 15,
     "metadata": {},
     "output_type": "execute_result"
    }
   ],
   "source": [
    "data['report_df'].groupby(['date'])['date'].count().value_counts().sort_values(ascending=False)"
   ]
  },
  {
   "cell_type": "code",
   "execution_count": 16,
   "metadata": {},
   "outputs": [
    {
     "data": {
      "text/plain": [
       "5395   5 days 04:15:07\n",
       "5396   5 days 04:14:42\n",
       "5397   5 days 03:56:33\n",
       "5398   5 days 03:56:20\n",
       "5399   5 days 03:56:18\n",
       "             ...      \n",
       "6665   0 days 00:00:00\n",
       "2772   0 days 00:00:00\n",
       "4520   0 days 00:00:00\n",
       "3058   0 days 00:00:00\n",
       "3761   0 days 00:00:00\n",
       "Name: duration, Length: 6956, dtype: timedelta64[ns]"
      ]
     },
     "execution_count": 16,
     "metadata": {},
     "output_type": "execute_result"
    }
   ],
   "source": [
    "data['report_df']['duration'].sort_values(ascending=False)"
   ]
  }
 ],
 "metadata": {
  "kernelspec": {
   "display_name": "Python 3",
   "language": "python",
   "name": "python3"
  },
  "language_info": {
   "codemirror_mode": {
    "name": "ipython",
    "version": 3
   },
   "file_extension": ".py",
   "mimetype": "text/x-python",
   "name": "python",
   "nbconvert_exporter": "python",
   "pygments_lexer": "ipython3",
   "version": "3.6.6"
  }
 },
 "nbformat": 4,
 "nbformat_minor": 4
}
