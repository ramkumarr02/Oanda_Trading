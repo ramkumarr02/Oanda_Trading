{
 "cells": [
  {
   "cell_type": "markdown",
   "metadata": {},
   "source": [
    "# ML Trader"
   ]
  },
  {
   "cell_type": "code",
   "execution_count": 1,
   "metadata": {
    "scrolled": true
   },
   "outputs": [],
   "source": [
    "from utils.packages import *\n",
    "from utils.variables import *\n",
    "from utils.i_o import *\n",
    "from utils.dir_slope import *\n",
    "from utils.engine import *\n",
    "from utils.loops import *\n",
    "from utils.order import *\n",
    "import winsound"
   ]
  },
  {
   "cell_type": "code",
   "execution_count": 2,
   "metadata": {},
   "outputs": [],
   "source": [
    "data['start_date'] = {'year':2021, 'month':10, 'date':1}\n",
    "data['end_date']   = {'year':2021, 'month':10, 'date':31}"
   ]
  },
  {
   "cell_type": "code",
   "execution_count": 3,
   "metadata": {
    "scrolled": false
   },
   "outputs": [
    {
     "name": "stderr",
     "output_type": "stream",
     "text": [
      " 99%|████████████████████████████▊| 1127967/1135529 [01:35<00:00, 10683.15it/s]"
     ]
    },
    {
     "name": "stdout",
     "output_type": "stream",
     "text": [
      "pls    0.02983\n",
      "dtype: float64\n",
      "--------------------------------------\n",
      "                   date ord_types               close_type      pls\n",
      "197 2021-10-27 14:52:07      long                all_close  0.00124\n",
      "198 2021-10-28 00:08:13     short                all_close -0.00034\n",
      "199 2021-10-28 00:08:13      long                all_close -0.00040\n",
      "200 2021-10-28 00:08:13      long                all_close  0.00015\n",
      "201 2021-10-28 00:08:13      long                all_close  0.00080\n",
      "202 2021-10-28 11:25:26      long                all_close -0.00115\n",
      "203 2021-10-28 11:25:26     short                all_close  0.00128\n",
      "204 2021-10-28 12:44:32      long  simple_slema_move_close  0.00134\n",
      "205 2021-10-28 13:21:58      long                all_close -0.00122\n",
      "206 2021-10-28 13:21:58     short                all_close  0.00132\n",
      "207 2021-10-28 18:56:49     short  simple_slema_move_close  0.00053\n",
      "208 2021-10-29 01:25:43     short  simple_slema_move_close  0.00084\n",
      "209 2021-10-29 08:28:38     short  simple_slema_move_close  0.00109\n",
      "210 2021-10-29 12:39:25     short  simple_slema_move_close  0.00327\n",
      "211 2021-10-29 14:10:38     short  simple_slema_move_close  0.00116\n"
     ]
    },
    {
     "name": "stderr",
     "output_type": "stream",
     "text": [
      "100%|█████████████████████████████| 1135529/1135529 [01:35<00:00, 11844.81it/s]"
     ]
    },
    {
     "name": "stdout",
     "output_type": "stream",
     "text": [
      "Wall time: 1h 41min 56s\n"
     ]
    },
    {
     "name": "stderr",
     "output_type": "stream",
     "text": [
      "\n"
     ]
    }
   ],
   "source": [
    "%%time\n",
    "data = get_date_list(data)\n",
    "data = run_engine(data)"
   ]
  },
  {
   "cell_type": "code",
   "execution_count": 4,
   "metadata": {},
   "outputs": [],
   "source": [
    "data['temp_df']['open_order'] = data['open_order_temp_list']\n",
    "data['temp_df']['pl'] = data['pl_temp_list'] \n",
    "data['temp_df'].to_csv('data/temp.csv')"
   ]
  },
  {
   "cell_type": "code",
   "execution_count": 5,
   "metadata": {},
   "outputs": [
    {
     "data": {
      "text/plain": [
       "-0.1817"
      ]
     },
     "execution_count": 5,
     "metadata": {},
     "output_type": "execute_result"
    }
   ],
   "source": [
    "min(data['temp_df']['pl'])"
   ]
  },
  {
   "cell_type": "code",
   "execution_count": 6,
   "metadata": {},
   "outputs": [
    {
     "data": {
      "text/plain": [
       "0.00498"
      ]
     },
     "execution_count": 6,
     "metadata": {},
     "output_type": "execute_result"
    }
   ],
   "source": [
    "max(data['temp_df']['pl'])"
   ]
  },
  {
   "cell_type": "code",
   "execution_count": 7,
   "metadata": {},
   "outputs": [
    {
     "data": {
      "text/plain": [
       "19"
      ]
     },
     "execution_count": 7,
     "metadata": {},
     "output_type": "execute_result"
    }
   ],
   "source": [
    "max(data['temp_df']['open_order'])"
   ]
  },
  {
   "cell_type": "code",
   "execution_count": 8,
   "metadata": {},
   "outputs": [
    {
     "data": {
      "text/plain": [
       "datetime.datetime(2021, 10, 29, 15, 7, 22)"
      ]
     },
     "execution_count": 8,
     "metadata": {},
     "output_type": "execute_result"
    }
   ],
   "source": [
    "data['dt_val']"
   ]
  },
  {
   "cell_type": "code",
   "execution_count": 9,
   "metadata": {
    "scrolled": false
   },
   "outputs": [
    {
     "data": {
      "text/plain": [
       "{'total_pl': 0,\n",
       " 'pl_list': [],\n",
       " 1: {'open_order_type': 'short', 'bid': 1.15581, 'pl': 0.00116}}"
      ]
     },
     "execution_count": 9,
     "metadata": {},
     "output_type": "execute_result"
    }
   ],
   "source": [
    "data['orders_list']"
   ]
  },
  {
   "cell_type": "code",
   "execution_count": 10,
   "metadata": {
    "scrolled": false
   },
   "outputs": [
    {
     "name": "stdout",
     "output_type": "stream",
     "text": [
      "-----------------------------------------------------\n",
      "==============================\n",
      "date_val          : ['20211001', '20211002', '20211003', '20211004', '20211005', '20211006', '20211007', '20211008', '20211009', '20211010', '20211011', '20211012', '20211013', '20211014', '20211015', '20211016', '20211017', '20211018', '20211019', '20211020', '20211021', '20211022', '20211023', '20211024', '20211025', '20211026', '20211027', '20211028', '20211029', '20211030', '20211031']\n",
      "Total PL : 0.02983000000000001\n",
      "-------------\n",
      "net_pl            : 0.02983/0.16411\n",
      "-------------\n",
      "+ve               : num= 113    sum= +0.09697    avg= +0.00086\n",
      "-ve               : num= 97    sum= -0.06714    avg= -0.00069\n",
      "==============================\n",
      "-----------------------------------------------------\n",
      "month_val\n",
      "10    0.02983\n",
      "Name: pls, dtype: float64\n",
      "-----------------------------------------------------\n",
      "all_close                  182\n",
      "simple_slema_move_close     30\n",
      "Name: close_type, dtype: int64\n",
      "-----------------------------------------------------\n"
     ]
    }
   ],
   "source": [
    "if data[\"plot\"]:\n",
    "    data = adjust_plot_list_lengths(data)\n",
    "    plot_graph(data)\n",
    "    \n",
    "print('-----------------------------------------------------')\n",
    "print_report(data)\n",
    "print('-----------------------------------------------------')\n",
    "print(data['report_df'].groupby(['month_val'])['pls'].sum())\n",
    "print('-----------------------------------------------------')\n",
    "print(data['report_df']['close_type'].value_counts())\n",
    "print('-----------------------------------------------------')\n",
    "winsound.PlaySound('C:\\\\Windows\\\\Media\\\\tada.wav', winsound.SND_ASYNC)"
   ]
  },
  {
   "cell_type": "code",
   "execution_count": 11,
   "metadata": {},
   "outputs": [
    {
     "data": {
      "text/plain": [
       "date_val\n",
       "1     0.00124\n",
       "4     0.00239\n",
       "5     0.00004\n",
       "6     0.00449\n",
       "7     0.00016\n",
       "8     0.00048\n",
       "11    0.00108\n",
       "12    0.00057\n",
       "13    0.00098\n",
       "14    0.00057\n",
       "15    0.00020\n",
       "18    0.00295\n",
       "19    0.00086\n",
       "20    0.00049\n",
       "21    0.00102\n",
       "22    0.00072\n",
       "25    0.00070\n",
       "26    0.00146\n",
       "27    0.00076\n",
       "28    0.00231\n",
       "29    0.00636\n",
       "Name: pls, dtype: float64"
      ]
     },
     "execution_count": 11,
     "metadata": {},
     "output_type": "execute_result"
    }
   ],
   "source": [
    "data['report_df'].groupby(['date_val'])['pls'].sum()"
   ]
  },
  {
   "cell_type": "code",
   "execution_count": 12,
   "metadata": {
    "scrolled": false
   },
   "outputs": [],
   "source": [
    "winsound.PlaySound('C:\\\\Windows\\\\Media\\\\tada.wav', winsound.SND_ASYNC)\n",
    "send_telegram_message(f'Run Complete : {data[\"df_name\"]}')"
   ]
  },
  {
   "cell_type": "code",
   "execution_count": 13,
   "metadata": {},
   "outputs": [
    {
     "data": {
      "text/plain": [
       "close_type\n",
       "all_close                  0.000041\n",
       "simple_slema_move_close    0.000744\n",
       "Name: pls, dtype: float64"
      ]
     },
     "execution_count": 13,
     "metadata": {},
     "output_type": "execute_result"
    }
   ],
   "source": [
    "data['report_df'].groupby(['close_type'])['pls'].mean()"
   ]
  },
  {
   "cell_type": "code",
   "execution_count": 14,
   "metadata": {},
   "outputs": [
    {
     "data": {
      "text/plain": [
       "close_type\n",
       "all_close                  0.00751\n",
       "simple_slema_move_close    0.02232\n",
       "Name: pls, dtype: float64"
      ]
     },
     "execution_count": 14,
     "metadata": {},
     "output_type": "execute_result"
    }
   ],
   "source": [
    "data['report_df'].groupby(['close_type'])['pls'].sum()"
   ]
  },
  {
   "cell_type": "code",
   "execution_count": 15,
   "metadata": {},
   "outputs": [
    {
     "data": {
      "text/plain": [
       "date\n",
       "2021-10-13 13:50:51    19\n",
       "2021-10-11 13:10:24    19\n",
       "2021-10-19 00:03:15     9\n",
       "2021-10-26 16:29:15     8\n",
       "2021-10-20 11:28:29     6\n",
       "                       ..\n",
       "2021-10-29 12:39:25     1\n",
       "2021-10-14 13:56:03     1\n",
       "2021-10-14 07:25:44     1\n",
       "2021-10-14 02:00:46     1\n",
       "2021-10-01 07:41:30     1\n",
       "Name: date, Length: 72, dtype: int64"
      ]
     },
     "execution_count": 15,
     "metadata": {},
     "output_type": "execute_result"
    }
   ],
   "source": [
    "data['report_df'].groupby(['date'])['date'].count().sort_values(ascending=False)"
   ]
  },
  {
   "cell_type": "code",
   "execution_count": 16,
   "metadata": {},
   "outputs": [
    {
     "data": {
      "text/plain": [
       "42    2 days 03:28:29\n",
       "17    0 days 14:28:20\n",
       "161   0 days 06:36:05\n",
       "111   0 days 05:08:47\n",
       "9     0 days 04:52:04\n",
       "            ...      \n",
       "106   0 days 00:00:37\n",
       "105   0 days 00:00:37\n",
       "110   0 days 00:00:36\n",
       "90    0 days 00:00:29\n",
       "117   0 days 00:00:28\n",
       "Name: duration, Length: 212, dtype: timedelta64[ns]"
      ]
     },
     "execution_count": 16,
     "metadata": {},
     "output_type": "execute_result"
    }
   ],
   "source": [
    "data['report_df']['duration'].sort_values(ascending=False)"
   ]
  }
 ],
 "metadata": {
  "kernelspec": {
   "display_name": "Python 3",
   "language": "python",
   "name": "python3"
  },
  "language_info": {
   "codemirror_mode": {
    "name": "ipython",
    "version": 3
   },
   "file_extension": ".py",
   "mimetype": "text/x-python",
   "name": "python",
   "nbconvert_exporter": "python",
   "pygments_lexer": "ipython3",
   "version": "3.6.6"
  }
 },
 "nbformat": 4,
 "nbformat_minor": 4
}
