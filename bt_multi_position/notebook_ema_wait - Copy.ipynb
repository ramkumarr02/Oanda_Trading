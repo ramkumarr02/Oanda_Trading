{
 "cells": [
  {
   "cell_type": "markdown",
   "metadata": {},
   "source": [
    "# ML Trader"
   ]
  },
  {
   "cell_type": "code",
   "execution_count": 1,
   "metadata": {
    "scrolled": true
   },
   "outputs": [],
   "source": [
    "from utils.packages import *\n",
    "from utils.variables import *\n",
    "from utils.i_o import *\n",
    "from utils.dir_slope import *\n",
    "from utils.engine import *\n",
    "from utils.loops import *\n",
    "from utils.order import *\n",
    "import winsound"
   ]
  },
  {
   "cell_type": "code",
   "execution_count": 2,
   "metadata": {
    "scrolled": false
   },
   "outputs": [
    {
     "name": "stderr",
     "output_type": "stream",
     "text": [
      "\r",
      "100%|███████████████████████████▉| 16772198/16794861 [52:10<00:07, 2925.81it/s]"
     ]
    },
    {
     "name": "stdout",
     "output_type": "stream",
     "text": [
      "pls    0.99996\n",
      "dtype: float64\n",
      "--------------------------------------\n",
      "                     date ord_types               close_type      pls\n",
      "12055 2021-12-30 15:00:23     short                all_close  0.00048\n",
      "12056 2021-12-31 06:23:59     short                all_close -0.00026\n",
      "12057 2021-12-31 06:23:59      long                all_close  0.00002\n",
      "12058 2021-12-31 06:23:59      long                all_close  0.00027\n",
      "12059 2021-12-31 08:04:56     short                all_close -0.00056\n",
      "12060 2021-12-31 08:04:56      long                all_close  0.00056\n",
      "12061 2021-12-31 09:32:36      long  simple_slema_move_close  0.00108\n",
      "12062 2021-12-31 11:29:18      long                all_close -0.00027\n",
      "12063 2021-12-31 11:29:18     short                all_close  0.00000\n",
      "12064 2021-12-31 11:29:18     short                all_close  0.00030\n",
      "12065 2021-12-31 13:22:33     short                all_close -0.00009\n",
      "12066 2021-12-31 13:22:33      long                all_close -0.00028\n",
      "12067 2021-12-31 13:22:33      long                all_close -0.00009\n",
      "12068 2021-12-31 13:22:33      long                all_close  0.00008\n",
      "12069 2021-12-31 13:22:33      long                all_close  0.00045\n"
     ]
    },
    {
     "name": "stderr",
     "output_type": "stream",
     "text": [
      "100%|████████████████████████████| 16794861/16794861 [52:17<00:00, 5353.71it/s]"
     ]
    },
    {
     "name": "stdout",
     "output_type": "stream",
     "text": [
      "Wall time: 56min 7s\n"
     ]
    },
    {
     "name": "stderr",
     "output_type": "stream",
     "text": [
      "\n"
     ]
    }
   ],
   "source": [
    "%%time\n",
    "data = get_date_list(data)\n",
    "data = run_engine(data)"
   ]
  },
  {
   "cell_type": "code",
   "execution_count": 3,
   "metadata": {},
   "outputs": [],
   "source": [
    "data['temp_df']['open_order'] = data['open_order_temp_list']\n",
    "data['temp_df']['pl'] = data['pl_temp_list'] \n",
    "data['temp_df'].to_csv('data/temp.csv')"
   ]
  },
  {
   "cell_type": "code",
   "execution_count": 4,
   "metadata": {},
   "outputs": [
    {
     "data": {
      "text/plain": [
       "-2.59713"
      ]
     },
     "execution_count": 4,
     "metadata": {},
     "output_type": "execute_result"
    }
   ],
   "source": [
    "min(data['temp_df']['pl'])"
   ]
  },
  {
   "cell_type": "code",
   "execution_count": 5,
   "metadata": {},
   "outputs": [
    {
     "data": {
      "text/plain": [
       "0.01443"
      ]
     },
     "execution_count": 5,
     "metadata": {},
     "output_type": "execute_result"
    }
   ],
   "source": [
    "max(data['temp_df']['pl'])"
   ]
  },
  {
   "cell_type": "code",
   "execution_count": 6,
   "metadata": {},
   "outputs": [
    {
     "data": {
      "text/plain": [
       "19"
      ]
     },
     "execution_count": 6,
     "metadata": {},
     "output_type": "execute_result"
    }
   ],
   "source": [
    "max(data['temp_df']['open_order'])"
   ]
  },
  {
   "cell_type": "code",
   "execution_count": 7,
   "metadata": {},
   "outputs": [
    {
     "data": {
      "text/plain": [
       "datetime.datetime(2021, 12, 31, 21, 59, 56)"
      ]
     },
     "execution_count": 7,
     "metadata": {},
     "output_type": "execute_result"
    }
   ],
   "source": [
    "data['dt_val']"
   ]
  },
  {
   "cell_type": "code",
   "execution_count": 8,
   "metadata": {
    "scrolled": false
   },
   "outputs": [
    {
     "data": {
      "text/plain": [
       "{'total_pl': -0.78177,\n",
       " 'pl_list': [0.00321,\n",
       "  -0.00856,\n",
       "  -0.01269,\n",
       "  -0.0168,\n",
       "  -0.02085,\n",
       "  -0.02496,\n",
       "  -0.02926,\n",
       "  -0.0332,\n",
       "  -0.03735,\n",
       "  -0.0416,\n",
       "  -0.04565,\n",
       "  -0.05004,\n",
       "  -0.05434,\n",
       "  -0.05796,\n",
       "  -0.0621,\n",
       "  -0.06608,\n",
       "  -0.07055,\n",
       "  -0.07452,\n",
       "  -0.07847],\n",
       " 1: {'open_order_type': 'long', 'ask': 1.13346, 'pl': 0.00321},\n",
       " 2: {'open_order_type': 'short', 'bid': 1.13323, 'pl': -0.00856},\n",
       " 3: {'open_order_type': 'short', 'bid': 1.13328, 'pl': -0.01269},\n",
       " 4: {'open_order_type': 'short', 'bid': 1.13331, 'pl': -0.0168},\n",
       " 5: {'open_order_type': 'short', 'bid': 1.13334, 'pl': -0.02085},\n",
       " 6: {'open_order_type': 'short', 'bid': 1.13335, 'pl': -0.02496},\n",
       " 7: {'open_order_type': 'short', 'bid': 1.13333, 'pl': -0.02926},\n",
       " 8: {'open_order_type': 'short', 'bid': 1.13336, 'pl': -0.0332},\n",
       " 9: {'open_order_type': 'short', 'bid': 1.13336, 'pl': -0.03735},\n",
       " 10: {'open_order_type': 'short', 'bid': 1.13335, 'pl': -0.0416},\n",
       " 11: {'open_order_type': 'short', 'bid': 1.13336, 'pl': -0.04565},\n",
       " 12: {'open_order_type': 'short', 'bid': 1.13334, 'pl': -0.05004},\n",
       " 13: {'open_order_type': 'short', 'bid': 1.13333, 'pl': -0.05434},\n",
       " 14: {'open_order_type': 'short', 'bid': 1.13337, 'pl': -0.05796},\n",
       " 15: {'open_order_type': 'short', 'bid': 1.13337, 'pl': -0.0621},\n",
       " 16: {'open_order_type': 'short', 'bid': 1.13338, 'pl': -0.06608},\n",
       " 17: {'open_order_type': 'short', 'bid': 1.13336, 'pl': -0.07055},\n",
       " 18: {'open_order_type': 'short', 'bid': 1.13337, 'pl': -0.07452},\n",
       " 19: {'open_order_type': 'short', 'bid': 1.13338, 'pl': -0.07847}}"
      ]
     },
     "execution_count": 8,
     "metadata": {},
     "output_type": "execute_result"
    }
   ],
   "source": [
    "data['orders_list']"
   ]
  },
  {
   "cell_type": "code",
   "execution_count": 9,
   "metadata": {
    "scrolled": false
   },
   "outputs": [
    {
     "name": "stdout",
     "output_type": "stream",
     "text": [
      "-----------------------------------------------------\n",
      "==============================\n",
      "Total PL : 0.9999600000000008\n",
      "-------------\n",
      "net_pl            : 0.99996/3.43392\n",
      "-------------\n",
      "+ve               : num= 6608    sum= +2.21694    avg= +0.00034\n",
      "-ve               : num= 4604    sum= -1.21698    avg= -0.00026\n",
      "==============================\n",
      "-----------------------------------------------------\n",
      "month_val\n",
      "1     0.10217\n",
      "2     0.10912\n",
      "3     0.12452\n",
      "4     0.08401\n",
      "5     0.07847\n",
      "6     0.06899\n",
      "7     0.09984\n",
      "8     0.05496\n",
      "9     0.06138\n",
      "10    0.07765\n",
      "11    0.08163\n",
      "12    0.05722\n",
      "Name: pls, dtype: float64\n",
      "-----------------------------------------------------\n",
      "all_close                  11119\n",
      "simple_slema_move_close      951\n",
      "Name: close_type, dtype: int64\n",
      "-----------------------------------------------------\n"
     ]
    }
   ],
   "source": [
    "if data[\"plot\"]:\n",
    "    data = adjust_plot_list_lengths(data)\n",
    "    plot_graph(data)\n",
    "    \n",
    "print('-----------------------------------------------------')\n",
    "print_report(data)\n",
    "print('-----------------------------------------------------')\n",
    "print(data['report_df'].groupby(['month_val'])['pls'].sum())\n",
    "print('-----------------------------------------------------')\n",
    "print(data['report_df']['close_type'].value_counts())\n",
    "print('-----------------------------------------------------')\n",
    "winsound.PlaySound('C:\\\\Windows\\\\Media\\\\tada.wav', winsound.SND_ASYNC)"
   ]
  },
  {
   "cell_type": "code",
   "execution_count": 10,
   "metadata": {},
   "outputs": [
    {
     "data": {
      "text/plain": [
       "date_val\n",
       "1     0.03064\n",
       "2     0.02124\n",
       "3     0.01717\n",
       "4     0.02854\n",
       "5     0.02537\n",
       "6     0.02493\n",
       "7     0.03236\n",
       "8     0.04116\n",
       "9     0.02320\n",
       "10    0.02227\n",
       "11    0.01117\n",
       "12    0.03304\n",
       "13    0.03999\n",
       "14    0.02320\n",
       "15    0.03964\n",
       "16    0.03904\n",
       "17    0.05063\n",
       "18    0.05148\n",
       "19    0.03695\n",
       "20    0.01541\n",
       "21    0.02025\n",
       "22    0.05024\n",
       "23    0.01995\n",
       "24    0.02882\n",
       "25    0.02702\n",
       "26    0.06311\n",
       "27    0.05321\n",
       "28    0.05036\n",
       "29    0.03312\n",
       "30    0.02481\n",
       "31    0.02164\n",
       "Name: pls, dtype: float64"
      ]
     },
     "execution_count": 10,
     "metadata": {},
     "output_type": "execute_result"
    }
   ],
   "source": [
    "data['report_df'].groupby(['date_val'])['pls'].sum()"
   ]
  },
  {
   "cell_type": "code",
   "execution_count": 11,
   "metadata": {
    "scrolled": false
   },
   "outputs": [],
   "source": [
    "winsound.PlaySound('C:\\\\Windows\\\\Media\\\\tada.wav', winsound.SND_ASYNC)\n",
    "send_telegram_message(f'Run Complete : {data[\"df_name\"]}')"
   ]
  },
  {
   "cell_type": "code",
   "execution_count": 12,
   "metadata": {},
   "outputs": [
    {
     "data": {
      "text/plain": [
       "close_type\n",
       "all_close                  0.000067\n",
       "simple_slema_move_close    0.000264\n",
       "Name: pls, dtype: float64"
      ]
     },
     "execution_count": 12,
     "metadata": {},
     "output_type": "execute_result"
    }
   ],
   "source": [
    "data['report_df'].groupby(['close_type'])['pls'].mean()"
   ]
  },
  {
   "cell_type": "code",
   "execution_count": 13,
   "metadata": {},
   "outputs": [
    {
     "data": {
      "text/plain": [
       "close_type\n",
       "all_close                  0.74849\n",
       "simple_slema_move_close    0.25147\n",
       "Name: pls, dtype: float64"
      ]
     },
     "execution_count": 13,
     "metadata": {},
     "output_type": "execute_result"
    }
   ],
   "source": [
    "data['report_df'].groupby(['close_type'])['pls'].sum()"
   ]
  },
  {
   "cell_type": "code",
   "execution_count": 14,
   "metadata": {},
   "outputs": [
    {
     "data": {
      "text/plain": [
       "1     951\n",
       "2     378\n",
       "3     360\n",
       "19    330\n",
       "4     188\n",
       "5     135\n",
       "6      54\n",
       "10     24\n",
       "9      19\n",
       "7      14\n",
       "8      13\n",
       "15      7\n",
       "16      7\n",
       "18      7\n",
       "17      6\n",
       "14      5\n",
       "13      5\n",
       "12      3\n",
       "11      3\n",
       "Name: date, dtype: int64"
      ]
     },
     "execution_count": 14,
     "metadata": {},
     "output_type": "execute_result"
    }
   ],
   "source": [
    "data['report_df'].groupby(['date'])['date'].count().value_counts().sort_values(ascending=False)"
   ]
  },
  {
   "cell_type": "code",
   "execution_count": 15,
   "metadata": {},
   "outputs": [
    {
     "data": {
      "text/plain": [
       "11590   15 days 22:28:24\n",
       "11591   15 days 22:28:16\n",
       "11592   15 days 22:27:13\n",
       "11593   15 days 22:27:10\n",
       "11594   15 days 22:27:09\n",
       "              ...       \n",
       "8555     0 days 00:00:00\n",
       "8554     0 days 00:00:00\n",
       "3066     0 days 00:00:00\n",
       "3065     0 days 00:00:00\n",
       "782      0 days 00:00:00\n",
       "Name: duration, Length: 12070, dtype: timedelta64[ns]"
      ]
     },
     "execution_count": 15,
     "metadata": {},
     "output_type": "execute_result"
    }
   ],
   "source": [
    "data['report_df']['duration'].sort_values(ascending=False)"
   ]
  }
 ],
 "metadata": {
  "kernelspec": {
   "display_name": "Python 3",
   "language": "python",
   "name": "python3"
  },
  "language_info": {
   "codemirror_mode": {
    "name": "ipython",
    "version": 3
   },
   "file_extension": ".py",
   "mimetype": "text/x-python",
   "name": "python",
   "nbconvert_exporter": "python",
   "pygments_lexer": "ipython3",
   "version": "3.6.6"
  }
 },
 "nbformat": 4,
 "nbformat_minor": 4
}
