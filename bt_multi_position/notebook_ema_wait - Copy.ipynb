{
 "cells": [
  {
   "cell_type": "markdown",
   "metadata": {},
   "source": [
    "# ML Trader"
   ]
  },
  {
   "cell_type": "code",
   "execution_count": 1,
   "metadata": {
    "scrolled": true
   },
   "outputs": [],
   "source": [
    "from utils.packages import *\n",
    "from utils.variables import *\n",
    "from utils.i_o import *\n",
    "from utils.dir_slope import *\n",
    "from utils.engine import *\n",
    "from utils.loops import *\n",
    "from utils.order import *\n",
    "import winsound"
   ]
  },
  {
   "cell_type": "code",
   "execution_count": 2,
   "metadata": {
    "scrolled": false
   },
   "outputs": [
    {
     "name": "stderr",
     "output_type": "stream",
     "text": [
      "100%|███████████████████████████▉| 16793843/16794861 [25:53<00:00, 8010.62it/s]"
     ]
    },
    {
     "name": "stdout",
     "output_type": "stream",
     "text": [
      "pls    0.83484\n",
      "dtype: float64\n",
      "--------------------------------------\n",
      "                    date ord_types               close_type      pls\n",
      "5455 2021-12-30 19:13:50     short  simple_slema_move_close  0.00027\n",
      "5456 2021-12-30 22:55:17      long  simple_slema_move_close  0.00003\n",
      "5457 2021-12-31 08:05:42      long                all_close -0.00133\n",
      "5458 2021-12-31 08:05:42      long                all_close  0.00134\n",
      "5459 2021-12-31 09:32:36      long  simple_slema_move_close  0.00145\n",
      "5460 2021-12-31 12:18:41      long                all_close -0.00132\n",
      "5461 2021-12-31 12:18:41      long                all_close  0.00134\n",
      "5462 2021-12-31 12:38:25      long  simple_slema_move_close  0.00001\n",
      "5463 2021-12-31 14:00:01      long  simple_slema_move_close  0.00132\n",
      "5464 2021-12-31 15:07:29     short  simple_slema_move_close  0.00002\n",
      "5465 2021-12-31 15:37:06      long  simple_slema_move_close  0.00119\n",
      "5466 2021-12-31 15:57:40      long  simple_slema_move_close  0.00011\n",
      "5467 2021-12-31 16:58:32      long  simple_slema_move_close  0.00002\n",
      "5468 2021-12-31 17:37:55      long  simple_slema_move_close  0.00038\n",
      "5469 2021-12-31 19:32:04      long  simple_slema_move_close  0.00001\n"
     ]
    },
    {
     "name": "stderr",
     "output_type": "stream",
     "text": [
      "\r",
      "100%|███████████████████████████| 16794861/16794861 [25:53<00:00, 10808.50it/s]"
     ]
    },
    {
     "name": "stdout",
     "output_type": "stream",
     "text": [
      "Wall time: 29min 24s\n"
     ]
    },
    {
     "name": "stderr",
     "output_type": "stream",
     "text": [
      "\n"
     ]
    }
   ],
   "source": [
    "%%time\n",
    "data = get_date_list(data)\n",
    "data = run_engine(data)"
   ]
  },
  {
   "cell_type": "code",
   "execution_count": 3,
   "metadata": {},
   "outputs": [],
   "source": [
    "data['temp_df']['open_order'] = data['open_order_temp_list']\n",
    "data['temp_df']['pl'] = data['pl_temp_list'] \n",
    "data['temp_df'].to_csv('data/temp.csv')"
   ]
  },
  {
   "cell_type": "code",
   "execution_count": 4,
   "metadata": {},
   "outputs": [
    {
     "data": {
      "text/plain": [
       "-0.42039"
      ]
     },
     "execution_count": 4,
     "metadata": {},
     "output_type": "execute_result"
    }
   ],
   "source": [
    "min(data['temp_df']['pl'])"
   ]
  },
  {
   "cell_type": "code",
   "execution_count": 5,
   "metadata": {},
   "outputs": [
    {
     "data": {
      "text/plain": [
       "0.01345"
      ]
     },
     "execution_count": 5,
     "metadata": {},
     "output_type": "execute_result"
    }
   ],
   "source": [
    "max(data['temp_df']['pl'])"
   ]
  },
  {
   "cell_type": "code",
   "execution_count": 6,
   "metadata": {},
   "outputs": [
    {
     "data": {
      "text/plain": [
       "19"
      ]
     },
     "execution_count": 6,
     "metadata": {},
     "output_type": "execute_result"
    }
   ],
   "source": [
    "max(data['temp_df']['open_order'])"
   ]
  },
  {
   "cell_type": "code",
   "execution_count": 7,
   "metadata": {},
   "outputs": [
    {
     "data": {
      "text/plain": [
       "datetime.datetime(2021, 12, 31, 21, 59, 56)"
      ]
     },
     "execution_count": 7,
     "metadata": {},
     "output_type": "execute_result"
    }
   ],
   "source": [
    "data['dt_val']"
   ]
  },
  {
   "cell_type": "code",
   "execution_count": 8,
   "metadata": {
    "scrolled": false
   },
   "outputs": [
    {
     "data": {
      "text/plain": [
       "{'total_pl': -0.00159,\n",
       " 'pl_list': [-0.00159],\n",
       " 1: {'open_order_type': 'long', 'ask': 1.13826, 'pl': -0.00159}}"
      ]
     },
     "execution_count": 8,
     "metadata": {},
     "output_type": "execute_result"
    }
   ],
   "source": [
    "data['orders_list']"
   ]
  },
  {
   "cell_type": "code",
   "execution_count": 9,
   "metadata": {
    "scrolled": false
   },
   "outputs": [
    {
     "name": "stdout",
     "output_type": "stream",
     "text": [
      "-----------------------------------------------------\n",
      "==============================\n",
      "Total PL : 0.8348399999999911\n",
      "-------------\n",
      "net_pl            : 0.83484/5.48204\n",
      "-------------\n",
      "+ve               : num= 4531    sum= +3.15844    avg= +0.0007\n",
      "-ve               : num= 934    sum= -2.3236    avg= -0.00249\n",
      "==============================\n",
      "-----------------------------------------------------\n",
      "month_val\n",
      "1     0.08659\n",
      "2     0.06137\n",
      "3     0.09277\n",
      "4     0.06436\n",
      "5     0.07511\n",
      "6     0.07206\n",
      "7     0.06083\n",
      "8     0.04523\n",
      "9     0.05281\n",
      "10    0.04944\n",
      "11    0.09596\n",
      "12    0.07831\n",
      "Name: pls, dtype: float64\n",
      "-----------------------------------------------------\n",
      "simple_slema_move_close    3758\n",
      "all_close                  1712\n",
      "Name: close_type, dtype: int64\n",
      "-----------------------------------------------------\n"
     ]
    }
   ],
   "source": [
    "if data[\"plot\"]:\n",
    "    data = adjust_plot_list_lengths(data)\n",
    "    plot_graph(data)\n",
    "    \n",
    "print('-----------------------------------------------------')\n",
    "print_report(data)\n",
    "print('-----------------------------------------------------')\n",
    "print(data['report_df'].groupby(['month_val'])['pls'].sum())\n",
    "print('-----------------------------------------------------')\n",
    "print(data['report_df']['close_type'].value_counts())\n",
    "print('-----------------------------------------------------')\n",
    "winsound.PlaySound('C:\\\\Windows\\\\Media\\\\tada.wav', winsound.SND_ASYNC)"
   ]
  },
  {
   "cell_type": "code",
   "execution_count": 10,
   "metadata": {},
   "outputs": [
    {
     "data": {
      "text/plain": [
       "date_val\n",
       "1     0.02433\n",
       "2     0.02288\n",
       "3     0.02678\n",
       "4     0.03230\n",
       "5     0.02255\n",
       "6     0.02191\n",
       "7     0.02927\n",
       "8     0.03653\n",
       "9     0.01963\n",
       "10    0.02691\n",
       "11    0.02502\n",
       "12    0.02044\n",
       "13    0.02430\n",
       "14    0.01795\n",
       "15    0.02571\n",
       "16    0.02448\n",
       "17    0.02842\n",
       "18    0.03114\n",
       "19    0.03946\n",
       "20    0.03574\n",
       "21    0.01780\n",
       "22    0.03886\n",
       "23    0.03118\n",
       "24    0.01856\n",
       "25    0.02653\n",
       "26    0.03521\n",
       "27    0.02439\n",
       "28    0.04061\n",
       "29    0.02225\n",
       "30    0.03313\n",
       "31    0.01057\n",
       "Name: pls, dtype: float64"
      ]
     },
     "execution_count": 10,
     "metadata": {},
     "output_type": "execute_result"
    }
   ],
   "source": [
    "data['report_df'].groupby(['date_val'])['pls'].sum()"
   ]
  },
  {
   "cell_type": "code",
   "execution_count": 11,
   "metadata": {
    "scrolled": false
   },
   "outputs": [],
   "source": [
    "winsound.PlaySound('C:\\\\Windows\\\\Media\\\\tada.wav', winsound.SND_ASYNC)\n",
    "send_telegram_message(f'Run Complete : {data[\"df_name\"]}')"
   ]
  },
  {
   "cell_type": "code",
   "execution_count": 12,
   "metadata": {},
   "outputs": [
    {
     "data": {
      "text/plain": [
       "close_type\n",
       "all_close                  0.000048\n",
       "simple_slema_move_close    0.000200\n",
       "Name: pls, dtype: float64"
      ]
     },
     "execution_count": 12,
     "metadata": {},
     "output_type": "execute_result"
    }
   ],
   "source": [
    "data['report_df'].groupby(['close_type'])['pls'].mean()"
   ]
  },
  {
   "cell_type": "code",
   "execution_count": 13,
   "metadata": {},
   "outputs": [
    {
     "data": {
      "text/plain": [
       "close_type\n",
       "all_close                  0.08241\n",
       "simple_slema_move_close    0.75243\n",
       "Name: pls, dtype: float64"
      ]
     },
     "execution_count": 13,
     "metadata": {},
     "output_type": "execute_result"
    }
   ],
   "source": [
    "data['report_df'].groupby(['close_type'])['pls'].sum()"
   ]
  },
  {
   "cell_type": "code",
   "execution_count": 14,
   "metadata": {},
   "outputs": [
    {
     "data": {
      "text/plain": [
       "close_type\n",
       "all_close                  1712\n",
       "simple_slema_move_close    3758\n",
       "Name: pls, dtype: int64"
      ]
     },
     "execution_count": 14,
     "metadata": {},
     "output_type": "execute_result"
    }
   ],
   "source": [
    "data['report_df'].groupby(['close_type'])['pls'].count()"
   ]
  },
  {
   "cell_type": "code",
   "execution_count": 15,
   "metadata": {},
   "outputs": [
    {
     "name": "stdout",
     "output_type": "stream",
     "text": [
      "Average pips per day : 0.0029\n"
     ]
    }
   ],
   "source": [
    "x = np.round(data['report_df'].groupby(['month_val', 'date_val'])['pls'].sum().values.mean(),4)\n",
    "print(f'Average pips per day : {x}')"
   ]
  },
  {
   "cell_type": "code",
   "execution_count": 16,
   "metadata": {},
   "outputs": [
    {
     "name": "stdout",
     "output_type": "stream",
     "text": [
      "Average orders per day : 19.328621908127207\n"
     ]
    }
   ],
   "source": [
    "x = data['report_df'].groupby(['month_val', 'date_val'])['pls'].count().values.mean()\n",
    "print(f'Average orders per day : {x}')"
   ]
  },
  {
   "cell_type": "code",
   "execution_count": 17,
   "metadata": {},
   "outputs": [
    {
     "data": {
      "text/plain": [
       "1     3758\n",
       "2      302\n",
       "3       78\n",
       "4       38\n",
       "7       15\n",
       "5       15\n",
       "6       11\n",
       "19       8\n",
       "11       7\n",
       "8        7\n",
       "9        4\n",
       "13       3\n",
       "16       3\n",
       "12       1\n",
       "10       1\n",
       "15       1\n",
       "14       1\n",
       "17       1\n",
       "Name: date, dtype: int64"
      ]
     },
     "execution_count": 17,
     "metadata": {},
     "output_type": "execute_result"
    }
   ],
   "source": [
    "data['report_df'].groupby(['date'])['date'].count().value_counts().sort_values(ascending=False)"
   ]
  },
  {
   "cell_type": "code",
   "execution_count": 18,
   "metadata": {},
   "outputs": [
    {
     "data": {
      "text/plain": [
       "3617   2 days 22:20:33\n",
       "3618   2 days 19:30:41\n",
       "3619   2 days 18:05:32\n",
       "3620   2 days 17:01:16\n",
       "3621   2 days 16:23:38\n",
       "             ...      \n",
       "2942   0 days 00:00:01\n",
       "2947   0 days 00:00:00\n",
       "2946   0 days 00:00:00\n",
       "2945   0 days 00:00:00\n",
       "2944   0 days 00:00:00\n",
       "Name: duration, Length: 5470, dtype: timedelta64[ns]"
      ]
     },
     "execution_count": 18,
     "metadata": {},
     "output_type": "execute_result"
    }
   ],
   "source": [
    "data['report_df']['duration'].sort_values(ascending=False)"
   ]
  }
 ],
 "metadata": {
  "kernelspec": {
   "display_name": "Python 3",
   "language": "python",
   "name": "python3"
  },
  "language_info": {
   "codemirror_mode": {
    "name": "ipython",
    "version": 3
   },
   "file_extension": ".py",
   "mimetype": "text/x-python",
   "name": "python",
   "nbconvert_exporter": "python",
   "pygments_lexer": "ipython3",
   "version": "3.6.6"
  }
 },
 "nbformat": 4,
 "nbformat_minor": 4
}
