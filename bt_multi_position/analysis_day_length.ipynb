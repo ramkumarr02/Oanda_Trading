{
 "cells": [
  {
   "cell_type": "markdown",
   "metadata": {},
   "source": [
    "# ML Trader"
   ]
  },
  {
   "cell_type": "code",
   "execution_count": null,
   "metadata": {
    "scrolled": true
   },
   "outputs": [],
   "source": [
    "from utils.packages import *\n",
    "from utils.variables import *\n",
    "from utils.i_o import *\n",
    "from utils.dir_slope import *\n",
    "from utils.engine import *\n",
    "from utils.loops import *\n",
    "from utils.order import *\n",
    "import winsound"
   ]
  },
  {
   "cell_type": "code",
   "execution_count": null,
   "metadata": {},
   "outputs": [],
   "source": [
    "import plotly.express as px\n",
    "import plotly.graph_objects as go\n",
    "from plotly.graph_objs.layout import YAxis,XAxis,Margin\n",
    "import webbrowser\n",
    "data['chrome_path'] = \"C:/Program Files (x86)/Google/Chrome/Application/chrome.exe %s\""
   ]
  },
  {
   "cell_type": "code",
   "execution_count": null,
   "metadata": {},
   "outputs": [],
   "source": [
    "weekday_dict = {0:'Sunday' , 1:'Monday', 2:'Tuesday', 3:'Wednesday', 4:'Thursday', 5:'Friday', 6:'Saturday'}"
   ]
  },
  {
   "cell_type": "code",
   "execution_count": null,
   "metadata": {},
   "outputs": [],
   "source": [
    "%%time\n",
    "data = get_date_list(data)\n",
    "data = read_data(data)"
   ]
  },
  {
   "cell_type": "code",
   "execution_count": null,
   "metadata": {},
   "outputs": [],
   "source": [
    "%%time\n",
    "data['df']['tick']      = (data[\"df\"]['Ask'] + data[\"df\"]['Bid'])/2\n",
    "data['df']['dt']   = [dt.datetime.strptime(x.split(\".\")[0],\"%Y%m%d %H:%M:%S\") for x in data[\"df\"]['DateTime']]\n",
    "\n",
    "data['df'] = data['df'][['dt','tick']]\n",
    "data['df']['month_val'] = [x.month for x in data['df']['dt']]\n",
    "data['df']['date_val'] = [x.day for x in data['df']['dt']]\n",
    "data['df'].head(2)"
   ]
  },
  {
   "cell_type": "code",
   "execution_count": null,
   "metadata": {
    "scrolled": true
   },
   "outputs": [],
   "source": [
    "%%time\n",
    "idx = data['df'].groupby(['date_val', 'month_val'])['tick'].transform(max) == data['df']['tick']\n",
    "data['df_max'] = data['df'][idx]\n",
    "data['df_max']['week_day'] = [x.weekday() for x in data['df_max']['dt']]\n",
    "data['df_max'] = data['df_max'].replace({'week_day' : weekday_dict})\n",
    "del data['df_max']['dt']\n",
    "data['df_max'] = data['df_max'].drop_duplicates()\n",
    "data['df_max'].head(2)"
   ]
  },
  {
   "cell_type": "code",
   "execution_count": null,
   "metadata": {
    "scrolled": true
   },
   "outputs": [],
   "source": [
    "idx = data['df'].groupby(['date_val', 'month_val'])['tick'].transform(min) == data['df']['tick']\n",
    "data['df_min'] = data['df'][idx]\n",
    "del data['df_min']['dt']\n",
    "data['df_min'] = data['df_min'].drop_duplicates()\n",
    "data['df_min'].head(2)"
   ]
  },
  {
   "cell_type": "code",
   "execution_count": null,
   "metadata": {},
   "outputs": [],
   "source": [
    "data['df_min_max'] = data['df_max'].merge(data['df_min'], on = ['month_val', 'date_val'])\n",
    "data['df_min_max'] = data['df_min_max'].rename(columns = {'tick_x':'max_tick', 'tick_y':'min_tick'})"
   ]
  },
  {
   "cell_type": "code",
   "execution_count": null,
   "metadata": {},
   "outputs": [],
   "source": [
    "del data['df']\n",
    "del data['df_min']"
   ]
  },
  {
   "cell_type": "code",
   "execution_count": null,
   "metadata": {},
   "outputs": [],
   "source": [
    "data['df_min_max'] = data['df_min_max'][['month_val', 'date_val', 'week_day','min_tick', 'max_tick']]\n",
    "data['df_min_max']['day_spread'] = data['df_min_max']['max_tick'] - data['df_min_max']['min_tick']\n",
    "data['df_min_max']['mid_tick'] = data['df_min_max'][['max_tick', 'min_tick']].mean(axis=1)\n",
    "data['df_min_max'].head(2)"
   ]
  },
  {
   "cell_type": "code",
   "execution_count": null,
   "metadata": {},
   "outputs": [],
   "source": [
    "data['df_min_max'].groupby('week_day').day_spread.mean()"
   ]
  },
  {
   "cell_type": "code",
   "execution_count": null,
   "metadata": {},
   "outputs": [],
   "source": [
    "x = data['df_min_max'].groupby('week_day').day_spread.mean().index\n",
    "y = data['df_min_max'].groupby('week_day').day_spread.mean().values\n",
    "del data['df_min_max']"
   ]
  },
  {
   "cell_type": "code",
   "execution_count": null,
   "metadata": {},
   "outputs": [],
   "source": [
    "chart_name = f\"Trade Chart\"\n",
    "layout = go.Layout(title = chart_name,\n",
    "                       xaxis = dict(title=\"date\"),\n",
    "                       \n",
    "                       yaxis = dict(title=\"PIP\"),\n",
    "                      )\n",
    "    \n",
    "\n",
    "fig = go.Figure(layout = layout)\n",
    "\n",
    "\n",
    "\n",
    "fig.add_trace(go.Bar(x = x,\n",
    "                     y = y,\n",
    "                     text = y\n",
    "                    )\n",
    "                    )\n",
    "fig.update_traces(textposition='outside')\n",
    "\n",
    "\n",
    "fig.show()"
   ]
  }
 ],
 "metadata": {
  "kernelspec": {
   "display_name": "Python 3",
   "language": "python",
   "name": "python3"
  },
  "language_info": {
   "codemirror_mode": {
    "name": "ipython",
    "version": 3
   },
   "file_extension": ".py",
   "mimetype": "text/x-python",
   "name": "python",
   "nbconvert_exporter": "python",
   "pygments_lexer": "ipython3",
   "version": "3.6.6"
  }
 },
 "nbformat": 4,
 "nbformat_minor": 4
}
