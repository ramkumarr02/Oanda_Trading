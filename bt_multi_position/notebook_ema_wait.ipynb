{
 "cells": [
  {
   "cell_type": "markdown",
   "metadata": {},
   "source": [
    "# ML Trader"
   ]
  },
  {
   "cell_type": "code",
   "execution_count": 1,
   "metadata": {
    "scrolled": true
   },
   "outputs": [],
   "source": [
    "from utils.packages import *\n",
    "from utils.variables import *\n",
    "from utils.i_o import *\n",
    "from utils.dir_slope import *\n",
    "from utils.engine import *\n",
    "from utils.loops import *\n",
    "from utils.order import *\n",
    "import winsound"
   ]
  },
  {
   "cell_type": "code",
   "execution_count": 2,
   "metadata": {
    "scrolled": false
   },
   "outputs": [
    {
     "name": "stderr",
     "output_type": "stream",
     "text": [
      "100%|███████████████████████████| 15125888/15125888 [16:17<00:00, 15478.13it/s]"
     ]
    },
    {
     "name": "stdout",
     "output_type": "stream",
     "text": [
      "pls    0.28536\n",
      "dtype: float64\n",
      "--------------------------------------\n",
      "                    date ord_types               close_type      pls\n",
      "1221 2021-12-27 07:43:26      long                all_close  0.00028\n",
      "1222 2021-12-27 07:43:26      long                all_close -0.00030\n",
      "1223 2021-12-27 07:43:26      long                all_close  0.00032\n",
      "1224 2021-12-27 07:43:26      long                all_close -0.00034\n",
      "1225 2021-12-27 07:43:26      long                all_close  0.00036\n",
      "1226 2021-12-27 07:43:26      long                all_close -0.00038\n",
      "1227 2021-12-29 10:07:49     short  simple_slema_move_close  0.00181\n",
      "1228 2021-12-29 15:57:35      long  simple_slema_move_close  0.00466\n",
      "1229 2021-12-30 10:08:28     short  simple_slema_move_close  0.00016\n",
      "1230 2021-12-30 13:14:02      long  simple_slema_move_close  0.00001\n",
      "1231 2021-12-31 02:33:29     short                all_close -0.00131\n",
      "1232 2021-12-31 02:33:29     short                all_close  0.00136\n",
      "1233 2021-12-31 14:25:50      long  simple_slema_move_close  0.00032\n",
      "1234 2021-12-31 16:08:07      long  simple_slema_move_close  0.00001\n",
      "1235 2021-12-31 21:27:31      long  simple_slema_move_close  0.00002\n",
      "Wall time: 19min 50s\n"
     ]
    },
    {
     "name": "stderr",
     "output_type": "stream",
     "text": [
      "\n"
     ]
    }
   ],
   "source": [
    "%%time\n",
    "data = get_date_list(data)\n",
    "data = run_engine(data)"
   ]
  },
  {
   "cell_type": "code",
   "execution_count": 3,
   "metadata": {},
   "outputs": [],
   "source": [
    "data['temp_df']['open_order'] = data['open_order_temp_list']\n",
    "data['temp_df']['pl'] = data['pl_temp_list'] \n",
    "data['temp_df'].to_csv('data/temp.csv')"
   ]
  },
  {
   "cell_type": "code",
   "execution_count": 4,
   "metadata": {},
   "outputs": [
    {
     "data": {
      "text/plain": [
       "-0.43917"
      ]
     },
     "execution_count": 4,
     "metadata": {},
     "output_type": "execute_result"
    }
   ],
   "source": [
    "min(data['temp_df']['pl'])"
   ]
  },
  {
   "cell_type": "code",
   "execution_count": 5,
   "metadata": {},
   "outputs": [
    {
     "data": {
      "text/plain": [
       "0.00605"
      ]
     },
     "execution_count": 5,
     "metadata": {},
     "output_type": "execute_result"
    }
   ],
   "source": [
    "max(data['temp_df']['pl'])"
   ]
  },
  {
   "cell_type": "code",
   "execution_count": 6,
   "metadata": {},
   "outputs": [
    {
     "data": {
      "text/plain": [
       "19"
      ]
     },
     "execution_count": 6,
     "metadata": {},
     "output_type": "execute_result"
    }
   ],
   "source": [
    "max(data['temp_df']['open_order'])"
   ]
  },
  {
   "cell_type": "code",
   "execution_count": 7,
   "metadata": {},
   "outputs": [
    {
     "data": {
      "text/plain": [
       "datetime.datetime(2021, 12, 31, 21, 59, 56)"
      ]
     },
     "execution_count": 7,
     "metadata": {},
     "output_type": "execute_result"
    }
   ],
   "source": [
    "data['dt_val']"
   ]
  },
  {
   "cell_type": "code",
   "execution_count": 8,
   "metadata": {
    "scrolled": false
   },
   "outputs": [
    {
     "data": {
      "text/plain": [
       "{'total_pl': 0,\n",
       " 'pl_list': [],\n",
       " 1: {'open_order_type': 'long', 'ask': 1.1379, 'pl': 2e-05}}"
      ]
     },
     "execution_count": 8,
     "metadata": {},
     "output_type": "execute_result"
    }
   ],
   "source": [
    "data['orders_list']"
   ]
  },
  {
   "cell_type": "code",
   "execution_count": 9,
   "metadata": {
    "scrolled": false
   },
   "outputs": [
    {
     "name": "stdout",
     "output_type": "stream",
     "text": [
      "-----------------------------------------------------\n",
      "==============================\n",
      "Total PL : 0.2853600000000011\n",
      "-------------\n",
      "net_pl            : 0.28536/1.93174\n",
      "-------------\n",
      "+ve               : num= 897    sum= +1.10855    avg= +0.00124\n",
      "-ve               : num= 337    sum= -0.82319    avg= -0.00244\n",
      "==============================\n",
      "-----------------------------------------------------\n",
      "month_val\n",
      "1     0.03373\n",
      "2     0.02835\n",
      "3     0.02867\n",
      "4     0.02546\n",
      "5     0.02973\n",
      "6     0.02440\n",
      "7     0.01943\n",
      "8     0.01513\n",
      "9     0.01897\n",
      "10    0.02580\n",
      "12    0.03569\n",
      "Name: pls, dtype: float64\n",
      "-----------------------------------------------------\n",
      "simple_slema_move_close    623\n",
      "all_close                  613\n",
      "Name: close_type, dtype: int64\n",
      "-----------------------------------------------------\n"
     ]
    }
   ],
   "source": [
    "if data[\"plot\"]:\n",
    "    data = adjust_plot_list_lengths(data)\n",
    "    plot_graph(data)\n",
    "    \n",
    "print('-----------------------------------------------------')\n",
    "print_report(data)\n",
    "print('-----------------------------------------------------')\n",
    "print(data['report_df'].groupby(['month_val'])['pls'].sum())\n",
    "print('-----------------------------------------------------')\n",
    "print(data['report_df']['close_type'].value_counts())\n",
    "print('-----------------------------------------------------')\n",
    "winsound.PlaySound('C:\\\\Windows\\\\Media\\\\tada.wav', winsound.SND_ASYNC)"
   ]
  },
  {
   "cell_type": "code",
   "execution_count": 10,
   "metadata": {},
   "outputs": [
    {
     "data": {
      "text/plain": [
       "date_val\n",
       "1     0.00910\n",
       "2     0.00643\n",
       "3     0.00754\n",
       "4     0.01090\n",
       "5     0.00856\n",
       "6     0.01426\n",
       "7     0.00660\n",
       "8     0.01384\n",
       "9     0.01140\n",
       "10    0.00478\n",
       "11    0.00709\n",
       "12    0.01117\n",
       "13    0.01569\n",
       "14    0.01207\n",
       "15    0.00432\n",
       "16    0.00796\n",
       "17    0.01239\n",
       "18    0.00647\n",
       "19    0.02231\n",
       "20    0.00583\n",
       "21    0.00446\n",
       "22    0.01224\n",
       "23    0.00571\n",
       "24    0.00640\n",
       "25    0.00739\n",
       "26    0.00894\n",
       "27    0.00742\n",
       "28    0.00783\n",
       "29    0.01807\n",
       "30    0.00625\n",
       "31    0.00194\n",
       "Name: pls, dtype: float64"
      ]
     },
     "execution_count": 10,
     "metadata": {},
     "output_type": "execute_result"
    }
   ],
   "source": [
    "data['report_df'].groupby(['date_val'])['pls'].sum()"
   ]
  },
  {
   "cell_type": "code",
   "execution_count": 11,
   "metadata": {
    "scrolled": false
   },
   "outputs": [],
   "source": [
    "winsound.PlaySound('C:\\\\Windows\\\\Media\\\\tada.wav', winsound.SND_ASYNC)\n",
    "send_telegram_message(f'Run Complete : {data[\"df_name\"]}')"
   ]
  },
  {
   "cell_type": "code",
   "execution_count": 12,
   "metadata": {},
   "outputs": [
    {
     "data": {
      "text/plain": [
       "close_type\n",
       "all_close                  0.000040\n",
       "simple_slema_move_close    0.000419\n",
       "Name: pls, dtype: float64"
      ]
     },
     "execution_count": 12,
     "metadata": {},
     "output_type": "execute_result"
    }
   ],
   "source": [
    "data['report_df'].groupby(['close_type'])['pls'].mean()"
   ]
  },
  {
   "cell_type": "code",
   "execution_count": 13,
   "metadata": {},
   "outputs": [
    {
     "data": {
      "text/plain": [
       "close_type\n",
       "all_close                  0.02460\n",
       "simple_slema_move_close    0.26076\n",
       "Name: pls, dtype: float64"
      ]
     },
     "execution_count": 13,
     "metadata": {},
     "output_type": "execute_result"
    }
   ],
   "source": [
    "data['report_df'].groupby(['close_type'])['pls'].sum()"
   ]
  },
  {
   "cell_type": "code",
   "execution_count": 14,
   "metadata": {},
   "outputs": [
    {
     "data": {
      "text/plain": [
       "close_type\n",
       "all_close                  613\n",
       "simple_slema_move_close    623\n",
       "Name: pls, dtype: int64"
      ]
     },
     "execution_count": 14,
     "metadata": {},
     "output_type": "execute_result"
    }
   ],
   "source": [
    "data['report_df'].groupby(['close_type'])['pls'].count()"
   ]
  },
  {
   "cell_type": "code",
   "execution_count": 15,
   "metadata": {},
   "outputs": [
    {
     "name": "stdout",
     "output_type": "stream",
     "text": [
      "Average pips per day : 0.0012\n"
     ]
    }
   ],
   "source": [
    "x = np.round(data['report_df'].groupby(['month_val', 'date_val'])['pls'].sum().values.mean(),4)\n",
    "print(f'Average pips per day : {x}')"
   ]
  },
  {
   "cell_type": "code",
   "execution_count": 16,
   "metadata": {},
   "outputs": [
    {
     "name": "stdout",
     "output_type": "stream",
     "text": [
      "Average orders per day : 5.107438016528926\n"
     ]
    }
   ],
   "source": [
    "x = data['report_df'].groupby(['month_val', 'date_val'])['pls'].count().values.mean()\n",
    "print(f'Average orders per day : {x}')"
   ]
  },
  {
   "cell_type": "code",
   "execution_count": 17,
   "metadata": {},
   "outputs": [
    {
     "data": {
      "text/plain": [
       "1     623\n",
       "2     108\n",
       "3      23\n",
       "4      10\n",
       "5       6\n",
       "8       6\n",
       "6       5\n",
       "9       5\n",
       "7       4\n",
       "19      2\n",
       "11      1\n",
       "12      1\n",
       "13      1\n",
       "15      1\n",
       "18      1\n",
       "Name: date, dtype: int64"
      ]
     },
     "execution_count": 17,
     "metadata": {},
     "output_type": "execute_result"
    }
   ],
   "source": [
    "data['report_df'].groupby(['date'])['date'].count().value_counts().sort_values(ascending=False)"
   ]
  },
  {
   "cell_type": "code",
   "execution_count": 18,
   "metadata": {},
   "outputs": [
    {
     "data": {
      "text/plain": [
       "430    2 days 19:06:55\n",
       "697    2 days 17:51:15\n",
       "826    2 days 15:52:28\n",
       "1053   2 days 15:52:08\n",
       "1037   2 days 11:34:33\n",
       "             ...      \n",
       "1009   0 days 00:00:53\n",
       "712    0 days 00:00:30\n",
       "1024   0 days 00:00:28\n",
       "713    0 days 00:00:21\n",
       "1010   0 days 00:00:08\n",
       "Name: duration, Length: 1236, dtype: timedelta64[ns]"
      ]
     },
     "execution_count": 18,
     "metadata": {},
     "output_type": "execute_result"
    }
   ],
   "source": [
    "data['report_df']['duration'].sort_values(ascending=False)"
   ]
  }
 ],
 "metadata": {
  "kernelspec": {
   "display_name": "Python 3",
   "language": "python",
   "name": "python3"
  },
  "language_info": {
   "codemirror_mode": {
    "name": "ipython",
    "version": 3
   },
   "file_extension": ".py",
   "mimetype": "text/x-python",
   "name": "python",
   "nbconvert_exporter": "python",
   "pygments_lexer": "ipython3",
   "version": "3.6.6"
  }
 },
 "nbformat": 4,
 "nbformat_minor": 4
}
