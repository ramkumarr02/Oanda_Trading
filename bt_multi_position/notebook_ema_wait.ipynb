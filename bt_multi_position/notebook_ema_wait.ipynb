{
 "cells": [
  {
   "cell_type": "markdown",
   "metadata": {},
   "source": [
    "# ML Trader"
   ]
  },
  {
   "cell_type": "code",
   "execution_count": 1,
   "metadata": {
    "scrolled": true
   },
   "outputs": [],
   "source": [
    "from utils.packages import *\n",
    "from utils.variables import *\n",
    "from utils.i_o import *\n",
    "from utils.dir_slope import *\n",
    "from utils.engine import *\n",
    "from utils.loops import *\n",
    "from utils.order import *\n",
    "import winsound"
   ]
  },
  {
   "cell_type": "code",
   "execution_count": 2,
   "metadata": {
    "scrolled": false
   },
   "outputs": [
    {
     "name": "stdout",
     "output_type": "stream",
     "text": [
      "pls    0.20093\n",
      "dtype: float64"
     ]
    },
    {
     "name": "stderr",
     "output_type": "stream",
     "text": [
      "\r",
      "100%|█████████████████████████████▉| 1927644/1929765 [03:12<00:00, 8181.74it/s]"
     ]
    },
    {
     "name": "stdout",
     "output_type": "stream",
     "text": [
      "\n",
      "--------------------------------------\n",
      "                    date ord_types               close_type      pls\n",
      "1541 2021-01-29 16:23:07      long  simple_slema_move_close  0.00001\n",
      "1542 2021-01-29 16:40:30      long  simple_slema_move_close  0.00010\n",
      "1543 2021-01-29 16:48:41      long                all_close -0.00105\n",
      "1544 2021-01-29 16:48:41      long                all_close -0.00030\n",
      "1545 2021-01-29 16:48:41      long                all_close  0.00140\n",
      "1546 2021-01-29 17:13:27      long  simple_slema_move_close  0.00014\n",
      "1547 2021-01-29 17:24:33     short  simple_slema_move_close  0.00001\n",
      "1548 2021-01-29 17:48:01     short  simple_slema_move_close  0.00002\n",
      "1549 2021-01-29 18:18:36     short  simple_slema_move_close  0.00003\n",
      "1550 2021-01-29 19:00:41     short  simple_slema_move_close  0.00004\n",
      "1551 2021-01-29 20:28:06      long  simple_slema_move_close  0.00001\n",
      "1552 2021-01-31 23:11:08      long                all_close -0.00105\n",
      "1553 2021-01-31 23:11:08      long                all_close -0.00055\n",
      "1554 2021-01-31 23:11:08      long                all_close  0.00070\n",
      "1555 2021-01-31 23:11:08      long                all_close  0.00090\n"
     ]
    },
    {
     "name": "stderr",
     "output_type": "stream",
     "text": [
      "100%|█████████████████████████████| 1929765/1929765 [03:12<00:00, 10023.70it/s]"
     ]
    },
    {
     "name": "stdout",
     "output_type": "stream",
     "text": [
      "Wall time: 3min 34s\n"
     ]
    },
    {
     "name": "stderr",
     "output_type": "stream",
     "text": [
      "\n"
     ]
    }
   ],
   "source": [
    "%%time\n",
    "data = get_date_list(data)\n",
    "data = run_engine(data)"
   ]
  },
  {
   "cell_type": "code",
   "execution_count": 3,
   "metadata": {},
   "outputs": [],
   "source": [
    "data['temp_df']['open_order'] = data['open_order_temp_list']\n",
    "data['temp_df']['pl'] = data['pl_temp_list'] \n",
    "data['temp_df'].to_csv('data/temp.csv')"
   ]
  },
  {
   "cell_type": "code",
   "execution_count": 4,
   "metadata": {},
   "outputs": [
    {
     "data": {
      "text/plain": [
       "-0.16121"
      ]
     },
     "execution_count": 4,
     "metadata": {},
     "output_type": "execute_result"
    }
   ],
   "source": [
    "min(data['temp_df']['pl'])"
   ]
  },
  {
   "cell_type": "code",
   "execution_count": 5,
   "metadata": {},
   "outputs": [
    {
     "data": {
      "text/plain": [
       "0.00376"
      ]
     },
     "execution_count": 5,
     "metadata": {},
     "output_type": "execute_result"
    }
   ],
   "source": [
    "max(data['temp_df']['pl'])"
   ]
  },
  {
   "cell_type": "code",
   "execution_count": 6,
   "metadata": {},
   "outputs": [
    {
     "data": {
      "text/plain": [
       "4"
      ]
     },
     "execution_count": 6,
     "metadata": {},
     "output_type": "execute_result"
    }
   ],
   "source": [
    "max(data['temp_df']['open_order'])"
   ]
  },
  {
   "cell_type": "code",
   "execution_count": 7,
   "metadata": {},
   "outputs": [
    {
     "data": {
      "text/plain": [
       "datetime.datetime(2021, 1, 31, 23, 59, 53)"
      ]
     },
     "execution_count": 7,
     "metadata": {},
     "output_type": "execute_result"
    }
   ],
   "source": [
    "data['dt_val']"
   ]
  },
  {
   "cell_type": "code",
   "execution_count": 8,
   "metadata": {
    "scrolled": false
   },
   "outputs": [
    {
     "data": {
      "text/plain": [
       "{'total_pl': -0.00024,\n",
       " 'pl_list': [-0.00024],\n",
       " 1: {'open_order_type': 'short', 'bid': 1.21207, 'pl': -0.00024}}"
      ]
     },
     "execution_count": 8,
     "metadata": {},
     "output_type": "execute_result"
    }
   ],
   "source": [
    "data['orders_list']"
   ]
  },
  {
   "cell_type": "code",
   "execution_count": 9,
   "metadata": {
    "scrolled": false
   },
   "outputs": [
    {
     "name": "stdout",
     "output_type": "stream",
     "text": [
      "-----------------------------------------------------\n",
      "==============================\n",
      "Total PL : 0.20093000000000102\n",
      "-------------\n",
      "net_pl            : 0.20093/0.73049\n",
      "-------------\n",
      "+ve               : num= 1235    sum= +0.46571    avg= +0.00038\n",
      "-ve               : num= 316    sum= -0.26478    avg= -0.00084\n",
      "==============================\n",
      "-----------------------------------------------------\n",
      "month_val\n",
      "1    0.20093\n",
      "Name: pls, dtype: float64\n",
      "-----------------------------------------------------\n",
      "simple_slema_move_close    957\n",
      "all_close                  599\n",
      "Name: close_type, dtype: int64\n",
      "-----------------------------------------------------\n"
     ]
    }
   ],
   "source": [
    "if data[\"plot\"]:\n",
    "    data = adjust_plot_list_lengths(data)\n",
    "    plot_graph(data)\n",
    "    \n",
    "print('-----------------------------------------------------')\n",
    "print_report(data)\n",
    "print('-----------------------------------------------------')\n",
    "print(data['report_df'].groupby(['month_val'])['pls'].sum())\n",
    "print('-----------------------------------------------------')\n",
    "print(data['report_df']['close_type'].value_counts())\n",
    "print('-----------------------------------------------------')\n",
    "winsound.PlaySound('C:\\\\Windows\\\\Media\\\\tada.wav', winsound.SND_ASYNC)"
   ]
  },
  {
   "cell_type": "code",
   "execution_count": 10,
   "metadata": {},
   "outputs": [
    {
     "data": {
      "text/plain": [
       "date_val\n",
       "3     1.790000e-03\n",
       "4     1.056000e-02\n",
       "5     8.170000e-03\n",
       "6     2.024000e-02\n",
       "7     1.013000e-02\n",
       "8     1.888000e-02\n",
       "10    5.130000e-03\n",
       "11    8.940000e-03\n",
       "12    1.040000e-02\n",
       "13    1.229000e-02\n",
       "14    1.377000e-02\n",
       "15    5.120000e-03\n",
       "19    8.850000e-03\n",
       "20    7.190000e-03\n",
       "21    7.860000e-03\n",
       "22    8.560000e-03\n",
       "24    2.000000e-05\n",
       "25    5.210000e-03\n",
       "26    4.780000e-03\n",
       "27    1.166000e-02\n",
       "28    1.053000e-02\n",
       "29    1.085000e-02\n",
       "31    1.084202e-19\n",
       "Name: pls, dtype: float64"
      ]
     },
     "execution_count": 10,
     "metadata": {},
     "output_type": "execute_result"
    }
   ],
   "source": [
    "data['report_df'].groupby(['date_val'])['pls'].sum()"
   ]
  },
  {
   "cell_type": "code",
   "execution_count": 11,
   "metadata": {
    "scrolled": false
   },
   "outputs": [],
   "source": [
    "winsound.PlaySound('C:\\\\Windows\\\\Media\\\\tada.wav', winsound.SND_ASYNC)\n",
    "send_telegram_message(f'Run Complete : {data[\"df_name\"]}')"
   ]
  },
  {
   "cell_type": "code",
   "execution_count": 12,
   "metadata": {},
   "outputs": [
    {
     "data": {
      "text/plain": [
       "close_type\n",
       "all_close                  0.000083\n",
       "simple_slema_move_close    0.000158\n",
       "Name: pls, dtype: float64"
      ]
     },
     "execution_count": 12,
     "metadata": {},
     "output_type": "execute_result"
    }
   ],
   "source": [
    "data['report_df'].groupby(['close_type'])['pls'].mean()"
   ]
  },
  {
   "cell_type": "code",
   "execution_count": 13,
   "metadata": {},
   "outputs": [
    {
     "data": {
      "text/plain": [
       "close_type\n",
       "all_close                  0.04962\n",
       "simple_slema_move_close    0.15131\n",
       "Name: pls, dtype: float64"
      ]
     },
     "execution_count": 13,
     "metadata": {},
     "output_type": "execute_result"
    }
   ],
   "source": [
    "data['report_df'].groupby(['close_type'])['pls'].sum()"
   ]
  },
  {
   "cell_type": "code",
   "execution_count": 14,
   "metadata": {},
   "outputs": [
    {
     "data": {
      "text/plain": [
       "close_type\n",
       "all_close                  599\n",
       "simple_slema_move_close    957\n",
       "Name: pls, dtype: int64"
      ]
     },
     "execution_count": 14,
     "metadata": {},
     "output_type": "execute_result"
    }
   ],
   "source": [
    "data['report_df'].groupby(['close_type'])['pls'].count()"
   ]
  },
  {
   "cell_type": "code",
   "execution_count": 15,
   "metadata": {},
   "outputs": [
    {
     "name": "stdout",
     "output_type": "stream",
     "text": [
      "Average pips per day : 0.0087\n"
     ]
    }
   ],
   "source": [
    "x = np.round(data['report_df'].groupby(['month_val', 'date_val'])['pls'].sum().values.mean(),4)\n",
    "print(f'Average pips per day : {x}')"
   ]
  },
  {
   "cell_type": "code",
   "execution_count": 16,
   "metadata": {},
   "outputs": [
    {
     "name": "stdout",
     "output_type": "stream",
     "text": [
      "Average orders per day : 67.65217391304348\n"
     ]
    }
   ],
   "source": [
    "x = data['report_df'].groupby(['month_val', 'date_val'])['pls'].count().values.mean()\n",
    "print(f'Average orders per day : {x}')"
   ]
  },
  {
   "cell_type": "code",
   "execution_count": 17,
   "metadata": {},
   "outputs": [
    {
     "data": {
      "text/plain": [
       "1    957\n",
       "2     85\n",
       "4     78\n",
       "3     39\n",
       "Name: date, dtype: int64"
      ]
     },
     "execution_count": 17,
     "metadata": {},
     "output_type": "execute_result"
    }
   ],
   "source": [
    "data['report_df'].groupby(['date'])['date'].count().value_counts().sort_values(ascending=False)"
   ]
  },
  {
   "cell_type": "code",
   "execution_count": 18,
   "metadata": {},
   "outputs": [
    {
     "data": {
      "text/plain": [
       "947    3 days 17:10:09\n",
       "948    3 days 16:55:44\n",
       "949    3 days 16:52:17\n",
       "950    3 days 16:52:16\n",
       "1187   2 days 03:16:51\n",
       "             ...      \n",
       "600    0 days 00:00:06\n",
       "767    0 days 00:00:06\n",
       "82     0 days 00:00:05\n",
       "251    0 days 00:00:03\n",
       "1098   0 days 00:00:01\n",
       "Name: duration, Length: 1556, dtype: timedelta64[ns]"
      ]
     },
     "execution_count": 18,
     "metadata": {},
     "output_type": "execute_result"
    }
   ],
   "source": [
    "data['report_df']['duration'].sort_values(ascending=False)"
   ]
  }
 ],
 "metadata": {
  "kernelspec": {
   "display_name": "Python 3",
   "language": "python",
   "name": "python3"
  },
  "language_info": {
   "codemirror_mode": {
    "name": "ipython",
    "version": 3
   },
   "file_extension": ".py",
   "mimetype": "text/x-python",
   "name": "python",
   "nbconvert_exporter": "python",
   "pygments_lexer": "ipython3",
   "version": "3.6.6"
  }
 },
 "nbformat": 4,
 "nbformat_minor": 4
}
