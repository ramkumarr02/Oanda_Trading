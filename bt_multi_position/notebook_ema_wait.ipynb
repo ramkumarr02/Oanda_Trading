{
 "cells": [
  {
   "cell_type": "markdown",
   "metadata": {},
   "source": [
    "# ML Trader"
   ]
  },
  {
   "cell_type": "code",
   "execution_count": 1,
   "metadata": {
    "scrolled": true
   },
   "outputs": [],
   "source": [
    "from utils.packages import *\n",
    "from utils.variables import *\n",
    "from utils.i_o import *\n",
    "from utils.dir_slope import *\n",
    "from utils.engine import *\n",
    "from utils.loops import *\n",
    "from utils.order import *\n",
    "import winsound"
   ]
  },
  {
   "cell_type": "code",
   "execution_count": 2,
   "metadata": {
    "scrolled": false
   },
   "outputs": [
    {
     "name": "stderr",
     "output_type": "stream",
     "text": [
      "100%|████████████████████████████████| 582574/582574 [01:57<00:00, 4956.06it/s]"
     ]
    },
    {
     "name": "stdout",
     "output_type": "stream",
     "text": [
      "pls    0.19826\n",
      "dtype: float64\n",
      "--------------------------------------\n",
      "                    date ord_types               close_type      pls\n",
      "1940 2021-01-08 20:15:19     short                all_close  0.00039\n",
      "1941 2021-01-08 20:39:19      long                all_close -0.00018\n",
      "1942 2021-01-08 20:39:19     short                all_close -0.00018\n",
      "1943 2021-01-08 20:39:19     short                all_close  0.00009\n",
      "1944 2021-01-08 20:39:19     short                all_close  0.00024\n",
      "1945 2021-01-08 20:39:19     short                all_close  0.00040\n",
      "1946 2021-01-08 21:01:44      long  simple_slema_move_close  0.00001\n",
      "1947 2021-01-10 23:05:14     short  simple_slema_move_close  0.00002\n",
      "1948 2021-01-10 23:14:04     short  simple_slema_move_close  0.00023\n",
      "1949 2021-01-10 23:24:25     short                all_close -0.00019\n",
      "1950 2021-01-10 23:24:25      long                all_close -0.00018\n",
      "1951 2021-01-10 23:24:25      long                all_close  0.00000\n",
      "1952 2021-01-10 23:24:25      long                all_close  0.00020\n",
      "1953 2021-01-10 23:24:25      long                all_close  0.00035\n",
      "1954 2021-01-10 23:47:15     short  simple_slema_move_close  0.00009\n",
      "Wall time: 2min 3s\n"
     ]
    },
    {
     "name": "stderr",
     "output_type": "stream",
     "text": [
      "\n"
     ]
    }
   ],
   "source": [
    "%%time\n",
    "data = get_date_list(data)\n",
    "data = run_engine(data)"
   ]
  },
  {
   "cell_type": "code",
   "execution_count": 3,
   "metadata": {},
   "outputs": [],
   "source": [
    "data['temp_df']['open_order'] = data['open_order_temp_list']\n",
    "data['temp_df']['pl'] = data['pl_temp_list'] \n",
    "data['temp_df'].to_csv('data/temp.csv')"
   ]
  },
  {
   "cell_type": "code",
   "execution_count": 4,
   "metadata": {},
   "outputs": [
    {
     "data": {
      "text/plain": [
       "-0.31916"
      ]
     },
     "execution_count": 4,
     "metadata": {},
     "output_type": "execute_result"
    }
   ],
   "source": [
    "min(data['temp_df']['pl'])"
   ]
  },
  {
   "cell_type": "code",
   "execution_count": 5,
   "metadata": {},
   "outputs": [
    {
     "data": {
      "text/plain": [
       "0.01568"
      ]
     },
     "execution_count": 5,
     "metadata": {},
     "output_type": "execute_result"
    }
   ],
   "source": [
    "max(data['temp_df']['pl'])"
   ]
  },
  {
   "cell_type": "code",
   "execution_count": 6,
   "metadata": {},
   "outputs": [
    {
     "data": {
      "text/plain": [
       "19"
      ]
     },
     "execution_count": 6,
     "metadata": {},
     "output_type": "execute_result"
    }
   ],
   "source": [
    "max(data['temp_df']['open_order'])"
   ]
  },
  {
   "cell_type": "code",
   "execution_count": 7,
   "metadata": {},
   "outputs": [
    {
     "data": {
      "text/plain": [
       "{'total_pl': -0.00011,\n",
       " 1: {'open_order_type': 'short', 'bid': 1.21852, 'pl': -0.0002},\n",
       " 2: {'open_order_type': 'long', 'ask': 1.21873, 'pl': -6e-05},\n",
       " 3: {'open_order_type': 'long', 'ask': 1.21865, 'pl': 0.00015}}"
      ]
     },
     "execution_count": 7,
     "metadata": {},
     "output_type": "execute_result"
    }
   ],
   "source": [
    "data['orders_list']"
   ]
  },
  {
   "cell_type": "code",
   "execution_count": 8,
   "metadata": {
    "scrolled": false
   },
   "outputs": [
    {
     "name": "stdout",
     "output_type": "stream",
     "text": [
      "-----------------------------------------------------\n",
      "==============================\n",
      "date_val          : ['20210101', '20210102', '20210103', '20210104', '20210105', '20210106', '20210107', '20210108', '20210109', '20210110']\n",
      "Total PL : 0.19825999999999977\n",
      "-------------\n",
      "net_pl            : 0.19826/0.60508\n",
      "-------------\n",
      "+ve               : num= 1122    sum= +0.40167    avg= +0.00036\n",
      "-ve               : num= 721    sum= -0.20341    avg= -0.00028\n",
      "==============================\n",
      "-----------------------------------------------------\n",
      "month_val\n",
      "1    0.19826\n",
      "Name: pls, dtype: float64\n",
      "-----------------------------------------------------\n",
      "all_close                  1823\n",
      "simple_slema_move_close     132\n",
      "Name: close_type, dtype: int64\n",
      "-----------------------------------------------------\n"
     ]
    }
   ],
   "source": [
    "if data[\"plot\"]:\n",
    "    data = adjust_plot_list_lengths(data)\n",
    "    plot_graph(data)\n",
    "    \n",
    "print('-----------------------------------------------------')\n",
    "print_report(data)\n",
    "print('-----------------------------------------------------')\n",
    "print(data['report_df'].groupby(['month_val'])['pls'].sum())\n",
    "print('-----------------------------------------------------')\n",
    "print(data['report_df']['close_type'].value_counts())\n",
    "print('-----------------------------------------------------')\n",
    "winsound.PlaySound('C:\\\\Windows\\\\Media\\\\tada.wav', winsound.SND_ASYNC)"
   ]
  },
  {
   "cell_type": "code",
   "execution_count": 9,
   "metadata": {},
   "outputs": [
    {
     "data": {
      "text/plain": [
       "date_val\n",
       "3     0.00015\n",
       "4     0.03643\n",
       "5     0.02770\n",
       "6     0.04628\n",
       "7     0.03522\n",
       "8     0.05196\n",
       "10    0.00052\n",
       "Name: pls, dtype: float64"
      ]
     },
     "execution_count": 9,
     "metadata": {},
     "output_type": "execute_result"
    }
   ],
   "source": [
    "data['report_df'].groupby(['date_val'])['pls'].sum()"
   ]
  },
  {
   "cell_type": "code",
   "execution_count": 10,
   "metadata": {
    "scrolled": false
   },
   "outputs": [],
   "source": [
    "winsound.PlaySound('C:\\\\Windows\\\\Media\\\\tada.wav', winsound.SND_ASYNC)\n",
    "send_telegram_message(f'Run Complete : {data[\"df_name\"]}')"
   ]
  },
  {
   "cell_type": "code",
   "execution_count": 11,
   "metadata": {},
   "outputs": [
    {
     "data": {
      "text/plain": [
       "close_type\n",
       "all_close                  0.000089\n",
       "simple_slema_move_close    0.000273\n",
       "Name: pls, dtype: float64"
      ]
     },
     "execution_count": 11,
     "metadata": {},
     "output_type": "execute_result"
    }
   ],
   "source": [
    "data['report_df'].groupby(['close_type'])['pls'].mean()"
   ]
  },
  {
   "cell_type": "code",
   "execution_count": 12,
   "metadata": {},
   "outputs": [
    {
     "data": {
      "text/plain": [
       "close_type\n",
       "all_close                  0.16221\n",
       "simple_slema_move_close    0.03605\n",
       "Name: pls, dtype: float64"
      ]
     },
     "execution_count": 12,
     "metadata": {},
     "output_type": "execute_result"
    }
   ],
   "source": [
    "data['report_df'].groupby(['close_type'])['pls'].sum()"
   ]
  },
  {
   "cell_type": "code",
   "execution_count": 13,
   "metadata": {},
   "outputs": [
    {
     "data": {
      "text/plain": [
       "date\n",
       "2021-01-05 15:49:30    19\n",
       "2021-01-07 18:29:56    19\n",
       "2021-01-07 22:36:59    19\n",
       "2021-01-08 01:40:11    19\n",
       "2021-01-05 06:14:36    19\n",
       "                       ..\n",
       "2021-01-06 13:43:18     1\n",
       "2021-01-06 12:50:13     1\n",
       "2021-01-06 12:28:07     1\n",
       "2021-01-06 12:11:31     1\n",
       "2021-01-03 23:46:12     1\n",
       "Name: date, Length: 364, dtype: int64"
      ]
     },
     "execution_count": 13,
     "metadata": {},
     "output_type": "execute_result"
    }
   ],
   "source": [
    "data['report_df'].groupby(['date'])['date'].count().sort_values(ascending=False)"
   ]
  },
  {
   "cell_type": "code",
   "execution_count": 14,
   "metadata": {},
   "outputs": [
    {
     "data": {
      "text/plain": [
       "1314   0 days 01:14:31\n",
       "1315   0 days 01:13:28\n",
       "1316   0 days 01:11:34\n",
       "1317   0 days 01:11:29\n",
       "1318   0 days 01:11:27\n",
       "             ...      \n",
       "1888   0 days 00:00:00\n",
       "1887   0 days 00:00:00\n",
       "1576   0 days 00:00:00\n",
       "1886   0 days 00:00:00\n",
       "1884   0 days 00:00:00\n",
       "Name: duration, Length: 1955, dtype: timedelta64[ns]"
      ]
     },
     "execution_count": 14,
     "metadata": {},
     "output_type": "execute_result"
    }
   ],
   "source": [
    "data['report_df']['duration'].sort_values(ascending=False)"
   ]
  }
 ],
 "metadata": {
  "kernelspec": {
   "display_name": "Python 3",
   "language": "python",
   "name": "python3"
  },
  "language_info": {
   "codemirror_mode": {
    "name": "ipython",
    "version": 3
   },
   "file_extension": ".py",
   "mimetype": "text/x-python",
   "name": "python",
   "nbconvert_exporter": "python",
   "pygments_lexer": "ipython3",
   "version": "3.6.6"
  }
 },
 "nbformat": 4,
 "nbformat_minor": 4
}
