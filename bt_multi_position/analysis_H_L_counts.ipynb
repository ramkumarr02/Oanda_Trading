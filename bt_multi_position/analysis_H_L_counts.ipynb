{
 "cells": [
  {
   "cell_type": "markdown",
   "metadata": {},
   "source": [
    "# ML Trader"
   ]
  },
  {
   "cell_type": "code",
   "execution_count": null,
   "metadata": {
    "scrolled": true
   },
   "outputs": [],
   "source": [
    "from utils.packages import *\n",
    "from utils.variables import *\n",
    "from utils.i_o import *\n",
    "from utils.dir_slope import *\n",
    "from utils.engine import *\n",
    "from utils.loops import *\n",
    "from utils.order import *\n",
    "import winsound"
   ]
  },
  {
   "cell_type": "code",
   "execution_count": null,
   "metadata": {},
   "outputs": [],
   "source": [
    "import plotly.express as px\n",
    "import plotly.graph_objects as go\n",
    "from plotly.graph_objs.layout import YAxis,XAxis,Margin\n",
    "import webbrowser\n",
    "data['chrome_path'] = \"C:/Program Files (x86)/Google/Chrome/Application/chrome.exe %s\""
   ]
  },
  {
   "cell_type": "code",
   "execution_count": null,
   "metadata": {},
   "outputs": [],
   "source": [
    "hour_bins = {0:'21-0', \n",
    "        1:'1-4', 2:'1-4', 3:'1-4', 4:'1-4', \n",
    "        5:'5-8', 6:'5-8', 7:'5-8', 8:'5-8',\n",
    "        9:'9-12', 10:'9-12', 11:'9-12', 12:'9-12',\n",
    "        13:'13-16', 14:'13-16', 15:'13-16', 16:'13-16',\n",
    "        17:'17-20', 18:'17-20', 19:'17-20', 20:'17-20',\n",
    "        21:'21-0', 22:'21-0', 23:'21-0'}\n",
    "\n",
    "weekday_dict = {0:'Sunday' , 1:'Monday', 2:'Tuesday', 3:'Wednesday', 4:'Thursday', 5:'Friday', 6:'Saturday'}"
   ]
  },
  {
   "cell_type": "code",
   "execution_count": null,
   "metadata": {},
   "outputs": [],
   "source": [
    "%%time\n",
    "data = get_date_list(data)\n",
    "data = read_data(data)"
   ]
  },
  {
   "cell_type": "code",
   "execution_count": null,
   "metadata": {},
   "outputs": [],
   "source": [
    "%%time\n",
    "data['df']['tick']      = (data[\"df\"]['Ask'] + data[\"df\"]['Bid'])/2\n",
    "data['df']['dt']   = [dt.datetime.strptime(x.split(\".\")[0],\"%Y%m%d %H:%M:%S\") for x in data[\"df\"]['DateTime']]\n",
    "\n",
    "data['df'] = data['df'][['dt','tick']]\n",
    "data['df']['month_val'] = [x.month for x in data['df']['dt']]\n",
    "data['df']['date_val'] = [x.day for x in data['df']['dt']]\n",
    "data['df']['week_day'] = [x.weekday() for x in data['df']['dt']]\n",
    "data['df'] = data['df'].replace({'week_day' : weekday_dict})\n",
    "data['df'].head(2)"
   ]
  },
  {
   "cell_type": "code",
   "execution_count": null,
   "metadata": {},
   "outputs": [],
   "source": [
    "%%time\n",
    "idx = data['df'].groupby(['date_val', 'month_val'])['tick'].transform(max) == data['df']['tick']\n",
    "data['df_max'] = data['df'][idx]\n",
    "data['df_max']['hour_val'] = [x.hour for x in data['df_max']['dt']]\n",
    "del data['df_max']['dt']\n",
    "data['df_max'] = data['df_max'].drop_duplicates()\n",
    "data['df_max']['hour_bins'] = data['df_max']['hour_val'].map(hour_bins)\n",
    "\n",
    "\n",
    "idx = data['df'].groupby(['date_val', 'month_val'])['tick'].transform(min) == data['df']['tick']\n",
    "data['df_min'] = data['df'][idx]\n",
    "data['df_min']['hour_val'] = [x.hour for x in data['df_min']['dt']]\n",
    "del data['df_min']['dt']\n",
    "data['df_min'] = data['df_min'].drop_duplicates()\n",
    "data['df_min']['hour_bins'] = data['df_min']['hour_val'].map(hour_bins)"
   ]
  },
  {
   "cell_type": "code",
   "execution_count": null,
   "metadata": {},
   "outputs": [],
   "source": [
    "vc = data['df_max']['hour_bins'].value_counts()\n",
    "x = vc.index\n",
    "y = vc.values\n",
    "\n",
    "data['df_counts'] = pd.DataFrame()\n",
    "data['df_counts']['hour_bins'] = x\n",
    "data['df_counts']['count'] = y\n",
    "data['df_counts']['type'] = 'max' \n",
    "\n",
    "\n",
    "vc = data['df_min']['hour_bins'].value_counts()\n",
    "x = vc.index\n",
    "y = vc.values\n",
    "\n",
    "data['temp'] = pd.DataFrame()\n",
    "data['temp']['hour_bins'] = x\n",
    "data['temp']['count'] = y\n",
    "data['temp']['type'] = 'min' \n",
    "\n",
    "data['df_counts'] = data['df_counts'].append(data['temp'])"
   ]
  },
  {
   "cell_type": "code",
   "execution_count": null,
   "metadata": {},
   "outputs": [],
   "source": [
    "fig = px.bar(data_frame = data['df_counts'], x = 'hour_bins' , y = 'count' ,text = 'count', color = 'type')\n",
    "\n",
    "fig.update_layout(\n",
    "    xaxis = dict(\n",
    "        tickmode = 'linear',\n",
    "        tick0 = 1,\n",
    "        dtick = 1,\n",
    "    )\n",
    ")\n",
    "\n",
    "\n",
    "file_path = (f'{os.getcwd()}\\data\\Analysis_{data[\"input_year\"]}.html')\n",
    "fig.write_html(file_path)\n",
    "webbrowser.get(data['chrome_path']).open(file_path)"
   ]
  },
  {
   "cell_type": "markdown",
   "metadata": {},
   "source": [
    "vc = data['df_max']['week_day'].value_counts()\n",
    "x = vc.index\n",
    "y = vc.values\n",
    "\n",
    "data['df_counts'] = pd.DataFrame()\n",
    "data['df_counts']['week_bins'] = x\n",
    "data['df_counts']['count'] = y\n",
    "data['df_counts']['type'] = 'max' \n",
    "\n",
    "\n",
    "vc = data['df_min']['week_day'].value_counts()\n",
    "x = vc.index\n",
    "y = vc.values\n",
    "\n",
    "data['temp'] = pd.DataFrame()\n",
    "data['temp']['week_bins'] = x\n",
    "data['temp']['count'] = y\n",
    "data['temp']['type'] = 'min' \n",
    "\n",
    "data['df_counts'] = data['df_counts'].append(data['temp'])"
   ]
  },
  {
   "cell_type": "markdown",
   "metadata": {},
   "source": [
    "fig = px.bar(data_frame = data['df_counts'], x = 'week_bins' , y = 'count' ,text = 'count', color = 'type')\n",
    "\n",
    "fig.update_layout(\n",
    "    xaxis = dict(\n",
    "        tickmode = 'linear',\n",
    "        tick0 = 1,\n",
    "        dtick = 1,\n",
    "    )\n",
    ")\n",
    "\n",
    "\n",
    "file_path = (f'{os.getcwd()}\\data\\Analysis_{data[\"input_year\"]}.html')\n",
    "fig.write_html(file_path)\n",
    "webbrowser.get(data['chrome_path']).open(file_path)"
   ]
  }
 ],
 "metadata": {
  "kernelspec": {
   "display_name": "Python 3",
   "language": "python",
   "name": "python3"
  },
  "language_info": {
   "codemirror_mode": {
    "name": "ipython",
    "version": 3
   },
   "file_extension": ".py",
   "mimetype": "text/x-python",
   "name": "python",
   "nbconvert_exporter": "python",
   "pygments_lexer": "ipython3",
   "version": "3.6.6"
  }
 },
 "nbformat": 4,
 "nbformat_minor": 4
}
