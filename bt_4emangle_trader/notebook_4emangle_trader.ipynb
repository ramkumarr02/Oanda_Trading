{
 "cells": [
  {
   "cell_type": "markdown",
   "metadata": {},
   "source": [
    "# ML Trader"
   ]
  },
  {
   "cell_type": "code",
   "execution_count": 1,
   "metadata": {
    "scrolled": true
   },
   "outputs": [],
   "source": [
    "from utils.packages import *\n",
    "from utils.variables import *\n",
    "from utils.i_o import *\n",
    "from utils.dir_slope import *\n",
    "from utils.engine import *\n",
    "from utils.loops import *\n",
    "from utils.order import *\n",
    "import winsound\n",
    "from tqdm import tqdm\n",
    "tqdm.pandas()"
   ]
  },
  {
   "cell_type": "code",
   "execution_count": 2,
   "metadata": {},
   "outputs": [],
   "source": [
    "# data[\"plot\"] = True\n",
    "\n",
    "# data['min_llema_angle'] = 1\n",
    "\n",
    "# data['pl_move_trail_trigger']       = 0.0040\n",
    "# data['stop_loss_pip']               = -0.0040\n",
    "\n",
    "# data['take_profit_method']  = 'simple'\n",
    "# data['stop_loss_method']    = 'simple'\n",
    "\n",
    "# data['start_date'] = {'year':2021, 'month':1, 'date':1}\n",
    "# data['end_date']   = {'year':2021, 'month':1, 'date':5}"
   ]
  },
  {
   "cell_type": "code",
   "execution_count": 3,
   "metadata": {
    "scrolled": false
   },
   "outputs": [
    {
     "name": "stderr",
     "output_type": "stream",
     "text": [
      "\r",
      " 97%|███████████████████████████████▏| 107576/110557 [00:10<00:00, 9982.12it/s]"
     ]
    },
    {
     "name": "stdout",
     "output_type": "stream",
     "text": [
      "pls   -0.0012\n",
      "dtype: float64\n",
      "--------------------------------------\n",
      "                  date ord_types  llema_angle               close_type  \\\n",
      "0  2021-01-04 19:58:44     short          0.0  simple_slema_move_close   \n",
      "1  2021-01-04 21:56:59     short          0.0  simple_slema_move_close   \n",
      "2  2021-01-05 02:30:20     short          0.0               sema_close   \n",
      "3  2021-01-05 06:15:23      long          3.0  simple_slema_move_close   \n",
      "4  2021-01-05 07:18:45      long          0.0  simple_slema_move_close   \n",
      "5  2021-01-05 07:52:33      long          0.0               sema_close   \n",
      "6  2021-01-05 08:17:39     short          0.0               sema_close   \n",
      "7  2021-01-05 12:20:41      long          7.0  simple_slema_move_close   \n",
      "8  2021-01-05 12:25:52      long          0.0               sema_close   \n",
      "9  2021-01-05 14:22:21     short          0.0  simple_slema_move_close   \n",
      "10 2021-01-05 14:52:58     short          0.0  simple_slema_move_close   \n",
      "11 2021-01-05 15:35:57     short         -0.0  simple_slema_move_close   \n",
      "12 2021-01-05 15:42:57     short          0.0               sema_close   \n",
      "13 2021-01-05 18:52:55      long          3.0  simple_slema_move_close   \n",
      "14 2021-01-05 20:54:04      long          9.0  simple_slema_move_close   \n",
      "\n",
      "        pls  \n",
      "0   0.00024  \n",
      "1   0.00002  \n",
      "2  -0.00132  \n",
      "3   0.00034  \n",
      "4   0.00002  \n",
      "5  -0.00073  \n",
      "6  -0.00129  \n",
      "7   0.00002  \n",
      "8  -0.00050  \n",
      "9   0.00002  \n",
      "10  0.00001  \n",
      "11  0.00013  \n",
      "12 -0.00060  \n",
      "13  0.00205  \n",
      "14  0.00039  \n"
     ]
    },
    {
     "name": "stderr",
     "output_type": "stream",
     "text": [
      "100%|███████████████████████████████| 110557/110557 [00:10<00:00, 10389.83it/s]"
     ]
    },
    {
     "name": "stdout",
     "output_type": "stream",
     "text": [
      "Wall time: 3min 38s\n"
     ]
    },
    {
     "name": "stderr",
     "output_type": "stream",
     "text": [
      "\n"
     ]
    }
   ],
   "source": [
    "%%time\n",
    "data = get_date_list(data)\n",
    "# data = read_data(data)\n",
    "data = run_engine(data)"
   ]
  },
  {
   "cell_type": "code",
   "execution_count": 6,
   "metadata": {
    "scrolled": false
   },
   "outputs": [
    {
     "name": "stdout",
     "output_type": "stream",
     "text": [
      "-----------------------------------------------------\n",
      "==============================\n",
      "date_val          : ['20210101', '20210102', '20210103', '20210104', '20210105']\n",
      "Total PL : -0.0011999999999999995\n",
      "-------------\n",
      "net_pl            : -0.0012/0.00768\n",
      "-------------\n",
      "+ve               : num= 10    sum= +0.00324    avg= +0.00032\n",
      "-ve               : num= 5    sum= -0.00444    avg= -0.00089\n",
      "==============================\n",
      "-----------------------------------------------------\n",
      "month_val\n",
      "1   -0.0012\n",
      "Name: pls, dtype: float64\n",
      "-----------------------------------------------------\n",
      "simple_slema_move_close    10\n",
      "sema_close                  5\n",
      "Name: close_type, dtype: int64\n",
      "-----------------------------------------------------\n"
     ]
    }
   ],
   "source": [
    "if data[\"plot\"]:\n",
    "    data = adjust_plot_list_lengths(data)\n",
    "    plot_graph(data)\n",
    "    \n",
    "print('-----------------------------------------------------')\n",
    "print_report(data)\n",
    "print('-----------------------------------------------------')\n",
    "print(data['report_df'].groupby(['month_val'])['pls'].sum())\n",
    "print('-----------------------------------------------------')\n",
    "print(data['report_df']['close_type'].value_counts())\n",
    "print('-----------------------------------------------------')\n",
    "data['report_df']\n",
    "\n",
    "winsound.PlaySound('C:\\\\Windows\\\\Media\\\\tada.wav', winsound.SND_ASYNC)"
   ]
  },
  {
   "cell_type": "markdown",
   "metadata": {
    "scrolled": false
   },
   "source": [
    "import glob\n",
    "\n",
    "for file in glob.glob(\"data/*.csv\"):\n",
    "    if file not in ['data\\\\eurusd_2021.csv', 'data\\\\full_df.csv']:\n",
    "        df = pd.read_csv(file)\n",
    "        print('----------------------------')\n",
    "        print(f'file : {file}')\n",
    "        print(df['pls'].sum())\n",
    "        print(df.groupby(['month_val'])['pls'].sum())\n",
    "        print('----------------------------')"
   ]
  }
 ],
 "metadata": {
  "kernelspec": {
   "display_name": "Python 3",
   "language": "python",
   "name": "python3"
  },
  "language_info": {
   "codemirror_mode": {
    "name": "ipython",
    "version": 3
   },
   "file_extension": ".py",
   "mimetype": "text/x-python",
   "name": "python",
   "nbconvert_exporter": "python",
   "pygments_lexer": "ipython3",
   "version": "3.6.6"
  }
 },
 "nbformat": 4,
 "nbformat_minor": 4
}
