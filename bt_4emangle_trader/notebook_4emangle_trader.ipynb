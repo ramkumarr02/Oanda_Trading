{
 "cells": [
  {
   "cell_type": "markdown",
   "metadata": {},
   "source": [
    "# ML Trader"
   ]
  },
  {
   "cell_type": "code",
   "execution_count": 1,
   "metadata": {
    "scrolled": true
   },
   "outputs": [],
   "source": [
    "from utils.packages import *\n",
    "from utils.variables import *\n",
    "from utils.i_o import *\n",
    "from utils.dir_slope import *\n",
    "from utils.engine import *\n",
    "from utils.loops import *\n",
    "from utils.order import *\n",
    "import winsound\n",
    "from tqdm import tqdm\n",
    "tqdm.pandas()"
   ]
  },
  {
   "cell_type": "code",
   "execution_count": 2,
   "metadata": {},
   "outputs": [],
   "source": [
    "# data[\"plot\"] = True\n",
    "\n",
    "# data['min_llema_angle'] = 1\n",
    "\n",
    "# data['pl_move_trail_trigger']       = 0.0040\n",
    "# data['stop_loss_pip']               = -0.0040\n",
    "\n",
    "# data['take_profit_method']  = 'simple'\n",
    "# data['stop_loss_method']    = 'simple'\n",
    "\n",
    "# data['start_date'] = {'year':2021, 'month':1, 'date':1}\n",
    "# data['end_date']   = {'year':2021, 'month':1, 'date':5}"
   ]
  },
  {
   "cell_type": "code",
   "execution_count": 3,
   "metadata": {
    "scrolled": false
   },
   "outputs": [
    {
     "name": "stderr",
     "output_type": "stream",
     "text": [
      "100%|████████████████████████████▉| 7607182/7620960 [09:58<00:01, 11924.65it/s]"
     ]
    },
    {
     "name": "stdout",
     "output_type": "stream",
     "text": [
      "pls   -0.01131\n",
      "dtype: float64\n",
      "--------------------------------------\n",
      "                   date ord_types  llema_angle               close_type  \\\n",
      "937 2021-05-26 23:43:46     short         -6.0  simple_slema_move_close   \n",
      "938 2021-05-27 02:59:40     short         -3.0  simple_slema_move_close   \n",
      "939 2021-05-28 04:23:35     short          0.0  simple_slema_move_close   \n",
      "940 2021-05-28 07:13:10     short          0.0  simple_slema_move_close   \n",
      "941 2021-05-28 08:20:00     short         -3.0               sema_close   \n",
      "942 2021-05-28 10:00:38      long          3.0               sema_close   \n",
      "943 2021-05-28 12:07:32     short          0.0       simple_take_profit   \n",
      "944 2021-05-28 14:41:43     short         -6.0               sema_close   \n",
      "945 2021-05-28 19:10:02      long          3.0  simple_slema_move_close   \n",
      "946 2021-05-31 06:45:02      long          0.0               sema_close   \n",
      "947 2021-05-31 07:39:12     short          0.0               sema_close   \n",
      "948 2021-05-31 08:00:17      long          6.0               sema_close   \n",
      "949 2021-05-31 08:59:24     short          0.0               sema_close   \n",
      "950 2021-05-31 09:15:35      long          3.0               sema_close   \n",
      "951 2021-05-31 12:04:17     short          0.0               sema_close   \n",
      "\n",
      "         pls  \n",
      "937  0.00001  \n",
      "938  0.00001  \n",
      "939  0.00002  \n",
      "940  0.00045  \n",
      "941 -0.00147  \n",
      "942 -0.00126  \n",
      "943  0.00405  \n",
      "944 -0.00394  \n",
      "945  0.00108  \n",
      "946 -0.00127  \n",
      "947 -0.00172  \n",
      "948 -0.00099  \n",
      "949 -0.00109  \n",
      "950 -0.00122  \n",
      "951 -0.00103  \n"
     ]
    },
    {
     "name": "stderr",
     "output_type": "stream",
     "text": [
      "100%|█████████████████████████████| 7620960/7620960 [09:59<00:00, 12713.20it/s]"
     ]
    },
    {
     "name": "stdout",
     "output_type": "stream",
     "text": [
      "Wall time: 12min 54s\n"
     ]
    },
    {
     "name": "stderr",
     "output_type": "stream",
     "text": [
      "\n"
     ]
    }
   ],
   "source": [
    "%%time\n",
    "data = get_date_list(data)\n",
    "# data = read_data(data)\n",
    "data = run_engine(data)"
   ]
  },
  {
   "cell_type": "code",
   "execution_count": 4,
   "metadata": {
    "scrolled": false
   },
   "outputs": [
    {
     "name": "stdout",
     "output_type": "stream",
     "text": [
      "-----------------------------------------------------\n",
      "==============================\n",
      "date_val          : ['20210101', '20210102', '20210103', '20210104', '20210105', '20210106', '20210107', '20210108', '20210109', '20210110', '20210111', '20210112', '20210113', '20210114', '20210115', '20210116', '20210117', '20210118', '20210119', '20210120', '20210121', '20210122', '20210123', '20210124', '20210125', '20210126', '20210127', '20210128', '20210129', '20210130', '20210131', '20210201', '20210202', '20210203', '20210204', '20210205', '20210206', '20210207', '20210208', '20210209', '20210210', '20210211', '20210212', '20210213', '20210214', '20210215', '20210216', '20210217', '20210218', '20210219', '20210220', '20210221', '20210222', '20210223', '20210224', '20210225', '20210226', '20210227', '20210228', '20210301', '20210302', '20210303', '20210304', '20210305', '20210306', '20210307', '20210308', '20210309', '20210310', '20210311', '20210312', '20210313', '20210314', '20210315', '20210316', '20210317', '20210318', '20210319', '20210320', '20210321', '20210322', '20210323', '20210324', '20210325', '20210326', '20210327', '20210328', '20210329', '20210330', '20210331', '20210401', '20210402', '20210403', '20210404', '20210405', '20210406', '20210407', '20210408', '20210409', '20210410', '20210411', '20210412', '20210413', '20210414', '20210415', '20210416', '20210417', '20210418', '20210419', '20210420', '20210421', '20210422', '20210423', '20210424', '20210425', '20210426', '20210427', '20210428', '20210429', '20210430', '20210501', '20210502', '20210503', '20210504', '20210505', '20210506', '20210507', '20210508', '20210509', '20210510', '20210511', '20210512', '20210513', '20210514', '20210515', '20210516', '20210517', '20210518', '20210519', '20210520', '20210521', '20210522', '20210523', '20210524', '20210525', '20210526', '20210527', '20210528', '20210529', '20210530', '20210531']\n",
      "Total PL : -0.011310000000000037\n",
      "-------------\n",
      "net_pl            : -0.01131/0.93193\n",
      "-------------\n",
      "+ve               : num= 521    sum= +0.46031    avg= +0.00088\n",
      "-ve               : num= 431    sum= -0.47162    avg= -0.00109\n",
      "==============================\n",
      "-----------------------------------------------------\n",
      "month_val\n",
      "1   -0.00791\n",
      "2    0.00639\n",
      "3   -0.00180\n",
      "4    0.00631\n",
      "5   -0.01430\n",
      "Name: pls, dtype: float64\n",
      "-----------------------------------------------------\n",
      "simple_slema_move_close    470\n",
      "sema_close                 429\n",
      "simple_take_profit          49\n",
      "simple_stop                  4\n",
      "Name: close_type, dtype: int64\n",
      "-----------------------------------------------------\n"
     ]
    }
   ],
   "source": [
    "if data[\"plot\"]:\n",
    "    data = adjust_plot_list_lengths(data)\n",
    "    plot_graph(data)\n",
    "    \n",
    "print('-----------------------------------------------------')\n",
    "print_report(data)\n",
    "print('-----------------------------------------------------')\n",
    "print(data['report_df'].groupby(['month_val'])['pls'].sum())\n",
    "print('-----------------------------------------------------')\n",
    "print(data['report_df']['close_type'].value_counts())\n",
    "print('-----------------------------------------------------')\n",
    "data['report_df']\n",
    "\n",
    "winsound.PlaySound('C:\\\\Windows\\\\Media\\\\tada.wav', winsound.SND_ASYNC)"
   ]
  },
  {
   "cell_type": "markdown",
   "metadata": {
    "scrolled": false
   },
   "source": [
    "import glob\n",
    "\n",
    "for file in glob.glob(\"data/*.csv\"):\n",
    "    if file not in ['data\\\\eurusd_2021.csv', 'data\\\\full_df.csv']:\n",
    "        df = pd.read_csv(file)\n",
    "        print('----------------------------')\n",
    "        print(f'file : {file}')\n",
    "        print(df['pls'].sum())\n",
    "        print(df.groupby(['month_val'])['pls'].sum())\n",
    "        print('----------------------------')"
   ]
  }
 ],
 "metadata": {
  "kernelspec": {
   "display_name": "Python 3",
   "language": "python",
   "name": "python3"
  },
  "language_info": {
   "codemirror_mode": {
    "name": "ipython",
    "version": 3
   },
   "file_extension": ".py",
   "mimetype": "text/x-python",
   "name": "python",
   "nbconvert_exporter": "python",
   "pygments_lexer": "ipython3",
   "version": "3.6.6"
  }
 },
 "nbformat": 4,
 "nbformat_minor": 4
}
