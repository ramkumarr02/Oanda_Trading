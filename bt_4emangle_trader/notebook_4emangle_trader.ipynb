{
 "cells": [
  {
   "cell_type": "markdown",
   "metadata": {},
   "source": [
    "# ML Trader"
   ]
  },
  {
   "cell_type": "code",
   "execution_count": 1,
   "metadata": {
    "scrolled": true
   },
   "outputs": [],
   "source": [
    "from utils.packages import *\n",
    "from utils.variables import *\n",
    "from utils.i_o import *\n",
    "from utils.dir_slope import *\n",
    "from utils.engine import *\n",
    "from utils.loops import *\n",
    "from utils.order import *\n",
    "import winsound\n",
    "from tqdm import tqdm\n",
    "tqdm.pandas()"
   ]
  },
  {
   "cell_type": "code",
   "execution_count": 2,
   "metadata": {},
   "outputs": [],
   "source": [
    "# data[\"plot\"] = True\n",
    "\n",
    "# data['min_llema_angle'] = 1\n",
    "\n",
    "# data['pl_move_trail_trigger']       = 0.0040\n",
    "# data['stop_loss_pip']               = -0.0040\n",
    "\n",
    "# data['take_profit_method']  = 'simple'\n",
    "# data['stop_loss_method']    = 'simple'\n",
    "\n",
    "# data['start_date'] = {'year':2021, 'month':1, 'date':1}\n",
    "# data['end_date']   = {'year':2021, 'month':1, 'date':5}"
   ]
  },
  {
   "cell_type": "code",
   "execution_count": 3,
   "metadata": {
    "scrolled": false
   },
   "outputs": [
    {
     "name": "stderr",
     "output_type": "stream",
     "text": [
      "\r",
      " 93%|██████████████████████████▉  | 1232936/1324436 [01:10<00:05, 15903.75it/s]"
     ]
    },
    {
     "name": "stdout",
     "output_type": "stream",
     "text": [
      "pls   -0.00284\n",
      "dtype: float64\n",
      "--------------------------------------\n",
      "                  date ord_types  llema_angle               close_type  \\\n",
      "0  2021-05-03 14:32:22     short         -6.0              simple_stop   \n",
      "1  2021-05-05 05:54:56     short         -6.0  simple_slema_move_close   \n",
      "2  2021-05-05 09:16:00     short         -6.0  simple_slema_move_close   \n",
      "3  2021-05-06 02:48:01     short         -9.0  simple_slema_move_close   \n",
      "4  2021-05-11 07:53:06     short         -9.0  simple_slema_move_close   \n",
      "5  2021-05-12 10:48:10     short         -3.0  simple_slema_move_close   \n",
      "6  2021-05-12 12:31:05     short         -3.0       simple_take_profit   \n",
      "7  2021-05-13 10:51:06     short         -6.0  simple_slema_move_close   \n",
      "8  2021-05-20 19:43:05     short         -7.0              simple_stop   \n",
      "9  2021-05-24 08:37:33     short         -7.0  simple_slema_move_close   \n",
      "10 2021-05-28 05:30:24     short         -6.0  simple_slema_move_close   \n",
      "\n",
      "        pls  \n",
      "0  -0.00500  \n",
      "1   0.00002  \n",
      "2   0.00151  \n",
      "3   0.00002  \n",
      "4   0.00003  \n",
      "5   0.00001  \n",
      "6   0.00512  \n",
      "7   0.00042  \n",
      "8  -0.00500  \n",
      "9   0.00001  \n",
      "10  0.00002  \n"
     ]
    },
    {
     "name": "stderr",
     "output_type": "stream",
     "text": [
      "100%|█████████████████████████████| 1324436/1324436 [01:15<00:00, 17432.59it/s]"
     ]
    },
    {
     "name": "stdout",
     "output_type": "stream",
     "text": [
      "Wall time: 1min 47s\n"
     ]
    },
    {
     "name": "stderr",
     "output_type": "stream",
     "text": [
      "\n"
     ]
    }
   ],
   "source": [
    "%%time\n",
    "data = get_date_list(data)\n",
    "data = read_data(data)\n",
    "data = run_engine(data)"
   ]
  },
  {
   "cell_type": "code",
   "execution_count": 4,
   "metadata": {
    "scrolled": false
   },
   "outputs": [
    {
     "name": "stdout",
     "output_type": "stream",
     "text": [
      "-----------------------------------------------------\n",
      "==============================\n",
      "date_val          : ['20210501', '20210502', '20210503', '20210504', '20210505', '20210506', '20210507', '20210508', '20210509', '20210510', '20210511', '20210512', '20210513', '20210514', '20210515', '20210516', '20210517', '20210518', '20210519', '20210520', '20210521', '20210522', '20210523', '20210524', '20210525', '20210526', '20210527', '20210528', '20210529', '20210530', '20210531']\n",
      "Total PL : -0.002839999999999999\n",
      "-------------\n",
      "net_pl            : -0.00284/0.01716\n",
      "-------------\n",
      "+ve               : num= 9    sum= +0.00716    avg= +0.0008\n",
      "-ve               : num= 2    sum= -0.01    avg= -0.005\n",
      "==============================\n",
      "-----------------------------------------------------\n",
      "month_val\n",
      "5   -0.00284\n",
      "Name: pls, dtype: float64\n",
      "-----------------------------------------------------\n",
      "simple_slema_move_close    8\n",
      "simple_stop                2\n",
      "simple_take_profit         1\n",
      "Name: close_type, dtype: int64\n",
      "-----------------------------------------------------\n"
     ]
    }
   ],
   "source": [
    "if data[\"plot\"]:\n",
    "    data = adjust_plot_list_lengths(data)\n",
    "    plot_graph(data)\n",
    "    \n",
    "print('-----------------------------------------------------')\n",
    "print_report(data)\n",
    "print('-----------------------------------------------------')\n",
    "print(data['report_df'].groupby(['month_val'])['pls'].sum())\n",
    "print('-----------------------------------------------------')\n",
    "print(data['report_df']['close_type'].value_counts())\n",
    "print('-----------------------------------------------------')\n",
    "data['report_df']\n",
    "\n",
    "winsound.PlaySound('C:\\\\Windows\\\\Media\\\\tada.wav', winsound.SND_ASYNC)"
   ]
  },
  {
   "cell_type": "markdown",
   "metadata": {
    "scrolled": false
   },
   "source": [
    "import glob\n",
    "\n",
    "for file in glob.glob(\"data/*.csv\"):\n",
    "    if file not in ['data\\\\eurusd_2021.csv', 'data\\\\full_df.csv']:\n",
    "        df = pd.read_csv(file)\n",
    "        print('----------------------------')\n",
    "        print(f'file : {file}')\n",
    "        print(df['pls'].sum())\n",
    "        print(df.groupby(['month_val'])['pls'].sum())\n",
    "        print('----------------------------')"
   ]
  }
 ],
 "metadata": {
  "kernelspec": {
   "display_name": "Python 3",
   "language": "python",
   "name": "python3"
  },
  "language_info": {
   "codemirror_mode": {
    "name": "ipython",
    "version": 3
   },
   "file_extension": ".py",
   "mimetype": "text/x-python",
   "name": "python",
   "nbconvert_exporter": "python",
   "pygments_lexer": "ipython3",
   "version": "3.6.6"
  }
 },
 "nbformat": 4,
 "nbformat_minor": 4
}
