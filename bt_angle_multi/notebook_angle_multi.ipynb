{
 "cells": [
  {
   "cell_type": "markdown",
   "metadata": {},
   "source": [
    "# ML Trader"
   ]
  },
  {
   "cell_type": "code",
   "execution_count": 1,
   "metadata": {
    "scrolled": true
   },
   "outputs": [],
   "source": [
    "from utils.packages import *\n",
    "from utils.variables import *\n",
    "from utils.i_o import *\n",
    "from utils.dir_slope import *\n",
    "from utils.engine import *\n",
    "from utils.loops import *\n",
    "from utils.order import *\n",
    "import winsound"
   ]
  },
  {
   "cell_type": "markdown",
   "metadata": {},
   "source": [
    "###  x = 2500, loss_reverse_position : 101 pips\n",
    "###  x = 5000, loss_reverse_position_continous : 55 pips\n",
    "###  x = 7500, loss_reverse_position_continous : -180 and -200+ pips\n",
    "###  x = 1000, loss_reverse_position_continous : -170 and -170 pips\n",
    "\n",
    "# Need to test Hedge positions with 1,2,2,2,2 (Series)"
   ]
  },
  {
   "cell_type": "code",
   "execution_count": 2,
   "metadata": {
    "scrolled": false
   },
   "outputs": [
    {
     "name": "stderr",
     "output_type": "stream",
     "text": [
      " 19%|██████▎                          | 39533/205383 [00:26<01:31, 1811.03it/s]"
     ]
    },
    {
     "name": "stdout",
     "output_type": "stream",
     "text": [
      "pl   -36.14398\n",
      "dtype: float64\n",
      "--------------------------------------\n",
      "            DateTime_frmt order_side          close_type       pl\n",
      "39302 2021-01-04 09:46:24        NaN                 NaN -0.00001\n",
      "39303 2021-01-04 09:46:25        NaN                 NaN -0.00002\n",
      "39304 2021-01-04 09:46:26        NaN                 NaN  0.00001\n",
      "39305 2021-01-04 09:46:26        NaN                 NaN  0.00002\n",
      "39306 2021-01-04 09:46:27        NaN                 NaN  0.00002\n",
      "39307 2021-01-04 09:46:27        NaN                 NaN  0.00003\n",
      "39308 2021-01-04 09:46:28        NaN                 NaN  0.00003\n",
      "39309 2021-01-04 09:46:28        NaN                 NaN  0.00004\n",
      "39310 2021-01-04 09:46:29        NaN                 NaN  0.00006\n",
      "39311 2021-01-04 09:46:30        NaN                 NaN  0.00007\n",
      "39312 2021-01-04 09:46:32        NaN                 NaN  0.00007\n",
      "39313 2021-01-04 09:46:32        NaN                 NaN  0.00008\n",
      "39314 2021-01-04 09:46:34        NaN                 NaN  0.00008\n",
      "39315 2021-01-04 09:46:35        NaN                 NaN  0.00011\n",
      "39316 2021-01-04 09:46:35       None  simple_take_profit  0.00011\n"
     ]
    },
    {
     "name": "stderr",
     "output_type": "stream",
     "text": [
      "100%|████████████████████████████████| 205383/205383 [02:49<00:00, 1208.73it/s]\n"
     ]
    },
    {
     "name": "stdout",
     "output_type": "stream",
     "text": [
      "Wall time: 2min 57s\n"
     ]
    }
   ],
   "source": [
    "%%time\n",
    "data = run_engine(data)"
   ]
  },
  {
   "cell_type": "code",
   "execution_count": 3,
   "metadata": {
    "scrolled": false
   },
   "outputs": [
    {
     "name": "stdout",
     "output_type": "stream",
     "text": [
      "--------------------------------------\n",
      "Run Complete : data/ema_df-(2021-2021)-(1-1)-(1-6).csv\n",
      "--------------------------------------\n",
      "\n",
      "\n",
      "--------------------------------------\n",
      "Net PL\n",
      "-906.7184\n",
      "--------------------------------------\n",
      "\n",
      "\n",
      "--------------------------------------\n",
      "Monthly PL\n",
      "                  pl\n",
      "month_val           \n",
      "1         -906.71841\n",
      "--------------------------------------\n",
      "\n",
      "\n",
      "--------------------------------------\n",
      "Daily PL\n",
      "                 pl\n",
      "date_val           \n",
      "3           0.00000\n",
      "4        -366.54114\n",
      "5        -540.13350\n",
      "6          -0.04377\n",
      "--------------------------------------\n",
      "\n",
      "\n",
      "--------------------------------------\n",
      "Count of transactions by Close Type\n",
      "..................\n",
      "                    pl\n",
      "close_type            \n",
      "all_close            4\n",
      "simple_take_profit   8\n",
      "--------------------------------------\n",
      "\n",
      "\n",
      "--------------------------------------\n",
      "Mean value of transactions by Close Type\n",
      "..................\n",
      "                          pl\n",
      "close_type                  \n",
      "all_close           0.000145\n",
      "simple_take_profit  0.000000\n",
      "--------------------------------------\n",
      "\n",
      "\n",
      "--------------------------------------\n",
      "Sum by Close Type\n",
      "..................\n",
      "                         pl\n",
      "close_type                 \n",
      "all_close           0.00058\n",
      "simple_take_profit  0.00000\n",
      "--------------------------------------\n",
      "\n",
      "\n",
      "--------------------------------------\n",
      "Average pips per day : -226.6796\n",
      "--------------------------------------\n",
      "\n",
      "\n",
      "--------------------------------------\n",
      "Average orders per day : 51345.25\n",
      "--------------------------------------\n",
      "\n",
      "\n"
     ]
    }
   ],
   "source": [
    "generate_result_report(data)"
   ]
  },
  {
   "cell_type": "code",
   "execution_count": 4,
   "metadata": {},
   "outputs": [],
   "source": [
    "data[\"plot\"] = True\n",
    "data['plot_type'] = 'file'\n",
    "data['reduce_plot'] = True\n",
    "data['plot_start']  = '2021-01-1'\n",
    "data['plot_stop']   = '2021-01-5'\n",
    "# data['things_to_plot'] = ['tick', 'lema', 'h_l_lema', 'tick_angle', 'positions']\n",
    "data['things_to_plot'] = ['tick', 'ema', 'h_l_lema', 'tick_angle', 'positions']"
   ]
  },
  {
   "cell_type": "code",
   "execution_count": 5,
   "metadata": {
    "scrolled": true
   },
   "outputs": [],
   "source": [
    "plot_graph(data)"
   ]
  },
  {
   "cell_type": "code",
   "execution_count": 6,
   "metadata": {},
   "outputs": [],
   "source": [
    "winsound.PlaySound('C:\\\\Windows\\\\Media\\\\tada.wav', winsound.SND_ASYNC)"
   ]
  },
  {
   "cell_type": "code",
   "execution_count": 7,
   "metadata": {},
   "outputs": [],
   "source": [
    "data['df'][0:10001].to_csv('data/temp.csv')"
   ]
  }
 ],
 "metadata": {
  "kernelspec": {
   "display_name": "Python 3",
   "language": "python",
   "name": "python3"
  },
  "language_info": {
   "codemirror_mode": {
    "name": "ipython",
    "version": 3
   },
   "file_extension": ".py",
   "mimetype": "text/x-python",
   "name": "python",
   "nbconvert_exporter": "python",
   "pygments_lexer": "ipython3",
   "version": "3.6.6"
  }
 },
 "nbformat": 4,
 "nbformat_minor": 4
}
