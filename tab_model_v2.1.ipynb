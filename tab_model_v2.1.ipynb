{
 "cells": [
  {
   "cell_type": "markdown",
   "metadata": {},
   "source": [
    "# Modelling"
   ]
  },
  {
   "cell_type": "markdown",
   "metadata": {},
   "source": [
    "## Packages"
   ]
  },
  {
   "cell_type": "code",
   "execution_count": 17,
   "metadata": {
    "scrolled": true
   },
   "outputs": [
    {
     "name": "stdout",
     "output_type": "stream",
     "text": [
      " Found and Using 1 GPU\n"
     ]
    }
   ],
   "source": [
    "import numpy as np\n",
    "import pandas as pd\n",
    "from tqdm import tqdm\n",
    "import winsound\n",
    "import datetime as dt\n",
    "\n",
    "import warnings\n",
    "warnings.filterwarnings('ignore')\n",
    "\n",
    "from sklearn.model_selection import train_test_split\n",
    "from sklearn.preprocessing import StandardScaler, MinMaxScaler, LabelEncoder, OneHotEncoder\n",
    "from sklearn.metrics import classification_report\n",
    "from sklearn.ensemble import RandomForestClassifier\n",
    "\n",
    "from keras.utils import np_utils\n",
    "\n",
    "import tensorflow as tf\n",
    "from tensorflow.keras.models import load_model\n",
    "from tensorflow.keras.models import Sequential\n",
    "from tensorflow.keras.layers import Activation, Dense\n",
    "from tensorflow.keras.optimizers import Adam\n",
    "from tensorflow.keras.metrics import categorical_crossentropy\n",
    "\n",
    "from imblearn.over_sampling import SMOTE\n",
    "\n",
    "from matplotlib import pyplot as plt\n",
    "\n",
    "print(f\" Found and Using {len(tf.config.experimental.list_physical_devices('GPU'))} GPU\")"
   ]
  },
  {
   "cell_type": "markdown",
   "metadata": {},
   "source": [
    "## Functions"
   ]
  },
  {
   "cell_type": "code",
   "execution_count": 18,
   "metadata": {},
   "outputs": [],
   "source": [
    "def scale_x_encode_y(x, y):\n",
    "\n",
    "    x_scaled = StandardScaler().fit_transform(x.values)    \n",
    "    \n",
    "    encoder = LabelEncoder()\n",
    "    encoder.fit(y)\n",
    "    y_encoded = encoder.transform(y)\n",
    "    y_encoded = np_utils.to_categorical(y_encoded)\n",
    "    \n",
    "    y_map = dict(zip(encoder.transform(encoder.classes_),encoder.classes_))\n",
    " \n",
    "    return(x_scaled, y_encoded, y_map)"
   ]
  },
  {
   "cell_type": "code",
   "execution_count": 19,
   "metadata": {},
   "outputs": [],
   "source": [
    "def smote_data(x, y):\n",
    "    oversample = SMOTE()\n",
    "    smote_x, smote_y = oversample.fit_resample(x, y)\n",
    "\n",
    "    print(f'Record count : {len(smote_y)}')\n",
    "    print('--------------------------')\n",
    "    print(smote_y.value_counts())\n",
    "    print('--------------------------')\n",
    "    print(smote_y.value_counts(normalize=True))\n",
    "    \n",
    "    return(smote_x, smote_y)"
   ]
  },
  {
   "cell_type": "markdown",
   "metadata": {},
   "source": [
    "## Read Data"
   ]
  },
  {
   "cell_type": "code",
   "execution_count": 20,
   "metadata": {},
   "outputs": [],
   "source": [
    "#df = pd.read_csv('data/IRIS.csv')\n",
    "#df = pd.read_csv('data/rolled_df.csv')\n",
    "df = pd.read_csv('data/tab_df.csv')"
   ]
  },
  {
   "cell_type": "code",
   "execution_count": 21,
   "metadata": {
    "scrolled": true
   },
   "outputs": [
    {
     "name": "stdout",
     "output_type": "stream",
     "text": [
      "Record count : 186166\n",
      "--------------------------\n",
      "same        180369\n",
      "decrease      2992\n",
      "increase      2805\n",
      "Name: target, dtype: int64\n",
      "--------------------------\n",
      "same        0.968861\n",
      "decrease    0.016072\n",
      "increase    0.015067\n",
      "Name: target, dtype: float64\n"
     ]
    },
    {
     "data": {
      "text/html": [
       "<div>\n",
       "<style scoped>\n",
       "    .dataframe tbody tr th:only-of-type {\n",
       "        vertical-align: middle;\n",
       "    }\n",
       "\n",
       "    .dataframe tbody tr th {\n",
       "        vertical-align: top;\n",
       "    }\n",
       "\n",
       "    .dataframe thead th {\n",
       "        text-align: right;\n",
       "    }\n",
       "</style>\n",
       "<table border=\"1\" class=\"dataframe\">\n",
       "  <thead>\n",
       "    <tr style=\"text-align: right;\">\n",
       "      <th></th>\n",
       "      <th>tick</th>\n",
       "      <th>diff</th>\n",
       "      <th>gain</th>\n",
       "      <th>loss</th>\n",
       "      <th>avg_gain</th>\n",
       "      <th>avg_loss</th>\n",
       "      <th>rs</th>\n",
       "      <th>rsi</th>\n",
       "      <th>ssma</th>\n",
       "      <th>lsma</th>\n",
       "      <th>sema</th>\n",
       "      <th>lema</th>\n",
       "      <th>target</th>\n",
       "    </tr>\n",
       "  </thead>\n",
       "  <tbody>\n",
       "    <tr>\n",
       "      <th>0</th>\n",
       "      <td>1.14541</td>\n",
       "      <td>0.00009</td>\n",
       "      <td>0.00009</td>\n",
       "      <td>0.00000</td>\n",
       "      <td>0.000029</td>\n",
       "      <td>0.000043</td>\n",
       "      <td>0.683333</td>\n",
       "      <td>40.594059</td>\n",
       "      <td>1.145300</td>\n",
       "      <td>1.146044</td>\n",
       "      <td>1.145337</td>\n",
       "      <td>1.145868</td>\n",
       "      <td>same</td>\n",
       "    </tr>\n",
       "    <tr>\n",
       "      <th>1</th>\n",
       "      <td>1.14547</td>\n",
       "      <td>0.00006</td>\n",
       "      <td>0.00006</td>\n",
       "      <td>0.00000</td>\n",
       "      <td>0.000034</td>\n",
       "      <td>0.000043</td>\n",
       "      <td>0.783333</td>\n",
       "      <td>43.925234</td>\n",
       "      <td>1.145296</td>\n",
       "      <td>1.146039</td>\n",
       "      <td>1.145361</td>\n",
       "      <td>1.145859</td>\n",
       "      <td>same</td>\n",
       "    </tr>\n",
       "    <tr>\n",
       "      <th>2</th>\n",
       "      <td>1.14541</td>\n",
       "      <td>-0.00006</td>\n",
       "      <td>0.00000</td>\n",
       "      <td>0.00006</td>\n",
       "      <td>0.000034</td>\n",
       "      <td>0.000047</td>\n",
       "      <td>0.712121</td>\n",
       "      <td>41.592920</td>\n",
       "      <td>1.145295</td>\n",
       "      <td>1.146032</td>\n",
       "      <td>1.145370</td>\n",
       "      <td>1.145849</td>\n",
       "      <td>same</td>\n",
       "    </tr>\n",
       "    <tr>\n",
       "      <th>3</th>\n",
       "      <td>1.14533</td>\n",
       "      <td>-0.00008</td>\n",
       "      <td>0.00000</td>\n",
       "      <td>0.00008</td>\n",
       "      <td>0.000033</td>\n",
       "      <td>0.000053</td>\n",
       "      <td>0.621622</td>\n",
       "      <td>38.333333</td>\n",
       "      <td>1.145301</td>\n",
       "      <td>1.146019</td>\n",
       "      <td>1.145363</td>\n",
       "      <td>1.145837</td>\n",
       "      <td>same</td>\n",
       "    </tr>\n",
       "    <tr>\n",
       "      <th>4</th>\n",
       "      <td>1.14526</td>\n",
       "      <td>-0.00007</td>\n",
       "      <td>0.00000</td>\n",
       "      <td>0.00007</td>\n",
       "      <td>0.000031</td>\n",
       "      <td>0.000058</td>\n",
       "      <td>0.543210</td>\n",
       "      <td>35.200000</td>\n",
       "      <td>1.145292</td>\n",
       "      <td>1.146011</td>\n",
       "      <td>1.145344</td>\n",
       "      <td>1.145824</td>\n",
       "      <td>same</td>\n",
       "    </tr>\n",
       "  </tbody>\n",
       "</table>\n",
       "</div>"
      ],
      "text/plain": [
       "      tick     diff     gain     loss  avg_gain  avg_loss        rs  \\\n",
       "0  1.14541  0.00009  0.00009  0.00000  0.000029  0.000043  0.683333   \n",
       "1  1.14547  0.00006  0.00006  0.00000  0.000034  0.000043  0.783333   \n",
       "2  1.14541 -0.00006  0.00000  0.00006  0.000034  0.000047  0.712121   \n",
       "3  1.14533 -0.00008  0.00000  0.00008  0.000033  0.000053  0.621622   \n",
       "4  1.14526 -0.00007  0.00000  0.00007  0.000031  0.000058  0.543210   \n",
       "\n",
       "         rsi      ssma      lsma      sema      lema target  \n",
       "0  40.594059  1.145300  1.146044  1.145337  1.145868   same  \n",
       "1  43.925234  1.145296  1.146039  1.145361  1.145859   same  \n",
       "2  41.592920  1.145295  1.146032  1.145370  1.145849   same  \n",
       "3  38.333333  1.145301  1.146019  1.145363  1.145837   same  \n",
       "4  35.200000  1.145292  1.146011  1.145344  1.145824   same  "
      ]
     },
     "execution_count": 21,
     "metadata": {},
     "output_type": "execute_result"
    }
   ],
   "source": [
    "target_col = 'target'\n",
    "\n",
    "print(f'Record count : {len(df)}')\n",
    "print('--------------------------')\n",
    "print(df[target_col].value_counts())\n",
    "print('--------------------------')\n",
    "print(df[target_col].value_counts(normalize=True))\n",
    "\n",
    "x = df.loc[:, df.columns != target_col]\n",
    "y = df[target_col]\n",
    "\n",
    "df.head(5)"
   ]
  },
  {
   "cell_type": "markdown",
   "metadata": {},
   "source": [
    "## Smote data"
   ]
  },
  {
   "cell_type": "code",
   "execution_count": 22,
   "metadata": {},
   "outputs": [
    {
     "name": "stdout",
     "output_type": "stream",
     "text": [
      "Record count : 541107\n",
      "--------------------------\n",
      "same        180369\n",
      "increase    180369\n",
      "decrease    180369\n",
      "Name: target, dtype: int64\n",
      "--------------------------\n",
      "same        0.333333\n",
      "increase    0.333333\n",
      "decrease    0.333333\n",
      "Name: target, dtype: float64\n"
     ]
    }
   ],
   "source": [
    "smote_x, smote_y = smote_data(x, y)"
   ]
  },
  {
   "cell_type": "markdown",
   "metadata": {},
   "source": [
    "## Scale and encode data"
   ]
  },
  {
   "cell_type": "code",
   "execution_count": 23,
   "metadata": {
    "scrolled": true
   },
   "outputs": [
    {
     "data": {
      "text/html": [
       "<div>\n",
       "<style scoped>\n",
       "    .dataframe tbody tr th:only-of-type {\n",
       "        vertical-align: middle;\n",
       "    }\n",
       "\n",
       "    .dataframe tbody tr th {\n",
       "        vertical-align: top;\n",
       "    }\n",
       "\n",
       "    .dataframe thead th {\n",
       "        text-align: right;\n",
       "    }\n",
       "</style>\n",
       "<table border=\"1\" class=\"dataframe\">\n",
       "  <thead>\n",
       "    <tr style=\"text-align: right;\">\n",
       "      <th></th>\n",
       "      <th>0</th>\n",
       "      <th>1</th>\n",
       "      <th>2</th>\n",
       "      <th>3</th>\n",
       "      <th>4</th>\n",
       "      <th>5</th>\n",
       "      <th>6</th>\n",
       "      <th>7</th>\n",
       "      <th>8</th>\n",
       "      <th>9</th>\n",
       "      <th>10</th>\n",
       "      <th>11</th>\n",
       "    </tr>\n",
       "  </thead>\n",
       "  <tbody>\n",
       "    <tr>\n",
       "      <th>0</th>\n",
       "      <td>1.851580</td>\n",
       "      <td>0.301954</td>\n",
       "      <td>-0.078380</td>\n",
       "      <td>-0.555825</td>\n",
       "      <td>-0.822456</td>\n",
       "      <td>-0.646885</td>\n",
       "      <td>-0.019506</td>\n",
       "      <td>-0.414674</td>\n",
       "      <td>1.842539</td>\n",
       "      <td>1.894428</td>\n",
       "      <td>1.845742</td>\n",
       "      <td>1.882994</td>\n",
       "    </tr>\n",
       "    <tr>\n",
       "      <th>1</th>\n",
       "      <td>1.856249</td>\n",
       "      <td>0.200705</td>\n",
       "      <td>-0.236844</td>\n",
       "      <td>-0.555825</td>\n",
       "      <td>-0.764301</td>\n",
       "      <td>-0.646885</td>\n",
       "      <td>-0.019500</td>\n",
       "      <td>-0.269236</td>\n",
       "      <td>1.842228</td>\n",
       "      <td>1.894033</td>\n",
       "      <td>1.847623</td>\n",
       "      <td>1.882289</td>\n",
       "    </tr>\n",
       "    <tr>\n",
       "      <th>2</th>\n",
       "      <td>1.851580</td>\n",
       "      <td>-0.204292</td>\n",
       "      <td>-0.553772</td>\n",
       "      <td>-0.236101</td>\n",
       "      <td>-0.764301</td>\n",
       "      <td>-0.587371</td>\n",
       "      <td>-0.019504</td>\n",
       "      <td>-0.371064</td>\n",
       "      <td>1.842150</td>\n",
       "      <td>1.893529</td>\n",
       "      <td>1.848313</td>\n",
       "      <td>1.881496</td>\n",
       "    </tr>\n",
       "    <tr>\n",
       "      <th>3</th>\n",
       "      <td>1.845355</td>\n",
       "      <td>-0.271792</td>\n",
       "      <td>-0.553772</td>\n",
       "      <td>-0.129527</td>\n",
       "      <td>-0.773994</td>\n",
       "      <td>-0.508020</td>\n",
       "      <td>-0.019509</td>\n",
       "      <td>-0.513377</td>\n",
       "      <td>1.842617</td>\n",
       "      <td>1.892506</td>\n",
       "      <td>1.847746</td>\n",
       "      <td>1.880582</td>\n",
       "    </tr>\n",
       "    <tr>\n",
       "      <th>4</th>\n",
       "      <td>1.839907</td>\n",
       "      <td>-0.238042</td>\n",
       "      <td>-0.553772</td>\n",
       "      <td>-0.182814</td>\n",
       "      <td>-0.793379</td>\n",
       "      <td>-0.438587</td>\n",
       "      <td>-0.019514</td>\n",
       "      <td>-0.650177</td>\n",
       "      <td>1.841917</td>\n",
       "      <td>1.891878</td>\n",
       "      <td>1.846292</td>\n",
       "      <td>1.879569</td>\n",
       "    </tr>\n",
       "  </tbody>\n",
       "</table>\n",
       "</div>"
      ],
      "text/plain": [
       "          0         1         2         3         4         5         6  \\\n",
       "0  1.851580  0.301954 -0.078380 -0.555825 -0.822456 -0.646885 -0.019506   \n",
       "1  1.856249  0.200705 -0.236844 -0.555825 -0.764301 -0.646885 -0.019500   \n",
       "2  1.851580 -0.204292 -0.553772 -0.236101 -0.764301 -0.587371 -0.019504   \n",
       "3  1.845355 -0.271792 -0.553772 -0.129527 -0.773994 -0.508020 -0.019509   \n",
       "4  1.839907 -0.238042 -0.553772 -0.182814 -0.793379 -0.438587 -0.019514   \n",
       "\n",
       "          7         8         9        10        11  \n",
       "0 -0.414674  1.842539  1.894428  1.845742  1.882994  \n",
       "1 -0.269236  1.842228  1.894033  1.847623  1.882289  \n",
       "2 -0.371064  1.842150  1.893529  1.848313  1.881496  \n",
       "3 -0.513377  1.842617  1.892506  1.847746  1.880582  \n",
       "4 -0.650177  1.841917  1.891878  1.846292  1.879569  "
      ]
     },
     "execution_count": 23,
     "metadata": {},
     "output_type": "execute_result"
    }
   ],
   "source": [
    "x_scaled, y_encoded, y_map = scale_x_encode_y(smote_x, smote_y)\n",
    "pd.DataFrame(x_scaled).head()"
   ]
  },
  {
   "cell_type": "markdown",
   "metadata": {},
   "source": [
    "## Train test split"
   ]
  },
  {
   "cell_type": "code",
   "execution_count": 24,
   "metadata": {},
   "outputs": [],
   "source": [
    "train_x, valid_x, train_y, valid_y = train_test_split(x_scaled, y_encoded,train_size = 0.8,random_state = 1)"
   ]
  },
  {
   "cell_type": "markdown",
   "metadata": {},
   "source": [
    "## Neural Network"
   ]
  },
  {
   "cell_type": "markdown",
   "metadata": {},
   "source": [
    "### Network building"
   ]
  },
  {
   "cell_type": "code",
   "execution_count": 25,
   "metadata": {},
   "outputs": [],
   "source": [
    "model = Sequential([\n",
    "    Dense(units = 16, activation='relu', input_shape=[len(train_x[0])]),\n",
    "    Dense(units = 32, activation='relu'),\n",
    "    Dense(units = 3, activation='softmax')\n",
    "])"
   ]
  },
  {
   "cell_type": "code",
   "execution_count": 26,
   "metadata": {},
   "outputs": [],
   "source": [
    "model.compile(\n",
    "    loss='categorical_crossentropy',\n",
    "    optimizer=Adam(learning_rate=0.001),    \n",
    "    metrics=['accuracy'])"
   ]
  },
  {
   "cell_type": "code",
   "execution_count": 27,
   "metadata": {},
   "outputs": [
    {
     "name": "stdout",
     "output_type": "stream",
     "text": [
      "Model: \"sequential_1\"\n",
      "_________________________________________________________________\n",
      "Layer (type)                 Output Shape              Param #   \n",
      "=================================================================\n",
      "dense_3 (Dense)              (None, 16)                208       \n",
      "_________________________________________________________________\n",
      "dense_4 (Dense)              (None, 32)                544       \n",
      "_________________________________________________________________\n",
      "dense_5 (Dense)              (None, 3)                 99        \n",
      "=================================================================\n",
      "Total params: 851\n",
      "Trainable params: 851\n",
      "Non-trainable params: 0\n",
      "_________________________________________________________________\n"
     ]
    }
   ],
   "source": [
    "model.summary()"
   ]
  },
  {
   "cell_type": "markdown",
   "metadata": {},
   "source": [
    "### Parameters"
   ]
  },
  {
   "cell_type": "code",
   "execution_count": 28,
   "metadata": {},
   "outputs": [],
   "source": [
    "epoch_val         = 5\n",
    "batch_size_val    = 256\n",
    "\n",
    "verbose_val       = 2\n",
    "workers_val       = -1"
   ]
  },
  {
   "cell_type": "markdown",
   "metadata": {},
   "source": [
    "### Training"
   ]
  },
  {
   "cell_type": "code",
   "execution_count": 29,
   "metadata": {
    "scrolled": false
   },
   "outputs": [
    {
     "name": "stdout",
     "output_type": "stream",
     "text": [
      "Epoch 1/5\n",
      "1691/1691 - 4s - loss: 0.2650 - accuracy: 0.9097 - val_loss: 0.2260 - val_accuracy: 0.9202\n",
      "Epoch 2/5\n",
      "1691/1691 - 3s - loss: 0.2197 - accuracy: 0.9219 - val_loss: 0.2183 - val_accuracy: 0.9224\n",
      "Epoch 3/5\n",
      "1691/1691 - 4s - loss: 0.2124 - accuracy: 0.9244 - val_loss: 0.2116 - val_accuracy: 0.9252\n",
      "Epoch 4/5\n",
      "1691/1691 - 3s - loss: 0.2050 - accuracy: 0.9269 - val_loss: 0.2043 - val_accuracy: 0.9264\n",
      "Epoch 5/5\n",
      "1691/1691 - 4s - loss: 0.1963 - accuracy: 0.9302 - val_loss: 0.1955 - val_accuracy: 0.9298\n"
     ]
    },
    {
     "data": {
      "text/plain": [
       "<tensorflow.python.keras.callbacks.History at 0x1d58840e588>"
      ]
     },
     "execution_count": 29,
     "metadata": {},
     "output_type": "execute_result"
    }
   ],
   "source": [
    "model.fit(x=train_x, \n",
    "          y=train_y, \n",
    "          epochs=epoch_val,\n",
    "          batch_size = batch_size_val,\n",
    "          validation_data = (valid_x, valid_y),\n",
    "          workers= workers_val,\n",
    "         verbose=verbose_val)"
   ]
  },
  {
   "cell_type": "markdown",
   "metadata": {},
   "source": [
    "### DNN Results"
   ]
  },
  {
   "cell_type": "code",
   "execution_count": 30,
   "metadata": {},
   "outputs": [
    {
     "name": "stdout",
     "output_type": "stream",
     "text": [
      "              precision    recall  f1-score   support\n",
      "\n",
      "    decrease       0.92      0.96      0.94     36157\n",
      "    increase       0.94      0.94      0.94     35972\n",
      "        same       0.93      0.89      0.91     36093\n",
      "\n",
      "    accuracy                           0.93    108222\n",
      "   macro avg       0.93      0.93      0.93    108222\n",
      "weighted avg       0.93      0.93      0.93    108222\n",
      "\n"
     ]
    }
   ],
   "source": [
    "predictions = model.predict(valid_x)\n",
    "rounded_predictions = np.argmax(predictions, axis = -1)\n",
    "rounded_valid_y = np.argmax(valid_y, axis = -1)\n",
    "\n",
    "print(classification_report(rounded_valid_y, rounded_predictions, target_names = y_map.values()))"
   ]
  },
  {
   "cell_type": "markdown",
   "metadata": {},
   "source": [
    "## RF Results"
   ]
  },
  {
   "cell_type": "markdown",
   "metadata": {
    "scrolled": true
   },
   "source": [
    "%%time\n",
    "clf = RandomForestClassifier() \n",
    "clf.fit(train_x, train_y)\n",
    "predictions = clf.predict(valid_x)\n",
    "rounded_predictions = np.argmax(predictions, axis = -1)\n",
    "rounded_valid_y = np.argmax(valid_y, axis = -1)\n",
    "print(classification_report(rounded_valid_y, rounded_predictions, target_names = y_map.values()))"
   ]
  },
  {
   "cell_type": "markdown",
   "metadata": {},
   "source": [
    "### RF Feature importance"
   ]
  },
  {
   "cell_type": "markdown",
   "metadata": {},
   "source": [
    "x_cols = df.columns[df.columns != 'target']\n",
    "fig = plt.figure()\n",
    "fig.suptitle('Feature importance', fontsize=20)\n",
    "plt.xlabel('Importance %', fontsize=16)\n",
    "plt.ylabel('Features', fontsize=16)\n",
    "plt.tick_params(axis='x', labelsize=12)\n",
    "plt.tick_params(axis='y', labelsize=15)\n",
    "\n",
    "\n",
    "feat_importances = pd.Series(clf.feature_importances_ * 100, index=x_cols)\n",
    "feat_importances.nlargest(15).plot(kind='barh', figsize=(15, 10), rot=45)\n",
    "\n",
    "for index, value in enumerate(np.round(-np.sort(-clf.feature_importances_ * 100))):\n",
    "    plt.text(1.05*value, index, str(value), fontsize=12)"
   ]
  }
 ],
 "metadata": {
  "kernelspec": {
   "display_name": "Python 3.6.6 64-bit",
   "language": "python",
   "name": "python36664bitab910dfda0bc43a8bf7df0c20d1c59f2"
  },
  "language_info": {
   "codemirror_mode": {
    "name": "ipython",
    "version": 3
   },
   "file_extension": ".py",
   "mimetype": "text/x-python",
   "name": "python",
   "nbconvert_exporter": "python",
   "pygments_lexer": "ipython3",
   "version": "3.6.6"
  }
 },
 "nbformat": 4,
 "nbformat_minor": 4
}
