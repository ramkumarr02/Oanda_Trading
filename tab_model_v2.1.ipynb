{
 "cells": [
  {
   "cell_type": "markdown",
   "metadata": {},
   "source": [
    "# Modelling"
   ]
  },
  {
   "cell_type": "markdown",
   "metadata": {},
   "source": [
    "## Packages"
   ]
  },
  {
   "cell_type": "code",
   "execution_count": 1,
   "metadata": {
    "scrolled": true
   },
   "outputs": [
    {
     "name": "stdout",
     "output_type": "stream",
     "text": [
      " Found and Using 1 GPU\n"
     ]
    }
   ],
   "source": [
    "import numpy as np\n",
    "import pandas as pd\n",
    "from tqdm import tqdm\n",
    "import winsound\n",
    "import datetime as dt\n",
    "\n",
    "import warnings\n",
    "warnings.filterwarnings('ignore')\n",
    "\n",
    "from sklearn.model_selection import train_test_split\n",
    "from sklearn.preprocessing import StandardScaler, MinMaxScaler, LabelEncoder, OneHotEncoder\n",
    "from sklearn.metrics import classification_report\n",
    "from sklearn.ensemble import RandomForestClassifier\n",
    "\n",
    "from keras.utils import np_utils\n",
    "\n",
    "import tensorflow as tf\n",
    "from tensorflow.keras.models import load_model\n",
    "from tensorflow.keras.models import Sequential\n",
    "from tensorflow.keras.layers import Activation, Dense\n",
    "from tensorflow.keras.optimizers import Adam\n",
    "from tensorflow.keras.metrics import categorical_crossentropy\n",
    "\n",
    "from matplotlib import pyplot as plt\n",
    "\n",
    "print(f\" Found and Using {len(tf.config.experimental.list_physical_devices('GPU'))} GPU\")"
   ]
  },
  {
   "cell_type": "markdown",
   "metadata": {},
   "source": [
    "## Functions"
   ]
  },
  {
   "cell_type": "code",
   "execution_count": 2,
   "metadata": {},
   "outputs": [],
   "source": [
    "def scale_x_encode_y(df, target_col):\n",
    "\n",
    "    x = df.loc[:, df.columns != target_col]\n",
    "    y = df[target_col]\n",
    "\n",
    "    x_scaled = StandardScaler().fit_transform(x.values)\n",
    "    \n",
    "    \n",
    "    encoder = LabelEncoder()\n",
    "    encoder.fit(y)\n",
    "    y_encoded = encoder.transform(y)\n",
    "    y_encoded = np_utils.to_categorical(y_encoded)\n",
    "    \n",
    "    y_map = dict(zip(encoder.transform(encoder.classes_),encoder.classes_))\n",
    " \n",
    "    return(x_scaled, y_encoded, y_map)"
   ]
  },
  {
   "cell_type": "markdown",
   "metadata": {},
   "source": [
    "## Read Data"
   ]
  },
  {
   "cell_type": "code",
   "execution_count": 3,
   "metadata": {},
   "outputs": [],
   "source": [
    "#df = pd.read_csv('data/IRIS.csv')\n",
    "#df = pd.read_csv('data/rolled_df.csv')\n",
    "df = pd.read_csv('data/tab_df.csv')"
   ]
  },
  {
   "cell_type": "code",
   "execution_count": 4,
   "metadata": {
    "scrolled": true
   },
   "outputs": [
    {
     "name": "stdout",
     "output_type": "stream",
     "text": [
      "Record count : 186166\n",
      "--------------------------\n",
      "same        180369\n",
      "decrease      2992\n",
      "increase      2805\n",
      "Name: target, dtype: int64\n",
      "--------------------------\n",
      "same        0.968861\n",
      "decrease    0.016072\n",
      "increase    0.015067\n",
      "Name: target, dtype: float64\n"
     ]
    },
    {
     "data": {
      "text/html": [
       "<div>\n",
       "<style scoped>\n",
       "    .dataframe tbody tr th:only-of-type {\n",
       "        vertical-align: middle;\n",
       "    }\n",
       "\n",
       "    .dataframe tbody tr th {\n",
       "        vertical-align: top;\n",
       "    }\n",
       "\n",
       "    .dataframe thead th {\n",
       "        text-align: right;\n",
       "    }\n",
       "</style>\n",
       "<table border=\"1\" class=\"dataframe\">\n",
       "  <thead>\n",
       "    <tr style=\"text-align: right;\">\n",
       "      <th></th>\n",
       "      <th>tick</th>\n",
       "      <th>diff</th>\n",
       "      <th>gain</th>\n",
       "      <th>loss</th>\n",
       "      <th>avg_gain</th>\n",
       "      <th>avg_loss</th>\n",
       "      <th>rs</th>\n",
       "      <th>rsi</th>\n",
       "      <th>ssma</th>\n",
       "      <th>lsma</th>\n",
       "      <th>sema</th>\n",
       "      <th>lema</th>\n",
       "      <th>target</th>\n",
       "    </tr>\n",
       "  </thead>\n",
       "  <tbody>\n",
       "    <tr>\n",
       "      <th>0</th>\n",
       "      <td>1.14541</td>\n",
       "      <td>0.00009</td>\n",
       "      <td>0.00009</td>\n",
       "      <td>0.00000</td>\n",
       "      <td>0.000029</td>\n",
       "      <td>0.000043</td>\n",
       "      <td>0.683333</td>\n",
       "      <td>40.594059</td>\n",
       "      <td>1.145300</td>\n",
       "      <td>1.146044</td>\n",
       "      <td>1.145337</td>\n",
       "      <td>1.145868</td>\n",
       "      <td>same</td>\n",
       "    </tr>\n",
       "    <tr>\n",
       "      <th>1</th>\n",
       "      <td>1.14547</td>\n",
       "      <td>0.00006</td>\n",
       "      <td>0.00006</td>\n",
       "      <td>0.00000</td>\n",
       "      <td>0.000034</td>\n",
       "      <td>0.000043</td>\n",
       "      <td>0.783333</td>\n",
       "      <td>43.925234</td>\n",
       "      <td>1.145296</td>\n",
       "      <td>1.146039</td>\n",
       "      <td>1.145361</td>\n",
       "      <td>1.145859</td>\n",
       "      <td>same</td>\n",
       "    </tr>\n",
       "    <tr>\n",
       "      <th>2</th>\n",
       "      <td>1.14541</td>\n",
       "      <td>-0.00006</td>\n",
       "      <td>0.00000</td>\n",
       "      <td>0.00006</td>\n",
       "      <td>0.000034</td>\n",
       "      <td>0.000047</td>\n",
       "      <td>0.712121</td>\n",
       "      <td>41.592920</td>\n",
       "      <td>1.145295</td>\n",
       "      <td>1.146032</td>\n",
       "      <td>1.145370</td>\n",
       "      <td>1.145849</td>\n",
       "      <td>same</td>\n",
       "    </tr>\n",
       "    <tr>\n",
       "      <th>3</th>\n",
       "      <td>1.14533</td>\n",
       "      <td>-0.00008</td>\n",
       "      <td>0.00000</td>\n",
       "      <td>0.00008</td>\n",
       "      <td>0.000033</td>\n",
       "      <td>0.000053</td>\n",
       "      <td>0.621622</td>\n",
       "      <td>38.333333</td>\n",
       "      <td>1.145301</td>\n",
       "      <td>1.146019</td>\n",
       "      <td>1.145363</td>\n",
       "      <td>1.145837</td>\n",
       "      <td>same</td>\n",
       "    </tr>\n",
       "    <tr>\n",
       "      <th>4</th>\n",
       "      <td>1.14526</td>\n",
       "      <td>-0.00007</td>\n",
       "      <td>0.00000</td>\n",
       "      <td>0.00007</td>\n",
       "      <td>0.000031</td>\n",
       "      <td>0.000058</td>\n",
       "      <td>0.543210</td>\n",
       "      <td>35.200000</td>\n",
       "      <td>1.145292</td>\n",
       "      <td>1.146011</td>\n",
       "      <td>1.145344</td>\n",
       "      <td>1.145824</td>\n",
       "      <td>same</td>\n",
       "    </tr>\n",
       "  </tbody>\n",
       "</table>\n",
       "</div>"
      ],
      "text/plain": [
       "      tick     diff     gain     loss  avg_gain  avg_loss        rs  \\\n",
       "0  1.14541  0.00009  0.00009  0.00000  0.000029  0.000043  0.683333   \n",
       "1  1.14547  0.00006  0.00006  0.00000  0.000034  0.000043  0.783333   \n",
       "2  1.14541 -0.00006  0.00000  0.00006  0.000034  0.000047  0.712121   \n",
       "3  1.14533 -0.00008  0.00000  0.00008  0.000033  0.000053  0.621622   \n",
       "4  1.14526 -0.00007  0.00000  0.00007  0.000031  0.000058  0.543210   \n",
       "\n",
       "         rsi      ssma      lsma      sema      lema target  \n",
       "0  40.594059  1.145300  1.146044  1.145337  1.145868   same  \n",
       "1  43.925234  1.145296  1.146039  1.145361  1.145859   same  \n",
       "2  41.592920  1.145295  1.146032  1.145370  1.145849   same  \n",
       "3  38.333333  1.145301  1.146019  1.145363  1.145837   same  \n",
       "4  35.200000  1.145292  1.146011  1.145344  1.145824   same  "
      ]
     },
     "execution_count": 4,
     "metadata": {},
     "output_type": "execute_result"
    }
   ],
   "source": [
    "target_col = 'target'\n",
    "\n",
    "print(f'Record count : {len(df)}')\n",
    "print('--------------------------')\n",
    "print(df[target_col].value_counts())\n",
    "print('--------------------------')\n",
    "print(df[target_col].value_counts(normalize=True))\n",
    "\n",
    "df.head(5)"
   ]
  },
  {
   "cell_type": "markdown",
   "metadata": {},
   "source": [
    "## Scale and encode data"
   ]
  },
  {
   "cell_type": "code",
   "execution_count": 5,
   "metadata": {
    "scrolled": true
   },
   "outputs": [
    {
     "data": {
      "text/html": [
       "<div>\n",
       "<style scoped>\n",
       "    .dataframe tbody tr th:only-of-type {\n",
       "        vertical-align: middle;\n",
       "    }\n",
       "\n",
       "    .dataframe tbody tr th {\n",
       "        vertical-align: top;\n",
       "    }\n",
       "\n",
       "    .dataframe thead th {\n",
       "        text-align: right;\n",
       "    }\n",
       "</style>\n",
       "<table border=\"1\" class=\"dataframe\">\n",
       "  <thead>\n",
       "    <tr style=\"text-align: right;\">\n",
       "      <th></th>\n",
       "      <th>0</th>\n",
       "      <th>1</th>\n",
       "      <th>2</th>\n",
       "      <th>3</th>\n",
       "      <th>4</th>\n",
       "      <th>5</th>\n",
       "      <th>6</th>\n",
       "      <th>7</th>\n",
       "      <th>8</th>\n",
       "      <th>9</th>\n",
       "      <th>10</th>\n",
       "      <th>11</th>\n",
       "    </tr>\n",
       "  </thead>\n",
       "  <tbody>\n",
       "    <tr>\n",
       "      <th>0</th>\n",
       "      <td>1.918814</td>\n",
       "      <td>0.634227</td>\n",
       "      <td>0.509799</td>\n",
       "      <td>-0.490691</td>\n",
       "      <td>-0.433466</td>\n",
       "      <td>-0.047757</td>\n",
       "      <td>-0.014336</td>\n",
       "      <td>-0.595740</td>\n",
       "      <td>1.910700</td>\n",
       "      <td>1.965980</td>\n",
       "      <td>1.913523</td>\n",
       "      <td>1.953723</td>\n",
       "    </tr>\n",
       "    <tr>\n",
       "      <th>1</th>\n",
       "      <td>1.923261</td>\n",
       "      <td>0.423124</td>\n",
       "      <td>0.174228</td>\n",
       "      <td>-0.490691</td>\n",
       "      <td>-0.310759</td>\n",
       "      <td>-0.047757</td>\n",
       "      <td>-0.014329</td>\n",
       "      <td>-0.389712</td>\n",
       "      <td>1.910404</td>\n",
       "      <td>1.965602</td>\n",
       "      <td>1.915316</td>\n",
       "      <td>1.953049</td>\n",
       "    </tr>\n",
       "    <tr>\n",
       "      <th>2</th>\n",
       "      <td>1.918814</td>\n",
       "      <td>-0.421285</td>\n",
       "      <td>-0.496915</td>\n",
       "      <td>0.170102</td>\n",
       "      <td>-0.310759</td>\n",
       "      <td>0.072830</td>\n",
       "      <td>-0.014334</td>\n",
       "      <td>-0.533962</td>\n",
       "      <td>1.910329</td>\n",
       "      <td>1.965120</td>\n",
       "      <td>1.915973</td>\n",
       "      <td>1.952291</td>\n",
       "    </tr>\n",
       "    <tr>\n",
       "      <th>3</th>\n",
       "      <td>1.912885</td>\n",
       "      <td>-0.562020</td>\n",
       "      <td>-0.496915</td>\n",
       "      <td>0.390366</td>\n",
       "      <td>-0.331210</td>\n",
       "      <td>0.233612</td>\n",
       "      <td>-0.014340</td>\n",
       "      <td>-0.735562</td>\n",
       "      <td>1.910774</td>\n",
       "      <td>1.964141</td>\n",
       "      <td>1.915433</td>\n",
       "      <td>1.951418</td>\n",
       "    </tr>\n",
       "    <tr>\n",
       "      <th>4</th>\n",
       "      <td>1.907696</td>\n",
       "      <td>-0.491653</td>\n",
       "      <td>-0.496915</td>\n",
       "      <td>0.280234</td>\n",
       "      <td>-0.372112</td>\n",
       "      <td>0.374296</td>\n",
       "      <td>-0.014346</td>\n",
       "      <td>-0.929354</td>\n",
       "      <td>1.910107</td>\n",
       "      <td>1.963541</td>\n",
       "      <td>1.914048</td>\n",
       "      <td>1.950449</td>\n",
       "    </tr>\n",
       "  </tbody>\n",
       "</table>\n",
       "</div>"
      ],
      "text/plain": [
       "          0         1         2         3         4         5         6  \\\n",
       "0  1.918814  0.634227  0.509799 -0.490691 -0.433466 -0.047757 -0.014336   \n",
       "1  1.923261  0.423124  0.174228 -0.490691 -0.310759 -0.047757 -0.014329   \n",
       "2  1.918814 -0.421285 -0.496915  0.170102 -0.310759  0.072830 -0.014334   \n",
       "3  1.912885 -0.562020 -0.496915  0.390366 -0.331210  0.233612 -0.014340   \n",
       "4  1.907696 -0.491653 -0.496915  0.280234 -0.372112  0.374296 -0.014346   \n",
       "\n",
       "          7         8         9        10        11  \n",
       "0 -0.595740  1.910700  1.965980  1.913523  1.953723  \n",
       "1 -0.389712  1.910404  1.965602  1.915316  1.953049  \n",
       "2 -0.533962  1.910329  1.965120  1.915973  1.952291  \n",
       "3 -0.735562  1.910774  1.964141  1.915433  1.951418  \n",
       "4 -0.929354  1.910107  1.963541  1.914048  1.950449  "
      ]
     },
     "execution_count": 5,
     "metadata": {},
     "output_type": "execute_result"
    }
   ],
   "source": [
    "x_scaled, y_encoded, y_map = scale_x_encode_y(df, target_col)\n",
    "pd.DataFrame(x_scaled).head()"
   ]
  },
  {
   "cell_type": "markdown",
   "metadata": {},
   "source": [
    "## Train test split"
   ]
  },
  {
   "cell_type": "code",
   "execution_count": 6,
   "metadata": {},
   "outputs": [],
   "source": [
    "train_x, valid_x, train_y, valid_y = train_test_split(x_scaled, y_encoded,train_size = 0.8,random_state = 1)"
   ]
  },
  {
   "cell_type": "markdown",
   "metadata": {},
   "source": [
    "## Neural Network"
   ]
  },
  {
   "cell_type": "markdown",
   "metadata": {},
   "source": [
    "### Network building"
   ]
  },
  {
   "cell_type": "code",
   "execution_count": 7,
   "metadata": {},
   "outputs": [],
   "source": [
    "model = Sequential([\n",
    "    Dense(units = 16, activation='relu', input_shape=[len(train_x[0])]),\n",
    "    Dense(units = 32, activation='relu'),\n",
    "    Dense(units = 3, activation='softmax')\n",
    "])"
   ]
  },
  {
   "cell_type": "code",
   "execution_count": 8,
   "metadata": {},
   "outputs": [],
   "source": [
    "model.compile(\n",
    "    loss='categorical_crossentropy',\n",
    "    optimizer=Adam(learning_rate=0.001),    \n",
    "    metrics=['accuracy'])"
   ]
  },
  {
   "cell_type": "code",
   "execution_count": 9,
   "metadata": {},
   "outputs": [
    {
     "name": "stdout",
     "output_type": "stream",
     "text": [
      "Model: \"sequential\"\n",
      "_________________________________________________________________\n",
      "Layer (type)                 Output Shape              Param #   \n",
      "=================================================================\n",
      "dense (Dense)                (None, 16)                208       \n",
      "_________________________________________________________________\n",
      "dense_1 (Dense)              (None, 32)                544       \n",
      "_________________________________________________________________\n",
      "dense_2 (Dense)              (None, 3)                 99        \n",
      "=================================================================\n",
      "Total params: 851\n",
      "Trainable params: 851\n",
      "Non-trainable params: 0\n",
      "_________________________________________________________________\n"
     ]
    }
   ],
   "source": [
    "model.summary()"
   ]
  },
  {
   "cell_type": "markdown",
   "metadata": {},
   "source": [
    "### Parameters"
   ]
  },
  {
   "cell_type": "code",
   "execution_count": 10,
   "metadata": {},
   "outputs": [],
   "source": [
    "epoch_val         = 5\n",
    "batch_size_val    = 256\n",
    "\n",
    "verbose_val       = 2\n",
    "workers_val       = -1"
   ]
  },
  {
   "cell_type": "markdown",
   "metadata": {},
   "source": [
    "### Training"
   ]
  },
  {
   "cell_type": "code",
   "execution_count": 11,
   "metadata": {
    "scrolled": false
   },
   "outputs": [
    {
     "name": "stdout",
     "output_type": "stream",
     "text": [
      "Epoch 1/5\n",
      "582/582 - 1s - loss: 0.1434 - accuracy: 0.9693 - val_loss: 0.0834 - val_accuracy: 0.9728\n",
      "Epoch 2/5\n",
      "582/582 - 1s - loss: 0.0769 - accuracy: 0.9733 - val_loss: 0.0741 - val_accuracy: 0.9742\n",
      "Epoch 3/5\n",
      "582/582 - 1s - loss: 0.0722 - accuracy: 0.9744 - val_loss: 0.0726 - val_accuracy: 0.9745\n",
      "Epoch 4/5\n",
      "582/582 - 1s - loss: 0.0712 - accuracy: 0.9747 - val_loss: 0.0715 - val_accuracy: 0.9746\n",
      "Epoch 5/5\n",
      "582/582 - 1s - loss: 0.0706 - accuracy: 0.9751 - val_loss: 0.0713 - val_accuracy: 0.9756\n"
     ]
    },
    {
     "data": {
      "text/plain": [
       "<tensorflow.python.keras.callbacks.History at 0x205d9f3c860>"
      ]
     },
     "execution_count": 11,
     "metadata": {},
     "output_type": "execute_result"
    }
   ],
   "source": [
    "model.fit(x=train_x, \n",
    "          y=train_y, \n",
    "          epochs=epoch_val,\n",
    "          batch_size = batch_size_val,\n",
    "          validation_data = (valid_x, valid_y),\n",
    "          workers= workers_val,\n",
    "         verbose=verbose_val)"
   ]
  },
  {
   "cell_type": "markdown",
   "metadata": {},
   "source": [
    "### DNN Results"
   ]
  },
  {
   "cell_type": "code",
   "execution_count": 12,
   "metadata": {},
   "outputs": [
    {
     "name": "stdout",
     "output_type": "stream",
     "text": [
      "              precision    recall  f1-score   support\n",
      "\n",
      "    decrease       0.67      0.40      0.50       623\n",
      "    increase       0.70      0.38      0.49       530\n",
      "        same       0.98      0.99      0.99     36081\n",
      "\n",
      "    accuracy                           0.98     37234\n",
      "   macro avg       0.79      0.59      0.66     37234\n",
      "weighted avg       0.97      0.98      0.97     37234\n",
      "\n"
     ]
    }
   ],
   "source": [
    "predictions = model.predict(valid_x)\n",
    "rounded_predictions = np.argmax(predictions, axis = -1)\n",
    "rounded_valid_y = np.argmax(valid_y, axis = -1)\n",
    "\n",
    "print(classification_report(rounded_valid_y, rounded_predictions, target_names = y_map.values()))"
   ]
  },
  {
   "cell_type": "markdown",
   "metadata": {},
   "source": [
    "## RF Results"
   ]
  },
  {
   "cell_type": "code",
   "execution_count": 13,
   "metadata": {
    "scrolled": true
   },
   "outputs": [
    {
     "name": "stdout",
     "output_type": "stream",
     "text": [
      "              precision    recall  f1-score   support\n",
      "\n",
      "    decrease       0.66      0.42      0.51       623\n",
      "    increase       0.69      0.42      0.52       530\n",
      "        same       0.98      0.99      0.99     36081\n",
      "\n",
      "    accuracy                           0.98     37234\n",
      "   macro avg       0.78      0.61      0.67     37234\n",
      "weighted avg       0.97      0.98      0.97     37234\n",
      "\n",
      "Wall time: 42.7 s\n"
     ]
    }
   ],
   "source": [
    "%%time\n",
    "clf = RandomForestClassifier() \n",
    "clf.fit(train_x, train_y)\n",
    "predictions = clf.predict(valid_x)\n",
    "rounded_predictions = np.argmax(predictions, axis = -1)\n",
    "rounded_valid_y = np.argmax(valid_y, axis = -1)\n",
    "print(classification_report(rounded_valid_y, rounded_predictions, target_names = y_map.values()))"
   ]
  },
  {
   "cell_type": "markdown",
   "metadata": {},
   "source": [
    "### RF Feature importance"
   ]
  },
  {
   "cell_type": "code",
   "execution_count": 15,
   "metadata": {},
   "outputs": [
    {
     "data": {
      "image/png": "[encoded data removed]",
      "text/plain": [
       "<Figure size 1080x720 with 1 Axes>"
      ]
     },
     "metadata": {
      "needs_background": "light"
     },
     "output_type": "display_data"
    }
   ],
   "source": [
    "x_cols = df.columns[df.columns != 'target']\n",
    "fig = plt.figure()\n",
    "fig.suptitle('Feature importance', fontsize=20)\n",
    "plt.xlabel('Importance %', fontsize=16)\n",
    "plt.ylabel('Features', fontsize=16)\n",
    "plt.tick_params(axis='x', labelsize=12)\n",
    "plt.tick_params(axis='y', labelsize=15)\n",
    "\n",
    "\n",
    "feat_importances = pd.Series(clf.feature_importances_ * 100, index=x_cols)\n",
    "feat_importances.nlargest(15).plot(kind='barh', figsize=(15, 10), rot=45)\n",
    "\n",
    "for index, value in enumerate(np.round(-np.sort(-clf.feature_importances_ * 100))):\n",
    "    plt.text(1.05*value, index, str(value), fontsize=12)"
   ]
  }
 ],
 "metadata": {
  "kernelspec": {
   "display_name": "Python 3.6.6 64-bit",
   "language": "python",
   "name": "python36664bitab910dfda0bc43a8bf7df0c20d1c59f2"
  },
  "language_info": {
   "codemirror_mode": {
    "name": "ipython",
    "version": 3
   },
   "file_extension": ".py",
   "mimetype": "text/x-python",
   "name": "python",
   "nbconvert_exporter": "python",
   "pygments_lexer": "ipython3",
   "version": "3.6.6"
  }
 },
 "nbformat": 4,
 "nbformat_minor": 4
}
