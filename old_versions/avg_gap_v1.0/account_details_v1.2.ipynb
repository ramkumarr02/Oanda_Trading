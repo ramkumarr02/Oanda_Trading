{
 "cells": [
  {
   "cell_type": "markdown",
   "metadata": {},
   "source": [
    "# Account Details"
   ]
  },
  {
   "cell_type": "markdown",
   "metadata": {},
   "source": [
    "## Packages & Parameters"
   ]
  },
  {
   "cell_type": "code",
   "execution_count": 1,
   "metadata": {},
   "outputs": [],
   "source": [
    "from utils.packages import *\n",
    "warnings.filterwarnings(\"ignore\")\n",
    "from tqdm import tqdm\n",
    "from IPython.display import display\n",
    "import pprint\n",
    "import json"
   ]
  },
  {
   "cell_type": "code",
   "execution_count": 2,
   "metadata": {},
   "outputs": [],
   "source": [
    "temp_file = \"config/access_keys.yaml\"\n",
    "with open(temp_file) as temp_file:\n",
    "    config = yaml.load(temp_file)     \n",
    "    \n",
    "data = {}    "
   ]
  },
  {
   "cell_type": "markdown",
   "metadata": {},
   "source": [
    "## Get Invest Details"
   ]
  },
  {
   "cell_type": "code",
   "execution_count": 3,
   "metadata": {
    "scrolled": true
   },
   "outputs": [],
   "source": [
    "def get_invest_details():\n",
    "    global data\n",
    "    data[\"access_token\"] = config[data['account_name']][\"token\"]\n",
    "    data[\"accountID\"] = config[data['account_name']][\"account_id\"]\n",
    "    data[\"api\"] = API(access_token = data[\"access_token\"])\n",
    "    r = accounts.AccountDetails(data[\"accountID\"])\n",
    "\n",
    "    data[\"api\"].request(r)\n",
    "    data[\"account_data\"] = r.response\n",
    "    data[\"account_balance\"] = float(data[\"account_data\"][\"account\"][\"balance\"])\n",
    "\n",
    "    data[\"order_amount\"] = data[\"account_balance\"] * data[\"invest_ratio\"] * 0.8\n",
    "    data[\"order_amount\"] = int(np.floor(data[\"order_amount\"]))\n",
    "\n",
    "    print('------------')\n",
    "    print(f'account_name      : {data[\"account_name\"]}')  \n",
    "    print(f'account_balance   : {data[\"account_balance\"]} ')\n",
    "    print(f'order_amount      : {data[\"order_amount\"]} ')\n",
    "    print('------------')\n",
    "    return(data)"
   ]
  },
  {
   "cell_type": "code",
   "execution_count": 4,
   "metadata": {},
   "outputs": [
    {
     "name": "stdout",
     "output_type": "stream",
     "text": [
      "------------\n",
      "account_name      : oanda_demo_primary\n",
      "account_balance   : 99967.5041 \n",
      "order_amount      : 1010499 \n",
      "------------\n",
      "------------\n",
      "account_name      : oanda_demo_1\n",
      "account_balance   : 9.9146 \n",
      "order_amount      : 100 \n",
      "------------\n",
      "------------\n",
      "account_name      : oanda_demo_2\n",
      "account_balance   : 10.0083 \n",
      "order_amount      : 101 \n",
      "------------\n"
     ]
    }
   ],
   "source": [
    "data[\"invest_ratio\"] = 12.635353654172\n",
    "account_list = ['oanda_demo_primary','oanda_demo_1', 'oanda_demo_2']\n",
    "\n",
    "for acc_name in account_list:\n",
    "    data['account_name'] = acc_name\n",
    "    get_invest_details()"
   ]
  },
  {
   "cell_type": "code",
   "execution_count": 5,
   "metadata": {},
   "outputs": [],
   "source": [
    "def get_candle_size(data):\n",
    "    params = {\"count\": data['candle_count']+1, \"granularity\": data['candle_granularity']}\n",
    "    candle_size_data = instruments.InstrumentsCandles(instrument=\"EUR_USD\", params=params)\n",
    "    data['candle_size_info'] = data[\"api\"].request(candle_size_data)\n",
    "    \n",
    "    height_list = []\n",
    "    for candle in data['candle_size_info']['candles']:\n",
    "        if candle['complete']:\n",
    "            height_list.append(np.float(candle['mid']['h']) - np.float(candle['mid']['l']))\n",
    "    \n",
    "    data['candle_avg_height'] = np.mean(height_list)\n",
    "    return(data)"
   ]
  },
  {
   "cell_type": "code",
   "execution_count": 6,
   "metadata": {},
   "outputs": [
    {
     "name": "stdout",
     "output_type": "stream",
     "text": [
      "0.0009010000000000407\n",
      "Wall time: 258 ms\n"
     ]
    }
   ],
   "source": [
    "%%time\n",
    "data['candle_count'] = 10\n",
    "data['candle_granularity'] = \"H1\"\n",
    "data = get_candle_size(data)\n",
    "print(data['candle_avg_height'])"
   ]
  },
  {
   "cell_type": "markdown",
   "metadata": {},
   "source": [
    "## Get Net PL"
   ]
  },
  {
   "cell_type": "code",
   "execution_count": 7,
   "metadata": {
    "scrolled": true
   },
   "outputs": [],
   "source": [
    "def get_net_pl():\n",
    "    global data\n",
    "    \n",
    "    start_date = datetime(year=data['start_date']['year'],\n",
    "                          month=data['start_date']['month'],\n",
    "                          day=data['start_date']['date'],\n",
    "                          hour = data['start_date']['hour'],\n",
    "                          minute=data['start_date']['min']) - dt.timedelta(hours=8)\n",
    "    \n",
    "    end_date = datetime(year=data['end_date']['year'],\n",
    "                          month=data['end_date']['month'],\n",
    "                          day=data['end_date']['date'],\n",
    "                          hour = data['end_date']['hour'],\n",
    "                          minute=data['end_date']['min']) - dt.timedelta(hours=8)\n",
    "    \n",
    "    data[\"access_token\"] = config[data['account_name']][\"token\"]\n",
    "    data[\"accountID\"] = config[data['account_name']][\"account_id\"]\n",
    "    data[\"api\"] = API(access_token = data[\"access_token\"])\n",
    "    \n",
    "    \n",
    "    request_obj = trans.TransactionList(accountID=data[\"accountID\"], params={\"pageSize\": 1000})\n",
    "    data[\"api\"].request(request_obj)\n",
    "    last_transaction = int(request_obj.response['lastTransactionID'])\n",
    "\n",
    "    for trans_id in tqdm(reversed(range(1,last_transaction))):\n",
    "        request_obj = trans.TransactionDetails(accountID=data[\"accountID\"], transactionID = trans_id)\n",
    "        data[\"api\"].request(request_obj)\n",
    "        trans_time_val = request_obj.response['transaction']['time']\n",
    "        trans_date = dt.datetime.strptime(trans_time_val.split(\".\")[0], \"%Y-%m-%dT%H:%M:%S\")\n",
    "\n",
    "        if trans_date >= start_date:\n",
    "            first_trans_id = trans_id\n",
    "        else:\n",
    "            break\n",
    "\n",
    "    params = {\"from\": first_trans_id, \"to\": last_transaction}\n",
    "    request_obj = trans.TransactionIDRange(accountID=data[\"accountID\"], params=params)\n",
    "    data[\"api\"].request(request_obj)\n",
    "    all_transactions = request_obj.response   \n",
    "\n",
    "\n",
    "    pl_list = []\n",
    "    pip_list = []\n",
    "    \n",
    "    for t in all_transactions['transactions']:\n",
    "        trans_ts = dt.datetime.strptime(t['time'].split(\".\")[0], \"%Y-%m-%dT%H:%M:%S\")\n",
    "        if trans_ts > end_date:\n",
    "            break\n",
    "        try:\n",
    "            pl_val = float(t['pl'])\n",
    "            if pl_val != 0.0:\n",
    "                pl_list.append(pl_val)\n",
    "\n",
    "                if pl_val > 0:\n",
    "                    pip_val = (pl_val / abs(int(t['units']))) / float(t['gainQuoteHomeConversionFactor'])\n",
    "                    pip_list.append(np.round(pip_val, 4))\n",
    "                    \n",
    "                elif pl_val < 0:\n",
    "                    pip_val = (pl_val / abs(int(t['units']))) / float(t['lossQuoteHomeConversionFactor'])\n",
    "                    pip_list.append(np.round(pip_val,4))\n",
    "                \n",
    "        except:\n",
    "            pass\n",
    "\n",
    "    num_transactions = len(pl_list)\n",
    "    net_pl = round(np.sum(pl_list),5)\n",
    "\n",
    "    positive_pls = [i for i in pl_list if i > 0]\n",
    "    negative_pls = [i for i in pl_list if i < 0]\n",
    "\n",
    "    num_positive = len(positive_pls)\n",
    "    num_negative = len(negative_pls)\n",
    "\n",
    "    sum_positive = round(np.sum(positive_pls),5)\n",
    "    sum_negative = round(np.sum(negative_pls),5)\n",
    "    sum_total    = round(sum_positive + abs(sum_negative),5) \n",
    "\n",
    "    avg_positive = round(np.mean(positive_pls),5)\n",
    "    avg_negative = round(np.mean(negative_pls),5)\n",
    "    \n",
    "    print('-------------')\n",
    "    print(f'account_name      : {data[\"account_name\"]}')    \n",
    "    print(f'start_ts          : {start_date + dt.timedelta(hours=8)}')    \n",
    "    print(f'end_ts            : {end_date + dt.timedelta(hours=8)}')    \n",
    "    print('-------------')\n",
    "    print(f'num_transactions  : {num_transactions}')\n",
    "    print('==============================')\n",
    "    print(f'net_pl            : {net_pl}/{sum_total}')  \n",
    "    print('==============================')\n",
    "    print('-------------')\n",
    "    print(f'+ve               : num= {num_positive}    sum= +{sum_positive}    avg= +{avg_positive}')\n",
    "    print(f'-ve               : num= {num_negative}    sum= {sum_negative}    avg= {avg_negative}')\n",
    "    print('-------------')\n",
    "\n",
    "    df = pd.DataFrame({'pls':pl_list, 'pip':pip_list})\n",
    "    \n",
    "    values = list(df['pls'].value_counts().index)\n",
    "    counts = list(df['pls'].value_counts().values)\n",
    "\n",
    "    df_report = pd.DataFrame({'values':values,'counts':counts})\n",
    "    df_report['act_val'] = df_report['values'] * df_report['counts']\n",
    "    df_report = df_report.sort_values(by='values')\n",
    "    df_report = df_report.reset_index(drop = True)\n",
    "    display(df_report)\n",
    "    print(pl_list)\n",
    "#     print(df)\n",
    "    print('-------------')\n",
    "    return(all_transactions, pl_list, df)"
   ]
  },
  {
   "cell_type": "code",
   "execution_count": 8,
   "metadata": {},
   "outputs": [],
   "source": [
    "data['start_date'] = {'year':2021, 'month':5, 'date':1, \n",
    "                      'hour':0, 'min':1}\n",
    "\n",
    "data['end_date'] = {'year':2021, 'month':5, 'date':8, \n",
    "                    'hour':19, 'min':30}"
   ]
  },
  {
   "cell_type": "code",
   "execution_count": 9,
   "metadata": {
    "scrolled": false
   },
   "outputs": [
    {
     "name": "stderr",
     "output_type": "stream",
     "text": [
      "79it [00:22,  3.46it/s]\n"
     ]
    },
    {
     "name": "stdout",
     "output_type": "stream",
     "text": [
      "-------------\n",
      "account_name      : oanda_demo_1\n",
      "start_ts          : 2021-05-01 00:01:00\n",
      "end_ts            : 2021-05-08 19:30:00\n",
      "-------------\n",
      "num_transactions  : 10\n",
      "==============================\n",
      "net_pl            : -0.2406/2.0058\n",
      "==============================\n",
      "-------------\n",
      "+ve               : num= 4    sum= +0.8826    avg= +0.22065\n",
      "-ve               : num= 6    sum= -1.1232    avg= -0.1872\n",
      "-------------\n"
     ]
    },
    {
     "data": {
      "text/html": [
       "<div>\n",
       "<style scoped>\n",
       "    .dataframe tbody tr th:only-of-type {\n",
       "        vertical-align: middle;\n",
       "    }\n",
       "\n",
       "    .dataframe tbody tr th {\n",
       "        vertical-align: top;\n",
       "    }\n",
       "\n",
       "    .dataframe thead th {\n",
       "        text-align: right;\n",
       "    }\n",
       "</style>\n",
       "<table border=\"1\" class=\"dataframe\">\n",
       "  <thead>\n",
       "    <tr style=\"text-align: right;\">\n",
       "      <th></th>\n",
       "      <th>values</th>\n",
       "      <th>counts</th>\n",
       "      <th>act_val</th>\n",
       "    </tr>\n",
       "  </thead>\n",
       "  <tbody>\n",
       "    <tr>\n",
       "      <th>0</th>\n",
       "      <td>-0.2867</td>\n",
       "      <td>1</td>\n",
       "      <td>-0.2867</td>\n",
       "    </tr>\n",
       "    <tr>\n",
       "      <th>1</th>\n",
       "      <td>-0.2526</td>\n",
       "      <td>1</td>\n",
       "      <td>-0.2526</td>\n",
       "    </tr>\n",
       "    <tr>\n",
       "      <th>2</th>\n",
       "      <td>-0.1982</td>\n",
       "      <td>1</td>\n",
       "      <td>-0.1982</td>\n",
       "    </tr>\n",
       "    <tr>\n",
       "      <th>3</th>\n",
       "      <td>-0.1820</td>\n",
       "      <td>1</td>\n",
       "      <td>-0.1820</td>\n",
       "    </tr>\n",
       "    <tr>\n",
       "      <th>4</th>\n",
       "      <td>-0.1099</td>\n",
       "      <td>1</td>\n",
       "      <td>-0.1099</td>\n",
       "    </tr>\n",
       "    <tr>\n",
       "      <th>5</th>\n",
       "      <td>-0.0938</td>\n",
       "      <td>1</td>\n",
       "      <td>-0.0938</td>\n",
       "    </tr>\n",
       "    <tr>\n",
       "      <th>6</th>\n",
       "      <td>0.0309</td>\n",
       "      <td>1</td>\n",
       "      <td>0.0309</td>\n",
       "    </tr>\n",
       "    <tr>\n",
       "      <th>7</th>\n",
       "      <td>0.0382</td>\n",
       "      <td>1</td>\n",
       "      <td>0.0382</td>\n",
       "    </tr>\n",
       "    <tr>\n",
       "      <th>8</th>\n",
       "      <td>0.1697</td>\n",
       "      <td>1</td>\n",
       "      <td>0.1697</td>\n",
       "    </tr>\n",
       "    <tr>\n",
       "      <th>9</th>\n",
       "      <td>0.6438</td>\n",
       "      <td>1</td>\n",
       "      <td>0.6438</td>\n",
       "    </tr>\n",
       "  </tbody>\n",
       "</table>\n",
       "</div>"
      ],
      "text/plain": [
       "   values  counts  act_val\n",
       "0 -0.2867       1  -0.2867\n",
       "1 -0.2526       1  -0.2526\n",
       "2 -0.1982       1  -0.1982\n",
       "3 -0.1820       1  -0.1820\n",
       "4 -0.1099       1  -0.1099\n",
       "5 -0.0938       1  -0.0938\n",
       "6  0.0309       1   0.0309\n",
       "7  0.0382       1   0.0382\n",
       "8  0.1697       1   0.1697\n",
       "9  0.6438       1   0.6438"
      ]
     },
     "metadata": {},
     "output_type": "display_data"
    },
    {
     "name": "stdout",
     "output_type": "stream",
     "text": [
      "[-0.1982, 0.0382, -0.1099, 0.6438, -0.0938, 0.0309, -0.2526, -0.182, -0.2867, 0.1697]\n",
      "-------------\n"
     ]
    },
    {
     "name": "stderr",
     "output_type": "stream",
     "text": [
      "77it [00:22,  3.40it/s]\n"
     ]
    },
    {
     "name": "stdout",
     "output_type": "stream",
     "text": [
      "-------------\n",
      "account_name      : oanda_demo_2\n",
      "start_ts          : 2021-05-01 00:01:00\n",
      "end_ts            : 2021-05-08 19:30:00\n",
      "-------------\n",
      "num_transactions  : 8\n",
      "==============================\n",
      "net_pl            : -0.2588/0.2588\n",
      "==============================\n",
      "-------------\n",
      "+ve               : num= 0    sum= +0.0    avg= +nan\n",
      "-ve               : num= 8    sum= -0.2588    avg= -0.03235\n",
      "-------------\n"
     ]
    },
    {
     "data": {
      "text/html": [
       "<div>\n",
       "<style scoped>\n",
       "    .dataframe tbody tr th:only-of-type {\n",
       "        vertical-align: middle;\n",
       "    }\n",
       "\n",
       "    .dataframe tbody tr th {\n",
       "        vertical-align: top;\n",
       "    }\n",
       "\n",
       "    .dataframe thead th {\n",
       "        text-align: right;\n",
       "    }\n",
       "</style>\n",
       "<table border=\"1\" class=\"dataframe\">\n",
       "  <thead>\n",
       "    <tr style=\"text-align: right;\">\n",
       "      <th></th>\n",
       "      <th>values</th>\n",
       "      <th>counts</th>\n",
       "      <th>act_val</th>\n",
       "    </tr>\n",
       "  </thead>\n",
       "  <tbody>\n",
       "    <tr>\n",
       "      <th>0</th>\n",
       "      <td>-0.1449</td>\n",
       "      <td>1</td>\n",
       "      <td>-0.1449</td>\n",
       "    </tr>\n",
       "    <tr>\n",
       "      <th>1</th>\n",
       "      <td>-0.0345</td>\n",
       "      <td>1</td>\n",
       "      <td>-0.0345</td>\n",
       "    </tr>\n",
       "    <tr>\n",
       "      <th>2</th>\n",
       "      <td>-0.0173</td>\n",
       "      <td>1</td>\n",
       "      <td>-0.0173</td>\n",
       "    </tr>\n",
       "    <tr>\n",
       "      <th>3</th>\n",
       "      <td>-0.0146</td>\n",
       "      <td>1</td>\n",
       "      <td>-0.0146</td>\n",
       "    </tr>\n",
       "    <tr>\n",
       "      <th>4</th>\n",
       "      <td>-0.0145</td>\n",
       "      <td>1</td>\n",
       "      <td>-0.0145</td>\n",
       "    </tr>\n",
       "    <tr>\n",
       "      <th>5</th>\n",
       "      <td>-0.0120</td>\n",
       "      <td>1</td>\n",
       "      <td>-0.0120</td>\n",
       "    </tr>\n",
       "    <tr>\n",
       "      <th>6</th>\n",
       "      <td>-0.0105</td>\n",
       "      <td>2</td>\n",
       "      <td>-0.0210</td>\n",
       "    </tr>\n",
       "  </tbody>\n",
       "</table>\n",
       "</div>"
      ],
      "text/plain": [
       "   values  counts  act_val\n",
       "0 -0.1449       1  -0.1449\n",
       "1 -0.0345       1  -0.0345\n",
       "2 -0.0173       1  -0.0173\n",
       "3 -0.0146       1  -0.0146\n",
       "4 -0.0145       1  -0.0145\n",
       "5 -0.0120       1  -0.0120\n",
       "6 -0.0105       2  -0.0210"
      ]
     },
     "metadata": {},
     "output_type": "display_data"
    },
    {
     "name": "stdout",
     "output_type": "stream",
     "text": [
      "[-0.1449, -0.0345, -0.0173, -0.012, -0.0146, -0.0145, -0.0105, -0.0105]\n",
      "-------------\n"
     ]
    }
   ],
   "source": [
    "# account_list = ['oanda_demo_primary']\n",
    "# account_list = ['oanda_demo_1']\n",
    "# #account_list = ['oanda_demo_2']\n",
    "# account_list = ['oanda_demo_primary','oanda_demo_1', 'oanda_demo_2']\n",
    "account_list = ['oanda_demo_1', 'oanda_demo_2']\n",
    "\n",
    "for acc_name in account_list:\n",
    "    data['account_name'] = acc_name\n",
    "    try:\n",
    "        all_transactions, pl_list, df = get_net_pl()\n",
    "    except KeyboardInterrupt:\n",
    "        print(f'Manually Stopped')\n",
    "        break\n",
    "    except:\n",
    "        print(f'No Transactions yet in {acc_name}')"
   ]
  },
  {
   "cell_type": "code",
   "execution_count": 10,
   "metadata": {},
   "outputs": [],
   "source": [
    "df = pd.DataFrame()\n",
    "df.to_csv('data/temp.csv')"
   ]
  },
  {
   "cell_type": "code",
   "execution_count": 11,
   "metadata": {},
   "outputs": [
    {
     "name": "stdout",
     "output_type": "stream",
     "text": [
      "err_msg : [Errno 2] No such file or directory: 'data/temp1.csv'\n"
     ]
    }
   ],
   "source": [
    "try:\n",
    "    df1 = pd.read_csv('data/temp1.csv')\n",
    "    print(df1.head())\n",
    "    \n",
    "except Exception as err_msg:\n",
    "    print(f'err_msg : {err_msg}')"
   ]
  }
 ],
 "metadata": {
  "kernelspec": {
   "display_name": "Python 3.6.6 64-bit",
   "language": "python",
   "name": "python36664bitab910dfda0bc43a8bf7df0c20d1c59f2"
  },
  "language_info": {
   "codemirror_mode": {
    "name": "ipython",
    "version": 3
   },
   "file_extension": ".py",
   "mimetype": "text/x-python",
   "name": "python",
   "nbconvert_exporter": "python",
   "pygments_lexer": "ipython3",
   "version": "3.6.6"
  }
 },
 "nbformat": 4,
 "nbformat_minor": 4
}
