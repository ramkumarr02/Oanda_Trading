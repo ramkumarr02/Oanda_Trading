{
 "cells": [
  {
   "cell_type": "markdown",
   "metadata": {},
   "source": [
    "# ML Trader"
   ]
  },
  {
   "cell_type": "code",
   "execution_count": null,
   "metadata": {
    "scrolled": true
   },
   "outputs": [],
   "source": [
    "from utils.packages import *\n",
    "from utils.time_tick import *\n",
    "from utils.variables import *\n",
    "from utils.i_o import *\n",
    "from utils.dir_slope import *\n",
    "from utils.engine import *\n",
    "from utils.loops import *\n",
    "from utils.order import *\n",
    "from config.access_keys import *\n",
    "warnings.filterwarnings('ignore')"
   ]
  },
  {
   "cell_type": "markdown",
   "metadata": {
    "scrolled": false
   },
   "source": [
    "#--------------------------------------------------------------------------------------------------------------------------\n",
    "# Run\n",
    "\n",
    "if data['run_type'] == 'single':\n",
    "    data = run_engine(data)        \n",
    "\n",
    "elif data['run_type'] == 'loop':\n",
    "    while data[\"run_flg\"] ==  True:\n",
    "        try:        \n",
    "            data = run_engine(data)        \n",
    "        \n",
    "        except KeyboardInterrupt:\n",
    "            print(\"Run manually stopped\")\n",
    "            ts = dt.datetime.now()\n",
    "            err_msg = 'KeyboardInterrupt'\n",
    "            logging.error(f'--- Timestamp-{ts}, Error-{err_msg}')\n",
    "            break           \n",
    "        \n",
    "        except Exception as err_msg:\n",
    "            data['error_count'] = data['error_count'] + 1\n",
    "            ts = dt.datetime.now()\n",
    "            logging.error(f'--- Timestamp-{ts}, Error-{err_msg}')\n",
    "#==========================================================================================================================            "
   ]
  },
  {
   "cell_type": "markdown",
   "metadata": {},
   "source": [
    "data = check_for_open_orders(data)\n",
    "data = check_for_open_orders(data)\n",
    "data = check_for_open_orders(data)"
   ]
  },
  {
   "cell_type": "code",
   "execution_count": null,
   "metadata": {},
   "outputs": [],
   "source": [
    "#--------------------------------------------------------------------------------------------------------------------------\n",
    "# ### Inputs and Parameters   \n",
    "    \n",
    "logging.basicConfig(filename='traderrun.log', level=logging.ERROR)\n",
    "\n",
    "data['access_token'] = oanda_demo_2['token']\n",
    "data['accountID'] = oanda_demo_2['account_id']\n",
    "data['params'] = {'instruments': data['instrument']}\n",
    "\n",
    "data['api'] = API(access_token = data['access_token'])\n",
    "data['request_stream_data'] = pricing.PricingStream(accountID=data['accountID'], params=data['params'])\n",
    "data['response_stream'] = data['api'].request(data['request_stream_data'])\n",
    "data[\"start_ts\"] = dt.datetime.strftime(dt.datetime.now(), '%Y-%m-%d-%H-%M')\n",
    "\n",
    "data = calculate_purchasable_EURUSD_units(data)\n",
    "# ------------------------------------------------------------------------------------"
   ]
  },
  {
   "cell_type": "code",
   "execution_count": null,
   "metadata": {},
   "outputs": [],
   "source": [
    "data['df'] = pd.DataFrame()\n",
    "\n",
    "data['df']['DateTime_frmt'] = np.nan\n",
    "data['df']['bid']  = np.nan\n",
    "data['df']['ask'] = np.nan\n",
    "data['df']['tick'] = np.nan\n",
    "data['df']['lema'] = np.nan\n",
    "data['df']['h'] = np.nan\n",
    "data['df']['l'] = np.nan\n",
    "# data['df']['h_avg'] = np.nan\n",
    "# data['df']['l_avg'] = np.nan\n",
    "data['df']['h_gap'] = np.nan\n",
    "data['df']['l_gap'] = np.nan\n",
    "data['df']['h_lema'] = np.nan\n",
    "data['df']['l_lema'] = np.nan"
   ]
  },
  {
   "cell_type": "code",
   "execution_count": null,
   "metadata": {
    "scrolled": true
   },
   "outputs": [],
   "source": [
    "for data['iter'], data['resp'] in enumerate(data['response_stream']):    \n",
    "\n",
    "    data[\"start_ts\"] = dt.datetime.strftime(dt.datetime.now(), '%Y-%m-%d-%H-%M')\n",
    "\n",
    "    # Heartbeat check ---------------------------------------------\n",
    "    if data['resp']['type'] == 'HEARTBEAT': # Heart beat response to keep the data['api'] connection alive (Avoid timeout)\n",
    "        continue\n",
    "\n",
    "    # Get time ---------------------------------------------\n",
    "    data = get_date_time(data)\n",
    "\n",
    "\n",
    "    # Time diff check ---------------------------------------------\n",
    "    if data['time_diff'] > data['max_time_diff']:        \n",
    "        raise ValueError(f'Time difference is above limit : {data[\"time_diff\"]}')\n",
    "\n",
    "    # Get Data ---------------------------------------------\n",
    "    data = get_prices(data)\n",
    "\n",
    "#     print_report(data)\n",
    "    \n",
    "\n",
    "    # lema before after loops --------------------------------\n",
    "    if len(data['tick_list']) < data['lema_len']:\n",
    "        data = before_lema(data)        \n",
    "        display.clear_output(wait = True) \n",
    "        print(data['iter'])\n",
    "        continue        \n",
    "\n",
    "    if len(data['tick_list']) == data['lema_len']:\n",
    "        data = after_lema(data)                  \n",
    "    # ----------------------------------------------------------\n",
    "     \n",
    "    data = capture_in_df(data)\n",
    "    \n",
    "    display.clear_output(wait = True)    \n",
    "#     print(data['df'][['tick', 'lema', 'h', 'l', 'h_gap', 'l_gap', 'h_lema', 'l_lema']])\n",
    "    plot_plotly_graph(data)\n",
    "    \n",
    "#     print(data['df'])\n",
    "#     data['df']['h_l_gap']       = data['tot_ts_2']\n",
    "#     data['df']['h_lema']        = data['tot_ts_2']\n",
    "#     data['df']['l_lema']        = data['tot_ts_2']    \n",
    "\n",
    "#     data = get_position(data)\n",
    "\n",
    "#     if not data['position']:\n",
    "#         continue\n",
    "\n",
    "#     # Get Dirs --------------------------------\n",
    "#     if len(data['dir_list']) < 2:\n",
    "#         data['dir_list'].append(data['position'])   \n",
    "#         continue\n",
    "\n",
    "#     elif len(data['dir_list']) == 2:\n",
    "#         data = get_cross_dir(data)\n",
    "#     # ----------------------------------------------------------  \n",
    "\n",
    "\n",
    "#     data = check_for_open_orders(data)\n",
    "#     data = get_candle_size(data)\n",
    "#     data = set_take_profit(data)\n",
    "#     data = angle_close(data)\n",
    "\n",
    "#     data = check_for_open_orders(data)\n",
    "#     data = reverse_order(data)\n",
    "\n",
    "#     data = check_for_open_orders(data)\n",
    "#     data = make_order(data)    "
   ]
  },
  {
   "cell_type": "code",
   "execution_count": null,
   "metadata": {},
   "outputs": [],
   "source": [
    "data['df'].tail()"
   ]
  },
  {
   "cell_type": "code",
   "execution_count": null,
   "metadata": {},
   "outputs": [],
   "source": [
    "data['df']['h'][-10:].mean() - data['df']['lema']"
   ]
  },
  {
   "cell_type": "code",
   "execution_count": null,
   "metadata": {},
   "outputs": [],
   "source": [
    "sys.exit()"
   ]
  },
  {
   "cell_type": "code",
   "execution_count": null,
   "metadata": {},
   "outputs": [],
   "source": [
    "data['df'][-10:]"
   ]
  },
  {
   "cell_type": "code",
   "execution_count": null,
   "metadata": {},
   "outputs": [],
   "source": [
    "params = {\"count\": 1, \"granularity\": 'M5'}\n",
    "candle_size_data = instruments.InstrumentsCandles(instrument=data['curr_conv_pair'], params=params)\n",
    "data['candle_size_info'] = data[\"api\"].request(candle_size_data)\n",
    "data['candle_size_info']\n",
    "# data['convertion_rate'] = float([candle['mid']['c'] for candle in data['candle_size_info']['candles']][0])"
   ]
  }
 ],
 "metadata": {
  "kernelspec": {
   "display_name": "Python 3",
   "language": "python",
   "name": "python3"
  },
  "language_info": {
   "codemirror_mode": {
    "name": "ipython",
    "version": 3
   },
   "file_extension": ".py",
   "mimetype": "text/x-python",
   "name": "python",
   "nbconvert_exporter": "python",
   "pygments_lexer": "ipython3",
   "version": "3.6.6"
  }
 },
 "nbformat": 4,
 "nbformat_minor": 4
}
