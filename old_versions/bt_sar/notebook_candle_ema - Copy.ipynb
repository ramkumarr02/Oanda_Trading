{
 "cells": [
  {
   "cell_type": "markdown",
   "metadata": {},
   "source": [
    "# ML Trader"
   ]
  },
  {
   "cell_type": "code",
   "execution_count": 1,
   "metadata": {
    "scrolled": true
   },
   "outputs": [],
   "source": [
    "from utils.packages import *\n",
    "from utils.variables import *\n",
    "from utils.i_o import *\n",
    "from utils.dir_slope import *\n",
    "from utils.engine import *\n",
    "from utils.loops import *\n",
    "from utils.order import *\n",
    "from utils.ml import *\n",
    "import winsound"
   ]
  },
  {
   "cell_type": "markdown",
   "metadata": {},
   "source": [
    "# Notes\n",
    "---\n",
    "## 2022_09_02\n",
    "\n",
    "### Observations\n",
    "\n",
    "1. No need to make 10 transactions a day. Just one is enough\n",
    "\n",
    "1. lema or sema match\n",
    "    1. Using lema match works fine in both opening \n",
    "    1. Using lema has better results\n",
    "    1. 144 produces better resuls over higher numbers like 1440 \n",
    "\n",
    "1. Lema angle in order and close\n",
    "    1. Using lema angle in order, delays order, but overall profits are high\n",
    "    1. Using lema angle in close also increases overall profit\n",
    "\n",
    "1. Before everything need to find why 2021 is consistently producing negative results in all the setups.\n",
    "    1. What is that this causing this issue, how can it be addressed with in the same system\n",
    "    1. less complex method is essential\n",
    "    \n",
    "\n",
    "### To Test\n",
    "1. Find whether the opening or closing that is causing the most issue in loss years\n",
    "1. Test other years to understand how well this setup works.\n",
    "1. Remove lema match check from closing. This is delaying bad trasactions\n",
    "1. Test 5 round up on lema match. Transactions are opening in lema match gaps\n",
    "1. Ideation\n",
    "    1. Test lema Bollinger bands to understand flow direction\n",
    "    1. Test overall flow direction\n",
    "\n",
    "---\n",
    "\n",
    "## 2022_09_02\n",
    "\n",
    "### Observations\n",
    "1. Opening and closing need to happen faster. Cant close after ema match\n",
    "1. Lema angle helps save positions against frequent flips but delays closing and causes losses\n",
    "1. Market is non-directional (Dec 2021 is a good example) Goes up and down, when algo tries to open and close its always too late\n",
    "1. Need a faster method\n",
    "\n",
    "\n",
    "### To Test\n",
    "1. Should test plotting close as a line instead of candles. Perform match in close with wider window\n",
    "1. Close chart needs to be analysed. This looks promising.\n",
    "1. Go with simple rolling min max for close. Works better than resample min max merge\n",
    "\n",
    "---\n",
    "\n",
    "\n",
    "## 2022_09_13\n",
    "\n",
    "### Observations\n",
    "1. Lema crossing lema max and close using sema crossing lema max (This is the highest yielding 2020)\n",
    "1. Need to analyze the gap between lema and lema max as an indicator for profit and loss\n",
    "\n",
    "\n",
    "---\n",
    "\n",
    "## Result by Years\n",
    "\n",
    "| Year | Angle open | Angle close | Lema match open | Lema match close | Result type | pips  |\n",
    "| ---- | ---------- | ----------- | --------------- | ---------------- | ----------- | ----- |\n",
    "| 2022 | Yes        | No          | Yes             | Yes              | Profit      | 577   |\n",
    "| 2021 | Yes        | No          | Yes             | Yes              | Loss        | \\-596 |\n",
    "| 2020 | Yes        | No          | Yes             | Yes              | Profit      | 1462  |\n",
    "| 2019 | Yes        | No          | Yes             | Yes              | Loss        | 193   |\n",
    "| 2018 | Yes        | No          | Yes             | Yes              | Profit      | 60    |\n",
    "| 2017 | Yes        | No          | Yes             | Yes              | Profit      | \\-1396|    "
   ]
  },
  {
   "cell_type": "markdown",
   "metadata": {},
   "source": [
    "data                = get_date_list(data)\n",
    "data                = read_data(data)"
   ]
  },
  {
   "cell_type": "code",
   "execution_count": 2,
   "metadata": {},
   "outputs": [],
   "source": [
    "data[\"input_year\"] = 2020\n",
    "data['start_date'] = {'year':data[\"input_year\"], 'month':1, 'date':1}\n",
    "data['end_date']   = {'year':data[\"input_year\"], 'month':12, 'date':31}\n",
    "data[\"product\"] = 'eurusd'\n",
    "data[\"input_file_name\"] = f'{data[\"product\"]}_{data[\"input_year\"]}.csv'"
   ]
  },
  {
   "cell_type": "code",
   "execution_count": 3,
   "metadata": {
    "scrolled": false
   },
   "outputs": [
    {
     "name": "stderr",
     "output_type": "stream",
     "text": [
      "100%|██████████████████████████████████| 74387/74387 [00:18<00:00, 3946.46it/s]\n"
     ]
    },
    {
     "name": "stdout",
     "output_type": "stream",
     "text": [
      "pl    0.14534\n",
      "dtype: float64\n",
      "--------------------------------------\n",
      "            DateTime_frmt  order_side  close_type       pl\n",
      "64364 2020-11-12 12:10:00         NaN  sema_close -0.00279\n",
      "65420 2020-11-18 04:10:00         NaN  sema_close  0.00484\n",
      "65943 2020-11-19 23:45:00         NaN  sema_close -0.00311\n",
      "66181 2020-11-20 19:35:00         NaN  sema_close -0.00281\n",
      "66500 2020-11-23 22:10:00         NaN  sema_close -0.00435\n",
      "67302 2020-11-26 17:00:00         NaN  sema_close  0.00082\n",
      "67951 2020-11-30 23:05:00         NaN  sema_close -0.00063\n",
      "69106 2020-12-06 23:20:00         NaN  sema_close  0.00827\n",
      "69814 2020-12-09 10:20:00         NaN  sema_close -0.00201\n",
      "70137 2020-12-10 13:15:00         NaN  sema_close -0.00450\n",
      "70472 2020-12-11 17:10:00         NaN  sema_close -0.00334\n",
      "71905 2020-12-18 16:35:00         NaN  sema_close  0.00790\n",
      "72281 2020-12-21 23:55:00         NaN  sema_close -0.00193\n",
      "73087 2020-12-24 19:05:00         NaN  sema_close -0.00347\n",
      "74305 2020-12-31 15:10:00         NaN  sema_close  0.00487\n"
     ]
    },
    {
     "name": "stderr",
     "output_type": "stream",
     "text": [
      "100%|██████████████████████████████████████| 208/208 [00:00<00:00, 1173.35it/s]"
     ]
    },
    {
     "name": "stdout",
     "output_type": "stream",
     "text": [
      "Wall time: 2min 46s\n"
     ]
    },
    {
     "name": "stderr",
     "output_type": "stream",
     "text": [
      "\n"
     ]
    }
   ],
   "source": [
    "%%time\n",
    "data = run_engine(data)"
   ]
  },
  {
   "cell_type": "code",
   "execution_count": 4,
   "metadata": {},
   "outputs": [
    {
     "data": {
      "text/plain": [
       "close_type\n",
       "sema_close    0.14534\n",
       "Name: pl, dtype: float64"
      ]
     },
     "execution_count": 4,
     "metadata": {},
     "output_type": "execute_result"
    }
   ],
   "source": [
    "data['df_ohlc'].groupby(['close_type'])['pl'].sum()"
   ]
  },
  {
   "cell_type": "code",
   "execution_count": 5,
   "metadata": {
    "scrolled": false
   },
   "outputs": [
    {
     "name": "stdout",
     "output_type": "stream",
     "text": [
      "month_val\n",
      "1     0.00075\n",
      "2     0.01728\n",
      "3     0.08514\n",
      "4    -0.00293\n",
      "5     0.01553\n",
      "6     0.00758\n",
      "7     0.02065\n",
      "8    -0.01417\n",
      "9     0.01023\n",
      "10   -0.00654\n",
      "11    0.00603\n",
      "12    0.00579\n",
      "Name: pl, dtype: float64\n",
      "---------------------\n",
      "month_val\n",
      "8    -0.01417\n",
      "10   -0.00654\n",
      "4    -0.00293\n",
      "1     0.00075\n",
      "12    0.00579\n",
      "11    0.00603\n",
      "6     0.00758\n",
      "9     0.01023\n",
      "5     0.01553\n",
      "2     0.01728\n",
      "7     0.02065\n",
      "3     0.08514\n",
      "Name: pl, dtype: float64\n",
      "---------------------\n",
      "max : 3 : 0.08514000000000001\n",
      "min : 8 : -0.014169999999999999\n",
      "---------------------\n",
      "monthly_avg : 0.0121\n"
     ]
    }
   ],
   "source": [
    "x = data['df_ohlc'].groupby(['month_val'])['pl'].sum()\n",
    "print(x)\n",
    "print('---------------------')\n",
    "print(x.sort_values())\n",
    "print('---------------------')\n",
    "print(f'max : {x.idxmax()} : {max(x)}')\n",
    "print(f'min : {x.idxmin()} : {min(x)}')\n",
    "print('---------------------')\n",
    "monthly_avg = np.round(data['df_ohlc']['pl'].sum()/len(set(data['df_ohlc']['month_val'])),4)\n",
    "print(f'monthly_avg : {monthly_avg}')"
   ]
  },
  {
   "cell_type": "code",
   "execution_count": 6,
   "metadata": {},
   "outputs": [
    {
     "ename": "SystemExit",
     "evalue": "",
     "output_type": "error",
     "traceback": [
      "An exception has occurred, use %tb to see the full traceback.\n",
      "\u001b[1;31mSystemExit\u001b[0m\n"
     ]
    }
   ],
   "source": [
    "sys.exit()"
   ]
  },
  {
   "cell_type": "code",
   "execution_count": null,
   "metadata": {},
   "outputs": [],
   "source": [
    "print(data['df_small'].groupby(['weekday', 'pl_type'])['pl_type'].count().unstack())\n",
    "print('----------------------------------------------')\n",
    "print(data['df_small'].groupby(['weekday', 'pl_type'])['pl'].sum().unstack())"
   ]
  },
  {
   "cell_type": "code",
   "execution_count": null,
   "metadata": {},
   "outputs": [],
   "source": [
    "data['lema_gap_pl_analysis_month'] = 3\n",
    "\n",
    "data = lema_gap_pl_analysis(data)\n",
    "data['lema_gap_pl_report']"
   ]
  },
  {
   "cell_type": "code",
   "execution_count": null,
   "metadata": {},
   "outputs": [],
   "source": [
    "y = data['df_ohlc']['pl'].sum()\n",
    "x = data['df_ohlc'].groupby(['month_val'])['pl'].sum()\n",
    "send_telegram_message(f'{data[\"input_year\"]}')\n",
    "send_telegram_message(f'{y}')\n",
    "send_telegram_message(f'{x}')\n",
    "send_telegram_message(f'-------------------')"
   ]
  },
  {
   "cell_type": "code",
   "execution_count": null,
   "metadata": {},
   "outputs": [],
   "source": [
    "y = data['df_ohlc'][data['df_ohlc']['month_val'] == 1]\n",
    "x = y.groupby(['date_val'])['pl'].sum()\n",
    "print(x)\n",
    "print('---------------------')\n",
    "print(f'max : {x.idxmax()} : {max(x)}')\n",
    "print(f'min : {x.idxmin()} : {min(x)}')\n",
    "print('---------------------')"
   ]
  },
  {
   "cell_type": "code",
   "execution_count": null,
   "metadata": {
    "scrolled": true
   },
   "outputs": [],
   "source": [
    "data['df_ohlc'].tail()"
   ]
  },
  {
   "cell_type": "code",
   "execution_count": null,
   "metadata": {
    "scrolled": true
   },
   "outputs": [],
   "source": [
    "data['df_ohlc']['lema_gap'].describe()"
   ]
  },
  {
   "cell_type": "code",
   "execution_count": null,
   "metadata": {
    "scrolled": true
   },
   "outputs": [],
   "source": [
    "x = 5\n",
    "data['df_ohlc'].iloc[-5:,x:x+15]"
   ]
  },
  {
   "cell_type": "code",
   "execution_count": null,
   "metadata": {},
   "outputs": [],
   "source": [
    "data['df_small']['lema_gap'].describe()"
   ]
  },
  {
   "cell_type": "code",
   "execution_count": null,
   "metadata": {},
   "outputs": [],
   "source": [
    "a = np.arange(0,20)\n",
    "for b in a:\n",
    "    x = int(round(b/5.0)*5.0)\n",
    "    print(b, x)"
   ]
  },
  {
   "cell_type": "code",
   "execution_count": null,
   "metadata": {},
   "outputs": [],
   "source": [
    "abs(all['negative_sum']) / all['positive_sum']"
   ]
  },
  {
   "cell_type": "code",
   "execution_count": null,
   "metadata": {},
   "outputs": [],
   "source": [
    "df_small['order_side']"
   ]
  },
  {
   "cell_type": "code",
   "execution_count": null,
   "metadata": {},
   "outputs": [],
   "source": [
    "data['df_small'].to_csv('data/temp.csv')"
   ]
  },
  {
   "cell_type": "code",
   "execution_count": null,
   "metadata": {},
   "outputs": [],
   "source": [
    "data[\"plot\"] = True\n",
    "data['plot_type'] = 'file'\n",
    "data['reduce_plot'] = True\n",
    "chart_duration = 'month'\n",
    "month = 12\n",
    "\n",
    "# data['things_to_plot'] = ['tick', 'ema', 'BBands', 'dots']\n",
    "# data['things_to_plot'] = ['ema', 'BBands', 'dots', 'indicators']\n",
    "# data['things_to_plot'] = ['ema', 'BBands', 'dots', 'cross']\n",
    "# data['things_to_plot'] = ['ema', 'BBands', 'dots', 'positions', 'tip']\n",
    "# data['things_to_plot'] = ['ema', 'BBands', 'dots', 'positions', 'lema_angle']\n",
    "# data['things_to_plot'] = ['ema', 'sema_angle', 'slema_angle', 'lema_angle', 'dir']\n",
    "# data['things_to_plot'] = ['ema', 'positions', 'lema_angle','slema_angle','sema_angle', 'rsi']\n",
    "# data['things_to_plot'] = ['ema','positions', 'lema_angle','lema_diff', 'lema_max_min']\n",
    "# data['things_to_plot'] = ['candles','sema', 'slema','positions','lema', 'lema_angle', 'lema_max_min', 'close_diff']\n",
    "# data['things_to_plot'] = ['lema', 'tip', 'candles', 'lema_angle', 'lema_change']\n",
    "# data['things_to_plot'] = ['candles','sema', 'close','lema', 'lema_match', 'positions', 'lema_change']\n",
    "# data['things_to_plot'] = ['close', 'sema','lema', 'lema_change', 'lema_match', 'close_max']\n",
    "# data['things_to_plot'] = ['close', 'tip','lema', 'close_max', 'close_min', 'lema_match']\n",
    "# data['things_to_plot'] = ['close', 'lema','lema_match', 'slema', 'positions']\n",
    "# data['things_to_plot'] = ['close', 'sema', 'slema','lema','lema_match', 'tip']\n",
    "# data['things_to_plot'] = ['close', 'sema','lema','lema_match', 'match_max', 'match_min', 'unmatched']\n",
    "# data['things_to_plot'] = ['close', 'sema','lema','lema_match', 'lema_max_min', 'positions']\n",
    "data['things_to_plot'] = ['close','lema', 'sema', 'positions', 'lema_max_min']\n",
    "\n",
    "data['plot_start']  = f\"{data['input_year']}-{month}-1\"\n",
    "\n",
    "if chart_duration == 'month':\n",
    "    if month == 12:\n",
    "        data['plot_stop']   = f\"{data['input_year']+1}-1-1\"\n",
    "    else:\n",
    "        data['plot_stop']   = f\"{data['input_year']}-{month+1}-1\"\n",
    "\n",
    "elif chart_duration == 'year':        \n",
    "    data['plot_start']  = f\"{data['input_year']}-1-1\"\n",
    "    data['plot_stop']   = f\"{data['input_year']+1}-1-1\"\n",
    "\n",
    "\n",
    "plot_graph(data)"
   ]
  },
  {
   "cell_type": "markdown",
   "metadata": {
    "scrolled": true
   },
   "source": [
    "generate_result_report(data)"
   ]
  },
  {
   "cell_type": "code",
   "execution_count": 7,
   "metadata": {},
   "outputs": [
    {
     "data": {
      "text/html": [
       "<div>\n",
       "<style scoped>\n",
       "    .dataframe tbody tr th:only-of-type {\n",
       "        vertical-align: middle;\n",
       "    }\n",
       "\n",
       "    .dataframe tbody tr th {\n",
       "        vertical-align: top;\n",
       "    }\n",
       "\n",
       "    .dataframe thead th {\n",
       "        text-align: right;\n",
       "    }\n",
       "</style>\n",
       "<table border=\"1\" class=\"dataframe\">\n",
       "  <thead>\n",
       "    <tr style=\"text-align: right;\">\n",
       "      <th></th>\n",
       "      <th>pl_type</th>\n",
       "      <th>pl</th>\n",
       "      <th>order_side</th>\n",
       "      <th>close</th>\n",
       "      <th>lema_max</th>\n",
       "      <th>lema_min</th>\n",
       "      <th>lema</th>\n",
       "      <th>sema</th>\n",
       "      <th>lema_diff</th>\n",
       "      <th>sema_diff</th>\n",
       "      <th>close_diff</th>\n",
       "    </tr>\n",
       "  </thead>\n",
       "  <tbody>\n",
       "    <tr>\n",
       "      <th>0</th>\n",
       "      <td>positive</td>\n",
       "      <td>0.00107</td>\n",
       "      <td>long</td>\n",
       "      <td>1.116655</td>\n",
       "      <td>1.116154</td>\n",
       "      <td>1.116153</td>\n",
       "      <td>1.116224</td>\n",
       "      <td>1.116382</td>\n",
       "      <td>0.000070</td>\n",
       "      <td>0.000228</td>\n",
       "      <td>0.000501</td>\n",
       "    </tr>\n",
       "    <tr>\n",
       "      <th>2</th>\n",
       "      <td>positive</td>\n",
       "      <td>0.00083</td>\n",
       "      <td>short</td>\n",
       "      <td>1.113055</td>\n",
       "      <td>1.119056</td>\n",
       "      <td>1.115736</td>\n",
       "      <td>1.115180</td>\n",
       "      <td>1.113692</td>\n",
       "      <td>0.000556</td>\n",
       "      <td>0.002044</td>\n",
       "      <td>0.002681</td>\n",
       "    </tr>\n",
       "    <tr>\n",
       "      <th>4</th>\n",
       "      <td>negative</td>\n",
       "      <td>-0.00112</td>\n",
       "      <td>long</td>\n",
       "      <td>1.112835</td>\n",
       "      <td>1.111290</td>\n",
       "      <td>1.111174</td>\n",
       "      <td>1.111525</td>\n",
       "      <td>1.112264</td>\n",
       "      <td>0.000235</td>\n",
       "      <td>0.000974</td>\n",
       "      <td>0.001545</td>\n",
       "    </tr>\n",
       "    <tr>\n",
       "      <th>6</th>\n",
       "      <td>negative</td>\n",
       "      <td>-0.00269</td>\n",
       "      <td>long</td>\n",
       "      <td>1.116030</td>\n",
       "      <td>1.113611</td>\n",
       "      <td>1.112762</td>\n",
       "      <td>1.113615</td>\n",
       "      <td>1.114993</td>\n",
       "      <td>0.000004</td>\n",
       "      <td>0.001382</td>\n",
       "      <td>0.002419</td>\n",
       "    </tr>\n",
       "    <tr>\n",
       "      <th>8</th>\n",
       "      <td>positive</td>\n",
       "      <td>0.00278</td>\n",
       "      <td>short</td>\n",
       "      <td>1.112610</td>\n",
       "      <td>1.115462</td>\n",
       "      <td>1.114195</td>\n",
       "      <td>1.113750</td>\n",
       "      <td>1.113197</td>\n",
       "      <td>0.000445</td>\n",
       "      <td>0.000998</td>\n",
       "      <td>0.001585</td>\n",
       "    </tr>\n",
       "  </tbody>\n",
       "</table>\n",
       "</div>"
      ],
      "text/plain": [
       "    pl_type       pl order_side     close  lema_max  lema_min      lema  \\\n",
       "0  positive  0.00107       long  1.116655  1.116154  1.116153  1.116224   \n",
       "2  positive  0.00083      short  1.113055  1.119056  1.115736  1.115180   \n",
       "4  negative -0.00112       long  1.112835  1.111290  1.111174  1.111525   \n",
       "6  negative -0.00269       long  1.116030  1.113611  1.112762  1.113615   \n",
       "8  positive  0.00278      short  1.112610  1.115462  1.114195  1.113750   \n",
       "\n",
       "       sema  lema_diff  sema_diff  close_diff  \n",
       "0  1.116382   0.000070   0.000228    0.000501  \n",
       "2  1.113692   0.000556   0.002044    0.002681  \n",
       "4  1.112264   0.000235   0.000974    0.001545  \n",
       "6  1.114993   0.000004   0.001382    0.002419  \n",
       "8  1.113197   0.000445   0.000998    0.001585  "
      ]
     },
     "execution_count": 7,
     "metadata": {},
     "output_type": "execute_result"
    }
   ],
   "source": [
    "temp = data['df_small'][['pl_type', 'pl','order_side','close', 'lema_max', 'lema_min', 'lema', 'sema']].dropna()\n",
    "\n",
    "temp.loc[temp['order_side'] == 'long', 'lema_diff'] = temp['lema'] - temp['lema_max']\n",
    "temp.loc[temp['order_side'] == 'short', 'lema_diff'] = temp['lema_min'] - temp['lema']\n",
    "\n",
    "temp.loc[temp['order_side'] == 'long', 'sema_diff'] = temp['sema'] - temp['lema_max']\n",
    "temp.loc[temp['order_side'] == 'short', 'sema_diff'] = temp['lema_min'] - temp['sema']\n",
    "\n",
    "temp.loc[temp['order_side'] == 'long', 'close_diff'] = temp['close'] - temp['lema_max']\n",
    "temp.loc[temp['order_side'] == 'short', 'close_diff'] = temp['lema_min'] - temp['close']\n",
    "\n",
    "temp.head()"
   ]
  },
  {
   "cell_type": "code",
   "execution_count": 15,
   "metadata": {},
   "outputs": [
    {
     "data": {
      "text/html": [
       "<div>\n",
       "<style scoped>\n",
       "    .dataframe tbody tr th:only-of-type {\n",
       "        vertical-align: middle;\n",
       "    }\n",
       "\n",
       "    .dataframe tbody tr th {\n",
       "        vertical-align: top;\n",
       "    }\n",
       "\n",
       "    .dataframe thead th {\n",
       "        text-align: right;\n",
       "    }\n",
       "</style>\n",
       "<table border=\"1\" class=\"dataframe\">\n",
       "  <thead>\n",
       "    <tr style=\"text-align: right;\">\n",
       "      <th></th>\n",
       "      <th>qrt</th>\n",
       "      <th>qrt_start</th>\n",
       "      <th>qrt_stop</th>\n",
       "      <th>count</th>\n",
       "      <th>pl</th>\n",
       "    </tr>\n",
       "  </thead>\n",
       "  <tbody>\n",
       "    <tr>\n",
       "      <th>0</th>\n",
       "      <td>per_0_25</td>\n",
       "      <td>0.00023</td>\n",
       "      <td>0.00161</td>\n",
       "      <td>25</td>\n",
       "      <td>0.0153</td>\n",
       "    </tr>\n",
       "    <tr>\n",
       "      <th>1</th>\n",
       "      <td>per_25_50</td>\n",
       "      <td>0.00161</td>\n",
       "      <td>0.00207</td>\n",
       "      <td>25</td>\n",
       "      <td>0.0081</td>\n",
       "    </tr>\n",
       "    <tr>\n",
       "      <th>2</th>\n",
       "      <td>per_50_75</td>\n",
       "      <td>0.00207</td>\n",
       "      <td>0.00307</td>\n",
       "      <td>25</td>\n",
       "      <td>0.0590</td>\n",
       "    </tr>\n",
       "    <tr>\n",
       "      <th>3</th>\n",
       "      <td>per_75_100</td>\n",
       "      <td>0.00307</td>\n",
       "      <td>0.00987</td>\n",
       "      <td>26</td>\n",
       "      <td>0.0358</td>\n",
       "    </tr>\n",
       "  </tbody>\n",
       "</table>\n",
       "</div>"
      ],
      "text/plain": [
       "          qrt  qrt_start  qrt_stop  count      pl\n",
       "0    per_0_25    0.00023   0.00161     25  0.0153\n",
       "1   per_25_50    0.00161   0.00207     25  0.0081\n",
       "2   per_50_75    0.00207   0.00307     25  0.0590\n",
       "3  per_75_100    0.00307   0.00987     26  0.0358"
      ]
     },
     "execution_count": 15,
     "metadata": {},
     "output_type": "execute_result"
    }
   ],
   "source": [
    "curve_type = 'sema_diff'\n",
    "\n",
    "val_min = temp[curve_type].describe()['min'].round(5)\n",
    "val_25 = temp[curve_type].describe()['25%'].round(5)\n",
    "val_50 = temp[curve_type].describe()['50%'].round(5)\n",
    "val_75 = temp[curve_type].describe()['75%'].round(5)\n",
    "val_max = temp[curve_type].describe()['max'].round(5)\n",
    "\n",
    "per_0_25 = temp.loc[(temp[curve_type] >= val_min) & (temp[curve_type] < val_25), 'pl'].sum().round(4)\n",
    "per_25_50 = temp.loc[(temp[curve_type] >= val_25) & (temp[curve_type] < val_50), 'pl'].sum().round(4)\n",
    "per_50_75 = temp.loc[(temp[curve_type] >= val_50) & (temp[curve_type] < val_75), 'pl'].sum().round(4)\n",
    "per_75_100 = temp.loc[(temp[curve_type] >= val_75) & (temp[curve_type] <= val_max), 'pl'].sum().round(4)\n",
    "\n",
    "per_0_25_count = temp.loc[(temp[curve_type] >= val_min) & (temp[curve_type] < val_25), 'pl'].count()\n",
    "per_25_50_count = temp.loc[(temp[curve_type] >= val_25) & (temp[curve_type] < val_50), 'pl'].count()\n",
    "per_50_75_count = temp.loc[(temp[curve_type] >= val_50) & (temp[curve_type] < val_75), 'pl'].count()\n",
    "per_75_100_count = temp.loc[(temp[curve_type] >= val_75) & (temp[curve_type] <= val_max), 'pl'].count()\n",
    "\n",
    "qrt = ['per_0_25' , 'per_25_50' , 'per_50_75' , 'per_75_100']\n",
    "pl = [per_0_25 , per_25_50 , per_50_75 , per_75_100]\n",
    "pl_count = [per_0_25_count , per_25_50_count , per_50_75_count , per_75_100_count]\n",
    "qrt_start = [val_min, val_25, val_50, val_75]\n",
    "qrt_stop = [val_25, val_50, val_75, val_max]\n",
    "\n",
    "temp_report = pd.DataFrame(data = {'qrt':qrt, 'qrt_start':qrt_start, 'qrt_stop':qrt_stop, 'count':pl_count, 'pl':pl})\n",
    "temp_report"
   ]
  }
 ],
 "metadata": {
  "kernelspec": {
   "display_name": "Python 3",
   "language": "python",
   "name": "python3"
  },
  "language_info": {
   "codemirror_mode": {
    "name": "ipython",
    "version": 3
   },
   "file_extension": ".py",
   "mimetype": "text/x-python",
   "name": "python",
   "nbconvert_exporter": "python",
   "pygments_lexer": "ipython3",
   "version": "3.6.6"
  }
 },
 "nbformat": 4,
 "nbformat_minor": 4
}
