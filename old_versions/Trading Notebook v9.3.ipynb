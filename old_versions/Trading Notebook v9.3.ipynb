{
 "cells": [
  {
   "cell_type": "markdown",
   "metadata": {},
   "source": [
    "# Oanda Demo Trading Notebook"
   ]
  },
  {
   "cell_type": "markdown",
   "metadata": {},
   "source": [
    "## Packages & Tools"
   ]
  },
  {
   "cell_type": "code",
   "execution_count": 1,
   "metadata": {},
   "outputs": [],
   "source": [
    "from utils.packages import *\n",
    "from utils.tools import *\n",
    "from utils.order_engine import *\n",
    "from utils.direction_engine import *\n",
    "from utils.output_log import *"
   ]
  },
  {
   "cell_type": "markdown",
   "metadata": {},
   "source": [
    "## API Setup"
   ]
  },
  {
   "cell_type": "markdown",
   "metadata": {},
   "source": [
    "Read from config file"
   ]
  },
  {
   "cell_type": "code",
   "execution_count": 2,
   "metadata": {},
   "outputs": [
    {
     "name": "stdout",
     "output_type": "stream",
     "text": [
      "dict_keys(['access_keys', 'currencies', 'stepped_loss', 'parameters'])\n"
     ]
    }
   ],
   "source": [
    "data = {}\n",
    "config_files = ['access_keys', 'currencies', 'stepped_loss', 'parameters']\n",
    "\n",
    "for _, val in enumerate(config_files):\n",
    "    temp_file = f'config/{val}.yaml'\n",
    "    with open(temp_file) as temp_file:\n",
    "        data[val] = yaml.load(temp_file)\n",
    "        \n",
    "print(data.keys())        "
   ]
  },
  {
   "cell_type": "markdown",
   "metadata": {},
   "source": [
    "## Inputs"
   ]
  },
  {
   "cell_type": "code",
   "execution_count": 3,
   "metadata": {},
   "outputs": [],
   "source": [
    "access_token = data['access_keys']['oanda_demo_account']['token']\n",
    "accountID = data['access_keys']['oanda_demo_account']['account_id']\n",
    "\n",
    "iter_num = data['parameters']['tick_speed']['iter_num']\n",
    "\n",
    "target_num = data['parameters']['direction']['target_num']\n",
    "min_count = data['parameters']['direction']['min_count']\n",
    "min_count_mulitplier = data['parameters']['direction']['min_count_mulitplier']\n",
    "dir_min_trans_multiplier_long = data['parameters']['direction']['dir_min_trans_multiplier_long']\n",
    "dir_min_trans_multiplier_short = data['parameters']['direction']['dir_min_trans_multiplier_short']\n",
    "dir_recalc_multiplier = data['parameters']['direction']['dir_recalc_multiplier']\n",
    "\n",
    "profit_target_num  = data['parameters']['profit']['profit_target_num']\n",
    "price_allowed_buffer = data['parameters']['profit']['price_allowed_buffer'] \n",
    "loss_limit_num = data['parameters']['profit']['loss_limit_num']\n",
    "\n",
    "run_min_trans_multiplier = data['parameters']['order_run']['run_min_trans_multiplier']\n",
    "\n",
    "instrument = data['parameters']['execution']['instrument']\n",
    "num_of_bets = data['parameters']['execution']['num_of_bets']\n",
    "\n",
    "pip_size = data['currencies']['currs'][instrument]['pip_size']\n",
    "pip_gap = data['currencies']['currs'][instrument]['pip_gap']\n",
    "\n",
    "#max_loss_num = 1\n",
    "#full_loss_ratio = 10"
   ]
  },
  {
   "cell_type": "markdown",
   "metadata": {},
   "source": [
    "## Currency movement speed compare"
   ]
  },
  {
   "cell_type": "code",
   "execution_count": 4,
   "metadata": {},
   "outputs": [],
   "source": [
    "api = API(access_token = access_token)"
   ]
  },
  {
   "cell_type": "code",
   "execution_count": 5,
   "metadata": {
    "scrolled": true
   },
   "outputs": [
    {
     "data": {
      "text/plain": [
       "'\\n%%time\\niter_nums = [100, 200]\\nfor iter_num in iter_nums:\\n    run_currency_num_check(accountID, currencies, iter_num, api)\\n    '"
      ]
     },
     "execution_count": 5,
     "metadata": {},
     "output_type": "execute_result"
    }
   ],
   "source": [
    "'''\n",
    "%%time\n",
    "iter_nums = [100, 200]\n",
    "for iter_num in iter_nums:\n",
    "    run_currency_num_check(accountID, currencies, iter_num, api)\n",
    "    '''"
   ]
  },
  {
   "cell_type": "markdown",
   "metadata": {},
   "source": [
    "## Code Engine"
   ]
  },
  {
   "cell_type": "code",
   "execution_count": 6,
   "metadata": {
    "scrolled": true
   },
   "outputs": [
    {
     "name": "stderr",
     "output_type": "stream",
     "text": [
      "0it [00:11, ?it/s]\n"
     ]
    },
    {
     "ename": "V20Error",
     "evalue": "<!DOCTYPE html>\n<!--[if lt IE 7]> <html class=\"no-js ie6 oldie\" lang=\"en-US\"> <![endif]-->\n<!--[if IE 7]>    <html class=\"no-js ie7 oldie\" lang=\"en-US\"> <![endif]-->\n<!--[if IE 8]>    <html class=\"no-js ie8 oldie\" lang=\"en-US\"> <![endif]-->\n<!--[if gt IE 8]><!--> <html class=\"no-js\" lang=\"en-US\"> <!--<![endif]-->\n<head>\n<meta http-equiv=\"refresh\" content=\"0\">\n\n<title>stream-fxpractice.oanda.com | 525: SSL handshake failed</title>\n<meta charset=\"UTF-8\" />\n<meta http-equiv=\"Content-Type\" content=\"text/html; charset=UTF-8\" />\n<meta http-equiv=\"X-UA-Compatible\" content=\"IE=Edge,chrome=1\" />\n<meta name=\"robots\" content=\"noindex, nofollow\" />\n<meta name=\"viewport\" content=\"width=device-width,initial-scale=1\" />\n<link rel=\"stylesheet\" id=\"cf_styles-css\" href=\"/cdn-cgi/styles/cf.errors.css\" type=\"text/css\" media=\"screen,projection\" />\n<!--[if lt IE 9]><link rel=\"stylesheet\" id='cf_styles-ie-css' href=\"/cdn-cgi/styles/cf.errors.ie.css\" type=\"text/css\" media=\"screen,projection\" /><![endif]-->\n<style type=\"text/css\">body{margin:0;padding:0}</style>\n\n\n\n\n</head>\n<body>\n<div id=\"cf-wrapper\">\n\n    \n\n    <div id=\"cf-error-details\" class=\"cf-error-details-wrapper\">\n        <div class=\"cf-wrapper cf-error-overview\">\n            <h1>\n              \n              <span class=\"cf-error-type\">Error</span>\n              <span class=\"cf-error-code\">525</span>\n              <small class=\"heading-ray-id\">Ray ID: 5a737dac4b450000 &bull; 2020-06-22 05:15:30 UTC</small>\n            </h1>\n            <h2 class=\"cf-subheadline\">SSL handshake failed</h2>\n        </div><!-- /.error-overview -->\n        \n        <div class=\"cf-section cf-highlight cf-status-display\">\n            <div class=\"cf-wrapper\">\n                <div class=\"cf-columns cols-3\">\n                  \n<div id=\"cf-browser-status\" class=\"cf-column cf-status-item cf-browser-status \">\n  <div class=\"cf-icon-error-container\">\n    <i class=\"cf-icon cf-icon-browser\"></i>\n    <i class=\"cf-icon-status cf-icon-ok\"></i>\n  </div>\n  <span class=\"cf-status-desc\">You</span>\n  <h3 class=\"cf-status-name\">Browser</h3>\n  <span class=\"cf-status-label\">Working</span>\n</div>\n\n<div id=\"cf-cloudflare-status\" class=\"cf-column cf-status-item cf-cloudflare-status \">\n  <div class=\"cf-icon-error-container\">\n    <i class=\"cf-icon cf-icon-cloud\"></i>\n    <i class=\"cf-icon-status cf-icon-ok\"></i>\n  </div>\n  <span class=\"cf-status-desc\">Singapore</span>\n  <h3 class=\"cf-status-name\">Cloudflare</h3>\n  <span class=\"cf-status-label\">Working</span>\n</div>\n\n<div id=\"cf-host-status\" class=\"cf-column cf-status-item cf-host-status cf-error-source\">\n  <div class=\"cf-icon-error-container\">\n    <i class=\"cf-icon cf-icon-server\"></i>\n    <i class=\"cf-icon-status cf-icon-error\"></i>\n  </div>\n  <span class=\"cf-status-desc\">stream-fxpractice.oanda.com</span>\n  <h3 class=\"cf-status-name\">Host</h3>\n  <span class=\"cf-status-label\">Error</span>\n</div>\n\n                </div>\n              \n            </div>\n        </div><!-- /.status-display -->\n\n        <div class=\"cf-section cf-wrapper\">\n            <div class=\"cf-columns two\">\n                <div class=\"cf-column\">\n                    <h2>What happened?</h2>\n                    <p>Cloudflare is unable to establish an SSL connection to the origin server.</p>\n                </div>\n              \n                <div class=\"cf-column\">\n                    <h2>What can I do?</h2>\n                          <h5>If you're a visitor of this website:</h5>\n      <p>Please try again in a few minutes.</p>\n\n      <h5>If you're the owner of this website:</h5>\n      <p><span>It appears that the SSL configuration used is not compatible with Cloudflare. This could happen for a several reasons, including no shared cipher suites.</span> <a href=\"https://support.cloudflare.com/hc/en-us/articles/200278659\">Additional troubleshooting information here.</a></p>\n                </div>\n            </div>\n              \n        </div><!-- /.section -->\n\n        <div class=\"cf-error-footer cf-wrapper\">\n  <p>\n    <span class=\"cf-footer-item\">Cloudflare Ray ID: <strong>5a737dac4b450000</strong></span>\n    <span class=\"cf-footer-separator\">&bull;</span>\n    <span class=\"cf-footer-item\"><span>Your IP</span>: 2406:3003:2060:2609:bc64:6478:e692:d699</span>\n    <span class=\"cf-footer-separator\">&bull;</span>\n    <span class=\"cf-footer-item\"><span>Performance &amp; security by</span> <a href=\"https://www.cloudflare.com/5xx-error-landing?utm_source=error_footer\" id=\"brand_link\" target=\"_blank\">Cloudflare</a></span>\n    \n  </p>\n</div><!-- /.error-footer -->\n\n\n    </div><!-- /#cf-error-details -->\n</div><!-- /#cf-wrapper -->\n</body>\n</html>\n\n",
     "output_type": "error",
     "traceback": [
      "\u001b[1;31m---------------------------------------------------------------------------\u001b[0m",
      "\u001b[1;31mV20Error\u001b[0m                                  Traceback (most recent call last)",
      "\u001b[1;32m<timed exec>\u001b[0m in \u001b[0;36m<module>\u001b[1;34m\u001b[0m\n",
      "\u001b[1;32mD:\\Ram\\PCAL\\Data Science\\Projects\\Trading\\Oanda_Trading\\utils\\tools.py\u001b[0m in \u001b[0;36mget_min_trans_num\u001b[1;34m(instrument, accountID, iter_num, pip_gap, pip_size, api)\u001b[0m\n\u001b[0;32m    154\u001b[0m \u001b[1;33m\u001b[0m\u001b[0m\n\u001b[0;32m    155\u001b[0m \u001b[1;33m\u001b[0m\u001b[0m\n\u001b[1;32m--> 156\u001b[1;33m     \u001b[1;32mfor\u001b[0m \u001b[0mi\u001b[0m\u001b[1;33m,\u001b[0m \u001b[0mresp\u001b[0m \u001b[1;32min\u001b[0m \u001b[0mtqdm\u001b[0m\u001b[1;33m(\u001b[0m\u001b[0menumerate\u001b[0m\u001b[1;33m(\u001b[0m\u001b[0mrv\u001b[0m\u001b[1;33m)\u001b[0m\u001b[1;33m)\u001b[0m\u001b[1;33m:\u001b[0m\u001b[1;33m\u001b[0m\u001b[0m\n\u001b[0m\u001b[0;32m    157\u001b[0m         \u001b[0mresp_type\u001b[0m \u001b[1;33m=\u001b[0m \u001b[0mresp\u001b[0m\u001b[1;33m[\u001b[0m\u001b[1;34m'type'\u001b[0m\u001b[1;33m]\u001b[0m\u001b[1;33m\u001b[0m\u001b[0m\n\u001b[0;32m    158\u001b[0m         \u001b[1;32mif\u001b[0m \u001b[0mresp_type\u001b[0m \u001b[1;33m==\u001b[0m \u001b[1;34m'HEARTBEAT'\u001b[0m\u001b[1;33m:\u001b[0m \u001b[1;31m# Heart beat response to keep the api connection alive (Avoid timeout)\u001b[0m\u001b[1;33m\u001b[0m\u001b[0m\n",
      "\u001b[1;32md:\\ram\\pcal\\data science\\projects\\trading\\oanda_trading\\tradenv\\lib\\site-packages\\tqdm\\std.py\u001b[0m in \u001b[0;36m__iter__\u001b[1;34m(self)\u001b[0m\n\u001b[0;32m   1127\u001b[0m \u001b[1;33m\u001b[0m\u001b[0m\n\u001b[0;32m   1128\u001b[0m         \u001b[1;32mtry\u001b[0m\u001b[1;33m:\u001b[0m\u001b[1;33m\u001b[0m\u001b[0m\n\u001b[1;32m-> 1129\u001b[1;33m             \u001b[1;32mfor\u001b[0m \u001b[0mobj\u001b[0m \u001b[1;32min\u001b[0m \u001b[0miterable\u001b[0m\u001b[1;33m:\u001b[0m\u001b[1;33m\u001b[0m\u001b[0m\n\u001b[0m\u001b[0;32m   1130\u001b[0m                 \u001b[1;32myield\u001b[0m \u001b[0mobj\u001b[0m\u001b[1;33m\u001b[0m\u001b[0m\n\u001b[0;32m   1131\u001b[0m                 \u001b[1;31m# Update and possibly print the progressbar.\u001b[0m\u001b[1;33m\u001b[0m\u001b[1;33m\u001b[0m\u001b[0m\n",
      "\u001b[1;32md:\\ram\\pcal\\data science\\projects\\trading\\oanda_trading\\tradenv\\lib\\site-packages\\oandapyV20\\oandapyV20.py\u001b[0m in \u001b[0;36m__stream_request\u001b[1;34m(self, method, url, request_args, headers)\u001b[0m\n\u001b[0;32m    253\u001b[0m         \u001b[0mheaders\u001b[0m \u001b[1;33m=\u001b[0m \u001b[0mheaders\u001b[0m \u001b[1;32mif\u001b[0m \u001b[0mheaders\u001b[0m \u001b[1;32melse\u001b[0m \u001b[1;33m{\u001b[0m\u001b[1;33m}\u001b[0m\u001b[1;33m\u001b[0m\u001b[0m\n\u001b[0;32m    254\u001b[0m         response = self.__request(method, url, request_args,\n\u001b[1;32m--> 255\u001b[1;33m                                   headers=headers, stream=True)\n\u001b[0m\u001b[0;32m    256\u001b[0m         \u001b[0mlines\u001b[0m \u001b[1;33m=\u001b[0m \u001b[0mresponse\u001b[0m\u001b[1;33m.\u001b[0m\u001b[0miter_lines\u001b[0m\u001b[1;33m(\u001b[0m\u001b[0mITER_LINES_CHUNKSIZE\u001b[0m\u001b[1;33m)\u001b[0m\u001b[1;33m\u001b[0m\u001b[0m\n\u001b[0;32m    257\u001b[0m         \u001b[1;32mfor\u001b[0m \u001b[0mline\u001b[0m \u001b[1;32min\u001b[0m \u001b[0mlines\u001b[0m\u001b[1;33m:\u001b[0m\u001b[1;33m\u001b[0m\u001b[0m\n",
      "\u001b[1;32md:\\ram\\pcal\\data science\\projects\\trading\\oanda_trading\\tradenv\\lib\\site-packages\\oandapyV20\\oandapyV20.py\u001b[0m in \u001b[0;36m__request\u001b[1;34m(self, method, url, request_args, headers, stream)\u001b[0m\n\u001b[0;32m    241\u001b[0m                          response.content.decode('utf-8'))\n\u001b[0;32m    242\u001b[0m             raise V20Error(response.status_code,\n\u001b[1;32m--> 243\u001b[1;33m                            response.content.decode('utf-8'))\n\u001b[0m\u001b[0;32m    244\u001b[0m         \u001b[1;32mreturn\u001b[0m \u001b[0mresponse\u001b[0m\u001b[1;33m\u001b[0m\u001b[0m\n\u001b[0;32m    245\u001b[0m \u001b[1;33m\u001b[0m\u001b[0m\n",
      "\u001b[1;31mV20Error\u001b[0m: <!DOCTYPE html>\n<!--[if lt IE 7]> <html class=\"no-js ie6 oldie\" lang=\"en-US\"> <![endif]-->\n<!--[if IE 7]>    <html class=\"no-js ie7 oldie\" lang=\"en-US\"> <![endif]-->\n<!--[if IE 8]>    <html class=\"no-js ie8 oldie\" lang=\"en-US\"> <![endif]-->\n<!--[if gt IE 8]><!--> <html class=\"no-js\" lang=\"en-US\"> <!--<![endif]-->\n<head>\n<meta http-equiv=\"refresh\" content=\"0\">\n\n<title>stream-fxpractice.oanda.com | 525: SSL handshake failed</title>\n<meta charset=\"UTF-8\" />\n<meta http-equiv=\"Content-Type\" content=\"text/html; charset=UTF-8\" />\n<meta http-equiv=\"X-UA-Compatible\" content=\"IE=Edge,chrome=1\" />\n<meta name=\"robots\" content=\"noindex, nofollow\" />\n<meta name=\"viewport\" content=\"width=device-width,initial-scale=1\" />\n<link rel=\"stylesheet\" id=\"cf_styles-css\" href=\"/cdn-cgi/styles/cf.errors.css\" type=\"text/css\" media=\"screen,projection\" />\n<!--[if lt IE 9]><link rel=\"stylesheet\" id='cf_styles-ie-css' href=\"/cdn-cgi/styles/cf.errors.ie.css\" type=\"text/css\" media=\"screen,projection\" /><![endif]-->\n<style type=\"text/css\">body{margin:0;padding:0}</style>\n\n\n\n\n</head>\n<body>\n<div id=\"cf-wrapper\">\n\n    \n\n    <div id=\"cf-error-details\" class=\"cf-error-details-wrapper\">\n        <div class=\"cf-wrapper cf-error-overview\">\n            <h1>\n              \n              <span class=\"cf-error-type\">Error</span>\n              <span class=\"cf-error-code\">525</span>\n              <small class=\"heading-ray-id\">Ray ID: 5a737dac4b450000 &bull; 2020-06-22 05:15:30 UTC</small>\n            </h1>\n            <h2 class=\"cf-subheadline\">SSL handshake failed</h2>\n        </div><!-- /.error-overview -->\n        \n        <div class=\"cf-section cf-highlight cf-status-display\">\n            <div class=\"cf-wrapper\">\n                <div class=\"cf-columns cols-3\">\n                  \n<div id=\"cf-browser-status\" class=\"cf-column cf-status-item cf-browser-status \">\n  <div class=\"cf-icon-error-container\">\n    <i class=\"cf-icon cf-icon-browser\"></i>\n    <i class=\"cf-icon-status cf-icon-ok\"></i>\n  </div>\n  <span class=\"cf-status-desc\">You</span>\n  <h3 class=\"cf-status-name\">Browser</h3>\n  <span class=\"cf-status-label\">Working</span>\n</div>\n\n<div id=\"cf-cloudflare-status\" class=\"cf-column cf-status-item cf-cloudflare-status \">\n  <div class=\"cf-icon-error-container\">\n    <i class=\"cf-icon cf-icon-cloud\"></i>\n    <i class=\"cf-icon-status cf-icon-ok\"></i>\n  </div>\n  <span class=\"cf-status-desc\">Singapore</span>\n  <h3 class=\"cf-status-name\">Cloudflare</h3>\n  <span class=\"cf-status-label\">Working</span>\n</div>\n\n<div id=\"cf-host-status\" class=\"cf-column cf-status-item cf-host-status cf-error-source\">\n  <div class=\"cf-icon-error-container\">\n    <i class=\"cf-icon cf-icon-server\"></i>\n    <i class=\"cf-icon-status cf-icon-error\"></i>\n  </div>\n  <span class=\"cf-status-desc\">stream-fxpractice.oanda.com</span>\n  <h3 class=\"cf-status-name\">Host</h3>\n  <span class=\"cf-status-label\">Error</span>\n</div>\n\n                </div>\n              \n            </div>\n        </div><!-- /.status-display -->\n\n        <div class=\"cf-section cf-wrapper\">\n            <div class=\"cf-columns two\">\n                <div class=\"cf-column\">\n                    <h2>What happened?</h2>\n                    <p>Cloudflare is unable to establish an SSL connection to the origin server.</p>\n                </div>\n              \n                <div class=\"cf-column\">\n                    <h2>What can I do?</h2>\n                          <h5>If you're a visitor of this website:</h5>\n      <p>Please try again in a few minutes.</p>\n\n      <h5>If you're the owner of this website:</h5>\n      <p><span>It appears that the SSL configuration used is not compatible with Cloudflare. This could happen for a several reasons, including no shared cipher suites.</span> <a href=\"https://support.cloudflare.com/hc/en-us/articles/200278659\">Additional troubleshooting information here.</a></p>\n                </div>\n            </div>\n              \n        </div><!-- /.section -->\n\n        <div class=\"cf-error-footer cf-wrapper\">\n  <p>\n    <span class=\"cf-footer-item\">Cloudflare Ray ID: <strong>5a737dac4b450000</strong></span>\n    <span class=\"cf-footer-separator\">&bull;</span>\n    <span class=\"cf-footer-item\"><span>Your IP</span>: 2406:3003:2060:2609:bc64:6478:e692:d699</span>\n    <span class=\"cf-footer-separator\">&bull;</span>\n    <span class=\"cf-footer-item\"><span>Performance &amp; security by</span> <a href=\"https://www.cloudflare.com/5xx-error-landing?utm_source=error_footer\" id=\"brand_link\" target=\"_blank\">Cloudflare</a></span>\n    \n  </p>\n</div><!-- /.error-footer -->\n\n\n    </div><!-- /#cf-error-details -->\n</div><!-- /#cf-wrapper -->\n</body>\n</html>\n\n"
     ]
    }
   ],
   "source": [
    "%%time\n",
    "num = get_min_trans_num(instrument, accountID, iter_num, pip_gap, pip_size, api)\n",
    "dir_min_trans_num_long = round((num * dir_min_trans_multiplier_long),0)\n",
    "dir_min_trans_num_short = round((num * dir_min_trans_multiplier_short),0)\n",
    "dir_min_trans_num = dir_min_trans_num_long\n",
    "\n",
    "run_min_trans_num = round((num * run_min_trans_multiplier),0)\n",
    "\n",
    "run_flag = True\n",
    "\n",
    "for i in range(num_of_bets):    \n",
    "    \n",
    "    print(f'-------------------------------Iteration {i+1}-------------------------------')\n",
    "    if run_flag:\n",
    "        direction, df_reached_targets, tick_list = run_direction_engine(accountID, \n",
    "                                                                        instrument, \n",
    "                                                                        dir_min_trans_num, \n",
    "                                                                        target_num, \n",
    "                                                                        min_count, \n",
    "                                                                        pip_size, \n",
    "                                                                        pip_gap, \n",
    "                                                                        min_count_mulitplier)    \n",
    "        print('df_reached_targets : ',df_reached_targets)\n",
    "    \n",
    "    \n",
    "    \n",
    "        \n",
    "    if direction == 'no_direction':\n",
    "        print('no_direction : Run again')\n",
    "        run_flag = True\n",
    "        dir_min_trans_num = dir_min_trans_num_long\n",
    "        output_df = get_output_data('', '', '', '', '', '', '',dirc = False) \n",
    "        \n",
    "    \n",
    "    \n",
    "    \n",
    "    \n",
    "    else:\n",
    "        print(f'Direction : {direction}')\n",
    "        make_order_log, close_order_log, iters, close_reason = run_order_engine(api, \n",
    "                                                                                accountID, \n",
    "                                                                                instrument, \n",
    "                                                                                direction, \n",
    "                                                                                profit_target_num, \n",
    "                                                                                loss_limit_num, \n",
    "                                                                                price_allowed_buffer, \n",
    "                                                                                run_min_trans_num, \n",
    "                                                                                pip_size, \n",
    "                                                                                loss_limits)\n",
    "        \n",
    "        output_df = get_output_data(api, \n",
    "                                    accountID, \n",
    "                                    instrument, \n",
    "                                    make_order_log, \n",
    "                                    close_order_log, \n",
    "                                    iters, \n",
    "                                    close_reason, \n",
    "                                    dirc = True)\n",
    "        \n",
    "        pl_pip = float(output_df['profit_pips'])\n",
    "        iter_limit = dir_min_trans_num * dir_recalc_multiplier\n",
    "        print(f'pl:{pl_pip} iter_limit:{iter_limit}')\n",
    "\n",
    "        \n",
    "\n",
    "        if float(pl_pip) >= 0 and iters < iter_limit:\n",
    "            run_flag = True\n",
    "            dir_min_trans_num = dir_min_trans_num_short\n",
    "            \n",
    "            \n",
    "        else:\n",
    "            run_flag = True\n",
    "            dir_min_trans_num = dir_min_trans_num_long\n",
    "\n",
    "    output_df.to_csv('data/machine_use/output_log_machine_use.csv', mode='a', header=False, index = False)"
   ]
  },
  {
   "cell_type": "markdown",
   "metadata": {},
   "source": [
    "## Output copy"
   ]
  },
  {
   "cell_type": "code",
   "execution_count": 7,
   "metadata": {
    "scrolled": true
   },
   "outputs": [],
   "source": [
    "df_copy = pd.read_csv('data/machine_use/output_log_machine_use.csv')\n",
    "df_copy.to_csv('data/output_log.csv', index = False)    "
   ]
  }
 ],
 "metadata": {
  "kernelspec": {
   "display_name": "Python 3",
   "language": "python",
   "name": "python3"
  },
  "language_info": {
   "codemirror_mode": {
    "name": "ipython",
    "version": 3
   },
   "file_extension": ".py",
   "mimetype": "text/x-python",
   "name": "python",
   "nbconvert_exporter": "python",
   "pygments_lexer": "ipython3",
   "version": "3.6.6"
  }
 },
 "nbformat": 4,
 "nbformat_minor": 4
}
