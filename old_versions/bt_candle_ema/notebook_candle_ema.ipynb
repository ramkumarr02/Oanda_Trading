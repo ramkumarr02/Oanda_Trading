{
 "cells": [
  {
   "cell_type": "markdown",
   "metadata": {},
   "source": [
    "# ML Trader"
   ]
  },
  {
   "cell_type": "code",
   "execution_count": 1,
   "metadata": {
    "scrolled": true
   },
   "outputs": [],
   "source": [
    "from utils.packages import *\n",
    "from utils.variables import *\n",
    "from utils.i_o import *\n",
    "from utils.dir_slope import *\n",
    "from utils.engine import *\n",
    "from utils.loops import *\n",
    "from utils.order import *\n",
    "from utils.ml import *\n",
    "import winsound"
   ]
  },
  {
   "cell_type": "markdown",
   "metadata": {},
   "source": [
    "### Action Points\n",
    "\n",
    "1. Create Choice between Take profit and sema move close.\n",
    "    - If Sema is above slema for long position, then can we cancel take profit step\n",
    "    - can we use sema angle to decide whether to close profit or not\n",
    "    - Fix Merge issue"
   ]
  },
  {
   "cell_type": "code",
   "execution_count": 2,
   "metadata": {},
   "outputs": [
    {
     "name": "stdout",
     "output_type": "stream",
     "text": [
      "Date List Created\n",
      "Record num : 13087790\n",
      "format_tick_time : Completed\n"
     ]
    },
    {
     "name": "stderr",
     "output_type": "stream",
     "text": [
      "100%|██████████████████████████████████| 37187/37187 [00:04<00:00, 7641.80it/s]\n"
     ]
    },
    {
     "name": "stdout",
     "output_type": "stream",
     "text": [
      "get_ohlc         : completed\n",
      "Record num : 36742\n",
      "get_tick_indicators  : Completed\n",
      "encode_x_y_split    : Completed\n",
      "train_model         : Completed\n",
      "-------------------------------------\n",
      "Overall Accuracy : 0.5014287658184787\n",
      "-------------------------------------\n",
      "              precision    recall  f1-score   support\n",
      "\n",
      "       green       0.50      0.49      0.49      3630\n",
      "         red       0.51      0.51      0.51      3719\n",
      "\n",
      "    accuracy                           0.50      7349\n",
      "   macro avg       0.50      0.50      0.50      7349\n",
      "weighted avg       0.50      0.50      0.50      7349\n",
      "\n",
      "Wall time: 2min 32s\n"
     ]
    }
   ],
   "source": [
    "%%time\n",
    "data = run_engine(data)"
   ]
  },
  {
   "cell_type": "code",
   "execution_count": 3,
   "metadata": {},
   "outputs": [
    {
     "ename": "SystemExit",
     "evalue": "",
     "output_type": "error",
     "traceback": [
      "An exception has occurred, use %tb to see the full traceback.\n",
      "\u001b[1;31mSystemExit\u001b[0m\n"
     ]
    }
   ],
   "source": [
    "sys.exit()"
   ]
  },
  {
   "cell_type": "code",
   "execution_count": 16,
   "metadata": {},
   "outputs": [
    {
     "data": {
      "text/plain": [
       "array([1, 1, 1, ..., 0, 0, 0])"
      ]
     },
     "execution_count": 16,
     "metadata": {},
     "output_type": "execute_result"
    }
   ],
   "source": [
    "data[\"predictions\"]"
   ]
  },
  {
   "cell_type": "code",
   "execution_count": 17,
   "metadata": {},
   "outputs": [
    {
     "data": {
      "text/plain": [
       "array([1, 0, 1, ..., 1, 0, 0])"
      ]
     },
     "execution_count": 17,
     "metadata": {},
     "output_type": "execute_result"
    }
   ],
   "source": [
    "data[\"valid_y\"]"
   ]
  },
  {
   "cell_type": "code",
   "execution_count": 18,
   "metadata": {},
   "outputs": [
    {
     "data": {
      "text/plain": [
       "{0: 'green', 1: 'red'}"
      ]
     },
     "execution_count": 18,
     "metadata": {},
     "output_type": "execute_result"
    }
   ],
   "source": [
    "data[\"y_map\"]"
   ]
  },
  {
   "cell_type": "code",
   "execution_count": null,
   "metadata": {},
   "outputs": [],
   "source": [
    "profile = ProfileReport(data['df_ohlc'])\n",
    "profile.to_file(output_file=\"data/output.html\")\n",
    "send_telegram_message(f'Report created')"
   ]
  },
  {
   "cell_type": "code",
   "execution_count": 15,
   "metadata": {},
   "outputs": [
    {
     "data": {
      "text/html": [
       "<div>\n",
       "<style scoped>\n",
       "    .dataframe tbody tr th:only-of-type {\n",
       "        vertical-align: middle;\n",
       "    }\n",
       "\n",
       "    .dataframe tbody tr th {\n",
       "        vertical-align: top;\n",
       "    }\n",
       "\n",
       "    .dataframe thead th {\n",
       "        text-align: right;\n",
       "    }\n",
       "</style>\n",
       "<table border=\"1\" class=\"dataframe\">\n",
       "  <thead>\n",
       "    <tr style=\"text-align: right;\">\n",
       "      <th></th>\n",
       "      <th>dir</th>\n",
       "      <th>weekday</th>\n",
       "      <th>hour</th>\n",
       "      <th>min</th>\n",
       "      <th>lema</th>\n",
       "      <th>sema</th>\n",
       "      <th>BBand_upper</th>\n",
       "      <th>BBand_middle</th>\n",
       "      <th>BBand_lower</th>\n",
       "      <th>green_candle</th>\n",
       "      <th>red_candle</th>\n",
       "    </tr>\n",
       "  </thead>\n",
       "  <tbody>\n",
       "    <tr>\n",
       "      <th>0</th>\n",
       "      <td>green</td>\n",
       "      <td>0</td>\n",
       "      <td>3</td>\n",
       "      <td>15</td>\n",
       "      <td>1.135856</td>\n",
       "      <td>1.134930</td>\n",
       "      <td>1.135950</td>\n",
       "      <td>1.134930</td>\n",
       "      <td>1.133911</td>\n",
       "      <td>0</td>\n",
       "      <td>1</td>\n",
       "    </tr>\n",
       "    <tr>\n",
       "      <th>1</th>\n",
       "      <td>green</td>\n",
       "      <td>0</td>\n",
       "      <td>3</td>\n",
       "      <td>20</td>\n",
       "      <td>1.135797</td>\n",
       "      <td>1.134875</td>\n",
       "      <td>1.135834</td>\n",
       "      <td>1.134860</td>\n",
       "      <td>1.133886</td>\n",
       "      <td>1</td>\n",
       "      <td>0</td>\n",
       "    </tr>\n",
       "    <tr>\n",
       "      <th>2</th>\n",
       "      <td>red</td>\n",
       "      <td>0</td>\n",
       "      <td>3</td>\n",
       "      <td>25</td>\n",
       "      <td>1.135743</td>\n",
       "      <td>1.134830</td>\n",
       "      <td>1.135749</td>\n",
       "      <td>1.134804</td>\n",
       "      <td>1.133860</td>\n",
       "      <td>1</td>\n",
       "      <td>0</td>\n",
       "    </tr>\n",
       "    <tr>\n",
       "      <th>3</th>\n",
       "      <td>red</td>\n",
       "      <td>0</td>\n",
       "      <td>3</td>\n",
       "      <td>30</td>\n",
       "      <td>1.135687</td>\n",
       "      <td>1.134783</td>\n",
       "      <td>1.135567</td>\n",
       "      <td>1.134730</td>\n",
       "      <td>1.133892</td>\n",
       "      <td>0</td>\n",
       "      <td>1</td>\n",
       "    </tr>\n",
       "    <tr>\n",
       "      <th>4</th>\n",
       "      <td>green</td>\n",
       "      <td>0</td>\n",
       "      <td>3</td>\n",
       "      <td>35</td>\n",
       "      <td>1.135632</td>\n",
       "      <td>1.134734</td>\n",
       "      <td>1.135330</td>\n",
       "      <td>1.134650</td>\n",
       "      <td>1.133970</td>\n",
       "      <td>0</td>\n",
       "      <td>1</td>\n",
       "    </tr>\n",
       "    <tr>\n",
       "      <th>5</th>\n",
       "      <td>green</td>\n",
       "      <td>0</td>\n",
       "      <td>3</td>\n",
       "      <td>40</td>\n",
       "      <td>1.135593</td>\n",
       "      <td>1.134726</td>\n",
       "      <td>1.135141</td>\n",
       "      <td>1.134604</td>\n",
       "      <td>1.134068</td>\n",
       "      <td>1</td>\n",
       "      <td>0</td>\n",
       "    </tr>\n",
       "    <tr>\n",
       "      <th>6</th>\n",
       "      <td>red</td>\n",
       "      <td>0</td>\n",
       "      <td>3</td>\n",
       "      <td>45</td>\n",
       "      <td>1.135567</td>\n",
       "      <td>1.134744</td>\n",
       "      <td>1.135145</td>\n",
       "      <td>1.134605</td>\n",
       "      <td>1.134066</td>\n",
       "      <td>1</td>\n",
       "      <td>0</td>\n",
       "    </tr>\n",
       "    <tr>\n",
       "      <th>7</th>\n",
       "      <td>red</td>\n",
       "      <td>0</td>\n",
       "      <td>3</td>\n",
       "      <td>50</td>\n",
       "      <td>1.135542</td>\n",
       "      <td>1.134762</td>\n",
       "      <td>1.135137</td>\n",
       "      <td>1.134603</td>\n",
       "      <td>1.134070</td>\n",
       "      <td>0</td>\n",
       "      <td>1</td>\n",
       "    </tr>\n",
       "    <tr>\n",
       "      <th>8</th>\n",
       "      <td>red</td>\n",
       "      <td>0</td>\n",
       "      <td>3</td>\n",
       "      <td>55</td>\n",
       "      <td>1.135514</td>\n",
       "      <td>1.134768</td>\n",
       "      <td>1.135091</td>\n",
       "      <td>1.134591</td>\n",
       "      <td>1.134091</td>\n",
       "      <td>0</td>\n",
       "      <td>1</td>\n",
       "    </tr>\n",
       "    <tr>\n",
       "      <th>9</th>\n",
       "      <td>green</td>\n",
       "      <td>0</td>\n",
       "      <td>4</td>\n",
       "      <td>0</td>\n",
       "      <td>1.135476</td>\n",
       "      <td>1.134748</td>\n",
       "      <td>1.135061</td>\n",
       "      <td>1.134576</td>\n",
       "      <td>1.134091</td>\n",
       "      <td>0</td>\n",
       "      <td>1</td>\n",
       "    </tr>\n",
       "  </tbody>\n",
       "</table>\n",
       "</div>"
      ],
      "text/plain": [
       "     dir  weekday  hour  min      lema      sema  BBand_upper  BBand_middle  \\\n",
       "0  green        0     3   15  1.135856  1.134930     1.135950      1.134930   \n",
       "1  green        0     3   20  1.135797  1.134875     1.135834      1.134860   \n",
       "2    red        0     3   25  1.135743  1.134830     1.135749      1.134804   \n",
       "3    red        0     3   30  1.135687  1.134783     1.135567      1.134730   \n",
       "4  green        0     3   35  1.135632  1.134734     1.135330      1.134650   \n",
       "5  green        0     3   40  1.135593  1.134726     1.135141      1.134604   \n",
       "6    red        0     3   45  1.135567  1.134744     1.135145      1.134605   \n",
       "7    red        0     3   50  1.135542  1.134762     1.135137      1.134603   \n",
       "8    red        0     3   55  1.135514  1.134768     1.135091      1.134591   \n",
       "9  green        0     4    0  1.135476  1.134748     1.135061      1.134576   \n",
       "\n",
       "   BBand_lower  green_candle  red_candle  \n",
       "0     1.133911             0           1  \n",
       "1     1.133886             1           0  \n",
       "2     1.133860             1           0  \n",
       "3     1.133892             0           1  \n",
       "4     1.133970             0           1  \n",
       "5     1.134068             1           0  \n",
       "6     1.134066             1           0  \n",
       "7     1.134070             0           1  \n",
       "8     1.134091             0           1  \n",
       "9     1.134091             0           1  "
      ]
     },
     "execution_count": 15,
     "metadata": {},
     "output_type": "execute_result"
    }
   ],
   "source": [
    "data['df_ohlc'].iloc[:10,8:19]"
   ]
  },
  {
   "cell_type": "code",
   "execution_count": 4,
   "metadata": {},
   "outputs": [
    {
     "data": {
      "text/html": [
       "<div>\n",
       "<style scoped>\n",
       "    .dataframe tbody tr th:only-of-type {\n",
       "        vertical-align: middle;\n",
       "    }\n",
       "\n",
       "    .dataframe tbody tr th {\n",
       "        vertical-align: top;\n",
       "    }\n",
       "\n",
       "    .dataframe thead th {\n",
       "        text-align: right;\n",
       "    }\n",
       "</style>\n",
       "<table border=\"1\" class=\"dataframe\">\n",
       "  <thead>\n",
       "    <tr style=\"text-align: right;\">\n",
       "      <th></th>\n",
       "      <th>DateTime_frmt</th>\n",
       "      <th>open</th>\n",
       "      <th>high</th>\n",
       "      <th>low</th>\n",
       "      <th>close</th>\n",
       "      <th>Volume</th>\n",
       "      <th>num_ticks</th>\n",
       "      <th>candle_size</th>\n",
       "      <th>dir</th>\n",
       "      <th>weekday</th>\n",
       "      <th>...</th>\n",
       "      <th>red_candle</th>\n",
       "      <th>lower_touch</th>\n",
       "      <th>middle_touch</th>\n",
       "      <th>high_touch</th>\n",
       "      <th>HT_trendline</th>\n",
       "      <th>ADX</th>\n",
       "      <th>APO</th>\n",
       "      <th>cdl_hammer</th>\n",
       "      <th>cdl_shootingstar</th>\n",
       "      <th>cdl_engulfing</th>\n",
       "    </tr>\n",
       "  </thead>\n",
       "  <tbody>\n",
       "    <tr>\n",
       "      <th>36737</th>\n",
       "      <td>2022-06-30 23:30:00</td>\n",
       "      <td>1.047720</td>\n",
       "      <td>1.047720</td>\n",
       "      <td>1.047590</td>\n",
       "      <td>1.047665</td>\n",
       "      <td>115</td>\n",
       "      <td>68</td>\n",
       "      <td>0.000130</td>\n",
       "      <td>red</td>\n",
       "      <td>3</td>\n",
       "      <td>...</td>\n",
       "      <td>1</td>\n",
       "      <td>0</td>\n",
       "      <td>0</td>\n",
       "      <td>0</td>\n",
       "      <td>1.047814</td>\n",
       "      <td>18.143937</td>\n",
       "      <td>-0.000260</td>\n",
       "      <td>100</td>\n",
       "      <td>0</td>\n",
       "      <td>0</td>\n",
       "    </tr>\n",
       "    <tr>\n",
       "      <th>36738</th>\n",
       "      <td>2022-06-30 23:35:00</td>\n",
       "      <td>1.047700</td>\n",
       "      <td>1.047810</td>\n",
       "      <td>1.047510</td>\n",
       "      <td>1.047530</td>\n",
       "      <td>284</td>\n",
       "      <td>181</td>\n",
       "      <td>0.000300</td>\n",
       "      <td>green</td>\n",
       "      <td>3</td>\n",
       "      <td>...</td>\n",
       "      <td>1</td>\n",
       "      <td>0</td>\n",
       "      <td>1</td>\n",
       "      <td>0</td>\n",
       "      <td>1.047773</td>\n",
       "      <td>17.891910</td>\n",
       "      <td>-0.000290</td>\n",
       "      <td>0</td>\n",
       "      <td>0</td>\n",
       "      <td>0</td>\n",
       "    </tr>\n",
       "    <tr>\n",
       "      <th>36739</th>\n",
       "      <td>2022-06-30 23:40:00</td>\n",
       "      <td>1.047535</td>\n",
       "      <td>1.047665</td>\n",
       "      <td>1.047495</td>\n",
       "      <td>1.047615</td>\n",
       "      <td>131</td>\n",
       "      <td>117</td>\n",
       "      <td>0.000170</td>\n",
       "      <td>green</td>\n",
       "      <td>3</td>\n",
       "      <td>...</td>\n",
       "      <td>0</td>\n",
       "      <td>0</td>\n",
       "      <td>0</td>\n",
       "      <td>0</td>\n",
       "      <td>1.047740</td>\n",
       "      <td>17.686338</td>\n",
       "      <td>-0.000306</td>\n",
       "      <td>0</td>\n",
       "      <td>0</td>\n",
       "      <td>0</td>\n",
       "    </tr>\n",
       "    <tr>\n",
       "      <th>36740</th>\n",
       "      <td>2022-06-30 23:45:00</td>\n",
       "      <td>1.047630</td>\n",
       "      <td>1.047885</td>\n",
       "      <td>1.047630</td>\n",
       "      <td>1.047795</td>\n",
       "      <td>132</td>\n",
       "      <td>109</td>\n",
       "      <td>0.000255</td>\n",
       "      <td>green</td>\n",
       "      <td>3</td>\n",
       "      <td>...</td>\n",
       "      <td>0</td>\n",
       "      <td>0</td>\n",
       "      <td>1</td>\n",
       "      <td>0</td>\n",
       "      <td>1.047715</td>\n",
       "      <td>16.880167</td>\n",
       "      <td>-0.000305</td>\n",
       "      <td>0</td>\n",
       "      <td>0</td>\n",
       "      <td>0</td>\n",
       "    </tr>\n",
       "    <tr>\n",
       "      <th>36741</th>\n",
       "      <td>2022-06-30 23:50:00</td>\n",
       "      <td>1.047800</td>\n",
       "      <td>1.047950</td>\n",
       "      <td>1.047780</td>\n",
       "      <td>1.047870</td>\n",
       "      <td>161</td>\n",
       "      <td>110</td>\n",
       "      <td>0.000170</td>\n",
       "      <td>green</td>\n",
       "      <td>3</td>\n",
       "      <td>...</td>\n",
       "      <td>0</td>\n",
       "      <td>0</td>\n",
       "      <td>0</td>\n",
       "      <td>0</td>\n",
       "      <td>1.047701</td>\n",
       "      <td>16.122117</td>\n",
       "      <td>-0.000288</td>\n",
       "      <td>0</td>\n",
       "      <td>0</td>\n",
       "      <td>0</td>\n",
       "    </tr>\n",
       "  </tbody>\n",
       "</table>\n",
       "<p>5 rows × 28 columns</p>\n",
       "</div>"
      ],
      "text/plain": [
       "            DateTime_frmt      open      high       low     close  Volume  \\\n",
       "36737 2022-06-30 23:30:00  1.047720  1.047720  1.047590  1.047665     115   \n",
       "36738 2022-06-30 23:35:00  1.047700  1.047810  1.047510  1.047530     284   \n",
       "36739 2022-06-30 23:40:00  1.047535  1.047665  1.047495  1.047615     131   \n",
       "36740 2022-06-30 23:45:00  1.047630  1.047885  1.047630  1.047795     132   \n",
       "36741 2022-06-30 23:50:00  1.047800  1.047950  1.047780  1.047870     161   \n",
       "\n",
       "       num_ticks  candle_size    dir  weekday  ...  red_candle  lower_touch  \\\n",
       "36737         68     0.000130    red        3  ...           1            0   \n",
       "36738        181     0.000300  green        3  ...           1            0   \n",
       "36739        117     0.000170  green        3  ...           0            0   \n",
       "36740        109     0.000255  green        3  ...           0            0   \n",
       "36741        110     0.000170  green        3  ...           0            0   \n",
       "\n",
       "       middle_touch  high_touch  HT_trendline        ADX       APO  \\\n",
       "36737             0           0      1.047814  18.143937 -0.000260   \n",
       "36738             1           0      1.047773  17.891910 -0.000290   \n",
       "36739             0           0      1.047740  17.686338 -0.000306   \n",
       "36740             1           0      1.047715  16.880167 -0.000305   \n",
       "36741             0           0      1.047701  16.122117 -0.000288   \n",
       "\n",
       "       cdl_hammer  cdl_shootingstar  cdl_engulfing  \n",
       "36737         100                 0              0  \n",
       "36738           0                 0              0  \n",
       "36739           0                 0              0  \n",
       "36740           0                 0              0  \n",
       "36741           0                 0              0  \n",
       "\n",
       "[5 rows x 28 columns]"
      ]
     },
     "execution_count": 4,
     "metadata": {},
     "output_type": "execute_result"
    }
   ],
   "source": [
    "data['df_ohlc'].tail()"
   ]
  },
  {
   "cell_type": "code",
   "execution_count": null,
   "metadata": {},
   "outputs": [],
   "source": [
    "cols = ['DateTime_frmt', 'open', 'high', 'low', 'close', 'Volume','dir','lema', 'sema','BBand_upper', 'BBand_middle', 'BBand_lower']\n",
    "\n",
    "x= data['df_ohlc'][data['df_ohlc']['DateTime_frmt'] > '2022-06-01 05:44:00']\n",
    "x[cols]"
   ]
  },
  {
   "cell_type": "code",
   "execution_count": 20,
   "metadata": {},
   "outputs": [],
   "source": [
    "# Get Candle Dir --------------------------------------------------------\n",
    "data['df_ohlc'].loc[data['df_ohlc']['dir'] == 'up', 'up'] = data['df_ohlc']['close']    \n",
    "data['df_ohlc'].loc[data['df_ohlc']['dir'] == 'down', 'down'] = data['df_ohlc']['close']    \n",
    "\n",
    "data['df_ohlc']['cdl_hammer'] = data['df_ohlc']['cdl_hammer'].replace({0:np.nan})\n",
    "data['df_ohlc']['cdl_shootingstar'] = data['df_ohlc']['cdl_shootingstar'].replace({0:np.nan})\n",
    "data['df_ohlc']['cdl_hammer'] = np.where(data['df_ohlc']['cdl_hammer'] == 100, data['df_ohlc']['close'], data['df_ohlc']['cdl_hammer'])\n",
    "data['df_ohlc']['cdl_shootingstar'] = np.where(data['df_ohlc']['cdl_shootingstar'] == -100, data['df_ohlc']['close'], data['df_ohlc']['cdl_shootingstar'])\n",
    "\n",
    "data['df_ohlc']['cdl_engulfing_up'] = np.nan\n",
    "data['df_ohlc']['cdl_engulfing_down'] = np.nan\n",
    "data['df_ohlc']['cdl_engulfing_up'] = data['df_ohlc']['cdl_engulfing_up'].replace({0:np.nan})\n",
    "data['df_ohlc']['cdl_engulfing_down'] = data['df_ohlc']['cdl_engulfing_down'].replace({0:np.nan})\n",
    "data['df_ohlc']['cdl_engulfing_up'] = np.where(data['df_ohlc']['cdl_engulfing_up'] == 100, data['df_ohlc']['close'], data['df_ohlc']['cdl_engulfing_up'])\n",
    "data['df_ohlc']['cdl_engulfing_down'] = np.where(data['df_ohlc']['cdl_engulfing_down'] == -100, data['df_ohlc']['close'], data['df_ohlc']['cdl_engulfing_down'])"
   ]
  },
  {
   "cell_type": "code",
   "execution_count": 22,
   "metadata": {},
   "outputs": [],
   "source": [
    "data[\"plot\"] = True\n",
    "data['plot_type'] = 'file'\n",
    "data['reduce_plot'] = True\n",
    "data['plot_start']  = '2022-06-2'\n",
    "data['plot_stop']   = '2022-06-3'\n",
    "# data['things_to_plot'] = ['tick', 'ema', 'BBands', 'dots']\n",
    "# data['things_to_plot'] = ['ema', 'BBands', 'dots', 'indicators']\n",
    "data['things_to_plot'] = ['ema', 'BBands', 'indicators']\n",
    "plot_graph(data)"
   ]
  },
  {
   "cell_type": "code",
   "execution_count": null,
   "metadata": {
    "scrolled": true
   },
   "outputs": [],
   "source": [
    "del data['df_ohlc']['up']\n",
    "del data['df_ohlc']['down']"
   ]
  },
  {
   "cell_type": "markdown",
   "metadata": {
    "scrolled": true
   },
   "source": [
    "generate_result_report(data)"
   ]
  }
 ],
 "metadata": {
  "kernelspec": {
   "display_name": "Python 3",
   "language": "python",
   "name": "python3"
  },
  "language_info": {
   "codemirror_mode": {
    "name": "ipython",
    "version": 3
   },
   "file_extension": ".py",
   "mimetype": "text/x-python",
   "name": "python",
   "nbconvert_exporter": "python",
   "pygments_lexer": "ipython3",
   "version": "3.6.6"
  }
 },
 "nbformat": 4,
 "nbformat_minor": 4
}
