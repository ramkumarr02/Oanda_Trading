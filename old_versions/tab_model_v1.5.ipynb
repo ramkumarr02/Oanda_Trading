{
 "cells": [
  {
   "cell_type": "code",
   "execution_count": 1,
   "metadata": {
    "scrolled": true
   },
   "outputs": [
    {
     "name": "stdout",
     "output_type": "stream",
     "text": [
      " Found and Using 1 GPU\n"
     ]
    }
   ],
   "source": [
    "import numpy as np\n",
    "import pandas as pd\n",
    "from tqdm import tqdm\n",
    "import winsound\n",
    "import datetime as dt\n",
    "\n",
    "import warnings\n",
    "warnings.filterwarnings('ignore')\n",
    "\n",
    "from sklearn.model_selection import train_test_split\n",
    "from sklearn.preprocessing import StandardScaler, LabelEncoder, OneHotEncoder\n",
    "from sklearn.metrics import classification_report\n",
    "\n",
    "from keras.utils import np_utils\n",
    "\n",
    "import tensorflow as tf\n",
    "from tensorflow.keras.models import load_model\n",
    "from tensorflow.keras.models import Sequential\n",
    "from tensorflow.keras.layers import Activation, Dense\n",
    "from tensorflow.keras.optimizers import Adam\n",
    "from tensorflow.keras.metrics import categorical_crossentropy\n",
    "\n",
    "\n",
    "print(f\" Found and Using {len(tf.config.experimental.list_physical_devices('GPU'))} GPU\")"
   ]
  },
  {
   "cell_type": "code",
   "execution_count": 2,
   "metadata": {},
   "outputs": [],
   "source": [
    "def scale_x_encode_y(df, target_col):\n",
    "\n",
    "    x = df.loc[:, df.columns != target_col]\n",
    "    y = df[target_col]\n",
    "\n",
    "    x_scaled = StandardScaler().fit_transform(x.values)\n",
    "    \n",
    "    \n",
    "    encoder = LabelEncoder()\n",
    "    encoder.fit(y)\n",
    "    y_encoded = encoder.transform(y)\n",
    "    y_encoded = np_utils.to_categorical(y_encoded)\n",
    "    \n",
    "    y_map = dict(zip(encoder.transform(encoder.classes_),encoder.classes_))\n",
    " \n",
    "    return(x_scaled, y_encoded, y_map)"
   ]
  },
  {
   "cell_type": "code",
   "execution_count": 3,
   "metadata": {
    "scrolled": true
   },
   "outputs": [
    {
     "name": "stdout",
     "output_type": "stream",
     "text": [
      "150\n"
     ]
    },
    {
     "data": {
      "text/html": [
       "<div>\n",
       "<style scoped>\n",
       "    .dataframe tbody tr th:only-of-type {\n",
       "        vertical-align: middle;\n",
       "    }\n",
       "\n",
       "    .dataframe tbody tr th {\n",
       "        vertical-align: top;\n",
       "    }\n",
       "\n",
       "    .dataframe thead th {\n",
       "        text-align: right;\n",
       "    }\n",
       "</style>\n",
       "<table border=\"1\" class=\"dataframe\">\n",
       "  <thead>\n",
       "    <tr style=\"text-align: right;\">\n",
       "      <th></th>\n",
       "      <th>sepal_length</th>\n",
       "      <th>sepal_width</th>\n",
       "      <th>petal_length</th>\n",
       "      <th>petal_width</th>\n",
       "      <th>species</th>\n",
       "    </tr>\n",
       "  </thead>\n",
       "  <tbody>\n",
       "    <tr>\n",
       "      <th>0</th>\n",
       "      <td>5.1</td>\n",
       "      <td>3.5</td>\n",
       "      <td>1.4</td>\n",
       "      <td>0.2</td>\n",
       "      <td>Iris-setosa</td>\n",
       "    </tr>\n",
       "    <tr>\n",
       "      <th>1</th>\n",
       "      <td>4.9</td>\n",
       "      <td>3.0</td>\n",
       "      <td>1.4</td>\n",
       "      <td>0.2</td>\n",
       "      <td>Iris-setosa</td>\n",
       "    </tr>\n",
       "    <tr>\n",
       "      <th>2</th>\n",
       "      <td>4.7</td>\n",
       "      <td>3.2</td>\n",
       "      <td>1.3</td>\n",
       "      <td>0.2</td>\n",
       "      <td>Iris-setosa</td>\n",
       "    </tr>\n",
       "    <tr>\n",
       "      <th>3</th>\n",
       "      <td>4.6</td>\n",
       "      <td>3.1</td>\n",
       "      <td>1.5</td>\n",
       "      <td>0.2</td>\n",
       "      <td>Iris-setosa</td>\n",
       "    </tr>\n",
       "    <tr>\n",
       "      <th>4</th>\n",
       "      <td>5.0</td>\n",
       "      <td>3.6</td>\n",
       "      <td>1.4</td>\n",
       "      <td>0.2</td>\n",
       "      <td>Iris-setosa</td>\n",
       "    </tr>\n",
       "    <tr>\n",
       "      <th>5</th>\n",
       "      <td>5.4</td>\n",
       "      <td>3.9</td>\n",
       "      <td>1.7</td>\n",
       "      <td>0.4</td>\n",
       "      <td>Iris-setosa</td>\n",
       "    </tr>\n",
       "    <tr>\n",
       "      <th>6</th>\n",
       "      <td>4.6</td>\n",
       "      <td>3.4</td>\n",
       "      <td>1.4</td>\n",
       "      <td>0.3</td>\n",
       "      <td>Iris-setosa</td>\n",
       "    </tr>\n",
       "    <tr>\n",
       "      <th>7</th>\n",
       "      <td>5.0</td>\n",
       "      <td>3.4</td>\n",
       "      <td>1.5</td>\n",
       "      <td>0.2</td>\n",
       "      <td>Iris-setosa</td>\n",
       "    </tr>\n",
       "    <tr>\n",
       "      <th>8</th>\n",
       "      <td>4.4</td>\n",
       "      <td>2.9</td>\n",
       "      <td>1.4</td>\n",
       "      <td>0.2</td>\n",
       "      <td>Iris-setosa</td>\n",
       "    </tr>\n",
       "    <tr>\n",
       "      <th>9</th>\n",
       "      <td>4.9</td>\n",
       "      <td>3.1</td>\n",
       "      <td>1.5</td>\n",
       "      <td>0.1</td>\n",
       "      <td>Iris-setosa</td>\n",
       "    </tr>\n",
       "  </tbody>\n",
       "</table>\n",
       "</div>"
      ],
      "text/plain": [
       "   sepal_length  sepal_width  petal_length  petal_width      species\n",
       "0           5.1          3.5           1.4          0.2  Iris-setosa\n",
       "1           4.9          3.0           1.4          0.2  Iris-setosa\n",
       "2           4.7          3.2           1.3          0.2  Iris-setosa\n",
       "3           4.6          3.1           1.5          0.2  Iris-setosa\n",
       "4           5.0          3.6           1.4          0.2  Iris-setosa\n",
       "5           5.4          3.9           1.7          0.4  Iris-setosa\n",
       "6           4.6          3.4           1.4          0.3  Iris-setosa\n",
       "7           5.0          3.4           1.5          0.2  Iris-setosa\n",
       "8           4.4          2.9           1.4          0.2  Iris-setosa\n",
       "9           4.9          3.1           1.5          0.1  Iris-setosa"
      ]
     },
     "execution_count": 3,
     "metadata": {},
     "output_type": "execute_result"
    }
   ],
   "source": [
    "df = pd.read_csv('data/IRIS.csv')\n",
    "\n",
    "print(len(df))\n",
    "df.head(10)"
   ]
  },
  {
   "cell_type": "code",
   "execution_count": 4,
   "metadata": {},
   "outputs": [],
   "source": [
    "x_scaled, y_encoded, y_map = scale_x_encode_y(df, 'species')"
   ]
  },
  {
   "cell_type": "code",
   "execution_count": 5,
   "metadata": {},
   "outputs": [],
   "source": [
    "train_x, valid_x, train_y, valid_y = train_test_split(x_scaled, y_encoded,train_size = 0.8,random_state = 1)"
   ]
  },
  {
   "cell_type": "code",
   "execution_count": 6,
   "metadata": {},
   "outputs": [
    {
     "name": "stdout",
     "output_type": "stream",
     "text": [
      "Model: \"sequential\"\n",
      "_________________________________________________________________\n",
      "Layer (type)                 Output Shape              Param #   \n",
      "=================================================================\n",
      "dense (Dense)                (None, 16)                80        \n",
      "_________________________________________________________________\n",
      "dense_1 (Dense)              (None, 32)                544       \n",
      "_________________________________________________________________\n",
      "dense_2 (Dense)              (None, 3)                 99        \n",
      "=================================================================\n",
      "Total params: 723\n",
      "Trainable params: 723\n",
      "Non-trainable params: 0\n",
      "_________________________________________________________________\n"
     ]
    }
   ],
   "source": [
    "model = Sequential([\n",
    "    Dense(units = 16, activation='relu', input_shape=[len(train_x[0])]),\n",
    "    Dense(units = 32, activation='relu'),\n",
    "    Dense(units = 3, activation='softmax')\n",
    "])\n",
    "\n",
    "model.summary()"
   ]
  },
  {
   "cell_type": "code",
   "execution_count": 7,
   "metadata": {},
   "outputs": [],
   "source": [
    "model.compile(\n",
    "    loss='categorical_crossentropy',\n",
    "    optimizer=Adam(learning_rate=0.001),    \n",
    "    metrics=['accuracy'])"
   ]
  },
  {
   "cell_type": "code",
   "execution_count": 8,
   "metadata": {},
   "outputs": [],
   "source": [
    "epoch_val         = 30\n",
    "batch_size_val    = 10\n",
    "\n",
    "verbose_val       = 2\n",
    "workers_val       = -1"
   ]
  },
  {
   "cell_type": "code",
   "execution_count": 9,
   "metadata": {
    "scrolled": true
   },
   "outputs": [
    {
     "name": "stdout",
     "output_type": "stream",
     "text": [
      "Epoch 1/30\n",
      "15/15 - 0s - loss: 1.0629 - accuracy: 0.5333 - val_loss: 0.9452 - val_accuracy: 0.7000\n",
      "Epoch 2/30\n",
      "15/15 - 0s - loss: 0.9335 - accuracy: 0.5467 - val_loss: 0.8454 - val_accuracy: 0.7667\n",
      "Epoch 3/30\n",
      "15/15 - 0s - loss: 0.8340 - accuracy: 0.5733 - val_loss: 0.7563 - val_accuracy: 0.7667\n",
      "Epoch 4/30\n",
      "15/15 - 0s - loss: 0.7412 - accuracy: 0.6067 - val_loss: 0.6790 - val_accuracy: 0.6667\n",
      "Epoch 5/30\n",
      "15/15 - 0s - loss: 0.6638 - accuracy: 0.7267 - val_loss: 0.6114 - val_accuracy: 0.7000\n",
      "Epoch 6/30\n",
      "15/15 - 0s - loss: 0.5924 - accuracy: 0.8133 - val_loss: 0.5564 - val_accuracy: 0.7000\n",
      "Epoch 7/30\n",
      "15/15 - 0s - loss: 0.5327 - accuracy: 0.8200 - val_loss: 0.5088 - val_accuracy: 0.7333\n",
      "Epoch 8/30\n",
      "15/15 - 0s - loss: 0.4828 - accuracy: 0.8267 - val_loss: 0.4720 - val_accuracy: 0.7667\n",
      "Epoch 9/30\n",
      "15/15 - 0s - loss: 0.4418 - accuracy: 0.8267 - val_loss: 0.4411 - val_accuracy: 0.7667\n",
      "Epoch 10/30\n",
      "15/15 - 0s - loss: 0.4086 - accuracy: 0.8267 - val_loss: 0.4191 - val_accuracy: 0.7667\n",
      "Epoch 11/30\n",
      "15/15 - 0s - loss: 0.3825 - accuracy: 0.8333 - val_loss: 0.3955 - val_accuracy: 0.7667\n",
      "Epoch 12/30\n",
      "15/15 - 0s - loss: 0.3625 - accuracy: 0.8333 - val_loss: 0.3884 - val_accuracy: 0.7667\n",
      "Epoch 13/30\n",
      "15/15 - 0s - loss: 0.3450 - accuracy: 0.8467 - val_loss: 0.3636 - val_accuracy: 0.8000\n",
      "Epoch 14/30\n",
      "15/15 - 0s - loss: 0.3280 - accuracy: 0.8533 - val_loss: 0.3552 - val_accuracy: 0.8000\n",
      "Epoch 15/30\n",
      "15/15 - 0s - loss: 0.3147 - accuracy: 0.8533 - val_loss: 0.3393 - val_accuracy: 0.8000\n",
      "Epoch 16/30\n",
      "15/15 - 0s - loss: 0.3031 - accuracy: 0.8533 - val_loss: 0.3329 - val_accuracy: 0.8000\n",
      "Epoch 17/30\n",
      "15/15 - 0s - loss: 0.2921 - accuracy: 0.8600 - val_loss: 0.3140 - val_accuracy: 0.8333\n",
      "Epoch 18/30\n",
      "15/15 - 0s - loss: 0.2818 - accuracy: 0.8667 - val_loss: 0.3126 - val_accuracy: 0.8000\n",
      "Epoch 19/30\n",
      "15/15 - 0s - loss: 0.2717 - accuracy: 0.8867 - val_loss: 0.2914 - val_accuracy: 0.9000\n",
      "Epoch 20/30\n",
      "15/15 - 0s - loss: 0.2595 - accuracy: 0.9133 - val_loss: 0.2854 - val_accuracy: 0.8667\n",
      "Epoch 21/30\n",
      "15/15 - 0s - loss: 0.2486 - accuracy: 0.9067 - val_loss: 0.2755 - val_accuracy: 0.9000\n",
      "Epoch 22/30\n",
      "15/15 - 0s - loss: 0.2379 - accuracy: 0.9200 - val_loss: 0.2619 - val_accuracy: 0.9000\n",
      "Epoch 23/30\n",
      "15/15 - 0s - loss: 0.2260 - accuracy: 0.9200 - val_loss: 0.2540 - val_accuracy: 0.9000\n",
      "Epoch 24/30\n",
      "15/15 - 0s - loss: 0.2138 - accuracy: 0.9267 - val_loss: 0.2398 - val_accuracy: 0.9000\n",
      "Epoch 25/30\n",
      "15/15 - 0s - loss: 0.2028 - accuracy: 0.9600 - val_loss: 0.2182 - val_accuracy: 0.9333\n",
      "Epoch 26/30\n",
      "15/15 - 0s - loss: 0.1902 - accuracy: 0.9600 - val_loss: 0.2118 - val_accuracy: 0.9333\n",
      "Epoch 27/30\n",
      "15/15 - 0s - loss: 0.1799 - accuracy: 0.9600 - val_loss: 0.2038 - val_accuracy: 0.9333\n",
      "Epoch 28/30\n",
      "15/15 - 0s - loss: 0.1692 - accuracy: 0.9600 - val_loss: 0.1923 - val_accuracy: 0.9333\n",
      "Epoch 29/30\n",
      "15/15 - 0s - loss: 0.1620 - accuracy: 0.9600 - val_loss: 0.1674 - val_accuracy: 0.9667\n",
      "Epoch 30/30\n",
      "15/15 - 0s - loss: 0.1498 - accuracy: 0.9600 - val_loss: 0.1691 - val_accuracy: 0.9333\n"
     ]
    },
    {
     "data": {
      "text/plain": [
       "<tensorflow.python.keras.callbacks.History at 0x19e567f8710>"
      ]
     },
     "execution_count": 9,
     "metadata": {},
     "output_type": "execute_result"
    }
   ],
   "source": [
    "model.fit(x=x_scaled, \n",
    "          y=y_encoded, \n",
    "          epochs=epoch_val,\n",
    "          batch_size = batch_size_val,\n",
    "          validation_data = (valid_x, valid_y),\n",
    "          workers= workers_val,\n",
    "         verbose=verbose_val)"
   ]
  },
  {
   "cell_type": "code",
   "execution_count": 10,
   "metadata": {},
   "outputs": [
    {
     "name": "stdout",
     "output_type": "stream",
     "text": [
      "                 precision    recall  f1-score   support\n",
      "\n",
      "    Iris-setosa       1.00      1.00      1.00        11\n",
      "Iris-versicolor       1.00      0.85      0.92        13\n",
      " Iris-virginica       0.75      1.00      0.86         6\n",
      "\n",
      "       accuracy                           0.93        30\n",
      "      macro avg       0.92      0.95      0.92        30\n",
      "   weighted avg       0.95      0.93      0.94        30\n",
      "\n"
     ]
    }
   ],
   "source": [
    "predictions = model.predict(valid_x)\n",
    "rounded_predictions = np.argmax(predictions, axis = -1)\n",
    "rounded_valid_y = np.argmax(valid_y, axis = -1)\n",
    "\n",
    "print(classification_report(rounded_valid_y, rounded_predictions, target_names = y_map.values()))"
   ]
  },
  {
   "cell_type": "markdown",
   "metadata": {},
   "source": [
    "# Load and Test model"
   ]
  },
  {
   "cell_type": "markdown",
   "metadata": {},
   "source": [
    "model.save('data/model/iris_model.h5')\n",
    "model_new = load_model('data/model/iris_model.h5')\n",
    "\n",
    "predictions = model_new.predict(valid_x)\n",
    "rounded_predictions = np.argmax(predictions, axis = -1)\n",
    "rounded_valid_y = np.argmax(valid_y, axis = -1)\n",
    "\n",
    "print(classification_report(rounded_valid_y, rounded_predictions, target_names = y_map.values()))"
   ]
  }
 ],
 "metadata": {
  "kernelspec": {
   "display_name": "Python 3.6.6 64-bit",
   "language": "python",
   "name": "python36664bitab910dfda0bc43a8bf7df0c20d1c59f2"
  },
  "language_info": {
   "codemirror_mode": {
    "name": "ipython",
    "version": 3
   },
   "file_extension": ".py",
   "mimetype": "text/x-python",
   "name": "python",
   "nbconvert_exporter": "python",
   "pygments_lexer": "ipython3",
   "version": "3.6.6"
  }
 },
 "nbformat": 4,
 "nbformat_minor": 4
}
