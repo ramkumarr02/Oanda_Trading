{
 "cells": [
  {
   "cell_type": "markdown",
   "metadata": {},
   "source": [
    "# Data Preparation"
   ]
  },
  {
   "cell_type": "markdown",
   "metadata": {},
   "source": [
    "## Packages"
   ]
  },
  {
   "cell_type": "code",
   "execution_count": 1,
   "metadata": {
    "scrolled": true
   },
   "outputs": [],
   "source": [
    "import os\n",
    "import winsound\n",
    "import numpy as np\n",
    "import pandas as pd\n",
    "import datetime as dt\n",
    "from tqdm import tqdm\n",
    "\n",
    "import math, collections\n",
    "from scipy.stats import linregress\n",
    "\n",
    "from matplotlib import pyplot as plt\n",
    "\n",
    "import warnings\n",
    "warnings.filterwarnings('ignore')"
   ]
  },
  {
   "cell_type": "code",
   "execution_count": 2,
   "metadata": {},
   "outputs": [],
   "source": [
    "def get_slope_s(y_axis):\n",
    "    global window_s_ma\n",
    "    x_axis = []\n",
    "    for i in range(window_s_ma):\n",
    "        x_axis.append(1 + ((i+1) * 0.0001 * 0.1))\n",
    "    \n",
    "    slope_tick, intercept, _, _, _ = linregress(x_axis, y_axis)\n",
    "    slope_tick = math.degrees(math.atan(slope_tick))\n",
    "    \n",
    "    return(slope_tick)\n",
    "\n",
    "def get_slope_l(y_axis):\n",
    "    global window_l_ma\n",
    "    x_axis = []\n",
    "    for i in range(window_l_ma):\n",
    "        x_axis.append(1 + ((i+1) * 0.0001 * 0.1))\n",
    "    \n",
    "    slope_tick, intercept, _, _, _ = linregress(x_axis, y_axis)\n",
    "    slope_tick = math.degrees(math.atan(slope_tick))\n",
    "    \n",
    "    return(slope_tick)\n",
    "\n",
    "\n",
    "def get_month(row):\n",
    "    month_val = dt.datetime.strptime(row['TS'], '%Y-%m-%d %H:%M').date().month\n",
    "    return(month_val)\n",
    "\n",
    "def get_day(row):\n",
    "    day_val = dt.datetime.strptime(row['TS'], '%Y-%m-%d %H:%M').date().day\n",
    "    return(day_val)   \n",
    "\n",
    "def get_hour(row):\n",
    "    hour_val = dt.datetime.strptime(row['TS'], '%Y-%m-%d %H:%M').time().hour\n",
    "    return(hour_val)   \n",
    "\n",
    "def get_min(row):\n",
    "    min_val = dt.datetime.strptime(row['TS'], '%Y-%m-%d %H:%M').time().minute\n",
    "    return(min_val)   \n",
    "\n",
    "\n",
    "def get_dow(row):\n",
    "    dow = dt.datetime.strptime(df['TS'][0], '%Y-%m-%d %H:%M').weekday()\n",
    "    return(dow)"
   ]
  },
  {
   "cell_type": "code",
   "execution_count": 3,
   "metadata": {
    "scrolled": true
   },
   "outputs": [],
   "source": [
    "def chunk_ticks(df, number_of_ticks):   \n",
    "    global pip_diff\n",
    "    \n",
    "    df['tick'] = (df['Bid'] + df['Ask'])/2\n",
    "    df = df[['tick']]\n",
    "\n",
    "    temp_df = pd.DataFrame()\n",
    "    open_list = []\n",
    "    high_list = []\n",
    "    low_list = []\n",
    "    close_list = []\n",
    "\n",
    "\n",
    "    for i in tqdm(range(0,len(df),number_of_ticks)):\n",
    "        chunk_list = list(df['tick'][i:i+number_of_ticks])\n",
    "\n",
    "        open_val = chunk_list[0]\n",
    "        high_val = np.max(chunk_list)\n",
    "        low_val = np.min(chunk_list)\n",
    "        close_val = chunk_list[-1]\n",
    "\n",
    "        open_list.append(chunk_list[0]) \n",
    "        high_list.append(np.max(chunk_list))\n",
    "        low_list.append(np.min(chunk_list))\n",
    "        close_list.append(chunk_list[-1]) \n",
    "\n",
    "    temp_df['open'] = open_list\n",
    "    temp_df['high'] = high_list\n",
    "    temp_df['low'] = low_list    \n",
    "    temp_df['close'] = close_list    \n",
    "    \n",
    "    return(temp_df)"
   ]
  },
  {
   "cell_type": "markdown",
   "metadata": {},
   "source": [
    "## Parameters"
   ]
  },
  {
   "cell_type": "code",
   "execution_count": 18,
   "metadata": {},
   "outputs": [],
   "source": [
    "#pd.DataFrame(np.random.rand(14,4), columns=['a', 'b', 'c', 'd'])\n",
    "\n",
    "year = 2019\n",
    "source_file_path = f'data/tick_{year}.csv'\n",
    "\n",
    "number_of_ticks = 60\n",
    "pip_diff = 0.0001\n",
    "\n",
    "diff_col = 'Close'\n",
    "\n",
    "rsi_window = 10\n",
    "rs_max = 1e6\n",
    "\n",
    "window_s_ma = 10\n",
    "window_l_ma = 50"
   ]
  },
  {
   "cell_type": "markdown",
   "metadata": {},
   "source": [
    "## Read data"
   ]
  },
  {
   "cell_type": "code",
   "execution_count": 34,
   "metadata": {
    "scrolled": true
   },
   "outputs": [
    {
     "name": "stdout",
     "output_type": "stream",
     "text": [
      "Wall time: 17 s\n"
     ]
    }
   ],
   "source": [
    "%%time\n",
    "path, file_name = os.path.split(source_file_path)\n",
    "\n",
    "target_file_name = 'tab_'+file_name\n",
    "target_file_path = os.path.join(path, target_file_name)\n",
    "\n",
    "df1 = pd.read_csv(source_file_path)"
   ]
  },
  {
   "cell_type": "code",
   "execution_count": 35,
   "metadata": {},
   "outputs": [],
   "source": [
    "df = df1[0:50000]"
   ]
  },
  {
   "cell_type": "code",
   "execution_count": 36,
   "metadata": {},
   "outputs": [
    {
     "name": "stderr",
     "output_type": "stream",
     "text": [
      "100%|███████████████████████████████████████████████| 834/834 [00:00<00:00, 7426.81it/s]"
     ]
    },
    {
     "name": "stdout",
     "output_type": "stream",
     "text": [
      "Total recs : 50000\n",
      "Reduced recs : 834\n"
     ]
    },
    {
     "name": "stderr",
     "output_type": "stream",
     "text": [
      "\n"
     ]
    },
    {
     "data": {
      "text/html": [
       "<div>\n",
       "<style scoped>\n",
       "    .dataframe tbody tr th:only-of-type {\n",
       "        vertical-align: middle;\n",
       "    }\n",
       "\n",
       "    .dataframe tbody tr th {\n",
       "        vertical-align: top;\n",
       "    }\n",
       "\n",
       "    .dataframe thead th {\n",
       "        text-align: right;\n",
       "    }\n",
       "</style>\n",
       "<table border=\"1\" class=\"dataframe\">\n",
       "  <thead>\n",
       "    <tr style=\"text-align: right;\">\n",
       "      <th></th>\n",
       "      <th>open</th>\n",
       "      <th>high</th>\n",
       "      <th>low</th>\n",
       "      <th>close</th>\n",
       "    </tr>\n",
       "  </thead>\n",
       "  <tbody>\n",
       "    <tr>\n",
       "      <th>0</th>\n",
       "      <td>1.14640</td>\n",
       "      <td>1.146700</td>\n",
       "      <td>1.146220</td>\n",
       "      <td>1.146700</td>\n",
       "    </tr>\n",
       "    <tr>\n",
       "      <th>1</th>\n",
       "      <td>1.14670</td>\n",
       "      <td>1.146740</td>\n",
       "      <td>1.146630</td>\n",
       "      <td>1.146685</td>\n",
       "    </tr>\n",
       "    <tr>\n",
       "      <th>2</th>\n",
       "      <td>1.14669</td>\n",
       "      <td>1.146770</td>\n",
       "      <td>1.146400</td>\n",
       "      <td>1.146435</td>\n",
       "    </tr>\n",
       "    <tr>\n",
       "      <th>3</th>\n",
       "      <td>1.14644</td>\n",
       "      <td>1.146440</td>\n",
       "      <td>1.146215</td>\n",
       "      <td>1.146220</td>\n",
       "    </tr>\n",
       "    <tr>\n",
       "      <th>4</th>\n",
       "      <td>1.14623</td>\n",
       "      <td>1.146415</td>\n",
       "      <td>1.146220</td>\n",
       "      <td>1.146260</td>\n",
       "    </tr>\n",
       "  </tbody>\n",
       "</table>\n",
       "</div>"
      ],
      "text/plain": [
       "      open      high       low     close\n",
       "0  1.14640  1.146700  1.146220  1.146700\n",
       "1  1.14670  1.146740  1.146630  1.146685\n",
       "2  1.14669  1.146770  1.146400  1.146435\n",
       "3  1.14644  1.146440  1.146215  1.146220\n",
       "4  1.14623  1.146415  1.146220  1.146260"
      ]
     },
     "execution_count": 36,
     "metadata": {},
     "output_type": "execute_result"
    }
   ],
   "source": [
    "print(f'Total recs : {len(df)}')\n",
    "df = chunk_ticks(df, number_of_ticks)\n",
    "print(f'Reduced recs : {len(df)}')\n",
    "df.head()"
   ]
  },
  {
   "cell_type": "markdown",
   "metadata": {},
   "source": [
    "## Data manipulation"
   ]
  },
  {
   "cell_type": "code",
   "execution_count": 37,
   "metadata": {},
   "outputs": [
    {
     "data": {
      "text/html": [
       "<div>\n",
       "<style scoped>\n",
       "    .dataframe tbody tr th:only-of-type {\n",
       "        vertical-align: middle;\n",
       "    }\n",
       "\n",
       "    .dataframe tbody tr th {\n",
       "        vertical-align: top;\n",
       "    }\n",
       "\n",
       "    .dataframe thead th {\n",
       "        text-align: right;\n",
       "    }\n",
       "</style>\n",
       "<table border=\"1\" class=\"dataframe\">\n",
       "  <thead>\n",
       "    <tr style=\"text-align: right;\">\n",
       "      <th></th>\n",
       "      <th>open</th>\n",
       "      <th>high</th>\n",
       "      <th>low</th>\n",
       "      <th>close</th>\n",
       "      <th>target_gain</th>\n",
       "      <th>target_loss</th>\n",
       "      <th>direction</th>\n",
       "      <th>diff</th>\n",
       "      <th>gain</th>\n",
       "      <th>loss</th>\n",
       "      <th>avg_gain</th>\n",
       "      <th>avg_loss</th>\n",
       "      <th>rs</th>\n",
       "      <th>rsi</th>\n",
       "      <th>ssma</th>\n",
       "      <th>lsma</th>\n",
       "      <th>sma_diff</th>\n",
       "      <th>sema</th>\n",
       "      <th>lema</th>\n",
       "      <th>ema_diff</th>\n",
       "    </tr>\n",
       "  </thead>\n",
       "  <tbody>\n",
       "    <tr>\n",
       "      <th>0</th>\n",
       "      <td>1.146625</td>\n",
       "      <td>1.146645</td>\n",
       "      <td>1.146595</td>\n",
       "      <td>1.146605</td>\n",
       "      <td>0.000035</td>\n",
       "      <td>0.000020</td>\n",
       "      <td>same</td>\n",
       "      <td>-0.000025</td>\n",
       "      <td>0.0</td>\n",
       "      <td>0.000025</td>\n",
       "      <td>0.000017</td>\n",
       "      <td>0.000014</td>\n",
       "      <td>1.214286</td>\n",
       "      <td>54.838710</td>\n",
       "      <td>1.146609</td>\n",
       "      <td>1.146387</td>\n",
       "      <td>0.000222</td>\n",
       "      <td>1.146591</td>\n",
       "      <td>1.146438</td>\n",
       "      <td>0.000152</td>\n",
       "    </tr>\n",
       "    <tr>\n",
       "      <th>1</th>\n",
       "      <td>1.146610</td>\n",
       "      <td>1.146640</td>\n",
       "      <td>1.146585</td>\n",
       "      <td>1.146605</td>\n",
       "      <td>0.000000</td>\n",
       "      <td>0.000030</td>\n",
       "      <td>same</td>\n",
       "      <td>0.000000</td>\n",
       "      <td>0.0</td>\n",
       "      <td>0.000000</td>\n",
       "      <td>0.000015</td>\n",
       "      <td>0.000014</td>\n",
       "      <td>1.107143</td>\n",
       "      <td>52.542373</td>\n",
       "      <td>1.146610</td>\n",
       "      <td>1.146385</td>\n",
       "      <td>0.000225</td>\n",
       "      <td>1.146593</td>\n",
       "      <td>1.146446</td>\n",
       "      <td>0.000148</td>\n",
       "    </tr>\n",
       "    <tr>\n",
       "      <th>2</th>\n",
       "      <td>1.146595</td>\n",
       "      <td>1.146605</td>\n",
       "      <td>1.146575</td>\n",
       "      <td>1.146600</td>\n",
       "      <td>0.000005</td>\n",
       "      <td>0.000030</td>\n",
       "      <td>same</td>\n",
       "      <td>-0.000005</td>\n",
       "      <td>0.0</td>\n",
       "      <td>0.000005</td>\n",
       "      <td>0.000015</td>\n",
       "      <td>0.000011</td>\n",
       "      <td>1.476190</td>\n",
       "      <td>59.615385</td>\n",
       "      <td>1.146615</td>\n",
       "      <td>1.146383</td>\n",
       "      <td>0.000232</td>\n",
       "      <td>1.146594</td>\n",
       "      <td>1.146453</td>\n",
       "      <td>0.000142</td>\n",
       "    </tr>\n",
       "    <tr>\n",
       "      <th>3</th>\n",
       "      <td>1.146590</td>\n",
       "      <td>1.146605</td>\n",
       "      <td>1.146570</td>\n",
       "      <td>1.146595</td>\n",
       "      <td>0.000010</td>\n",
       "      <td>0.000020</td>\n",
       "      <td>same</td>\n",
       "      <td>-0.000005</td>\n",
       "      <td>0.0</td>\n",
       "      <td>0.000005</td>\n",
       "      <td>0.000012</td>\n",
       "      <td>0.000011</td>\n",
       "      <td>1.090909</td>\n",
       "      <td>52.173913</td>\n",
       "      <td>1.146616</td>\n",
       "      <td>1.146386</td>\n",
       "      <td>0.000230</td>\n",
       "      <td>1.146595</td>\n",
       "      <td>1.146459</td>\n",
       "      <td>0.000136</td>\n",
       "    </tr>\n",
       "    <tr>\n",
       "      <th>4</th>\n",
       "      <td>1.146585</td>\n",
       "      <td>1.146605</td>\n",
       "      <td>1.146575</td>\n",
       "      <td>1.146590</td>\n",
       "      <td>0.000005</td>\n",
       "      <td>0.000055</td>\n",
       "      <td>same</td>\n",
       "      <td>-0.000005</td>\n",
       "      <td>0.0</td>\n",
       "      <td>0.000005</td>\n",
       "      <td>0.000008</td>\n",
       "      <td>0.000011</td>\n",
       "      <td>0.695652</td>\n",
       "      <td>41.025641</td>\n",
       "      <td>1.146613</td>\n",
       "      <td>1.146394</td>\n",
       "      <td>0.000219</td>\n",
       "      <td>1.146594</td>\n",
       "      <td>1.146465</td>\n",
       "      <td>0.000129</td>\n",
       "    </tr>\n",
       "  </tbody>\n",
       "</table>\n",
       "</div>"
      ],
      "text/plain": [
       "       open      high       low     close  target_gain  target_loss direction  \\\n",
       "0  1.146625  1.146645  1.146595  1.146605     0.000035     0.000020      same   \n",
       "1  1.146610  1.146640  1.146585  1.146605     0.000000     0.000030      same   \n",
       "2  1.146595  1.146605  1.146575  1.146600     0.000005     0.000030      same   \n",
       "3  1.146590  1.146605  1.146570  1.146595     0.000010     0.000020      same   \n",
       "4  1.146585  1.146605  1.146575  1.146590     0.000005     0.000055      same   \n",
       "\n",
       "       diff  gain      loss  avg_gain  avg_loss        rs        rsi  \\\n",
       "0 -0.000025   0.0  0.000025  0.000017  0.000014  1.214286  54.838710   \n",
       "1  0.000000   0.0  0.000000  0.000015  0.000014  1.107143  52.542373   \n",
       "2 -0.000005   0.0  0.000005  0.000015  0.000011  1.476190  59.615385   \n",
       "3 -0.000005   0.0  0.000005  0.000012  0.000011  1.090909  52.173913   \n",
       "4 -0.000005   0.0  0.000005  0.000008  0.000011  0.695652  41.025641   \n",
       "\n",
       "       ssma      lsma  sma_diff      sema      lema  ema_diff  \n",
       "0  1.146609  1.146387  0.000222  1.146591  1.146438  0.000152  \n",
       "1  1.146610  1.146385  0.000225  1.146593  1.146446  0.000148  \n",
       "2  1.146615  1.146383  0.000232  1.146594  1.146453  0.000142  \n",
       "3  1.146616  1.146386  0.000230  1.146595  1.146459  0.000136  \n",
       "4  1.146613  1.146394  0.000219  1.146594  1.146465  0.000129  "
      ]
     },
     "execution_count": 37,
     "metadata": {},
     "output_type": "execute_result"
    }
   ],
   "source": [
    "df['target_gain'] = abs(df['high'].shift(-1) - df['close'])\n",
    "df['target_loss'] = abs(df['low'].shift(-1) - df['close'])\n",
    "\n",
    "df['direction'] = 'same'\n",
    "df.loc[(df['target_gain'] > df['target_loss']) & (df['target_gain'] > pip_diff), 'direction'] = 'increase'\n",
    "df.loc[(df['target_loss'] > df['target_gain']) & (df['target_loss'] > pip_diff), 'direction'] = 'decrease'\n",
    "\n",
    "df['diff'] = df['close'].diff()\n",
    "\n",
    "df['gain'] = 0\n",
    "df['loss'] = 0\n",
    "df['gain'].loc[df['diff'] > 0] = abs(df['diff'])\n",
    "df['loss'].loc[df['diff'] < 0] = abs(df['diff'])\n",
    "\n",
    "df['avg_gain'] = df['gain'].rolling(window=rsi_window).mean()\n",
    "df['avg_loss'] = df['loss'].rolling(window=rsi_window).mean()\n",
    "\n",
    "df['rs'] = df['avg_gain']/df['avg_loss']\n",
    "df['rs'] = df['rs'].where(df['rs'] <= rs_max, rs_max) \n",
    "\n",
    "df['rsi'] = 100 - (100 / (df['rs'] + 1))\n",
    "\n",
    "df['ssma'] = df['close'].rolling(window=window_s_ma).mean()\n",
    "df['lsma'] = df['close'].rolling(window=window_l_ma).mean()\n",
    "df['sma_diff'] = df['ssma'] - df['lsma']\n",
    "\n",
    "df['sema'] = df['close'].ewm(span=window_s_ma).mean()\n",
    "df['lema'] = df['close'].ewm(span=window_l_ma).mean()\n",
    "\n",
    "df['ema_diff'] = df['sema'] - df['lema']\n",
    "\n",
    "#df['slope_s'] = df['close'].rolling(window=window_s_ma).apply(get_slope_s)\n",
    "#df['slope_l'] = df['close'].rolling(window=window_l_ma).apply(get_slope_l)\n",
    "#df['sma_slope'] = df['ssma'].rolling(window=rsi_window).apply(get_slope)\n",
    "\n",
    "df = df.dropna()\n",
    "df = df.reset_index(drop=True)\n",
    "df.head()"
   ]
  },
  {
   "cell_type": "markdown",
   "metadata": {},
   "source": [
    "## Write data to csv"
   ]
  },
  {
   "cell_type": "code",
   "execution_count": null,
   "metadata": {},
   "outputs": [],
   "source": [
    "#del df['TS']\n",
    "df.to_csv(target_file_path, index = False)\n",
    "winsound.PlaySound('C:\\\\Windows\\\\Media\\\\tada.wav', winsound.SND_ASYNC)"
   ]
  },
  {
   "cell_type": "markdown",
   "metadata": {},
   "source": [
    "## Print Report"
   ]
  },
  {
   "cell_type": "code",
   "execution_count": null,
   "metadata": {
    "scrolled": false
   },
   "outputs": [],
   "source": [
    "target_col = 'direction'\n",
    "\n",
    "print(f'Record count : {len(df)}')\n",
    "print('--------------------------')\n",
    "print(df[target_col].value_counts())\n",
    "print('--------------------------')\n",
    "print(df[target_col].value_counts(normalize=True))\n",
    "\n",
    "df.head(10)"
   ]
  }
 ],
 "metadata": {
  "kernelspec": {
   "display_name": "Python 3.6.6 64-bit",
   "language": "python",
   "name": "python36664bitab910dfda0bc43a8bf7df0c20d1c59f2"
  },
  "language_info": {
   "codemirror_mode": {
    "name": "ipython",
    "version": 3
   },
   "file_extension": ".py",
   "mimetype": "text/x-python",
   "name": "python",
   "nbconvert_exporter": "python",
   "pygments_lexer": "ipython3",
   "version": "3.6.6"
  }
 },
 "nbformat": 4,
 "nbformat_minor": 4
}
