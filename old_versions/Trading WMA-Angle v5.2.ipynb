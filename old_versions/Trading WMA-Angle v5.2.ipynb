{
 "cells": [
  {
   "cell_type": "markdown",
   "metadata": {},
   "source": [
    "# Oanda Demo Trading Notebook"
   ]
  },
  {
   "cell_type": "markdown",
   "metadata": {},
   "source": [
    "## Packages & Tools"
   ]
  },
  {
   "cell_type": "code",
   "execution_count": 1,
   "metadata": {},
   "outputs": [],
   "source": [
    "from utils.packages import *\n",
    "from utils.tools import *"
   ]
  },
  {
   "cell_type": "markdown",
   "metadata": {},
   "source": [
    "## API Setup"
   ]
  },
  {
   "cell_type": "markdown",
   "metadata": {},
   "source": [
    "Read from config file"
   ]
  },
  {
   "cell_type": "code",
   "execution_count": 2,
   "metadata": {
    "scrolled": true
   },
   "outputs": [],
   "source": [
    "temp_file = 'config/access_keys.yaml'\n",
    "with open(temp_file) as temp_file:\n",
    "    config = yaml.load(temp_file)\n",
    "    \n",
    "temp_file = 'config/wma.yaml'\n",
    "with open(temp_file) as temp_file:\n",
    "    wma = yaml.load(temp_file)    "
   ]
  },
  {
   "cell_type": "code",
   "execution_count": 3,
   "metadata": {},
   "outputs": [],
   "source": [
    "access_token = config['oanda_demo_account']['token']\n",
    "accountID = config['oanda_demo_account']['account_id']\n",
    "api = API(access_token = access_token)\n",
    "\n",
    "instrument = wma['curr']['instrument']    \n",
    "pip = wma['pip_size'][instrument]\n",
    "\n",
    "short_moving_window = wma['wma']['short_moving_window']\n",
    "long_moving_window = wma['wma']['long_moving_window']\n",
    "lists_size = wma['wma']['lists_size']\n",
    "slope_num = wma['wma']['slope_num']\n",
    "short_slope_num = wma['wma']['short_slope_num']\n",
    "min_order_angle = wma['wma']['min_order_angle']\n",
    "\n",
    "units =  wma['order']['units']\n",
    "profit_target =  wma['order']['profit_target']\n",
    "loss_limit_num =  wma['order']['stop_loss_limit']\n",
    "order_num_limit =  wma['order']['order_num_limit']\n",
    "price_allowed_buffer =  wma['order']['price_allowed_buffer']\n",
    "\n",
    "profit_level =  wma['stepped_order']['profit_level']\n",
    "#num_of_profits =  wma['stepped_order']['num_of_profits']\n",
    "\n",
    "min_diff =  wma['no_cross_order']['min_diff']\n",
    "\n",
    "max_skips = wma['loss_skip']['max_skips']\n",
    "consecutive_losses = wma['loss_skip']['consecutive_losses']\n",
    "\n",
    "no_cross_ordering = wma['strategy']['no_cross_ordering']\n",
    "stepped_orders = wma['strategy']['stepped_orders']"
   ]
  },
  {
   "cell_type": "markdown",
   "metadata": {},
   "source": [
    "## Code Engine"
   ]
  },
  {
   "cell_type": "code",
   "execution_count": 4,
   "metadata": {},
   "outputs": [],
   "source": [
    "params = {'instruments': instrument}\n",
    "r = pricing.PricingStream(accountID=accountID, params=params)\n",
    "rv = api.request(r)\n",
    "\n",
    "skip_iter = 1\n",
    "pl_pip = 0\n",
    "long_wma = 0\n",
    "short_wma = 0\n",
    "closed_orders = 0\n",
    "long_list_counter = 0\n",
    "\n",
    "long_flag = True\n",
    "short_flag = True\n",
    "valid_iteration = True\n",
    "\n",
    "old_direction =  'none'\n",
    "no_cross_dir = 'none'\n",
    "\n",
    "list_ready = False\n",
    "order_flag = False\n",
    "negative_run =  False\n",
    "first_position_changed = False\n",
    "initial_position_captured = False\n",
    "\n",
    "pl_list = collections.deque([])\n",
    "tick_list = collections.deque([])\n",
    "long_list = collections.deque([])\n",
    "short_list = collections.deque([])\n",
    "long_wma_list = collections.deque([])\n",
    "short_wma_list = collections.deque([])\n",
    "step_profit_list = collections.deque([])\n",
    "no_cross_list = collections.deque([])\n",
    "\n",
    "\n",
    "loss_limit = loss_limit_num * pip\n",
    "profit_target = profit_target * pip \n",
    "profit_level = profit_level * pip\n",
    "min_diff = min_diff * pip\n",
    "\n",
    "\n",
    "long_weights = get_weights(long_moving_window)\n",
    "short_weights = get_weights(short_moving_window)"
   ]
  },
  {
   "cell_type": "code",
   "execution_count": 5,
   "metadata": {
    "scrolled": false
   },
   "outputs": [
    {
     "name": "stderr",
     "output_type": "stream",
     "text": [
      "1561it [22:02,  1.57it/s]"
     ]
    },
    {
     "name": "stdout",
     "output_type": "stream",
     "text": [
      "initial_position : positive\n"
     ]
    },
    {
     "name": "stderr",
     "output_type": "stream",
     "text": [
      "1590it [22:23,  1.94it/s]"
     ]
    },
    {
     "name": "stdout",
     "output_type": "stream",
     "text": [
      "positive ---> negative\n",
      "Going short\n"
     ]
    },
    {
     "name": "stderr",
     "output_type": "stream",
     "text": [
      "\r",
      "1591it [22:24,  1.69it/s]"
     ]
    },
    {
     "name": "stdout",
     "output_type": "stream",
     "text": [
      "ordered\n"
     ]
    },
    {
     "name": "stderr",
     "output_type": "stream",
     "text": [
      "1600it [22:26,  2.67it/s]"
     ]
    },
    {
     "name": "stdout",
     "output_type": "stream",
     "text": [
      "negative ---> positive\n",
      "Closed short position : 1\n",
      "Going long\n"
     ]
    },
    {
     "name": "stderr",
     "output_type": "stream",
     "text": [
      "\r",
      "1601it [22:28,  1.26it/s]"
     ]
    },
    {
     "name": "stdout",
     "output_type": "stream",
     "text": [
      "ordered\n"
     ]
    },
    {
     "name": "stderr",
     "output_type": "stream",
     "text": [
      "1627it [22:40,  1.47it/s]"
     ]
    },
    {
     "name": "stdout",
     "output_type": "stream",
     "text": [
      "positive ---> negative\n",
      "Closed long position : 2\n"
     ]
    },
    {
     "name": "stderr",
     "output_type": "stream",
     "text": [
      "\r",
      "1628it [22:42,  1.16s/it]"
     ]
    },
    {
     "name": "stdout",
     "output_type": "stream",
     "text": [
      "Skipped iteration:1, pl_list : deque([-0.0002, -0.0002])\n"
     ]
    },
    {
     "name": "stderr",
     "output_type": "stream",
     "text": [
      "1644it [22:57,  1.04s/it]"
     ]
    },
    {
     "name": "stdout",
     "output_type": "stream",
     "text": [
      "negative ---> positive\n",
      "Going long\n"
     ]
    },
    {
     "name": "stderr",
     "output_type": "stream",
     "text": [
      "\r",
      "1645it [22:59,  1.40s/it]"
     ]
    },
    {
     "name": "stdout",
     "output_type": "stream",
     "text": [
      "ordered\n"
     ]
    },
    {
     "name": "stderr",
     "output_type": "stream",
     "text": [
      "1680it [23:36,  1.36it/s]"
     ]
    },
    {
     "name": "stdout",
     "output_type": "stream",
     "text": [
      "positive ---> negative\n",
      "Closed long position : 3\n"
     ]
    },
    {
     "name": "stderr",
     "output_type": "stream",
     "text": [
      "\r",
      "1681it [23:38,  1.04s/it]"
     ]
    },
    {
     "name": "stdout",
     "output_type": "stream",
     "text": [
      "Skipped iteration:1, pl_list : deque([-0.0002, -0.0002])\n"
     ]
    },
    {
     "name": "stderr",
     "output_type": "stream",
     "text": [
      "1691it [23:54,  1.85s/it]"
     ]
    },
    {
     "name": "stdout",
     "output_type": "stream",
     "text": [
      "negative ---> positive\n",
      "Angle:-8, short_angle:19 smaller than min_order_angle:20\n"
     ]
    },
    {
     "name": "stderr",
     "output_type": "stream",
     "text": [
      "1717it [24:18,  1.67it/s]"
     ]
    },
    {
     "name": "stdout",
     "output_type": "stream",
     "text": [
      "No-cross long \n",
      "angle:37\n",
      "price diff:0.00021812468531456908\n",
      "horz_angle_short : 64\n"
     ]
    },
    {
     "name": "stderr",
     "output_type": "stream",
     "text": [
      "\r",
      "1719it [24:20,  1.43it/s]"
     ]
    },
    {
     "name": "stdout",
     "output_type": "stream",
     "text": [
      "ordered\n"
     ]
    },
    {
     "name": "stderr",
     "output_type": "stream",
     "text": [
      "1726it [24:26,  1.08it/s]"
     ]
    },
    {
     "name": "stdout",
     "output_type": "stream",
     "text": [
      "Making stepped long\n",
      "price_diff : 0.0003020080819180482\n",
      "angle : 47\n",
      "horz_angle_short : 43\n"
     ]
    },
    {
     "name": "stderr",
     "output_type": "stream",
     "text": [
      "1874it [26:23,  1.94it/s]"
     ]
    },
    {
     "name": "stdout",
     "output_type": "stream",
     "text": [
      "Closed long position : 4\n"
     ]
    },
    {
     "name": "stderr",
     "output_type": "stream",
     "text": [
      "2205it [31:01,  1.26it/s]"
     ]
    },
    {
     "name": "stdout",
     "output_type": "stream",
     "text": [
      "No-cross long \n",
      "angle:20\n",
      "price diff:0.00030350456543271065\n",
      "horz_angle_short : 55\n"
     ]
    },
    {
     "name": "stderr",
     "output_type": "stream",
     "text": [
      "\r",
      "2206it [31:02,  1.28it/s]"
     ]
    },
    {
     "name": "stdout",
     "output_type": "stream",
     "text": [
      "ordered\n"
     ]
    },
    {
     "name": "stderr",
     "output_type": "stream",
     "text": [
      "2365it [33:11,  2.11it/s]"
     ]
    },
    {
     "name": "stdout",
     "output_type": "stream",
     "text": [
      "Closed long position : 5\n"
     ]
    },
    {
     "name": "stderr",
     "output_type": "stream",
     "text": [
      "2484it [34:52,  1.42s/it]"
     ]
    },
    {
     "name": "stdout",
     "output_type": "stream",
     "text": [
      "positive ---> negative\n",
      "Going short\n"
     ]
    },
    {
     "name": "stderr",
     "output_type": "stream",
     "text": [
      "\r",
      "2485it [34:53,  1.40s/it]"
     ]
    },
    {
     "name": "stdout",
     "output_type": "stream",
     "text": [
      "ordered\n"
     ]
    },
    {
     "name": "stderr",
     "output_type": "stream",
     "text": [
      "2496it [34:59,  1.92it/s]"
     ]
    },
    {
     "name": "stdout",
     "output_type": "stream",
     "text": [
      "negative ---> positive\n",
      "Closed short position : 6\n"
     ]
    },
    {
     "name": "stderr",
     "output_type": "stream",
     "text": [
      "\r",
      "2497it [35:02,  1.13s/it]"
     ]
    },
    {
     "name": "stdout",
     "output_type": "stream",
     "text": [
      "Skipped iteration:1, pl_list : deque([-0.0002, -0.0002])\n"
     ]
    },
    {
     "name": "stderr",
     "output_type": "stream",
     "text": [
      "2579it [36:32,  1.94s/it]"
     ]
    },
    {
     "name": "stdout",
     "output_type": "stream",
     "text": [
      "No-cross long \n",
      "angle:39\n",
      "price diff:0.00020872125874160652\n",
      "horz_angle_short : 53\n"
     ]
    },
    {
     "name": "stderr",
     "output_type": "stream",
     "text": [
      "\r",
      "2580it [36:32,  1.59s/it]"
     ]
    },
    {
     "name": "stdout",
     "output_type": "stream",
     "text": [
      "ordered\n"
     ]
    },
    {
     "name": "stderr",
     "output_type": "stream",
     "text": [
      "2612it [36:57,  1.54it/s]"
     ]
    },
    {
     "name": "stdout",
     "output_type": "stream",
     "text": [
      "positive ---> negative\n",
      "Going short\n"
     ]
    },
    {
     "name": "stderr",
     "output_type": "stream",
     "text": [
      "\r",
      "2613it [36:57,  1.46it/s]"
     ]
    },
    {
     "name": "stdout",
     "output_type": "stream",
     "text": [
      "ordered\n"
     ]
    },
    {
     "name": "stderr",
     "output_type": "stream",
     "text": [
      "2643it [37:13,  1.44it/s]"
     ]
    },
    {
     "name": "stdout",
     "output_type": "stream",
     "text": [
      "negative ---> positive\n",
      "Closed short position : 7\n"
     ]
    },
    {
     "name": "stderr",
     "output_type": "stream",
     "text": [
      "\r",
      "2645it [37:16,  1.20it/s]"
     ]
    },
    {
     "name": "stdout",
     "output_type": "stream",
     "text": [
      "Skipped iteration:1, pl_list : deque([-0.0002, -0.0002])\n"
     ]
    },
    {
     "name": "stderr",
     "output_type": "stream",
     "text": [
      "2658it [37:31,  1.99s/it]"
     ]
    },
    {
     "name": "stdout",
     "output_type": "stream",
     "text": [
      "positive ---> negative\n",
      "Going short\n"
     ]
    },
    {
     "name": "stderr",
     "output_type": "stream",
     "text": [
      "\r",
      "2659it [37:32,  1.62s/it]"
     ]
    },
    {
     "name": "stdout",
     "output_type": "stream",
     "text": [
      "ordered\n"
     ]
    },
    {
     "name": "stderr",
     "output_type": "stream",
     "text": [
      "2668it [37:39,  1.01s/it]"
     ]
    },
    {
     "name": "stdout",
     "output_type": "stream",
     "text": [
      "negative ---> positive\n",
      "Closed short position : 8\n"
     ]
    },
    {
     "name": "stderr",
     "output_type": "stream",
     "text": [
      "\r",
      "2669it [37:42,  1.56s/it]"
     ]
    },
    {
     "name": "stdout",
     "output_type": "stream",
     "text": [
      "Skipped iteration:1, pl_list : deque([-0.0001, -0.0001])\n"
     ]
    },
    {
     "name": "stderr",
     "output_type": "stream",
     "text": [
      "2686it [37:56,  1.04it/s]"
     ]
    },
    {
     "name": "stdout",
     "output_type": "stream",
     "text": [
      "positive ---> negative\n",
      "Angle:2, short_angle:-30 smaller than min_order_angle:20\n"
     ]
    },
    {
     "name": "stderr",
     "output_type": "stream",
     "text": [
      "2696it [38:06,  1.09it/s]"
     ]
    },
    {
     "name": "stdout",
     "output_type": "stream",
     "text": [
      "negative ---> positive\n",
      "Angle:1, short_angle:31 smaller than min_order_angle:20\n"
     ]
    },
    {
     "name": "stderr",
     "output_type": "stream",
     "text": [
      "2700it [38:11,  1.09s/it]"
     ]
    },
    {
     "name": "stdout",
     "output_type": "stream",
     "text": [
      "positive ---> negative\n",
      "Angle:0, short_angle:6 smaller than min_order_angle:20\n"
     ]
    },
    {
     "name": "stderr",
     "output_type": "stream",
     "text": [
      "2721it [38:24,  1.79it/s]"
     ]
    },
    {
     "name": "stdout",
     "output_type": "stream",
     "text": [
      "negative ---> positive\n",
      "Angle:0, short_angle:26 smaller than min_order_angle:20\n"
     ]
    },
    {
     "name": "stderr",
     "output_type": "stream",
     "text": [
      "2727it [38:29,  1.41it/s]"
     ]
    },
    {
     "name": "stdout",
     "output_type": "stream",
     "text": [
      "positive ---> negative\n",
      "Angle:2, short_angle:-12 smaller than min_order_angle:20\n"
     ]
    },
    {
     "name": "stderr",
     "output_type": "stream",
     "text": [
      "2750it [38:54,  1.29s/it]"
     ]
    },
    {
     "name": "stdout",
     "output_type": "stream",
     "text": [
      "negative ---> positive\n",
      "Angle:-3, short_angle:47 smaller than min_order_angle:20\n"
     ]
    },
    {
     "name": "stderr",
     "output_type": "stream",
     "text": [
      "2867it [41:19,  1.16it/s]\n"
     ]
    },
    {
     "ename": "ChunkedEncodingError",
     "evalue": "('Connection broken: IncompleteRead(0 bytes read)', IncompleteRead(0 bytes read))",
     "output_type": "error",
     "traceback": [
      "\u001b[1;31m-------------------------------------\u001b[0m",
      "\u001b[1;31mValueError\u001b[0mTraceback (most recent call last)",
      "\u001b[1;32md:\\ram\\pcal\\data science\\projects\\trading\\oanda_trading\\tradenv\\lib\\site-packages\\urllib3\\response.py\u001b[0m in \u001b[0;36m_update_chunk_length\u001b[1;34m(self)\u001b[0m\n\u001b[0;32m    696\u001b[0m         \u001b[1;32mtry\u001b[0m\u001b[1;33m:\u001b[0m\u001b[1;33m\u001b[0m\u001b[0m\n\u001b[1;32m--> 697\u001b[1;33m             \u001b[0mself\u001b[0m\u001b[1;33m.\u001b[0m\u001b[0mchunk_left\u001b[0m \u001b[1;33m=\u001b[0m \u001b[0mint\u001b[0m\u001b[1;33m(\u001b[0m\u001b[0mline\u001b[0m\u001b[1;33m,\u001b[0m \u001b[1;36m16\u001b[0m\u001b[1;33m)\u001b[0m\u001b[1;33m\u001b[0m\u001b[0m\n\u001b[0m\u001b[0;32m    698\u001b[0m         \u001b[1;32mexcept\u001b[0m \u001b[0mValueError\u001b[0m\u001b[1;33m:\u001b[0m\u001b[1;33m\u001b[0m\u001b[0m\n",
      "\u001b[1;31mValueError\u001b[0m: invalid literal for int() with base 16: b''",
      "\nDuring handling of the above exception, another exception occurred:\n",
      "\u001b[1;31mIncompleteRead\u001b[0mTraceback (most recent call last)",
      "\u001b[1;32md:\\ram\\pcal\\data science\\projects\\trading\\oanda_trading\\tradenv\\lib\\site-packages\\urllib3\\response.py\u001b[0m in \u001b[0;36m_error_catcher\u001b[1;34m(self)\u001b[0m\n\u001b[0;32m    436\u001b[0m             \u001b[1;32mtry\u001b[0m\u001b[1;33m:\u001b[0m\u001b[1;33m\u001b[0m\u001b[0m\n\u001b[1;32m--> 437\u001b[1;33m                 \u001b[1;32myield\u001b[0m\u001b[1;33m\u001b[0m\u001b[0m\n\u001b[0m\u001b[0;32m    438\u001b[0m \u001b[1;33m\u001b[0m\u001b[0m\n",
      "\u001b[1;32md:\\ram\\pcal\\data science\\projects\\trading\\oanda_trading\\tradenv\\lib\\site-packages\\urllib3\\response.py\u001b[0m in \u001b[0;36mread_chunked\u001b[1;34m(self, amt, decode_content)\u001b[0m\n\u001b[0;32m    763\u001b[0m             \u001b[1;32mwhile\u001b[0m \u001b[1;32mTrue\u001b[0m\u001b[1;33m:\u001b[0m\u001b[1;33m\u001b[0m\u001b[0m\n\u001b[1;32m--> 764\u001b[1;33m                 \u001b[0mself\u001b[0m\u001b[1;33m.\u001b[0m\u001b[0m_update_chunk_length\u001b[0m\u001b[1;33m(\u001b[0m\u001b[1;33m)\u001b[0m\u001b[1;33m\u001b[0m\u001b[0m\n\u001b[0m\u001b[0;32m    765\u001b[0m                 \u001b[1;32mif\u001b[0m \u001b[0mself\u001b[0m\u001b[1;33m.\u001b[0m\u001b[0mchunk_left\u001b[0m \u001b[1;33m==\u001b[0m \u001b[1;36m0\u001b[0m\u001b[1;33m:\u001b[0m\u001b[1;33m\u001b[0m\u001b[0m\n",
      "\u001b[1;32md:\\ram\\pcal\\data science\\projects\\trading\\oanda_trading\\tradenv\\lib\\site-packages\\urllib3\\response.py\u001b[0m in \u001b[0;36m_update_chunk_length\u001b[1;34m(self)\u001b[0m\n\u001b[0;32m    700\u001b[0m             \u001b[0mself\u001b[0m\u001b[1;33m.\u001b[0m\u001b[0mclose\u001b[0m\u001b[1;33m(\u001b[0m\u001b[1;33m)\u001b[0m\u001b[1;33m\u001b[0m\u001b[0m\n\u001b[1;32m--> 701\u001b[1;33m             \u001b[1;32mraise\u001b[0m \u001b[0mhttplib\u001b[0m\u001b[1;33m.\u001b[0m\u001b[0mIncompleteRead\u001b[0m\u001b[1;33m(\u001b[0m\u001b[0mline\u001b[0m\u001b[1;33m)\u001b[0m\u001b[1;33m\u001b[0m\u001b[0m\n\u001b[0m\u001b[0;32m    702\u001b[0m \u001b[1;33m\u001b[0m\u001b[0m\n",
      "\u001b[1;31mIncompleteRead\u001b[0m: IncompleteRead(0 bytes read)",
      "\nDuring handling of the above exception, another exception occurred:\n",
      "\u001b[1;31mProtocolError\u001b[0mTraceback (most recent call last)",
      "\u001b[1;32md:\\ram\\pcal\\data science\\projects\\trading\\oanda_trading\\tradenv\\lib\\site-packages\\requests\\models.py\u001b[0m in \u001b[0;36mgenerate\u001b[1;34m()\u001b[0m\n\u001b[0;32m    750\u001b[0m                 \u001b[1;32mtry\u001b[0m\u001b[1;33m:\u001b[0m\u001b[1;33m\u001b[0m\u001b[0m\n\u001b[1;32m--> 751\u001b[1;33m                     \u001b[1;32mfor\u001b[0m \u001b[0mchunk\u001b[0m \u001b[1;32min\u001b[0m \u001b[0mself\u001b[0m\u001b[1;33m.\u001b[0m\u001b[0mraw\u001b[0m\u001b[1;33m.\u001b[0m\u001b[0mstream\u001b[0m\u001b[1;33m(\u001b[0m\u001b[0mchunk_size\u001b[0m\u001b[1;33m,\u001b[0m \u001b[0mdecode_content\u001b[0m\u001b[1;33m=\u001b[0m\u001b[1;32mTrue\u001b[0m\u001b[1;33m)\u001b[0m\u001b[1;33m:\u001b[0m\u001b[1;33m\u001b[0m\u001b[0m\n\u001b[0m\u001b[0;32m    752\u001b[0m                         \u001b[1;32myield\u001b[0m \u001b[0mchunk\u001b[0m\u001b[1;33m\u001b[0m\u001b[0m\n",
      "\u001b[1;32md:\\ram\\pcal\\data science\\projects\\trading\\oanda_trading\\tradenv\\lib\\site-packages\\urllib3\\response.py\u001b[0m in \u001b[0;36mstream\u001b[1;34m(self, amt, decode_content)\u001b[0m\n\u001b[0;32m    571\u001b[0m         \u001b[1;32mif\u001b[0m \u001b[0mself\u001b[0m\u001b[1;33m.\u001b[0m\u001b[0mchunked\u001b[0m \u001b[1;32mand\u001b[0m \u001b[0mself\u001b[0m\u001b[1;33m.\u001b[0m\u001b[0msupports_chunked_reads\u001b[0m\u001b[1;33m(\u001b[0m\u001b[1;33m)\u001b[0m\u001b[1;33m:\u001b[0m\u001b[1;33m\u001b[0m\u001b[0m\n\u001b[1;32m--> 572\u001b[1;33m             \u001b[1;32mfor\u001b[0m \u001b[0mline\u001b[0m \u001b[1;32min\u001b[0m \u001b[0mself\u001b[0m\u001b[1;33m.\u001b[0m\u001b[0mread_chunked\u001b[0m\u001b[1;33m(\u001b[0m\u001b[0mamt\u001b[0m\u001b[1;33m,\u001b[0m \u001b[0mdecode_content\u001b[0m\u001b[1;33m=\u001b[0m\u001b[0mdecode_content\u001b[0m\u001b[1;33m)\u001b[0m\u001b[1;33m:\u001b[0m\u001b[1;33m\u001b[0m\u001b[0m\n\u001b[0m\u001b[0;32m    573\u001b[0m                 \u001b[1;32myield\u001b[0m \u001b[0mline\u001b[0m\u001b[1;33m\u001b[0m\u001b[0m\n",
      "\u001b[1;32md:\\ram\\pcal\\data science\\projects\\trading\\oanda_trading\\tradenv\\lib\\site-packages\\urllib3\\response.py\u001b[0m in \u001b[0;36mread_chunked\u001b[1;34m(self, amt, decode_content)\u001b[0m\n\u001b[0;32m    792\u001b[0m             \u001b[1;32mif\u001b[0m \u001b[0mself\u001b[0m\u001b[1;33m.\u001b[0m\u001b[0m_original_response\u001b[0m\u001b[1;33m:\u001b[0m\u001b[1;33m\u001b[0m\u001b[0m\n\u001b[1;32m--> 793\u001b[1;33m                 \u001b[0mself\u001b[0m\u001b[1;33m.\u001b[0m\u001b[0m_original_response\u001b[0m\u001b[1;33m.\u001b[0m\u001b[0mclose\u001b[0m\u001b[1;33m(\u001b[0m\u001b[1;33m)\u001b[0m\u001b[1;33m\u001b[0m\u001b[0m\n\u001b[0m\u001b[0;32m    794\u001b[0m \u001b[1;33m\u001b[0m\u001b[0m\n",
      "\u001b[1;32mc:\\users\\91989\\appdata\\local\\programs\\python\\python36\\lib\\contextlib.py\u001b[0m in \u001b[0;36m__exit__\u001b[1;34m(self, type, value, traceback)\u001b[0m\n\u001b[0;32m     98\u001b[0m             \u001b[1;32mtry\u001b[0m\u001b[1;33m:\u001b[0m\u001b[1;33m\u001b[0m\u001b[0m\n\u001b[1;32m---> 99\u001b[1;33m                 \u001b[0mself\u001b[0m\u001b[1;33m.\u001b[0m\u001b[0mgen\u001b[0m\u001b[1;33m.\u001b[0m\u001b[0mthrow\u001b[0m\u001b[1;33m(\u001b[0m\u001b[0mtype\u001b[0m\u001b[1;33m,\u001b[0m \u001b[0mvalue\u001b[0m\u001b[1;33m,\u001b[0m \u001b[0mtraceback\u001b[0m\u001b[1;33m)\u001b[0m\u001b[1;33m\u001b[0m\u001b[0m\n\u001b[0m\u001b[0;32m    100\u001b[0m             \u001b[1;32mexcept\u001b[0m \u001b[0mStopIteration\u001b[0m \u001b[1;32mas\u001b[0m \u001b[0mexc\u001b[0m\u001b[1;33m:\u001b[0m\u001b[1;33m\u001b[0m\u001b[0m\n",
      "\u001b[1;32md:\\ram\\pcal\\data science\\projects\\trading\\oanda_trading\\tradenv\\lib\\site-packages\\urllib3\\response.py\u001b[0m in \u001b[0;36m_error_catcher\u001b[1;34m(self)\u001b[0m\n\u001b[0;32m    454\u001b[0m                 \u001b[1;31m# This includes IncompleteRead.\u001b[0m\u001b[1;33m\u001b[0m\u001b[1;33m\u001b[0m\u001b[0m\n\u001b[1;32m--> 455\u001b[1;33m                 \u001b[1;32mraise\u001b[0m \u001b[0mProtocolError\u001b[0m\u001b[1;33m(\u001b[0m\u001b[1;34m\"Connection broken: %r\"\u001b[0m \u001b[1;33m%\u001b[0m \u001b[0me\u001b[0m\u001b[1;33m,\u001b[0m \u001b[0me\u001b[0m\u001b[1;33m)\u001b[0m\u001b[1;33m\u001b[0m\u001b[0m\n\u001b[0m\u001b[0;32m    456\u001b[0m \u001b[1;33m\u001b[0m\u001b[0m\n",
      "\u001b[1;31mProtocolError\u001b[0m: ('Connection broken: IncompleteRead(0 bytes read)', IncompleteRead(0 bytes read))",
      "\nDuring handling of the above exception, another exception occurred:\n",
      "\u001b[1;31mChunkedEncodingError\u001b[0mTraceback (most recent call last)",
      "\u001b[1;32m<ipython-input-5-1e5ed23cce45>\u001b[0m in \u001b[0;36m<module>\u001b[1;34m\u001b[0m\n\u001b[1;32m----> 1\u001b[1;33m \u001b[1;32mfor\u001b[0m \u001b[0mi\u001b[0m\u001b[1;33m,\u001b[0m \u001b[0mresp\u001b[0m \u001b[1;32min\u001b[0m \u001b[0mtqdm\u001b[0m\u001b[1;33m(\u001b[0m\u001b[0menumerate\u001b[0m\u001b[1;33m(\u001b[0m\u001b[0mrv\u001b[0m\u001b[1;33m)\u001b[0m\u001b[1;33m)\u001b[0m\u001b[1;33m:\u001b[0m\u001b[1;33m\u001b[0m\u001b[0m\n\u001b[0m\u001b[0;32m      2\u001b[0m     \u001b[0mresp_type\u001b[0m \u001b[1;33m=\u001b[0m \u001b[0mresp\u001b[0m\u001b[1;33m[\u001b[0m\u001b[1;34m'type'\u001b[0m\u001b[1;33m]\u001b[0m\u001b[1;33m\u001b[0m\u001b[0m\n\u001b[0;32m      3\u001b[0m \u001b[1;33m\u001b[0m\u001b[0m\n\u001b[0;32m      4\u001b[0m     \u001b[1;32mif\u001b[0m \u001b[0mresp_type\u001b[0m \u001b[1;33m==\u001b[0m \u001b[1;34m'HEARTBEAT'\u001b[0m\u001b[1;33m:\u001b[0m \u001b[1;31m# Heart beat response to keep the api connection alive (Avoid timeout)\u001b[0m\u001b[1;33m\u001b[0m\u001b[0m\n\u001b[0;32m      5\u001b[0m         \u001b[1;32mpass\u001b[0m\u001b[1;33m\u001b[0m\u001b[0m\n",
      "\u001b[1;32md:\\ram\\pcal\\data science\\projects\\trading\\oanda_trading\\tradenv\\lib\\site-packages\\tqdm\\std.py\u001b[0m in \u001b[0;36m__iter__\u001b[1;34m(self)\u001b[0m\n\u001b[0;32m   1127\u001b[0m \u001b[1;33m\u001b[0m\u001b[0m\n\u001b[0;32m   1128\u001b[0m         \u001b[1;32mtry\u001b[0m\u001b[1;33m:\u001b[0m\u001b[1;33m\u001b[0m\u001b[0m\n\u001b[1;32m-> 1129\u001b[1;33m             \u001b[1;32mfor\u001b[0m \u001b[0mobj\u001b[0m \u001b[1;32min\u001b[0m \u001b[0miterable\u001b[0m\u001b[1;33m:\u001b[0m\u001b[1;33m\u001b[0m\u001b[0m\n\u001b[0m\u001b[0;32m   1130\u001b[0m                 \u001b[1;32myield\u001b[0m \u001b[0mobj\u001b[0m\u001b[1;33m\u001b[0m\u001b[0m\n\u001b[0;32m   1131\u001b[0m                 \u001b[1;31m# Update and possibly print the progressbar.\u001b[0m\u001b[1;33m\u001b[0m\u001b[1;33m\u001b[0m\u001b[0m\n",
      "\u001b[1;32md:\\ram\\pcal\\data science\\projects\\trading\\oanda_trading\\tradenv\\lib\\site-packages\\oandapyV20\\oandapyV20.py\u001b[0m in \u001b[0;36m__stream_request\u001b[1;34m(self, method, url, request_args, headers)\u001b[0m\n\u001b[0;32m    255\u001b[0m                                   headers=headers, stream=True)\n\u001b[0;32m    256\u001b[0m         \u001b[0mlines\u001b[0m \u001b[1;33m=\u001b[0m \u001b[0mresponse\u001b[0m\u001b[1;33m.\u001b[0m\u001b[0miter_lines\u001b[0m\u001b[1;33m(\u001b[0m\u001b[0mITER_LINES_CHUNKSIZE\u001b[0m\u001b[1;33m)\u001b[0m\u001b[1;33m\u001b[0m\u001b[0m\n\u001b[1;32m--> 257\u001b[1;33m         \u001b[1;32mfor\u001b[0m \u001b[0mline\u001b[0m \u001b[1;32min\u001b[0m \u001b[0mlines\u001b[0m\u001b[1;33m:\u001b[0m\u001b[1;33m\u001b[0m\u001b[0m\n\u001b[0m\u001b[0;32m    258\u001b[0m             \u001b[1;32mif\u001b[0m \u001b[0mline\u001b[0m\u001b[1;33m:\u001b[0m\u001b[1;33m\u001b[0m\u001b[0m\n\u001b[0;32m    259\u001b[0m                 \u001b[0mdata\u001b[0m \u001b[1;33m=\u001b[0m \u001b[0mjson\u001b[0m\u001b[1;33m.\u001b[0m\u001b[0mloads\u001b[0m\u001b[1;33m(\u001b[0m\u001b[0mline\u001b[0m\u001b[1;33m.\u001b[0m\u001b[0mdecode\u001b[0m\u001b[1;33m(\u001b[0m\u001b[1;34m\"utf-8\"\u001b[0m\u001b[1;33m)\u001b[0m\u001b[1;33m)\u001b[0m\u001b[1;33m\u001b[0m\u001b[0m\n",
      "\u001b[1;32md:\\ram\\pcal\\data science\\projects\\trading\\oanda_trading\\tradenv\\lib\\site-packages\\requests\\models.py\u001b[0m in \u001b[0;36miter_lines\u001b[1;34m(self, chunk_size, decode_unicode, delimiter)\u001b[0m\n\u001b[0;32m    793\u001b[0m         \u001b[0mpending\u001b[0m \u001b[1;33m=\u001b[0m \u001b[1;32mNone\u001b[0m\u001b[1;33m\u001b[0m\u001b[0m\n\u001b[0;32m    794\u001b[0m \u001b[1;33m\u001b[0m\u001b[0m\n\u001b[1;32m--> 795\u001b[1;33m         \u001b[1;32mfor\u001b[0m \u001b[0mchunk\u001b[0m \u001b[1;32min\u001b[0m \u001b[0mself\u001b[0m\u001b[1;33m.\u001b[0m\u001b[0miter_content\u001b[0m\u001b[1;33m(\u001b[0m\u001b[0mchunk_size\u001b[0m\u001b[1;33m=\u001b[0m\u001b[0mchunk_size\u001b[0m\u001b[1;33m,\u001b[0m \u001b[0mdecode_unicode\u001b[0m\u001b[1;33m=\u001b[0m\u001b[0mdecode_unicode\u001b[0m\u001b[1;33m)\u001b[0m\u001b[1;33m:\u001b[0m\u001b[1;33m\u001b[0m\u001b[0m\n\u001b[0m\u001b[0;32m    796\u001b[0m \u001b[1;33m\u001b[0m\u001b[0m\n\u001b[0;32m    797\u001b[0m             \u001b[1;32mif\u001b[0m \u001b[0mpending\u001b[0m \u001b[1;32mis\u001b[0m \u001b[1;32mnot\u001b[0m \u001b[1;32mNone\u001b[0m\u001b[1;33m:\u001b[0m\u001b[1;33m\u001b[0m\u001b[0m\n",
      "\u001b[1;32md:\\ram\\pcal\\data science\\projects\\trading\\oanda_trading\\tradenv\\lib\\site-packages\\requests\\models.py\u001b[0m in \u001b[0;36mgenerate\u001b[1;34m()\u001b[0m\n\u001b[0;32m    752\u001b[0m                         \u001b[1;32myield\u001b[0m \u001b[0mchunk\u001b[0m\u001b[1;33m\u001b[0m\u001b[0m\n\u001b[0;32m    753\u001b[0m                 \u001b[1;32mexcept\u001b[0m \u001b[0mProtocolError\u001b[0m \u001b[1;32mas\u001b[0m \u001b[0me\u001b[0m\u001b[1;33m:\u001b[0m\u001b[1;33m\u001b[0m\u001b[0m\n\u001b[1;32m--> 754\u001b[1;33m                     \u001b[1;32mraise\u001b[0m \u001b[0mChunkedEncodingError\u001b[0m\u001b[1;33m(\u001b[0m\u001b[0me\u001b[0m\u001b[1;33m)\u001b[0m\u001b[1;33m\u001b[0m\u001b[0m\n\u001b[0m\u001b[0;32m    755\u001b[0m                 \u001b[1;32mexcept\u001b[0m \u001b[0mDecodeError\u001b[0m \u001b[1;32mas\u001b[0m \u001b[0me\u001b[0m\u001b[1;33m:\u001b[0m\u001b[1;33m\u001b[0m\u001b[0m\n\u001b[0;32m    756\u001b[0m                     \u001b[1;32mraise\u001b[0m \u001b[0mContentDecodingError\u001b[0m\u001b[1;33m(\u001b[0m\u001b[0me\u001b[0m\u001b[1;33m)\u001b[0m\u001b[1;33m\u001b[0m\u001b[0m\n",
      "\u001b[1;31mChunkedEncodingError\u001b[0m: ('Connection broken: IncompleteRead(0 bytes read)', IncompleteRead(0 bytes read))"
     ]
    }
   ],
   "source": [
    "for i, resp in tqdm(enumerate(rv)):        \n",
    "    resp_type = resp['type']       \n",
    "\n",
    "    if resp_type == 'HEARTBEAT': # Heart beat response to keep the api connection alive (Avoid timeout)\n",
    "        pass\n",
    "\n",
    "    #-----------------------------------------------------------------------------------------------------\n",
    "    elif resp_type == 'PRICE': # Check if we are yet to make the order               \n",
    "        date_val, time_val, time_fraction = get_date_time(resp) # Get time stamp for reference            \n",
    "        sell_price, buy_price, spread, tick_price = get_prices(resp) # Get prices from the response  \n",
    "        r = positions.OpenPositions(accountID=accountID)\n",
    "        \n",
    "        #change flag for stop_loss close issues\n",
    "        if len(api.request(r)['positions']) > 0:\n",
    "            order_flag = True\n",
    "        elif len(api.request(r)['positions']) == 0:\n",
    "            order_flag = False\n",
    "\n",
    "    #List Prep\n",
    "    #-----------------------------------------------------------------------------------------------------\n",
    "        #Short list prep\n",
    "        #-----------------------------------------------------------------------------------------------------\n",
    "        if len(short_list) < short_moving_window:\n",
    "            short_list.append(tick_price)\n",
    "\n",
    "        if short_flag and len(short_list) == short_moving_window:\n",
    "            short_wma = sum(np.array(short_list)*short_weights)\n",
    "            short_flag =False\n",
    "\n",
    "        if short_flag == False and len(short_list) == short_moving_window:\n",
    "            short_list.popleft()   \n",
    "            short_list.append(tick_price) \n",
    "            short_wma = sum(np.array(short_list)*short_weights)\n",
    "\n",
    "        # Append WMA list\n",
    "        if len(short_list) == short_moving_window:\n",
    "            if len(short_wma_list) < lists_size:\n",
    "                short_wma_list.append(short_wma)\n",
    "                #stan_dev_list.append(stan_dev)\n",
    "\n",
    "            elif len(short_wma_list) == lists_size:\n",
    "                short_wma_list.popleft()   \n",
    "                short_wma_list.append(short_wma)             \n",
    "\n",
    "\n",
    "        #Long list prep   \n",
    "        #-----------------------------------------------------------------------------------------------------                \n",
    "        if len(long_list) < long_moving_window:\n",
    "            long_list.append(tick_price)\n",
    "\n",
    "        if long_flag and len(long_list) == long_moving_window:\n",
    "            long_wma = sum(np.array(long_list)*long_weights)\n",
    "            long_flag = False\n",
    "\n",
    "        if long_flag == False and len(long_list) == long_moving_window:\n",
    "            long_list.popleft()   \n",
    "            long_list.append(tick_price) \n",
    "            long_wma = sum(np.array(long_list)*long_weights)   \n",
    "            #long_list_counter += 1\n",
    "            #if long_list_counter >= lists_size:\n",
    "                #list_ready = True\n",
    "                \n",
    "                \n",
    "        if len(long_list) == long_moving_window:\n",
    "            if len(long_wma_list) < lists_size:\n",
    "                long_wma_list.append(long_wma)\n",
    "                tick_list.append(tick_price)\n",
    "\n",
    "            elif len(long_wma_list) == lists_size:\n",
    "                long_wma_list.popleft()   \n",
    "                long_wma_list.append(long_wma)  \n",
    "                short_slope_x_plt, long_slope_x_plt, abline_short, abline_long, wma_angle, angle, horz_angle_short = get_slopes(short_wma_list, long_wma_list, slope_num, short_slope_num,pip, lists_size)\n",
    "                list_ready = True\n",
    "    #-----------------------------------------------------------------------------------------------------\n",
    "  \n",
    "        #Direction identification\n",
    "        #----------------------------------------------------------------------------------------------------- \n",
    "        if valid_iteration == False and list_ready:\n",
    "            #print(f'Gap: {max_gap_wma}, Threshold: {max_gap_wma_threshold}')\n",
    "            pass\n",
    "            \n",
    "        elif valid_iteration and list_ready:            \n",
    "            if list_ready:\n",
    "                if short_wma > long_wma:\n",
    "                    current_position = 'positive'\n",
    "                elif short_wma < long_wma:\n",
    "                    current_position = 'negative'\n",
    "                elif short_wma == long_wma:\n",
    "                    current_position = 'same level'\n",
    "\n",
    "            if list_ready and initial_position_captured == False:\n",
    "                initial_position = current_position\n",
    "                print(f'initial_position : {initial_position}')\n",
    "                initial_position_captured =  True\n",
    "                winsound.PlaySound('C:\\\\Windows\\\\Media\\\\tada.wav', winsound.SND_ASYNC) \n",
    "\n",
    "            if list_ready and initial_position_captured:\n",
    "                if initial_position == current_position:\n",
    "                    pass\n",
    "\n",
    "                elif current_position == 'same level':\n",
    "                    print('Same level, wait for next iteration')\n",
    "\n",
    "                elif initial_position != current_position and current_position != 'same level':\n",
    "                    print(f'{initial_position} ---> {current_position}')\n",
    "\n",
    "                    #Select order type -------------------------------------------------------------------------\n",
    "                    if current_position == 'positive':\n",
    "                        old_order_type = 'short'\n",
    "                        order_type = 'long'\n",
    "                        stop_price = buy_price - loss_limit                \n",
    "\n",
    "                    elif current_position == 'negative':\n",
    "                        old_order_type = 'long'\n",
    "                        order_type = 'short'\n",
    "                        stop_price = sell_price + loss_limit                \n",
    "\n",
    "                    # Ordering -------------------------------------------------------------------------    \n",
    "                    #-------------------------------------------------------------------------------------------                \n",
    "                    if order_flag:\n",
    "                        r = positions.OpenPositions(accountID=accountID)\n",
    "                        if len(api.request(r)['positions']) > 0:\n",
    "                            close_order_log = close_order(accountID, old_order_type ,instrument, api)\n",
    "                            closed_orders += 1\n",
    "                            print(f'Closed {old_order_type} position : {closed_orders}')\n",
    "                            if closed_orders >= order_num_limit:\n",
    "                                print(f'Closed {closed_orders} orders and exited')\n",
    "                                break\n",
    "                        else:\n",
    "                            pass\n",
    "                                \n",
    "                        get_wma_output_data(accountID, instrument, 'direction_change', api, short_moving_window, long_moving_window, lists_size, units, loss_limit_num, profit_target, price_allowed_buffer, max_skips, consecutive_losses)\n",
    "                        close_dict_key= list(close_order_log.keys())[1]\n",
    "                        pl_pip = float(close_order_log[close_dict_key]['pl'])\n",
    "                        order_flag = False\n",
    "\n",
    "                        if len(pl_list) < consecutive_losses:\n",
    "                            pl_list.append(pl_pip)\n",
    "                        \n",
    "                        if len(pl_list) == consecutive_losses:\n",
    "                            negative_run = all(itrs < 0 for itrs in pl_list)\n",
    "                            pl_list.popleft()\n",
    "                            pl_list.append(pl_pip)\n",
    "\n",
    "                            \n",
    "                    if negative_run == False:\n",
    "                        if abs(angle) >= min_order_angle and abs(horz_angle_short) >= min_order_angle:\n",
    "                            print(f'Going {order_type}')\n",
    "                            make_order_log = make_order(accountID, stop_price, instrument, units, order_type, api)\n",
    "                            print('ordered')\n",
    "                            first_long =  True\n",
    "                            order_flag = True\n",
    "                        else:\n",
    "                            print(f'Angle:{angle}, short_angle:{horz_angle_short} smaller than min_order_angle:{min_order_angle}')\n",
    "                    else:\n",
    "                        if max_skips > skip_iter:\n",
    "                            print(f'Skipped iteration:{skip_iter}, pl_list : {pl_list}')\n",
    "                            skip_iter += 1\n",
    "                        elif max_skips <= skip_iter:\n",
    "                            print(f'Skipped iteration:{skip_iter}, pl_list : {pl_list}')\n",
    "                            negative_run = False\n",
    "                            #pl_list = collections.deque([])\n",
    "                            pl_list.popleft()\n",
    "                            \n",
    "                    initial_position = current_position\n",
    "\n",
    "\n",
    "                    \n",
    "                # Take Profit -------------------------------------------------------------------------    \n",
    "                #-------------------------------------------------------------------------------------------                      \n",
    "                \n",
    "                if initial_position == current_position and current_position != 'same level' and order_flag:\n",
    "                    \n",
    "                    if order_type == 'long':     \n",
    "                        ordered_buy_price = float(make_order_log['orderFillTransaction']['fullPrice']['asks'][0]['price'])\n",
    "                        profit = sell_price - ordered_buy_price \n",
    "                        \n",
    "                        if first_long:\n",
    "                            max_price = short_wma\n",
    "                            first_long = False\n",
    "\n",
    "                        max_price = max(short_wma, max_price)\n",
    "                        buffered_max_price = max_price - (max_price * pip * price_allowed_buffer)\n",
    "\n",
    "                        if profit >= profit_target and short_wma <= buffered_max_price:    \n",
    "                            r = positions.OpenPositions(accountID=accountID)\n",
    "                            if len(api.request(r)['positions']) > 0:\n",
    "                                close_order_log = close_order(accountID, order_type ,instrument, api)   \n",
    "                                closed_orders += 1\n",
    "                                print(f'Closed {order_type} position : {closed_orders}')\n",
    "                            else:\n",
    "                                pass\n",
    "                                \n",
    "                            get_wma_output_data(accountID, instrument, 'Take_profit', api, short_moving_window, long_moving_window, lists_size, units, loss_limit_num, profit_target, price_allowed_buffer, max_skips, consecutive_losses)\n",
    "                            order_flag = False\n",
    "                            max_gap_wma = 0\n",
    "\n",
    "                            \n",
    "                    if order_type == 'short':     \n",
    "                        ordered_sell_price = float(make_order_log['orderFillTransaction']['fullPrice']['bids'][0]['price'])\n",
    "                        profit = ordered_sell_price - buy_price                \n",
    "                        \n",
    "                        if first_long:\n",
    "                            min_price = short_wma\n",
    "                            first_long = False\n",
    "\n",
    "                        min_price = min(short_wma, min_price)\n",
    "                        buffered_min_price = min_price + (min_price * pip * price_allowed_buffer)\n",
    "\n",
    "                        if profit >= profit_target and short_wma >= buffered_min_price:\n",
    "                            r = positions.OpenPositions(accountID=accountID)\n",
    "                            if len(api.request(r)['positions']) > 0:\n",
    "                                close_order_log = close_order(accountID, order_type ,instrument, api)     \n",
    "                                closed_orders += 1\n",
    "                                print(f'Closed {order_type} position : {closed_orders}')\n",
    "                            else:\n",
    "                                pass\n",
    "\n",
    "                            get_wma_output_data(accountID, instrument, 'Take_profit', api, short_moving_window, long_moving_window, lists_size, units, loss_limit_num, profit_target, price_allowed_buffer, max_skips, consecutive_losses)\n",
    "                            order_flag = False\n",
    "                            max_gap_wma = 0             \n",
    "                            \n",
    "                            \n",
    "                            \n",
    "                    # Stepped bets -------------------------------------------------------------------------    \n",
    "                    #-------------------------------------------------------------------------------------------       \n",
    "                    price_diff = short_wma - long_wma\n",
    "                    \n",
    "                    if price_diff >= profit_level and abs(angle) >= min_order_angle and abs(horz_angle_short) >= min_order_angle and negative_run == False and stepped_orders:\n",
    "                            print(f'Making stepped {order_type}\\nprice_diff : {price_diff}\\nangle : {angle}\\nhorz_angle_short : {horz_angle_short}')\n",
    "                            make_order_log_dummy = make_order(accountID, stop_price, instrument, units, order_type, api)\n",
    "                            profit_level = profit_level + profit_level\n",
    "                            order_flag = True                                \n",
    "                    else:\n",
    "                        pass\n",
    "                        #print(f'No-step order {order_type} price_diff : {price_diff} angle : {angle}')\n",
    "\n",
    "                            \n",
    "                            \n",
    "                # No cross ordering -------------------------------------------------------------------------    \n",
    "                #-------------------------------------------------------------------------------------------                      \n",
    "                \n",
    "                if initial_position == current_position and current_position != 'same level' and order_flag == False and no_cross_ordering:\n",
    "                    #Select order type -------------------------------------------------------------------------\n",
    "\n",
    "                    '''\n",
    "                    if current_position == 'positive':\n",
    "                        order_type = 'long'\n",
    "                        stop_price = buy_price - loss_limit                \n",
    "\n",
    "                    elif current_position == 'negative':\n",
    "                        order_type = 'short'\n",
    "                        stop_price = sell_price + loss_limit                \n",
    "                    '''                    \n",
    "\n",
    "                    price_diff = short_wma - long_wma\n",
    "                    \n",
    "                    if abs(price_diff) >= min_diff and angle > 0 and abs(angle) >= min_order_angle and horz_angle_short > 0 and abs(horz_angle_short) >= min_order_angle and negative_run == False:\n",
    "                        no_cross_dir = 'positive'\n",
    "\n",
    "                    elif abs(price_diff) >= min_diff and angle < 0 and abs(angle) >= min_order_angle and horz_angle_short < 0 and abs(horz_angle_short) >= min_order_angle and negative_run == False:\n",
    "                        no_cross_dir = 'negative'\n",
    "\n",
    "                    else:\n",
    "                        no_cross_dir = \"No direction\"\n",
    "\n",
    "                    if no_cross_dir == 'positive' and negative_run == False and order_flag == False:\n",
    "                        order_type = 'long'\n",
    "                        stop_price = buy_price - loss_limit            \n",
    "                        print(f'No-cross {order_type} \\nangle:{angle}\\nprice diff:{price_diff}\\nhorz_angle_short : {horz_angle_short}')\n",
    "                        make_order_log = make_order(accountID, stop_price, instrument, units, order_type, api)\n",
    "                        print(f'ordered')\n",
    "                        order_flag = True\n",
    "                        first_long =  True\n",
    "                        #current_position = 'positive'\n",
    "                        #no_cross_list = collections.deque([])\n",
    "                        #no_cross_dir = 'none'\n",
    "                        \n",
    "                    if no_cross_dir == 'negative' and negative_run == False and order_flag == False:\n",
    "                        order_type = 'short'\n",
    "                        stop_price = sell_price + loss_limit       \n",
    "                        print(f'No-cross {order_type} \\nangle:{angle}\\nprice diff:{price_diff}\\nhorz_angle_short : {horz_angle_short}')\n",
    "                        make_order_log = make_order(accountID, stop_price, instrument, units, order_type, api)\n",
    "                        print(f'ordered')\n",
    "                        order_flag = True     \n",
    "                        first_long =  True\n",
    "                        #current_position = 'negative'\n",
    "                        #no_cross_list = collections.deque([])\n",
    "                        #no_cross_dir = 'none'\n",
    "                        \n",
    "                    else:\n",
    "                        pass\n",
    "\n",
    "                            \n",
    "                            \n",
    "    if closed_orders >= order_num_limit:\n",
    "        print(f'Closed {closed_orders} orders and exited')\n",
    "        break"
   ]
  },
  {
   "cell_type": "code",
   "execution_count": 6,
   "metadata": {},
   "outputs": [],
   "source": [
    "df_copy = pd.read_csv('data/machine_use/wma_log_machine_use.csv')\n",
    "df_copy.to_csv('data/wma_log.csv', index = False)"
   ]
  },
  {
   "cell_type": "code",
   "execution_count": null,
   "metadata": {},
   "outputs": [],
   "source": [
    "ordered_sell_price = float(make_order_log['orderFillTransaction']['fullPrice']['bids'][0]['price'])\n",
    "ordered_sell_price"
   ]
  },
  {
   "cell_type": "code",
   "execution_count": null,
   "metadata": {},
   "outputs": [],
   "source": [
    "buffered_min_price"
   ]
  },
  {
   "cell_type": "code",
   "execution_count": null,
   "metadata": {},
   "outputs": [],
   "source": [
    "short_wma"
   ]
  },
  {
   "cell_type": "code",
   "execution_count": null,
   "metadata": {},
   "outputs": [],
   "source": [
    "profit_level"
   ]
  },
  {
   "cell_type": "code",
   "execution_count": null,
   "metadata": {
    "scrolled": true
   },
   "outputs": [],
   "source": [
    "make_order_log"
   ]
  },
  {
   "cell_type": "code",
   "execution_count": null,
   "metadata": {},
   "outputs": [],
   "source": [
    "print(initial_position, current_position)"
   ]
  },
  {
   "cell_type": "code",
   "execution_count": null,
   "metadata": {},
   "outputs": [],
   "source": [
    "'''\n",
    "l = [1,2,3]\n",
    "l = [3,2,1]\n",
    "\n",
    "counter = 0\n",
    "for i, val in enumerate(l[:-1]):\n",
    "    if l[i] < l[i+1]:\n",
    "        counter += 1 \n",
    "    elif l[i] > l[i+1]:\n",
    "        counter -= 1 \n",
    "        \n",
    "\n",
    "if (counter + 1) == len(l):\n",
    "    print('All positive')\n",
    "    \n",
    "elif (counter - 1) == (len(l) * -1):\n",
    "    print('All Negative')\n",
    "else:\n",
    "    print(\"No direction\")\n",
    "'''"
   ]
  },
  {
   "cell_type": "code",
   "execution_count": null,
   "metadata": {},
   "outputs": [],
   "source": [
    "print(f'buy_price:{buy_price} \\nsell_price:{sell_price} \\nstop_price:{stop_price} \\nloss_limit:{loss_limit}')"
   ]
  },
  {
   "cell_type": "code",
   "execution_count": null,
   "metadata": {},
   "outputs": [],
   "source": [
    "transactionID = 3630\n",
    "trans_r = trans.TransactionDetails(accountID=accountID, transactionID=transactionID)\n",
    "trans_rv = api.request(trans_r)\n",
    "trans_rv"
   ]
  },
  {
   "cell_type": "code",
   "execution_count": null,
   "metadata": {
    "scrolled": true
   },
   "outputs": [],
   "source": [
    "transactionID = 3649\n",
    "trans_r = trans.TransactionDetails(accountID=accountID, transactionID=transactionID)\n",
    "trans_rv = api.request(trans_r)\n",
    "trans_rv"
   ]
  }
 ],
 "metadata": {
  "kernelspec": {
   "display_name": "Python 3",
   "language": "python",
   "name": "python3"
  },
  "language_info": {
   "codemirror_mode": {
    "name": "ipython",
    "version": 3
   },
   "file_extension": ".py",
   "mimetype": "text/x-python",
   "name": "python",
   "nbconvert_exporter": "python",
   "pygments_lexer": "ipython3",
   "version": "3.6.6"
  }
 },
 "nbformat": 4,
 "nbformat_minor": 4
}
