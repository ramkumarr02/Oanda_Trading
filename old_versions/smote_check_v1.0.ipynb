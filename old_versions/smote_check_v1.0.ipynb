{
 "cells": [
  {
   "cell_type": "markdown",
   "metadata": {},
   "source": [
    "# Modelling"
   ]
  },
  {
   "cell_type": "markdown",
   "metadata": {},
   "source": [
    "## Packages"
   ]
  },
  {
   "cell_type": "code",
   "execution_count": 1,
   "metadata": {
    "scrolled": true
   },
   "outputs": [
    {
     "name": "stdout",
     "output_type": "stream",
     "text": [
      " Found and Using 1 GPU\n"
     ]
    }
   ],
   "source": [
    "import numpy as np\n",
    "import pandas as pd\n",
    "from tqdm import tqdm\n",
    "import winsound\n",
    "import datetime as dt\n",
    "\n",
    "import warnings\n",
    "warnings.filterwarnings('ignore')\n",
    "\n",
    "from sklearn.model_selection import train_test_split\n",
    "from sklearn.preprocessing import StandardScaler, MinMaxScaler, LabelEncoder, OneHotEncoder\n",
    "from sklearn.metrics import classification_report\n",
    "from sklearn.ensemble import RandomForestClassifier\n",
    "\n",
    "from keras.utils import np_utils\n",
    "\n",
    "import tensorflow as tf\n",
    "from tensorflow.keras.models import load_model\n",
    "from tensorflow.keras.models import Sequential\n",
    "from tensorflow.keras.layers import Activation, Dense\n",
    "from tensorflow.keras.optimizers import Adam\n",
    "from tensorflow.keras.metrics import categorical_crossentropy\n",
    "\n",
    "from imblearn.over_sampling import SMOTE\n",
    "\n",
    "from matplotlib import pyplot as plt\n",
    "\n",
    "print(f\" Found and Using {len(tf.config.experimental.list_physical_devices('GPU'))} GPU\")"
   ]
  },
  {
   "cell_type": "markdown",
   "metadata": {},
   "source": [
    "## Functions"
   ]
  },
  {
   "cell_type": "code",
   "execution_count": 2,
   "metadata": {},
   "outputs": [],
   "source": [
    "def scale_x_encode_y(x, y):\n",
    "\n",
    "    x_scaled = StandardScaler().fit_transform(x.values)    \n",
    "    \n",
    "    encoder = LabelEncoder()\n",
    "    encoder.fit(y)\n",
    "    y_encoded = encoder.transform(y)\n",
    "    y_encoded = np_utils.to_categorical(y_encoded)\n",
    "    \n",
    "    y_map = dict(zip(encoder.transform(encoder.classes_),encoder.classes_))\n",
    " \n",
    "    return(x_scaled, y_encoded, y_map)\n",
    "\n",
    "def smote_data(x, y):\n",
    "    oversample = SMOTE()\n",
    "    smote_x, smote_y = oversample.fit_resample(x, y)\n",
    "\n",
    "    return(smote_x, smote_y)\n",
    "\n",
    "def split_data(df, divisor):\n",
    "    df_tot = df.copy()\n",
    "    print(f'df_tot count : {len(df_tot)}')\n",
    "\n",
    "    df1 = df_tot.iloc[int(len(df_tot)/divisor):]\n",
    "    print(f'df1 count : {len(df1)}')\n",
    "\n",
    "    df2 = df_tot.iloc[:int(len(df_tot)/divisor)]\n",
    "    print(f'df2 count : {len(df2)}')\n",
    "    \n",
    "    return(df_tot, df1, df2)\n",
    "\n",
    "def data_prep(df, apply_smote = False):\n",
    "    x = df.loc[:, df.columns != target_col]\n",
    "    y = df[target_col]\n",
    "\n",
    "    if apply_smote:\n",
    "        x, y = smote_data(x, y)\n",
    "\n",
    "    print(f'Record count : {len(y)}')\n",
    "    print('--------------------------')\n",
    "    print(y.value_counts())\n",
    "    print('--------------------------')\n",
    "    print(y.value_counts(normalize=True))\n",
    "    \n",
    "    x_scaled, y_encoded, y_map = scale_x_encode_y(x, y)\n",
    "    pd.DataFrame(x_scaled).head()\n",
    "    \n",
    "    return(x_scaled, y_encoded, y_map)"
   ]
  },
  {
   "cell_type": "markdown",
   "metadata": {},
   "source": [
    "## Read Data"
   ]
  },
  {
   "cell_type": "code",
   "execution_count": 6,
   "metadata": {},
   "outputs": [
    {
     "data": {
      "text/html": [
       "<div>\n",
       "<style scoped>\n",
       "    .dataframe tbody tr th:only-of-type {\n",
       "        vertical-align: middle;\n",
       "    }\n",
       "\n",
       "    .dataframe tbody tr th {\n",
       "        vertical-align: top;\n",
       "    }\n",
       "\n",
       "    .dataframe thead th {\n",
       "        text-align: right;\n",
       "    }\n",
       "</style>\n",
       "<table border=\"1\" class=\"dataframe\">\n",
       "  <thead>\n",
       "    <tr style=\"text-align: right;\">\n",
       "      <th></th>\n",
       "      <th>Open</th>\n",
       "      <th>High</th>\n",
       "      <th>Low</th>\n",
       "      <th>Close</th>\n",
       "      <th>diff</th>\n",
       "      <th>gain</th>\n",
       "      <th>loss</th>\n",
       "      <th>avg_gain</th>\n",
       "      <th>avg_loss</th>\n",
       "      <th>rs</th>\n",
       "      <th>rsi</th>\n",
       "      <th>ssma</th>\n",
       "      <th>lsma</th>\n",
       "      <th>sma_diff</th>\n",
       "      <th>sema</th>\n",
       "      <th>lema</th>\n",
       "      <th>ema_diff</th>\n",
       "      <th>slope_s</th>\n",
       "      <th>target</th>\n",
       "    </tr>\n",
       "  </thead>\n",
       "  <tbody>\n",
       "    <tr>\n",
       "      <th>0</th>\n",
       "      <td>1.14541</td>\n",
       "      <td>1.14544</td>\n",
       "      <td>1.14541</td>\n",
       "      <td>1.14541</td>\n",
       "      <td>0.00009</td>\n",
       "      <td>0.00009</td>\n",
       "      <td>0.00000</td>\n",
       "      <td>0.000038</td>\n",
       "      <td>0.000060</td>\n",
       "      <td>0.633333</td>\n",
       "      <td>38.775510</td>\n",
       "      <td>1.145300</td>\n",
       "      <td>1.146044</td>\n",
       "      <td>-0.000744</td>\n",
       "      <td>1.145337</td>\n",
       "      <td>1.145868</td>\n",
       "      <td>-0.000531</td>\n",
       "      <td>-52.366769</td>\n",
       "      <td>same</td>\n",
       "    </tr>\n",
       "    <tr>\n",
       "      <th>1</th>\n",
       "      <td>1.14546</td>\n",
       "      <td>1.14549</td>\n",
       "      <td>1.14546</td>\n",
       "      <td>1.14547</td>\n",
       "      <td>0.00006</td>\n",
       "      <td>0.00006</td>\n",
       "      <td>0.00000</td>\n",
       "      <td>0.000044</td>\n",
       "      <td>0.000048</td>\n",
       "      <td>0.916667</td>\n",
       "      <td>47.826087</td>\n",
       "      <td>1.145296</td>\n",
       "      <td>1.146039</td>\n",
       "      <td>-0.000743</td>\n",
       "      <td>1.145361</td>\n",
       "      <td>1.145859</td>\n",
       "      <td>-0.000498</td>\n",
       "      <td>45.855097</td>\n",
       "      <td>same</td>\n",
       "    </tr>\n",
       "    <tr>\n",
       "      <th>2</th>\n",
       "      <td>1.14543</td>\n",
       "      <td>1.14543</td>\n",
       "      <td>1.14541</td>\n",
       "      <td>1.14541</td>\n",
       "      <td>-0.00006</td>\n",
       "      <td>0.00000</td>\n",
       "      <td>0.00006</td>\n",
       "      <td>0.000044</td>\n",
       "      <td>0.000045</td>\n",
       "      <td>0.977778</td>\n",
       "      <td>49.438202</td>\n",
       "      <td>1.145295</td>\n",
       "      <td>1.146032</td>\n",
       "      <td>-0.000737</td>\n",
       "      <td>1.145370</td>\n",
       "      <td>1.145849</td>\n",
       "      <td>-0.000479</td>\n",
       "      <td>68.029719</td>\n",
       "      <td>same</td>\n",
       "    </tr>\n",
       "    <tr>\n",
       "      <th>3</th>\n",
       "      <td>1.14532</td>\n",
       "      <td>1.14537</td>\n",
       "      <td>1.14532</td>\n",
       "      <td>1.14533</td>\n",
       "      <td>-0.00008</td>\n",
       "      <td>0.00000</td>\n",
       "      <td>0.00008</td>\n",
       "      <td>0.000044</td>\n",
       "      <td>0.000038</td>\n",
       "      <td>1.157895</td>\n",
       "      <td>53.658537</td>\n",
       "      <td>1.145301</td>\n",
       "      <td>1.146019</td>\n",
       "      <td>-0.000718</td>\n",
       "      <td>1.145363</td>\n",
       "      <td>1.145837</td>\n",
       "      <td>-0.000474</td>\n",
       "      <td>68.222514</td>\n",
       "      <td>same</td>\n",
       "    </tr>\n",
       "    <tr>\n",
       "      <th>4</th>\n",
       "      <td>1.14531</td>\n",
       "      <td>1.14531</td>\n",
       "      <td>1.14525</td>\n",
       "      <td>1.14526</td>\n",
       "      <td>-0.00007</td>\n",
       "      <td>0.00000</td>\n",
       "      <td>0.00007</td>\n",
       "      <td>0.000036</td>\n",
       "      <td>0.000045</td>\n",
       "      <td>0.800000</td>\n",
       "      <td>44.444444</td>\n",
       "      <td>1.145292</td>\n",
       "      <td>1.146011</td>\n",
       "      <td>-0.000719</td>\n",
       "      <td>1.145344</td>\n",
       "      <td>1.145824</td>\n",
       "      <td>-0.000480</td>\n",
       "      <td>69.007147</td>\n",
       "      <td>same</td>\n",
       "    </tr>\n",
       "  </tbody>\n",
       "</table>\n",
       "</div>"
      ],
      "text/plain": [
       "      Open     High      Low    Close     diff     gain     loss  avg_gain  \\\n",
       "0  1.14541  1.14544  1.14541  1.14541  0.00009  0.00009  0.00000  0.000038   \n",
       "1  1.14546  1.14549  1.14546  1.14547  0.00006  0.00006  0.00000  0.000044   \n",
       "2  1.14543  1.14543  1.14541  1.14541 -0.00006  0.00000  0.00006  0.000044   \n",
       "3  1.14532  1.14537  1.14532  1.14533 -0.00008  0.00000  0.00008  0.000044   \n",
       "4  1.14531  1.14531  1.14525  1.14526 -0.00007  0.00000  0.00007  0.000036   \n",
       "\n",
       "   avg_loss        rs        rsi      ssma      lsma  sma_diff      sema  \\\n",
       "0  0.000060  0.633333  38.775510  1.145300  1.146044 -0.000744  1.145337   \n",
       "1  0.000048  0.916667  47.826087  1.145296  1.146039 -0.000743  1.145361   \n",
       "2  0.000045  0.977778  49.438202  1.145295  1.146032 -0.000737  1.145370   \n",
       "3  0.000038  1.157895  53.658537  1.145301  1.146019 -0.000718  1.145363   \n",
       "4  0.000045  0.800000  44.444444  1.145292  1.146011 -0.000719  1.145344   \n",
       "\n",
       "       lema  ema_diff    slope_s target  \n",
       "0  1.145868 -0.000531 -52.366769   same  \n",
       "1  1.145859 -0.000498  45.855097   same  \n",
       "2  1.145849 -0.000479  68.029719   same  \n",
       "3  1.145837 -0.000474  68.222514   same  \n",
       "4  1.145824 -0.000480  69.007147   same  "
      ]
     },
     "execution_count": 6,
     "metadata": {},
     "output_type": "execute_result"
    }
   ],
   "source": [
    "#df = pd.read_csv('data/tab_df.csv')\n",
    "df = pd.read_csv('data/tab_M1_2019.csv')\n",
    "\n",
    "#df = df[['diff', 'avg_gain', 'avg_loss', 'rs', 'rsi', 'slope', 'target']]\n",
    "df.head(5)"
   ]
  },
  {
   "cell_type": "code",
   "execution_count": 7,
   "metadata": {},
   "outputs": [
    {
     "name": "stdout",
     "output_type": "stream",
     "text": [
      "Record count : 186166\n",
      "--------------------------\n",
      "same        180365\n",
      "decrease      2991\n",
      "increase      2810\n",
      "Name: target, dtype: int64\n",
      "--------------------------\n",
      "same        0.968840\n",
      "decrease    0.016066\n",
      "increase    0.015094\n",
      "Name: target, dtype: float64\n"
     ]
    }
   ],
   "source": [
    "target_col = 'target'\n",
    "\n",
    "print(f'Record count : {len(df)}')\n",
    "print('--------------------------')\n",
    "print(df[target_col].value_counts())\n",
    "print('--------------------------')\n",
    "print(df[target_col].value_counts(normalize=True))"
   ]
  },
  {
   "cell_type": "markdown",
   "metadata": {},
   "source": [
    "print('Data split')\n",
    "df_tot, df1, df2 = split_data(df, 5)\n",
    "print('----------------------------------------------------')\n",
    "print('Scale encode train valid data')\n",
    "x_scaled, y_encoded, y_map = data_prep(df, apply_smote = False)\n",
    "print('----------------------------------------------------')\n",
    "print('Scale encode test data')\n",
    "x_scaled1, y_encoded1, y_map1 = data_prep(df2, apply_smote = False)"
   ]
  },
  {
   "cell_type": "code",
   "execution_count": null,
   "metadata": {},
   "outputs": [],
   "source": [
    "x_scaled, y_encoded, y_map = data_prep(df, apply_smote = False)"
   ]
  },
  {
   "cell_type": "markdown",
   "metadata": {},
   "source": [
    "## Train test split"
   ]
  },
  {
   "cell_type": "code",
   "execution_count": 9,
   "metadata": {},
   "outputs": [],
   "source": [
    "train_x, valid_x, train_y, valid_y = train_test_split(x_scaled, y_encoded,train_size = 0.8,random_state = 1)"
   ]
  },
  {
   "cell_type": "markdown",
   "metadata": {},
   "source": [
    "## Neural Network"
   ]
  },
  {
   "cell_type": "markdown",
   "metadata": {},
   "source": [
    "### Network building"
   ]
  },
  {
   "cell_type": "code",
   "execution_count": 10,
   "metadata": {},
   "outputs": [],
   "source": [
    "model = Sequential([\n",
    "    Dense(units = 16, activation='relu', input_shape=[len(train_x[0])]),\n",
    "    Dense(units = 32, activation='relu'),\n",
    "    #Dense(units = 64, activation='relu'),\n",
    "    #Dense(units = 32, activation='relu'),\n",
    "    #Dense(units = 16, activation='relu'),\n",
    "    Dense(units = 3, activation='softmax')\n",
    "])"
   ]
  },
  {
   "cell_type": "code",
   "execution_count": 11,
   "metadata": {},
   "outputs": [],
   "source": [
    "model.compile(\n",
    "    loss='categorical_crossentropy',\n",
    "    optimizer=Adam(learning_rate=0.001),    \n",
    "    metrics=['accuracy'])"
   ]
  },
  {
   "cell_type": "code",
   "execution_count": 12,
   "metadata": {},
   "outputs": [
    {
     "name": "stdout",
     "output_type": "stream",
     "text": [
      "Model: \"sequential\"\n",
      "_________________________________________________________________\n",
      "Layer (type)                 Output Shape              Param #   \n",
      "=================================================================\n",
      "dense (Dense)                (None, 16)                304       \n",
      "_________________________________________________________________\n",
      "dense_1 (Dense)              (None, 32)                544       \n",
      "_________________________________________________________________\n",
      "dense_2 (Dense)              (None, 3)                 99        \n",
      "=================================================================\n",
      "Total params: 947\n",
      "Trainable params: 947\n",
      "Non-trainable params: 0\n",
      "_________________________________________________________________\n"
     ]
    }
   ],
   "source": [
    "model.summary()"
   ]
  },
  {
   "cell_type": "markdown",
   "metadata": {},
   "source": [
    "### Parameters"
   ]
  },
  {
   "cell_type": "code",
   "execution_count": 13,
   "metadata": {},
   "outputs": [],
   "source": [
    "epoch_val         = 10\n",
    "batch_size_val    = 64\n",
    "\n",
    "verbose_val       = 2\n",
    "workers_val       = -1"
   ]
  },
  {
   "cell_type": "markdown",
   "metadata": {},
   "source": [
    "### Training"
   ]
  },
  {
   "cell_type": "code",
   "execution_count": 14,
   "metadata": {
    "scrolled": false
   },
   "outputs": [
    {
     "name": "stdout",
     "output_type": "stream",
     "text": [
      "Epoch 1/10\n",
      "2328/2328 - 4s - loss: 0.0926 - accuracy: 0.9734 - val_loss: 0.0531 - val_accuracy: 0.9812\n",
      "Epoch 2/10\n",
      "2328/2328 - 4s - loss: 0.0519 - accuracy: 0.9813 - val_loss: 0.0522 - val_accuracy: 0.9813\n",
      "Epoch 3/10\n",
      "2328/2328 - 4s - loss: 0.0509 - accuracy: 0.9815 - val_loss: 0.0520 - val_accuracy: 0.9813\n",
      "Epoch 4/10\n",
      "2328/2328 - 4s - loss: 0.0507 - accuracy: 0.9816 - val_loss: 0.0503 - val_accuracy: 0.9821\n",
      "Epoch 5/10\n",
      "2328/2328 - 4s - loss: 0.0503 - accuracy: 0.9815 - val_loss: 0.0504 - val_accuracy: 0.9819\n",
      "Epoch 6/10\n",
      "2328/2328 - 4s - loss: 0.0503 - accuracy: 0.9815 - val_loss: 0.0501 - val_accuracy: 0.9823\n",
      "Epoch 7/10\n",
      "2328/2328 - 4s - loss: 0.0498 - accuracy: 0.9817 - val_loss: 0.0502 - val_accuracy: 0.9817\n",
      "Epoch 8/10\n",
      "2328/2328 - 4s - loss: 0.0497 - accuracy: 0.9814 - val_loss: 0.0494 - val_accuracy: 0.9818\n",
      "Epoch 9/10\n",
      "2328/2328 - 4s - loss: 0.0496 - accuracy: 0.9814 - val_loss: 0.0491 - val_accuracy: 0.9819\n",
      "Epoch 10/10\n",
      "2328/2328 - 4s - loss: 0.0493 - accuracy: 0.9818 - val_loss: 0.0490 - val_accuracy: 0.9819\n"
     ]
    },
    {
     "data": {
      "text/plain": [
       "<tensorflow.python.keras.callbacks.History at 0x116d74dec18>"
      ]
     },
     "execution_count": 14,
     "metadata": {},
     "output_type": "execute_result"
    }
   ],
   "source": [
    "model.fit(x=train_x, \n",
    "          y=train_y, \n",
    "          epochs=epoch_val,\n",
    "          batch_size = batch_size_val,\n",
    "          validation_data = (valid_x, valid_y),\n",
    "          workers= workers_val,\n",
    "         verbose=verbose_val)"
   ]
  },
  {
   "cell_type": "markdown",
   "metadata": {},
   "source": [
    "### DNN Validation"
   ]
  },
  {
   "cell_type": "code",
   "execution_count": 19,
   "metadata": {},
   "outputs": [
    {
     "name": "stdout",
     "output_type": "stream",
     "text": [
      "              precision    recall  f1-score   support\n",
      "\n",
      "    decrease       0.73      0.64      0.68       622\n",
      "    increase       0.78      0.60      0.68       532\n",
      "        same       0.99      0.99      0.99     36080\n",
      "\n",
      "    accuracy                           0.98     37234\n",
      "   macro avg       0.83      0.74      0.78     37234\n",
      "weighted avg       0.98      0.98      0.98     37234\n",
      "\n"
     ]
    }
   ],
   "source": [
    "predictions = model.predict(valid_x)\n",
    "rounded_predictions = np.argmax(predictions, axis = -1)\n",
    "rounded_valid_y = np.argmax(valid_y, axis = -1)\n",
    "\n",
    "print(classification_report(rounded_valid_y, rounded_predictions, target_names = y_map.values()))"
   ]
  },
  {
   "cell_type": "markdown",
   "metadata": {},
   "source": [
    "### DNN Prediction"
   ]
  },
  {
   "cell_type": "code",
   "execution_count": 16,
   "metadata": {},
   "outputs": [
    {
     "name": "stdout",
     "output_type": "stream",
     "text": [
      "Record count : 186205\n",
      "--------------------------\n",
      "same        168535\n",
      "decrease      9137\n",
      "increase      8533\n",
      "Name: target, dtype: int64\n",
      "--------------------------\n",
      "same        0.905105\n",
      "decrease    0.049070\n",
      "increase    0.045826\n",
      "Name: target, dtype: float64\n",
      "              precision    recall  f1-score   support\n",
      "\n",
      "    decrease       0.93      0.31      0.47      9137\n",
      "    increase       0.95      0.25      0.40      8533\n",
      "        same       0.93      1.00      0.96    168535\n",
      "\n",
      "    accuracy                           0.93    186205\n",
      "   macro avg       0.93      0.52      0.61    186205\n",
      "weighted avg       0.93      0.93      0.91    186205\n",
      "\n"
     ]
    }
   ],
   "source": [
    "df1 = pd.read_csv('data/tab_M1_2018.csv')\n",
    "x_scaled1, y_encoded1, y_map1 = data_prep(df1, apply_smote = False)\n",
    "\n",
    "predictions = model.predict(x_scaled1)\n",
    "rounded_predictions = np.argmax(predictions, axis = -1)\n",
    "rounded_valid_y = np.argmax(y_encoded1, axis = -1)\n",
    "\n",
    "df1['predictions'] = [y_map1[k] for k in rounded_predictions]\n",
    "df1.to_csv('data/tab_M1_2018_res.csv')\n",
    "\n",
    "print(classification_report(rounded_valid_y, rounded_predictions, target_names = y_map1.values()))"
   ]
  },
  {
   "cell_type": "markdown",
   "metadata": {},
   "source": [
    "## RF Results"
   ]
  },
  {
   "cell_type": "code",
   "execution_count": 17,
   "metadata": {},
   "outputs": [
    {
     "name": "stdout",
     "output_type": "stream",
     "text": [
      "              precision    recall  f1-score   support\n",
      "\n",
      "    decrease       0.76      0.60      0.67       622\n",
      "    increase       0.79      0.65      0.71       532\n",
      "        same       0.99      0.99      0.99     36080\n",
      "\n",
      "    accuracy                           0.98     37234\n",
      "   macro avg       0.85      0.75      0.79     37234\n",
      "weighted avg       0.98      0.98      0.98     37234\n",
      "\n",
      "Wall time: 1min 12s\n"
     ]
    }
   ],
   "source": [
    "%%time\n",
    "clf = RandomForestClassifier() \n",
    "clf.fit(train_x, train_y)\n",
    "predictions = clf.predict(valid_x)\n",
    "rounded_predictions = np.argmax(predictions, axis = -1)\n",
    "rounded_valid_y = np.argmax(valid_y, axis = -1)\n",
    "print(classification_report(rounded_valid_y, rounded_predictions, target_names = y_map.values()))"
   ]
  },
  {
   "cell_type": "code",
   "execution_count": 18,
   "metadata": {
    "scrolled": false
   },
   "outputs": [
    {
     "data": {
      "image/png": "[encoded data removed]",
      "text/plain": [
       "<Figure size 1080x720 with 1 Axes>"
      ]
     },
     "metadata": {
      "needs_background": "light"
     },
     "output_type": "display_data"
    }
   ],
   "source": [
    "x_cols = df.columns[df.columns != 'target']\n",
    "fig = plt.figure()\n",
    "fig.suptitle('Feature importance', fontsize=20)\n",
    "plt.xlabel('Importance %', fontsize=16)\n",
    "plt.ylabel('Features', fontsize=16)\n",
    "plt.tick_params(axis='x', labelsize=12)\n",
    "plt.tick_params(axis='y', labelsize=15)\n",
    "\n",
    "\n",
    "feat_importances = pd.Series(clf.feature_importances_ * 100, index=x_cols)\n",
    "feat_importances.nlargest(25).plot(kind='barh', figsize=(15, 10), rot=45)\n",
    "\n",
    "for index, value in enumerate(np.round(-np.sort(-clf.feature_importances_ * 100))):\n",
    "    plt.text(value+0.45, index, str(value), fontsize=12)"
   ]
  }
 ],
 "metadata": {
  "kernelspec": {
   "display_name": "Python 3.6.6 64-bit",
   "language": "python",
   "name": "python36664bitab910dfda0bc43a8bf7df0c20d1c59f2"
  },
  "language_info": {
   "codemirror_mode": {
    "name": "ipython",
    "version": 3
   },
   "file_extension": ".py",
   "mimetype": "text/x-python",
   "name": "python",
   "nbconvert_exporter": "python",
   "pygments_lexer": "ipython3",
   "version": "3.6.6"
  }
 },
 "nbformat": 4,
 "nbformat_minor": 4
}
