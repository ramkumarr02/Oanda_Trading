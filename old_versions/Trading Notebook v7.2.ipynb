{
 "cells": [
  {
   "cell_type": "markdown",
   "metadata": {},
   "source": [
    "# Oanda Demo Trading Notebook"
   ]
  },
  {
   "cell_type": "markdown",
   "metadata": {},
   "source": [
    "## Packages"
   ]
  },
  {
   "cell_type": "markdown",
   "metadata": {},
   "source": [
    "Normal Packages"
   ]
  },
  {
   "cell_type": "code",
   "execution_count": 1,
   "metadata": {},
   "outputs": [],
   "source": [
    "import numpy as np\n",
    "import pandas as pd\n",
    "\n",
    "import yaml\n",
    "import json\n",
    "\n",
    "import sys\n",
    "import time\n",
    "import pytz\n",
    "import datetime\n",
    "import winsound\n",
    "import collections\n",
    "\n",
    "from tqdm import tqdm\n",
    "\n",
    "import warnings\n",
    "warnings.filterwarnings('ignore')"
   ]
  },
  {
   "cell_type": "markdown",
   "metadata": {},
   "source": [
    "Oanda Packages"
   ]
  },
  {
   "cell_type": "code",
   "execution_count": 2,
   "metadata": {},
   "outputs": [],
   "source": [
    "from oandapyV20 import API\n",
    "import oandapyV20.endpoints.orders as orders\n",
    "import oandapyV20.endpoints.trades as trades\n",
    "import oandapyV20.endpoints.pricing as pricing\n",
    "import oandapyV20.endpoints.accounts as accounts\n",
    "import oandapyV20.endpoints.transactions as trans\n",
    "import oandapyV20.endpoints.positions as positions\n",
    "\n",
    "import oandapyV20.definitions.pricing as defpricing\n",
    "\n",
    "import oandapyV20.endpoints.instruments as instruments\n",
    "\n",
    "from oandapyV20.contrib.requests import (MarketOrderRequest, StopLossDetails)"
   ]
  },
  {
   "cell_type": "markdown",
   "metadata": {},
   "source": [
    "Custom packages"
   ]
  },
  {
   "cell_type": "code",
   "execution_count": 3,
   "metadata": {},
   "outputs": [],
   "source": [
    "from utils.toolsapi import get_date_time\n",
    "from utils.toolsapi import get_prices\n",
    "from utils.toolsapi import calc_duration"
   ]
  },
  {
   "cell_type": "markdown",
   "metadata": {},
   "source": [
    "## Functions"
   ]
  },
  {
   "cell_type": "code",
   "execution_count": 4,
   "metadata": {},
   "outputs": [],
   "source": [
    "def get_targets(start_price, target_num, pip_size):\n",
    "    positive_targets = {}\n",
    "    negative_targets = {}\n",
    "    \n",
    "    for i in range(target_num):\n",
    "        move_val = pip_size*(i+1)\n",
    "        positive_targets[i] = start_price + move_val\n",
    "        negative_targets[i] = start_price - move_val\n",
    "        \n",
    "    return(positive_targets, negative_targets)"
   ]
  },
  {
   "cell_type": "code",
   "execution_count": 5,
   "metadata": {},
   "outputs": [],
   "source": [
    "def get_direction(df_reached_targets, target_num,  min_count, pip_position):\n",
    "    tot_pos = sum(df_reached_targets['positive'] * df_reached_targets['target_num'])\n",
    "    tot_neg = sum(df_reached_targets['negative'] * df_reached_targets['target_num'])\n",
    "\n",
    "    if ((tot_pos+1) / (tot_neg+1)) > 2 and tot_pos > min_count and df_reached_targets['positive'][pip_position] > 0:\n",
    "        direction = 'positive'\n",
    "\n",
    "    elif ((tot_neg+1) / (tot_pos+1)) > 2 and tot_neg > min_count and df_reached_targets['negative'][pip_position] > 0:\n",
    "        direction = 'negative'\n",
    "        \n",
    "    else:\n",
    "        direction = 'no_direction'\n",
    "    \n",
    "    return(direction)"
   ]
  },
  {
   "cell_type": "markdown",
   "metadata": {},
   "source": [
    "# Log these parameters as well"
   ]
  },
  {
   "cell_type": "code",
   "execution_count": 6,
   "metadata": {
    "scrolled": true
   },
   "outputs": [],
   "source": [
    "def run_direction_engine(accountID, instrument, num, target_num, min_count, pip_size, pip_gap): \n",
    "    print(f'Finding Market Direction with min trans of {num}...')\n",
    "    \n",
    "    params = {'instruments': instrument}\n",
    "    \n",
    "    reached_targets = {'start_price' : 0,\n",
    "                       'target_num' : 0,\n",
    "                       'positive_val' : 0,\n",
    "                       'negative_val' : 0,\n",
    "                       'positive' : 0,\n",
    "                       'p_duration' : '',\n",
    "                       'n_duration' : '',\n",
    "                       'negative' : 0}\n",
    "\n",
    "    pos_target_flag = 'not_reached'\n",
    "    neg_target_flag = 'not_reached'\n",
    "    first_run_flag = 0\n",
    "    pip_position = pip_gap - 1\n",
    "    \n",
    "    df_reached_targets = pd.DataFrame()\n",
    "    tick_list = []\n",
    "\n",
    "    \n",
    "    \n",
    "    r = pricing.PricingStream(accountID=accountID, params=params)\n",
    "    rv = api.request(r)\n",
    "\n",
    "    start_time = time.time()\n",
    "\n",
    "    for i, resp in tqdm(enumerate(rv)):\n",
    "\n",
    "        if i < num: # Check if we are within the required number of price iterations               \n",
    "            resp_type = resp['type']       \n",
    "\n",
    "            if resp_type == 'HEARTBEAT': # Heart beat response to keep the api connection alive (Avoid timeout)\n",
    "                pass\n",
    "                #print(resp_type)\n",
    "\n",
    "            elif resp_type == 'PRICE': # Check whether it is a price response                 \n",
    "                date_val, time_val, time_fraction = get_date_time(resp) # Get time stamp for reference            \n",
    "                sell_price, buy_price, spread, tick_price = get_prices(resp) # Get prices from the response                      \n",
    "                tick_list.append(tick_price)\n",
    "\n",
    "                if first_run_flag == 0:\n",
    "                    positive_targets, negative_targets = get_targets(tick_price, target_num, pip_size)\n",
    "                    first_run_flag = 1\n",
    "                    for j in range(target_num):\n",
    "                        df_reached_targets = df_reached_targets.append(reached_targets, ignore_index = True)\n",
    "                        df_reached_targets.loc[df_reached_targets.index[j], 'target_num'] = j+1\n",
    "                        df_reached_targets.loc[df_reached_targets.index[j], 'start_price'] = tick_price\n",
    "                        df_reached_targets.loc[df_reached_targets.index[j], 'positive_val'] = positive_targets[j]\n",
    "                        df_reached_targets.loc[df_reached_targets.index[j], 'negative_val'] = negative_targets[j]\n",
    "\n",
    "                for k in range(target_num):\n",
    "                    if tick_price >= positive_targets[k]:\n",
    "                        price_diff = tick_price - df_reached_targets.loc[df_reached_targets.index[k], 'start_price']\n",
    "                        df_reached_targets.loc[df_reached_targets.index[k], 'positive'] += (price_diff * 10000)\n",
    "                        \n",
    "                        if pos_target_flag == 'not_reached':\n",
    "                            end_time = time.time()    \n",
    "                            duration = calc_duration(start_time, end_time)\n",
    "                            df_reached_targets.loc[df_reached_targets.index[k], 'p_duration'] = duration\n",
    "                            pos_target_flag = 'reached'\n",
    "\n",
    "                    if tick_price <= negative_targets[k]:\n",
    "                        price_diff = df_reached_targets.loc[df_reached_targets.index[k], 'start_price'] - tick_price\n",
    "                        df_reached_targets.loc[df_reached_targets.index[k], 'negative'] += (price_diff * 10000)\n",
    "\n",
    "                        if neg_target_flag == 'not_reached':\n",
    "                            end_time = time.time()    \n",
    "                            duration = calc_duration(start_time, end_time)\n",
    "                            df_reached_targets.loc[df_reached_targets.index[k], 'n_duration'] = duration\n",
    "                            neg_target_flag = 'reached'\n",
    "\n",
    "        else: # Crossed the required number of price iterations\n",
    "            try:\n",
    "                r.terminate(message = \"maxrecs records received\")\n",
    "            except:\n",
    "                pass\n",
    "\n",
    "    df_reached_targets =  df_reached_targets[['start_price', 'target_num', 'positive_val', 'negative_val','positive', 'negative','p_duration','n_duration']]\n",
    "\n",
    "    df_reached_targets.loc[df_reached_targets.index[0], 'positive'] = df_reached_targets.loc[df_reached_targets.index[0], 'positive'] - df_reached_targets.loc[df_reached_targets.index[1], 'positive']\n",
    "    df_reached_targets.loc[df_reached_targets.index[1], 'positive'] = df_reached_targets.loc[df_reached_targets.index[1], 'positive'] - df_reached_targets.loc[df_reached_targets.index[2], 'positive']\n",
    "    df_reached_targets.loc[df_reached_targets.index[0], 'negative'] = df_reached_targets.loc[df_reached_targets.index[0], 'negative'] - df_reached_targets.loc[df_reached_targets.index[1], 'negative']\n",
    "    df_reached_targets.loc[df_reached_targets.index[1], 'negative'] = df_reached_targets.loc[df_reached_targets.index[1], 'negative'] - df_reached_targets.loc[df_reached_targets.index[2], 'negative']\n",
    "    \n",
    "    direction = get_direction(df_reached_targets, target_num, min_count, pip_position)\n",
    "\n",
    "    #winsound.PlaySound('C:\\\\Windows\\\\Media\\\\tada.wav', winsound.SND_ASYNC) \n",
    "    return(direction, df_reached_targets, tick_list)"
   ]
  },
  {
   "cell_type": "code",
   "execution_count": 7,
   "metadata": {},
   "outputs": [],
   "source": [
    "def make_order(accountID, stop_price, instrument, units):\n",
    "    stopLossOnFill = StopLossDetails(price=stop_price)\n",
    "\n",
    "    ordr = MarketOrderRequest(\n",
    "        instrument = instrument,\n",
    "        units=units,\n",
    "        stopLossOnFill=stopLossOnFill.data)\n",
    "\n",
    "    r = orders.OrderCreate(accountID, data=ordr.data)\n",
    "    rv = api.request(r)\n",
    "    return(rv)"
   ]
  },
  {
   "cell_type": "code",
   "execution_count": 8,
   "metadata": {},
   "outputs": [],
   "source": [
    "def close_order(accountID, order_type, instrument):\n",
    "    data_long = {\"longUnits\": \"ALL\"}\n",
    "    data_short = {\"shortUnits\": \"ALL\"}\n",
    "    \n",
    "    if order_type == 'long':\n",
    "        data = data_long\n",
    "    elif order_type == 'short':\n",
    "        data = data_short\n",
    "        \n",
    "    r = positions.PositionClose(accountID=accountID,\n",
    "                                instrument=instrument,\n",
    "                                data=data)\n",
    "    rv = api.request(r)\n",
    "    return(rv)"
   ]
  },
  {
   "cell_type": "code",
   "execution_count": 9,
   "metadata": {},
   "outputs": [],
   "source": [
    "def get_loss_limits(min_trans_num, loss_limits):\n",
    "    dividing_val = 1\n",
    "    per_list = list(loss_limits.keys())\n",
    "    \n",
    "    for i, val in enumerate(per_list):\n",
    "        dividing_val = 100/val\n",
    "        loss_limits[val]['half_min_trans_num'] = (round((min_trans_num/dividing_val),0))*(-1)\n",
    "    return(loss_limits)"
   ]
  },
  {
   "cell_type": "code",
   "execution_count": 10,
   "metadata": {},
   "outputs": [],
   "source": [
    "def run_order_engine(accountID, instrument, direction, profit_target_num, loss_limit_num, price_allowed_buff, min_trans_num, pip_size, loss_limits): \n",
    "    print('Running OE : ', min_trans_num, loss_limits)\n",
    "    \n",
    "    params = {'instruments': instrument}\n",
    "    r = pricing.PricingStream(accountID=accountID, params=params)\n",
    "    rv = api.request(r)\n",
    "    order_flag = 'not_ordered'\n",
    "    max_price = 0\n",
    "    profit_moves = 0\n",
    "    \n",
    "    profit_target = profit_target_num * pip_size\n",
    "    loss_limit = loss_limit_num * pip_size\n",
    "    price_allowed_buffer = price_allowed_buff * pip_size\n",
    "\n",
    "    loss_limits_dict = get_loss_limits(min_trans_num, loss_limits)\n",
    "    \n",
    "    for i, resp in tqdm(enumerate(rv)):        \n",
    "        open_positions_r = positions.OpenPositions(accountID=accountID)\n",
    "        open_positions_rv = api.request(open_positions_r)\n",
    "        open_positions = len(open_positions_rv['positions'])        \n",
    "        resp_type = resp['type']       \n",
    "        \n",
    "        if resp_type == 'HEARTBEAT': # Heart beat response to keep the api connection alive (Avoid timeout)\n",
    "            pass\n",
    "        \n",
    "        elif resp_type == 'PRICE' and order_flag == 'not_ordered': # Check if we are yet to make the order               \n",
    "            date_val, time_val, time_fraction = get_date_time(resp) # Get time stamp for reference            \n",
    "            sell_price, buy_price, spread, tick_price = get_prices(resp) # Get prices from the response                      \n",
    "\n",
    "            if direction == 'positive':\n",
    "                order_type = 'long'\n",
    "                units = +1\n",
    "                #stop_price = sell_price - loss_limit\n",
    "                stop_price = buy_price - loss_limit                \n",
    "                make_order_log = make_order(accountID, stop_price, instrument, units)\n",
    "                order_flag = 'ordered'\n",
    "\n",
    "            elif direction == 'negative':\n",
    "                order_type = 'short'\n",
    "                units = -1                    \n",
    "                #stop_price = buy_price + loss_limit\n",
    "                stop_price = sell_price + loss_limit                \n",
    "                make_order_log = make_order(accountID, stop_price, instrument, units)                    \n",
    "                order_flag = 'ordered'\n",
    "\n",
    "        elif resp_type == 'PRICE' and order_flag == 'ordered' and open_positions == 1: # Check if we have made the order\n",
    "            sell_price, buy_price, spread, tick_price = get_prices(resp) # Get prices from the response                                      \n",
    "\n",
    "            if order_type == 'long':     \n",
    "                ordered_buy_price = float(make_order_log['orderFillTransaction']['fullPrice']['asks'][0]['price'])\n",
    "                profit = sell_price - ordered_buy_price \n",
    "                \n",
    "                max_price = max(sell_price, max_price)\n",
    "                buffered_max_price = max_price - price_allowed_buffer\n",
    "                \n",
    "                if profit > 0:\n",
    "                    profit_moves += 1\n",
    "                elif profit < 0:\n",
    "                    profit_moves -= 1                    \n",
    "                    \n",
    "                if profit >= profit_target and sell_price <= buffered_max_price:\n",
    "                    print(f'buffered_max_price : {buffered_max_price} sell_price : {sell_price}')\n",
    "                    close_order_log = close_order(accountID, order_type ,instrument)\n",
    "                    order_flag = 'closed'\n",
    "                    close_reason = \"Take_profit\"\n",
    "                    \n",
    "                if i > min_trans_num and profit_moves < 0 and order_flag != 'closed':\n",
    "                    close_order_log = close_order(accountID, order_type ,instrument)\n",
    "                    order_flag = 'closed'           \n",
    "                    close_reason = \"Min trans moves\"\n",
    "\n",
    "                \n",
    "                for _, val in enumerate(list(loss_limits.keys())):\n",
    "                    if profit_moves <= loss_limits_dict[val]['half_min_trans_num'] and order_flag != 'closed' and profit >= loss_limits_dict[val]['max_loss']:\n",
    "                        close_order_log = close_order(accountID, order_type ,instrument)\n",
    "                        order_flag = 'closed'           \n",
    "                        close_reason = f'{val} Neg half min trans'\n",
    "                    \n",
    "                    \n",
    "                \n",
    "                if profit_moves <= loss_limits_dict[50]['half_min_trans_num'] and order_flag != 'closed' and profit >= loss_limits_dict[50]['max_loss']:\n",
    "                    close_order_log = close_order(accountID, order_type ,instrument)\n",
    "                    order_flag = 'closed'           \n",
    "                    close_reason = \"50 Neg half min trans\"\n",
    "\n",
    "                if profit_moves <= loss_limits_dict[60]['half_min_trans_num'] and order_flag != 'closed' and profit >= loss_limits_dict[60]['max_loss']:\n",
    "                    close_order_log = close_order(accountID, order_type ,instrument)\n",
    "                    order_flag = 'closed'           \n",
    "                    close_reason = \"60 Neg half min trans\"\n",
    "\n",
    "                if profit_moves <= loss_limits_dict[70]['half_min_trans_num'] and order_flag != 'closed' and profit >= loss_limits_dict[70]['max_loss']:\n",
    "                    close_order_log = close_order(accountID, order_type ,instrument)\n",
    "                    order_flag = 'closed'           \n",
    "                    close_reason = \"70 Neg half min trans\"\n",
    "\n",
    "                if profit_moves <= loss_limits_dict[80]['half_min_trans_num'] and order_flag != 'closed' and profit >= loss_limits_dict[80]['max_loss']:\n",
    "                    close_order_log = close_order(accountID, order_type ,instrument)\n",
    "                    order_flag = 'closed'           \n",
    "                    close_reason = \"80 Neg half min trans\"\n",
    "\n",
    "                if profit_moves <= loss_limits_dict[90]['half_min_trans_num'] and order_flag != 'closed' and profit >= loss_limits_dict[90]['max_loss']:\n",
    "                    close_order_log = close_order(accountID, order_type ,instrument)\n",
    "                    order_flag = 'closed'           \n",
    "                    close_reason = \"90 Neg half min trans\"\n",
    "\n",
    "                if profit_moves <= loss_limits_dict[95]['half_min_trans_num'] and order_flag != 'closed' and profit >= loss_limits_dict[95]['max_loss']:\n",
    "                    close_order_log = close_order(accountID, order_type ,instrument)\n",
    "                    order_flag = 'closed'           \n",
    "                    close_reason = \"95 Neg half min trans\"\n",
    "\n",
    "                if profit_moves <= loss_limits_dict[96]['half_min_trans_num'] and order_flag != 'closed' and profit >= loss_limits_dict[96]['max_loss']:\n",
    "                    close_order_log = close_order(accountID, order_type ,instrument)\n",
    "                    order_flag = 'closed'           \n",
    "                    close_reason = \"96 Neg half min trans\"\n",
    "\n",
    "                if profit_moves <= loss_limits_dict[97]['half_min_trans_num'] and order_flag != 'closed' and profit >= loss_limits_dict[97]['max_loss']:\n",
    "                    close_order_log = close_order(accountID, order_type ,instrument)\n",
    "                    order_flag = 'closed'           \n",
    "                    close_reason = \"97 Neg half min trans\"\n",
    "\n",
    "                if profit_moves <= loss_limits_dict[98]['half_min_trans_num'] and order_flag != 'closed' and profit >= loss_limits_dict[98]['max_loss']:\n",
    "                    close_order_log = close_order(accountID, order_type ,instrument)\n",
    "                    order_flag = 'closed'           \n",
    "                    close_reason = \"98 Neg half min trans\"\n",
    "\n",
    "                if profit_moves <= loss_limits_dict[99]['half_min_trans_num'] and order_flag != 'closed' and profit >= loss_limits_dict[99]['max_loss']:\n",
    "                    close_order_log = close_order(accountID, order_type ,instrument)\n",
    "                    order_flag = 'closed'           \n",
    "                    close_reason = \"99 Neg half min trans\"\n",
    "                    \n",
    "                    \n",
    "            if order_type == 'short':     \n",
    "                ordered_sell_price = float(make_order_log['orderFillTransaction']['fullPrice']['bids'][0]['price'])\n",
    "                profit = ordered_sell_price - buy_price                \n",
    "\n",
    "                min_price = min(sell_price, max_price)\n",
    "                buffered_min_price = min_price + price_allowed_buffer\n",
    "                \n",
    "                if profit > 0:\n",
    "                    profit_moves += 1\n",
    "                elif profit < 0:\n",
    "                    profit_moves -= 1                    \n",
    "                \n",
    "                if profit >= profit_target and sell_price >= buffered_min_price:\n",
    "                    print(f'buffered_min_price : {buffered_min_price} sell_price : {sell_price}')\n",
    "                    close_order_log = close_order(accountID, order_type ,instrument)\n",
    "                    order_flag = 'closed'\n",
    "                    close_reason = \"Take_profit\"\n",
    "                    \n",
    "                    \n",
    "                if i > min_trans_num and profit_moves < 0 and order_flag != 'closed':\n",
    "                    close_order_log = close_order(accountID, order_type ,instrument)\n",
    "                    order_flag = 'closed' \n",
    "                    close_reason = \"Min trans moves\"\n",
    "\n",
    "                    \n",
    "                if profit_moves <= loss_limits_dict[50]['half_min_trans_num'] and order_flag != 'closed' and profit >= loss_limits_dict[50]['max_loss']:\n",
    "                    close_order_log = close_order(accountID, order_type ,instrument)\n",
    "                    order_flag = 'closed'           \n",
    "                    close_reason = \"50 Neg half min trans\"\n",
    "\n",
    "                if profit_moves <= loss_limits_dict[60]['half_min_trans_num'] and order_flag != 'closed' and profit >= loss_limits_dict[60]['max_loss']:\n",
    "                    close_order_log = close_order(accountID, order_type ,instrument)\n",
    "                    order_flag = 'closed'           \n",
    "                    close_reason = \"60 Neg half min trans\"\n",
    "\n",
    "                if profit_moves <= loss_limits_dict[70]['half_min_trans_num'] and order_flag != 'closed' and profit >= loss_limits_dict[70]['max_loss']:\n",
    "                    close_order_log = close_order(accountID, order_type ,instrument)\n",
    "                    order_flag = 'closed'           \n",
    "                    close_reason = \"70 Neg half min trans\"\n",
    "\n",
    "                if profit_moves <= loss_limits_dict[80]['half_min_trans_num'] and order_flag != 'closed' and profit >= loss_limits_dict[80]['max_loss']:\n",
    "                    close_order_log = close_order(accountID, order_type ,instrument)\n",
    "                    order_flag = 'closed'           \n",
    "                    close_reason = \"80 Neg half min trans\"\n",
    "\n",
    "                if profit_moves <= loss_limits_dict[90]['half_min_trans_num'] and order_flag != 'closed' and profit >= loss_limits_dict[90]['max_loss']:\n",
    "                    close_order_log = close_order(accountID, order_type ,instrument)\n",
    "                    order_flag = 'closed'           \n",
    "                    close_reason = \"90 Neg half min trans\"\n",
    "\n",
    "                if profit_moves <= loss_limits_dict[95]['half_min_trans_num'] and order_flag != 'closed' and profit >= loss_limits_dict[95]['max_loss']:\n",
    "                    close_order_log = close_order(accountID, order_type ,instrument)\n",
    "                    order_flag = 'closed'           \n",
    "                    close_reason = \"95 Neg half min trans\"\n",
    "\n",
    "                if profit_moves <= loss_limits_dict[96]['half_min_trans_num'] and order_flag != 'closed' and profit >= loss_limits_dict[96]['max_loss']:\n",
    "                    close_order_log = close_order(accountID, order_type ,instrument)\n",
    "                    order_flag = 'closed'           \n",
    "                    close_reason = \"96 Neg half min trans\"\n",
    "\n",
    "                if profit_moves <= loss_limits_dict[97]['half_min_trans_num'] and order_flag != 'closed' and profit >= loss_limits_dict[97]['max_loss']:\n",
    "                    close_order_log = close_order(accountID, order_type ,instrument)\n",
    "                    order_flag = 'closed'           \n",
    "                    close_reason = \"97 Neg half min trans\"\n",
    "\n",
    "                if profit_moves <= loss_limits_dict[98]['half_min_trans_num'] and order_flag != 'closed' and profit >= loss_limits_dict[98]['max_loss']:\n",
    "                    close_order_log = close_order(accountID, order_type ,instrument)\n",
    "                    order_flag = 'closed'           \n",
    "                    close_reason = \"98 Neg half min trans\"\n",
    "\n",
    "                if profit_moves <= loss_limits_dict[99]['half_min_trans_num'] and order_flag != 'closed' and profit >= loss_limits_dict[99]['max_loss']:\n",
    "                    close_order_log = close_order(accountID, order_type ,instrument)\n",
    "                    order_flag = 'closed'           \n",
    "                    close_reason = \"99 Neg half min trans\"\n",
    "                    \n",
    "                    \n",
    "        elif resp_type == 'PRICE' and (order_flag == 'closed' or open_positions == 0): # Check if we have made the order\n",
    "            try:\n",
    "                if order_flag != 'closed':\n",
    "                    close_order_log = 'stop_loss_trigger'\n",
    "                    close_reason = 'stop_loss'                    \n",
    "                r.terminate(message = \"\")\n",
    "                \n",
    "            except:\n",
    "                pass\n",
    "\n",
    "    return(make_order_log, close_order_log, i, close_reason)"
   ]
  },
  {
   "cell_type": "code",
   "execution_count": 11,
   "metadata": {},
   "outputs": [],
   "source": [
    "def get_output_data(accountID, instrument, make_order_log, close_order_log, iters, close_reason, dirc):\n",
    "    output_data = {'date':[],\n",
    "                   'time':[],\n",
    "                   'instrument':[],\n",
    "                   'direction':[],                   \n",
    "                   'ordr_type':[],                   \n",
    "                   'units':[],\n",
    "                   'profit_pips':[],\n",
    "                   'close_reason':[],\n",
    "                   'Iterations':[],                   \n",
    "                   'orderID':[]\n",
    "                  }\n",
    "    \n",
    "\n",
    "    if dirc:    \n",
    "        # Make_Order_Log\n",
    "        #-------------------------------------------------\n",
    "        make_dict_key = list(make_order_log.keys())[1]\n",
    "        uni = int(make_order_log[make_dict_key]['units'])\n",
    "        if uni > 0:\n",
    "            output_data['ordr_type'] = 'long'\n",
    "            output_data['direction'] = 'positive'\n",
    "        else:\n",
    "            output_data['ordr_type'] = 'short'\n",
    "            output_data['direction'] = 'negative'        \n",
    "\n",
    "\n",
    "        # Close_Order_Log\n",
    "        #-------------------------------------------------        \n",
    "        if close_order_log != 'stop_loss_trigger':    \n",
    "            close_dict_key= list(close_order_log.keys())[1]\n",
    "            dt, tm, _ = get_date_time(close_order_log[close_dict_key])\n",
    "            output_data['date'].append(dt)  \n",
    "            output_data['time'].append(tm)\n",
    "            output_data['instrument'].append(close_order_log[close_dict_key]['instrument'])\n",
    "            output_data['units'].append(uni)\n",
    "            output_data['profit_pips'].append(close_order_log[close_dict_key]['pl'])\n",
    "            output_data['orderID'].append(close_order_log[close_dict_key]['orderID'])\n",
    "            output_data['close_reason'].append(close_reason)\n",
    "            output_data['Iterations'].append(iters)\n",
    "\n",
    "\n",
    "\n",
    "        # Stop_Order_Logging\n",
    "        #-------------------------------------------------\n",
    "        elif close_order_log == 'stop_loss_trigger':\n",
    "            last_position_r = positions.PositionDetails(accountID, instrument)\n",
    "            last_position_rv = api.request(last_position_r)\n",
    "            last_transaction_id = last_position_rv['lastTransactionID']\n",
    "\n",
    "            transaction_details_r = trans.TransactionDetails(accountID, transactionID=last_transaction_id)\n",
    "            transaction_details_rv = api.request(transaction_details_r)\n",
    "\n",
    "            time_stamp = transaction_details_rv['transaction']['fullPrice']['timestamp']\n",
    "            dt, full_time = time_stamp.split(sep = 'T')\n",
    "            tm, time_fraction = full_time.split(sep = '.')\n",
    "            inst = transaction_details_rv['transaction']['instrument']\n",
    "            #unts = transaction_details_rv['transaction']['units']\n",
    "            prfit_pips = transaction_details_rv['transaction']['pl']\n",
    "            clse_reason = transaction_details_rv['transaction']['reason']\n",
    "            ordrID = transaction_details_rv['transaction']['orderID']\n",
    "\n",
    "            output_data['date'].append(dt)  \n",
    "            output_data['time'].append(tm)\n",
    "            output_data['instrument'].append(inst)\n",
    "            output_data['units'].append(uni)\n",
    "            output_data['profit_pips'].append(prfit_pips)\n",
    "            output_data['orderID'].append(ordrID)\n",
    "            output_data['close_reason'].append(close_reason)\n",
    "            output_data['Iterations'].append(iters)  \n",
    "            \n",
    "            \n",
    "    elif dirc == False:\n",
    "        d = datetime.datetime.utcnow()\n",
    "        d_with_timezone = d.replace(tzinfo=pytz.UTC)\n",
    "        time_stamp = d_with_timezone.isoformat()\n",
    "        dt_now, full_time = time_stamp.split(sep = 'T')\n",
    "        tm_now, time_fraction = full_time.split(sep = '.')\n",
    "\n",
    "        output_data['date'].append(dt_now)  \n",
    "        output_data['time'].append(tm_now)\n",
    "        output_data['instrument'].append(instrument)\n",
    "        output_data['direction'] = 'no_direction'        \n",
    "        output_data['ordr_type'].append('')\n",
    "        output_data['units'].append('')\n",
    "        output_data['profit_pips'].append('')\n",
    "        output_data['orderID'].append('')\n",
    "        output_data['close_reason'].append('')\n",
    "        output_data['Iterations'].append('') \n",
    "\n",
    "        \n",
    "    # Write to Dataframe\n",
    "    #-------------------------------------------------    \n",
    "    output_df = pd.DataFrame()\n",
    "    output_df = pd.DataFrame.from_dict(output_data)\n",
    "    output_df = output_df[['date', 'time', 'instrument', 'direction', 'ordr_type','units', 'profit_pips', 'close_reason', 'Iterations','orderID']]\n",
    "\n",
    "    return(output_df)"
   ]
  },
  {
   "cell_type": "code",
   "execution_count": 12,
   "metadata": {
    "scrolled": true
   },
   "outputs": [],
   "source": [
    "def get_min_trans_num(instrument,accountID,iter_num, pip_gap, pip_size):\n",
    "    pip_gap = pip_gap * pip_size\n",
    "    \n",
    "    price_df = pd.DataFrame()\n",
    "    diff = 0\n",
    "    ticks = []\n",
    "    iter_req = []\n",
    "    params = {'instruments': instrument}\n",
    "\n",
    "    r = pricing.PricingStream(accountID=accountID, params=params)\n",
    "    rv = api.request(r)\n",
    "    \n",
    "\n",
    "    for i, resp in tqdm(enumerate(rv)):    \n",
    "        resp_type = resp['type']\n",
    "        if resp_type == 'HEARTBEAT': # Heart beat response to keep the api connection alive (Avoid timeout)\n",
    "            pass\n",
    "\n",
    "        else:\n",
    "            if i < iter_num:\n",
    "                date_val, time_val, time_fraction = get_date_time(resp) # Get time stamp for reference            \n",
    "                sell_price, buy_price, spread, tick_price = get_prices(resp) # Get prices from the response                      \n",
    "                ticks.append(tick_price)\n",
    "\n",
    "            else:\n",
    "                break\n",
    "\n",
    "    price_df['tick_price'] = ticks\n",
    "\n",
    "\n",
    "    for i, ival in enumerate(price_df['tick_price']):\n",
    "        for j, jval in enumerate(price_df['tick_price']):\n",
    "            if i == j:\n",
    "                pass\n",
    "            elif j > i:\n",
    "                diff = abs(jval - ival)\n",
    "                if diff >= pip_gap:\n",
    "                    iter_req.append(j-i)\n",
    "                    break\n",
    "            else:\n",
    "                pass\n",
    "    \n",
    "    #print(iter_req)\n",
    "    min_trans = round(np.mean(iter_req),0)\n",
    "    return(np.mean(min_trans))"
   ]
  },
  {
   "cell_type": "code",
   "execution_count": 13,
   "metadata": {},
   "outputs": [],
   "source": [
    "def run_currency_num_check():\n",
    "    for i, instrument in enumerate(currencies['currs']):\n",
    "        pip_size = currencies['currs'][instrument]['pip_size']\n",
    "        num = get_min_trans_num(instrument, accountID, iter_num, pip_gap, pip_size)\n",
    "        print(f'instrument : {instrument}, num : {num}, pip_size : {pip_size}')\n",
    "    return()"
   ]
  },
  {
   "cell_type": "markdown",
   "metadata": {},
   "source": [
    "## API Setup"
   ]
  },
  {
   "cell_type": "markdown",
   "metadata": {},
   "source": [
    "Read from config file"
   ]
  },
  {
   "cell_type": "code",
   "execution_count": 14,
   "metadata": {
    "scrolled": true
   },
   "outputs": [],
   "source": [
    "temp_file = 'config/access_token.yaml'\n",
    "with open(temp_file) as temp_file:\n",
    "    config = yaml.load(temp_file)\n",
    "    \n",
    "temp_file = 'config/currencies.yaml'\n",
    "with open(temp_file) as temp_file:\n",
    "    currencies = yaml.load(temp_file)\n",
    "\n",
    "temp_file = 'config/stepped_loss.yaml'\n",
    "with open(temp_file) as temp_file:\n",
    "    loss_limits = yaml.load(temp_file)"
   ]
  },
  {
   "cell_type": "code",
   "execution_count": 15,
   "metadata": {},
   "outputs": [],
   "source": [
    "access_token = config['oanda_demo_account']['token']\n",
    "accountID = config['oanda_demo_account']['account_id']\n",
    "\n",
    "api = API(access_token = access_token)"
   ]
  },
  {
   "cell_type": "markdown",
   "metadata": {},
   "source": [
    "## Code Engine"
   ]
  },
  {
   "cell_type": "markdown",
   "metadata": {},
   "source": [
    "# Log these inputs as well"
   ]
  },
  {
   "cell_type": "code",
   "execution_count": 16,
   "metadata": {},
   "outputs": [],
   "source": [
    "instrument=\"EUR_USD\"\n",
    "pip_size = 10**-4\n",
    "target_num = 3\n",
    "min_count = 2\n",
    "\n",
    "profit_target_num  = 1\n",
    "price_allowed_buffer = 0.5 \n",
    "loss_limit_num = 25\n",
    "max_loss_num = 1\n",
    "full_loss_ratio = 10\n",
    "\n",
    "iter_num = 300\n",
    "pip_gap = 1\n",
    "dir_min_trans_multiplier_long = 2\n",
    "dir_min_trans_multiplier_short = 1\n",
    "\n",
    "run_min_trans_multiplier = 25\n",
    "dir_recalc_multiplier = 5\n",
    "\n",
    "num_of_bets = 25"
   ]
  },
  {
   "cell_type": "code",
   "execution_count": 17,
   "metadata": {
    "scrolled": false
   },
   "outputs": [
    {
     "name": "stderr",
     "output_type": "stream",
     "text": [
      "300it [03:11,  1.56it/s]\n",
      "0it [00:00, ?it/s]"
     ]
    },
    {
     "name": "stdout",
     "output_type": "stream",
     "text": [
      "-------------------------------Iteration 1-------------------------------\n",
      "Finding Market Direction with min trans of 54.0...\n"
     ]
    },
    {
     "name": "stderr",
     "output_type": "stream",
     "text": [
      "55it [00:30,  1.83it/s]\n",
      "0it [00:00, ?it/s]"
     ]
    },
    {
     "name": "stdout",
     "output_type": "stream",
     "text": [
      "df_reached_targets :     start_price  target_num  positive_val  negative_val  positive  negative  \\\n",
      "0     1.124615         1.0      1.124715      1.124515       0.0       0.0   \n",
      "1     1.124615         2.0      1.124815      1.124415       0.0       0.0   \n",
      "2     1.124615         3.0      1.124915      1.124315       0.0       0.0   \n",
      "\n",
      "  p_duration n_duration  \n",
      "0                        \n",
      "1                        \n",
      "2                        \n",
      "no_direction : Run again\n",
      "-------------------------------Iteration 2-------------------------------\n",
      "Finding Market Direction with min trans of 54.0...\n"
     ]
    },
    {
     "name": "stderr",
     "output_type": "stream",
     "text": [
      "55it [00:26,  2.06it/s]\n",
      "0it [00:00, ?it/s]"
     ]
    },
    {
     "name": "stdout",
     "output_type": "stream",
     "text": [
      "df_reached_targets :     start_price  target_num  positive_val  negative_val  positive  negative  \\\n",
      "0      1.12466         1.0       1.12476       1.12456      2.55       0.0   \n",
      "1      1.12466         2.0       1.12486       1.12446     57.90       0.0   \n",
      "2      1.12466         3.0       1.12496       1.12436     31.40       0.0   \n",
      "\n",
      "  p_duration n_duration  \n",
      "0     0:0:10             \n",
      "1                        \n",
      "2                        \n",
      "Direction : positive\n",
      "Running OE :  675.0 {50: {'half_min_trans_num': 0, 'max_loss': -0.0001}, 60: {'half_min_trans_num': 0, 'max_loss': -0.0002}, 70: {'half_min_trans_num': 0, 'max_loss': -0.0003}, 80: {'half_min_trans_num': 0, 'max_loss': -0.0004}, 90: {'half_min_trans_num': 0, 'max_loss': -0.0005}, 95: {'half_min_trans_num': 0, 'max_loss': -0.0006}, 96: {'half_min_trans_num': 0, 'max_loss': -0.0007}, 97: {'half_min_trans_num': 0, 'max_loss': -0.0008}, 98: {'half_min_trans_num': 0, 'max_loss': -0.0009}, 99: {'half_min_trans_num': 0, 'max_loss': -0.001}}\n"
     ]
    },
    {
     "name": "stderr",
     "output_type": "stream",
     "text": [
      "109it [00:53,  2.33it/s]"
     ]
    },
    {
     "name": "stdout",
     "output_type": "stream",
     "text": [
      "buffered_max_price : 1.1252 sell_price : 1.12519\n"
     ]
    },
    {
     "name": "stderr",
     "output_type": "stream",
     "text": [
      "111it [00:54,  2.03it/s]\n",
      "0it [00:00, ?it/s]"
     ]
    },
    {
     "name": "stdout",
     "output_type": "stream",
     "text": [
      "pl:0.0001 iter_limit:270.0\n",
      "-------------------------------Iteration 3-------------------------------\n",
      "Finding Market Direction with min trans of 27.0...\n"
     ]
    },
    {
     "name": "stderr",
     "output_type": "stream",
     "text": [
      "28it [00:15,  1.82it/s]\n",
      "0it [00:00, ?it/s]"
     ]
    },
    {
     "name": "stdout",
     "output_type": "stream",
     "text": [
      "df_reached_targets :     start_price  target_num  positive_val  negative_val  positive  negative  \\\n",
      "0      1.12526         1.0       1.12536       1.12516       2.1       2.0   \n",
      "1      1.12526         2.0       1.12546       1.12506       0.0       0.0   \n",
      "2      1.12526         3.0       1.12556       1.12496       0.0       0.0   \n",
      "\n",
      "  p_duration n_duration  \n",
      "0      0:0:6     0:0:13  \n",
      "1                        \n",
      "2                        \n",
      "no_direction : Run again\n",
      "-------------------------------Iteration 4-------------------------------\n",
      "Finding Market Direction with min trans of 27.0...\n"
     ]
    },
    {
     "name": "stderr",
     "output_type": "stream",
     "text": [
      "28it [00:16,  1.69it/s]\n",
      "0it [00:00, ?it/s]"
     ]
    },
    {
     "name": "stdout",
     "output_type": "stream",
     "text": [
      "df_reached_targets :     start_price  target_num  positive_val  negative_val  positive  negative  \\\n",
      "0      1.12516         1.0       1.12526       1.12506      3.25       0.0   \n",
      "1      1.12516         2.0       1.12536       1.12496      2.05       0.0   \n",
      "2      1.12516         3.0       1.12546       1.12486      0.00       0.0   \n",
      "\n",
      "  p_duration n_duration  \n",
      "0     0:0:14             \n",
      "1                        \n",
      "2                        \n",
      "Direction : positive\n",
      "Running OE :  675.0 {50: {'half_min_trans_num': -338.0, 'max_loss': -0.0001}, 60: {'half_min_trans_num': -405.0, 'max_loss': -0.0002}, 70: {'half_min_trans_num': -472.0, 'max_loss': -0.0003}, 80: {'half_min_trans_num': -540.0, 'max_loss': -0.0004}, 90: {'half_min_trans_num': -608.0, 'max_loss': -0.0005}, 95: {'half_min_trans_num': -641.0, 'max_loss': -0.0006}, 96: {'half_min_trans_num': -648.0, 'max_loss': -0.0007}, 97: {'half_min_trans_num': -655.0, 'max_loss': -0.0008}, 98: {'half_min_trans_num': -662.0, 'max_loss': -0.0009}, 99: {'half_min_trans_num': -668.0, 'max_loss': -0.001}}\n"
     ]
    },
    {
     "name": "stderr",
     "output_type": "stream",
     "text": [
      "51it [00:18,  3.79it/s]"
     ]
    },
    {
     "name": "stdout",
     "output_type": "stream",
     "text": [
      "buffered_max_price : 1.12567 sell_price : 1.12565\n"
     ]
    },
    {
     "name": "stderr",
     "output_type": "stream",
     "text": [
      "53it [00:19,  2.70it/s]\n",
      "0it [00:00, ?it/s]"
     ]
    },
    {
     "name": "stdout",
     "output_type": "stream",
     "text": [
      "pl:0.0003 iter_limit:135.0\n",
      "-------------------------------Iteration 5-------------------------------\n",
      "Finding Market Direction with min trans of 27.0...\n"
     ]
    },
    {
     "name": "stderr",
     "output_type": "stream",
     "text": [
      "28it [00:10,  2.77it/s]\n",
      "0it [00:00, ?it/s]"
     ]
    },
    {
     "name": "stdout",
     "output_type": "stream",
     "text": [
      "df_reached_targets :     start_price  target_num  positive_val  negative_val  positive  negative  \\\n",
      "0      1.12582         1.0       1.12592       1.12572       0.0     10.45   \n",
      "1      1.12582         2.0       1.12602       1.12562       0.0      0.00   \n",
      "2      1.12582         3.0       1.12612       1.12552       0.0      0.00   \n",
      "\n",
      "  p_duration n_duration  \n",
      "0                 0:0:5  \n",
      "1                        \n",
      "2                        \n",
      "Direction : negative\n",
      "Running OE :  675.0 {50: {'half_min_trans_num': -338.0, 'max_loss': -0.0001}, 60: {'half_min_trans_num': -405.0, 'max_loss': -0.0002}, 70: {'half_min_trans_num': -472.0, 'max_loss': -0.0003}, 80: {'half_min_trans_num': -540.0, 'max_loss': -0.0004}, 90: {'half_min_trans_num': -608.0, 'max_loss': -0.0005}, 95: {'half_min_trans_num': -641.0, 'max_loss': -0.0006}, 96: {'half_min_trans_num': -648.0, 'max_loss': -0.0007}, 97: {'half_min_trans_num': -655.0, 'max_loss': -0.0008}, 98: {'half_min_trans_num': -662.0, 'max_loss': -0.0009}, 99: {'half_min_trans_num': -668.0, 'max_loss': -0.001}}\n"
     ]
    },
    {
     "name": "stderr",
     "output_type": "stream",
     "text": [
      "278it [02:15,  1.52it/s]"
     ]
    },
    {
     "name": "stdout",
     "output_type": "stream",
     "text": [
      "buffered_min_price : 5e-05 sell_price : 1.12541\n"
     ]
    },
    {
     "name": "stderr",
     "output_type": "stream",
     "text": [
      "280it [02:16,  2.05it/s]\n",
      "0it [00:00, ?it/s]"
     ]
    },
    {
     "name": "stdout",
     "output_type": "stream",
     "text": [
      "pl:0.0002 iter_limit:135.0\n",
      "-------------------------------Iteration 6-------------------------------\n",
      "Finding Market Direction with min trans of 54.0...\n"
     ]
    },
    {
     "name": "stderr",
     "output_type": "stream",
     "text": [
      "55it [00:25,  2.14it/s]\n",
      "0it [00:00, ?it/s]"
     ]
    },
    {
     "name": "stdout",
     "output_type": "stream",
     "text": [
      "df_reached_targets :     start_price  target_num  positive_val  negative_val  positive  negative  \\\n",
      "0      1.12541         1.0       1.12551       1.12531       0.0      12.2   \n",
      "1      1.12541         2.0       1.12561       1.12521       0.0       0.0   \n",
      "2      1.12541         3.0       1.12571       1.12511       0.0       0.0   \n",
      "\n",
      "  p_duration n_duration  \n",
      "0                 0:0:7  \n",
      "1                        \n",
      "2                        \n",
      "Direction : negative\n",
      "Running OE :  675.0 {50: {'half_min_trans_num': -338.0, 'max_loss': -0.0001}, 60: {'half_min_trans_num': -405.0, 'max_loss': -0.0002}, 70: {'half_min_trans_num': -472.0, 'max_loss': -0.0003}, 80: {'half_min_trans_num': -540.0, 'max_loss': -0.0004}, 90: {'half_min_trans_num': -608.0, 'max_loss': -0.0005}, 95: {'half_min_trans_num': -641.0, 'max_loss': -0.0006}, 96: {'half_min_trans_num': -648.0, 'max_loss': -0.0007}, 97: {'half_min_trans_num': -655.0, 'max_loss': -0.0008}, 98: {'half_min_trans_num': -662.0, 'max_loss': -0.0009}, 99: {'half_min_trans_num': -668.0, 'max_loss': -0.001}}\n"
     ]
    },
    {
     "name": "stderr",
     "output_type": "stream",
     "text": [
      "244it [02:26,  2.88it/s]"
     ]
    },
    {
     "name": "stdout",
     "output_type": "stream",
     "text": [
      "buffered_min_price : 5e-05 sell_price : 1.12504\n"
     ]
    },
    {
     "name": "stderr",
     "output_type": "stream",
     "text": [
      "247it [02:28,  1.67it/s]\n",
      "0it [00:00, ?it/s]"
     ]
    },
    {
     "name": "stdout",
     "output_type": "stream",
     "text": [
      "pl:0.0002 iter_limit:270.0\n",
      "-------------------------------Iteration 7-------------------------------\n",
      "Finding Market Direction with min trans of 27.0...\n"
     ]
    },
    {
     "name": "stderr",
     "output_type": "stream",
     "text": [
      "28it [00:17,  1.62it/s]\n",
      "0it [00:00, ?it/s]"
     ]
    },
    {
     "name": "stdout",
     "output_type": "stream",
     "text": [
      "df_reached_targets :     start_price  target_num  positive_val  negative_val  positive  negative  \\\n",
      "0      1.12506         1.0       1.12516       1.12496      3.05       0.0   \n",
      "1      1.12506         2.0       1.12526       1.12486      0.00       0.0   \n",
      "2      1.12506         3.0       1.12536       1.12476      0.00       0.0   \n",
      "\n",
      "  p_duration n_duration  \n",
      "0     0:0:16             \n",
      "1                        \n",
      "2                        \n",
      "Direction : positive\n",
      "Running OE :  675.0 {50: {'half_min_trans_num': -338.0, 'max_loss': -0.0001}, 60: {'half_min_trans_num': -405.0, 'max_loss': -0.0002}, 70: {'half_min_trans_num': -472.0, 'max_loss': -0.0003}, 80: {'half_min_trans_num': -540.0, 'max_loss': -0.0004}, 90: {'half_min_trans_num': -608.0, 'max_loss': -0.0005}, 95: {'half_min_trans_num': -641.0, 'max_loss': -0.0006}, 96: {'half_min_trans_num': -648.0, 'max_loss': -0.0007}, 97: {'half_min_trans_num': -655.0, 'max_loss': -0.0008}, 98: {'half_min_trans_num': -662.0, 'max_loss': -0.0009}, 99: {'half_min_trans_num': -668.0, 'max_loss': -0.001}}\n"
     ]
    },
    {
     "name": "stderr",
     "output_type": "stream",
     "text": [
      "66it [00:46,  1.36it/s]"
     ]
    },
    {
     "name": "stdout",
     "output_type": "stream",
     "text": [
      "buffered_max_price : 1.12536 sell_price : 1.12536\n"
     ]
    },
    {
     "name": "stderr",
     "output_type": "stream",
     "text": [
      "68it [00:48,  1.41it/s]\n",
      "0it [00:00, ?it/s]"
     ]
    },
    {
     "name": "stdout",
     "output_type": "stream",
     "text": [
      "pl:0.0002 iter_limit:135.0\n",
      "-------------------------------Iteration 8-------------------------------\n",
      "Finding Market Direction with min trans of 27.0...\n"
     ]
    },
    {
     "name": "stderr",
     "output_type": "stream",
     "text": [
      "28it [00:15,  1.76it/s]\n",
      "0it [00:00, ?it/s]"
     ]
    },
    {
     "name": "stdout",
     "output_type": "stream",
     "text": [
      "df_reached_targets :     start_price  target_num  positive_val  negative_val  positive  negative  \\\n",
      "0      1.12541         1.0       1.12551       1.12531       0.0       0.0   \n",
      "1      1.12541         2.0       1.12561       1.12521       0.0       0.0   \n",
      "2      1.12541         3.0       1.12571       1.12511       0.0       0.0   \n",
      "\n",
      "  p_duration n_duration  \n",
      "0                        \n",
      "1                        \n",
      "2                        \n",
      "no_direction : Run again\n",
      "-------------------------------Iteration 9-------------------------------\n",
      "Finding Market Direction with min trans of 27.0...\n"
     ]
    },
    {
     "name": "stderr",
     "output_type": "stream",
     "text": [
      "28it [00:19,  1.41it/s]\n",
      "0it [00:00, ?it/s]"
     ]
    },
    {
     "name": "stdout",
     "output_type": "stream",
     "text": [
      "df_reached_targets :     start_price  target_num  positive_val  negative_val  positive  negative  \\\n",
      "0      1.12547         1.0       1.12557       1.12537       0.0       0.0   \n",
      "1      1.12547         2.0       1.12567       1.12527       0.0       0.0   \n",
      "2      1.12547         3.0       1.12577       1.12517       0.0       0.0   \n",
      "\n",
      "  p_duration n_duration  \n",
      "0                        \n",
      "1                        \n",
      "2                        \n",
      "no_direction : Run again\n",
      "-------------------------------Iteration 10-------------------------------\n",
      "Finding Market Direction with min trans of 27.0...\n"
     ]
    },
    {
     "name": "stderr",
     "output_type": "stream",
     "text": [
      "28it [00:20,  1.36it/s]\n",
      "0it [00:00, ?it/s]"
     ]
    },
    {
     "name": "stdout",
     "output_type": "stream",
     "text": [
      "df_reached_targets :     start_price  target_num  positive_val  negative_val  positive  negative  \\\n",
      "0      1.12538         1.0       1.12548       1.12528       5.1       0.0   \n",
      "1      1.12538         2.0       1.12558       1.12518       0.0       0.0   \n",
      "2      1.12538         3.0       1.12568       1.12508       0.0       0.0   \n",
      "\n",
      "  p_duration n_duration  \n",
      "0      0:0:9             \n",
      "1                        \n",
      "2                        \n",
      "Direction : positive\n",
      "Running OE :  675.0 {50: {'half_min_trans_num': -338.0, 'max_loss': -0.0001}, 60: {'half_min_trans_num': -405.0, 'max_loss': -0.0002}, 70: {'half_min_trans_num': -472.0, 'max_loss': -0.0003}, 80: {'half_min_trans_num': -540.0, 'max_loss': -0.0004}, 90: {'half_min_trans_num': -608.0, 'max_loss': -0.0005}, 95: {'half_min_trans_num': -641.0, 'max_loss': -0.0006}, 96: {'half_min_trans_num': -648.0, 'max_loss': -0.0007}, 97: {'half_min_trans_num': -655.0, 'max_loss': -0.0008}, 98: {'half_min_trans_num': -662.0, 'max_loss': -0.0009}, 99: {'half_min_trans_num': -668.0, 'max_loss': -0.001}}\n"
     ]
    },
    {
     "name": "stderr",
     "output_type": "stream",
     "text": [
      "468it [05:12,  1.50it/s]\n",
      "0it [00:00, ?it/s]"
     ]
    },
    {
     "name": "stdout",
     "output_type": "stream",
     "text": [
      "pl:-0.0003 iter_limit:135.0\n",
      "-------------------------------Iteration 11-------------------------------\n",
      "Finding Market Direction with min trans of 54.0...\n"
     ]
    },
    {
     "name": "stderr",
     "output_type": "stream",
     "text": [
      "55it [00:34,  1.61it/s]\n",
      "0it [00:00, ?it/s]"
     ]
    },
    {
     "name": "stdout",
     "output_type": "stream",
     "text": [
      "df_reached_targets :     start_price  target_num  positive_val  negative_val  positive  negative  \\\n",
      "0     1.125275         1.0      1.125375      1.125175       0.0       0.0   \n",
      "1     1.125275         2.0      1.125475      1.125075       0.0       0.0   \n",
      "2     1.125275         3.0      1.125575      1.124975       0.0       0.0   \n",
      "\n",
      "  p_duration n_duration  \n",
      "0                        \n",
      "1                        \n",
      "2                        \n",
      "no_direction : Run again\n",
      "-------------------------------Iteration 12-------------------------------\n",
      "Finding Market Direction with min trans of 54.0...\n"
     ]
    },
    {
     "name": "stderr",
     "output_type": "stream",
     "text": [
      "55it [00:41,  1.34it/s]\n",
      "0it [00:00, ?it/s]"
     ]
    },
    {
     "name": "stdout",
     "output_type": "stream",
     "text": [
      "df_reached_targets :     start_price  target_num  positive_val  negative_val  positive  negative  \\\n",
      "0      1.12537         1.0       1.12547       1.12527       0.0      31.1   \n",
      "1      1.12537         2.0       1.12557       1.12517       0.0       2.0   \n",
      "2      1.12537         3.0       1.12567       1.12507       0.0       0.0   \n",
      "\n",
      "  p_duration n_duration  \n",
      "0                 0:0:9  \n",
      "1                        \n",
      "2                        \n",
      "Direction : negative\n",
      "Running OE :  675.0 {50: {'half_min_trans_num': -338.0, 'max_loss': -0.0001}, 60: {'half_min_trans_num': -405.0, 'max_loss': -0.0002}, 70: {'half_min_trans_num': -472.0, 'max_loss': -0.0003}, 80: {'half_min_trans_num': -540.0, 'max_loss': -0.0004}, 90: {'half_min_trans_num': -608.0, 'max_loss': -0.0005}, 95: {'half_min_trans_num': -641.0, 'max_loss': -0.0006}, 96: {'half_min_trans_num': -648.0, 'max_loss': -0.0007}, 97: {'half_min_trans_num': -655.0, 'max_loss': -0.0008}, 98: {'half_min_trans_num': -662.0, 'max_loss': -0.0009}, 99: {'half_min_trans_num': -668.0, 'max_loss': -0.001}}\n"
     ]
    },
    {
     "name": "stderr",
     "output_type": "stream",
     "text": [
      "164it [01:53,  1.08it/s]"
     ]
    },
    {
     "name": "stdout",
     "output_type": "stream",
     "text": [
      "buffered_min_price : 5e-05 sell_price : 1.12504\n"
     ]
    },
    {
     "name": "stderr",
     "output_type": "stream",
     "text": [
      "166it [01:54,  1.45it/s]\n",
      "0it [00:00, ?it/s]"
     ]
    },
    {
     "name": "stdout",
     "output_type": "stream",
     "text": [
      "pl:0.0003 iter_limit:270.0\n",
      "-------------------------------Iteration 13-------------------------------\n",
      "Finding Market Direction with min trans of 27.0...\n"
     ]
    },
    {
     "name": "stderr",
     "output_type": "stream",
     "text": [
      "28it [00:11,  2.47it/s]\n",
      "0it [00:00, ?it/s]"
     ]
    },
    {
     "name": "stdout",
     "output_type": "stream",
     "text": [
      "df_reached_targets :     start_price  target_num  positive_val  negative_val  positive  negative  \\\n",
      "0      1.12503         1.0       1.12513       1.12493       0.0       0.0   \n",
      "1      1.12503         2.0       1.12523       1.12483       0.0       0.0   \n",
      "2      1.12503         3.0       1.12533       1.12473       0.0       0.0   \n",
      "\n",
      "  p_duration n_duration  \n",
      "0                        \n",
      "1                        \n",
      "2                        \n",
      "no_direction : Run again\n",
      "-------------------------------Iteration 14-------------------------------\n",
      "Finding Market Direction with min trans of 27.0...\n"
     ]
    },
    {
     "name": "stderr",
     "output_type": "stream",
     "text": [
      "28it [00:11,  2.50it/s]\n",
      "0it [00:00, ?it/s]"
     ]
    },
    {
     "name": "stdout",
     "output_type": "stream",
     "text": [
      "df_reached_targets :     start_price  target_num  positive_val  negative_val  positive  negative  \\\n",
      "0     1.125035         1.0      1.125135      1.124935       0.0       0.0   \n",
      "1     1.125035         2.0      1.125235      1.124835       0.0       0.0   \n",
      "2     1.125035         3.0      1.125335      1.124735       0.0       0.0   \n",
      "\n",
      "  p_duration n_duration  \n",
      "0                        \n",
      "1                        \n",
      "2                        \n",
      "no_direction : Run again\n",
      "-------------------------------Iteration 15-------------------------------\n",
      "Finding Market Direction with min trans of 27.0...\n"
     ]
    },
    {
     "name": "stderr",
     "output_type": "stream",
     "text": [
      "28it [00:19,  1.43it/s]\n",
      "0it [00:00, ?it/s]"
     ]
    },
    {
     "name": "stdout",
     "output_type": "stream",
     "text": [
      "df_reached_targets :     start_price  target_num  positive_val  negative_val  positive  negative  \\\n",
      "0      1.12503         1.0       1.12513       1.12493       0.0       0.0   \n",
      "1      1.12503         2.0       1.12523       1.12483       0.0       0.0   \n",
      "2      1.12503         3.0       1.12533       1.12473       0.0       0.0   \n",
      "\n",
      "  p_duration n_duration  \n",
      "0                        \n",
      "1                        \n",
      "2                        \n",
      "no_direction : Run again\n",
      "-------------------------------Iteration 16-------------------------------\n",
      "Finding Market Direction with min trans of 27.0...\n"
     ]
    },
    {
     "name": "stderr",
     "output_type": "stream",
     "text": [
      "28it [00:16,  1.69it/s]\n",
      "0it [00:00, ?it/s]"
     ]
    },
    {
     "name": "stdout",
     "output_type": "stream",
     "text": [
      "df_reached_targets :     start_price  target_num  positive_val  negative_val  positive  negative  \\\n",
      "0      1.12503         1.0       1.12513       1.12493       0.0       0.0   \n",
      "1      1.12503         2.0       1.12523       1.12483       0.0       0.0   \n",
      "2      1.12503         3.0       1.12533       1.12473       0.0       0.0   \n",
      "\n",
      "  p_duration n_duration  \n",
      "0                        \n",
      "1                        \n",
      "2                        \n",
      "no_direction : Run again\n",
      "-------------------------------Iteration 17-------------------------------\n",
      "Finding Market Direction with min trans of 27.0...\n"
     ]
    },
    {
     "name": "stderr",
     "output_type": "stream",
     "text": [
      "28it [00:22,  1.24it/s]\n",
      "0it [00:00, ?it/s]"
     ]
    },
    {
     "name": "stdout",
     "output_type": "stream",
     "text": [
      "df_reached_targets :     start_price  target_num  positive_val  negative_val  positive  negative  \\\n",
      "0      1.12506         1.0       1.12516       1.12496       0.0       0.0   \n",
      "1      1.12506         2.0       1.12526       1.12486       0.0       0.0   \n",
      "2      1.12506         3.0       1.12536       1.12476       0.0       0.0   \n",
      "\n",
      "  p_duration n_duration  \n",
      "0                        \n",
      "1                        \n",
      "2                        \n",
      "no_direction : Run again\n",
      "-------------------------------Iteration 18-------------------------------\n",
      "Finding Market Direction with min trans of 27.0...\n"
     ]
    },
    {
     "name": "stderr",
     "output_type": "stream",
     "text": [
      "28it [00:19,  1.43it/s]\n",
      "0it [00:00, ?it/s]"
     ]
    },
    {
     "name": "stdout",
     "output_type": "stream",
     "text": [
      "df_reached_targets :     start_price  target_num  positive_val  negative_val  positive  negative  \\\n",
      "0     1.125065         1.0      1.125165      1.124965      1.05       0.0   \n",
      "1     1.125065         2.0      1.125265      1.124865      0.00       0.0   \n",
      "2     1.125065         3.0      1.125365      1.124765      0.00       0.0   \n",
      "\n",
      "  p_duration n_duration  \n",
      "0     0:0:18             \n",
      "1                        \n",
      "2                        \n",
      "no_direction : Run again\n",
      "-------------------------------Iteration 19-------------------------------\n",
      "Finding Market Direction with min trans of 27.0...\n"
     ]
    },
    {
     "name": "stderr",
     "output_type": "stream",
     "text": [
      "28it [00:15,  1.78it/s]\n",
      "0it [00:00, ?it/s]"
     ]
    },
    {
     "name": "stdout",
     "output_type": "stream",
     "text": [
      "df_reached_targets :     start_price  target_num  positive_val  negative_val  positive  negative  \\\n",
      "0     1.125075         1.0      1.125175      1.124975       0.0       0.0   \n",
      "1     1.125075         2.0      1.125275      1.124875       0.0       0.0   \n",
      "2     1.125075         3.0      1.125375      1.124775       0.0       0.0   \n",
      "\n",
      "  p_duration n_duration  \n",
      "0                        \n",
      "1                        \n",
      "2                        \n",
      "no_direction : Run again\n",
      "-------------------------------Iteration 20-------------------------------\n",
      "Finding Market Direction with min trans of 27.0...\n"
     ]
    },
    {
     "name": "stderr",
     "output_type": "stream",
     "text": [
      "28it [00:23,  1.21it/s]\n",
      "0it [00:00, ?it/s]"
     ]
    },
    {
     "name": "stdout",
     "output_type": "stream",
     "text": [
      "df_reached_targets :     start_price  target_num  positive_val  negative_val  positive  negative  \\\n",
      "0     1.125065         1.0      1.125165      1.124965       0.0       0.0   \n",
      "1     1.125065         2.0      1.125265      1.124865       0.0       0.0   \n",
      "2     1.125065         3.0      1.125365      1.124765       0.0       0.0   \n",
      "\n",
      "  p_duration n_duration  \n",
      "0                        \n",
      "1                        \n",
      "2                        \n",
      "no_direction : Run again\n",
      "-------------------------------Iteration 21-------------------------------\n",
      "Finding Market Direction with min trans of 27.0...\n"
     ]
    },
    {
     "name": "stderr",
     "output_type": "stream",
     "text": [
      "28it [00:24,  1.14it/s]\n",
      "0it [00:00, ?it/s]"
     ]
    },
    {
     "name": "stdout",
     "output_type": "stream",
     "text": [
      "df_reached_targets :     start_price  target_num  positive_val  negative_val  positive  negative  \\\n",
      "0     1.125085         1.0      1.125185      1.124985       0.0      4.15   \n",
      "1     1.125085         2.0      1.125285      1.124885       0.0      0.00   \n",
      "2     1.125085         3.0      1.125385      1.124785       0.0      0.00   \n",
      "\n",
      "  p_duration n_duration  \n",
      "0                0:0:12  \n",
      "1                        \n",
      "2                        \n",
      "Direction : negative\n",
      "Running OE :  675.0 {50: {'half_min_trans_num': -338.0, 'max_loss': -0.0001}, 60: {'half_min_trans_num': -405.0, 'max_loss': -0.0002}, 70: {'half_min_trans_num': -472.0, 'max_loss': -0.0003}, 80: {'half_min_trans_num': -540.0, 'max_loss': -0.0004}, 90: {'half_min_trans_num': -608.0, 'max_loss': -0.0005}, 95: {'half_min_trans_num': -641.0, 'max_loss': -0.0006}, 96: {'half_min_trans_num': -648.0, 'max_loss': -0.0007}, 97: {'half_min_trans_num': -655.0, 'max_loss': -0.0008}, 98: {'half_min_trans_num': -662.0, 'max_loss': -0.0009}, 99: {'half_min_trans_num': -668.0, 'max_loss': -0.001}}\n"
     ]
    },
    {
     "name": "stderr",
     "output_type": "stream",
     "text": [
      "79it [00:56,  1.50s/it]"
     ]
    },
    {
     "name": "stdout",
     "output_type": "stream",
     "text": [
      "buffered_min_price : 5e-05 sell_price : 1.12474\n"
     ]
    },
    {
     "name": "stderr",
     "output_type": "stream",
     "text": [
      "81it [00:57,  1.41it/s]\n",
      "0it [00:00, ?it/s]"
     ]
    },
    {
     "name": "stdout",
     "output_type": "stream",
     "text": [
      "pl:0.0001 iter_limit:135.0\n",
      "-------------------------------Iteration 22-------------------------------\n",
      "Finding Market Direction with min trans of 27.0...\n"
     ]
    },
    {
     "name": "stderr",
     "output_type": "stream",
     "text": [
      "28it [00:18,  1.48it/s]\n",
      "0it [00:00, ?it/s]"
     ]
    },
    {
     "name": "stdout",
     "output_type": "stream",
     "text": [
      "df_reached_targets :     start_price  target_num  positive_val  negative_val  positive  negative  \\\n",
      "0     1.124825         1.0      1.124925      1.124725       0.0       0.0   \n",
      "1     1.124825         2.0      1.125025      1.124625       0.0       0.0   \n",
      "2     1.124825         3.0      1.125125      1.124525       0.0       0.0   \n",
      "\n",
      "  p_duration n_duration  \n",
      "0                        \n",
      "1                        \n",
      "2                        \n",
      "no_direction : Run again\n",
      "-------------------------------Iteration 23-------------------------------\n",
      "Finding Market Direction with min trans of 27.0...\n"
     ]
    },
    {
     "name": "stderr",
     "output_type": "stream",
     "text": [
      "28it [00:12,  2.30it/s]\n",
      "0it [00:00, ?it/s]"
     ]
    },
    {
     "name": "stdout",
     "output_type": "stream",
     "text": [
      "df_reached_targets :     start_price  target_num  positive_val  negative_val  positive  negative  \\\n",
      "0      1.12487         1.0       1.12497       1.12477       0.0       0.0   \n",
      "1      1.12487         2.0       1.12507       1.12467       0.0       0.0   \n",
      "2      1.12487         3.0       1.12517       1.12457       0.0       0.0   \n",
      "\n",
      "  p_duration n_duration  \n",
      "0                        \n",
      "1                        \n",
      "2                        \n",
      "no_direction : Run again\n",
      "-------------------------------Iteration 24-------------------------------\n",
      "Finding Market Direction with min trans of 27.0...\n"
     ]
    },
    {
     "name": "stderr",
     "output_type": "stream",
     "text": [
      "28it [00:13,  2.14it/s]\n",
      "0it [00:00, ?it/s]"
     ]
    },
    {
     "name": "stdout",
     "output_type": "stream",
     "text": [
      "df_reached_targets :     start_price  target_num  positive_val  negative_val  positive  negative  \\\n",
      "0     1.124925         1.0      1.125025      1.124825      19.5       0.0   \n",
      "1     1.124925         2.0      1.125125      1.124725       0.0       0.0   \n",
      "2     1.124925         3.0      1.125225      1.124625       0.0       0.0   \n",
      "\n",
      "  p_duration n_duration  \n",
      "0      0:0:7             \n",
      "1                        \n",
      "2                        \n",
      "Direction : positive\n",
      "Running OE :  675.0 {50: {'half_min_trans_num': -338.0, 'max_loss': -0.0001}, 60: {'half_min_trans_num': -405.0, 'max_loss': -0.0002}, 70: {'half_min_trans_num': -472.0, 'max_loss': -0.0003}, 80: {'half_min_trans_num': -540.0, 'max_loss': -0.0004}, 90: {'half_min_trans_num': -608.0, 'max_loss': -0.0005}, 95: {'half_min_trans_num': -641.0, 'max_loss': -0.0006}, 96: {'half_min_trans_num': -648.0, 'max_loss': -0.0007}, 97: {'half_min_trans_num': -655.0, 'max_loss': -0.0008}, 98: {'half_min_trans_num': -662.0, 'max_loss': -0.0009}, 99: {'half_min_trans_num': -668.0, 'max_loss': -0.001}}\n"
     ]
    },
    {
     "name": "stderr",
     "output_type": "stream",
     "text": [
      "647it [07:35,  1.42it/s]\n",
      "0it [00:00, ?it/s]"
     ]
    },
    {
     "name": "stdout",
     "output_type": "stream",
     "text": [
      "pl:-0.0004 iter_limit:135.0\n",
      "-------------------------------Iteration 25-------------------------------\n",
      "Finding Market Direction with min trans of 54.0...\n"
     ]
    },
    {
     "name": "stderr",
     "output_type": "stream",
     "text": [
      "55it [00:31,  1.74it/s]\n",
      "0it [00:00, ?it/s]"
     ]
    },
    {
     "name": "stdout",
     "output_type": "stream",
     "text": [
      "df_reached_targets :     start_price  target_num  positive_val  negative_val  positive  negative  \\\n",
      "0     1.124825         1.0      1.124925      1.124725       0.0      12.3   \n",
      "1     1.124825         2.0      1.125025      1.124625       0.0      15.0   \n",
      "2     1.124825         3.0      1.125125      1.124525       0.0       0.0   \n",
      "\n",
      "  p_duration n_duration  \n",
      "0                0:0:13  \n",
      "1                        \n",
      "2                        \n",
      "Direction : negative\n",
      "Running OE :  675.0 {50: {'half_min_trans_num': -338.0, 'max_loss': -0.0001}, 60: {'half_min_trans_num': -405.0, 'max_loss': -0.0002}, 70: {'half_min_trans_num': -472.0, 'max_loss': -0.0003}, 80: {'half_min_trans_num': -540.0, 'max_loss': -0.0004}, 90: {'half_min_trans_num': -608.0, 'max_loss': -0.0005}, 95: {'half_min_trans_num': -641.0, 'max_loss': -0.0006}, 96: {'half_min_trans_num': -648.0, 'max_loss': -0.0007}, 97: {'half_min_trans_num': -655.0, 'max_loss': -0.0008}, 98: {'half_min_trans_num': -662.0, 'max_loss': -0.0009}, 99: {'half_min_trans_num': -668.0, 'max_loss': -0.001}}\n"
     ]
    },
    {
     "name": "stderr",
     "output_type": "stream",
     "text": [
      "678it [09:45,  1.16it/s]"
     ]
    },
    {
     "name": "stdout",
     "output_type": "stream",
     "text": [
      "pl:-0.0011 iter_limit:270.0\n",
      "Wall time: 43min 58s\n"
     ]
    },
    {
     "name": "stderr",
     "output_type": "stream",
     "text": [
      "\n"
     ]
    }
   ],
   "source": [
    "%%time\n",
    "num = get_min_trans_num(instrument, accountID, iter_num, pip_gap, pip_size)\n",
    "dir_min_trans_num_long = round((num * dir_min_trans_multiplier_long),0)\n",
    "dir_min_trans_num_short = round((num * dir_min_trans_multiplier_short),0)\n",
    "dir_min_trans_num = dir_min_trans_num_long\n",
    "\n",
    "run_min_trans_num = round((num * run_min_trans_multiplier),0)\n",
    "\n",
    "run_flag = True\n",
    "\n",
    "for i in range(num_of_bets):    \n",
    "    print(f'-------------------------------Iteration {i+1}-------------------------------')\n",
    "    if run_flag:\n",
    "        direction, df_reached_targets, tick_list = run_direction_engine(accountID, instrument, dir_min_trans_num, target_num, min_count, pip_size, pip_gap)    \n",
    "        print('df_reached_targets : ',df_reached_targets)\n",
    "    if direction == 'no_direction':\n",
    "        print('no_direction : Run again')\n",
    "        run_flag = True\n",
    "        output_df = get_output_data('', '', '', '', '', '',dirc = False) \n",
    "        \n",
    "    else:\n",
    "        print(f'Direction : {direction}')\n",
    "        make_order_log, close_order_log, iters, close_reason = run_order_engine(accountID, instrument, direction, profit_target_num, loss_limit_num, price_allowed_buffer, run_min_trans_num, pip_size, loss_limits)\n",
    "        output_df = get_output_data(accountID, instrument, make_order_log, close_order_log, iters, close_reason, dirc = True)\n",
    "        pl_pip = float(output_df['profit_pips'])\n",
    "        iter_limit = dir_min_trans_num * dir_recalc_multiplier\n",
    "        print(f'pl:{pl_pip} iter_limit:{iter_limit}')\n",
    "\n",
    "\n",
    "        if float(pl_pip) >= 0 and iters < iter_limit:\n",
    "            run_flag = True\n",
    "            dir_min_trans_num = dir_min_trans_num_short\n",
    "        else:\n",
    "            run_flag = True\n",
    "            dir_min_trans_num = dir_min_trans_num_long\n",
    "\n",
    "    output_df.to_csv('data/machine_use/output_log_machine_use.csv', mode='a', header=False, index = False)"
   ]
  },
  {
   "cell_type": "code",
   "execution_count": 18,
   "metadata": {
    "scrolled": true
   },
   "outputs": [],
   "source": [
    "df_copy = pd.read_csv('data/machine_use/output_log_machine_use.csv')\n",
    "df_copy.to_csv('data/output_log.csv', index = False)    "
   ]
  }
 ],
 "metadata": {
  "kernelspec": {
   "display_name": "Python 3",
   "language": "python",
   "name": "python3"
  },
  "language_info": {
   "codemirror_mode": {
    "name": "ipython",
    "version": 3
   },
   "file_extension": ".py",
   "mimetype": "text/x-python",
   "name": "python",
   "nbconvert_exporter": "python",
   "pygments_lexer": "ipython3",
   "version": "3.6.6"
  }
 },
 "nbformat": 4,
 "nbformat_minor": 4
}
