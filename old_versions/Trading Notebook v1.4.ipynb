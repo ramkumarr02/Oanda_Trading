{
 "cells": [
  {
   "cell_type": "markdown",
   "metadata": {},
   "source": [
    "# Oanda Demo Trading Notebook"
   ]
  },
  {
   "cell_type": "markdown",
   "metadata": {},
   "source": [
    "#### Packages"
   ]
  },
  {
   "cell_type": "markdown",
   "metadata": {},
   "source": [
    "Normal Packages"
   ]
  },
  {
   "cell_type": "code",
   "execution_count": 38,
   "metadata": {},
   "outputs": [],
   "source": [
    "import numpy as np\n",
    "import pandas as pd\n",
    "\n",
    "import yaml\n",
    "import json\n",
    "\n",
    "import time\n",
    "import winsound\n",
    "\n",
    "import warnings\n",
    "warnings.filterwarnings('ignore')"
   ]
  },
  {
   "cell_type": "markdown",
   "metadata": {},
   "source": [
    "Oanda Packages"
   ]
  },
  {
   "cell_type": "code",
   "execution_count": 39,
   "metadata": {},
   "outputs": [],
   "source": [
    "from oandapyV20 import API\n",
    "import oandapyV20.endpoints.trades as trades\n",
    "import oandapyV20.endpoints.pricing as pricing\n",
    "import oandapyV20.endpoints.accounts as accounts\n",
    "\n",
    "import oandapyV20.definitions.pricing as defpricing\n",
    "import oandapyV20.endpoints.instruments as instruments"
   ]
  },
  {
   "cell_type": "markdown",
   "metadata": {},
   "source": [
    "#### API Setup"
   ]
  },
  {
   "cell_type": "markdown",
   "metadata": {},
   "source": [
    "Read from config file"
   ]
  },
  {
   "cell_type": "code",
   "execution_count": 40,
   "metadata": {},
   "outputs": [],
   "source": [
    "config_file = 'config/access_token.yaml'\n",
    "\n",
    "with open(config_file) as c_file:\n",
    "    config = yaml.load(c_file)\n",
    "\n",
    "access_token = config['oanda_demo_account']['token']\n",
    "accountID = config['oanda_demo_account']['account_id']\n",
    "\n",
    "api = API(access_token = access_token)"
   ]
  },
  {
   "cell_type": "markdown",
   "metadata": {},
   "source": [
    "#### Retrive Data"
   ]
  },
  {
   "cell_type": "markdown",
   "metadata": {},
   "source": [
    "Get Price details"
   ]
  },
  {
   "cell_type": "code",
   "execution_count": 41,
   "metadata": {
    "scrolled": true
   },
   "outputs": [
    {
     "name": "stdout",
     "output_type": "stream",
     "text": [
      "{\n",
      "  \"time\": \"2020-06-05T15:56:46.699270611Z\",\n",
      "  \"prices\": [\n",
      "    {\n",
      "      \"type\": \"PRICE\",\n",
      "      \"time\": \"2020-06-05T15:56:46.325371349Z\",\n",
      "      \"bids\": [\n",
      "        {\n",
      "          \"price\": \"1.12951\",\n",
      "          \"liquidity\": 1000000\n",
      "        },\n",
      "        {\n",
      "          \"price\": \"1.12950\",\n",
      "          \"liquidity\": 2000000\n",
      "        },\n",
      "        {\n",
      "          \"price\": \"1.12949\",\n",
      "          \"liquidity\": 2000000\n",
      "        },\n",
      "        {\n",
      "          \"price\": \"1.12947\",\n",
      "          \"liquidity\": 5000000\n",
      "        }\n",
      "      ],\n",
      "      \"asks\": [\n",
      "        {\n",
      "          \"price\": \"1.12960\",\n",
      "          \"liquidity\": 1000000\n",
      "        },\n",
      "        {\n",
      "          \"price\": \"1.12962\",\n",
      "          \"liquidity\": 2000000\n",
      "        },\n",
      "        {\n",
      "          \"price\": \"1.12963\",\n",
      "          \"liquidity\": 2000000\n",
      "        },\n",
      "        {\n",
      "          \"price\": \"1.12964\",\n",
      "          \"liquidity\": 5000000\n",
      "        }\n",
      "      ],\n",
      "      \"closeoutBid\": \"1.12947\",\n",
      "      \"closeoutAsk\": \"1.12964\",\n",
      "      \"status\": \"tradeable\",\n",
      "      \"tradeable\": true,\n",
      "      \"unitsAvailable\": {\n",
      "        \"default\": {\n",
      "          \"long\": \"1271779\",\n",
      "          \"short\": \"1271779\"\n",
      "        },\n",
      "        \"openOnly\": {\n",
      "          \"long\": \"1271779\",\n",
      "          \"short\": \"1271779\"\n",
      "        },\n",
      "        \"reduceFirst\": {\n",
      "          \"long\": \"1271779\",\n",
      "          \"short\": \"1271779\"\n",
      "        },\n",
      "        \"reduceOnly\": {\n",
      "          \"long\": \"0\",\n",
      "          \"short\": \"0\"\n",
      "        }\n",
      "      },\n",
      "      \"quoteHomeConversionFactors\": {\n",
      "        \"positiveUnits\": \"1.39206000\",\n",
      "        \"negativeUnits\": \"1.39239000\"\n",
      "      },\n",
      "      \"instrument\": \"EUR_USD\"\n",
      "    }\n",
      "  ]\n",
      "}\n"
     ]
    }
   ],
   "source": [
    "params = {\n",
    "    'instruments': 'EUR_USD'\n",
    "}\n",
    "\n",
    "price_info = pricing.PricingInfo(accountID = accountID, params = params)\n",
    "price = api.request(price_info)\n",
    "\n",
    "#print(price)\n",
    "print(json.dumps(price, indent = 2))"
   ]
  },
  {
   "cell_type": "code",
   "execution_count": 42,
   "metadata": {},
   "outputs": [],
   "source": [
    "def get_date_time(resp):\n",
    "    \n",
    "    time_stamp = resp['time']\n",
    "    date_val, full_time = time_stamp.split(sep = 'T')\n",
    "    time_val, time_fraction = full_time.split(sep = '.')\n",
    "    \n",
    "    return(date_val, time_val, time_fraction)"
   ]
  },
  {
   "cell_type": "code",
   "execution_count": 43,
   "metadata": {},
   "outputs": [],
   "source": [
    "def get_prices(resp):\n",
    "    \n",
    "    bid_price = float(resp['bids'][0]['price'])    \n",
    "    ask_price = float(resp['asks'][0]['price'])\n",
    "    spread = ask_price - bid_price\n",
    "    \n",
    "    return(bid_price, ask_price, spread)"
   ]
  },
  {
   "cell_type": "code",
   "execution_count": 44,
   "metadata": {},
   "outputs": [],
   "source": [
    "def terminate_connection():\n",
    "    try:\n",
    "        print('Connection Terminated')\n",
    "        r.terminate(message = \"maxrecs records received\")\n",
    "    except:\n",
    "        pass"
   ]
  },
  {
   "cell_type": "code",
   "execution_count": 49,
   "metadata": {
    "scrolled": false
   },
   "outputs": [
    {
     "name": "stdout",
     "output_type": "stream",
     "text": [
      "Iteration :  0\n",
      "buy_price: 1.12962 , sell_price: 1.12953 , spread(pips): 0.9000000000014552\n",
      "----------------------------------------------\n",
      "Iteration :  1\n",
      "buy_price: 1.12964 , sell_price: 1.12956 , spread(pips): 0.8000000000008001\n",
      "----------------------------------------------\n",
      "Iteration :  2\n",
      "buy_price: 1.12961 , sell_price: 1.12953 , spread(pips): 0.8000000000008001\n",
      "----------------------------------------------\n",
      "Iteration :  3\n",
      "buy_price: 1.12963 , sell_price: 1.12954 , spread(pips): 0.8999999999992347\n",
      "----------------------------------------------\n",
      "Connection Terminated\n"
     ]
    }
   ],
   "source": [
    "r = pricing.PricingStream(accountID=accountID, params=params)\n",
    "rv = api.request(r)\n",
    "\n",
    "num = 4\n",
    "bp_list = []\n",
    "sp_list = []\n",
    "\n",
    "for i, resp in enumerate(rv):\n",
    "    if i < num:        \n",
    "        print('Iteration : ',i)\n",
    "        \n",
    "        resp_type = resp['type']        \n",
    "        \n",
    "        if resp_type == 'PRICE':    \n",
    "            date_val, time_val, time_fraction = get_date_time(resp)\n",
    "            sell_price, buy_price, spread = get_prices(resp)          \n",
    "            print('buy_price:',buy_price,',' , 'sell_price:',sell_price, ',', 'spread(pips):',spread*10000)\n",
    "            print('----------------------------------------------')\n",
    "            \n",
    "        else:\n",
    "            print('HEARTBEAT')\n",
    "\n",
    "    else:\n",
    "        terminate_connection()\n",
    "        \n",
    "winsound.PlaySound('C:\\\\Windows\\\\Media\\\\tada.wav', winsound.SND_ASYNC)"
   ]
  },
  {
   "cell_type": "code",
   "execution_count": 78,
   "metadata": {},
   "outputs": [
    {
     "name": "stdout",
     "output_type": "stream",
     "text": [
      "[1, 2, 3, 3, 2, 1]\n",
      "[2, 3, 3, 2, 1]\n"
     ]
    }
   ],
   "source": [
    "full_list = [1,2,3,3,2,1]\n",
    "print(full_list)\n",
    "del full_list[0]\n",
    "print(full_list)"
   ]
  },
  {
   "cell_type": "code",
   "execution_count": 81,
   "metadata": {},
   "outputs": [
    {
     "ename": "IndexError",
     "evalue": "list index out of range",
     "output_type": "error",
     "traceback": [
      "\u001b[1;31m--------------------------------------------------------------------\u001b[0m",
      "\u001b[1;31mIndexError\u001b[0m                         Traceback (most recent call last)",
      "\u001b[1;32m<ipython-input-81-2c945280df2e>\u001b[0m in \u001b[0;36m<module>\u001b[1;34m\u001b[0m\n\u001b[1;32m----> 1\u001b[1;33m \u001b[0mfull_list\u001b[0m\u001b[1;33m[\u001b[0m\u001b[1;36m6\u001b[0m\u001b[1;33m]\u001b[0m\u001b[1;33m\u001b[0m\u001b[0m\n\u001b[0m",
      "\u001b[1;31mIndexError\u001b[0m: list index out of range"
     ]
    }
   ],
   "source": [
    "full_list[6]"
   ]
  },
  {
   "cell_type": "code",
   "execution_count": 93,
   "metadata": {},
   "outputs": [],
   "source": [
    "def get_chunks(i, val):\n",
    "    global chunk_size\n",
    "    global small_list\n",
    "    global size_flag\n",
    "    global change_position\n",
    "    \n",
    "    if i < chunk_size:\n",
    "        small_list.append(val)\n",
    "\n",
    "    if size_flag == 1:\n",
    "        print(change_position)\n",
    "        small_list.popleft()\n",
    "        small_list.append(val)\n",
    "        change_position -= 1\n",
    "        if change_position < 0:\n",
    "            change_position = 2\n",
    "        \n",
    "    if len(small_list) == chunk_size:\n",
    "        size_flag = 1  \n",
    "        \n",
    "    return(small_list)"
   ]
  },
  {
   "cell_type": "code",
   "execution_count": 94,
   "metadata": {
    "scrolled": false
   },
   "outputs": [
    {
     "name": "stdout",
     "output_type": "stream",
     "text": [
      "deque([1])\n",
      "deque([1, 2])\n",
      "deque([1, 2, 3])\n",
      "2\n",
      "deque([2, 3, 4])\n",
      "1\n",
      "deque([3, 4, 5])\n",
      "0\n",
      "deque([4, 5, 6])\n",
      "2\n",
      "deque([5, 6, 7])\n",
      "1\n",
      "deque([6, 7, 8])\n",
      "0\n",
      "deque([7, 8, 9])\n",
      "2\n",
      "deque([8, 9, 10])\n",
      "1\n",
      "deque([9, 10, 11])\n",
      "0\n",
      "deque([10, 11, 12])\n",
      "2\n",
      "deque([11, 12, 13])\n",
      "1\n",
      "deque([12, 13, 14])\n",
      "0\n",
      "deque([13, 14, 15])\n",
      "2\n",
      "deque([14, 15, 16])\n",
      "1\n",
      "deque([15, 16, 17])\n",
      "0\n",
      "deque([16, 17, 18])\n",
      "2\n",
      "deque([17, 18, 19])\n",
      "1\n",
      "deque([18, 19, 20])\n"
     ]
    }
   ],
   "source": [
    "full_list = [1,2,3,4,5,6,7,8,9,10,11,12,13,14,15,16,17,18,19,20]\n",
    "\n",
    "chunk_size = 3\n",
    "small_list = collections.deque([])\n",
    "size_flag = 0\n",
    "change_position = chunk_size - 1\n",
    "\n",
    "for i, val in enumerate(full_list):\n",
    "    \n",
    "    small_list = get_chunks(i, val)\n",
    "        \n",
    "    print(small_list)"
   ]
  },
  {
   "cell_type": "code",
   "execution_count": 50,
   "metadata": {
    "scrolled": false
   },
   "outputs": [
    {
     "name": "stdout",
     "output_type": "stream",
     "text": [
      "[1]\n",
      "[1, 2]\n",
      "[1, 2, 3]\n",
      "[1, 2, 3, 4]\n",
      "[5, 2, 3, 4]\n",
      "[5, 6, 3, 4]\n",
      "[5, 6, 7, 4]\n",
      "[5, 6, 7, 8]\n",
      "[9, 6, 7, 8]\n",
      "[9, 10, 7, 8]\n",
      "[9, 10, 11, 8]\n",
      "[9, 10, 11, 12]\n",
      "[13, 10, 11, 12]\n",
      "[13, 14, 11, 12]\n",
      "[13, 14, 15, 12]\n",
      "[13, 14, 15, 16]\n",
      "[17, 14, 15, 16]\n",
      "[17, 18, 15, 16]\n",
      "[17, 18, 19, 16]\n",
      "[17, 18, 19, 20]\n"
     ]
    }
   ],
   "source": [
    "full_list = [1,2,3,4,5,6,7,8,9,10,11,12,13,14,15,16,17,18,19,20]\n",
    "\n",
    "chunk_size = 4\n",
    "small_list = []\n",
    "size_flag = 0\n",
    "change_position = 0\n",
    "\n",
    "for i, val in enumerate(full_list):\n",
    "    \n",
    "    if i < chunk_size:\n",
    "        small_list.append(val)\n",
    "\n",
    "    if size_flag == 1:\n",
    "        small_list[change_position] = val\n",
    "        change_position += 1\n",
    "        if change_position >= chunk_size:\n",
    "            change_position = 0\n",
    "        \n",
    "    if len(small_list) == chunk_size:\n",
    "        size_flag = 1        \n",
    "        \n",
    "    print(small_list)"
   ]
  },
  {
   "cell_type": "code",
   "execution_count": 61,
   "metadata": {},
   "outputs": [],
   "source": [
    "import collections"
   ]
  },
  {
   "cell_type": "code",
   "execution_count": 65,
   "metadata": {},
   "outputs": [
    {
     "data": {
      "text/plain": [
       "1"
      ]
     },
     "execution_count": 65,
     "metadata": {},
     "output_type": "execute_result"
    }
   ],
   "source": [
    "p.append(1)\n",
    "p[0]"
   ]
  },
  {
   "cell_type": "code",
   "execution_count": 63,
   "metadata": {},
   "outputs": [],
   "source": [
    "p = collections.deque([])"
   ]
  },
  {
   "cell_type": "code",
   "execution_count": 87,
   "metadata": {},
   "outputs": [
    {
     "name": "stdout",
     "output_type": "stream",
     "text": [
      "deque(['herp', 'derp', 'blah', 'what', 'da..'])\n",
      "deque(['wuggah', 'herp', 'derp', 'blah', 'what', 'da..'])\n",
      "deque(['wuggah', 'herp', 'derp', 'blah', 'what'])\n"
     ]
    }
   ],
   "source": [
    "q = collections.deque([\"herp\", \"derp\", \"blah\", \"what\", \"da..\"])\n",
    "print(q)\n",
    "q.appendleft('wuggah')\n",
    "print(q)\n",
    "q.pop()\n",
    "print(q)"
   ]
  },
  {
   "cell_type": "code",
   "execution_count": 90,
   "metadata": {},
   "outputs": [
    {
     "data": {
      "text/plain": [
       "deque(['herp', 'derp', 'blah', 'what'])"
      ]
     },
     "execution_count": 90,
     "metadata": {},
     "output_type": "execute_result"
    }
   ],
   "source": [
    "q"
   ]
  },
  {
   "cell_type": "code",
   "execution_count": 91,
   "metadata": {},
   "outputs": [],
   "source": [
    "q.append('ram')"
   ]
  },
  {
   "cell_type": "code",
   "execution_count": 92,
   "metadata": {},
   "outputs": [
    {
     "data": {
      "text/plain": [
       "deque(['herp', 'derp', 'blah', 'what', 'ram'])"
      ]
     },
     "execution_count": 92,
     "metadata": {},
     "output_type": "execute_result"
    }
   ],
   "source": [
    "q"
   ]
  },
  {
   "cell_type": "code",
   "execution_count": 89,
   "metadata": {},
   "outputs": [
    {
     "data": {
      "text/plain": [
       "deque(['herp', 'derp', 'blah', 'what'])"
      ]
     },
     "execution_count": 89,
     "metadata": {},
     "output_type": "execute_result"
    }
   ],
   "source": [
    "q.popleft()\n",
    "q"
   ]
  },
  {
   "cell_type": "code",
   "execution_count": 69,
   "metadata": {},
   "outputs": [
    {
     "name": "stdout",
     "output_type": "stream",
     "text": [
      "{0: 2, 1: 3, 2: 4}\n",
      "2\n"
     ]
    }
   ],
   "source": [
    "lst = [2,3,4]\n",
    "\n",
    "list_size = len(lst)\n",
    "val_dict = {}\n",
    "flag_val = 0\n",
    "\n",
    "for i in range(list_size):\n",
    "    val_dict[i] = lst[i]\n",
    "    \n",
    "\n",
    "for i in range(list_size-1):\n",
    "    if val_dict[i] < val_dict[i+1]:\n",
    "        flag_val += 1\n",
    "        \n",
    "    elif val_dict[i] == val_dict[i+1]:\n",
    "        flag_val += 0\n",
    "        \n",
    "    elif val_dict[i] > val_dict[i+1]:\n",
    "        flag_val -= 1\n",
    "     \n",
    "print(val_dict)\n",
    "print(flag_val)"
   ]
  },
  {
   "cell_type": "code",
   "execution_count": 48,
   "metadata": {},
   "outputs": [
    {
     "name": "stdout",
     "output_type": "stream",
     "text": [
      "2\n"
     ]
    }
   ],
   "source": [
    "for i in range(n-1):\n",
    "    old_val = lst[i]\n",
    "    new_val = lst[i+1]\n",
    "    \n",
    "    if old_val <= new_val:\n",
    "        flag_val += 1\n",
    "            \n",
    "print(flag_val)"
   ]
  }
 ],
 "metadata": {
  "kernelspec": {
   "display_name": "Python 3",
   "language": "python",
   "name": "python3"
  },
  "language_info": {
   "codemirror_mode": {
    "name": "ipython",
    "version": 3
   },
   "file_extension": ".py",
   "mimetype": "text/x-python",
   "name": "python",
   "nbconvert_exporter": "python",
   "pygments_lexer": "ipython3",
   "version": "3.6.6"
  }
 },
 "nbformat": 4,
 "nbformat_minor": 4
}
