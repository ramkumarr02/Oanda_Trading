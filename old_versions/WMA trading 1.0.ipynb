{
 "cells": [
  {
   "cell_type": "markdown",
   "metadata": {},
   "source": [
    "# Oanda Demo Trading Notebook"
   ]
  },
  {
   "cell_type": "markdown",
   "metadata": {},
   "source": [
    "## Packages & Tools"
   ]
  },
  {
   "cell_type": "code",
   "execution_count": 1,
   "metadata": {},
   "outputs": [],
   "source": [
    "from utils.packages import *\n",
    "from utils.tools import *"
   ]
  },
  {
   "cell_type": "markdown",
   "metadata": {},
   "source": [
    "## Tools"
   ]
  },
  {
   "cell_type": "code",
   "execution_count": 2,
   "metadata": {},
   "outputs": [],
   "source": [
    "def make_order(accountID, stop_price, instrument, units):\n",
    "    stopLossOnFill = StopLossDetails(price=stop_price)\n",
    "\n",
    "    ordr = MarketOrderRequest(\n",
    "        instrument = instrument,\n",
    "        units=units,\n",
    "        stopLossOnFill=stopLossOnFill.data)\n",
    "\n",
    "    r = orders.OrderCreate(accountID, data=ordr.data)\n",
    "    rv = api.request(r)\n",
    "    return(rv)"
   ]
  },
  {
   "cell_type": "code",
   "execution_count": 3,
   "metadata": {},
   "outputs": [],
   "source": [
    "def close_order(accountID, order_type, instrument):\n",
    "    data_long = {\"longUnits\": \"ALL\"}\n",
    "    data_short = {\"shortUnits\": \"ALL\"}\n",
    "    \n",
    "    if order_type == 'long':\n",
    "        data = data_long\n",
    "    elif order_type == 'short':\n",
    "        data = data_short\n",
    "        \n",
    "    r = positions.PositionClose(accountID=accountID,\n",
    "                                instrument=instrument,\n",
    "                                data=data)\n",
    "    rv = api.request(r)\n",
    "    return(rv)"
   ]
  },
  {
   "cell_type": "code",
   "execution_count": 4,
   "metadata": {
    "scrolled": true
   },
   "outputs": [],
   "source": [
    "def get_weights(s):\n",
    "    n = 1/s\n",
    "    val = 0\n",
    "    val_list = []\n",
    "    for i in range(s):\n",
    "        val += n\n",
    "        val_list.append(val)\n",
    "    val_list = np.array(val_list)\n",
    "    tot = sum(val_list)\n",
    "    val_list = val_list/tot\n",
    "    return(val_list)"
   ]
  },
  {
   "cell_type": "markdown",
   "metadata": {},
   "source": [
    "## API Setup"
   ]
  },
  {
   "cell_type": "markdown",
   "metadata": {},
   "source": [
    "Read from config file"
   ]
  },
  {
   "cell_type": "code",
   "execution_count": 5,
   "metadata": {
    "scrolled": true
   },
   "outputs": [],
   "source": [
    "temp_file = 'config/access_keys.yaml'\n",
    "with open(temp_file) as temp_file:\n",
    "    config = yaml.load(temp_file)\n",
    "    \n",
    "temp_file = 'config/currencies.yaml'\n",
    "with open(temp_file) as temp_file:\n",
    "    currencies = yaml.load(temp_file)\n",
    "\n",
    "temp_file = 'config/stepped_loss.yaml'\n",
    "with open(temp_file) as temp_file:\n",
    "    loss_limits = yaml.load(temp_file)\n",
    "    \n",
    "temp_file = 'config/chart_params.yaml'\n",
    "with open(temp_file) as temp_file:\n",
    "    chart_params = yaml.load(temp_file)    "
   ]
  },
  {
   "cell_type": "code",
   "execution_count": 6,
   "metadata": {},
   "outputs": [],
   "source": [
    "access_token = config['oanda_demo_account']['token']\n",
    "accountID = config['oanda_demo_account']['account_id']\n",
    "api = API(access_token = access_token)"
   ]
  },
  {
   "cell_type": "markdown",
   "metadata": {},
   "source": [
    "## Code Engine"
   ]
  },
  {
   "cell_type": "markdown",
   "metadata": {},
   "source": [
    "# Log these inputs as well"
   ]
  },
  {
   "cell_type": "code",
   "execution_count": 7,
   "metadata": {},
   "outputs": [
    {
     "data": {
      "text/plain": [
       "'\\ninstrument=\"EUR_USD\"\\npip_size = currencies[\\'currs\\'][instrument][\\'pip_size\\']\\npip_gap = currencies[\\'currs\\'][instrument][\\'pip_gap\\']\\n\\nprofit_target_num  = 0.5\\nprice_allowed_buffer = 0.5 \\nloss_limit_num = 25\\n\\n\\ntarget_num = 3\\nmin_count = 2\\nmin_count_mulitplier = 1\\n\\n\\niter_num = 300\\ndir_min_trans_multiplier_long = 1\\ndir_min_trans_multiplier_short = 0.5\\n\\nrun_min_trans_multiplier = 25\\ndir_recalc_multiplier = 5\\n\\nnum_of_bets = 10'"
      ]
     },
     "execution_count": 7,
     "metadata": {},
     "output_type": "execute_result"
    }
   ],
   "source": [
    "'''\n",
    "instrument=\"EUR_USD\"\n",
    "pip_size = currencies['currs'][instrument]['pip_size']\n",
    "pip_gap = currencies['currs'][instrument]['pip_gap']\n",
    "\n",
    "profit_target_num  = 0.5\n",
    "price_allowed_buffer = 0.5 \n",
    "loss_limit_num = 25\n",
    "\n",
    "\n",
    "target_num = 3\n",
    "min_count = 2\n",
    "min_count_mulitplier = 1\n",
    "\n",
    "\n",
    "iter_num = 300\n",
    "dir_min_trans_multiplier_long = 1\n",
    "dir_min_trans_multiplier_short = 0.5\n",
    "\n",
    "run_min_trans_multiplier = 25\n",
    "dir_recalc_multiplier = 5\n",
    "\n",
    "num_of_bets = 10'''"
   ]
  },
  {
   "cell_type": "code",
   "execution_count": 11,
   "metadata": {
    "scrolled": true
   },
   "outputs": [],
   "source": [
    "def run_wma(api, instrument, short_moving_window, long_moving_window, lists_size):\n",
    "    params = {'instruments': instrument}\n",
    "    order_flag = 'not_ordered'\n",
    "    r = pricing.PricingStream(accountID=accountID, params=params)\n",
    "    rv = api.request(r)\n",
    "\n",
    "    short_wma = 0\n",
    "    short_flag = True\n",
    "    short_list = collections.deque([])\n",
    "    short_wma_list = collections.deque([])\n",
    "    short_weights = get_weights(short_moving_window)\n",
    "\n",
    "    long_wma = 0\n",
    "    long_flag = True\n",
    "    long_list = collections.deque([])\n",
    "    long_wma_list = collections.deque([])\n",
    "    long_weights = get_weights(long_moving_window)\n",
    "\n",
    "    tick_list = collections.deque([])\n",
    "\n",
    "    long_list_counter = 0\n",
    "    list_ready = False\n",
    "    old_direction =  'none'\n",
    "    buy_price = 0\n",
    "    \n",
    "    initial_position_captured = False\n",
    "    \n",
    "    for i, resp in tqdm(enumerate(rv)):        \n",
    "        resp_type = resp['type']       \n",
    "\n",
    "        if resp_type == 'HEARTBEAT': # Heart beat response to keep the api connection alive (Avoid timeout)\n",
    "            pass\n",
    "        \n",
    "        #-----------------------------------------------------------------------------------------------------\n",
    "        elif resp_type == 'PRICE' and order_flag == 'not_ordered': # Check if we are yet to make the order               \n",
    "            date_val, time_val, time_fraction = get_date_time(resp) # Get time stamp for reference            \n",
    "            sell_price, buy_price, spread, tick_price = get_prices(resp) # Get prices from the response  \n",
    "            \n",
    "            \n",
    "            #Short list prep\n",
    "            #-----------------------------------------------------------------------------------------------------\n",
    "            if len(short_list) < short_moving_window:\n",
    "                short_list.append(tick_price)\n",
    "\n",
    "            if short_flag and len(short_list) == short_moving_window:\n",
    "                short_wma = sum(np.array(short_list)*short_weights)\n",
    "                short_flag =False\n",
    "\n",
    "            if short_flag == False and len(short_list) == short_moving_window:\n",
    "                short_list.popleft()   \n",
    "                short_list.append(tick_price) \n",
    "                short_wma = sum(np.array(short_list)*short_weights)\n",
    "                \n",
    "\n",
    "                \n",
    "            #Long list prep   \n",
    "            #-----------------------------------------------------------------------------------------------------                \n",
    "            if len(long_list) < long_moving_window:\n",
    "                long_list.append(tick_price)\n",
    "\n",
    "            if long_flag and len(long_list) == long_moving_window:\n",
    "                long_wma = sum(np.array(long_list)*long_weights)\n",
    "                long_flag = False\n",
    "\n",
    "            if long_flag == False and len(long_list) == long_moving_window:\n",
    "                long_list.popleft()   \n",
    "                long_list.append(tick_price) \n",
    "                long_wma = sum(np.array(long_list)*long_weights)   \n",
    "                long_list_counter += 1\n",
    "                if long_list_counter >= lists_size:\n",
    "                    list_ready = True\n",
    "             \n",
    "            \n",
    "                \n",
    "            #\n",
    "            #----------------------------------------------------------------------------------------------------- \n",
    "            if list_ready:\n",
    "                if short_wma > long_wma:\n",
    "                    current_position = 'positive'\n",
    "                elif short_wma < long_wma:\n",
    "                    current_position = 'negative'\n",
    "                elif short_wma == long_wma:\n",
    "                    current_position = 'same level'\n",
    "            \n",
    "            if list_ready and initial_position_captured == False and current_position != 'same level':\n",
    "                    initial_position = current_position\n",
    "                    print(f'initial_position : {initial_position}')\n",
    "                    initial_position_captured =  True\n",
    "                \n",
    "            if list_ready and initial_position_captured:\n",
    "                if initial_position == current_position:\n",
    "                    pass\n",
    "                \n",
    "                elif current_position == 'same level':\n",
    "                    print('Same level, wait for next iteration')\n",
    "                    print(f'long_wma:{long_wma} -- short_wma:{short_wma}')\n",
    "                    \n",
    "                elif initial_position != current_position and current_position != 'same level':\n",
    "                    print(f'current_position:{current_position}')\n",
    "                    print(f'long_wma:{long_wma} -- short_wma:{short_wma}')\n",
    "                    \n",
    "                    if current_position == 'positive':\n",
    "                        print('Closing open positions if any')\n",
    "                        print(\"Going Long\")\n",
    "                        initial_position = current_position\n",
    "                        profit = (short_wma - buy_price)*1000 \n",
    "                        print(f'profit:{profit}')\n",
    "                        buy_price = short_wma\n",
    "                    \n",
    "                    elif current_position == 'negative':\n",
    "                        print('Closing open positions if any')\n",
    "                        print(\"Going Short\")\n",
    "                        initial_position = current_position\n",
    "                        profit = (buy_price - short_wma)*1000 \n",
    "                        print(f'profit:{profit}')\n",
    "                        buy_price = short_wma            \n",
    "                \n",
    "    #winsound.PlaySound('C:\\\\Windows\\\\Media\\\\tada.wav', winsound.SND_ASYNC)   \n",
    "    return(short_wma_list, long_wma_list, tick_list)"
   ]
  },
  {
   "cell_type": "code",
   "execution_count": null,
   "metadata": {
    "scrolled": true
   },
   "outputs": [
    {
     "name": "stderr",
     "output_type": "stream",
     "text": [
      "37it [00:20,  2.43it/s]"
     ]
    }
   ],
   "source": [
    "short_wma_list, long_wma_list, tick_list = run_wma(api = api,\n",
    "                                                   instrument=\"EUR_USD\", \n",
    "                                                   short_moving_window = 10, \n",
    "                                                   long_moving_window = 10, \n",
    "                                                   lists_size = 10)"
   ]
  }
 ],
 "metadata": {
  "kernelspec": {
   "display_name": "Python 3",
   "language": "python",
   "name": "python3"
  },
  "language_info": {
   "codemirror_mode": {
    "name": "ipython",
    "version": 3
   },
   "file_extension": ".py",
   "mimetype": "text/x-python",
   "name": "python",
   "nbconvert_exporter": "python",
   "pygments_lexer": "ipython3",
   "version": "3.6.6"
  }
 },
 "nbformat": 4,
 "nbformat_minor": 4
}
