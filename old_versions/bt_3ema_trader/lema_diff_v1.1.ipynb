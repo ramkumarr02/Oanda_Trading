{
 "cells": [
  {
   "cell_type": "markdown",
   "metadata": {},
   "source": [
    "# Data Preparation"
   ]
  },
  {
   "cell_type": "markdown",
   "metadata": {},
   "source": [
    "## Packages"
   ]
  },
  {
   "cell_type": "code",
   "execution_count": 1,
   "metadata": {
    "scrolled": true
   },
   "outputs": [],
   "source": [
    "import os\n",
    "import winsound\n",
    "import numpy as np\n",
    "import pandas as pd\n",
    "import datetime as dt\n",
    "from tqdm import tqdm\n",
    "tqdm.pandas()\n",
    "from multiprocessing import  Pool\n",
    "import time\n",
    "\n",
    "import math, collections\n",
    "from scipy.stats import linregress\n",
    "\n",
    "from matplotlib import pyplot as plt\n",
    "from matplotlib.pyplot import figure\n",
    "\n",
    "import warnings\n",
    "warnings.filterwarnings('ignore')\n",
    "\n",
    "import plotly.express as px"
   ]
  },
  {
   "cell_type": "code",
   "execution_count": 2,
   "metadata": {},
   "outputs": [],
   "source": [
    "def roll_sma(ssma_list):\n",
    "    global data\n",
    "    sema_val = list(pd.DataFrame(ssma_list).ewm(span=data['sma_len']).mean()[0])[data['sma_len'] - 1]    \n",
    "    return(sema_val)\n",
    "\n",
    "def roll_lma(lsma_list):\n",
    "    global data\n",
    "    lema_val = list(pd.DataFrame(lsma_list).ewm(span=data['lma_len']).mean()[0])[data['lma_len'] - 1]    \n",
    "    return(lema_val)"
   ]
  },
  {
   "cell_type": "markdown",
   "metadata": {},
   "source": [
    "## Read data"
   ]
  },
  {
   "cell_type": "code",
   "execution_count": 12,
   "metadata": {
    "scrolled": true
   },
   "outputs": [
    {
     "name": "stdout",
     "output_type": "stream",
     "text": [
      "df has 8399947 records\n",
      "df has 4199974 records\n",
      "Wall time: 4.96 s\n"
     ]
    },
    {
     "data": {
      "text/html": [
       "<div>\n",
       "<style scoped>\n",
       "    .dataframe tbody tr th:only-of-type {\n",
       "        vertical-align: middle;\n",
       "    }\n",
       "\n",
       "    .dataframe tbody tr th {\n",
       "        vertical-align: top;\n",
       "    }\n",
       "\n",
       "    .dataframe thead th {\n",
       "        text-align: right;\n",
       "    }\n",
       "</style>\n",
       "<table border=\"1\" class=\"dataframe\">\n",
       "  <thead>\n",
       "    <tr style=\"text-align: right;\">\n",
       "      <th></th>\n",
       "      <th>DateTime</th>\n",
       "      <th>Bid</th>\n",
       "      <th>Ask</th>\n",
       "      <th>Volume</th>\n",
       "    </tr>\n",
       "  </thead>\n",
       "  <tbody>\n",
       "    <tr>\n",
       "      <th>0</th>\n",
       "      <td>20210103 22:00:00.040</td>\n",
       "      <td>1.22396</td>\n",
       "      <td>1.22411</td>\n",
       "      <td>7</td>\n",
       "    </tr>\n",
       "    <tr>\n",
       "      <th>1</th>\n",
       "      <td>20210103 22:00:00.434</td>\n",
       "      <td>1.22393</td>\n",
       "      <td>1.22411</td>\n",
       "      <td>1</td>\n",
       "    </tr>\n",
       "    <tr>\n",
       "      <th>2</th>\n",
       "      <td>20210103 22:00:00.933</td>\n",
       "      <td>1.22392</td>\n",
       "      <td>1.22409</td>\n",
       "      <td>1</td>\n",
       "    </tr>\n",
       "    <tr>\n",
       "      <th>3</th>\n",
       "      <td>20210103 22:00:01.423</td>\n",
       "      <td>1.22389</td>\n",
       "      <td>1.22409</td>\n",
       "      <td>1</td>\n",
       "    </tr>\n",
       "    <tr>\n",
       "      <th>4</th>\n",
       "      <td>20210103 22:00:01.854</td>\n",
       "      <td>1.22387</td>\n",
       "      <td>1.22407</td>\n",
       "      <td>1</td>\n",
       "    </tr>\n",
       "  </tbody>\n",
       "</table>\n",
       "</div>"
      ],
      "text/plain": [
       "                DateTime      Bid      Ask  Volume\n",
       "0  20210103 22:00:00.040  1.22396  1.22411       7\n",
       "1  20210103 22:00:00.434  1.22393  1.22411       1\n",
       "2  20210103 22:00:00.933  1.22392  1.22409       1\n",
       "3  20210103 22:00:01.423  1.22389  1.22409       1\n",
       "4  20210103 22:00:01.854  1.22387  1.22407       1"
      ]
     },
     "execution_count": 12,
     "metadata": {},
     "output_type": "execute_result"
    }
   ],
   "source": [
    "source_file_path = f'../data/products/eurusd/eurusd_2021.csv'\n",
    "\n",
    "# df = pd.read_csv(source_file_path, nrows=10000)\n",
    "df = pd.read_csv(source_file_path)\n",
    "print(f'df has {len(df)} records')\n",
    "\n",
    "reduce_times = 4\n",
    "df = df.iloc[::reduce_times].reset_index(drop=True)\n",
    "print(f'df has {len(df)} records')\n",
    "\n",
    "df.head()"
   ]
  },
  {
   "cell_type": "markdown",
   "metadata": {},
   "source": [
    "## Data manipulation"
   ]
  },
  {
   "cell_type": "code",
   "execution_count": 4,
   "metadata": {},
   "outputs": [],
   "source": [
    "data = {}\n",
    "data['sma_len'] = 5000\n",
    "data['lma_len'] = 50000"
   ]
  },
  {
   "cell_type": "code",
   "execution_count": 5,
   "metadata": {
    "scrolled": true
   },
   "outputs": [
    {
     "name": "stderr",
     "output_type": "stream",
     "text": [
      "257500it [04:56, 869.32it/s]\n",
      "212500it [16:54, 209.55it/s]"
     ]
    },
    {
     "name": "stdout",
     "output_type": "stream",
     "text": [
      "Wall time: 21min 50s\n"
     ]
    },
    {
     "name": "stderr",
     "output_type": "stream",
     "text": [
      "\n"
     ]
    },
    {
     "data": {
      "text/html": [
       "<div>\n",
       "<style scoped>\n",
       "    .dataframe tbody tr th:only-of-type {\n",
       "        vertical-align: middle;\n",
       "    }\n",
       "\n",
       "    .dataframe tbody tr th {\n",
       "        vertical-align: top;\n",
       "    }\n",
       "\n",
       "    .dataframe thead th {\n",
       "        text-align: right;\n",
       "    }\n",
       "</style>\n",
       "<table border=\"1\" class=\"dataframe\">\n",
       "  <thead>\n",
       "    <tr style=\"text-align: right;\">\n",
       "      <th></th>\n",
       "      <th>tick</th>\n",
       "      <th>spread</th>\n",
       "      <th>sema</th>\n",
       "      <th>lema</th>\n",
       "      <th>ema_diff</th>\n",
       "    </tr>\n",
       "  </thead>\n",
       "  <tbody>\n",
       "    <tr>\n",
       "      <th>49999</th>\n",
       "      <td>1.215430</td>\n",
       "      <td>0.00002</td>\n",
       "      <td>1.214897</td>\n",
       "      <td>1.216453</td>\n",
       "      <td>-0.001556</td>\n",
       "    </tr>\n",
       "    <tr>\n",
       "      <th>50000</th>\n",
       "      <td>1.215485</td>\n",
       "      <td>0.00003</td>\n",
       "      <td>1.214897</td>\n",
       "      <td>1.216453</td>\n",
       "      <td>-0.001555</td>\n",
       "    </tr>\n",
       "    <tr>\n",
       "      <th>50001</th>\n",
       "      <td>1.215660</td>\n",
       "      <td>0.00004</td>\n",
       "      <td>1.214897</td>\n",
       "      <td>1.216453</td>\n",
       "      <td>-0.001555</td>\n",
       "    </tr>\n",
       "    <tr>\n",
       "      <th>50002</th>\n",
       "      <td>1.215770</td>\n",
       "      <td>0.00004</td>\n",
       "      <td>1.214898</td>\n",
       "      <td>1.216452</td>\n",
       "      <td>-0.001555</td>\n",
       "    </tr>\n",
       "    <tr>\n",
       "      <th>50003</th>\n",
       "      <td>1.215600</td>\n",
       "      <td>0.00002</td>\n",
       "      <td>1.214898</td>\n",
       "      <td>1.216452</td>\n",
       "      <td>-0.001555</td>\n",
       "    </tr>\n",
       "  </tbody>\n",
       "</table>\n",
       "</div>"
      ],
      "text/plain": [
       "           tick   spread      sema      lema  ema_diff\n",
       "49999  1.215430  0.00002  1.214897  1.216453 -0.001556\n",
       "50000  1.215485  0.00003  1.214897  1.216453 -0.001555\n",
       "50001  1.215660  0.00004  1.214897  1.216453 -0.001555\n",
       "50002  1.215770  0.00004  1.214898  1.216452 -0.001555\n",
       "50003  1.215600  0.00002  1.214898  1.216452 -0.001555"
      ]
     },
     "execution_count": 5,
     "metadata": {},
     "output_type": "execute_result"
    }
   ],
   "source": [
    "df['tick'] = (df['Bid'] + df['Ask'])/2\n",
    "df['spread'] = df['Ask'] - df['Bid']\n",
    "df = df[['tick', 'spread']]\n",
    "\n",
    "# Emas ----------------\n",
    "df['sema'] = df['tick'].rolling(window=data['sma_len']).progress_apply(roll_sma)\n",
    "df['lema'] = df['tick'].rolling(window=data['lma_len']).progress_apply(roll_lma)\n",
    "\n",
    "df = df.dropna()\n",
    "\n",
    "df['ema_diff'] = df['sema'] - df['lema']\n",
    "\n",
    "df.head()"
   ]
  },
  {
   "cell_type": "markdown",
   "metadata": {},
   "source": [
    "## Write data to csv"
   ]
  },
  {
   "cell_type": "code",
   "execution_count": 6,
   "metadata": {},
   "outputs": [
    {
     "name": "stdout",
     "output_type": "stream",
     "text": [
      "Wall time: 1.6 s\n"
     ]
    }
   ],
   "source": [
    "target_file_path = f'data/eurusd/sema_lema_diff1.csv'\n",
    "df.to_csv(target_file_path, index = False)\n",
    "winsound.PlaySound('C:\\\\Windows\\\\Media\\\\tada.wav', winsound.SND_ASYNC)"
   ]
  },
  {
   "cell_type": "code",
   "execution_count": 7,
   "metadata": {
    "scrolled": false
   },
   "outputs": [
    {
     "data": {
      "text/plain": [
       "count    212500.000000\n",
       "mean          0.000230\n",
       "std           0.007251\n",
       "min          -0.015954\n",
       "25%          -0.004605\n",
       "50%           0.000099\n",
       "75%           0.005363\n",
       "max           0.013248\n",
       "Name: ema_diff, dtype: float64"
      ]
     },
     "execution_count": 7,
     "metadata": {},
     "output_type": "execute_result"
    }
   ],
   "source": [
    "df['ema_diff'].describe()"
   ]
  },
  {
   "cell_type": "markdown",
   "metadata": {},
   "source": [
    "df = pd.read_csv('data/eurusd/ema_diff/sema_lema_diff.csv')\n",
    "df.head()\n",
    "\n",
    "df = df[['ema_diff']]\n",
    "df['ema_diff'] = abs(df['ema_diff'])\n",
    "df.head()"
   ]
  },
  {
   "cell_type": "markdown",
   "metadata": {},
   "source": [
    "fig = px.histogram(df, x=\"ema_diff\")\n",
    "fig.show()"
   ]
  },
  {
   "cell_type": "markdown",
   "metadata": {},
   "source": [
    "fig = px.line(df, y=[\"tick\", 'sema', 'lema'])\n",
    "fig.show()"
   ]
  }
 ],
 "metadata": {
  "kernelspec": {
   "display_name": "Python 3.6.6 64-bit",
   "language": "python",
   "name": "python36664bitab910dfda0bc43a8bf7df0c20d1c59f2"
  },
  "language_info": {
   "codemirror_mode": {
    "name": "ipython",
    "version": 3
   },
   "file_extension": ".py",
   "mimetype": "text/x-python",
   "name": "python",
   "nbconvert_exporter": "python",
   "pygments_lexer": "ipython3",
   "version": "3.6.6"
  }
 },
 "nbformat": 4,
 "nbformat_minor": 4
}
