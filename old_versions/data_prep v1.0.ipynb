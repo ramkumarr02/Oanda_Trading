{
 "cells": [
  {
   "cell_type": "code",
   "execution_count": 43,
   "metadata": {
    "scrolled": true
   },
   "outputs": [],
   "source": [
    "import numpy as np\n",
    "import pandas as pd\n",
    "from tqdm import tqdm"
   ]
  },
  {
   "cell_type": "code",
   "execution_count": 44,
   "metadata": {},
   "outputs": [
    {
     "data": {
      "text/html": [
       "<div>\n",
       "<style scoped>\n",
       "    .dataframe tbody tr th:only-of-type {\n",
       "        vertical-align: middle;\n",
       "    }\n",
       "\n",
       "    .dataframe tbody tr th {\n",
       "        vertical-align: top;\n",
       "    }\n",
       "\n",
       "    .dataframe thead th {\n",
       "        text-align: right;\n",
       "    }\n",
       "</style>\n",
       "<table border=\"1\" class=\"dataframe\">\n",
       "  <thead>\n",
       "    <tr style=\"text-align: right;\">\n",
       "      <th></th>\n",
       "      <th>TS</th>\n",
       "      <th>Close</th>\n",
       "    </tr>\n",
       "  </thead>\n",
       "  <tbody>\n",
       "    <tr>\n",
       "      <th>0</th>\n",
       "      <td>2019-01-01 17:02</td>\n",
       "      <td>1.14598</td>\n",
       "    </tr>\n",
       "    <tr>\n",
       "      <th>1</th>\n",
       "      <td>2019-01-01 17:03</td>\n",
       "      <td>1.14607</td>\n",
       "    </tr>\n",
       "    <tr>\n",
       "      <th>2</th>\n",
       "      <td>2019-01-01 17:04</td>\n",
       "      <td>1.14606</td>\n",
       "    </tr>\n",
       "    <tr>\n",
       "      <th>3</th>\n",
       "      <td>2019-01-01 17:05</td>\n",
       "      <td>1.14621</td>\n",
       "    </tr>\n",
       "    <tr>\n",
       "      <th>4</th>\n",
       "      <td>2019-01-01 17:06</td>\n",
       "      <td>1.14665</td>\n",
       "    </tr>\n",
       "  </tbody>\n",
       "</table>\n",
       "</div>"
      ],
      "text/plain": [
       "                 TS    Close\n",
       "0  2019-01-01 17:02  1.14598\n",
       "1  2019-01-01 17:03  1.14607\n",
       "2  2019-01-01 17:04  1.14606\n",
       "3  2019-01-01 17:05  1.14621\n",
       "4  2019-01-01 17:06  1.14665"
      ]
     },
     "execution_count": 44,
     "metadata": {},
     "output_type": "execute_result"
    }
   ],
   "source": [
    "raw_df = pd.read_csv('data\\M1_2019.csv')\n",
    "df = raw_df[['TS', 'Close']]\n",
    "df = df[:10]\n",
    "df.head()"
   ]
  },
  {
   "cell_type": "code",
   "execution_count": 45,
   "metadata": {},
   "outputs": [],
   "source": [
    "def new_df(roll_len):\n",
    "    col_list = ['TS']\n",
    "\n",
    "    for i in tqdm(range(roll_len)):\n",
    "        col_list.append(i)\n",
    "\n",
    "    df1 = pd.DataFrame()\n",
    "    df1 = pd.DataFrame(columns = col_list)\n",
    "    #df1['TS'] = ''\n",
    "    return(df1, col_list)"
   ]
  },
  {
   "cell_type": "code",
   "execution_count": 46,
   "metadata": {},
   "outputs": [],
   "source": [
    "def new_df(roll_len):\n",
    "    col_list = []\n",
    "\n",
    "    for i in tqdm(range(roll_len)):\n",
    "        col_list.append(i)\n",
    "    \n",
    "    col_list.append('TS')\n",
    "    return(col_list)"
   ]
  },
  {
   "cell_type": "code",
   "execution_count": 47,
   "metadata": {},
   "outputs": [],
   "source": [
    "def reorder_df(df, df1, roll_len):\n",
    "    tot_list = []\n",
    "    for i, val in tqdm(df.iterrows()):\n",
    "        act_row = i+roll_len-1\n",
    "        l = list(df['Close'][i:act_row+1])    \n",
    "        if len(l) == roll_len:\n",
    "            tot_list.append(l)\n",
    "            l.append(df['TS'][act_row])\n",
    "    df1=pd.DataFrame(tot_list,columns=col_list)\n",
    "    return(df1)"
   ]
  },
  {
   "cell_type": "code",
   "execution_count": 48,
   "metadata": {},
   "outputs": [],
   "source": [
    "roll_len = 3"
   ]
  },
  {
   "cell_type": "code",
   "execution_count": 49,
   "metadata": {},
   "outputs": [
    {
     "name": "stderr",
     "output_type": "stream",
     "text": [
      "100%|████████████████████████████████████████████████████████████████████████████████████████████| 3/3 [00:00<?, ?it/s]\n"
     ]
    }
   ],
   "source": [
    "col_list = new_df(roll_len)"
   ]
  },
  {
   "cell_type": "code",
   "execution_count": 50,
   "metadata": {},
   "outputs": [
    {
     "data": {
      "text/plain": [
       "[0, 1, 2, 'TS']"
      ]
     },
     "execution_count": 50,
     "metadata": {},
     "output_type": "execute_result"
    }
   ],
   "source": [
    "col_list"
   ]
  },
  {
   "cell_type": "code",
   "execution_count": 56,
   "metadata": {
    "scrolled": true
   },
   "outputs": [
    {
     "name": "stderr",
     "output_type": "stream",
     "text": [
      "10it [00:00, 5014.11it/s]\n"
     ]
    }
   ],
   "source": [
    "df1 = rolled_df\n",
    "tot_list = []\n",
    "for i, val in tqdm(df.iterrows()):\n",
    "    act_row = i+roll_len-1\n",
    "    l = list(df['Close'][i:act_row+1])    \n",
    "    if len(l) == roll_len:\n",
    "        tot_list.append(l)\n",
    "        l.append(df['TS'][act_row])\n",
    "df1=pd.DataFrame(tot_list,columns=col_list)"
   ]
  },
  {
   "cell_type": "code",
   "execution_count": 21,
   "metadata": {},
   "outputs": [
    {
     "name": "stderr",
     "output_type": "stream",
     "text": [
      "10it [00:00, 1670.84it/s]"
     ]
    },
    {
     "name": "stdout",
     "output_type": "stream",
     "text": [
      "[1.14598, 1.14607, 1.14606]\n",
      "[1.14607, 1.14606, 1.14621]\n",
      "[1.14606, 1.14621, 1.14665]\n",
      "[1.14621, 1.14665, 1.14607]\n",
      "[1.14665, 1.14607, 1.14607]\n",
      "[1.14607, 1.14607, 1.14606]\n",
      "[1.14607, 1.14606, 1.14607]\n",
      "[1.14606, 1.14607, 1.14607]\n",
      "[1.14607, 1.14607]\n",
      "[1.14607]\n"
     ]
    },
    {
     "name": "stderr",
     "output_type": "stream",
     "text": [
      "\n"
     ]
    }
   ],
   "source": [
    "df1 = rolled_df\n",
    "for i, val in tqdm(df.iterrows()):\n",
    "    act_row = i+roll_len-1\n",
    "    l = list(df['Close'][i:act_row+1])\n",
    "    print(l)\n",
    "    if len(l) == roll_len:\n",
    "        for j, val in enumerate(l):    \n",
    "            df1.at[i, j] = val\n",
    "            #print(df1)\n",
    "        df1.at[i, 'TS'] = df['TS'][act_row]"
   ]
  },
  {
   "cell_type": "code",
   "execution_count": 34,
   "metadata": {},
   "outputs": [],
   "source": [
    "col_list = [0,1,2]"
   ]
  },
  {
   "cell_type": "code",
   "execution_count": 36,
   "metadata": {},
   "outputs": [
    {
     "data": {
      "text/html": [
       "<div>\n",
       "<style scoped>\n",
       "    .dataframe tbody tr th:only-of-type {\n",
       "        vertical-align: middle;\n",
       "    }\n",
       "\n",
       "    .dataframe tbody tr th {\n",
       "        vertical-align: top;\n",
       "    }\n",
       "\n",
       "    .dataframe thead th {\n",
       "        text-align: right;\n",
       "    }\n",
       "</style>\n",
       "<table border=\"1\" class=\"dataframe\">\n",
       "  <thead>\n",
       "    <tr style=\"text-align: right;\">\n",
       "      <th></th>\n",
       "      <th>0</th>\n",
       "      <th>1</th>\n",
       "      <th>2</th>\n",
       "    </tr>\n",
       "  </thead>\n",
       "  <tbody>\n",
       "    <tr>\n",
       "      <th>0</th>\n",
       "      <td>1.14598</td>\n",
       "      <td>1.14607</td>\n",
       "      <td>1.14606</td>\n",
       "    </tr>\n",
       "    <tr>\n",
       "      <th>1</th>\n",
       "      <td>1.14607</td>\n",
       "      <td>1.14606</td>\n",
       "      <td>1.14621</td>\n",
       "    </tr>\n",
       "    <tr>\n",
       "      <th>2</th>\n",
       "      <td>1.14606</td>\n",
       "      <td>1.14621</td>\n",
       "      <td>1.14665</td>\n",
       "    </tr>\n",
       "    <tr>\n",
       "      <th>3</th>\n",
       "      <td>1.14621</td>\n",
       "      <td>1.14665</td>\n",
       "      <td>1.14607</td>\n",
       "    </tr>\n",
       "    <tr>\n",
       "      <th>4</th>\n",
       "      <td>1.14665</td>\n",
       "      <td>1.14607</td>\n",
       "      <td>1.14607</td>\n",
       "    </tr>\n",
       "    <tr>\n",
       "      <th>5</th>\n",
       "      <td>1.14607</td>\n",
       "      <td>1.14607</td>\n",
       "      <td>1.14606</td>\n",
       "    </tr>\n",
       "    <tr>\n",
       "      <th>6</th>\n",
       "      <td>1.14607</td>\n",
       "      <td>1.14606</td>\n",
       "      <td>1.14607</td>\n",
       "    </tr>\n",
       "    <tr>\n",
       "      <th>7</th>\n",
       "      <td>1.14606</td>\n",
       "      <td>1.14607</td>\n",
       "      <td>1.14607</td>\n",
       "    </tr>\n",
       "  </tbody>\n",
       "</table>\n",
       "</div>"
      ],
      "text/plain": [
       "         0        1        2\n",
       "0  1.14598  1.14607  1.14606\n",
       "1  1.14607  1.14606  1.14621\n",
       "2  1.14606  1.14621  1.14665\n",
       "3  1.14621  1.14665  1.14607\n",
       "4  1.14665  1.14607  1.14607\n",
       "5  1.14607  1.14607  1.14606\n",
       "6  1.14607  1.14606  1.14607\n",
       "7  1.14606  1.14607  1.14607"
      ]
     },
     "execution_count": 36,
     "metadata": {},
     "output_type": "execute_result"
    }
   ],
   "source": [
    "df1"
   ]
  },
  {
   "cell_type": "code",
   "execution_count": null,
   "metadata": {
    "scrolled": true
   },
   "outputs": [],
   "source": [
    "rolled_df = reorder_df(df, rolled_df, roll_len)"
   ]
  },
  {
   "cell_type": "code",
   "execution_count": null,
   "metadata": {},
   "outputs": [],
   "source": [
    "rolled_df.to_csv('rolled_df.csv')"
   ]
  },
  {
   "cell_type": "code",
   "execution_count": 55,
   "metadata": {},
   "outputs": [
    {
     "data": {
      "text/html": [
       "<div>\n",
       "<style scoped>\n",
       "    .dataframe tbody tr th:only-of-type {\n",
       "        vertical-align: middle;\n",
       "    }\n",
       "\n",
       "    .dataframe tbody tr th {\n",
       "        vertical-align: top;\n",
       "    }\n",
       "\n",
       "    .dataframe thead th {\n",
       "        text-align: right;\n",
       "    }\n",
       "</style>\n",
       "<table border=\"1\" class=\"dataframe\">\n",
       "  <thead>\n",
       "    <tr style=\"text-align: right;\">\n",
       "      <th></th>\n",
       "      <th>TS</th>\n",
       "      <th>Close</th>\n",
       "    </tr>\n",
       "  </thead>\n",
       "  <tbody>\n",
       "    <tr>\n",
       "      <th>0</th>\n",
       "      <td>2019-01-01 17:02</td>\n",
       "      <td>1.14598</td>\n",
       "    </tr>\n",
       "    <tr>\n",
       "      <th>1</th>\n",
       "      <td>2019-01-01 17:03</td>\n",
       "      <td>1.14607</td>\n",
       "    </tr>\n",
       "    <tr>\n",
       "      <th>2</th>\n",
       "      <td>2019-01-01 17:04</td>\n",
       "      <td>1.14606</td>\n",
       "    </tr>\n",
       "    <tr>\n",
       "      <th>3</th>\n",
       "      <td>2019-01-01 17:05</td>\n",
       "      <td>1.14621</td>\n",
       "    </tr>\n",
       "    <tr>\n",
       "      <th>4</th>\n",
       "      <td>2019-01-01 17:06</td>\n",
       "      <td>1.14665</td>\n",
       "    </tr>\n",
       "    <tr>\n",
       "      <th>5</th>\n",
       "      <td>2019-01-01 17:07</td>\n",
       "      <td>1.14607</td>\n",
       "    </tr>\n",
       "    <tr>\n",
       "      <th>6</th>\n",
       "      <td>2019-01-01 17:08</td>\n",
       "      <td>1.14607</td>\n",
       "    </tr>\n",
       "    <tr>\n",
       "      <th>7</th>\n",
       "      <td>2019-01-01 17:09</td>\n",
       "      <td>1.14606</td>\n",
       "    </tr>\n",
       "    <tr>\n",
       "      <th>8</th>\n",
       "      <td>2019-01-01 17:10</td>\n",
       "      <td>1.14607</td>\n",
       "    </tr>\n",
       "    <tr>\n",
       "      <th>9</th>\n",
       "      <td>2019-01-01 17:11</td>\n",
       "      <td>1.14607</td>\n",
       "    </tr>\n",
       "  </tbody>\n",
       "</table>\n",
       "</div>"
      ],
      "text/plain": [
       "                 TS    Close\n",
       "0  2019-01-01 17:02  1.14598\n",
       "1  2019-01-01 17:03  1.14607\n",
       "2  2019-01-01 17:04  1.14606\n",
       "3  2019-01-01 17:05  1.14621\n",
       "4  2019-01-01 17:06  1.14665\n",
       "5  2019-01-01 17:07  1.14607\n",
       "6  2019-01-01 17:08  1.14607\n",
       "7  2019-01-01 17:09  1.14606\n",
       "8  2019-01-01 17:10  1.14607\n",
       "9  2019-01-01 17:11  1.14607"
      ]
     },
     "execution_count": 55,
     "metadata": {},
     "output_type": "execute_result"
    }
   ],
   "source": [
    "df"
   ]
  }
 ],
 "metadata": {
  "kernelspec": {
   "display_name": "Python 3.6.6 64-bit",
   "language": "python",
   "name": "python36664bitab910dfda0bc43a8bf7df0c20d1c59f2"
  },
  "language_info": {
   "codemirror_mode": {
    "name": "ipython",
    "version": 3
   },
   "file_extension": ".py",
   "mimetype": "text/x-python",
   "name": "python",
   "nbconvert_exporter": "python",
   "pygments_lexer": "ipython3",
   "version": "3.6.6"
  }
 },
 "nbformat": 4,
 "nbformat_minor": 4
}
