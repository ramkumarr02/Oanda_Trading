{
 "cells": [
  {
   "cell_type": "markdown",
   "metadata": {},
   "source": [
    "# ML Trader"
   ]
  },
  {
   "cell_type": "markdown",
   "metadata": {},
   "source": [
    "## Setup"
   ]
  },
  {
   "cell_type": "markdown",
   "metadata": {},
   "source": [
    "### Packages"
   ]
  },
  {
   "cell_type": "code",
   "execution_count": 1,
   "metadata": {},
   "outputs": [],
   "source": [
    "from utils.packages import *"
   ]
  },
  {
   "cell_type": "code",
   "execution_count": 2,
   "metadata": {},
   "outputs": [],
   "source": [
    "warnings.filterwarnings('ignore')"
   ]
  },
  {
   "cell_type": "markdown",
   "metadata": {},
   "source": [
    "### Inputs and Parameters"
   ]
  },
  {
   "cell_type": "markdown",
   "metadata": {},
   "source": [
    "#### Read Yaml files"
   ]
  },
  {
   "cell_type": "code",
   "execution_count": 3,
   "metadata": {},
   "outputs": [],
   "source": [
    "temp_file = 'config/access_keys.yaml'\n",
    "with open(temp_file) as temp_file:\n",
    "    config = yaml.load(temp_file)     \n",
    "    \n",
    "model_new = joblib.load('data/model/model_xg.pkl')  \n",
    "scaler_obj = joblib.load('data/model/scaler_obj.pkl')\n",
    "y_map = joblib.load('data/model/y_map.pkl') "
   ]
  },
  {
   "cell_type": "markdown",
   "metadata": {},
   "source": [
    "## Functions"
   ]
  },
  {
   "cell_type": "markdown",
   "metadata": {},
   "source": [
    "### Time and Price"
   ]
  },
  {
   "cell_type": "markdown",
   "metadata": {},
   "source": [
    "### Loops"
   ]
  },
  {
   "cell_type": "markdown",
   "metadata": {},
   "source": [
    "#### RSI"
   ]
  },
  {
   "cell_type": "markdown",
   "metadata": {},
   "source": [
    "#### MA"
   ]
  },
  {
   "cell_type": "markdown",
   "metadata": {},
   "source": [
    "### Slope"
   ]
  },
  {
   "cell_type": "code",
   "execution_count": null,
   "metadata": {},
   "outputs": [],
   "source": []
  },
  {
   "cell_type": "markdown",
   "metadata": {},
   "source": [
    "### Class Mapping"
   ]
  },
  {
   "cell_type": "code",
   "execution_count": null,
   "metadata": {},
   "outputs": [],
   "source": []
  },
  {
   "cell_type": "markdown",
   "metadata": {},
   "source": [
    "### Orders"
   ]
  },
  {
   "cell_type": "markdown",
   "metadata": {},
   "source": [
    "#### check_for_open_orders"
   ]
  },
  {
   "cell_type": "code",
   "execution_count": null,
   "metadata": {},
   "outputs": [],
   "source": []
  },
  {
   "cell_type": "markdown",
   "metadata": {},
   "source": [
    "#### make_order"
   ]
  },
  {
   "cell_type": "code",
   "execution_count": null,
   "metadata": {},
   "outputs": [],
   "source": []
  },
  {
   "cell_type": "markdown",
   "metadata": {},
   "source": [
    "#### close_order"
   ]
  },
  {
   "cell_type": "code",
   "execution_count": null,
   "metadata": {},
   "outputs": [],
   "source": []
  },
  {
   "cell_type": "markdown",
   "metadata": {},
   "source": [
    "#### take_profit"
   ]
  },
  {
   "cell_type": "code",
   "execution_count": null,
   "metadata": {},
   "outputs": [],
   "source": []
  },
  {
   "cell_type": "markdown",
   "metadata": {},
   "source": [
    "#### timed_stop_loss"
   ]
  },
  {
   "cell_type": "code",
   "execution_count": null,
   "metadata": {},
   "outputs": [],
   "source": []
  },
  {
   "cell_type": "markdown",
   "metadata": {},
   "source": [
    "### Core Engine"
   ]
  },
  {
   "cell_type": "code",
   "execution_count": null,
   "metadata": {
    "scrolled": true
   },
   "outputs": [],
   "source": []
  },
  {
   "cell_type": "markdown",
   "metadata": {},
   "source": [
    "### Report"
   ]
  },
  {
   "cell_type": "code",
   "execution_count": null,
   "metadata": {},
   "outputs": [],
   "source": []
  },
  {
   "cell_type": "markdown",
   "metadata": {},
   "source": [
    "### Reset Data"
   ]
  },
  {
   "cell_type": "code",
   "execution_count": null,
   "metadata": {},
   "outputs": [],
   "source": []
  },
  {
   "cell_type": "markdown",
   "metadata": {},
   "source": [
    "## Fixed Variables"
   ]
  },
  {
   "cell_type": "code",
   "execution_count": 4,
   "metadata": {},
   "outputs": [],
   "source": [
    "live_df_full = pd.DataFrame()\n",
    "\n",
    "data = {}\n",
    "data['instrument'] = \"EUR_USD\"\n",
    "data['pip_size'] = 0.0001\n",
    "data['iter'] = 0\n",
    "data[\"tick_gap\"] = 0\n",
    "\n",
    "data['alarm_flag'] = True\n",
    "data['error_count'] = 0\n",
    "\n",
    "data['rsi_ready'] = False\n",
    "data['lma_ready'] = False\n",
    "\n",
    "data['list_tick_avg'] = collections.deque([])\n",
    "data['list_spread'] = collections.deque([])\n",
    "\n",
    "data['list_tick'] = collections.deque([])\n",
    "data['list_up'] = collections.deque([])\n",
    "data['list_down'] = collections.deque([])\n",
    "data['list_AvgGain'] = collections.deque([])\n",
    "data['list_Avgloss'] = collections.deque([])\n",
    "data['list_RS'] = collections.deque([])\n",
    "data['list_RSI'] = collections.deque([])\n",
    "\n",
    "data['ssma_list'] = collections.deque([])\n",
    "data['lsma_list'] = collections.deque([])\n",
    "\n",
    "data['ssma_ready'] = collections.deque([])\n",
    "data['sema_ready'] = collections.deque([])\n",
    "\n",
    "data['lsma_ready'] = collections.deque([])\n",
    "data['lema_ready'] = collections.deque([])\n",
    "\n",
    "data['num_predictions'] = 0\n",
    "data['num_orders'] = 0\n",
    "data['num_took_profit'] = 0\n",
    "data['num_timed_stop_loss'] = 0\n",
    "\n",
    "data['access_token'] = config['oanda_demo_hedge']['token']\n",
    "data['accountID'] = config['oanda_demo_hedge']['account_id']\n",
    "data['params'] = {'instruments': data['instrument']}\n",
    "\n",
    "data['api'] = API(access_token = data['access_token'])\n",
    "request_stream_data = pricing.PricingStream(accountID=data['accountID'], params=data['params'])\n",
    "response_stream = data['api'].request(request_stream_data)"
   ]
  },
  {
   "cell_type": "markdown",
   "metadata": {},
   "source": [
    "## Never Ending loop"
   ]
  },
  {
   "cell_type": "markdown",
   "metadata": {
    "scrolled": false
   },
   "source": [
    "%time check_for_open_orders()\n",
    "%time check_for_open_orders()\n",
    "%time check_for_open_orders()\n",
    "\n",
    "run_flg = True \n",
    "data = reset_data(data)\n",
    "data['start_ts'] = datetime.now().strftime(\"%Y-%b-%d, %I:%M:%S (%p)\")\n",
    "data[\"start_ts_internal\"] = time.time()\n",
    "\n",
    "while run_flg ==  True:\n",
    "    try:        \n",
    "        data, live_df_full = run_engine(data, live_df_full)\n",
    "    except:\n",
    "        winsound.PlaySound('C:\\\\Windows\\\\Media\\\\notify.wav', winsound.SND_ASYNC)\n",
    "        data['error_count'] = data['error_count'] + 1"
   ]
  },
  {
   "cell_type": "markdown",
   "metadata": {},
   "source": [
    "## Single loop for testing"
   ]
  },
  {
   "cell_type": "code",
   "execution_count": 5,
   "metadata": {
    "scrolled": true
   },
   "outputs": [
    {
     "ename": "NameError",
     "evalue": "name 'check_for_open_orders' is not defined",
     "output_type": "error",
     "traceback": [
      "\u001b[1;31m---------------------------------------------------------------------------\u001b[0m",
      "\u001b[1;31mNameError\u001b[0m                                 Traceback (most recent call last)",
      "\u001b[1;32m<ipython-input-5-f6119df99c22>\u001b[0m in \u001b[0;36m<module>\u001b[1;34m\u001b[0m\n\u001b[1;32m----> 1\u001b[1;33m \u001b[0mdata\u001b[0m \u001b[1;33m=\u001b[0m \u001b[0mcheck_for_open_orders\u001b[0m\u001b[1;33m(\u001b[0m\u001b[0mdata\u001b[0m\u001b[1;33m)\u001b[0m\u001b[1;33m\u001b[0m\u001b[0m\n\u001b[0m\u001b[0;32m      2\u001b[0m \u001b[0mdata\u001b[0m \u001b[1;33m=\u001b[0m \u001b[0mcheck_for_open_orders\u001b[0m\u001b[1;33m(\u001b[0m\u001b[0mdata\u001b[0m\u001b[1;33m)\u001b[0m\u001b[1;33m\u001b[0m\u001b[0m\n\u001b[0;32m      3\u001b[0m \u001b[0mdata\u001b[0m \u001b[1;33m=\u001b[0m \u001b[0mcheck_for_open_orders\u001b[0m\u001b[1;33m(\u001b[0m\u001b[0mdata\u001b[0m\u001b[1;33m)\u001b[0m\u001b[1;33m\u001b[0m\u001b[0m\n\u001b[0;32m      4\u001b[0m \u001b[1;33m\u001b[0m\u001b[0m\n\u001b[0;32m      5\u001b[0m \u001b[0mrun_flg\u001b[0m \u001b[1;33m=\u001b[0m \u001b[1;32mTrue\u001b[0m\u001b[1;33m\u001b[0m\u001b[0m\n",
      "\u001b[1;31mNameError\u001b[0m: name 'check_for_open_orders' is not defined"
     ]
    }
   ],
   "source": [
    "data = check_for_open_orders(data)\n",
    "data = check_for_open_orders(data)\n",
    "data = check_for_open_orders(data)\n",
    "\n",
    "run_flg = True \n",
    "data = reset_data(data)\n",
    "data['start_ts'] = datetime.now().strftime(\"%Y-%b-%d, %I:%M:%S (%p)\")\n",
    "data[\"start_ts_internal\"] = time.time()\n",
    "\n",
    "data, live_df_full = run_engine(data, live_df_full)"
   ]
  }
 ],
 "metadata": {
  "kernelspec": {
   "display_name": "Python 3.6.6 64-bit",
   "language": "python",
   "name": "python36664bitab910dfda0bc43a8bf7df0c20d1c59f2"
  },
  "language_info": {
   "codemirror_mode": {
    "name": "ipython",
    "version": 3
   },
   "file_extension": ".py",
   "mimetype": "text/x-python",
   "name": "python",
   "nbconvert_exporter": "python",
   "pygments_lexer": "ipython3",
   "version": "3.6.6"
  }
 },
 "nbformat": 4,
 "nbformat_minor": 4
}
