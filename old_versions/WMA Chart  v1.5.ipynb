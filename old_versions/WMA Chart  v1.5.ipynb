{
 "cells": [
  {
   "cell_type": "markdown",
   "metadata": {},
   "source": [
    "# WMA Charting Notebook"
   ]
  },
  {
   "cell_type": "markdown",
   "metadata": {},
   "source": [
    "#### Packages and Tools"
   ]
  },
  {
   "cell_type": "code",
   "execution_count": 1,
   "metadata": {},
   "outputs": [],
   "source": [
    "from utils.packages import *\n",
    "from utils.tools import *\n",
    "%matplotlib inline"
   ]
  },
  {
   "cell_type": "markdown",
   "metadata": {},
   "source": [
    "#### Read from config file"
   ]
  },
  {
   "cell_type": "code",
   "execution_count": 2,
   "metadata": {
    "scrolled": true
   },
   "outputs": [],
   "source": [
    "temp_file = 'config/access_keys.yaml'\n",
    "with open(temp_file) as temp_file:\n",
    "    config = yaml.load(temp_file)\n",
    "    \n",
    "temp_file = 'config/wma.yaml'\n",
    "with open(temp_file) as temp_file:\n",
    "    wma = yaml.load(temp_file)    "
   ]
  },
  {
   "cell_type": "code",
   "execution_count": 3,
   "metadata": {},
   "outputs": [],
   "source": [
    "instrument = wma['parameter']['instrument']\n",
    "short_moving_window = wma['parameter']['short_moving_window']\n",
    "long_moving_window = wma['parameter']['long_moving_window']\n",
    "lists_size = wma['parameter']['lists_size']\n",
    "\n",
    "access_token = config['oanda_demo_account']['token']\n",
    "accountID = config['oanda_demo_account']['account_id']"
   ]
  },
  {
   "cell_type": "markdown",
   "metadata": {},
   "source": [
    "#### Code Engine"
   ]
  },
  {
   "cell_type": "code",
   "execution_count": null,
   "metadata": {
    "scrolled": true
   },
   "outputs": [],
   "source": [
    "api = API(access_token = access_token)\n",
    "params = {'instruments': instrument}\n",
    "order_flag = 'not_ordered'\n",
    "r = pricing.PricingStream(accountID=accountID, params=params)\n",
    "rv = api.request(r)\n",
    "\n",
    "short_wma = 0\n",
    "short_flag = True\n",
    "short_list = collections.deque([])\n",
    "short_wma_list = collections.deque([])\n",
    "short_weights = get_weights(short_moving_window)\n",
    "\n",
    "long_wma = 0\n",
    "long_flag = True\n",
    "long_list = collections.deque([])\n",
    "long_wma_list = collections.deque([])\n",
    "long_weights = get_weights(long_moving_window)\n",
    "\n",
    "tick_list = collections.deque([])\n",
    "\n",
    "start_time = time.time()\n",
    "time_flag = True \n",
    "long_list_counter = 0\n",
    "\n",
    "list_ready = False\n",
    "\n",
    "for i, resp in enumerate(rv):        \n",
    "    resp_type = resp['type']       \n",
    "\n",
    "    # Heart beat response to keep the api connection alive (Avoid timeout)\n",
    "    if resp_type == 'HEARTBEAT': \n",
    "        print('1')\n",
    "        pass\n",
    "    #-----------------------------------------------------------------------------------------------------\n",
    "    \n",
    "    \n",
    "    # Price response \n",
    "    elif resp_type == 'PRICE' and order_flag == 'not_ordered': # Check if we are yet to make the order               \n",
    "        \n",
    "        #Decode values from response\n",
    "        date_val, time_val, time_fraction = get_date_time(resp) # Get time stamp for reference            \n",
    "        sell_price, buy_price, spread, tick_price = get_prices(resp) # Get prices from the response \n",
    "        print('2')\n",
    "        #-----------------------------------------------------------------------------------------\n",
    "        \n",
    "        #Prepare short list to calculate WMA of shortwindows\n",
    "        if len(short_list) < short_moving_window:\n",
    "            short_list.append(tick_price)\n",
    "            print('3')\n",
    "\n",
    "        # Calculate wma for first iteration\n",
    "        if short_flag and len(short_list) == short_moving_window:\n",
    "            short_wma = sum(np.array(short_list)*short_weights)\n",
    "            short_flag =  False\n",
    "            print('4')\n",
    "\n",
    "        # Calculate wma from the second iteration\n",
    "        if short_flag == False and len(short_list) == short_moving_window:\n",
    "            short_list.popleft()   \n",
    "            short_list.append(tick_price) \n",
    "            short_wma = sum(np.array(short_list)*short_weights)\n",
    "            print('5')\n",
    "\n",
    "        # Append WMA list\n",
    "        if len(short_list) == short_moving_window:\n",
    "            print('6')\n",
    "            if len(short_wma_list) < lists_size:\n",
    "                short_wma_list.append(short_wma)\n",
    "                print('7')\n",
    "\n",
    "            elif len(short_wma_list) == lists_size:\n",
    "                short_wma_list.popleft()   \n",
    "                short_wma_list.append(short_wma) \n",
    "                print('8')\n",
    "                \n",
    "        #print(f'short_wma_list : {len(short_wma_list)}')\n",
    "        #-----------------------------------------------------------------------------------------\n",
    "        \n",
    "        \n",
    "        #Prepare long list to calculate WMA of longwindows\n",
    "        if len(long_list) < long_moving_window:\n",
    "            long_list.append(tick_price)\n",
    "            print('9')\n",
    "            \n",
    "         # Calculate wma for first iteration\n",
    "        if long_flag and len(long_list) == long_moving_window:\n",
    "            long_wma = sum(np.array(long_list)*long_weights)\n",
    "            long_flag =  False\n",
    "            print('10')\n",
    "\n",
    "        # Calculate wma from the second iteration\n",
    "        if long_flag == False and len(long_list) == long_moving_window:\n",
    "            long_list.popleft()   \n",
    "            long_list.append(tick_price) \n",
    "            long_wma = sum(np.array(long_list)*long_weights)\n",
    "            print('11')\n",
    "\n",
    "        # Append WMA list\n",
    "        if len(long_list) == long_moving_window:\n",
    "            print('12')\n",
    "            if len(long_wma_list) < lists_size:\n",
    "                long_wma_list.append(long_wma)\n",
    "                tick_list.append(tick_price)\n",
    "                print('13')\n",
    "\n",
    "            # If WMA list reached required size start plotting\n",
    "            elif len(long_wma_list) == lists_size:\n",
    "                print('14')\n",
    "                if time_flag:\n",
    "                    end_time = time.time()    \n",
    "                    duration = calc_duration(start_time, end_time)\n",
    "                    time_flag = False\n",
    "                    print('15')\n",
    "                plt.close()\n",
    "                print('16')\n",
    "                long_wma_list.popleft()   \n",
    "                long_wma_list.append(long_wma)  \n",
    "                \n",
    "                tick_list.popleft()   \n",
    "                tick_list.append(tick_price)\n",
    "                \n",
    "                plt.figure(figsize=(20,5))\n",
    "                plt.plot(short_wma_list, 'r' ,label=\"short wma\")\n",
    "                plt.plot(long_wma_list,'b' ,label=\"long wma\")\n",
    "                plt.plot(tick_list, 'y' ,label=\"tick\")\n",
    "                plt.legend(loc=\"upper left\")\n",
    "                display.display(plt.gcf())\n",
    "                display.clear_output(wait = True)                \n",
    "                print('17')"
   ]
  },
  {
   "cell_type": "code",
   "execution_count": null,
   "metadata": {},
   "outputs": [],
   "source": []
  }
 ],
 "metadata": {
  "kernelspec": {
   "display_name": "Python 3",
   "language": "python",
   "name": "python3"
  },
  "language_info": {
   "codemirror_mode": {
    "name": "ipython",
    "version": 3
   },
   "file_extension": ".py",
   "mimetype": "text/x-python",
   "name": "python",
   "nbconvert_exporter": "python",
   "pygments_lexer": "ipython3",
   "version": "3.6.6"
  }
 },
 "nbformat": 4,
 "nbformat_minor": 4
}
