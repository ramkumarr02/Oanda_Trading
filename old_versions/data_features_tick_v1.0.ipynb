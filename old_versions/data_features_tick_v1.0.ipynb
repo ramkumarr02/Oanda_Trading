{
 "cells": [
  {
   "cell_type": "markdown",
   "metadata": {},
   "source": [
    "# Data Preparation"
   ]
  },
  {
   "cell_type": "markdown",
   "metadata": {},
   "source": [
    "## Packages"
   ]
  },
  {
   "cell_type": "code",
   "execution_count": 2,
   "metadata": {
    "scrolled": true
   },
   "outputs": [],
   "source": [
    "import os\n",
    "import winsound\n",
    "import numpy as np\n",
    "import pandas as pd\n",
    "import datetime as dt\n",
    "from tqdm import tqdm\n",
    "\n",
    "import math, collections\n",
    "from scipy.stats import linregress\n",
    "\n",
    "import warnings\n",
    "warnings.filterwarnings('ignore')"
   ]
  },
  {
   "cell_type": "code",
   "execution_count": null,
   "metadata": {},
   "outputs": [],
   "source": [
    "def get_slope_s(y_axis):\n",
    "    global window_s_ma\n",
    "    x_axis = []\n",
    "    for i in range(window_s_ma):\n",
    "        x_axis.append(1 + ((i+1) * 0.0001 * 0.1))\n",
    "    \n",
    "    slope_tick, intercept, _, _, _ = linregress(x_axis, y_axis)\n",
    "    slope_tick = math.degrees(math.atan(slope_tick))\n",
    "    \n",
    "    return(slope_tick)\n",
    "\n",
    "def get_slope_l(y_axis):\n",
    "    global window_l_ma\n",
    "    x_axis = []\n",
    "    for i in range(window_l_ma):\n",
    "        x_axis.append(1 + ((i+1) * 0.0001 * 0.1))\n",
    "    \n",
    "    slope_tick, intercept, _, _, _ = linregress(x_axis, y_axis)\n",
    "    slope_tick = math.degrees(math.atan(slope_tick))\n",
    "    \n",
    "    return(slope_tick)\n",
    "\n",
    "\n",
    "def get_month(row):\n",
    "    month_val = dt.datetime.strptime(row['TS'], '%Y-%m-%d %H:%M').date().month\n",
    "    return(month_val)\n",
    "\n",
    "def get_day(row):\n",
    "    day_val = dt.datetime.strptime(row['TS'], '%Y-%m-%d %H:%M').date().day\n",
    "    return(day_val)   \n",
    "\n",
    "def get_hour(row):\n",
    "    hour_val = dt.datetime.strptime(row['TS'], '%Y-%m-%d %H:%M').time().hour\n",
    "    return(hour_val)   \n",
    "\n",
    "def get_min(row):\n",
    "    min_val = dt.datetime.strptime(row['TS'], '%Y-%m-%d %H:%M').time().minute\n",
    "    return(min_val)   \n",
    "\n",
    "\n",
    "def get_dow(row):\n",
    "    dow = dt.datetime.strptime(df['TS'][0], '%Y-%m-%d %H:%M').weekday()\n",
    "    return(dow)"
   ]
  },
  {
   "cell_type": "markdown",
   "metadata": {},
   "source": [
    "## Parameters"
   ]
  },
  {
   "cell_type": "code",
   "execution_count": null,
   "metadata": {},
   "outputs": [],
   "source": [
    "#pd.DataFrame(np.random.rand(14,4), columns=['a', 'b', 'c', 'd'])\n",
    "\n",
    "year = 2019\n",
    "\n",
    "source_file_path = f'data\\M1_{year}.csv'\n",
    "\n",
    "min_bar = 10\n",
    "\n",
    "pip_diff = 0.0003\n",
    "diff_col = 'Close'\n",
    "\n",
    "rsi_window = 10\n",
    "rs_max = 1e6\n",
    "\n",
    "window_s_ma = 10\n",
    "window_l_ma = 50"
   ]
  },
  {
   "cell_type": "markdown",
   "metadata": {},
   "source": [
    "## Read data"
   ]
  },
  {
   "cell_type": "code",
   "execution_count": null,
   "metadata": {},
   "outputs": [],
   "source": [
    "path, file_name = os.path.split(source_file_path)\n",
    "\n",
    "target_file_name = 'tab_'+file_name\n",
    "target_file_path = os.path.join(path, target_file_name)\n",
    "\n",
    "raw_df = pd.read_csv(source_file_path)\n",
    "\n",
    "#raw_df['Close'] = (raw_df['High'] - raw_df['Low'])/2\n",
    "#raw_df['tick'] = raw_df['Close']\n",
    "#df = raw_df[['TS', 'Open', 'High', 'Low', 'Close']]\n",
    "\n",
    "df = raw_df[['Open', 'High', 'Low', 'Close']]\n",
    "print(f'{len(df)} records in df')\n",
    "df.head()"
   ]
  },
  {
   "cell_type": "markdown",
   "metadata": {},
   "source": [
    "## Data manipulation"
   ]
  },
  {
   "cell_type": "code",
   "execution_count": null,
   "metadata": {
    "scrolled": true
   },
   "outputs": [],
   "source": [
    "%%time\n",
    "df = df.iloc[::min_bar]\n",
    "print(f'{len(df)} records under {min_bar} min_bar')\n",
    "\n",
    "#df['month'] = df.apply(get_month, axis=1)\n",
    "##df['day'] = df.apply(get_day, axis=1)\n",
    "#df['dow'] = df.apply(get_dow, axis=1)\n",
    "#df['hour'] = df.apply(get_hour, axis=1)\n",
    "#df['min'] = df.apply(get_min, axis=1)\n",
    "\n",
    "df['diff'] = df['Close'].diff()\n",
    "\n",
    "df['gain'] = 0\n",
    "df['loss'] = 0\n",
    "df['gain'].loc[df['diff'] > 0] = abs(df['diff'])\n",
    "df['loss'].loc[df['diff'] < 0] = abs(df['diff'])\n",
    "\n",
    "df['avg_gain'] = df['gain'].rolling(window=rsi_window).mean()\n",
    "df['avg_loss'] = df['loss'].rolling(window=rsi_window).mean()\n",
    "\n",
    "df['rs'] = df['avg_gain']/df['avg_loss']\n",
    "df['rs'] = df['rs'].where(df['rs'] <= rs_max, rs_max) \n",
    "\n",
    "df['rsi'] = 100 - (100 / (df['rs'] + 1))\n",
    "\n",
    "df['ssma'] = df['Close'].rolling(window=window_s_ma).mean()\n",
    "df['lsma'] = df['Close'].rolling(window=window_l_ma).mean()\n",
    "df['sma_diff'] = df['ssma'] - df['lsma']\n",
    "\n",
    "df['sema'] = df['Close'].ewm(span=window_s_ma).mean()\n",
    "df['lema'] = df['Close'].ewm(span=window_l_ma).mean()\n",
    "\n",
    "df['ema_diff'] = df['sema'] - df['lema']\n",
    "\n",
    "#df['slope_s'] = df['Close'].rolling(window=window_s_ma).apply(get_slope_s)\n",
    "#df['slope_l'] = df['Close'].rolling(window=window_l_ma).apply(get_slope_l)\n",
    "\n",
    "#df['sma_slope'] = df['ssma'].rolling(window=rsi_window).apply(get_slope)\n",
    "\n",
    "df['target'] = 'same'\n",
    "\n",
    "df['target'].loc[df[diff_col].shift(-1) - df[diff_col] > pip_diff] = 'increase'\n",
    "df['target'].loc[df[diff_col].shift(-1) - df[diff_col] < -pip_diff] = 'decrease'\n",
    "\n",
    "df = df.dropna()\n",
    "df = df.reset_index(drop=True)"
   ]
  },
  {
   "cell_type": "markdown",
   "metadata": {},
   "source": [
    "## Write data to csv"
   ]
  },
  {
   "cell_type": "code",
   "execution_count": null,
   "metadata": {},
   "outputs": [],
   "source": [
    "#del df['TS']\n",
    "df.to_csv(target_file_path, index = False)\n",
    "winsound.PlaySound('C:\\\\Windows\\\\Media\\\\tada.wav', winsound.SND_ASYNC)"
   ]
  },
  {
   "cell_type": "markdown",
   "metadata": {},
   "source": [
    "## Print Report"
   ]
  },
  {
   "cell_type": "code",
   "execution_count": null,
   "metadata": {
    "scrolled": false
   },
   "outputs": [],
   "source": [
    "target_col = 'target'\n",
    "\n",
    "print(f'Record count : {len(df)}')\n",
    "print('--------------------------')\n",
    "print(df[target_col].value_counts())\n",
    "print('--------------------------')\n",
    "print(df[target_col].value_counts(normalize=True))\n",
    "\n",
    "df.head(10)"
   ]
  },
  {
   "cell_type": "code",
   "execution_count": null,
   "metadata": {},
   "outputs": [],
   "source": [
    "df['High']"
   ]
  },
  {
   "cell_type": "code",
   "execution_count": null,
   "metadata": {
    "scrolled": true
   },
   "outputs": [],
   "source": [
    "df['High'].shift(1) - df['Close']"
   ]
  },
  {
   "cell_type": "code",
   "execution_count": null,
   "metadata": {},
   "outputs": [],
   "source": [
    "1.14943 - "
   ]
  },
  {
   "cell_type": "code",
   "execution_count": 120,
   "metadata": {},
   "outputs": [],
   "source": [
    "#df = pd.read_csv('data/tick_2019_small.csv')\n",
    "df = pd.read_csv('data/tick_2019.csv')"
   ]
  },
  {
   "cell_type": "code",
   "execution_count": 121,
   "metadata": {},
   "outputs": [],
   "source": [
    "df['tick'] = (df['Bid'] + df['Ask'])/2\n",
    "df = df[['tick']]"
   ]
  },
  {
   "cell_type": "code",
   "execution_count": 122,
   "metadata": {},
   "outputs": [],
   "source": [
    "#df = df[0:50]"
   ]
  },
  {
   "cell_type": "code",
   "execution_count": 123,
   "metadata": {
    "scrolled": true
   },
   "outputs": [
    {
     "name": "stderr",
     "output_type": "stream",
     "text": [
      "100%|████████████████████████████████████████████████████████████████████████| 486439/486439 [01:05<00:00, 7478.51it/s]\n"
     ]
    }
   ],
   "source": [
    "def chunk_ticks(number_of_ticks):    \n",
    "\n",
    "    temp_df = pd.DataFrame()\n",
    "    open_list = []\n",
    "    high_list = []\n",
    "    low_list = []\n",
    "    close_list = []\n",
    "    high_diff_list = []\n",
    "    low_diff_list = []\n",
    "    dir_list = []\n",
    "    min_pip = 0.0001\n",
    "\n",
    "    for i in tqdm(range(0,len(df),number_of_ticks)):\n",
    "        chunk_list = list(df['tick'][i:i+number_of_ticks])\n",
    "\n",
    "        open_val = chunk_list[0]\n",
    "        high_val = np.max(chunk_list)\n",
    "        low_val = np.min(chunk_list)\n",
    "        close_val = chunk_list[-1]\n",
    "        high_diff = high_val - open_val\n",
    "        low_diff = open_val - low_val\n",
    "\n",
    "        if high_diff > low_diff and high_diff >= min_pip:\n",
    "            direction = 'increase'\n",
    "        elif low_diff > high_diff and low_diff >= min_pip:\n",
    "            direction = 'decrease'\n",
    "        else:\n",
    "            direction = 'same'\n",
    "\n",
    "\n",
    "        open_list.append(chunk_list[0]) \n",
    "        high_list.append(np.max(chunk_list))\n",
    "        low_list.append(np.min(chunk_list))\n",
    "        close_list.append(chunk_list[-1]) \n",
    "        high_diff_list.append(high_diff) \n",
    "        low_diff_list.append(low_diff)\n",
    "        dir_list.append(direction)\n",
    "\n",
    "\n",
    "\n",
    "    temp_df['open'] = open_list\n",
    "    temp_df['high'] = high_list\n",
    "    temp_df['low'] = low_list    \n",
    "    temp_df['close'] = close_list    \n",
    "    temp_df['high_diff'] = high_diff_list    \n",
    "    temp_df['low_diff'] = low_diff_list    \n",
    "    temp_df['direction'] = dir_list    \n",
    "    \n",
    "    return(temp_df)"
   ]
  },
  {
   "cell_type": "code",
   "execution_count": 124,
   "metadata": {},
   "outputs": [
    {
     "name": "stdout",
     "output_type": "stream",
     "text": [
      "29186310\n",
      "486439\n"
     ]
    },
    {
     "data": {
      "text/html": [
       "<div>\n",
       "<style scoped>\n",
       "    .dataframe tbody tr th:only-of-type {\n",
       "        vertical-align: middle;\n",
       "    }\n",
       "\n",
       "    .dataframe tbody tr th {\n",
       "        vertical-align: top;\n",
       "    }\n",
       "\n",
       "    .dataframe thead th {\n",
       "        text-align: right;\n",
       "    }\n",
       "</style>\n",
       "<table border=\"1\" class=\"dataframe\">\n",
       "  <thead>\n",
       "    <tr style=\"text-align: right;\">\n",
       "      <th></th>\n",
       "      <th>open</th>\n",
       "      <th>high</th>\n",
       "      <th>low</th>\n",
       "      <th>close</th>\n",
       "      <th>high_diff</th>\n",
       "      <th>low_diff</th>\n",
       "      <th>direction</th>\n",
       "    </tr>\n",
       "  </thead>\n",
       "  <tbody>\n",
       "    <tr>\n",
       "      <th>0</th>\n",
       "      <td>1.14640</td>\n",
       "      <td>1.146700</td>\n",
       "      <td>1.146220</td>\n",
       "      <td>1.146700</td>\n",
       "      <td>0.000300</td>\n",
       "      <td>0.000180</td>\n",
       "      <td>increase</td>\n",
       "    </tr>\n",
       "    <tr>\n",
       "      <th>1</th>\n",
       "      <td>1.14670</td>\n",
       "      <td>1.146740</td>\n",
       "      <td>1.146630</td>\n",
       "      <td>1.146685</td>\n",
       "      <td>0.000040</td>\n",
       "      <td>0.000070</td>\n",
       "      <td>same</td>\n",
       "    </tr>\n",
       "    <tr>\n",
       "      <th>2</th>\n",
       "      <td>1.14669</td>\n",
       "      <td>1.146770</td>\n",
       "      <td>1.146400</td>\n",
       "      <td>1.146435</td>\n",
       "      <td>0.000080</td>\n",
       "      <td>0.000290</td>\n",
       "      <td>decrease</td>\n",
       "    </tr>\n",
       "    <tr>\n",
       "      <th>3</th>\n",
       "      <td>1.14644</td>\n",
       "      <td>1.146440</td>\n",
       "      <td>1.146215</td>\n",
       "      <td>1.146220</td>\n",
       "      <td>0.000000</td>\n",
       "      <td>0.000225</td>\n",
       "      <td>decrease</td>\n",
       "    </tr>\n",
       "    <tr>\n",
       "      <th>4</th>\n",
       "      <td>1.14623</td>\n",
       "      <td>1.146415</td>\n",
       "      <td>1.146220</td>\n",
       "      <td>1.146260</td>\n",
       "      <td>0.000185</td>\n",
       "      <td>0.000010</td>\n",
       "      <td>increase</td>\n",
       "    </tr>\n",
       "  </tbody>\n",
       "</table>\n",
       "</div>"
      ],
      "text/plain": [
       "      open      high       low     close  high_diff  low_diff direction\n",
       "0  1.14640  1.146700  1.146220  1.146700   0.000300  0.000180  increase\n",
       "1  1.14670  1.146740  1.146630  1.146685   0.000040  0.000070      same\n",
       "2  1.14669  1.146770  1.146400  1.146435   0.000080  0.000290  decrease\n",
       "3  1.14644  1.146440  1.146215  1.146220   0.000000  0.000225  decrease\n",
       "4  1.14623  1.146415  1.146220  1.146260   0.000185  0.000010  increase"
      ]
     },
     "execution_count": 124,
     "metadata": {},
     "output_type": "execute_result"
    }
   ],
   "source": [
    "print(len(df))\n",
    "print(len(temp_df))\n",
    "temp_df.head()"
   ]
  }
 ],
 "metadata": {
  "kernelspec": {
   "display_name": "Python 3.6.6 64-bit",
   "language": "python",
   "name": "python36664bitab910dfda0bc43a8bf7df0c20d1c59f2"
  },
  "language_info": {
   "codemirror_mode": {
    "name": "ipython",
    "version": 3
   },
   "file_extension": ".py",
   "mimetype": "text/x-python",
   "name": "python",
   "nbconvert_exporter": "python",
   "pygments_lexer": "ipython3",
   "version": "3.6.6"
  }
 },
 "nbformat": 4,
 "nbformat_minor": 4
}
