{
 "cells": [
  {
   "cell_type": "markdown",
   "metadata": {},
   "source": [
    "# Oanda Demo Trading Notebook"
   ]
  },
  {
   "cell_type": "markdown",
   "metadata": {},
   "source": [
    "## Packages & Tools"
   ]
  },
  {
   "cell_type": "code",
   "execution_count": 1,
   "metadata": {},
   "outputs": [],
   "source": [
    "from utils.packages import *\n",
    "from utils.tools import *"
   ]
  },
  {
   "cell_type": "markdown",
   "metadata": {},
   "source": [
    "## Tools"
   ]
  },
  {
   "cell_type": "code",
   "execution_count": 2,
   "metadata": {},
   "outputs": [],
   "source": [
    "def make_order(accountID, stop_price, instrument, units, order_type):\n",
    "    stopLossOnFill = StopLossDetails(price=stop_price)\n",
    "    \n",
    "    if order_type == 'long':\n",
    "        units = units * 1\n",
    "    elif order_type == 'short':\n",
    "        units = units * (-1)\n",
    "\n",
    "    ordr = MarketOrderRequest(\n",
    "        instrument = instrument,\n",
    "        units=units,\n",
    "        stopLossOnFill=stopLossOnFill.data)\n",
    "\n",
    "    r = orders.OrderCreate(accountID, data=ordr.data)\n",
    "    rv = api.request(r)\n",
    "    return(rv)"
   ]
  },
  {
   "cell_type": "code",
   "execution_count": 3,
   "metadata": {},
   "outputs": [],
   "source": [
    "def close_order(accountID, order_type, instrument):\n",
    "    data_long = {\"longUnits\": \"ALL\"}\n",
    "    data_short = {\"shortUnits\": \"ALL\"}\n",
    "    \n",
    "    if order_type == 'long':\n",
    "        data = data_long\n",
    "    elif order_type == 'short':\n",
    "        data = data_short\n",
    "        \n",
    "    r = positions.PositionClose(accountID=accountID,\n",
    "                                instrument=instrument,\n",
    "                                data=data)\n",
    "    rv = api.request(r)\n",
    "    return(rv)"
   ]
  },
  {
   "cell_type": "markdown",
   "metadata": {},
   "source": [
    "## API Setup"
   ]
  },
  {
   "cell_type": "markdown",
   "metadata": {},
   "source": [
    "Read from config file"
   ]
  },
  {
   "cell_type": "code",
   "execution_count": 4,
   "metadata": {
    "scrolled": true
   },
   "outputs": [],
   "source": [
    "temp_file = 'config/access_keys.yaml'\n",
    "with open(temp_file) as temp_file:\n",
    "    config = yaml.load(temp_file)\n",
    "    \n",
    "temp_file = 'config/currencies.yaml'\n",
    "with open(temp_file) as temp_file:\n",
    "    currencies = yaml.load(temp_file)\n",
    "\n",
    "temp_file = 'config/stepped_loss.yaml'\n",
    "with open(temp_file) as temp_file:\n",
    "    loss_limits = yaml.load(temp_file)\n",
    "    \n",
    "temp_file = 'config/wma.yaml'\n",
    "with open(temp_file) as temp_file:\n",
    "    wma = yaml.load(temp_file)    "
   ]
  },
  {
   "cell_type": "code",
   "execution_count": 5,
   "metadata": {},
   "outputs": [],
   "source": [
    "instrument = wma['parameter']['instrument']\n",
    "short_moving_window = wma['parameter']['short_moving_window']\n",
    "long_moving_window = wma['parameter']['long_moving_window']\n",
    "lists_size = wma['parameter']['lists_size']\n",
    "\n",
    "access_token = config['oanda_demo_account']['token']\n",
    "accountID = config['oanda_demo_account']['account_id']\n",
    "api = API(access_token = access_token)"
   ]
  },
  {
   "cell_type": "markdown",
   "metadata": {},
   "source": [
    "## Code Engine"
   ]
  },
  {
   "cell_type": "code",
   "execution_count": 6,
   "metadata": {},
   "outputs": [
    {
     "data": {
      "text/plain": [
       "'instrument=\"EUR_USD\"\\nshort_moving_window = 2\\nlong_moving_window = 4\\nlists_size = 10'"
      ]
     },
     "execution_count": 6,
     "metadata": {},
     "output_type": "execute_result"
    }
   ],
   "source": [
    "'''instrument=\"EUR_USD\"\n",
    "short_moving_window = 2\n",
    "long_moving_window = 4\n",
    "lists_size = 10'''"
   ]
  },
  {
   "cell_type": "code",
   "execution_count": 7,
   "metadata": {},
   "outputs": [],
   "source": [
    "loss_limit_num = 25\n",
    "\n",
    "pip = 0.0001\n",
    "loss_limit = loss_limit_num * pip"
   ]
  },
  {
   "cell_type": "code",
   "execution_count": 8,
   "metadata": {
    "scrolled": false
   },
   "outputs": [
    {
     "name": "stderr",
     "output_type": "stream",
     "text": [
      "255it [04:46,  3.01it/s]"
     ]
    },
    {
     "name": "stdout",
     "output_type": "stream",
     "text": [
      "initial_position : negative\n"
     ]
    },
    {
     "name": "stderr",
     "output_type": "stream",
     "text": [
      "343it [05:32,  1.52it/s]"
     ]
    },
    {
     "name": "stdout",
     "output_type": "stream",
     "text": [
      "initial_position:negative\n",
      "current_position:positive\n",
      "Going long\n"
     ]
    },
    {
     "name": "stderr",
     "output_type": "stream",
     "text": [
      "\r",
      "344it [05:32,  1.46it/s]"
     ]
    },
    {
     "name": "stdout",
     "output_type": "stream",
     "text": [
      "ordered\n"
     ]
    },
    {
     "name": "stderr",
     "output_type": "stream",
     "text": [
      "366it [05:48,  1.51it/s]"
     ]
    },
    {
     "name": "stdout",
     "output_type": "stream",
     "text": [
      "initial_position:positive\n",
      "current_position:negative\n",
      "Closing long positions if any\n",
      "Going short\n"
     ]
    },
    {
     "name": "stderr",
     "output_type": "stream",
     "text": [
      "\r",
      "367it [05:49,  1.31it/s]"
     ]
    },
    {
     "name": "stdout",
     "output_type": "stream",
     "text": [
      "ordered\n"
     ]
    },
    {
     "name": "stderr",
     "output_type": "stream",
     "text": [
      "467it [06:50,  1.77it/s]"
     ]
    },
    {
     "name": "stdout",
     "output_type": "stream",
     "text": [
      "initial_position:negative\n",
      "current_position:positive\n",
      "Closing short positions if any\n",
      "Going long\n"
     ]
    },
    {
     "name": "stderr",
     "output_type": "stream",
     "text": [
      "\r",
      "468it [06:51,  1.61it/s]"
     ]
    },
    {
     "name": "stdout",
     "output_type": "stream",
     "text": [
      "ordered\n"
     ]
    },
    {
     "name": "stderr",
     "output_type": "stream",
     "text": [
      "505it [07:21,  1.60s/it]"
     ]
    },
    {
     "name": "stdout",
     "output_type": "stream",
     "text": [
      "initial_position:positive\n",
      "current_position:negative\n",
      "Closing long positions if any\n",
      "Going short\n"
     ]
    },
    {
     "name": "stderr",
     "output_type": "stream",
     "text": [
      "508it [07:23,  1.14s/it]"
     ]
    },
    {
     "name": "stdout",
     "output_type": "stream",
     "text": [
      "ordered\n"
     ]
    },
    {
     "name": "stderr",
     "output_type": "stream",
     "text": [
      "524it [07:37,  1.15it/s]\n"
     ]
    },
    {
     "ename": "KeyboardInterrupt",
     "evalue": "",
     "output_type": "error",
     "traceback": [
      "\u001b[1;31m-----------------------------------------------\u001b[0m",
      "\u001b[1;31mKeyboardInterrupt\u001b[0mTraceback (most recent call last)",
      "\u001b[1;32m<ipython-input-8-88439de18a3b>\u001b[0m in \u001b[0;36m<module>\u001b[1;34m\u001b[0m\n\u001b[0;32m     46\u001b[0m \u001b[0minitial_position_captured\u001b[0m \u001b[1;33m=\u001b[0m \u001b[1;32mFalse\u001b[0m\u001b[1;33m\u001b[0m\u001b[0m\n\u001b[0;32m     47\u001b[0m \u001b[1;33m\u001b[0m\u001b[0m\n\u001b[1;32m---> 48\u001b[1;33m \u001b[1;32mfor\u001b[0m \u001b[0mi\u001b[0m\u001b[1;33m,\u001b[0m \u001b[0mresp\u001b[0m \u001b[1;32min\u001b[0m \u001b[0mtqdm\u001b[0m\u001b[1;33m(\u001b[0m\u001b[0menumerate\u001b[0m\u001b[1;33m(\u001b[0m\u001b[0mrv\u001b[0m\u001b[1;33m)\u001b[0m\u001b[1;33m)\u001b[0m\u001b[1;33m:\u001b[0m\u001b[1;33m\u001b[0m\u001b[0m\n\u001b[0m\u001b[0;32m     49\u001b[0m     \u001b[0mresp_type\u001b[0m \u001b[1;33m=\u001b[0m \u001b[0mresp\u001b[0m\u001b[1;33m[\u001b[0m\u001b[1;34m'type'\u001b[0m\u001b[1;33m]\u001b[0m\u001b[1;33m\u001b[0m\u001b[0m\n\u001b[0;32m     50\u001b[0m \u001b[1;33m\u001b[0m\u001b[0m\n",
      "\u001b[1;32md:\\ram\\pcal\\data science\\projects\\trading\\oanda_trading\\tradenv\\lib\\site-packages\\tqdm\\std.py\u001b[0m in \u001b[0;36m__iter__\u001b[1;34m(self)\u001b[0m\n\u001b[0;32m   1127\u001b[0m \u001b[1;33m\u001b[0m\u001b[0m\n\u001b[0;32m   1128\u001b[0m         \u001b[1;32mtry\u001b[0m\u001b[1;33m:\u001b[0m\u001b[1;33m\u001b[0m\u001b[0m\n\u001b[1;32m-> 1129\u001b[1;33m             \u001b[1;32mfor\u001b[0m \u001b[0mobj\u001b[0m \u001b[1;32min\u001b[0m \u001b[0miterable\u001b[0m\u001b[1;33m:\u001b[0m\u001b[1;33m\u001b[0m\u001b[0m\n\u001b[0m\u001b[0;32m   1130\u001b[0m                 \u001b[1;32myield\u001b[0m \u001b[0mobj\u001b[0m\u001b[1;33m\u001b[0m\u001b[0m\n\u001b[0;32m   1131\u001b[0m                 \u001b[1;31m# Update and possibly print the progressbar.\u001b[0m\u001b[1;33m\u001b[0m\u001b[1;33m\u001b[0m\u001b[0m\n",
      "\u001b[1;32md:\\ram\\pcal\\data science\\projects\\trading\\oanda_trading\\tradenv\\lib\\site-packages\\oandapyV20\\oandapyV20.py\u001b[0m in \u001b[0;36m__stream_request\u001b[1;34m(self, method, url, request_args, headers)\u001b[0m\n\u001b[0;32m    255\u001b[0m                                   headers=headers, stream=True)\n\u001b[0;32m    256\u001b[0m         \u001b[0mlines\u001b[0m \u001b[1;33m=\u001b[0m \u001b[0mresponse\u001b[0m\u001b[1;33m.\u001b[0m\u001b[0miter_lines\u001b[0m\u001b[1;33m(\u001b[0m\u001b[0mITER_LINES_CHUNKSIZE\u001b[0m\u001b[1;33m)\u001b[0m\u001b[1;33m\u001b[0m\u001b[0m\n\u001b[1;32m--> 257\u001b[1;33m         \u001b[1;32mfor\u001b[0m \u001b[0mline\u001b[0m \u001b[1;32min\u001b[0m \u001b[0mlines\u001b[0m\u001b[1;33m:\u001b[0m\u001b[1;33m\u001b[0m\u001b[0m\n\u001b[0m\u001b[0;32m    258\u001b[0m             \u001b[1;32mif\u001b[0m \u001b[0mline\u001b[0m\u001b[1;33m:\u001b[0m\u001b[1;33m\u001b[0m\u001b[0m\n\u001b[0;32m    259\u001b[0m                 \u001b[0mdata\u001b[0m \u001b[1;33m=\u001b[0m \u001b[0mjson\u001b[0m\u001b[1;33m.\u001b[0m\u001b[0mloads\u001b[0m\u001b[1;33m(\u001b[0m\u001b[0mline\u001b[0m\u001b[1;33m.\u001b[0m\u001b[0mdecode\u001b[0m\u001b[1;33m(\u001b[0m\u001b[1;34m\"utf-8\"\u001b[0m\u001b[1;33m)\u001b[0m\u001b[1;33m)\u001b[0m\u001b[1;33m\u001b[0m\u001b[0m\n",
      "\u001b[1;32md:\\ram\\pcal\\data science\\projects\\trading\\oanda_trading\\tradenv\\lib\\site-packages\\requests\\models.py\u001b[0m in \u001b[0;36miter_lines\u001b[1;34m(self, chunk_size, decode_unicode, delimiter)\u001b[0m\n\u001b[0;32m    793\u001b[0m         \u001b[0mpending\u001b[0m \u001b[1;33m=\u001b[0m \u001b[1;32mNone\u001b[0m\u001b[1;33m\u001b[0m\u001b[0m\n\u001b[0;32m    794\u001b[0m \u001b[1;33m\u001b[0m\u001b[0m\n\u001b[1;32m--> 795\u001b[1;33m         \u001b[1;32mfor\u001b[0m \u001b[0mchunk\u001b[0m \u001b[1;32min\u001b[0m \u001b[0mself\u001b[0m\u001b[1;33m.\u001b[0m\u001b[0miter_content\u001b[0m\u001b[1;33m(\u001b[0m\u001b[0mchunk_size\u001b[0m\u001b[1;33m=\u001b[0m\u001b[0mchunk_size\u001b[0m\u001b[1;33m,\u001b[0m \u001b[0mdecode_unicode\u001b[0m\u001b[1;33m=\u001b[0m\u001b[0mdecode_unicode\u001b[0m\u001b[1;33m)\u001b[0m\u001b[1;33m:\u001b[0m\u001b[1;33m\u001b[0m\u001b[0m\n\u001b[0m\u001b[0;32m    796\u001b[0m \u001b[1;33m\u001b[0m\u001b[0m\n\u001b[0;32m    797\u001b[0m             \u001b[1;32mif\u001b[0m \u001b[0mpending\u001b[0m \u001b[1;32mis\u001b[0m \u001b[1;32mnot\u001b[0m \u001b[1;32mNone\u001b[0m\u001b[1;33m:\u001b[0m\u001b[1;33m\u001b[0m\u001b[0m\n",
      "\u001b[1;32md:\\ram\\pcal\\data science\\projects\\trading\\oanda_trading\\tradenv\\lib\\site-packages\\requests\\models.py\u001b[0m in \u001b[0;36mgenerate\u001b[1;34m()\u001b[0m\n\u001b[0;32m    749\u001b[0m             \u001b[1;32mif\u001b[0m \u001b[0mhasattr\u001b[0m\u001b[1;33m(\u001b[0m\u001b[0mself\u001b[0m\u001b[1;33m.\u001b[0m\u001b[0mraw\u001b[0m\u001b[1;33m,\u001b[0m \u001b[1;34m'stream'\u001b[0m\u001b[1;33m)\u001b[0m\u001b[1;33m:\u001b[0m\u001b[1;33m\u001b[0m\u001b[0m\n\u001b[0;32m    750\u001b[0m                 \u001b[1;32mtry\u001b[0m\u001b[1;33m:\u001b[0m\u001b[1;33m\u001b[0m\u001b[0m\n\u001b[1;32m--> 751\u001b[1;33m                     \u001b[1;32mfor\u001b[0m \u001b[0mchunk\u001b[0m \u001b[1;32min\u001b[0m \u001b[0mself\u001b[0m\u001b[1;33m.\u001b[0m\u001b[0mraw\u001b[0m\u001b[1;33m.\u001b[0m\u001b[0mstream\u001b[0m\u001b[1;33m(\u001b[0m\u001b[0mchunk_size\u001b[0m\u001b[1;33m,\u001b[0m \u001b[0mdecode_content\u001b[0m\u001b[1;33m=\u001b[0m\u001b[1;32mTrue\u001b[0m\u001b[1;33m)\u001b[0m\u001b[1;33m:\u001b[0m\u001b[1;33m\u001b[0m\u001b[0m\n\u001b[0m\u001b[0;32m    752\u001b[0m                         \u001b[1;32myield\u001b[0m \u001b[0mchunk\u001b[0m\u001b[1;33m\u001b[0m\u001b[0m\n\u001b[0;32m    753\u001b[0m                 \u001b[1;32mexcept\u001b[0m \u001b[0mProtocolError\u001b[0m \u001b[1;32mas\u001b[0m \u001b[0me\u001b[0m\u001b[1;33m:\u001b[0m\u001b[1;33m\u001b[0m\u001b[0m\n",
      "\u001b[1;32md:\\ram\\pcal\\data science\\projects\\trading\\oanda_trading\\tradenv\\lib\\site-packages\\urllib3\\response.py\u001b[0m in \u001b[0;36mstream\u001b[1;34m(self, amt, decode_content)\u001b[0m\n\u001b[0;32m    570\u001b[0m         \"\"\"\n\u001b[0;32m    571\u001b[0m         \u001b[1;32mif\u001b[0m \u001b[0mself\u001b[0m\u001b[1;33m.\u001b[0m\u001b[0mchunked\u001b[0m \u001b[1;32mand\u001b[0m \u001b[0mself\u001b[0m\u001b[1;33m.\u001b[0m\u001b[0msupports_chunked_reads\u001b[0m\u001b[1;33m(\u001b[0m\u001b[1;33m)\u001b[0m\u001b[1;33m:\u001b[0m\u001b[1;33m\u001b[0m\u001b[0m\n\u001b[1;32m--> 572\u001b[1;33m             \u001b[1;32mfor\u001b[0m \u001b[0mline\u001b[0m \u001b[1;32min\u001b[0m \u001b[0mself\u001b[0m\u001b[1;33m.\u001b[0m\u001b[0mread_chunked\u001b[0m\u001b[1;33m(\u001b[0m\u001b[0mamt\u001b[0m\u001b[1;33m,\u001b[0m \u001b[0mdecode_content\u001b[0m\u001b[1;33m=\u001b[0m\u001b[0mdecode_content\u001b[0m\u001b[1;33m)\u001b[0m\u001b[1;33m:\u001b[0m\u001b[1;33m\u001b[0m\u001b[0m\n\u001b[0m\u001b[0;32m    573\u001b[0m                 \u001b[1;32myield\u001b[0m \u001b[0mline\u001b[0m\u001b[1;33m\u001b[0m\u001b[0m\n\u001b[0;32m    574\u001b[0m         \u001b[1;32melse\u001b[0m\u001b[1;33m:\u001b[0m\u001b[1;33m\u001b[0m\u001b[0m\n",
      "\u001b[1;32md:\\ram\\pcal\\data science\\projects\\trading\\oanda_trading\\tradenv\\lib\\site-packages\\urllib3\\response.py\u001b[0m in \u001b[0;36mread_chunked\u001b[1;34m(self, amt, decode_content)\u001b[0m\n\u001b[0;32m    762\u001b[0m \u001b[1;33m\u001b[0m\u001b[0m\n\u001b[0;32m    763\u001b[0m             \u001b[1;32mwhile\u001b[0m \u001b[1;32mTrue\u001b[0m\u001b[1;33m:\u001b[0m\u001b[1;33m\u001b[0m\u001b[0m\n\u001b[1;32m--> 764\u001b[1;33m                 \u001b[0mself\u001b[0m\u001b[1;33m.\u001b[0m\u001b[0m_update_chunk_length\u001b[0m\u001b[1;33m(\u001b[0m\u001b[1;33m)\u001b[0m\u001b[1;33m\u001b[0m\u001b[0m\n\u001b[0m\u001b[0;32m    765\u001b[0m                 \u001b[1;32mif\u001b[0m \u001b[0mself\u001b[0m\u001b[1;33m.\u001b[0m\u001b[0mchunk_left\u001b[0m \u001b[1;33m==\u001b[0m \u001b[1;36m0\u001b[0m\u001b[1;33m:\u001b[0m\u001b[1;33m\u001b[0m\u001b[0m\n\u001b[0;32m    766\u001b[0m                     \u001b[1;32mbreak\u001b[0m\u001b[1;33m\u001b[0m\u001b[0m\n",
      "\u001b[1;32md:\\ram\\pcal\\data science\\projects\\trading\\oanda_trading\\tradenv\\lib\\site-packages\\urllib3\\response.py\u001b[0m in \u001b[0;36m_update_chunk_length\u001b[1;34m(self)\u001b[0m\n\u001b[0;32m    692\u001b[0m         \u001b[1;32mif\u001b[0m \u001b[0mself\u001b[0m\u001b[1;33m.\u001b[0m\u001b[0mchunk_left\u001b[0m \u001b[1;32mis\u001b[0m \u001b[1;32mnot\u001b[0m \u001b[1;32mNone\u001b[0m\u001b[1;33m:\u001b[0m\u001b[1;33m\u001b[0m\u001b[0m\n\u001b[0;32m    693\u001b[0m             \u001b[1;32mreturn\u001b[0m\u001b[1;33m\u001b[0m\u001b[0m\n\u001b[1;32m--> 694\u001b[1;33m         \u001b[0mline\u001b[0m \u001b[1;33m=\u001b[0m \u001b[0mself\u001b[0m\u001b[1;33m.\u001b[0m\u001b[0m_fp\u001b[0m\u001b[1;33m.\u001b[0m\u001b[0mfp\u001b[0m\u001b[1;33m.\u001b[0m\u001b[0mreadline\u001b[0m\u001b[1;33m(\u001b[0m\u001b[1;33m)\u001b[0m\u001b[1;33m\u001b[0m\u001b[0m\n\u001b[0m\u001b[0;32m    695\u001b[0m         \u001b[0mline\u001b[0m \u001b[1;33m=\u001b[0m \u001b[0mline\u001b[0m\u001b[1;33m.\u001b[0m\u001b[0msplit\u001b[0m\u001b[1;33m(\u001b[0m\u001b[1;34mb\";\"\u001b[0m\u001b[1;33m,\u001b[0m \u001b[1;36m1\u001b[0m\u001b[1;33m)\u001b[0m\u001b[1;33m[\u001b[0m\u001b[1;36m0\u001b[0m\u001b[1;33m]\u001b[0m\u001b[1;33m\u001b[0m\u001b[0m\n\u001b[0;32m    696\u001b[0m         \u001b[1;32mtry\u001b[0m\u001b[1;33m:\u001b[0m\u001b[1;33m\u001b[0m\u001b[0m\n",
      "\u001b[1;32mc:\\users\\91989\\appdata\\local\\programs\\python\\python36\\lib\\socket.py\u001b[0m in \u001b[0;36mreadinto\u001b[1;34m(self, b)\u001b[0m\n\u001b[0;32m    584\u001b[0m         \u001b[1;32mwhile\u001b[0m \u001b[1;32mTrue\u001b[0m\u001b[1;33m:\u001b[0m\u001b[1;33m\u001b[0m\u001b[0m\n\u001b[0;32m    585\u001b[0m             \u001b[1;32mtry\u001b[0m\u001b[1;33m:\u001b[0m\u001b[1;33m\u001b[0m\u001b[0m\n\u001b[1;32m--> 586\u001b[1;33m                 \u001b[1;32mreturn\u001b[0m \u001b[0mself\u001b[0m\u001b[1;33m.\u001b[0m\u001b[0m_sock\u001b[0m\u001b[1;33m.\u001b[0m\u001b[0mrecv_into\u001b[0m\u001b[1;33m(\u001b[0m\u001b[0mb\u001b[0m\u001b[1;33m)\u001b[0m\u001b[1;33m\u001b[0m\u001b[0m\n\u001b[0m\u001b[0;32m    587\u001b[0m             \u001b[1;32mexcept\u001b[0m \u001b[0mtimeout\u001b[0m\u001b[1;33m:\u001b[0m\u001b[1;33m\u001b[0m\u001b[0m\n\u001b[0;32m    588\u001b[0m                 \u001b[0mself\u001b[0m\u001b[1;33m.\u001b[0m\u001b[0m_timeout_occurred\u001b[0m \u001b[1;33m=\u001b[0m \u001b[1;32mTrue\u001b[0m\u001b[1;33m\u001b[0m\u001b[0m\n",
      "\u001b[1;32mc:\\users\\91989\\appdata\\local\\programs\\python\\python36\\lib\\ssl.py\u001b[0m in \u001b[0;36mrecv_into\u001b[1;34m(self, buffer, nbytes, flags)\u001b[0m\n\u001b[0;32m   1007\u001b[0m                   \u001b[1;34m\"non-zero flags not allowed in calls to recv_into() on %s\"\u001b[0m \u001b[1;33m%\u001b[0m\u001b[1;33m\u001b[0m\u001b[0m\n\u001b[0;32m   1008\u001b[0m                   self.__class__)\n\u001b[1;32m-> 1009\u001b[1;33m             \u001b[1;32mreturn\u001b[0m \u001b[0mself\u001b[0m\u001b[1;33m.\u001b[0m\u001b[0mread\u001b[0m\u001b[1;33m(\u001b[0m\u001b[0mnbytes\u001b[0m\u001b[1;33m,\u001b[0m \u001b[0mbuffer\u001b[0m\u001b[1;33m)\u001b[0m\u001b[1;33m\u001b[0m\u001b[0m\n\u001b[0m\u001b[0;32m   1010\u001b[0m         \u001b[1;32melse\u001b[0m\u001b[1;33m:\u001b[0m\u001b[1;33m\u001b[0m\u001b[0m\n\u001b[0;32m   1011\u001b[0m             \u001b[1;32mreturn\u001b[0m \u001b[0msocket\u001b[0m\u001b[1;33m.\u001b[0m\u001b[0mrecv_into\u001b[0m\u001b[1;33m(\u001b[0m\u001b[0mself\u001b[0m\u001b[1;33m,\u001b[0m \u001b[0mbuffer\u001b[0m\u001b[1;33m,\u001b[0m \u001b[0mnbytes\u001b[0m\u001b[1;33m,\u001b[0m \u001b[0mflags\u001b[0m\u001b[1;33m)\u001b[0m\u001b[1;33m\u001b[0m\u001b[0m\n",
      "\u001b[1;32mc:\\users\\91989\\appdata\\local\\programs\\python\\python36\\lib\\ssl.py\u001b[0m in \u001b[0;36mread\u001b[1;34m(self, len, buffer)\u001b[0m\n\u001b[0;32m    869\u001b[0m             \u001b[1;32mraise\u001b[0m \u001b[0mValueError\u001b[0m\u001b[1;33m(\u001b[0m\u001b[1;34m\"Read on closed or unwrapped SSL socket.\"\u001b[0m\u001b[1;33m)\u001b[0m\u001b[1;33m\u001b[0m\u001b[0m\n\u001b[0;32m    870\u001b[0m         \u001b[1;32mtry\u001b[0m\u001b[1;33m:\u001b[0m\u001b[1;33m\u001b[0m\u001b[0m\n\u001b[1;32m--> 871\u001b[1;33m             \u001b[1;32mreturn\u001b[0m \u001b[0mself\u001b[0m\u001b[1;33m.\u001b[0m\u001b[0m_sslobj\u001b[0m\u001b[1;33m.\u001b[0m\u001b[0mread\u001b[0m\u001b[1;33m(\u001b[0m\u001b[0mlen\u001b[0m\u001b[1;33m,\u001b[0m \u001b[0mbuffer\u001b[0m\u001b[1;33m)\u001b[0m\u001b[1;33m\u001b[0m\u001b[0m\n\u001b[0m\u001b[0;32m    872\u001b[0m         \u001b[1;32mexcept\u001b[0m \u001b[0mSSLError\u001b[0m \u001b[1;32mas\u001b[0m \u001b[0mx\u001b[0m\u001b[1;33m:\u001b[0m\u001b[1;33m\u001b[0m\u001b[0m\n\u001b[0;32m    873\u001b[0m             \u001b[1;32mif\u001b[0m \u001b[0mx\u001b[0m\u001b[1;33m.\u001b[0m\u001b[0margs\u001b[0m\u001b[1;33m[\u001b[0m\u001b[1;36m0\u001b[0m\u001b[1;33m]\u001b[0m \u001b[1;33m==\u001b[0m \u001b[0mSSL_ERROR_EOF\u001b[0m \u001b[1;32mand\u001b[0m \u001b[0mself\u001b[0m\u001b[1;33m.\u001b[0m\u001b[0msuppress_ragged_eofs\u001b[0m\u001b[1;33m:\u001b[0m\u001b[1;33m\u001b[0m\u001b[0m\n",
      "\u001b[1;32mc:\\users\\91989\\appdata\\local\\programs\\python\\python36\\lib\\ssl.py\u001b[0m in \u001b[0;36mread\u001b[1;34m(self, len, buffer)\u001b[0m\n\u001b[0;32m    629\u001b[0m         \"\"\"\n\u001b[0;32m    630\u001b[0m         \u001b[1;32mif\u001b[0m \u001b[0mbuffer\u001b[0m \u001b[1;32mis\u001b[0m \u001b[1;32mnot\u001b[0m \u001b[1;32mNone\u001b[0m\u001b[1;33m:\u001b[0m\u001b[1;33m\u001b[0m\u001b[0m\n\u001b[1;32m--> 631\u001b[1;33m             \u001b[0mv\u001b[0m \u001b[1;33m=\u001b[0m \u001b[0mself\u001b[0m\u001b[1;33m.\u001b[0m\u001b[0m_sslobj\u001b[0m\u001b[1;33m.\u001b[0m\u001b[0mread\u001b[0m\u001b[1;33m(\u001b[0m\u001b[0mlen\u001b[0m\u001b[1;33m,\u001b[0m \u001b[0mbuffer\u001b[0m\u001b[1;33m)\u001b[0m\u001b[1;33m\u001b[0m\u001b[0m\n\u001b[0m\u001b[0;32m    632\u001b[0m         \u001b[1;32melse\u001b[0m\u001b[1;33m:\u001b[0m\u001b[1;33m\u001b[0m\u001b[0m\n\u001b[0;32m    633\u001b[0m             \u001b[0mv\u001b[0m \u001b[1;33m=\u001b[0m \u001b[0mself\u001b[0m\u001b[1;33m.\u001b[0m\u001b[0m_sslobj\u001b[0m\u001b[1;33m.\u001b[0m\u001b[0mread\u001b[0m\u001b[1;33m(\u001b[0m\u001b[0mlen\u001b[0m\u001b[1;33m)\u001b[0m\u001b[1;33m\u001b[0m\u001b[0m\n",
      "\u001b[1;31mKeyboardInterrupt\u001b[0m: "
     ]
    }
   ],
   "source": [
    "params = {'instruments': instrument}\n",
    "order_flag = 'not_ordered'\n",
    "r = pricing.PricingStream(accountID=accountID, params=params)\n",
    "rv = api.request(r)\n",
    "\n",
    "short_wma = 0\n",
    "short_flag = True\n",
    "short_list = collections.deque([])\n",
    "short_wma_list = collections.deque([])\n",
    "short_weights = get_weights(short_moving_window)\n",
    "\n",
    "long_wma = 0\n",
    "long_flag = True\n",
    "long_list = collections.deque([])\n",
    "long_wma_list = collections.deque([])\n",
    "long_weights = get_weights(long_moving_window)\n",
    "\n",
    "tick_list = collections.deque([])\n",
    "\n",
    "long_list_counter = 0\n",
    "list_ready = False\n",
    "old_direction =  'none'\n",
    "\n",
    "order_flag = False\n",
    "\n",
    "profit_target = 0.25 # pip target of actual price\n",
    "price_allowed_buffer = 0.15 # percentage of SWMA decrease\n",
    "\n",
    "profit_target = profit_target * pip \n",
    "\n",
    "pl_list = collections.deque([])\n",
    "consecutive_losses = 2\n",
    "negative_run =  False\n",
    "pl_pip = 0\n",
    "\n",
    "max_gap_wma = 0\n",
    "max_gap_wma_threshold = 1\n",
    "max_gap_wma_threshold = max_gap_wma_threshold * pip\n",
    "\n",
    "valid_iteration = False\n",
    "\n",
    "units = 1\n",
    "\n",
    "first_position_changed = False\n",
    "\n",
    "initial_position_captured = False\n",
    "\n",
    "for i, resp in tqdm(enumerate(rv)):        \n",
    "    resp_type = resp['type']       \n",
    "\n",
    "    if resp_type == 'HEARTBEAT': # Heart beat response to keep the api connection alive (Avoid timeout)\n",
    "        pass\n",
    "\n",
    "    #-----------------------------------------------------------------------------------------------------\n",
    "    elif resp_type == 'PRICE': # Check if we are yet to make the order               \n",
    "        date_val, time_val, time_fraction = get_date_time(resp) # Get time stamp for reference            \n",
    "        sell_price, buy_price, spread, tick_price = get_prices(resp) # Get prices from the response  \n",
    "\n",
    "\n",
    "    #-----------------------------------------------------------------------------------------------------\n",
    "        #Short list prep\n",
    "        #-----------------------------------------------------------------------------------------------------\n",
    "        if len(short_list) < short_moving_window:\n",
    "            short_list.append(tick_price)\n",
    "\n",
    "        if short_flag and len(short_list) == short_moving_window:\n",
    "            short_wma = sum(np.array(short_list)*short_weights)\n",
    "            short_flag =False\n",
    "\n",
    "        if short_flag == False and len(short_list) == short_moving_window:\n",
    "            short_list.popleft()   \n",
    "            short_list.append(tick_price) \n",
    "            short_wma = sum(np.array(short_list)*short_weights)\n",
    "\n",
    "\n",
    "\n",
    "        #Long list prep   \n",
    "        #-----------------------------------------------------------------------------------------------------                \n",
    "        if len(long_list) < long_moving_window:\n",
    "            long_list.append(tick_price)\n",
    "\n",
    "        if long_flag and len(long_list) == long_moving_window:\n",
    "            long_wma = sum(np.array(long_list)*long_weights)\n",
    "            long_flag = False\n",
    "\n",
    "        if long_flag == False and len(long_list) == long_moving_window:\n",
    "            long_list.popleft()   \n",
    "            long_list.append(tick_price) \n",
    "            long_wma = sum(np.array(long_list)*long_weights)   \n",
    "            long_list_counter += 1\n",
    "            if long_list_counter >= lists_size:\n",
    "                list_ready = True\n",
    "    #-----------------------------------------------------------------------------------------------------\n",
    "        #Wrong strategy this skips iterations while holding a position\n",
    "        gap_wma = abs(long_wma - short_wma)\n",
    "        max_gap_wma = max(max_gap_wma, gap_wma)\n",
    "        \n",
    "        print(f'long_wma:{long_wma}, short_wma:{short_wma}, gap_wma:{gap_wma}, max_gap_wma:{max_gap_wma}, max_gap_wma_threshold:{max_gap_wma_threshold}')\n",
    "        if max_gap_wma > max_gap_wma_threshold:\n",
    "            valid_iteration = True\n",
    "        \n",
    "        #----------------------------------------------------------------------------------------------------- \n",
    "        if valid_iteration == False and list_ready:\n",
    "            #print(f'Gap: {max_gap_wma}, Threshold: {max_gap_wma_threshold}')\n",
    "            pass\n",
    "            \n",
    "        elif valid_iteration and list_ready:\n",
    "            if list_ready:\n",
    "                if short_wma > long_wma:\n",
    "                    current_position = 'positive'\n",
    "                elif short_wma < long_wma:\n",
    "                    current_position = 'negative'\n",
    "                elif short_wma == long_wma:\n",
    "                    current_position = 'same level'\n",
    "\n",
    "            if list_ready and initial_position_captured == False:\n",
    "                initial_position = current_position\n",
    "                print(f'initial_position : {initial_position}')\n",
    "                initial_position_captured =  True\n",
    "                winsound.PlaySound('C:\\\\Windows\\\\Media\\\\tada.wav', winsound.SND_ASYNC) \n",
    "\n",
    "            if list_ready and initial_position_captured:\n",
    "                if initial_position == current_position:\n",
    "                    pass\n",
    "\n",
    "                elif current_position == 'same level':\n",
    "                    print('Same level, wait for next iteration')\n",
    "\n",
    "                elif initial_position != current_position and current_position != 'same level':\n",
    "                    print(f'initial_position:{initial_position}')\n",
    "                    print(f'current_position:{current_position}')\n",
    "\n",
    "                    #Select order type -------------------------------------------------------------------------\n",
    "                    if current_position == 'positive':\n",
    "                        old_order_type = 'short'\n",
    "                        order_type = 'long'\n",
    "                        stop_price = buy_price - loss_limit                \n",
    "\n",
    "                    elif current_position == 'negative':\n",
    "                        old_order_type = 'long'\n",
    "                        order_type = 'short'\n",
    "                        stop_price = sell_price + loss_limit                \n",
    "\n",
    "                    # Ordering -------------------------------------------------------------------------    \n",
    "\n",
    "                    if order_flag:\n",
    "                        print(f'Closing {old_order_type} positions if any')\n",
    "                        close_order_log = close_order(accountID, old_order_type ,instrument)\n",
    "                        order_flag = False\n",
    "                        max_gap_wma = 0\n",
    "\n",
    "                    print(f'Going {order_type}')\n",
    "                    make_order_log = make_order(accountID, stop_price, instrument, units, order_type)\n",
    "                    print('ordered')\n",
    "                    first_long =  True\n",
    "                    order_flag = True\n",
    "\n",
    "                    initial_position = current_position\n",
    "\n",
    "\n",
    "                if initial_position == current_position and current_position != 'same level' and order_flag:\n",
    "                    if order_type == 'long':     \n",
    "                        ordered_buy_price = float(make_order_log['orderFillTransaction']['fullPrice']['asks'][0]['price'])\n",
    "                        profit = sell_price - ordered_buy_price \n",
    "                        \n",
    "                        if first_long:\n",
    "                            max_price = short_wma\n",
    "                            first_long = False\n",
    "\n",
    "                        max_price = max(short_wma, max_price)\n",
    "                        buffered_max_price = max_price - (max_price * pip * price_allowed_buffer)\n",
    "\n",
    "                        if profit >= profit_target and short_wma <= buffered_max_price:    \n",
    "                            close_order_log = close_order(accountID, order_type ,instrument)                        \n",
    "                            order_flag = False\n",
    "                            max_gap_wma = 0\n",
    "                            close_reason = \"Take_profit\"\n",
    "                            print(close_reason)\n",
    "                            \n",
    "                            \n",
    "                    if order_type == 'short':     \n",
    "                        ordered_sell_price = float(make_order_log['orderFillTransaction']['fullPrice']['bids'][0]['price'])\n",
    "                        profit = ordered_sell_price - buy_price                \n",
    "                        \n",
    "                        if first_long:\n",
    "                            min_price = short_wma\n",
    "                            first_long = False\n",
    "\n",
    "                        min_price = min(short_wma, min_price)\n",
    "                        buffered_min_price = min_price + (min_price * pip * price_allowed_buffer)\n",
    "\n",
    "                        if profit >= profit_target and short_wma <= buffered_min_price:    \n",
    "                            close_order_log = close_order(accountID, order_type ,instrument)                        \n",
    "                            order_flag = False\n",
    "                            max_gap_wma = 0\n",
    "                            close_reason = \"Take_profit\"\n",
    "                            print(close_reason)                    "
   ]
  }
 ],
 "metadata": {
  "kernelspec": {
   "display_name": "Python 3",
   "language": "python",
   "name": "python3"
  },
  "language_info": {
   "codemirror_mode": {
    "name": "ipython",
    "version": 3
   },
   "file_extension": ".py",
   "mimetype": "text/x-python",
   "name": "python",
   "nbconvert_exporter": "python",
   "pygments_lexer": "ipython3",
   "version": "3.6.6"
  }
 },
 "nbformat": 4,
 "nbformat_minor": 4
}
