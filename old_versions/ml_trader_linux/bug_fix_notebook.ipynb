{
 "cells": [
  {
   "cell_type": "code",
   "execution_count": 1,
   "metadata": {},
   "outputs": [],
   "source": [
    "# # ML Trader\n",
    "# ### Packages\n",
    "from utils.packages import *\n",
    "from utils.engine import *\n",
    "\n",
    "from pylab import text\n",
    "from IPython import display\n",
    "\n",
    "from utils.fixed_variables import *\n",
    "warnings.filterwarnings('ignore')"
   ]
  },
  {
   "cell_type": "code",
   "execution_count": 2,
   "metadata": {},
   "outputs": [],
   "source": [
    "#--------------------------------------------------------------------------------------------------------------------------\n",
    "# ### Inputs and Parameters\n",
    "\n",
    "temp_file = 'config/access_keys.yaml'\n",
    "with open(temp_file) as temp_file:\n",
    "    config = yaml.load(temp_file)     \n",
    "    \n",
    "logging.basicConfig(filename='traderrun.log', level=logging.ERROR)\n",
    "\n",
    "data['access_token'] = config['oanda_demo_hedge']['token']\n",
    "data['accountID'] = config['oanda_demo_hedge']['account_id']\n",
    "data['params'] = {'instruments': data['instrument']}\n",
    "\n",
    "data['api'] = API(access_token = data['access_token'])\n",
    "request_stream_data = pricing.PricingStream(accountID=data['accountID'], params=data['params'])\n",
    "response_stream = data['api'].request(request_stream_data)\n",
    "#==========================================================================================================================\n",
    "\n",
    "\n",
    "\n",
    "#--------------------------------------------------------------------------------------------------------------------------\n",
    "# Prep\n",
    "data = check_for_open_orders(data)\n",
    "data = check_for_open_orders(data)\n",
    "data = check_for_open_orders(data)\n",
    "\n",
    "data = reset_data(data)\n",
    "\n",
    "data['start_ts'] = (datetime.now() + timedelta(hours=8, minutes=0)).strftime(\"%Y-%b-%d, %I:%M:%S (%p)\")\n",
    "data[\"start_ts_internal\"] = time.time()\n",
    "\n",
    "#data['start_ts'] = (datetime.now() + timedelta(hours=8, minutes=0)).strftime(\"%Y-%b-%d, %I:%M:%S (%p)\")\n",
    "#=========================================================================================================================="
   ]
  },
  {
   "cell_type": "code",
   "execution_count": 21,
   "metadata": {},
   "outputs": [
    {
     "data": {
      "text/plain": [
       "<module 'utils.report' from 'D:\\\\Ram\\\\PCAL\\\\Data_Science\\\\Projects\\\\Trading\\\\Oanda_Trading\\\\linux\\\\trading\\\\utils\\\\report.py'>"
      ]
     },
     "execution_count": 21,
     "metadata": {},
     "output_type": "execute_result"
    }
   ],
   "source": [
    "import imp\n",
    "import utils\n",
    "imp.reload(utils.slope_map)\n",
    "imp.reload(utils.loops)\n",
    "imp.reload(utils.packages)\n",
    "imp.reload(utils.time_tick)\n",
    "imp.reload(utils.orders)\n",
    "imp.reload(utils.engine)\n",
    "imp.reload(utils.reset)\n",
    "imp.reload(utils.fixed_variables)\n",
    "imp.reload(utils.report)"
   ]
  },
  {
   "cell_type": "code",
   "execution_count": 22,
   "metadata": {
    "scrolled": false
   },
   "outputs": [
    {
     "name": "stdout",
     "output_type": "stream",
     "text": [
      "===============================================================================\n",
      "                      RUN & DATA BUILD\n",
      "start_ts              : 2021-Mar-09, 12:31:55 (AM)\n",
      "elapsed time          : 5:54:16\n",
      "time_diff             : 0.783543\n",
      "error/iter            : 4/8\n",
      "-----------------------------------\n",
      "num_of_ticks          : 7/300\n",
      "rsi_len               : 14/14\n",
      "sma_len               : 5/5\n",
      "lma_len               : 10/10\n",
      "live_df_ready         : False\n",
      "tick_gap_error        : False\n",
      "===============================================================================\n",
      "                      PARAMETERS\n",
      "instrument            : EUR_USD          take_profit_val       : 0.33\n",
      "pip_size              : 0.0001           pip_take_profit_ratio : 1.1\n",
      "order_num             : 1                stop_loss_pip         : 0\n",
      "timed_loss_windows    : 0.33                timed_loss_limit      : -0.0001\n",
      "act_tick_gap          : 0.0          max_lema_loss         : 0\n",
      "===============================================================================\n",
      "                       PREDICTIONS\n",
      "num_predictions       : 43                num_orders            : 9\n",
      "order_create          : None\n",
      "===============================================================================\n",
      "                         Results\n",
      "num_took_profit       : 3                num_timed_stop_loss   : 0\n",
      "===============================================================================\n",
      "                          ORDER\n",
      "order_current_open    : False\n",
      "pip_take_profit : 0\n",
      "~~~~~~~~~~~~~~~~~~~~~~~~~~~~~~~~~~~~~~~~~~~~~~~~~\n",
      "Run manually stopped\n"
     ]
    }
   ],
   "source": [
    "#--------------------------------------------------------------------------------------------------------------------------\n",
    "# Run\n",
    "\n",
    "if data['run_type'] == 'single':\n",
    "    data, live_df_full = run_engine(data, live_df_full)        \n",
    "\n",
    "elif data['run_type'] == 'loop':\n",
    "    while data[\"run_flg\"] ==  True:\n",
    "        try:        \n",
    "            data, live_df_full = run_engine(data, live_df_full)        \n",
    "        \n",
    "        except KeyboardInterrupt:\n",
    "            print(\"Run manually stopped\")\n",
    "            ts = dt.datetime.now()\n",
    "            err_msg = 'KeyboardInterrupt'\n",
    "            logging.error(f'--- Timestamp-{ts}, Error-{err_msg}')\n",
    "            break           \n",
    "        \n",
    "        except Exception as err_msg:\n",
    "            data['error_count'] = data['error_count'] + 1\n",
    "            ts = dt.datetime.now()\n",
    "            logging.error(f'--- Timestamp-{ts}, Error-{err_msg}')\n",
    "#==========================================================================================================================            "
   ]
  }
 ],
 "metadata": {
  "kernelspec": {
   "display_name": "Python 3",
   "language": "python",
   "name": "python3"
  },
  "language_info": {
   "codemirror_mode": {
    "name": "ipython",
    "version": 3
   },
   "file_extension": ".py",
   "mimetype": "text/x-python",
   "name": "python",
   "nbconvert_exporter": "python",
   "pygments_lexer": "ipython3",
   "version": "3.6.6"
  }
 },
 "nbformat": 4,
 "nbformat_minor": 4
}
