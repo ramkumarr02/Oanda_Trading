{
 "cells": [
  {
   "cell_type": "markdown",
   "metadata": {},
   "source": [
    "# Data Preparation"
   ]
  },
  {
   "cell_type": "markdown",
   "metadata": {},
   "source": [
    "## Packages"
   ]
  },
  {
   "cell_type": "code",
   "execution_count": 1,
   "metadata": {
    "scrolled": true
   },
   "outputs": [],
   "source": [
    "import os\n",
    "import winsound\n",
    "import numpy as np\n",
    "import pandas as pd\n",
    "import datetime as dt\n",
    "from tqdm import tqdm\n",
    "\n",
    "import math, collections\n",
    "from scipy.stats import linregress\n",
    "\n",
    "from matplotlib import pyplot as plt\n",
    "\n",
    "import warnings\n",
    "warnings.filterwarnings('ignore')"
   ]
  },
  {
   "cell_type": "code",
   "execution_count": 2,
   "metadata": {},
   "outputs": [],
   "source": [
    "def get_slope_s(y_axis):\n",
    "    global window_s_ma\n",
    "    x_axis = []\n",
    "    for i in range(window_s_ma):\n",
    "        x_axis.append(1 + ((i+1) * 0.0001 * 0.1))\n",
    "    \n",
    "    slope_tick, intercept, _, _, _ = linregress(x_axis, y_axis)\n",
    "    slope_tick = math.degrees(math.atan(slope_tick))\n",
    "    \n",
    "    return(slope_tick)\n",
    "\n",
    "def get_slope_l(y_axis):\n",
    "    global window_l_ma\n",
    "    x_axis = []\n",
    "    for i in range(window_l_ma):\n",
    "        x_axis.append(1 + ((i+1) * 0.0001 * 0.1))\n",
    "    \n",
    "    slope_tick, intercept, _, _, _ = linregress(x_axis, y_axis)\n",
    "    slope_tick = math.degrees(math.atan(slope_tick))\n",
    "    \n",
    "    return(slope_tick)\n",
    "\n",
    "\n",
    "def get_month(row):\n",
    "    month_val = dt.datetime.strptime(row['TS'], '%Y-%m-%d %H:%M').date().month\n",
    "    return(month_val)\n",
    "\n",
    "def get_day(row):\n",
    "    day_val = dt.datetime.strptime(row['TS'], '%Y-%m-%d %H:%M').date().day\n",
    "    return(day_val)   \n",
    "\n",
    "def get_hour(row):\n",
    "    hour_val = dt.datetime.strptime(row['TS'], '%Y-%m-%d %H:%M').time().hour\n",
    "    return(hour_val)   \n",
    "\n",
    "def get_min(row):\n",
    "    min_val = dt.datetime.strptime(row['TS'], '%Y-%m-%d %H:%M').time().minute\n",
    "    return(min_val)   \n",
    "\n",
    "\n",
    "def get_dow(row):\n",
    "    dow = dt.datetime.strptime(df['TS'][0], '%Y-%m-%d %H:%M').weekday()\n",
    "    return(dow)"
   ]
  },
  {
   "cell_type": "code",
   "execution_count": 3,
   "metadata": {
    "scrolled": true
   },
   "outputs": [],
   "source": [
    "def chunk_ticks(df, number_of_ticks):   \n",
    "    global pip_diff\n",
    "    \n",
    "    df['tick'] = (df['Bid'] + df['Ask'])/2\n",
    "    df = df[['tick']]\n",
    "\n",
    "    temp_df = pd.DataFrame()\n",
    "    open_list = []\n",
    "    high_list = []\n",
    "    low_list = []\n",
    "    close_list = []\n",
    "    avg_list = []\n",
    "\n",
    "    for i in tqdm(range(0,len(df),number_of_ticks)):\n",
    "        chunk_list = list(df['tick'][i:i+number_of_ticks])\n",
    "\n",
    "        open_val = chunk_list[0]\n",
    "        high_val = np.max(chunk_list)\n",
    "        low_val = np.min(chunk_list)\n",
    "        close_val = chunk_list[-1]\n",
    "        avg_val =  np.mean(chunk_list)\n",
    "        \n",
    "        open_list.append(open_val) \n",
    "        high_list.append(high_val)\n",
    "        low_list.append(low_val)\n",
    "        close_list.append(close_val) \n",
    "        avg_list.append(avg_val)\n",
    "\n",
    "    temp_df['open'] = open_list\n",
    "    temp_df['high'] = high_list\n",
    "    temp_df['low'] = low_list    \n",
    "    temp_df['close'] = close_list  \n",
    "    temp_df['avg'] = avg_list  \n",
    "    \n",
    "    return(temp_df)"
   ]
  },
  {
   "cell_type": "markdown",
   "metadata": {},
   "source": [
    "## Parameters"
   ]
  },
  {
   "cell_type": "code",
   "execution_count": 4,
   "metadata": {},
   "outputs": [],
   "source": [
    "#pd.DataFrame(np.random.rand(14,4), columns=['a', 'b', 'c', 'd'])\n",
    "\n",
    "year = 2019\n",
    "source_file_path = f'data/tick_{year}.csv'\n",
    "\n",
    "number_of_ticks = 60\n",
    "pip_diff = 0.0001\n",
    "\n",
    "diff_col = 'mid'\n",
    "\n",
    "rsi_window = 10\n",
    "rs_max = 1e6\n",
    "\n",
    "window_s_ma = 10\n",
    "window_l_ma = 50"
   ]
  },
  {
   "cell_type": "markdown",
   "metadata": {},
   "source": [
    "## Read data"
   ]
  },
  {
   "cell_type": "code",
   "execution_count": 5,
   "metadata": {
    "scrolled": true
   },
   "outputs": [
    {
     "name": "stdout",
     "output_type": "stream",
     "text": [
      "Wall time: 13 ms\n"
     ]
    }
   ],
   "source": [
    "%%time\n",
    "path, file_name = os.path.split(source_file_path)\n",
    "\n",
    "target_file_name = 'tab_'+file_name\n",
    "target_file_path = os.path.join(path, target_file_name)\n",
    "\n",
    "df = pd.read_csv(source_file_path, nrows=10000)\n",
    "#df = pd.read_csv(source_file_path)"
   ]
  },
  {
   "cell_type": "code",
   "execution_count": 6,
   "metadata": {},
   "outputs": [
    {
     "name": "stderr",
     "output_type": "stream",
     "text": [
      "100%|██████████████████████████████████████████████████████████████████████████████| 167/167 [00:00<00:00, 6977.48it/s]"
     ]
    },
    {
     "name": "stdout",
     "output_type": "stream",
     "text": [
      "Total recs : 10000\n",
      "Reduced recs : 167\n"
     ]
    },
    {
     "name": "stderr",
     "output_type": "stream",
     "text": [
      "\n"
     ]
    },
    {
     "data": {
      "text/html": [
       "<div>\n",
       "<style scoped>\n",
       "    .dataframe tbody tr th:only-of-type {\n",
       "        vertical-align: middle;\n",
       "    }\n",
       "\n",
       "    .dataframe tbody tr th {\n",
       "        vertical-align: top;\n",
       "    }\n",
       "\n",
       "    .dataframe thead th {\n",
       "        text-align: right;\n",
       "    }\n",
       "</style>\n",
       "<table border=\"1\" class=\"dataframe\">\n",
       "  <thead>\n",
       "    <tr style=\"text-align: right;\">\n",
       "      <th></th>\n",
       "      <th>open</th>\n",
       "      <th>high</th>\n",
       "      <th>low</th>\n",
       "      <th>close</th>\n",
       "      <th>avg</th>\n",
       "    </tr>\n",
       "  </thead>\n",
       "  <tbody>\n",
       "    <tr>\n",
       "      <th>0</th>\n",
       "      <td>1.14640</td>\n",
       "      <td>1.146700</td>\n",
       "      <td>1.146220</td>\n",
       "      <td>1.146700</td>\n",
       "      <td>1.146434</td>\n",
       "    </tr>\n",
       "    <tr>\n",
       "      <th>1</th>\n",
       "      <td>1.14670</td>\n",
       "      <td>1.146740</td>\n",
       "      <td>1.146630</td>\n",
       "      <td>1.146685</td>\n",
       "      <td>1.146692</td>\n",
       "    </tr>\n",
       "    <tr>\n",
       "      <th>2</th>\n",
       "      <td>1.14669</td>\n",
       "      <td>1.146770</td>\n",
       "      <td>1.146400</td>\n",
       "      <td>1.146435</td>\n",
       "      <td>1.146543</td>\n",
       "    </tr>\n",
       "    <tr>\n",
       "      <th>3</th>\n",
       "      <td>1.14644</td>\n",
       "      <td>1.146440</td>\n",
       "      <td>1.146215</td>\n",
       "      <td>1.146220</td>\n",
       "      <td>1.146387</td>\n",
       "    </tr>\n",
       "    <tr>\n",
       "      <th>4</th>\n",
       "      <td>1.14623</td>\n",
       "      <td>1.146415</td>\n",
       "      <td>1.146220</td>\n",
       "      <td>1.146260</td>\n",
       "      <td>1.146308</td>\n",
       "    </tr>\n",
       "  </tbody>\n",
       "</table>\n",
       "</div>"
      ],
      "text/plain": [
       "      open      high       low     close       avg\n",
       "0  1.14640  1.146700  1.146220  1.146700  1.146434\n",
       "1  1.14670  1.146740  1.146630  1.146685  1.146692\n",
       "2  1.14669  1.146770  1.146400  1.146435  1.146543\n",
       "3  1.14644  1.146440  1.146215  1.146220  1.146387\n",
       "4  1.14623  1.146415  1.146220  1.146260  1.146308"
      ]
     },
     "execution_count": 6,
     "metadata": {},
     "output_type": "execute_result"
    }
   ],
   "source": [
    "print(f'Total recs : {len(df)}')\n",
    "df = chunk_ticks(df, number_of_ticks)\n",
    "print(f'Reduced recs : {len(df)}')\n",
    "df.head()"
   ]
  },
  {
   "cell_type": "markdown",
   "metadata": {},
   "source": [
    "## Data manipulation"
   ]
  },
  {
   "cell_type": "code",
   "execution_count": null,
   "metadata": {},
   "outputs": [],
   "source": [
    "df['diff'] = df['avg'].diff()\n",
    "df['gain'] = 0\n",
    "df['loss'] = 0\n",
    "df['gain'].loc[df['diff'] > 0] = abs(df['diff'])\n",
    "df['loss'].loc[df['diff'] < 0] = abs(df['diff'])\n",
    "\n",
    "df['avg_gain'] = df['gain'].rolling(window=rsi_window).mean()\n",
    "df['avg_loss'] = df['loss'].rolling(window=rsi_window).mean()\n",
    "\n",
    "df['rs'] = df['avg_gain']/df['avg_loss']\n",
    "df['rs'] = df['rs'].where(df['rs'] <= rs_max, rs_max) \n",
    "df['rsi'] = 100 - (100 / (df['rs'] + 1))\n",
    "\n",
    "df['ssma'] = df['mid'].rolling(window=window_s_ma).mean()\n",
    "df['slope_s_m'] = df['mid'].rolling(window=window_s_ma).apply(get_slope_s)\n",
    "\n",
    "df['direction'] = 'same'\n",
    "df['direction'].loc[df[diff_col].shift(-1) - df[diff_col] > pip_diff] = 'increase'\n",
    "df['direction'].loc[df[diff_col].shift(-1) - df[diff_col] < -pip_diff] = 'decrease'\n",
    "\n",
    "\n",
    "#df['lsma'] = df['close'].rolling(window=window_l_ma).mean()\n",
    "#df['sma_diff'] = df['ssma'] - df['lsma']\n",
    "\n",
    "#df['sema'] = df['close'].ewm(span=window_s_ma).mean()\n",
    "#df['lema'] = df['close'].ewm(span=window_l_ma).mean()\n",
    "#df['ema_diff'] = df['sema'] - df['lema']\n",
    "\n",
    "# df['slope_s_h'] = df['high'].rolling(window=window_s_ma).apply(get_slope_s)\n",
    "# df['slope_s_l'] = df['low'].rolling(window=window_s_ma).apply(get_slope_s)\n",
    "# df['slope_s_o'] = df['open'].rolling(window=window_s_ma).apply(get_slope_s)\n",
    "\n",
    "#df['slope_l'] = df['close'].rolling(window=window_l_ma).apply(get_slope_l)\n",
    "#df['sma_slope'] = df['ssma'].rolling(window=rsi_window).apply(get_slope)\n",
    "\n",
    "\n",
    "\n",
    "df = df.dropna()\n",
    "df = df.reset_index(drop=True)\n",
    "df.head()"
   ]
  },
  {
   "cell_type": "markdown",
   "metadata": {},
   "source": [
    "## Write data to csv"
   ]
  },
  {
   "cell_type": "code",
   "execution_count": null,
   "metadata": {},
   "outputs": [],
   "source": [
    "#remove_columns = ['target_gain', 'target_loss']\n",
    "#df = df[df.columns.difference(remove_columns)]\n",
    "\n",
    "df.to_csv(target_file_path, index = False)\n",
    "winsound.PlaySound('C:\\\\Windows\\\\Media\\\\tada.wav', winsound.SND_ASYNC)"
   ]
  },
  {
   "cell_type": "markdown",
   "metadata": {},
   "source": [
    "## Print Report"
   ]
  },
  {
   "cell_type": "code",
   "execution_count": null,
   "metadata": {
    "scrolled": false
   },
   "outputs": [],
   "source": [
    "g= df['direction']\n",
    "print(pd.concat([g.value_counts(), g.value_counts(normalize=True).mul(100)],axis=1, keys=('counts','percentage')))\n",
    "df.head(10)"
   ]
  },
  {
   "cell_type": "code",
   "execution_count": 1,
   "metadata": {},
   "outputs": [
    {
     "ename": "NameError",
     "evalue": "name 'df' is not defined",
     "output_type": "error",
     "traceback": [
      "\u001b[1;31m---------------------------------------------------------------------------\u001b[0m",
      "\u001b[1;31mNameError\u001b[0m                                 Traceback (most recent call last)",
      "\u001b[1;32m<ipython-input-1-528b4dba02ef>\u001b[0m in \u001b[0;36m<module>\u001b[1;34m\u001b[0m\n\u001b[1;32m----> 1\u001b[1;33m \u001b[0mdf\u001b[0m\u001b[1;33m[\u001b[0m\u001b[1;36m100\u001b[0m\u001b[1;33m:\u001b[0m\u001b[1;36m200\u001b[0m\u001b[1;33m]\u001b[0m\u001b[1;33m.\u001b[0m\u001b[0mplot\u001b[0m\u001b[1;33m(\u001b[0m\u001b[0mfigsize\u001b[0m\u001b[1;33m=\u001b[0m\u001b[1;33m(\u001b[0m\u001b[1;36m15\u001b[0m\u001b[1;33m,\u001b[0m\u001b[1;36m10\u001b[0m\u001b[1;33m)\u001b[0m\u001b[1;33m)\u001b[0m\u001b[1;33m\u001b[0m\u001b[0m\n\u001b[0m",
      "\u001b[1;31mNameError\u001b[0m: name 'df' is not defined"
     ]
    }
   ],
   "source": [
    "df[100:200].plot(figsize=(15,10))"
   ]
  }
 ],
 "metadata": {
  "kernelspec": {
   "display_name": "Python 3.6.6 64-bit",
   "language": "python",
   "name": "python36664bitab910dfda0bc43a8bf7df0c20d1c59f2"
  },
  "language_info": {
   "codemirror_mode": {
    "name": "ipython",
    "version": 3
   },
   "file_extension": ".py",
   "mimetype": "text/x-python",
   "name": "python",
   "nbconvert_exporter": "python",
   "pygments_lexer": "ipython3",
   "version": "3.6.6"
  }
 },
 "nbformat": 4,
 "nbformat_minor": 4
}
