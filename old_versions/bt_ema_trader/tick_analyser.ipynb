{
 "cells": [
  {
   "cell_type": "markdown",
   "metadata": {},
   "source": [
    "# ML Trader"
   ]
  },
  {
   "cell_type": "code",
   "execution_count": 1,
   "metadata": {
    "scrolled": true
   },
   "outputs": [],
   "source": [
    "import numpy as np\n",
    "import pandas as pd"
   ]
  },
  {
   "cell_type": "code",
   "execution_count": 2,
   "metadata": {},
   "outputs": [],
   "source": [
    "def get_tick_count_per_min(file_path):\n",
    "    df = pd.read_csv(file_path)\n",
    "    df_len = len(df)    \n",
    "    df['date'] = [x.split(' ')[0] for x in df['DateTime']]\n",
    "    df['dt'] = [x.split('.')[0] for x in df['DateTime']]\n",
    "    df['min'] = [x[:-3] for x in df['dt']]\n",
    "    df_ticks_count = pd.Series(df['min'].value_counts().to_list())\n",
    "    \n",
    "    print(f\"# recs : {len(df)} \\n \")\n",
    "    print('---------description-----------')\n",
    "    print(df_ticks_count.describe())\n",
    "    print('-------------------------------')\n",
    "    \n",
    "    return(df_ticks_count)"
   ]
  },
  {
   "cell_type": "code",
   "execution_count": 3,
   "metadata": {},
   "outputs": [
    {
     "name": "stdout",
     "output_type": "stream",
     "text": [
      "# recs : 4513175 \n",
      " \n",
      "---------description-----------\n",
      "count    71597.000000\n",
      "mean        63.035812\n",
      "std         50.494965\n",
      "min          1.000000\n",
      "25%         27.000000\n",
      "50%         51.000000\n",
      "75%         85.000000\n",
      "max        614.000000\n",
      "dtype: float64\n",
      "-------------------------------\n"
     ]
    }
   ],
   "source": [
    "file_path = f'D:/Ram/PCAL/Data_Science/Projects/Trading/Oanda_Trading/bt_ema_trader/data/eurusd/eurusd_2021.csv'\n",
    "\n",
    "df1_ticks_count = get_tick_count_per_min(file_path)"
   ]
  },
  {
   "cell_type": "code",
   "execution_count": 4,
   "metadata": {},
   "outputs": [
    {
     "name": "stdout",
     "output_type": "stream",
     "text": [
      "# recs : 5248866 \n",
      " \n",
      "---------description-----------\n",
      "count    92877.000000\n",
      "mean        56.514164\n",
      "std         45.469364\n",
      "min          1.000000\n",
      "25%         26.000000\n",
      "50%         46.000000\n",
      "75%         73.000000\n",
      "max        632.000000\n",
      "dtype: float64\n",
      "-------------------------------\n"
     ]
    }
   ],
   "source": [
    "file_path = f'D:/Ram/PCAL/Data_Science/Projects/Trading/Oanda_Trading/bt_ema_trader/data/audusd/audusd_2021.csv'\n",
    "\n",
    "df2_ticks_count = get_tick_count_per_min(file_path)"
   ]
  }
 ],
 "metadata": {
  "kernelspec": {
   "display_name": "Python 3",
   "language": "python",
   "name": "python3"
  },
  "language_info": {
   "codemirror_mode": {
    "name": "ipython",
    "version": 3
   },
   "file_extension": ".py",
   "mimetype": "text/x-python",
   "name": "python",
   "nbconvert_exporter": "python",
   "pygments_lexer": "ipython3",
   "version": "3.6.6"
  }
 },
 "nbformat": 4,
 "nbformat_minor": 4
}
