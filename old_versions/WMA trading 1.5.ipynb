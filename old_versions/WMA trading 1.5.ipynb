{
 "cells": [
  {
   "cell_type": "markdown",
   "metadata": {},
   "source": [
    "# Oanda Demo Trading Notebook"
   ]
  },
  {
   "cell_type": "markdown",
   "metadata": {},
   "source": [
    "## Packages & Tools"
   ]
  },
  {
   "cell_type": "code",
   "execution_count": 1,
   "metadata": {},
   "outputs": [],
   "source": [
    "from utils.packages import *\n",
    "from utils.tools import *"
   ]
  },
  {
   "cell_type": "markdown",
   "metadata": {},
   "source": [
    "## Tools"
   ]
  },
  {
   "cell_type": "code",
   "execution_count": 2,
   "metadata": {},
   "outputs": [],
   "source": [
    "def make_order(accountID, stop_price, instrument, units, order_type):\n",
    "    stopLossOnFill = StopLossDetails(price=stop_price)\n",
    "    \n",
    "    if order_type == 'long':\n",
    "        units = units * 1\n",
    "    elif order_type == 'short':\n",
    "        units = units * (-1)\n",
    "\n",
    "    ordr = MarketOrderRequest(\n",
    "        instrument = instrument,\n",
    "        units=units,\n",
    "        stopLossOnFill=stopLossOnFill.data)\n",
    "\n",
    "    r = orders.OrderCreate(accountID, data=ordr.data)\n",
    "    rv = api.request(r)\n",
    "    return(rv)"
   ]
  },
  {
   "cell_type": "code",
   "execution_count": 3,
   "metadata": {},
   "outputs": [],
   "source": [
    "def close_order(accountID, order_type, instrument):\n",
    "    data_long = {\"longUnits\": \"ALL\"}\n",
    "    data_short = {\"shortUnits\": \"ALL\"}\n",
    "    \n",
    "    if order_type == 'long':\n",
    "        data = data_long\n",
    "    elif order_type == 'short':\n",
    "        data = data_short\n",
    "        \n",
    "    r = positions.PositionClose(accountID=accountID,\n",
    "                                instrument=instrument,\n",
    "                                data=data)\n",
    "    rv = api.request(r)\n",
    "    return(rv)"
   ]
  },
  {
   "cell_type": "markdown",
   "metadata": {},
   "source": [
    "## API Setup"
   ]
  },
  {
   "cell_type": "markdown",
   "metadata": {},
   "source": [
    "Read from config file"
   ]
  },
  {
   "cell_type": "code",
   "execution_count": 4,
   "metadata": {
    "scrolled": true
   },
   "outputs": [],
   "source": [
    "temp_file = 'config/access_keys.yaml'\n",
    "with open(temp_file) as temp_file:\n",
    "    config = yaml.load(temp_file)\n",
    "    \n",
    "temp_file = 'config/currencies.yaml'\n",
    "with open(temp_file) as temp_file:\n",
    "    currencies = yaml.load(temp_file)\n",
    "\n",
    "temp_file = 'config/stepped_loss.yaml'\n",
    "with open(temp_file) as temp_file:\n",
    "    loss_limits = yaml.load(temp_file)\n",
    "    \n",
    "temp_file = 'config/wma.yaml'\n",
    "with open(temp_file) as temp_file:\n",
    "    wma = yaml.load(temp_file)    "
   ]
  },
  {
   "cell_type": "code",
   "execution_count": 5,
   "metadata": {},
   "outputs": [],
   "source": [
    "instrument = wma['parameter']['instrument']\n",
    "short_moving_window = wma['parameter']['short_moving_window']\n",
    "long_moving_window = wma['parameter']['long_moving_window']\n",
    "lists_size = wma['parameter']['lists_size']\n",
    "\n",
    "access_token = config['oanda_demo_account']['token']\n",
    "accountID = config['oanda_demo_account']['account_id']\n",
    "api = API(access_token = access_token)"
   ]
  },
  {
   "cell_type": "markdown",
   "metadata": {},
   "source": [
    "## Code Engine"
   ]
  },
  {
   "cell_type": "code",
   "execution_count": 6,
   "metadata": {},
   "outputs": [
    {
     "data": {
      "text/plain": [
       "'instrument=\"EUR_USD\"\\nshort_moving_window = 2\\nlong_moving_window = 4\\nlists_size = 10'"
      ]
     },
     "execution_count": 6,
     "metadata": {},
     "output_type": "execute_result"
    }
   ],
   "source": [
    "'''instrument=\"EUR_USD\"\n",
    "short_moving_window = 2\n",
    "long_moving_window = 4\n",
    "lists_size = 10'''"
   ]
  },
  {
   "cell_type": "code",
   "execution_count": 7,
   "metadata": {},
   "outputs": [],
   "source": [
    "loss_limit_num = 25\n",
    "\n",
    "pip = 0.0001\n",
    "loss_limit = loss_limit_num * pip"
   ]
  },
  {
   "cell_type": "code",
   "execution_count": 8,
   "metadata": {
    "scrolled": false
   },
   "outputs": [
    {
     "name": "stderr",
     "output_type": "stream",
     "text": [
      "576it [10:43,  1.14s/it]"
     ]
    },
    {
     "name": "stdout",
     "output_type": "stream",
     "text": [
      "initial_position : negative\n"
     ]
    },
    {
     "name": "stderr",
     "output_type": "stream",
     "text": [
      "796it [14:21,  1.02s/it]"
     ]
    },
    {
     "name": "stdout",
     "output_type": "stream",
     "text": [
      "initial_position:negative\n",
      "current_position:positive\n",
      "Closing short positions if any\n",
      "Going long\n"
     ]
    },
    {
     "name": "stderr",
     "output_type": "stream",
     "text": [
      "798it [14:21,  1.59it/s]"
     ]
    },
    {
     "name": "stdout",
     "output_type": "stream",
     "text": [
      "ordered\n"
     ]
    },
    {
     "name": "stderr",
     "output_type": "stream",
     "text": [
      "841it [15:04,  1.65it/s]"
     ]
    },
    {
     "name": "stdout",
     "output_type": "stream",
     "text": [
      "initial_position:positive\n",
      "current_position:negative\n",
      "Closing long positions if any\n"
     ]
    },
    {
     "name": "stderr",
     "output_type": "stream",
     "text": [
      "841it [15:04,  1.08s/it]\n"
     ]
    },
    {
     "ename": "TypeError",
     "evalue": "'float' object is not iterable",
     "output_type": "error",
     "traceback": [
      "\u001b[1;31m--------------------------------------------\u001b[0m",
      "\u001b[1;31mTypeError\u001b[0m  Traceback (most recent call last)",
      "\u001b[1;32m<ipython-input-8-d44c315eaa05>\u001b[0m in \u001b[0;36m<module>\u001b[1;34m\u001b[0m\n\u001b[0;32m    142\u001b[0m                         \u001b[0mpl_list\u001b[0m\u001b[1;33m.\u001b[0m\u001b[0mappend\u001b[0m\u001b[1;33m(\u001b[0m\u001b[0mpl_pip\u001b[0m\u001b[1;33m)\u001b[0m\u001b[1;33m\u001b[0m\u001b[0m\n\u001b[0;32m    143\u001b[0m \u001b[1;33m\u001b[0m\u001b[0m\n\u001b[1;32m--> 144\u001b[1;33m                     \u001b[0mnegative_run\u001b[0m \u001b[1;33m=\u001b[0m \u001b[0mall\u001b[0m\u001b[1;33m(\u001b[0m\u001b[0mitrs\u001b[0m \u001b[1;33m<\u001b[0m \u001b[1;36m0\u001b[0m \u001b[1;32mfor\u001b[0m \u001b[0mitrs\u001b[0m \u001b[1;32min\u001b[0m \u001b[0mpl_pip\u001b[0m\u001b[1;33m)\u001b[0m\u001b[1;33m\u001b[0m\u001b[0m\n\u001b[0m\u001b[0;32m    145\u001b[0m \u001b[1;33m\u001b[0m\u001b[0m\n\u001b[0;32m    146\u001b[0m                 \u001b[1;32mif\u001b[0m \u001b[0mnegative_run\u001b[0m \u001b[1;33m==\u001b[0m \u001b[1;32mFalse\u001b[0m\u001b[1;33m:\u001b[0m\u001b[1;33m\u001b[0m\u001b[0m\n",
      "\u001b[1;31mTypeError\u001b[0m: 'float' object is not iterable"
     ]
    }
   ],
   "source": [
    "params = {'instruments': instrument}\n",
    "order_flag = 'not_ordered'\n",
    "r = pricing.PricingStream(accountID=accountID, params=params)\n",
    "rv = api.request(r)\n",
    "\n",
    "short_wma = 0\n",
    "short_flag = True\n",
    "short_list = collections.deque([])\n",
    "short_wma_list = collections.deque([])\n",
    "short_weights = get_weights(short_moving_window)\n",
    "\n",
    "long_wma = 0\n",
    "long_flag = True\n",
    "long_list = collections.deque([])\n",
    "long_wma_list = collections.deque([])\n",
    "long_weights = get_weights(long_moving_window)\n",
    "\n",
    "tick_list = collections.deque([])\n",
    "\n",
    "long_list_counter = 0\n",
    "list_ready = False\n",
    "old_direction =  'none'\n",
    "\n",
    "order_flag = False\n",
    "\n",
    "profit_target = 0.25 # pip target of actual price\n",
    "price_allowed_buffer = 0.5 # percentage of SWMA decrease\n",
    "\n",
    "profit_target = profit_target * pip \n",
    "\n",
    "pl_list = collections.deque([])\n",
    "consecutive_losses = 2\n",
    "negative_run =  False\n",
    "pl_pip = 0\n",
    "\n",
    "units = 1\n",
    "\n",
    "first_position_changed = False\n",
    "\n",
    "initial_position_captured = False\n",
    "\n",
    "for i, resp in tqdm(enumerate(rv)):        \n",
    "    resp_type = resp['type']       \n",
    "\n",
    "    if resp_type == 'HEARTBEAT': # Heart beat response to keep the api connection alive (Avoid timeout)\n",
    "        pass\n",
    "\n",
    "    #-----------------------------------------------------------------------------------------------------\n",
    "    elif resp_type == 'PRICE': # Check if we are yet to make the order               \n",
    "        date_val, time_val, time_fraction = get_date_time(resp) # Get time stamp for reference            \n",
    "        sell_price, buy_price, spread, tick_price = get_prices(resp) # Get prices from the response  \n",
    "\n",
    "\n",
    "    #-----------------------------------------------------------------------------------------------------\n",
    "        #Short list prep\n",
    "        #-----------------------------------------------------------------------------------------------------\n",
    "        if len(short_list) < short_moving_window:\n",
    "            short_list.append(tick_price)\n",
    "\n",
    "        if short_flag and len(short_list) == short_moving_window:\n",
    "            short_wma = sum(np.array(short_list)*short_weights)\n",
    "            short_flag =False\n",
    "\n",
    "        if short_flag == False and len(short_list) == short_moving_window:\n",
    "            short_list.popleft()   \n",
    "            short_list.append(tick_price) \n",
    "            short_wma = sum(np.array(short_list)*short_weights)\n",
    "\n",
    "\n",
    "\n",
    "        #Long list prep   \n",
    "        #-----------------------------------------------------------------------------------------------------                \n",
    "        if len(long_list) < long_moving_window:\n",
    "            long_list.append(tick_price)\n",
    "\n",
    "        if long_flag and len(long_list) == long_moving_window:\n",
    "            long_wma = sum(np.array(long_list)*long_weights)\n",
    "            long_flag = False\n",
    "\n",
    "        if long_flag == False and len(long_list) == long_moving_window:\n",
    "            long_list.popleft()   \n",
    "            long_list.append(tick_price) \n",
    "            long_wma = sum(np.array(long_list)*long_weights)   \n",
    "            long_list_counter += 1\n",
    "            if long_list_counter >= lists_size:\n",
    "                list_ready = True\n",
    "    #-----------------------------------------------------------------------------------------------------\n",
    "\n",
    "\n",
    "\n",
    "        #----------------------------------------------------------------------------------------------------- \n",
    "        if list_ready:\n",
    "            if short_wma > long_wma:\n",
    "                current_position = 'positive'\n",
    "            elif short_wma < long_wma:\n",
    "                current_position = 'negative'\n",
    "            elif short_wma == long_wma:\n",
    "                current_position = 'same level'\n",
    "\n",
    "        if list_ready and initial_position_captured == False:\n",
    "            initial_position = current_position\n",
    "            print(f'initial_position : {initial_position}')\n",
    "            initial_position_captured =  True\n",
    "            winsound.PlaySound('C:\\\\Windows\\\\Media\\\\tada.wav', winsound.SND_ASYNC) \n",
    "\n",
    "        if list_ready and initial_position_captured:\n",
    "            if initial_position == current_position:\n",
    "                pass\n",
    "\n",
    "            elif current_position == 'same level':\n",
    "                print('Same level, wait for next iteration')\n",
    "\n",
    "            elif initial_position != current_position and current_position != 'same level':\n",
    "                print(f'initial_position:{initial_position}')\n",
    "                print(f'current_position:{current_position}')\n",
    "                \n",
    "                #Select order type -------------------------------------------------------------------------\n",
    "                if current_position == 'positive':\n",
    "                    old_order_type = 'short'\n",
    "                    order_type = 'long'\n",
    "                    stop_price = buy_price - loss_limit                \n",
    "\n",
    "                elif current_position == 'negative':\n",
    "                    old_order_type = 'long'\n",
    "                    order_type = 'short'\n",
    "                    stop_price = sell_price + loss_limit                \n",
    "\n",
    "                # Ordering -------------------------------------------------------------------------    \n",
    "                print(f'Closing {old_order_type} positions if any')\n",
    "                \n",
    "                if order_flag:\n",
    "                    close_order_log = close_order(accountID, old_order_type ,instrument)\n",
    "                    close_dict_key= list(close_order_log.keys())[1]\n",
    "                    pl_pip = float(close_order_log[close_dict_key]['pl'])\n",
    "                    \n",
    "                    order_flag = False\n",
    "                    \n",
    "                    if len(pl_list) < consecutive_losses:\n",
    "                        pl_list.append(pl_pip)\n",
    "                    elif len(pl_list) == consecutive_losses:\n",
    "                        pl_list.popleft()\n",
    "                        pl_list.append(pl_pip)\n",
    "\n",
    "                    negative_run = all(itrs < 0 for itrs in pl_list)\n",
    "\n",
    "                if negative_run == False:\n",
    "                    print(f'Going {order_type}')\n",
    "                    make_order_log = make_order(accountID, stop_price, instrument, units, order_type)\n",
    "                    print('ordered')\n",
    "                    first_long =  True\n",
    "                    order_flag = True\n",
    "                else:\n",
    "                    print(f'Skipping next order pl_list : {pl_list}')\n",
    "                    \n",
    "                initial_position = current_position\n",
    "                    \n",
    "                \n",
    "            if initial_position == current_position and current_position != 'same level' and order_flag:\n",
    "                if order_type == 'long':     \n",
    "                    ordered_buy_price = float(make_order_log['orderFillTransaction']['fullPrice']['asks'][0]['price'])\n",
    "                    profit = sell_price - ordered_buy_price \n",
    "\n",
    "                    if first_long:\n",
    "                        max_price = short_wma\n",
    "                        first_long = False\n",
    "\n",
    "                    max_price = max(short_wma, max_price)\n",
    "                    buffered_max_price = max_price - (max_price * pip * price_allowed_buffer)\n",
    "\n",
    "                    if profit >= profit_target and short_wma <= buffered_max_price:    \n",
    "                        close_order_log = close_order(accountID, order_type ,instrument)                        \n",
    "                        order_flag = False\n",
    "                        close_reason = \"Take_profit\"\n",
    "                        print(close_reason)\n",
    "                        \n",
    "                        \n",
    "\n",
    "\n",
    "                "
   ]
  }
 ],
 "metadata": {
  "kernelspec": {
   "display_name": "Python 3",
   "language": "python",
   "name": "python3"
  },
  "language_info": {
   "codemirror_mode": {
    "name": "ipython",
    "version": 3
   },
   "file_extension": ".py",
   "mimetype": "text/x-python",
   "name": "python",
   "nbconvert_exporter": "python",
   "pygments_lexer": "ipython3",
   "version": "3.6.6"
  }
 },
 "nbformat": 4,
 "nbformat_minor": 4
}
