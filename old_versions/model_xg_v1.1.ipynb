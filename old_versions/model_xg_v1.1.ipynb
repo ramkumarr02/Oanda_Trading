{
 "cells": [
  {
   "cell_type": "markdown",
   "metadata": {},
   "source": [
    "# Modelling"
   ]
  },
  {
   "cell_type": "markdown",
   "metadata": {},
   "source": [
    "## Packages"
   ]
  },
  {
   "cell_type": "code",
   "execution_count": 14,
   "metadata": {
    "scrolled": true
   },
   "outputs": [
    {
     "name": "stdout",
     "output_type": "stream",
     "text": [
      " Found and Using 1 GPU\n"
     ]
    }
   ],
   "source": [
    "import os\n",
    "import numpy as np\n",
    "import pandas as pd\n",
    "from tqdm import tqdm\n",
    "import winsound\n",
    "import datetime as dt\n",
    "\n",
    "import warnings\n",
    "warnings.filterwarnings('ignore')\n",
    "\n",
    "from sklearn.model_selection import train_test_split\n",
    "from sklearn.preprocessing import StandardScaler, MinMaxScaler, LabelEncoder, OneHotEncoder, normalize\n",
    "from sklearn.metrics import classification_report, confusion_matrix, ConfusionMatrixDisplay\n",
    "from sklearn.ensemble import RandomForestClassifier\n",
    "import joblib\n",
    "\n",
    "import xgboost\n",
    "\n",
    "import tensorflow\n",
    "from tensorflow.keras import layers\n",
    "from tensorflow.keras import utils\n",
    "from tensorflow.keras.models import load_model\n",
    "\n",
    "from tensorflow.keras.models import Sequential\n",
    "from tensorflow.keras.layers import Dense, Dropout\n",
    "from tensorflow.keras.optimizers import Adam, SGD\n",
    "from tensorflow.keras.losses import CategoricalCrossentropy, BinaryCrossentropy\n",
    "from tensorflow.keras.metrics import CategoricalAccuracy, BinaryAccuracy\n",
    "#from tensorflow.nn import relu, softmax\n",
    "\n",
    "from imblearn.over_sampling import SMOTE\n",
    "\n",
    "from matplotlib import pyplot as plt\n",
    "\n",
    "print(f\" Found and Using {len(tensorflow.config.experimental.list_physical_devices('GPU'))} GPU\")"
   ]
  },
  {
   "cell_type": "markdown",
   "metadata": {},
   "source": [
    "## Functions"
   ]
  },
  {
   "cell_type": "code",
   "execution_count": 16,
   "metadata": {},
   "outputs": [],
   "source": [
    "def scale_x_encode_y(x, y):\n",
    "\n",
    "    scaler_obj = StandardScaler()\n",
    "    #scaler_obj = MinMaxScaler()\n",
    "    scaler_obj.fit(x.values)\n",
    "    x_scaled = scaler_obj.transform(x.values)\n",
    "    #x_scaled = x.values\n",
    "    \n",
    "    encoder = LabelEncoder()\n",
    "    encoder.fit(y)\n",
    "    y_encoded = encoder.transform(y)\n",
    "    y_encoded = utils.to_categorical(y_encoded)\n",
    "    \n",
    "    y_map = dict(zip(encoder.transform(encoder.classes_),encoder.classes_))\n",
    " \n",
    "    return(x_scaled, y_encoded, y_map, scaler_obj)\n",
    "\n",
    "\n",
    "def smote_data(x, y):\n",
    "    oversample = SMOTE()\n",
    "    smote_x, smote_y = oversample.fit_resample(x, y)\n",
    "    return(smote_x, smote_y)\n",
    "\n",
    "\n",
    "def data_prep(df, apply_smote = False):\n",
    "    x = df.loc[:, df.columns != target_col]\n",
    "    y = df[target_col]\n",
    "\n",
    "    if apply_smote:\n",
    "        x, y = smote_data(x, y)\n",
    "\n",
    "    print(f'Record count : {len(y)}')\n",
    "    print('--------------------------')\n",
    "    print(y.value_counts())\n",
    "    print('--------------------------')\n",
    "    print(y.value_counts(normalize=True))\n",
    "    \n",
    "    x_scaled, y_encoded, y_map, scaler_obj = scale_x_encode_y(x, y)\n",
    "    pd.DataFrame(x_scaled).head()\n",
    "    \n",
    "    return(x_scaled, y_encoded, y_map, scaler_obj)"
   ]
  },
  {
   "cell_type": "markdown",
   "metadata": {},
   "source": [
    "## Read Data"
   ]
  },
  {
   "cell_type": "code",
   "execution_count": 17,
   "metadata": {},
   "outputs": [],
   "source": [
    "remove_cols = ['tick_avg', 'sema', 'ssma', 'lema', 'lsma', 'max_tick', 'min_tick', 'small_sema_slope', 'long_sema_slope']"
   ]
  },
  {
   "cell_type": "code",
   "execution_count": 18,
   "metadata": {},
   "outputs": [],
   "source": [
    "file_name = 'tab_tick'\n",
    "#file_name = 'full_tab_tick'"
   ]
  },
  {
   "cell_type": "code",
   "execution_count": 19,
   "metadata": {},
   "outputs": [
    {
     "data": {
      "text/html": [
       "<div>\n",
       "<style scoped>\n",
       "    .dataframe tbody tr th:only-of-type {\n",
       "        vertical-align: middle;\n",
       "    }\n",
       "\n",
       "    .dataframe tbody tr th {\n",
       "        vertical-align: top;\n",
       "    }\n",
       "\n",
       "    .dataframe thead th {\n",
       "        text-align: right;\n",
       "    }\n",
       "</style>\n",
       "<table border=\"1\" class=\"dataframe\">\n",
       "  <thead>\n",
       "    <tr style=\"text-align: right;\">\n",
       "      <th></th>\n",
       "      <th>spread_avg</th>\n",
       "      <th>tick_sd</th>\n",
       "      <th>sema_diff</th>\n",
       "      <th>lema_diff</th>\n",
       "      <th>diff</th>\n",
       "      <th>avg_gain</th>\n",
       "      <th>avg_loss</th>\n",
       "      <th>rs</th>\n",
       "      <th>rsi</th>\n",
       "      <th>ssma_diff</th>\n",
       "      <th>lsma_diff</th>\n",
       "      <th>sma_diff</th>\n",
       "      <th>max_gap</th>\n",
       "      <th>min_gap</th>\n",
       "      <th>ema_diff</th>\n",
       "      <th>direction</th>\n",
       "    </tr>\n",
       "  </thead>\n",
       "  <tbody>\n",
       "    <tr>\n",
       "      <th>0</th>\n",
       "      <td>0.000041</td>\n",
       "      <td>0.000004</td>\n",
       "      <td>-0.000044</td>\n",
       "      <td>-0.000015</td>\n",
       "      <td>-0.000009</td>\n",
       "      <td>0.000003</td>\n",
       "      <td>0.000042</td>\n",
       "      <td>0.070397</td>\n",
       "      <td>6.576755</td>\n",
       "      <td>-0.000043</td>\n",
       "      <td>-0.000003</td>\n",
       "      <td>-0.000107</td>\n",
       "      <td>0.000453</td>\n",
       "      <td>0.0</td>\n",
       "      <td>-0.000207</td>\n",
       "      <td>decrease</td>\n",
       "    </tr>\n",
       "    <tr>\n",
       "      <th>1</th>\n",
       "      <td>0.000047</td>\n",
       "      <td>0.000011</td>\n",
       "      <td>-0.000039</td>\n",
       "      <td>-0.000015</td>\n",
       "      <td>-0.000019</td>\n",
       "      <td>0.000003</td>\n",
       "      <td>0.000042</td>\n",
       "      <td>0.070583</td>\n",
       "      <td>6.592970</td>\n",
       "      <td>-0.000044</td>\n",
       "      <td>-0.000004</td>\n",
       "      <td>-0.000148</td>\n",
       "      <td>0.000472</td>\n",
       "      <td>0.0</td>\n",
       "      <td>-0.000231</td>\n",
       "      <td>decrease</td>\n",
       "    </tr>\n",
       "    <tr>\n",
       "      <th>2</th>\n",
       "      <td>0.000035</td>\n",
       "      <td>0.000023</td>\n",
       "      <td>-0.000043</td>\n",
       "      <td>-0.000016</td>\n",
       "      <td>-0.000048</td>\n",
       "      <td>0.000002</td>\n",
       "      <td>0.000045</td>\n",
       "      <td>0.051753</td>\n",
       "      <td>4.920611</td>\n",
       "      <td>-0.000052</td>\n",
       "      <td>-0.000004</td>\n",
       "      <td>-0.000195</td>\n",
       "      <td>0.000488</td>\n",
       "      <td>0.0</td>\n",
       "      <td>-0.000258</td>\n",
       "      <td>decrease</td>\n",
       "    </tr>\n",
       "    <tr>\n",
       "      <th>3</th>\n",
       "      <td>0.000041</td>\n",
       "      <td>0.000057</td>\n",
       "      <td>-0.000066</td>\n",
       "      <td>-0.000023</td>\n",
       "      <td>-0.000149</td>\n",
       "      <td>0.000002</td>\n",
       "      <td>0.000054</td>\n",
       "      <td>0.043435</td>\n",
       "      <td>4.162707</td>\n",
       "      <td>-0.000064</td>\n",
       "      <td>-0.000007</td>\n",
       "      <td>-0.000252</td>\n",
       "      <td>0.000569</td>\n",
       "      <td>0.0</td>\n",
       "      <td>-0.000301</td>\n",
       "      <td>decrease</td>\n",
       "    </tr>\n",
       "    <tr>\n",
       "      <th>4</th>\n",
       "      <td>0.000045</td>\n",
       "      <td>0.000024</td>\n",
       "      <td>-0.000079</td>\n",
       "      <td>-0.000028</td>\n",
       "      <td>-0.000130</td>\n",
       "      <td>0.000002</td>\n",
       "      <td>0.000058</td>\n",
       "      <td>0.040463</td>\n",
       "      <td>3.888955</td>\n",
       "      <td>-0.000070</td>\n",
       "      <td>-0.000010</td>\n",
       "      <td>-0.000312</td>\n",
       "      <td>0.000663</td>\n",
       "      <td>0.0</td>\n",
       "      <td>-0.000353</td>\n",
       "      <td>decrease</td>\n",
       "    </tr>\n",
       "  </tbody>\n",
       "</table>\n",
       "</div>"
      ],
      "text/plain": [
       "   spread_avg   tick_sd  sema_diff  lema_diff      diff  avg_gain  avg_loss  \\\n",
       "0    0.000041  0.000004  -0.000044  -0.000015 -0.000009  0.000003  0.000042   \n",
       "1    0.000047  0.000011  -0.000039  -0.000015 -0.000019  0.000003  0.000042   \n",
       "2    0.000035  0.000023  -0.000043  -0.000016 -0.000048  0.000002  0.000045   \n",
       "3    0.000041  0.000057  -0.000066  -0.000023 -0.000149  0.000002  0.000054   \n",
       "4    0.000045  0.000024  -0.000079  -0.000028 -0.000130  0.000002  0.000058   \n",
       "\n",
       "         rs       rsi  ssma_diff  lsma_diff  sma_diff   max_gap  min_gap  \\\n",
       "0  0.070397  6.576755  -0.000043  -0.000003 -0.000107  0.000453      0.0   \n",
       "1  0.070583  6.592970  -0.000044  -0.000004 -0.000148  0.000472      0.0   \n",
       "2  0.051753  4.920611  -0.000052  -0.000004 -0.000195  0.000488      0.0   \n",
       "3  0.043435  4.162707  -0.000064  -0.000007 -0.000252  0.000569      0.0   \n",
       "4  0.040463  3.888955  -0.000070  -0.000010 -0.000312  0.000663      0.0   \n",
       "\n",
       "   ema_diff direction  \n",
       "0 -0.000207  decrease  \n",
       "1 -0.000231  decrease  \n",
       "2 -0.000258  decrease  \n",
       "3 -0.000301  decrease  \n",
       "4 -0.000353  decrease  "
      ]
     },
     "execution_count": 19,
     "metadata": {},
     "output_type": "execute_result"
    }
   ],
   "source": [
    "#df1 = pd.read_csv('data/'+file_name+'_2017.csv')\n",
    "#df2 = pd.read_csv('data/'+file_name+'_2018.csv')\n",
    "#df = df1.append(df2, ignore_index=True)\n",
    "\n",
    "df = pd.read_csv('data/'+file_name+'_2019.csv')\n",
    "\n",
    "df.drop(remove_cols, axis=1, inplace=True)\n",
    "df.head(5)"
   ]
  },
  {
   "cell_type": "code",
   "execution_count": 6,
   "metadata": {},
   "outputs": [
    {
     "name": "stdout",
     "output_type": "stream",
     "text": [
      "Record count : 477413\n",
      "--------------------------\n",
      "increase    201238\n",
      "decrease    200648\n",
      "same         75527\n",
      "Name: direction, dtype: int64\n",
      "--------------------------\n",
      "increase    0.421518\n",
      "decrease    0.420282\n",
      "same        0.158201\n",
      "Name: direction, dtype: float64\n"
     ]
    },
    {
     "data": {
      "text/plain": [
       "['data/model/y_map.pkl']"
      ]
     },
     "execution_count": 6,
     "metadata": {},
     "output_type": "execute_result"
    }
   ],
   "source": [
    "target_col = 'direction'\n",
    "x_scaled, y_encoded, y_map, scaler_obj = data_prep(df, apply_smote = False)\n",
    "joblib.dump(scaler_obj, 'data/model/scaler_obj.pkl') \n",
    "joblib.dump(y_map, 'data/model/y_map.pkl') "
   ]
  },
  {
   "cell_type": "markdown",
   "metadata": {},
   "source": [
    "## -----------------------------------"
   ]
  },
  {
   "cell_type": "code",
   "execution_count": 24,
   "metadata": {},
   "outputs": [
    {
     "name": "stdout",
     "output_type": "stream",
     "text": [
      "[12:37:22] WARNING: C:/Users/Administrator/workspace/xgboost-win64_release_1.3.0/src/learner.cc:1061: Starting in XGBoost 1.3.0, the default evaluation metric used with the objective 'multi:softprob' was changed from 'merror' to 'mlogloss'. Explicitly set eval_metric if you'd like to restore the old behavior.\n",
      "              precision    recall  f1-score   support\n",
      "\n",
      "    decrease       0.78      0.82      0.80     21887\n",
      "    increase       0.78      0.83      0.80     22017\n",
      "        same       0.54      0.44      0.48     14458\n",
      "\n",
      "    accuracy                           0.73     58362\n",
      "   macro avg       0.70      0.70      0.70     58362\n",
      "weighted avg       0.72      0.73      0.72     58362\n",
      "\n",
      "Wall time: 48.8 s\n"
     ]
    }
   ],
   "source": [
    "%%time\n",
    "x = df.loc[:, df.columns != target_col]\n",
    "y = df[target_col]\n",
    "train_x, valid_x, train_y, valid_y = train_test_split(x, y,train_size = 0.8,random_state = 1)\n",
    "\n",
    "\n",
    "clf_xg = xgboost.XGBClassifier()\n",
    "#rounded_train_y = np.argmax(train_y, axis = -1)\n",
    "\n",
    "clf_xg.fit(train_x, train_y)\n",
    "#joblib.dump(clf_xg, 'data/model/model_xg.pkl') \n",
    "\n",
    "predictions = clf_xg.predict(valid_x)\n",
    "rounded_valid_y = np.argmax(valid_y, axis = -1)\n",
    "print(classification_report(valid_y, predictions, target_names = y_map.values()))"
   ]
  },
  {
   "cell_type": "markdown",
   "metadata": {},
   "source": [
    "## -----------------------------------"
   ]
  },
  {
   "cell_type": "code",
   "execution_count": 7,
   "metadata": {},
   "outputs": [],
   "source": [
    "train_x, valid_x, train_y, valid_y = train_test_split(x_scaled, y_encoded,train_size = 0.8,random_state = 1)"
   ]
  },
  {
   "cell_type": "markdown",
   "metadata": {},
   "source": [
    "## XGBOOST"
   ]
  },
  {
   "cell_type": "code",
   "execution_count": 8,
   "metadata": {
    "scrolled": true
   },
   "outputs": [
    {
     "name": "stdout",
     "output_type": "stream",
     "text": [
      "[12:30:29] WARNING: C:/Users/Administrator/workspace/xgboost-win64_release_1.3.0/src/learner.cc:1061: Starting in XGBoost 1.3.0, the default evaluation metric used with the objective 'multi:softprob' was changed from 'merror' to 'mlogloss'. Explicitly set eval_metric if you'd like to restore the old behavior.\n",
      "              precision    recall  f1-score   support\n",
      "\n",
      "    decrease       0.78      0.87      0.82     40217\n",
      "    increase       0.77      0.87      0.82     40252\n",
      "        same       0.48      0.17      0.25     15014\n",
      "\n",
      "    accuracy                           0.76     95483\n",
      "   macro avg       0.68      0.64      0.63     95483\n",
      "weighted avg       0.73      0.76      0.73     95483\n",
      "\n",
      "Wall time: 1min 17s\n"
     ]
    }
   ],
   "source": [
    "%%time\n",
    "clf_xg = xgboost.XGBClassifier()\n",
    "rounded_train_y = np.argmax(train_y, axis = -1)\n",
    "\n",
    "clf_xg.fit(train_x, rounded_train_y)\n",
    "joblib.dump(clf_xg, 'data/model/model_xg.pkl') \n",
    "\n",
    "predictions = clf_xg.predict(valid_x)\n",
    "rounded_valid_y = np.argmax(valid_y, axis = -1)\n",
    "print(classification_report(rounded_valid_y, predictions, target_names = y_map.values()))"
   ]
  },
  {
   "cell_type": "code",
   "execution_count": 9,
   "metadata": {},
   "outputs": [
    {
     "data": {
      "text/plain": [
       "<AxesSubplot:>"
      ]
     },
     "execution_count": 9,
     "metadata": {},
     "output_type": "execute_result"
    },
    {
     "data": {
      "image/png": "[encoded data removed]",
      "text/plain": [
       "<Figure size 432x288 with 1 Axes>"
      ]
     },
     "metadata": {
      "needs_background": "light"
     },
     "output_type": "display_data"
    }
   ],
   "source": [
    "feature_important = clf_xg.get_booster().get_score(importance_type='weight')\n",
    "keys = list(feature_important.keys())\n",
    "values = list(feature_important.values())\n",
    "\n",
    "data = pd.DataFrame(data=values, index=keys, columns=[\"score\"]).sort_values(by = \"score\", ascending=False)\n",
    "data.plot(kind='barh')"
   ]
  },
  {
   "cell_type": "code",
   "execution_count": 11,
   "metadata": {
    "scrolled": false
   },
   "outputs": [
    {
     "name": "stdout",
     "output_type": "stream",
     "text": [
      "Record count : 216983\n",
      "--------------------------\n",
      "increase    92082\n",
      "decrease    90384\n",
      "same        34517\n",
      "Name: direction, dtype: int64\n",
      "--------------------------\n",
      "increase    0.424374\n",
      "decrease    0.416549\n",
      "same        0.159077\n",
      "Name: direction, dtype: float64\n",
      "              precision    recall  f1-score   support\n",
      "\n",
      "    decrease       0.76      0.88      0.82     90384\n",
      "    increase       0.76      0.89      0.82     92082\n",
      "        same       0.55      0.08      0.14     34517\n",
      "\n",
      "    accuracy                           0.76    216983\n",
      "   macro avg       0.69      0.62      0.59    216983\n",
      "weighted avg       0.73      0.76      0.71    216983\n",
      "\n",
      "Wall time: 2.27 s\n"
     ]
    },
    {
     "data": {
      "text/plain": [
       "<sklearn.metrics._plot.confusion_matrix.ConfusionMatrixDisplay at 0x256b63a77f0>"
      ]
     },
     "execution_count": 11,
     "metadata": {},
     "output_type": "execute_result"
    },
    {
     "data": {
      "image/png": "[encoded data removed]",
      "text/plain": [
       "<Figure size 576x576 with 2 Axes>"
      ]
     },
     "metadata": {
      "needs_background": "light"
     },
     "output_type": "display_data"
    }
   ],
   "source": [
    "%%time\n",
    "df1 = pd.read_csv('data/'+file_name+'_2017.csv')\n",
    "df1.drop(remove_cols, axis=1, inplace=True)\n",
    "\n",
    "x_scaled1, y_encoded1, y_map1, scaler_obj_1 = data_prep(df1, apply_smote = False)\n",
    "\n",
    "clf_xg = joblib.load('data/model/model_xg.pkl') \n",
    "predictions = clf_xg.predict(x_scaled1)\n",
    "rounded_valid_y = np.argmax(y_encoded1, axis = -1)\n",
    "\n",
    "df1['predictions'] = [y_map1[k] for k in predictions]\n",
    "#df1.to_csv('data/'+file_name+'_2018_res.csv')\n",
    "\n",
    "print(classification_report(rounded_valid_y, predictions, target_names = y_map1.values()))\n",
    "\n",
    "fig, ax = plt.subplots(figsize=(8, 8))\n",
    "cm = confusion_matrix(rounded_valid_y, predictions)\n",
    "disp = ConfusionMatrixDisplay(confusion_matrix=cm, display_labels=y_map1.values())\n",
    "disp.plot(ax=ax)"
   ]
  },
  {
   "cell_type": "code",
   "execution_count": 10,
   "metadata": {
    "scrolled": false
   },
   "outputs": [
    {
     "name": "stdout",
     "output_type": "stream",
     "text": [
      "Record count : 260430\n",
      "--------------------------\n",
      "decrease    110264\n",
      "increase    109156\n",
      "same         41010\n",
      "Name: direction, dtype: int64\n",
      "--------------------------\n",
      "decrease    0.423392\n",
      "increase    0.419138\n",
      "same        0.157470\n",
      "Name: direction, dtype: float64\n",
      "              precision    recall  f1-score   support\n",
      "\n",
      "    decrease       0.83      0.80      0.81    110264\n",
      "    increase       0.75      0.90      0.81    109156\n",
      "        same       0.41      0.23      0.30     41010\n",
      "\n",
      "    accuracy                           0.75    260430\n",
      "   macro avg       0.66      0.64      0.64    260430\n",
      "weighted avg       0.73      0.75      0.73    260430\n",
      "\n",
      "Wall time: 2.57 s\n"
     ]
    },
    {
     "data": {
      "text/plain": [
       "<sklearn.metrics._plot.confusion_matrix.ConfusionMatrixDisplay at 0x256b619ff60>"
      ]
     },
     "execution_count": 10,
     "metadata": {},
     "output_type": "execute_result"
    },
    {
     "data": {
      "image/png": "[encoded data removed]",
      "text/plain": [
       "<Figure size 576x576 with 2 Axes>"
      ]
     },
     "metadata": {
      "needs_background": "light"
     },
     "output_type": "display_data"
    }
   ],
   "source": [
    "%%time\n",
    "df1 = pd.read_csv('data/'+file_name+'_2018.csv')\n",
    "df1.drop(remove_cols, axis=1, inplace=True)\n",
    "\n",
    "x_scaled1, y_encoded1, y_map1, scaler_obj_1 = data_prep(df1, apply_smote = False)\n",
    "\n",
    "clf_xg = joblib.load('data/model/model_xg.pkl') \n",
    "predictions = clf_xg.predict(x_scaled1)\n",
    "rounded_valid_y = np.argmax(y_encoded1, axis = -1)\n",
    "\n",
    "df1['predictions'] = [y_map1[k] for k in predictions]\n",
    "#df1.to_csv('data/'+file_name+'_2018_res.csv')\n",
    "\n",
    "print(classification_report(rounded_valid_y, predictions, target_names = y_map1.values()))\n",
    "\n",
    "fig, ax = plt.subplots(figsize=(8, 8))\n",
    "cm = confusion_matrix(rounded_valid_y, predictions)\n",
    "disp = ConfusionMatrixDisplay(confusion_matrix=cm, display_labels=y_map1.values())\n",
    "disp.plot(ax=ax)"
   ]
  },
  {
   "cell_type": "markdown",
   "metadata": {
    "scrolled": false
   },
   "source": [
    "%%time\n",
    "df1 = pd.read_csv('data/'+file_name+'_2019.csv')\n",
    "df1.drop(remove_cols, axis=1, inplace=True)\n",
    "\n",
    "x_scaled1, y_encoded1, y_map1, scaler_obj_1 = data_prep(df1, apply_smote = False)\n",
    "\n",
    "clf_xg = joblib.load('data/model/model_xg.pkl') \n",
    "predictions = clf_xg.predict(x_scaled1)\n",
    "rounded_valid_y = np.argmax(y_encoded1, axis = -1)\n",
    "\n",
    "df1['predictions'] = [y_map1[k] for k in predictions]\n",
    "#df1.to_csv('data/'+file_name+'_2018_res.csv')\n",
    "\n",
    "print(classification_report(rounded_valid_y, predictions, target_names = y_map1.values()))\n",
    "\n",
    "fig, ax = plt.subplots(figsize=(8, 8))\n",
    "cm = confusion_matrix(rounded_valid_y, predictions)\n",
    "disp = ConfusionMatrixDisplay(confusion_matrix=cm, display_labels=y_map1.values())\n",
    "disp.plot(ax=ax)"
   ]
  },
  {
   "cell_type": "markdown",
   "metadata": {},
   "source": [
    "live_df = pd.read_csv('data/live_preds.csv')\n",
    "live_df.drop(remove_cols, axis=1, inplace=True)\n",
    "del live_df['predicted_direction']\n",
    "\n",
    "scaler_obj = joblib.load('data/model/scaler_obj.pkl')\n",
    "y_map = joblib.load('data/model/y_map.pkl') \n",
    "x_scaled = scaler_obj.transform(live_df.values)\n",
    "\n",
    "predictions = clf_xg.predict(x_scaled)\n",
    "\n",
    "live_df['predictions'] = [y_map[k] for k in predictions]\n",
    "\n",
    "print(y_map)\n",
    "live_df['predictions'].value_counts()"
   ]
  },
  {
   "cell_type": "code",
   "execution_count": 13,
   "metadata": {},
   "outputs": [],
   "source": [
    "winsound.PlaySound('C:\\\\Windows\\\\Media\\\\tada.wav', winsound.SND_ASYNC)"
   ]
  }
 ],
 "metadata": {
  "kernelspec": {
   "display_name": "Python 3.6.6 64-bit",
   "language": "python",
   "name": "python36664bitab910dfda0bc43a8bf7df0c20d1c59f2"
  },
  "language_info": {
   "codemirror_mode": {
    "name": "ipython",
    "version": 3
   },
   "file_extension": ".py",
   "mimetype": "text/x-python",
   "name": "python",
   "nbconvert_exporter": "python",
   "pygments_lexer": "ipython3",
   "version": "3.6.6"
  }
 },
 "nbformat": 4,
 "nbformat_minor": 4
}
