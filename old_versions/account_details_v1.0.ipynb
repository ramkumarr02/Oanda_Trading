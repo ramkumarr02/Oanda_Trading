{
 "cells": [
  {
   "cell_type": "markdown",
   "metadata": {},
   "source": [
    "# Account Details"
   ]
  },
  {
   "cell_type": "code",
   "execution_count": 6,
   "metadata": {},
   "outputs": [],
   "source": [
    "from utils.packages import *"
   ]
  },
  {
   "cell_type": "code",
   "execution_count": 7,
   "metadata": {},
   "outputs": [],
   "source": [
    "warnings.filterwarnings(\"ignore\")"
   ]
  },
  {
   "cell_type": "code",
   "execution_count": null,
   "metadata": {},
   "outputs": [],
   "source": [
    "client = oandapyV20.API(access_token=...)\n",
    "r = accounts.AccountDetails(accountID)\n",
    "client.request(r)\n",
    "print r.response"
   ]
  },
  {
   "cell_type": "markdown",
   "metadata": {},
   "source": [
    "## Read Yaml files"
   ]
  },
  {
   "cell_type": "code",
   "execution_count": 13,
   "metadata": {},
   "outputs": [],
   "source": [
    "temp_file = \"config/access_keys.yaml\"\n",
    "with open(temp_file) as temp_file:\n",
    "    config = yaml.load(temp_file)     "
   ]
  },
  {
   "cell_type": "code",
   "execution_count": 33,
   "metadata": {
    "scrolled": true
   },
   "outputs": [
    {
     "name": "stdout",
     "output_type": "stream",
     "text": [
      "account_balance: 99.8865 \n",
      "invest_amount: 0.998865 \n",
      "order_amount: 49 \n"
     ]
    }
   ],
   "source": [
    "data = {}\n",
    "data[\"balance_invest_ratio\"] = 100\n",
    "data[\"leverage\"] = 50\n",
    "\n",
    "data[\"access_token\"] = config[\"oanda_demo_hedge\"][\"token\"]\n",
    "data[\"accountID\"] = config[\"oanda_demo_hedge\"][\"account_id\"]\n",
    "data[\"api\"] = API(access_token = data[\"access_token\"])\n",
    "r = accounts.AccountDetails(data[\"accountID\"])\n",
    "\n",
    "data[\"api\"].request(r)\n",
    "data[\"account_data\"] = r.response\n",
    "data[\"account_balance\"] = float(data[\"account_data\"][\"account\"][\"balance\"])\n",
    "\n",
    "data[\"invest_amount\"] = data[\"account_balance\"] / data[\"balance_invest_ratio\"]\n",
    "data[\"order_amount\"] = int(np.floor(data[\"invest_amount\"] * data[\"leverage\"]))\n",
    "\n",
    "\n",
    "print(f'account_balance: {data[\"account_balance\"]} ')\n",
    "print(f'invest_amount: {data[\"invest_amount\"]} ')\n",
    "print(f'order_amount: {data[\"order_amount\"]} ')"
   ]
  }
 ],
 "metadata": {
  "kernelspec": {
   "display_name": "Python 3.6.6 64-bit",
   "language": "python",
   "name": "python36664bitab910dfda0bc43a8bf7df0c20d1c59f2"
  },
  "language_info": {
   "codemirror_mode": {
    "name": "ipython",
    "version": 3
   },
   "file_extension": ".py",
   "mimetype": "text/x-python",
   "name": "python",
   "nbconvert_exporter": "python",
   "pygments_lexer": "ipython3",
   "version": "3.6.6"
  }
 },
 "nbformat": 4,
 "nbformat_minor": 4
}
