{
 "cells": [
  {
   "cell_type": "markdown",
   "metadata": {},
   "source": [
    "# ML Trader"
   ]
  },
  {
   "cell_type": "code",
   "execution_count": 1,
   "metadata": {
    "scrolled": true
   },
   "outputs": [],
   "source": [
    "from utils.packages import *\n",
    "from utils.variables import *\n",
    "from utils.i_o import *\n",
    "from utils.dir_slope import *\n",
    "from utils.engine import *\n",
    "from utils.loops import *\n",
    "from utils.order import *\n",
    "import winsound"
   ]
  },
  {
   "cell_type": "markdown",
   "metadata": {},
   "source": [
    "###  x = 2500, loss_reverse_position : 101 pips\n",
    "###  x = 5000, loss_reverse_position_continous : 55 pips\n",
    "###  x = 7500, loss_reverse_position_continous : -180 and -200+ pips\n",
    "###  x = 1000, loss_reverse_position_continous : -170 and -170 pips\n",
    "\n",
    "# Need to test Hedge positions with 1,2,2,2,2 (Series)"
   ]
  },
  {
   "cell_type": "code",
   "execution_count": 2,
   "metadata": {
    "scrolled": false
   },
   "outputs": [
    {
     "name": "stderr",
     "output_type": "stream",
     "text": [
      "100%|███████████████████████████████| 580124/580124 [00:51<00:00, 11201.97it/s]"
     ]
    },
    {
     "name": "stdout",
     "output_type": "stream",
     "text": [
      "pl   -0.01724\n",
      "dtype: float64\n",
      "--------------------------------------\n",
      "             DateTime_frmt order_side               close_type       pl\n",
      "551594 2021-01-08 16:51:36       long  simple_slema_move_close  0.00095\n",
      "552414 2021-01-08 16:57:58       long  simple_slema_move_close  0.00011\n",
      "553986 2021-01-08 17:14:14      short  simple_slema_move_close  0.00027\n",
      "556943 2021-01-08 17:40:34      short  simple_slema_move_close  0.00085\n",
      "557593 2021-01-08 17:48:12      short  simple_slema_move_close  0.00004\n",
      "561556 2021-01-08 18:29:07      short  simple_slema_move_close  0.00213\n",
      "564090 2021-01-08 18:51:55      short  simple_slema_move_close  0.00006\n",
      "564499 2021-01-08 18:55:50      short                 reversed -0.00054\n",
      "564833 2021-01-08 18:58:51       long              simple_stop -0.00101\n",
      "566996 2021-01-08 19:25:14       long  simple_slema_move_close  0.00115\n",
      "572408 2021-01-08 21:14:51       long  simple_slema_move_close  0.00069\n",
      "572922 2021-01-08 21:40:22       long                 reversed -0.00047\n",
      "574556 2021-01-08 21:59:03      short              simple_stop -0.00086\n",
      "575194 2021-01-10 22:16:54       long  simple_slema_move_close  0.00010\n",
      "578328 2021-01-10 23:34:56      short  simple_slema_move_close  0.00229\n"
     ]
    },
    {
     "name": "stderr",
     "output_type": "stream",
     "text": [
      "\n"
     ]
    },
    {
     "name": "stdout",
     "output_type": "stream",
     "text": [
      "Wall time: 1min 1s\n"
     ]
    }
   ],
   "source": [
    "%%time\n",
    "data = run_engine(data)"
   ]
  },
  {
   "cell_type": "code",
   "execution_count": 3,
   "metadata": {
    "scrolled": false
   },
   "outputs": [
    {
     "name": "stdout",
     "output_type": "stream",
     "text": [
      "--------------------------------------\n",
      "Run Complete : data/ema_df-(2021-2021)-(1-1)-(1-11).csv\n",
      "--------------------------------------\n",
      "\n",
      "\n",
      "--------------------------------------\n",
      "Net PL\n",
      "-0.0172\n",
      "--------------------------------------\n",
      "\n",
      "\n",
      "--------------------------------------\n",
      "Monthly PL\n",
      "                pl\n",
      "month_val         \n",
      "1         -0.01724\n",
      "--------------------------------------\n",
      "\n",
      "\n",
      "--------------------------------------\n",
      "Daily PL\n",
      "               pl\n",
      "date_val         \n",
      "4        -0.00748\n",
      "5        -0.00755\n",
      "6        -0.00294\n",
      "7        -0.00235\n",
      "8         0.00069\n",
      "10        0.00239\n",
      "--------------------------------------\n",
      "\n",
      "\n",
      "--------------------------------------\n",
      "Count of transactions by Close Type\n",
      "..................\n",
      "                          pl\n",
      "close_type                  \n",
      "reversed                  97\n",
      "simple_slema_move_close  139\n",
      "simple_stop               46\n",
      "--------------------------------------\n",
      "\n",
      "\n",
      "--------------------------------------\n",
      "Mean value of transactions by Close Type\n",
      "..................\n",
      "                               pl\n",
      "close_type                       \n",
      "reversed                -0.000517\n",
      "simple_slema_move_close  0.000505\n",
      "simple_stop             -0.000811\n",
      "--------------------------------------\n",
      "\n",
      "\n",
      "--------------------------------------\n",
      "Sum by Close Type\n",
      "..................\n",
      "                              pl\n",
      "close_type                      \n",
      "reversed                -0.05015\n",
      "simple_slema_move_close  0.07023\n",
      "simple_stop             -0.03732\n",
      "--------------------------------------\n",
      "\n",
      "\n",
      "--------------------------------------\n",
      "Average pips per day : -0.0029\n",
      "--------------------------------------\n",
      "\n",
      "\n",
      "--------------------------------------\n",
      "Average orders per day : 47.0\n",
      "--------------------------------------\n",
      "\n",
      "\n"
     ]
    }
   ],
   "source": [
    "generate_result_report(data)"
   ]
  },
  {
   "cell_type": "code",
   "execution_count": 4,
   "metadata": {},
   "outputs": [],
   "source": [
    "data[\"plot\"] = False\n",
    "data['plot_type'] = 'file'\n",
    "data['reduce_plot'] = True\n",
    "data['plot_start']  = '2021-01-5'\n",
    "data['plot_stop']   = '2021-01-6'\n",
    "# data['things_to_plot'] = ['tick', 'lema', 'h_l_lema', 'tick_angle', 'positions']\n",
    "data['things_to_plot'] = ['tick', 'ema', 'h_l_lema', 'tick_angle', 'positions']"
   ]
  },
  {
   "cell_type": "code",
   "execution_count": 5,
   "metadata": {
    "scrolled": false
   },
   "outputs": [],
   "source": [
    "plot_graph(data)"
   ]
  }
 ],
 "metadata": {
  "kernelspec": {
   "display_name": "Python 3",
   "language": "python",
   "name": "python3"
  },
  "language_info": {
   "codemirror_mode": {
    "name": "ipython",
    "version": 3
   },
   "file_extension": ".py",
   "mimetype": "text/x-python",
   "name": "python",
   "nbconvert_exporter": "python",
   "pygments_lexer": "ipython3",
   "version": "3.6.6"
  }
 },
 "nbformat": 4,
 "nbformat_minor": 4
}
