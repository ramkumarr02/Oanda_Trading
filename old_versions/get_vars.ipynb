{
 "cells": [
  {
   "cell_type": "code",
   "execution_count": 7,
   "metadata": {},
   "outputs": [],
   "source": [
    "import re\n",
    "import numpy as np"
   ]
  },
  {
   "cell_type": "code",
   "execution_count": 3,
   "metadata": {
    "scrolled": true
   },
   "outputs": [],
   "source": [
    "def get_list(file_name):\n",
    "    data_list = []\n",
    "    final_data_list = []\n",
    "    with open(file_name, \"r\") as file:\n",
    "        for line in file:        \n",
    "            namesGroup = re.findall(r'\\bdata\\[.*?\\]', line, re.IGNORECASE)\n",
    "            if len(namesGroup) > 0:\n",
    "                data_list.append(namesGroup)\n",
    "\n",
    "    flat_data_list = [item for sublist in data_list for item in sublist]     \n",
    "    unique_flat_data_list = list(set(flat_data_list))\n",
    "\n",
    "\n",
    "    for i, val in enumerate(unique_flat_data_list):\n",
    "        final_data_list.append(val.replace(\"'\", '\"'))\n",
    "\n",
    "    final_data_list.sort()\n",
    "    return(final_data_list)"
   ]
  },
  {
   "cell_type": "code",
   "execution_count": 4,
   "metadata": {},
   "outputs": [],
   "source": [
    "total_vars = get_list(\"trader.txt\")"
   ]
  },
  {
   "cell_type": "code",
   "execution_count": 6,
   "metadata": {},
   "outputs": [],
   "source": [
    "dec_vars = get_list(\"vars.txt\")"
   ]
  },
  {
   "cell_type": "code",
   "execution_count": 17,
   "metadata": {},
   "outputs": [],
   "source": [
    "missing_vars = list(np.setdiff1d(total_vars, dec_vars))"
   ]
  },
  {
   "cell_type": "code",
   "execution_count": 18,
   "metadata": {},
   "outputs": [
    {
     "data": {
      "text/plain": [
       "['data[\"avg_gain\"]',\n",
       " 'data[\"avg_loss\"]',\n",
       " 'data[\"diff\"]',\n",
       " 'data[\"ema_diff\"]',\n",
       " 'data[\"iter\"]',\n",
       " 'data[\"lema\"]',\n",
       " 'data[\"lema_diff\"]',\n",
       " 'data[\"long_sema_slope\"]',\n",
       " 'data[\"lsma\"]',\n",
       " 'data[\"lsma_diff\"]',\n",
       " 'data[\"max_gap\"]',\n",
       " 'data[\"max_tick\"]',\n",
       " 'data[\"min_gap\"]',\n",
       " 'data[\"min_tick\"]',\n",
       " 'data[\"rs\"]',\n",
       " 'data[\"rsi\"]',\n",
       " 'data[\"sema\"]',\n",
       " 'data[\"sema_diff\"]',\n",
       " 'data[\"sma_diff\"]',\n",
       " 'data[\"small_sema_slope\"]',\n",
       " 'data[\"ssma\"]',\n",
       " 'data[\"ssma_diff\"]',\n",
       " 'data[\"start_ts\"]',\n",
       " 'data[your_key]']"
      ]
     },
     "execution_count": 18,
     "metadata": {},
     "output_type": "execute_result"
    }
   ],
   "source": [
    "missing_vars"
   ]
  },
  {
   "cell_type": "code",
   "execution_count": null,
   "metadata": {},
   "outputs": [],
   "source": []
  }
 ],
 "metadata": {
  "kernelspec": {
   "display_name": "Python 3.6.6 64-bit",
   "language": "python",
   "name": "python36664bitab910dfda0bc43a8bf7df0c20d1c59f2"
  },
  "language_info": {
   "codemirror_mode": {
    "name": "ipython",
    "version": 3
   },
   "file_extension": ".py",
   "mimetype": "text/x-python",
   "name": "python",
   "nbconvert_exporter": "python",
   "pygments_lexer": "ipython3",
   "version": "3.6.6"
  }
 },
 "nbformat": 4,
 "nbformat_minor": 4
}
