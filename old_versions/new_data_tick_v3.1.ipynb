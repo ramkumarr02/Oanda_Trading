{
 "cells": [
  {
   "cell_type": "markdown",
   "metadata": {},
   "source": [
    "# Data Preparation"
   ]
  },
  {
   "cell_type": "markdown",
   "metadata": {},
   "source": [
    "## Packages"
   ]
  },
  {
   "cell_type": "code",
   "execution_count": 1,
   "metadata": {
    "scrolled": true
   },
   "outputs": [],
   "source": [
    "import os\n",
    "import winsound\n",
    "import numpy as np\n",
    "import pandas as pd\n",
    "import datetime as dt\n",
    "from tqdm import tqdm\n",
    "tqdm.pandas()\n",
    "from multiprocessing import  Pool\n",
    "import time\n",
    "\n",
    "import math, collections\n",
    "from scipy.stats import linregress\n",
    "\n",
    "from matplotlib import pyplot as plt\n",
    "from matplotlib.pyplot import figure\n",
    "\n",
    "import warnings\n",
    "warnings.filterwarnings('ignore')"
   ]
  },
  {
   "cell_type": "code",
   "execution_count": 2,
   "metadata": {},
   "outputs": [],
   "source": [
    "def chunk_ticks(df, number_of_ticks):   \n",
    "    global data\n",
    "    \n",
    "    df['tick'] = (df['Bid'] + df['Ask'])/2\n",
    "    df['spread'] = df['Ask'] - df['Bid']\n",
    "    df = df[['tick', 'spread']]\n",
    "    \n",
    "    temp_df = pd.DataFrame()\n",
    "    tick_avg = []\n",
    "    spread_avg = []\n",
    "    tick_sd = []\n",
    "    tick_high = []\n",
    "    tick_low = []\n",
    "    \n",
    "    for i in tqdm(range(0,len(df),number_of_ticks)):\n",
    "        tick_list = list(df['tick'][i:i+number_of_ticks])\n",
    "        spread_list = list(df['spread'][i:i+number_of_ticks])\n",
    "        \n",
    "        \n",
    "        tick_avg.append(list(pd.DataFrame(tick_list).ewm(span=len(tick_list)).mean()[0])[len(tick_list) - 1])        \n",
    "        #tick_avg.append(np.mean(tick_list))  \n",
    "        \n",
    "        spread_avg.append(np.mean(spread_list))\n",
    "        tick_sd.append(np.std(tick_list))\n",
    "        tick_high.append(np.max(tick_list))\n",
    "        tick_low.append(np.min(tick_list))\n",
    "        \n",
    "        \n",
    "    temp_df['tick_avg'] = tick_avg  \n",
    "    temp_df['tick_high'] = tick_high\n",
    "    temp_df['tick_low'] = tick_low\n",
    "    temp_df['spread_avg'] = spread_avg  \n",
    "    temp_df['tick_sd'] = tick_sd\n",
    "\n",
    "    return(temp_df)"
   ]
  },
  {
   "cell_type": "code",
   "execution_count": 3,
   "metadata": {},
   "outputs": [],
   "source": [
    "def before_sma():\n",
    "    global data    \n",
    "    data['ssma_list'].append(val)    \n",
    "    return()\n",
    "\n",
    "def after_sma():\n",
    "    global data\n",
    "    \n",
    "    data['ssma_list'].popleft()\n",
    "    data['ssma_list'].append(val)\n",
    "    data['sema'] = list(pd.DataFrame(list(data['ssma_list'])).ewm(span=data['sma_len']).mean()[0])[data['sma_len'] - 1]\n",
    "    \n",
    "    if len(data['sema_ready']) < 2:\n",
    "        data['sema_ready'].append(data['sema'])\n",
    "        data['sema_diff'] = np.nan\n",
    "\n",
    "    elif len(data['sema_ready']) > 1:\n",
    "        data['sema_ready'].popleft()\n",
    "        data['sema_ready'].append(data['sema'])\n",
    "        data['sema_diff'] = data['sema_ready'][-1] - data['sema_ready'][len(data['sema_ready'])-2]\n",
    "    \n",
    "    return()\n",
    "\n",
    "def before_lma():\n",
    "    global data    \n",
    "    data['lsma_list'].append(val)    \n",
    "    return()\n",
    "\n",
    "def after_lma():\n",
    "    global data\n",
    "    \n",
    "    data['lsma_list'].popleft()\n",
    "    data['lsma_list'].append(val)\n",
    "    data['lema'] = list(pd.DataFrame(list(data['lsma_list'])).ewm(span=data['lma_len']).mean()[0])[data['lma_len'] - 1]\n",
    "    \n",
    "    if len(data['lema_ready']) < 2:\n",
    "        data['lema_ready'].append(data['lema'])\n",
    "        data['lema_diff'] = np.nan\n",
    "\n",
    "    elif len(data['lema_ready']) > 1:\n",
    "        data['lema_ready'].popleft()\n",
    "        data['lema_ready'].append(data['lema'])\n",
    "        data['lema_diff'] = data['lema_ready'][-1] - data['lema_ready'][len(data['lema_ready'])-2]\n",
    "    \n",
    "    return()"
   ]
  },
  {
   "cell_type": "code",
   "execution_count": 4,
   "metadata": {},
   "outputs": [],
   "source": [
    "def roll_sma(ssma_list):\n",
    "    global data\n",
    "    sema_val = list(pd.DataFrame(ssma_list).ewm(span=data['sma_len']).mean()[0])[data['sma_len'] - 1]    \n",
    "    return(sema_val)\n",
    "\n",
    "def roll_lma(lsma_list):\n",
    "    global data\n",
    "    lema_val = list(pd.DataFrame(ssma_list).ewm(span=data['lma_len']).mean()[0])[data['lma_len'] - 1]    \n",
    "    return(lema_val)"
   ]
  },
  {
   "cell_type": "code",
   "execution_count": 5,
   "metadata": {},
   "outputs": [],
   "source": [
    "def get_slope_s(y_axis):\n",
    "    global data\n",
    "    x_axis = []\n",
    "    for i in range(data['sma_len']):\n",
    "        x_axis.append(1 + ((i+1) * 0.0001 * 0.1))\n",
    "    \n",
    "    slope_tick, intercept, _, _, _ = linregress(x_axis, y_axis)\n",
    "    slope_tick = math.degrees(math.atan(slope_tick))\n",
    "\n",
    "    return(slope_tick)\n",
    "\n",
    "def get_slope_l(y_axis):\n",
    "    global data\n",
    "    x_axis = []\n",
    "    for i in range(data['lma_len']):\n",
    "        x_axis.append(1 + ((i+1) * 0.0001 * 0.1))\n",
    "    \n",
    "    slope_tick, intercept, _, _, _ = linregress(x_axis, y_axis)\n",
    "    slope_tick = math.degrees(math.atan(slope_tick))\n",
    "    \n",
    "    return(slope_tick)"
   ]
  },
  {
   "cell_type": "markdown",
   "metadata": {},
   "source": [
    "## File paths"
   ]
  },
  {
   "cell_type": "code",
   "execution_count": 6,
   "metadata": {},
   "outputs": [
    {
     "name": "stdout",
     "output_type": "stream",
     "text": [
      "source_file_path : data/tick_2018.csv\n",
      "chunk_file_path : data\\chunk_tick_2018.csv\n",
      "target_file_path : data\\tab_tick_2018.csv\n"
     ]
    }
   ],
   "source": [
    "year = 2018\n",
    "source_file_path = f'data/tick_{year}.csv'\n",
    "path, file_name = os.path.split(source_file_path)\n",
    "\n",
    "target_file_name = 'tab_'+file_name\n",
    "target_file_path = os.path.join(path, target_file_name)\n",
    "\n",
    "chunk_file_name = 'chunk_'+file_name\n",
    "chunk_file_path = os.path.join(path, chunk_file_name)\n",
    "\n",
    "print(f'source_file_path : {source_file_path}')\n",
    "print(f'chunk_file_path : {chunk_file_path}')\n",
    "print(f'target_file_path : {target_file_path}')"
   ]
  },
  {
   "cell_type": "markdown",
   "metadata": {},
   "source": [
    "## Read data"
   ]
  },
  {
   "cell_type": "code",
   "execution_count": 7,
   "metadata": {
    "scrolled": true
   },
   "outputs": [
    {
     "name": "stdout",
     "output_type": "stream",
     "text": [
      "Wall time: 11 ms\n"
     ]
    },
    {
     "data": {
      "text/html": [
       "<div>\n",
       "<style scoped>\n",
       "    .dataframe tbody tr th:only-of-type {\n",
       "        vertical-align: middle;\n",
       "    }\n",
       "\n",
       "    .dataframe tbody tr th {\n",
       "        vertical-align: top;\n",
       "    }\n",
       "\n",
       "    .dataframe thead th {\n",
       "        text-align: right;\n",
       "    }\n",
       "</style>\n",
       "<table border=\"1\" class=\"dataframe\">\n",
       "  <thead>\n",
       "    <tr style=\"text-align: right;\">\n",
       "      <th></th>\n",
       "      <th>DateTime</th>\n",
       "      <th>Bid</th>\n",
       "      <th>Ask</th>\n",
       "      <th>Volume</th>\n",
       "    </tr>\n",
       "  </thead>\n",
       "  <tbody>\n",
       "    <tr>\n",
       "      <th>0</th>\n",
       "      <td>20180101 22:00:08.661</td>\n",
       "      <td>1.20102</td>\n",
       "      <td>1.20143</td>\n",
       "      <td>2</td>\n",
       "    </tr>\n",
       "    <tr>\n",
       "      <th>1</th>\n",
       "      <td>20180101 22:00:08.895</td>\n",
       "      <td>1.20102</td>\n",
       "      <td>1.20148</td>\n",
       "      <td>2</td>\n",
       "    </tr>\n",
       "    <tr>\n",
       "      <th>2</th>\n",
       "      <td>20180101 22:00:10.634</td>\n",
       "      <td>1.20102</td>\n",
       "      <td>1.20147</td>\n",
       "      <td>2</td>\n",
       "    </tr>\n",
       "    <tr>\n",
       "      <th>3</th>\n",
       "      <td>20180101 22:00:11.223</td>\n",
       "      <td>1.20102</td>\n",
       "      <td>1.20148</td>\n",
       "      <td>2</td>\n",
       "    </tr>\n",
       "    <tr>\n",
       "      <th>4</th>\n",
       "      <td>20180101 22:00:29.530</td>\n",
       "      <td>1.20102</td>\n",
       "      <td>1.20145</td>\n",
       "      <td>2</td>\n",
       "    </tr>\n",
       "  </tbody>\n",
       "</table>\n",
       "</div>"
      ],
      "text/plain": [
       "                DateTime      Bid      Ask  Volume\n",
       "0  20180101 22:00:08.661  1.20102  1.20143       2\n",
       "1  20180101 22:00:08.895  1.20102  1.20148       2\n",
       "2  20180101 22:00:10.634  1.20102  1.20147       2\n",
       "3  20180101 22:00:11.223  1.20102  1.20148       2\n",
       "4  20180101 22:00:29.530  1.20102  1.20145       2"
      ]
     },
     "execution_count": 7,
     "metadata": {},
     "output_type": "execute_result"
    }
   ],
   "source": [
    "%%time\n",
    "df = pd.read_csv(source_file_path, nrows=10000)\n",
    "#df = pd.read_csv(source_file_path)\n",
    "df.head()"
   ]
  },
  {
   "cell_type": "markdown",
   "metadata": {},
   "source": [
    "## Data manipulation"
   ]
  },
  {
   "cell_type": "code",
   "execution_count": 8,
   "metadata": {
    "scrolled": true
   },
   "outputs": [
    {
     "name": "stdout",
     "output_type": "stream",
     "text": [
      "Wall time: 4.99 ms\n"
     ]
    },
    {
     "data": {
      "text/html": [
       "<div>\n",
       "<style scoped>\n",
       "    .dataframe tbody tr th:only-of-type {\n",
       "        vertical-align: middle;\n",
       "    }\n",
       "\n",
       "    .dataframe tbody tr th {\n",
       "        vertical-align: top;\n",
       "    }\n",
       "\n",
       "    .dataframe thead th {\n",
       "        text-align: right;\n",
       "    }\n",
       "</style>\n",
       "<table border=\"1\" class=\"dataframe\">\n",
       "  <thead>\n",
       "    <tr style=\"text-align: right;\">\n",
       "      <th></th>\n",
       "      <th>tick_avg</th>\n",
       "      <th>spread</th>\n",
       "    </tr>\n",
       "  </thead>\n",
       "  <tbody>\n",
       "    <tr>\n",
       "      <th>0</th>\n",
       "      <td>1.201225</td>\n",
       "      <td>0.00041</td>\n",
       "    </tr>\n",
       "    <tr>\n",
       "      <th>1</th>\n",
       "      <td>1.201250</td>\n",
       "      <td>0.00046</td>\n",
       "    </tr>\n",
       "    <tr>\n",
       "      <th>2</th>\n",
       "      <td>1.201245</td>\n",
       "      <td>0.00045</td>\n",
       "    </tr>\n",
       "    <tr>\n",
       "      <th>3</th>\n",
       "      <td>1.201250</td>\n",
       "      <td>0.00046</td>\n",
       "    </tr>\n",
       "    <tr>\n",
       "      <th>4</th>\n",
       "      <td>1.201235</td>\n",
       "      <td>0.00043</td>\n",
       "    </tr>\n",
       "  </tbody>\n",
       "</table>\n",
       "</div>"
      ],
      "text/plain": [
       "   tick_avg   spread\n",
       "0  1.201225  0.00041\n",
       "1  1.201250  0.00046\n",
       "2  1.201245  0.00045\n",
       "3  1.201250  0.00046\n",
       "4  1.201235  0.00043"
      ]
     },
     "execution_count": 8,
     "metadata": {},
     "output_type": "execute_result"
    }
   ],
   "source": [
    "%%time\n",
    "data = {}\n",
    "df['tick_avg'] = (df['Bid'] + df['Ask'])/2\n",
    "df['spread'] = df['Ask'] - df['Bid']\n",
    "df = df[['tick_avg', 'spread']]\n",
    "df.head()"
   ]
  },
  {
   "cell_type": "code",
   "execution_count": 9,
   "metadata": {},
   "outputs": [
    {
     "name": "stdout",
     "output_type": "stream",
     "text": [
      "Wall time: 20.9 ms\n"
     ]
    }
   ],
   "source": [
    "%%time\n",
    "\n",
    "data['pip_diff'] = 0.00003\n",
    "data['rsi_window'] = 14\n",
    "data['rs_max'] = 1e6\n",
    "\n",
    "data['sma_len'] = 100\n",
    "data['lma_len'] = 500\n",
    "\n",
    "data['ssma_list'] = collections.deque([])\n",
    "data['lsma_list'] = collections.deque([])\n",
    "data['sema_ready'] = collections.deque([])\n",
    "data['lema_ready'] = collections.deque([])\n",
    "df['sema'] = ''\n",
    "df['lema'] = ''\n",
    "df['sema_diff'] = ''\n",
    "df['lema_diff'] = ''\n",
    "\n",
    "\n",
    "# RSI -----------------------------\n",
    "df['diff'] = df['tick_avg'].diff()\n",
    "df['gain'] = 0\n",
    "df['loss'] = 0\n",
    "df['gain'].loc[df['diff'] > 0] = abs(df['diff'])\n",
    "df['loss'].loc[df['diff'] < 0] = abs(df['diff'])\n",
    "df['avg_gain'] = df['gain'].rolling(window=data['rsi_window']).mean()\n",
    "df['avg_loss'] = df['loss'].rolling(window=data['rsi_window']).mean()\n",
    "df['rs'] = df['avg_gain']/df['avg_loss']\n",
    "df['rs'] = df['rs'].where(df['rs'] <= data['rs_max'], data['rs_max']) \n",
    "df['rsi'] = 100 - (100 / (df['rs'] + 1))\n",
    "\n",
    "# Simple Moving Averages ------------------\n",
    "df['ssma'] = df['tick_avg'].rolling(window=data['sma_len']).mean()\n",
    "df['ssma_diff'] = df['ssma'].diff()\n",
    "df['lsma'] = df['tick_avg'].rolling(window=data['lma_len']).mean()\n",
    "df['lsma_diff'] = df['lsma'].diff()\n",
    "df['sma_diff'] = df['ssma'] - df['lsma']\n",
    "\n",
    "df['max_tick'] = df['tick_avg'].rolling(window=data['sma_len']).max()\n",
    "df['min_tick'] = df['tick_avg'].rolling(window=data['sma_len']).min()\n",
    "\n",
    "df['max_gap'] = df['max_tick'] -  df['tick_avg']\n",
    "df['min_gap'] = df['min_tick'] - df['tick_avg']"
   ]
  },
  {
   "cell_type": "code",
   "execution_count": 10,
   "metadata": {},
   "outputs": [
    {
     "name": "stderr",
     "output_type": "stream",
     "text": [
      "9901it [00:09, 1047.00it/s]\n",
      "9501it [00:09, 1019.66it/s]\n"
     ]
    },
    {
     "name": "stdout",
     "output_type": "stream",
     "text": [
      "Wall time: 18.8 s\n"
     ]
    }
   ],
   "source": [
    "%%time\n",
    "# Emas ----------------\n",
    "df['sema'] = df['tick_avg'].rolling(window=data['sma_len']).progress_apply(roll_sma)\n",
    "df['lema'] = df['tick_avg'].rolling(window=data['lma_len']).progress_apply(roll_sma)\n",
    "\n",
    "df['sema_diff'] = df['sema'].diff()\n",
    "df['lema_diff'] = df['lema'].diff()"
   ]
  },
  {
   "cell_type": "markdown",
   "metadata": {},
   "source": [
    "%%time\n",
    "# Slopes -----------------------------\n",
    "df['small_sema_slope'] = df['sema'].rolling(window=data['sma_len']).progress_apply(get_slope_s)\n",
    "df['long_sema_slope'] = df['sema'].rolling(window=data['lma_len']).progress_apply(get_slope_l)"
   ]
  },
  {
   "cell_type": "code",
   "execution_count": 11,
   "metadata": {
    "scrolled": true
   },
   "outputs": [
    {
     "name": "stdout",
     "output_type": "stream",
     "text": [
      "Total records : 9500\n",
      "Wall time: 14 ms\n"
     ]
    }
   ],
   "source": [
    "%%time\n",
    "\n",
    "df['ema_diff'] = df['sema'] - df['lema']\n",
    "\n",
    "# Direction -------------------------\n",
    "diff_col = 'tick_avg'\n",
    "df['direction'] = 'same'\n",
    "df['direction'].loc[df[diff_col].shift(-1) - df[diff_col] > data['pip_diff']] = 'increase'\n",
    "df['direction'].loc[df[diff_col].shift(-1) - df[diff_col] < -data['pip_diff']] = 'decrease'\n",
    "\n",
    "# Remove NaNs ------------------------\n",
    "del df['gain']\n",
    "del df['loss']\n",
    "df = df.dropna()\n",
    "df = df.reset_index(drop=True)\n",
    "print(f'Total records : {len(df)}')"
   ]
  },
  {
   "cell_type": "markdown",
   "metadata": {},
   "source": [
    "## Write data to csv"
   ]
  },
  {
   "cell_type": "code",
   "execution_count": 12,
   "metadata": {},
   "outputs": [
    {
     "name": "stdout",
     "output_type": "stream",
     "text": [
      "Wall time: 329 ms\n"
     ]
    }
   ],
   "source": [
    "%%time\n",
    "df.to_csv(target_file_path, index = False)\n",
    "winsound.PlaySound('C:\\\\Windows\\\\Media\\\\tada.wav', winsound.SND_ASYNC)"
   ]
  },
  {
   "cell_type": "markdown",
   "metadata": {},
   "source": [
    "## Print Report"
   ]
  },
  {
   "cell_type": "code",
   "execution_count": 13,
   "metadata": {
    "scrolled": false
   },
   "outputs": [
    {
     "name": "stdout",
     "output_type": "stream",
     "text": [
      "          counts  percentage\n",
      "same        9141   96.221053\n",
      "increase     182    1.915789\n",
      "decrease     177    1.863158\n"
     ]
    },
    {
     "data": {
      "text/html": [
       "<div>\n",
       "<style scoped>\n",
       "    .dataframe tbody tr th:only-of-type {\n",
       "        vertical-align: middle;\n",
       "    }\n",
       "\n",
       "    .dataframe tbody tr th {\n",
       "        vertical-align: top;\n",
       "    }\n",
       "\n",
       "    .dataframe thead th {\n",
       "        text-align: right;\n",
       "    }\n",
       "</style>\n",
       "<table border=\"1\" class=\"dataframe\">\n",
       "  <thead>\n",
       "    <tr style=\"text-align: right;\">\n",
       "      <th></th>\n",
       "      <th>tick_avg</th>\n",
       "      <th>spread</th>\n",
       "      <th>sema</th>\n",
       "      <th>lema</th>\n",
       "      <th>sema_diff</th>\n",
       "      <th>lema_diff</th>\n",
       "      <th>diff</th>\n",
       "      <th>avg_gain</th>\n",
       "      <th>avg_loss</th>\n",
       "      <th>rs</th>\n",
       "      <th>...</th>\n",
       "      <th>ssma_diff</th>\n",
       "      <th>lsma</th>\n",
       "      <th>lsma_diff</th>\n",
       "      <th>sma_diff</th>\n",
       "      <th>max_tick</th>\n",
       "      <th>min_tick</th>\n",
       "      <th>max_gap</th>\n",
       "      <th>min_gap</th>\n",
       "      <th>ema_diff</th>\n",
       "      <th>direction</th>\n",
       "    </tr>\n",
       "  </thead>\n",
       "  <tbody>\n",
       "    <tr>\n",
       "      <th>0</th>\n",
       "      <td>1.200715</td>\n",
       "      <td>0.00023</td>\n",
       "      <td>1.200718</td>\n",
       "      <td>1.200685</td>\n",
       "      <td>-7.053480e-08</td>\n",
       "      <td>-1.357379e-06</td>\n",
       "      <td>-2.220446e-16</td>\n",
       "      <td>0.000001</td>\n",
       "      <td>0.000001</td>\n",
       "      <td>1.000</td>\n",
       "      <td>...</td>\n",
       "      <td>-5.000000e-08</td>\n",
       "      <td>1.200810</td>\n",
       "      <td>-0.000001</td>\n",
       "      <td>-0.000092</td>\n",
       "      <td>1.20073</td>\n",
       "      <td>1.200705</td>\n",
       "      <td>0.000015</td>\n",
       "      <td>-0.000010</td>\n",
       "      <td>0.000033</td>\n",
       "      <td>same</td>\n",
       "    </tr>\n",
       "    <tr>\n",
       "      <th>1</th>\n",
       "      <td>1.200720</td>\n",
       "      <td>0.00022</td>\n",
       "      <td>1.200718</td>\n",
       "      <td>1.200684</td>\n",
       "      <td>4.536743e-08</td>\n",
       "      <td>-1.522483e-06</td>\n",
       "      <td>5.000000e-06</td>\n",
       "      <td>0.000002</td>\n",
       "      <td>0.000001</td>\n",
       "      <td>1.250</td>\n",
       "      <td>...</td>\n",
       "      <td>0.000000e+00</td>\n",
       "      <td>1.200808</td>\n",
       "      <td>-0.000001</td>\n",
       "      <td>-0.000091</td>\n",
       "      <td>1.20073</td>\n",
       "      <td>1.200705</td>\n",
       "      <td>0.000010</td>\n",
       "      <td>-0.000015</td>\n",
       "      <td>0.000034</td>\n",
       "      <td>same</td>\n",
       "    </tr>\n",
       "    <tr>\n",
       "      <th>2</th>\n",
       "      <td>1.200700</td>\n",
       "      <td>0.00024</td>\n",
       "      <td>1.200717</td>\n",
       "      <td>1.200684</td>\n",
       "      <td>-4.135529e-07</td>\n",
       "      <td>1.173208e-08</td>\n",
       "      <td>-2.000000e-05</td>\n",
       "      <td>0.000002</td>\n",
       "      <td>0.000003</td>\n",
       "      <td>0.625</td>\n",
       "      <td>...</td>\n",
       "      <td>-2.000000e-07</td>\n",
       "      <td>1.200807</td>\n",
       "      <td>-0.000001</td>\n",
       "      <td>-0.000090</td>\n",
       "      <td>1.20073</td>\n",
       "      <td>1.200700</td>\n",
       "      <td>0.000030</td>\n",
       "      <td>0.000000</td>\n",
       "      <td>0.000034</td>\n",
       "      <td>same</td>\n",
       "    </tr>\n",
       "    <tr>\n",
       "      <th>3</th>\n",
       "      <td>1.200705</td>\n",
       "      <td>0.00023</td>\n",
       "      <td>1.200717</td>\n",
       "      <td>1.200685</td>\n",
       "      <td>-2.598671e-07</td>\n",
       "      <td>1.255565e-06</td>\n",
       "      <td>5.000000e-06</td>\n",
       "      <td>0.000002</td>\n",
       "      <td>0.000003</td>\n",
       "      <td>0.625</td>\n",
       "      <td>...</td>\n",
       "      <td>-5.000000e-08</td>\n",
       "      <td>1.200806</td>\n",
       "      <td>-0.000001</td>\n",
       "      <td>-0.000089</td>\n",
       "      <td>1.20073</td>\n",
       "      <td>1.200700</td>\n",
       "      <td>0.000025</td>\n",
       "      <td>-0.000005</td>\n",
       "      <td>0.000032</td>\n",
       "      <td>same</td>\n",
       "    </tr>\n",
       "    <tr>\n",
       "      <th>4</th>\n",
       "      <td>1.200700</td>\n",
       "      <td>0.00022</td>\n",
       "      <td>1.200717</td>\n",
       "      <td>1.200689</td>\n",
       "      <td>-3.692267e-07</td>\n",
       "      <td>4.483343e-06</td>\n",
       "      <td>-5.000000e-06</td>\n",
       "      <td>0.000002</td>\n",
       "      <td>0.000003</td>\n",
       "      <td>0.625</td>\n",
       "      <td>...</td>\n",
       "      <td>-1.000000e-07</td>\n",
       "      <td>1.200805</td>\n",
       "      <td>-0.000001</td>\n",
       "      <td>-0.000088</td>\n",
       "      <td>1.20073</td>\n",
       "      <td>1.200700</td>\n",
       "      <td>0.000030</td>\n",
       "      <td>0.000000</td>\n",
       "      <td>0.000027</td>\n",
       "      <td>same</td>\n",
       "    </tr>\n",
       "  </tbody>\n",
       "</table>\n",
       "<p>5 rows × 22 columns</p>\n",
       "</div>"
      ],
      "text/plain": [
       "   tick_avg   spread      sema      lema     sema_diff     lema_diff  \\\n",
       "0  1.200715  0.00023  1.200718  1.200685 -7.053480e-08 -1.357379e-06   \n",
       "1  1.200720  0.00022  1.200718  1.200684  4.536743e-08 -1.522483e-06   \n",
       "2  1.200700  0.00024  1.200717  1.200684 -4.135529e-07  1.173208e-08   \n",
       "3  1.200705  0.00023  1.200717  1.200685 -2.598671e-07  1.255565e-06   \n",
       "4  1.200700  0.00022  1.200717  1.200689 -3.692267e-07  4.483343e-06   \n",
       "\n",
       "           diff  avg_gain  avg_loss     rs  ...     ssma_diff      lsma  \\\n",
       "0 -2.220446e-16  0.000001  0.000001  1.000  ... -5.000000e-08  1.200810   \n",
       "1  5.000000e-06  0.000002  0.000001  1.250  ...  0.000000e+00  1.200808   \n",
       "2 -2.000000e-05  0.000002  0.000003  0.625  ... -2.000000e-07  1.200807   \n",
       "3  5.000000e-06  0.000002  0.000003  0.625  ... -5.000000e-08  1.200806   \n",
       "4 -5.000000e-06  0.000002  0.000003  0.625  ... -1.000000e-07  1.200805   \n",
       "\n",
       "   lsma_diff  sma_diff  max_tick  min_tick   max_gap   min_gap  ema_diff  \\\n",
       "0  -0.000001 -0.000092   1.20073  1.200705  0.000015 -0.000010  0.000033   \n",
       "1  -0.000001 -0.000091   1.20073  1.200705  0.000010 -0.000015  0.000034   \n",
       "2  -0.000001 -0.000090   1.20073  1.200700  0.000030  0.000000  0.000034   \n",
       "3  -0.000001 -0.000089   1.20073  1.200700  0.000025 -0.000005  0.000032   \n",
       "4  -0.000001 -0.000088   1.20073  1.200700  0.000030  0.000000  0.000027   \n",
       "\n",
       "   direction  \n",
       "0       same  \n",
       "1       same  \n",
       "2       same  \n",
       "3       same  \n",
       "4       same  \n",
       "\n",
       "[5 rows x 22 columns]"
      ]
     },
     "execution_count": 13,
     "metadata": {},
     "output_type": "execute_result"
    }
   ],
   "source": [
    "g= df['direction']\n",
    "print(pd.concat([g.value_counts(), g.value_counts(normalize=True).mul(100)],axis=1, keys=('counts','percentage')))\n",
    "df.head(5)"
   ]
  }
 ],
 "metadata": {
  "kernelspec": {
   "display_name": "Python 3.6.6 64-bit",
   "language": "python",
   "name": "python36664bitab910dfda0bc43a8bf7df0c20d1c59f2"
  },
  "language_info": {
   "codemirror_mode": {
    "name": "ipython",
    "version": 3
   },
   "file_extension": ".py",
   "mimetype": "text/x-python",
   "name": "python",
   "nbconvert_exporter": "python",
   "pygments_lexer": "ipython3",
   "version": "3.6.6"
  }
 },
 "nbformat": 4,
 "nbformat_minor": 4
}
