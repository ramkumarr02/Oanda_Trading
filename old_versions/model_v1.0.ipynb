{
 "cells": [
  {
   "cell_type": "code",
   "execution_count": 1,
   "metadata": {
    "scrolled": true
   },
   "outputs": [],
   "source": [
    "import numpy as np\n",
    "import pandas as pd\n",
    "from tqdm import tqdm\n",
    "import winsound\n",
    "import datetime as dt\n",
    "\n",
    "import warnings\n",
    "warnings.filterwarnings('ignore')\n",
    "\n",
    "from sklearn.model_selection import train_test_split\n",
    "import tensorflow as tf"
   ]
  },
  {
   "cell_type": "code",
   "execution_count": 2,
   "metadata": {},
   "outputs": [
    {
     "name": "stdout",
     "output_type": "stream",
     "text": [
      "1\n"
     ]
    }
   ],
   "source": [
    "print(len(tf.config.experimental.list_physical_devices('GPU')))"
   ]
  },
  {
   "cell_type": "code",
   "execution_count": 3,
   "metadata": {},
   "outputs": [],
   "source": [
    "from tensorflow.python.client import device_lib"
   ]
  },
  {
   "cell_type": "code",
   "execution_count": 4,
   "metadata": {},
   "outputs": [],
   "source": [
    "def get_available_gpus():\n",
    "    local_device_protos = device_lib.list_local_devices()\n",
    "    return [x.name for x in local_device_protos if x.device_type == 'GPU']"
   ]
  },
  {
   "cell_type": "code",
   "execution_count": 5,
   "metadata": {},
   "outputs": [
    {
     "data": {
      "text/plain": [
       "['/device:GPU:0']"
      ]
     },
     "execution_count": 5,
     "metadata": {},
     "output_type": "execute_result"
    }
   ],
   "source": [
    "get_available_gpus()"
   ]
  },
  {
   "cell_type": "code",
   "execution_count": 6,
   "metadata": {},
   "outputs": [
    {
     "data": {
      "text/plain": [
       "[name: \"/device:CPU:0\"\n",
       " device_type: \"CPU\"\n",
       " memory_limit: 268435456\n",
       " locality {\n",
       " }\n",
       " incarnation: 16087699283490244510,\n",
       " name: \"/device:XLA_CPU:0\"\n",
       " device_type: \"XLA_CPU\"\n",
       " memory_limit: 17179869184\n",
       " locality {\n",
       " }\n",
       " incarnation: 5867584948661398603\n",
       " physical_device_desc: \"device: XLA_CPU device\",\n",
       " name: \"/device:GPU:0\"\n",
       " device_type: \"GPU\"\n",
       " memory_limit: 4817616896\n",
       " locality {\n",
       "   bus_id: 1\n",
       "   links {\n",
       "   }\n",
       " }\n",
       " incarnation: 5794572356511170841\n",
       " physical_device_desc: \"device: 0, name: GeForce RTX 2060, pci bus id: 0000:01:00.0, compute capability: 7.5\",\n",
       " name: \"/device:XLA_GPU:0\"\n",
       " device_type: \"XLA_GPU\"\n",
       " memory_limit: 17179869184\n",
       " locality {\n",
       " }\n",
       " incarnation: 12794644127913541795\n",
       " physical_device_desc: \"device: XLA_GPU device\"]"
      ]
     },
     "execution_count": 6,
     "metadata": {},
     "output_type": "execute_result"
    }
   ],
   "source": [
    "device_lib.list_local_devices()"
   ]
  },
  {
   "cell_type": "code",
   "execution_count": 7,
   "metadata": {},
   "outputs": [
    {
     "data": {
      "text/plain": [
       "[PhysicalDevice(name='/physical_device:GPU:0', device_type='GPU')]"
      ]
     },
     "execution_count": 7,
     "metadata": {},
     "output_type": "execute_result"
    }
   ],
   "source": [
    "tf.config.list_physical_devices('GPU')"
   ]
  },
  {
   "cell_type": "code",
   "execution_count": 8,
   "metadata": {},
   "outputs": [
    {
     "name": "stdout",
     "output_type": "stream",
     "text": [
      "WARNING:tensorflow:From <ipython-input-8-17bb7203622b>:1: is_gpu_available (from tensorflow.python.framework.test_util) is deprecated and will be removed in a future version.\n",
      "Instructions for updating:\n",
      "Use `tf.config.list_physical_devices('GPU')` instead.\n"
     ]
    },
    {
     "data": {
      "text/plain": [
       "True"
      ]
     },
     "execution_count": 8,
     "metadata": {},
     "output_type": "execute_result"
    }
   ],
   "source": [
    "tf.test.is_gpu_available()"
   ]
  },
  {
   "cell_type": "code",
   "execution_count": 9,
   "metadata": {},
   "outputs": [
    {
     "data": {
      "text/plain": [
       "'/device:GPU:0'"
      ]
     },
     "execution_count": 9,
     "metadata": {},
     "output_type": "execute_result"
    }
   ],
   "source": [
    "tf.test.gpu_device_name()"
   ]
  },
  {
   "cell_type": "code",
   "execution_count": 10,
   "metadata": {},
   "outputs": [
    {
     "name": "stdout",
     "output_type": "stream",
     "text": [
      "74446\n"
     ]
    },
    {
     "data": {
      "text/html": [
       "<div>\n",
       "<style scoped>\n",
       "    .dataframe tbody tr th:only-of-type {\n",
       "        vertical-align: middle;\n",
       "    }\n",
       "\n",
       "    .dataframe tbody tr th {\n",
       "        vertical-align: top;\n",
       "    }\n",
       "\n",
       "    .dataframe thead th {\n",
       "        text-align: right;\n",
       "    }\n",
       "</style>\n",
       "<table border=\"1\" class=\"dataframe\">\n",
       "  <thead>\n",
       "    <tr style=\"text-align: right;\">\n",
       "      <th></th>\n",
       "      <th>month</th>\n",
       "      <th>day</th>\n",
       "      <th>hour</th>\n",
       "      <th>min</th>\n",
       "      <th>0</th>\n",
       "      <th>1</th>\n",
       "      <th>2</th>\n",
       "      <th>3</th>\n",
       "      <th>4</th>\n",
       "      <th>5</th>\n",
       "      <th>...</th>\n",
       "      <th>51</th>\n",
       "      <th>52</th>\n",
       "      <th>53</th>\n",
       "      <th>54</th>\n",
       "      <th>55</th>\n",
       "      <th>56</th>\n",
       "      <th>57</th>\n",
       "      <th>58</th>\n",
       "      <th>59</th>\n",
       "      <th>direction</th>\n",
       "    </tr>\n",
       "  </thead>\n",
       "  <tbody>\n",
       "    <tr>\n",
       "      <th>0</th>\n",
       "      <td>1</td>\n",
       "      <td>1</td>\n",
       "      <td>22</td>\n",
       "      <td>2</td>\n",
       "      <td>1.14598</td>\n",
       "      <td>1.14607</td>\n",
       "      <td>1.14608</td>\n",
       "      <td>1.14607</td>\n",
       "      <td>1.14606</td>\n",
       "      <td>1.14606</td>\n",
       "      <td>...</td>\n",
       "      <td>1.14526</td>\n",
       "      <td>1.14497</td>\n",
       "      <td>1.14481</td>\n",
       "      <td>1.14492</td>\n",
       "      <td>1.14447</td>\n",
       "      <td>1.14452</td>\n",
       "      <td>1.14433</td>\n",
       "      <td>1.14443</td>\n",
       "      <td>1.14448</td>\n",
       "      <td>same</td>\n",
       "    </tr>\n",
       "    <tr>\n",
       "      <th>1</th>\n",
       "      <td>1</td>\n",
       "      <td>1</td>\n",
       "      <td>22</td>\n",
       "      <td>7</td>\n",
       "      <td>1.14607</td>\n",
       "      <td>1.14608</td>\n",
       "      <td>1.14607</td>\n",
       "      <td>1.14606</td>\n",
       "      <td>1.14606</td>\n",
       "      <td>1.14607</td>\n",
       "      <td>...</td>\n",
       "      <td>1.14497</td>\n",
       "      <td>1.14481</td>\n",
       "      <td>1.14492</td>\n",
       "      <td>1.14447</td>\n",
       "      <td>1.14452</td>\n",
       "      <td>1.14433</td>\n",
       "      <td>1.14443</td>\n",
       "      <td>1.14448</td>\n",
       "      <td>1.14458</td>\n",
       "      <td>same</td>\n",
       "    </tr>\n",
       "    <tr>\n",
       "      <th>2</th>\n",
       "      <td>1</td>\n",
       "      <td>1</td>\n",
       "      <td>22</td>\n",
       "      <td>12</td>\n",
       "      <td>1.14608</td>\n",
       "      <td>1.14607</td>\n",
       "      <td>1.14606</td>\n",
       "      <td>1.14606</td>\n",
       "      <td>1.14607</td>\n",
       "      <td>1.14607</td>\n",
       "      <td>...</td>\n",
       "      <td>1.14481</td>\n",
       "      <td>1.14492</td>\n",
       "      <td>1.14447</td>\n",
       "      <td>1.14452</td>\n",
       "      <td>1.14433</td>\n",
       "      <td>1.14443</td>\n",
       "      <td>1.14448</td>\n",
       "      <td>1.14458</td>\n",
       "      <td>1.14452</td>\n",
       "      <td>same</td>\n",
       "    </tr>\n",
       "    <tr>\n",
       "      <th>3</th>\n",
       "      <td>1</td>\n",
       "      <td>1</td>\n",
       "      <td>22</td>\n",
       "      <td>17</td>\n",
       "      <td>1.14607</td>\n",
       "      <td>1.14606</td>\n",
       "      <td>1.14606</td>\n",
       "      <td>1.14607</td>\n",
       "      <td>1.14607</td>\n",
       "      <td>1.14625</td>\n",
       "      <td>...</td>\n",
       "      <td>1.14492</td>\n",
       "      <td>1.14447</td>\n",
       "      <td>1.14452</td>\n",
       "      <td>1.14433</td>\n",
       "      <td>1.14443</td>\n",
       "      <td>1.14448</td>\n",
       "      <td>1.14458</td>\n",
       "      <td>1.14452</td>\n",
       "      <td>1.14452</td>\n",
       "      <td>increase</td>\n",
       "    </tr>\n",
       "    <tr>\n",
       "      <th>4</th>\n",
       "      <td>1</td>\n",
       "      <td>1</td>\n",
       "      <td>22</td>\n",
       "      <td>22</td>\n",
       "      <td>1.14606</td>\n",
       "      <td>1.14606</td>\n",
       "      <td>1.14607</td>\n",
       "      <td>1.14607</td>\n",
       "      <td>1.14625</td>\n",
       "      <td>1.14628</td>\n",
       "      <td>...</td>\n",
       "      <td>1.14447</td>\n",
       "      <td>1.14452</td>\n",
       "      <td>1.14433</td>\n",
       "      <td>1.14443</td>\n",
       "      <td>1.14448</td>\n",
       "      <td>1.14458</td>\n",
       "      <td>1.14452</td>\n",
       "      <td>1.14452</td>\n",
       "      <td>1.14464</td>\n",
       "      <td>same</td>\n",
       "    </tr>\n",
       "  </tbody>\n",
       "</table>\n",
       "<p>5 rows × 65 columns</p>\n",
       "</div>"
      ],
      "text/plain": [
       "   month  day  hour  min        0        1        2        3        4  \\\n",
       "0      1    1    22    2  1.14598  1.14607  1.14608  1.14607  1.14606   \n",
       "1      1    1    22    7  1.14607  1.14608  1.14607  1.14606  1.14606   \n",
       "2      1    1    22   12  1.14608  1.14607  1.14606  1.14606  1.14607   \n",
       "3      1    1    22   17  1.14607  1.14606  1.14606  1.14607  1.14607   \n",
       "4      1    1    22   22  1.14606  1.14606  1.14607  1.14607  1.14625   \n",
       "\n",
       "         5  ...       51       52       53       54       55       56  \\\n",
       "0  1.14606  ...  1.14526  1.14497  1.14481  1.14492  1.14447  1.14452   \n",
       "1  1.14607  ...  1.14497  1.14481  1.14492  1.14447  1.14452  1.14433   \n",
       "2  1.14607  ...  1.14481  1.14492  1.14447  1.14452  1.14433  1.14443   \n",
       "3  1.14625  ...  1.14492  1.14447  1.14452  1.14433  1.14443  1.14448   \n",
       "4  1.14628  ...  1.14447  1.14452  1.14433  1.14443  1.14448  1.14458   \n",
       "\n",
       "        57       58       59  direction  \n",
       "0  1.14433  1.14443  1.14448       same  \n",
       "1  1.14443  1.14448  1.14458       same  \n",
       "2  1.14448  1.14458  1.14452       same  \n",
       "3  1.14458  1.14452  1.14452   increase  \n",
       "4  1.14452  1.14452  1.14464       same  \n",
       "\n",
       "[5 rows x 65 columns]"
      ]
     },
     "execution_count": 10,
     "metadata": {},
     "output_type": "execute_result"
    }
   ],
   "source": [
    "df = pd.read_csv('data/rolled_df.csv')\n",
    "print(len(df))\n",
    "df.head()"
   ]
  },
  {
   "cell_type": "code",
   "execution_count": 11,
   "metadata": {},
   "outputs": [],
   "source": [
    "mapping = {'decrease': 0, 'same': 1, 'increase': 2}\n",
    "df = df.replace({'direction': mapping})"
   ]
  },
  {
   "cell_type": "code",
   "execution_count": 12,
   "metadata": {},
   "outputs": [],
   "source": [
    "target_col = 'direction'"
   ]
  },
  {
   "cell_type": "code",
   "execution_count": 13,
   "metadata": {},
   "outputs": [],
   "source": [
    "train_x, valid_x, train_y, valid_y = train_test_split(df.loc[:, df.columns != target_col], df[target_col],train_size = 0.8,random_state = 1)"
   ]
  },
  {
   "cell_type": "code",
   "execution_count": 14,
   "metadata": {},
   "outputs": [],
   "source": [
    "Layer_nodes = 512"
   ]
  },
  {
   "cell_type": "code",
   "execution_count": 15,
   "metadata": {},
   "outputs": [],
   "source": [
    "model = tf.keras.Sequential([\n",
    "  tf.keras.layers.Dense(Layer_nodes, activation='relu', input_shape=[len(train_x.keys())]),\n",
    "  tf.keras.layers.Dense(Layer_nodes, activation='relu'),              \n",
    "  tf.keras.layers.Dense(Layer_nodes, activation='relu'),      \n",
    "  tf.keras.layers.Dense(Layer_nodes, activation='relu'),      \n",
    "  tf.keras.layers.Dense(Layer_nodes, activation='relu'),      \n",
    "  tf.keras.layers.Dense(1, activation='sigmoid')\n",
    "])"
   ]
  },
  {
   "cell_type": "code",
   "execution_count": 16,
   "metadata": {},
   "outputs": [],
   "source": [
    "model.compile(\n",
    "    loss='binary_crossentropy',\n",
    "    optimizer='adam',    \n",
    "    metrics=['accuracy'])"
   ]
  },
  {
   "cell_type": "code",
   "execution_count": 17,
   "metadata": {},
   "outputs": [],
   "source": [
    "epoch_val = 3"
   ]
  },
  {
   "cell_type": "code",
   "execution_count": 18,
   "metadata": {
    "scrolled": true
   },
   "outputs": [
    {
     "name": "stdout",
     "output_type": "stream",
     "text": [
      "Epoch 1/3\n",
      "1862/1862 [==============================] - 4s 2ms/step - loss: 7.3088 - accuracy: 0.5458\n",
      "Epoch 2/3\n",
      "1862/1862 [==============================] - 4s 2ms/step - loss: 2.9888 - accuracy: 0.5461\n",
      "Epoch 3/3\n",
      "1862/1862 [==============================] - 4s 2ms/step - loss: 2.3490 - accuracy: 0.5461\n"
     ]
    },
    {
     "data": {
      "text/plain": [
       "<tensorflow.python.keras.callbacks.History at 0x1fa85c66668>"
      ]
     },
     "execution_count": 18,
     "metadata": {},
     "output_type": "execute_result"
    }
   ],
   "source": [
    "model.fit(train_x, train_y, epochs=epoch_val)"
   ]
  },
  {
   "cell_type": "code",
   "execution_count": 19,
   "metadata": {},
   "outputs": [
    {
     "name": "stdout",
     "output_type": "stream",
     "text": [
      "466/466 [==============================] - 1s 2ms/step - loss: -2.5132 - accuracy: 0.5415\n",
      "Test Loss -2.513206958770752\n",
      "Test Accuracy 0.5415043830871582\n"
     ]
    }
   ],
   "source": [
    "test_loss, test_accuracy = model.evaluate(valid_x, valid_y)\n",
    "print(f'Test Loss {test_loss}')\n",
    "print(f'Test Accuracy {test_accuracy}')"
   ]
  },
  {
   "cell_type": "code",
   "execution_count": 20,
   "metadata": {},
   "outputs": [],
   "source": [
    "from sklearn.ensemble import RandomForestClassifier\n",
    "from sklearn.metrics import classification_report"
   ]
  },
  {
   "cell_type": "code",
   "execution_count": null,
   "metadata": {},
   "outputs": [],
   "source": [
    "clf = RandomForestClassifier()\n",
    "clf.fit(train_x, train_y)"
   ]
  },
  {
   "cell_type": "code",
   "execution_count": null,
   "metadata": {},
   "outputs": [],
   "source": [
    "target_names = ['decrease', 'same', 'increase']\n",
    "print(classification_report(valid_y, clf.predict(valid_x),target_names=target_names))"
   ]
  },
  {
   "cell_type": "markdown",
   "metadata": {},
   "source": [
    "from keras import backend as K \n",
    "K.tensorflow_backend._get_available_gpus() "
   ]
  },
  {
   "cell_type": "markdown",
   "metadata": {},
   "source": [
    "config = tf.ConfigProto( device_count = {'GPU': 1 , 'CPU': 56} ) \n",
    "sess = tf.Session(config=config) \n",
    "keras.backend.set_session(sess)"
   ]
  },
  {
   "cell_type": "markdown",
   "metadata": {},
   "source": [
    "config = tf.ConfigProto( device_count = {'GPU': 1 , 'CPU': 56} ) \n",
    "sess = tf.Session(config=config) \n",
    "keras.backend.set_session(sess)"
   ]
  },
  {
   "cell_type": "markdown",
   "metadata": {
    "scrolled": true
   },
   "source": [
    "from tensorflow.python.client import device_lib\n",
    "print(device_lib.list_local_devices())"
   ]
  }
 ],
 "metadata": {
  "kernelspec": {
   "display_name": "Python 3.6.6 64-bit",
   "language": "python",
   "name": "python36664bitab910dfda0bc43a8bf7df0c20d1c59f2"
  },
  "language_info": {
   "codemirror_mode": {
    "name": "ipython",
    "version": 3
   },
   "file_extension": ".py",
   "mimetype": "text/x-python",
   "name": "python",
   "nbconvert_exporter": "python",
   "pygments_lexer": "ipython3",
   "version": "3.6.6"
  }
 },
 "nbformat": 4,
 "nbformat_minor": 4
}
