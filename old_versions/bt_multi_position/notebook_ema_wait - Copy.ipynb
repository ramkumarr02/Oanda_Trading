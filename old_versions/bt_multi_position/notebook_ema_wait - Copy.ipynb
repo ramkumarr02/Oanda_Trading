{
 "cells": [
  {
   "cell_type": "markdown",
   "metadata": {},
   "source": [
    "# ML Trader"
   ]
  },
  {
   "cell_type": "code",
   "execution_count": 1,
   "metadata": {
    "scrolled": true
   },
   "outputs": [],
   "source": [
    "from utils.packages import *\n",
    "from utils.variables import *\n",
    "from utils.i_o import *\n",
    "from utils.dir_slope import *\n",
    "from utils.engine import *\n",
    "from utils.loops import *\n",
    "from utils.order import *\n",
    "import winsound"
   ]
  },
  {
   "cell_type": "code",
   "execution_count": 2,
   "metadata": {
    "scrolled": false
   },
   "outputs": [
    {
     "name": "stderr",
     "output_type": "stream",
     "text": [
      "\r",
      "100%|████████████████████████████▉| 1925877/1928365 [02:02<00:00, 13977.18it/s]"
     ]
    },
    {
     "name": "stdout",
     "output_type": "stream",
     "text": [
      "pls    0.04528\n",
      "dtype: float64\n",
      "--------------------------------------\n",
      "                   date ord_types               close_type      pls\n",
      "285 2021-01-29 09:02:53     short                all_close -0.00167\n",
      "286 2021-01-29 09:02:53     short                all_close  0.00170\n",
      "287 2021-01-29 10:25:19     short                all_close -0.00165\n",
      "288 2021-01-29 10:25:19     short                all_close  0.00165\n",
      "289 2021-01-29 11:03:12      long  simple_slema_move_close  0.00050\n",
      "290 2021-01-29 13:00:59     short  simple_slema_move_close  0.00001\n",
      "291 2021-01-29 15:45:53      long                all_close -0.00238\n",
      "292 2021-01-29 15:45:53      long                all_close -0.00180\n",
      "293 2021-01-29 15:45:53      long                all_close  0.00030\n",
      "294 2021-01-29 15:45:53      long                all_close  0.00390\n",
      "295 2021-01-29 15:56:12      long  simple_slema_move_close  0.00043\n",
      "296 2021-01-29 16:19:12     short  simple_slema_move_close  0.00022\n",
      "297 2021-01-29 19:39:00     short  simple_slema_move_close  0.00002\n",
      "298 2021-01-31 22:56:49     short  simple_slema_move_close  0.00001\n",
      "299 2021-01-31 23:07:54     short  simple_slema_move_close  0.00001\n"
     ]
    },
    {
     "name": "stderr",
     "output_type": "stream",
     "text": [
      "100%|█████████████████████████████| 1928365/1928365 [02:02<00:00, 15770.96it/s]"
     ]
    },
    {
     "name": "stdout",
     "output_type": "stream",
     "text": [
      "Wall time: 2min 46s\n"
     ]
    },
    {
     "name": "stderr",
     "output_type": "stream",
     "text": [
      "\n"
     ]
    }
   ],
   "source": [
    "%%time\n",
    "data = get_date_list(data)\n",
    "data = run_engine(data)"
   ]
  },
  {
   "cell_type": "code",
   "execution_count": 3,
   "metadata": {},
   "outputs": [],
   "source": [
    "data['temp_df']['open_order'] = data['open_order_temp_list']\n",
    "data['temp_df']['pl'] = data['pl_temp_list'] \n",
    "data['temp_df'].to_csv('data/temp.csv')"
   ]
  },
  {
   "cell_type": "code",
   "execution_count": 4,
   "metadata": {},
   "outputs": [
    {
     "data": {
      "text/plain": [
       "-0.07159"
      ]
     },
     "execution_count": 4,
     "metadata": {},
     "output_type": "execute_result"
    }
   ],
   "source": [
    "min(data['temp_df']['pl'])"
   ]
  },
  {
   "cell_type": "code",
   "execution_count": 5,
   "metadata": {},
   "outputs": [
    {
     "data": {
      "text/plain": [
       "0.00279"
      ]
     },
     "execution_count": 5,
     "metadata": {},
     "output_type": "execute_result"
    }
   ],
   "source": [
    "max(data['temp_df']['pl'])"
   ]
  },
  {
   "cell_type": "code",
   "execution_count": 6,
   "metadata": {},
   "outputs": [
    {
     "data": {
      "text/plain": [
       "4"
      ]
     },
     "execution_count": 6,
     "metadata": {},
     "output_type": "execute_result"
    }
   ],
   "source": [
    "max(data['temp_df']['open_order'])"
   ]
  },
  {
   "cell_type": "code",
   "execution_count": 7,
   "metadata": {},
   "outputs": [
    {
     "data": {
      "text/plain": [
       "datetime.datetime(2021, 1, 31, 23, 59, 53)"
      ]
     },
     "execution_count": 7,
     "metadata": {},
     "output_type": "execute_result"
    }
   ],
   "source": [
    "data['dt_val']"
   ]
  },
  {
   "cell_type": "code",
   "execution_count": 8,
   "metadata": {
    "scrolled": false
   },
   "outputs": [
    {
     "data": {
      "text/plain": [
       "{'total_pl': 0,\n",
       " 'pl_list': [],\n",
       " 1: {'open_order_type': 'short', 'bid': 1.21236, 'pl': 1e-05}}"
      ]
     },
     "execution_count": 8,
     "metadata": {},
     "output_type": "execute_result"
    }
   ],
   "source": [
    "data['orders_list']"
   ]
  },
  {
   "cell_type": "code",
   "execution_count": 9,
   "metadata": {
    "scrolled": false
   },
   "outputs": [
    {
     "name": "stdout",
     "output_type": "stream",
     "text": [
      "-----------------------------------------------------\n",
      "==============================\n",
      "Total PL : 0.04528000000000004\n",
      "-------------\n",
      "net_pl            : 0.04528/0.20106\n",
      "-------------\n",
      "+ve               : num= 255    sum= +0.12317    avg= +0.00048\n",
      "-ve               : num= 45    sum= -0.07789    avg= -0.00173\n",
      "==============================\n",
      "-----------------------------------------------------\n",
      "month_val\n",
      "1    0.04528\n",
      "Name: pls, dtype: float64\n",
      "-----------------------------------------------------\n",
      "simple_slema_move_close    216\n",
      "all_close                   84\n",
      "Name: close_type, dtype: int64\n",
      "-----------------------------------------------------\n"
     ]
    }
   ],
   "source": [
    "if data[\"plot\"]:\n",
    "    data = adjust_plot_list_lengths(data)\n",
    "    plot_graph(data)\n",
    "    \n",
    "print('-----------------------------------------------------')\n",
    "print_report(data)\n",
    "print('-----------------------------------------------------')\n",
    "print(data['report_df'].groupby(['month_val'])['pls'].sum())\n",
    "print('-----------------------------------------------------')\n",
    "print(data['report_df']['close_type'].value_counts())\n",
    "print('-----------------------------------------------------')\n",
    "winsound.PlaySound('C:\\\\Windows\\\\Media\\\\tada.wav', winsound.SND_ASYNC)"
   ]
  },
  {
   "cell_type": "code",
   "execution_count": 10,
   "metadata": {},
   "outputs": [
    {
     "data": {
      "text/plain": [
       "date_val\n",
       "3     0.00002\n",
       "4     0.00085\n",
       "5     0.00079\n",
       "6     0.00299\n",
       "7     0.00395\n",
       "8     0.00735\n",
       "10    0.00078\n",
       "11    0.00215\n",
       "12    0.00259\n",
       "13    0.00209\n",
       "14    0.00237\n",
       "15    0.00106\n",
       "18    0.00041\n",
       "19    0.00069\n",
       "20    0.00267\n",
       "21    0.00090\n",
       "22    0.00075\n",
       "25    0.00093\n",
       "26    0.00226\n",
       "27    0.00467\n",
       "28    0.00367\n",
       "29    0.00132\n",
       "31    0.00002\n",
       "Name: pls, dtype: float64"
      ]
     },
     "execution_count": 10,
     "metadata": {},
     "output_type": "execute_result"
    }
   ],
   "source": [
    "data['report_df'].groupby(['date_val'])['pls'].sum()"
   ]
  },
  {
   "cell_type": "code",
   "execution_count": 11,
   "metadata": {
    "scrolled": false
   },
   "outputs": [],
   "source": [
    "winsound.PlaySound('C:\\\\Windows\\\\Media\\\\tada.wav', winsound.SND_ASYNC)\n",
    "send_telegram_message(f'Run Complete : {data[\"df_name\"]}')"
   ]
  },
  {
   "cell_type": "code",
   "execution_count": 12,
   "metadata": {},
   "outputs": [
    {
     "data": {
      "text/plain": [
       "close_type\n",
       "all_close                  0.000048\n",
       "simple_slema_move_close    0.000191\n",
       "Name: pls, dtype: float64"
      ]
     },
     "execution_count": 12,
     "metadata": {},
     "output_type": "execute_result"
    }
   ],
   "source": [
    "data['report_df'].groupby(['close_type'])['pls'].mean()"
   ]
  },
  {
   "cell_type": "code",
   "execution_count": 13,
   "metadata": {},
   "outputs": [
    {
     "data": {
      "text/plain": [
       "close_type\n",
       "all_close                  0.00406\n",
       "simple_slema_move_close    0.04122\n",
       "Name: pls, dtype: float64"
      ]
     },
     "execution_count": 13,
     "metadata": {},
     "output_type": "execute_result"
    }
   ],
   "source": [
    "data['report_df'].groupby(['close_type'])['pls'].sum()"
   ]
  },
  {
   "cell_type": "code",
   "execution_count": 14,
   "metadata": {},
   "outputs": [
    {
     "data": {
      "text/plain": [
       "close_type\n",
       "all_close                   84\n",
       "simple_slema_move_close    216\n",
       "Name: pls, dtype: int64"
      ]
     },
     "execution_count": 14,
     "metadata": {},
     "output_type": "execute_result"
    }
   ],
   "source": [
    "data['report_df'].groupby(['close_type'])['pls'].count()"
   ]
  },
  {
   "cell_type": "code",
   "execution_count": 15,
   "metadata": {},
   "outputs": [
    {
     "name": "stdout",
     "output_type": "stream",
     "text": [
      "Average pips per day : 0.002\n"
     ]
    }
   ],
   "source": [
    "x = np.round(data['report_df'].groupby(['month_val', 'date_val'])['pls'].sum().values.mean(),4)\n",
    "print(f'Average pips per day : {x}')"
   ]
  },
  {
   "cell_type": "code",
   "execution_count": 16,
   "metadata": {},
   "outputs": [
    {
     "name": "stdout",
     "output_type": "stream",
     "text": [
      "Average orders per day : 13.043478260869565\n"
     ]
    }
   ],
   "source": [
    "x = data['report_df'].groupby(['month_val', 'date_val'])['pls'].count().values.mean()\n",
    "print(f'Average orders per day : {x}')"
   ]
  },
  {
   "cell_type": "code",
   "execution_count": 17,
   "metadata": {},
   "outputs": [
    {
     "data": {
      "text/plain": [
       "1    216\n",
       "2     17\n",
       "4      8\n",
       "3      6\n",
       "Name: date, dtype: int64"
      ]
     },
     "execution_count": 17,
     "metadata": {},
     "output_type": "execute_result"
    }
   ],
   "source": [
    "data['report_df'].groupby(['date'])['date'].count().value_counts().sort_values(ascending=False)"
   ]
  },
  {
   "cell_type": "code",
   "execution_count": 18,
   "metadata": {},
   "outputs": [
    {
     "data": {
      "text/plain": [
       "222   2 days 09:43:46\n",
       "298   2 days 01:39:58\n",
       "210   0 days 07:42:39\n",
       "152   0 days 07:24:52\n",
       "180   0 days 07:21:44\n",
       "            ...      \n",
       "125   0 days 00:00:25\n",
       "294   0 days 00:00:20\n",
       "26    0 days 00:00:19\n",
       "39    0 days 00:00:19\n",
       "95    0 days 00:00:10\n",
       "Name: duration, Length: 300, dtype: timedelta64[ns]"
      ]
     },
     "execution_count": 18,
     "metadata": {},
     "output_type": "execute_result"
    }
   ],
   "source": [
    "data['report_df']['duration'].sort_values(ascending=False)"
   ]
  }
 ],
 "metadata": {
  "kernelspec": {
   "display_name": "Python 3",
   "language": "python",
   "name": "python3"
  },
  "language_info": {
   "codemirror_mode": {
    "name": "ipython",
    "version": 3
   },
   "file_extension": ".py",
   "mimetype": "text/x-python",
   "name": "python",
   "nbconvert_exporter": "python",
   "pygments_lexer": "ipython3",
   "version": "3.6.6"
  }
 },
 "nbformat": 4,
 "nbformat_minor": 4
}
