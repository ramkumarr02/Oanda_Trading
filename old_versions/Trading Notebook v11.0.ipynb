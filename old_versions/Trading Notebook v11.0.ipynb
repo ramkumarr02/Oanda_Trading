{
 "cells": [
  {
   "cell_type": "markdown",
   "metadata": {},
   "source": [
    "# Oanda Demo Trading Notebook"
   ]
  },
  {
   "cell_type": "markdown",
   "metadata": {},
   "source": [
    "## Packages"
   ]
  },
  {
   "cell_type": "markdown",
   "metadata": {},
   "source": [
    "### Normal Packages"
   ]
  },
  {
   "cell_type": "code",
   "execution_count": 1,
   "metadata": {},
   "outputs": [],
   "source": [
    "import numpy as np\n",
    "import pandas as pd\n",
    "\n",
    "import yaml\n",
    "import json\n",
    "\n",
    "import sys\n",
    "import time\n",
    "import pytz\n",
    "import datetime\n",
    "import winsound\n",
    "import collections\n",
    "\n",
    "from tqdm import tqdm\n",
    "\n",
    "import warnings\n",
    "warnings.filterwarnings('ignore')"
   ]
  },
  {
   "cell_type": "markdown",
   "metadata": {},
   "source": [
    "### Oanda Packages"
   ]
  },
  {
   "cell_type": "code",
   "execution_count": 2,
   "metadata": {},
   "outputs": [],
   "source": [
    "from oandapyV20 import API\n",
    "import oandapyV20.endpoints.orders as orders\n",
    "import oandapyV20.endpoints.trades as trades\n",
    "import oandapyV20.endpoints.pricing as pricing\n",
    "import oandapyV20.endpoints.accounts as accounts\n",
    "import oandapyV20.endpoints.transactions as trans\n",
    "import oandapyV20.endpoints.positions as positions\n",
    "\n",
    "import oandapyV20.definitions.pricing as defpricing\n",
    "\n",
    "import oandapyV20.endpoints.instruments as instruments\n",
    "\n",
    "from oandapyV20.contrib.requests import (MarketOrderRequest, StopLossDetails)"
   ]
  },
  {
   "cell_type": "markdown",
   "metadata": {},
   "source": [
    "### Custom packages"
   ]
  },
  {
   "cell_type": "code",
   "execution_count": 3,
   "metadata": {},
   "outputs": [],
   "source": [
    "from utils.tools import get_date_time\n",
    "from utils.tools import get_prices\n",
    "from utils.tools import calc_duration"
   ]
  },
  {
   "cell_type": "markdown",
   "metadata": {},
   "source": [
    "## Tools"
   ]
  },
  {
   "cell_type": "code",
   "execution_count": 4,
   "metadata": {},
   "outputs": [],
   "source": [
    "def run_currency_num_check(accountID, currencies, iter_num):\n",
    "    for i, instrument in enumerate(currencies['currs']):        \n",
    "        pip_size = currencies['currs'][instrument]['pip_size']\n",
    "        pip_gap = currencies['currs'][instrument]['pip_gap']\n",
    "        num = get_min_trans_num(instrument, accountID, iter_num, pip_gap, pip_size)\n",
    "        print(f'instrument : {instrument}, num : {num}, pip_size : {pip_size}')\n",
    "    return()"
   ]
  },
  {
   "cell_type": "code",
   "execution_count": 5,
   "metadata": {},
   "outputs": [],
   "source": [
    "def make_order(accountID, stop_price, instrument, units):\n",
    "    stopLossOnFill = StopLossDetails(price=stop_price)\n",
    "\n",
    "    ordr = MarketOrderRequest(\n",
    "        instrument = instrument,\n",
    "        units=units,\n",
    "        stopLossOnFill=stopLossOnFill.data)\n",
    "\n",
    "    r = orders.OrderCreate(accountID, data=ordr.data)\n",
    "    rv = api.request(r)\n",
    "    return(rv)"
   ]
  },
  {
   "cell_type": "code",
   "execution_count": 6,
   "metadata": {},
   "outputs": [],
   "source": [
    "def close_order(accountID, order_type, instrument):\n",
    "    data_long = {\"longUnits\": \"ALL\"}\n",
    "    data_short = {\"shortUnits\": \"ALL\"}\n",
    "    \n",
    "    if order_type == 'long':\n",
    "        data = data_long\n",
    "    elif order_type == 'short':\n",
    "        data = data_short\n",
    "        \n",
    "    r = positions.PositionClose(accountID=accountID,\n",
    "                                instrument=instrument,\n",
    "                                data=data)\n",
    "    rv = api.request(r)\n",
    "    return(rv)"
   ]
  },
  {
   "cell_type": "code",
   "execution_count": 7,
   "metadata": {},
   "outputs": [],
   "source": [
    "def get_loss_limits(min_trans_num, loss_limits):\n",
    "    dividing_val = 1\n",
    "    per_list = list(loss_limits.keys())\n",
    "    \n",
    "    for i, val in enumerate(per_list):\n",
    "        dividing_val = 100/val\n",
    "        loss_limits[val]['half_min_trans_num'] = (round((min_trans_num/dividing_val),0))*(-1)\n",
    "    return(loss_limits)"
   ]
  },
  {
   "cell_type": "code",
   "execution_count": 8,
   "metadata": {
    "scrolled": true
   },
   "outputs": [],
   "source": [
    "def get_min_trans_num(instrument,accountID,iter_num, pip_gap, pip_size):\n",
    "    pip_gap = pip_gap * pip_size\n",
    "    \n",
    "    price_df = pd.DataFrame()\n",
    "    diff = 0\n",
    "    ticks = []\n",
    "    iter_req = []\n",
    "    params = {'instruments': instrument}\n",
    "\n",
    "    r = pricing.PricingStream(accountID=accountID, params=params)\n",
    "    rv = api.request(r)\n",
    "    \n",
    "\n",
    "    for i, resp in tqdm(enumerate(rv)):    \n",
    "        resp_type = resp['type']\n",
    "        if resp_type == 'HEARTBEAT': # Heart beat response to keep the api connection alive (Avoid timeout)\n",
    "            pass\n",
    "\n",
    "        else:\n",
    "            if i < iter_num:\n",
    "                date_val, time_val, time_fraction = get_date_time(resp) # Get time stamp for reference            \n",
    "                sell_price, buy_price, spread, tick_price = get_prices(resp) # Get prices from the response                      \n",
    "                ticks.append(tick_price)\n",
    "\n",
    "            else:\n",
    "                break\n",
    "\n",
    "    price_df['tick_price'] = ticks\n",
    "\n",
    "\n",
    "    for i, ival in enumerate(price_df['tick_price']):\n",
    "        for j, jval in enumerate(price_df['tick_price']):\n",
    "            if i == j:\n",
    "                pass\n",
    "            elif j > i:\n",
    "                diff = abs(jval - ival)\n",
    "                if diff >= pip_gap:\n",
    "                    iter_req.append(j-i)\n",
    "                    break\n",
    "            else:\n",
    "                pass\n",
    "    \n",
    "    #print(iter_req)\n",
    "    min_trans = round(np.mean(iter_req),0)\n",
    "    return(np.mean(min_trans))"
   ]
  },
  {
   "cell_type": "markdown",
   "metadata": {},
   "source": [
    "## Direction Engine"
   ]
  },
  {
   "cell_type": "code",
   "execution_count": 9,
   "metadata": {},
   "outputs": [],
   "source": [
    "def get_direction(df_reached_targets, target_num,  min_count, pip_position, min_count_mulitplier):\n",
    "    tot_pos = sum(df_reached_targets['positive'] * df_reached_targets['target_num'])\n",
    "    tot_neg = sum(df_reached_targets['negative'] * df_reached_targets['target_num'])\n",
    "\n",
    "    if ((tot_pos+1) / (tot_neg+1)) > min_count and tot_pos > (round((min_count * min_count_mulitplier),0)) and df_reached_targets['positive'][pip_position] > 0:\n",
    "        direction = 'positive'\n",
    "\n",
    "    elif ((tot_neg+1) / (tot_pos+1)) > min_count and tot_neg > (round((min_count * min_count_mulitplier),0)) and df_reached_targets['negative'][pip_position] > 0:\n",
    "        direction = 'negative'\n",
    "        \n",
    "    else:\n",
    "        direction = 'no_direction'\n",
    "    \n",
    "    return(direction)"
   ]
  },
  {
   "cell_type": "code",
   "execution_count": 10,
   "metadata": {},
   "outputs": [],
   "source": [
    "def get_targets(start_price, target_num, pip_size, pip_gap):\n",
    "    positive_targets = {}\n",
    "    negative_targets = {}\n",
    "    \n",
    "    for i in range(target_num):\n",
    "        move_val = pip_size*(i+1)*pip_gap\n",
    "        positive_targets[i] = start_price + move_val\n",
    "        negative_targets[i] = start_price - move_val\n",
    "        \n",
    "    return(positive_targets, negative_targets)"
   ]
  },
  {
   "cell_type": "code",
   "execution_count": 11,
   "metadata": {
    "scrolled": true
   },
   "outputs": [],
   "source": [
    "def run_direction_engine(accountID, instrument, num, target_num, min_count, pip_size, pip_gap, min_count_mulitplier): \n",
    "    print(f'Finding Market Direction with min trans of {num}...')\n",
    "    \n",
    "    params = {'instruments': instrument}\n",
    "    \n",
    "    reached_targets = {'start_price' : 0,\n",
    "                       'target_num' : 0,\n",
    "                       'positive_val' : 0,\n",
    "                       'negative_val' : 0,\n",
    "                       'positive' : 0,\n",
    "                       'p_duration' : '',\n",
    "                       'n_duration' : '',\n",
    "                       'negative' : 0}\n",
    "\n",
    "    pos_target_flag = 'not_reached'\n",
    "    neg_target_flag = 'not_reached'\n",
    "    first_run_flag = 0\n",
    "    #pip_position = pip_gap - 1\n",
    "    pip_position = 0\n",
    "    \n",
    "    df_reached_targets = pd.DataFrame()\n",
    "    tick_list = []\n",
    "\n",
    "    \n",
    "    \n",
    "    r = pricing.PricingStream(accountID=accountID, params=params)\n",
    "    rv = api.request(r)\n",
    "\n",
    "    start_time = time.time()\n",
    "\n",
    "    for i, resp in tqdm(enumerate(rv)):\n",
    "\n",
    "        if i < num: # Check if we are within the required number of price iterations               \n",
    "            resp_type = resp['type']       \n",
    "\n",
    "            if resp_type == 'HEARTBEAT': # Heart beat response to keep the api connection alive (Avoid timeout)\n",
    "                pass\n",
    "                #print(resp_type)\n",
    "\n",
    "            elif resp_type == 'PRICE': # Check whether it is a price response                 \n",
    "                date_val, time_val, time_fraction = get_date_time(resp) # Get time stamp for reference            \n",
    "                sell_price, buy_price, spread, tick_price = get_prices(resp) # Get prices from the response                      \n",
    "                tick_list.append(tick_price)\n",
    "\n",
    "                if first_run_flag == 0:\n",
    "                    positive_targets, negative_targets = get_targets(tick_price, target_num, pip_size, pip_gap)\n",
    "                    first_run_flag = 1\n",
    "                    for j in range(target_num):\n",
    "                        df_reached_targets = df_reached_targets.append(reached_targets, ignore_index = True)\n",
    "                        df_reached_targets.loc[df_reached_targets.index[j], 'target_num'] = j+1\n",
    "                        df_reached_targets.loc[df_reached_targets.index[j], 'start_price'] = tick_price\n",
    "                        df_reached_targets.loc[df_reached_targets.index[j], 'positive_val'] = positive_targets[j]\n",
    "                        df_reached_targets.loc[df_reached_targets.index[j], 'negative_val'] = negative_targets[j]\n",
    "\n",
    "                for k in range(target_num):\n",
    "                    if tick_price >= positive_targets[k]:\n",
    "                        price_diff = tick_price - df_reached_targets.loc[df_reached_targets.index[k], 'start_price']\n",
    "                        df_reached_targets.loc[df_reached_targets.index[k], 'positive'] += (price_diff * 10000)\n",
    "                        \n",
    "                        if pos_target_flag == 'not_reached':\n",
    "                            end_time = time.time()    \n",
    "                            duration = calc_duration(start_time, end_time)\n",
    "                            df_reached_targets.loc[df_reached_targets.index[k], 'p_duration'] = duration\n",
    "                            pos_target_flag = 'reached'\n",
    "\n",
    "                    if tick_price <= negative_targets[k]:\n",
    "                        price_diff = df_reached_targets.loc[df_reached_targets.index[k], 'start_price'] - tick_price\n",
    "                        df_reached_targets.loc[df_reached_targets.index[k], 'negative'] += (price_diff * 10000)\n",
    "\n",
    "                        if neg_target_flag == 'not_reached':\n",
    "                            end_time = time.time()    \n",
    "                            duration = calc_duration(start_time, end_time)\n",
    "                            df_reached_targets.loc[df_reached_targets.index[k], 'n_duration'] = duration\n",
    "                            neg_target_flag = 'reached'\n",
    "\n",
    "        else: # Crossed the required number of price iterations\n",
    "            try:\n",
    "                r.terminate(message = \"maxrecs records received\")\n",
    "            except:\n",
    "                pass\n",
    "\n",
    "    df_reached_targets =  df_reached_targets[['start_price', 'target_num', 'positive_val', 'negative_val','positive', 'negative','p_duration','n_duration']]\n",
    "\n",
    "    df_reached_targets.loc[df_reached_targets.index[0], 'positive'] = df_reached_targets.loc[df_reached_targets.index[0], 'positive'] - df_reached_targets.loc[df_reached_targets.index[1], 'positive']\n",
    "    df_reached_targets.loc[df_reached_targets.index[1], 'positive'] = df_reached_targets.loc[df_reached_targets.index[1], 'positive'] - df_reached_targets.loc[df_reached_targets.index[2], 'positive']\n",
    "    df_reached_targets.loc[df_reached_targets.index[0], 'negative'] = df_reached_targets.loc[df_reached_targets.index[0], 'negative'] - df_reached_targets.loc[df_reached_targets.index[1], 'negative']\n",
    "    df_reached_targets.loc[df_reached_targets.index[1], 'negative'] = df_reached_targets.loc[df_reached_targets.index[1], 'negative'] - df_reached_targets.loc[df_reached_targets.index[2], 'negative']\n",
    "    \n",
    "    direction = get_direction(df_reached_targets, target_num, min_count, pip_position, min_count_mulitplier)\n",
    "\n",
    "    #winsound.PlaySound('C:\\\\Windows\\\\Media\\\\tada.wav', winsound.SND_ASYNC) \n",
    "    return(direction, df_reached_targets, tick_list)"
   ]
  },
  {
   "cell_type": "code",
   "execution_count": 12,
   "metadata": {},
   "outputs": [],
   "source": [
    "def run_order_engine(accountID, instrument, direction, profit_target_num, loss_limit_num, price_allowed_buff, min_trans_num, pip_size, loss_limits):    \n",
    "    \n",
    "    params = {'instruments': instrument}\n",
    "    r = pricing.PricingStream(accountID=accountID, params=params)\n",
    "    rv = api.request(r)\n",
    "    order_flag = 'not_ordered'\n",
    "    first_long = True\n",
    "    first_short = True\n",
    "    profit_moves = 0\n",
    "    \n",
    "    profit_target = profit_target_num * pip_size\n",
    "    loss_limit = loss_limit_num * pip_size\n",
    "    price_allowed_buffer = price_allowed_buff * pip_size\n",
    "\n",
    "    loss_limits_dict = get_loss_limits(min_trans_num, loss_limits)\n",
    "    print('Running OE : ', min_trans_num, loss_limits)\n",
    "    \n",
    "    for i, resp in tqdm(enumerate(rv)):        \n",
    "        open_positions_r = positions.OpenPositions(accountID=accountID)\n",
    "        open_positions_rv = api.request(open_positions_r)\n",
    "        open_positions = len(open_positions_rv['positions'])        \n",
    "        resp_type = resp['type']       \n",
    "        \n",
    "        if resp_type == 'HEARTBEAT': # Heart beat response to keep the api connection alive (Avoid timeout)\n",
    "            pass\n",
    "        \n",
    "        elif resp_type == 'PRICE' and order_flag == 'not_ordered': # Check if we are yet to make the order               \n",
    "            date_val, time_val, time_fraction = get_date_time(resp) # Get time stamp for reference            \n",
    "            sell_price, buy_price, spread, tick_price = get_prices(resp) # Get prices from the response                      \n",
    "\n",
    "            if direction == 'positive':\n",
    "                order_type = 'long'\n",
    "                units = +1\n",
    "                #stop_price = sell_price - loss_limit\n",
    "                stop_price = buy_price - loss_limit                \n",
    "                make_order_log = make_order(accountID, stop_price, instrument, units)\n",
    "                order_flag = 'ordered'\n",
    "\n",
    "            elif direction == 'negative':\n",
    "                order_type = 'short'\n",
    "                units = -1                    \n",
    "                #stop_price = buy_price + loss_limit\n",
    "                stop_price = sell_price + loss_limit                \n",
    "                make_order_log = make_order(accountID, stop_price, instrument, units)                    \n",
    "                order_flag = 'ordered'\n",
    "\n",
    "        elif resp_type == 'PRICE' and order_flag == 'ordered' and open_positions == 1: # Check if we have made the order\n",
    "            sell_price, buy_price, spread, tick_price = get_prices(resp) # Get prices from the response                                      \n",
    "\n",
    "            if order_type == 'long':     \n",
    "                ordered_buy_price = float(make_order_log['orderFillTransaction']['fullPrice']['asks'][0]['price'])\n",
    "                profit = sell_price - ordered_buy_price \n",
    "                \n",
    "                if first_long:\n",
    "                    max_price = sell_price\n",
    "                    first_long = False\n",
    "                \n",
    "                max_price = max(sell_price, max_price)\n",
    "                buffered_max_price = max_price - price_allowed_buffer\n",
    "                buffered_max_price = max(profit_target, buffered_max_price)\n",
    "                \n",
    "                if profit > 0:\n",
    "                    profit_moves += 1\n",
    "                elif profit < 0:\n",
    "                    profit_moves -= 1                    \n",
    "                               \n",
    "                if profit >= profit_target and sell_price <= buffered_max_price:    \n",
    "                    close_order_log = close_order(accountID, order_type ,instrument)\n",
    "                    order_flag = 'closed'\n",
    "                    close_reason = \"Take_profit\"\n",
    "                    \n",
    "                if i > min_trans_num and profit_moves < 0 and order_flag != 'closed':\n",
    "                    close_order_log = close_order(accountID, order_type ,instrument)\n",
    "                    order_flag = 'closed'           \n",
    "                    close_reason = \"Min trans moves\"\n",
    "\n",
    "                for _, val in enumerate(list(loss_limits.keys())):\n",
    "                    #print(f\"profit_moves:{profit_moves}, loss_lim:{loss_limits_dict[val]['half_min_trans_num']}, profit:{profit}, max_loss:{loss_limits_dict[val]['max_loss']}\")\n",
    "                    if profit_moves <= loss_limits_dict[val]['half_min_trans_num'] and order_flag != 'closed' and profit >= loss_limits_dict[val]['max_loss']:\n",
    "                        close_order_log = close_order(accountID, order_type ,instrument)\n",
    "                        order_flag = 'closed'           \n",
    "                        close_reason = f'{val} Neg half min trans'\n",
    "                        \n",
    "                        \n",
    "                #print(f'ordered_buy_price:{ordered_buy_price} \\n max_price:{max_price} \\n buffered_max_price:{buffered_max_price} \\n sell_price:{sell_price} \\n profit:{profit}')\n",
    "                    \n",
    "                    \n",
    "            if order_type == 'short':     \n",
    "                ordered_sell_price = float(make_order_log['orderFillTransaction']['fullPrice']['bids'][0]['price'])\n",
    "                profit = ordered_sell_price - buy_price                \n",
    "\n",
    "                if first_short:\n",
    "                    min_price = buy_price\n",
    "                    first_short = False\n",
    "                \n",
    "                min_price = min(buy_price, min_price)\n",
    "                buffered_min_price = min_price + price_allowed_buffer\n",
    "                buffered_min_price = min(profit_target, buffered_min_price)\n",
    "\n",
    "                if profit > 0:\n",
    "                    profit_moves += 1\n",
    "                elif profit < 0:\n",
    "                    profit_moves -= 1                    \n",
    "                    \n",
    "                if profit >= profit_target and buy_price >= buffered_min_price:\n",
    "                    close_order_log = close_order(accountID, order_type ,instrument)\n",
    "                    order_flag = 'closed'\n",
    "                    close_reason = \"Take_profit\"\n",
    "                    \n",
    "                    \n",
    "                if i > min_trans_num and profit_moves < 0 and order_flag != 'closed':\n",
    "                    close_order_log = close_order(accountID, order_type ,instrument)\n",
    "                    order_flag = 'closed' \n",
    "                    close_reason = \"Min trans moves\"\n",
    "\n",
    "                    \n",
    "                for _, val in enumerate(list(loss_limits.keys())):\n",
    "                    #print(f\"profit_moves:{profit_moves}, loss_lim:{loss_limits_dict[val]['half_min_trans_num']}, profit:{profit}, max_loss:{loss_limits_dict[val]['max_loss']}\")\n",
    "                    if profit_moves <= loss_limits_dict[val]['half_min_trans_num'] and order_flag != 'closed' and profit >= loss_limits_dict[val]['max_loss']:\n",
    "                        close_order_log = close_order(accountID, order_type ,instrument)\n",
    "                        order_flag = 'closed'           \n",
    "                        close_reason = f'{val} Neg half min trans'\n",
    "\n",
    "                #print(f'ordered_sell_price:{ordered_sell_price} \\n min_price:{min_price} \\n buffered_min_price:{buffered_min_price} \\n sell_price:{sell_price} \\n profit:{profit}')\n",
    "                        \n",
    "                    \n",
    "        elif resp_type == 'PRICE' and (order_flag == 'closed' or open_positions == 0): # Check if we have made the order\n",
    "            try:\n",
    "                if order_flag != 'closed':\n",
    "                    close_order_log = 'stop_loss_trigger'\n",
    "                    close_reason = 'stop_loss'                    \n",
    "                r.terminate(message = \"\")\n",
    "                \n",
    "            except:\n",
    "                pass\n",
    "\n",
    "    return(make_order_log, close_order_log, i, close_reason)"
   ]
  },
  {
   "cell_type": "code",
   "execution_count": 13,
   "metadata": {},
   "outputs": [],
   "source": [
    "def get_output_data(accountID, instrument, make_order_log, close_order_log, iters, close_reason, dirc):\n",
    "    output_data = {'date':[],\n",
    "                   'time':[],\n",
    "                   'instrument':[],\n",
    "                   'direction':[],                   \n",
    "                   'ordr_type':[],                   \n",
    "                   'units':[],\n",
    "                   'profit_pips':[],\n",
    "                   'close_reason':[],\n",
    "                   'Iterations':[],                   \n",
    "                   'orderID':[]\n",
    "                  }\n",
    "    \n",
    "\n",
    "    if dirc:    \n",
    "        # Make_Order_Log\n",
    "        #-------------------------------------------------\n",
    "        make_dict_key = list(make_order_log.keys())[1]\n",
    "        uni = int(make_order_log[make_dict_key]['units'])\n",
    "        if uni > 0:\n",
    "            output_data['ordr_type'] = 'long'\n",
    "            output_data['direction'] = 'positive'\n",
    "        else:\n",
    "            output_data['ordr_type'] = 'short'\n",
    "            output_data['direction'] = 'negative'        \n",
    "\n",
    "\n",
    "        # Close_Order_Log\n",
    "        #-------------------------------------------------        \n",
    "        if close_order_log != 'stop_loss_trigger':    \n",
    "            close_dict_key= list(close_order_log.keys())[1]\n",
    "            dt, tm, _ = get_date_time(close_order_log[close_dict_key])\n",
    "            output_data['date'].append(dt)  \n",
    "            output_data['time'].append(tm)\n",
    "            output_data['instrument'].append(close_order_log[close_dict_key]['instrument'])\n",
    "            output_data['units'].append(uni)\n",
    "            output_data['profit_pips'].append(close_order_log[close_dict_key]['pl'])\n",
    "            output_data['orderID'].append(close_order_log[close_dict_key]['orderID'])\n",
    "            output_data['close_reason'].append(close_reason)\n",
    "            output_data['Iterations'].append(iters)\n",
    "\n",
    "\n",
    "\n",
    "        # Stop_Order_Logging\n",
    "        #-------------------------------------------------\n",
    "        elif close_order_log == 'stop_loss_trigger':\n",
    "            last_position_r = positions.PositionDetails(accountID, instrument)\n",
    "            last_position_rv = api.request(last_position_r)\n",
    "            last_transaction_id = last_position_rv['lastTransactionID']\n",
    "\n",
    "            transaction_details_r = trans.TransactionDetails(accountID, transactionID=last_transaction_id)\n",
    "            transaction_details_rv = api.request(transaction_details_r)\n",
    "\n",
    "            time_stamp = transaction_details_rv['transaction']['fullPrice']['timestamp']\n",
    "            dt, full_time = time_stamp.split(sep = 'T')\n",
    "            tm, time_fraction = full_time.split(sep = '.')\n",
    "            inst = transaction_details_rv['transaction']['instrument']\n",
    "            #unts = transaction_details_rv['transaction']['units']\n",
    "            prfit_pips = transaction_details_rv['transaction']['pl']\n",
    "            clse_reason = transaction_details_rv['transaction']['reason']\n",
    "            ordrID = transaction_details_rv['transaction']['orderID']\n",
    "\n",
    "            output_data['date'].append(dt)  \n",
    "            output_data['time'].append(tm)\n",
    "            output_data['instrument'].append(inst)\n",
    "            output_data['units'].append(uni)\n",
    "            output_data['profit_pips'].append(prfit_pips)\n",
    "            output_data['orderID'].append(ordrID)\n",
    "            output_data['close_reason'].append(close_reason)\n",
    "            output_data['Iterations'].append(iters)  \n",
    "            \n",
    "            \n",
    "    elif dirc == False:\n",
    "        d = datetime.datetime.utcnow()\n",
    "        d_with_timezone = d.replace(tzinfo=pytz.UTC)\n",
    "        time_stamp = d_with_timezone.isoformat()\n",
    "        dt_now, full_time = time_stamp.split(sep = 'T')\n",
    "        tm_now, time_fraction = full_time.split(sep = '.')\n",
    "\n",
    "        output_data['date'].append(dt_now)  \n",
    "        output_data['time'].append(tm_now)\n",
    "        output_data['instrument'].append(instrument)\n",
    "        output_data['direction'] = 'no_direction'        \n",
    "        output_data['ordr_type'].append('')\n",
    "        output_data['units'].append('')\n",
    "        output_data['profit_pips'].append('')\n",
    "        output_data['orderID'].append('')\n",
    "        output_data['close_reason'].append('')\n",
    "        output_data['Iterations'].append('') \n",
    "\n",
    "        \n",
    "    # Write to Dataframe\n",
    "    #-------------------------------------------------    \n",
    "    output_df = pd.DataFrame()\n",
    "    output_df = pd.DataFrame.from_dict(output_data)\n",
    "    output_df = output_df[['date', 'time', 'instrument', 'direction', 'ordr_type','units', 'profit_pips', 'close_reason', 'Iterations','orderID']]\n",
    "\n",
    "    return(output_df)"
   ]
  },
  {
   "cell_type": "code",
   "execution_count": 14,
   "metadata": {},
   "outputs": [],
   "source": [
    "def switch_direction(direction):\n",
    "    if direction == 'positive':\n",
    "        return('negative')\n",
    "    elif direction == 'negative':\n",
    "        return('positive')"
   ]
  },
  {
   "cell_type": "markdown",
   "metadata": {},
   "source": [
    "## API Setup"
   ]
  },
  {
   "cell_type": "markdown",
   "metadata": {},
   "source": [
    "Read from config file"
   ]
  },
  {
   "cell_type": "code",
   "execution_count": 15,
   "metadata": {
    "scrolled": true
   },
   "outputs": [],
   "source": [
    "temp_file = 'config/access_keys.yaml'\n",
    "with open(temp_file) as temp_file:\n",
    "    config = yaml.load(temp_file)\n",
    "    \n",
    "temp_file = 'config/currencies.yaml'\n",
    "with open(temp_file) as temp_file:\n",
    "    currencies = yaml.load(temp_file)\n",
    "\n",
    "temp_file = 'config/stepped_loss.yaml'\n",
    "with open(temp_file) as temp_file:\n",
    "    loss_limits = yaml.load(temp_file)"
   ]
  },
  {
   "cell_type": "code",
   "execution_count": 16,
   "metadata": {},
   "outputs": [],
   "source": [
    "access_token = config['oanda_demo_account']['token']\n",
    "accountID = config['oanda_demo_account']['account_id']\n",
    "api = API(access_token = access_token)"
   ]
  },
  {
   "cell_type": "markdown",
   "metadata": {},
   "source": [
    "## Code Engine"
   ]
  },
  {
   "cell_type": "markdown",
   "metadata": {},
   "source": [
    "# Log these inputs as well"
   ]
  },
  {
   "cell_type": "code",
   "execution_count": 17,
   "metadata": {},
   "outputs": [],
   "source": [
    "# max_loss_num = 1\n",
    "# full_loss_ratio = 10\n",
    "\n",
    "\n",
    "instrument=\"EUR_USD\"\n",
    "pip_size = currencies['currs'][instrument]['pip_size']\n",
    "pip_gap = currencies['currs'][instrument]['pip_gap']\n",
    "\n",
    "profit_target_num  = 0.5\n",
    "price_allowed_buffer = 0.5 \n",
    "loss_limit_num = 25\n",
    "\n",
    "\n",
    "target_num = 3\n",
    "min_count = 2\n",
    "min_count_mulitplier = 1\n",
    "\n",
    "\n",
    "iter_num = 300\n",
    "dir_min_trans_multiplier_long = 1\n",
    "dir_min_trans_multiplier_short = 0.5\n",
    "\n",
    "run_min_trans_multiplier = 25\n",
    "dir_recalc_multiplier = 5\n",
    "\n",
    "num_of_bets = 10"
   ]
  },
  {
   "cell_type": "code",
   "execution_count": 18,
   "metadata": {
    "scrolled": true
   },
   "outputs": [
    {
     "name": "stderr",
     "output_type": "stream",
     "text": [
      "301it [09:10,  1.83s/it]\n",
      "0it [00:00, ?it/s]"
     ]
    },
    {
     "name": "stdout",
     "output_type": "stream",
     "text": [
      "-------------------------------Iteration 1-------------------------------\n",
      "Finding Market Direction with min trans of 23.0...\n"
     ]
    },
    {
     "name": "stderr",
     "output_type": "stream",
     "text": [
      "24it [01:05,  2.72s/it]\n",
      "0it [00:00, ?it/s]"
     ]
    },
    {
     "name": "stdout",
     "output_type": "stream",
     "text": [
      "df_reached_targets :     start_price  target_num  positive_val  negative_val  positive  negative  \\\n",
      "0      1.12704         1.0       1.12714       1.12694       0.0       0.0   \n",
      "1      1.12704         2.0       1.12724       1.12684       0.0       0.0   \n",
      "2      1.12704         3.0       1.12734       1.12674       0.0       0.0   \n",
      "\n",
      "  p_duration n_duration  \n",
      "0                        \n",
      "1                        \n",
      "2                        \n",
      "no_direction : Run again\n",
      "-------------------------------Iteration 2-------------------------------\n",
      "Finding Market Direction with min trans of 23.0...\n"
     ]
    },
    {
     "name": "stderr",
     "output_type": "stream",
     "text": [
      "24it [00:22,  1.09it/s]\n",
      "0it [00:00, ?it/s]"
     ]
    },
    {
     "name": "stdout",
     "output_type": "stream",
     "text": [
      "df_reached_targets :     start_price  target_num  positive_val  negative_val  positive  negative  \\\n",
      "0      1.12702         1.0       1.12712       1.12692       0.0      7.65   \n",
      "1      1.12702         2.0       1.12722       1.12682       0.0      0.00   \n",
      "2      1.12702         3.0       1.12732       1.12672       0.0      0.00   \n",
      "\n",
      "  p_duration n_duration  \n",
      "0                0:0:15  \n",
      "1                        \n",
      "2                        \n",
      "Direction : negative\n",
      "Running OE :  575.0 {50: {'half_min_trans_num': -288.0, 'max_loss': -0.0001}, 60: {'half_min_trans_num': -345.0, 'max_loss': -0.0002}, 70: {'half_min_trans_num': -402.0, 'max_loss': -0.0003}, 80: {'half_min_trans_num': -460.0, 'max_loss': -0.0004}}\n"
     ]
    },
    {
     "name": "stderr",
     "output_type": "stream",
     "text": [
      "130it [03:31,  1.63s/it]\n",
      "0it [00:00, ?it/s]"
     ]
    },
    {
     "name": "stdout",
     "output_type": "stream",
     "text": [
      "pl:0.0001 iter_limit:115.0\n",
      "-------------------------------Iteration 3-------------------------------\n",
      "Finding Market Direction with min trans of 23.0...\n"
     ]
    },
    {
     "name": "stderr",
     "output_type": "stream",
     "text": [
      "24it [00:53,  2.21s/it]\n",
      "0it [00:00, ?it/s]"
     ]
    },
    {
     "name": "stdout",
     "output_type": "stream",
     "text": [
      "df_reached_targets :     start_price  target_num  positive_val  negative_val  positive  negative  \\\n",
      "0      1.12662         1.0       1.12672       1.12652       0.0       0.0   \n",
      "1      1.12662         2.0       1.12682       1.12642       0.0       0.0   \n",
      "2      1.12662         3.0       1.12692       1.12632       0.0       0.0   \n",
      "\n",
      "  p_duration n_duration  \n",
      "0                        \n",
      "1                        \n",
      "2                        \n",
      "no_direction : Run again\n",
      "-------------------------------Iteration 4-------------------------------\n",
      "Finding Market Direction with min trans of 23.0...\n"
     ]
    },
    {
     "name": "stderr",
     "output_type": "stream",
     "text": [
      "24it [00:39,  1.65s/it]\n",
      "0it [00:00, ?it/s]"
     ]
    },
    {
     "name": "stdout",
     "output_type": "stream",
     "text": [
      "df_reached_targets :     start_price  target_num  positive_val  negative_val  positive  negative  \\\n",
      "0      1.12662         1.0       1.12672       1.12652       0.0      1.05   \n",
      "1      1.12662         2.0       1.12682       1.12642       0.0      0.00   \n",
      "2      1.12662         3.0       1.12692       1.12632       0.0      0.00   \n",
      "\n",
      "  p_duration n_duration  \n",
      "0                0:0:39  \n",
      "1                        \n",
      "2                        \n",
      "no_direction : Run again\n",
      "-------------------------------Iteration 5-------------------------------\n",
      "Finding Market Direction with min trans of 23.0...\n"
     ]
    },
    {
     "name": "stderr",
     "output_type": "stream",
     "text": [
      "24it [00:53,  2.25s/it]\n",
      "0it [00:00, ?it/s]"
     ]
    },
    {
     "name": "stdout",
     "output_type": "stream",
     "text": [
      "df_reached_targets :     start_price  target_num  positive_val  negative_val  positive  negative  \\\n",
      "0     1.126535         1.0      1.126635      1.126435      5.55       0.0   \n",
      "1     1.126535         2.0      1.126735      1.126335      0.00       0.0   \n",
      "2     1.126535         3.0      1.126835      1.126235      0.00       0.0   \n",
      "\n",
      "  p_duration n_duration  \n",
      "0     0:0:53             \n",
      "1                        \n",
      "2                        \n",
      "Direction : positive\n",
      "Running OE :  575.0 {50: {'half_min_trans_num': -288.0, 'max_loss': -0.0001}, 60: {'half_min_trans_num': -345.0, 'max_loss': -0.0002}, 70: {'half_min_trans_num': -402.0, 'max_loss': -0.0003}, 80: {'half_min_trans_num': -460.0, 'max_loss': -0.0004}}\n"
     ]
    },
    {
     "name": "stderr",
     "output_type": "stream",
     "text": [
      "106it [03:39,  2.07s/it]\n",
      "0it [00:00, ?it/s]"
     ]
    },
    {
     "name": "stdout",
     "output_type": "stream",
     "text": [
      "pl:0.0001 iter_limit:115.0\n",
      "-------------------------------Iteration 6-------------------------------\n",
      "Finding Market Direction with min trans of 12.0...\n"
     ]
    },
    {
     "name": "stderr",
     "output_type": "stream",
     "text": [
      "13it [00:19,  1.53s/it]\n",
      "0it [00:00, ?it/s]"
     ]
    },
    {
     "name": "stdout",
     "output_type": "stream",
     "text": [
      "df_reached_targets :     start_price  target_num  positive_val  negative_val  positive  negative  \\\n",
      "0      1.12679         1.0       1.12689       1.12669       0.0       0.0   \n",
      "1      1.12679         2.0       1.12699       1.12659       0.0       0.0   \n",
      "2      1.12679         3.0       1.12709       1.12649       0.0       0.0   \n",
      "\n",
      "  p_duration n_duration  \n",
      "0                        \n",
      "1                        \n",
      "2                        \n",
      "no_direction : Run again\n",
      "-------------------------------Iteration 7-------------------------------\n",
      "Finding Market Direction with min trans of 23.0...\n"
     ]
    },
    {
     "name": "stderr",
     "output_type": "stream",
     "text": [
      "24it [00:37,  1.58s/it]\n",
      "0it [00:00, ?it/s]"
     ]
    },
    {
     "name": "stdout",
     "output_type": "stream",
     "text": [
      "df_reached_targets :     start_price  target_num  positive_val  negative_val  positive  negative  \\\n",
      "0      1.12683         1.0       1.12693       1.12673       0.0       0.0   \n",
      "1      1.12683         2.0       1.12703       1.12663       0.0       0.0   \n",
      "2      1.12683         3.0       1.12713       1.12653       0.0       0.0   \n",
      "\n",
      "  p_duration n_duration  \n",
      "0                        \n",
      "1                        \n",
      "2                        \n",
      "no_direction : Run again\n",
      "-------------------------------Iteration 8-------------------------------\n",
      "Finding Market Direction with min trans of 23.0...\n"
     ]
    },
    {
     "name": "stderr",
     "output_type": "stream",
     "text": [
      "24it [00:38,  1.61s/it]\n",
      "0it [00:00, ?it/s]"
     ]
    },
    {
     "name": "stdout",
     "output_type": "stream",
     "text": [
      "df_reached_targets :     start_price  target_num  positive_val  negative_val  positive  negative  \\\n",
      "0     1.126825         1.0      1.126925      1.126725       0.0       0.0   \n",
      "1     1.126825         2.0      1.127025      1.126625       0.0       0.0   \n",
      "2     1.126825         3.0      1.127125      1.126525       0.0       0.0   \n",
      "\n",
      "  p_duration n_duration  \n",
      "0                        \n",
      "1                        \n",
      "2                        \n",
      "no_direction : Run again\n",
      "-------------------------------Iteration 9-------------------------------\n",
      "Finding Market Direction with min trans of 23.0...\n"
     ]
    },
    {
     "name": "stderr",
     "output_type": "stream",
     "text": [
      "24it [00:18,  1.27it/s]\n",
      "0it [00:00, ?it/s]"
     ]
    },
    {
     "name": "stdout",
     "output_type": "stream",
     "text": [
      "df_reached_targets :     start_price  target_num  positive_val  negative_val  positive  negative  \\\n",
      "0     1.126935         1.0      1.127035      1.126835       1.0       0.0   \n",
      "1     1.126935         2.0      1.127135      1.126735       0.0       0.0   \n",
      "2     1.126935         3.0      1.127235      1.126635       0.0       0.0   \n",
      "\n",
      "  p_duration n_duration  \n",
      "0     0:0:18             \n",
      "1                        \n",
      "2                        \n",
      "no_direction : Run again\n",
      "-------------------------------Iteration 10-------------------------------\n",
      "Finding Market Direction with min trans of 23.0...\n"
     ]
    },
    {
     "name": "stderr",
     "output_type": "stream",
     "text": [
      "24it [00:51,  2.15s/it]\n",
      "0it [00:00, ?it/s]"
     ]
    },
    {
     "name": "stdout",
     "output_type": "stream",
     "text": [
      "df_reached_targets :     start_price  target_num  positive_val  negative_val  positive  negative  \\\n",
      "0      1.12702         1.0       1.12712       1.12692       0.0      10.0   \n",
      "1      1.12702         2.0       1.12722       1.12682       0.0       0.0   \n",
      "2      1.12702         3.0       1.12732       1.12672       0.0       0.0   \n",
      "\n",
      "  p_duration n_duration  \n",
      "0                0:0:16  \n",
      "1                        \n",
      "2                        \n",
      "Direction : negative\n",
      "Running OE :  575.0 {50: {'half_min_trans_num': -288.0, 'max_loss': -0.0001}, 60: {'half_min_trans_num': -345.0, 'max_loss': -0.0002}, 70: {'half_min_trans_num': -402.0, 'max_loss': -0.0003}, 80: {'half_min_trans_num': -460.0, 'max_loss': -0.0004}}\n"
     ]
    },
    {
     "name": "stderr",
     "output_type": "stream",
     "text": [
      "345it [11:29,  2.00s/it]"
     ]
    },
    {
     "name": "stdout",
     "output_type": "stream",
     "text": [
      "pl:0.0001 iter_limit:115.0\n",
      "Wall time: 34min 32s\n"
     ]
    },
    {
     "name": "stderr",
     "output_type": "stream",
     "text": [
      "\n"
     ]
    }
   ],
   "source": [
    "%%time\n",
    "#num = 25\n",
    "num = get_min_trans_num(instrument, accountID, iter_num, pip_gap, pip_size)\n",
    "dir_min_trans_num_long = round((num * dir_min_trans_multiplier_long),0)\n",
    "dir_min_trans_num_short = round((num * dir_min_trans_multiplier_short),0)\n",
    "dir_min_trans_num = dir_min_trans_num_long\n",
    "\n",
    "run_min_trans_num = round((num * run_min_trans_multiplier),0)\n",
    "\n",
    "run_flag = True\n",
    "\n",
    "for i in range(num_of_bets):    \n",
    "    print(f'-------------------------------Iteration {i+1}-------------------------------')\n",
    "    if run_flag:\n",
    "        direction, df_reached_targets, tick_list = run_direction_engine(accountID, instrument, dir_min_trans_num, target_num, min_count, pip_size, pip_gap, min_count_mulitplier)    \n",
    "        print('df_reached_targets : ',df_reached_targets)\n",
    "        \n",
    "    if direction == 'no_direction':\n",
    "        print('no_direction : Run again')\n",
    "        run_flag = True\n",
    "        dir_min_trans_num = dir_min_trans_num_long\n",
    "        output_df = get_output_data('', '', '', '', '', '',dirc = False) \n",
    "        \n",
    "    else:\n",
    "        print(f'Direction : {direction}')\n",
    "        make_order_log, close_order_log, iters, close_reason = run_order_engine(accountID, instrument, direction, profit_target_num, loss_limit_num, price_allowed_buffer, run_min_trans_num, pip_size, loss_limits)\n",
    "        output_df = get_output_data(accountID, instrument, make_order_log, close_order_log, iters, close_reason, dirc = True)\n",
    "        pl_pip = float(output_df['profit_pips'])\n",
    "        iter_limit = dir_min_trans_num * dir_recalc_multiplier\n",
    "        print(f'pl:{pl_pip} iter_limit:{iter_limit}')\n",
    "\n",
    "\n",
    "        if float(pl_pip) >= 0 and iters < iter_limit:\n",
    "            run_flag = True\n",
    "            dir_min_trans_num = dir_min_trans_num_short\n",
    "        else:\n",
    "            run_flag = True\n",
    "            dir_min_trans_num = dir_min_trans_num_long\n",
    "\n",
    "    output_df.to_csv('data/machine_use/output_log_machine_use.csv', mode='a', header=False, index = False)"
   ]
  },
  {
   "cell_type": "code",
   "execution_count": 19,
   "metadata": {
    "scrolled": true
   },
   "outputs": [],
   "source": [
    "df_copy = pd.read_csv('data/machine_use/output_log_machine_use.csv')\n",
    "df_copy.to_csv('data/output_log.csv', index = False)    "
   ]
  },
  {
   "cell_type": "code",
   "execution_count": 20,
   "metadata": {
    "scrolled": true
   },
   "outputs": [
    {
     "data": {
      "text/plain": [
       "'\\n%%time\\niter_nums = [100, 200]\\nfor iter_num in iter_nums:\\n    run_currency_num_check(accountID, currencies, iter_num)\\n    '"
      ]
     },
     "execution_count": 20,
     "metadata": {},
     "output_type": "execute_result"
    }
   ],
   "source": [
    "'''\n",
    "%%time\n",
    "iter_nums = [100, 200]\n",
    "for iter_num in iter_nums:\n",
    "    run_currency_num_check(accountID, currencies, iter_num)\n",
    "    '''"
   ]
  },
  {
   "cell_type": "code",
   "execution_count": 19,
   "metadata": {},
   "outputs": [
    {
     "data": {
      "text/html": [
       "<div>\n",
       "<style scoped>\n",
       "    .dataframe tbody tr th:only-of-type {\n",
       "        vertical-align: middle;\n",
       "    }\n",
       "\n",
       "    .dataframe tbody tr th {\n",
       "        vertical-align: top;\n",
       "    }\n",
       "\n",
       "    .dataframe thead th {\n",
       "        text-align: right;\n",
       "    }\n",
       "</style>\n",
       "<table border=\"1\" class=\"dataframe\">\n",
       "  <thead>\n",
       "    <tr style=\"text-align: right;\">\n",
       "      <th></th>\n",
       "      <th>price</th>\n",
       "    </tr>\n",
       "  </thead>\n",
       "  <tbody>\n",
       "    <tr>\n",
       "      <th>0</th>\n",
       "      <td>120</td>\n",
       "    </tr>\n",
       "    <tr>\n",
       "      <th>1</th>\n",
       "      <td>130</td>\n",
       "    </tr>\n",
       "    <tr>\n",
       "      <th>2</th>\n",
       "      <td>110</td>\n",
       "    </tr>\n",
       "    <tr>\n",
       "      <th>3</th>\n",
       "      <td>140</td>\n",
       "    </tr>\n",
       "    <tr>\n",
       "      <th>4</th>\n",
       "      <td>110</td>\n",
       "    </tr>\n",
       "    <tr>\n",
       "      <th>5</th>\n",
       "      <td>130</td>\n",
       "    </tr>\n",
       "  </tbody>\n",
       "</table>\n",
       "</div>"
      ],
      "text/plain": [
       "   price\n",
       "0    120\n",
       "1    130\n",
       "2    110\n",
       "3    140\n",
       "4    110\n",
       "5    130"
      ]
     },
     "execution_count": 19,
     "metadata": {},
     "output_type": "execute_result"
    }
   ],
   "source": [
    "list = [120, 130, 110, 140, 110, 130]\n",
    "\n",
    "df = pd.DataFrame(data = list, columns = ['price'])\n",
    "df"
   ]
  },
  {
   "cell_type": "code",
   "execution_count": 34,
   "metadata": {},
   "outputs": [],
   "source": [
    "import math"
   ]
  },
  {
   "cell_type": "code",
   "execution_count": 35,
   "metadata": {},
   "outputs": [
    {
     "data": {
      "text/plain": [
       "2.0"
      ]
     },
     "execution_count": 35,
     "metadata": {},
     "output_type": "execute_result"
    }
   ],
   "source": [
    "math.sqrt(4)"
   ]
  },
  {
   "cell_type": "code",
   "execution_count": 75,
   "metadata": {},
   "outputs": [
    {
     "data": {
      "text/plain": [
       "6.0"
      ]
     },
     "execution_count": 75,
     "metadata": {},
     "output_type": "execute_result"
    }
   ],
   "source": [
    "s =  20\n",
    "\n",
    "n = round((((-1) + (math.sqrt(8*s + 1)))/2),0)\n",
    "n"
   ]
  },
  {
   "cell_type": "code",
   "execution_count": 100,
   "metadata": {},
   "outputs": [
    {
     "data": {
      "text/plain": [
       "1.0000000000000007"
      ]
     },
     "execution_count": 100,
     "metadata": {},
     "output_type": "execute_result"
    }
   ],
   "source": [
    "wgts = get_weights(100)\n",
    "sum(wgts)"
   ]
  },
  {
   "cell_type": "code",
   "execution_count": 26,
   "metadata": {},
   "outputs": [
    {
     "data": {
      "text/html": [
       "<div>\n",
       "<style scoped>\n",
       "    .dataframe tbody tr th:only-of-type {\n",
       "        vertical-align: middle;\n",
       "    }\n",
       "\n",
       "    .dataframe tbody tr th {\n",
       "        vertical-align: top;\n",
       "    }\n",
       "\n",
       "    .dataframe thead th {\n",
       "        text-align: right;\n",
       "    }\n",
       "</style>\n",
       "<table border=\"1\" class=\"dataframe\">\n",
       "  <thead>\n",
       "    <tr style=\"text-align: right;\">\n",
       "      <th></th>\n",
       "      <th>colA</th>\n",
       "      <th>weighted_ma</th>\n",
       "    </tr>\n",
       "  </thead>\n",
       "  <tbody>\n",
       "    <tr>\n",
       "      <th>0</th>\n",
       "      <td>120</td>\n",
       "      <td>NaN</td>\n",
       "    </tr>\n",
       "    <tr>\n",
       "      <th>1</th>\n",
       "      <td>130</td>\n",
       "      <td>NaN</td>\n",
       "    </tr>\n",
       "    <tr>\n",
       "      <th>2</th>\n",
       "      <td>110</td>\n",
       "      <td>118.0</td>\n",
       "    </tr>\n",
       "    <tr>\n",
       "      <th>3</th>\n",
       "      <td>140</td>\n",
       "      <td>129.0</td>\n",
       "    </tr>\n",
       "    <tr>\n",
       "      <th>4</th>\n",
       "      <td>110</td>\n",
       "      <td>119.0</td>\n",
       "    </tr>\n",
       "    <tr>\n",
       "      <th>5</th>\n",
       "      <td>130</td>\n",
       "      <td>126.0</td>\n",
       "    </tr>\n",
       "  </tbody>\n",
       "</table>\n",
       "</div>"
      ],
      "text/plain": [
       "   colA  weighted_ma\n",
       "0   120          NaN\n",
       "1   130          NaN\n",
       "2   110        118.0\n",
       "3   140        129.0\n",
       "4   110        119.0\n",
       "5   130        126.0"
      ]
     },
     "execution_count": 26,
     "metadata": {},
     "output_type": "execute_result"
    }
   ],
   "source": [
    "data = {'colA': [120, 130, 110, 140, 110, 130]}\n",
    "df = pd.DataFrame(data)\n",
    "\n",
    "small_weights = np.array([0.2, 0.3, 0.5])\n",
    "small_weights = np.array([0.2, 0.3, 0.5])\n",
    "sum_weights = np.sum(weights)\n",
    "\n",
    "df['weighted_ma'] = (df['colA'].rolling(window=3, center=False).apply(lambda x: np.sum(weights*x) / sum_weights, raw=False))\n",
    "\n",
    "df"
   ]
  },
  {
   "cell_type": "code",
   "execution_count": 119,
   "metadata": {
    "scrolled": true
   },
   "outputs": [
    {
     "name": "stderr",
     "output_type": "stream",
     "text": [
      "4it [00:06,  1.82s/it]"
     ]
    },
    {
     "name": "stdout",
     "output_type": "stream",
     "text": [
      "heart beat\n"
     ]
    },
    {
     "name": "stderr",
     "output_type": "stream",
     "text": [
      "7it [00:11,  1.84s/it]"
     ]
    },
    {
     "name": "stdout",
     "output_type": "stream",
     "text": [
      "heart beat\n"
     ]
    },
    {
     "name": "stderr",
     "output_type": "stream",
     "text": [
      "16it [00:16,  1.11it/s]"
     ]
    },
    {
     "name": "stdout",
     "output_type": "stream",
     "text": [
      "heart beat\n"
     ]
    },
    {
     "name": "stderr",
     "output_type": "stream",
     "text": [
      "24it [00:21,  1.11it/s]\n"
     ]
    },
    {
     "ename": "KeyboardInterrupt",
     "evalue": "",
     "output_type": "error",
     "traceback": [
      "\u001b[1;31m---------------------------------------------------------------------------\u001b[0m",
      "\u001b[1;31mKeyboardInterrupt\u001b[0m                         Traceback (most recent call last)",
      "\u001b[1;32m<ipython-input-119-00dd41eab0a2>\u001b[0m in \u001b[0;36m<module>\u001b[1;34m\u001b[0m\n\u001b[0;32m     11\u001b[0m \u001b[0mfirst_run\u001b[0m \u001b[1;33m=\u001b[0m \u001b[1;32mTrue\u001b[0m\u001b[1;33m\u001b[0m\u001b[0m\n\u001b[0;32m     12\u001b[0m \u001b[1;33m\u001b[0m\u001b[0m\n\u001b[1;32m---> 13\u001b[1;33m \u001b[1;32mfor\u001b[0m \u001b[0mi\u001b[0m\u001b[1;33m,\u001b[0m \u001b[0mresp\u001b[0m \u001b[1;32min\u001b[0m \u001b[0mtqdm\u001b[0m\u001b[1;33m(\u001b[0m\u001b[0menumerate\u001b[0m\u001b[1;33m(\u001b[0m\u001b[0mrv\u001b[0m\u001b[1;33m)\u001b[0m\u001b[1;33m)\u001b[0m\u001b[1;33m:\u001b[0m\u001b[1;33m\u001b[0m\u001b[0m\n\u001b[0m\u001b[0;32m     14\u001b[0m     \u001b[0mresp_type\u001b[0m \u001b[1;33m=\u001b[0m \u001b[0mresp\u001b[0m\u001b[1;33m[\u001b[0m\u001b[1;34m'type'\u001b[0m\u001b[1;33m]\u001b[0m\u001b[1;33m\u001b[0m\u001b[0m\n\u001b[0;32m     15\u001b[0m \u001b[1;33m\u001b[0m\u001b[0m\n",
      "\u001b[1;32md:\\ram\\pcal\\data science\\projects\\trading\\oanda_trading\\tradenv\\lib\\site-packages\\tqdm\\std.py\u001b[0m in \u001b[0;36m__iter__\u001b[1;34m(self)\u001b[0m\n\u001b[0;32m   1127\u001b[0m \u001b[1;33m\u001b[0m\u001b[0m\n\u001b[0;32m   1128\u001b[0m         \u001b[1;32mtry\u001b[0m\u001b[1;33m:\u001b[0m\u001b[1;33m\u001b[0m\u001b[0m\n\u001b[1;32m-> 1129\u001b[1;33m             \u001b[1;32mfor\u001b[0m \u001b[0mobj\u001b[0m \u001b[1;32min\u001b[0m \u001b[0miterable\u001b[0m\u001b[1;33m:\u001b[0m\u001b[1;33m\u001b[0m\u001b[0m\n\u001b[0m\u001b[0;32m   1130\u001b[0m                 \u001b[1;32myield\u001b[0m \u001b[0mobj\u001b[0m\u001b[1;33m\u001b[0m\u001b[0m\n\u001b[0;32m   1131\u001b[0m                 \u001b[1;31m# Update and possibly print the progressbar.\u001b[0m\u001b[1;33m\u001b[0m\u001b[1;33m\u001b[0m\u001b[0m\n",
      "\u001b[1;32md:\\ram\\pcal\\data science\\projects\\trading\\oanda_trading\\tradenv\\lib\\site-packages\\oandapyV20\\oandapyV20.py\u001b[0m in \u001b[0;36m__stream_request\u001b[1;34m(self, method, url, request_args, headers)\u001b[0m\n\u001b[0;32m    255\u001b[0m                                   headers=headers, stream=True)\n\u001b[0;32m    256\u001b[0m         \u001b[0mlines\u001b[0m \u001b[1;33m=\u001b[0m \u001b[0mresponse\u001b[0m\u001b[1;33m.\u001b[0m\u001b[0miter_lines\u001b[0m\u001b[1;33m(\u001b[0m\u001b[0mITER_LINES_CHUNKSIZE\u001b[0m\u001b[1;33m)\u001b[0m\u001b[1;33m\u001b[0m\u001b[0m\n\u001b[1;32m--> 257\u001b[1;33m         \u001b[1;32mfor\u001b[0m \u001b[0mline\u001b[0m \u001b[1;32min\u001b[0m \u001b[0mlines\u001b[0m\u001b[1;33m:\u001b[0m\u001b[1;33m\u001b[0m\u001b[0m\n\u001b[0m\u001b[0;32m    258\u001b[0m             \u001b[1;32mif\u001b[0m \u001b[0mline\u001b[0m\u001b[1;33m:\u001b[0m\u001b[1;33m\u001b[0m\u001b[0m\n\u001b[0;32m    259\u001b[0m                 \u001b[0mdata\u001b[0m \u001b[1;33m=\u001b[0m \u001b[0mjson\u001b[0m\u001b[1;33m.\u001b[0m\u001b[0mloads\u001b[0m\u001b[1;33m(\u001b[0m\u001b[0mline\u001b[0m\u001b[1;33m.\u001b[0m\u001b[0mdecode\u001b[0m\u001b[1;33m(\u001b[0m\u001b[1;34m\"utf-8\"\u001b[0m\u001b[1;33m)\u001b[0m\u001b[1;33m)\u001b[0m\u001b[1;33m\u001b[0m\u001b[0m\n",
      "\u001b[1;32md:\\ram\\pcal\\data science\\projects\\trading\\oanda_trading\\tradenv\\lib\\site-packages\\requests\\models.py\u001b[0m in \u001b[0;36miter_lines\u001b[1;34m(self, chunk_size, decode_unicode, delimiter)\u001b[0m\n\u001b[0;32m    793\u001b[0m         \u001b[0mpending\u001b[0m \u001b[1;33m=\u001b[0m \u001b[1;32mNone\u001b[0m\u001b[1;33m\u001b[0m\u001b[0m\n\u001b[0;32m    794\u001b[0m \u001b[1;33m\u001b[0m\u001b[0m\n\u001b[1;32m--> 795\u001b[1;33m         \u001b[1;32mfor\u001b[0m \u001b[0mchunk\u001b[0m \u001b[1;32min\u001b[0m \u001b[0mself\u001b[0m\u001b[1;33m.\u001b[0m\u001b[0miter_content\u001b[0m\u001b[1;33m(\u001b[0m\u001b[0mchunk_size\u001b[0m\u001b[1;33m=\u001b[0m\u001b[0mchunk_size\u001b[0m\u001b[1;33m,\u001b[0m \u001b[0mdecode_unicode\u001b[0m\u001b[1;33m=\u001b[0m\u001b[0mdecode_unicode\u001b[0m\u001b[1;33m)\u001b[0m\u001b[1;33m:\u001b[0m\u001b[1;33m\u001b[0m\u001b[0m\n\u001b[0m\u001b[0;32m    796\u001b[0m \u001b[1;33m\u001b[0m\u001b[0m\n\u001b[0;32m    797\u001b[0m             \u001b[1;32mif\u001b[0m \u001b[0mpending\u001b[0m \u001b[1;32mis\u001b[0m \u001b[1;32mnot\u001b[0m \u001b[1;32mNone\u001b[0m\u001b[1;33m:\u001b[0m\u001b[1;33m\u001b[0m\u001b[0m\n",
      "\u001b[1;32md:\\ram\\pcal\\data science\\projects\\trading\\oanda_trading\\tradenv\\lib\\site-packages\\requests\\models.py\u001b[0m in \u001b[0;36mgenerate\u001b[1;34m()\u001b[0m\n\u001b[0;32m    749\u001b[0m             \u001b[1;32mif\u001b[0m \u001b[0mhasattr\u001b[0m\u001b[1;33m(\u001b[0m\u001b[0mself\u001b[0m\u001b[1;33m.\u001b[0m\u001b[0mraw\u001b[0m\u001b[1;33m,\u001b[0m \u001b[1;34m'stream'\u001b[0m\u001b[1;33m)\u001b[0m\u001b[1;33m:\u001b[0m\u001b[1;33m\u001b[0m\u001b[0m\n\u001b[0;32m    750\u001b[0m                 \u001b[1;32mtry\u001b[0m\u001b[1;33m:\u001b[0m\u001b[1;33m\u001b[0m\u001b[0m\n\u001b[1;32m--> 751\u001b[1;33m                     \u001b[1;32mfor\u001b[0m \u001b[0mchunk\u001b[0m \u001b[1;32min\u001b[0m \u001b[0mself\u001b[0m\u001b[1;33m.\u001b[0m\u001b[0mraw\u001b[0m\u001b[1;33m.\u001b[0m\u001b[0mstream\u001b[0m\u001b[1;33m(\u001b[0m\u001b[0mchunk_size\u001b[0m\u001b[1;33m,\u001b[0m \u001b[0mdecode_content\u001b[0m\u001b[1;33m=\u001b[0m\u001b[1;32mTrue\u001b[0m\u001b[1;33m)\u001b[0m\u001b[1;33m:\u001b[0m\u001b[1;33m\u001b[0m\u001b[0m\n\u001b[0m\u001b[0;32m    752\u001b[0m                         \u001b[1;32myield\u001b[0m \u001b[0mchunk\u001b[0m\u001b[1;33m\u001b[0m\u001b[0m\n\u001b[0;32m    753\u001b[0m                 \u001b[1;32mexcept\u001b[0m \u001b[0mProtocolError\u001b[0m \u001b[1;32mas\u001b[0m \u001b[0me\u001b[0m\u001b[1;33m:\u001b[0m\u001b[1;33m\u001b[0m\u001b[0m\n",
      "\u001b[1;32md:\\ram\\pcal\\data science\\projects\\trading\\oanda_trading\\tradenv\\lib\\site-packages\\urllib3\\response.py\u001b[0m in \u001b[0;36mstream\u001b[1;34m(self, amt, decode_content)\u001b[0m\n\u001b[0;32m    570\u001b[0m         \"\"\"\n\u001b[0;32m    571\u001b[0m         \u001b[1;32mif\u001b[0m \u001b[0mself\u001b[0m\u001b[1;33m.\u001b[0m\u001b[0mchunked\u001b[0m \u001b[1;32mand\u001b[0m \u001b[0mself\u001b[0m\u001b[1;33m.\u001b[0m\u001b[0msupports_chunked_reads\u001b[0m\u001b[1;33m(\u001b[0m\u001b[1;33m)\u001b[0m\u001b[1;33m:\u001b[0m\u001b[1;33m\u001b[0m\u001b[0m\n\u001b[1;32m--> 572\u001b[1;33m             \u001b[1;32mfor\u001b[0m \u001b[0mline\u001b[0m \u001b[1;32min\u001b[0m \u001b[0mself\u001b[0m\u001b[1;33m.\u001b[0m\u001b[0mread_chunked\u001b[0m\u001b[1;33m(\u001b[0m\u001b[0mamt\u001b[0m\u001b[1;33m,\u001b[0m \u001b[0mdecode_content\u001b[0m\u001b[1;33m=\u001b[0m\u001b[0mdecode_content\u001b[0m\u001b[1;33m)\u001b[0m\u001b[1;33m:\u001b[0m\u001b[1;33m\u001b[0m\u001b[0m\n\u001b[0m\u001b[0;32m    573\u001b[0m                 \u001b[1;32myield\u001b[0m \u001b[0mline\u001b[0m\u001b[1;33m\u001b[0m\u001b[0m\n\u001b[0;32m    574\u001b[0m         \u001b[1;32melse\u001b[0m\u001b[1;33m:\u001b[0m\u001b[1;33m\u001b[0m\u001b[0m\n",
      "\u001b[1;32md:\\ram\\pcal\\data science\\projects\\trading\\oanda_trading\\tradenv\\lib\\site-packages\\urllib3\\response.py\u001b[0m in \u001b[0;36mread_chunked\u001b[1;34m(self, amt, decode_content)\u001b[0m\n\u001b[0;32m    762\u001b[0m \u001b[1;33m\u001b[0m\u001b[0m\n\u001b[0;32m    763\u001b[0m             \u001b[1;32mwhile\u001b[0m \u001b[1;32mTrue\u001b[0m\u001b[1;33m:\u001b[0m\u001b[1;33m\u001b[0m\u001b[0m\n\u001b[1;32m--> 764\u001b[1;33m                 \u001b[0mself\u001b[0m\u001b[1;33m.\u001b[0m\u001b[0m_update_chunk_length\u001b[0m\u001b[1;33m(\u001b[0m\u001b[1;33m)\u001b[0m\u001b[1;33m\u001b[0m\u001b[0m\n\u001b[0m\u001b[0;32m    765\u001b[0m                 \u001b[1;32mif\u001b[0m \u001b[0mself\u001b[0m\u001b[1;33m.\u001b[0m\u001b[0mchunk_left\u001b[0m \u001b[1;33m==\u001b[0m \u001b[1;36m0\u001b[0m\u001b[1;33m:\u001b[0m\u001b[1;33m\u001b[0m\u001b[0m\n\u001b[0;32m    766\u001b[0m                     \u001b[1;32mbreak\u001b[0m\u001b[1;33m\u001b[0m\u001b[0m\n",
      "\u001b[1;32md:\\ram\\pcal\\data science\\projects\\trading\\oanda_trading\\tradenv\\lib\\site-packages\\urllib3\\response.py\u001b[0m in \u001b[0;36m_update_chunk_length\u001b[1;34m(self)\u001b[0m\n\u001b[0;32m    692\u001b[0m         \u001b[1;32mif\u001b[0m \u001b[0mself\u001b[0m\u001b[1;33m.\u001b[0m\u001b[0mchunk_left\u001b[0m \u001b[1;32mis\u001b[0m \u001b[1;32mnot\u001b[0m \u001b[1;32mNone\u001b[0m\u001b[1;33m:\u001b[0m\u001b[1;33m\u001b[0m\u001b[0m\n\u001b[0;32m    693\u001b[0m             \u001b[1;32mreturn\u001b[0m\u001b[1;33m\u001b[0m\u001b[0m\n\u001b[1;32m--> 694\u001b[1;33m         \u001b[0mline\u001b[0m \u001b[1;33m=\u001b[0m \u001b[0mself\u001b[0m\u001b[1;33m.\u001b[0m\u001b[0m_fp\u001b[0m\u001b[1;33m.\u001b[0m\u001b[0mfp\u001b[0m\u001b[1;33m.\u001b[0m\u001b[0mreadline\u001b[0m\u001b[1;33m(\u001b[0m\u001b[1;33m)\u001b[0m\u001b[1;33m\u001b[0m\u001b[0m\n\u001b[0m\u001b[0;32m    695\u001b[0m         \u001b[0mline\u001b[0m \u001b[1;33m=\u001b[0m \u001b[0mline\u001b[0m\u001b[1;33m.\u001b[0m\u001b[0msplit\u001b[0m\u001b[1;33m(\u001b[0m\u001b[1;34mb\";\"\u001b[0m\u001b[1;33m,\u001b[0m \u001b[1;36m1\u001b[0m\u001b[1;33m)\u001b[0m\u001b[1;33m[\u001b[0m\u001b[1;36m0\u001b[0m\u001b[1;33m]\u001b[0m\u001b[1;33m\u001b[0m\u001b[0m\n\u001b[0;32m    696\u001b[0m         \u001b[1;32mtry\u001b[0m\u001b[1;33m:\u001b[0m\u001b[1;33m\u001b[0m\u001b[0m\n",
      "\u001b[1;32mc:\\users\\91989\\appdata\\local\\programs\\python\\python36\\lib\\socket.py\u001b[0m in \u001b[0;36mreadinto\u001b[1;34m(self, b)\u001b[0m\n\u001b[0;32m    584\u001b[0m         \u001b[1;32mwhile\u001b[0m \u001b[1;32mTrue\u001b[0m\u001b[1;33m:\u001b[0m\u001b[1;33m\u001b[0m\u001b[0m\n\u001b[0;32m    585\u001b[0m             \u001b[1;32mtry\u001b[0m\u001b[1;33m:\u001b[0m\u001b[1;33m\u001b[0m\u001b[0m\n\u001b[1;32m--> 586\u001b[1;33m                 \u001b[1;32mreturn\u001b[0m \u001b[0mself\u001b[0m\u001b[1;33m.\u001b[0m\u001b[0m_sock\u001b[0m\u001b[1;33m.\u001b[0m\u001b[0mrecv_into\u001b[0m\u001b[1;33m(\u001b[0m\u001b[0mb\u001b[0m\u001b[1;33m)\u001b[0m\u001b[1;33m\u001b[0m\u001b[0m\n\u001b[0m\u001b[0;32m    587\u001b[0m             \u001b[1;32mexcept\u001b[0m \u001b[0mtimeout\u001b[0m\u001b[1;33m:\u001b[0m\u001b[1;33m\u001b[0m\u001b[0m\n\u001b[0;32m    588\u001b[0m                 \u001b[0mself\u001b[0m\u001b[1;33m.\u001b[0m\u001b[0m_timeout_occurred\u001b[0m \u001b[1;33m=\u001b[0m \u001b[1;32mTrue\u001b[0m\u001b[1;33m\u001b[0m\u001b[0m\n",
      "\u001b[1;32mc:\\users\\91989\\appdata\\local\\programs\\python\\python36\\lib\\ssl.py\u001b[0m in \u001b[0;36mrecv_into\u001b[1;34m(self, buffer, nbytes, flags)\u001b[0m\n\u001b[0;32m   1007\u001b[0m                   \u001b[1;34m\"non-zero flags not allowed in calls to recv_into() on %s\"\u001b[0m \u001b[1;33m%\u001b[0m\u001b[1;33m\u001b[0m\u001b[0m\n\u001b[0;32m   1008\u001b[0m                   self.__class__)\n\u001b[1;32m-> 1009\u001b[1;33m             \u001b[1;32mreturn\u001b[0m \u001b[0mself\u001b[0m\u001b[1;33m.\u001b[0m\u001b[0mread\u001b[0m\u001b[1;33m(\u001b[0m\u001b[0mnbytes\u001b[0m\u001b[1;33m,\u001b[0m \u001b[0mbuffer\u001b[0m\u001b[1;33m)\u001b[0m\u001b[1;33m\u001b[0m\u001b[0m\n\u001b[0m\u001b[0;32m   1010\u001b[0m         \u001b[1;32melse\u001b[0m\u001b[1;33m:\u001b[0m\u001b[1;33m\u001b[0m\u001b[0m\n\u001b[0;32m   1011\u001b[0m             \u001b[1;32mreturn\u001b[0m \u001b[0msocket\u001b[0m\u001b[1;33m.\u001b[0m\u001b[0mrecv_into\u001b[0m\u001b[1;33m(\u001b[0m\u001b[0mself\u001b[0m\u001b[1;33m,\u001b[0m \u001b[0mbuffer\u001b[0m\u001b[1;33m,\u001b[0m \u001b[0mnbytes\u001b[0m\u001b[1;33m,\u001b[0m \u001b[0mflags\u001b[0m\u001b[1;33m)\u001b[0m\u001b[1;33m\u001b[0m\u001b[0m\n",
      "\u001b[1;32mc:\\users\\91989\\appdata\\local\\programs\\python\\python36\\lib\\ssl.py\u001b[0m in \u001b[0;36mread\u001b[1;34m(self, len, buffer)\u001b[0m\n\u001b[0;32m    869\u001b[0m             \u001b[1;32mraise\u001b[0m \u001b[0mValueError\u001b[0m\u001b[1;33m(\u001b[0m\u001b[1;34m\"Read on closed or unwrapped SSL socket.\"\u001b[0m\u001b[1;33m)\u001b[0m\u001b[1;33m\u001b[0m\u001b[0m\n\u001b[0;32m    870\u001b[0m         \u001b[1;32mtry\u001b[0m\u001b[1;33m:\u001b[0m\u001b[1;33m\u001b[0m\u001b[0m\n\u001b[1;32m--> 871\u001b[1;33m             \u001b[1;32mreturn\u001b[0m \u001b[0mself\u001b[0m\u001b[1;33m.\u001b[0m\u001b[0m_sslobj\u001b[0m\u001b[1;33m.\u001b[0m\u001b[0mread\u001b[0m\u001b[1;33m(\u001b[0m\u001b[0mlen\u001b[0m\u001b[1;33m,\u001b[0m \u001b[0mbuffer\u001b[0m\u001b[1;33m)\u001b[0m\u001b[1;33m\u001b[0m\u001b[0m\n\u001b[0m\u001b[0;32m    872\u001b[0m         \u001b[1;32mexcept\u001b[0m \u001b[0mSSLError\u001b[0m \u001b[1;32mas\u001b[0m \u001b[0mx\u001b[0m\u001b[1;33m:\u001b[0m\u001b[1;33m\u001b[0m\u001b[0m\n\u001b[0;32m    873\u001b[0m             \u001b[1;32mif\u001b[0m \u001b[0mx\u001b[0m\u001b[1;33m.\u001b[0m\u001b[0margs\u001b[0m\u001b[1;33m[\u001b[0m\u001b[1;36m0\u001b[0m\u001b[1;33m]\u001b[0m \u001b[1;33m==\u001b[0m \u001b[0mSSL_ERROR_EOF\u001b[0m \u001b[1;32mand\u001b[0m \u001b[0mself\u001b[0m\u001b[1;33m.\u001b[0m\u001b[0msuppress_ragged_eofs\u001b[0m\u001b[1;33m:\u001b[0m\u001b[1;33m\u001b[0m\u001b[0m\n",
      "\u001b[1;32mc:\\users\\91989\\appdata\\local\\programs\\python\\python36\\lib\\ssl.py\u001b[0m in \u001b[0;36mread\u001b[1;34m(self, len, buffer)\u001b[0m\n\u001b[0;32m    629\u001b[0m         \"\"\"\n\u001b[0;32m    630\u001b[0m         \u001b[1;32mif\u001b[0m \u001b[0mbuffer\u001b[0m \u001b[1;32mis\u001b[0m \u001b[1;32mnot\u001b[0m \u001b[1;32mNone\u001b[0m\u001b[1;33m:\u001b[0m\u001b[1;33m\u001b[0m\u001b[0m\n\u001b[1;32m--> 631\u001b[1;33m             \u001b[0mv\u001b[0m \u001b[1;33m=\u001b[0m \u001b[0mself\u001b[0m\u001b[1;33m.\u001b[0m\u001b[0m_sslobj\u001b[0m\u001b[1;33m.\u001b[0m\u001b[0mread\u001b[0m\u001b[1;33m(\u001b[0m\u001b[0mlen\u001b[0m\u001b[1;33m,\u001b[0m \u001b[0mbuffer\u001b[0m\u001b[1;33m)\u001b[0m\u001b[1;33m\u001b[0m\u001b[0m\n\u001b[0m\u001b[0;32m    632\u001b[0m         \u001b[1;32melse\u001b[0m\u001b[1;33m:\u001b[0m\u001b[1;33m\u001b[0m\u001b[0m\n\u001b[0;32m    633\u001b[0m             \u001b[0mv\u001b[0m \u001b[1;33m=\u001b[0m \u001b[0mself\u001b[0m\u001b[1;33m.\u001b[0m\u001b[0m_sslobj\u001b[0m\u001b[1;33m.\u001b[0m\u001b[0mread\u001b[0m\u001b[1;33m(\u001b[0m\u001b[0mlen\u001b[0m\u001b[1;33m)\u001b[0m\u001b[1;33m\u001b[0m\u001b[0m\n",
      "\u001b[1;31mKeyboardInterrupt\u001b[0m: "
     ]
    }
   ],
   "source": [
    "params = {'instruments': instrument}\n",
    "order_flag = 'not_ordered'\n",
    "r = pricing.PricingStream(accountID=accountID, params=params)\n",
    "rv = api.request(r)\n",
    "\n",
    "short_list = collections.deque([])\n",
    "short_wma = 0\n",
    "\n",
    "short_moving_window = 3\n",
    "short_weights = get_weights(short_moving_window)\n",
    "first_run = True\n",
    "\n",
    "for i, resp in tqdm(enumerate(rv)):        \n",
    "    resp_type = resp['type']       \n",
    "\n",
    "    if resp_type == 'HEARTBEAT': # Heart beat response to keep the api connection alive (Avoid timeout)\n",
    "        print('heart beat')\n",
    "        pass\n",
    "\n",
    "    elif resp_type == 'PRICE' and order_flag == 'not_ordered': # Check if we are yet to make the order               \n",
    "        date_val, time_val, time_fraction = get_date_time(resp) # Get time stamp for reference            \n",
    "        sell_price, buy_price, spread, tick_price = get_prices(resp) # Get prices from the response                      \n",
    "        \n",
    "        \n",
    "        if len(short_list) < short_moving_window:\n",
    "            short_list.append(tick_price)\n",
    "        elif first_run:\n",
    "            short_wma = sum(np.array(short_list)*short_weights)\n",
    "            #print(short_list, '---' ,short_wma)\n",
    "            first_run =  False\n",
    "        else:\n",
    "            short_list.popleft()   \n",
    "            short_list.append(tick_price) \n",
    "            short_wma = sum(np.array(short_list)*short_weights)\n",
    "            #print(short_list, '---' ,short_wma)"
   ]
  },
  {
   "cell_type": "code",
   "execution_count": 23,
   "metadata": {
    "scrolled": true
   },
   "outputs": [],
   "source": [
    "def get_weights(s):\n",
    "    n = 1/s\n",
    "    val = 0\n",
    "    val_list = []\n",
    "    for i in range(s):\n",
    "        val += n\n",
    "        val_list.append(val)\n",
    "    val_list = np.array(val_list)\n",
    "    tot = sum(val_list)\n",
    "    val_list = val_list/tot\n",
    "    return(val_list)"
   ]
  },
  {
   "cell_type": "code",
   "execution_count": 39,
   "metadata": {
    "scrolled": false
   },
   "outputs": [
    {
     "name": "stderr",
     "output_type": "stream",
     "text": [
      "1it [00:01,  1.15s/it]"
     ]
    },
    {
     "name": "stdout",
     "output_type": "stream",
     "text": [
      "short_wma_list : 0\n",
      "long_wma_list : 0\n"
     ]
    },
    {
     "name": "stderr",
     "output_type": "stream",
     "text": [
      "\r",
      "2it [00:01,  1.14it/s]"
     ]
    },
    {
     "name": "stdout",
     "output_type": "stream",
     "text": [
      "short_wma_list : 0\n",
      "long_wma_list : 0\n"
     ]
    },
    {
     "name": "stderr",
     "output_type": "stream",
     "text": [
      "\r",
      "3it [00:01,  1.45it/s]"
     ]
    },
    {
     "name": "stdout",
     "output_type": "stream",
     "text": [
      "short_wma_list : 0\n",
      "long_wma_list : 0\n"
     ]
    },
    {
     "name": "stderr",
     "output_type": "stream",
     "text": [
      "\r",
      "4it [00:01,  1.79it/s]"
     ]
    },
    {
     "name": "stdout",
     "output_type": "stream",
     "text": [
      "short_wma_list : 0\n",
      "long_wma_list : 0\n"
     ]
    },
    {
     "name": "stderr",
     "output_type": "stream",
     "text": [
      "\r",
      "5it [00:02,  1.86it/s]"
     ]
    },
    {
     "name": "stdout",
     "output_type": "stream",
     "text": [
      "short_wma_list : 0\n",
      "long_wma_list : 0\n"
     ]
    },
    {
     "name": "stderr",
     "output_type": "stream",
     "text": [
      "\r",
      "6it [00:02,  2.21it/s]"
     ]
    },
    {
     "name": "stdout",
     "output_type": "stream",
     "text": [
      "short_wma_list : 0\n",
      "long_wma_list : 0\n"
     ]
    },
    {
     "name": "stderr",
     "output_type": "stream",
     "text": [
      "8it [00:06,  1.19s/it]"
     ]
    },
    {
     "name": "stdout",
     "output_type": "stream",
     "text": [
      "short_wma_list : 0\n",
      "long_wma_list : 0\n"
     ]
    },
    {
     "name": "stderr",
     "output_type": "stream",
     "text": [
      "\r",
      "9it [00:07,  1.10it/s]"
     ]
    },
    {
     "name": "stdout",
     "output_type": "stream",
     "text": [
      "short_wma_list : 0\n",
      "long_wma_list : 0\n"
     ]
    },
    {
     "name": "stderr",
     "output_type": "stream",
     "text": [
      "\r",
      "10it [00:07,  1.16it/s]"
     ]
    },
    {
     "name": "stdout",
     "output_type": "stream",
     "text": [
      "short_wma_list : 0\n",
      "long_wma_list : 0\n"
     ]
    },
    {
     "name": "stderr",
     "output_type": "stream",
     "text": [
      "\r",
      "11it [00:08,  1.21it/s]"
     ]
    },
    {
     "name": "stdout",
     "output_type": "stream",
     "text": [
      "short_wma_list : 0\n",
      "long_wma_list : 0\n"
     ]
    },
    {
     "name": "stderr",
     "output_type": "stream",
     "text": [
      "\r",
      "12it [00:08,  1.53it/s]"
     ]
    },
    {
     "name": "stdout",
     "output_type": "stream",
     "text": [
      "short_wma_list : 0\n",
      "long_wma_list : 0\n"
     ]
    },
    {
     "name": "stderr",
     "output_type": "stream",
     "text": [
      "14it [00:11,  1.24it/s]"
     ]
    },
    {
     "name": "stdout",
     "output_type": "stream",
     "text": [
      "short_wma_list : 0\n",
      "long_wma_list : 0\n"
     ]
    },
    {
     "name": "stderr",
     "output_type": "stream",
     "text": [
      "\r",
      "15it [00:11,  1.57it/s]"
     ]
    },
    {
     "name": "stdout",
     "output_type": "stream",
     "text": [
      "short_wma_list : 0\n",
      "long_wma_list : 0\n"
     ]
    },
    {
     "name": "stderr",
     "output_type": "stream",
     "text": [
      "\r",
      "16it [00:11,  1.68it/s]"
     ]
    },
    {
     "name": "stdout",
     "output_type": "stream",
     "text": [
      "short_wma_list : 0\n",
      "long_wma_list : 0\n"
     ]
    },
    {
     "name": "stderr",
     "output_type": "stream",
     "text": [
      "\r",
      "17it [00:12,  1.56it/s]"
     ]
    },
    {
     "name": "stdout",
     "output_type": "stream",
     "text": [
      "short_wma_list : 0\n",
      "long_wma_list : 0\n"
     ]
    },
    {
     "name": "stderr",
     "output_type": "stream",
     "text": [
      "\r",
      "18it [00:12,  1.91it/s]"
     ]
    },
    {
     "name": "stdout",
     "output_type": "stream",
     "text": [
      "short_wma_list : 0\n",
      "long_wma_list : 0\n"
     ]
    },
    {
     "name": "stderr",
     "output_type": "stream",
     "text": [
      "\r",
      "19it [00:13,  1.93it/s]"
     ]
    },
    {
     "name": "stdout",
     "output_type": "stream",
     "text": [
      "short_wma_list : 0\n",
      "long_wma_list : 0\n"
     ]
    },
    {
     "name": "stderr",
     "output_type": "stream",
     "text": [
      "\r",
      "20it [00:13,  2.28it/s]"
     ]
    },
    {
     "name": "stdout",
     "output_type": "stream",
     "text": [
      "short_wma_list : 0\n",
      "long_wma_list : 0\n"
     ]
    },
    {
     "name": "stderr",
     "output_type": "stream",
     "text": [
      "\r",
      "21it [00:13,  2.62it/s]"
     ]
    },
    {
     "name": "stdout",
     "output_type": "stream",
     "text": [
      "short_wma_list : 0\n",
      "long_wma_list : 0\n"
     ]
    },
    {
     "name": "stderr",
     "output_type": "stream",
     "text": [
      "\r",
      "22it [00:14,  2.93it/s]"
     ]
    },
    {
     "name": "stdout",
     "output_type": "stream",
     "text": [
      "short_wma_list : 1\n",
      "long_wma_list : 0\n"
     ]
    },
    {
     "name": "stderr",
     "output_type": "stream",
     "text": [
      "\r",
      "23it [00:14,  2.15it/s]"
     ]
    },
    {
     "name": "stdout",
     "output_type": "stream",
     "text": [
      "short_wma_list : 2\n",
      "long_wma_list : 0\n"
     ]
    },
    {
     "name": "stderr",
     "output_type": "stream",
     "text": [
      "\r",
      "24it [00:15,  1.82it/s]"
     ]
    },
    {
     "name": "stdout",
     "output_type": "stream",
     "text": [
      "short_wma_list : 3\n",
      "long_wma_list : 0\n"
     ]
    },
    {
     "name": "stderr",
     "output_type": "stream",
     "text": [
      "\r",
      "25it [00:15,  2.18it/s]"
     ]
    },
    {
     "name": "stdout",
     "output_type": "stream",
     "text": [
      "short_wma_list : 4\n",
      "long_wma_list : 0\n"
     ]
    },
    {
     "name": "stderr",
     "output_type": "stream",
     "text": [
      "27it [00:16,  3.14it/s]"
     ]
    },
    {
     "name": "stdout",
     "output_type": "stream",
     "text": [
      "short_wma_list : 5\n",
      "long_wma_list : 0\n"
     ]
    },
    {
     "name": "stderr",
     "output_type": "stream",
     "text": [
      "\r",
      "28it [00:16,  3.89it/s]"
     ]
    },
    {
     "name": "stdout",
     "output_type": "stream",
     "text": [
      "short_wma_list : 6\n",
      "long_wma_list : 0\n"
     ]
    },
    {
     "name": "stderr",
     "output_type": "stream",
     "text": [
      "\r",
      "29it [00:16,  3.92it/s]"
     ]
    },
    {
     "name": "stdout",
     "output_type": "stream",
     "text": [
      "short_wma_list : 7\n",
      "long_wma_list : 0\n"
     ]
    },
    {
     "name": "stderr",
     "output_type": "stream",
     "text": [
      "\r",
      "30it [00:16,  3.96it/s]"
     ]
    },
    {
     "name": "stdout",
     "output_type": "stream",
     "text": [
      "short_wma_list : 8\n",
      "long_wma_list : 0\n"
     ]
    },
    {
     "name": "stderr",
     "output_type": "stream",
     "text": [
      "\r",
      "31it [00:17,  2.49it/s]"
     ]
    },
    {
     "name": "stdout",
     "output_type": "stream",
     "text": [
      "short_wma_list : 9\n",
      "long_wma_list : 0\n"
     ]
    },
    {
     "name": "stderr",
     "output_type": "stream",
     "text": [
      "\r",
      "32it [00:17,  2.80it/s]"
     ]
    },
    {
     "name": "stdout",
     "output_type": "stream",
     "text": [
      "short_wma_list : 10\n",
      "long_wma_list : 0\n"
     ]
    },
    {
     "name": "stderr",
     "output_type": "stream",
     "text": [
      "\r",
      "33it [00:18,  1.81it/s]"
     ]
    },
    {
     "name": "stdout",
     "output_type": "stream",
     "text": [
      "short_wma_list : 11\n",
      "long_wma_list : 0\n"
     ]
    },
    {
     "name": "stderr",
     "output_type": "stream",
     "text": [
      "\r",
      "34it [00:20,  1.20it/s]"
     ]
    },
    {
     "name": "stdout",
     "output_type": "stream",
     "text": [
      "short_wma_list : 12\n",
      "long_wma_list : 0\n"
     ]
    },
    {
     "name": "stderr",
     "output_type": "stream",
     "text": [
      "\r",
      "35it [00:21,  1.23it/s]"
     ]
    },
    {
     "name": "stdout",
     "output_type": "stream",
     "text": [
      "short_wma_list : 13\n",
      "long_wma_list : 0\n"
     ]
    },
    {
     "name": "stderr",
     "output_type": "stream",
     "text": [
      "37it [00:23,  1.04s/it]"
     ]
    },
    {
     "name": "stdout",
     "output_type": "stream",
     "text": [
      "short_wma_list : 14\n",
      "long_wma_list : 0\n"
     ]
    },
    {
     "name": "stderr",
     "output_type": "stream",
     "text": [
      "\r",
      "38it [00:25,  1.25s/it]"
     ]
    },
    {
     "name": "stdout",
     "output_type": "stream",
     "text": [
      "short_wma_list : 15\n",
      "long_wma_list : 0\n"
     ]
    },
    {
     "name": "stderr",
     "output_type": "stream",
     "text": [
      "\r",
      "39it [00:25,  1.05it/s]"
     ]
    },
    {
     "name": "stdout",
     "output_type": "stream",
     "text": [
      "short_wma_list : 16\n",
      "long_wma_list : 0\n"
     ]
    },
    {
     "name": "stderr",
     "output_type": "stream",
     "text": [
      "41it [00:26,  1.23it/s]"
     ]
    },
    {
     "name": "stdout",
     "output_type": "stream",
     "text": [
      "short_wma_list : 17\n",
      "long_wma_list : 0\n"
     ]
    },
    {
     "name": "stderr",
     "output_type": "stream",
     "text": [
      "\r",
      "42it [00:27,  1.39it/s]"
     ]
    },
    {
     "name": "stdout",
     "output_type": "stream",
     "text": [
      "short_wma_list : 18\n",
      "long_wma_list : 0\n"
     ]
    },
    {
     "name": "stderr",
     "output_type": "stream",
     "text": [
      "\r",
      "43it [00:27,  1.53it/s]"
     ]
    },
    {
     "name": "stdout",
     "output_type": "stream",
     "text": [
      "short_wma_list : 19\n",
      "long_wma_list : 0\n"
     ]
    },
    {
     "name": "stderr",
     "output_type": "stream",
     "text": [
      "\r",
      "44it [00:28,  1.64it/s]"
     ]
    },
    {
     "name": "stdout",
     "output_type": "stream",
     "text": [
      "short_wma_list : 20\n",
      "long_wma_list : 0\n"
     ]
    },
    {
     "name": "stderr",
     "output_type": "stream",
     "text": [
      "\r",
      "45it [00:28,  1.99it/s]"
     ]
    },
    {
     "name": "stdout",
     "output_type": "stream",
     "text": [
      "short_wma_list : 21\n",
      "long_wma_list : 0\n"
     ]
    },
    {
     "name": "stderr",
     "output_type": "stream",
     "text": [
      "\r",
      "46it [00:29,  1.99it/s]"
     ]
    },
    {
     "name": "stdout",
     "output_type": "stream",
     "text": [
      "short_wma_list : 22\n",
      "long_wma_list : 0\n"
     ]
    },
    {
     "name": "stderr",
     "output_type": "stream",
     "text": [
      "\r",
      "47it [00:30,  1.54it/s]"
     ]
    },
    {
     "name": "stdout",
     "output_type": "stream",
     "text": [
      "short_wma_list : 23\n",
      "long_wma_list : 0\n"
     ]
    },
    {
     "name": "stderr",
     "output_type": "stream",
     "text": [
      "\r",
      "48it [00:30,  1.65it/s]"
     ]
    },
    {
     "name": "stdout",
     "output_type": "stream",
     "text": [
      "short_wma_list : 24\n",
      "long_wma_list : 0\n"
     ]
    },
    {
     "name": "stderr",
     "output_type": "stream",
     "text": [
      "\r",
      "49it [00:31,  1.74it/s]"
     ]
    },
    {
     "name": "stdout",
     "output_type": "stream",
     "text": [
      "short_wma_list : 25\n",
      "long_wma_list : 0\n"
     ]
    },
    {
     "name": "stderr",
     "output_type": "stream",
     "text": [
      "51it [00:31,  2.22it/s]"
     ]
    },
    {
     "name": "stdout",
     "output_type": "stream",
     "text": [
      "short_wma_list : 26\n",
      "long_wma_list : 0\n"
     ]
    },
    {
     "name": "stderr",
     "output_type": "stream",
     "text": [
      "\r",
      "52it [00:32,  2.56it/s]"
     ]
    },
    {
     "name": "stdout",
     "output_type": "stream",
     "text": [
      "short_wma_list : 27\n",
      "long_wma_list : 0\n"
     ]
    },
    {
     "name": "stderr",
     "output_type": "stream",
     "text": [
      "\r",
      "53it [00:33,  1.75it/s]"
     ]
    },
    {
     "name": "stdout",
     "output_type": "stream",
     "text": [
      "short_wma_list : 28\n",
      "long_wma_list : 0\n"
     ]
    },
    {
     "name": "stderr",
     "output_type": "stream",
     "text": [
      "\r",
      "54it [00:33,  2.10it/s]"
     ]
    },
    {
     "name": "stdout",
     "output_type": "stream",
     "text": [
      "short_wma_list : 29\n",
      "long_wma_list : 0\n"
     ]
    },
    {
     "name": "stderr",
     "output_type": "stream",
     "text": [
      "\r",
      "55it [00:34,  1.58it/s]"
     ]
    },
    {
     "name": "stdout",
     "output_type": "stream",
     "text": [
      "short_wma_list : 30\n",
      "long_wma_list : 0\n"
     ]
    },
    {
     "name": "stderr",
     "output_type": "stream",
     "text": [
      "\r",
      "56it [00:35,  1.22it/s]"
     ]
    },
    {
     "name": "stdout",
     "output_type": "stream",
     "text": [
      "short_wma_list : 31\n",
      "long_wma_list : 0\n"
     ]
    },
    {
     "name": "stderr",
     "output_type": "stream",
     "text": [
      "\r",
      "57it [00:35,  1.54it/s]"
     ]
    },
    {
     "name": "stdout",
     "output_type": "stream",
     "text": [
      "short_wma_list : 32\n",
      "long_wma_list : 0\n"
     ]
    },
    {
     "name": "stderr",
     "output_type": "stream",
     "text": [
      "\r",
      "58it [00:36,  1.89it/s]"
     ]
    },
    {
     "name": "stdout",
     "output_type": "stream",
     "text": [
      "short_wma_list : 33\n",
      "long_wma_list : 0\n"
     ]
    },
    {
     "name": "stderr",
     "output_type": "stream",
     "text": [
      "60it [00:41,  1.78s/it]"
     ]
    },
    {
     "name": "stdout",
     "output_type": "stream",
     "text": [
      "short_wma_list : 34\n",
      "long_wma_list : 0\n"
     ]
    },
    {
     "name": "stderr",
     "output_type": "stream",
     "text": [
      "\r",
      "61it [00:41,  1.32s/it]"
     ]
    },
    {
     "name": "stdout",
     "output_type": "stream",
     "text": [
      "short_wma_list : 35\n",
      "long_wma_list : 0\n"
     ]
    },
    {
     "name": "stderr",
     "output_type": "stream",
     "text": [
      "63it [00:43,  1.22s/it]"
     ]
    },
    {
     "name": "stdout",
     "output_type": "stream",
     "text": [
      "short_wma_list : 36\n",
      "long_wma_list : 0\n"
     ]
    },
    {
     "name": "stderr",
     "output_type": "stream",
     "text": [
      "66it [00:52,  2.02s/it]"
     ]
    },
    {
     "name": "stdout",
     "output_type": "stream",
     "text": [
      "short_wma_list : 37\n",
      "long_wma_list : 0\n"
     ]
    },
    {
     "name": "stderr",
     "output_type": "stream",
     "text": [
      "\r",
      "67it [00:52,  1.46s/it]"
     ]
    },
    {
     "name": "stdout",
     "output_type": "stream",
     "text": [
      "short_wma_list : 38\n",
      "long_wma_list : 0\n"
     ]
    },
    {
     "name": "stderr",
     "output_type": "stream",
     "text": [
      "\r",
      "68it [00:53,  1.40s/it]"
     ]
    },
    {
     "name": "stdout",
     "output_type": "stream",
     "text": [
      "short_wma_list : 39\n",
      "long_wma_list : 0\n"
     ]
    },
    {
     "name": "stderr",
     "output_type": "stream",
     "text": [
      "\r",
      "69it [00:53,  1.05s/it]"
     ]
    },
    {
     "name": "stdout",
     "output_type": "stream",
     "text": [
      "short_wma_list : 40\n",
      "long_wma_list : 0\n"
     ]
    },
    {
     "name": "stderr",
     "output_type": "stream",
     "text": [
      "\r",
      "70it [00:54,  1.22it/s]"
     ]
    },
    {
     "name": "stdout",
     "output_type": "stream",
     "text": [
      "short_wma_list : 41\n",
      "long_wma_list : 0\n"
     ]
    },
    {
     "name": "stderr",
     "output_type": "stream",
     "text": [
      "\r",
      "71it [00:54,  1.56it/s]"
     ]
    },
    {
     "name": "stdout",
     "output_type": "stream",
     "text": [
      "short_wma_list : 42\n",
      "long_wma_list : 0\n"
     ]
    },
    {
     "name": "stderr",
     "output_type": "stream",
     "text": [
      "\r",
      "72it [00:55,  1.33it/s]"
     ]
    },
    {
     "name": "stdout",
     "output_type": "stream",
     "text": [
      "short_wma_list : 43\n",
      "long_wma_list : 0\n"
     ]
    },
    {
     "name": "stderr",
     "output_type": "stream",
     "text": [
      "\r",
      "73it [00:55,  1.67it/s]"
     ]
    },
    {
     "name": "stdout",
     "output_type": "stream",
     "text": [
      "short_wma_list : 44\n",
      "long_wma_list : 0\n"
     ]
    },
    {
     "name": "stderr",
     "output_type": "stream",
     "text": [
      "75it [00:57,  1.39it/s]"
     ]
    },
    {
     "name": "stdout",
     "output_type": "stream",
     "text": [
      "short_wma_list : 45\n",
      "long_wma_list : 0\n"
     ]
    },
    {
     "name": "stderr",
     "output_type": "stream",
     "text": [
      "\r",
      "76it [00:58,  1.49it/s]"
     ]
    },
    {
     "name": "stdout",
     "output_type": "stream",
     "text": [
      "short_wma_list : 46\n",
      "long_wma_list : 0\n"
     ]
    },
    {
     "name": "stderr",
     "output_type": "stream",
     "text": [
      "\r",
      "77it [00:58,  1.83it/s]"
     ]
    },
    {
     "name": "stdout",
     "output_type": "stream",
     "text": [
      "short_wma_list : 47\n",
      "long_wma_list : 0\n"
     ]
    },
    {
     "name": "stderr",
     "output_type": "stream",
     "text": [
      "\r",
      "78it [00:58,  2.19it/s]"
     ]
    },
    {
     "name": "stdout",
     "output_type": "stream",
     "text": [
      "short_wma_list : 48\n",
      "long_wma_list : 0\n"
     ]
    },
    {
     "name": "stderr",
     "output_type": "stream",
     "text": [
      "\r",
      "79it [00:58,  2.54it/s]"
     ]
    },
    {
     "name": "stdout",
     "output_type": "stream",
     "text": [
      "short_wma_list : 49\n",
      "long_wma_list : 0\n"
     ]
    },
    {
     "name": "stderr",
     "output_type": "stream",
     "text": [
      "\r",
      "80it [01:00,  1.38it/s]"
     ]
    },
    {
     "name": "stdout",
     "output_type": "stream",
     "text": [
      "short_wma_list : 50\n",
      "long_wma_list : 0\n"
     ]
    },
    {
     "name": "stderr",
     "output_type": "stream",
     "text": [
      "\r",
      "81it [01:00,  1.71it/s]"
     ]
    },
    {
     "name": "stdout",
     "output_type": "stream",
     "text": [
      "short_wma_list : 51\n",
      "long_wma_list : 0\n"
     ]
    },
    {
     "name": "stderr",
     "output_type": "stream",
     "text": [
      "\r",
      "82it [01:02,  1.17it/s]"
     ]
    },
    {
     "name": "stdout",
     "output_type": "stream",
     "text": [
      "short_wma_list : 52\n",
      "long_wma_list : 0\n"
     ]
    },
    {
     "name": "stderr",
     "output_type": "stream",
     "text": [
      "84it [01:02,  1.69it/s]"
     ]
    },
    {
     "name": "stdout",
     "output_type": "stream",
     "text": [
      "short_wma_list : 53\n",
      "long_wma_list : 0\n"
     ]
    },
    {
     "name": "stderr",
     "output_type": "stream",
     "text": [
      "\r",
      "85it [01:03,  1.40it/s]"
     ]
    },
    {
     "name": "stdout",
     "output_type": "stream",
     "text": [
      "short_wma_list : 54\n",
      "long_wma_list : 0\n"
     ]
    },
    {
     "name": "stderr",
     "output_type": "stream",
     "text": [
      "\r",
      "86it [01:04,  1.54it/s]"
     ]
    },
    {
     "name": "stdout",
     "output_type": "stream",
     "text": [
      "short_wma_list : 55\n",
      "long_wma_list : 0\n"
     ]
    },
    {
     "name": "stderr",
     "output_type": "stream",
     "text": [
      "\r",
      "87it [01:07,  1.28s/it]"
     ]
    },
    {
     "name": "stdout",
     "output_type": "stream",
     "text": [
      "short_wma_list : 56\n",
      "long_wma_list : 0\n"
     ]
    },
    {
     "name": "stderr",
     "output_type": "stream",
     "text": [
      "\r",
      "88it [01:07,  1.03it/s]"
     ]
    },
    {
     "name": "stdout",
     "output_type": "stream",
     "text": [
      "short_wma_list : 57\n",
      "long_wma_list : 0\n"
     ]
    },
    {
     "name": "stderr",
     "output_type": "stream",
     "text": [
      "90it [01:07,  1.68it/s]"
     ]
    },
    {
     "name": "stdout",
     "output_type": "stream",
     "text": [
      "short_wma_list : 58\n",
      "long_wma_list : 0\n"
     ]
    },
    {
     "name": "stderr",
     "output_type": "stream",
     "text": [
      "\r",
      "91it [01:08,  1.76it/s]"
     ]
    },
    {
     "name": "stdout",
     "output_type": "stream",
     "text": [
      "short_wma_list : 59\n",
      "long_wma_list : 0\n"
     ]
    },
    {
     "name": "stderr",
     "output_type": "stream",
     "text": [
      "\r",
      "92it [01:08,  1.83it/s]"
     ]
    },
    {
     "name": "stdout",
     "output_type": "stream",
     "text": [
      "short_wma_list : 60\n",
      "long_wma_list : 0\n"
     ]
    },
    {
     "name": "stderr",
     "output_type": "stream",
     "text": [
      "\r",
      "93it [01:09,  1.87it/s]"
     ]
    },
    {
     "name": "stdout",
     "output_type": "stream",
     "text": [
      "short_wma_list : 61\n",
      "long_wma_list : 0\n"
     ]
    },
    {
     "name": "stderr",
     "output_type": "stream",
     "text": [
      "\r",
      "94it [01:09,  2.22it/s]"
     ]
    },
    {
     "name": "stdout",
     "output_type": "stream",
     "text": [
      "short_wma_list : 62\n",
      "long_wma_list : 0\n"
     ]
    },
    {
     "name": "stderr",
     "output_type": "stream",
     "text": [
      "\r",
      "95it [01:10,  1.86it/s]"
     ]
    },
    {
     "name": "stdout",
     "output_type": "stream",
     "text": [
      "short_wma_list : 63\n",
      "long_wma_list : 0\n"
     ]
    },
    {
     "name": "stderr",
     "output_type": "stream",
     "text": [
      "\r",
      "96it [01:10,  2.20it/s]"
     ]
    },
    {
     "name": "stdout",
     "output_type": "stream",
     "text": [
      "short_wma_list : 64\n",
      "long_wma_list : 0\n"
     ]
    },
    {
     "name": "stderr",
     "output_type": "stream",
     "text": [
      "\r",
      "97it [01:10,  2.56it/s]"
     ]
    },
    {
     "name": "stdout",
     "output_type": "stream",
     "text": [
      "short_wma_list : 65\n",
      "long_wma_list : 0\n"
     ]
    },
    {
     "name": "stderr",
     "output_type": "stream",
     "text": [
      "\r",
      "98it [01:11,  2.36it/s]"
     ]
    },
    {
     "name": "stdout",
     "output_type": "stream",
     "text": [
      "short_wma_list : 66\n",
      "long_wma_list : 0\n"
     ]
    },
    {
     "name": "stderr",
     "output_type": "stream",
     "text": [
      "\r",
      "99it [01:12,  1.68it/s]"
     ]
    },
    {
     "name": "stdout",
     "output_type": "stream",
     "text": [
      "short_wma_list : 67\n",
      "long_wma_list : 0\n"
     ]
    },
    {
     "name": "stderr",
     "output_type": "stream",
     "text": [
      "101it [01:13,  2.04it/s]"
     ]
    },
    {
     "name": "stdout",
     "output_type": "stream",
     "text": [
      "short_wma_list : 68\n",
      "long_wma_list : 0\n"
     ]
    },
    {
     "name": "stderr",
     "output_type": "stream",
     "text": [
      "\r",
      "102it [01:13,  2.41it/s]"
     ]
    },
    {
     "name": "stdout",
     "output_type": "stream",
     "text": [
      "short_wma_list : 69\n",
      "long_wma_list : 0\n"
     ]
    },
    {
     "name": "stderr",
     "output_type": "stream",
     "text": [
      "\r",
      "103it [01:13,  2.26it/s]"
     ]
    },
    {
     "name": "stdout",
     "output_type": "stream",
     "text": [
      "short_wma_list : 70\n",
      "long_wma_list : 0\n"
     ]
    },
    {
     "name": "stderr",
     "output_type": "stream",
     "text": [
      "\r",
      "104it [01:14,  1.87it/s]"
     ]
    },
    {
     "name": "stdout",
     "output_type": "stream",
     "text": [
      "short_wma_list : 71\n",
      "long_wma_list : 0\n"
     ]
    },
    {
     "name": "stderr",
     "output_type": "stream",
     "text": [
      "\r",
      "105it [01:17,  1.13s/it]"
     ]
    },
    {
     "name": "stdout",
     "output_type": "stream",
     "text": [
      "short_wma_list : 72\n",
      "long_wma_list : 0\n"
     ]
    },
    {
     "name": "stderr",
     "output_type": "stream",
     "text": [
      "107it [01:17,  1.37it/s]"
     ]
    },
    {
     "name": "stdout",
     "output_type": "stream",
     "text": [
      "short_wma_list : 73\n",
      "long_wma_list : 0\n"
     ]
    },
    {
     "name": "stderr",
     "output_type": "stream",
     "text": [
      "\r",
      "108it [01:18,  1.72it/s]"
     ]
    },
    {
     "name": "stdout",
     "output_type": "stream",
     "text": [
      "short_wma_list : 74\n",
      "long_wma_list : 0\n"
     ]
    },
    {
     "name": "stderr",
     "output_type": "stream",
     "text": [
      "\r",
      "109it [01:18,  2.08it/s]"
     ]
    },
    {
     "name": "stdout",
     "output_type": "stream",
     "text": [
      "short_wma_list : 75\n",
      "long_wma_list : 0\n"
     ]
    },
    {
     "name": "stderr",
     "output_type": "stream",
     "text": [
      "\r",
      "110it [01:20,  1.01s/it]"
     ]
    },
    {
     "name": "stdout",
     "output_type": "stream",
     "text": [
      "short_wma_list : 76\n",
      "long_wma_list : 0\n"
     ]
    },
    {
     "name": "stderr",
     "output_type": "stream",
     "text": [
      "\r",
      "111it [01:20,  1.28it/s]"
     ]
    },
    {
     "name": "stdout",
     "output_type": "stream",
     "text": [
      "short_wma_list : 77\n",
      "long_wma_list : 0\n"
     ]
    },
    {
     "name": "stderr",
     "output_type": "stream",
     "text": [
      "\r",
      "112it [01:21,  1.61it/s]"
     ]
    },
    {
     "name": "stdout",
     "output_type": "stream",
     "text": [
      "short_wma_list : 78\n",
      "long_wma_list : 0\n"
     ]
    },
    {
     "name": "stderr",
     "output_type": "stream",
     "text": [
      "\r",
      "113it [01:21,  1.71it/s]"
     ]
    },
    {
     "name": "stdout",
     "output_type": "stream",
     "text": [
      "short_wma_list : 79\n",
      "long_wma_list : 0\n"
     ]
    },
    {
     "name": "stderr",
     "output_type": "stream",
     "text": [
      "\r",
      "114it [01:21,  2.05it/s]"
     ]
    },
    {
     "name": "stdout",
     "output_type": "stream",
     "text": [
      "short_wma_list : 80\n",
      "long_wma_list : 0\n"
     ]
    },
    {
     "name": "stderr",
     "output_type": "stream",
     "text": [
      "\r",
      "115it [01:22,  2.41it/s]"
     ]
    },
    {
     "name": "stdout",
     "output_type": "stream",
     "text": [
      "short_wma_list : 81\n",
      "long_wma_list : 1\n"
     ]
    },
    {
     "name": "stderr",
     "output_type": "stream",
     "text": [
      "117it [01:26,  1.43s/it]"
     ]
    },
    {
     "name": "stdout",
     "output_type": "stream",
     "text": [
      "short_wma_list : 82\n",
      "long_wma_list : 2\n"
     ]
    },
    {
     "name": "stderr",
     "output_type": "stream",
     "text": [
      "\r",
      "118it [01:26,  1.07s/it]"
     ]
    },
    {
     "name": "stdout",
     "output_type": "stream",
     "text": [
      "short_wma_list : 83\n",
      "long_wma_list : 3\n"
     ]
    },
    {
     "name": "stderr",
     "output_type": "stream",
     "text": [
      "\r",
      "119it [01:26,  1.21it/s]"
     ]
    },
    {
     "name": "stdout",
     "output_type": "stream",
     "text": [
      "short_wma_list : 84\n",
      "long_wma_list : 4\n"
     ]
    },
    {
     "name": "stderr",
     "output_type": "stream",
     "text": [
      "121it [01:30,  1.46s/it]"
     ]
    },
    {
     "name": "stdout",
     "output_type": "stream",
     "text": [
      "short_wma_list : 85\n",
      "long_wma_list : 5\n"
     ]
    },
    {
     "name": "stderr",
     "output_type": "stream",
     "text": [
      "\r",
      "122it [01:30,  1.09s/it]"
     ]
    },
    {
     "name": "stdout",
     "output_type": "stream",
     "text": [
      "short_wma_list : 86\n",
      "long_wma_list : 6\n"
     ]
    },
    {
     "name": "stderr",
     "output_type": "stream",
     "text": [
      "\r",
      "123it [01:32,  1.14s/it]"
     ]
    },
    {
     "name": "stdout",
     "output_type": "stream",
     "text": [
      "short_wma_list : 87\n",
      "long_wma_list : 7\n"
     ]
    },
    {
     "name": "stderr",
     "output_type": "stream",
     "text": [
      "125it [01:36,  1.71s/it]"
     ]
    },
    {
     "name": "stdout",
     "output_type": "stream",
     "text": [
      "short_wma_list : 88\n",
      "long_wma_list : 8\n"
     ]
    },
    {
     "name": "stderr",
     "output_type": "stream",
     "text": [
      "\r",
      "126it [01:36,  1.27s/it]"
     ]
    },
    {
     "name": "stdout",
     "output_type": "stream",
     "text": [
      "short_wma_list : 89\n",
      "long_wma_list : 9\n"
     ]
    },
    {
     "name": "stderr",
     "output_type": "stream",
     "text": [
      "\r",
      "127it [01:36,  1.04it/s]"
     ]
    },
    {
     "name": "stdout",
     "output_type": "stream",
     "text": [
      "short_wma_list : 90\n",
      "long_wma_list : 10\n"
     ]
    },
    {
     "name": "stderr",
     "output_type": "stream",
     "text": [
      "\r",
      "128it [01:36,  1.33it/s]"
     ]
    },
    {
     "name": "stdout",
     "output_type": "stream",
     "text": [
      "short_wma_list : 91\n",
      "long_wma_list : 11\n"
     ]
    },
    {
     "name": "stderr",
     "output_type": "stream",
     "text": [
      "130it [01:39,  1.05it/s]"
     ]
    },
    {
     "name": "stdout",
     "output_type": "stream",
     "text": [
      "short_wma_list : 92\n",
      "long_wma_list : 12\n"
     ]
    },
    {
     "name": "stderr",
     "output_type": "stream",
     "text": [
      "\r",
      "131it [01:39,  1.23it/s]"
     ]
    },
    {
     "name": "stdout",
     "output_type": "stream",
     "text": [
      "short_wma_list : 93\n",
      "long_wma_list : 13\n"
     ]
    },
    {
     "name": "stderr",
     "output_type": "stream",
     "text": [
      "\r",
      "132it [01:41,  1.02s/it]"
     ]
    },
    {
     "name": "stdout",
     "output_type": "stream",
     "text": [
      "short_wma_list : 94\n",
      "long_wma_list : 14\n"
     ]
    },
    {
     "name": "stderr",
     "output_type": "stream",
     "text": [
      "\r",
      "133it [01:41,  1.27it/s]"
     ]
    },
    {
     "name": "stdout",
     "output_type": "stream",
     "text": [
      "short_wma_list : 95\n",
      "long_wma_list : 15\n"
     ]
    },
    {
     "name": "stderr",
     "output_type": "stream",
     "text": [
      "135it [01:43,  1.30it/s]"
     ]
    },
    {
     "name": "stdout",
     "output_type": "stream",
     "text": [
      "short_wma_list : 96\n",
      "long_wma_list : 16\n"
     ]
    },
    {
     "name": "stderr",
     "output_type": "stream",
     "text": [
      "\r",
      "136it [01:43,  1.63it/s]"
     ]
    },
    {
     "name": "stdout",
     "output_type": "stream",
     "text": [
      "short_wma_list : 97\n",
      "long_wma_list : 17\n"
     ]
    },
    {
     "name": "stderr",
     "output_type": "stream",
     "text": [
      "\r",
      "137it [01:45,  1.03s/it]"
     ]
    },
    {
     "name": "stdout",
     "output_type": "stream",
     "text": [
      "short_wma_list : 98\n",
      "long_wma_list : 18\n"
     ]
    },
    {
     "name": "stderr",
     "output_type": "stream",
     "text": [
      "\r",
      "138it [01:45,  1.15it/s]"
     ]
    },
    {
     "name": "stdout",
     "output_type": "stream",
     "text": [
      "short_wma_list : 99\n",
      "long_wma_list : 19\n"
     ]
    },
    {
     "name": "stderr",
     "output_type": "stream",
     "text": [
      "140it [01:49,  1.37s/it]"
     ]
    },
    {
     "name": "stdout",
     "output_type": "stream",
     "text": [
      "short_wma_list : 100\n",
      "long_wma_list : 20\n"
     ]
    },
    {
     "name": "stderr",
     "output_type": "stream",
     "text": [
      "\r",
      "141it [01:49,  1.03s/it]"
     ]
    },
    {
     "name": "stdout",
     "output_type": "stream",
     "text": [
      "short_wma_list : 100\n",
      "long_wma_list : 21\n"
     ]
    },
    {
     "name": "stderr",
     "output_type": "stream",
     "text": [
      "\r",
      "142it [01:50,  1.26it/s]"
     ]
    },
    {
     "name": "stdout",
     "output_type": "stream",
     "text": [
      "short_wma_list : 100\n",
      "long_wma_list : 22\n"
     ]
    },
    {
     "name": "stderr",
     "output_type": "stream",
     "text": [
      "\r",
      "143it [01:50,  1.58it/s]"
     ]
    },
    {
     "name": "stdout",
     "output_type": "stream",
     "text": [
      "short_wma_list : 100\n",
      "long_wma_list : 23\n"
     ]
    },
    {
     "name": "stderr",
     "output_type": "stream",
     "text": [
      "\r",
      "144it [01:50,  1.93it/s]"
     ]
    },
    {
     "name": "stdout",
     "output_type": "stream",
     "text": [
      "short_wma_list : 100\n",
      "long_wma_list : 24\n"
     ]
    },
    {
     "name": "stderr",
     "output_type": "stream",
     "text": [
      "\r",
      "145it [01:51,  1.94it/s]"
     ]
    },
    {
     "name": "stdout",
     "output_type": "stream",
     "text": [
      "short_wma_list : 100\n",
      "long_wma_list : 25\n"
     ]
    },
    {
     "name": "stderr",
     "output_type": "stream",
     "text": [
      "147it [01:53,  1.19it/s]"
     ]
    },
    {
     "name": "stdout",
     "output_type": "stream",
     "text": [
      "short_wma_list : 100\n",
      "long_wma_list : 26\n"
     ]
    },
    {
     "name": "stderr",
     "output_type": "stream",
     "text": [
      "\r",
      "148it [01:54,  1.13it/s]"
     ]
    },
    {
     "name": "stdout",
     "output_type": "stream",
     "text": [
      "short_wma_list : 100\n",
      "long_wma_list : 27\n"
     ]
    },
    {
     "name": "stderr",
     "output_type": "stream",
     "text": [
      "\r",
      "149it [01:54,  1.44it/s]"
     ]
    },
    {
     "name": "stdout",
     "output_type": "stream",
     "text": [
      "short_wma_list : 100\n",
      "long_wma_list : 28\n"
     ]
    },
    {
     "name": "stderr",
     "output_type": "stream",
     "text": [
      "\r",
      "150it [01:55,  1.78it/s]"
     ]
    },
    {
     "name": "stdout",
     "output_type": "stream",
     "text": [
      "short_wma_list : 100\n",
      "long_wma_list : 29\n"
     ]
    },
    {
     "name": "stderr",
     "output_type": "stream",
     "text": [
      "\r",
      "151it [01:55,  2.13it/s]"
     ]
    },
    {
     "name": "stdout",
     "output_type": "stream",
     "text": [
      "short_wma_list : 100\n",
      "long_wma_list : 30\n"
     ]
    },
    {
     "name": "stderr",
     "output_type": "stream",
     "text": [
      "\r",
      "152it [01:55,  2.47it/s]"
     ]
    },
    {
     "name": "stdout",
     "output_type": "stream",
     "text": [
      "short_wma_list : 100\n",
      "long_wma_list : 31\n"
     ]
    },
    {
     "name": "stderr",
     "output_type": "stream",
     "text": [
      "\r",
      "153it [01:55,  2.81it/s]"
     ]
    },
    {
     "name": "stdout",
     "output_type": "stream",
     "text": [
      "short_wma_list : 100\n",
      "long_wma_list : 32\n"
     ]
    },
    {
     "name": "stderr",
     "output_type": "stream",
     "text": [
      "\r",
      "154it [01:56,  2.50it/s]"
     ]
    },
    {
     "name": "stdout",
     "output_type": "stream",
     "text": [
      "short_wma_list : 100\n",
      "long_wma_list : 33\n"
     ]
    },
    {
     "name": "stderr",
     "output_type": "stream",
     "text": [
      "\r",
      "155it [01:56,  2.82it/s]"
     ]
    },
    {
     "name": "stdout",
     "output_type": "stream",
     "text": [
      "short_wma_list : 100\n",
      "long_wma_list : 34\n"
     ]
    },
    {
     "name": "stderr",
     "output_type": "stream",
     "text": [
      "\r",
      "156it [01:57,  2.11it/s]"
     ]
    },
    {
     "name": "stdout",
     "output_type": "stream",
     "text": [
      "short_wma_list : 100\n",
      "long_wma_list : 35\n"
     ]
    },
    {
     "name": "stderr",
     "output_type": "stream",
     "text": [
      "\r",
      "157it [01:57,  2.46it/s]"
     ]
    },
    {
     "name": "stdout",
     "output_type": "stream",
     "text": [
      "short_wma_list : 100\n",
      "long_wma_list : 36\n"
     ]
    },
    {
     "name": "stderr",
     "output_type": "stream",
     "text": [
      "\r",
      "158it [01:57,  2.78it/s]"
     ]
    },
    {
     "name": "stdout",
     "output_type": "stream",
     "text": [
      "short_wma_list : 100\n",
      "long_wma_list : 37\n"
     ]
    },
    {
     "name": "stderr",
     "output_type": "stream",
     "text": [
      "160it [01:59,  1.49it/s]"
     ]
    },
    {
     "name": "stdout",
     "output_type": "stream",
     "text": [
      "short_wma_list : 100\n",
      "long_wma_list : 38\n"
     ]
    },
    {
     "name": "stderr",
     "output_type": "stream",
     "text": [
      "\r",
      "161it [01:59,  1.83it/s]"
     ]
    },
    {
     "name": "stdout",
     "output_type": "stream",
     "text": [
      "short_wma_list : 100\n",
      "long_wma_list : 39\n"
     ]
    },
    {
     "name": "stderr",
     "output_type": "stream",
     "text": [
      "\r",
      "162it [02:00,  1.65it/s]"
     ]
    },
    {
     "name": "stdout",
     "output_type": "stream",
     "text": [
      "short_wma_list : 100\n",
      "long_wma_list : 40\n"
     ]
    },
    {
     "name": "stderr",
     "output_type": "stream",
     "text": [
      "\r",
      "163it [02:00,  2.00it/s]"
     ]
    },
    {
     "name": "stdout",
     "output_type": "stream",
     "text": [
      "short_wma_list : 100\n",
      "long_wma_list : 41\n"
     ]
    },
    {
     "name": "stderr",
     "output_type": "stream",
     "text": [
      "165it [02:05,  1.54s/it]"
     ]
    },
    {
     "name": "stdout",
     "output_type": "stream",
     "text": [
      "short_wma_list : 100\n",
      "long_wma_list : 42\n"
     ]
    },
    {
     "name": "stderr",
     "output_type": "stream",
     "text": [
      "\r",
      "166it [02:07,  1.53s/it]"
     ]
    },
    {
     "name": "stdout",
     "output_type": "stream",
     "text": [
      "short_wma_list : 100\n",
      "long_wma_list : 43\n"
     ]
    },
    {
     "name": "stderr",
     "output_type": "stream",
     "text": [
      "\r",
      "167it [02:07,  1.14s/it]"
     ]
    },
    {
     "name": "stdout",
     "output_type": "stream",
     "text": [
      "short_wma_list : 100\n",
      "long_wma_list : 44\n"
     ]
    },
    {
     "name": "stderr",
     "output_type": "stream",
     "text": [
      "\r",
      "168it [02:08,  1.05it/s]"
     ]
    },
    {
     "name": "stdout",
     "output_type": "stream",
     "text": [
      "short_wma_list : 100\n",
      "long_wma_list : 45\n"
     ]
    },
    {
     "name": "stderr",
     "output_type": "stream",
     "text": [
      "\r",
      "170it [02:08,  1.42it/s]"
     ]
    },
    {
     "name": "stdout",
     "output_type": "stream",
     "text": [
      "short_wma_list : 100\n",
      "long_wma_list : 46\n"
     ]
    },
    {
     "name": "stderr",
     "output_type": "stream",
     "text": [
      "\r",
      "171it [02:09,  1.39it/s]"
     ]
    },
    {
     "name": "stdout",
     "output_type": "stream",
     "text": [
      "short_wma_list : 100\n",
      "long_wma_list : 47\n"
     ]
    },
    {
     "name": "stderr",
     "output_type": "stream",
     "text": [
      "\r",
      "172it [02:10,  1.25it/s]"
     ]
    },
    {
     "name": "stdout",
     "output_type": "stream",
     "text": [
      "short_wma_list : 100\n",
      "long_wma_list : 48\n"
     ]
    },
    {
     "name": "stderr",
     "output_type": "stream",
     "text": [
      "\r",
      "173it [02:10,  1.57it/s]"
     ]
    },
    {
     "name": "stdout",
     "output_type": "stream",
     "text": [
      "short_wma_list : 100\n",
      "long_wma_list : 49\n"
     ]
    },
    {
     "name": "stderr",
     "output_type": "stream",
     "text": [
      "\r",
      "174it [02:11,  1.34it/s]"
     ]
    },
    {
     "name": "stdout",
     "output_type": "stream",
     "text": [
      "short_wma_list : 100\n",
      "long_wma_list : 50\n"
     ]
    },
    {
     "name": "stderr",
     "output_type": "stream",
     "text": [
      "\r",
      "175it [02:12,  1.21it/s]"
     ]
    },
    {
     "name": "stdout",
     "output_type": "stream",
     "text": [
      "short_wma_list : 100\n",
      "long_wma_list : 51\n"
     ]
    },
    {
     "name": "stderr",
     "output_type": "stream",
     "text": [
      "\r",
      "176it [02:13,  1.25it/s]"
     ]
    },
    {
     "name": "stdout",
     "output_type": "stream",
     "text": [
      "short_wma_list : 100\n",
      "long_wma_list : 52\n"
     ]
    },
    {
     "name": "stderr",
     "output_type": "stream",
     "text": [
      "\r",
      "178it [02:13,  1.67it/s]"
     ]
    },
    {
     "name": "stdout",
     "output_type": "stream",
     "text": [
      "short_wma_list : 100\n",
      "long_wma_list : 53\n"
     ]
    },
    {
     "name": "stderr",
     "output_type": "stream",
     "text": [
      "\r",
      "179it [02:15,  1.06it/s]"
     ]
    },
    {
     "name": "stdout",
     "output_type": "stream",
     "text": [
      "short_wma_list : 100\n",
      "long_wma_list : 54\n"
     ]
    },
    {
     "name": "stderr",
     "output_type": "stream",
     "text": [
      "\r",
      "180it [02:15,  1.36it/s]"
     ]
    },
    {
     "name": "stdout",
     "output_type": "stream",
     "text": [
      "short_wma_list : 100\n",
      "long_wma_list : 55\n"
     ]
    },
    {
     "name": "stderr",
     "output_type": "stream",
     "text": [
      "\r",
      "181it [02:15,  1.51it/s]"
     ]
    },
    {
     "name": "stdout",
     "output_type": "stream",
     "text": [
      "short_wma_list : 100\n",
      "long_wma_list : 56\n"
     ]
    },
    {
     "name": "stderr",
     "output_type": "stream",
     "text": [
      "\r",
      "182it [02:16,  1.84it/s]"
     ]
    },
    {
     "name": "stdout",
     "output_type": "stream",
     "text": [
      "short_wma_list : 100\n",
      "long_wma_list : 57\n"
     ]
    },
    {
     "name": "stderr",
     "output_type": "stream",
     "text": [
      "\r",
      "183it [02:16,  2.21it/s]"
     ]
    },
    {
     "name": "stdout",
     "output_type": "stream",
     "text": [
      "short_wma_list : 100\n",
      "long_wma_list : 58\n"
     ]
    },
    {
     "name": "stderr",
     "output_type": "stream",
     "text": [
      "\r",
      "184it [02:16,  2.14it/s]"
     ]
    },
    {
     "name": "stdout",
     "output_type": "stream",
     "text": [
      "short_wma_list : 100\n",
      "long_wma_list : 59\n"
     ]
    },
    {
     "name": "stderr",
     "output_type": "stream",
     "text": [
      "\r",
      "185it [02:17,  2.48it/s]"
     ]
    },
    {
     "name": "stdout",
     "output_type": "stream",
     "text": [
      "short_wma_list : 100\n",
      "long_wma_list : 60\n"
     ]
    },
    {
     "name": "stderr",
     "output_type": "stream",
     "text": [
      "\r",
      "186it [02:17,  2.31it/s]"
     ]
    },
    {
     "name": "stdout",
     "output_type": "stream",
     "text": [
      "short_wma_list : 100\n",
      "long_wma_list : 61\n"
     ]
    },
    {
     "name": "stderr",
     "output_type": "stream",
     "text": [
      "\r",
      "187it [02:18,  2.65it/s]"
     ]
    },
    {
     "name": "stdout",
     "output_type": "stream",
     "text": [
      "short_wma_list : 100\n",
      "long_wma_list : 62\n"
     ]
    },
    {
     "name": "stderr",
     "output_type": "stream",
     "text": [
      "\r",
      "188it [02:18,  2.95it/s]"
     ]
    },
    {
     "name": "stdout",
     "output_type": "stream",
     "text": [
      "short_wma_list : 100\n",
      "long_wma_list : 63\n"
     ]
    },
    {
     "name": "stderr",
     "output_type": "stream",
     "text": [
      "\r",
      "190it [02:18,  3.64it/s]"
     ]
    },
    {
     "name": "stdout",
     "output_type": "stream",
     "text": [
      "short_wma_list : 100\n",
      "long_wma_list : 64\n"
     ]
    },
    {
     "name": "stderr",
     "output_type": "stream",
     "text": [
      "\r",
      "191it [02:19,  2.40it/s]"
     ]
    },
    {
     "name": "stdout",
     "output_type": "stream",
     "text": [
      "short_wma_list : 100\n",
      "long_wma_list : 65\n"
     ]
    },
    {
     "name": "stderr",
     "output_type": "stream",
     "text": [
      "193it [02:23,  1.19s/it]"
     ]
    },
    {
     "name": "stdout",
     "output_type": "stream",
     "text": [
      "short_wma_list : 100\n",
      "long_wma_list : 66\n"
     ]
    },
    {
     "name": "stderr",
     "output_type": "stream",
     "text": [
      "\r",
      "194it [02:24,  1.10it/s]"
     ]
    },
    {
     "name": "stdout",
     "output_type": "stream",
     "text": [
      "short_wma_list : 100\n",
      "long_wma_list : 67\n"
     ]
    },
    {
     "name": "stderr",
     "output_type": "stream",
     "text": [
      "\r",
      "195it [02:24,  1.40it/s]"
     ]
    },
    {
     "name": "stdout",
     "output_type": "stream",
     "text": [
      "short_wma_list : 100\n",
      "long_wma_list : 68\n"
     ]
    },
    {
     "name": "stderr",
     "output_type": "stream",
     "text": [
      "\r",
      "196it [02:26,  1.17s/it]"
     ]
    },
    {
     "name": "stdout",
     "output_type": "stream",
     "text": [
      "short_wma_list : 100\n",
      "long_wma_list : 69\n"
     ]
    },
    {
     "name": "stderr",
     "output_type": "stream",
     "text": [
      "\r",
      "197it [02:26,  1.11it/s]"
     ]
    },
    {
     "name": "stdout",
     "output_type": "stream",
     "text": [
      "short_wma_list : 100\n",
      "long_wma_list : 70\n"
     ]
    },
    {
     "name": "stderr",
     "output_type": "stream",
     "text": [
      "\r",
      "198it [02:27,  1.42it/s]"
     ]
    },
    {
     "name": "stdout",
     "output_type": "stream",
     "text": [
      "short_wma_list : 100\n",
      "long_wma_list : 71\n"
     ]
    },
    {
     "name": "stderr",
     "output_type": "stream",
     "text": [
      "\r",
      "199it [02:27,  1.76it/s]"
     ]
    },
    {
     "name": "stdout",
     "output_type": "stream",
     "text": [
      "short_wma_list : 100\n",
      "long_wma_list : 72\n"
     ]
    },
    {
     "name": "stderr",
     "output_type": "stream",
     "text": [
      "\r",
      "200it [02:27,  2.12it/s]"
     ]
    },
    {
     "name": "stdout",
     "output_type": "stream",
     "text": [
      "short_wma_list : 100\n",
      "long_wma_list : 73\n"
     ]
    },
    {
     "name": "stderr",
     "output_type": "stream",
     "text": [
      "\r",
      "201it [02:27,  2.46it/s]"
     ]
    },
    {
     "name": "stdout",
     "output_type": "stream",
     "text": [
      "short_wma_list : 100\n",
      "long_wma_list : 74\n"
     ]
    },
    {
     "name": "stderr",
     "output_type": "stream",
     "text": [
      "203it [02:28,  2.21it/s]"
     ]
    },
    {
     "name": "stdout",
     "output_type": "stream",
     "text": [
      "short_wma_list : 100\n",
      "long_wma_list : 75\n"
     ]
    },
    {
     "name": "stderr",
     "output_type": "stream",
     "text": [
      "\r",
      "204it [02:29,  2.56it/s]"
     ]
    },
    {
     "name": "stdout",
     "output_type": "stream",
     "text": [
      "short_wma_list : 100\n",
      "long_wma_list : 76\n"
     ]
    },
    {
     "name": "stderr",
     "output_type": "stream",
     "text": [
      "206it [02:33,  1.16s/it]"
     ]
    },
    {
     "name": "stdout",
     "output_type": "stream",
     "text": [
      "short_wma_list : 100\n",
      "long_wma_list : 77\n"
     ]
    },
    {
     "name": "stderr",
     "output_type": "stream",
     "text": [
      "\r",
      "207it [02:33,  1.13it/s]"
     ]
    },
    {
     "name": "stdout",
     "output_type": "stream",
     "text": [
      "short_wma_list : 100\n",
      "long_wma_list : 78\n"
     ]
    },
    {
     "name": "stderr",
     "output_type": "stream",
     "text": [
      "\r",
      "208it [02:34,  1.30it/s]"
     ]
    },
    {
     "name": "stdout",
     "output_type": "stream",
     "text": [
      "short_wma_list : 100\n",
      "long_wma_list : 79\n"
     ]
    },
    {
     "name": "stderr",
     "output_type": "stream",
     "text": [
      "\r",
      "209it [02:37,  1.37s/it]"
     ]
    },
    {
     "name": "stdout",
     "output_type": "stream",
     "text": [
      "short_wma_list : 100\n",
      "long_wma_list : 80\n"
     ]
    },
    {
     "name": "stderr",
     "output_type": "stream",
     "text": [
      "212it [02:45,  2.38s/it]"
     ]
    },
    {
     "name": "stdout",
     "output_type": "stream",
     "text": [
      "short_wma_list : 100\n",
      "long_wma_list : 81\n"
     ]
    },
    {
     "name": "stderr",
     "output_type": "stream",
     "text": [
      "\r",
      "213it [02:45,  1.74s/it]"
     ]
    },
    {
     "name": "stdout",
     "output_type": "stream",
     "text": [
      "short_wma_list : 100\n",
      "long_wma_list : 82\n"
     ]
    },
    {
     "name": "stderr",
     "output_type": "stream",
     "text": [
      "\r",
      "214it [02:46,  1.29s/it]"
     ]
    },
    {
     "name": "stdout",
     "output_type": "stream",
     "text": [
      "short_wma_list : 100\n",
      "long_wma_list : 83\n"
     ]
    },
    {
     "name": "stderr",
     "output_type": "stream",
     "text": [
      "\r",
      "215it [02:46,  1.05s/it]"
     ]
    },
    {
     "name": "stdout",
     "output_type": "stream",
     "text": [
      "short_wma_list : 100\n",
      "long_wma_list : 84\n"
     ]
    },
    {
     "name": "stderr",
     "output_type": "stream",
     "text": [
      "\r",
      "216it [02:46,  1.23it/s]"
     ]
    },
    {
     "name": "stdout",
     "output_type": "stream",
     "text": [
      "short_wma_list : 100\n",
      "long_wma_list : 85\n"
     ]
    },
    {
     "name": "stderr",
     "output_type": "stream",
     "text": [
      "\r",
      "217it [02:47,  1.39it/s]"
     ]
    },
    {
     "name": "stdout",
     "output_type": "stream",
     "text": [
      "short_wma_list : 100\n",
      "long_wma_list : 86\n"
     ]
    },
    {
     "name": "stderr",
     "output_type": "stream",
     "text": [
      "220it [02:53,  1.59s/it]"
     ]
    },
    {
     "name": "stdout",
     "output_type": "stream",
     "text": [
      "short_wma_list : 100\n",
      "long_wma_list : 87\n"
     ]
    },
    {
     "name": "stderr",
     "output_type": "stream",
     "text": [
      "\r",
      "221it [02:54,  1.19s/it]"
     ]
    },
    {
     "name": "stdout",
     "output_type": "stream",
     "text": [
      "short_wma_list : 100\n",
      "long_wma_list : 88\n"
     ]
    },
    {
     "name": "stderr",
     "output_type": "stream",
     "text": [
      "\r",
      "222it [02:54,  1.10it/s]"
     ]
    },
    {
     "name": "stdout",
     "output_type": "stream",
     "text": [
      "short_wma_list : 100\n",
      "long_wma_list : 89\n"
     ]
    },
    {
     "name": "stderr",
     "output_type": "stream",
     "text": [
      "\r",
      "223it [02:54,  1.40it/s]"
     ]
    },
    {
     "name": "stdout",
     "output_type": "stream",
     "text": [
      "short_wma_list : 100\n",
      "long_wma_list : 90\n"
     ]
    },
    {
     "name": "stderr",
     "output_type": "stream",
     "text": [
      "\r",
      "224it [02:54,  1.74it/s]"
     ]
    },
    {
     "name": "stdout",
     "output_type": "stream",
     "text": [
      "short_wma_list : 100\n",
      "long_wma_list : 91\n"
     ]
    },
    {
     "name": "stderr",
     "output_type": "stream",
     "text": [
      "\r",
      "225it [02:56,  1.08it/s]"
     ]
    },
    {
     "name": "stdout",
     "output_type": "stream",
     "text": [
      "short_wma_list : 100\n",
      "long_wma_list : 92\n"
     ]
    },
    {
     "name": "stderr",
     "output_type": "stream",
     "text": [
      "\r",
      "226it [02:56,  1.38it/s]"
     ]
    },
    {
     "name": "stdout",
     "output_type": "stream",
     "text": [
      "short_wma_list : 100\n",
      "long_wma_list : 93\n"
     ]
    },
    {
     "name": "stderr",
     "output_type": "stream",
     "text": [
      "\r",
      "227it [02:57,  1.72it/s]"
     ]
    },
    {
     "name": "stdout",
     "output_type": "stream",
     "text": [
      "short_wma_list : 100\n",
      "long_wma_list : 94\n"
     ]
    },
    {
     "name": "stderr",
     "output_type": "stream",
     "text": [
      "\r",
      "228it [02:57,  1.58it/s]"
     ]
    },
    {
     "name": "stdout",
     "output_type": "stream",
     "text": [
      "short_wma_list : 100\n",
      "long_wma_list : 95\n"
     ]
    },
    {
     "name": "stderr",
     "output_type": "stream",
     "text": [
      "\r",
      "229it [02:58,  1.92it/s]"
     ]
    },
    {
     "name": "stdout",
     "output_type": "stream",
     "text": [
      "short_wma_list : 100\n",
      "long_wma_list : 96\n"
     ]
    },
    {
     "name": "stderr",
     "output_type": "stream",
     "text": [
      "\r",
      "230it [02:58,  2.30it/s]"
     ]
    },
    {
     "name": "stdout",
     "output_type": "stream",
     "text": [
      "short_wma_list : 100\n",
      "long_wma_list : 97\n"
     ]
    },
    {
     "name": "stderr",
     "output_type": "stream",
     "text": [
      "\r",
      "232it [02:58,  2.92it/s]"
     ]
    },
    {
     "name": "stdout",
     "output_type": "stream",
     "text": [
      "short_wma_list : 100\n",
      "long_wma_list : 98\n"
     ]
    },
    {
     "name": "stderr",
     "output_type": "stream",
     "text": [
      "\r",
      "233it [03:03,  1.66s/it]"
     ]
    },
    {
     "name": "stdout",
     "output_type": "stream",
     "text": [
      "short_wma_list : 100\n",
      "long_wma_list : 99\n"
     ]
    },
    {
     "name": "stderr",
     "output_type": "stream",
     "text": [
      "\r",
      "235it [03:03,  1.20s/it]"
     ]
    },
    {
     "name": "stdout",
     "output_type": "stream",
     "text": [
      "short_wma_list : 100\n",
      "long_wma_list : 100\n"
     ]
    },
    {
     "name": "stderr",
     "output_type": "stream",
     "text": [
      "\r",
      "235it [03:03,  1.28it/s]"
     ]
    },
    {
     "name": "stdout",
     "output_type": "stream",
     "text": [
      "short_wma_list : 100\n"
     ]
    },
    {
     "name": "stderr",
     "output_type": "stream",
     "text": [
      "\n"
     ]
    }
   ],
   "source": [
    "params = {'instruments': instrument}\n",
    "order_flag = 'not_ordered'\n",
    "r = pricing.PricingStream(accountID=accountID, params=params)\n",
    "rv = api.request(r)\n",
    "\n",
    "short_wma = 0\n",
    "short_flag = True\n",
    "short_moving_window = 20\n",
    "short_list = collections.deque([])\n",
    "short_wma_list = collections.deque([])\n",
    "short_weights = get_weights(short_moving_window)\n",
    "\n",
    "long_wma = 0\n",
    "long_flag = True\n",
    "long_moving_window = 100\n",
    "long_list = collections.deque([])\n",
    "long_wma_list = collections.deque([])\n",
    "long_weights = get_weights(long_moving_window)\n",
    "\n",
    "lists_size = 100\n",
    "\n",
    "for i, resp in tqdm(enumerate(rv)):        \n",
    "    resp_type = resp['type']       \n",
    "\n",
    "    if resp_type == 'HEARTBEAT': # Heart beat response to keep the api connection alive (Avoid timeout)\n",
    "        pass\n",
    "\n",
    "    elif resp_type == 'PRICE' and order_flag == 'not_ordered': # Check if we are yet to make the order               \n",
    "        date_val, time_val, time_fraction = get_date_time(resp) # Get time stamp for reference            \n",
    "        sell_price, buy_price, spread, tick_price = get_prices(resp) # Get prices from the response                      \n",
    "        \n",
    "        if len(short_list) < short_moving_window:\n",
    "            short_list.append(tick_price)\n",
    "            \n",
    "        if short_flag and len(short_list) == short_moving_window:\n",
    "            short_wma = sum(np.array(short_list)*short_weights)\n",
    "            short_flag =  False\n",
    "            \n",
    "        if short_flag == False and len(short_list) == short_moving_window:\n",
    "            short_list.popleft()   \n",
    "            short_list.append(tick_price) \n",
    "            short_wma = sum(np.array(short_list)*short_weights)\n",
    "        \n",
    "        if len(short_list) == short_moving_window:\n",
    "            if len(short_wma_list) < lists_size:\n",
    "                short_wma_list.append(short_wma)\n",
    "                \n",
    "            elif len(short_wma_list) == lists_size:\n",
    "                short_wma_list.popleft()   \n",
    "                short_wma_list.append(short_wma) \n",
    "        \n",
    "        print(f'short_wma_list : {len(short_wma_list)}')\n",
    "                \n",
    "        if len(long_list) < long_moving_window:\n",
    "            long_list.append(tick_price)\n",
    "            \n",
    "        if long_flag and len(long_list) == long_moving_window:\n",
    "            long_wma = sum(np.array(long_list)*long_weights)\n",
    "            long_flag =  False\n",
    "            \n",
    "        if long_flag == False and len(long_list) == long_moving_window:\n",
    "            long_list.popleft()   \n",
    "            long_list.append(tick_price) \n",
    "            long_wma = sum(np.array(long_list)*long_weights)\n",
    "        \n",
    "        if len(long_list) == long_moving_window:\n",
    "            if len(long_wma_list) < lists_size:\n",
    "                long_wma_list.append(long_wma)\n",
    "                \n",
    "            elif len(long_wma_list) == lists_size:\n",
    "                #long_wma_list.popleft()   \n",
    "                #long_wma_list.append(long_wma)                 \n",
    "                break\n",
    "              \n",
    "        print(f'long_wma_list : {len(long_wma_list)}')\n",
    "              \n",
    "winsound.PlaySound('C:\\\\Windows\\\\Media\\\\tada.wav', winsound.SND_ASYNC)           "
   ]
  },
  {
   "cell_type": "code",
   "execution_count": 40,
   "metadata": {},
   "outputs": [
    {
     "data": {
      "text/plain": [
       "100"
      ]
     },
     "execution_count": 40,
     "metadata": {},
     "output_type": "execute_result"
    }
   ],
   "source": [
    "len(short_wma_list)"
   ]
  },
  {
   "cell_type": "code",
   "execution_count": 41,
   "metadata": {},
   "outputs": [
    {
     "data": {
      "text/plain": [
       "100"
      ]
     },
     "execution_count": 41,
     "metadata": {},
     "output_type": "execute_result"
    }
   ],
   "source": [
    "len(long_wma_list)"
   ]
  },
  {
   "cell_type": "code",
   "execution_count": 42,
   "metadata": {},
   "outputs": [],
   "source": [
    "import matplotlib.pyplot as plt"
   ]
  },
  {
   "cell_type": "code",
   "execution_count": 44,
   "metadata": {},
   "outputs": [
    {
     "data": {
      "image/png": "[encoded data removed]",
      "text/plain": [
       "<Figure size 432x288 with 1 Axes>"
      ]
     },
     "metadata": {
      "needs_background": "light"
     },
     "output_type": "display_data"
    }
   ],
   "source": [
    "plt.plot(short_wma_list)\n",
    "plt.plot(long_wma_list)\n",
    "plt.show()"
   ]
  }
 ],
 "metadata": {
  "kernelspec": {
   "display_name": "Python 3",
   "language": "python",
   "name": "python3"
  },
  "language_info": {
   "codemirror_mode": {
    "name": "ipython",
    "version": 3
   },
   "file_extension": ".py",
   "mimetype": "text/x-python",
   "name": "python",
   "nbconvert_exporter": "python",
   "pygments_lexer": "ipython3",
   "version": "3.6.6"
  }
 },
 "nbformat": 4,
 "nbformat_minor": 4
}
