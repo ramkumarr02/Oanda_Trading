{
 "cells": [
  {
   "cell_type": "markdown",
   "metadata": {},
   "source": [
    "# ML Trader"
   ]
  },
  {
   "cell_type": "code",
   "execution_count": 1,
   "metadata": {
    "scrolled": true
   },
   "outputs": [],
   "source": [
    "from utils.packages import *\n",
    "from utils.variables import *\n",
    "from utils.i_o import *\n",
    "from utils.dir_slope import *\n",
    "from utils.engine import *\n",
    "from utils.loops import *\n",
    "from utils.order import *\n",
    "import winsound"
   ]
  },
  {
   "cell_type": "code",
   "execution_count": 2,
   "metadata": {
    "scrolled": false
   },
   "outputs": [
    {
     "name": "stderr",
     "output_type": "stream",
     "text": [
      "\r",
      "100%|██████████████████████████████| 3196612/3196612 [07:07<00:00, 7476.89it/s]"
     ]
    },
    {
     "name": "stdout",
     "output_type": "stream",
     "text": [
      "pl    0.07833\n",
      "dtype: float64\n",
      "--------------------------------------\n",
      "              DateTime_frmt          close_type       pl\n",
      "3185873 2020-02-28 19:54:05  simple_take_profit  0.00026\n",
      "3186500 2020-02-28 19:57:51  simple_take_profit  0.00029\n",
      "3186604 2020-02-28 19:58:31  simple_take_profit  0.00027\n",
      "3187421 2020-02-28 20:04:07  simple_take_profit  0.00024\n",
      "3189057 2020-02-28 20:20:28         simple_stop -0.00054\n",
      "3189501 2020-02-28 20:25:10         simple_stop -0.00044\n",
      "3190366 2020-02-28 20:31:52  simple_take_profit  0.00037\n",
      "3190678 2020-02-28 20:33:51  simple_take_profit  0.00047\n",
      "3191002 2020-02-28 20:38:06  simple_take_profit  0.00019\n",
      "3191966 2020-02-28 20:49:50  simple_take_profit  0.00041\n",
      "3193501 2020-02-28 21:04:04         simple_stop -0.00066\n",
      "3194011 2020-02-28 21:08:37         simple_stop -0.00061\n",
      "3194463 2020-02-28 21:15:06  simple_take_profit  0.00031\n",
      "3196274 2020-02-28 21:53:33  simple_take_profit  0.00028\n",
      "3196368 2020-02-28 21:55:09  simple_take_profit  0.00028\n"
     ]
    },
    {
     "name": "stderr",
     "output_type": "stream",
     "text": [
      "\n"
     ]
    }
   ],
   "source": [
    "data = run_engine(data)"
   ]
  },
  {
   "cell_type": "code",
   "execution_count": 3,
   "metadata": {
    "scrolled": false
   },
   "outputs": [
    {
     "name": "stdout",
     "output_type": "stream",
     "text": [
      "--------------------------------------\n",
      "Run Complete : data/ema_df-(2020-2020)-(1-2)-(1-29).csv\n",
      "--------------------------------------\n",
      "\n",
      "\n",
      "--------------------------------------\n",
      "Net PL\n",
      "0.0783\n",
      "--------------------------------------\n",
      "\n",
      "\n",
      "--------------------------------------\n",
      "Monthly PL\n",
      "                pl\n",
      "month_val         \n",
      "1          0.04102\n",
      "2          0.03731\n",
      "--------------------------------------\n",
      "\n",
      "\n",
      "--------------------------------------\n",
      "Count of transactions by Close Type\n",
      "..................\n",
      "                      pl\n",
      "close_type              \n",
      "simple_stop          937\n",
      "simple_take_profit  2271\n",
      "--------------------------------------\n",
      "\n",
      "\n",
      "--------------------------------------\n",
      "Mean value of transactions by Close Type\n",
      "..................\n",
      "                          pl\n",
      "close_type                  \n",
      "simple_stop        -0.000443\n",
      "simple_take_profit  0.000217\n",
      "--------------------------------------\n",
      "\n",
      "\n",
      "--------------------------------------\n",
      "Sum by Close Type\n",
      "..................\n",
      "                         pl\n",
      "close_type                 \n",
      "simple_stop        -0.41521\n",
      "simple_take_profit  0.49354\n",
      "--------------------------------------\n",
      "\n",
      "\n",
      "--------------------------------------\n",
      "Average pips per day : 0.0016\n",
      "--------------------------------------\n",
      "\n",
      "\n",
      "--------------------------------------\n",
      "Average orders per day : 64.16\n",
      "--------------------------------------\n",
      "\n",
      "\n"
     ]
    }
   ],
   "source": [
    "generate_result_report(data)"
   ]
  },
  {
   "cell_type": "code",
   "execution_count": 4,
   "metadata": {},
   "outputs": [],
   "source": [
    "plot_graph(data)"
   ]
  }
 ],
 "metadata": {
  "kernelspec": {
   "display_name": "Python 3",
   "language": "python",
   "name": "python3"
  },
  "language_info": {
   "codemirror_mode": {
    "name": "ipython",
    "version": 3
   },
   "file_extension": ".py",
   "mimetype": "text/x-python",
   "name": "python",
   "nbconvert_exporter": "python",
   "pygments_lexer": "ipython3",
   "version": "3.6.6"
  }
 },
 "nbformat": 4,
 "nbformat_minor": 4
}
