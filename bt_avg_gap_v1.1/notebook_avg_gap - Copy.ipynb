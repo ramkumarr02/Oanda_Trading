{
 "cells": [
  {
   "cell_type": "markdown",
   "metadata": {},
   "source": [
    "# ML Trader"
   ]
  },
  {
   "cell_type": "code",
   "execution_count": 1,
   "metadata": {
    "scrolled": true
   },
   "outputs": [],
   "source": [
    "from utils.packages import *\n",
    "from utils.variables import *\n",
    "from utils.i_o import *\n",
    "from utils.dir_slope import *\n",
    "from utils.engine import *\n",
    "from utils.loops import *\n",
    "from utils.order import *\n",
    "import winsound"
   ]
  },
  {
   "cell_type": "code",
   "execution_count": 2,
   "metadata": {
    "scrolled": true
   },
   "outputs": [],
   "source": [
    "# data = get_rolling_emas(data)\n",
    "# data['df']['DateTime_frmt']   = [dt.datetime.strptime(x,\"%Y%m%d %H:%M:%S.%f\") for x in data[\"df\"]['DateTime']]\n",
    "# data['df'] = data['df'][['DateTime_frmt', 'Bid', 'Ask', 'tick', 'sema', 'slema', 'lema', 'tick_angle']]\n",
    "# plotly_graph(data)\n",
    "# data['df'].head(2)"
   ]
  },
  {
   "cell_type": "code",
   "execution_count": 3,
   "metadata": {
    "scrolled": false
   },
   "outputs": [
    {
     "name": "stderr",
     "output_type": "stream",
     "text": [
      "100%|██████████████████████████████| 1634501/1634501 [02:55<00:00, 9321.16it/s]"
     ]
    },
    {
     "name": "stdout",
     "output_type": "stream",
     "text": [
      "pls    0.04107\n",
      "dtype: float64\n",
      "--------------------------------------\n",
      "              start_date ord_types          close_type      pls\n",
      "1538 2020-01-31 16:40:19      long  simple_take_profit  0.00022\n",
      "1539 2020-01-31 16:43:30     short  simple_take_profit  0.00018\n",
      "1540 2020-01-31 16:57:10     short  simple_take_profit  0.00012\n",
      "1541 2020-01-31 17:05:03      long         simple_stop -0.00030\n",
      "1542 2020-01-31 17:27:21     short  simple_take_profit  0.00019\n",
      "1543 2020-01-31 17:37:28      long  simple_take_profit  0.00028\n",
      "1544 2020-01-31 17:45:14     short  simple_take_profit  0.00018\n",
      "1545 2020-01-31 17:51:46     short  simple_take_profit  0.00022\n",
      "1546 2020-01-31 17:58:28      long  simple_take_profit  0.00017\n",
      "1547 2020-01-31 18:41:28     short  simple_take_profit  0.00017\n",
      "1548 2020-01-31 19:12:52     short         simple_stop -0.00042\n",
      "1549 2020-01-31 19:50:20     short  simple_take_profit  0.00024\n",
      "1550 2020-01-31 19:59:15      long  simple_take_profit  0.00019\n",
      "1551 2020-01-31 20:02:21     short         simple_stop -0.00024\n",
      "1552 2020-01-31 21:10:50     short         simple_stop -0.00018\n"
     ]
    },
    {
     "name": "stderr",
     "output_type": "stream",
     "text": [
      "\n"
     ]
    }
   ],
   "source": [
    "data = run_engine(data)"
   ]
  },
  {
   "cell_type": "code",
   "execution_count": 4,
   "metadata": {
    "scrolled": false
   },
   "outputs": [
    {
     "name": "stdout",
     "output_type": "stream",
     "text": [
      "-----------------------------------------------------\n",
      "==============================\n",
      "Total PL : 0.04107000000000001\n",
      "-------------\n",
      "net_pl            : 0.04107/0.39293\n",
      "-------------\n",
      "+ve               : num= 1080    sum= +0.217    avg= +0.0002\n",
      "-ve               : num= 473    sum= -0.17593    avg= -0.00037\n",
      "==============================\n",
      "-----------------------------------------------------\n",
      "month_val\n",
      "1    0.04107\n",
      "Name: pls, dtype: float64\n",
      "-----------------------------------------------------\n",
      "simple_take_profit    1080\n",
      "simple_stop            473\n",
      "Name: close_type, dtype: int64\n",
      "-----------------------------------------------------\n"
     ]
    }
   ],
   "source": [
    "if data[\"plot\"]:\n",
    "    data = adjust_plot_list_lengths(data)\n",
    "    plot_graph(data)\n",
    "    \n",
    "print('-----------------------------------------------------')\n",
    "print_report(data)\n",
    "print('-----------------------------------------------------')\n",
    "print(data['report_df'].groupby(['month_val'])['pls'].sum())\n",
    "print('-----------------------------------------------------')\n",
    "print(data['report_df']['close_type'].value_counts())\n",
    "print('-----------------------------------------------------')\n",
    "winsound.PlaySound('C:\\\\Windows\\\\Media\\\\tada.wav', winsound.SND_ASYNC)"
   ]
  },
  {
   "cell_type": "code",
   "execution_count": 5,
   "metadata": {},
   "outputs": [
    {
     "data": {
      "text/plain": [
       "date_val\n",
       "2    -0.00051\n",
       "3     0.00675\n",
       "5    -0.00009\n",
       "6     0.00064\n",
       "7     0.00370\n",
       "8     0.00517\n",
       "9     0.00494\n",
       "10    0.00469\n",
       "12    0.00060\n",
       "13    0.00298\n",
       "14    0.00277\n",
       "15   -0.00209\n",
       "16   -0.00095\n",
       "17    0.00183\n",
       "19   -0.00006\n",
       "20    0.00199\n",
       "21    0.00127\n",
       "22   -0.00041\n",
       "23    0.00329\n",
       "24    0.00360\n",
       "26    0.00029\n",
       "27   -0.00045\n",
       "28    0.00209\n",
       "29   -0.00429\n",
       "30    0.00426\n",
       "31   -0.00094\n",
       "Name: pls, dtype: float64"
      ]
     },
     "execution_count": 5,
     "metadata": {},
     "output_type": "execute_result"
    }
   ],
   "source": [
    "data['report_df'].groupby(['date_val'])['pls'].sum()"
   ]
  },
  {
   "cell_type": "code",
   "execution_count": 6,
   "metadata": {},
   "outputs": [
    {
     "data": {
      "text/plain": [
       "month_val\n",
       "1    0.04107\n",
       "Name: pls, dtype: float64"
      ]
     },
     "execution_count": 6,
     "metadata": {},
     "output_type": "execute_result"
    }
   ],
   "source": [
    "data['report_df'].groupby(['month_val'])['pls'].sum()"
   ]
  },
  {
   "cell_type": "code",
   "execution_count": 8,
   "metadata": {
    "scrolled": false
   },
   "outputs": [],
   "source": [
    "winsound.PlaySound('C:\\\\Windows\\\\Media\\\\tada.wav', winsound.SND_ASYNC)\n",
    "send_telegram_message(f'Run Complete : {data[\"df_name\"]}')"
   ]
  },
  {
   "cell_type": "code",
   "execution_count": 7,
   "metadata": {},
   "outputs": [],
   "source": [
    "temp = data['report_df'].groupby(['month_val'])['pls'].sum()"
   ]
  },
  {
   "cell_type": "code",
   "execution_count": 9,
   "metadata": {
    "scrolled": false
   },
   "outputs": [],
   "source": [
    "winsound.PlaySound('C:\\\\Windows\\\\Media\\\\tada.wav', winsound.SND_ASYNC)\n",
    "send_telegram_message(f'Run Complete : {temp}')"
   ]
  },
  {
   "cell_type": "code",
   "execution_count": 10,
   "metadata": {},
   "outputs": [],
   "source": [
    "temp1 = data['report_df']['pls'].sum()"
   ]
  },
  {
   "cell_type": "code",
   "execution_count": 11,
   "metadata": {
    "scrolled": false
   },
   "outputs": [],
   "source": [
    "winsound.PlaySound('C:\\\\Windows\\\\Media\\\\tada.wav', winsound.SND_ASYNC)\n",
    "send_telegram_message(f'Run Complete : {temp1}')"
   ]
  },
  {
   "cell_type": "code",
   "execution_count": 12,
   "metadata": {},
   "outputs": [
    {
     "data": {
      "text/plain": [
       "close_type\n",
       "simple_stop            473\n",
       "simple_take_profit    1080\n",
       "Name: pls, dtype: int64"
      ]
     },
     "execution_count": 12,
     "metadata": {},
     "output_type": "execute_result"
    }
   ],
   "source": [
    "data['report_df'].groupby(['close_type'])['pls'].count()"
   ]
  },
  {
   "cell_type": "code",
   "execution_count": 13,
   "metadata": {},
   "outputs": [
    {
     "data": {
      "text/plain": [
       "close_type\n",
       "simple_stop          -0.000372\n",
       "simple_take_profit    0.000201\n",
       "Name: pls, dtype: float64"
      ]
     },
     "execution_count": 13,
     "metadata": {},
     "output_type": "execute_result"
    }
   ],
   "source": [
    "data['report_df'].groupby(['close_type'])['pls'].mean()"
   ]
  },
  {
   "cell_type": "code",
   "execution_count": 14,
   "metadata": {},
   "outputs": [
    {
     "data": {
      "text/plain": [
       "close_type\n",
       "simple_stop          -0.17593\n",
       "simple_take_profit    0.21700\n",
       "Name: pls, dtype: float64"
      ]
     },
     "execution_count": 14,
     "metadata": {},
     "output_type": "execute_result"
    }
   ],
   "source": [
    "data['report_df'].groupby(['close_type'])['pls'].sum()"
   ]
  },
  {
   "cell_type": "code",
   "execution_count": 15,
   "metadata": {},
   "outputs": [
    {
     "data": {
      "text/plain": [
       "close_type\n",
       "simple_stop            473\n",
       "simple_take_profit    1080\n",
       "Name: pls, dtype: int64"
      ]
     },
     "execution_count": 15,
     "metadata": {},
     "output_type": "execute_result"
    }
   ],
   "source": [
    "data['report_df'].groupby(['close_type'])['pls'].count()"
   ]
  },
  {
   "cell_type": "code",
   "execution_count": 16,
   "metadata": {},
   "outputs": [
    {
     "name": "stdout",
     "output_type": "stream",
     "text": [
      "Average pips per day : 0.0016\n"
     ]
    }
   ],
   "source": [
    "x = np.round(data['report_df'].groupby(['month_val', 'date_val'])['pls'].sum().values.mean(),4)\n",
    "print(f'Average pips per day : {x}')"
   ]
  },
  {
   "cell_type": "code",
   "execution_count": 17,
   "metadata": {},
   "outputs": [
    {
     "name": "stdout",
     "output_type": "stream",
     "text": [
      "Average orders per day : 59.73076923076923\n"
     ]
    }
   ],
   "source": [
    "x = data['report_df'].groupby(['month_val', 'date_val'])['pls'].count().values.mean()\n",
    "print(f'Average orders per day : {x}')"
   ]
  },
  {
   "cell_type": "code",
   "execution_count": 18,
   "metadata": {},
   "outputs": [
    {
     "data": {
      "text/plain": [
       "1    1553\n",
       "Name: date, dtype: int64"
      ]
     },
     "execution_count": 18,
     "metadata": {},
     "output_type": "execute_result"
    }
   ],
   "source": [
    "data['report_df'].groupby(['date'])['date'].count().value_counts().sort_values(ascending=False)"
   ]
  },
  {
   "cell_type": "code",
   "execution_count": 19,
   "metadata": {},
   "outputs": [
    {
     "data": {
      "text/plain": [
       "605    2 days 00:07:06\n",
       "867    0 days 02:46:35\n",
       "1033   0 days 01:33:39\n",
       "1382   0 days 01:23:05\n",
       "1477   0 days 01:18:06\n",
       "             ...      \n",
       "171    0 days 00:00:10\n",
       "349    0 days 00:00:09\n",
       "166    0 days 00:00:07\n",
       "1118   0 days 00:00:06\n",
       "1222   0 days 00:00:05\n",
       "Name: duration, Length: 1553, dtype: timedelta64[ns]"
      ]
     },
     "execution_count": 19,
     "metadata": {},
     "output_type": "execute_result"
    }
   ],
   "source": [
    "data['report_df']['duration'].sort_values(ascending=False)"
   ]
  },
  {
   "cell_type": "code",
   "execution_count": 20,
   "metadata": {},
   "outputs": [],
   "source": [
    "# data['report_df'][data['report_df']['month_val'] == 12].groupby('close_type').count()"
   ]
  }
 ],
 "metadata": {
  "kernelspec": {
   "display_name": "Python 3",
   "language": "python",
   "name": "python3"
  },
  "language_info": {
   "codemirror_mode": {
    "name": "ipython",
    "version": 3
   },
   "file_extension": ".py",
   "mimetype": "text/x-python",
   "name": "python",
   "nbconvert_exporter": "python",
   "pygments_lexer": "ipython3",
   "version": "3.6.6"
  }
 },
 "nbformat": 4,
 "nbformat_minor": 4
}
