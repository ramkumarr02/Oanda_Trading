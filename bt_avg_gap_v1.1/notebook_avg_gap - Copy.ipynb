{
 "cells": [
  {
   "cell_type": "markdown",
   "metadata": {},
   "source": [
    "# ML Trader"
   ]
  },
  {
   "cell_type": "code",
   "execution_count": 1,
   "metadata": {
    "scrolled": true
   },
   "outputs": [],
   "source": [
    "from utils.packages import *\n",
    "from utils.variables import *\n",
    "from utils.i_o import *\n",
    "from utils.dir_slope import *\n",
    "from utils.engine import *\n",
    "from utils.loops import *\n",
    "from utils.order import *\n",
    "import winsound"
   ]
  },
  {
   "cell_type": "code",
   "execution_count": 2,
   "metadata": {},
   "outputs": [],
   "source": [
    "data['stop_loss_multiplier'] = 2"
   ]
  },
  {
   "cell_type": "code",
   "execution_count": 3,
   "metadata": {
    "scrolled": false
   },
   "outputs": [
    {
     "name": "stderr",
     "output_type": "stream",
     "text": [
      "\r",
      "100%|█████████████████████████████████████| 3860/3860 [00:13<00:00, 295.53it/s]"
     ]
    },
    {
     "name": "stdout",
     "output_type": "stream",
     "text": [
      "pl    0.02545\n",
      "dtype: float64\n",
      "--------------------------------------\n",
      "           DateTime_frmt          close_type       pl\n",
      "3710 2021-01-29 10:46:25  simple_take_profit  0.00038\n",
      "3721 2021-01-29 11:41:58         simple_stop -0.00098\n",
      "3725 2021-01-29 12:07:57  simple_take_profit  0.00049\n",
      "3732 2021-01-29 12:44:39  simple_take_profit  0.00059\n",
      "3737 2021-01-29 13:01:48  simple_take_profit  0.00127\n",
      "3761 2021-01-29 14:11:15  simple_take_profit  0.00045\n",
      "3766 2021-01-29 14:34:24  simple_take_profit  0.00041\n",
      "3774 2021-01-29 14:56:22  simple_take_profit  0.00038\n",
      "3783 2021-01-29 15:30:08  simple_take_profit  0.00028\n",
      "3786 2021-01-29 15:42:10  simple_take_profit  0.00069\n",
      "3792 2021-01-29 15:56:20         simple_stop -0.00155\n",
      "3809 2021-01-29 16:52:06  simple_take_profit  0.00076\n",
      "3814 2021-01-29 17:21:38  simple_take_profit  0.00026\n",
      "3831 2021-01-29 19:07:55  simple_take_profit  0.00016\n",
      "3859 2021-01-31 23:57:50  simple_take_profit  0.00025\n"
     ]
    },
    {
     "name": "stderr",
     "output_type": "stream",
     "text": [
      "\n"
     ]
    }
   ],
   "source": [
    "data = run_engine(data)"
   ]
  },
  {
   "cell_type": "code",
   "execution_count": 4,
   "metadata": {
    "scrolled": false
   },
   "outputs": [
    {
     "name": "stdout",
     "output_type": "stream",
     "text": [
      "--------------------------------------\n",
      "Run Complete : data/ema_df-(2021-2021)-(1-2)-(1-1).csv\n",
      "--------------------------------------\n",
      "\n",
      "\n",
      "--------------------------------------\n",
      "Net PL\n",
      "0.0255\n",
      "--------------------------------------\n",
      "\n",
      "\n",
      "--------------------------------------\n",
      "Monthly PL\n",
      "                pl\n",
      "month_val         \n",
      "1          0.02545\n",
      "--------------------------------------\n",
      "\n",
      "\n",
      "--------------------------------------\n",
      "Daily PL\n",
      "               pl\n",
      "date_val         \n",
      "4         0.00278\n",
      "5         0.00586\n",
      "6        -0.00309\n",
      "7         0.00458\n",
      "8        -0.00417\n",
      "10       -0.00196\n",
      "11       -0.00509\n",
      "12        0.00476\n",
      "13        0.00333\n",
      "14        0.00523\n",
      "15       -0.00056\n",
      "18        0.00053\n",
      "19        0.00311\n",
      "20       -0.00169\n",
      "21        0.00569\n",
      "22        0.00038\n",
      "25       -0.00146\n",
      "26       -0.00292\n",
      "27        0.00135\n",
      "28        0.00228\n",
      "29        0.00626\n",
      "31        0.00025\n",
      "--------------------------------------\n",
      "\n",
      "\n",
      "--------------------------------------\n",
      "Count of transactions by Close Type\n",
      "..................\n",
      "                     pl\n",
      "close_type             \n",
      "simple_stop          99\n",
      "simple_take_profit  285\n",
      "--------------------------------------\n",
      "\n",
      "\n",
      "--------------------------------------\n",
      "Mean value of transactions by Close Type\n",
      "..................\n",
      "                          pl\n",
      "close_type                  \n",
      "simple_stop        -0.001143\n",
      "simple_take_profit  0.000486\n",
      "--------------------------------------\n",
      "\n",
      "\n",
      "--------------------------------------\n",
      "Sum by Close Type\n",
      "..................\n",
      "                         pl\n",
      "close_type                 \n",
      "simple_stop        -0.11317\n",
      "simple_take_profit  0.13862\n",
      "--------------------------------------\n",
      "\n",
      "\n",
      "--------------------------------------\n",
      "Average pips per day : 0.0012\n",
      "--------------------------------------\n",
      "\n",
      "\n",
      "--------------------------------------\n",
      "Average orders per day : 17.454545454545453\n",
      "--------------------------------------\n",
      "\n",
      "\n"
     ]
    }
   ],
   "source": [
    "generate_result_report(data)"
   ]
  },
  {
   "cell_type": "code",
   "execution_count": 5,
   "metadata": {},
   "outputs": [],
   "source": [
    "plot_graph(data)"
   ]
  }
 ],
 "metadata": {
  "kernelspec": {
   "display_name": "Python 3",
   "language": "python",
   "name": "python3"
  },
  "language_info": {
   "codemirror_mode": {
    "name": "ipython",
    "version": 3
   },
   "file_extension": ".py",
   "mimetype": "text/x-python",
   "name": "python",
   "nbconvert_exporter": "python",
   "pygments_lexer": "ipython3",
   "version": "3.6.6"
  }
 },
 "nbformat": 4,
 "nbformat_minor": 4
}
