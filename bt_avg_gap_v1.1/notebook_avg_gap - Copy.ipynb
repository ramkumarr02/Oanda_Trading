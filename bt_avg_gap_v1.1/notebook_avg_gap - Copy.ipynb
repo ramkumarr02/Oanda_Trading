{
 "cells": [
  {
   "cell_type": "markdown",
   "metadata": {},
   "source": [
    "# ML Trader"
   ]
  },
  {
   "cell_type": "code",
   "execution_count": 1,
   "metadata": {
    "scrolled": true
   },
   "outputs": [],
   "source": [
    "from utils.packages import *\n",
    "from utils.variables import *\n",
    "from utils.i_o import *\n",
    "from utils.dir_slope import *\n",
    "from utils.engine import *\n",
    "from utils.loops import *\n",
    "from utils.order import *\n",
    "import winsound"
   ]
  },
  {
   "cell_type": "code",
   "execution_count": 2,
   "metadata": {
    "scrolled": false
   },
   "outputs": [
    {
     "name": "stdout",
     "output_type": "stream",
     "text": [
      "pl    0.003\n",
      "dtype: float64"
     ]
    },
    {
     "name": "stderr",
     "output_type": "stream",
     "text": [
      "\r",
      "100%|███████████████████████████████████████| 228/228 [00:00<00:00, 274.72it/s]"
     ]
    },
    {
     "name": "stdout",
     "output_type": "stream",
     "text": [
      "\n",
      "--------------------------------------\n",
      "          DateTime_frmt          close_type       pl\n",
      "125 2021-01-04 13:43:03  simple_take_profit  0.00047\n",
      "130 2021-01-04 14:03:34  simple_take_profit  0.00076\n",
      "133 2021-01-04 14:17:53  simple_take_profit  0.00052\n",
      "140 2021-01-04 14:41:18         simple_stop -0.00114\n",
      "144 2021-01-04 14:54:42  simple_take_profit  0.00104\n",
      "147 2021-01-04 15:02:31  simple_take_profit  0.00061\n",
      "152 2021-01-04 15:18:44  simple_take_profit  0.00018\n",
      "161 2021-01-04 15:48:08         simple_stop -0.00062\n",
      "167 2021-01-04 16:05:00         simple_stop -0.00046\n",
      "174 2021-01-04 16:27:24  simple_take_profit  0.00017\n",
      "177 2021-01-04 16:37:43  simple_take_profit  0.00019\n",
      "189 2021-01-04 17:23:40  simple_take_profit  0.00035\n",
      "208 2021-01-04 19:21:20         simple_stop -0.00049\n",
      "214 2021-01-04 20:11:27  simple_take_profit  0.00047\n",
      "222 2021-01-04 21:50:55  simple_take_profit  0.00055\n"
     ]
    },
    {
     "name": "stderr",
     "output_type": "stream",
     "text": [
      "\n"
     ]
    }
   ],
   "source": [
    "data = run_engine(data)"
   ]
  },
  {
   "cell_type": "code",
   "execution_count": 3,
   "metadata": {
    "scrolled": true
   },
   "outputs": [
    {
     "name": "stdout",
     "output_type": "stream",
     "text": [
      "--------------------------------------\n",
      "Run Complete : data/ema_df-(2021-2021)-(1-1)-(1-4).csv\n",
      "--------------------------------------\n",
      "\n",
      "\n",
      "--------------------------------------\n",
      "Net PL\n",
      "0.003\n",
      "--------------------------------------\n",
      "\n",
      "\n",
      "--------------------------------------\n",
      "Monthly PL\n",
      "              pl\n",
      "month_val       \n",
      "1          0.003\n",
      "--------------------------------------\n",
      "\n",
      "\n",
      "--------------------------------------\n",
      "Daily PL\n",
      "               pl\n",
      "date_val         \n",
      "3        -0.00061\n",
      "4         0.00361\n",
      "--------------------------------------\n",
      "\n",
      "\n",
      "--------------------------------------\n",
      "Count of transactions by Close Type\n",
      "..................\n",
      "                    pl\n",
      "close_type            \n",
      "simple_stop          9\n",
      "simple_take_profit  20\n",
      "--------------------------------------\n",
      "\n",
      "\n",
      "--------------------------------------\n",
      "Mean value of transactions by Close Type\n",
      "..................\n",
      "                          pl\n",
      "close_type                  \n",
      "simple_stop        -0.000666\n",
      "simple_take_profit  0.000449\n",
      "--------------------------------------\n",
      "\n",
      "\n",
      "--------------------------------------\n",
      "Sum by Close Type\n",
      "..................\n",
      "                         pl\n",
      "close_type                 \n",
      "simple_stop        -0.00599\n",
      "simple_take_profit  0.00899\n",
      "--------------------------------------\n",
      "\n",
      "\n",
      "--------------------------------------\n",
      "Average pips per day : 0.0015\n",
      "--------------------------------------\n",
      "\n",
      "\n",
      "--------------------------------------\n",
      "Average orders per day : 14.5\n",
      "--------------------------------------\n",
      "\n",
      "\n"
     ]
    }
   ],
   "source": [
    "generate_result_report(data)"
   ]
  },
  {
   "cell_type": "code",
   "execution_count": 4,
   "metadata": {},
   "outputs": [],
   "source": [
    "plot_graph(data)"
   ]
  }
 ],
 "metadata": {
  "kernelspec": {
   "display_name": "Python 3",
   "language": "python",
   "name": "python3"
  },
  "language_info": {
   "codemirror_mode": {
    "name": "ipython",
    "version": 3
   },
   "file_extension": ".py",
   "mimetype": "text/x-python",
   "name": "python",
   "nbconvert_exporter": "python",
   "pygments_lexer": "ipython3",
   "version": "3.6.6"
  }
 },
 "nbformat": 4,
 "nbformat_minor": 4
}
