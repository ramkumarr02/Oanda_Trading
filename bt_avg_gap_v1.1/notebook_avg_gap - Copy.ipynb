{
 "cells": [
  {
   "cell_type": "markdown",
   "metadata": {},
   "source": [
    "# ML Trader"
   ]
  },
  {
   "cell_type": "code",
   "execution_count": 1,
   "metadata": {
    "scrolled": true
   },
   "outputs": [],
   "source": [
    "from utils.packages import *\n",
    "from utils.variables import *\n",
    "from utils.i_o import *\n",
    "from utils.dir_slope import *\n",
    "from utils.engine import *\n",
    "from utils.loops import *\n",
    "from utils.order import *\n",
    "import winsound"
   ]
  },
  {
   "cell_type": "code",
   "execution_count": 2,
   "metadata": {},
   "outputs": [],
   "source": [
    "data['stop_loss_multiplier'] = 1"
   ]
  },
  {
   "cell_type": "code",
   "execution_count": 3,
   "metadata": {},
   "outputs": [],
   "source": [
    "data['start_date'] = {'year':2021, 'month':2, 'date':1}\n",
    "data['end_date']   = {'year':2021, 'month':2, 'date':28}"
   ]
  },
  {
   "cell_type": "code",
   "execution_count": 4,
   "metadata": {
    "scrolled": false
   },
   "outputs": [
    {
     "name": "stdout",
     "output_type": "stream",
     "text": [
      "pl   -0.00986\n",
      "dtype: float64"
     ]
    },
    {
     "name": "stderr",
     "output_type": "stream",
     "text": [
      "\r",
      "100%|█████████████████████████████████████| 3175/3175 [00:10<00:00, 314.44it/s]"
     ]
    },
    {
     "name": "stdout",
     "output_type": "stream",
     "text": [
      "\n",
      "--------------------------------------\n",
      "           DateTime_frmt          close_type       pl\n",
      "3042 2021-02-26 14:01:30  simple_take_profit  0.00047\n",
      "3064 2021-02-26 15:00:25  simple_take_profit  0.00050\n",
      "3073 2021-02-26 15:16:20  simple_take_profit  0.00044\n",
      "3086 2021-02-26 15:42:14         simple_stop -0.00067\n",
      "3096 2021-02-26 15:59:06  simple_take_profit  0.00102\n",
      "3100 2021-02-26 16:04:47  simple_take_profit  0.00029\n",
      "3105 2021-02-26 16:14:18         simple_stop -0.00107\n",
      "3110 2021-02-26 16:24:30         simple_stop -0.00088\n",
      "3116 2021-02-26 16:40:00  simple_take_profit  0.00089\n",
      "3125 2021-02-26 17:10:03         simple_stop -0.00099\n",
      "3128 2021-02-26 17:22:16  simple_take_profit  0.00059\n",
      "3143 2021-02-26 18:27:02         simple_stop -0.00092\n",
      "3156 2021-02-26 19:49:22         simple_stop -0.00067\n",
      "3161 2021-02-26 20:17:54         simple_stop -0.00044\n",
      "3170 2021-02-26 21:13:10  simple_take_profit  0.00044\n"
     ]
    },
    {
     "name": "stderr",
     "output_type": "stream",
     "text": [
      "\n"
     ]
    }
   ],
   "source": [
    "data = run_engine(data)"
   ]
  },
  {
   "cell_type": "code",
   "execution_count": null,
   "metadata": {
    "scrolled": true
   },
   "outputs": [],
   "source": [
    "generate_result_report(data)"
   ]
  },
  {
   "cell_type": "code",
   "execution_count": null,
   "metadata": {},
   "outputs": [],
   "source": [
    "plot_graph(data)"
   ]
  }
 ],
 "metadata": {
  "kernelspec": {
   "display_name": "Python 3",
   "language": "python",
   "name": "python3"
  },
  "language_info": {
   "codemirror_mode": {
    "name": "ipython",
    "version": 3
   },
   "file_extension": ".py",
   "mimetype": "text/x-python",
   "name": "python",
   "nbconvert_exporter": "python",
   "pygments_lexer": "ipython3",
   "version": "3.6.6"
  }
 },
 "nbformat": 4,
 "nbformat_minor": 4
}
