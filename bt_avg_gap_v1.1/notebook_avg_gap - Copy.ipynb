{
 "cells": [
  {
   "cell_type": "markdown",
   "metadata": {},
   "source": [
    "# ML Trader"
   ]
  },
  {
   "cell_type": "code",
   "execution_count": 1,
   "metadata": {
    "scrolled": true
   },
   "outputs": [],
   "source": [
    "from utils.packages import *\n",
    "from utils.variables import *\n",
    "from utils.i_o import *\n",
    "from utils.dir_slope import *\n",
    "from utils.engine import *\n",
    "from utils.loops import *\n",
    "from utils.order import *\n",
    "import winsound"
   ]
  },
  {
   "cell_type": "code",
   "execution_count": 2,
   "metadata": {
    "scrolled": false
   },
   "outputs": [
    {
     "name": "stderr",
     "output_type": "stream",
     "text": [
      "100%|██████████████████████████████| 1927866/1927866 [04:41<00:00, 6845.59it/s]\n"
     ]
    },
    {
     "name": "stdout",
     "output_type": "stream",
     "text": [
      "pl    0.16361\n",
      "dtype: float64\n",
      "--------------------------------------\n",
      "              DateTime_frmt     close_type       pl\n",
      "1912211 2021-01-29 18:43:02  pl_move_close  0.00010\n",
      "1913347 2021-01-29 19:02:34  pl_move_close  0.00018\n",
      "1913757 2021-01-29 19:07:57  pl_move_close  0.00001\n",
      "1915481 2021-01-29 19:41:25    simple_stop -0.00030\n",
      "1916032 2021-01-29 19:49:06  pl_move_close  0.00007\n",
      "1918204 2021-01-29 20:25:30    simple_stop -0.00041\n",
      "1918835 2021-01-29 20:37:33  pl_move_close  0.00040\n",
      "1919101 2021-01-29 20:43:15  pl_move_close  0.00015\n",
      "1920021 2021-01-29 20:57:43  pl_move_close  0.00022\n",
      "1920393 2021-01-29 21:00:11  pl_move_close  0.00026\n",
      "1922369 2021-01-29 21:55:42  pl_move_close  0.00029\n",
      "1922797 2021-01-31 22:00:04  pl_move_close  0.00045\n",
      "1924468 2021-01-31 23:03:27    simple_stop -0.00088\n",
      "1926401 2021-01-31 23:30:17  pl_move_close  0.00024\n",
      "1926764 2021-01-31 23:36:04  pl_move_close  0.00028\n"
     ]
    }
   ],
   "source": [
    "data = run_engine(data)"
   ]
  },
  {
   "cell_type": "code",
   "execution_count": 3,
   "metadata": {
    "scrolled": false
   },
   "outputs": [
    {
     "name": "stdout",
     "output_type": "stream",
     "text": [
      "--------------------------------------\n",
      "Run Complete : data/ema_df-(2021-2021)-(1-1)-(1-31).csv\n",
      "--------------------------------------\n",
      "\n",
      "\n",
      "--------------------------------------\n",
      "Net PL\n",
      "0.1636\n",
      "--------------------------------------\n",
      "\n",
      "\n",
      "--------------------------------------\n",
      "Monthly PL\n",
      "                pl\n",
      "month_val         \n",
      "1          0.16361\n",
      "--------------------------------------\n",
      "\n",
      "\n",
      "--------------------------------------\n",
      "Count of transactions by Close Type\n",
      "..................\n",
      "                 pl\n",
      "close_type         \n",
      "pl_move_close  1813\n",
      "simple_stop     575\n",
      "--------------------------------------\n",
      "\n",
      "\n",
      "--------------------------------------\n",
      "Mean value of transactions by Close Type\n",
      "..................\n",
      "                     pl\n",
      "close_type             \n",
      "pl_move_close  0.000277\n",
      "simple_stop   -0.000590\n",
      "--------------------------------------\n",
      "\n",
      "\n",
      "--------------------------------------\n",
      "Sum by Close Type\n",
      "..................\n",
      "                    pl\n",
      "close_type            \n",
      "pl_move_close  0.50258\n",
      "simple_stop   -0.33897\n",
      "--------------------------------------\n",
      "\n",
      "\n",
      "--------------------------------------\n",
      "Average pips per day : 0.0065\n",
      "--------------------------------------\n",
      "\n",
      "\n",
      "--------------------------------------\n",
      "Average orders per day : 95.52\n",
      "--------------------------------------\n",
      "\n",
      "\n"
     ]
    }
   ],
   "source": [
    "generate_result_report(data)"
   ]
  },
  {
   "cell_type": "code",
   "execution_count": 4,
   "metadata": {},
   "outputs": [],
   "source": [
    "plot_graph(data)"
   ]
  }
 ],
 "metadata": {
  "kernelspec": {
   "display_name": "Python 3",
   "language": "python",
   "name": "python3"
  },
  "language_info": {
   "codemirror_mode": {
    "name": "ipython",
    "version": 3
   },
   "file_extension": ".py",
   "mimetype": "text/x-python",
   "name": "python",
   "nbconvert_exporter": "python",
   "pygments_lexer": "ipython3",
   "version": "3.6.6"
  }
 },
 "nbformat": 4,
 "nbformat_minor": 4
}
