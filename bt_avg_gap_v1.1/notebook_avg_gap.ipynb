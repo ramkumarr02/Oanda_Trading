{
 "cells": [
  {
   "cell_type": "markdown",
   "metadata": {},
   "source": [
    "# ML Trader"
   ]
  },
  {
   "cell_type": "code",
   "execution_count": 1,
   "metadata": {
    "scrolled": true
   },
   "outputs": [],
   "source": [
    "from utils.packages import *\n",
    "from utils.variables import *\n",
    "from utils.i_o import *\n",
    "from utils.dir_slope import *\n",
    "from utils.engine import *\n",
    "from utils.loops import *\n",
    "from utils.order import *\n",
    "import winsound"
   ]
  },
  {
   "cell_type": "code",
   "execution_count": 2,
   "metadata": {
    "scrolled": false
   },
   "outputs": [
    {
     "name": "stderr",
     "output_type": "stream",
     "text": [
      "\r",
      "100%|████████████████████████████▉| 1922239/1924042 [02:49<00:00, 11434.68it/s]"
     ]
    },
    {
     "name": "stdout",
     "output_type": "stream",
     "text": [
      "pl   -0.03872\n",
      "dtype: float64\n",
      "--------------------------------------\n",
      "              DateTime_frmt          close_type       pl\n",
      "1895849 2021-01-29 15:57:20         simple_stop -0.00089\n",
      "1897688 2021-01-29 16:03:01         simple_stop -0.00062\n",
      "1901754 2021-01-29 16:33:29         simple_stop -0.00061\n",
      "1903610 2021-01-29 16:48:31         simple_stop -0.00072\n",
      "1904456 2021-01-29 16:57:22  simple_take_profit  0.00036\n",
      "1905457 2021-01-29 17:08:48         simple_stop -0.00051\n",
      "1907591 2021-01-29 17:33:35         simple_stop -0.00046\n",
      "1910179 2021-01-29 18:00:08  simple_take_profit  0.00023\n",
      "1910323 2021-01-29 18:01:21  simple_take_profit  0.00023\n",
      "1912352 2021-01-29 18:27:35  simple_take_profit  0.00026\n",
      "1914490 2021-01-29 19:01:22  simple_take_profit  0.00019\n",
      "1915759 2021-01-29 19:21:27  simple_take_profit  0.00019\n",
      "1919457 2021-01-29 20:25:32         simple_stop -0.00045\n",
      "1920654 2021-01-29 20:50:20  simple_take_profit  0.00019\n",
      "1922238 2021-01-29 21:09:23  simple_take_profit  0.00027\n"
     ]
    },
    {
     "name": "stderr",
     "output_type": "stream",
     "text": [
      "100%|█████████████████████████████| 1924042/1924042 [02:49<00:00, 11330.17it/s]\n"
     ]
    },
    {
     "name": "stdout",
     "output_type": "stream",
     "text": [
      "Wall time: 3min 18s\n"
     ]
    }
   ],
   "source": [
    "%%time\n",
    "data = run_engine(data)"
   ]
  },
  {
   "cell_type": "code",
   "execution_count": 3,
   "metadata": {
    "scrolled": false
   },
   "outputs": [
    {
     "name": "stdout",
     "output_type": "stream",
     "text": [
      "--------------------------------------\n",
      "Run Complete : data/ema_df-(2021-2021)-(1-1)-(1-31).csv\n",
      "--------------------------------------\n",
      "\n",
      "\n",
      "--------------------------------------\n",
      "Net PL\n",
      "-0.0387\n",
      "--------------------------------------\n",
      "\n",
      "\n",
      "--------------------------------------\n",
      "Monthly PL\n",
      "                pl\n",
      "month_val         \n",
      "1         -0.03872\n",
      "--------------------------------------\n",
      "\n",
      "\n",
      "--------------------------------------\n",
      "Daily PL\n",
      "               pl\n",
      "date_val         \n",
      "3        -0.00015\n",
      "4         0.00085\n",
      "5        -0.00230\n",
      "6        -0.00603\n",
      "7        -0.00143\n",
      "8        -0.00814\n",
      "10       -0.00176\n",
      "11        0.00265\n",
      "12       -0.00137\n",
      "13       -0.00184\n",
      "14       -0.00108\n",
      "15        0.00066\n",
      "17        0.00008\n",
      "18        0.00373\n",
      "19        0.00048\n",
      "20       -0.00390\n",
      "21       -0.00298\n",
      "22       -0.00771\n",
      "24       -0.00123\n",
      "25        0.00128\n",
      "26        0.00009\n",
      "27       -0.00484\n",
      "28        0.00095\n",
      "29       -0.00473\n",
      "--------------------------------------\n",
      "\n",
      "\n",
      "--------------------------------------\n",
      "Count of transactions by Close Type\n",
      "..................\n",
      "                     pl\n",
      "close_type             \n",
      "simple_stop         405\n",
      "simple_take_profit  658\n",
      "--------------------------------------\n",
      "\n",
      "\n",
      "--------------------------------------\n",
      "Mean value of transactions by Close Type\n",
      "..................\n",
      "                          pl\n",
      "close_type                  \n",
      "simple_stop        -0.000531\n",
      "simple_take_profit  0.000268\n",
      "--------------------------------------\n",
      "\n",
      "\n",
      "--------------------------------------\n",
      "Sum by Close Type\n",
      "..................\n",
      "                         pl\n",
      "close_type                 \n",
      "simple_stop        -0.21522\n",
      "simple_take_profit  0.17650\n",
      "--------------------------------------\n",
      "\n",
      "\n",
      "--------------------------------------\n",
      "Average pips per day : -0.0016\n",
      "--------------------------------------\n",
      "\n",
      "\n",
      "--------------------------------------\n",
      "Average orders per day : 44.291666666666664\n",
      "--------------------------------------\n",
      "\n",
      "\n"
     ]
    }
   ],
   "source": [
    "generate_result_report(data)"
   ]
  },
  {
   "cell_type": "code",
   "execution_count": 6,
   "metadata": {},
   "outputs": [],
   "source": [
    "data[\"plot\"] = True\n",
    "data['plot_type'] = 'file'\n",
    "data['reduce_plot'] = True\n",
    "data['plot_start']  = '2021-01-08'\n",
    "data['plot_stop']   = '2021-01-09'\n",
    "data['things_to_plot'] = ['tick', 'lema', 'h_l_lema', 'tick_angle', 'positions']"
   ]
  },
  {
   "cell_type": "code",
   "execution_count": 7,
   "metadata": {},
   "outputs": [],
   "source": [
    "plot_graph(data)"
   ]
  },
  {
   "cell_type": "code",
   "execution_count": 17,
   "metadata": {},
   "outputs": [],
   "source": [
    "data['df'] = pd.read_csv('data/ema_df-(2021-2021)-(1-1)-(1-31).csv')\n",
    "\n",
    "data['angle_len'] = 500\n",
    "data = get_x_axis(data)\n",
    "data['df']['tick_angle'] = data['df']['tick'].rolling(window=data['angle_len']).progress_apply(roll_slope)\n",
    "data['df'] = data['df'].dropna()\n",
    "\n",
    "data['df'] = data['df'][data['columns_list']]\n",
    "\n",
    "data['df'].to_csv('data/ema_df-(2021-2021)-(1-1)-(1-31).csv')\n",
    "data['df'].head(2)"
   ]
  }
 ],
 "metadata": {
  "kernelspec": {
   "display_name": "Python 3",
   "language": "python",
   "name": "python3"
  },
  "language_info": {
   "codemirror_mode": {
    "name": "ipython",
    "version": 3
   },
   "file_extension": ".py",
   "mimetype": "text/x-python",
   "name": "python",
   "nbconvert_exporter": "python",
   "pygments_lexer": "ipython3",
   "version": "3.6.6"
  }
 },
 "nbformat": 4,
 "nbformat_minor": 4
}
