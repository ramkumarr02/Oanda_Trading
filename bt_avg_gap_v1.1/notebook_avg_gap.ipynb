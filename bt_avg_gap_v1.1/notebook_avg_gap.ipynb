{
 "cells": [
  {
   "cell_type": "markdown",
   "metadata": {},
   "source": [
    "# ML Trader"
   ]
  },
  {
   "cell_type": "code",
   "execution_count": 1,
   "metadata": {
    "scrolled": true
   },
   "outputs": [],
   "source": [
    "from utils.packages import *\n",
    "from utils.variables import *\n",
    "from utils.i_o import *\n",
    "from utils.dir_slope import *\n",
    "from utils.engine import *\n",
    "from utils.loops import *\n",
    "from utils.order import *\n",
    "import winsound"
   ]
  },
  {
   "cell_type": "code",
   "execution_count": 2,
   "metadata": {
    "scrolled": true
   },
   "outputs": [
    {
     "name": "stdout",
     "output_type": "stream",
     "text": [
      "mean of ticks : 208\n",
      "Wall time: 3min 38s\n"
     ]
    }
   ],
   "source": [
    "%%time\n",
    "nrows = None\n",
    "data['df'] = pd.read_csv('../data/products/eurusd/eurusd_2017.csv', nrows = nrows)\n",
    "data['df']['DateTime_frmt']   = [dt.datetime.strptime(x.split(\".\")[0],\"%Y%m%d %H:%M:%S\") for x in data[\"df\"]['DateTime']]\n",
    "data['df'] = data['df'][['DateTime_frmt', 'Ask']]\n",
    "data['df'] = data['df'].set_index('DateTime_frmt')\n",
    "\n",
    "five_min_ticks = data['df'].resample('5T').count().values\n",
    "mean_ticks = five_min_ticks.mean()\n",
    "\n",
    "print(f'mean of ticks : {int(mean_ticks)}')"
   ]
  },
  {
   "cell_type": "code",
   "execution_count": 3,
   "metadata": {},
   "outputs": [
    {
     "name": "stdout",
     "output_type": "stream",
     "text": [
      "mean of ticks : 248\n",
      "Wall time: 4min 21s\n"
     ]
    }
   ],
   "source": [
    "%%time\n",
    "nrows = None\n",
    "data['df'] = pd.read_csv('../data/products/eurusd/eurusd_2018.csv', nrows = nrows)\n",
    "data['df']['DateTime_frmt']   = [dt.datetime.strptime(x.split(\".\")[0],\"%Y%m%d %H:%M:%S\") for x in data[\"df\"]['DateTime']]\n",
    "data['df'] = data['df'][['DateTime_frmt', 'Ask']]\n",
    "data['df'] = data['df'].set_index('DateTime_frmt')\n",
    "\n",
    "five_min_ticks = data['df'].resample('5T').count().values\n",
    "mean_ticks = five_min_ticks.mean()\n",
    "\n",
    "print(f'mean of ticks : {int(mean_ticks)}')"
   ]
  },
  {
   "cell_type": "code",
   "execution_count": 4,
   "metadata": {},
   "outputs": [
    {
     "name": "stdout",
     "output_type": "stream",
     "text": [
      "mean of ticks : 278\n",
      "Wall time: 4min 53s\n"
     ]
    }
   ],
   "source": [
    "%%time\n",
    "nrows = None\n",
    "data['df'] = pd.read_csv('../data/products/eurusd/eurusd_2019.csv', nrows = nrows)\n",
    "data['df']['DateTime_frmt']   = [dt.datetime.strptime(x.split(\".\")[0],\"%Y%m%d %H:%M:%S\") for x in data[\"df\"]['DateTime']]\n",
    "data['df'] = data['df'][['DateTime_frmt', 'Ask']]\n",
    "data['df'] = data['df'].set_index('DateTime_frmt')\n",
    "\n",
    "five_min_ticks = data['df'].resample('5T').count().values\n",
    "mean_ticks = five_min_ticks.mean()\n",
    "\n",
    "print(f'mean of ticks : {int(mean_ticks)}')"
   ]
  },
  {
   "cell_type": "code",
   "execution_count": 5,
   "metadata": {},
   "outputs": [
    {
     "name": "stdout",
     "output_type": "stream",
     "text": [
      "mean of ticks : 311\n",
      "Wall time: 5min 30s\n"
     ]
    }
   ],
   "source": [
    "%%time\n",
    "nrows = None\n",
    "data['df'] = pd.read_csv('../data/products/eurusd/eurusd_2020.csv', nrows = nrows)\n",
    "data['df']['DateTime_frmt']   = [dt.datetime.strptime(x.split(\".\")[0],\"%Y%m%d %H:%M:%S\") for x in data[\"df\"]['DateTime']]\n",
    "data['df'] = data['df'][['DateTime_frmt', 'Ask']]\n",
    "data['df'] = data['df'].set_index('DateTime_frmt')\n",
    "\n",
    "five_min_ticks = data['df'].resample('5T').count().values\n",
    "mean_ticks = five_min_ticks.mean()\n",
    "\n",
    "print(f'mean of ticks : {int(mean_ticks)}')"
   ]
  },
  {
   "cell_type": "code",
   "execution_count": 6,
   "metadata": {},
   "outputs": [
    {
     "name": "stdout",
     "output_type": "stream",
     "text": [
      "mean of ticks : 161\n",
      "Wall time: 2min 48s\n"
     ]
    }
   ],
   "source": [
    "%%time\n",
    "nrows = None\n",
    "data['df'] = pd.read_csv('../data/products/eurusd/eurusd_2021.csv', nrows = nrows)\n",
    "data['df']['DateTime_frmt']   = [dt.datetime.strptime(x.split(\".\")[0],\"%Y%m%d %H:%M:%S\") for x in data[\"df\"]['DateTime']]\n",
    "data['df'] = data['df'][['DateTime_frmt', 'Ask']]\n",
    "data['df'] = data['df'].set_index('DateTime_frmt')\n",
    "\n",
    "five_min_ticks = data['df'].resample('5T').count().values\n",
    "mean_ticks = five_min_ticks.mean()\n",
    "\n",
    "print(f'mean of ticks : {int(mean_ticks)}')"
   ]
  },
  {
   "cell_type": "code",
   "execution_count": 7,
   "metadata": {},
   "outputs": [
    {
     "ename": "SystemExit",
     "evalue": "",
     "output_type": "error",
     "traceback": [
      "An exception has occurred, use %tb to see the full traceback.\n",
      "\u001b[1;31mSystemExit\u001b[0m\n"
     ]
    }
   ],
   "source": [
    "sys.exit()"
   ]
  },
  {
   "cell_type": "markdown",
   "metadata": {},
   "source": [
    "# ---------------------------------"
   ]
  },
  {
   "cell_type": "code",
   "execution_count": null,
   "metadata": {
    "scrolled": true
   },
   "outputs": [],
   "source": [
    "data = run_engine(data)"
   ]
  },
  {
   "cell_type": "code",
   "execution_count": null,
   "metadata": {},
   "outputs": [],
   "source": [
    "del data['df']['l_gap']"
   ]
  },
  {
   "cell_type": "code",
   "execution_count": null,
   "metadata": {},
   "outputs": [],
   "source": [
    "data['df'][0:10]['DateTime_frmt'].astype(str)"
   ]
  },
  {
   "cell_type": "code",
   "execution_count": null,
   "metadata": {},
   "outputs": [],
   "source": [
    "data['df'].head(2)"
   ]
  },
  {
   "cell_type": "code",
   "execution_count": null,
   "metadata": {},
   "outputs": [],
   "source": [
    "data['df'].to_csv('data\\h_l_eurusd_2020.csv')"
   ]
  },
  {
   "cell_type": "code",
   "execution_count": null,
   "metadata": {
    "scrolled": false
   },
   "outputs": [],
   "source": [
    "generate_result_report(data)"
   ]
  },
  {
   "cell_type": "code",
   "execution_count": null,
   "metadata": {},
   "outputs": [],
   "source": [
    "plot_graph(data)"
   ]
  },
  {
   "cell_type": "code",
   "execution_count": null,
   "metadata": {},
   "outputs": [],
   "source": []
  }
 ],
 "metadata": {
  "kernelspec": {
   "display_name": "Python 3",
   "language": "python",
   "name": "python3"
  },
  "language_info": {
   "codemirror_mode": {
    "name": "ipython",
    "version": 3
   },
   "file_extension": ".py",
   "mimetype": "text/x-python",
   "name": "python",
   "nbconvert_exporter": "python",
   "pygments_lexer": "ipython3",
   "version": "3.6.6"
  }
 },
 "nbformat": 4,
 "nbformat_minor": 4
}
