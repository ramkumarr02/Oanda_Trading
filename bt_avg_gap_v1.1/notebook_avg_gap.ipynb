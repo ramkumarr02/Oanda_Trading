{
 "cells": [
  {
   "cell_type": "markdown",
   "metadata": {},
   "source": [
    "# ML Trader"
   ]
  },
  {
   "cell_type": "code",
   "execution_count": 1,
   "metadata": {
    "scrolled": true
   },
   "outputs": [],
   "source": [
    "from utils.packages import *\n",
    "from utils.variables import *\n",
    "from utils.i_o import *\n",
    "from utils.dir_slope import *\n",
    "from utils.engine import *\n",
    "from utils.loops import *\n",
    "from utils.order import *\n",
    "import winsound"
   ]
  },
  {
   "cell_type": "code",
   "execution_count": 2,
   "metadata": {
    "scrolled": true
   },
   "outputs": [
    {
     "name": "stderr",
     "output_type": "stream",
     "text": [
      "\r",
      "100%|██████████████████████████████| 3521001/3521001 [09:55<00:00, 5910.27it/s]"
     ]
    },
    {
     "name": "stdout",
     "output_type": "stream",
     "text": [
      "pl    0.28463\n",
      "dtype: float64\n",
      "--------------------------------------\n",
      "              DateTime_frmt          close_type       pl\n",
      "3506902 2021-02-26 19:29:13         simple_stop -0.00040\n",
      "3507305 2021-02-26 19:36:54         simple_stop -0.00045\n",
      "3508094 2021-02-26 19:50:39  simple_take_profit  0.00018\n",
      "3509001 2021-02-26 19:59:04         simple_stop -0.00063\n",
      "3509861 2021-02-26 20:06:39         simple_stop -0.00060\n",
      "3510001 2021-02-26 20:09:24  simple_take_profit  0.00019\n",
      "3512603 2021-02-26 20:49:16  simple_take_profit  0.00018\n",
      "3513501 2021-02-26 20:59:13         simple_stop -0.00081\n",
      "3514434 2021-02-26 21:06:09  simple_take_profit  0.00044\n",
      "3515116 2021-02-26 21:14:20  simple_take_profit  0.00033\n",
      "3517389 2021-02-28 22:14:46         simple_stop -0.00104\n",
      "3519067 2021-02-28 23:15:13  simple_take_profit  0.00029\n",
      "3519257 2021-02-28 23:17:15  simple_take_profit  0.00029\n",
      "3520621 2021-02-28 23:42:04         simple_stop -0.00050\n",
      "3520892 2021-02-28 23:48:18  simple_take_profit  0.00025\n"
     ]
    },
    {
     "name": "stderr",
     "output_type": "stream",
     "text": [
      "\n"
     ]
    }
   ],
   "source": [
    "data = run_engine(data)"
   ]
  },
  {
   "cell_type": "code",
   "execution_count": 3,
   "metadata": {
    "scrolled": false
   },
   "outputs": [
    {
     "name": "stdout",
     "output_type": "stream",
     "text": [
      "--------------------------------------\n",
      "Run Complete : data/ema_df-(2021-2021)-(1-2)-(1-28).csv\n",
      "--------------------------------------\n",
      "\n",
      "\n",
      "--------------------------------------\n",
      "Net PL\n",
      "0.2846\n",
      "--------------------------------------\n",
      "\n",
      "\n",
      "--------------------------------------\n",
      "Monthly PL\n",
      "                pl\n",
      "month_val         \n",
      "1          0.16854\n",
      "2          0.11609\n",
      "--------------------------------------\n",
      "\n",
      "\n",
      "--------------------------------------\n",
      "Count of transactions by Close Type\n",
      "..................\n",
      "                      pl\n",
      "close_type              \n",
      "simple_stop         1164\n",
      "simple_take_profit  3444\n",
      "--------------------------------------\n",
      "\n",
      "\n",
      "--------------------------------------\n",
      "Mean value of transactions by Close Type\n",
      "..................\n",
      "                          pl\n",
      "close_type                  \n",
      "simple_stop        -0.000566\n",
      "simple_take_profit  0.000274\n",
      "--------------------------------------\n",
      "\n",
      "\n",
      "--------------------------------------\n",
      "Sum by Close Type\n",
      "..................\n",
      "                         pl\n",
      "close_type                 \n",
      "simple_stop        -0.65869\n",
      "simple_take_profit  0.94332\n",
      "--------------------------------------\n",
      "\n",
      "\n",
      "--------------------------------------\n",
      "Average pips per day : 0.0058\n",
      "--------------------------------------\n",
      "\n",
      "\n",
      "--------------------------------------\n",
      "Average orders per day : 94.04081632653062\n",
      "--------------------------------------\n",
      "\n",
      "\n"
     ]
    }
   ],
   "source": [
    "generate_result_report(data)"
   ]
  },
  {
   "cell_type": "code",
   "execution_count": 4,
   "metadata": {},
   "outputs": [],
   "source": [
    "plot_graph(data)"
   ]
  }
 ],
 "metadata": {
  "kernelspec": {
   "display_name": "Python 3",
   "language": "python",
   "name": "python3"
  },
  "language_info": {
   "codemirror_mode": {
    "name": "ipython",
    "version": 3
   },
   "file_extension": ".py",
   "mimetype": "text/x-python",
   "name": "python",
   "nbconvert_exporter": "python",
   "pygments_lexer": "ipython3",
   "version": "3.6.6"
  }
 },
 "nbformat": 4,
 "nbformat_minor": 4
}
