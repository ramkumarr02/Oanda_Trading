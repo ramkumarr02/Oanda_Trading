{
 "cells": [
  {
   "cell_type": "markdown",
   "metadata": {},
   "source": [
    "# ML Trader"
   ]
  },
  {
   "cell_type": "code",
   "execution_count": 1,
   "metadata": {
    "scrolled": true
   },
   "outputs": [],
   "source": [
    "from utils.packages import *\n",
    "from utils.variables import *\n",
    "from utils.i_o import *\n",
    "from utils.dir_slope import *\n",
    "from utils.engine import *\n",
    "from utils.loops import *\n",
    "from utils.order import *\n",
    "import winsound"
   ]
  },
  {
   "cell_type": "code",
   "execution_count": 2,
   "metadata": {
    "scrolled": false
   },
   "outputs": [
    {
     "name": "stderr",
     "output_type": "stream",
     "text": [
      "\r",
      "100%|████████████████████████████████| 581822/581822 [01:03<00:00, 9160.26it/s]"
     ]
    },
    {
     "name": "stdout",
     "output_type": "stream",
     "text": [
      "pl   -0.03338\n",
      "dtype: float64\n",
      "--------------------------------------\n",
      "             DateTime_frmt     close_type       pl\n",
      "577014 2021-01-10 22:29:58       reversed -0.00059\n",
      "577024 2021-01-10 22:30:08    simple_stop -0.00067\n",
      "577026 2021-01-10 22:30:14       reversed -0.00038\n",
      "577063 2021-01-10 22:31:38    simple_stop -0.00077\n",
      "577107 2021-01-10 22:35:07       reversed -0.00122\n",
      "577108 2021-01-10 22:35:13    simple_stop -0.00122\n",
      "577275 2021-01-10 22:43:41       reversed -0.00037\n",
      "577293 2021-01-10 22:45:30    simple_stop -0.00067\n",
      "577330 2021-01-10 22:50:10  pl_move_close  0.00022\n",
      "578084 2021-01-10 23:01:48       reversed -0.00037\n",
      "578615 2021-01-10 23:08:14  pl_move_close  0.00078\n",
      "579394 2021-01-10 23:19:45       reversed -0.00042\n",
      "580306 2021-01-10 23:41:40  pl_move_close  0.00035\n",
      "580558 2021-01-10 23:44:30       reversed -0.00046\n",
      "581652 2021-01-10 23:57:51  pl_move_close  0.00040\n"
     ]
    },
    {
     "name": "stderr",
     "output_type": "stream",
     "text": [
      "\n"
     ]
    },
    {
     "name": "stdout",
     "output_type": "stream",
     "text": [
      "Wall time: 1min 12s\n"
     ]
    }
   ],
   "source": [
    "%%time\n",
    "data = run_engine(data)"
   ]
  },
  {
   "cell_type": "code",
   "execution_count": 3,
   "metadata": {
    "scrolled": false
   },
   "outputs": [
    {
     "name": "stdout",
     "output_type": "stream",
     "text": [
      "--------------------------------------\n",
      "Run Complete : data/ema_df-(2021-2021)-(1-1)-(1-11).csv\n",
      "--------------------------------------\n",
      "\n",
      "\n",
      "--------------------------------------\n",
      "Net PL\n",
      "-0.0334\n",
      "--------------------------------------\n",
      "\n",
      "\n",
      "--------------------------------------\n",
      "Monthly PL\n",
      "                pl\n",
      "month_val         \n",
      "1         -0.03338\n",
      "--------------------------------------\n",
      "\n",
      "\n",
      "--------------------------------------\n",
      "Daily PL\n",
      "               pl\n",
      "date_val         \n",
      "3         0.00001\n",
      "4        -0.00179\n",
      "5        -0.00699\n",
      "6         0.00284\n",
      "7        -0.00984\n",
      "8        -0.00338\n",
      "10       -0.01423\n",
      "--------------------------------------\n",
      "\n",
      "\n",
      "--------------------------------------\n",
      "Count of transactions by Close Type\n",
      "..................\n",
      "                pl\n",
      "close_type        \n",
      "pl_move_close  439\n",
      "reversed       300\n",
      "simple_stop    119\n",
      "--------------------------------------\n",
      "\n",
      "\n",
      "--------------------------------------\n",
      "Mean value of transactions by Close Type\n",
      "..................\n",
      "                     pl\n",
      "close_type             \n",
      "pl_move_close  0.000312\n",
      "reversed      -0.000335\n",
      "simple_stop   -0.000589\n",
      "--------------------------------------\n",
      "\n",
      "\n",
      "--------------------------------------\n",
      "Sum by Close Type\n",
      "..................\n",
      "                    pl\n",
      "close_type            \n",
      "pl_move_close  0.13711\n",
      "reversed      -0.10043\n",
      "simple_stop   -0.07006\n",
      "--------------------------------------\n",
      "\n",
      "\n",
      "--------------------------------------\n",
      "Average pips per day : -0.0048\n",
      "--------------------------------------\n",
      "\n",
      "\n",
      "--------------------------------------\n",
      "Average orders per day : 122.57142857142857\n",
      "--------------------------------------\n",
      "\n",
      "\n"
     ]
    }
   ],
   "source": [
    "generate_result_report(data)"
   ]
  },
  {
   "cell_type": "markdown",
   "metadata": {},
   "source": [
    "data['df']['long_profit'] = np.nan\n",
    "data['df']['long_loss'] = np.nan\n",
    "data['df']['short_profit'] = np.nan\n",
    "data['df']['short_loss'] = np.nan\n",
    "\n",
    "data['df']['long_profit'][data['df']['pl'] > 0] = data['df']['long_close']\n",
    "data['df']['long_loss'][data['df']['pl'] < 0] = data['df']['long_close']\n",
    "\n",
    "data['df']['short_profit'][data['df']['pl'] > 0] = data['df']['short_close']\n",
    "data['df']['short_loss'][data['df']['pl'] < 0] = data['df']['short_close']\n",
    "\n",
    "del data['long_close']\n",
    "del data['short_close']"
   ]
  },
  {
   "cell_type": "code",
   "execution_count": 4,
   "metadata": {},
   "outputs": [],
   "source": [
    "data[\"plot\"] = True\n",
    "data['plot_type'] = 'file'\n",
    "data['reduce_plot'] = True\n",
    "data['plot_start']  = '2021-01-5'\n",
    "data['plot_stop']   = '2021-01-6'\n",
    "# data['things_to_plot'] = ['tick', 'lema', 'h_l_lema', 'tick_angle', 'positions']\n",
    "data['things_to_plot'] = ['tick', 'lema', 'h_l_lema', 'positions']\n",
    "data['things_to_plot'] = ['tick', 'lema', 'h_l_lema', 'tick_angle', 'positions']"
   ]
  },
  {
   "cell_type": "code",
   "execution_count": 5,
   "metadata": {
    "scrolled": false
   },
   "outputs": [],
   "source": [
    "plot_graph(data)"
   ]
  },
  {
   "cell_type": "markdown",
   "metadata": {},
   "source": [
    "data['df'] = pd.read_csv('data/ema_df-(2021-2021)-(1-1)-(1-31).csv')\n",
    "\n",
    "data['angle_len'] = 10\n",
    "data = get_x_axis(data)\n",
    "data['df']['tick_angle'] = data['df']['lema'].rolling(window=data['angle_len']).progress_apply(roll_slope)\n",
    "data['df'] = data['df'].dropna()\n",
    "\n",
    "data['df'] = data['df'][data['columns_list']]\n",
    "\n",
    "data['df'].to_csv('data/ema_df-(2021-2021)-(1-1)-(1-31).csv')\n",
    "data['df'].head(2)"
   ]
  }
 ],
 "metadata": {
  "kernelspec": {
   "display_name": "Python 3",
   "language": "python",
   "name": "python3"
  },
  "language_info": {
   "codemirror_mode": {
    "name": "ipython",
    "version": 3
   },
   "file_extension": ".py",
   "mimetype": "text/x-python",
   "name": "python",
   "nbconvert_exporter": "python",
   "pygments_lexer": "ipython3",
   "version": "3.6.6"
  }
 },
 "nbformat": 4,
 "nbformat_minor": 4
}
