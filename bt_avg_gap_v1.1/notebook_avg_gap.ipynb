{
 "cells": [
  {
   "cell_type": "markdown",
   "metadata": {},
   "source": [
    "# ML Trader"
   ]
  },
  {
   "cell_type": "code",
   "execution_count": 1,
   "metadata": {
    "scrolled": true
   },
   "outputs": [],
   "source": [
    "from utils.packages import *\n",
    "from utils.variables import *\n",
    "from utils.i_o import *\n",
    "from utils.dir_slope import *\n",
    "from utils.engine import *\n",
    "from utils.loops import *\n",
    "from utils.order import *\n",
    "import winsound"
   ]
  },
  {
   "cell_type": "code",
   "execution_count": 2,
   "metadata": {
    "scrolled": false
   },
   "outputs": [
    {
     "name": "stderr",
     "output_type": "stream",
     "text": [
      "100%|███████████████████████████████| 109001/109001 [00:09<00:00, 10948.63it/s]"
     ]
    },
    {
     "name": "stdout",
     "output_type": "stream",
     "text": [
      "pl    0.01409\n",
      "dtype: float64\n",
      "--------------------------------------\n",
      "             DateTime_frmt          close_type       pl\n",
      "99310  2021-01-04 19:18:22  simple_take_profit  0.00017\n",
      "100881 2021-01-04 19:51:12  simple_take_profit  0.00023\n",
      "101036 2021-01-04 19:53:41  simple_take_profit  0.00025\n",
      "101789 2021-01-04 20:03:05  simple_take_profit  0.00031\n",
      "102543 2021-01-04 20:12:56  simple_take_profit  0.00012\n",
      "103585 2021-01-04 20:35:35         simple_stop -0.00046\n",
      "103833 2021-01-04 20:40:27  simple_take_profit  0.00023\n",
      "104199 2021-01-04 20:49:07  simple_take_profit  0.00024\n",
      "105242 2021-01-04 21:07:45  simple_take_profit  0.00030\n",
      "106052 2021-01-04 21:38:06  simple_take_profit  0.00033\n",
      "106883 2021-01-04 22:00:40  simple_take_profit  0.00045\n",
      "106940 2021-01-04 22:06:19  simple_take_profit  0.00051\n",
      "107093 2021-01-04 22:18:19  simple_take_profit  0.00028\n",
      "108132 2021-01-04 23:27:26  simple_take_profit  0.00026\n",
      "108819 2021-01-04 23:51:05  simple_take_profit  0.00017\n"
     ]
    },
    {
     "name": "stderr",
     "output_type": "stream",
     "text": [
      "\n"
     ]
    }
   ],
   "source": [
    "data = run_engine(data)"
   ]
  },
  {
   "cell_type": "code",
   "execution_count": 3,
   "metadata": {
    "scrolled": false
   },
   "outputs": [
    {
     "name": "stdout",
     "output_type": "stream",
     "text": [
      "--------------------------------------\n",
      "Run Complete : data/ema_df-(2021-2021)-(1-1)-(4-4).csv\n",
      "--------------------------------------\n",
      "\n",
      "\n",
      "--------------------------------------\n",
      "Net PL\n",
      "0.0141\n",
      "--------------------------------------\n",
      "\n",
      "\n",
      "--------------------------------------\n",
      "Monthly PL\n",
      "                pl\n",
      "month_val         \n",
      "1          0.01409\n",
      "--------------------------------------\n",
      "\n",
      "\n",
      "--------------------------------------\n",
      "Count of transactions by Close Type\n",
      "..................\n",
      "                     pl\n",
      "close_type             \n",
      "simple_stop          32\n",
      "simple_take_profit  115\n",
      "--------------------------------------\n",
      "\n",
      "\n",
      "--------------------------------------\n",
      "Mean value of transactions by Close Type\n",
      "..................\n",
      "                          pl\n",
      "close_type                  \n",
      "simple_stop        -0.000534\n",
      "simple_take_profit  0.000271\n",
      "--------------------------------------\n",
      "\n",
      "\n",
      "--------------------------------------\n",
      "Sum by Close Type\n",
      "..................\n",
      "                         pl\n",
      "close_type                 \n",
      "simple_stop        -0.01708\n",
      "simple_take_profit  0.03117\n",
      "--------------------------------------\n",
      "\n",
      "\n",
      "--------------------------------------\n",
      "Average pips per day : 0.0141\n",
      "--------------------------------------\n",
      "\n",
      "\n",
      "--------------------------------------\n",
      "Average orders per day : 147.0\n",
      "--------------------------------------\n",
      "\n",
      "\n"
     ]
    }
   ],
   "source": [
    "generate_result_report(data)"
   ]
  }
 ],
 "metadata": {
  "kernelspec": {
   "display_name": "Python 3",
   "language": "python",
   "name": "python3"
  },
  "language_info": {
   "codemirror_mode": {
    "name": "ipython",
    "version": 3
   },
   "file_extension": ".py",
   "mimetype": "text/x-python",
   "name": "python",
   "nbconvert_exporter": "python",
   "pygments_lexer": "ipython3",
   "version": "3.6.6"
  }
 },
 "nbformat": 4,
 "nbformat_minor": 4
}
