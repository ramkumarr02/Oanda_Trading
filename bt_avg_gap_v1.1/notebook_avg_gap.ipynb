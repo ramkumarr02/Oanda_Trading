{
 "cells": [
  {
   "cell_type": "markdown",
   "metadata": {},
   "source": [
    "# ML Trader"
   ]
  },
  {
   "cell_type": "code",
   "execution_count": 1,
   "metadata": {
    "scrolled": true
   },
   "outputs": [],
   "source": [
    "from utils.packages import *\n",
    "from utils.variables import *\n",
    "from utils.i_o import *\n",
    "from utils.dir_slope import *\n",
    "from utils.engine import *\n",
    "from utils.loops import *\n",
    "from utils.order import *\n",
    "import winsound"
   ]
  },
  {
   "cell_type": "code",
   "execution_count": 2,
   "metadata": {
    "scrolled": false
   },
   "outputs": [
    {
     "name": "stdout",
     "output_type": "stream",
     "text": [
      "pl    0.00236\n",
      "dtype: float64\n",
      "--------------------------------------\n",
      "             DateTime_frmt          close_type       pl\n",
      "101469 2021-01-04 18:39:22  simple_take_profit  0.00026\n",
      "102377 2021-01-04 18:55:44  simple_take_profit  0.00022\n",
      "103150 2021-01-04 19:07:03  simple_take_profit  0.00020\n",
      "104686 2021-01-04 19:35:59  simple_take_profit  0.00011\n",
      "105400 2021-01-04 19:50:55  simple_take_profit  0.00017\n",
      "105865 2021-01-04 19:57:29  simple_take_profit  0.00025\n",
      "106346 2021-01-04 20:03:06  simple_take_profit  0.00026\n",
      "107726 2021-01-04 20:28:54         simple_stop -0.00030\n",
      "108741 2021-01-04 20:48:57  simple_take_profit  0.00023\n",
      "110218 2021-01-04 21:21:12  simple_take_profit  0.00031\n",
      "110690 2021-01-04 21:40:37  simple_take_profit  0.00034\n",
      "111449 2021-01-04 22:02:39  simple_take_profit  0.00039\n",
      "111491 2021-01-04 22:06:19  simple_take_profit  0.00051\n",
      "111647 2021-01-04 22:18:55  simple_take_profit  0.00048\n",
      "112736 2021-01-04 23:29:33  simple_take_profit  0.00034\n"
     ]
    },
    {
     "name": "stderr",
     "output_type": "stream",
     "text": [
      "100%|███████████████████████████████| 113572/113572 [00:10<00:00, 10705.19it/s]\n"
     ]
    },
    {
     "name": "stdout",
     "output_type": "stream",
     "text": [
      "Wall time: 1min 6s\n"
     ]
    }
   ],
   "source": [
    "%%time\n",
    "data = run_engine(data)"
   ]
  },
  {
   "cell_type": "code",
   "execution_count": 3,
   "metadata": {
    "scrolled": true
   },
   "outputs": [
    {
     "name": "stdout",
     "output_type": "stream",
     "text": [
      "--------------------------------------\n",
      "Run Complete : data/ema_df-(2021-2021)-(1-1)-(1-4).csv\n",
      "--------------------------------------\n",
      "\n",
      "\n",
      "--------------------------------------\n",
      "Net PL\n",
      "0.0024\n",
      "--------------------------------------\n",
      "\n",
      "\n",
      "--------------------------------------\n",
      "Monthly PL\n",
      "                pl\n",
      "month_val         \n",
      "1          0.00236\n",
      "--------------------------------------\n",
      "\n",
      "\n",
      "--------------------------------------\n",
      "Daily PL\n",
      "               pl\n",
      "date_val         \n",
      "3        -0.00104\n",
      "4         0.00340\n",
      "--------------------------------------\n",
      "\n",
      "\n",
      "--------------------------------------\n",
      "Count of transactions by Close Type\n",
      "..................\n",
      "                     pl\n",
      "close_type             \n",
      "simple_stop          54\n",
      "simple_take_profit  106\n",
      "--------------------------------------\n",
      "\n",
      "\n",
      "--------------------------------------\n",
      "Mean value of transactions by Close Type\n",
      "..................\n",
      "                          pl\n",
      "close_type                  \n",
      "simple_stop        -0.000452\n",
      "simple_take_profit  0.000253\n",
      "--------------------------------------\n",
      "\n",
      "\n",
      "--------------------------------------\n",
      "Sum by Close Type\n",
      "..................\n",
      "                         pl\n",
      "close_type                 \n",
      "simple_stop        -0.02443\n",
      "simple_take_profit  0.02679\n",
      "--------------------------------------\n",
      "\n",
      "\n",
      "--------------------------------------\n",
      "Average pips per day : 0.0012\n",
      "--------------------------------------\n",
      "\n",
      "\n",
      "--------------------------------------\n",
      "Average orders per day : 80.0\n",
      "--------------------------------------\n",
      "\n",
      "\n"
     ]
    }
   ],
   "source": [
    "generate_result_report(data)"
   ]
  },
  {
   "cell_type": "code",
   "execution_count": 74,
   "metadata": {},
   "outputs": [],
   "source": [
    "data[\"plot\"] = True\n",
    "data['reduce_plot'] = False\n",
    "data['plot_type'] = 'file'\n",
    "data['plot_start']  = '2021-01-06'\n",
    "data['plot_stop']   = '2021-01-07'\n",
    "\n",
    "plot_graph(data)"
   ]
  },
  {
   "cell_type": "code",
   "execution_count": null,
   "metadata": {},
   "outputs": [],
   "source": [
    "# data['df'] = temp"
   ]
  },
  {
   "cell_type": "markdown",
   "metadata": {},
   "source": [
    "temp = data['df']\n",
    "temp.head(2)"
   ]
  },
  {
   "cell_type": "markdown",
   "metadata": {},
   "source": [
    "i = 10000\n",
    "data['avg_candle_num'] = 3"
   ]
  },
  {
   "cell_type": "markdown",
   "metadata": {},
   "source": [
    "ind = data['df']['h'][data['df']['h'].notnull()].loc[i - data['candle_size'] * data['avg_candle_num'] + 1 : i].index\n",
    "\n",
    "data['df']['h_avg'].loc[i:i+data['candle_size']] = np.mean(data['df']['h'].loc[ind] - data['df']['lema'].loc[ind])\n",
    "data['df']['l_avg'].loc[i:i+data['candle_size']] = np.mean(data['df']['lema'].loc[ind] - data['df']['l'].loc[ind])"
   ]
  },
  {
   "cell_type": "markdown",
   "metadata": {},
   "source": [
    "data['df']['h']         = np.nan\n",
    "data['df']['l']         = np.nan\n",
    "data['df']['h_l_gap']   = np.nan\n",
    "\n",
    "data['df']['h_avg']     = np.nan\n",
    "data['df']['l_avg']     = np.nan    \n",
    "\n",
    "data['df']['h_gap']     = np.nan\n",
    "data['df']['l_gap']     = np.nan\n",
    "\n",
    "data['df']['h_lema']    = np.nan\n",
    "data['df']['l_lema']    = np.nan\n",
    "\n",
    "for i in tqdm(range(len(data['df']))):\n",
    "    if i % data['candle_size'] == 0 and i > 0:        \n",
    "        data['tick_list'] = data['df']['tick'].loc[i - data['candle_size'] : i-1]\n",
    "        max_val     = max(data['tick_list'])\n",
    "        min_val     = min(data['tick_list'])\n",
    "\n",
    "        data['df']['h'].loc[i]  = max_val\n",
    "        data['df']['l'].loc[i]  = min_val\n",
    "\n",
    "        ind = data['df']['h'][data['df']['h'].notnull()].loc[i - data['candle_size'] * data['avg_candle_num'] + 1 : i].index\n",
    "        data['df']['h_gap'].loc[i:i+data['candle_size']] = np.mean(data['df']['h'].loc[ind] - data['df']['lema'].loc[ind])\n",
    "        data['df']['l_gap'].loc[i:i+data['candle_size']] = np.mean(data['df']['lema'].loc[ind] - data['df']['l'].loc[ind])\n",
    "\n",
    "data['df']['h_lema'] = data['df']['h_gap'] + data['df']['lema']\n",
    "data['df']['l_lema'] = data['df']['lema'] - data['df']['l_gap']\n",
    "\n",
    "data['df']['h_l_gap'] = data['df']['h'] - data['df']['l']"
   ]
  },
  {
   "cell_type": "markdown",
   "metadata": {},
   "source": [
    "data['df']"
   ]
  }
 ],
 "metadata": {
  "kernelspec": {
   "display_name": "Python 3",
   "language": "python",
   "name": "python3"
  },
  "language_info": {
   "codemirror_mode": {
    "name": "ipython",
    "version": 3
   },
   "file_extension": ".py",
   "mimetype": "text/x-python",
   "name": "python",
   "nbconvert_exporter": "python",
   "pygments_lexer": "ipython3",
   "version": "3.6.6"
  }
 },
 "nbformat": 4,
 "nbformat_minor": 4
}
