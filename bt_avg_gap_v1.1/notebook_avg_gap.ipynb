{
 "cells": [
  {
   "cell_type": "markdown",
   "metadata": {},
   "source": [
    "# ML Trader"
   ]
  },
  {
   "cell_type": "code",
   "execution_count": 1,
   "metadata": {
    "scrolled": true
   },
   "outputs": [],
   "source": [
    "from utils.packages import *\n",
    "from utils.variables import *\n",
    "from utils.i_o import *\n",
    "from utils.dir_slope import *\n",
    "from utils.engine import *\n",
    "from utils.loops import *\n",
    "from utils.order import *\n",
    "import winsound"
   ]
  },
  {
   "cell_type": "code",
   "execution_count": 2,
   "metadata": {},
   "outputs": [
    {
     "name": "stderr",
     "output_type": "stream",
     "text": [
      "100%|███████████████████████████████| 583821/583821 [00:53<00:00, 10826.62it/s]\n"
     ]
    },
    {
     "name": "stdout",
     "output_type": "stream",
     "text": [
      "pl   -0.00443\n",
      "dtype: float64\n",
      "--------------------------------------\n",
      "             DateTime_frmt          close_type       pl\n",
      "565482 2021-01-08 18:31:02  simple_take_profit  0.00045\n",
      "567973 2021-01-08 18:53:41  simple_take_profit  0.00036\n",
      "569164 2021-01-08 19:03:44  simple_take_profit  0.00031\n",
      "570282 2021-01-08 19:17:53  simple_take_profit  0.00023\n",
      "571126 2021-01-08 19:32:52  simple_take_profit  0.00030\n",
      "574048 2021-01-08 20:22:20         simple_stop -0.00070\n",
      "576492 2021-01-08 21:35:10  simple_take_profit  0.00027\n",
      "576895 2021-01-08 21:48:01  simple_take_profit  0.00041\n",
      "577386 2021-01-08 21:55:36  simple_take_profit  0.00032\n",
      "578578 2021-01-10 22:12:31  simple_take_profit  0.00082\n",
      "578614 2021-01-10 22:13:04         simple_stop -0.00147\n",
      "578843 2021-01-10 22:15:58  simple_take_profit  0.00088\n",
      "578966 2021-01-10 22:29:24  simple_take_profit  0.00075\n",
      "579819 2021-01-10 23:00:06  simple_take_profit  0.00063\n",
      "582182 2021-01-10 23:39:38         simple_stop -0.00102\n",
      "Wall time: 4min 37s\n"
     ]
    }
   ],
   "source": [
    "%%time\n",
    "data = run_engine(data)"
   ]
  },
  {
   "cell_type": "code",
   "execution_count": 3,
   "metadata": {
    "scrolled": true
   },
   "outputs": [
    {
     "name": "stdout",
     "output_type": "stream",
     "text": [
      "--------------------------------------\n",
      "Run Complete : data/ema_df-(2021-2021)-(1-1)-(1-10).csv\n",
      "--------------------------------------\n",
      "\n",
      "\n",
      "--------------------------------------\n",
      "Net PL\n",
      "-0.0044\n",
      "--------------------------------------\n",
      "\n",
      "\n",
      "--------------------------------------\n",
      "Monthly PL\n",
      "                pl\n",
      "month_val         \n",
      "1         -0.00443\n",
      "--------------------------------------\n",
      "\n",
      "\n",
      "--------------------------------------\n",
      "Daily PL\n",
      "               pl\n",
      "date_val         \n",
      "3        -0.00032\n",
      "4         0.00516\n",
      "5         0.00793\n",
      "6        -0.00614\n",
      "7        -0.00513\n",
      "8        -0.00652\n",
      "10        0.00059\n",
      "--------------------------------------\n",
      "\n",
      "\n",
      "--------------------------------------\n",
      "Count of transactions by Close Type\n",
      "..................\n",
      "                     pl\n",
      "close_type             \n",
      "simple_stop         114\n",
      "simple_take_profit  373\n",
      "--------------------------------------\n",
      "\n",
      "\n",
      "--------------------------------------\n",
      "Mean value of transactions by Close Type\n",
      "..................\n",
      "                          pl\n",
      "close_type                  \n",
      "simple_stop        -0.000913\n",
      "simple_take_profit  0.000267\n",
      "--------------------------------------\n",
      "\n",
      "\n",
      "--------------------------------------\n",
      "Sum by Close Type\n",
      "..................\n",
      "                         pl\n",
      "close_type                 \n",
      "simple_stop        -0.10409\n",
      "simple_take_profit  0.09966\n",
      "--------------------------------------\n",
      "\n",
      "\n",
      "--------------------------------------\n",
      "Average pips per day : -0.0006\n",
      "--------------------------------------\n",
      "\n",
      "\n",
      "--------------------------------------\n",
      "Average orders per day : 69.57142857142857\n",
      "--------------------------------------\n",
      "\n",
      "\n"
     ]
    }
   ],
   "source": [
    "generate_result_report(data)"
   ]
  },
  {
   "cell_type": "code",
   "execution_count": 5,
   "metadata": {},
   "outputs": [],
   "source": [
    "data[\"plot\"] = True\n",
    "data['reduce_plot'] = True\n",
    "data['plot_type'] = 'file'\n",
    "data['plot_start']  = '2021-01-08 00:00:00'\n",
    "data['plot_stop']   = '2021-01-09 00:00:00'"
   ]
  },
  {
   "cell_type": "code",
   "execution_count": 6,
   "metadata": {
    "scrolled": true
   },
   "outputs": [],
   "source": [
    "plot_graph(data)"
   ]
  }
 ],
 "metadata": {
  "kernelspec": {
   "display_name": "Python 3",
   "language": "python",
   "name": "python3"
  },
  "language_info": {
   "codemirror_mode": {
    "name": "ipython",
    "version": 3
   },
   "file_extension": ".py",
   "mimetype": "text/x-python",
   "name": "python",
   "nbconvert_exporter": "python",
   "pygments_lexer": "ipython3",
   "version": "3.6.6"
  }
 },
 "nbformat": 4,
 "nbformat_minor": 4
}
