{
 "cells": [
  {
   "cell_type": "markdown",
   "metadata": {},
   "source": [
    "# ML Trader"
   ]
  },
  {
   "cell_type": "code",
   "execution_count": 1,
   "metadata": {
    "scrolled": true
   },
   "outputs": [],
   "source": [
    "from utils.packages import *\n",
    "from utils.variables import *\n",
    "from utils.i_o import *\n",
    "from utils.dir_slope import *\n",
    "from utils.engine import *\n",
    "from utils.loops import *\n",
    "from utils.order import *\n",
    "import winsound"
   ]
  },
  {
   "cell_type": "code",
   "execution_count": 2,
   "metadata": {
    "scrolled": false
   },
   "outputs": [
    {
     "name": "stderr",
     "output_type": "stream",
     "text": [
      "100%|██████████████████████████████| 3198001/3198001 [07:01<00:00, 7582.43it/s]"
     ]
    },
    {
     "name": "stdout",
     "output_type": "stream",
     "text": [
      "pl    0.06714\n",
      "dtype: float64\n",
      "--------------------------------------\n",
      "              DateTime_frmt          close_type       pl\n",
      "3187954 2020-02-28 19:56:03  simple_take_profit  0.00031\n",
      "3188231 2020-02-28 19:57:46  simple_take_profit  0.00030\n",
      "3189317 2020-02-28 20:05:32  simple_take_profit  0.00044\n",
      "3190254 2020-02-28 20:14:55  simple_take_profit  0.00032\n",
      "3190744 2020-02-28 20:19:51  simple_take_profit  0.00033\n",
      "3191419 2020-02-28 20:26:42         simple_stop -0.00043\n",
      "3192044 2020-02-28 20:31:28  simple_take_profit  0.00034\n",
      "3193289 2020-02-28 20:44:19         simple_stop -0.00042\n",
      "3193395 2020-02-28 20:45:43  simple_take_profit  0.00021\n",
      "3194269 2020-02-28 20:55:55         simple_stop -0.00062\n",
      "3194483 2020-02-28 20:57:39  simple_take_profit  0.00032\n",
      "3194987 2020-02-28 21:02:09  simple_take_profit  0.00033\n",
      "3195515 2020-02-28 21:06:05         simple_stop -0.00064\n",
      "3196969 2020-02-28 21:33:47  simple_take_profit  0.00046\n",
      "3197501 2020-02-28 21:45:15  simple_take_profit  0.00039\n"
     ]
    },
    {
     "name": "stderr",
     "output_type": "stream",
     "text": [
      "\n"
     ]
    }
   ],
   "source": [
    "data = run_engine(data)"
   ]
  },
  {
   "cell_type": "code",
   "execution_count": 3,
   "metadata": {
    "scrolled": false
   },
   "outputs": [
    {
     "name": "stdout",
     "output_type": "stream",
     "text": [
      "--------------------------------------\n",
      "Run Complete : data/ema_df-(2020-2020)-(1-2)-(1-29).csv\n",
      "--------------------------------------\n",
      "\n",
      "\n",
      "--------------------------------------\n",
      "Net PL\n",
      "0.0671\n",
      "--------------------------------------\n",
      "\n",
      "\n",
      "--------------------------------------\n",
      "Monthly PL\n",
      "                pl\n",
      "month_val         \n",
      "1          0.03663\n",
      "2          0.03051\n",
      "--------------------------------------\n",
      "\n",
      "\n",
      "--------------------------------------\n",
      "Count of transactions by Close Type\n",
      "..................\n",
      "                      pl\n",
      "close_type              \n",
      "simple_stop          899\n",
      "simple_take_profit  2185\n",
      "--------------------------------------\n",
      "\n",
      "\n",
      "--------------------------------------\n",
      "Mean value of transactions by Close Type\n",
      "..................\n",
      "                          pl\n",
      "close_type                  \n",
      "simple_stop        -0.000451\n",
      "simple_take_profit  0.000216\n",
      "--------------------------------------\n",
      "\n",
      "\n",
      "--------------------------------------\n",
      "Sum by Close Type\n",
      "..................\n",
      "                         pl\n",
      "close_type                 \n",
      "simple_stop        -0.40537\n",
      "simple_take_profit  0.47251\n",
      "--------------------------------------\n",
      "\n",
      "\n",
      "--------------------------------------\n",
      "Average pips per day : 0.0013\n",
      "--------------------------------------\n",
      "\n",
      "\n",
      "--------------------------------------\n",
      "Average orders per day : 60.470588235294116\n",
      "--------------------------------------\n",
      "\n",
      "\n"
     ]
    }
   ],
   "source": [
    "generate_result_report(data)"
   ]
  },
  {
   "cell_type": "code",
   "execution_count": 4,
   "metadata": {},
   "outputs": [],
   "source": [
    "plot_graph(data)"
   ]
  },
  {
   "cell_type": "code",
   "execution_count": 6,
   "metadata": {},
   "outputs": [
    {
     "name": "stdout",
     "output_type": "stream",
     "text": [
      "10000\n"
     ]
    }
   ],
   "source": [
    "df = pd.read_csv('data\\h_l_ema_2020-jul_dec_250.csv', nrows = 10000)\n",
    "print(len(df))\n",
    "\n",
    "x = 2000\n",
    "\n",
    "start = 2000\n",
    "\n",
    "ema_list = list(df['tick'][start:start+x])\n",
    "print(pd.DataFrame(ema_list).ewm(span=len(ema_list)).mean()[0].iloc[-1].round(6))\n",
    "\n",
    "df['lema'].iloc[start+x-1:start+x+2]\n",
    "\n",
    "data['report_df'].head(2)\n",
    "\n",
    "data['df'][data['df']['DateTime_frmt'] == '2020-02-28 21:53:18']\n",
    "\n",
    "data['df']\n",
    "\n",
    "df = pd.read_csv('data/eurusd_2020.csv')\n",
    "df.head()\n",
    "\n",
    "len(df)\n",
    "\n",
    "df.drop_duplicates()\n",
    "\n",
    "df[3196255+3239:].head(7)\n",
    "\n",
    "len(df)\n",
    "\n",
    "data['report_df'].groupby(['month_val', 'date_val']).pl.sum()"
   ]
  }
 ],
 "metadata": {
  "kernelspec": {
   "display_name": "Python 3",
   "language": "python",
   "name": "python3"
  },
  "language_info": {
   "codemirror_mode": {
    "name": "ipython",
    "version": 3
   },
   "file_extension": ".py",
   "mimetype": "text/x-python",
   "name": "python",
   "nbconvert_exporter": "python",
   "pygments_lexer": "ipython3",
   "version": "3.6.6"
  }
 },
 "nbformat": 4,
 "nbformat_minor": 4
}
