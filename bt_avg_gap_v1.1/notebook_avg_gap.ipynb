{
 "cells": [
  {
   "cell_type": "markdown",
   "metadata": {},
   "source": [
    "# ML Trader"
   ]
  },
  {
   "cell_type": "code",
   "execution_count": 1,
   "metadata": {
    "scrolled": true
   },
   "outputs": [],
   "source": [
    "from utils.packages import *\n",
    "from utils.variables import *\n",
    "from utils.i_o import *\n",
    "from utils.dir_slope import *\n",
    "from utils.engine import *\n",
    "from utils.loops import *\n",
    "from utils.order import *\n",
    "import winsound"
   ]
  },
  {
   "cell_type": "code",
   "execution_count": null,
   "metadata": {
    "scrolled": false
   },
   "outputs": [
    {
     "name": "stderr",
     "output_type": "stream",
     "text": [
      "  0%|                            | 145950/32760501 [01:35<4:32:54, 1991.84it/s]"
     ]
    },
    {
     "name": "stdout",
     "output_type": "stream",
     "text": [
      "pl    0.00543\n",
      "dtype: float64\n",
      "--------------------------------------\n",
      "             DateTime_frmt          close_type       pl\n",
      "130971 2020-01-03 13:46:44  simple_take_profit  0.00034\n",
      "131612 2020-01-03 13:54:20         simple_stop -0.00035\n",
      "132611 2020-01-03 14:05:57  simple_take_profit  0.00026\n",
      "135115 2020-01-03 14:33:46         simple_stop -0.00033\n",
      "136429 2020-01-03 14:46:29         simple_stop -0.00034\n",
      "136752 2020-01-03 14:49:01  simple_take_profit  0.00014\n",
      "137820 2020-01-03 15:00:00  simple_take_profit  0.00126\n",
      "139501 2020-01-03 15:07:16  simple_take_profit  0.00017\n",
      "141001 2020-01-03 15:17:33         simple_stop -0.00032\n",
      "141774 2020-01-03 15:22:44  simple_take_profit  0.00023\n",
      "142225 2020-01-03 15:26:50  simple_take_profit  0.00016\n",
      "142732 2020-01-03 15:31:09  simple_take_profit  0.00016\n",
      "143606 2020-01-03 15:40:41  simple_take_profit  0.00020\n",
      "143988 2020-01-03 15:45:23  simple_take_profit  0.00020\n",
      "144825 2020-01-03 15:53:07  simple_take_profit  0.00044\n"
     ]
    },
    {
     "name": "stderr",
     "output_type": "stream",
     "text": [
      "  0%|▏                           | 146293/32760501 [01:35<5:54:48, 1532.01it/s]\n"
     ]
    }
   ],
   "source": [
    "data = run_engine(data)"
   ]
  },
  {
   "cell_type": "code",
   "execution_count": null,
   "metadata": {
    "scrolled": false
   },
   "outputs": [],
   "source": [
    "generate_result_report(data)"
   ]
  },
  {
   "cell_type": "code",
   "execution_count": null,
   "metadata": {},
   "outputs": [],
   "source": [
    "plot_graph(data)"
   ]
  }
 ],
 "metadata": {
  "kernelspec": {
   "display_name": "Python 3",
   "language": "python",
   "name": "python3"
  },
  "language_info": {
   "codemirror_mode": {
    "name": "ipython",
    "version": 3
   },
   "file_extension": ".py",
   "mimetype": "text/x-python",
   "name": "python",
   "nbconvert_exporter": "python",
   "pygments_lexer": "ipython3",
   "version": "3.6.6"
  }
 },
 "nbformat": 4,
 "nbformat_minor": 4
}
