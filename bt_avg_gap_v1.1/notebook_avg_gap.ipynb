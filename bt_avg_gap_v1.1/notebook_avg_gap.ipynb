{
 "cells": [
  {
   "cell_type": "markdown",
   "metadata": {},
   "source": [
    "# ML Trader"
   ]
  },
  {
   "cell_type": "code",
   "execution_count": 1,
   "metadata": {
    "scrolled": true
   },
   "outputs": [],
   "source": [
    "from utils.packages import *\n",
    "from utils.variables import *\n",
    "from utils.i_o import *\n",
    "from utils.dir_slope import *\n",
    "from utils.engine import *\n",
    "from utils.loops import *\n",
    "from utils.order import *\n",
    "import winsound"
   ]
  },
  {
   "cell_type": "code",
   "execution_count": 2,
   "metadata": {
    "scrolled": false
   },
   "outputs": [
    {
     "name": "stdout",
     "output_type": "stream",
     "text": [
      "pl   -0.20308\n",
      "dtype: float64\n",
      "--------------------------------------\n"
     ]
    },
    {
     "name": "stderr",
     "output_type": "stream",
     "text": [
      "\r",
      "100%|████████████████████████████████| 578420/578420 [01:50<00:00, 5224.52it/s]"
     ]
    },
    {
     "name": "stdout",
     "output_type": "stream",
     "text": [
      "             DateTime_frmt close_type       pl\n",
      "578405 2021-01-08 21:59:41   reversed -0.00086\n",
      "578406 2021-01-08 21:59:42   reversed -0.00082\n",
      "578407 2021-01-08 21:59:42   reversed -0.00083\n",
      "578408 2021-01-08 21:59:43   reversed -0.00082\n",
      "578409 2021-01-08 21:59:43   reversed -0.00086\n",
      "578410 2021-01-08 21:59:43   reversed -0.00087\n",
      "578411 2021-01-08 21:59:46   reversed -0.00084\n",
      "578412 2021-01-08 21:59:48   reversed -0.00081\n",
      "578413 2021-01-08 21:59:51   reversed -0.00083\n",
      "578414 2021-01-08 21:59:51   reversed -0.00077\n",
      "578415 2021-01-08 21:59:51   reversed -0.00073\n",
      "578416 2021-01-08 21:59:51   reversed -0.00081\n",
      "578417 2021-01-08 21:59:55   reversed -0.00082\n",
      "578418 2021-01-08 21:59:55   reversed -0.00073\n",
      "578419 2021-01-08 21:59:56   reversed -0.00061\n"
     ]
    },
    {
     "name": "stderr",
     "output_type": "stream",
     "text": [
      "\n"
     ]
    },
    {
     "name": "stdout",
     "output_type": "stream",
     "text": [
      "Wall time: 1min 59s\n"
     ]
    }
   ],
   "source": [
    "%%time\n",
    "data = run_engine(data)"
   ]
  },
  {
   "cell_type": "code",
   "execution_count": 3,
   "metadata": {
    "scrolled": false
   },
   "outputs": [
    {
     "name": "stdout",
     "output_type": "stream",
     "text": [
      "--------------------------------------\n",
      "Run Complete : data/ema_df-(2021-2021)-(1-1)-(1-10).csv\n",
      "--------------------------------------\n",
      "\n",
      "\n",
      "--------------------------------------\n",
      "Net PL\n",
      "-0.2031\n",
      "--------------------------------------\n",
      "\n",
      "\n",
      "--------------------------------------\n",
      "Monthly PL\n",
      "                pl\n",
      "month_val         \n",
      "1         -0.20308\n",
      "--------------------------------------\n",
      "\n",
      "\n",
      "--------------------------------------\n",
      "Daily PL\n",
      "               pl\n",
      "date_val         \n",
      "3        -0.00046\n",
      "4         0.00303\n",
      "5        -0.00813\n",
      "6        -0.01704\n",
      "7        -0.01674\n",
      "8        -0.16374\n",
      "--------------------------------------\n",
      "\n",
      "\n",
      "--------------------------------------\n",
      "Count of transactions by Close Type\n",
      "..................\n",
      "                     pl\n",
      "close_type             \n",
      "reversed            863\n",
      "simple_take_profit  842\n",
      "--------------------------------------\n",
      "\n",
      "\n",
      "--------------------------------------\n",
      "Mean value of transactions by Close Type\n",
      "..................\n",
      "                          pl\n",
      "close_type                  \n",
      "reversed           -0.000414\n",
      "simple_take_profit  0.000183\n",
      "--------------------------------------\n",
      "\n",
      "\n",
      "--------------------------------------\n",
      "Sum by Close Type\n",
      "..................\n",
      "                         pl\n",
      "close_type                 \n",
      "reversed           -0.35755\n",
      "simple_take_profit  0.15447\n",
      "--------------------------------------\n",
      "\n",
      "\n",
      "--------------------------------------\n",
      "Average pips per day : -0.0338\n",
      "--------------------------------------\n",
      "\n",
      "\n",
      "--------------------------------------\n",
      "Average orders per day : 284.1666666666667\n",
      "--------------------------------------\n",
      "\n",
      "\n"
     ]
    }
   ],
   "source": [
    "generate_result_report(data)"
   ]
  },
  {
   "cell_type": "markdown",
   "metadata": {},
   "source": [
    "data[\"plot\"] = False\n",
    "data['reduce_plot'] = True\n",
    "data['plot_type'] = 'file'\n",
    "data['plot_start']  = '2021-01-08 00:00:00'\n",
    "data['plot_stop']   = '2021-01-09 00:00:00'"
   ]
  },
  {
   "cell_type": "code",
   "execution_count": 4,
   "metadata": {
    "scrolled": true
   },
   "outputs": [],
   "source": [
    "plot_graph(data)"
   ]
  }
 ],
 "metadata": {
  "kernelspec": {
   "display_name": "Python 3",
   "language": "python",
   "name": "python3"
  },
  "language_info": {
   "codemirror_mode": {
    "name": "ipython",
    "version": 3
   },
   "file_extension": ".py",
   "mimetype": "text/x-python",
   "name": "python",
   "nbconvert_exporter": "python",
   "pygments_lexer": "ipython3",
   "version": "3.6.6"
  }
 },
 "nbformat": 4,
 "nbformat_minor": 4
}
