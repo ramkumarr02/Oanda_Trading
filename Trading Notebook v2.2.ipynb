{
 "cells": [
  {
   "cell_type": "markdown",
   "metadata": {},
   "source": [
    "# Oanda Demo Trading Notebook"
   ]
  },
  {
   "cell_type": "markdown",
   "metadata": {},
   "source": [
    "## Packages"
   ]
  },
  {
   "cell_type": "markdown",
   "metadata": {},
   "source": [
    "Normal Packages"
   ]
  },
  {
   "cell_type": "code",
   "execution_count": 1,
   "metadata": {},
   "outputs": [],
   "source": [
    "import numpy as np\n",
    "import pandas as pd\n",
    "\n",
    "import yaml\n",
    "import json\n",
    "\n",
    "import time\n",
    "import winsound\n",
    "import collections\n",
    "\n",
    "import warnings\n",
    "warnings.filterwarnings('ignore')"
   ]
  },
  {
   "cell_type": "markdown",
   "metadata": {},
   "source": [
    "Oanda Packages"
   ]
  },
  {
   "cell_type": "code",
   "execution_count": 2,
   "metadata": {},
   "outputs": [],
   "source": [
    "from oandapyV20 import API\n",
    "import oandapyV20.endpoints.trades as trades\n",
    "import oandapyV20.endpoints.pricing as pricing\n",
    "import oandapyV20.endpoints.accounts as accounts\n",
    "\n",
    "import oandapyV20.definitions.pricing as defpricing\n",
    "import oandapyV20.endpoints.instruments as instruments"
   ]
  },
  {
   "cell_type": "markdown",
   "metadata": {},
   "source": [
    "## API Setup"
   ]
  },
  {
   "cell_type": "markdown",
   "metadata": {},
   "source": [
    "Read from config file"
   ]
  },
  {
   "cell_type": "code",
   "execution_count": 3,
   "metadata": {},
   "outputs": [],
   "source": [
    "config_file = 'config/access_token.yaml'\n",
    "\n",
    "with open(config_file) as c_file:\n",
    "    config = yaml.load(c_file)\n",
    "\n",
    "access_token = config['oanda_demo_account']['token']\n",
    "accountID = config['oanda_demo_account']['account_id']\n",
    "\n",
    "api = API(access_token = access_token)"
   ]
  },
  {
   "cell_type": "markdown",
   "metadata": {},
   "source": [
    "## Functions"
   ]
  },
  {
   "cell_type": "code",
   "execution_count": 4,
   "metadata": {},
   "outputs": [],
   "source": [
    "# Get timestamp of the price and segregate it\n",
    "def get_date_time(resp):\n",
    "    \n",
    "    time_stamp = resp['time']\n",
    "    date_val, full_time = time_stamp.split(sep = 'T')\n",
    "    time_val, time_fraction = full_time.split(sep = '.')\n",
    "    \n",
    "    return(date_val, time_val, time_fraction)"
   ]
  },
  {
   "cell_type": "code",
   "execution_count": 5,
   "metadata": {},
   "outputs": [],
   "source": [
    "# Get bid and ask prices\n",
    "def get_prices(resp):\n",
    "    \n",
    "    bid_price = float(resp['bids'][0]['price'])    \n",
    "    ask_price = float(resp['asks'][0]['price'])\n",
    "    spread = ask_price - bid_price\n",
    "    \n",
    "    return(bid_price, ask_price, spread)"
   ]
  },
  {
   "cell_type": "code",
   "execution_count": 6,
   "metadata": {},
   "outputs": [],
   "source": [
    "# Terminate connection\n",
    "def terminate_connection():\n",
    "    try:\n",
    "        print('Connection Terminated')\n",
    "        r.terminate(message = \"maxrecs records received\")\n",
    "    except:\n",
    "        pass"
   ]
  },
  {
   "cell_type": "code",
   "execution_count": 7,
   "metadata": {},
   "outputs": [],
   "source": [
    "# Add prices into chunks for direction identification\n",
    "def get_chunks(i, val):\n",
    "    global chunk_size\n",
    "    global small_list\n",
    "    global size_flag\n",
    "    global change_position\n",
    "    \n",
    "    if len(small_list) < chunk_size: #Keep adding prices until we reach chunk size\n",
    "        small_list.append(val)  \n",
    "               \n",
    "    if size_flag == 'reached_chunk_size':        \n",
    "        if small_list[-1] != val: \n",
    "            small_list.popleft()   #Remove the left most (first) price\n",
    "            small_list.append(val) #Add current value to right most position\n",
    "\n",
    "                \n",
    "        change_position -= 1  #Price allocation in small list happens right to left so change position goes from chunk size to zero\n",
    "        if change_position < 0: \n",
    "            change_position = chunk_size - 1 #If position reaches zero, it needs to be reset to chunk size - 1 (for index position)\n",
    "\n",
    "            \n",
    "    if len(small_list) == chunk_size: #check if small list has reached chunk size\n",
    "        size_flag = 'reached_chunk_size'  \n",
    "    \n",
    "    return(small_list)"
   ]
  },
  {
   "cell_type": "code",
   "execution_count": 8,
   "metadata": {},
   "outputs": [],
   "source": [
    "# Identify directions\n",
    "def find_direction(lst):\n",
    "    list_size = len(lst)\n",
    "    diff = {}\n",
    "    dir_flag = 'Error : not calculated'\n",
    "   \n",
    "    for i in range(list_size-1): #write the list into a dictionary \n",
    "        diff[i] = lst[i+1] - lst[i]       \n",
    "        \n",
    "    if all(x==0 for x in diff.values()):\n",
    "        dir_flag = 'flat'\n",
    "    \n",
    "    elif all(x>0 for x in diff.values()):\n",
    "        dir_flag = 'positive'\n",
    "    \n",
    "    elif all(x<0 for x in diff.values()):\n",
    "        dir_flag = 'negative'\n",
    "    \n",
    "    elif list(diff.values())[-1] == 0 and list(diff.values())[-2] > 0:\n",
    "        dir_flag = 'flat'\n",
    "\n",
    "    elif list(diff.values())[-1] == 0 and list(diff.values())[-2] < 0:\n",
    "        dir_flag = 'flat'\n",
    "\n",
    "    elif list(diff.values())[-2] >= 0 and list(diff.values())[-1] < 0:\n",
    "        dir_flag = 'dir_change_negative'      \n",
    "\n",
    "    elif list(diff.values())[-2] <= 0 and list(diff.values())[-1] > 0:\n",
    "        dir_flag = 'dir_change_positive'      \n",
    "        \n",
    "    else:\n",
    "        dir_flag = 'no_single_direction'\n",
    "        \n",
    "    return(dir_flag)"
   ]
  },
  {
   "cell_type": "markdown",
   "metadata": {},
   "source": [
    "## Historic data analysis"
   ]
  },
  {
   "cell_type": "code",
   "execution_count": 9,
   "metadata": {},
   "outputs": [],
   "source": [
    "df = pd.read_csv('data/DAT_NT_EURUSD_T_BID_202005.csv', sep = ';', header = None, names = ['timestamp', 'price', 'unknown'])"
   ]
  },
  {
   "cell_type": "code",
   "execution_count": 10,
   "metadata": {},
   "outputs": [
    {
     "data": {
      "text/html": [
       "<div>\n",
       "<style scoped>\n",
       "    .dataframe tbody tr th:only-of-type {\n",
       "        vertical-align: middle;\n",
       "    }\n",
       "\n",
       "    .dataframe tbody tr th {\n",
       "        vertical-align: top;\n",
       "    }\n",
       "\n",
       "    .dataframe thead th {\n",
       "        text-align: right;\n",
       "    }\n",
       "</style>\n",
       "<table border=\"1\" class=\"dataframe\">\n",
       "  <thead>\n",
       "    <tr style=\"text-align: right;\">\n",
       "      <th></th>\n",
       "      <th>timestamp</th>\n",
       "      <th>price</th>\n",
       "      <th>unknown</th>\n",
       "    </tr>\n",
       "  </thead>\n",
       "  <tbody>\n",
       "    <tr>\n",
       "      <th>0</th>\n",
       "      <td>20200501 000000</td>\n",
       "      <td>1.09450</td>\n",
       "      <td>0</td>\n",
       "    </tr>\n",
       "    <tr>\n",
       "      <th>1</th>\n",
       "      <td>20200501 000002</td>\n",
       "      <td>1.09448</td>\n",
       "      <td>0</td>\n",
       "    </tr>\n",
       "    <tr>\n",
       "      <th>2</th>\n",
       "      <td>20200501 000003</td>\n",
       "      <td>1.09447</td>\n",
       "      <td>0</td>\n",
       "    </tr>\n",
       "    <tr>\n",
       "      <th>3</th>\n",
       "      <td>20200501 000006</td>\n",
       "      <td>1.09445</td>\n",
       "      <td>0</td>\n",
       "    </tr>\n",
       "    <tr>\n",
       "      <th>4</th>\n",
       "      <td>20200501 000027</td>\n",
       "      <td>1.09446</td>\n",
       "      <td>0</td>\n",
       "    </tr>\n",
       "  </tbody>\n",
       "</table>\n",
       "</div>"
      ],
      "text/plain": [
       "         timestamp    price  unknown\n",
       "0  20200501 000000  1.09450        0\n",
       "1  20200501 000002  1.09448        0\n",
       "2  20200501 000003  1.09447        0\n",
       "3  20200501 000006  1.09445        0\n",
       "4  20200501 000027  1.09446        0"
      ]
     },
     "execution_count": 10,
     "metadata": {},
     "output_type": "execute_result"
    }
   ],
   "source": [
    "df.head()"
   ]
  },
  {
   "cell_type": "markdown",
   "metadata": {},
   "source": [
    "## Code Engine"
   ]
  },
  {
   "cell_type": "markdown",
   "metadata": {},
   "source": [
    "### Dummy stream tester"
   ]
  },
  {
   "cell_type": "code",
   "execution_count": 14,
   "metadata": {
    "scrolled": false
   },
   "outputs": [
    {
     "name": "stdout",
     "output_type": "stream",
     "text": [
      "1\n",
      "2\n",
      "deque([1, 2, 3]) 3 positive\n",
      "deque([2, 3, 2]) 2 dir_change_negative\n",
      "deque([3, 2, 5]) 5 dir_change_positive\n",
      "deque([2, 5, 6]) 6 positive\n",
      "deque([5, 6, 7]) 7 positive\n",
      "deque([6, 7, 8]) 8 positive\n",
      "deque([7, 8, 9]) 9 positive\n",
      "deque([8, 9, 10]) 10 positive\n",
      "deque([9, 10, 11]) 11 positive\n",
      "deque([10, 11, 12]) 12 positive\n",
      "deque([10, 11, 12]) 12 positive\n",
      "deque([10, 11, 12]) 12 positive\n",
      "deque([11, 12, 11]) 11 dir_change_negative\n",
      "deque([12, 11, 10]) 10 negative\n",
      "deque([12, 11, 10]) 10 negative\n",
      "deque([11, 10, 9]) 9 negative\n",
      "deque([11, 10, 9]) 9 negative\n",
      "deque([10, 9, 8]) 8 negative\n",
      "deque([10, 9, 8]) 8 negative\n",
      "deque([9, 8, 7]) 7 negative\n",
      "deque([9, 8, 7]) 7 negative\n"
     ]
    }
   ],
   "source": [
    "full_list = [1,2,3,2,5,6,7,8,9,10,11,12,12,12,11,10,10,9,9,8,8,7,7]\n",
    "\n",
    "chunk_size = 3\n",
    "change_position = chunk_size - 1\n",
    "small_list = collections.deque([])\n",
    "size_flag = 0\n",
    "\n",
    "for i, val in enumerate(full_list):    \n",
    "    small_list = get_chunks(i, val)\n",
    "    if len(small_list) >= chunk_size:\n",
    "        d = find_direction(small_list) \n",
    "        print(small_list,val, d)\n",
    "    else:\n",
    "        print(val)"
   ]
  },
  {
   "cell_type": "markdown",
   "metadata": {},
   "source": [
    "### Real Live data streamer"
   ]
  },
  {
   "cell_type": "code",
   "execution_count": 15,
   "metadata": {},
   "outputs": [
    {
     "name": "stdout",
     "output_type": "stream",
     "text": [
      "Iteration :  0\n",
      "buy_price: 1.12925 , sell_price: 1.12906 , spread(pips): 1.900000000001345\n",
      "----------------------------------------------\n",
      "Iteration :  1\n",
      "HEARTBEAT\n",
      "Iteration :  2\n",
      "HEARTBEAT\n",
      "Iteration :  3\n",
      "HEARTBEAT\n",
      "Connection Terminated\n"
     ]
    }
   ],
   "source": [
    "params = {\n",
    "    'instruments': 'EUR_USD'\n",
    "}\n",
    "r = pricing.PricingStream(accountID=accountID, params=params)\n",
    "rv = api.request(r)\n",
    "\n",
    "num = 4\n",
    "bp_list = []\n",
    "sp_list = []\n",
    "\n",
    "for i, resp in enumerate(rv):\n",
    "    if i < num:        \n",
    "        print('Iteration : ',i)\n",
    "        \n",
    "        resp_type = resp['type']        \n",
    "        \n",
    "        if resp_type == 'PRICE':    \n",
    "            date_val, time_val, time_fraction = get_date_time(resp)\n",
    "            sell_price, buy_price, spread = get_prices(resp)          \n",
    "            print('buy_price:',buy_price,',' , 'sell_price:',sell_price, ',', 'spread(pips):',spread*10000)\n",
    "            print('----------------------------------------------')\n",
    "            \n",
    "        else:\n",
    "            print('HEARTBEAT')\n",
    "\n",
    "    else:\n",
    "        terminate_connection()\n",
    "        \n",
    "winsound.PlaySound('C:\\\\Windows\\\\Media\\\\tada.wav', winsound.SND_ASYNC)"
   ]
  }
 ],
 "metadata": {
  "kernelspec": {
   "display_name": "Python 3",
   "language": "python",
   "name": "python3"
  },
  "language_info": {
   "codemirror_mode": {
    "name": "ipython",
    "version": 3
   },
   "file_extension": ".py",
   "mimetype": "text/x-python",
   "name": "python",
   "nbconvert_exporter": "python",
   "pygments_lexer": "ipython3",
   "version": "3.6.6"
  }
 },
 "nbformat": 4,
 "nbformat_minor": 4
}
