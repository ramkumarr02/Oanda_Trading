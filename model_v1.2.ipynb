{
 "cells": [
  {
   "cell_type": "code",
   "execution_count": 1,
   "metadata": {
    "scrolled": true
   },
   "outputs": [
    {
     "name": "stdout",
     "output_type": "stream",
     "text": [
      " Found and Using 1 GPU\n"
     ]
    }
   ],
   "source": [
    "import numpy as np\n",
    "import pandas as pd\n",
    "from tqdm import tqdm\n",
    "import winsound\n",
    "import datetime as dt\n",
    "\n",
    "import warnings\n",
    "warnings.filterwarnings('ignore')\n",
    "\n",
    "from sklearn.model_selection import train_test_split\n",
    "from sklearn.preprocessing import FunctionTransformer, StandardScaler\n",
    "\n",
    "import tensorflow as tf\n",
    "print(f\" Found and Using {len(tf.config.experimental.list_physical_devices('GPU'))} GPU\")"
   ]
  },
  {
   "cell_type": "code",
   "execution_count": 2,
   "metadata": {},
   "outputs": [],
   "source": [
    "def scale_data(df):\n",
    "\n",
    "    scaled_features = StandardScaler().fit_transform(df.values)\n",
    "    df = pd.DataFrame(scaled_features, index=df.index, columns=df.columns)\n",
    " \n",
    "    return(df)"
   ]
  },
  {
   "cell_type": "code",
   "execution_count": 3,
   "metadata": {},
   "outputs": [
    {
     "name": "stdout",
     "output_type": "stream",
     "text": [
      "24821\n"
     ]
    },
    {
     "data": {
      "text/html": [
       "<div>\n",
       "<style scoped>\n",
       "    .dataframe tbody tr th:only-of-type {\n",
       "        vertical-align: middle;\n",
       "    }\n",
       "\n",
       "    .dataframe tbody tr th {\n",
       "        vertical-align: top;\n",
       "    }\n",
       "\n",
       "    .dataframe thead th {\n",
       "        text-align: right;\n",
       "    }\n",
       "</style>\n",
       "<table border=\"1\" class=\"dataframe\">\n",
       "  <thead>\n",
       "    <tr style=\"text-align: right;\">\n",
       "      <th></th>\n",
       "      <th>month</th>\n",
       "      <th>day</th>\n",
       "      <th>hour</th>\n",
       "      <th>min</th>\n",
       "      <th>0</th>\n",
       "      <th>1</th>\n",
       "      <th>2</th>\n",
       "      <th>3</th>\n",
       "      <th>4</th>\n",
       "      <th>5</th>\n",
       "      <th>6</th>\n",
       "      <th>7</th>\n",
       "      <th>8</th>\n",
       "      <th>9</th>\n",
       "      <th>10</th>\n",
       "      <th>11</th>\n",
       "      <th>12</th>\n",
       "      <th>13</th>\n",
       "      <th>direction</th>\n",
       "    </tr>\n",
       "  </thead>\n",
       "  <tbody>\n",
       "    <tr>\n",
       "      <th>0</th>\n",
       "      <td>1</td>\n",
       "      <td>1</td>\n",
       "      <td>20</td>\n",
       "      <td>47</td>\n",
       "      <td>0.00009</td>\n",
       "      <td>0.00000</td>\n",
       "      <td>0.00021</td>\n",
       "      <td>0.00027</td>\n",
       "      <td>0.00002</td>\n",
       "      <td>0.00005</td>\n",
       "      <td>-0.00026</td>\n",
       "      <td>-0.00050</td>\n",
       "      <td>0.00034</td>\n",
       "      <td>-0.00056</td>\n",
       "      <td>-0.00004</td>\n",
       "      <td>-0.00009</td>\n",
       "      <td>-0.00019</td>\n",
       "      <td>-0.00011</td>\n",
       "      <td>decrease</td>\n",
       "    </tr>\n",
       "    <tr>\n",
       "      <th>1</th>\n",
       "      <td>1</td>\n",
       "      <td>1</td>\n",
       "      <td>21</td>\n",
       "      <td>2</td>\n",
       "      <td>0.00000</td>\n",
       "      <td>0.00021</td>\n",
       "      <td>0.00027</td>\n",
       "      <td>0.00002</td>\n",
       "      <td>0.00005</td>\n",
       "      <td>-0.00026</td>\n",
       "      <td>-0.00050</td>\n",
       "      <td>0.00034</td>\n",
       "      <td>-0.00056</td>\n",
       "      <td>-0.00004</td>\n",
       "      <td>-0.00009</td>\n",
       "      <td>-0.00019</td>\n",
       "      <td>-0.00011</td>\n",
       "      <td>-0.00023</td>\n",
       "      <td>increase</td>\n",
       "    </tr>\n",
       "    <tr>\n",
       "      <th>2</th>\n",
       "      <td>1</td>\n",
       "      <td>1</td>\n",
       "      <td>21</td>\n",
       "      <td>17</td>\n",
       "      <td>0.00021</td>\n",
       "      <td>0.00027</td>\n",
       "      <td>0.00002</td>\n",
       "      <td>0.00005</td>\n",
       "      <td>-0.00026</td>\n",
       "      <td>-0.00050</td>\n",
       "      <td>0.00034</td>\n",
       "      <td>-0.00056</td>\n",
       "      <td>-0.00004</td>\n",
       "      <td>-0.00009</td>\n",
       "      <td>-0.00019</td>\n",
       "      <td>-0.00011</td>\n",
       "      <td>-0.00023</td>\n",
       "      <td>0.00029</td>\n",
       "      <td>same</td>\n",
       "    </tr>\n",
       "    <tr>\n",
       "      <th>3</th>\n",
       "      <td>1</td>\n",
       "      <td>1</td>\n",
       "      <td>21</td>\n",
       "      <td>32</td>\n",
       "      <td>0.00027</td>\n",
       "      <td>0.00002</td>\n",
       "      <td>0.00005</td>\n",
       "      <td>-0.00026</td>\n",
       "      <td>-0.00050</td>\n",
       "      <td>0.00034</td>\n",
       "      <td>-0.00056</td>\n",
       "      <td>-0.00004</td>\n",
       "      <td>-0.00009</td>\n",
       "      <td>-0.00019</td>\n",
       "      <td>-0.00011</td>\n",
       "      <td>-0.00023</td>\n",
       "      <td>0.00029</td>\n",
       "      <td>-0.00001</td>\n",
       "      <td>decrease</td>\n",
       "    </tr>\n",
       "    <tr>\n",
       "      <th>4</th>\n",
       "      <td>1</td>\n",
       "      <td>1</td>\n",
       "      <td>21</td>\n",
       "      <td>47</td>\n",
       "      <td>0.00002</td>\n",
       "      <td>0.00005</td>\n",
       "      <td>-0.00026</td>\n",
       "      <td>-0.00050</td>\n",
       "      <td>0.00034</td>\n",
       "      <td>-0.00056</td>\n",
       "      <td>-0.00004</td>\n",
       "      <td>-0.00009</td>\n",
       "      <td>-0.00019</td>\n",
       "      <td>-0.00011</td>\n",
       "      <td>-0.00023</td>\n",
       "      <td>0.00029</td>\n",
       "      <td>-0.00001</td>\n",
       "      <td>-0.00034</td>\n",
       "      <td>decrease</td>\n",
       "    </tr>\n",
       "    <tr>\n",
       "      <th>5</th>\n",
       "      <td>1</td>\n",
       "      <td>1</td>\n",
       "      <td>22</td>\n",
       "      <td>2</td>\n",
       "      <td>0.00005</td>\n",
       "      <td>-0.00026</td>\n",
       "      <td>-0.00050</td>\n",
       "      <td>0.00034</td>\n",
       "      <td>-0.00056</td>\n",
       "      <td>-0.00004</td>\n",
       "      <td>-0.00009</td>\n",
       "      <td>-0.00019</td>\n",
       "      <td>-0.00011</td>\n",
       "      <td>-0.00023</td>\n",
       "      <td>0.00029</td>\n",
       "      <td>-0.00001</td>\n",
       "      <td>-0.00034</td>\n",
       "      <td>-0.00059</td>\n",
       "      <td>increase</td>\n",
       "    </tr>\n",
       "    <tr>\n",
       "      <th>6</th>\n",
       "      <td>1</td>\n",
       "      <td>1</td>\n",
       "      <td>22</td>\n",
       "      <td>17</td>\n",
       "      <td>-0.00026</td>\n",
       "      <td>-0.00050</td>\n",
       "      <td>0.00034</td>\n",
       "      <td>-0.00056</td>\n",
       "      <td>-0.00004</td>\n",
       "      <td>-0.00009</td>\n",
       "      <td>-0.00019</td>\n",
       "      <td>-0.00011</td>\n",
       "      <td>-0.00023</td>\n",
       "      <td>0.00029</td>\n",
       "      <td>-0.00001</td>\n",
       "      <td>-0.00034</td>\n",
       "      <td>-0.00059</td>\n",
       "      <td>0.00025</td>\n",
       "      <td>same</td>\n",
       "    </tr>\n",
       "    <tr>\n",
       "      <th>7</th>\n",
       "      <td>1</td>\n",
       "      <td>1</td>\n",
       "      <td>22</td>\n",
       "      <td>32</td>\n",
       "      <td>-0.00050</td>\n",
       "      <td>0.00034</td>\n",
       "      <td>-0.00056</td>\n",
       "      <td>-0.00004</td>\n",
       "      <td>-0.00009</td>\n",
       "      <td>-0.00019</td>\n",
       "      <td>-0.00011</td>\n",
       "      <td>-0.00023</td>\n",
       "      <td>0.00029</td>\n",
       "      <td>-0.00001</td>\n",
       "      <td>-0.00034</td>\n",
       "      <td>-0.00059</td>\n",
       "      <td>0.00025</td>\n",
       "      <td>0.00006</td>\n",
       "      <td>increase</td>\n",
       "    </tr>\n",
       "    <tr>\n",
       "      <th>8</th>\n",
       "      <td>1</td>\n",
       "      <td>1</td>\n",
       "      <td>22</td>\n",
       "      <td>47</td>\n",
       "      <td>0.00034</td>\n",
       "      <td>-0.00056</td>\n",
       "      <td>-0.00004</td>\n",
       "      <td>-0.00009</td>\n",
       "      <td>-0.00019</td>\n",
       "      <td>-0.00011</td>\n",
       "      <td>-0.00023</td>\n",
       "      <td>0.00029</td>\n",
       "      <td>-0.00001</td>\n",
       "      <td>-0.00034</td>\n",
       "      <td>-0.00059</td>\n",
       "      <td>0.00025</td>\n",
       "      <td>0.00006</td>\n",
       "      <td>0.00016</td>\n",
       "      <td>decrease</td>\n",
       "    </tr>\n",
       "    <tr>\n",
       "      <th>9</th>\n",
       "      <td>1</td>\n",
       "      <td>1</td>\n",
       "      <td>23</td>\n",
       "      <td>2</td>\n",
       "      <td>-0.00056</td>\n",
       "      <td>-0.00004</td>\n",
       "      <td>-0.00009</td>\n",
       "      <td>-0.00019</td>\n",
       "      <td>-0.00011</td>\n",
       "      <td>-0.00023</td>\n",
       "      <td>0.00029</td>\n",
       "      <td>-0.00001</td>\n",
       "      <td>-0.00034</td>\n",
       "      <td>-0.00059</td>\n",
       "      <td>0.00025</td>\n",
       "      <td>0.00006</td>\n",
       "      <td>0.00016</td>\n",
       "      <td>-0.00021</td>\n",
       "      <td>decrease</td>\n",
       "    </tr>\n",
       "  </tbody>\n",
       "</table>\n",
       "</div>"
      ],
      "text/plain": [
       "   month  day  hour  min        0        1        2        3        4  \\\n",
       "0      1    1    20   47  0.00009  0.00000  0.00021  0.00027  0.00002   \n",
       "1      1    1    21    2  0.00000  0.00021  0.00027  0.00002  0.00005   \n",
       "2      1    1    21   17  0.00021  0.00027  0.00002  0.00005 -0.00026   \n",
       "3      1    1    21   32  0.00027  0.00002  0.00005 -0.00026 -0.00050   \n",
       "4      1    1    21   47  0.00002  0.00005 -0.00026 -0.00050  0.00034   \n",
       "5      1    1    22    2  0.00005 -0.00026 -0.00050  0.00034 -0.00056   \n",
       "6      1    1    22   17 -0.00026 -0.00050  0.00034 -0.00056 -0.00004   \n",
       "7      1    1    22   32 -0.00050  0.00034 -0.00056 -0.00004 -0.00009   \n",
       "8      1    1    22   47  0.00034 -0.00056 -0.00004 -0.00009 -0.00019   \n",
       "9      1    1    23    2 -0.00056 -0.00004 -0.00009 -0.00019 -0.00011   \n",
       "\n",
       "         5        6        7        8        9       10       11       12  \\\n",
       "0  0.00005 -0.00026 -0.00050  0.00034 -0.00056 -0.00004 -0.00009 -0.00019   \n",
       "1 -0.00026 -0.00050  0.00034 -0.00056 -0.00004 -0.00009 -0.00019 -0.00011   \n",
       "2 -0.00050  0.00034 -0.00056 -0.00004 -0.00009 -0.00019 -0.00011 -0.00023   \n",
       "3  0.00034 -0.00056 -0.00004 -0.00009 -0.00019 -0.00011 -0.00023  0.00029   \n",
       "4 -0.00056 -0.00004 -0.00009 -0.00019 -0.00011 -0.00023  0.00029 -0.00001   \n",
       "5 -0.00004 -0.00009 -0.00019 -0.00011 -0.00023  0.00029 -0.00001 -0.00034   \n",
       "6 -0.00009 -0.00019 -0.00011 -0.00023  0.00029 -0.00001 -0.00034 -0.00059   \n",
       "7 -0.00019 -0.00011 -0.00023  0.00029 -0.00001 -0.00034 -0.00059  0.00025   \n",
       "8 -0.00011 -0.00023  0.00029 -0.00001 -0.00034 -0.00059  0.00025  0.00006   \n",
       "9 -0.00023  0.00029 -0.00001 -0.00034 -0.00059  0.00025  0.00006  0.00016   \n",
       "\n",
       "        13 direction  \n",
       "0 -0.00011  decrease  \n",
       "1 -0.00023  increase  \n",
       "2  0.00029      same  \n",
       "3 -0.00001  decrease  \n",
       "4 -0.00034  decrease  \n",
       "5 -0.00059  increase  \n",
       "6  0.00025      same  \n",
       "7  0.00006  increase  \n",
       "8  0.00016  decrease  \n",
       "9 -0.00021  decrease  "
      ]
     },
     "execution_count": 3,
     "metadata": {},
     "output_type": "execute_result"
    }
   ],
   "source": [
    "df = pd.read_csv('data/rolled_df.csv')\n",
    "print(len(df))\n",
    "#df = df.drop(['month', 'day', 'hour', 'min'], axis=1)\n",
    "df.head(10)"
   ]
  },
  {
   "cell_type": "code",
   "execution_count": 4,
   "metadata": {},
   "outputs": [],
   "source": [
    "mapping = {'decrease': 0, 'same': 1, 'increase': 2}\n",
    "df = df.replace({'direction': mapping})"
   ]
  },
  {
   "cell_type": "code",
   "execution_count": 5,
   "metadata": {},
   "outputs": [],
   "source": [
    "target_col = 'direction'"
   ]
  },
  {
   "cell_type": "code",
   "execution_count": 6,
   "metadata": {},
   "outputs": [],
   "source": [
    "train_x, valid_x, train_y, valid_y = train_test_split(df.loc[:, df.columns != target_col], df[target_col],train_size = 0.8,random_state = 1)"
   ]
  },
  {
   "cell_type": "code",
   "execution_count": 7,
   "metadata": {},
   "outputs": [],
   "source": [
    "#train_x = scale_data(train_x)\n",
    "#valid_x = scale_data(valid_x)\n",
    "#train_x.head()"
   ]
  },
  {
   "cell_type": "code",
   "execution_count": 8,
   "metadata": {},
   "outputs": [],
   "source": [
    "Layer_nodes = 512"
   ]
  },
  {
   "cell_type": "code",
   "execution_count": 9,
   "metadata": {},
   "outputs": [],
   "source": [
    "model = tf.keras.Sequential([\n",
    "  tf.keras.layers.Dense(Layer_nodes, activation='relu', input_shape=[len(train_x.keys())]),\n",
    "  tf.keras.layers.Dense(Layer_nodes, activation='relu'),              \n",
    "  tf.keras.layers.Dense(Layer_nodes, activation='relu'),      \n",
    "  tf.keras.layers.Dense(Layer_nodes, activation='relu'),      \n",
    "  tf.keras.layers.Dense(Layer_nodes, activation='relu'),      \n",
    "  tf.keras.layers.Dense(1, activation='sigmoid')\n",
    "])"
   ]
  },
  {
   "cell_type": "code",
   "execution_count": 10,
   "metadata": {},
   "outputs": [],
   "source": [
    "model.compile(\n",
    "    loss='binary_crossentropy',\n",
    "    optimizer='adam',    \n",
    "    metrics=['accuracy'])"
   ]
  },
  {
   "cell_type": "code",
   "execution_count": 11,
   "metadata": {},
   "outputs": [],
   "source": [
    "epoch_val = 3"
   ]
  },
  {
   "cell_type": "code",
   "execution_count": 12,
   "metadata": {
    "scrolled": true
   },
   "outputs": [
    {
     "name": "stdout",
     "output_type": "stream",
     "text": [
      "Epoch 1/3\n",
      "621/621 [==============================] - 2s 3ms/step - loss: 52.9042 - accuracy: 0.3636\n",
      "Epoch 2/3\n",
      "621/621 [==============================] - 2s 3ms/step - loss: 261.2412 - accuracy: 0.3637\n",
      "Epoch 3/3\n",
      "621/621 [==============================] - 2s 3ms/step - loss: 369.8862 - accuracy: 0.3637\n"
     ]
    },
    {
     "data": {
      "text/plain": [
       "<tensorflow.python.keras.callbacks.History at 0x22048c9b6a0>"
      ]
     },
     "execution_count": 12,
     "metadata": {},
     "output_type": "execute_result"
    }
   ],
   "source": [
    "model.fit(train_x, train_y, epochs=epoch_val)"
   ]
  },
  {
   "cell_type": "code",
   "execution_count": 13,
   "metadata": {},
   "outputs": [
    {
     "name": "stdout",
     "output_type": "stream",
     "text": [
      "156/156 [==============================] - 0s 2ms/step - loss: -472.5865 - accuracy: 0.3605\n",
      "Test Loss -472.5864562988281\n",
      "Test Accuracy 0.36052367091178894\n"
     ]
    }
   ],
   "source": [
    "test_loss, test_accuracy = model.evaluate(valid_x, valid_y)\n",
    "print(f'Test Loss {test_loss}')\n",
    "print(f'Test Accuracy {test_accuracy}')"
   ]
  },
  {
   "cell_type": "markdown",
   "metadata": {},
   "source": [
    "from sklearn.ensemble import RandomForestClassifier\n",
    "from sklearn.metrics import classification_report"
   ]
  },
  {
   "cell_type": "markdown",
   "metadata": {},
   "source": [
    "clf = RandomForestClassifier()\n",
    "clf.fit(train_x, train_y)"
   ]
  },
  {
   "cell_type": "markdown",
   "metadata": {},
   "source": [
    "target_names = ['decrease', 'same', 'increase']\n",
    "print(classification_report(valid_y, clf.predict(valid_x),target_names=target_names))"
   ]
  }
 ],
 "metadata": {
  "kernelspec": {
   "display_name": "Python 3.6.6 64-bit",
   "language": "python",
   "name": "python36664bitab910dfda0bc43a8bf7df0c20d1c59f2"
  },
  "language_info": {
   "codemirror_mode": {
    "name": "ipython",
    "version": 3
   },
   "file_extension": ".py",
   "mimetype": "text/x-python",
   "name": "python",
   "nbconvert_exporter": "python",
   "pygments_lexer": "ipython3",
   "version": "3.6.6"
  }
 },
 "nbformat": 4,
 "nbformat_minor": 4
}
