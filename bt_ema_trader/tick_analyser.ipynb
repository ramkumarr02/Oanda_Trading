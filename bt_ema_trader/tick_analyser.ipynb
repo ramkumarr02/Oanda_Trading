{
 "cells": [
  {
   "cell_type": "markdown",
   "metadata": {},
   "source": [
    "# ML Trader"
   ]
  },
  {
   "cell_type": "code",
   "execution_count": 1,
   "metadata": {
    "scrolled": true
   },
   "outputs": [],
   "source": [
    "import numpy as np\n",
    "import pandas as pd"
   ]
  },
  {
   "cell_type": "code",
   "execution_count": 2,
   "metadata": {},
   "outputs": [
    {
     "name": "stdout",
     "output_type": "stream",
     "text": [
      "4513175\n",
      "5248866\n"
     ]
    }
   ],
   "source": [
    "df1 = pd.read_csv('D:/Ram/PCAL/Data_Science/Projects/Trading/Oanda_Trading/bt_ema_trader/data/eurusd/eurusd_2021.csv')\n",
    "df2 = pd.read_csv('D:/Ram/PCAL/Data_Science/Projects/Trading/Oanda_Trading/bt_ema_trader/data/audusd/audusd_2021.csv')\n",
    "\n",
    "print(len(df1))\n",
    "print(len(df2))"
   ]
  },
  {
   "cell_type": "code",
   "execution_count": 3,
   "metadata": {},
   "outputs": [],
   "source": [
    "df1['date'] = [x.split(' ')[0] for x in df1['DateTime']]\n",
    "df2['date'] = [x.split(' ')[0] for x in df2['DateTime']]\n",
    "\n",
    "df1['dt'] = [x.split('.')[0] for x in df1['DateTime']]\n",
    "df1['min'] = [x[:-3] for x in df1['dt']]\n",
    "\n",
    "df2['dt'] = [x.split('.')[0] for x in df2['DateTime']]\n",
    "df2['min'] = [x[:-3] for x in df2['dt']]\n",
    "\n",
    "df1_ticks_count = pd.Series(df1['min'].value_counts().to_list())\n",
    "df2_ticks_count = pd.Series(df2['min'].value_counts().to_list())"
   ]
  },
  {
   "cell_type": "code",
   "execution_count": 4,
   "metadata": {},
   "outputs": [
    {
     "data": {
      "text/plain": [
       "count    71597.000000\n",
       "mean        63.035812\n",
       "std         50.494965\n",
       "min          1.000000\n",
       "25%         27.000000\n",
       "50%         51.000000\n",
       "75%         85.000000\n",
       "max        614.000000\n",
       "dtype: float64"
      ]
     },
     "execution_count": 4,
     "metadata": {},
     "output_type": "execute_result"
    }
   ],
   "source": [
    "df1_ticks_count.describe()"
   ]
  },
  {
   "cell_type": "code",
   "execution_count": 5,
   "metadata": {},
   "outputs": [
    {
     "data": {
      "text/plain": [
       "count    92877.000000\n",
       "mean        56.514164\n",
       "std         45.469364\n",
       "min          1.000000\n",
       "25%         26.000000\n",
       "50%         46.000000\n",
       "75%         73.000000\n",
       "max        632.000000\n",
       "dtype: float64"
      ]
     },
     "execution_count": 5,
     "metadata": {},
     "output_type": "execute_result"
    }
   ],
   "source": [
    "df2_ticks_count.describe()"
   ]
  },
  {
   "cell_type": "code",
   "execution_count": 6,
   "metadata": {},
   "outputs": [
    {
     "data": {
      "text/plain": [
       "31     881\n",
       "25     871\n",
       "26     871\n",
       "20     859\n",
       "29     836\n",
       "      ... \n",
       "349      1\n",
       "397      1\n",
       "516      1\n",
       "388      1\n",
       "413      1\n",
       "Length: 407, dtype: int64"
      ]
     },
     "execution_count": 6,
     "metadata": {},
     "output_type": "execute_result"
    }
   ],
   "source": [
    "df1_ticks_count.value_counts()"
   ]
  },
  {
   "cell_type": "code",
   "execution_count": 7,
   "metadata": {},
   "outputs": [
    {
     "data": {
      "text/plain": [
       "35     1269\n",
       "32     1247\n",
       "24     1234\n",
       "34     1233\n",
       "30     1224\n",
       "       ... \n",
       "397       1\n",
       "498       1\n",
       "414       1\n",
       "398       1\n",
       "447       1\n",
       "Length: 397, dtype: int64"
      ]
     },
     "execution_count": 7,
     "metadata": {},
     "output_type": "execute_result"
    }
   ],
   "source": [
    "df2_ticks_count.value_counts()"
   ]
  }
 ],
 "metadata": {
  "kernelspec": {
   "display_name": "Python 3",
   "language": "python",
   "name": "python3"
  },
  "language_info": {
   "codemirror_mode": {
    "name": "ipython",
    "version": 3
   },
   "file_extension": ".py",
   "mimetype": "text/x-python",
   "name": "python",
   "nbconvert_exporter": "python",
   "pygments_lexer": "ipython3",
   "version": "3.6.6"
  }
 },
 "nbformat": 4,
 "nbformat_minor": 4
}
