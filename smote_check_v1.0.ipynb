{
 "cells": [
  {
   "cell_type": "markdown",
   "metadata": {},
   "source": [
    "# Modelling"
   ]
  },
  {
   "cell_type": "markdown",
   "metadata": {},
   "source": [
    "## Packages"
   ]
  },
  {
   "cell_type": "code",
   "execution_count": 1,
   "metadata": {
    "scrolled": true
   },
   "outputs": [
    {
     "name": "stdout",
     "output_type": "stream",
     "text": [
      " Found and Using 1 GPU\n"
     ]
    }
   ],
   "source": [
    "import numpy as np\n",
    "import pandas as pd\n",
    "from tqdm import tqdm\n",
    "import winsound\n",
    "import datetime as dt\n",
    "\n",
    "import warnings\n",
    "warnings.filterwarnings('ignore')\n",
    "\n",
    "from sklearn.model_selection import train_test_split\n",
    "from sklearn.preprocessing import StandardScaler, MinMaxScaler, LabelEncoder, OneHotEncoder\n",
    "from sklearn.metrics import classification_report\n",
    "from sklearn.ensemble import RandomForestClassifier\n",
    "\n",
    "from keras.utils import np_utils\n",
    "\n",
    "import tensorflow as tf\n",
    "from tensorflow.keras.models import load_model\n",
    "from tensorflow.keras.models import Sequential\n",
    "from tensorflow.keras.layers import Activation, Dense\n",
    "from tensorflow.keras.optimizers import Adam\n",
    "from tensorflow.keras.metrics import categorical_crossentropy\n",
    "\n",
    "from imblearn.over_sampling import SMOTE\n",
    "\n",
    "from matplotlib import pyplot as plt\n",
    "\n",
    "print(f\" Found and Using {len(tf.config.experimental.list_physical_devices('GPU'))} GPU\")"
   ]
  },
  {
   "cell_type": "markdown",
   "metadata": {},
   "source": [
    "## Functions"
   ]
  },
  {
   "cell_type": "code",
   "execution_count": 2,
   "metadata": {},
   "outputs": [],
   "source": [
    "def scale_x_encode_y(x, y):\n",
    "\n",
    "    x_scaled = StandardScaler().fit_transform(x.values)    \n",
    "    \n",
    "    encoder = LabelEncoder()\n",
    "    encoder.fit(y)\n",
    "    y_encoded = encoder.transform(y)\n",
    "    y_encoded = np_utils.to_categorical(y_encoded)\n",
    "    \n",
    "    y_map = dict(zip(encoder.transform(encoder.classes_),encoder.classes_))\n",
    " \n",
    "    return(x_scaled, y_encoded, y_map)"
   ]
  },
  {
   "cell_type": "code",
   "execution_count": 3,
   "metadata": {},
   "outputs": [],
   "source": [
    "def smote_data(x, y):\n",
    "    oversample = SMOTE()\n",
    "    smote_x, smote_y = oversample.fit_resample(x, y)\n",
    "\n",
    "    return(smote_x, smote_y)"
   ]
  },
  {
   "cell_type": "code",
   "execution_count": 4,
   "metadata": {},
   "outputs": [],
   "source": [
    "def split_data(df, divisor):\n",
    "    df_tot = df.copy()\n",
    "    print(f'df_tot count : {len(df_tot)}')\n",
    "\n",
    "    df1 = df_tot.iloc[int(len(df_tot)/divisor):]\n",
    "    print(f'df1 count : {len(df1)}')\n",
    "\n",
    "    df2 = df_tot.iloc[:int(len(df_tot)/divisor)]\n",
    "    print(f'df2 count : {len(df2)}')\n",
    "    \n",
    "    return(df_tot, df1, df2)"
   ]
  },
  {
   "cell_type": "code",
   "execution_count": 5,
   "metadata": {},
   "outputs": [],
   "source": [
    "def data_prep(df, apply_smote = False):\n",
    "    x = df.loc[:, df.columns != target_col]\n",
    "    y = df[target_col]\n",
    "\n",
    "    if apply_smote:\n",
    "        x, y = smote_data(x, y)\n",
    "\n",
    "    print(f'Record count : {len(y)}')\n",
    "    print('--------------------------')\n",
    "    print(y.value_counts())\n",
    "    print('--------------------------')\n",
    "    print(y.value_counts(normalize=True))\n",
    "    \n",
    "    x_scaled, y_encoded, y_map = scale_x_encode_y(x, y)\n",
    "    pd.DataFrame(x_scaled).head()\n",
    "    \n",
    "    return(x_scaled, y_encoded, y_map)"
   ]
  },
  {
   "cell_type": "markdown",
   "metadata": {},
   "source": [
    "## Read Data"
   ]
  },
  {
   "cell_type": "code",
   "execution_count": 6,
   "metadata": {},
   "outputs": [
    {
     "data": {
      "text/html": [
       "<div>\n",
       "<style scoped>\n",
       "    .dataframe tbody tr th:only-of-type {\n",
       "        vertical-align: middle;\n",
       "    }\n",
       "\n",
       "    .dataframe tbody tr th {\n",
       "        vertical-align: top;\n",
       "    }\n",
       "\n",
       "    .dataframe thead th {\n",
       "        text-align: right;\n",
       "    }\n",
       "</style>\n",
       "<table border=\"1\" class=\"dataframe\">\n",
       "  <thead>\n",
       "    <tr style=\"text-align: right;\">\n",
       "      <th></th>\n",
       "      <th>tick</th>\n",
       "      <th>diff</th>\n",
       "      <th>gain</th>\n",
       "      <th>loss</th>\n",
       "      <th>avg_gain</th>\n",
       "      <th>avg_loss</th>\n",
       "      <th>rs</th>\n",
       "      <th>rsi</th>\n",
       "      <th>ssma</th>\n",
       "      <th>lsma</th>\n",
       "      <th>sma_diff</th>\n",
       "      <th>sema</th>\n",
       "      <th>lema</th>\n",
       "      <th>ema_diff</th>\n",
       "      <th>slope</th>\n",
       "      <th>sma_slope</th>\n",
       "      <th>target</th>\n",
       "    </tr>\n",
       "  </thead>\n",
       "  <tbody>\n",
       "    <tr>\n",
       "      <th>0</th>\n",
       "      <td>1.14541</td>\n",
       "      <td>0.00009</td>\n",
       "      <td>0.00009</td>\n",
       "      <td>0.00000</td>\n",
       "      <td>0.000038</td>\n",
       "      <td>0.000060</td>\n",
       "      <td>0.633333</td>\n",
       "      <td>38.775510</td>\n",
       "      <td>1.145300</td>\n",
       "      <td>1.146044</td>\n",
       "      <td>-0.000744</td>\n",
       "      <td>1.145337</td>\n",
       "      <td>1.145868</td>\n",
       "      <td>-0.000531</td>\n",
       "      <td>-52.366769</td>\n",
       "      <td>-74.080770</td>\n",
       "      <td>same</td>\n",
       "    </tr>\n",
       "    <tr>\n",
       "      <th>1</th>\n",
       "      <td>1.14547</td>\n",
       "      <td>0.00006</td>\n",
       "      <td>0.00006</td>\n",
       "      <td>0.00000</td>\n",
       "      <td>0.000044</td>\n",
       "      <td>0.000048</td>\n",
       "      <td>0.916667</td>\n",
       "      <td>47.826087</td>\n",
       "      <td>1.145296</td>\n",
       "      <td>1.146039</td>\n",
       "      <td>-0.000743</td>\n",
       "      <td>1.145361</td>\n",
       "      <td>1.145859</td>\n",
       "      <td>-0.000498</td>\n",
       "      <td>45.855097</td>\n",
       "      <td>-73.563328</td>\n",
       "      <td>same</td>\n",
       "    </tr>\n",
       "    <tr>\n",
       "      <th>2</th>\n",
       "      <td>1.14541</td>\n",
       "      <td>-0.00006</td>\n",
       "      <td>0.00000</td>\n",
       "      <td>0.00006</td>\n",
       "      <td>0.000044</td>\n",
       "      <td>0.000045</td>\n",
       "      <td>0.977778</td>\n",
       "      <td>49.438202</td>\n",
       "      <td>1.145295</td>\n",
       "      <td>1.146032</td>\n",
       "      <td>-0.000737</td>\n",
       "      <td>1.145370</td>\n",
       "      <td>1.145849</td>\n",
       "      <td>-0.000479</td>\n",
       "      <td>68.029719</td>\n",
       "      <td>-71.767752</td>\n",
       "      <td>same</td>\n",
       "    </tr>\n",
       "    <tr>\n",
       "      <th>3</th>\n",
       "      <td>1.14533</td>\n",
       "      <td>-0.00008</td>\n",
       "      <td>0.00000</td>\n",
       "      <td>0.00008</td>\n",
       "      <td>0.000044</td>\n",
       "      <td>0.000038</td>\n",
       "      <td>1.157895</td>\n",
       "      <td>53.658537</td>\n",
       "      <td>1.145301</td>\n",
       "      <td>1.146019</td>\n",
       "      <td>-0.000718</td>\n",
       "      <td>1.145363</td>\n",
       "      <td>1.145837</td>\n",
       "      <td>-0.000474</td>\n",
       "      <td>68.222514</td>\n",
       "      <td>-68.346113</td>\n",
       "      <td>same</td>\n",
       "    </tr>\n",
       "    <tr>\n",
       "      <th>4</th>\n",
       "      <td>1.14526</td>\n",
       "      <td>-0.00007</td>\n",
       "      <td>0.00000</td>\n",
       "      <td>0.00007</td>\n",
       "      <td>0.000036</td>\n",
       "      <td>0.000045</td>\n",
       "      <td>0.800000</td>\n",
       "      <td>44.444444</td>\n",
       "      <td>1.145292</td>\n",
       "      <td>1.146011</td>\n",
       "      <td>-0.000719</td>\n",
       "      <td>1.145344</td>\n",
       "      <td>1.145824</td>\n",
       "      <td>-0.000480</td>\n",
       "      <td>69.007147</td>\n",
       "      <td>-62.391360</td>\n",
       "      <td>same</td>\n",
       "    </tr>\n",
       "  </tbody>\n",
       "</table>\n",
       "</div>"
      ],
      "text/plain": [
       "      tick     diff     gain     loss  avg_gain  avg_loss        rs  \\\n",
       "0  1.14541  0.00009  0.00009  0.00000  0.000038  0.000060  0.633333   \n",
       "1  1.14547  0.00006  0.00006  0.00000  0.000044  0.000048  0.916667   \n",
       "2  1.14541 -0.00006  0.00000  0.00006  0.000044  0.000045  0.977778   \n",
       "3  1.14533 -0.00008  0.00000  0.00008  0.000044  0.000038  1.157895   \n",
       "4  1.14526 -0.00007  0.00000  0.00007  0.000036  0.000045  0.800000   \n",
       "\n",
       "         rsi      ssma      lsma  sma_diff      sema      lema  ema_diff  \\\n",
       "0  38.775510  1.145300  1.146044 -0.000744  1.145337  1.145868 -0.000531   \n",
       "1  47.826087  1.145296  1.146039 -0.000743  1.145361  1.145859 -0.000498   \n",
       "2  49.438202  1.145295  1.146032 -0.000737  1.145370  1.145849 -0.000479   \n",
       "3  53.658537  1.145301  1.146019 -0.000718  1.145363  1.145837 -0.000474   \n",
       "4  44.444444  1.145292  1.146011 -0.000719  1.145344  1.145824 -0.000480   \n",
       "\n",
       "       slope  sma_slope target  \n",
       "0 -52.366769 -74.080770   same  \n",
       "1  45.855097 -73.563328   same  \n",
       "2  68.029719 -71.767752   same  \n",
       "3  68.222514 -68.346113   same  \n",
       "4  69.007147 -62.391360   same  "
      ]
     },
     "execution_count": 6,
     "metadata": {},
     "output_type": "execute_result"
    }
   ],
   "source": [
    "df = pd.read_csv('data/tab_df.csv')\n",
    "#df = df[['diff', 'avg_gain', 'avg_loss', 'rs', 'rsi', 'slope', 'target']]\n",
    "df.head(5)"
   ]
  },
  {
   "cell_type": "code",
   "execution_count": 7,
   "metadata": {},
   "outputs": [
    {
     "name": "stdout",
     "output_type": "stream",
     "text": [
      "Record count : 186166\n",
      "--------------------------\n",
      "same        180369\n",
      "decrease      2992\n",
      "increase      2805\n",
      "Name: target, dtype: int64\n",
      "--------------------------\n",
      "same        0.968861\n",
      "decrease    0.016072\n",
      "increase    0.015067\n",
      "Name: target, dtype: float64\n"
     ]
    }
   ],
   "source": [
    "target_col = 'target'\n",
    "\n",
    "print(f'Record count : {len(df)}')\n",
    "print('--------------------------')\n",
    "print(df[target_col].value_counts())\n",
    "print('--------------------------')\n",
    "print(df[target_col].value_counts(normalize=True))"
   ]
  },
  {
   "cell_type": "code",
   "execution_count": 8,
   "metadata": {},
   "outputs": [
    {
     "name": "stdout",
     "output_type": "stream",
     "text": [
      "Data split\n",
      "df_tot count : 186166\n",
      "df1 count : 148933\n",
      "df2 count : 37233\n",
      "----------------------------------------------------\n",
      "Scale encode train valid data\n",
      "Record count : 148933\n",
      "--------------------------\n",
      "same        144847\n",
      "decrease      2062\n",
      "increase      2024\n",
      "Name: target, dtype: int64\n",
      "--------------------------\n",
      "same        0.972565\n",
      "decrease    0.013845\n",
      "increase    0.013590\n",
      "Name: target, dtype: float64\n",
      "----------------------------------------------------\n",
      "Scale encode test data\n",
      "Record count : 37233\n",
      "--------------------------\n",
      "same        35522\n",
      "decrease      930\n",
      "increase      781\n",
      "Name: target, dtype: int64\n",
      "--------------------------\n",
      "same        0.954046\n",
      "decrease    0.024978\n",
      "increase    0.020976\n",
      "Name: target, dtype: float64\n"
     ]
    }
   ],
   "source": [
    "print('Data split')\n",
    "df_tot, df1, df2 = split_data(df, 5)\n",
    "print('----------------------------------------------------')\n",
    "print('Scale encode train valid data')\n",
    "x_scaled, y_encoded, y_map = data_prep(df1, apply_smote = False)\n",
    "print('----------------------------------------------------')\n",
    "print('Scale encode test data')\n",
    "x_scaled1, y_encoded1, y_map1 = data_prep(df2, apply_smote = False)"
   ]
  },
  {
   "cell_type": "markdown",
   "metadata": {},
   "source": [
    "## Train test split"
   ]
  },
  {
   "cell_type": "code",
   "execution_count": 9,
   "metadata": {},
   "outputs": [],
   "source": [
    "train_x, valid_x, train_y, valid_y = train_test_split(x_scaled, y_encoded,train_size = 0.8,random_state = 1)"
   ]
  },
  {
   "cell_type": "markdown",
   "metadata": {},
   "source": [
    "## Neural Network"
   ]
  },
  {
   "cell_type": "markdown",
   "metadata": {},
   "source": [
    "### Network building"
   ]
  },
  {
   "cell_type": "code",
   "execution_count": 10,
   "metadata": {},
   "outputs": [],
   "source": [
    "model = Sequential([\n",
    "    Dense(units = 16, activation='relu', input_shape=[len(train_x[0])]),\n",
    "    Dense(units = 32, activation='relu'),\n",
    "    Dense(units = 3, activation='softmax')\n",
    "])"
   ]
  },
  {
   "cell_type": "code",
   "execution_count": 11,
   "metadata": {},
   "outputs": [],
   "source": [
    "model.compile(\n",
    "    loss='categorical_crossentropy',\n",
    "    optimizer=Adam(learning_rate=0.001),    \n",
    "    metrics=['accuracy'])"
   ]
  },
  {
   "cell_type": "code",
   "execution_count": 12,
   "metadata": {},
   "outputs": [
    {
     "name": "stdout",
     "output_type": "stream",
     "text": [
      "Model: \"sequential\"\n",
      "_________________________________________________________________\n",
      "Layer (type)                 Output Shape              Param #   \n",
      "=================================================================\n",
      "dense (Dense)                (None, 16)                272       \n",
      "_________________________________________________________________\n",
      "dense_1 (Dense)              (None, 32)                544       \n",
      "_________________________________________________________________\n",
      "dense_2 (Dense)              (None, 3)                 99        \n",
      "=================================================================\n",
      "Total params: 915\n",
      "Trainable params: 915\n",
      "Non-trainable params: 0\n",
      "_________________________________________________________________\n"
     ]
    }
   ],
   "source": [
    "model.summary()"
   ]
  },
  {
   "cell_type": "markdown",
   "metadata": {},
   "source": [
    "### Parameters"
   ]
  },
  {
   "cell_type": "code",
   "execution_count": 13,
   "metadata": {},
   "outputs": [],
   "source": [
    "epoch_val         = 10\n",
    "batch_size_val    = 64\n",
    "\n",
    "verbose_val       = 2\n",
    "workers_val       = -1"
   ]
  },
  {
   "cell_type": "markdown",
   "metadata": {},
   "source": [
    "### Training"
   ]
  },
  {
   "cell_type": "code",
   "execution_count": 14,
   "metadata": {
    "scrolled": false
   },
   "outputs": [
    {
     "name": "stdout",
     "output_type": "stream",
     "text": [
      "Epoch 1/10\n",
      "1862/1862 - 9s - loss: 0.1095 - accuracy: 0.9666 - val_loss: 0.0504 - val_accuracy: 0.9830\n",
      "Epoch 2/10\n",
      "1862/1862 - 9s - loss: 0.0488 - accuracy: 0.9831 - val_loss: 0.0466 - val_accuracy: 0.9838\n",
      "Epoch 3/10\n",
      "1862/1862 - 9s - loss: 0.0468 - accuracy: 0.9833 - val_loss: 0.0449 - val_accuracy: 0.9834\n",
      "Epoch 4/10\n",
      "1862/1862 - 9s - loss: 0.0460 - accuracy: 0.9835 - val_loss: 0.0447 - val_accuracy: 0.9843\n",
      "Epoch 5/10\n",
      "1862/1862 - 9s - loss: 0.0453 - accuracy: 0.9835 - val_loss: 0.0453 - val_accuracy: 0.9844\n",
      "Epoch 6/10\n",
      "1862/1862 - 9s - loss: 0.0452 - accuracy: 0.9835 - val_loss: 0.0440 - val_accuracy: 0.9844\n",
      "Epoch 7/10\n",
      "1862/1862 - 9s - loss: 0.0450 - accuracy: 0.9836 - val_loss: 0.0446 - val_accuracy: 0.9832\n",
      "Epoch 8/10\n",
      "1862/1862 - 9s - loss: 0.0447 - accuracy: 0.9837 - val_loss: 0.0432 - val_accuracy: 0.9843\n",
      "Epoch 9/10\n",
      "1862/1862 - 8s - loss: 0.0447 - accuracy: 0.9836 - val_loss: 0.0439 - val_accuracy: 0.9844\n",
      "Epoch 10/10\n",
      "1862/1862 - 9s - loss: 0.0443 - accuracy: 0.9840 - val_loss: 0.0431 - val_accuracy: 0.9840\n"
     ]
    },
    {
     "data": {
      "text/plain": [
       "<tensorflow.python.keras.callbacks.History at 0x2620504de80>"
      ]
     },
     "execution_count": 14,
     "metadata": {},
     "output_type": "execute_result"
    }
   ],
   "source": [
    "model.fit(x=train_x, \n",
    "          y=train_y, \n",
    "          epochs=epoch_val,\n",
    "          batch_size = batch_size_val,\n",
    "          validation_data = (valid_x, valid_y),\n",
    "          workers= workers_val,\n",
    "         verbose=verbose_val)"
   ]
  },
  {
   "cell_type": "markdown",
   "metadata": {},
   "source": [
    "### DNN Validation"
   ]
  },
  {
   "cell_type": "code",
   "execution_count": 15,
   "metadata": {},
   "outputs": [
    {
     "name": "stdout",
     "output_type": "stream",
     "text": [
      "              precision    recall  f1-score   support\n",
      "\n",
      "    decrease       0.78      0.64      0.70       431\n",
      "    increase       0.75      0.58      0.65       397\n",
      "        same       0.99      0.99      0.99     28959\n",
      "\n",
      "    accuracy                           0.98     29787\n",
      "   macro avg       0.84      0.74      0.78     29787\n",
      "weighted avg       0.98      0.98      0.98     29787\n",
      "\n"
     ]
    }
   ],
   "source": [
    "predictions = model.predict(valid_x)\n",
    "rounded_predictions = np.argmax(predictions, axis = -1)\n",
    "rounded_valid_y = np.argmax(valid_y, axis = -1)\n",
    "\n",
    "print(classification_report(rounded_valid_y, rounded_predictions, target_names = y_map.values()))"
   ]
  },
  {
   "cell_type": "markdown",
   "metadata": {},
   "source": [
    "### DNN Prediction"
   ]
  },
  {
   "cell_type": "code",
   "execution_count": 16,
   "metadata": {},
   "outputs": [
    {
     "name": "stdout",
     "output_type": "stream",
     "text": [
      "              precision    recall  f1-score   support\n",
      "\n",
      "    decrease       0.84      0.48      0.61       930\n",
      "    increase       0.90      0.49      0.63       781\n",
      "        same       0.98      1.00      0.99     35522\n",
      "\n",
      "    accuracy                           0.97     37233\n",
      "   macro avg       0.91      0.65      0.74     37233\n",
      "weighted avg       0.97      0.97      0.97     37233\n",
      "\n"
     ]
    }
   ],
   "source": [
    "predictions = model.predict(x_scaled1)\n",
    "rounded_predictions = np.argmax(predictions, axis = -1)\n",
    "rounded_valid_y = np.argmax(y_encoded1, axis = -1)\n",
    "\n",
    "print(classification_report(rounded_valid_y, rounded_predictions, target_names = y_map1.values()))"
   ]
  },
  {
   "cell_type": "markdown",
   "metadata": {},
   "source": [
    "## RF Results"
   ]
  },
  {
   "cell_type": "code",
   "execution_count": 17,
   "metadata": {},
   "outputs": [
    {
     "name": "stdout",
     "output_type": "stream",
     "text": [
      "              precision    recall  f1-score   support\n",
      "\n",
      "    decrease       0.81      0.65      0.72       431\n",
      "    increase       0.80      0.64      0.72       397\n",
      "        same       0.99      1.00      0.99     28959\n",
      "\n",
      "    accuracy                           0.99     29787\n",
      "   macro avg       0.87      0.76      0.81     29787\n",
      "weighted avg       0.98      0.99      0.99     29787\n",
      "\n",
      "Wall time: 2min 6s\n"
     ]
    }
   ],
   "source": [
    "%%time\n",
    "clf = RandomForestClassifier() \n",
    "clf.fit(train_x, train_y)\n",
    "predictions = clf.predict(valid_x)\n",
    "rounded_predictions = np.argmax(predictions, axis = -1)\n",
    "rounded_valid_y = np.argmax(valid_y, axis = -1)\n",
    "print(classification_report(rounded_valid_y, rounded_predictions, target_names = y_map.values()))"
   ]
  },
  {
   "cell_type": "code",
   "execution_count": 18,
   "metadata": {},
   "outputs": [
    {
     "data": {
      "image/png": "[encoded data removed]",
      "text/plain": [
       "<Figure size 1080x720 with 1 Axes>"
      ]
     },
     "metadata": {
      "needs_background": "light"
     },
     "output_type": "display_data"
    }
   ],
   "source": [
    "x_cols = df.columns[df.columns != 'target']\n",
    "fig = plt.figure()\n",
    "fig.suptitle('Feature importance', fontsize=20)\n",
    "plt.xlabel('Importance %', fontsize=16)\n",
    "plt.ylabel('Features', fontsize=16)\n",
    "plt.tick_params(axis='x', labelsize=12)\n",
    "plt.tick_params(axis='y', labelsize=15)\n",
    "\n",
    "\n",
    "feat_importances = pd.Series(clf.feature_importances_ * 100, index=x_cols)\n",
    "feat_importances.nlargest(20).plot(kind='barh', figsize=(15, 10), rot=45)\n",
    "\n",
    "for index, value in enumerate(np.round(-np.sort(-clf.feature_importances_ * 100))):\n",
    "    plt.text(1.05*value, index, str(value), fontsize=12)"
   ]
  }
 ],
 "metadata": {
  "kernelspec": {
   "display_name": "Python 3.6.6 64-bit",
   "language": "python",
   "name": "python36664bitab910dfda0bc43a8bf7df0c20d1c59f2"
  },
  "language_info": {
   "codemirror_mode": {
    "name": "ipython",
    "version": 3
   },
   "file_extension": ".py",
   "mimetype": "text/x-python",
   "name": "python",
   "nbconvert_exporter": "python",
   "pygments_lexer": "ipython3",
   "version": "3.6.6"
  }
 },
 "nbformat": 4,
 "nbformat_minor": 4
}
