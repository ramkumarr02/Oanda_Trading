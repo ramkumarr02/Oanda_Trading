{
 "cells": [
  {
   "cell_type": "markdown",
   "metadata": {},
   "source": [
    "# RSI_Hedge_v1.0"
   ]
  },
  {
   "cell_type": "markdown",
   "metadata": {},
   "source": [
    "## Setup"
   ]
  },
  {
   "cell_type": "markdown",
   "metadata": {},
   "source": [
    "### Packages"
   ]
  },
  {
   "cell_type": "code",
   "execution_count": 20,
   "metadata": {},
   "outputs": [],
   "source": [
    "from utils.packages import *\n",
    "from utils.tools import *"
   ]
  },
  {
   "cell_type": "markdown",
   "metadata": {},
   "source": [
    "### Inputs and Parameters"
   ]
  },
  {
   "cell_type": "markdown",
   "metadata": {},
   "source": [
    "#### Read Yaml files"
   ]
  },
  {
   "cell_type": "code",
   "execution_count": 2,
   "metadata": {},
   "outputs": [],
   "source": [
    "temp_file = 'config/access_keys.yaml'\n",
    "with open(temp_file) as temp_file:\n",
    "    config = yaml.load(temp_file)\n",
    "    \n",
    "temp_file = 'config/currencies.yaml'\n",
    "with open(temp_file) as temp_file:\n",
    "    currs = yaml.load(temp_file)        "
   ]
  },
  {
   "cell_type": "markdown",
   "metadata": {},
   "source": [
    "#### Yaml Variables"
   ]
  },
  {
   "cell_type": "code",
   "execution_count": 3,
   "metadata": {},
   "outputs": [],
   "source": [
    "access_token = config['oanda_demo_hedge']['token']\n",
    "accountID = config['oanda_demo_hedge']['account_id']\n",
    "instrument = \"EUR_USD\"\n",
    "pip_size = currs['currs'][instrument]['pip_size']"
   ]
  },
  {
   "cell_type": "code",
   "execution_count": 77,
   "metadata": {},
   "outputs": [],
   "source": [
    "params = {'instruments': instrument}\n",
    "api = API(access_token = access_token)\n",
    "request_data = pricing.PricingStream(accountID=accountID, params=params)\n",
    "response_stream = api.request(request_data)\n",
    "\n",
    "iter_max = 2\n",
    "data = {}"
   ]
  },
  {
   "cell_type": "code",
   "execution_count": 78,
   "metadata": {},
   "outputs": [],
   "source": [
    "def get_time_price():\n",
    "    global data\n",
    "    data['date_val'], data['time_val'], data['time_fraction'] = get_date_time(resp) # Get time stamp for reference            \n",
    "    data['sell_price'], data['buy_price'], data['spread'], data['tick_price'] = get_prices(resp) # Get prices from the response \n",
    "    #return(data)"
   ]
  },
  {
   "cell_type": "code",
   "execution_count": 79,
   "metadata": {
    "scrolled": false
   },
   "outputs": [
    {
     "name": "stdout",
     "output_type": "stream",
     "text": [
      "1\n",
      "{'date_val': '2020-11-10', 'time_val': '01:18:31', 'time_fraction': '184640550Z', 'sell_price': 1.18178, 'buy_price': 1.18188, 'spread': 9.999999999998899e-05, 'tick_price': 1.1818300000000002}\n"
     ]
    }
   ],
   "source": [
    "for i, resp in enumerate(response_stream): \n",
    "    if i == iter_max:\n",
    "        break\n",
    "    if resp['type'] == 'HEARTBEAT': # Heart beat response to keep the api connection alive (Avoid timeout)\n",
    "        continue\n",
    "    get_time_price()\n",
    "    \n",
    "    display.clear_output(wait = True)\n",
    "    print(i)\n",
    "    print(data)"
   ]
  },
  {
   "cell_type": "code",
   "execution_count": 80,
   "metadata": {},
   "outputs": [
    {
     "data": {
      "text/plain": [
       "{'date_val': '2020-11-10',\n",
       " 'time_val': '01:18:31',\n",
       " 'time_fraction': '184640550Z',\n",
       " 'sell_price': 1.18178,\n",
       " 'buy_price': 1.18188,\n",
       " 'spread': 9.999999999998899e-05,\n",
       " 'tick_price': 1.1818300000000002}"
      ]
     },
     "execution_count": 80,
     "metadata": {},
     "output_type": "execute_result"
    }
   ],
   "source": [
    "data"
   ]
  }
 ],
 "metadata": {
  "kernelspec": {
   "display_name": "Python 3.6.6 64-bit",
   "language": "python",
   "name": "python36664bitab910dfda0bc43a8bf7df0c20d1c59f2"
  },
  "language_info": {
   "codemirror_mode": {
    "name": "ipython",
    "version": 3
   },
   "file_extension": ".py",
   "mimetype": "text/x-python",
   "name": "python",
   "nbconvert_exporter": "python",
   "pygments_lexer": "ipython3",
   "version": "3.6.6"
  }
 },
 "nbformat": 4,
 "nbformat_minor": 4
}
