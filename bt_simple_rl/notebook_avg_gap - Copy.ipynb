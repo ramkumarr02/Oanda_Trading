{
 "cells": [
  {
   "cell_type": "markdown",
   "metadata": {},
   "source": [
    "# ML Trader"
   ]
  },
  {
   "cell_type": "code",
   "execution_count": 1,
   "metadata": {
    "scrolled": true
   },
   "outputs": [],
   "source": [
    "from utils.packages import *\n",
    "from utils.variables import *\n",
    "from utils.i_o import *\n",
    "from utils.dir_slope import *\n",
    "from utils.engine import *\n",
    "from utils.loops import *\n",
    "from utils.order import *\n",
    "import winsound"
   ]
  },
  {
   "cell_type": "code",
   "execution_count": 2,
   "metadata": {
    "scrolled": false
   },
   "outputs": [
    {
     "name": "stderr",
     "output_type": "stream",
     "text": [
      "\r",
      "100%|██████████████████████████████▉| 114158/114573 [00:11<00:00, 10504.29it/s]"
     ]
    },
    {
     "name": "stdout",
     "output_type": "stream",
     "text": [
      "pl    0.00091\n",
      "dtype: float64\n",
      "--------------------------------------\n",
      "             DateTime_frmt          close_type       pl\n",
      "101915 2021-01-04 18:32:00         simple_stop -0.00036\n",
      "102477 2021-01-04 18:39:27  simple_take_profit  0.00026\n",
      "104200 2021-01-04 19:07:56  simple_take_profit  0.00020\n",
      "104642 2021-01-04 19:14:26  simple_take_profit  0.00025\n",
      "106399 2021-01-04 19:50:55  simple_take_profit  0.00017\n",
      "106810 2021-01-04 19:56:36  simple_take_profit  0.00024\n",
      "107341 2021-01-04 20:03:05  simple_take_profit  0.00025\n",
      "108720 2021-01-04 20:28:50         simple_stop -0.00031\n",
      "110252 2021-01-04 20:57:41  simple_take_profit  0.00024\n",
      "111218 2021-01-04 21:21:12  simple_take_profit  0.00031\n",
      "111604 2021-01-04 21:38:06  simple_take_profit  0.00034\n",
      "112414 2021-01-04 22:00:13  simple_take_profit  0.00038\n",
      "112446 2021-01-04 22:02:11  simple_take_profit  0.00049\n",
      "112491 2021-01-04 22:06:19  simple_take_profit  0.00051\n",
      "113756 2021-01-04 23:29:48  simple_take_profit  0.00032\n"
     ]
    },
    {
     "name": "stderr",
     "output_type": "stream",
     "text": [
      "100%|███████████████████████████████| 114573/114573 [00:11<00:00, 10154.15it/s]\n"
     ]
    },
    {
     "name": "stdout",
     "output_type": "stream",
     "text": [
      "Wall time: 18.4 s\n"
     ]
    }
   ],
   "source": [
    "%%time\n",
    "data = run_engine(data)"
   ]
  },
  {
   "cell_type": "code",
   "execution_count": 3,
   "metadata": {
    "scrolled": false
   },
   "outputs": [
    {
     "name": "stdout",
     "output_type": "stream",
     "text": [
      "--------------------------------------\n",
      "Run Complete : data/ema_df-(2021-2021)-(1-1)-(1-5).csv\n",
      "--------------------------------------\n",
      "\n",
      "\n",
      "--------------------------------------\n",
      "Net PL\n",
      "0.0009\n",
      "--------------------------------------\n",
      "\n",
      "\n",
      "--------------------------------------\n",
      "Monthly PL\n",
      "                pl\n",
      "month_val         \n",
      "1          0.00091\n",
      "--------------------------------------\n",
      "\n",
      "\n",
      "--------------------------------------\n",
      "Daily PL\n",
      "               pl\n",
      "date_val         \n",
      "3        -0.00129\n",
      "4         0.00220\n",
      "--------------------------------------\n",
      "\n",
      "\n",
      "--------------------------------------\n",
      "Count of transactions by Close Type\n",
      "..................\n",
      "                    pl\n",
      "close_type            \n",
      "simple_stop         51\n",
      "simple_take_profit  94\n",
      "--------------------------------------\n",
      "\n",
      "\n",
      "--------------------------------------\n",
      "Mean value of transactions by Close Type\n",
      "..................\n",
      "                          pl\n",
      "close_type                  \n",
      "simple_stop        -0.000448\n",
      "simple_take_profit  0.000253\n",
      "--------------------------------------\n",
      "\n",
      "\n",
      "--------------------------------------\n",
      "Sum by Close Type\n",
      "..................\n",
      "                         pl\n",
      "close_type                 \n",
      "simple_stop        -0.02286\n",
      "simple_take_profit  0.02377\n",
      "--------------------------------------\n",
      "\n",
      "\n",
      "--------------------------------------\n",
      "Average pips per day : 0.0005\n",
      "--------------------------------------\n",
      "\n",
      "\n",
      "--------------------------------------\n",
      "Average orders per day : 72.5\n",
      "--------------------------------------\n",
      "\n",
      "\n"
     ]
    }
   ],
   "source": [
    "generate_result_report(data)"
   ]
  },
  {
   "cell_type": "markdown",
   "metadata": {},
   "source": [
    "data['df']['long_profit'] = np.nan\n",
    "data['df']['long_loss'] = np.nan\n",
    "data['df']['short_profit'] = np.nan\n",
    "data['df']['short_loss'] = np.nan\n",
    "\n",
    "data['df']['long_profit'][data['df']['pl'] > 0] = data['df']['long_close']\n",
    "data['df']['long_loss'][data['df']['pl'] < 0] = data['df']['long_close']\n",
    "\n",
    "data['df']['short_profit'][data['df']['pl'] > 0] = data['df']['short_close']\n",
    "data['df']['short_loss'][data['df']['pl'] < 0] = data['df']['short_close']\n",
    "\n",
    "del data['long_close']\n",
    "del data['short_close']"
   ]
  },
  {
   "cell_type": "code",
   "execution_count": 4,
   "metadata": {},
   "outputs": [],
   "source": [
    "data[\"plot\"] = False\n",
    "data['plot_type'] = 'file'\n",
    "data['reduce_plot'] = True\n",
    "data['plot_start']  = '2021-01-4'\n",
    "data['plot_stop']   = '2021-01-5'\n",
    "# data['things_to_plot'] = ['tick', 'lema', 'h_l_lema', 'tick_angle', 'positions']\n",
    "data['things_to_plot'] = ['tick', 'lema', 'h_l_lema', 'tick_angle', 'positions']\n",
    "data['things_to_plot'] = ['tick', 'lema', 'h_l_lema', 'positions']"
   ]
  },
  {
   "cell_type": "code",
   "execution_count": 5,
   "metadata": {
    "scrolled": false
   },
   "outputs": [],
   "source": [
    "plot_graph(data)"
   ]
  },
  {
   "cell_type": "code",
   "execution_count": 6,
   "metadata": {},
   "outputs": [],
   "source": [
    "data['df'].to_csv('data/temp.csv')"
   ]
  },
  {
   "cell_type": "markdown",
   "metadata": {},
   "source": [
    "data['df_l_lema'] = data['df'][(data['df']['pl'].notnull()) & (data['df']['touched_line'] == 'l_lema')][['touched_line', 'order_side','pl']].tail(1)\n",
    "data['df_l_lema'] = data['df_l_lema'].reset_index(drop=True) \n",
    "\n",
    "data['df_h_lema'] = data['df'][(data['df']['pl'].notnull()) & (data['df']['touched_line'] == 'h_lema')][['touched_line', 'order_side','pl']].tail(1)\n",
    "data['df_h_lema'] = data['df_h_lema'].reset_index(drop=True) \n",
    "\n",
    "data['df_l_lema']\n",
    "\n",
    "data['df']['pl'][data['df']['pl'].notnull()].values\n",
    "\n",
    "data['df']['order_side'][data['df']['pl'].notnull()].values\n",
    "\n",
    "data['df']['touched_line'][data['df']['pl'].notnull()].values"
   ]
  }
 ],
 "metadata": {
  "kernelspec": {
   "display_name": "Python 3",
   "language": "python",
   "name": "python3"
  },
  "language_info": {
   "codemirror_mode": {
    "name": "ipython",
    "version": 3
   },
   "file_extension": ".py",
   "mimetype": "text/x-python",
   "name": "python",
   "nbconvert_exporter": "python",
   "pygments_lexer": "ipython3",
   "version": "3.6.6"
  }
 },
 "nbformat": 4,
 "nbformat_minor": 4
}
