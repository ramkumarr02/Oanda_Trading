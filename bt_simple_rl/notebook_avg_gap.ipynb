{
 "cells": [
  {
   "cell_type": "markdown",
   "metadata": {},
   "source": [
    "# ML Trader"
   ]
  },
  {
   "cell_type": "code",
   "execution_count": 1,
   "metadata": {
    "scrolled": true
   },
   "outputs": [],
   "source": [
    "from utils.packages import *\n",
    "from utils.variables import *\n",
    "from utils.i_o import *\n",
    "from utils.dir_slope import *\n",
    "from utils.engine import *\n",
    "from utils.loops import *\n",
    "from utils.order import *\n",
    "import winsound"
   ]
  },
  {
   "cell_type": "markdown",
   "metadata": {},
   "source": [
    "# Analyse Angle length for 1000 and 10000 find if there is any diff and then use it to decide orders in RL"
   ]
  },
  {
   "cell_type": "code",
   "execution_count": 2,
   "metadata": {
    "scrolled": false
   },
   "outputs": [
    {
     "name": "stderr",
     "output_type": "stream",
     "text": [
      " 94%|███████████████████████████████▏ | 83225/88076 [00:06<00:00, 13786.34it/s]"
     ]
    },
    {
     "name": "stdout",
     "output_type": "stream",
     "text": [
      "pl   -0.00211\n",
      "dtype: float64\n",
      "--------------------------------------\n",
      "            DateTime_frmt order_side               close_type       pl\n",
      "14617 2021-01-04 09:16:01      short              simple_stop -0.00110\n",
      "21022 2021-01-04 10:28:52       long  simple_slema_move_close  0.00024\n",
      "27193 2021-01-04 11:59:03       long  simple_slema_move_close  0.00007\n",
      "34025 2021-01-04 13:14:44       long  simple_slema_move_close  0.00038\n",
      "38318 2021-01-04 13:55:23       long  simple_slema_move_close  0.00022\n",
      "43110 2021-01-04 14:33:50       long              simple_stop -0.00082\n",
      "45819 2021-01-04 14:51:27       long  simple_slema_move_close  0.00031\n",
      "48866 2021-01-04 15:08:17       long              simple_stop -0.00094\n",
      "57291 2021-01-04 16:01:06      short  simple_slema_move_close  0.00013\n",
      "70485 2021-01-04 17:38:12      short  simple_slema_move_close  0.00002\n",
      "80377 2021-01-04 19:57:31      short              simple_stop -0.00062\n"
     ]
    },
    {
     "name": "stderr",
     "output_type": "stream",
     "text": [
      "100%|█████████████████████████████████| 88076/88076 [00:07<00:00, 11900.38it/s]\n"
     ]
    },
    {
     "name": "stdout",
     "output_type": "stream",
     "text": [
      "Wall time: 6min 36s\n"
     ]
    }
   ],
   "source": [
    "%%time\n",
    "data = run_engine(data)"
   ]
  },
  {
   "cell_type": "code",
   "execution_count": 3,
   "metadata": {
    "scrolled": false
   },
   "outputs": [
    {
     "name": "stdout",
     "output_type": "stream",
     "text": [
      "--------------------------------------\n",
      "Run Complete : data/ema_df-(2021-2021)-(1-1)-(1-4).csv\n",
      "--------------------------------------\n",
      "\n",
      "\n",
      "--------------------------------------\n",
      "Net PL\n",
      "-0.0021\n",
      "--------------------------------------\n",
      "\n",
      "\n",
      "--------------------------------------\n",
      "Monthly PL\n",
      "                pl\n",
      "month_val         \n",
      "1         -0.00211\n",
      "--------------------------------------\n",
      "\n",
      "\n",
      "--------------------------------------\n",
      "Daily PL\n",
      "               pl\n",
      "date_val         \n",
      "4        -0.00211\n",
      "--------------------------------------\n",
      "\n",
      "\n",
      "--------------------------------------\n",
      "Count of transactions by Close Type\n",
      "..................\n",
      "                         pl\n",
      "close_type                 \n",
      "simple_slema_move_close   7\n",
      "simple_stop               4\n",
      "--------------------------------------\n",
      "\n",
      "\n",
      "--------------------------------------\n",
      "Mean value of transactions by Close Type\n",
      "..................\n",
      "                               pl\n",
      "close_type                       \n",
      "simple_slema_move_close  0.000196\n",
      "simple_stop             -0.000870\n",
      "--------------------------------------\n",
      "\n",
      "\n",
      "--------------------------------------\n",
      "Sum by Close Type\n",
      "..................\n",
      "                              pl\n",
      "close_type                      \n",
      "simple_slema_move_close  0.00137\n",
      "simple_stop             -0.00348\n",
      "--------------------------------------\n",
      "\n",
      "\n",
      "--------------------------------------\n",
      "Average pips per day : -0.0021\n",
      "--------------------------------------\n",
      "\n",
      "\n",
      "--------------------------------------\n",
      "Average orders per day : 11.0\n",
      "--------------------------------------\n",
      "\n",
      "\n"
     ]
    }
   ],
   "source": [
    "generate_result_report(data)"
   ]
  },
  {
   "cell_type": "code",
   "execution_count": 4,
   "metadata": {},
   "outputs": [],
   "source": [
    "data[\"plot\"] = True\n",
    "data['plot_type'] = 'file'\n",
    "data['reduce_plot'] = True\n",
    "data['plot_start']  = '2021-01-1'\n",
    "data['plot_stop']   = '2021-01-5'\n",
    "# data['things_to_plot'] = ['tick', 'lema', 'h_l_lema', 'tick_angle', 'positions']\n",
    "data['things_to_plot'] = ['tick', 'ema', 'h_l_lema', 'tick_angle', 'positions']"
   ]
  },
  {
   "cell_type": "code",
   "execution_count": 5,
   "metadata": {
    "scrolled": false
   },
   "outputs": [],
   "source": [
    "plot_graph(data)"
   ]
  }
 ],
 "metadata": {
  "kernelspec": {
   "display_name": "Python 3",
   "language": "python",
   "name": "python3"
  },
  "language_info": {
   "codemirror_mode": {
    "name": "ipython",
    "version": 3
   },
   "file_extension": ".py",
   "mimetype": "text/x-python",
   "name": "python",
   "nbconvert_exporter": "python",
   "pygments_lexer": "ipython3",
   "version": "3.6.6"
  }
 },
 "nbformat": 4,
 "nbformat_minor": 4
}
