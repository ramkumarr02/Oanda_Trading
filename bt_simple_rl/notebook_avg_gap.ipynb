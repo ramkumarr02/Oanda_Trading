{
 "cells": [
  {
   "cell_type": "markdown",
   "metadata": {},
   "source": [
    "# ML Trader"
   ]
  },
  {
   "cell_type": "code",
   "execution_count": 1,
   "metadata": {
    "scrolled": true
   },
   "outputs": [],
   "source": [
    "from utils.packages import *\n",
    "from utils.variables import *\n",
    "from utils.i_o import *\n",
    "from utils.dir_slope import *\n",
    "from utils.engine import *\n",
    "from utils.loops import *\n",
    "from utils.order import *\n",
    "import winsound"
   ]
  },
  {
   "cell_type": "code",
   "execution_count": 2,
   "metadata": {
    "scrolled": false
   },
   "outputs": [
    {
     "name": "stdout",
     "output_type": "stream",
     "text": [
      "pl    0.00761\n",
      "dtype: float64\n",
      "--------------------------------------\n"
     ]
    },
    {
     "name": "stderr",
     "output_type": "stream",
     "text": [
      "\r",
      " 99%|███████████████████████████████▊| 113892/114572 [00:09<00:00, 9722.37it/s]"
     ]
    },
    {
     "name": "stdout",
     "output_type": "stream",
     "text": [
      "             DateTime_frmt     close_type       pl\n",
      "102128 2021-01-04 18:34:44    simple_stop -0.00047\n",
      "102533 2021-01-04 18:40:21  pl_move_close  0.00036\n",
      "104454 2021-01-04 19:11:33  pl_move_close  0.00026\n",
      "106625 2021-01-04 19:54:04  pl_move_close  0.00017\n",
      "107381 2021-01-04 20:03:35  pl_move_close  0.00028\n",
      "107789 2021-01-04 20:08:47    simple_stop -0.00042\n",
      "107962 2021-01-04 20:10:49  pl_move_close  0.00023\n",
      "110428 2021-01-04 20:59:36  pl_move_close  0.00023\n",
      "110930 2021-01-04 21:10:14  pl_move_close  0.00036\n",
      "111652 2021-01-04 21:39:40  pl_move_close  0.00021\n",
      "112416 2021-01-04 22:00:19  pl_move_close  0.00026\n",
      "112474 2021-01-04 22:05:14  pl_move_close  0.00017\n",
      "112519 2021-01-04 22:07:07  pl_move_close  0.00045\n",
      "112881 2021-01-04 22:36:08  pl_move_close  0.00024\n",
      "113744 2021-01-04 23:29:41  pl_move_close  0.00028\n"
     ]
    },
    {
     "name": "stderr",
     "output_type": "stream",
     "text": [
      "100%|███████████████████████████████| 114572/114572 [00:09<00:00, 11971.64it/s]\n"
     ]
    },
    {
     "name": "stdout",
     "output_type": "stream",
     "text": [
      "Wall time: 1min 3s\n"
     ]
    }
   ],
   "source": [
    "%%time\n",
    "data = run_engine(data)"
   ]
  },
  {
   "cell_type": "code",
   "execution_count": 3,
   "metadata": {
    "scrolled": false
   },
   "outputs": [
    {
     "name": "stdout",
     "output_type": "stream",
     "text": [
      "--------------------------------------\n",
      "Run Complete : data/ema_df-(2021-2021)-(1-1)-(1-4).csv\n",
      "--------------------------------------\n",
      "\n",
      "\n",
      "--------------------------------------\n",
      "Net PL\n",
      "0.0076\n",
      "--------------------------------------\n",
      "\n",
      "\n",
      "--------------------------------------\n",
      "Monthly PL\n",
      "                pl\n",
      "month_val         \n",
      "1          0.00761\n",
      "--------------------------------------\n",
      "\n",
      "\n",
      "--------------------------------------\n",
      "Daily PL\n",
      "               pl\n",
      "date_val         \n",
      "3         0.00012\n",
      "4         0.00749\n",
      "--------------------------------------\n",
      "\n",
      "\n",
      "--------------------------------------\n",
      "Count of transactions by Close Type\n",
      "..................\n",
      "               pl\n",
      "close_type       \n",
      "pl_move_close  86\n",
      "simple_stop    32\n",
      "--------------------------------------\n",
      "\n",
      "\n",
      "--------------------------------------\n",
      "Mean value of transactions by Close Type\n",
      "..................\n",
      "                     pl\n",
      "close_type             \n",
      "pl_move_close  0.000288\n",
      "simple_stop   -0.000537\n",
      "--------------------------------------\n",
      "\n",
      "\n",
      "--------------------------------------\n",
      "Sum by Close Type\n",
      "..................\n",
      "                    pl\n",
      "close_type            \n",
      "pl_move_close  0.02479\n",
      "simple_stop   -0.01718\n",
      "--------------------------------------\n",
      "\n",
      "\n",
      "--------------------------------------\n",
      "Average pips per day : 0.0038\n",
      "--------------------------------------\n",
      "\n",
      "\n",
      "--------------------------------------\n",
      "Average orders per day : 59.0\n",
      "--------------------------------------\n",
      "\n",
      "\n"
     ]
    }
   ],
   "source": [
    "generate_result_report(data)"
   ]
  },
  {
   "cell_type": "markdown",
   "metadata": {},
   "source": [
    "data['df']['long_profit'] = np.nan\n",
    "data['df']['long_loss'] = np.nan\n",
    "data['df']['short_profit'] = np.nan\n",
    "data['df']['short_loss'] = np.nan\n",
    "\n",
    "data['df']['long_profit'][data['df']['pl'] > 0] = data['df']['long_close']\n",
    "data['df']['long_loss'][data['df']['pl'] < 0] = data['df']['long_close']\n",
    "\n",
    "data['df']['short_profit'][data['df']['pl'] > 0] = data['df']['short_close']\n",
    "data['df']['short_loss'][data['df']['pl'] < 0] = data['df']['short_close']\n",
    "\n",
    "del data['long_close']\n",
    "del data['short_close']"
   ]
  },
  {
   "cell_type": "code",
   "execution_count": 4,
   "metadata": {},
   "outputs": [],
   "source": [
    "data[\"plot\"] = True\n",
    "data['plot_type'] = 'file'\n",
    "data['reduce_plot'] = True\n",
    "data['plot_start']  = '2021-01-1'\n",
    "data['plot_stop']   = '2021-01-5'\n",
    "# data['things_to_plot'] = ['tick', 'lema', 'h_l_lema', 'tick_angle', 'positions']\n",
    "data['things_to_plot'] = ['tick', 'lema', 'h_l_lema', 'tick_angle', 'positions']\n",
    "data['things_to_plot'] = ['tick', 'lema', 'h_l_lema', 'positions']"
   ]
  },
  {
   "cell_type": "code",
   "execution_count": null,
   "metadata": {
    "scrolled": false
   },
   "outputs": [],
   "source": [
    "plot_graph(data)"
   ]
  },
  {
   "cell_type": "code",
   "execution_count": null,
   "metadata": {},
   "outputs": [],
   "source": [
    "data['df'].to_csv('data/temp.csv')"
   ]
  },
  {
   "cell_type": "markdown",
   "metadata": {},
   "source": [
    "data['df_l_lema'] = data['df'][(data['df']['pl'].notnull()) & (data['df']['touched_line'] == 'l_lema')][['touched_line', 'order_side','pl']].tail(1)\n",
    "data['df_l_lema'] = data['df_l_lema'].reset_index(drop=True) \n",
    "\n",
    "data['df_h_lema'] = data['df'][(data['df']['pl'].notnull()) & (data['df']['touched_line'] == 'h_lema')][['touched_line', 'order_side','pl']].tail(1)\n",
    "data['df_h_lema'] = data['df_h_lema'].reset_index(drop=True) \n",
    "\n",
    "data['df_l_lema']\n",
    "\n",
    "data['df']['pl'][data['df']['pl'].notnull()].values\n",
    "\n",
    "data['df']['order_side'][data['df']['pl'].notnull()].values\n",
    "\n",
    "data['df']['touched_line'][data['df']['pl'].notnull()].values"
   ]
  }
 ],
 "metadata": {
  "kernelspec": {
   "display_name": "Python 3",
   "language": "python",
   "name": "python3"
  },
  "language_info": {
   "codemirror_mode": {
    "name": "ipython",
    "version": 3
   },
   "file_extension": ".py",
   "mimetype": "text/x-python",
   "name": "python",
   "nbconvert_exporter": "python",
   "pygments_lexer": "ipython3",
   "version": "3.6.6"
  }
 },
 "nbformat": 4,
 "nbformat_minor": 4
}
