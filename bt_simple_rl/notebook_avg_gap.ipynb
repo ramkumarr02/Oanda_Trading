{
 "cells": [
  {
   "cell_type": "markdown",
   "metadata": {},
   "source": [
    "# ML Trader"
   ]
  },
  {
   "cell_type": "code",
   "execution_count": 1,
   "metadata": {
    "scrolled": true
   },
   "outputs": [],
   "source": [
    "from utils.packages import *\n",
    "from utils.variables import *\n",
    "from utils.i_o import *\n",
    "from utils.dir_slope import *\n",
    "from utils.engine import *\n",
    "from utils.loops import *\n",
    "from utils.order import *\n",
    "import winsound"
   ]
  },
  {
   "cell_type": "code",
   "execution_count": 2,
   "metadata": {
    "scrolled": false
   },
   "outputs": [
    {
     "name": "stderr",
     "output_type": "stream",
     "text": [
      "100%|██████████████████████████████▉| 1923272/1926112 [13:14<00:03, 785.12it/s]"
     ]
    },
    {
     "name": "stdout",
     "output_type": "stream",
     "text": [
      "pl   -0.01459\n",
      "dtype: float64\n",
      "--------------------------------------\n",
      "              DateTime_frmt order_side          close_type       pl\n",
      "1887893 2021-01-29 15:29:34       long  simple_take_profit  0.00053\n",
      "1888822 2021-01-29 15:37:18      short  simple_take_profit  0.00053\n",
      "1889329 2021-01-29 15:41:04       long         simple_stop -0.00053\n",
      "1892151 2021-01-29 15:55:28      short         simple_stop -0.00083\n",
      "1900454 2021-01-29 16:47:03       long         simple_stop -0.00069\n",
      "1904377 2021-01-29 17:31:00      short         simple_stop -0.00059\n",
      "1913488 2021-01-29 19:36:35       long         simple_stop -0.00033\n",
      "1915118 2021-01-29 19:59:55      short  simple_take_profit  0.00031\n",
      "1915620 2021-01-29 20:05:48      short  simple_take_profit  0.00032\n",
      "1917158 2021-01-29 20:39:07      short  simple_take_profit  0.00031\n",
      "1918379 2021-01-29 20:58:30      short  simple_take_profit  0.00034\n",
      "1918746 2021-01-29 21:01:15      short  simple_take_profit  0.00035\n",
      "1920509 2021-01-29 21:54:28      short         simple_stop -0.00042\n",
      "1921399 2021-01-31 22:29:34       long         simple_stop -0.00043\n",
      "1922618 2021-01-31 23:02:54      short  simple_take_profit  0.00050\n"
     ]
    },
    {
     "name": "stderr",
     "output_type": "stream",
     "text": [
      "100%|██████████████████████████████| 1926112/1926112 [13:15<00:00, 2421.95it/s]\n"
     ]
    },
    {
     "name": "stdout",
     "output_type": "stream",
     "text": [
      "Wall time: 13min 47s\n"
     ]
    }
   ],
   "source": [
    "%%time\n",
    "data = run_engine(data)"
   ]
  },
  {
   "cell_type": "code",
   "execution_count": 3,
   "metadata": {
    "scrolled": false
   },
   "outputs": [
    {
     "name": "stdout",
     "output_type": "stream",
     "text": [
      "--------------------------------------\n",
      "Run Complete : data/ema_df-(2021-2021)-(1-2)-(1-1).csv\n",
      "--------------------------------------\n",
      "\n",
      "\n",
      "--------------------------------------\n",
      "Net PL\n",
      "-0.0146\n",
      "--------------------------------------\n",
      "\n",
      "\n",
      "--------------------------------------\n",
      "Monthly PL\n",
      "                pl\n",
      "month_val         \n",
      "1         -0.01459\n",
      "--------------------------------------\n",
      "\n",
      "\n",
      "--------------------------------------\n",
      "Daily PL\n",
      "               pl\n",
      "date_val         \n",
      "4         0.00303\n",
      "5         0.00290\n",
      "6         0.00362\n",
      "7        -0.00092\n",
      "8         0.00538\n",
      "10       -0.00388\n",
      "11        0.00261\n",
      "12       -0.00095\n",
      "13       -0.00490\n",
      "14        0.00058\n",
      "15       -0.00409\n",
      "17        0.00093\n",
      "18       -0.00429\n",
      "19       -0.00263\n",
      "20       -0.00336\n",
      "21       -0.00079\n",
      "22        0.00056\n",
      "24       -0.00002\n",
      "25        0.00160\n",
      "26       -0.00095\n",
      "27       -0.00430\n",
      "28       -0.00152\n",
      "29       -0.00327\n",
      "31        0.00007\n",
      "--------------------------------------\n",
      "\n",
      "\n",
      "--------------------------------------\n",
      "Count of transactions by Close Type\n",
      "..................\n",
      "                     pl\n",
      "close_type             \n",
      "simple_stop         423\n",
      "simple_take_profit  396\n",
      "--------------------------------------\n",
      "\n",
      "\n",
      "--------------------------------------\n",
      "Mean value of transactions by Close Type\n",
      "..................\n",
      "                          pl\n",
      "close_type                  \n",
      "simple_stop        -0.000592\n",
      "simple_take_profit  0.000595\n",
      "--------------------------------------\n",
      "\n",
      "\n",
      "--------------------------------------\n",
      "Sum by Close Type\n",
      "..................\n",
      "                         pl\n",
      "close_type                 \n",
      "simple_stop        -0.25039\n",
      "simple_take_profit  0.23580\n",
      "--------------------------------------\n",
      "\n",
      "\n",
      "--------------------------------------\n",
      "Average pips per day : -0.0006\n",
      "--------------------------------------\n",
      "\n",
      "\n",
      "--------------------------------------\n",
      "Average orders per day : 34.125\n",
      "--------------------------------------\n",
      "\n",
      "\n"
     ]
    }
   ],
   "source": [
    "generate_result_report(data)"
   ]
  },
  {
   "cell_type": "markdown",
   "metadata": {},
   "source": [
    "data['df']['long_profit'] = np.nan\n",
    "data['df']['long_loss'] = np.nan\n",
    "data['df']['short_profit'] = np.nan\n",
    "data['df']['short_loss'] = np.nan\n",
    "\n",
    "data['df']['long_profit'][data['df']['pl'] > 0] = data['df']['long_close']\n",
    "data['df']['long_loss'][data['df']['pl'] < 0] = data['df']['long_close']\n",
    "\n",
    "data['df']['short_profit'][data['df']['pl'] > 0] = data['df']['short_close']\n",
    "data['df']['short_loss'][data['df']['pl'] < 0] = data['df']['short_close']\n",
    "\n",
    "del data['long_close']\n",
    "del data['short_close']"
   ]
  },
  {
   "cell_type": "code",
   "execution_count": 4,
   "metadata": {},
   "outputs": [],
   "source": [
    "data[\"plot\"] = False\n",
    "data['plot_type'] = 'file'\n",
    "data['reduce_plot'] = True\n",
    "data['plot_start']  = '2021-01-27'\n",
    "data['plot_stop']   = '2021-01-28'\n",
    "# data['things_to_plot'] = ['tick', 'lema', 'h_l_lema', 'tick_angle', 'positions']\n",
    "data['things_to_plot'] = ['tick', 'lema', 'h_l_lema', 'tick_angle', 'positions']\n",
    "data['things_to_plot'] = ['tick', 'lema', 'h_l_lema', 'positions']"
   ]
  },
  {
   "cell_type": "code",
   "execution_count": 5,
   "metadata": {
    "scrolled": false
   },
   "outputs": [],
   "source": [
    "plot_graph(data)"
   ]
  },
  {
   "cell_type": "markdown",
   "metadata": {},
   "source": [
    "data['df'].to_csv('data/temp.csv')\n",
    "\n",
    "data['df_l_lema'] = data['df'][(data['df']['pl'].notnull()) & (data['df']['touched_line'] == 'l_lema')][['touched_line', 'order_side','pl']].tail(1)\n",
    "data['df_l_lema'] = data['df_l_lema'].reset_index(drop=True) \n",
    "\n",
    "data['df_h_lema'] = data['df'][(data['df']['pl'].notnull()) & (data['df']['touched_line'] == 'h_lema')][['touched_line', 'order_side','pl']].tail(1)\n",
    "data['df_h_lema'] = data['df_h_lema'].reset_index(drop=True) \n",
    "\n",
    "data['df_l_lema']\n",
    "\n",
    "data['df']['pl'][data['df']['pl'].notnull()].values\n",
    "\n",
    "data['df']['order_side'][data['df']['pl'].notnull()].values\n",
    "\n",
    "data['df']['touched_line'][data['df']['pl'].notnull()].values"
   ]
  },
  {
   "cell_type": "markdown",
   "metadata": {},
   "source": [
    "data['df'][['order_side','pl']][data['df']['pl'].notnull()].reset_index(drop = True)[0:20]"
   ]
  },
  {
   "cell_type": "markdown",
   "metadata": {},
   "source": [
    "data['rl_rows'] = 2"
   ]
  },
  {
   "cell_type": "markdown",
   "metadata": {},
   "source": [
    "data['df_l_lema'] = data['df'][(data['df']['pl'].notnull()) & (data['df']['touched_line'] == 'l_lema')][['touched_line', 'order_side','pl']].tail(data['rl_rows']).reset_index(drop=True)\n",
    "data['df_l_lema']['pl'] = data['df_l_lema']['pl'].mask(data['df_l_lema']['pl'] > 0, 1)\n",
    "data['df_l_lema']['pl'] = data['df_l_lema']['pl'].mask(data['df_l_lema']['pl'] < 0, -1)\n",
    "print(data['df_l_lema'])\n",
    "\n",
    "x = data['df_l_lema'].groupby('order_side').pl.sum()\n",
    "order_side = x.index[x.argmax()]\n",
    "print(order_side)\n",
    "\n",
    "if x[0] == x[1]:\n",
    "    order_side = list(data['df_l_lema']['order_side'][data['df_l_lema']['pl'] > 0])[-1]\n",
    "    print(order_side)            "
   ]
  },
  {
   "cell_type": "markdown",
   "metadata": {},
   "source": [
    "x.index[0]"
   ]
  },
  {
   "cell_type": "markdown",
   "metadata": {},
   "source": [
    "list(data['df_l_lema']['order_side'][data['df_l_lema']['pl'] > 0])[-1]"
   ]
  },
  {
   "cell_type": "markdown",
   "metadata": {},
   "source": [
    "if x[0] == x[1]:\n",
    "    order_side = list(data['df_l_lema']['order_side'][data['df_l_lema']['pl'] > 0])[-1]\n",
    "    print(order_side)\n",
    "            "
   ]
  },
  {
   "cell_type": "markdown",
   "metadata": {},
   "source": [
    "data['df_l_lema'].groupby('order_side').pl.sum()"
   ]
  },
  {
   "cell_type": "markdown",
   "metadata": {},
   "source": [
    "data['df_h_lema'] = data['df'][(data['df']['pl'].notnull()) & (data['df']['touched_line'] == 'h_lema')][['touched_line', 'order_side','pl']].tail(data['rl_rows']).reset_index(drop=True)\n",
    "data['df_h_lema']['pl'] = data['df_h_lema']['pl'].mask(data['df_h_lema']['pl'] > 0, 1)\n",
    "data['df_h_lema']['pl'] = data['df_h_lema']['pl'].mask(data['df_h_lema']['pl'] < 0, -1)\n",
    "print(data['df_h_lema'])\n",
    "\n",
    "x = data['df_h_lema'].groupby('order_side').pl.sum()\n",
    "x.index[x.argmax()]"
   ]
  }
 ],
 "metadata": {
  "kernelspec": {
   "display_name": "Python 3",
   "language": "python",
   "name": "python3"
  },
  "language_info": {
   "codemirror_mode": {
    "name": "ipython",
    "version": 3
   },
   "file_extension": ".py",
   "mimetype": "text/x-python",
   "name": "python",
   "nbconvert_exporter": "python",
   "pygments_lexer": "ipython3",
   "version": "3.6.6"
  }
 },
 "nbformat": 4,
 "nbformat_minor": 4
}
