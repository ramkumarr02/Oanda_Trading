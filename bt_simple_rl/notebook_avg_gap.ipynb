{
 "cells": [
  {
   "cell_type": "markdown",
   "metadata": {},
   "source": [
    "# ML Trader"
   ]
  },
  {
   "cell_type": "code",
   "execution_count": 1,
   "metadata": {
    "scrolled": true
   },
   "outputs": [],
   "source": [
    "from utils.packages import *\n",
    "from utils.variables import *\n",
    "from utils.i_o import *\n",
    "from utils.dir_slope import *\n",
    "from utils.engine import *\n",
    "from utils.loops import *\n",
    "from utils.order import *\n",
    "import winsound"
   ]
  },
  {
   "cell_type": "code",
   "execution_count": 2,
   "metadata": {
    "scrolled": false
   },
   "outputs": [
    {
     "name": "stderr",
     "output_type": "stream",
     "text": [
      "\r",
      "100%|█████████████████████████████▉| 1915027/1920613 [08:27<00:01, 3368.68it/s]"
     ]
    },
    {
     "name": "stdout",
     "output_type": "stream",
     "text": [
      "pl    0.00378\n",
      "dtype: float64\n",
      "--------------------------------------\n",
      "              DateTime_frmt order_side               close_type       pl\n",
      "1833892 2021-01-29 09:12:02       long              simple_stop -0.00064\n",
      "1841959 2021-01-29 10:14:03      short  simple_slema_move_close  0.00044\n",
      "1847323 2021-01-29 10:58:15      short              simple_stop -0.00095\n",
      "1853023 2021-01-29 12:03:39       long  simple_slema_move_close  0.00002\n",
      "1858537 2021-01-29 12:59:36       long              simple_stop -0.00086\n",
      "1859906 2021-01-29 13:03:06      short              simple_stop -0.00086\n",
      "1873692 2021-01-29 14:33:00      short  simple_slema_move_close  0.00002\n",
      "1875164 2021-01-29 14:41:09       long  simple_slema_move_close  0.00014\n",
      "1876811 2021-01-29 14:50:22       long              simple_stop -0.00058\n",
      "1877489 2021-01-29 14:53:46      short              simple_stop -0.00058\n",
      "1883052 2021-01-29 15:34:38       long  simple_slema_move_close  0.00014\n",
      "1883752 2021-01-29 15:40:39       long              simple_stop -0.00057\n",
      "1887604 2021-01-29 15:57:56      short  simple_slema_move_close  0.00003\n",
      "1889575 2021-01-29 16:04:55      short  simple_slema_move_close  0.00041\n",
      "1915026 2021-01-29 21:54:37      short  simple_slema_move_close  0.00003\n"
     ]
    },
    {
     "name": "stderr",
     "output_type": "stream",
     "text": [
      "100%|██████████████████████████████| 1920613/1920613 [08:33<00:00, 3742.13it/s]\n"
     ]
    },
    {
     "name": "stdout",
     "output_type": "stream",
     "text": [
      "Wall time: 9min 3s\n"
     ]
    }
   ],
   "source": [
    "%%time\n",
    "data = run_engine(data)"
   ]
  },
  {
   "cell_type": "code",
   "execution_count": 3,
   "metadata": {
    "scrolled": false
   },
   "outputs": [
    {
     "name": "stdout",
     "output_type": "stream",
     "text": [
      "--------------------------------------\n",
      "Run Complete : data/ema_df-(2021-2021)-(1-2)-(1-1).csv\n",
      "--------------------------------------\n",
      "\n",
      "\n",
      "--------------------------------------\n",
      "Net PL\n",
      "0.0038\n",
      "--------------------------------------\n",
      "\n",
      "\n",
      "--------------------------------------\n",
      "Monthly PL\n",
      "                pl\n",
      "month_val         \n",
      "1          0.00378\n",
      "--------------------------------------\n",
      "\n",
      "\n",
      "--------------------------------------\n",
      "Daily PL\n",
      "               pl\n",
      "date_val         \n",
      "4         0.00772\n",
      "5        -0.00001\n",
      "6         0.00213\n",
      "7        -0.00225\n",
      "8        -0.00087\n",
      "10       -0.00109\n",
      "11        0.00578\n",
      "12       -0.00062\n",
      "13       -0.00042\n",
      "14        0.00288\n",
      "15        0.00349\n",
      "17        0.00118\n",
      "18        0.00031\n",
      "19        0.00084\n",
      "20       -0.00213\n",
      "21       -0.00505\n",
      "22       -0.00017\n",
      "25        0.00030\n",
      "26       -0.00164\n",
      "27       -0.00352\n",
      "28        0.00094\n",
      "29       -0.00402\n",
      "--------------------------------------\n",
      "\n",
      "\n",
      "--------------------------------------\n",
      "Count of transactions by Close Type\n",
      "..................\n",
      "                          pl\n",
      "close_type                  \n",
      "simple_slema_move_close  137\n",
      "simple_stop              126\n",
      "--------------------------------------\n",
      "\n",
      "\n",
      "--------------------------------------\n",
      "Mean value of transactions by Close Type\n",
      "..................\n",
      "                               pl\n",
      "close_type                       \n",
      "simple_slema_move_close  0.000752\n",
      "simple_stop             -0.000788\n",
      "--------------------------------------\n",
      "\n",
      "\n",
      "--------------------------------------\n",
      "Sum by Close Type\n",
      "..................\n",
      "                              pl\n",
      "close_type                      \n",
      "simple_slema_move_close  0.10305\n",
      "simple_stop             -0.09927\n",
      "--------------------------------------\n",
      "\n",
      "\n",
      "--------------------------------------\n",
      "Average pips per day : 0.0002\n",
      "--------------------------------------\n",
      "\n",
      "\n",
      "--------------------------------------\n",
      "Average orders per day : 11.954545454545455\n",
      "--------------------------------------\n",
      "\n",
      "\n"
     ]
    }
   ],
   "source": [
    "generate_result_report(data)"
   ]
  },
  {
   "cell_type": "code",
   "execution_count": 19,
   "metadata": {},
   "outputs": [],
   "source": [
    "data[\"plot\"] = True\n",
    "data['plot_type'] = 'file'\n",
    "data['reduce_plot'] = True\n",
    "data['plot_start']  = '2021-01-21'\n",
    "data['plot_stop']   = '2021-01-22'\n",
    "# data['things_to_plot'] = ['tick', 'lema', 'h_l_lema', 'tick_angle', 'positions']\n",
    "data['things_to_plot'] = ['tick', 'lema', 'h_l_lema', 'tick_angle', 'positions']\n",
    "data['things_to_plot'] = ['tick', 'ema', 'h_l_lema', 'positions']"
   ]
  },
  {
   "cell_type": "code",
   "execution_count": 20,
   "metadata": {
    "scrolled": false
   },
   "outputs": [],
   "source": [
    "plot_graph(data)"
   ]
  }
 ],
 "metadata": {
  "kernelspec": {
   "display_name": "Python 3",
   "language": "python",
   "name": "python3"
  },
  "language_info": {
   "codemirror_mode": {
    "name": "ipython",
    "version": 3
   },
   "file_extension": ".py",
   "mimetype": "text/x-python",
   "name": "python",
   "nbconvert_exporter": "python",
   "pygments_lexer": "ipython3",
   "version": "3.6.6"
  }
 },
 "nbformat": 4,
 "nbformat_minor": 4
}
