{
 "cells": [
  {
   "cell_type": "markdown",
   "metadata": {},
   "source": [
    "# ML Trader"
   ]
  },
  {
   "cell_type": "code",
   "execution_count": 1,
   "metadata": {
    "scrolled": true
   },
   "outputs": [],
   "source": [
    "from utils.packages import *\n",
    "from utils.variables import *\n",
    "from utils.i_o import *\n",
    "from utils.dir_slope import *\n",
    "from utils.engine import *\n",
    "from utils.loops import *\n",
    "from utils.order import *\n",
    "import winsound"
   ]
  },
  {
   "cell_type": "code",
   "execution_count": 2,
   "metadata": {},
   "outputs": [],
   "source": [
    "data[\"plot\"] = False\n",
    "\n",
    "data['sema_len']        = 3000\n",
    "data['lema_len']        = 30000\n",
    "\n",
    "data['tp_flag']                 = 'simple'\n",
    "data['stop_loss_pip']           = -0.0029\n",
    "data['simple_tp']               = 0.0030\n",
    "\n",
    "# data['tp_flag']                 = 'trail'\n",
    "# data['pl_move_trail_trigger']   = 0.0033\n",
    "# data['pl_move_trail_size']      = 0.95\n",
    "# data['pl_loss_trail_trigger']   = -0.0029\n",
    "# data['pl_loss_trail_size']      = 1.05\n",
    "\n",
    "data['start_date'] = {'year':2021, 'month':1, 'date':1}\n",
    "data['end_date']   = {'year':2021, 'month':1, 'date':31}"
   ]
  },
  {
   "cell_type": "code",
   "execution_count": 3,
   "metadata": {
    "scrolled": false
   },
   "outputs": [
    {
     "name": "stderr",
     "output_type": "stream",
     "text": [
      "100%|█████████████████████████████| 1931111/1931111 [01:08<00:00, 28070.54it/s]"
     ]
    },
    {
     "name": "stdout",
     "output_type": "stream",
     "text": [
      "pls   -0.0039\n",
      "dtype: float64\n",
      "--------------------------------------\n",
      "                  date ord_types          close_type      pls\n",
      "80 2021-01-27 14:33:49      long    simple_stop_loss -0.00290\n",
      "81 2021-01-27 14:35:47     short  simple_take_profit  0.00302\n",
      "82 2021-01-27 14:44:58      long    simple_stop_loss -0.00292\n",
      "83 2021-01-27 14:49:29     short  simple_take_profit  0.00300\n",
      "84 2021-01-27 15:41:14     short    simple_stop_loss -0.00290\n",
      "85 2021-01-27 15:41:39      long  simple_take_profit  0.00300\n",
      "86 2021-01-27 17:53:03     short    simple_stop_loss -0.00290\n",
      "87 2021-01-27 17:59:28      long  simple_take_profit  0.00300\n",
      "88 2021-01-28 00:23:47      long    simple_stop_loss -0.00291\n",
      "89 2021-01-28 00:29:11     short  simple_take_profit  0.00301\n",
      "90 2021-01-28 13:55:04     short    simple_stop_loss -0.00291\n",
      "91 2021-01-28 13:55:10      long  simple_take_profit  0.00300\n",
      "92 2021-01-29 12:46:41     short    simple_stop_loss -0.00290\n",
      "93 2021-01-29 13:36:58      long  simple_take_profit  0.00300\n",
      "94 2021-01-31 23:15:56      long    simple_stop_loss -0.00290\n",
      "Wall time: 1min 18s\n"
     ]
    },
    {
     "name": "stderr",
     "output_type": "stream",
     "text": [
      "\n"
     ]
    }
   ],
   "source": [
    "%%time\n",
    "data = get_date_list(data)\n",
    "data = read_data(data)\n",
    "data = run_engine(data)"
   ]
  },
  {
   "cell_type": "code",
   "execution_count": 4,
   "metadata": {
    "scrolled": false
   },
   "outputs": [
    {
     "name": "stdout",
     "output_type": "stream",
     "text": [
      "-----------------------------------------------------\n",
      "==============================\n",
      "date_val          : ['20210101', '20210102', '20210103', '20210104', '20210105', '20210106', '20210107', '20210108', '20210109', '20210110', '20210111', '20210112', '20210113', '20210114', '20210115', '20210116', '20210117', '20210118', '20210119', '20210120', '20210121', '20210122', '20210123', '20210124', '20210125', '20210126', '20210127', '20210128', '20210129', '20210130', '20210131']\n",
      "Total PL : -0.0038999999999999894\n",
      "-------------\n",
      "net_pl            : -0.0039/0.281\n",
      "-------------\n",
      "+ve               : num= 46    sum= +0.13855    avg= +0.00301\n",
      "-ve               : num= 49    sum= -0.14245    avg= -0.00291\n",
      "==============================\n",
      "-----------------------------------------------------\n",
      "date_val\n",
      "4     0.00044\n",
      "5     0.00020\n",
      "6     0.00056\n",
      "7     0.00018\n",
      "8     0.00048\n",
      "11    0.00021\n",
      "12    0.00020\n",
      "13    0.00022\n",
      "14   -0.00272\n",
      "15   -0.00273\n",
      "18    0.00011\n",
      "19    0.00023\n",
      "20   -0.00262\n",
      "21    0.00312\n",
      "22    0.00009\n",
      "25    0.00017\n",
      "26    0.00008\n",
      "27    0.00049\n",
      "28    0.00019\n",
      "29    0.00010\n",
      "31   -0.00290\n",
      "Name: pls, dtype: float64\n",
      "-----------------------------------------------------\n",
      "-0.00290    24\n",
      " 0.00300    23\n",
      "-0.00291    16\n",
      " 0.00301    10\n",
      "-0.00292     8\n",
      " 0.00303     6\n",
      " 0.00302     5\n",
      " 0.00307     1\n",
      "-0.00293     1\n",
      " 0.00310     1\n",
      "Name: pls, dtype: int64\n",
      "-----------------------------------------------------\n"
     ]
    }
   ],
   "source": [
    "if data[\"plot\"]:\n",
    "    data = adjust_plot_list_lengths(data)\n",
    "    plot_graph(data)\n",
    "    \n",
    "print('-----------------------------------------------------')\n",
    "print_report(data)\n",
    "print('-----------------------------------------------------')\n",
    "print(data['report_df'].groupby(['date_val'])['pls'].sum())\n",
    "print('-----------------------------------------------------')\n",
    "print(data['report_df']['pls'].value_counts())\n",
    "print('-----------------------------------------------------')\n",
    "data['report_df']\n",
    "\n",
    "winsound.PlaySound('C:\\\\Windows\\\\Media\\\\tada.wav', winsound.SND_ASYNC)"
   ]
  }
 ],
 "metadata": {
  "kernelspec": {
   "display_name": "Python 3",
   "language": "python",
   "name": "python3"
  },
  "language_info": {
   "codemirror_mode": {
    "name": "ipython",
    "version": 3
   },
   "file_extension": ".py",
   "mimetype": "text/x-python",
   "name": "python",
   "nbconvert_exporter": "python",
   "pygments_lexer": "ipython3",
   "version": "3.6.6"
  }
 },
 "nbformat": 4,
 "nbformat_minor": 4
}
