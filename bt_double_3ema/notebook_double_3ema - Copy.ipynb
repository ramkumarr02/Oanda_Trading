{
 "cells": [
  {
   "cell_type": "markdown",
   "metadata": {},
   "source": [
    "# ML Trader"
   ]
  },
  {
   "cell_type": "code",
   "execution_count": 1,
   "metadata": {
    "scrolled": true
   },
   "outputs": [],
   "source": [
    "from utils.packages import *\n",
    "from utils.variables import *\n",
    "from utils.i_o import *\n",
    "from utils.dir_slope import *\n",
    "from utils.engine import *\n",
    "from utils.loops import *\n",
    "from utils.order import *\n",
    "import winsound"
   ]
  },
  {
   "cell_type": "code",
   "execution_count": 2,
   "metadata": {},
   "outputs": [],
   "source": [
    "data[\"plot\"] = False\n",
    "\n",
    "data['sema_len']        = 3000\n",
    "data['lema_len']        = 30000\n",
    "\n",
    "# data['tp_flag']                 = 'simple'\n",
    "# data['stop_loss_pip']           = -0.0029\n",
    "# data['simple_tp']               = 0.0033\n",
    "\n",
    "data['tp_flag']                 = 'trail'\n",
    "data['pl_move_trail_trigger']   = 0.0033\n",
    "data['pl_move_trail_size']      = 0.95\n",
    "data['pl_loss_trail_trigger']   = -0.0029\n",
    "data['pl_loss_trail_size']      = 1.05\n",
    "\n",
    "data['start_date'] = {'year':2021, 'month':1, 'date':1}\n",
    "data['end_date']   = {'year':2021, 'month':1, 'date':31}"
   ]
  },
  {
   "cell_type": "code",
   "execution_count": 3,
   "metadata": {
    "scrolled": false
   },
   "outputs": [
    {
     "name": "stderr",
     "output_type": "stream",
     "text": [
      " 96%|███████████████████████████▉ | 1860897/1931111 [01:34<00:03, 19512.73it/s]"
     ]
    },
    {
     "name": "stdout",
     "output_type": "stream",
     "text": [
      "pls    0.00165\n",
      "dtype: float64\n",
      "--------------------------------------\n",
      "                  date ord_types     close_type      pls\n",
      "77 2021-01-27 09:14:32     short  pl_move_close  0.00325\n",
      "78 2021-01-27 13:50:12      long  pl_loss_close -0.00269\n",
      "79 2021-01-27 13:58:47     short  one_stop_save  0.00132\n",
      "80 2021-01-27 14:36:48     short  pl_move_close  0.00368\n",
      "81 2021-01-27 15:41:46      long  pl_loss_close -0.00256\n",
      "82 2021-01-27 17:54:59     short  pl_loss_close -0.00281\n",
      "83 2021-01-27 19:00:40      long  pl_move_close  0.00379\n",
      "84 2021-01-27 19:56:19      long  pl_loss_close -0.00287\n",
      "85 2021-01-27 20:03:26     short  pl_move_close  0.00315\n",
      "86 2021-01-28 13:59:07     short  pl_loss_close -0.00307\n",
      "87 2021-01-28 13:59:56      long  pl_move_close  0.00334\n",
      "88 2021-01-29 03:12:49      long  pl_loss_close -0.00244\n",
      "89 2021-01-29 04:05:22     short  pl_move_close  0.00311\n",
      "90 2021-01-29 10:24:11     short  pl_loss_close -0.00286\n",
      "91 2021-01-29 11:00:10      long  pl_move_close  0.00350\n"
     ]
    },
    {
     "name": "stderr",
     "output_type": "stream",
     "text": [
      "100%|█████████████████████████████| 1931111/1931111 [01:37<00:00, 19715.87it/s]"
     ]
    },
    {
     "name": "stdout",
     "output_type": "stream",
     "text": [
      "Wall time: 1min 46s\n"
     ]
    },
    {
     "name": "stderr",
     "output_type": "stream",
     "text": [
      "\n"
     ]
    }
   ],
   "source": [
    "%%time\n",
    "data = get_date_list(data)\n",
    "data = read_data(data)\n",
    "data = run_engine(data)"
   ]
  },
  {
   "cell_type": "code",
   "execution_count": 4,
   "metadata": {
    "scrolled": false
   },
   "outputs": [
    {
     "name": "stdout",
     "output_type": "stream",
     "text": [
      "-----------------------------------------------------\n",
      "==============================\n",
      "date_val          : ['20210101', '20210102', '20210103', '20210104', '20210105', '20210106', '20210107', '20210108', '20210109', '20210110', '20210111', '20210112', '20210113', '20210114', '20210115', '20210116', '20210117', '20210118', '20210119', '20210120', '20210121', '20210122', '20210123', '20210124', '20210125', '20210126', '20210127', '20210128', '20210129', '20210130', '20210131']\n",
      "Total PL : 0.00165\n",
      "-------------\n",
      "net_pl            : 0.00165/0.26527\n",
      "-------------\n",
      "+ve               : num= 46    sum= +0.13346    avg= +0.0029\n",
      "-ve               : num= 46    sum= -0.13181    avg= -0.00287\n",
      "==============================\n",
      "-----------------------------------------------------\n",
      "date_val\n",
      "4     0.00104\n",
      "5     0.00035\n",
      "6     0.00044\n",
      "7     0.00054\n",
      "8    -0.00266\n",
      "10   -0.00290\n",
      "11    0.00253\n",
      "12    0.00031\n",
      "13   -0.00081\n",
      "14    0.00001\n",
      "15    0.00052\n",
      "18   -0.00139\n",
      "19    0.00045\n",
      "20   -0.00141\n",
      "21    0.00151\n",
      "25    0.00033\n",
      "26    0.00025\n",
      "27    0.00096\n",
      "28    0.00027\n",
      "29    0.00131\n",
      "Name: pls, dtype: float64\n",
      "-----------------------------------------------------\n",
      "-0.00306    5\n",
      " 0.00313    4\n",
      "-0.00290    3\n",
      "-0.00297    3\n",
      "-0.00287    3\n",
      "           ..\n",
      "-0.00300    1\n",
      " 0.00393    1\n",
      " 0.00133    1\n",
      "-0.00247    1\n",
      " 0.00356    1\n",
      "Name: pls, Length: 64, dtype: int64\n",
      "-----------------------------------------------------\n"
     ]
    }
   ],
   "source": [
    "if data[\"plot\"]:\n",
    "    data = adjust_plot_list_lengths(data)\n",
    "    plot_graph(data)\n",
    "    \n",
    "print('-----------------------------------------------------')\n",
    "print_report(data)\n",
    "print('-----------------------------------------------------')\n",
    "print(data['report_df'].groupby(['date_val'])['pls'].sum())\n",
    "print('-----------------------------------------------------')\n",
    "print(data['report_df']['pls'].value_counts())\n",
    "print('-----------------------------------------------------')\n",
    "data['report_df']\n",
    "\n",
    "winsound.PlaySound('C:\\\\Windows\\\\Media\\\\tada.wav', winsound.SND_ASYNC)"
   ]
  }
 ],
 "metadata": {
  "kernelspec": {
   "display_name": "Python 3",
   "language": "python",
   "name": "python3"
  },
  "language_info": {
   "codemirror_mode": {
    "name": "ipython",
    "version": 3
   },
   "file_extension": ".py",
   "mimetype": "text/x-python",
   "name": "python",
   "nbconvert_exporter": "python",
   "pygments_lexer": "ipython3",
   "version": "3.6.6"
  }
 },
 "nbformat": 4,
 "nbformat_minor": 4
}
