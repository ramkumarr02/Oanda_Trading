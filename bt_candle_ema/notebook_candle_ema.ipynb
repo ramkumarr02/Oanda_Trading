{
 "cells": [
  {
   "cell_type": "markdown",
   "metadata": {},
   "source": [
    "# ML Trader"
   ]
  },
  {
   "cell_type": "code",
   "execution_count": 1,
   "metadata": {
    "scrolled": true
   },
   "outputs": [],
   "source": [
    "from utils.packages import *\n",
    "from utils.variables import *\n",
    "from utils.i_o import *\n",
    "from utils.dir_slope import *\n",
    "from utils.engine import *\n",
    "from utils.loops import *\n",
    "from utils.order import *\n",
    "import winsound"
   ]
  },
  {
   "cell_type": "markdown",
   "metadata": {},
   "source": [
    "### Action Points\n",
    "\n",
    "1. Create Choice between Take profit and sema move close.\n",
    "    - If Sema is above slema for long position, then can we cancel take profit step\n",
    "    - can we use sema angle to decide whether to close profit or not\n",
    "    - Fix Merge issue"
   ]
  },
  {
   "cell_type": "code",
   "execution_count": null,
   "metadata": {},
   "outputs": [
    {
     "name": "stderr",
     "output_type": "stream",
     "text": [
      " 89%|█████████████████████████▊   | 2245497/2519484 [02:52<00:21, 12706.75it/s]"
     ]
    },
    {
     "name": "stdout",
     "output_type": "stream",
     "text": [
      "pl   -0.00502\n",
      "dtype: float64\n",
      "--------------------------------------\n",
      "              DateTime_frmt order_side               close_type       pl\n",
      "2027264 2022-06-24 15:56:10       long  simple_slema_move_close -0.00101\n",
      "2049250 2022-06-27 00:53:13       long  simple_slema_move_close  0.00128\n",
      "2059445 2022-06-27 02:56:18       long  simple_slema_move_close -0.00053\n",
      "2063779 2022-06-27 04:41:36      short  simple_slema_move_close -0.00108\n",
      "2068613 2022-06-27 06:13:30       long  simple_slema_move_close -0.00083\n",
      "2087630 2022-06-27 09:30:45       long  simple_slema_move_close  0.00168\n",
      "2093100 2022-06-27 10:36:45      short  simple_slema_move_close -0.00066\n",
      "2127637 2022-06-27 16:42:45       long  simple_slema_move_close  0.00178\n",
      "2157895 2022-06-28 03:31:47      short  simple_slema_move_close  0.00068\n",
      "2167330 2022-06-28 06:09:44      short  simple_slema_move_close -0.00024\n",
      "2180393 2022-06-28 07:32:59      short  simple_slema_move_close -0.00112\n",
      "2188873 2022-06-28 08:30:34      short  simple_slema_move_close -0.00011\n",
      "2199850 2022-06-28 10:22:11      short  simple_slema_move_close -0.00051\n",
      "2233726 2022-06-28 15:16:57      short  simple_slema_move_close  0.00517\n",
      "2242893 2022-06-28 16:57:33       long  simple_slema_move_close -0.00088\n"
     ]
    },
    {
     "name": "stderr",
     "output_type": "stream",
     "text": [
      " 89%|█████████████████████████▉   | 2249498/2519484 [02:52<00:20, 12993.35it/s]"
     ]
    }
   ],
   "source": [
    "%%time\n",
    "data = run_engine(data)"
   ]
  },
  {
   "cell_type": "code",
   "execution_count": null,
   "metadata": {},
   "outputs": [],
   "source": [
    "generate_result_report(data)"
   ]
  },
  {
   "cell_type": "code",
   "execution_count": null,
   "metadata": {},
   "outputs": [],
   "source": [
    "plot_graph(data)"
   ]
  }
 ],
 "metadata": {
  "kernelspec": {
   "display_name": "Python 3",
   "language": "python",
   "name": "python3"
  },
  "language_info": {
   "codemirror_mode": {
    "name": "ipython",
    "version": 3
   },
   "file_extension": ".py",
   "mimetype": "text/x-python",
   "name": "python",
   "nbconvert_exporter": "python",
   "pygments_lexer": "ipython3",
   "version": "3.6.6"
  }
 },
 "nbformat": 4,
 "nbformat_minor": 4
}
