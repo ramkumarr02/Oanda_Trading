{
 "cells": [
  {
   "cell_type": "markdown",
   "metadata": {},
   "source": [
    "# ML Trader"
   ]
  },
  {
   "cell_type": "code",
   "execution_count": 1,
   "metadata": {
    "scrolled": true
   },
   "outputs": [],
   "source": [
    "from utils.packages import *\n",
    "from utils.variables import *\n",
    "from utils.i_o import *\n",
    "from utils.dir_slope import *\n",
    "from utils.engine import *\n",
    "from utils.loops import *\n",
    "from utils.order import *\n",
    "import winsound"
   ]
  },
  {
   "cell_type": "markdown",
   "metadata": {},
   "source": [
    "### Action Points\n",
    "\n",
    "1. Create Choice between Take profit and sema move close.\n",
    "    - If Sema is above slema for long position, then can we cancel take profit step\n",
    "    - can we use sema angle to decide whether to close profit or not"
   ]
  },
  {
   "cell_type": "code",
   "execution_count": 2,
   "metadata": {
    "scrolled": false
   },
   "outputs": [
    {
     "name": "stderr",
     "output_type": "stream",
     "text": [
      "100%|███████████████████████████████| 195463/195463 [00:15<00:00, 12934.67it/s]\n"
     ]
    },
    {
     "name": "stdout",
     "output_type": "stream",
     "text": [
      "pl    0.00317\n",
      "dtype: float64\n",
      "--------------------------------------\n",
      "             DateTime_frmt order_side   close_type       pl\n",
      "180592 2022-07-04 15:32:24       long  simple_stop -0.00045\n",
      "182006 2022-07-04 15:56:55      short  simple_stop -0.00047\n",
      "185023 2022-07-04 16:56:22      short  simple_stop -0.00019\n",
      "186092 2022-07-04 17:48:19      short  simple_stop -0.00005\n",
      "187503 2022-07-04 19:05:13       long  simple_stop -0.00008\n",
      "187741 2022-07-04 19:29:59       long  simple_stop -0.00011\n",
      "188805 2022-07-04 20:18:31      short  simple_stop -0.00016\n",
      "189377 2022-07-04 20:34:34       long  simple_stop -0.00009\n",
      "189802 2022-07-04 20:57:21      short  simple_stop -0.00012\n",
      "189874 2022-07-04 21:09:59      short  simple_stop -0.00029\n",
      "189901 2022-07-04 21:24:40      short  simple_stop -0.00034\n",
      "190064 2022-07-04 21:49:33      short  simple_stop -0.00024\n",
      "191618 2022-07-04 22:39:20       long  simple_stop -0.00017\n",
      "192048 2022-07-04 22:51:36      short  simple_stop -0.00019\n",
      "194859 2022-07-04 23:50:14      short  simple_stop -0.00013\n",
      "Wall time: 55.1 s\n"
     ]
    }
   ],
   "source": [
    "%%time\n",
    "data = run_engine(data)"
   ]
  },
  {
   "cell_type": "code",
   "execution_count": 3,
   "metadata": {
    "scrolled": false
   },
   "outputs": [
    {
     "name": "stdout",
     "output_type": "stream",
     "text": [
      "--------------------------------------\n",
      "Run Complete : data/ema_df-(2022-2022)-(7-7)-(1-4).csv\n",
      "--------------------------------------\n",
      "\n",
      "\n",
      "--------------------------------------\n",
      "Net PL\n",
      "0.0032\n",
      "--------------------------------------\n",
      "\n",
      "\n",
      "--------------------------------------\n",
      "Monthly PL\n",
      "                pl\n",
      "month_val         \n",
      "7          0.00317\n",
      "--------------------------------------\n",
      "\n",
      "\n",
      "--------------------------------------\n",
      "Daily PL\n",
      "               pl\n",
      "date_val         \n",
      "1         0.00442\n",
      "4        -0.00125\n",
      "--------------------------------------\n",
      "\n",
      "\n",
      "--------------------------------------\n",
      "Count of transactions by Close Type\n",
      "..................\n",
      "                         pl\n",
      "close_type                 \n",
      "simple_slema_move_close   9\n",
      "simple_stop              23\n",
      "--------------------------------------\n",
      "\n",
      "\n",
      "--------------------------------------\n",
      "Mean value of transactions by Close Type\n",
      "..................\n",
      "                               pl\n",
      "close_type                       \n",
      "simple_slema_move_close  0.000996\n",
      "simple_stop             -0.000252\n",
      "--------------------------------------\n",
      "\n",
      "\n",
      "--------------------------------------\n",
      "Sum by Close Type\n",
      "..................\n",
      "                              pl\n",
      "close_type                      \n",
      "simple_slema_move_close  0.00896\n",
      "simple_stop             -0.00579\n",
      "--------------------------------------\n",
      "\n",
      "\n",
      "--------------------------------------\n",
      "Average pips per day : 0.0016\n",
      "--------------------------------------\n",
      "\n",
      "\n",
      "--------------------------------------\n",
      "Average orders per day : 16.0\n",
      "--------------------------------------\n",
      "\n",
      "\n"
     ]
    }
   ],
   "source": [
    "generate_result_report(data)"
   ]
  },
  {
   "cell_type": "code",
   "execution_count": 6,
   "metadata": {
    "scrolled": false
   },
   "outputs": [],
   "source": [
    "plot_graph(data)"
   ]
  }
 ],
 "metadata": {
  "kernelspec": {
   "display_name": "Python 3",
   "language": "python",
   "name": "python3"
  },
  "language_info": {
   "codemirror_mode": {
    "name": "ipython",
    "version": 3
   },
   "file_extension": ".py",
   "mimetype": "text/x-python",
   "name": "python",
   "nbconvert_exporter": "python",
   "pygments_lexer": "ipython3",
   "version": "3.6.6"
  }
 },
 "nbformat": 4,
 "nbformat_minor": 4
}
