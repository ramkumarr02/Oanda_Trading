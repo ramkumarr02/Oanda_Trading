{
 "cells": [
  {
   "cell_type": "markdown",
   "metadata": {},
   "source": [
    "# ML Trader"
   ]
  },
  {
   "cell_type": "code",
   "execution_count": 1,
   "metadata": {
    "scrolled": true
   },
   "outputs": [],
   "source": [
    "from utils.packages import *\n",
    "from utils.variables import *\n",
    "from utils.i_o import *\n",
    "from utils.dir_slope import *\n",
    "from utils.engine import *\n",
    "from utils.loops import *\n",
    "from utils.order import *\n",
    "from utils.ml import *\n",
    "import winsound"
   ]
  },
  {
   "cell_type": "markdown",
   "metadata": {},
   "source": [
    "### Action Points\n",
    "\n",
    "1. Create Choice between Take profit and sema move close.\n",
    "    - If Sema is above slema for long position, then can we cancel take profit step\n",
    "    - can we use sema angle to decide whether to close profit or not\n",
    "    - Fix Merge issue"
   ]
  },
  {
   "cell_type": "code",
   "execution_count": 2,
   "metadata": {},
   "outputs": [
    {
     "name": "stdout",
     "output_type": "stream",
     "text": [
      "Date List Created\n",
      "Record num : 684744\n"
     ]
    },
    {
     "name": "stderr",
     "output_type": "stream",
     "text": [
      "\r",
      "  0%|                                                 | 0/2267 [00:00<?, ?it/s]"
     ]
    },
    {
     "name": "stdout",
     "output_type": "stream",
     "text": [
      "format_tick_time : Completed\n"
     ]
    },
    {
     "name": "stderr",
     "output_type": "stream",
     "text": [
      "100%|████████████████████████████████████| 2267/2267 [00:00<00:00, 3645.80it/s]\n"
     ]
    },
    {
     "name": "stdout",
     "output_type": "stream",
     "text": [
      "get_ohlc         : completed\n",
      "get_tick_indicators  : Completed\n",
      "encode_x_y_split    : Completed\n",
      "train_model         : Completed\n",
      "-------------------------------------\n",
      "Overall Accuracy : 0.5873015873015873\n",
      "-------------------------------------\n",
      "              precision    recall  f1-score   support\n",
      "\n",
      "        down       0.65      0.56      0.60       213\n",
      "      no_dir       0.62      0.49      0.55        53\n",
      "          up       0.53      0.65      0.58       175\n",
      "\n",
      "    accuracy                           0.59       441\n",
      "   macro avg       0.60      0.57      0.58       441\n",
      "weighted avg       0.60      0.59      0.59       441\n",
      "\n",
      "Wall time: 22 s\n"
     ]
    }
   ],
   "source": [
    "%%time\n",
    "data = run_engine(data)"
   ]
  },
  {
   "cell_type": "code",
   "execution_count": 3,
   "metadata": {},
   "outputs": [
    {
     "data": {
      "text/html": [
       "<div>\n",
       "<style scoped>\n",
       "    .dataframe tbody tr th:only-of-type {\n",
       "        vertical-align: middle;\n",
       "    }\n",
       "\n",
       "    .dataframe tbody tr th {\n",
       "        vertical-align: top;\n",
       "    }\n",
       "\n",
       "    .dataframe thead th {\n",
       "        text-align: right;\n",
       "    }\n",
       "</style>\n",
       "<table border=\"1\" class=\"dataframe\">\n",
       "  <thead>\n",
       "    <tr style=\"text-align: right;\">\n",
       "      <th></th>\n",
       "      <th>DateTime_frmt</th>\n",
       "      <th>open</th>\n",
       "      <th>high</th>\n",
       "      <th>low</th>\n",
       "      <th>close</th>\n",
       "      <th>Volume</th>\n",
       "      <th>num_ticks</th>\n",
       "      <th>candle_size</th>\n",
       "      <th>dir</th>\n",
       "      <th>weekday</th>\n",
       "      <th>hour</th>\n",
       "      <th>min</th>\n",
       "      <th>lema</th>\n",
       "      <th>sema</th>\n",
       "      <th>BBand_upper</th>\n",
       "      <th>BBand_middle</th>\n",
       "      <th>BBand_lower</th>\n",
       "      <th>HT_trendline</th>\n",
       "      <th>ADX</th>\n",
       "    </tr>\n",
       "  </thead>\n",
       "  <tbody>\n",
       "    <tr>\n",
       "      <th>2199</th>\n",
       "      <td>2022-06-10 20:30:00</td>\n",
       "      <td>1.051840</td>\n",
       "      <td>1.05188</td>\n",
       "      <td>1.051505</td>\n",
       "      <td>1.051555</td>\n",
       "      <td>194</td>\n",
       "      <td>88</td>\n",
       "      <td>0.000375</td>\n",
       "      <td>up</td>\n",
       "      <td>4</td>\n",
       "      <td>20</td>\n",
       "      <td>30</td>\n",
       "      <td>1.052196</td>\n",
       "      <td>1.051948</td>\n",
       "      <td>1.052586</td>\n",
       "      <td>1.052062</td>\n",
       "      <td>1.051537</td>\n",
       "      <td>1.052080</td>\n",
       "      <td>10.265179</td>\n",
       "    </tr>\n",
       "    <tr>\n",
       "      <th>2200</th>\n",
       "      <td>2022-06-10 20:35:00</td>\n",
       "      <td>1.051585</td>\n",
       "      <td>1.05169</td>\n",
       "      <td>1.051545</td>\n",
       "      <td>1.051650</td>\n",
       "      <td>334</td>\n",
       "      <td>118</td>\n",
       "      <td>0.000145</td>\n",
       "      <td>up</td>\n",
       "      <td>4</td>\n",
       "      <td>20</td>\n",
       "      <td>35</td>\n",
       "      <td>1.052175</td>\n",
       "      <td>1.051919</td>\n",
       "      <td>1.052582</td>\n",
       "      <td>1.052033</td>\n",
       "      <td>1.051485</td>\n",
       "      <td>1.052058</td>\n",
       "      <td>9.998287</td>\n",
       "    </tr>\n",
       "    <tr>\n",
       "      <th>2201</th>\n",
       "      <td>2022-06-10 20:40:00</td>\n",
       "      <td>1.051645</td>\n",
       "      <td>1.05176</td>\n",
       "      <td>1.051645</td>\n",
       "      <td>1.051760</td>\n",
       "      <td>122</td>\n",
       "      <td>52</td>\n",
       "      <td>0.000115</td>\n",
       "      <td>up</td>\n",
       "      <td>4</td>\n",
       "      <td>20</td>\n",
       "      <td>40</td>\n",
       "      <td>1.052158</td>\n",
       "      <td>1.051904</td>\n",
       "      <td>1.052582</td>\n",
       "      <td>1.052021</td>\n",
       "      <td>1.051460</td>\n",
       "      <td>1.052039</td>\n",
       "      <td>9.863966</td>\n",
       "    </tr>\n",
       "    <tr>\n",
       "      <th>2202</th>\n",
       "      <td>2022-06-10 20:45:00</td>\n",
       "      <td>1.051765</td>\n",
       "      <td>1.05204</td>\n",
       "      <td>1.051760</td>\n",
       "      <td>1.051990</td>\n",
       "      <td>203</td>\n",
       "      <td>104</td>\n",
       "      <td>0.000280</td>\n",
       "      <td>up</td>\n",
       "      <td>4</td>\n",
       "      <td>20</td>\n",
       "      <td>45</td>\n",
       "      <td>1.052152</td>\n",
       "      <td>1.051912</td>\n",
       "      <td>1.052581</td>\n",
       "      <td>1.052020</td>\n",
       "      <td>1.051459</td>\n",
       "      <td>1.052020</td>\n",
       "      <td>10.179027</td>\n",
       "    </tr>\n",
       "    <tr>\n",
       "      <th>2203</th>\n",
       "      <td>2022-06-10 20:50:00</td>\n",
       "      <td>1.052000</td>\n",
       "      <td>1.05225</td>\n",
       "      <td>1.051960</td>\n",
       "      <td>1.052145</td>\n",
       "      <td>264</td>\n",
       "      <td>135</td>\n",
       "      <td>0.000290</td>\n",
       "      <td>down</td>\n",
       "      <td>4</td>\n",
       "      <td>20</td>\n",
       "      <td>50</td>\n",
       "      <td>1.052151</td>\n",
       "      <td>1.051934</td>\n",
       "      <td>1.052555</td>\n",
       "      <td>1.052010</td>\n",
       "      <td>1.051465</td>\n",
       "      <td>1.052006</td>\n",
       "      <td>10.772263</td>\n",
       "    </tr>\n",
       "  </tbody>\n",
       "</table>\n",
       "</div>"
      ],
      "text/plain": [
       "           DateTime_frmt      open     high       low     close  Volume  \\\n",
       "2199 2022-06-10 20:30:00  1.051840  1.05188  1.051505  1.051555     194   \n",
       "2200 2022-06-10 20:35:00  1.051585  1.05169  1.051545  1.051650     334   \n",
       "2201 2022-06-10 20:40:00  1.051645  1.05176  1.051645  1.051760     122   \n",
       "2202 2022-06-10 20:45:00  1.051765  1.05204  1.051760  1.051990     203   \n",
       "2203 2022-06-10 20:50:00  1.052000  1.05225  1.051960  1.052145     264   \n",
       "\n",
       "      num_ticks  candle_size   dir  weekday  hour  min      lema      sema  \\\n",
       "2199         88     0.000375    up        4    20   30  1.052196  1.051948   \n",
       "2200        118     0.000145    up        4    20   35  1.052175  1.051919   \n",
       "2201         52     0.000115    up        4    20   40  1.052158  1.051904   \n",
       "2202        104     0.000280    up        4    20   45  1.052152  1.051912   \n",
       "2203        135     0.000290  down        4    20   50  1.052151  1.051934   \n",
       "\n",
       "      BBand_upper  BBand_middle  BBand_lower  HT_trendline        ADX  \n",
       "2199     1.052586      1.052062     1.051537      1.052080  10.265179  \n",
       "2200     1.052582      1.052033     1.051485      1.052058   9.998287  \n",
       "2201     1.052582      1.052021     1.051460      1.052039   9.863966  \n",
       "2202     1.052581      1.052020     1.051459      1.052020  10.179027  \n",
       "2203     1.052555      1.052010     1.051465      1.052006  10.772263  "
      ]
     },
     "execution_count": 3,
     "metadata": {},
     "output_type": "execute_result"
    }
   ],
   "source": [
    "data['df_ohlc'].tail()"
   ]
  },
  {
   "cell_type": "code",
   "execution_count": 4,
   "metadata": {},
   "outputs": [
    {
     "ename": "SystemExit",
     "evalue": "",
     "output_type": "error",
     "traceback": [
      "An exception has occurred, use %tb to see the full traceback.\n",
      "\u001b[1;31mSystemExit\u001b[0m\n"
     ]
    }
   ],
   "source": [
    "sys.exit()"
   ]
  },
  {
   "cell_type": "code",
   "execution_count": null,
   "metadata": {
    "scrolled": true
   },
   "outputs": [],
   "source": [
    "data[\"plot\"] = False\n",
    "data['plot_type'] = 'file'\n",
    "data['reduce_plot'] = True\n",
    "data['plot_start']  = '2022-07-11'\n",
    "data['plot_stop']   = '2022-07-12'\n",
    "# data['things_to_plot'] = ['tick', 'ema', 'BBands', 'dots']\n",
    "data['things_to_plot'] = ['ema', 'BBands', 'dots']\n",
    "plot_graph(data)"
   ]
  },
  {
   "cell_type": "markdown",
   "metadata": {
    "scrolled": true
   },
   "source": [
    "generate_result_report(data)"
   ]
  }
 ],
 "metadata": {
  "kernelspec": {
   "display_name": "Python 3",
   "language": "python",
   "name": "python3"
  },
  "language_info": {
   "codemirror_mode": {
    "name": "ipython",
    "version": 3
   },
   "file_extension": ".py",
   "mimetype": "text/x-python",
   "name": "python",
   "nbconvert_exporter": "python",
   "pygments_lexer": "ipython3",
   "version": "3.6.6"
  }
 },
 "nbformat": 4,
 "nbformat_minor": 4
}
