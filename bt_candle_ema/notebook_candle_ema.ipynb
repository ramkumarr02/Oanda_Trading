{
 "cells": [
  {
   "cell_type": "markdown",
   "metadata": {},
   "source": [
    "# ML Trader"
   ]
  },
  {
   "cell_type": "code",
   "execution_count": 1,
   "metadata": {
    "scrolled": true
   },
   "outputs": [],
   "source": [
    "from utils.packages import *\n",
    "from utils.variables import *\n",
    "from utils.i_o import *\n",
    "from utils.dir_slope import *\n",
    "from utils.engine import *\n",
    "from utils.loops import *\n",
    "from utils.order import *\n",
    "import winsound"
   ]
  },
  {
   "cell_type": "markdown",
   "metadata": {},
   "source": [
    "### Action Points\n",
    "\n",
    "1. Create Choice between Take profit and sema move close.\n",
    "    - If Sema is above slema for long position, then can we cancel take profit step\n",
    "    - can we use sema angle to decide whether to close profit or not\n",
    "    - Fix Merge issue"
   ]
  },
  {
   "cell_type": "code",
   "execution_count": 2,
   "metadata": {},
   "outputs": [
    {
     "name": "stdout",
     "output_type": "stream",
     "text": [
      "Date List Created\n",
      "Record num : 227182\n",
      "Building slema...\n",
      "Building Sema...\n",
      "EMA Rolling completed\n",
      "Wall time: 15.5 s\n"
     ]
    }
   ],
   "source": [
    "%%time\n",
    "data = run_engine(data)"
   ]
  },
  {
   "cell_type": "code",
   "execution_count": 3,
   "metadata": {},
   "outputs": [
    {
     "data": {
      "text/html": [
       "<div>\n",
       "<style scoped>\n",
       "    .dataframe tbody tr th:only-of-type {\n",
       "        vertical-align: middle;\n",
       "    }\n",
       "\n",
       "    .dataframe tbody tr th {\n",
       "        vertical-align: top;\n",
       "    }\n",
       "\n",
       "    .dataframe thead th {\n",
       "        text-align: right;\n",
       "    }\n",
       "</style>\n",
       "<table border=\"1\" class=\"dataframe\">\n",
       "  <thead>\n",
       "    <tr style=\"text-align: right;\">\n",
       "      <th></th>\n",
       "      <th>DateTime_frmt</th>\n",
       "      <th>open</th>\n",
       "      <th>high</th>\n",
       "      <th>low</th>\n",
       "      <th>close</th>\n",
       "      <th>Volume</th>\n",
       "    </tr>\n",
       "  </thead>\n",
       "  <tbody>\n",
       "    <tr>\n",
       "      <th>0</th>\n",
       "      <td>2022-06-01 04:20:00</td>\n",
       "      <td>1.071240</td>\n",
       "      <td>1.071460</td>\n",
       "      <td>1.071190</td>\n",
       "      <td>1.071215</td>\n",
       "      <td>314</td>\n",
       "    </tr>\n",
       "    <tr>\n",
       "      <th>1</th>\n",
       "      <td>2022-06-01 04:25:00</td>\n",
       "      <td>1.071175</td>\n",
       "      <td>1.071265</td>\n",
       "      <td>1.071060</td>\n",
       "      <td>1.071255</td>\n",
       "      <td>534</td>\n",
       "    </tr>\n",
       "    <tr>\n",
       "      <th>2</th>\n",
       "      <td>2022-06-01 04:30:00</td>\n",
       "      <td>1.071245</td>\n",
       "      <td>1.071320</td>\n",
       "      <td>1.070835</td>\n",
       "      <td>1.070850</td>\n",
       "      <td>414</td>\n",
       "    </tr>\n",
       "    <tr>\n",
       "      <th>3</th>\n",
       "      <td>2022-06-01 04:35:00</td>\n",
       "      <td>1.070855</td>\n",
       "      <td>1.071110</td>\n",
       "      <td>1.070730</td>\n",
       "      <td>1.071010</td>\n",
       "      <td>374</td>\n",
       "    </tr>\n",
       "    <tr>\n",
       "      <th>4</th>\n",
       "      <td>2022-06-01 04:40:00</td>\n",
       "      <td>1.071015</td>\n",
       "      <td>1.071135</td>\n",
       "      <td>1.070910</td>\n",
       "      <td>1.070960</td>\n",
       "      <td>247</td>\n",
       "    </tr>\n",
       "    <tr>\n",
       "      <th>...</th>\n",
       "      <td>...</td>\n",
       "      <td>...</td>\n",
       "      <td>...</td>\n",
       "      <td>...</td>\n",
       "      <td>...</td>\n",
       "      <td>...</td>\n",
       "    </tr>\n",
       "    <tr>\n",
       "      <th>1383</th>\n",
       "      <td>2022-06-05 23:35:00</td>\n",
       "      <td>1.072585</td>\n",
       "      <td>1.072605</td>\n",
       "      <td>1.072470</td>\n",
       "      <td>1.072540</td>\n",
       "      <td>388</td>\n",
       "    </tr>\n",
       "    <tr>\n",
       "      <th>1384</th>\n",
       "      <td>2022-06-05 23:40:00</td>\n",
       "      <td>1.072535</td>\n",
       "      <td>1.072745</td>\n",
       "      <td>1.072520</td>\n",
       "      <td>1.072735</td>\n",
       "      <td>343</td>\n",
       "    </tr>\n",
       "    <tr>\n",
       "      <th>1385</th>\n",
       "      <td>2022-06-05 23:45:00</td>\n",
       "      <td>1.072680</td>\n",
       "      <td>1.072995</td>\n",
       "      <td>1.072670</td>\n",
       "      <td>1.072920</td>\n",
       "      <td>425</td>\n",
       "    </tr>\n",
       "    <tr>\n",
       "      <th>1386</th>\n",
       "      <td>2022-06-05 23:50:00</td>\n",
       "      <td>1.072905</td>\n",
       "      <td>1.072960</td>\n",
       "      <td>1.072525</td>\n",
       "      <td>1.072565</td>\n",
       "      <td>328</td>\n",
       "    </tr>\n",
       "    <tr>\n",
       "      <th>1387</th>\n",
       "      <td>2022-06-05 23:55:00</td>\n",
       "      <td>1.072570</td>\n",
       "      <td>1.072705</td>\n",
       "      <td>1.072485</td>\n",
       "      <td>1.072545</td>\n",
       "      <td>358</td>\n",
       "    </tr>\n",
       "  </tbody>\n",
       "</table>\n",
       "<p>1388 rows × 6 columns</p>\n",
       "</div>"
      ],
      "text/plain": [
       "           DateTime_frmt      open      high       low     close  Volume\n",
       "0    2022-06-01 04:20:00  1.071240  1.071460  1.071190  1.071215     314\n",
       "1    2022-06-01 04:25:00  1.071175  1.071265  1.071060  1.071255     534\n",
       "2    2022-06-01 04:30:00  1.071245  1.071320  1.070835  1.070850     414\n",
       "3    2022-06-01 04:35:00  1.070855  1.071110  1.070730  1.071010     374\n",
       "4    2022-06-01 04:40:00  1.071015  1.071135  1.070910  1.070960     247\n",
       "...                  ...       ...       ...       ...       ...     ...\n",
       "1383 2022-06-05 23:35:00  1.072585  1.072605  1.072470  1.072540     388\n",
       "1384 2022-06-05 23:40:00  1.072535  1.072745  1.072520  1.072735     343\n",
       "1385 2022-06-05 23:45:00  1.072680  1.072995  1.072670  1.072920     425\n",
       "1386 2022-06-05 23:50:00  1.072905  1.072960  1.072525  1.072565     328\n",
       "1387 2022-06-05 23:55:00  1.072570  1.072705  1.072485  1.072545     358\n",
       "\n",
       "[1388 rows x 6 columns]"
      ]
     },
     "execution_count": 3,
     "metadata": {},
     "output_type": "execute_result"
    }
   ],
   "source": [
    "data['df_ohlc']"
   ]
  },
  {
   "cell_type": "code",
   "execution_count": 4,
   "metadata": {},
   "outputs": [
    {
     "ename": "SystemExit",
     "evalue": "",
     "output_type": "error",
     "traceback": [
      "An exception has occurred, use %tb to see the full traceback.\n",
      "\u001b[1;31mSystemExit\u001b[0m\n"
     ]
    }
   ],
   "source": [
    "sys.exit()"
   ]
  },
  {
   "cell_type": "code",
   "execution_count": 6,
   "metadata": {},
   "outputs": [
    {
     "ename": "ImportError",
     "evalue": "cannot import name 'add_all_ta_features'",
     "output_type": "error",
     "traceback": [
      "\u001b[1;31m---------------------------------------------------------------------------\u001b[0m",
      "\u001b[1;31mImportError\u001b[0m                               Traceback (most recent call last)",
      "\u001b[1;32m<ipython-input-6-a5483a89415b>\u001b[0m in \u001b[0;36m<module>\u001b[1;34m\u001b[0m\n\u001b[1;32m----> 1\u001b[1;33m \u001b[1;32mfrom\u001b[0m \u001b[0mtalib\u001b[0m \u001b[1;32mimport\u001b[0m \u001b[0madd_all_ta_features\u001b[0m\u001b[1;33m\u001b[0m\u001b[0m\n\u001b[0m",
      "\u001b[1;31mImportError\u001b[0m: cannot import name 'add_all_ta_features'"
     ]
    }
   ],
   "source": [
    "from talib import add_all_ta_features"
   ]
  },
  {
   "cell_type": "code",
   "execution_count": 5,
   "metadata": {},
   "outputs": [
    {
     "ename": "AttributeError",
     "evalue": "module 'talib' has no attribute 'add_all_ta_features'",
     "output_type": "error",
     "traceback": [
      "\u001b[1;31m---------------------------------------------------------------------------\u001b[0m",
      "\u001b[1;31mAttributeError\u001b[0m                            Traceback (most recent call last)",
      "\u001b[1;32m<ipython-input-5-203200be85cc>\u001b[0m in \u001b[0;36m<module>\u001b[1;34m\u001b[0m\n\u001b[1;32m----> 1\u001b[1;33m data['df_ohlc']['cdl_hammer'] = talib.add_all_ta_features(data['df_ohlc'], \n\u001b[0m\u001b[0;32m      2\u001b[0m                                                           \u001b[0mdata\u001b[0m\u001b[1;33m[\u001b[0m\u001b[1;34m'df_ohlc'\u001b[0m\u001b[1;33m]\u001b[0m\u001b[1;33m[\u001b[0m\u001b[1;34m'open'\u001b[0m\u001b[1;33m]\u001b[0m\u001b[1;33m,\u001b[0m\u001b[1;33m\u001b[0m\u001b[0m\n\u001b[0;32m      3\u001b[0m                                                           \u001b[0mdata\u001b[0m\u001b[1;33m[\u001b[0m\u001b[1;34m'df_ohlc'\u001b[0m\u001b[1;33m]\u001b[0m\u001b[1;33m[\u001b[0m\u001b[1;34m'high'\u001b[0m\u001b[1;33m]\u001b[0m\u001b[1;33m,\u001b[0m\u001b[1;33m\u001b[0m\u001b[0m\n\u001b[0;32m      4\u001b[0m                                                           \u001b[0mdata\u001b[0m\u001b[1;33m[\u001b[0m\u001b[1;34m'df_ohlc'\u001b[0m\u001b[1;33m]\u001b[0m\u001b[1;33m[\u001b[0m\u001b[1;34m'low'\u001b[0m\u001b[1;33m]\u001b[0m\u001b[1;33m,\u001b[0m\u001b[1;33m\u001b[0m\u001b[0m\n\u001b[0;32m      5\u001b[0m                                                           \u001b[0mdata\u001b[0m\u001b[1;33m[\u001b[0m\u001b[1;34m'df_ohlc'\u001b[0m\u001b[1;33m]\u001b[0m\u001b[1;33m[\u001b[0m\u001b[1;34m'close'\u001b[0m\u001b[1;33m]\u001b[0m\u001b[1;33m,\u001b[0m\u001b[1;33m\u001b[0m\u001b[0m\n",
      "\u001b[1;31mAttributeError\u001b[0m: module 'talib' has no attribute 'add_all_ta_features'"
     ]
    }
   ],
   "source": [
    "data['df_ohlc']['cdl_hammer'] = talib.add_all_ta_features(data['df_ohlc'], \n",
    "                                                          data['df_ohlc']['open'], \n",
    "                                                          data['df_ohlc']['high'], \n",
    "                                                          data['df_ohlc']['low'], \n",
    "                                                          data['df_ohlc']['close'],\n",
    "                                                          volume=data['df_ohlc'][\"Volume\"], \n",
    "                                                          fillna=True)"
   ]
  },
  {
   "cell_type": "code",
   "execution_count": null,
   "metadata": {},
   "outputs": [],
   "source": [
    "data['df_ohlc']"
   ]
  },
  {
   "cell_type": "code",
   "execution_count": null,
   "metadata": {
    "scrolled": true
   },
   "outputs": [],
   "source": [
    "generate_result_report(data)"
   ]
  },
  {
   "cell_type": "code",
   "execution_count": null,
   "metadata": {},
   "outputs": [],
   "source": [
    "plot_graph(data)"
   ]
  }
 ],
 "metadata": {
  "kernelspec": {
   "display_name": "Python 3",
   "language": "python",
   "name": "python3"
  },
  "language_info": {
   "codemirror_mode": {
    "name": "ipython",
    "version": 3
   },
   "file_extension": ".py",
   "mimetype": "text/x-python",
   "name": "python",
   "nbconvert_exporter": "python",
   "pygments_lexer": "ipython3",
   "version": "3.6.6"
  }
 },
 "nbformat": 4,
 "nbformat_minor": 4
}
